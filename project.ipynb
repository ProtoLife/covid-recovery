{
 "cells": [
  {
   "cell_type": "markdown",
   "metadata": {},
   "source": [
    "#  Covid recovery modeling\n",
    "\n",
    "This repository attempts to collect the relevant data for modeling the effect of policies implemented.  We take the view that implementation of a policy is an experiment, and the experimental response may be measured after the policy implementation.  The measured experimental response, $R$, could be rate of new covid cases, rate of covid-related hospitalization, or covid death rate (all of these will require some delay). Alternatively, one may be more interested in the cumulative difference between two \n",
    "\n",
    "We seek to model the response as a function of policy.  But of course the response will be dependent on other variables besides policy,\n",
    "\n",
    "$$\n",
    "\\textrm{Response to covid-19} = R(\\mathbf{s},\\mathbf{c},\\mathbf{p})\n",
    "$$\n",
    "where \n",
    "\n",
    "$\\mathbf{s}$ is a vector of state variables like current infection level in the population, but also may include things like the previously active policy,\n",
    "\n",
    "$\\mathbf{c}$ is a vector of variables that are constant for a geographical region, but that vary cross-sectionally across regions,\n",
    "\n",
    "$\\mathbf{p}$ is a vector of variables that define the policy.\n",
    "\n",
    "Ultimately, we will want to use the Daptic software to predict the policies with optimal effect (e.g. minimizing deaths and collateral costs, both economic and social). The main complication is that both the infection response and the collateral costs are nonlinear temporal responses, so that the combination of measures and their temporal distribution is critical. \n",
    "\n",
    "\n",
    "\n",
    "# Current status\n",
    "\n",
    "## data\n",
    "\n",
    "Check data in submodules `covid-19-data` (OWID) and `covid-policy-tracker` (OxCGRT).  There is also some in the `data` folder.  Check [README.md](https://github.com/ProtoLife/covid-recovery/blob/master/README.md) for updating these data repos.\n",
    "\n",
    "## Notebooks\n",
    "\n",
    "Check in the Notebooks directory.  There is one there so far, just starting to look at the data.\n"
   ]
  },
  {
   "cell_type": "code",
   "execution_count": null,
   "metadata": {},
   "outputs": [],
   "source": []
  }
 ],
 "metadata": {
  "kernelspec": {
   "display_name": "Python 3",
   "language": "python",
   "name": "python3"
  },
  "language_info": {
   "codemirror_mode": {
    "name": "ipython",
    "version": 3
   },
   "file_extension": ".py",
   "mimetype": "text/x-python",
   "name": "python",
   "nbconvert_exporter": "python",
   "pygments_lexer": "ipython3",
   "version": "3.7.4"
  },
  "toc": {
   "base_numbering": 1,
   "nav_menu": {},
   "number_sections": true,
   "sideBar": true,
   "skip_h1_title": false,
   "title_cell": "Table of Contents",
   "title_sidebar": "Contents",
   "toc_cell": false,
   "toc_position": {},
   "toc_section_display": true,
   "toc_window_display": false
  }
 },
 "nbformat": 4,
 "nbformat_minor": 2
}
