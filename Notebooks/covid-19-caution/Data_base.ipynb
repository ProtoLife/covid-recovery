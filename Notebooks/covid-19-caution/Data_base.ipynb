{
 "cells": [
  {
   "cell_type": "code",
   "execution_count": 1,
   "metadata": {},
   "outputs": [
    {
     "data": {
      "text/html": [
       "<style>.container { width:100% !important; }</style>"
      ],
      "text/plain": [
       "<IPython.core.display.HTML object>"
      ]
     },
     "metadata": {},
     "output_type": "display_data"
    }
   ],
   "source": [
    "%matplotlib notebook\n",
    "import matplotlib\n",
    "import seaborn as sb\n",
    "from matplotlib import pyplot as plt\n",
    "import numpy as np\n",
    "import pandas as pd\n",
    "\n",
    "# Jupyter Specifics\n",
    "%matplotlib inline\n",
    "from IPython.display import display, HTML\n",
    "from ipywidgets.widgets import interact, interactive, IntSlider, FloatSlider, Layout, ToggleButton, ToggleButtons, fixed\n",
    "display(HTML(\"<style>.container { width:100% !important; }</style>\"))\n",
    "style = {'description_width': '100px'}\n",
    "slider_layout = Layout(width='99%')\n",
    "\n",
    "from time import time\n",
    "import pickle as pk"
   ]
  },
  {
   "cell_type": "markdown",
   "metadata": {},
   "source": [
    "# Base data setup from databases"
   ]
  },
  {
   "cell_type": "code",
   "execution_count": 2,
   "metadata": {},
   "outputs": [
    {
     "name": "stdout",
     "output_type": "stream",
     "text": [
      "Getting data:\n",
      "getting JHU data...\n",
      "jhu data selected from 1/22/20 to 12/5/20\n",
      "getting owid data...\n",
      "countries without population data excluded: ['International', 'Hong Kong', '']\n",
      "owid data selected from 1/23/20 to 12/6/20\n",
      "expanding OWID data : to new (daily), 7-day rolling (smoothed), reporting glitch (corrected) and combined\n"
     ]
    },
    {
     "data": {
      "application/vnd.jupyter.widget-view+json": {
       "model_id": "719f14e434744293ae53529d0a97c7a9",
       "version_major": 2,
       "version_minor": 0
      },
      "text/plain": [
       "HBox(children=(FloatProgress(value=0.0, description='report correction deaths', max=198.0, style=ProgressStyle…"
      ]
     },
     "metadata": {},
     "output_type": "display_data"
    },
    {
     "name": "stdout",
     "output_type": "stream",
     "text": [
      "\n"
     ]
    },
    {
     "data": {
      "application/vnd.jupyter.widget-view+json": {
       "model_id": "93b207ce72c9492988cdbd163fe1daef",
       "version_major": 2,
       "version_minor": 0
      },
      "text/plain": [
       "HBox(children=(FloatProgress(value=0.0, description='report correction confirmed', max=198.0, style=ProgressSt…"
      ]
     },
     "metadata": {},
     "output_type": "display_data"
    },
    {
     "name": "stdout",
     "output_type": "stream",
     "text": [
      "\n",
      "number of countries listed in OWID database 197\n",
      "done with OWID data (covid_owid_ts dictionary see .keys()) .\n",
      "getting ICU and acute care data icus_2012 and WHO ...\n",
      "WHO acute file found dictionary acute_who\n",
      "ICU file found dictionary icus_2012\n",
      "mapping country names between JHU and OWID and extracting common countries...\n",
      "getting 2017 contact matrix data from 152 countries ...\n",
      "152 country contact files found 1 A-M and 2 M-Z\n",
      "Of 198 in countries_common 146 have contact matrices\n",
      "4 country contact matrices set equal to that of neighbour to complete cluster country set\n",
      "                   Afghanistan:Pakistan Kosovo:Serbia Moldova:Romania Norway:Sweden\n",
      "getting UN all sex age group data for 2020 ...\n",
      "UN contact files found 1 and 2\n",
      "Of 198 in countries_common 182 have age structure\n",
      "Kosovo age structure digitized from CIA World Fact Book Image 2018 to complete cluster country set in trimmed excel file\n",
      "extracting data sets for common countries both databases...\n",
      "expanding JHU data : to new (daily), 7-day rolling (smoothed), reporting glitch (corrected) and combined\n"
     ]
    },
    {
     "data": {
      "application/vnd.jupyter.widget-view+json": {
       "model_id": "337e1595b2bb46acac3e5bb4be9ca0d7",
       "version_major": 2,
       "version_minor": 0
      },
      "text/plain": [
       "HBox(children=(FloatProgress(value=0.0, description='report correction deaths', max=198.0, style=ProgressStyle…"
      ]
     },
     "metadata": {},
     "output_type": "display_data"
    },
    {
     "name": "stdout",
     "output_type": "stream",
     "text": [
      "\n"
     ]
    },
    {
     "data": {
      "application/vnd.jupyter.widget-view+json": {
       "model_id": "728235889bc04a1eb7c50cb1335e3012",
       "version_major": 2,
       "version_minor": 0
      },
      "text/plain": [
       "HBox(children=(FloatProgress(value=0.0, description='report correction confirmed', max=198.0, style=ProgressSt…"
      ]
     },
     "metadata": {},
     "output_type": "display_data"
    },
    {
     "name": "stdout",
     "output_type": "stream",
     "text": [
      "\n",
      "number of countries listed in JHU database 192\n",
      "done with JHU data (covid_ts dictionary keys: confirmed, deaths, recovered).\n",
      "extracting testing data from OWID database\n",
      "doing piecewise linear fits to testing data ... reg_testing\n"
     ]
    },
    {
     "data": {
      "application/vnd.jupyter.widget-view+json": {
       "model_id": "a29a80c8f27442ebb4482b3c911024e3",
       "version_major": 2,
       "version_minor": 0
      },
      "text/plain": [
       "HBox(children=(FloatProgress(value=0.0, description='piecewise linear fit', max=198.0, style=ProgressStyle(des…"
      ]
     },
     "metadata": {},
     "output_type": "display_data"
    },
    {
     "name": "stdout",
     "output_type": "stream",
     "text": [
      "\n",
      "completed regularization of testing by pwlf and linear adjustment to confirmed cases (linr).\n",
      "constructing nonlinear adjustment to confirmed cases based on pwlf testing (nonlin and nonlinr ...\n",
      "completed nonlinear adjustment to confirmed cases.\n",
      "Done with data.\n",
      "---------------------------------\n"
     ]
    }
   ],
   "source": [
    "# new module data_config imported by data.py as well as Cluster.py\n",
    "import data_config\n",
    "data_config.report_correct = True\n",
    "from data import *"
   ]
  },
  {
   "cell_type": "code",
   "execution_count": 3,
   "metadata": {},
   "outputs": [
    {
     "data": {
      "text/plain": [
       "['Africa',\n",
       " 'North America',\n",
       " 'Europe',\n",
       " 'Asia',\n",
       " 'Middle_East',\n",
       " 'Oceania',\n",
       " 'South America',\n",
       " 'Middle_East']"
      ]
     },
     "execution_count": 3,
     "metadata": {},
     "output_type": "execute_result"
    }
   ],
   "source": [
    "continents"
   ]
  },
  {
   "cell_type": "code",
   "execution_count": 4,
   "metadata": {},
   "outputs": [
    {
     "name": "stdout",
     "output_type": "stream",
     "text": [
      "Afghanistan Asia\n",
      "Albania Europe\n",
      "Algeria Africa\n",
      "Andorra Europe\n",
      "Angola Africa\n",
      "Antigua and Barbuda North America\n",
      "Argentina South America\n",
      "Armenia Asia\n",
      "Australia Oceania\n",
      "Austria Europe\n",
      "Azerbaijan Asia\n",
      "Bahamas North America\n",
      "Bahrain Middle_East\n",
      "Bangladesh Asia\n",
      "Barbados North America\n",
      "Belarus Europe\n",
      "Belgium Europe\n",
      "Belize North America\n",
      "Benin Africa\n",
      "Bhutan Asia\n",
      "Bolivia South America\n",
      "Bosnia and Herzegovina Europe\n",
      "Botswana Africa\n",
      "Brazil South America\n",
      "Brunei Asia\n",
      "Bulgaria Europe\n",
      "Burkina Faso Africa\n",
      "Burundi Africa\n",
      "Cambodia Asia\n",
      "Cameroon Africa\n",
      "Canada North America\n",
      "Cape Verde Africa\n",
      "Central African Republic Africa\n",
      "Chad Africa\n",
      "Chile South America\n",
      "China Asia\n",
      "Colombia South America\n",
      "Comoros Africa\n",
      "Congo Africa\n",
      "Costa Rica North America\n",
      "Cote d'Ivoire Africa\n",
      "Croatia Europe\n",
      "Cuba North America\n",
      "Cyprus Europe\n",
      "Czechia Europe\n",
      "Democratic Republic of Congo Africa\n",
      "Denmark Europe\n",
      "Djibouti Africa\n",
      "Dominica North America\n",
      "Dominican Republic North America\n",
      "Ecuador South America\n",
      "Egypt Middle_East\n",
      "El Salvador North America\n",
      "Equatorial Guinea Africa\n",
      "Eritrea Africa\n",
      "Estonia Europe\n",
      "Eswatini Africa\n",
      "Ethiopia Africa\n",
      "Fiji Oceania\n",
      "Finland Europe\n",
      "France Europe\n",
      "Gabon Africa\n",
      "Gambia Africa\n",
      "Georgia Asia\n",
      "Germany Europe\n",
      "Ghana Africa\n",
      "Greece Europe\n",
      "Grenada North America\n",
      "Guatemala North America\n",
      "Guinea Africa\n",
      "Guinea-Bissau Africa\n",
      "Guyana South America\n",
      "Haiti North America\n",
      "Honduras North America\n",
      "Hungary Europe\n",
      "Iceland Europe\n",
      "India Asia\n",
      "Indonesia Asia\n",
      "Iran Middle_East\n",
      "Iraq Middle_East\n",
      "Ireland Europe\n",
      "Israel Middle_East\n",
      "Italy Europe\n",
      "Jamaica North America\n",
      "Japan Asia\n",
      "Jordan Middle_East\n",
      "Kazakhstan Asia\n",
      "Kenya Africa\n",
      "Kosovo Europe\n",
      "Kuwait Middle_East\n",
      "Kyrgyzstan Asia\n",
      "Laos Asia\n",
      "Latvia Europe\n",
      "Lebanon Middle_East\n",
      "Lesotho Africa\n",
      "Liberia Africa\n",
      "Libya Middle_East\n",
      "Liechtenstein Europe\n",
      "Lithuania Europe\n",
      "Luxembourg Europe\n",
      "Madagascar Africa\n",
      "Malawi Africa\n",
      "Malaysia Asia\n",
      "Maldives Asia\n",
      "Mali Africa\n",
      "Malta Europe\n",
      "Marshall Islands Oceania\n",
      "Mauritania Africa\n",
      "Mauritius Africa\n",
      "Mexico North America\n",
      "Moldova Europe\n",
      "Monaco Europe\n",
      "Mongolia Asia\n",
      "Montenegro Europe\n",
      "Morocco Africa\n",
      "Mozambique Africa\n",
      "Myanmar Asia\n",
      "Namibia Africa\n",
      "Nepal Asia\n",
      "Netherlands Europe\n",
      "New Zealand Oceania\n",
      "Nicaragua North America\n",
      "Niger Africa\n",
      "Nigeria Africa\n",
      "North Macedonia Europe\n",
      "Norway Europe\n",
      "Oman Middle_East\n",
      "Pakistan Asia\n",
      "Palestine Middle_East\n",
      "Panama North America\n",
      "Papua New Guinea Oceania\n",
      "Paraguay South America\n",
      "Peru South America\n",
      "Philippines Asia\n",
      "Poland Europe\n",
      "Portugal Europe\n",
      "Qatar Middle_East\n",
      "Romania Europe\n",
      "Russia Europe\n",
      "Rwanda Africa\n",
      "Saint Kitts and Nevis North America\n",
      "Saint Lucia North America\n",
      "Saint Vincent and the Grenadines North America\n",
      "Samoa Oceania\n",
      "San Marino Europe\n",
      "Sao Tome and Principe Africa\n",
      "Saudi Arabia Middle_East\n",
      "Senegal Africa\n",
      "Serbia Europe\n",
      "Seychelles Africa\n",
      "Sierra Leone Africa\n",
      "Singapore Asia\n",
      "Slovakia Europe\n",
      "Slovenia Europe\n",
      "Solomon Islands Oceania\n",
      "Somalia Africa\n",
      "South Africa Africa\n",
      "South Korea Asia\n",
      "South Sudan Africa\n",
      "Spain Europe\n",
      "Sri Lanka Asia\n",
      "Sudan Africa\n",
      "Suriname South America\n",
      "Sweden Europe\n",
      "Switzerland Europe\n",
      "Syria Middle_East\n",
      "Taiwan Asia\n",
      "Tajikistan Asia\n",
      "Tanzania Africa\n",
      "Thailand Asia\n",
      "Timor Asia\n",
      "Togo Africa\n",
      "Trinidad and Tobago North America\n",
      "Tunisia Africa\n",
      "Turkey Middle_East\n",
      "Uganda Africa\n",
      "Ukraine Europe\n",
      "United Arab Emirates Middle_East\n",
      "United Kingdom Europe\n",
      "United States North America\n",
      "Uruguay South America\n",
      "Uzbekistan Asia\n",
      "Vanuatu Oceania\n",
      "Vatican Europe\n",
      "Venezuela South America\n",
      "Vietnam Asia\n",
      "World Planet\n",
      "Yemen Middle_East\n",
      "Zambia Africa\n",
      "Zimbabwe Africa\n",
      "Africa World\n",
      "North America World\n",
      "Europe World\n",
      "Asia World\n",
      "Middle_East World\n",
      "Oceania World\n",
      "South America World\n"
     ]
    },
    {
     "data": {
      "text/plain": [
       "{'Africa',\n",
       " 'Asia',\n",
       " 'Europe',\n",
       " 'Middle_East',\n",
       " 'North America',\n",
       " 'Oceania',\n",
       " 'Planet',\n",
       " 'South America',\n",
       " 'World'}"
      ]
     },
     "execution_count": 4,
     "metadata": {},
     "output_type": "execute_result"
    }
   ],
   "source": [
    "# continents + Middle_East\n",
    "for cc in countries_owid:\n",
    "    print(cc,continent[cc])\n",
    "set([continent[cc] for cc in countries_owid])"
   ]
  },
  {
   "cell_type": "code",
   "execution_count": 5,
   "metadata": {},
   "outputs": [
    {
     "data": {
      "text/plain": [
       "{'Asia': ['Afghanistan',\n",
       "  'Armenia',\n",
       "  'Azerbaijan',\n",
       "  'Bangladesh',\n",
       "  'Bhutan',\n",
       "  'Brunei',\n",
       "  'Cambodia',\n",
       "  'China',\n",
       "  'Georgia',\n",
       "  'India',\n",
       "  'Indonesia',\n",
       "  'Japan',\n",
       "  'Kazakhstan',\n",
       "  'Kyrgyzstan',\n",
       "  'Laos',\n",
       "  'Malaysia',\n",
       "  'Maldives',\n",
       "  'Mongolia',\n",
       "  'Myanmar',\n",
       "  'Nepal',\n",
       "  'Pakistan',\n",
       "  'Philippines',\n",
       "  'Singapore',\n",
       "  'South Korea',\n",
       "  'Sri Lanka',\n",
       "  'Taiwan',\n",
       "  'Tajikistan',\n",
       "  'Thailand',\n",
       "  'Timor',\n",
       "  'Uzbekistan',\n",
       "  'Vietnam'],\n",
       " 'Europe': ['Albania',\n",
       "  'Andorra',\n",
       "  'Austria',\n",
       "  'Belarus',\n",
       "  'Belgium',\n",
       "  'Bosnia and Herzegovina',\n",
       "  'Bulgaria',\n",
       "  'Croatia',\n",
       "  'Cyprus',\n",
       "  'Czechia',\n",
       "  'Denmark',\n",
       "  'Estonia',\n",
       "  'Finland',\n",
       "  'France',\n",
       "  'Germany',\n",
       "  'Greece',\n",
       "  'Hungary',\n",
       "  'Iceland',\n",
       "  'Ireland',\n",
       "  'Italy',\n",
       "  'Kosovo',\n",
       "  'Latvia',\n",
       "  'Liechtenstein',\n",
       "  'Lithuania',\n",
       "  'Luxembourg',\n",
       "  'Malta',\n",
       "  'Moldova',\n",
       "  'Monaco',\n",
       "  'Montenegro',\n",
       "  'Netherlands',\n",
       "  'North Macedonia',\n",
       "  'Norway',\n",
       "  'Poland',\n",
       "  'Portugal',\n",
       "  'Romania',\n",
       "  'Russia',\n",
       "  'San Marino',\n",
       "  'Serbia',\n",
       "  'Slovakia',\n",
       "  'Slovenia',\n",
       "  'Spain',\n",
       "  'Sweden',\n",
       "  'Switzerland',\n",
       "  'Ukraine',\n",
       "  'United Kingdom',\n",
       "  'Vatican'],\n",
       " 'Africa': ['Algeria',\n",
       "  'Angola',\n",
       "  'Benin',\n",
       "  'Botswana',\n",
       "  'Burkina Faso',\n",
       "  'Burundi',\n",
       "  'Cameroon',\n",
       "  'Cape Verde',\n",
       "  'Central African Republic',\n",
       "  'Chad',\n",
       "  'Comoros',\n",
       "  'Congo',\n",
       "  \"Cote d'Ivoire\",\n",
       "  'Democratic Republic of Congo',\n",
       "  'Djibouti',\n",
       "  'Equatorial Guinea',\n",
       "  'Eritrea',\n",
       "  'Eswatini',\n",
       "  'Ethiopia',\n",
       "  'Gabon',\n",
       "  'Gambia',\n",
       "  'Ghana',\n",
       "  'Guinea',\n",
       "  'Guinea-Bissau',\n",
       "  'Kenya',\n",
       "  'Lesotho',\n",
       "  'Liberia',\n",
       "  'Madagascar',\n",
       "  'Malawi',\n",
       "  'Mali',\n",
       "  'Mauritania',\n",
       "  'Mauritius',\n",
       "  'Morocco',\n",
       "  'Mozambique',\n",
       "  'Namibia',\n",
       "  'Niger',\n",
       "  'Nigeria',\n",
       "  'Rwanda',\n",
       "  'Sao Tome and Principe',\n",
       "  'Senegal',\n",
       "  'Seychelles',\n",
       "  'Sierra Leone',\n",
       "  'Somalia',\n",
       "  'South Africa',\n",
       "  'South Sudan',\n",
       "  'Sudan',\n",
       "  'Tanzania',\n",
       "  'Togo',\n",
       "  'Tunisia',\n",
       "  'Uganda',\n",
       "  'Zambia',\n",
       "  'Zimbabwe'],\n",
       " 'North America': ['Antigua and Barbuda',\n",
       "  'Bahamas',\n",
       "  'Barbados',\n",
       "  'Belize',\n",
       "  'Canada',\n",
       "  'Costa Rica',\n",
       "  'Cuba',\n",
       "  'Dominica',\n",
       "  'Dominican Republic',\n",
       "  'El Salvador',\n",
       "  'Grenada',\n",
       "  'Guatemala',\n",
       "  'Haiti',\n",
       "  'Honduras',\n",
       "  'Jamaica',\n",
       "  'Mexico',\n",
       "  'Nicaragua',\n",
       "  'Panama',\n",
       "  'Saint Kitts and Nevis',\n",
       "  'Saint Lucia',\n",
       "  'Saint Vincent and the Grenadines',\n",
       "  'Trinidad and Tobago',\n",
       "  'United States'],\n",
       " 'South America': ['Argentina',\n",
       "  'Bolivia',\n",
       "  'Brazil',\n",
       "  'Chile',\n",
       "  'Colombia',\n",
       "  'Ecuador',\n",
       "  'Guyana',\n",
       "  'Paraguay',\n",
       "  'Peru',\n",
       "  'Suriname',\n",
       "  'Uruguay',\n",
       "  'Venezuela'],\n",
       " 'Oceania': ['Australia',\n",
       "  'Fiji',\n",
       "  'Marshall Islands',\n",
       "  'New Zealand',\n",
       "  'Papua New Guinea',\n",
       "  'Samoa',\n",
       "  'Solomon Islands',\n",
       "  'Vanuatu'],\n",
       " 'Planet': 'World',\n",
       " 'Middle_East': ['Turkey',\n",
       "  'Syria',\n",
       "  'Lebanon',\n",
       "  'Israel',\n",
       "  'Palestine',\n",
       "  'Jordan',\n",
       "  'Iraq',\n",
       "  'Iran',\n",
       "  'Saudi Arabia',\n",
       "  'Yemen',\n",
       "  'Oman',\n",
       "  'United Arab Emirates',\n",
       "  'Qatar',\n",
       "  'Bahrain',\n",
       "  'Kuwait',\n",
       "  'Egypt',\n",
       "  'Libya'],\n",
       " 'World': ['Africa',\n",
       "  'North America',\n",
       "  'Europe',\n",
       "  'Asia',\n",
       "  'Middle_East',\n",
       "  'Oceania',\n",
       "  'South America']}"
      ]
     },
     "execution_count": 5,
     "metadata": {},
     "output_type": "execute_result"
    }
   ],
   "source": [
    "countries_in_continent"
   ]
  },
  {
   "cell_type": "markdown",
   "metadata": {},
   "source": [
    "## Data save\n",
    "\n",
    "Execute this section once to produce file `data_all_base.pk` in directory pks."
   ]
  },
  {
   "cell_type": "code",
   "execution_count": 6,
   "metadata": {},
   "outputs": [
    {
     "name": "stdout",
     "output_type": "stream",
     "text": [
      "elapsed:  7.941824913024902\n"
     ]
    }
   ],
   "source": [
    "# miscnms = ['clusdata_all','cases','datasets','contact_dic','age_group_dic']\n",
    "miscnms = ['acute_dict','age_group_dic','base','contact_dic','final_date','gdp_per_capita_owid',\n",
    " 'icu_dict','owid_file','stringency_owid','tests_owid','translate_age','translate_contact']\n",
    "deathnms = [x for x in dir() if 'deaths' in x]\n",
    "casenms = [x for x in dir() if 'cases' in x if not callable(eval(x))]\n",
    "covidnms = [x for x in dir() if 'covid' in x]\n",
    "popnms = [x for x in dir() if 'population' in x]\n",
    "testnms = [x for x in dir() if 'testing' in x if not callable(eval(x))]\n",
    "recovnms = [x for x in dir() if 'recovered' in x]\n",
    "confnms = [x for x in dir() if 'confirmed' in x]\n",
    "countrynms = [x for x in dir() if 'countr' in x and not callable(eval(x))]\n",
    "countrynms = [x for x in dir() if 'countr' in x and (isinstance(eval(x),dict) or isinstance(eval(x),list) or isinstance(eval(x),tuple))]\n",
    "continentnms = [x for x in dir() if 'continent' in x]\n",
    "\n",
    "allnmsdb = countrynms + covidnms + miscnms + deathnms + confnms + recovnms + casenms + popnms + testnms + ['allnmsdb']\n",
    "data_all = {nm:eval(nm) for nm in allnmsdb}\n",
    "\n",
    "start = time()\n",
    "pk.dump(data_all,open('./pks/data_all_base.pk','wb'))\n",
    "print('elapsed: ',time()-start)"
   ]
  },
  {
   "cell_type": "code",
   "execution_count": 7,
   "metadata": {},
   "outputs": [
    {
     "name": "stdout",
     "output_type": "stream",
     "text": [
      "['countries_common', 'countries_common_age', 'countries_common_contact', 'countries_common_x', 'countries_in_continent', 'countries_jhu', 'countries_jhu_2_owid', 'countries_jhu_4_owid', 'countries_jhu_non_special', 'countries_jhu_overseas', 'countries_nopopulation', 'countries_owid', 'countries_owid_to_jhu', 'countrynms', 'd_countries', 'jhu_to_owid_str_country', 'owid_to_jhu_str_country', 'scountries', 'covid_owid', 'covid_owid_ts', 'covid_ts', 'acute_dict', 'age_group_dic', 'base', 'contact_dic', 'final_date', 'gdp_per_capita_owid', 'icu_dict', 'owid_file', 'stringency_owid', 'tests_owid', 'translate_age', 'translate_contact', 'deaths', 'deaths_jhu', 'deaths_owid', 'new_deaths_c_spm_jhu', 'new_deaths_c_spm_owid', 'new_deaths_pm_jhu', 'new_deaths_pm_owid', 'new_deaths_spm_jhu', 'new_deaths_spm_owid', 'total_deaths_cs_jhu', 'total_deaths_cs_owid', 'total_deaths_jhu', 'total_deaths_owid', 'total_deaths_s_jhu', 'total_deaths_s_owid', 'confirmed', 'confirmed_jhu', 'confirmed_owid', 'recovered', 'recovered_jhu', 'recovered_owid', 'cases_adj_nonlin_jhu', 'cases_adj_nonlin_owid', 'cases_adj_nonlinr_jhu', 'cases_adj_nonlinr_owid', 'cases_c_linr_jhu', 'cases_c_linr_owid', 'cases_c_nonlin_jhu', 'cases_c_nonlin_owid', 'cases_c_nonlinr_jhu', 'cases_c_nonlinr_owid', 'new_cases_c_linr_jhu', 'new_cases_c_linr_owid', 'new_cases_c_linr_spm_jhu', 'new_cases_c_linr_spm_owid', 'new_cases_c_nonlin_jhu', 'new_cases_c_nonlin_owid', 'new_cases_c_nonlin_spm_jhu', 'new_cases_c_nonlin_spm_owid', 'new_cases_c_nonlinr_jhu', 'new_cases_c_nonlinr_owid', 'new_cases_c_nonlinr_spm_jhu', 'new_cases_c_nonlinr_spm_owid', 'new_cases_c_spm_jhu', 'new_cases_c_spm_owid', 'new_cases_pm_jhu', 'new_cases_pm_owid', 'new_cases_spm_jhu', 'new_cases_spm_owid', 'countries_nopopulation', 'population_density_owid', 'population_owid', 'reg_testing', 'testing', 'testing_init_ramp', 'testing_x', 'allnmsdb']\n"
     ]
    }
   ],
   "source": [
    "print(allnmsdb)"
   ]
  },
  {
   "cell_type": "code",
   "execution_count": 8,
   "metadata": {},
   "outputs": [
    {
     "data": {
      "text/plain": [
       "['In',\n",
       " 'Out',\n",
       " 'cc',\n",
       " 'cc_jhu',\n",
       " 'cont',\n",
       " 'cont_jhu',\n",
       " 'continent',\n",
       " 'continents',\n",
       " 'csv',\n",
       " 'data_all',\n",
       " 'data_config',\n",
       " 'data_days',\n",
       " 'datetime',\n",
       " 'daystop',\n",
       " 'daysync',\n",
       " 'debug',\n",
       " 'math',\n",
       " 'matplotlib',\n",
       " 'np',\n",
       " 'pd',\n",
       " 'pk',\n",
       " 'plt',\n",
       " 'pwlf',\n",
       " 'sb',\n",
       " 'slider_layout',\n",
       " 'start',\n",
       " 'stats',\n",
       " 'style',\n",
       " 'warnings']"
      ]
     },
     "execution_count": 8,
     "metadata": {},
     "output_type": "execute_result"
    }
   ],
   "source": [
    "# the remaining list from dir() below should only contain temporary variables and system modules\n",
    "[x for x in dir() if '__' not in x and not callable(eval(x)) and not x in allnmsdb and not x.startswith('_') and not x.endswith('nms')]"
   ]
  },
  {
   "cell_type": "markdown",
   "metadata": {},
   "source": [
    "## Data Load\n",
    "\n",
    "Use this code to read in the data, e.g. at the top of another notebook, as an alternative to loading data.py"
   ]
  },
  {
   "cell_type": "code",
   "execution_count": 9,
   "metadata": {},
   "outputs": [
    {
     "name": "stdout",
     "output_type": "stream",
     "text": [
      "reading in data...\n",
      "elapsed:  8.589014768600464\n"
     ]
    }
   ],
   "source": [
    "# read in data\n",
    "start=time()\n",
    "print('reading in data...')\n",
    "with open('./pks/data_all_base.pk','rb') as fp:\n",
    "    foo = pk.load(fp)\n",
    "print('elapsed: ',time()-start)\n",
    "\n",
    "# make each element of the dictionary a global variable named with key:\n",
    "for x in foo:\n",
    "    stmp = x+\"= foo['\"+x+\"']\"\n",
    "    exec(stmp)"
   ]
  },
  {
   "cell_type": "code",
   "execution_count": null,
   "metadata": {},
   "outputs": [],
   "source": []
  }
 ],
 "metadata": {
  "hide_input": false,
  "kernelspec": {
   "display_name": "Python 3",
   "language": "python",
   "name": "python3"
  },
  "language_info": {
   "codemirror_mode": {
    "name": "ipython",
    "version": 3
   },
   "file_extension": ".py",
   "mimetype": "text/x-python",
   "name": "python",
   "nbconvert_exporter": "python",
   "pygments_lexer": "ipython3",
   "version": "3.7.4"
  },
  "toc": {
   "base_numbering": 1,
   "nav_menu": {
    "height": "341px",
    "width": "225px"
   },
   "number_sections": true,
   "sideBar": true,
   "skip_h1_title": false,
   "title_cell": "Table of Contents",
   "title_sidebar": "Contents",
   "toc_cell": false,
   "toc_position": {
    "height": "calc(100% - 180px)",
    "left": "10px",
    "top": "150px",
    "width": "294.0625px"
   },
   "toc_section_display": true,
   "toc_window_display": false
  }
 },
 "nbformat": 4,
 "nbformat_minor": 4
}
