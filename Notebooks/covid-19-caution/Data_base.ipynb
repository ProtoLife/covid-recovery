{
 "cells": [
  {
   "cell_type": "code",
   "execution_count": 1,
   "metadata": {},
   "outputs": [
    {
     "data": {
      "text/html": [
       "<style>.container { width:100% !important; }</style>"
      ],
      "text/plain": [
       "<IPython.core.display.HTML object>"
      ]
     },
     "metadata": {},
     "output_type": "display_data"
    }
   ],
   "source": [
    "%matplotlib notebook\n",
    "import matplotlib\n",
    "import seaborn as sb\n",
    "from matplotlib import pyplot as plt\n",
    "import numpy as np\n",
    "import pandas as pd\n",
    "\n",
    "# Jupyter Specifics\n",
    "%matplotlib inline\n",
    "from IPython.display import display, HTML\n",
    "from ipywidgets.widgets import interact, interactive, IntSlider, FloatSlider, Layout, ToggleButton, ToggleButtons, fixed\n",
    "display(HTML(\"<style>.container { width:100% !important; }</style>\"))\n",
    "style = {'description_width': '100px'}\n",
    "slider_layout = Layout(width='99%')\n",
    "\n",
    "from time import time\n",
    "import pickle as pk"
   ]
  },
  {
   "cell_type": "markdown",
   "metadata": {},
   "source": [
    "# Base data setup from databases"
   ]
  },
  {
   "cell_type": "code",
   "execution_count": 2,
   "metadata": {},
   "outputs": [
    {
     "name": "stdout",
     "output_type": "stream",
     "text": [
      "Getting data:\n",
      "getting JHU data...\n",
      "jhu data selected from 1/22/20 to 11/13/20\n",
      "getting owid data...\n",
      "countries without population data excluded: ['Hong Kong', 'International']\n",
      "owid data selected from 1/23/20 to 11/14/20\n",
      "expanding OWID data : to new (daily), 7-day rolling (smoothed), reporting glitch (corrected) and combined\n"
     ]
    },
    {
     "data": {
      "application/vnd.jupyter.widget-view+json": {
       "model_id": "fdc288f61e1147e1bab8b63ad1395112",
       "version_major": 2,
       "version_minor": 0
      },
      "text/plain": [
       "HBox(children=(FloatProgress(value=0.0, description='report correction deaths', max=222.0, style=ProgressStyle…"
      ]
     },
     "metadata": {},
     "output_type": "display_data"
    },
    {
     "name": "stdout",
     "output_type": "stream",
     "text": [
      "\n"
     ]
    },
    {
     "data": {
      "application/vnd.jupyter.widget-view+json": {
       "model_id": "8f87337b037b41408e4c65b5f2f3b774",
       "version_major": 2,
       "version_minor": 0
      },
      "text/plain": [
       "HBox(children=(FloatProgress(value=0.0, description='report correction confirmed', max=222.0, style=ProgressSt…"
      ]
     },
     "metadata": {},
     "output_type": "display_data"
    },
    {
     "name": "stdout",
     "output_type": "stream",
     "text": [
      "\n",
      "number of countries listed in OWID database 221\n",
      "done with OWID data (covid_owid_ts dictionary see .keys()) .\n",
      "getting ICU and acute care data icus_2012 and WHO ...\n",
      "WHO acute file found dictionary acute_who\n",
      "ICU file found dictionary icus_2012\n",
      "mapping country names between JHU and OWID and extracting common countries...\n",
      "getting 2017 contact matrix data from 152 countries ...\n",
      "152 country contact files found 1 A-M and 2 M-Z\n",
      "Of 189 in countries_common 147 have contact matrices\n",
      "4 country contact matrices set equal to that of neighbour to complete cluster country set\n",
      "                   Afghanistan:Pakistan Kosovo:Serbia Moldova:Romania Norway:Sweden\n",
      "getting UN all sex age group data for 2020 ...\n",
      "UN contact files found 1 and 2\n",
      "Of 189 in countries_common 182 have age structure\n",
      "Kosovo age structure digitized from CIA World Fact Book Image 2018 to complete cluster country set in trimmed excel file\n",
      "extracting data sets for common countries both databases...\n",
      "expanding JHU data : to new (daily), 7-day rolling (smoothed), reporting glitch (corrected) and combined\n"
     ]
    },
    {
     "data": {
      "application/vnd.jupyter.widget-view+json": {
       "model_id": "b972f73435a145c781ccfd21113a5c72",
       "version_major": 2,
       "version_minor": 0
      },
      "text/plain": [
       "HBox(children=(FloatProgress(value=0.0, description='report correction deaths', max=190.0, style=ProgressStyle…"
      ]
     },
     "metadata": {},
     "output_type": "display_data"
    },
    {
     "name": "stdout",
     "output_type": "stream",
     "text": [
      "\n"
     ]
    },
    {
     "data": {
      "application/vnd.jupyter.widget-view+json": {
       "model_id": "ce22893555d44217bf260fff2db6d15f",
       "version_major": 2,
       "version_minor": 0
      },
      "text/plain": [
       "HBox(children=(FloatProgress(value=0.0, description='report correction confirmed', max=190.0, style=ProgressSt…"
      ]
     },
     "metadata": {},
     "output_type": "display_data"
    },
    {
     "name": "stdout",
     "output_type": "stream",
     "text": [
      "\n",
      "number of countries listed in JHU database 192\n",
      "done with JHU data (covid_ts dictionary keys: confirmed, deaths, recovered).\n",
      "extracting testing data from OWID database\n",
      "doing piecewise linear fits to testing data ... reg_testing\n"
     ]
    },
    {
     "data": {
      "application/vnd.jupyter.widget-view+json": {
       "model_id": "a42e870c5a5f43e99ce6c72f28c80aeb",
       "version_major": 2,
       "version_minor": 0
      },
      "text/plain": [
       "HBox(children=(FloatProgress(value=0.0, description='piecewise linear fit', max=189.0, style=ProgressStyle(des…"
      ]
     },
     "metadata": {},
     "output_type": "display_data"
    },
    {
     "name": "stdout",
     "output_type": "stream",
     "text": [
      "\n",
      "completed regularization of testing by pwlf and linear adjustment to confirmed cases (linr).\n",
      "constructing nonlinear adjustment to confirmed cases based on pwlf testing (nonlin and nonlinr ...\n",
      "completed nonlinear adjustment to confirmed cases.\n",
      "Done with data.\n",
      "---------------------------------\n"
     ]
    }
   ],
   "source": [
    "# new module data_config imported by data.py as well as Cluster.py\n",
    "import data_config\n",
    "data_config.report_correct = True\n",
    "from data import *"
   ]
  },
  {
   "cell_type": "code",
   "execution_count": 16,
   "metadata": {},
   "outputs": [
    {
     "data": {
      "text/plain": [
       "{'Africa',\n",
       " 'Asia',\n",
       " 'Europe',\n",
       " 'Middle_East',\n",
       " 'North America',\n",
       " 'Oceania',\n",
       " 'South America',\n",
       " 'World'}"
      ]
     },
     "execution_count": 16,
     "metadata": {},
     "output_type": "execute_result"
    }
   ],
   "source": [
    "# continents + Middle_East\n",
    "#for cc in countries_owid:\n",
    "#    print(cc,continent[cc])\n",
    "set([continent[cc] for cc in countries_owid])"
   ]
  },
  {
   "cell_type": "markdown",
   "metadata": {},
   "source": [
    "## Data save\n",
    "\n",
    "Execute this section once to produce file `data_all_base.pk` in directory pks."
   ]
  },
  {
   "cell_type": "code",
   "execution_count": 12,
   "metadata": {},
   "outputs": [
    {
     "name": "stdout",
     "output_type": "stream",
     "text": [
      "elapsed:  9.02350401878357\n"
     ]
    }
   ],
   "source": [
    "# miscnms = ['clusdata_all','cases','datasets','contact_dic','age_group_dic']\n",
    "miscnms = ['acute_dict','age_group_dic','base','contact_dic','final_date','gdp_per_capita_owid',\n",
    " 'icu_dict','owid_file','stringency_owid','tests_owid','translate_age','translate_contact']\n",
    "deathnms = [x for x in dir() if 'deaths' in x]\n",
    "casenms = [x for x in dir() if 'cases' in x if not callable(eval(x))]\n",
    "covidnms = [x for x in dir() if 'covid' in x]\n",
    "popnms = [x for x in dir() if 'population' in x]\n",
    "testnms = [x for x in dir() if 'testing' in x if not callable(eval(x))]\n",
    "recovnms = [x for x in dir() if 'recovered' in x]\n",
    "confnms = [x for x in dir() if 'confirmed' in x]\n",
    "countrynms = [x for x in dir() if 'countr' in x and not callable(eval(x))]\n",
    "countrynms = [x for x in dir() if 'countr' in x and (isinstance(eval(x),dict) or isinstance(eval(x),list) or isinstance(eval(x),tuple))]\n",
    "continentnms = [x for x in dir() if 'continent' in x]\n",
    "\n",
    "allnmsdb = countrynms + covidnms + miscnms + deathnms + confnms + recovnms + casenms + popnms + testnms + ['allnmsdb']\n",
    "data_all = {nm:eval(nm) for nm in allnmsdb}\n",
    "\n",
    "start = time()\n",
    "pk.dump(data_all,open('./pks/data_all_base.pk','wb'))\n",
    "print('elapsed: ',time()-start)"
   ]
  },
  {
   "cell_type": "code",
   "execution_count": 13,
   "metadata": {},
   "outputs": [
    {
     "name": "stdout",
     "output_type": "stream",
     "text": [
      "['countries_common', 'countries_common_age', 'countries_common_contact', 'countries_common_x', 'countries_jhu', 'countries_jhu_2_owid', 'countries_jhu_4_owid', 'countries_jhu_non_special', 'countries_jhu_overseas', 'countries_nopopulation', 'countries_owid', 'countries_owid_to_jhu', 'countrynms', 'd_countries', 'jhu_to_owid_str_country', 'owid_to_jhu_str_country', 'scountries', 'covid_owid', 'covid_owid_ts', 'covid_ts', 'acute_dict', 'age_group_dic', 'base', 'contact_dic', 'final_date', 'gdp_per_capita_owid', 'icu_dict', 'owid_file', 'stringency_owid', 'tests_owid', 'translate_age', 'translate_contact', 'deaths', 'deaths_jhu', 'deaths_owid', 'new_deaths_c_spm_jhu', 'new_deaths_c_spm_owid', 'new_deaths_pm_jhu', 'new_deaths_pm_owid', 'new_deaths_spm_jhu', 'new_deaths_spm_owid', 'total_deaths_cs_jhu', 'total_deaths_cs_owid', 'total_deaths_jhu', 'total_deaths_owid', 'total_deaths_s_jhu', 'total_deaths_s_owid', 'confirmed', 'confirmed_jhu', 'confirmed_owid', 'recovered', 'recovered_jhu', 'recovered_owid', 'cases_adj_nonlin_jhu', 'cases_adj_nonlin_owid', 'cases_adj_nonlinr_jhu', 'cases_adj_nonlinr_owid', 'cases_c_linr_jhu', 'cases_c_linr_owid', 'cases_c_nonlin_jhu', 'cases_c_nonlin_owid', 'cases_c_nonlinr_jhu', 'cases_c_nonlinr_owid', 'new_cases_c_linr_jhu', 'new_cases_c_linr_owid', 'new_cases_c_linr_spm_jhu', 'new_cases_c_linr_spm_owid', 'new_cases_c_nonlin_jhu', 'new_cases_c_nonlin_owid', 'new_cases_c_nonlin_spm_jhu', 'new_cases_c_nonlin_spm_owid', 'new_cases_c_nonlinr_jhu', 'new_cases_c_nonlinr_owid', 'new_cases_c_nonlinr_spm_jhu', 'new_cases_c_nonlinr_spm_owid', 'new_cases_c_spm_jhu', 'new_cases_c_spm_owid', 'new_cases_pm_jhu', 'new_cases_pm_owid', 'new_cases_spm_jhu', 'new_cases_spm_owid', 'countries_nopopulation', 'population_density_owid', 'population_owid', 'reg_testing', 'testing', 'testing_init_ramp', 'testing_x', 'allnmsdb']\n"
     ]
    }
   ],
   "source": [
    "print(allnmsdb)"
   ]
  },
  {
   "cell_type": "code",
   "execution_count": 14,
   "metadata": {},
   "outputs": [
    {
     "data": {
      "text/plain": [
       "['In',\n",
       " 'Out',\n",
       " 'cc',\n",
       " 'continent',\n",
       " 'continents',\n",
       " 'csv',\n",
       " 'data_all',\n",
       " 'data_config',\n",
       " 'data_days',\n",
       " 'datetime',\n",
       " 'daysync',\n",
       " 'debug',\n",
       " 'math',\n",
       " 'matplotlib',\n",
       " 'np',\n",
       " 'pd',\n",
       " 'pk',\n",
       " 'plt',\n",
       " 'pwlf',\n",
       " 'sb',\n",
       " 'slider_layout',\n",
       " 'start',\n",
       " 'stats',\n",
       " 'style',\n",
       " 'warnings']"
      ]
     },
     "execution_count": 14,
     "metadata": {},
     "output_type": "execute_result"
    }
   ],
   "source": [
    "# the remaining list from dir() below should only contain temporary variables and system modules\n",
    "[x for x in dir() if '__' not in x and not callable(eval(x)) and not x in allnmsdb and not x.startswith('_') and not x.endswith('nms')]"
   ]
  },
  {
   "cell_type": "markdown",
   "metadata": {},
   "source": [
    "## Data Load\n",
    "\n",
    "Use this code to read in the data, e.g. at the top of another notebook, as an alternative to loading data.py"
   ]
  },
  {
   "cell_type": "code",
   "execution_count": 15,
   "metadata": {},
   "outputs": [
    {
     "name": "stdout",
     "output_type": "stream",
     "text": [
      "reading in data...\n",
      "elapsed:  8.653300046920776\n"
     ]
    }
   ],
   "source": [
    "# read in data\n",
    "start=time()\n",
    "print('reading in data...')\n",
    "with open('./pks/data_all_base.pk','rb') as fp:\n",
    "    foo = pk.load(fp)\n",
    "print('elapsed: ',time()-start)\n",
    "\n",
    "# make each element of the dictionary a global variable named with key:\n",
    "for x in foo:\n",
    "    stmp = x+\"= foo['\"+x+\"']\"\n",
    "    exec(stmp)"
   ]
  },
  {
   "cell_type": "code",
   "execution_count": null,
   "metadata": {},
   "outputs": [],
   "source": []
  }
 ],
 "metadata": {
  "hide_input": false,
  "kernelspec": {
   "display_name": "Python 3",
   "language": "python",
   "name": "python3"
  },
  "language_info": {
   "codemirror_mode": {
    "name": "ipython",
    "version": 3
   },
   "file_extension": ".py",
   "mimetype": "text/x-python",
   "name": "python",
   "nbconvert_exporter": "python",
   "pygments_lexer": "ipython3",
   "version": "3.7.4"
  },
  "toc": {
   "base_numbering": 1,
   "nav_menu": {
    "height": "341px",
    "width": "225px"
   },
   "number_sections": true,
   "sideBar": true,
   "skip_h1_title": false,
   "title_cell": "Table of Contents",
   "title_sidebar": "Contents",
   "toc_cell": false,
   "toc_position": {
    "height": "calc(100% - 180px)",
    "left": "10px",
    "top": "150px",
    "width": "294.0625px"
   },
   "toc_section_display": true,
   "toc_window_display": true
  }
 },
 "nbformat": 4,
 "nbformat_minor": 4
}
