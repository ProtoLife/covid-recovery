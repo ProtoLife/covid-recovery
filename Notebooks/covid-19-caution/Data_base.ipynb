{
 "cells": [
  {
   "cell_type": "code",
   "execution_count": 1,
   "metadata": {},
   "outputs": [
    {
     "data": {
      "text/html": [
       "<style>.container { width:100% !important; }</style>"
      ],
      "text/plain": [
       "<IPython.core.display.HTML object>"
      ]
     },
     "metadata": {},
     "output_type": "display_data"
    }
   ],
   "source": [
    "%matplotlib notebook\n",
    "import matplotlib\n",
    "import seaborn as sb\n",
    "from matplotlib import pyplot as plt\n",
    "import numpy as np\n",
    "import pandas as pd\n",
    "\n",
    "# Jupyter Specifics\n",
    "%matplotlib inline\n",
    "from IPython.display import display, HTML\n",
    "from ipywidgets.widgets import interact, interactive, IntSlider, FloatSlider, Layout, ToggleButton, ToggleButtons, fixed\n",
    "display(HTML(\"<style>.container { width:100% !important; }</style>\"))\n",
    "style = {'description_width': '100px'}\n",
    "slider_layout = Layout(width='99%')\n",
    "\n",
    "from time import time\n",
    "import pickle as pk"
   ]
  },
  {
   "cell_type": "markdown",
   "metadata": {},
   "source": [
    "# Base data setup from databases"
   ]
  },
  {
   "cell_type": "code",
   "execution_count": 2,
   "metadata": {},
   "outputs": [
    {
     "name": "stdout",
     "output_type": "stream",
     "text": [
      "Getting data:\n",
      "getting JHU data...\n",
      "jhu data selected from 1/22/20 to 10/26/20\n",
      "expanding JHU data : to new (daily), 7-day rolling (smoothed), reporting glitch (corrected) and combined\n"
     ]
    },
    {
     "data": {
      "application/vnd.jupyter.widget-view+json": {
       "model_id": "5e62fb59befb474a8ab98c9c71289ae8",
       "version_major": 2,
       "version_minor": 0
      },
      "text/plain": [
       "HBox(children=(FloatProgress(value=0.0, description='report correction deaths', max=192.0, style=ProgressStyle…"
      ]
     },
     "metadata": {},
     "output_type": "display_data"
    },
    {
     "name": "stdout",
     "output_type": "stream",
     "text": [
      "\n"
     ]
    },
    {
     "data": {
      "application/vnd.jupyter.widget-view+json": {
       "model_id": "148da5b72e4043aebf91a8e2f23e0706",
       "version_major": 2,
       "version_minor": 0
      },
      "text/plain": [
       "HBox(children=(FloatProgress(value=0.0, description='report correction confirmed', max=192.0, style=ProgressSt…"
      ]
     },
     "metadata": {},
     "output_type": "display_data"
    },
    {
     "name": "stdout",
     "output_type": "stream",
     "text": [
      "\n",
      "number of countries listed in JHU database 191\n",
      "done with JHU data (covid_ts dictionary keys: confirmed, deaths, recovered).\n",
      "getting owid data...\n",
      "countries without population data excluded: ['Hong Kong', 'International', 'Marshall Islands']\n",
      "owid data selected from 1/23/20 to 10/27/20\n",
      "expanding OWID data : to new (daily), 7-day rolling (smoothed), reporting glitch (corrected) and combined\n"
     ]
    },
    {
     "data": {
      "application/vnd.jupyter.widget-view+json": {
       "model_id": "3c38510eea084e938fc31327bb72ad90",
       "version_major": 2,
       "version_minor": 0
      },
      "text/plain": [
       "HBox(children=(FloatProgress(value=0.0, description='report correction deaths', max=213.0, style=ProgressStyle…"
      ]
     },
     "metadata": {},
     "output_type": "display_data"
    },
    {
     "name": "stdout",
     "output_type": "stream",
     "text": [
      "\n"
     ]
    },
    {
     "data": {
      "application/vnd.jupyter.widget-view+json": {
       "model_id": "22ef14f74689490ab71255dfca0e45c9",
       "version_major": 2,
       "version_minor": 0
      },
      "text/plain": [
       "HBox(children=(FloatProgress(value=0.0, description='report correction confirmed', max=213.0, style=ProgressSt…"
      ]
     },
     "metadata": {},
     "output_type": "display_data"
    },
    {
     "name": "stdout",
     "output_type": "stream",
     "text": [
      "\n",
      "number of countries listed in OWID database 212\n",
      "done with OWID data (covid_owid_ts dictionary see .keys()) .\n",
      "getting ICU and acute care data icus_2012 and WHO ...\n",
      "WHO acute file found dictionary acute_who\n",
      "ICU file found dictionary icus_2012\n",
      "mapping country names between JHU and OWID and extracting common countries...\n",
      "getting 2017 contact matrix data from 152 countries ...\n",
      "152 country contact files found 1 A-M and 2 M-Z\n",
      "Of 187 in countries_common 146 have contact matrices\n",
      "4 country contact matrices set equal to that of neighbour to complete cluster country set\n",
      "                   Afghanistan:Pakistan Kosovo:Serbia Moldova:Romania Norway:Sweden\n",
      "getting UN all sex age group data for 2020 ...\n",
      "UN contact files found 1 and 2\n",
      "Of 187 in countries_common 181 have age structure\n",
      "Kosovo age structure digitized from CIA World Fact Book Image 2018 to complete cluster country set in trimmed excel file\n",
      "extracting data sets for common countries both databases...\n",
      "extracting testing data from OWID database\n",
      "doing piecewise linear fits to testing data ... reg_testing\n"
     ]
    },
    {
     "data": {
      "application/vnd.jupyter.widget-view+json": {
       "model_id": "6ef4888b071c40c7805732c39f81eeac",
       "version_major": 2,
       "version_minor": 0
      },
      "text/plain": [
       "HBox(children=(FloatProgress(value=0.0, description='piecewise linear fit', max=187.0, style=ProgressStyle(des…"
      ]
     },
     "metadata": {},
     "output_type": "display_data"
    },
    {
     "name": "stdout",
     "output_type": "stream",
     "text": [
      "\n",
      "completed regularization of testing by pwlf and linear adjustment to confirmed cases (linr).\n",
      "constructing nonlinear adjustment to confirmed cases based on pwlf testing (nonlin and nonlinr ...\n",
      "completed nonlinear adjustment to confirmed cases.\n",
      "Done with data.\n",
      "---------------------------------\n"
     ]
    }
   ],
   "source": [
    "# new module data_config imported by data.py as well as Cluster.py\n",
    "import data_config\n",
    "data_config.report_correct = True\n",
    "from data import *"
   ]
  },
  {
   "cell_type": "markdown",
   "metadata": {},
   "source": [
    "## Data save\n",
    "\n",
    "Execute this section once to produce file `data_all_base.pk` in directory pks."
   ]
  },
  {
   "cell_type": "code",
   "execution_count": 3,
   "metadata": {},
   "outputs": [
    {
     "name": "stdout",
     "output_type": "stream",
     "text": [
      "elapsed:  7.090250015258789\n"
     ]
    }
   ],
   "source": [
    "# miscnms = ['clusdata_all','cases','datasets','contact_dic','age_group_dic']\n",
    "miscnms = ['contact_dic','age_group_dic']\n",
    "deathnms = [x for x in dir() if 'deaths' in x]\n",
    "casenms = [x for x in dir() if 'cases' in x if not callable(eval(x))]\n",
    "covidnms = [x for x in dir() if 'covid' in x]\n",
    "popnms = [x for x in dir() if 'population' in x]\n",
    "testnms = [x for x in dir() if 'testing' in x if not callable(eval(x))]\n",
    "\n",
    "# lccountries is type dict_keys, which can't be pickled\n",
    "countrynms = [x for x in dir() if 'countr' in x and x is not 'lccountries' and not callable(eval(x))]\n",
    "countrynms = [x for x in dir() if 'countr' in x and (isinstance(eval(x),dict) or isinstance(eval(x),list) or isinstance(eval(x),tuple))]\n",
    "\n",
    "allnmsdb = countrynms + covidnms + miscnms + deathnms + casenms + popnms + testnms + ['allnmsdb']\n",
    "data_all = {nm:eval(nm) for nm in allnmsdb}\n",
    "\n",
    "start = time()\n",
    "pk.dump(data_all,open('./pks/data_all_base.pk','wb'))\n",
    "print('elapsed: ',time()-start)"
   ]
  },
  {
   "cell_type": "code",
   "execution_count": 4,
   "metadata": {},
   "outputs": [
    {
     "name": "stdout",
     "output_type": "stream",
     "text": [
      "['countries_common', 'countries_common_age', 'countries_common_contact', 'countries_common_x', 'countries_jhu', 'countries_jhu_2_owid', 'countries_jhu_4_owid', 'countries_jhu_non_special', 'countries_jhu_overseas', 'countries_nopopulation', 'countries_owid', 'countries_owid_to_jhu', 'countrynms', 'd_countries', 'jhu_to_owid_str_country', 'owid_to_jhu_str_country', 'scountries', 'covid_owid', 'covid_owid_ts', 'covid_ts', 'contact_dic', 'age_group_dic', 'deaths', 'deaths_owid', 'new_deaths_c_spm_jhu', 'new_deaths_c_spm_owid', 'new_deaths_pm_jhu', 'new_deaths_pm_owid', 'new_deaths_spm_jhu', 'new_deaths_spm_owid', 'total_deaths_cs_jhu', 'total_deaths_cs_owid', 'total_deaths_jhu', 'total_deaths_owid', 'total_deaths_s_jhu', 'total_deaths_s_owid', 'cases_adj_nonlin_jhu', 'cases_adj_nonlin_owid', 'cases_adj_nonlinr_jhu', 'cases_adj_nonlinr_owid', 'cases_c_linr_jhu', 'cases_c_linr_owid', 'cases_c_nonlin_jhu', 'cases_c_nonlin_owid', 'cases_c_nonlinr_jhu', 'cases_c_nonlinr_owid', 'new_cases_c_linr_jhu', 'new_cases_c_linr_owid', 'new_cases_c_linr_spm_jhu', 'new_cases_c_linr_spm_owid', 'new_cases_c_nonlin_jhu', 'new_cases_c_nonlin_owid', 'new_cases_c_nonlin_spm_jhu', 'new_cases_c_nonlin_spm_owid', 'new_cases_c_nonlinr_jhu', 'new_cases_c_nonlinr_owid', 'new_cases_c_nonlinr_spm_jhu', 'new_cases_c_nonlinr_spm_owid', 'new_cases_c_spm_jhu', 'new_cases_c_spm_owid', 'new_cases_pm_jhu', 'new_cases_pm_owid', 'new_cases_spm_jhu', 'new_cases_spm_owid', 'countries_nopopulation', 'population_density_owid', 'population_owid', 'reg_testing', 'testing', 'testing_init_ramp', 'testing_x', 'allnmsdb']\n"
     ]
    }
   ],
   "source": [
    "print(allnmsdb)"
   ]
  },
  {
   "cell_type": "code",
   "execution_count": 5,
   "metadata": {},
   "outputs": [
    {
     "data": {
      "text/plain": [
       "['CaCo',\n",
       " 'Float',\n",
       " 'FloatSlider',\n",
       " 'HTML',\n",
       " 'In',\n",
       " 'IntSlider',\n",
       " 'Layout',\n",
       " 'Out',\n",
       " 'ToggleButton',\n",
       " 'ToggleButtons',\n",
       " '_',\n",
       " '__',\n",
       " '___',\n",
       " '__builtin__',\n",
       " '__builtins__',\n",
       " '__doc__',\n",
       " '__loader__',\n",
       " '__name__',\n",
       " '__package__',\n",
       " '__spec__',\n",
       " '_dh',\n",
       " '_i',\n",
       " '_i1',\n",
       " '_i2',\n",
       " '_i3',\n",
       " '_i4',\n",
       " '_i5',\n",
       " '_ih',\n",
       " '_ii',\n",
       " '_iii',\n",
       " '_oh',\n",
       " 'acute_dict',\n",
       " 'age_group_dic',\n",
       " 'allnmsdb',\n",
       " 'base',\n",
       " 'casenms',\n",
       " 'cases_adj_nonlin_jhu',\n",
       " 'cases_adj_nonlin_owid',\n",
       " 'cases_adj_nonlinr_jhu',\n",
       " 'cases_adj_nonlinr_owid',\n",
       " 'cases_c_linr_jhu',\n",
       " 'cases_c_linr_owid',\n",
       " 'cases_c_nonlin_jhu',\n",
       " 'cases_c_nonlin_owid',\n",
       " 'cases_c_nonlinr_jhu',\n",
       " 'cases_c_nonlinr_owid',\n",
       " 'confirmed',\n",
       " 'confirmed_owid',\n",
       " 'contact_dic',\n",
       " 'countries_common',\n",
       " 'countries_common_age',\n",
       " 'countries_common_contact',\n",
       " 'countries_common_x',\n",
       " 'countries_jhu',\n",
       " 'countries_jhu_2_owid',\n",
       " 'countries_jhu_4_owid',\n",
       " 'countries_jhu_non_special',\n",
       " 'countries_jhu_overseas',\n",
       " 'countries_nopopulation',\n",
       " 'countries_owid',\n",
       " 'countries_owid_to_jhu',\n",
       " 'countrynms',\n",
       " 'covid_owid',\n",
       " 'covid_owid_ts',\n",
       " 'covid_ts',\n",
       " 'covidnms',\n",
       " 'csv',\n",
       " 'd_countries',\n",
       " 'data_all',\n",
       " 'data_config',\n",
       " 'data_days',\n",
       " 'datetime',\n",
       " 'daysync',\n",
       " 'deathnms',\n",
       " 'deaths',\n",
       " 'deaths_owid',\n",
       " 'debug',\n",
       " 'display',\n",
       " 'exit',\n",
       " 'expand_data',\n",
       " 'final_date',\n",
       " 'fixed',\n",
       " 'gdp_per_capita_owid',\n",
       " 'get_2012_data_ICUs',\n",
       " 'get_WHO_data_acute_beds',\n",
       " 'get_country_data',\n",
       " 'get_country_data_nyw',\n",
       " 'get_data',\n",
       " 'get_data_age_groups',\n",
       " 'get_data_contact_matrices',\n",
       " 'get_data_owid',\n",
       " 'get_data_owid_key',\n",
       " 'get_ipython',\n",
       " 'icu_dict',\n",
       " 'interact',\n",
       " 'interactive',\n",
       " 'interp1d',\n",
       " 'jhu_to_owid_str_country',\n",
       " 'jhu_to_owid_str_country_md',\n",
       " 'make_cases_adj_nonlin',\n",
       " 'math',\n",
       " 'matplotlib',\n",
       " 'miscnms',\n",
       " 'new_cases_c_linr_jhu',\n",
       " 'new_cases_c_linr_owid',\n",
       " 'new_cases_c_linr_spm_jhu',\n",
       " 'new_cases_c_linr_spm_owid',\n",
       " 'new_cases_c_nonlin_jhu',\n",
       " 'new_cases_c_nonlin_owid',\n",
       " 'new_cases_c_nonlin_spm_jhu',\n",
       " 'new_cases_c_nonlin_spm_owid',\n",
       " 'new_cases_c_nonlinr_jhu',\n",
       " 'new_cases_c_nonlinr_owid',\n",
       " 'new_cases_c_nonlinr_spm_jhu',\n",
       " 'new_cases_c_nonlinr_spm_owid',\n",
       " 'new_cases_c_spm_jhu',\n",
       " 'new_cases_c_spm_owid',\n",
       " 'new_cases_pm_jhu',\n",
       " 'new_cases_pm_owid',\n",
       " 'new_cases_spm_jhu',\n",
       " 'new_cases_spm_owid',\n",
       " 'new_deaths_c_spm_jhu',\n",
       " 'new_deaths_c_spm_owid',\n",
       " 'new_deaths_pm_jhu',\n",
       " 'new_deaths_pm_owid',\n",
       " 'new_deaths_spm_jhu',\n",
       " 'new_deaths_spm_owid',\n",
       " 'notch_filter',\n",
       " 'np',\n",
       " 'owid_file',\n",
       " 'owid_to_jhu_country',\n",
       " 'owid_to_jhu_str_country',\n",
       " 'owid_to_jhu_str_country_md',\n",
       " 'pd',\n",
       " 'pk',\n",
       " 'plt',\n",
       " 'popnms',\n",
       " 'population_density_owid',\n",
       " 'population_owid',\n",
       " 'pwlf',\n",
       " 'pwlf_testing',\n",
       " 'quit',\n",
       " 'recovered',\n",
       " 'recovered_owid',\n",
       " 'reg_testing',\n",
       " 'regtests',\n",
       " 'savgol_filter',\n",
       " 'sb',\n",
       " 'scountries',\n",
       " 'slider_layout',\n",
       " 'start',\n",
       " 'stats',\n",
       " 'stringency_owid',\n",
       " 'style',\n",
       " 'testing',\n",
       " 'testing_init_ramp',\n",
       " 'testing_x',\n",
       " 'testnms',\n",
       " 'tests_owid',\n",
       " 'time',\n",
       " 'total_deaths_cs_jhu',\n",
       " 'total_deaths_cs_owid',\n",
       " 'total_deaths_jhu',\n",
       " 'total_deaths_owid',\n",
       " 'total_deaths_s_jhu',\n",
       " 'total_deaths_s_owid',\n",
       " 'tqdm',\n",
       " 'tqdm_notebook',\n",
       " 'translate_age',\n",
       " 'translate_contact',\n",
       " 'truncx',\n",
       " 'truncy',\n",
       " 'warnings',\n",
       " 'win_clus']"
      ]
     },
     "execution_count": 5,
     "metadata": {},
     "output_type": "execute_result"
    }
   ],
   "source": [
    "dir()"
   ]
  },
  {
   "cell_type": "markdown",
   "metadata": {},
   "source": [
    "## Data Load\n",
    "\n",
    "Use this code to read in the data, e.g. at the top of another notebook, as an alternative to loading data.py"
   ]
  },
  {
   "cell_type": "code",
   "execution_count": 6,
   "metadata": {},
   "outputs": [
    {
     "name": "stdout",
     "output_type": "stream",
     "text": [
      "reading in data...\n",
      "elapsed:  6.822822332382202\n"
     ]
    }
   ],
   "source": [
    "# read in data\n",
    "start=time()\n",
    "print('reading in data...')\n",
    "with open('./pks/data_all_base.pk','rb') as fp:\n",
    "    foo = pk.load(fp)\n",
    "print('elapsed: ',time()-start)\n",
    "\n",
    "# make each element of the dictionary a global variable named with key:\n",
    "for x in foo:\n",
    "    stmp = x+\"= foo['\"+x+\"']\"\n",
    "    exec(stmp)"
   ]
  },
  {
   "cell_type": "code",
   "execution_count": null,
   "metadata": {},
   "outputs": [],
   "source": []
  }
 ],
 "metadata": {
  "hide_input": false,
  "kernelspec": {
   "display_name": "Python 3",
   "language": "python",
   "name": "python3"
  },
  "language_info": {
   "codemirror_mode": {
    "name": "ipython",
    "version": 3
   },
   "file_extension": ".py",
   "mimetype": "text/x-python",
   "name": "python",
   "nbconvert_exporter": "python",
   "pygments_lexer": "ipython3",
   "version": "3.7.4"
  },
  "toc": {
   "base_numbering": 1,
   "nav_menu": {
    "height": "341px",
    "width": "225px"
   },
   "number_sections": true,
   "sideBar": true,
   "skip_h1_title": false,
   "title_cell": "Table of Contents",
   "title_sidebar": "Contents",
   "toc_cell": false,
   "toc_position": {
    "height": "calc(100% - 180px)",
    "left": "10px",
    "top": "150px",
    "width": "294.0625px"
   },
   "toc_section_display": true,
   "toc_window_display": true
  }
 },
 "nbformat": 4,
 "nbformat_minor": 4
}
