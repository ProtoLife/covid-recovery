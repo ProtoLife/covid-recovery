{
 "cells": [
  {
   "cell_type": "code",
   "execution_count": 1,
   "metadata": {},
   "outputs": [
    {
     "data": {
      "text/html": [
       "<style>.container { width:100% !important; }</style>"
      ],
      "text/plain": [
       "<IPython.core.display.HTML object>"
      ]
     },
     "metadata": {},
     "output_type": "display_data"
    }
   ],
   "source": [
    "%matplotlib notebook\n",
    "import matplotlib\n",
    "import seaborn as sb\n",
    "from matplotlib import pyplot as plt\n",
    "import holoviews as hv\n",
    "\n",
    "import numpy as np\n",
    "import pandas as pd\n",
    "import pickle as pk\n",
    "from time import time\n",
    "\n",
    "# Jupyter Specifics\n",
    "%matplotlib inline\n",
    "from IPython.display import display, HTML\n",
    "from ipywidgets.widgets import interact, interactive, IntSlider, FloatSlider, Layout, ToggleButton, ToggleButtons, fixed\n",
    "display(HTML(\"<style>.container { width:100% !important; }</style>\"))\n",
    "style = {'description_width': '100px'}\n",
    "slider_layout = Layout(width='99%')\n"
   ]
  },
  {
   "cell_type": "code",
   "execution_count": 2,
   "metadata": {},
   "outputs": [
    {
     "name": "stdout",
     "output_type": "stream",
     "text": [
      "reading in data...\n",
      "elapsed:  5.15117883682251\n"
     ]
    }
   ],
   "source": [
    "# read in data\n",
    "start=time()\n",
    "print('reading in data...')\n",
    "with open('data_all.pk','rb') as fp:\n",
    "    foo = pk.load(fp)\n",
    "print('elapsed: ',time()-start)\n",
    "\n",
    "for x in foo:\n",
    "    stmp = x+\"= foo['\"+x+\"']\"\n",
    "    exec(stmp)"
   ]
  },
  {
   "cell_type": "code",
   "execution_count": null,
   "metadata": {},
   "outputs": [],
   "source": [
    "plt.plot(clusdata_all['deaths']['Germany']);"
   ]
  },
  {
   "cell_type": "code",
   "execution_count": null,
   "metadata": {},
   "outputs": [],
   "source": [
    "plt.plot(new_cases_c_nonlinr_owid['Germany']);"
   ]
  },
  {
   "cell_type": "markdown",
   "metadata": {},
   "source": [
    "# Consensus basics"
   ]
  },
  {
   "cell_type": "code",
   "execution_count": null,
   "metadata": {},
   "outputs": [],
   "source": [
    "# from Consensus import *\n",
    "# NB:  scoping problem seems to prevent import from working properly.\n",
    "# instead use exec below."
   ]
  },
  {
   "cell_type": "code",
   "execution_count": null,
   "metadata": {},
   "outputs": [],
   "source": [
    "exec(open('Consensus.py','r').read())"
   ]
  },
  {
   "cell_type": "code",
   "execution_count": null,
   "metadata": {},
   "outputs": [],
   "source": [
    "#foo = Consensus(cases=['deaths','cases','cases_nonlinr'])\n",
    "foo = Consensus()"
   ]
  },
  {
   "cell_type": "code",
   "execution_count": null,
   "metadata": {},
   "outputs": [],
   "source": [
    "cases"
   ]
  },
  {
   "cell_type": "code",
   "execution_count": null,
   "metadata": {},
   "outputs": [],
   "source": [
    "# import warnings\n",
    "# warnings.simplefilter('error', RuntimeWarning)   # to replace warnings by errors to allow traceback\n",
    "# warnings.simplefilter('error',DeprecationWarning)"
   ]
  },
  {
   "cell_type": "code",
   "execution_count": null,
   "metadata": {},
   "outputs": [],
   "source": [
    "# loop over 24 scans: 4* cases index + scoring method (max validity or min score options) 0 to 3:\n",
    "# 0 validity = max(validity,0.001)\n",
    "# 1 validitysc = rescale(validity,ncomp)  # rescaled to account for biasses in number of components of projection\n",
    "# 2 score1 = 1.0/validitysc + float(nunclustered)/5. + np.abs(float(nclus)-4.)/2.  # penalizes additively\n",
    "# 3 score2 = float(nunclustered)*(4.+np.abs(nclus-4.))/(validitysc*20.)            # penalizes multiplicatively : all criteria required\n",
    "foo.scan() # default diag=False for no output except progress bar"
   ]
  },
  {
   "cell_type": "code",
   "execution_count": null,
   "metadata": {},
   "outputs": [],
   "source": []
  },
  {
   "cell_type": "code",
   "execution_count": null,
   "metadata": {
    "scrolled": false
   },
   "outputs": [],
   "source": [
    "# plot of probability of countries being in cluster (blue) and 1- outlier score (red)\n",
    "# extracted to paper figure in Assembled_Figs.pptx\n",
    "foo.plot_outliers()"
   ]
  },
  {
   "cell_type": "markdown",
   "metadata": {},
   "source": [
    "**Must do this to graph any of the clusterings...**"
   ]
  },
  {
   "cell_type": "code",
   "execution_count": null,
   "metadata": {},
   "outputs": [],
   "source": [
    "foo.make_clusters()"
   ]
  },
  {
   "cell_type": "code",
   "execution_count": null,
   "metadata": {},
   "outputs": [],
   "source": [
    "foo.plot_stage(3)"
   ]
  },
  {
   "cell_type": "code",
   "execution_count": null,
   "metadata": {},
   "outputs": [],
   "source": [
    "# the end result here is with the countries ordered by the refclustering column (the one with the best score2)\n",
    "# see swizzle below to reorder countries by means of the consensus clusters\n",
    "foo.plot_all_stages()"
   ]
  },
  {
   "cell_type": "code",
   "execution_count": null,
   "metadata": {},
   "outputs": [],
   "source": [
    "foo.swizzle(satthresh=0.6) # the closer the satthresh to one, the more countries end up in unclustered\n",
    "print(len(foo.classes))\n",
    "print(foo.classes)"
   ]
  },
  {
   "cell_type": "code",
   "execution_count": null,
   "metadata": {},
   "outputs": [],
   "source": [
    "classes1 = foo.classes"
   ]
  },
  {
   "cell_type": "code",
   "execution_count": null,
   "metadata": {},
   "outputs": [],
   "source": [
    "foo.plot_swiz()\n"
   ]
  },
  {
   "cell_type": "code",
   "execution_count": null,
   "metadata": {},
   "outputs": [],
   "source": [
    "foo.make_map()"
   ]
  },
  {
   "cell_type": "code",
   "execution_count": null,
   "metadata": {},
   "outputs": [],
   "source": [
    "foo.map"
   ]
  },
  {
   "cell_type": "markdown",
   "metadata": {},
   "source": [
    "## restricted columns..."
   ]
  },
  {
   "cell_type": "code",
   "execution_count": null,
   "metadata": {},
   "outputs": [],
   "source": [
    "mycols = [i for i,r in enumerate(foo.report) if ('deaths,' in foo.report[i] or 'cases,' in foo.report[i] or 'cases_nonlinr,' in foo.report[i])]"
   ]
  },
  {
   "cell_type": "code",
   "execution_count": null,
   "metadata": {},
   "outputs": [],
   "source": [
    "mycols"
   ]
  },
  {
   "cell_type": "code",
   "execution_count": null,
   "metadata": {},
   "outputs": [],
   "source": [
    "foo.coldata.shape"
   ]
  },
  {
   "cell_type": "code",
   "execution_count": null,
   "metadata": {},
   "outputs": [],
   "source": [
    "fofo = np.array([foo.coldata[0:,ii,0:] for ii in mycols])\n",
    "fofo.shape"
   ]
  },
  {
   "cell_type": "code",
   "execution_count": null,
   "metadata": {},
   "outputs": [],
   "source": [
    "foo.swizzle(cols=mycols)"
   ]
  },
  {
   "cell_type": "code",
   "execution_count": null,
   "metadata": {},
   "outputs": [],
   "source": [
    "classes2 = foo.classes"
   ]
  },
  {
   "cell_type": "code",
   "execution_count": null,
   "metadata": {},
   "outputs": [],
   "source": [
    "foo.plot_swiz()"
   ]
  },
  {
   "cell_type": "code",
   "execution_count": null,
   "metadata": {},
   "outputs": [],
   "source": [
    "foo.make_map()"
   ]
  },
  {
   "cell_type": "code",
   "execution_count": null,
   "metadata": {},
   "outputs": [],
   "source": [
    "foo.map"
   ]
  },
  {
   "cell_type": "markdown",
   "metadata": {},
   "source": [
    "# Sankey diagram for comparing clusterings"
   ]
  },
  {
   "cell_type": "code",
   "execution_count": null,
   "metadata": {},
   "outputs": [],
   "source": [
    "foo = Consensus()\n",
    "foo.scan()"
   ]
  },
  {
   "cell_type": "code",
   "execution_count": null,
   "metadata": {},
   "outputs": [],
   "source": [
    "dic1 = foo.swdic\n",
    "classes1 = foo.classes"
   ]
  },
  {
   "cell_type": "code",
   "execution_count": null,
   "metadata": {},
   "outputs": [],
   "source": [
    "mycols = [i for i,r in enumerate(foo.report) if ('deaths,' in foo.report[i] or 'cases,' in foo.report[i] or 'cases_nonlinr,' in foo.report[i])]\n",
    "print(mycols)\n",
    "foo.swizzle(cols=mycols)\n",
    "dic2 = foo.swdic\n",
    "classes2 = foo.classes"
   ]
  },
  {
   "cell_type": "code",
   "execution_count": null,
   "metadata": {},
   "outputs": [],
   "source": [
    "hv.extension('bokeh')\n"
   ]
  },
  {
   "cell_type": "code",
   "execution_count": null,
   "metadata": {},
   "outputs": [],
   "source": [
    "df = pd.DataFrame(columns=['c1','c2','val'])\n",
    "cnt=0\n",
    "for k in dic1:\n",
    "    adic[str(k)] = {}\n",
    "    Nk = len(dic1[k])\n",
    "    s1 = set(dic1[k])\n",
    "    for kk in dic2:\n",
    "        s2 = set(dic2[kk])\n",
    "        #olap = len(s1.intersection(s2))/float(Nk)\n",
    "        olap = len(s1.intersection(s2))\n",
    "        if olap > 0:\n",
    "            df.loc[cnt] = ['a'+str(k),'b'+str(kk),olap]\n",
    "            cnt = cnt+1\n"
   ]
  },
  {
   "cell_type": "code",
   "execution_count": null,
   "metadata": {},
   "outputs": [],
   "source": [
    "df"
   ]
  },
  {
   "cell_type": "code",
   "execution_count": null,
   "metadata": {},
   "outputs": [],
   "source": [
    "%%opts Sankey (cmap='Category10' edge_color='c1' edge_line_width=0 node_alpha=1.0)\n",
    "hv.Sankey(df,kdims=['c1','c2'],vdims=['val'],edge_color='c2')\n",
    "                    "
   ]
  },
  {
   "cell_type": "markdown",
   "metadata": {},
   "source": [
    "## compare with consensus built from fewer cases"
   ]
  },
  {
   "cell_type": "code",
   "execution_count": null,
   "metadata": {},
   "outputs": [],
   "source": [
    "foo = Consensus()\n",
    "foo.scan()\n",
    "\n",
    "dic1 = foo.swdic\n",
    "classes1 = foo.classes"
   ]
  },
  {
   "cell_type": "code",
   "execution_count": null,
   "metadata": {},
   "outputs": [],
   "source": [
    "exec(open('Consensus.py','r').read())"
   ]
  },
  {
   "cell_type": "markdown",
   "metadata": {},
   "source": [
    "### compare with `cases=['deaths','cases','cases_nonlinr'],satthresh = 0.5`"
   ]
  },
  {
   "cell_type": "code",
   "execution_count": null,
   "metadata": {},
   "outputs": [],
   "source": [
    "fooo = Consensus(cases=['deaths','cases','cases_nonlinr'],satthresh = 0.5)\n",
    "fooo.scan()\n",
    "\n",
    "dic2= fooo.swdic"
   ]
  },
  {
   "cell_type": "code",
   "execution_count": null,
   "metadata": {},
   "outputs": [],
   "source": [
    "df = pd.DataFrame(columns=['c1','c2','val'])\n",
    "cnt=0\n",
    "for k in dic1:\n",
    "    adic[str(k)] = {}\n",
    "    Nk = len(dic1[k])\n",
    "    s1 = set(dic1[k])\n",
    "    for kk in dic2:\n",
    "        s2 = set(dic2[kk])\n",
    "        #olap = len(s1.intersection(s2))/float(Nk)\n",
    "        olap = len(s1.intersection(s2))\n",
    "        if olap > 0:\n",
    "            df.loc[cnt] = ['a'+str(k),'b'+str(kk),olap]\n",
    "            cnt = cnt+1\n"
   ]
  },
  {
   "cell_type": "code",
   "execution_count": null,
   "metadata": {},
   "outputs": [],
   "source": [
    "%%opts Sankey (cmap='Category10' edge_color='c1' edge_line_width=0 node_alpha=1.0)\n",
    "hv.Sankey(df,kdims=['c1','c2'],vdims=['val'],edge_color='c2')"
   ]
  },
  {
   "cell_type": "markdown",
   "metadata": {},
   "source": [
    "### compare with `cases=['deaths','cases_nonlinr']`"
   ]
  },
  {
   "cell_type": "code",
   "execution_count": null,
   "metadata": {},
   "outputs": [],
   "source": [
    "fooo = Consensus(cases=['deaths','cases_nonlinr'])\n",
    "fooo.scan()\n",
    "\n",
    "dic2= fooo.swdic"
   ]
  },
  {
   "cell_type": "code",
   "execution_count": null,
   "metadata": {},
   "outputs": [],
   "source": [
    "df = pd.DataFrame(columns=['c1','c2','val'])\n",
    "cnt=0\n",
    "for k in dic1:\n",
    "    adic[str(k)] = {}\n",
    "    Nk = len(dic1[k])\n",
    "    s1 = set(dic1[k])\n",
    "    for kk in dic2:\n",
    "        s2 = set(dic2[kk])\n",
    "        #olap = len(s1.intersection(s2))/float(Nk)\n",
    "        olap = len(s1.intersection(s2))\n",
    "        if olap > 0:\n",
    "            df.loc[cnt] = ['a'+str(k),'b'+str(kk),olap]\n",
    "            cnt = cnt+1\n"
   ]
  },
  {
   "cell_type": "code",
   "execution_count": null,
   "metadata": {},
   "outputs": [],
   "source": [
    "%%opts Sankey (cmap='Category10' edge_color='c1' edge_line_width=0 node_alpha=1.0)\n",
    "hv.Sankey(df,kdims=['c1','c2'],vdims=['val'],edge_color='c2')"
   ]
  },
  {
   "cell_type": "markdown",
   "metadata": {},
   "source": [
    "### compare with `cases=['deaths','cases_nonlinr'],satthresh = 0.5`"
   ]
  },
  {
   "cell_type": "code",
   "execution_count": null,
   "metadata": {},
   "outputs": [],
   "source": [
    "fooo = Consensus(cases=['deaths','cases_nonlinr'],satthresh = 0.5)\n",
    "fooo.scan()\n",
    "\n",
    "dic2= fooo.swdic"
   ]
  },
  {
   "cell_type": "code",
   "execution_count": null,
   "metadata": {},
   "outputs": [],
   "source": [
    "df = pd.DataFrame(columns=['c1','c2','val'])\n",
    "cnt=0\n",
    "for k in dic1:\n",
    "    adic[str(k)] = {}\n",
    "    Nk = len(dic1[k])\n",
    "    s1 = set(dic1[k])\n",
    "    for kk in dic2:\n",
    "        s2 = set(dic2[kk])\n",
    "        #olap = len(s1.intersection(s2))/float(Nk)\n",
    "        olap = len(s1.intersection(s2))\n",
    "        if olap > 0:\n",
    "            df.loc[cnt] = ['a'+str(k),'b'+str(kk),olap]\n",
    "            cnt = cnt+1\n"
   ]
  },
  {
   "cell_type": "code",
   "execution_count": null,
   "metadata": {},
   "outputs": [],
   "source": [
    "%%opts Sankey (cmap='Category10' edge_color='c1' edge_line_width=0 node_alpha=1.0)\n",
    "hv.Sankey(df,kdims=['c1','c2'],vdims=['val'],edge_color='c2')"
   ]
  },
  {
   "cell_type": "code",
   "execution_count": null,
   "metadata": {},
   "outputs": [],
   "source": [
    "fooo.make_map()"
   ]
  },
  {
   "cell_type": "code",
   "execution_count": null,
   "metadata": {},
   "outputs": [],
   "source": [
    "fooo.map"
   ]
  },
  {
   "cell_type": "code",
   "execution_count": null,
   "metadata": {},
   "outputs": [],
   "source": []
  }
 ],
 "metadata": {
  "kernelspec": {
   "display_name": "Python 3",
   "language": "python",
   "name": "python3"
  },
  "language_info": {
   "codemirror_mode": {
    "name": "ipython",
    "version": 3
   },
   "file_extension": ".py",
   "mimetype": "text/x-python",
   "name": "python",
   "nbconvert_exporter": "python",
   "pygments_lexer": "ipython3",
   "version": "3.7.4"
  },
  "toc": {
   "base_numbering": 1,
   "nav_menu": {},
   "number_sections": true,
   "sideBar": true,
   "skip_h1_title": false,
   "title_cell": "Table of Contents",
   "title_sidebar": "Contents",
   "toc_cell": false,
   "toc_position": {
    "height": "calc(100% - 180px)",
    "left": "10px",
    "top": "150px",
    "width": "243.75px"
   },
   "toc_section_display": true,
   "toc_window_display": true
  }
 },
 "nbformat": 4,
 "nbformat_minor": 4
}
