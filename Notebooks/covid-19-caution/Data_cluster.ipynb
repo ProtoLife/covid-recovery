{
 "cells": [
  {
   "cell_type": "code",
   "execution_count": 1,
   "metadata": {},
   "outputs": [
    {
     "data": {
      "text/html": [
       "<style>.container { width:100% !important; }</style>"
      ],
      "text/plain": [
       "<IPython.core.display.HTML object>"
      ]
     },
     "metadata": {},
     "output_type": "display_data"
    }
   ],
   "source": [
    "%matplotlib notebook\n",
    "import matplotlib\n",
    "import seaborn as sb\n",
    "from matplotlib import pyplot as plt\n",
    "import numpy as np\n",
    "import pandas as pd\n",
    "\n",
    "# Jupyter Specifics\n",
    "%matplotlib inline\n",
    "from IPython.display import display, HTML\n",
    "from ipywidgets.widgets import interact, interactive, IntSlider, FloatSlider, Layout, ToggleButton, ToggleButtons, fixed\n",
    "display(HTML(\"<style>.container { width:100% !important; }</style>\"))\n",
    "style = {'description_width': '100px'}\n",
    "slider_layout = Layout(width='99%')\n",
    "\n",
    "from time import time\n",
    "import pickle as pk"
   ]
  },
  {
   "cell_type": "markdown",
   "metadata": {},
   "source": [
    "# Cluster data setup"
   ]
  },
  {
   "cell_type": "code",
   "execution_count": 2,
   "metadata": {},
   "outputs": [],
   "source": [
    "from Cluster import *"
   ]
  },
  {
   "cell_type": "code",
   "execution_count": 3,
   "metadata": {},
   "outputs": [
    {
     "name": "stdout",
     "output_type": "stream",
     "text": [
      "reading in data from data_all_base ...\n",
      "elapsed:  6.630645990371704\n"
     ]
    }
   ],
   "source": [
    "bd = BaseData('data_all_base')"
   ]
  },
  {
   "cell_type": "code",
   "execution_count": 4,
   "metadata": {},
   "outputs": [
    {
     "name": "stdout",
     "output_type": "stream",
     "text": [
      "Constructing common synchronized deaths, case and testing data...\n",
      "database JHU report_correct True\n",
      "mindeaths 200 mindeathspm 0.1\n",
      "database JHU report correction True\n",
      "daysync 22 thresh for deaths 10 mindays 252\n",
      "No of big common countries is 116\n",
      "---------------------------------\n",
      "number of countries in total_deaths) 197\n",
      "number of countries in big 115\n",
      "synchronizing and trimming time series to common length...\n",
      "minfirstpeak 21 max possible length 298\n",
      "making cases with nonlinear testing adjustment...\n",
      "done.\n",
      "----------------------------------------\n",
      "Finished loading Cluster module\n",
      "----------------------------------------\n"
     ]
    }
   ],
   "source": [
    "ClData=ClusterData(bd,clusdtype='JRP1',cluster_data=False,report_correct=True,database='JHU',daysync=22,thresh=10,\n",
    "                 mindays=252, mindeaths=200,mindeathspm=0.1,syncat='first major peak',K=2)"
   ]
  },
  {
   "cell_type": "code",
   "execution_count": 5,
   "metadata": {},
   "outputs": [],
   "source": [
    "exec(open('ClusterFit.py','r').read())"
   ]
  },
  {
   "cell_type": "code",
   "execution_count": 6,
   "metadata": {
    "scrolled": true
   },
   "outputs": [
    {
     "name": "stdout",
     "output_type": "stream",
     "text": [
      "190 190 197 192\n",
      "countries in common: owid format\n",
      "['Afghanistan', 'Albania', 'Algeria', 'Andorra', 'Angola', 'Antigua and Barbuda', 'Argentina', 'Armenia', 'Austria', 'Azerbaijan', 'Bahamas', 'Bahrain', 'Bangladesh', 'Barbados', 'Belarus', 'Belgium', 'Belize', 'Benin', 'Bhutan', 'Bolivia', 'Bosnia and Herzegovina', 'Botswana', 'Brazil', 'Brunei', 'Bulgaria', 'Burkina Faso', 'Myanmar', 'Burundi', 'Cape Verde', 'Cambodia', 'Cameroon', 'Central African Republic', 'Chad', 'Chile', 'Colombia', 'Comoros', 'Congo', 'Democratic Republic of Congo', 'Costa Rica', \"Cote d'Ivoire\", 'Croatia', 'Cuba', 'Cyprus', 'Czechia', 'Denmark', 'Djibouti', 'Dominica', 'Dominican Republic', 'Ecuador', 'Egypt', 'El Salvador', 'Equatorial Guinea', 'Eritrea', 'Estonia', 'Eswatini', 'Ethiopia', 'Fiji', 'Finland', 'France', 'Gabon', 'Gambia', 'Georgia', 'Germany', 'Ghana', 'Greece', 'Grenada', 'Guatemala', 'Guinea', 'Guinea-Bissau', 'Guyana', 'Haiti', 'Vatican', 'Honduras', 'Hungary', 'Iceland', 'India', 'Indonesia', 'Iran', 'Iraq', 'Ireland', 'Israel', 'Italy', 'Jamaica', 'Japan', 'Jordan', 'Kazakhstan', 'Kenya', 'South Korea', 'Kosovo', 'Kuwait', 'Kyrgyzstan', 'Laos', 'Latvia', 'Lebanon', 'Lesotho', 'Liberia', 'Libya', 'Liechtenstein', 'Lithuania', 'Luxembourg', 'Madagascar', 'Malawi', 'Malaysia', 'Maldives', 'Mali', 'Malta', 'Marshall Islands', 'Mauritania', 'Mauritius', 'Mexico', 'Moldova', 'Monaco', 'Mongolia', 'Montenegro', 'Morocco', 'Mozambique', 'Namibia', 'Nepal', 'Netherlands', 'New Zealand', 'Nicaragua', 'Niger', 'Nigeria', 'North Macedonia', 'Norway', 'Oman', 'Pakistan', 'Panama', 'Papua New Guinea', 'Paraguay', 'Peru', 'Philippines', 'Poland', 'Portugal', 'Qatar', 'Romania', 'Russia', 'Rwanda', 'Saint Kitts and Nevis', 'Saint Lucia', 'Saint Vincent and the Grenadines', 'Samoa', 'San Marino', 'Sao Tome and Principe', 'Saudi Arabia', 'Senegal', 'Serbia', 'Seychelles', 'Sierra Leone', 'Singapore', 'Slovakia', 'Slovenia', 'Solomon Islands', 'Somalia', 'South Africa', 'South Sudan', 'Spain', 'Sri Lanka', 'Sudan', 'Suriname', 'Sweden', 'Switzerland', 'Syria', 'Taiwan', 'Tajikistan', 'Tanzania', 'Thailand', 'Timor', 'Togo', 'Trinidad and Tobago', 'Tunisia', 'Turkey', 'United States', 'Uganda', 'Ukraine', 'United Arab Emirates', 'United Kingdom', 'Uruguay', 'Uzbekistan', 'Vanuatu', 'Venezuela', 'Vietnam', 'Palestine', 'Yemen', 'Zambia', 'Zimbabwe', 'World', 'Australia', 'Canada', 'China']\n",
      "\n",
      "owid countries not in common set\n",
      "{'Europe', 'North America', 'Middle_East', 'Africa', 'Oceania', 'South America', 'Asia'}\n",
      "\n",
      "countries in common: jhu format\n",
      "[('Afghanistan', ''), ('Albania', ''), ('Algeria', ''), ('Andorra', ''), ('Angola', ''), ('Antigua and Barbuda', ''), ('Argentina', ''), ('Armenia', ''), ('Austria', ''), ('Azerbaijan', ''), ('Bahamas', ''), ('Bahrain', ''), ('Bangladesh', ''), ('Barbados', ''), ('Belarus', ''), ('Belgium', ''), ('Belize', ''), ('Benin', ''), ('Bhutan', ''), ('Bolivia', ''), ('Bosnia and Herzegovina', ''), ('Botswana', ''), ('Brazil', ''), ('Brunei', ''), ('Bulgaria', ''), ('Burkina Faso', ''), ('Burma', ''), ('Burundi', ''), ('Cabo Verde', ''), ('Cambodia', ''), ('Cameroon', ''), ('Central African Republic', ''), ('Chad', ''), ('Chile', ''), ('Colombia', ''), ('Comoros', ''), ('Congo (Brazzaville)', ''), ('Congo (Kinshasa)', ''), ('Costa Rica', ''), (\"Cote d'Ivoire\", ''), ('Croatia', ''), ('Cuba', ''), ('Cyprus', ''), ('Czechia', ''), ('Denmark', ''), ('Djibouti', ''), ('Dominica', ''), ('Dominican Republic', ''), ('Ecuador', ''), ('Egypt', ''), ('El Salvador', ''), ('Equatorial Guinea', ''), ('Eritrea', ''), ('Estonia', ''), ('Eswatini', ''), ('Ethiopia', ''), ('Fiji', ''), ('Finland', ''), ('France', ''), ('Gabon', ''), ('Gambia', ''), ('Georgia', ''), ('Germany', ''), ('Ghana', ''), ('Greece', ''), ('Grenada', ''), ('Guatemala', ''), ('Guinea', ''), ('Guinea-Bissau', ''), ('Guyana', ''), ('Haiti', ''), ('Holy See', ''), ('Honduras', ''), ('Hungary', ''), ('Iceland', ''), ('India', ''), ('Indonesia', ''), ('Iran', ''), ('Iraq', ''), ('Ireland', ''), ('Israel', ''), ('Italy', ''), ('Jamaica', ''), ('Japan', ''), ('Jordan', ''), ('Kazakhstan', ''), ('Kenya', ''), ('Korea, South', ''), ('Kosovo', ''), ('Kuwait', ''), ('Kyrgyzstan', ''), ('Laos', ''), ('Latvia', ''), ('Lebanon', ''), ('Lesotho', ''), ('Liberia', ''), ('Libya', ''), ('Liechtenstein', ''), ('Lithuania', ''), ('Luxembourg', ''), ('Madagascar', ''), ('Malawi', ''), ('Malaysia', ''), ('Maldives', ''), ('Mali', ''), ('Malta', ''), ('Marshall Islands', ''), ('Mauritania', ''), ('Mauritius', ''), ('Mexico', ''), ('Moldova', ''), ('Monaco', ''), ('Mongolia', ''), ('Montenegro', ''), ('Morocco', ''), ('Mozambique', ''), ('Namibia', ''), ('Nepal', ''), ('Netherlands', ''), ('New Zealand', ''), ('Nicaragua', ''), ('Niger', ''), ('Nigeria', ''), ('North Macedonia', ''), ('Norway', ''), ('Oman', ''), ('Pakistan', ''), ('Panama', ''), ('Papua New Guinea', ''), ('Paraguay', ''), ('Peru', ''), ('Philippines', ''), ('Poland', ''), ('Portugal', ''), ('Qatar', ''), ('Romania', ''), ('Russia', ''), ('Rwanda', ''), ('Saint Kitts and Nevis', ''), ('Saint Lucia', ''), ('Saint Vincent and the Grenadines', ''), ('Samoa', ''), ('San Marino', ''), ('Sao Tome and Principe', ''), ('Saudi Arabia', ''), ('Senegal', ''), ('Serbia', ''), ('Seychelles', ''), ('Sierra Leone', ''), ('Singapore', ''), ('Slovakia', ''), ('Slovenia', ''), ('Solomon Islands', ''), ('Somalia', ''), ('South Africa', ''), ('South Sudan', ''), ('Spain', ''), ('Sri Lanka', ''), ('Sudan', ''), ('Suriname', ''), ('Sweden', ''), ('Switzerland', ''), ('Syria', ''), ('Taiwan*', ''), ('Tajikistan', ''), ('Tanzania', ''), ('Thailand', ''), ('Timor-Leste', ''), ('Togo', ''), ('Trinidad and Tobago', ''), ('Tunisia', ''), ('Turkey', ''), ('US', ''), ('Uganda', ''), ('Ukraine', ''), ('United Arab Emirates', ''), ('United Kingdom', ''), ('Uruguay', ''), ('Uzbekistan', ''), ('Vanuatu', ''), ('Venezuela', ''), ('Vietnam', ''), ('West Bank and Gaza', ''), ('Yemen', ''), ('Zambia', ''), ('Zimbabwe', ''), ('World', ''), ('Australia', ''), ('Canada', ''), ('China', '')]\n",
      "\n",
      "116 bcountries ['Afghanistan', 'Albania', 'Algeria', 'Angola', 'Argentina', 'Armenia', 'Austria', 'Azerbaijan', 'Bahrain', 'Bangladesh', 'Belarus', 'Belgium', 'Bolivia', 'Bosnia and Herzegovina', 'Brazil', 'Bulgaria', 'Myanmar', 'Cameroon', 'Chile', 'Colombia', 'Costa Rica', 'Croatia', 'Czechia', 'Denmark', 'Dominican Republic', 'Ecuador', 'Egypt', 'El Salvador', 'Ethiopia', 'Finland', 'France', 'Georgia', 'Germany', 'Ghana', 'Greece', 'Guatemala', 'Haiti', 'Honduras', 'Hungary', 'India', 'Indonesia', 'Iran', 'Iraq', 'Ireland', 'Israel', 'Italy', 'Jamaica', 'Japan', 'Jordan', 'Kazakhstan', 'Kenya', 'South Korea', 'Kosovo', 'Kuwait', 'Kyrgyzstan', 'Latvia', 'Lebanon', 'Libya', 'Lithuania', 'Luxembourg', 'Madagascar', 'Malaysia', 'Mexico', 'Moldova', 'Montenegro', 'Morocco', 'Nepal', 'Netherlands', 'North Macedonia', 'Norway', 'Oman', 'Pakistan', 'Panama', 'Paraguay', 'Peru', 'Philippines', 'Poland', 'Portugal', 'Qatar', 'Romania', 'Russia', 'Saudi Arabia', 'Senegal', 'Serbia', 'Slovakia', 'Slovenia', 'South Africa', 'Spain', 'Sudan', 'Sweden', 'Switzerland', 'Syria', 'Tunisia', 'Turkey', 'United States', 'Uganda', 'Ukraine', 'United Arab Emirates', 'United Kingdom', 'Uzbekistan', 'Venezuela', 'Palestine', 'Yemen', 'Zambia', 'Zimbabwe', 'World', 'Australia', 'Canada', 'Africa', 'North America', 'Europe', 'Asia', 'Middle_East', 'Oceania', 'South America', 'Middle_East']\n"
     ]
    }
   ],
   "source": [
    "print(len(bd.countries_jhu_4_owid),len(bd.countries_jhu_2_owid),len(bd.countries_owid),len(bd.countries_jhu))\n",
    "print('countries in common: owid format')\n",
    "print(bd.countries_jhu_2_owid)\n",
    "print('')\n",
    "print('owid countries not in common set')\n",
    "print(set(bd.countries_owid)-set(bd.countries_jhu_2_owid))\n",
    "print('')\n",
    "print('countries in common: jhu format')\n",
    "print(bd.countries_owid_to_jhu)\n",
    "print('')\n",
    "print(len(ClData.bcountries),'bcountries',ClData.bcountries)"
   ]
  },
  {
   "cell_type": "code",
   "execution_count": 7,
   "metadata": {
    "scrolled": true
   },
   "outputs": [
    {
     "data": {
      "text/plain": [
       "['deaths',\n",
       " 'cases',\n",
       " 'cases_lin2020',\n",
       " 'cases_pwlfit',\n",
       " 'cases_nonlin',\n",
       " 'cases_nonlinr']"
      ]
     },
     "execution_count": 7,
     "metadata": {},
     "output_type": "execute_result"
    }
   ],
   "source": [
    "clusdata_all = ClData.clusdata_all\n",
    "bcountries = ClData.bcountries\n",
    "datasets = [c for c in clusdata_all]\n",
    "datasets"
   ]
  },
  {
   "cell_type": "code",
   "execution_count": 8,
   "metadata": {
    "scrolled": true
   },
   "outputs": [],
   "source": [
    "d_countries = [c for c in clusdata_all['deaths']]\n",
    "c_countries = [c for c in clusdata_all['cases']]\n",
    "lc_countries = [c for c in clusdata_all['cases_lin2020']]\n",
    "pc_countries = [c for c in clusdata_all['cases_pwlfit']]\n",
    "nc_countries = [c for c in clusdata_all['cases_nonlin']]\n",
    "\n",
    "countries = d_countries"
   ]
  },
  {
   "cell_type": "code",
   "execution_count": 9,
   "metadata": {
    "scrolled": true
   },
   "outputs": [
    {
     "name": "stdout",
     "output_type": "stream",
     "text": [
      "58\n",
      "['Afghanistan' 'Africa' 'Albania' 'Algeria' 'Angola' 'Asia' 'Australia'\n",
      " 'Austria' 'Bahrain' 'Belarus' 'Belgium' 'Bosnia and Herzegovina'\n",
      " 'Cameroon' 'Czechia' 'Denmark' 'Dominican Republic' 'Ecuador'\n",
      " 'El Salvador' 'Europe' 'France' 'Germany' 'Ghana' 'Haiti' 'Honduras'\n",
      " 'Indonesia' 'Iran' 'Ireland' 'Israel' 'Italy' 'Jamaica' 'Japan' 'Lebanon'\n",
      " 'Lithuania' 'Luxembourg' 'Malaysia' 'Middle_East' 'Moldova' 'Morocco'\n",
      " 'Netherlands' 'North Macedonia' 'Norway' 'Oceania' 'Philippines'\n",
      " 'Portugal' 'Qatar' 'Saudi Arabia' 'Serbia' 'Slovenia' 'South Korea'\n",
      " 'Spain' 'Sweden' 'Switzerland' 'Syria' 'Turkey' 'United Arab Emirates'\n",
      " 'United Kingdom' 'Venezuela' 'World']\n"
     ]
    }
   ],
   "source": [
    "print(len(d_countries))\n",
    "print(np.sort(d_countries))"
   ]
  },
  {
   "cell_type": "code",
   "execution_count": 10,
   "metadata": {
    "scrolled": true
   },
   "outputs": [
    {
     "name": "stdout",
     "output_type": "stream",
     "text": [
      "[58, 58, 58, 58, 58]\n",
      "[True, True, True, True, True]\n",
      "[True, True, True, True, True]\n",
      "[True, True, True, True, True]\n",
      "[True, True, True, True, True]\n",
      "[True, True, True, True, True]\n"
     ]
    },
    {
     "ename": "KeyError",
     "evalue": "'United States'",
     "output_type": "error",
     "traceback": [
      "\u001b[0;31m---------------------------------------------------------------------------\u001b[0m",
      "\u001b[0;31mKeyError\u001b[0m                                  Traceback (most recent call last)",
      "\u001b[0;32m<ipython-input-10-c751a4766e90>\u001b[0m in \u001b[0;36m<module>\u001b[0;34m\u001b[0m\n\u001b[1;32m      5\u001b[0m \u001b[0;32mfor\u001b[0m \u001b[0mccs1\u001b[0m \u001b[0;32min\u001b[0m \u001b[0mcountrysets\u001b[0m\u001b[0;34m:\u001b[0m\u001b[0;34m\u001b[0m\u001b[0;34m\u001b[0m\u001b[0m\n\u001b[1;32m      6\u001b[0m     \u001b[0mprint\u001b[0m\u001b[0;34m(\u001b[0m\u001b[0;34m[\u001b[0m\u001b[0mccs1\u001b[0m \u001b[0;34m==\u001b[0m \u001b[0mccs2\u001b[0m \u001b[0;32mfor\u001b[0m \u001b[0mccs2\u001b[0m \u001b[0;32min\u001b[0m \u001b[0mcountrysets\u001b[0m\u001b[0;34m]\u001b[0m\u001b[0;34m)\u001b[0m\u001b[0;34m\u001b[0m\u001b[0;34m\u001b[0m\u001b[0m\n\u001b[0;32m----> 7\u001b[0;31m \u001b[0mprint\u001b[0m\u001b[0;34m(\u001b[0m\u001b[0;34m[\u001b[0m\u001b[0mlen\u001b[0m\u001b[0;34m(\u001b[0m\u001b[0mclusdata_all\u001b[0m\u001b[0;34m[\u001b[0m\u001b[0md1\u001b[0m\u001b[0;34m]\u001b[0m\u001b[0;34m[\u001b[0m\u001b[0;34m'United States'\u001b[0m\u001b[0;34m]\u001b[0m\u001b[0;34m)\u001b[0m \u001b[0;32mfor\u001b[0m \u001b[0md1\u001b[0m \u001b[0;32min\u001b[0m \u001b[0mdatasets\u001b[0m\u001b[0;34m]\u001b[0m\u001b[0;34m)\u001b[0m\u001b[0;34m\u001b[0m\u001b[0;34m\u001b[0m\u001b[0m\n\u001b[0m\u001b[1;32m      8\u001b[0m \u001b[0;31m# print(len(total_deaths_x['dates']),len(total_cases_x['dates']),len(testing_x['dates']),total_deaths_x['dates'][0],total_cases_x['dates'][0],testing_x['dates'][0])\u001b[0m\u001b[0;34m\u001b[0m\u001b[0;34m\u001b[0m\u001b[0;34m\u001b[0m\u001b[0m\n",
      "\u001b[0;32m<ipython-input-10-c751a4766e90>\u001b[0m in \u001b[0;36m<listcomp>\u001b[0;34m(.0)\u001b[0m\n\u001b[1;32m      5\u001b[0m \u001b[0;32mfor\u001b[0m \u001b[0mccs1\u001b[0m \u001b[0;32min\u001b[0m \u001b[0mcountrysets\u001b[0m\u001b[0;34m:\u001b[0m\u001b[0;34m\u001b[0m\u001b[0;34m\u001b[0m\u001b[0m\n\u001b[1;32m      6\u001b[0m     \u001b[0mprint\u001b[0m\u001b[0;34m(\u001b[0m\u001b[0;34m[\u001b[0m\u001b[0mccs1\u001b[0m \u001b[0;34m==\u001b[0m \u001b[0mccs2\u001b[0m \u001b[0;32mfor\u001b[0m \u001b[0mccs2\u001b[0m \u001b[0;32min\u001b[0m \u001b[0mcountrysets\u001b[0m\u001b[0;34m]\u001b[0m\u001b[0;34m)\u001b[0m\u001b[0;34m\u001b[0m\u001b[0;34m\u001b[0m\u001b[0m\n\u001b[0;32m----> 7\u001b[0;31m \u001b[0mprint\u001b[0m\u001b[0;34m(\u001b[0m\u001b[0;34m[\u001b[0m\u001b[0mlen\u001b[0m\u001b[0;34m(\u001b[0m\u001b[0mclusdata_all\u001b[0m\u001b[0;34m[\u001b[0m\u001b[0md1\u001b[0m\u001b[0;34m]\u001b[0m\u001b[0;34m[\u001b[0m\u001b[0;34m'United States'\u001b[0m\u001b[0;34m]\u001b[0m\u001b[0;34m)\u001b[0m \u001b[0;32mfor\u001b[0m \u001b[0md1\u001b[0m \u001b[0;32min\u001b[0m \u001b[0mdatasets\u001b[0m\u001b[0;34m]\u001b[0m\u001b[0;34m)\u001b[0m\u001b[0;34m\u001b[0m\u001b[0;34m\u001b[0m\u001b[0m\n\u001b[0m\u001b[1;32m      8\u001b[0m \u001b[0;31m# print(len(total_deaths_x['dates']),len(total_cases_x['dates']),len(testing_x['dates']),total_deaths_x['dates'][0],total_cases_x['dates'][0],testing_x['dates'][0])\u001b[0m\u001b[0;34m\u001b[0m\u001b[0;34m\u001b[0m\u001b[0;34m\u001b[0m\u001b[0m\n",
      "\u001b[0;31mKeyError\u001b[0m: 'United States'"
     ]
    }
   ],
   "source": [
    "# check that all country sets being used are the same and check time series lengths and starting dates\n",
    "# 79 countries with Oct 27 finish and with mindeaths=100 and mindays=150 and mindeathspm = 0.5\n",
    "countrysets = [d_countries,c_countries,lc_countries,pc_countries,nc_countries]\n",
    "print([len(ccs) for ccs in countrysets])\n",
    "for ccs1 in countrysets:\n",
    "    print([ccs1 == ccs2 for ccs2 in countrysets])\n",
    "print([len(clusdata_all[d1]['United States']) for d1 in datasets])\n",
    "# print(len(total_deaths_x['dates']),len(total_cases_x['dates']),len(testing_x['dates']),total_deaths_x['dates'][0],total_cases_x['dates'][0],testing_x['dates'][0])"
   ]
  },
  {
   "cell_type": "code",
   "execution_count": null,
   "metadata": {
    "scrolled": true
   },
   "outputs": [],
   "source": [
    "bd.covid_owid[0].keys()"
   ]
  },
  {
   "cell_type": "code",
   "execution_count": null,
   "metadata": {
    "scrolled": true
   },
   "outputs": [],
   "source": [
    "bd.covid_ts.keys()"
   ]
  },
  {
   "cell_type": "code",
   "execution_count": null,
   "metadata": {
    "scrolled": true
   },
   "outputs": [],
   "source": [
    "bd.covid_owid_ts.keys()"
   ]
  },
  {
   "cell_type": "markdown",
   "metadata": {},
   "source": [
    "# Data save\n",
    "\n",
    "Execute this section once to produce file `data_cluster_... .pk`."
   ]
  },
  {
   "cell_type": "code",
   "execution_count": null,
   "metadata": {},
   "outputs": [],
   "source": [
    "allnmsc = ['ClData']\n",
    "data_allc = {nm:eval(nm) for nm in allnmsc}"
   ]
  },
  {
   "cell_type": "code",
   "execution_count": null,
   "metadata": {
    "scrolled": true
   },
   "outputs": [],
   "source": [
    "start = time()\n",
    "pk.dump(data_allc,open('./pks/data_cluster_'+ClData.clusdtype+'.pk','wb'))\n",
    "print('elapsed: ',time()-start)"
   ]
  },
  {
   "cell_type": "code",
   "execution_count": null,
   "metadata": {},
   "outputs": [],
   "source": [
    "[x for x in dir(ClData) if '__' not in x]"
   ]
  },
  {
   "cell_type": "markdown",
   "metadata": {},
   "source": [
    "# Data Load\n",
    "\n",
    "Use this code to read in the data, e.g. at the top of another notebook, as an alternative to loading data.py or Cluster.py"
   ]
  },
  {
   "cell_type": "code",
   "execution_count": null,
   "metadata": {},
   "outputs": [],
   "source": [
    "# read in cluster data, cell can be used in other notebooks, but then\n",
    "# the rhs of following line needs to be replaced by suffix of cluster data name (created when cluster data constructed)\n",
    "clusdtype = ClData.clusdtype\n",
    "# clusdtype = 'JRP1'  # e.g. for first version   \n",
    "\n",
    "start=time()\n",
    "print('reading in data...')\n",
    "with open('./pks/data_cluster_'+ClData.clusdtype+'.pk','rb') as fp:\n",
    "    foo = pk.load(fp)\n",
    "print('elapsed: ',time()-start)\n",
    "\n",
    "# make each element of the dictionary a global variable named with key:\n",
    "for x in foo:\n",
    "    stmp = x+\"= foo['\"+x+\"']\"\n",
    "    exec(stmp)"
   ]
  },
  {
   "cell_type": "code",
   "execution_count": null,
   "metadata": {},
   "outputs": [],
   "source": []
  }
 ],
 "metadata": {
  "hide_input": false,
  "kernelspec": {
   "display_name": "Python 3",
   "language": "python",
   "name": "python3"
  },
  "language_info": {
   "codemirror_mode": {
    "name": "ipython",
    "version": 3
   },
   "file_extension": ".py",
   "mimetype": "text/x-python",
   "name": "python",
   "nbconvert_exporter": "python",
   "pygments_lexer": "ipython3",
   "version": "3.7.4"
  },
  "toc": {
   "base_numbering": 1,
   "nav_menu": {
    "height": "341px",
    "width": "225px"
   },
   "number_sections": true,
   "sideBar": true,
   "skip_h1_title": false,
   "title_cell": "Table of Contents",
   "title_sidebar": "Contents",
   "toc_cell": false,
   "toc_position": {
    "height": "calc(100% - 180px)",
    "left": "10px",
    "top": "150px",
    "width": "294.0625px"
   },
   "toc_section_display": true,
   "toc_window_display": false
  }
 },
 "nbformat": 4,
 "nbformat_minor": 4
}
