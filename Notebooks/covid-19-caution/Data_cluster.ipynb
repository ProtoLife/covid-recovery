{
 "cells": [
  {
   "cell_type": "code",
   "execution_count": 1,
   "metadata": {},
   "outputs": [
    {
     "data": {
      "text/html": [
       "<style>.container { width:100% !important; }</style>"
      ],
      "text/plain": [
       "<IPython.core.display.HTML object>"
      ]
     },
     "metadata": {},
     "output_type": "display_data"
    }
   ],
   "source": [
    "%matplotlib notebook\n",
    "import matplotlib\n",
    "import seaborn as sb\n",
    "from matplotlib import pyplot as plt\n",
    "import numpy as np\n",
    "import pandas as pd\n",
    "\n",
    "# Jupyter Specifics\n",
    "%matplotlib inline\n",
    "from IPython.display import display, HTML\n",
    "from ipywidgets.widgets import interact, interactive, IntSlider, FloatSlider, Layout, ToggleButton, ToggleButtons, fixed\n",
    "display(HTML(\"<style>.container { width:100% !important; }</style>\"))\n",
    "style = {'description_width': '100px'}\n",
    "slider_layout = Layout(width='99%')\n",
    "\n",
    "from time import time\n",
    "import pickle as pk"
   ]
  },
  {
   "cell_type": "markdown",
   "metadata": {},
   "source": [
    "# Cluster data setup"
   ]
  },
  {
   "cell_type": "code",
   "execution_count": 2,
   "metadata": {},
   "outputs": [],
   "source": [
    "from Cluster import *"
   ]
  },
  {
   "cell_type": "code",
   "execution_count": 3,
   "metadata": {},
   "outputs": [
    {
     "name": "stdout",
     "output_type": "stream",
     "text": [
      "reading in data from data_all_base ...\n",
      "elapsed:  6.991665840148926\n",
      "Constructing common synchronized deaths, case and testing data...\n",
      "database JHU report_correct True\n",
      "mindeaths 200 mindeathspm 0.1\n",
      "database JHU report correction True\n",
      "daysync 23 thresh for deaths 10 mindays 150\n",
      "No of big common countries is 99\n",
      "---------------------------------\n",
      "number of countries in total_deaths) 187\n",
      "number of countries in big 99\n",
      "synchronizing and trimming time series to common length...\n",
      "making cases with nonlinear testing adjustment...\n",
      "done.\n",
      "to change the nonlinear correction function, call make_cases_adj_nonlin(K), K=2 by default\n",
      "----------------------------------------\n",
      "Finished loading Cluster module\n",
      "----------------------------------------\n"
     ]
    }
   ],
   "source": [
    "ClData=ClusterData(base_data='data_all_base',cluster_data=False,report_correct=True,database='JHU',daysync=23,thresh=10,\n",
    "                 mindays=150, mindeaths=200,mindeathspm=0.1,syncat='first major peak',K=2)"
   ]
  },
  {
   "cell_type": "code",
   "execution_count": null,
   "metadata": {},
   "outputs": [],
   "source": [
    "exec(open('ClusterFit.py','r').read())"
   ]
  },
  {
   "cell_type": "code",
   "execution_count": 4,
   "metadata": {
    "scrolled": false
   },
   "outputs": [
    {
     "name": "stdout",
     "output_type": "stream",
     "text": [
      "Constructing common synchronized deaths, case and testing data...\n",
      "mindeaths 200 mindeathspm 0.1\n",
      "database JHU report correction True\n",
      "daysync 23 thresh for deaths 10 mindays 150\n"
     ]
    },
    {
     "ename": "NameError",
     "evalue": "name 'total_deaths_cs_jhu' is not defined",
     "output_type": "error",
     "traceback": [
      "\u001b[0;31m---------------------------------------------------------------------------\u001b[0m",
      "\u001b[0;31mNameError\u001b[0m                                 Traceback (most recent call last)",
      "\u001b[0;32m<ipython-input-4-74ca43ce1d6d>\u001b[0m in \u001b[0;36m<module>\u001b[0;34m\u001b[0m\n\u001b[1;32m      4\u001b[0m \u001b[0mdata_config\u001b[0m\u001b[0;34m.\u001b[0m\u001b[0mdata_loaded\u001b[0m \u001b[0;34m=\u001b[0m \u001b[0;32mTrue\u001b[0m\u001b[0;34m\u001b[0m\u001b[0;34m\u001b[0m\u001b[0m\n\u001b[1;32m      5\u001b[0m \u001b[0mclusdtype\u001b[0m \u001b[0;34m=\u001b[0m \u001b[0;34m'jhu_cor_sync1stpeak'\u001b[0m\u001b[0;34m\u001b[0m\u001b[0;34m\u001b[0m\u001b[0m\n\u001b[0;32m----> 6\u001b[0;31m \u001b[0;32mfrom\u001b[0m \u001b[0mCluster\u001b[0m \u001b[0;32mimport\u001b[0m \u001b[0;34m*\u001b[0m\u001b[0;34m\u001b[0m\u001b[0;34m\u001b[0m\u001b[0m\n\u001b[0m",
      "\u001b[0;32m~/projects/Covid-19/covid-recovery/Notebooks/covid-19-caution/Cluster.py\u001b[0m in \u001b[0;36m<module>\u001b[0;34m\u001b[0m\n\u001b[1;32m    107\u001b[0m     \u001b[0;32melif\u001b[0m \u001b[0mdatabase\u001b[0m \u001b[0;34m==\u001b[0m \u001b[0;34m'JHU'\u001b[0m\u001b[0;34m:\u001b[0m\u001b[0;34m\u001b[0m\u001b[0;34m\u001b[0m\u001b[0m\n\u001b[1;32m    108\u001b[0m         \u001b[0;32mif\u001b[0m \u001b[0mreport_correct\u001b[0m\u001b[0;34m:\u001b[0m\u001b[0;34m\u001b[0m\u001b[0;34m\u001b[0m\u001b[0m\n\u001b[0;32m--> 109\u001b[0;31m             \u001b[0mtotal_deaths\u001b[0m \u001b[0;34m=\u001b[0m \u001b[0mtotal_deaths_cs_jhu\u001b[0m\u001b[0;34m\u001b[0m\u001b[0;34m\u001b[0m\u001b[0m\n\u001b[0m\u001b[1;32m    110\u001b[0m             \u001b[0mnew_deaths_spm\u001b[0m \u001b[0;34m=\u001b[0m \u001b[0mnew_deaths_c_spm_jhu\u001b[0m\u001b[0;34m\u001b[0m\u001b[0;34m\u001b[0m\u001b[0m\n\u001b[1;32m    111\u001b[0m             \u001b[0mnew_cases_spm\u001b[0m \u001b[0;34m=\u001b[0m \u001b[0mnew_cases_c_spm_jhu\u001b[0m\u001b[0;34m\u001b[0m\u001b[0;34m\u001b[0m\u001b[0m\n",
      "\u001b[0;31mNameError\u001b[0m: name 'total_deaths_cs_jhu' is not defined"
     ]
    }
   ],
   "source": [
    "# new module data_config imported by data.py as well as Cluster.py\n",
    "import data_config\n",
    "data_config.report_correct = True\n",
    "data_config.data_loaded = True\n",
    "clusdtype = 'jhu_cor_sync1stpeak'\n",
    "from Cluster import *"
   ]
  },
  {
   "cell_type": "code",
   "execution_count": null,
   "metadata": {
    "scrolled": true
   },
   "outputs": [],
   "source": [
    "print(len(countries_jhu_4_owid),len(countries_jhu_2_owid),len(countries_owid),len(countries_jhu))\n",
    "print('countries in common: owid format')\n",
    "print(countries_jhu_2_owid)\n",
    "print('')\n",
    "print('owid countries not in common set')\n",
    "print(set(countries_owid)-set(countries_jhu_2_owid))\n",
    "print('')\n",
    "print('countries in common: jhu format')\n",
    "print(countries_owid_to_jhu)\n",
    "print('')\n",
    "print(len(bcountries),'bcountries',bcountries)"
   ]
  },
  {
   "cell_type": "code",
   "execution_count": null,
   "metadata": {
    "scrolled": true
   },
   "outputs": [],
   "source": [
    "cases = [c for c in clusdata_all]\n",
    "cases"
   ]
  },
  {
   "cell_type": "code",
   "execution_count": null,
   "metadata": {
    "scrolled": true
   },
   "outputs": [],
   "source": [
    "datasets = ['deaths','cases','cases_lin2020','cases_pwlfit','cases_nonlin']\n",
    "\n",
    "d_countries = [c for c in clusdata_all['deaths']]\n",
    "c_countries = [c for c in clusdata_all['cases']]\n",
    "lc_countries = [c for c in clusdata_all['cases_lin2020']]\n",
    "pc_countries = [c for c in clusdata_all['cases_pwlfit']]\n",
    "nc_countries = [c for c in clusdata_all['cases_nonlin']]\n",
    "\n",
    "countries = d_countries"
   ]
  },
  {
   "cell_type": "code",
   "execution_count": null,
   "metadata": {
    "scrolled": true
   },
   "outputs": [],
   "source": [
    "print(len(d_countries))\n",
    "print(np.sort(d_countries))"
   ]
  },
  {
   "cell_type": "code",
   "execution_count": null,
   "metadata": {
    "scrolled": true
   },
   "outputs": [],
   "source": [
    "# check that all country sets being used are the same and check time series lengths and starting dates\n",
    "# 79 countries with Oct 27 finish and with mindeaths=100 and mindays=150 and mindeathspm = 0.5\n",
    "countrysets = [d_countries,c_countries,lc_countries,pc_countries,nc_countries]\n",
    "print([len(ccs) for ccs in countrysets])\n",
    "for ccs1 in countrysets:\n",
    "    print([ccs1 == ccs2 for ccs2 in countrysets])\n",
    "print([len(clusdata_all[d1]['United States']) for d1 in datasets])\n",
    "# print(len(total_deaths_x['dates']),len(total_cases_x['dates']),len(testing_x['dates']),total_deaths_x['dates'][0],total_cases_x['dates'][0],testing_x['dates'][0])"
   ]
  },
  {
   "cell_type": "code",
   "execution_count": null,
   "metadata": {
    "scrolled": true
   },
   "outputs": [],
   "source": [
    "covid_owid[0].keys()"
   ]
  },
  {
   "cell_type": "code",
   "execution_count": null,
   "metadata": {
    "scrolled": true
   },
   "outputs": [],
   "source": [
    "covid_ts.keys()"
   ]
  },
  {
   "cell_type": "code",
   "execution_count": null,
   "metadata": {
    "scrolled": true
   },
   "outputs": [],
   "source": [
    "covid_owid_ts.keys()"
   ]
  },
  {
   "cell_type": "markdown",
   "metadata": {},
   "source": [
    "# Data save\n",
    "\n",
    "Execute this section once to produce file `data_all.pk`."
   ]
  },
  {
   "cell_type": "code",
   "execution_count": null,
   "metadata": {},
   "outputs": [],
   "source": [
    "miscnms = ['clusdata_all','cases','datasets','contact_dic','age_group_dic']"
   ]
  },
  {
   "cell_type": "code",
   "execution_count": null,
   "metadata": {},
   "outputs": [],
   "source": [
    "deathnms = [x for x in dir() if 'deaths' in x]"
   ]
  },
  {
   "cell_type": "code",
   "execution_count": null,
   "metadata": {},
   "outputs": [],
   "source": [
    "casenms = [x for x in dir() if 'cases' in x if not callable(eval(x))]"
   ]
  },
  {
   "cell_type": "code",
   "execution_count": null,
   "metadata": {},
   "outputs": [],
   "source": [
    "covidnms = [x for x in dir() if 'covid' in x]"
   ]
  },
  {
   "cell_type": "code",
   "execution_count": null,
   "metadata": {},
   "outputs": [],
   "source": [
    "popnms = [x for x in dir() if 'population' in x]"
   ]
  },
  {
   "cell_type": "code",
   "execution_count": null,
   "metadata": {},
   "outputs": [],
   "source": [
    "# lccountries is type dict_keys, which can't be pickled\n",
    "countrynms = [x for x in dir() if 'countr' in x and x is not 'lccountries' and not callable(eval(x))]\n",
    "countrynms = [x for x in dir() if 'countr' in x and (isinstance(eval(x),dict) or isinstance(eval(x),list) or isinstance(eval(x),tuple))]"
   ]
  },
  {
   "cell_type": "code",
   "execution_count": null,
   "metadata": {},
   "outputs": [],
   "source": [
    "allnms = countrynms + covidnms + miscnms + deathnms + casenms + popnms\n",
    "allnmsc = list(set(allnms)-set(allnmsdb))\n",
    "data_allc = {nm:eval(nm) for nm in allnmsc}"
   ]
  },
  {
   "cell_type": "code",
   "execution_count": null,
   "metadata": {},
   "outputs": [],
   "source": [
    "['bcountries',\n",
    " 'bcountries_1',\n",
    " 'big_cases',\n",
    " 'c_countries',\n",
    " 'cases',\n",
    " 'cases_adj_lin2020',\n",
    " 'cases_adj_nonlin',\n",
    " 'cases_adj_nonlinr',\n",
    " 'cases_adj_pwlfit',\n",
    " 'cases_raw',\n",
    " 'clusdata_all',\n",
    " 'countries',\n",
    " 'countrysets',\n",
    " 'covidnms',\n",
    " 'datasets',\n",
    " 'deaths_raw',\n",
    " 'lc_countries',\n",
    " 'lcountries',\n",
    " 'longshort_cases',\n",
    " 'longshort_cases_c',\n",
    " 'longshort_cases_est',\n",
    " 'mindeaths',\n",
    " 'mindeathspm',\n",
    " 'nc_countries',\n",
    " 'new_cases_spm',\n",
    " 'new_deaths_spm',\n",
    " 'pc_countries',\n",
    " 'short_cases',\n",
    " 'short_cases_c',\n",
    " 'short_cases_est',\n",
    " 'short_deaths',\n",
    " 'short_deaths_c',\n",
    " 'short_deaths_est',\n",
    " 'total_deaths']\n",
    "data_allc = {nm:eval(nm) for nm in allnmsc}"
   ]
  },
  {
   "cell_type": "code",
   "execution_count": null,
   "metadata": {
    "scrolled": true
   },
   "outputs": [],
   "source": [
    "start = time()\n",
    "pk.dump(data_allc,open('./pks/data_cluster_'+clusdtype+'.pk','wb'))\n",
    "print('elapsed: ',time()-start)"
   ]
  },
  {
   "cell_type": "markdown",
   "metadata": {},
   "source": [
    "# Data Load\n",
    "\n",
    "Use this code to read in the data, e.g. at the top of another notebook, as an alternative to loading data.py or Cluster.py"
   ]
  },
  {
   "cell_type": "code",
   "execution_count": null,
   "metadata": {},
   "outputs": [],
   "source": [
    "# read in data\n",
    "start=time()\n",
    "print('reading in data...')\n",
    "with open('./pks/data_all.pk','rb') as fp:\n",
    "    foo = pk.load(fp)\n",
    "print('elapsed: ',time()-start)\n",
    "\n",
    "# make each element of the dictionary a global variable named with key:\n",
    "for x in foo:\n",
    "    stmp = x+\"= foo['\"+x+\"']\"\n",
    "    exec(stmp)"
   ]
  },
  {
   "cell_type": "code",
   "execution_count": null,
   "metadata": {},
   "outputs": [],
   "source": []
  },
  {
   "cell_type": "code",
   "execution_count": null,
   "metadata": {},
   "outputs": [],
   "source": []
  }
 ],
 "metadata": {
  "hide_input": false,
  "kernelspec": {
   "display_name": "Python 3",
   "language": "python",
   "name": "python3"
  },
  "language_info": {
   "codemirror_mode": {
    "name": "ipython",
    "version": 3
   },
   "file_extension": ".py",
   "mimetype": "text/x-python",
   "name": "python",
   "nbconvert_exporter": "python",
   "pygments_lexer": "ipython3",
   "version": "3.7.4"
  },
  "toc": {
   "base_numbering": 1,
   "nav_menu": {
    "height": "341px",
    "width": "225px"
   },
   "number_sections": true,
   "sideBar": true,
   "skip_h1_title": false,
   "title_cell": "Table of Contents",
   "title_sidebar": "Contents",
   "toc_cell": false,
   "toc_position": {
    "height": "calc(100% - 180px)",
    "left": "10px",
    "top": "150px",
    "width": "294.0625px"
   },
   "toc_section_display": true,
   "toc_window_display": true
  }
 },
 "nbformat": 4,
 "nbformat_minor": 4
}
