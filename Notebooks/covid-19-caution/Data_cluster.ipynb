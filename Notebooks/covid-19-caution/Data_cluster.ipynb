{
 "cells": [
  {
   "cell_type": "code",
   "execution_count": 1,
   "metadata": {},
   "outputs": [
    {
     "data": {
      "text/html": [
       "<style>.container { width:100% !important; }</style>"
      ],
      "text/plain": [
       "<IPython.core.display.HTML object>"
      ]
     },
     "metadata": {},
     "output_type": "display_data"
    }
   ],
   "source": [
    "%matplotlib notebook\n",
    "import matplotlib\n",
    "import seaborn as sb\n",
    "from matplotlib import pyplot as plt\n",
    "import numpy as np\n",
    "import pandas as pd\n",
    "\n",
    "# Jupyter Specifics\n",
    "%matplotlib inline\n",
    "from IPython.display import display, HTML\n",
    "from ipywidgets.widgets import interact, interactive, IntSlider, FloatSlider, Layout, ToggleButton, ToggleButtons, fixed\n",
    "display(HTML(\"<style>.container { width:100% !important; }</style>\"))\n",
    "style = {'description_width': '100px'}\n",
    "slider_layout = Layout(width='99%')\n",
    "\n",
    "from time import time\n",
    "import pickle as pk"
   ]
  },
  {
   "cell_type": "markdown",
   "metadata": {},
   "source": [
    "# Cluster data setup"
   ]
  },
  {
   "cell_type": "code",
   "execution_count": 2,
   "metadata": {},
   "outputs": [],
   "source": [
    "from Cluster import *"
   ]
  },
  {
   "cell_type": "code",
   "execution_count": 4,
   "metadata": {},
   "outputs": [
    {
     "name": "stdout",
     "output_type": "stream",
     "text": [
      "reading in data from data_all_base ...\n",
      "elapsed:  8.58101511001587\n"
     ]
    }
   ],
   "source": [
    "bd = BaseData('data_all_base')"
   ]
  },
  {
   "cell_type": "code",
   "execution_count": 5,
   "metadata": {},
   "outputs": [
    {
     "name": "stdout",
     "output_type": "stream",
     "text": [
      "Constructing common synchronized deaths, case and testing data...\n",
      "database JHU report_correct True\n",
      "mindeaths 200 mindeathspm 0.1\n",
      "database JHU report correction True\n",
      "daysync 23 thresh for deaths 10 mindays 200\n",
      "No of big common countries is 104\n",
      "---------------------------------\n",
      "number of countries in total_deaths) 189\n",
      "number of countries in big 104\n",
      "synchronizing and trimming time series to common length...\n",
      "making cases with nonlinear testing adjustment...\n",
      "done.\n",
      "----------------------------------------\n",
      "Finished loading Cluster module\n",
      "----------------------------------------\n"
     ]
    }
   ],
   "source": [
    "ClData=ClusterData(bd,clusdtype='JRP1',cluster_data=False,report_correct=True,database='JHU',daysync=23,thresh=10,\n",
    "                 mindays=200, mindeaths=200,mindeathspm=0.1,syncat='first major peak',K=2)"
   ]
  },
  {
   "cell_type": "code",
   "execution_count": 6,
   "metadata": {},
   "outputs": [],
   "source": [
    "exec(open('ClusterFit.py','r').read())"
   ]
  },
  {
   "cell_type": "code",
   "execution_count": 7,
   "metadata": {
    "scrolled": true
   },
   "outputs": [
    {
     "name": "stdout",
     "output_type": "stream",
     "text": [
      "190 190 214 192\n",
      "countries in common: owid format\n",
      "['Afghanistan', 'Albania', 'Algeria', 'Andorra', 'Angola', 'Antigua and Barbuda', 'Argentina', 'Armenia', 'Austria', 'Azerbaijan', 'Bahamas', 'Bahrain', 'Bangladesh', 'Barbados', 'Belarus', 'Belgium', 'Belize', 'Benin', 'Bhutan', 'Bolivia', 'Bosnia and Herzegovina', 'Botswana', 'Brazil', 'Brunei', 'Bulgaria', 'Burkina Faso', 'Myanmar', 'Burundi', 'Cape Verde', 'Cambodia', 'Cameroon', 'Central African Republic', 'Chad', 'Chile', 'Colombia', 'Comoros', 'Congo', 'Democratic Republic of Congo', 'Costa Rica', \"Cote d'Ivoire\", 'Croatia', 'Cuba', 'Cyprus', 'Czech Republic', 'Denmark', 'Djibouti', 'Dominica', 'Dominican Republic', 'Ecuador', 'Egypt', 'El Salvador', 'Equatorial Guinea', 'Eritrea', 'Estonia', 'Swaziland', 'Ethiopia', 'Fiji', 'Finland', 'France', 'Gabon', 'Gambia', 'Georgia', 'Germany', 'Ghana', 'Greece', 'Grenada', 'Guatemala', 'Guinea', 'Guinea-Bissau', 'Guyana', 'Haiti', 'Vatican', 'Honduras', 'Hungary', 'Iceland', 'India', 'Indonesia', 'Iran', 'Iraq', 'Ireland', 'Israel', 'Italy', 'Jamaica', 'Japan', 'Jordan', 'Kazakhstan', 'Kenya', 'South Korea', 'Kosovo', 'Kuwait', 'Kyrgyzstan', 'Laos', 'Latvia', 'Lebanon', 'Lesotho', 'Liberia', 'Libya', 'Liechtenstein', 'Lithuania', 'Luxembourg', 'Madagascar', 'Malawi', 'Malaysia', 'Maldives', 'Mali', 'Malta', 'Marshall Islands', 'Mauritania', 'Mauritius', 'Mexico', 'Moldova', 'Monaco', 'Mongolia', 'Montenegro', 'Morocco', 'Mozambique', 'Namibia', 'Nepal', 'Netherlands', 'New Zealand', 'Nicaragua', 'Niger', 'Nigeria', 'Macedonia', 'Norway', 'Oman', 'Pakistan', 'Panama', 'Papua New Guinea', 'Paraguay', 'Peru', 'Philippines', 'Poland', 'Portugal', 'Qatar', 'Romania', 'Russia', 'Rwanda', 'Saint Kitts and Nevis', 'Saint Lucia', 'Saint Vincent and the Grenadines', 'San Marino', 'Sao Tome and Principe', 'Saudi Arabia', 'Senegal', 'Serbia', 'Seychelles', 'Sierra Leone', 'Singapore', 'Slovakia', 'Slovenia', 'Solomon Islands', 'Somalia', 'South Africa', 'South Sudan', 'Spain', 'Sri Lanka', 'Sudan', 'Suriname', 'Sweden', 'Switzerland', 'Syria', 'Taiwan', 'Tajikistan', 'Tanzania', 'Thailand', 'Timor', 'Togo', 'Trinidad and Tobago', 'Tunisia', 'Turkey', 'United States', 'Uganda', 'Ukraine', 'United Arab Emirates', 'United Kingdom', 'Uruguay', 'Uzbekistan', 'Vanuatu', 'Venezuela', 'Vietnam', 'Palestine', 'Western Sahara', 'Yemen', 'Zambia', 'Zimbabwe', 'World', 'Australia', 'Canada', 'China']\n",
      "\n",
      "owid countries not in common set\n",
      "{'Cayman Islands', 'Bermuda', 'Curacao', 'Guernsey', 'Jersey', 'Puerto Rico', 'New Caledonia', 'Falkland Islands', 'Greenland', 'Faeroe Islands', 'Gibraltar', 'Anguilla', 'British Virgin Islands', 'United States Virgin Islands', 'Montserrat', 'Bonaire Sint Eustatius and Saba', 'Wallis and Futuna', 'Northern Mariana Islands', 'Isle of Man', 'Turks and Caicos Islands', 'Sint Maarten (Dutch part)', 'Aruba', 'French Polynesia', 'Guam'}\n",
      "\n",
      "countries in common: jhu format\n",
      "[('Afghanistan', ''), ('Albania', ''), ('Algeria', ''), ('Andorra', ''), ('Angola', ''), ('Antigua and Barbuda', ''), ('Argentina', ''), ('Armenia', ''), ('Austria', ''), ('Azerbaijan', ''), ('Bahamas', ''), ('Bahrain', ''), ('Bangladesh', ''), ('Barbados', ''), ('Belarus', ''), ('Belgium', ''), ('Belize', ''), ('Benin', ''), ('Bhutan', ''), ('Bolivia', ''), ('Bosnia and Herzegovina', ''), ('Botswana', ''), ('Brazil', ''), ('Brunei', ''), ('Bulgaria', ''), ('Burkina Faso', ''), ('Burma', ''), ('Burundi', ''), ('Cabo Verde', ''), ('Cambodia', ''), ('Cameroon', ''), ('Central African Republic', ''), ('Chad', ''), ('Chile', ''), ('Colombia', ''), ('Comoros', ''), ('Congo (Brazzaville)', ''), ('Congo (Kinshasa)', ''), ('Costa Rica', ''), (\"Cote d'Ivoire\", ''), ('Croatia', ''), ('Cuba', ''), ('Cyprus', ''), ('Czechia', ''), ('Denmark', ''), ('Djibouti', ''), ('Dominica', ''), ('Dominican Republic', ''), ('Ecuador', ''), ('Egypt', ''), ('El Salvador', ''), ('Equatorial Guinea', ''), ('Eritrea', ''), ('Estonia', ''), ('Eswatini', ''), ('Ethiopia', ''), ('Fiji', ''), ('Finland', ''), ('France', ''), ('Gabon', ''), ('Gambia', ''), ('Georgia', ''), ('Germany', ''), ('Ghana', ''), ('Greece', ''), ('Grenada', ''), ('Guatemala', ''), ('Guinea', ''), ('Guinea-Bissau', ''), ('Guyana', ''), ('Haiti', ''), ('Holy See', ''), ('Honduras', ''), ('Hungary', ''), ('Iceland', ''), ('India', ''), ('Indonesia', ''), ('Iran', ''), ('Iraq', ''), ('Ireland', ''), ('Israel', ''), ('Italy', ''), ('Jamaica', ''), ('Japan', ''), ('Jordan', ''), ('Kazakhstan', ''), ('Kenya', ''), ('Korea, South', ''), ('Kosovo', ''), ('Kuwait', ''), ('Kyrgyzstan', ''), ('Laos', ''), ('Latvia', ''), ('Lebanon', ''), ('Lesotho', ''), ('Liberia', ''), ('Libya', ''), ('Liechtenstein', ''), ('Lithuania', ''), ('Luxembourg', ''), ('Madagascar', ''), ('Malawi', ''), ('Malaysia', ''), ('Maldives', ''), ('Mali', ''), ('Malta', ''), ('Marshall Islands', ''), ('Mauritania', ''), ('Mauritius', ''), ('Mexico', ''), ('Moldova', ''), ('Monaco', ''), ('Mongolia', ''), ('Montenegro', ''), ('Morocco', ''), ('Mozambique', ''), ('Namibia', ''), ('Nepal', ''), ('Netherlands', ''), ('New Zealand', ''), ('Nicaragua', ''), ('Niger', ''), ('Nigeria', ''), ('North Macedonia', ''), ('Norway', ''), ('Oman', ''), ('Pakistan', ''), ('Panama', ''), ('Papua New Guinea', ''), ('Paraguay', ''), ('Peru', ''), ('Philippines', ''), ('Poland', ''), ('Portugal', ''), ('Qatar', ''), ('Romania', ''), ('Russia', ''), ('Rwanda', ''), ('Saint Kitts and Nevis', ''), ('Saint Lucia', ''), ('Saint Vincent and the Grenadines', ''), ('San Marino', ''), ('Sao Tome and Principe', ''), ('Saudi Arabia', ''), ('Senegal', ''), ('Serbia', ''), ('Seychelles', ''), ('Sierra Leone', ''), ('Singapore', ''), ('Slovakia', ''), ('Slovenia', ''), ('Solomon Islands', ''), ('Somalia', ''), ('South Africa', ''), ('South Sudan', ''), ('Spain', ''), ('Sri Lanka', ''), ('Sudan', ''), ('Suriname', ''), ('Sweden', ''), ('Switzerland', ''), ('Syria', ''), ('Taiwan*', ''), ('Tajikistan', ''), ('Tanzania', ''), ('Thailand', ''), ('Timor-Leste', ''), ('Togo', ''), ('Trinidad and Tobago', ''), ('Tunisia', ''), ('Turkey', ''), ('US', ''), ('Uganda', ''), ('Ukraine', ''), ('United Arab Emirates', ''), ('United Kingdom', ''), ('Uruguay', ''), ('Uzbekistan', ''), ('Vanuatu', ''), ('Venezuela', ''), ('Vietnam', ''), ('West Bank and Gaza', ''), ('Western Sahara', ''), ('Yemen', ''), ('Zambia', ''), ('Zimbabwe', ''), ('World', ''), ('Australia', ''), ('Canada', ''), ('China', '')]\n",
      "\n",
      "104 bcountries ['Afghanistan', 'Albania', 'Algeria', 'Angola', 'Argentina', 'Armenia', 'Austria', 'Azerbaijan', 'Bahrain', 'Bangladesh', 'Belarus', 'Belgium', 'Bolivia', 'Bosnia and Herzegovina', 'Brazil', 'Bulgaria', 'Myanmar', 'Cameroon', 'Chile', 'Colombia', 'Costa Rica', 'Croatia', 'Czech Republic', 'Denmark', 'Dominican Republic', 'Ecuador', 'Egypt', 'El Salvador', 'Ethiopia', 'Finland', 'France', 'Georgia', 'Germany', 'Ghana', 'Greece', 'Guatemala', 'Haiti', 'Honduras', 'Hungary', 'India', 'Indonesia', 'Iran', 'Iraq', 'Ireland', 'Israel', 'Italy', 'Jamaica', 'Japan', 'Jordan', 'Kazakhstan', 'Kenya', 'South Korea', 'Kosovo', 'Kuwait', 'Kyrgyzstan', 'Lebanon', 'Libya', 'Lithuania', 'Madagascar', 'Malaysia', 'Mexico', 'Moldova', 'Montenegro', 'Morocco', 'Nepal', 'Netherlands', 'Macedonia', 'Norway', 'Oman', 'Pakistan', 'Panama', 'Paraguay', 'Peru', 'Philippines', 'Poland', 'Portugal', 'Qatar', 'Romania', 'Russia', 'Saudi Arabia', 'Senegal', 'Serbia', 'Slovakia', 'Slovenia', 'South Africa', 'Spain', 'Sudan', 'Sweden', 'Switzerland', 'Syria', 'Tunisia', 'Turkey', 'United States', 'Ukraine', 'United Arab Emirates', 'United Kingdom', 'Uzbekistan', 'Venezuela', 'Palestine', 'Yemen', 'Zambia', 'Zimbabwe', 'Australia', 'Canada']\n"
     ]
    }
   ],
   "source": [
    "print(len(bd.countries_jhu_4_owid),len(bd.countries_jhu_2_owid),len(bd.countries_owid),len(bd.countries_jhu))\n",
    "print('countries in common: owid format')\n",
    "print(bd.countries_jhu_2_owid)\n",
    "print('')\n",
    "print('owid countries not in common set')\n",
    "print(set(bd.countries_owid)-set(bd.countries_jhu_2_owid))\n",
    "print('')\n",
    "print('countries in common: jhu format')\n",
    "print(bd.countries_owid_to_jhu)\n",
    "print('')\n",
    "print(len(ClData.bcountries),'bcountries',ClData.bcountries)"
   ]
  },
  {
   "cell_type": "code",
   "execution_count": 8,
   "metadata": {
    "scrolled": true
   },
   "outputs": [
    {
     "data": {
      "text/plain": [
       "['deaths',\n",
       " 'cases',\n",
       " 'cases_lin2020',\n",
       " 'cases_pwlfit',\n",
       " 'cases_nonlin',\n",
       " 'cases_nonlinr']"
      ]
     },
     "execution_count": 8,
     "metadata": {},
     "output_type": "execute_result"
    }
   ],
   "source": [
    "clusdata_all = ClData.clusdata_all\n",
    "bcountries = ClData.bcountries\n",
    "datasets = [c for c in clusdata_all]\n",
    "datasets"
   ]
  },
  {
   "cell_type": "code",
   "execution_count": 9,
   "metadata": {
    "scrolled": true
   },
   "outputs": [],
   "source": [
    "d_countries = [c for c in clusdata_all['deaths']]\n",
    "c_countries = [c for c in clusdata_all['cases']]\n",
    "lc_countries = [c for c in clusdata_all['cases_lin2020']]\n",
    "pc_countries = [c for c in clusdata_all['cases_pwlfit']]\n",
    "nc_countries = [c for c in clusdata_all['cases_nonlin']]\n",
    "\n",
    "countries = d_countries"
   ]
  },
  {
   "cell_type": "code",
   "execution_count": 10,
   "metadata": {
    "scrolled": true
   },
   "outputs": [
    {
     "name": "stdout",
     "output_type": "stream",
     "text": [
      "54\n",
      "['Afghanistan' 'Algeria' 'Armenia' 'Australia' 'Austria' 'Bangladesh'\n",
      " 'Belarus' 'Belgium' 'Cameroon' 'Canada' 'Chile' 'Denmark'\n",
      " 'Dominican Republic' 'Ecuador' 'Egypt' 'Finland' 'France' 'Germany'\n",
      " 'Ghana' 'Guatemala' 'Haiti' 'Honduras' 'Indonesia' 'Iran' 'Ireland'\n",
      " 'Israel' 'Italy' 'Japan' 'Kuwait' 'Lithuania' 'Malaysia' 'Moldova'\n",
      " 'Netherlands' 'Norway' 'Oman' 'Pakistan' 'Panama' 'Peru' 'Philippines'\n",
      " 'Portugal' 'Qatar' 'Russia' 'Senegal' 'Serbia' 'South Korea' 'Spain'\n",
      " 'Sudan' 'Sweden' 'Switzerland' 'Turkey' 'United Arab Emirates'\n",
      " 'United Kingdom' 'United States' 'Yemen']\n"
     ]
    }
   ],
   "source": [
    "print(len(d_countries))\n",
    "print(np.sort(d_countries))"
   ]
  },
  {
   "cell_type": "code",
   "execution_count": 11,
   "metadata": {
    "scrolled": true
   },
   "outputs": [
    {
     "name": "stdout",
     "output_type": "stream",
     "text": [
      "[54, 54, 54, 54, 54]\n",
      "[True, True, True, True, True]\n",
      "[True, True, True, True, True]\n",
      "[True, True, True, True, True]\n",
      "[True, True, True, True, True]\n",
      "[True, True, True, True, True]\n",
      "[206, 206, 206, 206, 206, 206]\n"
     ]
    }
   ],
   "source": [
    "# check that all country sets being used are the same and check time series lengths and starting dates\n",
    "# 79 countries with Oct 27 finish and with mindeaths=100 and mindays=150 and mindeathspm = 0.5\n",
    "countrysets = [d_countries,c_countries,lc_countries,pc_countries,nc_countries]\n",
    "print([len(ccs) for ccs in countrysets])\n",
    "for ccs1 in countrysets:\n",
    "    print([ccs1 == ccs2 for ccs2 in countrysets])\n",
    "print([len(clusdata_all[d1]['United States']) for d1 in datasets])\n",
    "# print(len(total_deaths_x['dates']),len(total_cases_x['dates']),len(testing_x['dates']),total_deaths_x['dates'][0],total_cases_x['dates'][0],testing_x['dates'][0])"
   ]
  },
  {
   "cell_type": "code",
   "execution_count": 12,
   "metadata": {
    "scrolled": true
   },
   "outputs": [
    {
     "data": {
      "text/plain": [
       "odict_keys(['iso_code', 'continent', 'location', 'date', 'total_cases', 'new_cases', 'new_cases_smoothed', 'total_deaths', 'new_deaths', 'new_deaths_smoothed', 'total_cases_per_million', 'new_cases_per_million', 'new_cases_smoothed_per_million', 'total_deaths_per_million', 'new_deaths_per_million', 'new_deaths_smoothed_per_million', 'reproduction_rate', 'icu_patients', 'icu_patients_per_million', 'hosp_patients', 'hosp_patients_per_million', 'weekly_icu_admissions', 'weekly_icu_admissions_per_million', 'weekly_hosp_admissions', 'weekly_hosp_admissions_per_million', 'total_tests', 'new_tests', 'total_tests_per_thousand', 'new_tests_per_thousand', 'new_tests_smoothed', 'new_tests_smoothed_per_thousand', 'tests_per_case', 'positive_rate', 'tests_units', 'stringency_index', 'population', 'population_density', 'median_age', 'aged_65_older', 'aged_70_older', 'gdp_per_capita', 'extreme_poverty', 'cardiovasc_death_rate', 'diabetes_prevalence', 'female_smokers', 'male_smokers', 'handwashing_facilities', 'hospital_beds_per_thousand', 'life_expectancy', 'human_development_index'])"
      ]
     },
     "execution_count": 12,
     "metadata": {},
     "output_type": "execute_result"
    }
   ],
   "source": [
    "bd.covid_owid[0].keys()"
   ]
  },
  {
   "cell_type": "code",
   "execution_count": 13,
   "metadata": {
    "scrolled": true
   },
   "outputs": [
    {
     "data": {
      "text/plain": [
       "dict_keys(['confirmed', 'deaths', 'recovered', 'new_deaths', 'new_deaths_smoothed', 'deaths_smoothed', 'new_deaths_corrected', 'new_deaths_corrected_smoothed', 'deaths_corrected_smoothed', 'new_confirmed', 'new_confirmed_smoothed', 'confirmed_smoothed', 'new_confirmed_corrected', 'new_confirmed_corrected_smoothed', 'confirmed_corrected_smoothed', 'new_confirmed_linr_corrected_smoothed', 'confirmed_linr_corrected_smoothed', 'new_confirmed_nonlin_corrected_smoothed', 'confirmed_nonlin_corrected_smoothed', 'new_confirmed_nonlinr_corrected_smoothed', 'confirmed_nonlinr_corrected_smoothed'])"
      ]
     },
     "execution_count": 13,
     "metadata": {},
     "output_type": "execute_result"
    }
   ],
   "source": [
    "bd.covid_ts.keys()"
   ]
  },
  {
   "cell_type": "code",
   "execution_count": 14,
   "metadata": {
    "scrolled": true
   },
   "outputs": [
    {
     "data": {
      "text/plain": [
       "dict_keys(['confirmed', 'deaths', 'recovered', 'tests', 'stringency', 'population', 'population_density', 'gdp_per_capita', 'new_deaths', 'new_deaths_smoothed', 'deaths_smoothed', 'new_deaths_corrected', 'new_deaths_corrected_smoothed', 'deaths_corrected_smoothed', 'new_confirmed', 'new_confirmed_smoothed', 'confirmed_smoothed', 'new_confirmed_corrected', 'new_confirmed_corrected_smoothed', 'confirmed_corrected_smoothed', 'new_confirmed_linr_corrected_smoothed', 'confirmed_linr_corrected_smoothed', 'new_confirmed_nonlin_corrected_smoothed', 'confirmed_nonlin_corrected_smoothed', 'new_confirmed_nonlinr_corrected_smoothed', 'confirmed_nonlinr_corrected_smoothed'])"
      ]
     },
     "execution_count": 14,
     "metadata": {},
     "output_type": "execute_result"
    }
   ],
   "source": [
    "bd.covid_owid_ts.keys()"
   ]
  },
  {
   "cell_type": "markdown",
   "metadata": {},
   "source": [
    "# Data save\n",
    "\n",
    "Execute this section once to produce file `data_cluster_... .pk`."
   ]
  },
  {
   "cell_type": "code",
   "execution_count": 15,
   "metadata": {},
   "outputs": [],
   "source": [
    "allnmsc = ['ClData']\n",
    "data_allc = {nm:eval(nm) for nm in allnmsc}"
   ]
  },
  {
   "cell_type": "code",
   "execution_count": 16,
   "metadata": {
    "scrolled": true
   },
   "outputs": [
    {
     "name": "stdout",
     "output_type": "stream",
     "text": [
      "elapsed:  0.24355506896972656\n"
     ]
    }
   ],
   "source": [
    "start = time()\n",
    "pk.dump(data_allc,open('./pks/data_cluster_'+ClData.clusdtype+'.pk','wb'))\n",
    "print('elapsed: ',time()-start)"
   ]
  },
  {
   "cell_type": "code",
   "execution_count": 17,
   "metadata": {},
   "outputs": [
    {
     "data": {
      "text/plain": [
       "['CaCo',\n",
       " 'K',\n",
       " 'bcountries',\n",
       " 'bcountries_1',\n",
       " 'big',\n",
       " 'big_cases',\n",
       " 'big_testing_c',\n",
       " 'cases_adj_lin2020',\n",
       " 'cases_adj_nonlin',\n",
       " 'cases_adj_nonlinr',\n",
       " 'cases_adj_pwlfit',\n",
       " 'cases_raw',\n",
       " 'clusdata_all',\n",
       " 'clusdata_len',\n",
       " 'clusdtype',\n",
       " 'cluster_data',\n",
       " 'cluster_data_loaded',\n",
       " 'countries_common',\n",
       " 'daily_deaths',\n",
       " 'database',\n",
       " 'datasets',\n",
       " 'daysync',\n",
       " 'deaths_raw',\n",
       " 'first_peak',\n",
       " 'first_thresh',\n",
       " 'lccountries',\n",
       " 'lcountries',\n",
       " 'longshort',\n",
       " 'longshort_c',\n",
       " 'longshort_cases',\n",
       " 'longshort_cases_c',\n",
       " 'longshort_cases_est',\n",
       " 'longshort_reg_testing_c',\n",
       " 'longshort_testing_c',\n",
       " 'longshortest',\n",
       " 'make_cases_adj_nonlin',\n",
       " 'mindays',\n",
       " 'mindeaths',\n",
       " 'mindeathspm',\n",
       " 'minfirstpeak',\n",
       " 'new_cases_spm',\n",
       " 'new_deaths_spm',\n",
       " 'reg_testing_lc',\n",
       " 'regtests',\n",
       " 'report_correct',\n",
       " 'short_cases',\n",
       " 'short_cases_c',\n",
       " 'short_cases_est',\n",
       " 'short_deaths',\n",
       " 'short_deaths_c',\n",
       " 'short_deaths_est',\n",
       " 'short_reg_testing',\n",
       " 'short_reg_testing_c',\n",
       " 'short_reg_testing_est',\n",
       " 'short_testing',\n",
       " 'short_testing_c',\n",
       " 'short_testing_est',\n",
       " 'syncat',\n",
       " 'tdates',\n",
       " 'thresh',\n",
       " 'total_deaths']"
      ]
     },
     "execution_count": 17,
     "metadata": {},
     "output_type": "execute_result"
    }
   ],
   "source": [
    "[x for x in dir(ClData) if '__' not in x]"
   ]
  },
  {
   "cell_type": "markdown",
   "metadata": {},
   "source": [
    "# Data Load\n",
    "\n",
    "Use this code to read in the data, e.g. at the top of another notebook, as an alternative to loading data.py or Cluster.py"
   ]
  },
  {
   "cell_type": "code",
   "execution_count": 18,
   "metadata": {},
   "outputs": [
    {
     "name": "stdout",
     "output_type": "stream",
     "text": [
      "reading in data...\n",
      "elapsed:  0.035216331481933594\n"
     ]
    }
   ],
   "source": [
    "# read in cluster data, cell can be used in other notebooks, but then\n",
    "# the rhs of following line needs to be replaced by suffix of cluster data name (created when cluster data constructed)\n",
    "clusdtype = ClData.clusdtype\n",
    "# clusdtype = 'JRP1'  # e.g. for first version   \n",
    "\n",
    "start=time()\n",
    "print('reading in data...')\n",
    "with open('./pks/data_cluster_'+ClData.clusdtype+'.pk','rb') as fp:\n",
    "    foo = pk.load(fp)\n",
    "print('elapsed: ',time()-start)\n",
    "\n",
    "# make each element of the dictionary a global variable named with key:\n",
    "for x in foo:\n",
    "    stmp = x+\"= foo['\"+x+\"']\"\n",
    "    exec(stmp)"
   ]
  },
  {
   "cell_type": "code",
   "execution_count": null,
   "metadata": {},
   "outputs": [],
   "source": []
  }
 ],
 "metadata": {
  "hide_input": false,
  "kernelspec": {
   "display_name": "Python 3",
   "language": "python",
   "name": "python3"
  },
  "language_info": {
   "codemirror_mode": {
    "name": "ipython",
    "version": 3
   },
   "file_extension": ".py",
   "mimetype": "text/x-python",
   "name": "python",
   "nbconvert_exporter": "python",
   "pygments_lexer": "ipython3",
   "version": "3.7.4"
  },
  "toc": {
   "base_numbering": 1,
   "nav_menu": {
    "height": "341px",
    "width": "225px"
   },
   "number_sections": true,
   "sideBar": true,
   "skip_h1_title": false,
   "title_cell": "Table of Contents",
   "title_sidebar": "Contents",
   "toc_cell": false,
   "toc_position": {
    "height": "calc(100% - 180px)",
    "left": "10px",
    "top": "150px",
    "width": "294.0625px"
   },
   "toc_section_display": true,
   "toc_window_display": false
  }
 },
 "nbformat": 4,
 "nbformat_minor": 4
}
