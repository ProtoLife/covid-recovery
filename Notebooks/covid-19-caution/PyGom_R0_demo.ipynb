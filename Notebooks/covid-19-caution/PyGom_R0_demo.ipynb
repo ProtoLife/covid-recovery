{
 "cells": [
  {
   "cell_type": "code",
   "execution_count": 1,
   "metadata": {},
   "outputs": [],
   "source": [
    "from pygom import SimulateOde, Transition as T"
   ]
  },
  {
   "cell_type": "code",
   "execution_count": 3,
   "metadata": {},
   "outputs": [],
   "source": [
    "state = ['S_v', 'S_h', 'I_v', 'I_h']"
   ]
  },
  {
   "cell_type": "code",
   "execution_count": 4,
   "metadata": {},
   "outputs": [],
   "source": [
    "param = ['beta_v', 'beta_h', 'mu_v', 'mu_h',\n",
    "'lambda_v', 'lambda_h', 'gamma']"
   ]
  },
  {
   "cell_type": "code",
   "execution_count": 5,
   "metadata": {},
   "outputs": [],
   "source": [
    "t1 = T('S_h', 'lambda_h-mu_h*S_h-beta_h*S_h*I_v+gamma*I_h')"
   ]
  },
  {
   "cell_type": "code",
   "execution_count": 6,
   "metadata": {},
   "outputs": [],
   "source": [
    "t2 = T('S_v', 'lambda_v-mu_v*S_v-beta_v*S_v*I_h')"
   ]
  },
  {
   "cell_type": "code",
   "execution_count": 7,
   "metadata": {},
   "outputs": [],
   "source": [
    "t3 = T('I_h', 'beta_h*S_h*I_v-(mu_h+gamma)*I_h')"
   ]
  },
  {
   "cell_type": "code",
   "execution_count": 8,
   "metadata": {},
   "outputs": [],
   "source": [
    "t4 = T('I_v', 'beta_v*S_v*I_h-mu_v*I_v')"
   ]
  },
  {
   "cell_type": "code",
   "execution_count": 9,
   "metadata": {},
   "outputs": [],
   "source": [
    "ode = SimulateOde(state, param, ode=[t1,t2,t3,t4])"
   ]
  },
  {
   "cell_type": "code",
   "execution_count": 10,
   "metadata": {},
   "outputs": [],
   "source": [
    "from pygom.model.epi_analysis import R0"
   ]
  },
  {
   "cell_type": "code",
   "execution_count": 11,
   "metadata": {},
   "outputs": [
    {
     "name": "stderr",
     "output_type": "stream",
     "text": [
      "/usr/local/lib/python3.7/site-packages/sympy/__init__.py:676: SymPyDeprecationWarning: \n",
      "\n",
      "importing sympy.matrices.matrices with 'from sympy import *' has been\n",
      "deprecated since SymPy 1.6. Use import sympy.matrices.matrices\n",
      "instead. See https://github.com/sympy/sympy/issues/18245 for more\n",
      "info.\n",
      "\n",
      "  deprecated_since_version=\"1.6\").warn()\n"
     ]
    }
   ],
   "source": [
    "ode = ode.get_unrolled_obj()"
   ]
  },
  {
   "cell_type": "code",
   "execution_count": 12,
   "metadata": {},
   "outputs": [
    {
     "data": {
      "text/latex": [
       "$\\displaystyle \\sqrt{\\frac{\\beta_{h} \\beta_{v} \\lambda_{h} \\lambda_{v}}{\\mu_{h} \\mu_{v}^{2} \\left(\\gamma + \\mu_{h}\\right)}}$"
      ],
      "text/plain": [
       "sqrt(beta_h*beta_v*lambda_h*lambda_v/(mu_h*mu_v**2*(gamma + mu_h)))"
      ]
     },
     "execution_count": 12,
     "metadata": {},
     "output_type": "execute_result"
    }
   ],
   "source": [
    "R0(ode, ['I_v','I_h'])"
   ]
  },
  {
   "cell_type": "code",
   "execution_count": 13,
   "metadata": {},
   "outputs": [
    {
     "data": {
      "image/png": "[encoded data removed]",
      "text/plain": [
       "<Figure size 432x288 with 1 Axes>"
      ]
     },
     "metadata": {
      "needs_background": "light"
     },
     "output_type": "display_data"
    },
    {
     "data": {
      "image/svg+xml": [
       "<?xml version=\"1.0\" encoding=\"UTF-8\" standalone=\"no\"?>\n",
       "<!DOCTYPE svg PUBLIC \"-//W3C//DTD SVG 1.1//EN\"\n",
       " \"http://www.w3.org/Graphics/SVG/1.1/DTD/svg11.dtd\">\n",
       "<!-- Generated by graphviz version 2.44.0 (20200408.0750)\n",
       " -->\n",
       "<!-- Pages: 1 -->\n",
       "<svg width=\"653pt\" height=\"160pt\"\n",
       " viewBox=\"0.00 0.00 653.00 160.00\" xmlns=\"http://www.w3.org/2000/svg\" xmlns:xlink=\"http://www.w3.org/1999/xlink\">\n",
       "<g id=\"graph0\" class=\"graph\" transform=\"scale(1 1) rotate(0) translate(4 156)\">\n",
       "<polygon fill=\"white\" stroke=\"transparent\" points=\"-4,4 -4,-156 649,-156 649,4 -4,4\"/>\n",
       "<!-- S_v -->\n",
       "<g id=\"node1\" class=\"node\">\n",
       "<title>S_v</title>\n",
       "<ellipse fill=\"none\" stroke=\"black\" cx=\"371\" cy=\"-44.5\" rx=\"27\" ry=\"18\"/>\n",
       "<text text-anchor=\"middle\" x=\"371\" y=\"-40.8\" font-family=\"Times,serif\" font-size=\"14.00\">S_v</text>\n",
       "</g>\n",
       "<!-- I_v -->\n",
       "<g id=\"node3\" class=\"node\">\n",
       "<title>I_v</title>\n",
       "<ellipse fill=\"none\" stroke=\"black\" cx=\"535\" cy=\"-93.5\" rx=\"27\" ry=\"18\"/>\n",
       "<text text-anchor=\"middle\" x=\"535\" y=\"-89.8\" font-family=\"Times,serif\" font-size=\"14.00\">I_v</text>\n",
       "</g>\n",
       "<!-- S_v&#45;&gt;I_v -->\n",
       "<g id=\"edge1\" class=\"edge\">\n",
       "<title>S_v&#45;&gt;I_v</title>\n",
       "<path fill=\"none\" stroke=\"black\" d=\"M397.2,-49.69C421.32,-54.94 458.59,-63.8 490,-74.5 494.28,-75.96 498.73,-77.65 503.07,-79.42\"/>\n",
       "<polygon fill=\"black\" stroke=\"black\" points=\"501.76,-82.66 512.34,-83.33 504.49,-76.22 501.76,-82.66\"/>\n",
       "<text text-anchor=\"middle\" x=\"453\" y=\"-78.3\" font-family=\"Times,serif\" font-size=\"14.00\">I_v*S_h*β_h</text>\n",
       "</g>\n",
       "<!-- S_h*&mu;_h -->\n",
       "<g id=\"node6\" class=\"node\">\n",
       "<title>S_h*&mu;_h</title>\n",
       "<text text-anchor=\"middle\" x=\"535\" y=\"-36.8\" font-family=\"Times,serif\" font-size=\"14.00\">S_h*μ_h</text>\n",
       "</g>\n",
       "<!-- S_v&#45;&gt;S_h*&mu;_h -->\n",
       "<g id=\"edge6\" class=\"edge\">\n",
       "<title>S_v&#45;&gt;S_h*&mu;_h</title>\n",
       "<path fill=\"none\" stroke=\"black\" d=\"M398.03,-43.86C425.79,-43.17 469.87,-42.08 500.27,-41.33\"/>\n",
       "<polygon fill=\"black\" stroke=\"black\" points=\"500.5,-44.83 510.41,-41.08 500.32,-37.83 500.5,-44.83\"/>\n",
       "</g>\n",
       "<!-- S_h -->\n",
       "<g id=\"node2\" class=\"node\">\n",
       "<title>S_h</title>\n",
       "<ellipse fill=\"none\" stroke=\"black\" cx=\"85\" cy=\"-23.5\" rx=\"27\" ry=\"18\"/>\n",
       "<text text-anchor=\"middle\" x=\"85\" y=\"-19.8\" font-family=\"Times,serif\" font-size=\"14.00\">S_h</text>\n",
       "</g>\n",
       "<!-- I_h -->\n",
       "<g id=\"node4\" class=\"node\">\n",
       "<title>I_h</title>\n",
       "<ellipse fill=\"none\" stroke=\"black\" cx=\"249\" cy=\"-94.5\" rx=\"27\" ry=\"18\"/>\n",
       "<text text-anchor=\"middle\" x=\"249\" y=\"-90.8\" font-family=\"Times,serif\" font-size=\"14.00\">I_h</text>\n",
       "</g>\n",
       "<!-- S_h&#45;&gt;I_h -->\n",
       "<g id=\"edge2\" class=\"edge\">\n",
       "<title>S_h&#45;&gt;I_h</title>\n",
       "<path fill=\"none\" stroke=\"black\" d=\"M108.19,-33.22C136.3,-45.55 184.92,-66.86 216.78,-80.82\"/>\n",
       "<polygon fill=\"black\" stroke=\"black\" points=\"215.52,-84.09 226.08,-84.89 218.33,-77.67 215.52,-84.09\"/>\n",
       "<text text-anchor=\"middle\" x=\"167\" y=\"-77.3\" font-family=\"Times,serif\" font-size=\"14.00\">I_h*S_v*β_v</text>\n",
       "</g>\n",
       "<!-- S_v*&mu;_v -->\n",
       "<g id=\"node7\" class=\"node\">\n",
       "<title>S_v*&mu;_v</title>\n",
       "<text text-anchor=\"middle\" x=\"249\" y=\"-3.8\" font-family=\"Times,serif\" font-size=\"14.00\">S_v*μ_v</text>\n",
       "</g>\n",
       "<!-- S_h&#45;&gt;S_v*&mu;_v -->\n",
       "<g id=\"edge7\" class=\"edge\">\n",
       "<title>S_h&#45;&gt;S_v*&mu;_v</title>\n",
       "<path fill=\"none\" stroke=\"black\" d=\"M112.03,-20.93C139.79,-18.19 183.87,-13.83 214.27,-10.83\"/>\n",
       "<polygon fill=\"black\" stroke=\"black\" points=\"214.8,-14.3 224.41,-9.83 214.11,-7.33 214.8,-14.3\"/>\n",
       "</g>\n",
       "<!-- I_h*&mu;_h -->\n",
       "<g id=\"node9\" class=\"node\">\n",
       "<title>I_h*&mu;_h</title>\n",
       "<text text-anchor=\"middle\" x=\"622\" y=\"-89.8\" font-family=\"Times,serif\" font-size=\"14.00\">I_h*μ_h</text>\n",
       "</g>\n",
       "<!-- I_v&#45;&gt;I_h*&mu;_h -->\n",
       "<g id=\"edge9\" class=\"edge\">\n",
       "<title>I_v&#45;&gt;I_h*&mu;_h</title>\n",
       "<path fill=\"none\" stroke=\"black\" d=\"M562.43,-93.5C570.74,-93.5 580.02,-93.5 588.7,-93.5\"/>\n",
       "<polygon fill=\"black\" stroke=\"black\" points=\"588.88,-97 598.88,-93.5 588.88,-90 588.88,-97\"/>\n",
       "</g>\n",
       "<!-- I_h&#45;&gt;S_v -->\n",
       "<g id=\"edge3\" class=\"edge\">\n",
       "<title>I_h&#45;&gt;S_v</title>\n",
       "<path fill=\"none\" stroke=\"black\" d=\"M271.84,-84.31C278.88,-81.1 286.74,-77.58 294,-74.5 308.29,-68.44 324.25,-62.07 337.84,-56.78\"/>\n",
       "<polygon fill=\"black\" stroke=\"black\" points=\"339.2,-60 347.26,-53.13 336.68,-53.48 339.2,-60\"/>\n",
       "<text text-anchor=\"middle\" x=\"310\" y=\"-78.3\" font-family=\"Times,serif\" font-size=\"14.00\">I_h*γ</text>\n",
       "</g>\n",
       "<!-- I_h&#45;&gt;I_v -->\n",
       "<g id=\"edge4\" class=\"edge\">\n",
       "<title>I_h&#45;&gt;I_v</title>\n",
       "<path fill=\"none\" stroke=\"black\" d=\"M276.21,-94.41C327.14,-94.23 439.57,-93.83 497.67,-93.63\"/>\n",
       "<polygon fill=\"black\" stroke=\"black\" points=\"497.87,-97.13 507.85,-93.59 497.84,-90.13 497.87,-97.13\"/>\n",
       "<text text-anchor=\"middle\" x=\"371\" y=\"-97.3\" font-family=\"Times,serif\" font-size=\"14.00\">&#45;I_h*γ</text>\n",
       "</g>\n",
       "<!-- I_v*&mu;_v -->\n",
       "<g id=\"node10\" class=\"node\">\n",
       "<title>I_v*&mu;_v</title>\n",
       "<text text-anchor=\"middle\" x=\"371\" y=\"-140.8\" font-family=\"Times,serif\" font-size=\"14.00\">I_v*μ_v</text>\n",
       "</g>\n",
       "<!-- I_h&#45;&gt;I_v*&mu;_v -->\n",
       "<g id=\"edge10\" class=\"edge\">\n",
       "<title>I_h&#45;&gt;I_v*&mu;_v</title>\n",
       "<path fill=\"none\" stroke=\"black\" d=\"M270.3,-105.87C277.66,-109.79 286.1,-114.05 294,-117.5 308.25,-123.72 324.44,-129.62 338.2,-134.32\"/>\n",
       "<polygon fill=\"black\" stroke=\"black\" points=\"337.14,-137.65 347.73,-137.51 339.36,-131.01 337.14,-137.65\"/>\n",
       "</g>\n",
       "<!-- &lambda;_h -->\n",
       "<g id=\"node5\" class=\"node\">\n",
       "<title>&lambda;_h</title>\n",
       "<text text-anchor=\"middle\" x=\"249\" y=\"-36.8\" font-family=\"Times,serif\" font-size=\"14.00\">λ_h</text>\n",
       "</g>\n",
       "<!-- &lambda;_h&#45;&gt;S_v -->\n",
       "<g id=\"edge5\" class=\"edge\">\n",
       "<title>&lambda;_h&#45;&gt;S_v</title>\n",
       "<path fill=\"none\" stroke=\"black\" d=\"M259.82,-40.83C275.76,-41.36 308.05,-42.44 333.58,-43.29\"/>\n",
       "<polygon fill=\"black\" stroke=\"black\" points=\"333.57,-46.79 343.68,-43.62 333.8,-39.79 333.57,-46.79\"/>\n",
       "</g>\n",
       "<!-- &lambda;_v -->\n",
       "<g id=\"node8\" class=\"node\">\n",
       "<title>&lambda;_v</title>\n",
       "<text text-anchor=\"middle\" x=\"10.5\" y=\"-19.8\" font-family=\"Times,serif\" font-size=\"14.00\">λ_v</text>\n",
       "</g>\n",
       "<!-- &lambda;_v&#45;&gt;S_h -->\n",
       "<g id=\"edge8\" class=\"edge\">\n",
       "<title>&lambda;_v&#45;&gt;S_h</title>\n",
       "<path fill=\"none\" stroke=\"black\" d=\"M21.28,-23.5C28.22,-23.5 38.01,-23.5 47.8,-23.5\"/>\n",
       "<polygon fill=\"black\" stroke=\"black\" points=\"47.87,-27 57.87,-23.5 47.87,-20 47.87,-27\"/>\n",
       "</g>\n",
       "</g>\n",
       "</svg>\n"
      ],
      "text/plain": [
       "<graphviz.dot.Digraph at 0x125076e50>"
      ]
     },
     "execution_count": 13,
     "metadata": {},
     "output_type": "execute_result"
    }
   ],
   "source": [
    "ode.get_transition_graph()"
   ]
  },
  {
   "cell_type": "code",
   "execution_count": null,
   "metadata": {},
   "outputs": [],
   "source": []
  }
 ],
 "metadata": {
  "kernelspec": {
   "display_name": "Python 3",
   "language": "python",
   "name": "python3"
  },
  "language_info": {
   "codemirror_mode": {
    "name": "ipython",
    "version": 3
   },
   "file_extension": ".py",
   "mimetype": "text/x-python",
   "name": "python",
   "nbconvert_exporter": "python",
   "pygments_lexer": "ipython3",
   "version": "3.7.4"
  },
  "toc": {
   "base_numbering": 1,
   "nav_menu": {},
   "number_sections": true,
   "sideBar": true,
   "skip_h1_title": false,
   "title_cell": "Table of Contents",
   "title_sidebar": "Contents",
   "toc_cell": false,
   "toc_position": {},
   "toc_section_display": true,
   "toc_window_display": true
  }
 },
 "nbformat": 4,
 "nbformat_minor": 2
}
