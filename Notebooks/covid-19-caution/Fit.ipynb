{
 "cells": [
  {
   "cell_type": "markdown",
   "metadata": {
    "colab_type": "text",
    "id": "zWWq3zgge-R3"
   },
   "source": [
    "# Imports"
   ]
  },
  {
   "cell_type": "code",
   "execution_count": 1,
   "metadata": {
    "_cell_guid": "79c7e3d0-c299-4dcb-8224-4455121ee9b0",
    "_uuid": "d629ff2d2480ee46fbb7e2d37f6b5fab8052498a",
    "colab": {
     "base_uri": "https://localhost:8080/",
     "height": 607
    },
    "colab_type": "code",
    "id": "NHHL1iKyYN5-",
    "outputId": "c3af6e28-02ba-4ebf-d5dd-be29f9a68368"
   },
   "outputs": [
    {
     "data": {
      "text/html": [
       "<style>.container { width:100% !important; }</style>"
      ],
      "text/plain": [
       "<IPython.core.display.HTML object>"
      ]
     },
     "metadata": {},
     "output_type": "display_data"
    }
   ],
   "source": [
    "import numpy as np\n",
    "import pandas as pd\n",
    "pd.options.mode.chained_assignment = None  # default='warn'\n",
    "\n",
    "import matplotlib.pyplot as plt\n",
    "import datetime\n",
    "import matplotlib.dates as mdates\n",
    "%matplotlib inline \n",
    "#  !pip3 install mpld3\n",
    "# import mpld3\n",
    "#pld3.enable_notebook() causes plotting to not work???\n",
    "\n",
    "from scipy.integrate import odeint\n",
    "# !pip3 install lmfit\n",
    "import lmfit\n",
    "from lmfit.lineshapes import gaussian, lorentzian, exponential\n",
    "\n",
    "from time import time\n",
    "import warnings\n",
    "warnings.filterwarnings('ignore')\n",
    "# JSM added\n",
    "from IPython.core.display import display, HTML\n",
    "display(HTML(\"<style>.container { width:100% !important; }</style>\"))"
   ]
  },
  {
   "cell_type": "code",
   "execution_count": 2,
   "metadata": {},
   "outputs": [],
   "source": [
    "import sys"
   ]
  },
  {
   "cell_type": "code",
   "execution_count": 3,
   "metadata": {},
   "outputs": [
    {
     "name": "stdout",
     "output_type": "stream",
     "text": [
      "Getting data:\n",
      "getting JHU data...\n",
      "expanding JHU data : to new (daily), 7-day rolling (smoothed), reporting glitch (corrected) and combined\n",
      "expansion done.\n",
      "number of countries listed 274\n",
      "done with JHU data (covid_ts dictionary keys: confirmed, deaths, recovered).  Got  274 countries (countries_jhu).\n",
      "getting owid data...\n",
      "expanding OWID data : to new (daily), 7-day rolling (smoothed), reporting glitch (corrected) and combined\n",
      "done with OWID data (covid_owid_ts dictionary see .keys()) . Got 212 countries (countries_owid)\n",
      "WHO acute file found dictionary acute_who\n",
      "ICU file found dictionary icus_2012\n",
      "---------------------------------\n",
      "Done with data.\n",
      "---------------------------------\n",
      "Constructing common synchronized deaths, case and testing data...\n",
      "database JHU correct active True\n",
      "done.\n",
      "doing piecwise linear fits to testing data ...\n",
      "done.\n",
      "making cases with nonlinear testing adjustment...\n",
      "done.\n",
      "to change the nonlinear correction function, call make_cases_adj_nonlin(K), K=2 by default\n",
      "----------------------------------------\n",
      "Finished loading Cluster module\n",
      "----------------------------------------\n"
     ]
    }
   ],
   "source": [
    "from Cluster import * "
   ]
  },
  {
   "cell_type": "code",
   "execution_count": 4,
   "metadata": {},
   "outputs": [
    {
     "name": "stdout",
     "output_type": "stream",
     "text": [
      "loading data.py...\n",
      "done with data.py.\n",
      "making the models...\n",
      "SEI3R\n",
      "SC3EI3R\n",
      "SC3UEI3R\n",
      "done with the models.\n"
     ]
    }
   ],
   "source": [
    "from model_fits import *  # including ModelFit class definition."
   ]
  },
  {
   "cell_type": "code",
   "execution_count": 5,
   "metadata": {},
   "outputs": [
    {
     "name": "stdout",
     "output_type": "stream",
     "text": [
      "186 countries with population data\n",
      "common countries without population data []\n",
      "68 cluster countries\n"
     ]
    }
   ],
   "source": [
    "# eliminate countries with no population data (needed for normalizing death stats for fits)\n",
    "\n",
    "#for country in countries:\n",
    "#    if population_owid[country][0] == 0:\n",
    "#        print(country)\n",
    "        \n",
    "countries = [cc for cc in countries_common if population_owid[cc][-2] > 0]\n",
    "print(len(countries),'countries with population data')\n",
    "countries_zp = [cc for cc in countries_common if population_owid[cc][-2] == 0]\n",
    "print('common countries without population data',countries_zp)\n",
    "cluster_countries = [c for c in clusdata_all['deaths']]\n",
    "print(len(cluster_countries),'cluster countries')\n"
   ]
  },
  {
   "cell_type": "code",
   "execution_count": 6,
   "metadata": {},
   "outputs": [
    {
     "data": {
      "text/plain": [
       "['confirmed',\n",
       " 'deaths',\n",
       " 'recovered',\n",
       " 'new_deaths',\n",
       " 'new_deaths_smoothed',\n",
       " 'deaths_smoothed',\n",
       " 'new_deaths_corrected',\n",
       " 'new_deaths_corrected_smoothed',\n",
       " 'deaths_corrected_smoothed',\n",
       " 'new_confirmed',\n",
       " 'new_confirmed_smoothed',\n",
       " 'confirmed_smoothed',\n",
       " 'new_confirmed_corrected',\n",
       " 'new_confirmed_corrected_smoothed',\n",
       " 'confirmed_corrected_smoothed',\n",
       " 'new_recovered',\n",
       " 'new_recovered_smoothed',\n",
       " 'recovered_smoothed',\n",
       " 'new_recovered_corrected',\n",
       " 'new_recovered_corrected_smoothed',\n",
       " 'recovered_corrected_smoothed']"
      ]
     },
     "execution_count": 6,
     "metadata": {},
     "output_type": "execute_result"
    }
   ],
   "source": [
    "[x for x in covid_ts]"
   ]
  },
  {
   "cell_type": "code",
   "execution_count": 7,
   "metadata": {},
   "outputs": [
    {
     "data": {
      "text/plain": [
       "[<matplotlib.lines.Line2D at 0x1685c3590>]"
      ]
     },
     "execution_count": 7,
     "metadata": {},
     "output_type": "execute_result"
    },
    {
     "data": {
      "image/png": "[encoded data removed]",
      "text/plain": [
       "<Figure size 432x288 with 1 Axes>"
      ]
     },
     "metadata": {
      "needs_background": "light"
     },
     "output_type": "display_data"
    }
   ],
   "source": [
    "plt.plot(covid_ts['new_deaths_corrected_smoothed'][('Germany','')])"
   ]
  },
  {
   "cell_type": "markdown",
   "metadata": {
    "colab_type": "text",
    "id": "UUG85HqL2QEt"
   },
   "source": [
    "# Curve Fitting Example"
   ]
  },
  {
   "cell_type": "markdown",
   "metadata": {
    "colab_type": "text",
    "id": "smDsijEAjIdn"
   },
   "source": [
    "We want to fit the following curve:"
   ]
  },
  {
   "cell_type": "code",
   "execution_count": 8,
   "metadata": {},
   "outputs": [],
   "source": [
    "def exponential_growth(x,A,k):\n",
    "    return A*np.exp(x*k)"
   ]
  },
  {
   "cell_type": "code",
   "execution_count": 9,
   "metadata": {
    "colab": {
     "base_uri": "https://localhost:8080/",
     "height": 308
    },
    "colab_type": "code",
    "id": "K94m5zUu8BZi",
    "outputId": "c54d29d9-1938-4af9-f772-ad1096eab9ef"
   },
   "outputs": [
    {
     "data": {
      "image/png": "[encoded data removed]",
      "text/plain": [
       "<Figure size 432x288 with 1 Axes>"
      ]
     },
     "metadata": {
      "needs_background": "light"
     },
     "output_type": "display_data"
    }
   ],
   "source": [
    "np.random.seed(42)\n",
    "x = np.linspace(0, 20.0, 1001)\n",
    "\n",
    "data = (exponential_growth(x, 0.001, 0.4) * (1.0 + np.random.normal(scale=0.1, size=x.size)))  # exponential distr. with some noise\n",
    "plt.plot(x, data);"
   ]
  },
  {
   "cell_type": "markdown",
   "metadata": {
    "colab_type": "text",
    "id": "pvkRb20PjN_h"
   },
   "source": [
    "So we define a function that takes x as the first argument, and then the parameters to be fitted (a, b, c)"
   ]
  },
  {
   "cell_type": "code",
   "execution_count": 10,
   "metadata": {
    "colab": {},
    "colab_type": "code",
    "id": "kMjxTRw787xY"
   },
   "outputs": [],
   "source": [
    "def f(x, a, b):\n",
    "    return exponential_growth(x, a, b) "
   ]
  },
  {
   "cell_type": "code",
   "execution_count": 11,
   "metadata": {
    "colab": {},
    "colab_type": "code",
    "id": "b8w8XOME2Zn7"
   },
   "outputs": [],
   "source": [
    "mod = lmfit.Model(f)\n",
    "# we set the parameters (and some initial parameter guesses)\n",
    "mod.set_param_hint(\"a\", value=0.02, vary=True)\n",
    "mod.set_param_hint(\"b\", value=0.5, vary=True)\n",
    "\n",
    "params = mod.make_params()"
   ]
  },
  {
   "cell_type": "code",
   "execution_count": 12,
   "metadata": {
    "colab": {},
    "colab_type": "code",
    "id": "gCcll3Vw2Zom"
   },
   "outputs": [],
   "source": [
    "result = mod.fit(data, params, method=\"leastsq\", x=x)  # fitting"
   ]
  },
  {
   "cell_type": "code",
   "execution_count": 13,
   "metadata": {
    "colab": {
     "base_uri": "https://localhost:8080/",
     "height": 324
    },
    "colab_type": "code",
    "id": "DqJyEk1R2Zo9",
    "outputId": "03d0da61-35c4-4dcd-d938-85ffbdc844f5"
   },
   "outputs": [
    {
     "data": {
      "text/plain": [
       "{'a': 0.0011015708523488322, 'b': 0.3951473987912008}"
      ]
     },
     "execution_count": 13,
     "metadata": {},
     "output_type": "execute_result"
    },
    {
     "data": {
      "image/png": "[encoded data removed]",
      "text/plain": [
       "<Figure size 576x288 with 1 Axes>"
      ]
     },
     "metadata": {
      "needs_background": "light"
     },
     "output_type": "display_data"
    }
   ],
   "source": [
    "plt.figure(figsize=(8,4))\n",
    "result.plot_fit(datafmt=\"-\");\n",
    "result.best_values"
   ]
  },
  {
   "cell_type": "code",
   "execution_count": 14,
   "metadata": {
    "colab": {
     "base_uri": "https://localhost:8080/",
     "height": 466
    },
    "colab_type": "code",
    "id": "g2KdnIr42ZpM",
    "outputId": "d96e1771-7f84-4ce3-de7d-a5166410d14c"
   },
   "outputs": [
    {
     "data": {
      "text/html": [
       "<h2> Model</h2> Model(f) <h2>Fit Statistics</h2><table><tr><td>fitting method</td><td>leastsq</td><td></td></tr><tr><td># function evals</td><td>32</td><td></td></tr><tr><td># data points</td><td>1001</td><td></td></tr><tr><td># variables</td><td>2</td><td></td></tr><tr><td>chi-square</td><td> 5.38984593</td><td></td></tr><tr><td>reduced chi-square</td><td> 0.00539524</td><td></td></tr><tr><td>Akaike info crit.</td><td>-5225.46222</td><td></td></tr><tr><td>Bayesian info crit.</td><td>-5215.64471</td><td></td></tr></table><h2>Variables</h2><table><tr><th> name </th><th> value </th><th> standard error </th><th> relative error </th><th> initial value </th><th> min </th><th> max </th><th> vary </th></tr><tr><td> a </td><td>  0.00110157 </td><td>  5.0482e-05 </td><td> (4.58%) </td><td> 0.02 </td><td>        -inf </td><td>         inf </td><td> True </td></tr><tr><td> b </td><td>  0.39514740 </td><td>  0.00243938 </td><td> (0.62%) </td><td> 0.5 </td><td>        -inf </td><td>         inf </td><td> True </td></tr></table><h2>Correlations (unreported correlations are < 0.100)</h2><table><tr><td>a</td><td>b</td><td>-0.9977</td></tr></table>"
      ],
      "text/plain": [
       "<lmfit.model.ModelResult at 0x13d333710>"
      ]
     },
     "execution_count": 14,
     "metadata": {},
     "output_type": "execute_result"
    }
   ],
   "source": [
    "result"
   ]
  },
  {
   "cell_type": "markdown",
   "metadata": {},
   "source": [
    "# Use `Modelfit.solvefit()` with `lmfit`"
   ]
  },
  {
   "cell_type": "code",
   "execution_count": 15,
   "metadata": {},
   "outputs": [],
   "source": [
    "#  for debugging class methods without having to reload all of model_fits.py:\n",
    "#  file containing only ModelFit class, \n",
    "exec(open('ModelFit.py','r').read())"
   ]
  },
  {
   "cell_type": "code",
   "execution_count": 16,
   "metadata": {
    "scrolled": true
   },
   "outputs": [
    {
     "name": "stdout",
     "output_type": "stream",
     "text": [
      "loaded params from  /Users/john/projects/Covid-19/covid-recovery/Notebooks/covid-19-caution/params/SC3EI3R_Germany_test4.pk :\n"
     ]
    }
   ],
   "source": [
    "country = 'Germany'\n",
    "###############################################\n",
    "## do the fit\n",
    "MyModel = ModelFit('SC3EI3R',country=country,run_id=\"_test4\",data_src='jhu')"
   ]
  },
  {
   "cell_type": "code",
   "execution_count": null,
   "metadata": {},
   "outputs": [],
   "source": [
    "params_init_min_max = {\"beta_1\": (0.2, 0., 2.),\n",
    "                   \"mu\": (.1,0.,.2),\n",
    "                   \"c_0\": (0.1, 0., 1.0), \n",
    "                   \"c_1\": (0.07, 0.0, 0.5),\n",
    "                   \"c_2\": (5., 0.,20.), \n",
    "                    \"logI_0\": (-6.,-10.,0.0)}"
   ]
  },
  {
   "cell_type": "code",
   "execution_count": null,
   "metadata": {},
   "outputs": [],
   "source": [
    "MyModel.params"
   ]
  },
  {
   "cell_type": "code",
   "execution_count": null,
   "metadata": {},
   "outputs": [],
   "source": [
    "# MyModel.fit(params_init_min_max,diag=False) without fit report\n",
    "MyModel.fit(params_init_min_max,fit_targets=['deaths'],fit_data=['deaths_corrected_smoothed'])\n",
    "# MyModel.fit(params_init_min_max,fit_targets=['deaths','confirmed'],fit_data=['deaths_corrected_smoothed','confirmed_corrected_smoothed'])"
   ]
  },
  {
   "cell_type": "code",
   "execution_count": null,
   "metadata": {},
   "outputs": [],
   "source": [
    "MyModel.solveplot(['deaths'],datasets=['deaths_corrected_smoothed'])"
   ]
  },
  {
   "cell_type": "code",
   "execution_count": null,
   "metadata": {},
   "outputs": [],
   "source": [
    "MyModel.solveplot(['deaths','confirmed'],datasets=['deaths_corrected_smoothed','confirmed_corrected_smoothed'])"
   ]
  },
  {
   "cell_type": "code",
   "execution_count": null,
   "metadata": {},
   "outputs": [],
   "source": [
    "plt.semilogy(MyModel.residall);"
   ]
  },
  {
   "cell_type": "code",
   "execution_count": null,
   "metadata": {},
   "outputs": [],
   "source": [
    "foo = MyModel.solvefit('deaths','deaths_corrected_smoothed')\n",
    "\n",
    "plt.plot(foo['deaths']['data'],'o',alpha=0.2);\n",
    "plt.plot(foo['deaths']['soln'],color='red');"
   ]
  },
  {
   "cell_type": "code",
   "execution_count": null,
   "metadata": {},
   "outputs": [],
   "source": [
    "pars = [x for x in MyModel.paramall[0]]\n",
    "pars"
   ]
  },
  {
   "cell_type": "code",
   "execution_count": null,
   "metadata": {},
   "outputs": [],
   "source": [
    "for pp in pars:\n",
    "    pt = [x[pp].value for x in MyModel.paramall]\n",
    "    plt.plot(pt)\n",
    "    plt.title(pp)\n",
    "    plt.show()"
   ]
  },
  {
   "cell_type": "code",
   "execution_count": null,
   "metadata": {},
   "outputs": [],
   "source": [
    "p0 = [x[pars[5]] for x in MyModel.paramall]\n",
    "plt.plot(p0);"
   ]
  },
  {
   "cell_type": "code",
   "execution_count": null,
   "metadata": {},
   "outputs": [],
   "source": [
    "# outfit.params    # produces error\n",
    "MyModel.params"
   ]
  },
  {
   "cell_type": "markdown",
   "metadata": {},
   "source": [
    "## Trying different fitting methods...\n",
    "\n",
    "see [lmfit documentation](https://lmfit.github.io/lmfit-py/fitting.html) on fitting methods for the list.\n",
    "\n",
    "In this section I am using the same basic template to repeat the basic fitting operation with different fitting methods.\n",
    "\n",
    "All seem to work.  Some comments:\n",
    "* some (e.g. leastsq, differential_evolution) seem to hop all over the place, giving wildly varying residual socre and param convergence.\n",
    "* some (powell, cobyla)seem to converge fast at beginning, with a slow tail (view residual plot with semilog)\n",
    "* initially chose nelder, because of consistent gradual convergence.\n",
    "* then switched back to leastsq as it gave fast reliable results after other problems had been resolved"
   ]
  },
  {
   "cell_type": "markdown",
   "metadata": {},
   "source": [
    "## USA"
   ]
  },
  {
   "cell_type": "code",
   "execution_count": null,
   "metadata": {},
   "outputs": [],
   "source": [
    "#  for debugging class methods without having to reload all of model_fits.py:\n",
    "#  file containing only ModelFit class, \n",
    "exec(open('ModelFit.py','r').read())"
   ]
  },
  {
   "cell_type": "code",
   "execution_count": null,
   "metadata": {
    "scrolled": true
   },
   "outputs": [],
   "source": [
    "country = 'United States'\n",
    "###############################################\n",
    "## do the fit\n",
    "MyModel = ModelFit('SC3EI3R',country=country,run_id=\"_test2\")"
   ]
  },
  {
   "cell_type": "code",
   "execution_count": null,
   "metadata": {},
   "outputs": [],
   "source": [
    "params_init_min_max = {\"beta_1\": (0.2, 0., 2.),\n",
    "                   \"mu\": (.1,0.,.2),\n",
    "                   \"c_0\": (0.1, 0., 1.0), \n",
    "                   \"c_1\": (0.07, 0.0, 0.5),\n",
    "                   \"c_2\": (3., 0.,20.), \n",
    "                    \"logI_0\": (-6.,-10.,0.0)}"
   ]
  },
  {
   "cell_type": "code",
   "execution_count": null,
   "metadata": {},
   "outputs": [],
   "source": [
    "MyModel.params"
   ]
  },
  {
   "cell_type": "code",
   "execution_count": null,
   "metadata": {},
   "outputs": [],
   "source": [
    "# MyModel.fit(params_init_min_max,diag=False) without fit report\n",
    "MyModel.fit(params_init_min_max,param_class='ode')"
   ]
  },
  {
   "cell_type": "code",
   "execution_count": null,
   "metadata": {},
   "outputs": [],
   "source": [
    "MyModel.solveplot('deaths',datasets=['deaths_corrected_smoothed'])"
   ]
  },
  {
   "cell_type": "code",
   "execution_count": null,
   "metadata": {},
   "outputs": [],
   "source": [
    "plt.semilogy(MyModel.residall);"
   ]
  },
  {
   "cell_type": "code",
   "execution_count": null,
   "metadata": {},
   "outputs": [],
   "source": [
    "foo = MyModel.solvefit('deaths','deaths_corrected_smoothed')\n",
    "\n",
    "plt.plot(foo['deaths']['data'],'o',alpha=0.2);\n",
    "plt.plot(foo['deaths']['soln'],color='red');"
   ]
  },
  {
   "cell_type": "code",
   "execution_count": null,
   "metadata": {},
   "outputs": [],
   "source": [
    "pars = [x for x in MyModel.paramall[0]]\n",
    "pars\n",
    "\n",
    "for pp in pars:\n",
    "    pt = [x[pp].value for x in MyModel.paramall]\n",
    "    plt.plot(pt)\n",
    "    plt.title(pp)\n",
    "    plt.show()"
   ]
  },
  {
   "cell_type": "code",
   "execution_count": null,
   "metadata": {},
   "outputs": [],
   "source": [
    "p0 = [x[pars[5]] for x in MyModel.paramall]\n",
    "plt.plot(p0);"
   ]
  },
  {
   "cell_type": "code",
   "execution_count": null,
   "metadata": {},
   "outputs": [],
   "source": [
    "MyModel.params"
   ]
  },
  {
   "cell_type": "markdown",
   "metadata": {},
   "source": [
    "# ModelFit with lmfit integrated"
   ]
  },
  {
   "cell_type": "markdown",
   "metadata": {},
   "source": [
    "## SC3EI3R "
   ]
  },
  {
   "cell_type": "markdown",
   "metadata": {},
   "source": [
    "### Test on Germany"
   ]
  },
  {
   "cell_type": "code",
   "execution_count": null,
   "metadata": {},
   "outputs": [],
   "source": [
    "#  for debugging class methods without having to reload all of model_fits.py:\n",
    "#  file containing only ModelFit class, \n",
    "exec(open('ModelFit.py','r').read())"
   ]
  },
  {
   "cell_type": "code",
   "execution_count": null,
   "metadata": {
    "scrolled": true
   },
   "outputs": [],
   "source": [
    "country = 'Germany'\n",
    "###############################################\n",
    "## do the fit\n",
    "MyModel = ModelFit('SC3EI3R',country=country,run_id=\"_test2\")"
   ]
  },
  {
   "cell_type": "code",
   "execution_count": null,
   "metadata": {},
   "outputs": [],
   "source": [
    "params_init_min_max = {\"beta_1\": (0.2, 0., 2.),\n",
    "                   \"mu\": (.1,0.,.2),\n",
    "                   \"c_0\": (0.1, 0., 1.0), \n",
    "                   \"c_1\": (0.05, 0.0, 0.5),\n",
    "                   \"c_2\": (2., 0.,20.), \n",
    "                    \"logI_0\": (-6.,-10.,0.0)}"
   ]
  },
  {
   "cell_type": "code",
   "execution_count": null,
   "metadata": {},
   "outputs": [],
   "source": [
    "MyModel.params"
   ]
  },
  {
   "cell_type": "code",
   "execution_count": null,
   "metadata": {},
   "outputs": [],
   "source": [
    "# MyModel.fit(params_init_min_max,diag=False) without fit report\n",
    "MyModel.fit(params_init_min_max,fit_method='nelder',fit_targets=['deaths'],fit_data=['deaths_corrected_smoothed'])"
   ]
  },
  {
   "cell_type": "code",
   "execution_count": null,
   "metadata": {},
   "outputs": [],
   "source": [
    "MyModel.solveplot('deaths',datasets=['deaths_corrected_smoothed'])"
   ]
  },
  {
   "cell_type": "code",
   "execution_count": null,
   "metadata": {},
   "outputs": [],
   "source": [
    "plt.semilogy(MyModel.residall);"
   ]
  },
  {
   "cell_type": "markdown",
   "metadata": {},
   "source": [
    "#### slider plot"
   ]
  },
  {
   "cell_type": "code",
   "execution_count": null,
   "metadata": {},
   "outputs": [],
   "source": [
    "from IPython.display import display, HTML\n",
    "from ipywidgets.widgets import interact, interactive, IntSlider, FloatSlider, Layout, ToggleButton, ToggleButtons, fixed\n",
    "display(HTML(\"<style>.container { width:100% !important; }</style>\"))\n",
    "style = {'description_width': '100px'}\n",
    "slider_layout = Layout(width='99%')"
   ]
  },
  {
   "cell_type": "code",
   "execution_count": null,
   "metadata": {},
   "outputs": [],
   "source": [
    "# define with 4th tuple elt step size for sliders\n",
    "params_init_min_max = {\"beta_1\": (0.4, 0., 1., 0.001),\n",
    "                       \"alpha\": (0.2,0.,1.,0.001),\n",
    "                       \"mu\": (0.1,0.,.2,0.001),\n",
    "                       \"c_0\": (0.254, 0., 1.0,0.001),\n",
    "                       \"c_1\": (0.011, 0.0, 0.5,0.001),\n",
    "                       \"c_2\": (8.1, 2.,20.,0.01),\n",
    "                       \"logI_0\": (-6.95,-10.,0.0, 0.01)}"
   ]
  },
  {
   "cell_type": "code",
   "execution_count": null,
   "metadata": {},
   "outputs": [],
   "source": [
    "def slidefitplot(beta_1,alpha,mu,c_0,c_1,c_2,logI_0):\n",
    "    MyModel.set_param('beta_1',beta_1)\n",
    "    MyModel.set_param('alpha',alpha)\n",
    "    MyModel.set_param('mu',mu)\n",
    "    MyModel.set_param('c_0',c_0)\n",
    "    MyModel.set_param('c_1',c_1)\n",
    "    MyModel.set_param('c_2',c_2)\n",
    "    MyModel.set_I0(logI_0)         \n",
    "    MyModel.solveplot(species=['deaths','confirmed'],mag = {'deaths':10},datasets=['deaths_corrected_smoothed','confirmed_corrected_smoothed'],figsize = (15,15))"
   ]
  },
  {
   "cell_type": "code",
   "execution_count": null,
   "metadata": {},
   "outputs": [],
   "source": [
    "def allsliderparams(pimm={}):\n",
    "    \"\"\"input pimm is short name for params_init_min_max\"\"\"\n",
    "    if pimm == {}:\n",
    "        print('missing non empty dictionary params_init_min_max')\n",
    "        return\n",
    "    elif len(pimm[list(pimm.keys())[0]]) != 4:\n",
    "        print('dictionary params_init_min_max must contain tuples with 4 entries (val,min,max,step)')\n",
    "        return\n",
    "    slidedict = {}\n",
    "    for pm in pimm:\n",
    "        slidedict.update({pm:FloatSlider(min=pimm[pm][1],max=pimm[pm][2],step=pimm[pm][3],value=pimm[pm][0],description=pm,\n",
    "                            style=style,layout=slider_layout,continuous_update=False,readout_format='.3f')})\n",
    "    return slidedict        "
   ]
  },
  {
   "cell_type": "code",
   "execution_count": null,
   "metadata": {},
   "outputs": [],
   "source": [
    "sliderparams = allsliderparams(params_init_min_max)\n",
    "if sliderparams:\n",
    "    w=interactive(slidefitplot,**sliderparams)\n",
    "    display(w)"
   ]
  },
  {
   "cell_type": "code",
   "execution_count": null,
   "metadata": {},
   "outputs": [],
   "source": [
    "def print_pars(**kwargs):\n",
    "    for x in kwargs:\n",
    "        print(x,'\\t',kwargs[x])\n",
    "        \n",
    "print_pars(**MyModel.params)"
   ]
  },
  {
   "cell_type": "code",
   "execution_count": null,
   "metadata": {
    "scrolled": true
   },
   "outputs": [],
   "source": [
    "MyModel.model.parameters"
   ]
  },
  {
   "cell_type": "markdown",
   "metadata": {},
   "source": [
    "### Test on USA"
   ]
  },
  {
   "cell_type": "code",
   "execution_count": null,
   "metadata": {
    "scrolled": true
   },
   "outputs": [],
   "source": [
    "country = 'United States'\n",
    "###############################################\n",
    "## do the fit\n",
    "MyModel = ModelFit('SC3EI3R',country=country,run_id=\"_test2\")"
   ]
  },
  {
   "cell_type": "code",
   "execution_count": null,
   "metadata": {},
   "outputs": [],
   "source": [
    "params_init_min_max = {\"beta_1\": (0.2, 0., 2.),\n",
    "                   \"mu\": (.1,0.,.2),\n",
    "                   \"c_0\": (0.1, 0., 1.0), \n",
    "                   \"c_1\": (0.05, 0.0, 0.5),\n",
    "                   \"c_2\": (2., 0.,20.), \n",
    "                    \"logI_0\": (-6.,-10.,0.0)}"
   ]
  },
  {
   "cell_type": "code",
   "execution_count": null,
   "metadata": {},
   "outputs": [],
   "source": [
    "MyModel.params"
   ]
  },
  {
   "cell_type": "code",
   "execution_count": null,
   "metadata": {},
   "outputs": [],
   "source": [
    "# MyModel.fit(params_init_min_max,diag=False) without fit report\n",
    "MyModel.fit(params_init_min_max,fit_method='nelder')"
   ]
  },
  {
   "cell_type": "code",
   "execution_count": null,
   "metadata": {},
   "outputs": [],
   "source": [
    "MyModel.solveplot('deaths',datasets=['deaths_corrected_smoothed'])"
   ]
  },
  {
   "cell_type": "code",
   "execution_count": null,
   "metadata": {},
   "outputs": [],
   "source": [
    "plt.semilogy(MyModel.residall);"
   ]
  },
  {
   "cell_type": "markdown",
   "metadata": {},
   "source": [
    "#### slider plot"
   ]
  },
  {
   "cell_type": "code",
   "execution_count": null,
   "metadata": {},
   "outputs": [],
   "source": [
    "from IPython.display import display, HTML\n",
    "from ipywidgets.widgets import interact, interactive, IntSlider, FloatSlider, Layout, ToggleButton, ToggleButtons, fixed\n",
    "display(HTML(\"<style>.container { width:100% !important; }</style>\"))\n",
    "style = {'description_width': '100px'}\n",
    "slider_layout = Layout(width='99%')"
   ]
  },
  {
   "cell_type": "code",
   "execution_count": null,
   "metadata": {},
   "outputs": [],
   "source": [
    "# define with 4th tuple elt step size for sliders\n",
    "params_init_min_max = {\"beta_1\": (0.38, 0., 1., 0.001),\n",
    "                       \"alpha\": (0.2,0.,1.,0.001),\n",
    "                       \"mu\": (.125,0.,.2,0.001),\n",
    "                       \"c_0\": (0.246, 0., 1.0,0.001),\n",
    "                       \"c_1\": (0.044, 0.0, 0.5,0.001),\n",
    "                       \"c_2\": (6.21, 2.,20.,0.01),\n",
    "                       \"logI_0\": (-6.88,-10.,0.0, 0.01)}"
   ]
  },
  {
   "cell_type": "code",
   "execution_count": null,
   "metadata": {},
   "outputs": [],
   "source": [
    "def slidefitplot(**myparams):\n",
    "    for pm in myparams:\n",
    "        if pm is 'logI_0':\n",
    "            MyModel.set_I0(myparams[pm])\n",
    "        else:\n",
    "            if pm not in MyModel.params:\n",
    "                print('Error:  this',MyModel.modelname,'does not have parameter',pm)\n",
    "                return\n",
    "            else:\n",
    "                MyModel.set_param(pm,myparams[pm])\n",
    "    MyModel.solveplot(species=['deaths','confirmed'],mag = {'deaths':10},datasets=['deaths_corrected_smoothed','confirmed_corrected_smoothed'],figsize = (15,15))"
   ]
  },
  {
   "cell_type": "code",
   "execution_count": null,
   "metadata": {},
   "outputs": [],
   "source": [
    "def allsliderparams(pimm={}):\n",
    "    \"\"\"input pimm is short name for params_init_min_max\"\"\"\n",
    "    if pimm == {}:\n",
    "        print('missing non empty dictionary params_init_min_max')\n",
    "        return\n",
    "    elif len(pimm[list(pimm.keys())[0]]) != 4:\n",
    "        print('dictionary params_init_min_max must contain tuples with 4 entries (val,min,max,step)')\n",
    "        return\n",
    "    slidedict = {}\n",
    "    for pm in pimm:\n",
    "        slidedict.update({pm:FloatSlider(min=pimm[pm][1],max=pimm[pm][2],step=pimm[pm][3],value=pimm[pm][0],description=pm,\n",
    "                            style=style,layout=slider_layout,continuous_update=False,readout_format='.3f')})\n",
    "    return slidedict        "
   ]
  },
  {
   "cell_type": "code",
   "execution_count": null,
   "metadata": {},
   "outputs": [],
   "source": [
    "sliderparams = allsliderparams(params_init_min_max)\n",
    "if sliderparams:\n",
    "    w=interactive(slidefitplot,**sliderparams)\n",
    "    display(w)"
   ]
  },
  {
   "cell_type": "code",
   "execution_count": null,
   "metadata": {},
   "outputs": [],
   "source": [
    "MyModel.model.parameters"
   ]
  },
  {
   "cell_type": "markdown",
   "metadata": {},
   "source": [
    "### Country scan"
   ]
  },
  {
   "cell_type": "code",
   "execution_count": null,
   "metadata": {},
   "outputs": [],
   "source": [
    "countries[0]"
   ]
  },
  {
   "cell_type": "code",
   "execution_count": null,
   "metadata": {},
   "outputs": [],
   "source": [
    "short_countries = ['United States','Spain','Peru','Italy','Germany','Sweden','Iran','Russia']"
   ]
  },
  {
   "cell_type": "code",
   "execution_count": null,
   "metadata": {},
   "outputs": [],
   "source": [
    "cnt=0\n",
    "max_cols=8\n",
    "max_rows=int(len(short_countries)/max_cols) + 1\n",
    "# max_rows = 2   # for short test...\n",
    "fig, axes = plt.subplots(nrows=max_rows, ncols=max_cols, figsize=(24,3*max_rows))\n",
    "\n",
    "\n",
    "# params optimized in fit\n",
    "params_init_min_max = {\"beta_1\": (0.2, 0., 2.),\n",
    "                       \"mu\": (.1,0.,.2),\n",
    "                       \"c_0\": (0.1, 0., 1.0),\n",
    "                       \"c_1\": (0.07, 0.0, 0.5),\n",
    "                       \"c_2\": (5., 2.,20.),\n",
    "                       \"logI_0\": (-6.,-10.,0.0)}\n",
    "\n",
    "\n",
    "for idx, country  in enumerate(short_countries):\n",
    "    row = idx // max_cols\n",
    "    col = idx % max_cols\n",
    "    ###############################################\n",
    "    ## do the fit\n",
    "    try:\n",
    "        MyModel = ModelFit('SC3EI3R',country=country,run_id=\"_scan\") # run_id labels parameter dump files\n",
    "        MyModel.fit(params_init_min_max,diag=False,fit_targets=['deaths'],fit_data=['deaths_corrected_smoothed'])\n",
    "        MyModel.solveplot(species=['deaths','confirmed'],datasets=['deaths_corrected_smoothed','confirmed_corrected_smoothed'],axis=axes[row,col],newplot=False)       \n",
    "    except Exception as e:\n",
    "        print('Problem...')\n",
    "        print(sys.exc_info()[0])\n",
    "        print(e)\n",
    "    axes[row,col].set_title(country)\n",
    "    cnt = cnt+1\n",
    "    #if cnt==15:   # for short test\n",
    "    #    break\n",
    "    ###############################################\n",
    "\n",
    "for idx in range(cnt,max_rows*max_cols):\n",
    "    row = idx // max_cols\n",
    "    col = idx % max_cols\n",
    "    axes[row, col].axis(\"off\")\n",
    "#plt.subplots_adjust(wspace=.05, hspace=.05)\n",
    "fig.tight_layout()\n",
    "#for ax in fig.get_axes():\n",
    "#    ax.label_outer()\n",
    "plt.savefig('scan.SC3EI3R.pdf')\n",
    "plt.show()"
   ]
  },
  {
   "cell_type": "markdown",
   "metadata": {},
   "source": [
    "## Try for U model class"
   ]
  },
  {
   "cell_type": "code",
   "execution_count": null,
   "metadata": {},
   "outputs": [],
   "source": [
    "country = 'United States'\n",
    "###############################################\n",
    "## do the fit\n",
    "MyModel = ModelFit('SC3UEI3R',country=country,run_id=\"_test\")"
   ]
  },
  {
   "cell_type": "code",
   "execution_count": null,
   "metadata": {},
   "outputs": [],
   "source": [
    "{'beta_1': 0.37526113317338305,\n",
    " 'beta_2': 0.0,\n",
    " 'beta_3': 0.0,\n",
    " 'alpha': 0.2,\n",
    " 'gamma_1': 0.06999999999999999,\n",
    " 'gamma_2': 0.16666666666666666,\n",
    " 'gamma_3': 0.10000000000000003,\n",
    " 'p_1': 0.030000000000000013,\n",
    " 'p_2': 0.08333333333333334,\n",
    " 'mu': 0.11549404287611789,\n",
    " 'c_0': 0.2583441976053431,\n",
    " 'c_1': 0.03763741590817468,\n",
    " 'c_2': 3.620445327728954,\n",
    " 'N': 1}"
   ]
  },
  {
   "cell_type": "code",
   "execution_count": null,
   "metadata": {},
   "outputs": [],
   "source": [
    "params_init_min_max = {\"beta_1\": (0.37526113317338305, 0., 2.),\n",
    "                       \"alpha\": (0.2, 0., 1.),\n",
    "                       \"mu\": (0.11549404287611789,0.,.2),\n",
    "                       \"c_0\": (0.2583441976053431, 0., 1.0),\n",
    "                       \"c_1\": (0.03763741590817468, 0.0, 0.5),\n",
    "                       \"c_2\": (3.620445327728954, 2.,20.),\n",
    "                       \"k_u\": (1.0/5.0,0,1),\n",
    "                       \"k_1\": (1.0/90.0,0.0,1.0),\n",
    "#                       \"k_w\": (1.0/90.0,0.0,1.0),\n",
    "#                       \"kappa\": (0.5,0,1.0),\n",
    "                       \"logI_0\": (-6.,-10.,0.0)}"
   ]
  },
  {
   "cell_type": "code",
   "execution_count": null,
   "metadata": {},
   "outputs": [],
   "source": [
    "for pp in params_init_min_max:\n",
    "    if pp in MyModel.params:\n",
    "        print(pp,MyModel.params[pp],params_init_min_max[pp])\n",
    "    "
   ]
  },
  {
   "cell_type": "code",
   "execution_count": null,
   "metadata": {},
   "outputs": [],
   "source": [
    "# MyModel.fit(params_init_min_max,diag=False) without fit report\n",
    "MyModel.fit(params_init_min_max)"
   ]
  },
  {
   "cell_type": "code",
   "execution_count": null,
   "metadata": {},
   "outputs": [],
   "source": [
    "MyModel.solveplot(['deaths'],datasets=['deaths_corrected_smoothed'])"
   ]
  },
  {
   "cell_type": "code",
   "execution_count": null,
   "metadata": {},
   "outputs": [],
   "source": [
    "plt.semilogy(MyModel.residall);"
   ]
  },
  {
   "cell_type": "code",
   "execution_count": null,
   "metadata": {},
   "outputs": [],
   "source": [
    "# MyModel.fit(params_init_min_max,diag=False) without fit report\n",
    "MyModel.fit(params_init_min_max,fit_method='leastsq')"
   ]
  },
  {
   "cell_type": "code",
   "execution_count": null,
   "metadata": {},
   "outputs": [],
   "source": [
    "MyModel.solveplot('deaths',datasets=['deaths_corrected_smoothed'])"
   ]
  },
  {
   "cell_type": "code",
   "execution_count": null,
   "metadata": {},
   "outputs": [],
   "source": [
    "plt.semilogy(MyModel.residall);"
   ]
  },
  {
   "cell_type": "code",
   "execution_count": null,
   "metadata": {},
   "outputs": [],
   "source": [
    "foo = MyModel.solvefit(['deaths'])\n",
    "\n",
    "plt.plot(foo['deaths']['data'],'o',alpha=0.2);\n",
    "plt.plot(foo['deaths']['soln'],color='red');"
   ]
  },
  {
   "cell_type": "markdown",
   "metadata": {},
   "source": [
    "### slider plot"
   ]
  },
  {
   "cell_type": "code",
   "execution_count": null,
   "metadata": {},
   "outputs": [],
   "source": [
    "from IPython.display import display, HTML\n",
    "from ipywidgets.widgets import interact, interactive, IntSlider, FloatSlider, Layout, ToggleButton, ToggleButtons, fixed\n",
    "display(HTML(\"<style>.container { width:100% !important; }</style>\"))\n",
    "style = {'description_width': '100px'}\n",
    "slider_layout = Layout(width='99%')"
   ]
  },
  {
   "cell_type": "code",
   "execution_count": null,
   "metadata": {},
   "outputs": [],
   "source": [
    "# define with 4th tuple elt step size for sliders\n",
    "params_init_min_max = {\"beta_1\": (0.2, 0., 1., 0.001),\n",
    "                       \"alpha\": (0.1,0.,1.,0.001),\n",
    "                       \"mu\": (.1,0.,.2,0.001),\n",
    "                       \"c_0\": (0.1, 0., 1.0,0.001),\n",
    "                       \"c_1\": (0.07, 0.0, 0.5,0.001),\n",
    "                       \"c_2\": (5., 2.,20.,0.01),\n",
    "                       \"k_u\": (1.0/5.0,0,1,0.001),\n",
    "                       \"k_1\": (1.0/90.0,0.0,1.0,0.001),\n",
    "                       \"k_w\": (1.0/90.0,0.0,1.0,0.001),\n",
    "                       \"kappa\": (0.5,0.0,1.0,0.001),\n",
    "                       \"logI_0\": (-6.,-10.,0.0, 0.01)}"
   ]
  },
  {
   "cell_type": "code",
   "execution_count": null,
   "metadata": {},
   "outputs": [],
   "source": [
    "def slidefitplot(**myparams):\n",
    "    for pm in myparams:\n",
    "        if pm is 'logI_0':\n",
    "            MyModel.set_I0(myparams[pm])\n",
    "        else:\n",
    "            if pm not in MyModel.params:\n",
    "                print('Error:  this',MyModel.modelname,'does not have parameter',pm)\n",
    "                return\n",
    "            else:\n",
    "                MyModel.set_param(pm,myparams[pm])\n",
    "    MyModel.solveplot(species=['deaths','confirmed'],mag = {'deaths':10},datasets=['deaths_corrected_smoothed','confirmed_corrected_smoothed'],figsize = (15,15))"
   ]
  },
  {
   "cell_type": "code",
   "execution_count": null,
   "metadata": {},
   "outputs": [],
   "source": [
    "def allsliderparams(pimm={}):\n",
    "    \"\"\"input pimm is short name for params_init_min_max\"\"\"\n",
    "    if pimm == {}:\n",
    "        print('missing non empty dictionary params_init_min_max')\n",
    "        return\n",
    "    elif len(pimm[list(pimm.keys())[0]]) != 4:\n",
    "        print('dictionary params_init_min_max must contain tuples with 4 entries (val,min,max,step)')\n",
    "        return\n",
    "    slidedict = {}\n",
    "    for pm in pimm:\n",
    "        slidedict.update({pm:FloatSlider(min=pimm[pm][1],max=pimm[pm][2],step=pimm[pm][3],value=pimm[pm][0],description=pm,\n",
    "                            style=style,layout=slider_layout,continuous_update=False,readout_format='.3f')})\n",
    "    return slidedict        "
   ]
  },
  {
   "cell_type": "code",
   "execution_count": null,
   "metadata": {},
   "outputs": [],
   "source": [
    "sliderparams = allsliderparams(params_init_min_max)\n",
    "if sliderparams:\n",
    "    w=interactive(slidefitplot,**sliderparams)\n",
    "    display(w)"
   ]
  },
  {
   "cell_type": "code",
   "execution_count": null,
   "metadata": {},
   "outputs": [],
   "source": [
    "def print_pars(**kwargs):\n",
    "    for x in kwargs:\n",
    "        print(x,'\\t',kwargs[x])\n",
    "        \n",
    "print_pars()"
   ]
  },
  {
   "cell_type": "code",
   "execution_count": null,
   "metadata": {},
   "outputs": [],
   "source": [
    "print_pars(**MyModel.params)"
   ]
  },
  {
   "cell_type": "code",
   "execution_count": null,
   "metadata": {},
   "outputs": [],
   "source": [
    "MyModel.model.parameters"
   ]
  },
  {
   "cell_type": "markdown",
   "metadata": {},
   "source": [
    "### Country scan"
   ]
  },
  {
   "cell_type": "code",
   "execution_count": null,
   "metadata": {},
   "outputs": [],
   "source": [
    "countries = [c for c in clusdata_all['deaths']]\n",
    "len(countries)"
   ]
  },
  {
   "cell_type": "code",
   "execution_count": null,
   "metadata": {},
   "outputs": [],
   "source": [
    "short_countries = ['United States','Spain','Peru','Italy','Germany','Sweden','Iran','Russia']"
   ]
  },
  {
   "cell_type": "code",
   "execution_count": null,
   "metadata": {},
   "outputs": [],
   "source": [
    "MyModel = ModelFit('SC3UEI3R',country=short_countries[0],run_id=\"_scan\")"
   ]
  },
  {
   "cell_type": "code",
   "execution_count": null,
   "metadata": {},
   "outputs": [],
   "source": [
    "params_init_min_max = {\"beta_1\": (0.2, 0., 2.),\n",
    "                       \"mu\": (.1,0.,.2),\n",
    "                       \"c_0\": (0.1, 0., 1.0),\n",
    "                       \"c_1\": (0.07, 0.0, 0.5),\n",
    "                       \"c_2\": (5., 2.,20.),\n",
    "                       \"k_u\": (1.0/5.0,0,1),\n",
    "                       \"k_1\": (1.0/90.0,0.0,1.0),\n",
    "                       \"k_w\": (1.0/90.0,0.0,1.0),\n",
    "                       \"logI_0\": (-6.,-10.,0.0)}"
   ]
  },
  {
   "cell_type": "code",
   "execution_count": null,
   "metadata": {},
   "outputs": [],
   "source": [
    "MyModel.fit(params_init_min_max,diag=False)"
   ]
  },
  {
   "cell_type": "code",
   "execution_count": null,
   "metadata": {},
   "outputs": [],
   "source": [
    "MyModel.solveplot('deaths',datasets=['deaths_corrected_smoothed'])"
   ]
  },
  {
   "cell_type": "code",
   "execution_count": null,
   "metadata": {
    "scrolled": false
   },
   "outputs": [],
   "source": [
    "cnt=0\n",
    "max_cols=8\n",
    "max_rows=int(len(short_countries)/max_cols) + 1\n",
    "# max_rows = 2   # for short test...\n",
    "fig, axes = plt.subplots(nrows=max_rows, ncols=max_cols, figsize=(24,3*max_rows))\n",
    "\n",
    "\n",
    "# params optimized in fit\n",
    "params_init_min_max = {\"beta_1\": (0.2, 0.1, 0.5),\n",
    "                       \"mu\": (.1,0.05,.2),\n",
    "                       \"c_0\": (0.1, 0.05, 0.5),\n",
    "                       \"c_1\": (0.07, 0.02, 0.2),\n",
    "                       \"c_2\": (5., 2.,20.),\n",
    "                       \"k_u\": (1.0/5.0,0,1),\n",
    "                       \"k_1\": (1.0/90.0,0.0,1.0),\n",
    "                       \"k_w\": (1.0/90.0,0.0,1.0),\n",
    "                       \"logI_0\": (-6.,-10.,0.0)}\n",
    "\n",
    "\n",
    "for idx, country  in enumerate(short_countries):\n",
    "    row = idx // max_cols\n",
    "    col = idx % max_cols\n",
    "    ###############################################\n",
    "    ## do the fit\n",
    "    try:\n",
    "        MyModel = ModelFit('SC3UEI3R',country=country,run_id=\"_scan\",data_src='jhu') # run_id labels parameter dump files\n",
    "        MyModel.fit(params_init_min_max,diag=False,fit_targets=['deaths'],fit_data='deaths_corrected_smoothed')\n",
    "        MyModel.solveplot(['deaths'],datasets=['deaths_corrected_smoothed'],axis=axes[row,col],newplot=False)\n",
    "    except Exception as e:\n",
    "        print('Problem...')\n",
    "        print(sys.exc_info()[0])\n",
    "        print(e)\n",
    "    axes[row,col].set_title(country)\n",
    "    cnt = cnt+1\n",
    "    #if cnt==15:   # for short test\n",
    "    #    break\n",
    "    ###############################################\n",
    "\n",
    "for idx in range(cnt,max_rows*max_cols):\n",
    "    row = idx // max_cols\n",
    "    col = idx % max_cols\n",
    "    axes[row, col].axis(\"off\")\n",
    "#plt.subplots_adjust(wspace=.05, hspace=.05)\n",
    "fig.tight_layout()\n",
    "#for ax in fig.get_axes():\n",
    "#    ax.label_outer()\n",
    "plt.savefig('scan.SC3UEI3R.pdf')\n",
    "plt.show()"
   ]
  },
  {
   "cell_type": "markdown",
   "metadata": {},
   "source": [
    "# Pygom + minimize with sensitivities"
   ]
  },
  {
   "cell_type": "markdown",
   "metadata": {},
   "source": [
    "## Previous pygom fitting example from `Caution_paper_Fitting`"
   ]
  },
  {
   "cell_type": "code",
   "execution_count": null,
   "metadata": {},
   "outputs": [],
   "source": [
    "test_country = 'Germany'\n",
    "fitdata = covid_ts['new_deaths_corrected_smoothed'][(test_country,'')]\n",
    "t = list(range(len(fitdata)))"
   ]
  },
  {
   "cell_type": "code",
   "execution_count": null,
   "metadata": {},
   "outputs": [],
   "source": [
    "plt.plot(fitdata);"
   ]
  },
  {
   "cell_type": "code",
   "execution_count": null,
   "metadata": {},
   "outputs": [],
   "source": [
    "model = 'SC3UEI3R'\n",
    "I_0 =  0.00003\n",
    "x0_SC3UEI3R = [1.0-I_0, 0.0, I_0, 0.0, 0.0, 0.0, 0.0, 0.0, 0.0, 0.0, 0.0, 1.0]\n",
    "SC3UEI3R_model.initial_values = (x0_SC3UEI3R, t[0])\n",
    "\n",
    "# Define parameters based on clinical observations Dr. Alison\n",
    "Exposure=0.4 # Rate coefficient for exposure per individual in contact per day\n",
    "IncubPeriod=5  #Incubation period, days\n",
    "DurMildInf=8 #Duration of mild infections, days\n",
    "FracMild=0.65  #Fraction of infections that are mild\n",
    "FracSevere=0.20 #Fraction of infections that are severe\n",
    "FracCritical=0.15 #Fraction of infections that are critical\n",
    "CFR=0.1 #Case fatality rate (fraction of infections resulting in death)\n",
    "TimeICUDeath=4 #Time from ICU admission to death, days\n",
    "DurHosp=5 #Duration of hospitalization, days\n",
    "\n",
    "# Model fitting extension to allow for incomplete detection\n",
    "FracConfirmedDet=0.5  # Fraction of recovered individuals measured\n",
    "FracRecoveredDet=FracConfirmedDet # Fraction of recovered individuals measured\n",
    "FracDeathsDet=1.0\n",
    "\n",
    "# Model extension by John McCaskill to include caution \n",
    "CautionFactor= 0.1 # Fractional reduction of exposure rate for cautioned individuals\n",
    "CautionRetention= 60. # Duration of cautionary state of susceptibles (2 weeks)\n",
    "CautionICUFrac= 0.1 # Fraction of ICUs occupied leading to transition to caution @ 1/day\n",
    "ICUFrac= 0.001 # Fraction of ICUs relative to population size N\n",
    "\n",
    "# Model extension by John McCaskill to include economic influence on caution \n",
    "EconomicCostOfCaution= 0.5 # Fractional reduction of economic contribution for cautioned individuals\n",
    "\n",
    "p = [0,(1.0/DurMildInf)-(1.0/DurMildInf)*FracMild,  (1.0/DurHosp)*(FracCritical/(FracCritical+FracSevere))]\n",
    "g = [0,(1.0/DurMildInf)*FracMild,   (1.0/DurHosp)-(1/DurHosp)*(FracCritical/(FracCritical+FracSevere)),\n",
    "           (1.0/TimeICUDeath)-(1/TimeICUDeath)*(CFR/FracCritical)]\n",
    "u = (1.0/TimeICUDeath)*(CFR/FracCritical)\n",
    "                \n",
    "params = {'beta_1' : Exposure/sum(x0_SC3UEI3R),\n",
    "          'beta_2' : 0.0,\n",
    "          'beta_3' : 0.0,\n",
    "          'alpha' : 1.0/IncubPeriod,\n",
    "          'gamma_1': (1.0/DurMildInf)*FracMild,\n",
    "          'gamma_2': (1.0/DurHosp)-(1/DurHosp)*(FracCritical/(FracCritical+FracSevere)),\n",
    "          'gamma_3': (1.0/TimeICUDeath)-(1/TimeICUDeath)*(CFR/FracCritical),\n",
    "          'p_1'    : (1.0/DurMildInf)-(1.0/DurMildInf)*FracMild,\n",
    "          'p_2'    : (1.0/DurHosp)*(FracCritical/(FracCritical+FracSevere)),\n",
    "          'mu'    : (1.0/TimeICUDeath)*(CFR/FracCritical),\n",
    "          'c_0'    : CautionFactor,\n",
    "          'c_1'    : 1.0/CautionRetention,\n",
    "          'c_2'    : 1.0/(ICUFrac*CautionICUFrac),\n",
    "          'k_u'    : 1.0/5.,\n",
    "          'k_1'    : 1.0/90,\n",
    "          'k_w'    : 1.0/90,\n",
    "          'kappa'  : EconomicCostOfCaution,\n",
    "          'N'      : sum(x0_SC3UEI3R)}\n",
    "\n",
    "print(params)\n",
    "SC3UEI3R_model.parameters = params.copy()"
   ]
  },
  {
   "cell_type": "code",
   "execution_count": null,
   "metadata": {},
   "outputs": [],
   "source": [
    "SC3EI3R_model.parameters = {'beta_1': 0.4, 'beta_2': 0.0, 'beta_3': 0.0, 'alpha': 0.2, 'gamma_1': 0.06999999999999999, 'gamma_2': 0.16666666666666669, 'gamma_3': 0.1, 'p_1': 0.030000000000000013, 'p_2': 0.08333333333333333, 'mu': 0.1, 'c_0': 0.1, 'c_1': 0.016666666666666666, 'c_2': 10000.0, 'N': 1.0}"
   ]
  },
  {
   "cell_type": "code",
   "execution_count": null,
   "metadata": {},
   "outputs": [],
   "source": [
    "np.shape(t)"
   ]
  },
  {
   "cell_type": "code",
   "execution_count": null,
   "metadata": {},
   "outputs": [],
   "source": [
    "# Initial guess of parameters and initial condition, and bounding constraints\n",
    "I0 =10**-7\n",
    "x0_SC3EI3R = [1.-I0,0.,I0,0.,0.,0.,0.,0.,0.,0.]\n",
    "SC3EI3R_model.parameters={'beta_1': 0.41, 'mu': 0.1, 'c_0': 0.1, 'c_1': 0.0166, 'c_2': 10000.0}\n",
    "cautionparams = list(params.values())[-4:-1]\n",
    "theta = [0.40,0.1,0.3,0.0167,1000.] # cautionparams\n",
    "# boxBounds = [(0.2,0.5),(0.03,0.15),(0.3,0.5),(0.01,0.02),(6000.,12000.)]\n",
    "boxBounds = [(0.2,0.5),(0.03,0.15),(0.3,0.5),(0.01,0.02),(600.,1200.)]\n",
    "# set up optimization function with cost and sensitivity (Jacobian)\n",
    "objSC3EI3R = SquareLoss(theta=theta, ode=SC3EI3R_model, x0=x0_SC3EI3R, t0=t[0], t=t[1::], y=fitdata[1:],\n",
    "                      # state_weight=[1.,10.],state_name=['R','D'],\n",
    "                        state_weight=[1.],state_name=['D'],\n",
    "                        target_param=['beta_1','mu','c_0','c_1','c_2'],target_state=['I_1'])\n",
    "# perform optimization\n",
    "res = minimize(fun=objSC3EI3R.costIV,\n",
    "                jac=objSC3EI3R.sensitivityIV,\n",
    "                x0=theta+[I0],\n",
    "                bounds=boxBounds+[(0.00000001,0.000001)],\n",
    "                # method='BFGS',\n",
    "                method='SLSQP',\n",
    "                #options={'disp':True,'maxiter':1000,'eps':0.01,'gtol':0.01})\n",
    "                #options={'disp':True})\n",
    "                options={'disp':True,'maxiter':1000,'eps':0.01,'ftol':0.01})\n",
    "print(res)"
   ]
  },
  {
   "cell_type": "code",
   "execution_count": null,
   "metadata": {},
   "outputs": [],
   "source": []
  },
  {
   "cell_type": "markdown",
   "metadata": {},
   "source": [
    "# Fitting base params"
   ]
  },
  {
   "cell_type": "code",
   "execution_count": 17,
   "metadata": {},
   "outputs": [
    {
     "data": {
      "text/plain": [
       "['allsliderparams',\n",
       " 'baseparams',\n",
       " 'cbparams',\n",
       " 'dbparams',\n",
       " 'dumpparams',\n",
       " 'fbparams',\n",
       " 'getparams',\n",
       " 'loadparams',\n",
       " 'paramfile',\n",
       " 'params',\n",
       " 'prparams',\n",
       " 'sbparams',\n",
       " 'set_base_param',\n",
       " 'set_param',\n",
       " 'transfer_fit_to_params_init']"
      ]
     },
     "execution_count": 17,
     "metadata": {},
     "output_type": "execute_result"
    }
   ],
   "source": [
    "[x for x in dir(MyModel) if 'param' in x]"
   ]
  },
  {
   "cell_type": "code",
   "execution_count": 18,
   "metadata": {},
   "outputs": [
    {
     "name": "stdout",
     "output_type": "stream",
     "text": [
      "params:\n",
      "{'N': 1,\n",
      " 'alpha': 0.2,\n",
      " 'beta_1': 0.522154384810329,\n",
      " 'beta_2': 0.0,\n",
      " 'beta_3': 0.0,\n",
      " 'c_0': 0.27297943349426335,\n",
      " 'c_1': 0.01111112083169349,\n",
      " 'c_2': 2.7433036116273657,\n",
      " 'gamma_1': 0.14404454590914773,\n",
      " 'gamma_2': 0.08029194294247645,\n",
      " 'gamma_3': 0.09962217064130371,\n",
      " 'mu': 0.04324521657484498,\n",
      " 'p_1': 0.05590304112129646,\n",
      " 'p_2': 0.04470885034915702}\n",
      "sbparams:\n",
      "{'CFR': 0.030269480962375767,\n",
      " 'DurHosp': 7.999949229657664,\n",
      " 'DurMildInf': 5.0013106677188315,\n",
      " 'Exposure': 0.522154384810329,\n",
      " 'FracCritical': 0.09999999999997877,\n",
      " 'FracMild': 0.7204115240821355,\n",
      " 'ICUFrac': 0.001,\n",
      " 'IncubPeriod': 5,\n",
      " 'TimeICUDeath': 6.999498062402917,\n",
      " 'logI_0': -6.476692313869581}\n",
      "pfbarams:\n",
      "{'FracConfirmedDet': 0.5287027008126929, 'FracDeathsDet': 0.9999963632483881}\n",
      "cbparams:\n",
      "{'CautionExposure': 0.3645239979131534,\n",
      " 'CautionFactor': 0.27297943349426335,\n",
      " 'CautionRetention': 89.99992126335161,\n",
      " 'EconomicCostOfCaution': 0.5,\n",
      " 'EconomicRetention': 76.48881591515169,\n",
      " 'EconomicStriction': 30.0,\n",
      " 'EconomyRelaxation': 60.0}\n",
      "dbparams:\n",
      "{'country': 'Germany', 'data_src': 'owid', 'run_name': 'SC3EI3R'}\n",
      "initial_values:\n",
      "(array([9.99999666e-01, 0.00000000e+00, 3.33662720e-07, 0.00000000e+00,\n",
      "       0.00000000e+00, 0.00000000e+00, 0.00000000e+00, 0.00000000e+00,\n",
      "       0.00000000e+00, 0.00000000e+00]),\n",
      " 0)\n"
     ]
    }
   ],
   "source": [
    "MyModel.prparams()\n"
   ]
  },
  {
   "cell_type": "code",
   "execution_count": 19,
   "metadata": {},
   "outputs": [],
   "source": [
    "#  for debugging class methods without having to reload all of model_fits.py:\n",
    "#  file containing only ModelFit class, \n",
    "exec(open('ModelFit.py','r').read())"
   ]
  },
  {
   "cell_type": "markdown",
   "metadata": {},
   "source": [
    "## parameter setup for 3 rounds of fitting with standard values (use copy if want to edit)"
   ]
  },
  {
   "cell_type": "code",
   "execution_count": 31,
   "metadata": {},
   "outputs": [],
   "source": [
    "params_init_min_max_1 = {\n",
    "    'Exposure': (0.4, .05, 1.0, 0.001),\n",
    "    'logI_0': (np.log10(0.0000003), -10. ,-4. , 0.001),\n",
    "    'CautionFactor': (0.1, 0.01, 1.0, 0.001),\n",
    "    'CautionRetention': (60 , 15, 90, 0.01 ),\n",
    "    'CautionExposure': (0.1 , 0.01, 1., 0.001 ),\n",
    "    'FracConfirmedDet':(0.5,0.2,1.0,0.001)\n",
    "}"
   ]
  },
  {
   "cell_type": "code",
   "execution_count": 32,
   "metadata": {},
   "outputs": [],
   "source": [
    "params_init_min_max_1U = {\n",
    "    'Exposure': (0.4, .05, 1.0, 0.001),\n",
    "    'logI_0': (np.log10(0.0000003), -10. ,-4. , 0.001),\n",
    "    'CautionFactor': (0.1, 0.01, 1.0, 0.001),\n",
    "    'CautionRetention': (60 , 15, 90, 0.01 ),\n",
    "    'CautionExposure': (0.1 , 0.01, 1., 0.001 ),\n",
    "    'FracConfirmedDet':(0.5,0.2,1.0,0.001)\n",
    "}"
   ]
  },
  {
   "cell_type": "code",
   "execution_count": 33,
   "metadata": {},
   "outputs": [],
   "source": [
    "params_init_min_max_2 = {\n",
    "    'FracMild': (0.7,0.6,0.85,0.001),\n",
    "    'FracCritical': (0.1,0.05,0.15,0.001),\n",
    "    'CFR': (0.05, 0.03,0.1,0.001),\n",
    "    'DurHosp': (4, 2, 8, 0.01),\n",
    "    'DurMildInf': (10, 5, 20, 0.01),\n",
    "    'Exposure': (0.4, .05, 1.0, 0.001),\n",
    "    'logI_0': (np.log10(0.0000003), -10. ,-4. , 0.001),\n",
    "    'TimeICUDeath': (5, 2, 7, 0.01),\n",
    "    'CautionFactor': (0.2, 0.1, 0.3, 0.001),\n",
    "    'CautionRetention': (60 , 15, 90, 0.01 ),\n",
    "    'CautionExposure': (0.2 , 0.1, 1., 0.001 ),\n",
    "    'FracConfirmedDet':(0.5,0.1,1.0,0.001),\n",
    "    'FracDeathsDet':(1,0.3,1.0,0.001)\n",
    "}"
   ]
  },
  {
   "cell_type": "code",
   "execution_count": 34,
   "metadata": {},
   "outputs": [],
   "source": [
    "params_init_min_max_2U = {\n",
    "    'FracMild': (0.7,0.6,0.85,0.001),\n",
    "    'FracCritical': (0.1,0.05,0.15,0.001),\n",
    "    'CFR': (0.05, 0.03,0.1,0.001),\n",
    "    'DurHosp': (4, 2, 8, 0.01),\n",
    "    'DurMildInf': (10, 5, 20, 0.01),\n",
    "    'Exposure': (0.4, .05, 1.0, 0.001),\n",
    "    'logI_0': (np.log10(0.0000003), -10. ,-4. , 0.001),\n",
    "    'TimeICUDeath': (5, 2, 7, 0.01),\n",
    "    'CautionFactor': (0.2, 0.1, 0.3, 0.001),\n",
    "    'CautionRetention': (60 , 15, 90, 0.01 ),\n",
    "    'CautionExposure': (0.2 , 0.1, 1., 0.001 ),\n",
    "    'FracConfirmedDet':(0.5,0.1,1.0,0.001),\n",
    "    'FracDeathsDet':(1,0.3,1.0,0.001),\n",
    "    'EconomicRetention': (60,15,90,0.01)\n",
    "}"
   ]
  },
  {
   "cell_type": "code",
   "execution_count": 35,
   "metadata": {},
   "outputs": [],
   "source": [
    "params_init_min_max_3 = {\n",
    "    'FracMild': (0.7,0.6,0.85,0.001),\n",
    "    'FracCritical': (0.1,0.05,0.15,0.001),\n",
    "    'CFR': (0.05, 0.03,0.1,0.001),\n",
    "    'DurHosp': (4, 2, 8, 0.01),\n",
    "    'DurMildInf': (10, 5, 20, 0.01),\n",
    "    'Exposure': (0.4, .05, 1.0, 0.001),\n",
    "    'logI_0': (np.log10(0.0000003), -10. ,-4. , 0.001),\n",
    "    'IncubPeriod': (5, 2, 7, 0.01),\n",
    "    'TimeICUDeath': (5, 2, 7, 0.01),\n",
    "    'CautionFactor': (0.2, 0.1, 0.3, 0.001),\n",
    "    'CautionRetention': (60 , 15, 90, 0.01 ),\n",
    "    'CautionExposure': (0.2 , 0.1, 1., 0.001 ),\n",
    "    'FracConfirmedDet':(0.5,0.1,1.0,0.001),\n",
    "    'FracDeathsDet':(1,0.25,1.0,0.001)\n",
    "}"
   ]
  },
  {
   "cell_type": "code",
   "execution_count": 36,
   "metadata": {},
   "outputs": [],
   "source": [
    "params_init_min_max_3U = {\n",
    "    'FracMild': (0.7,0.6,0.85,0.001),\n",
    "    'FracCritical': (0.1,0.05,0.15,0.001),\n",
    "    'CFR': (0.05, 0.03,0.1,0.001),\n",
    "    'DurHosp': (4, 2, 8, 0.01),\n",
    "    'DurMildInf': (10, 5, 20, 0.01),\n",
    "    'Exposure': (0.4, .05, 1.0, 0.001),\n",
    "    'logI_0': (np.log10(0.0000003), -10. ,-4. , 0.001),\n",
    "    'IncubPeriod': (5, 2, 7, 0.01),\n",
    "    'TimeICUDeath': (5, 2, 7, 0.01),\n",
    "    'CautionFactor': (0.2, 0.1, 0.3, 0.001),\n",
    "    'CautionRetention': (60 , 15, 90, 0.01 ),\n",
    "    'CautionExposure': (0.2 , 0.1, 1., 0.001 ),\n",
    "    'FracConfirmedDet':(0.5,0.1,1.0,0.001),\n",
    "    'FracDeathsDet':(1,0.25,1.0,0.001),\n",
    "    'EconomicRetention': (60,15,90,0.01),\n",
    "    'EconomicStriction': (30,15,90,0.01),\n",
    "    'EconomicRelaxation': (60,15,90,0.01),\n",
    "    'EconomicCostOfCaution': (0.5,0.1,0.9,0.001)\n",
    "}"
   ]
  },
  {
   "cell_type": "markdown",
   "metadata": {},
   "source": [
    "## Example Germany"
   ]
  },
  {
   "cell_type": "code",
   "execution_count": 37,
   "metadata": {
    "scrolled": true
   },
   "outputs": [
    {
     "name": "stdout",
     "output_type": "stream",
     "text": [
      "loaded params from  /Users/john/projects/Covid-19/covid-recovery/Notebooks/covid-19-caution/params/SC3EI3R_Germany_test4.pk :\n"
     ]
    }
   ],
   "source": [
    "country = 'Germany'\n",
    "###############################################\n",
    "## do the fit\n",
    "MyModel = ModelFit('SC3EI3R',country=country,run_id=\"_test4\")"
   ]
  },
  {
   "cell_type": "code",
   "execution_count": 38,
   "metadata": {
    "code_folding": []
   },
   "outputs": [
    {
     "name": "stdout",
     "output_type": "stream",
     "text": [
      "elapsed time =  10.46503496170044\n",
      "[[Fit Statistics]]\n",
      "    # fitting method   = Nelder-Mead\n",
      "    # function evals   = 869\n",
      "    # data points      = 253\n",
      "    # variables        = 6\n",
      "    chi-square         = 6.0907e-10\n",
      "    reduced chi-square = 2.4659e-12\n",
      "    Akaike info crit   = -6756.37560\n",
      "    Bayesian info crit = -6735.17526\n",
      "##  Warning: uncertainties could not be estimated:\n",
      "[[Variables]]\n",
      "    Exposure:          0.41220103 (init = 0.4)\n",
      "    logI_0:           -6.44726239 (init = -6.522879)\n",
      "    CautionFactor:     0.10240039 (init = 0.1)\n",
      "    CautionRetention:  89.3068416 (init = 60)\n",
      "    CautionExposure:   0.31644262 (init = 0.1)\n",
      "    FracConfirmedDet:  0.93468685 (init = 0.5)\n"
     ]
    }
   ],
   "source": [
    "# MyModel.fit(params_init_min_max,diag=False) without fit report\n",
    "MyModel.fit(params_init_min_max_1,param_class='base', fit_method='nelder',fit_targets=['deaths'],fit_data=['deaths_corrected_smoothed'])"
   ]
  },
  {
   "cell_type": "code",
   "execution_count": 39,
   "metadata": {},
   "outputs": [
    {
     "data": {
      "image/png": "[encoded data removed]",
      "text/plain": [
       "<Figure size 576x432 with 1 Axes>"
      ]
     },
     "metadata": {
      "needs_background": "light"
     },
     "output_type": "display_data"
    }
   ],
   "source": [
    "MyModel.solveplot('deaths',datasets=['deaths_corrected_smoothed'])"
   ]
  },
  {
   "cell_type": "code",
   "execution_count": 40,
   "metadata": {},
   "outputs": [
    {
     "data": {
      "image/png": "[encoded data removed]",
      "text/plain": [
       "<Figure size 432x288 with 1 Axes>"
      ]
     },
     "metadata": {
      "needs_background": "light"
     },
     "output_type": "display_data"
    }
   ],
   "source": [
    "plt.semilogy(MyModel.residall);"
   ]
  },
  {
   "cell_type": "code",
   "execution_count": 41,
   "metadata": {
    "scrolled": true
   },
   "outputs": [
    {
     "name": "stdout",
     "output_type": "stream",
     "text": [
      "elapsed time =  82.96990919113159\n",
      "[[Fit Statistics]]\n",
      "    # fitting method   = Nelder-Mead\n",
      "    # function evals   = 4262\n",
      "    # data points      = 253\n",
      "    # variables        = 13\n",
      "    chi-square         = 5.1815e-10\n",
      "    reduced chi-square = 2.1589e-12\n",
      "    Akaike info crit   = -6783.28127\n",
      "    Bayesian info crit = -6737.34721\n",
      "##  Warning: uncertainties could not be estimated:\n",
      "    FracCritical:      at initial value\n",
      "[[Variables]]\n",
      "    FracMild:          0.72592223 (init = 0.7204115)\n",
      "    FracCritical:      0.10000000 (init = 0.1)\n",
      "    CFR:               0.04206063 (init = 0.045)\n",
      "    DurHosp:           7.70860961 (init = 6.88)\n",
      "    DurMildInf:        7.04135511 (init = 7)\n",
      "    Exposure:          0.41060819 (init = 0.412201)\n",
      "    logI_0:           -6.35295064 (init = -6.447262)\n",
      "    TimeICUDeath:      6.99180383 (init = 6.999498)\n",
      "    CautionFactor:     0.16801942 (init = 0.1024004)\n",
      "    CautionRetention:  89.9985290 (init = 89.30684)\n",
      "    CautionExposure:   0.29146980 (init = 0.3164426)\n",
      "    FracConfirmedDet:  0.77354023 (init = 0.9346868)\n",
      "    FracDeathsDet:     0.99983629 (init = 0.9999964)\n"
     ]
    },
    {
     "data": {
      "image/png": "[encoded data removed]",
      "text/plain": [
       "<Figure size 576x432 with 1 Axes>"
      ]
     },
     "metadata": {
      "needs_background": "light"
     },
     "output_type": "display_data"
    }
   ],
   "source": [
    "# the optimized parameters from stage 1 are transferred to initial values for these parameters\n",
    "# in the larger set of parameters in stage 2\n",
    "params_init_min_max_2 = MyModel.transfer_fit_to_params_init(params_init_min_max_2)\n",
    "MyModel.fit(params_init_min_max_2,param_class='base', fit_method='nelder',fit_targets=['deaths'],fit_data=['deaths_corrected_smoothed'])\n",
    "MyModel.solveplot('deaths',datasets=['deaths_corrected_smoothed'])"
   ]
  },
  {
   "cell_type": "markdown",
   "metadata": {},
   "source": [
    "### slider plot for base params"
   ]
  },
  {
   "cell_type": "code",
   "execution_count": 42,
   "metadata": {},
   "outputs": [
    {
     "data": {
      "text/html": [
       "<style>.container { width:100% !important; }</style>"
      ],
      "text/plain": [
       "<IPython.core.display.HTML object>"
      ]
     },
     "metadata": {},
     "output_type": "display_data"
    }
   ],
   "source": [
    "from IPython.display import display, HTML\n",
    "from ipywidgets.widgets import interact, interactive, IntSlider, FloatSlider, Layout, ToggleButton, ToggleButtons, fixed\n",
    "display(HTML(\"<style>.container { width:100% !important; }</style>\"))\n",
    "style = {'description_width': '100px'}\n",
    "slider_layout = Layout(width='99%')"
   ]
  },
  {
   "cell_type": "code",
   "execution_count": 45,
   "metadata": {},
   "outputs": [
    {
     "data": {
      "application/vnd.jupyter.widget-view+json": {
       "model_id": "b2ae090112fb4206b3ccea33ada71254",
       "version_major": 2,
       "version_minor": 0
      },
      "text/plain": [
       "interactive(children=(FloatSlider(value=0.7204115240821355, continuous_update=False, description='FracMild', l…"
      ]
     },
     "metadata": {},
     "output_type": "display_data"
    }
   ],
   "source": [
    "sliderparams = MyModel.allsliderparams(params_init_min_max_2)\n",
    "if sliderparams:\n",
    "    w=interactive(MyModel.slidefitplot,param_class=fixed('base'),**sliderparams)\n",
    "    display(w)"
   ]
  },
  {
   "cell_type": "code",
   "execution_count": 46,
   "metadata": {},
   "outputs": [],
   "source": [
    "params_init_min_max_2_slider = params_init_min_max_2.copy()\n",
    "params_init_min_max_2_slider = MyModel.transfer_fit_to_params_init(params_init_min_max_2_slider)"
   ]
  },
  {
   "cell_type": "code",
   "execution_count": 48,
   "metadata": {
    "scrolled": true
   },
   "outputs": [
    {
     "name": "stdout",
     "output_type": "stream",
     "text": [
      "params:\n",
      "{'N': 1,\n",
      " 'alpha': 0.2,\n",
      " 'beta_1': 0.455,\n",
      " 'beta_2': 0.0,\n",
      " 'beta_3': 0.0,\n",
      " 'c_0': 0.10240038720786447,\n",
      " 'c_1': 0.011197350415866636,\n",
      " 'c_2': 3.160130564158993,\n",
      " 'gamma_1': 0.10291593201173363,\n",
      " 'gamma_2': 0.09336213184453221,\n",
      " 'gamma_3': 0.08572043232967709,\n",
      " 'mu': 0.057146954886471604,\n",
      " 'p_1': 0.03994121084540922,\n",
      " 'p_2': 0.051986705364770125}\n",
      "sbparams:\n",
      "{'CFR': 0.04,\n",
      " 'DurHosp': 6.88,\n",
      " 'DurMildInf': 7.0,\n",
      " 'Exposure': 0.455,\n",
      " 'FracCritical': 0.09999999999997877,\n",
      " 'FracMild': 0.7204115240821355,\n",
      " 'ICUFrac': 0.001,\n",
      " 'IncubPeriod': 5,\n",
      " 'TimeICUDeath': 6.999498062402917,\n",
      " 'logI_0': -6.352950638287567}\n",
      "pfbarams:\n",
      "{'FracConfirmedDet': 0.666, 'FracDeathsDet': 0.9999963632483881}\n",
      "cbparams:\n",
      "{'CautionExposure': 0.3164426214984983,\n",
      " 'CautionFactor': 0.10240038720786447,\n",
      " 'CautionRetention': 89.3068416062965,\n",
      " 'EconomicCostOfCaution': 0.5,\n",
      " 'EconomicRetention': 61.88,\n",
      " 'EconomicStriction': 30.0,\n",
      " 'EconomyRelaxation': 60.0}\n",
      "dbparams:\n",
      "{'country': 'Germany', 'data_src': 'owid', 'run_name': 'SC3EI3R'}\n",
      "initial_values:\n",
      "(array([9.99999744e-01, 0.00000000e+00, 2.56448404e-07, 0.00000000e+00,\n",
      "       0.00000000e+00, 0.00000000e+00, 0.00000000e+00, 0.00000000e+00,\n",
      "       0.00000000e+00, 0.00000000e+00]),\n",
      " 0)\n"
     ]
    }
   ],
   "source": [
    "MyModel.prparams()"
   ]
  },
  {
   "cell_type": "code",
   "execution_count": null,
   "metadata": {},
   "outputs": [],
   "source": []
  },
  {
   "cell_type": "markdown",
   "metadata": {},
   "source": [
    "### slider plot for ode params"
   ]
  },
  {
   "cell_type": "code",
   "execution_count": 49,
   "metadata": {},
   "outputs": [
    {
     "data": {
      "text/html": [
       "<style>.container { width:100% !important; }</style>"
      ],
      "text/plain": [
       "<IPython.core.display.HTML object>"
      ]
     },
     "metadata": {},
     "output_type": "display_data"
    }
   ],
   "source": [
    "from IPython.display import display, HTML\n",
    "from ipywidgets.widgets import interact, interactive, IntSlider, FloatSlider, Layout, ToggleButton, ToggleButtons, fixed\n",
    "display(HTML(\"<style>.container { width:100% !important; }</style>\"))\n",
    "style = {'description_width': '100px'}\n",
    "slider_layout = Layout(width='99%')"
   ]
  },
  {
   "cell_type": "code",
   "execution_count": 51,
   "metadata": {},
   "outputs": [],
   "source": [
    "# define with 4th tuple elt step size for sliders\n",
    "params_init_min_max = {\"beta_1\": (0.4, 0., 1., 0.001),\n",
    "                       \"alpha\": (0.2,0.,1.,0.001),\n",
    "                       \"mu\": (0.1,0.,.2,0.001),\n",
    "                       \"c_0\": (0.254, 0., 1.0,0.001),\n",
    "                       \"c_1\": (0.011, 0.0, 0.5,0.001),\n",
    "                       \"c_2\": (8.1, 2.,20.,0.01),\n",
    "                       \"logI_0\": (-6.95,-10.,0.0, 0.01)}"
   ]
  },
  {
   "cell_type": "code",
   "execution_count": 53,
   "metadata": {},
   "outputs": [
    {
     "data": {
      "application/vnd.jupyter.widget-view+json": {
       "model_id": "b8b80588fa8d44bea46368434e27537e",
       "version_major": 2,
       "version_minor": 0
      },
      "text/plain": [
       "interactive(children=(FloatSlider(value=0.4, continuous_update=False, description='beta_1', layout=Layout(widt…"
      ]
     },
     "metadata": {},
     "output_type": "display_data"
    }
   ],
   "source": [
    "sliderparams = MyModel.allsliderparams(params_init_min_max)\n",
    "if sliderparams:\n",
    "    w=interactive(MyModel.slidefitplot,param_class=fixed('ode'),**sliderparams)\n",
    "    display(w)"
   ]
  },
  {
   "cell_type": "code",
   "execution_count": 54,
   "metadata": {
    "scrolled": true
   },
   "outputs": [
    {
     "name": "stdout",
     "output_type": "stream",
     "text": [
      "params:\n",
      "{'N': 1,\n",
      " 'alpha': 0.2,\n",
      " 'beta_1': 0.487,\n",
      " 'beta_2': 0.0,\n",
      " 'beta_3': 0.0,\n",
      " 'c_0': 0.1,\n",
      " 'c_1': 0.011,\n",
      " 'c_2': 4.15,\n",
      " 'gamma_1': 0.10291593201173363,\n",
      " 'gamma_2': 0.09336213184453221,\n",
      " 'gamma_3': 0.08572043232967709,\n",
      " 'mu': 0.057,\n",
      " 'p_1': 0.03994121084540922,\n",
      " 'p_2': 0.051986705364770125}\n",
      "sbparams:\n",
      "{'CFR': 0.04,\n",
      " 'DurHosp': 6.88,\n",
      " 'DurMildInf': 7.0,\n",
      " 'Exposure': 0.455,\n",
      " 'FracCritical': 0.09999999999997877,\n",
      " 'FracMild': 0.7204115240821355,\n",
      " 'ICUFrac': 0.001,\n",
      " 'IncubPeriod': 5,\n",
      " 'TimeICUDeath': 6.999498062402917,\n",
      " 'logI_0': -6.352950638287567}\n",
      "pfbarams:\n",
      "{'FracConfirmedDet': 0.666, 'FracDeathsDet': 0.9999963632483881}\n",
      "cbparams:\n",
      "{'CautionExposure': 0.3164426214984983,\n",
      " 'CautionFactor': 0.10240038720786447,\n",
      " 'CautionRetention': 89.3068416062965,\n",
      " 'EconomicCostOfCaution': 0.5,\n",
      " 'EconomicRetention': 61.88,\n",
      " 'EconomicStriction': 30.0,\n",
      " 'EconomyRelaxation': 60.0}\n",
      "dbparams:\n",
      "{'country': 'Germany', 'data_src': 'owid', 'run_name': 'SC3EI3R'}\n",
      "initial_values:\n",
      "(array([9.99999888e-01, 0.00000000e+00, 1.12201845e-07, 0.00000000e+00,\n",
      "       0.00000000e+00, 0.00000000e+00, 0.00000000e+00, 0.00000000e+00,\n",
      "       0.00000000e+00, 0.00000000e+00]),\n",
      " 0)\n"
     ]
    }
   ],
   "source": [
    "MyModel.prparams()"
   ]
  },
  {
   "cell_type": "code",
   "execution_count": null,
   "metadata": {},
   "outputs": [],
   "source": []
  }
 ],
 "metadata": {
  "colab": {
   "collapsed_sections": [
    "UUG85HqL2QEt",
    "ZuuEGEUpiHEX"
   ],
   "name": "part_three.ipynb",
   "provenance": []
  },
  "kernelspec": {
   "display_name": "Python 3",
   "language": "python",
   "name": "python3"
  },
  "language_info": {
   "codemirror_mode": {
    "name": "ipython",
    "version": 3
   },
   "file_extension": ".py",
   "mimetype": "text/x-python",
   "name": "python",
   "nbconvert_exporter": "python",
   "pygments_lexer": "ipython3",
   "version": "3.7.4"
  },
  "toc": {
   "base_numbering": 1,
   "nav_menu": {
    "height": "510px",
    "width": "221px"
   },
   "number_sections": true,
   "sideBar": true,
   "skip_h1_title": false,
   "title_cell": "Table of Contents",
   "title_sidebar": "Contents",
   "toc_cell": false,
   "toc_position": {
    "height": "calc(100% - 180px)",
    "left": "10px",
    "top": "150px",
    "width": "398.0882263183594px"
   },
   "toc_section_display": true,
   "toc_window_display": true
  }
 },
 "nbformat": 4,
 "nbformat_minor": 1
}
