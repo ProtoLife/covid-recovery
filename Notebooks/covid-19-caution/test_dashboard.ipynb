{
 "cells": [
  {
   "cell_type": "code",
   "execution_count": 22,
   "metadata": {
    "extensions": {
     "jupyter_dashboards": {
      "version": 1,
      "views": {
       "default_view": {
        "hidden": true
       }
      }
     }
    }
   },
   "outputs": [],
   "source": [
    "import numpy as np\n",
    "import bqplot.pyplot as plt\n",
    "from bqplot import *"
   ]
  },
  {
   "cell_type": "code",
   "execution_count": 23,
   "metadata": {
    "extensions": {
     "jupyter_dashboards": {
      "version": 1,
      "views": {
       "default_view": {
        "col": 0,
        "height": 2,
        "hidden": false,
        "row": 14,
        "width": 12
       }
      }
     }
    }
   },
   "outputs": [],
   "source": [
    "axes_options = {'x': {'label': 'x'}, 'y': {'label': 'y'}};"
   ]
  },
  {
   "cell_type": "code",
   "execution_count": 37,
   "metadata": {
    "extensions": {
     "jupyter_dashboards": {
      "version": 1,
      "views": {
       "default_view": {
        "col": 0,
        "height": 2,
        "hidden": true,
        "row": 0,
        "width": 12
       }
      }
     }
    }
   },
   "outputs": [],
   "source": [
    "x = np.arange(100)\n",
    "y = np.cumsum(np.random.randn(2, 100), axis=1) #two random walks\n",
    "\n",
    "fig1 = plt.figure(animation_duration=2000)\n",
    "lines = plt.plot(x=x, y=y, colors=['red', 'green'], axes_options=axes_options)\n",
    "fig1.layout.width = '400px'\n",
    "fig1.layout.height = '200px';\n",
    "# fig1;"
   ]
  },
  {
   "cell_type": "code",
   "execution_count": 38,
   "metadata": {
    "extensions": {
     "jupyter_dashboards": {
      "version": 1,
      "views": {
       "default_view": {
        "col": 0,
        "height": 2,
        "hidden": false,
        "row": 16,
        "width": 12
       }
      }
     }
    }
   },
   "outputs": [],
   "source": [
    "fig2 = plt.figure(animation_duration=2000)\n",
    "x, y = np.random.rand(2, 20)\n",
    "scatt = plt.scatter(x, y, colors=['blue'], axes_options=axes_options)\n",
    "fig2.layout.width = '500px'\n",
    "fig2.layout.height = '700px';\n",
    "# fig2;"
   ]
  },
  {
   "cell_type": "code",
   "execution_count": 39,
   "metadata": {
    "extensions": {
     "jupyter_dashboards": {
      "version": 1,
      "views": {
       "default_view": {
        "col": 0,
        "height": 2,
        "hidden": false,
        "row": 18,
        "width": 12
       }
      }
     }
    }
   },
   "outputs": [
    {
     "data": {
      "text/plain": [
       "''"
      ]
     },
     "execution_count": 39,
     "metadata": {},
     "output_type": "execute_result"
    }
   ],
   "source": [
    "# voila --template=gridstack examples/ --VoilaConfiguration.resources='{\"gridstack\": {\"show_handles\": True}}'\n",
    ";"
   ]
  },
  {
   "cell_type": "code",
   "execution_count": 40,
   "metadata": {
    "extensions": {
     "jupyter_dashboards": {
      "version": 1,
      "views": {
       "default_view": {
        "col": 0,
        "height": 2,
        "hidden": true,
        "row": 0,
        "width": 12
       }
      }
     }
    }
   },
   "outputs": [],
   "source": [
    "from IPython.display import display\n",
    "line_button = widgets.Button(description=\"Lines\");\n",
    "scat_button = widgets.Button(description=\"Scatter\");\n",
    "\n",
    "# display(button)\n",
    "\n",
    "def on_line_button_click(b):\n",
    "#     print(\"Line clicked.\")\n",
    "    lines.y = np.cumsum(np.random.randn(2, 100), axis=1)      \n",
    "    \n",
    "def on_scat_button_click(b):\n",
    "#     print(\"Scat clicked.\")\n",
    "    scatt.x = np.random.rand(20) * 10\n",
    "    scatt.y = np.random.rand(20)                   \n",
    "    \n",
    "line_button.on_click(on_line_button_click);\n",
    "scat_button.on_click(on_scat_button_click);"
   ]
  },
  {
   "cell_type": "code",
   "execution_count": 41,
   "metadata": {
    "extensions": {
     "jupyter_dashboards": {
      "version": 1,
      "views": {
       "default_view": {
        "col": 0,
        "height": 14,
        "hidden": false,
        "row": 0,
        "width": 12
       }
      }
     }
    }
   },
   "outputs": [
    {
     "data": {
      "application/vnd.jupyter.widget-view+json": {
       "model_id": "efcca1af7b5e4c28bc838098b868b103",
       "version_major": 2,
       "version_minor": 0
      },
      "text/plain": [
       "HBox(children=(VBox(children=(HBox(children=(Button(description='Lines', style=ButtonStyle()), Button(descript…"
      ]
     },
     "metadata": {},
     "output_type": "display_data"
    }
   ],
   "source": [
    "button_section = widgets.HBox([line_button, scat_button]);\n",
    "left_box = widgets.VBox([button_section, fig1]);\n",
    "right_box = widgets.VBox([fig2]);\n",
    "widgets.HBox([left_box, right_box])"
   ]
  },
  {
   "cell_type": "code",
   "execution_count": null,
   "metadata": {},
   "outputs": [],
   "source": []
  }
 ],
 "metadata": {
  "extensions": {
   "jupyter_dashboards": {
    "activeView": "default_view",
    "version": 1,
    "views": {
     "default_view": {
      "cellMargin": 10,
      "defaultCellHeight": 40,
      "maxColumns": 12,
      "name": "active_view",
      "type": "grid"
     }
    }
   }
  },
  "kernelspec": {
   "display_name": "Python 3",
   "language": "python",
   "name": "python3"
  },
  "language_info": {
   "codemirror_mode": {
    "name": "ipython",
    "version": 3
   },
   "file_extension": ".py",
   "mimetype": "text/x-python",
   "name": "python",
   "nbconvert_exporter": "python",
   "pygments_lexer": "ipython3",
   "version": "3.7.4"
  },
  "toc": {
   "base_numbering": 1,
   "nav_menu": {},
   "number_sections": true,
   "sideBar": true,
   "skip_h1_title": false,
   "title_cell": "Table of Contents",
   "title_sidebar": "Contents",
   "toc_cell": false,
   "toc_position": {},
   "toc_section_display": true,
   "toc_window_display": false
  }
 },
 "nbformat": 4,
 "nbformat_minor": 4
}
