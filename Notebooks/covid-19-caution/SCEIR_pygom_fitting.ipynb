{
 "cells": [
  {
   "cell_type": "markdown",
   "metadata": {},
   "source": [
    "# SCEIR model\n",
    "\n",
    "Using PyGOM, we will set up my simple SCEIR model ODE system\n",
    "PyGOM – A Python Package for Simplifying Modelling with Systems of Ordinary Differential Equations https://arxiv.org/pdf/1803.06934.pdf\n",
    "\n",
    "## Equations\n",
    "\n",
    "\\begin{equation}\n",
    "\\begin{split}\n",
    "\\dot{S} &= -(\\beta_1 I_1 +\\beta_2 I_2 + \\beta_3 I_3) S + c_1 S_c - c_2*S*I_3\\\\\n",
    "\\dot{S_c} &= - c_0(\\beta_1 I_1 +\\beta_2 I_2 + \\beta_3 I_3) S_c - c_1 S_c + c_2*S*I_3\\\\\n",
    "\\dot{E} &=(\\beta_1 I_1 +\\beta_2 I_2 + \\beta_3 I_3 ) (S + c_0 S_c) - a E \\\\\n",
    "\\dot{I_1} &= a E - \\gamma_1 I_1 - p_1 I_1 \\\\\n",
    "\\dot{I_2} &= p_1 I_1 -\\gamma_2 I_2 - p_2 I_2 \\\\\n",
    "\\dot{I_3} & = p_2 I_2 -\\gamma_3 I_3 - \\mu I_3 \\\\\n",
    "\\dot{R} & = \\gamma_1 I_1 + \\gamma_2 I_2 + \\gamma_3 I_3 \\\\\n",
    "\\dot{D} & = \\mu I_3\n",
    "\\end{split}\n",
    "\\end{equation}\n",
    "\n",
    "The use of I_3 as a state variable triggering susceptibles to execute caution is just one choice. In contrast with deaths, it does not accumulate over time and so retains the property of an active threat to society, rather than an historical one.\n",
    "\n",
    "Actually, the effect of caution may be quadratic, since both the individual doing the infection and individual potentially being infected may be executing caution. The current version assumes that infectives do not change their precautionary measures in response to I_3. To implement this we would need to further distinguish careful and non careful infectives at least up to the I_1 level. This is done in the SCCEIR model.\n",
    "\n",
    "## Variables\n",
    "* $S$: Susceptible individuals living as normal\n",
    "* $S_c$: Susceptible individuals exercising pandemy precautions\n",
    "* $E$: Exposed individuals - infected but not yet infectious or symptomatic\n",
    "* $I_i$: Infected individuals in severity class $i$. Severity increaes with $i$ and we assume individuals must pass through all previous classes\n",
    "  * $I_1$: Mild infection (hospitalization not required)\n",
    "  * $I_2$: Severe infection (hospitalization required)\n",
    "  * $I_3$: Critical infection (ICU required)\n",
    "* $R$: individuals who have recovered from disease and are now immune\n",
    "* $D$: Dead individuals\n",
    "* $N=S+S_c+E+I_1+I_2+I_3+R+D$ Total population size (constant)\n",
    "\n",
    "## Parameters\n",
    "* $\\beta_i$ rate at which infected individuals in class $I_i$ contact susceptibles and infect them\n",
    "* $a$ rate of progression from the exposed to infected class\n",
    "* $\\gamma_i$ rate at which infected individuals in class $I_i$ recover from disease and become immune\n",
    "* $p_i$ rate at which infected individuals in class $I_i$ progress to class $I_{I+1}$\n",
    "* $\\mu$ death rate for individuals in the most severe stage of disease\n",
    "\n",
    "* $c_i$ three parameters characterizing cautionary response of population via class $S_c$\n",
    "\n",
    "    - c_0 : reduction factor for exposure for cautioned susceptibles\n",
    "\n",
    "    - c_1 : duration of caution (exponential decay time constant in days)\n",
    "\n",
    "    - c_2 : rate constant for transition from uncautioned to cautioned susceptible\n",
    "\n",
    "\n"
   ]
  },
  {
   "cell_type": "markdown",
   "metadata": {},
   "source": [
    "## Implementation"
   ]
  },
  {
   "cell_type": "code",
   "execution_count": 45,
   "metadata": {},
   "outputs": [],
   "source": [
    "# import required packages\n",
    "import os \n",
    "from sympy import symbols, init_printing\n",
    "import numpy as np\n",
    "import matplotlib.pyplot as plt\n",
    "import sympy\n",
    "import itertools\n",
    "import scipy\n",
    "from pygom import DeterministicOde, Transition, SimulateOde, TransitionType, SquareLoss\n",
    "from scipy.optimize import minimize\n"
   ]
  },
  {
   "cell_type": "code",
   "execution_count": 46,
   "metadata": {},
   "outputs": [],
   "source": [
    "def  print_ode2(self):\n",
    "        '''\n",
    "        Prints the ode in symbolic form onto the screen/console in actual\n",
    "        symbols rather than the word of the symbol.\n",
    "        \n",
    "        Based on the PyGOM built-in but adapted for Jupyter\n",
    "        Corrected by John McCaskill to avoid subscript format error\n",
    "        '''\n",
    "        A = self.get_ode_eqn()\n",
    "        B = sympy.zeros(A.rows,2)\n",
    "        for i in range(A.shape[0]):\n",
    "            B[i,0] = sympy.symbols('d' + '{' + str(self._stateList[i]) + '}'+ '/dt=')\n",
    "            B[i,1] = A[i]\n",
    "\n",
    "        return B"
   ]
  },
  {
   "cell_type": "code",
   "execution_count": 47,
   "metadata": {},
   "outputs": [],
   "source": [
    "# set up the symbolic SCEIR model\n",
    "\n",
    "state = ['S', 'E', 'I_1', 'I_2','I_3','R','D','S_1']\n",
    "param_list = ['beta_1', 'beta_2','beta_3','alpha', 'gamma_1', 'gamma_2', 'gamma_3',\n",
    "              'p_1','p_2','mu','c_0','c_1','c_2','N']\n",
    "\n",
    "transition = [\n",
    "    Transition(origin='S', destination='E', equation='(beta_1*I_1+beta_2*I_2+beta_3*I_3)*S',\n",
    "               transition_type=TransitionType.T),\n",
    "    Transition(origin='S', destination='S_1', equation='c_2*I_3*S',\n",
    "               transition_type=TransitionType.T),\n",
    "    Transition(origin='S_1', destination='S', equation='c_1*S_1',\n",
    "               transition_type=TransitionType.T),\n",
    "    Transition(origin='S_1', destination='E', equation='c_0*(beta_1*I_1+beta_2*I_2+beta_3*I_3)*S_1',\n",
    "               transition_type=TransitionType.T),\n",
    "    Transition(origin='E', destination='I_1', equation='alpha*E',\n",
    "               transition_type=TransitionType.T),\n",
    "    Transition(origin='I_1', destination='R', equation='gamma_1*I_1',\n",
    "               transition_type=TransitionType.T),\n",
    "    Transition(origin='I_2', destination='R', equation='gamma_2*I_2',\n",
    "               transition_type=TransitionType.T),\n",
    "    Transition(origin='I_3', destination='R', equation='gamma_3*I_3',\n",
    "               transition_type=TransitionType.T),\n",
    "    Transition(origin='I_1', destination='I_2', equation='p_1*I_1',\n",
    "               transition_type=TransitionType.T),\n",
    "    Transition(origin='I_2', destination='I_3', equation='p_2*I_2',\n",
    "               transition_type=TransitionType.T),\n",
    "    Transition(origin='I_3', destination='D', equation='mu*I_3',\n",
    "               transition_type=TransitionType.T)    \n",
    "    ]\n",
    "\n",
    "\n",
    "SCEIR_model = DeterministicOde(state, param_list, transition=transition)"
   ]
  },
  {
   "cell_type": "code",
   "execution_count": 48,
   "metadata": {},
   "outputs": [
    {
     "data": {
      "text/latex": [
       "$\\displaystyle \\left[\\begin{matrix}d{S}/dt= & - I_{3} S c_{2} - S \\left(I_{1} \\beta_{1} + I_{2} \\beta_{2} + I_{3} \\beta_{3}\\right) + S_{1} c_{1}\\\\d{E}/dt= & - E \\alpha + S \\left(I_{1} \\beta_{1} + I_{2} \\beta_{2} + I_{3} \\beta_{3}\\right) + S_{1} c_{0} \\left(I_{1} \\beta_{1} + I_{2} \\beta_{2} + I_{3} \\beta_{3}\\right)\\\\d{I_1}/dt= & E \\alpha - I_{1} \\gamma_{1} - I_{1} p_{1}\\\\d{I_2}/dt= & I_{1} p_{1} - I_{2} \\gamma_{2} - I_{2} p_{2}\\\\d{I_3}/dt= & I_{2} p_{2} - I_{3} \\gamma_{3} - I_{3} \\mu\\\\d{R}/dt= & I_{1} \\gamma_{1} + I_{2} \\gamma_{2} + I_{3} \\gamma_{3}\\\\d{D}/dt= & I_{3} \\mu\\\\d{S_1}/dt= & I_{3} S c_{2} - S_{1} c_{0} \\left(I_{1} \\beta_{1} + I_{2} \\beta_{2} + I_{3} \\beta_{3}\\right) - S_{1} c_{1}\\end{matrix}\\right]$"
      ],
      "text/plain": [
       "Matrix([\n",
       "[  d{S}/dt=,                                      -I_3*S*c_2 - S*(I_1*beta_1 + I_2*beta_2 + I_3*beta_3) + S_1*c_1],\n",
       "[  d{E}/dt=, -E*alpha + S*(I_1*beta_1 + I_2*beta_2 + I_3*beta_3) + S_1*c_0*(I_1*beta_1 + I_2*beta_2 + I_3*beta_3)],\n",
       "[d{I_1}/dt=,                                                                      E*alpha - I_1*gamma_1 - I_1*p_1],\n",
       "[d{I_2}/dt=,                                                                      I_1*p_1 - I_2*gamma_2 - I_2*p_2],\n",
       "[d{I_3}/dt=,                                                                       I_2*p_2 - I_3*gamma_3 - I_3*mu],\n",
       "[  d{R}/dt=,                                                              I_1*gamma_1 + I_2*gamma_2 + I_3*gamma_3],\n",
       "[  d{D}/dt=,                                                                                               I_3*mu],\n",
       "[d{S_1}/dt=,                                 I_3*S*c_2 - S_1*c_0*(I_1*beta_1 + I_2*beta_2 + I_3*beta_3) - S_1*c_1]])"
      ]
     },
     "execution_count": 48,
     "metadata": {},
     "output_type": "execute_result"
    }
   ],
   "source": [
    "# display equations\n",
    "print_ode2(SCEIR_model)"
   ]
  },
  {
   "cell_type": "code",
   "execution_count": 49,
   "metadata": {},
   "outputs": [
    {
     "data": {
      "image/png": "[encoded data removed]",
      "text/plain": [
       "<Figure size 432x288 with 1 Axes>"
      ]
     },
     "metadata": {
      "needs_background": "light"
     },
     "output_type": "display_data"
    },
    {
     "data": {
      "image/svg+xml": [
       "<?xml version=\"1.0\" encoding=\"UTF-8\" standalone=\"no\"?>\n",
       "<!DOCTYPE svg PUBLIC \"-//W3C//DTD SVG 1.1//EN\"\n",
       " \"http://www.w3.org/Graphics/SVG/1.1/DTD/svg11.dtd\">\n",
       "<!-- Generated by graphviz version 2.44.0 (20200408.0750)\n",
       " -->\n",
       "<!-- Pages: 1 -->\n",
       "<svg width=\"1348pt\" height=\"172pt\"\n",
       " viewBox=\"0.00 0.00 1348.00 172.00\" xmlns=\"http://www.w3.org/2000/svg\" xmlns:xlink=\"http://www.w3.org/1999/xlink\">\n",
       "<g id=\"graph0\" class=\"graph\" transform=\"scale(1 1) rotate(0) translate(4 168)\">\n",
       "<polygon fill=\"white\" stroke=\"transparent\" points=\"-4,4 -4,-168 1344,-168 1344,4 -4,4\"/>\n",
       "<!-- S -->\n",
       "<g id=\"node1\" class=\"node\">\n",
       "<title>S</title>\n",
       "<ellipse fill=\"none\" stroke=\"black\" cx=\"27\" cy=\"-42\" rx=\"27\" ry=\"18\"/>\n",
       "<text text-anchor=\"middle\" x=\"27\" y=\"-38.3\" font-family=\"Times,serif\" font-size=\"14.00\">S</text>\n",
       "</g>\n",
       "<!-- E -->\n",
       "<g id=\"node2\" class=\"node\">\n",
       "<title>E</title>\n",
       "<ellipse fill=\"none\" stroke=\"black\" cx=\"697\" cy=\"-45\" rx=\"27\" ry=\"18\"/>\n",
       "<text text-anchor=\"middle\" x=\"697\" y=\"-41.3\" font-family=\"Times,serif\" font-size=\"14.00\">E</text>\n",
       "</g>\n",
       "<!-- S&#45;&gt;E -->\n",
       "<g id=\"edge1\" class=\"edge\">\n",
       "<title>S&#45;&gt;E</title>\n",
       "<path fill=\"none\" stroke=\"black\" d=\"M50.98,-50.75C57.66,-52.9 65.03,-54.9 72,-56 326.6,-96.35 396.88,-94.9 652,-58 655.5,-57.49 659.1,-56.77 662.67,-55.93\"/>\n",
       "<polygon fill=\"black\" stroke=\"black\" points=\"663.78,-59.26 672.53,-53.29 661.96,-52.49 663.78,-59.26\"/>\n",
       "<text text-anchor=\"middle\" x=\"260.5\" y=\"-88.8\" font-family=\"Times,serif\" font-size=\"14.00\">(beta_1*I_1+beta_2*I_2+beta_3*I_3)*S</text>\n",
       "</g>\n",
       "<!-- S_1 -->\n",
       "<g id=\"node8\" class=\"node\">\n",
       "<title>S_1</title>\n",
       "<ellipse fill=\"none\" stroke=\"black\" cx=\"260.5\" cy=\"-18\" rx=\"27\" ry=\"18\"/>\n",
       "<text text-anchor=\"middle\" x=\"260.5\" y=\"-14.3\" font-family=\"Times,serif\" font-size=\"14.00\">S_1</text>\n",
       "</g>\n",
       "<!-- S&#45;&gt;S_1 -->\n",
       "<g id=\"edge2\" class=\"edge\">\n",
       "<title>S&#45;&gt;S_1</title>\n",
       "<path fill=\"none\" stroke=\"black\" d=\"M54.11,-39.29C95.55,-35 176.5,-26.6 223.45,-21.74\"/>\n",
       "<polygon fill=\"black\" stroke=\"black\" points=\"223.9,-25.21 233.49,-20.7 223.18,-18.25 223.9,-25.21\"/>\n",
       "<text text-anchor=\"middle\" x=\"101.5\" y=\"-40.8\" font-family=\"Times,serif\" font-size=\"14.00\">c_2*I_3*S</text>\n",
       "</g>\n",
       "<!-- I_1 -->\n",
       "<g id=\"node3\" class=\"node\">\n",
       "<title>I_1</title>\n",
       "<ellipse fill=\"none\" stroke=\"black\" cx=\"811\" cy=\"-45\" rx=\"27\" ry=\"18\"/>\n",
       "<text text-anchor=\"middle\" x=\"811\" y=\"-41.3\" font-family=\"Times,serif\" font-size=\"14.00\">I_1</text>\n",
       "</g>\n",
       "<!-- E&#45;&gt;I_1 -->\n",
       "<g id=\"edge5\" class=\"edge\">\n",
       "<title>E&#45;&gt;I_1</title>\n",
       "<path fill=\"none\" stroke=\"black\" d=\"M724.26,-45C739,-45 757.62,-45 773.74,-45\"/>\n",
       "<polygon fill=\"black\" stroke=\"black\" points=\"773.91,-48.5 783.91,-45 773.91,-41.5 773.91,-48.5\"/>\n",
       "<text text-anchor=\"middle\" x=\"754\" y=\"-48.8\" font-family=\"Times,serif\" font-size=\"14.00\">α*E</text>\n",
       "</g>\n",
       "<!-- I_2 -->\n",
       "<g id=\"node4\" class=\"node\">\n",
       "<title>I_2</title>\n",
       "<ellipse fill=\"none\" stroke=\"black\" cx=\"947\" cy=\"-75\" rx=\"27\" ry=\"18\"/>\n",
       "<text text-anchor=\"middle\" x=\"947\" y=\"-71.3\" font-family=\"Times,serif\" font-size=\"14.00\">I_2</text>\n",
       "</g>\n",
       "<!-- I_1&#45;&gt;I_2 -->\n",
       "<g id=\"edge9\" class=\"edge\">\n",
       "<title>I_1&#45;&gt;I_2</title>\n",
       "<path fill=\"none\" stroke=\"black\" d=\"M836.89,-50.57C857.86,-55.27 888.07,-62.03 911.39,-67.25\"/>\n",
       "<polygon fill=\"black\" stroke=\"black\" points=\"910.72,-70.69 921.24,-69.46 912.25,-63.86 910.72,-70.69\"/>\n",
       "<text text-anchor=\"middle\" x=\"879\" y=\"-67.8\" font-family=\"Times,serif\" font-size=\"14.00\">p_1*I_1</text>\n",
       "</g>\n",
       "<!-- R -->\n",
       "<g id=\"node6\" class=\"node\">\n",
       "<title>R</title>\n",
       "<ellipse fill=\"none\" stroke=\"black\" cx=\"1313\" cy=\"-75\" rx=\"27\" ry=\"18\"/>\n",
       "<text text-anchor=\"middle\" x=\"1313\" y=\"-71.3\" font-family=\"Times,serif\" font-size=\"14.00\">R</text>\n",
       "</g>\n",
       "<!-- I_1&#45;&gt;R -->\n",
       "<g id=\"edge6\" class=\"edge\">\n",
       "<title>I_1&#45;&gt;R</title>\n",
       "<path fill=\"none\" stroke=\"black\" d=\"M838.11,-45.01C870.14,-45.12 926.09,-45.68 974,-48 1084.33,-53.33 1214.52,-65.35 1276.17,-71.39\"/>\n",
       "<polygon fill=\"black\" stroke=\"black\" points=\"1275.87,-74.88 1286.17,-72.38 1276.56,-67.91 1275.87,-74.88\"/>\n",
       "<text text-anchor=\"middle\" x=\"1032\" y=\"-56.8\" font-family=\"Times,serif\" font-size=\"14.00\">gamma_1*I_1</text>\n",
       "</g>\n",
       "<!-- I_3 -->\n",
       "<g id=\"node5\" class=\"node\">\n",
       "<title>I_3</title>\n",
       "<ellipse fill=\"none\" stroke=\"black\" cx=\"1130\" cy=\"-126\" rx=\"27\" ry=\"18\"/>\n",
       "<text text-anchor=\"middle\" x=\"1130\" y=\"-122.3\" font-family=\"Times,serif\" font-size=\"14.00\">I_3</text>\n",
       "</g>\n",
       "<!-- I_2&#45;&gt;I_3 -->\n",
       "<g id=\"edge10\" class=\"edge\">\n",
       "<title>I_2&#45;&gt;I_3</title>\n",
       "<path fill=\"none\" stroke=\"black\" d=\"M971.69,-82.75C978.25,-84.84 985.39,-87.06 992,-89 1026.79,-99.23 1066.87,-109.93 1094.65,-117.17\"/>\n",
       "<polygon fill=\"black\" stroke=\"black\" points=\"1094.1,-120.65 1104.66,-119.77 1095.86,-113.87 1094.1,-120.65\"/>\n",
       "<text text-anchor=\"middle\" x=\"1032\" y=\"-113.8\" font-family=\"Times,serif\" font-size=\"14.00\">p_2*I_2</text>\n",
       "</g>\n",
       "<!-- I_2&#45;&gt;R -->\n",
       "<g id=\"edge7\" class=\"edge\">\n",
       "<title>I_2&#45;&gt;R</title>\n",
       "<path fill=\"none\" stroke=\"black\" d=\"M974.18,-75C1038.04,-75 1201.93,-75 1275.41,-75\"/>\n",
       "<polygon fill=\"black\" stroke=\"black\" points=\"1275.57,-78.5 1285.57,-75 1275.57,-71.5 1275.57,-78.5\"/>\n",
       "<text text-anchor=\"middle\" x=\"1130\" y=\"-78.8\" font-family=\"Times,serif\" font-size=\"14.00\">gamma_2*I_2</text>\n",
       "</g>\n",
       "<!-- I_3&#45;&gt;R -->\n",
       "<g id=\"edge8\" class=\"edge\">\n",
       "<title>I_3&#45;&gt;R</title>\n",
       "<path fill=\"none\" stroke=\"black\" d=\"M1155.04,-119.23C1186.54,-110.35 1242.01,-94.72 1277.86,-84.62\"/>\n",
       "<polygon fill=\"black\" stroke=\"black\" points=\"1279.19,-87.88 1287.87,-81.8 1277.29,-81.14 1279.19,-87.88\"/>\n",
       "<text text-anchor=\"middle\" x=\"1228\" y=\"-112.8\" font-family=\"Times,serif\" font-size=\"14.00\">gamma_3*I_3</text>\n",
       "</g>\n",
       "<!-- D -->\n",
       "<g id=\"node7\" class=\"node\">\n",
       "<title>D</title>\n",
       "<ellipse fill=\"none\" stroke=\"black\" cx=\"1313\" cy=\"-146\" rx=\"27\" ry=\"18\"/>\n",
       "<text text-anchor=\"middle\" x=\"1313\" y=\"-142.3\" font-family=\"Times,serif\" font-size=\"14.00\">D</text>\n",
       "</g>\n",
       "<!-- I_3&#45;&gt;D -->\n",
       "<g id=\"edge11\" class=\"edge\">\n",
       "<title>I_3&#45;&gt;D</title>\n",
       "<path fill=\"none\" stroke=\"black\" d=\"M1156.93,-128.87C1188.12,-132.31 1240.64,-138.11 1275.8,-142\"/>\n",
       "<polygon fill=\"black\" stroke=\"black\" points=\"1275.79,-145.52 1286.12,-143.14 1276.56,-138.56 1275.79,-145.52\"/>\n",
       "<text text-anchor=\"middle\" x=\"1228\" y=\"-143.8\" font-family=\"Times,serif\" font-size=\"14.00\">μ*I_3</text>\n",
       "</g>\n",
       "<!-- S_1&#45;&gt;S -->\n",
       "<g id=\"edge3\" class=\"edge\">\n",
       "<title>S_1&#45;&gt;S</title>\n",
       "<path fill=\"none\" stroke=\"black\" d=\"M234.85,-12.22C198.35,-4.76 128.17,5.33 72,-12 65.11,-14.12 58.34,-17.74 52.25,-21.73\"/>\n",
       "<polygon fill=\"black\" stroke=\"black\" points=\"49.97,-19.06 43.89,-27.73 54.06,-24.75 49.97,-19.06\"/>\n",
       "<text text-anchor=\"middle\" x=\"101.5\" y=\"-15.8\" font-family=\"Times,serif\" font-size=\"14.00\">c_1*S_1</text>\n",
       "</g>\n",
       "<!-- S_1&#45;&gt;E -->\n",
       "<g id=\"edge4\" class=\"edge\">\n",
       "<title>S_1&#45;&gt;E</title>\n",
       "<path fill=\"none\" stroke=\"black\" d=\"M287.7,-19.63C362.04,-24.25 574.41,-37.44 659.8,-42.75\"/>\n",
       "<polygon fill=\"black\" stroke=\"black\" points=\"659.84,-46.26 670.04,-43.39 660.28,-39.27 659.84,-46.26\"/>\n",
       "<text text-anchor=\"middle\" x=\"521\" y=\"-45.8\" font-family=\"Times,serif\" font-size=\"14.00\">c_0*(beta_1*I_1+beta_2*I_2+beta_3*I_3)*S_1</text>\n",
       "</g>\n",
       "</g>\n",
       "</svg>\n"
      ],
      "text/plain": [
       "<graphviz.dot.Digraph at 0x12a1f5510>"
      ]
     },
     "execution_count": 49,
     "metadata": {},
     "output_type": "execute_result"
    }
   ],
   "source": [
    "# display graphical representation of the model\n",
    "SCEIR_model.get_transition_graph()"
   ]
  },
  {
   "cell_type": "code",
   "execution_count": 50,
   "metadata": {},
   "outputs": [
    {
     "data": {
      "text/latex": [
       "$\\displaystyle \\left[\\begin{matrix}- I_{3} S c_{2} - S \\left(I_{1} \\beta_{1} + I_{2} \\beta_{2} + I_{3} \\beta_{3}\\right) + S_{1} c_{1}\\\\- E \\alpha + S \\left(I_{1} \\beta_{1} + I_{2} \\beta_{2} + I_{3} \\beta_{3}\\right) + S_{1} c_{0} \\left(I_{1} \\beta_{1} + I_{2} \\beta_{2} + I_{3} \\beta_{3}\\right)\\\\E \\alpha - I_{1} \\gamma_{1} - I_{1} p_{1}\\\\I_{1} p_{1} - I_{2} \\gamma_{2} - I_{2} p_{2}\\\\I_{2} p_{2} - I_{3} \\gamma_{3} - I_{3} \\mu\\\\I_{1} \\gamma_{1} + I_{2} \\gamma_{2} + I_{3} \\gamma_{3}\\\\I_{3} \\mu\\\\I_{3} S c_{2} - S_{1} c_{0} \\left(I_{1} \\beta_{1} + I_{2} \\beta_{2} + I_{3} \\beta_{3}\\right) - S_{1} c_{1}\\end{matrix}\\right]$"
      ],
      "text/plain": [
       "Matrix([\n",
       "[                                     -I_3*S*c_2 - S*(I_1*beta_1 + I_2*beta_2 + I_3*beta_3) + S_1*c_1],\n",
       "[-E*alpha + S*(I_1*beta_1 + I_2*beta_2 + I_3*beta_3) + S_1*c_0*(I_1*beta_1 + I_2*beta_2 + I_3*beta_3)],\n",
       "[                                                                     E*alpha - I_1*gamma_1 - I_1*p_1],\n",
       "[                                                                     I_1*p_1 - I_2*gamma_2 - I_2*p_2],\n",
       "[                                                                      I_2*p_2 - I_3*gamma_3 - I_3*mu],\n",
       "[                                                             I_1*gamma_1 + I_2*gamma_2 + I_3*gamma_3],\n",
       "[                                                                                              I_3*mu],\n",
       "[                                I_3*S*c_2 - S_1*c_0*(I_1*beta_1 + I_2*beta_2 + I_3*beta_3) - S_1*c_1]])"
      ]
     },
     "execution_count": 50,
     "metadata": {},
     "output_type": "execute_result"
    }
   ],
   "source": [
    "SCEIR_model.get_ode_eqn()"
   ]
  },
  {
   "cell_type": "code",
   "execution_count": 51,
   "metadata": {},
   "outputs": [
    {
     "data": {
      "text/latex": [
       "$\\displaystyle \\left[\\begin{matrix}- I_{1} \\beta_{1} - I_{2} \\beta_{2} - I_{3} \\beta_{3} - I_{3} c_{2} & 0 & - S \\beta_{1} & - S \\beta_{2} & - S \\beta_{3} - S c_{2} & 0 & 0 & c_{1}\\\\I_{1} \\beta_{1} + I_{2} \\beta_{2} + I_{3} \\beta_{3} & - \\alpha & S \\beta_{1} + S_{1} \\beta_{1} c_{0} & S \\beta_{2} + S_{1} \\beta_{2} c_{0} & S \\beta_{3} + S_{1} \\beta_{3} c_{0} & 0 & 0 & c_{0} \\left(I_{1} \\beta_{1} + I_{2} \\beta_{2} + I_{3} \\beta_{3}\\right)\\\\0 & \\alpha & - \\gamma_{1} - p_{1} & 0 & 0 & 0 & 0 & 0\\\\0 & 0 & p_{1} & - \\gamma_{2} - p_{2} & 0 & 0 & 0 & 0\\\\0 & 0 & 0 & p_{2} & - \\gamma_{3} - \\mu & 0 & 0 & 0\\\\0 & 0 & \\gamma_{1} & \\gamma_{2} & \\gamma_{3} & 0 & 0 & 0\\\\0 & 0 & 0 & 0 & \\mu & 0 & 0 & 0\\\\I_{3} c_{2} & 0 & - S_{1} \\beta_{1} c_{0} & - S_{1} \\beta_{2} c_{0} & S c_{2} - S_{1} \\beta_{3} c_{0} & 0 & 0 & - c_{0} \\left(I_{1} \\beta_{1} + I_{2} \\beta_{2} + I_{3} \\beta_{3}\\right) - c_{1}\\end{matrix}\\right]$"
      ],
      "text/plain": [
       "Matrix([\n",
       "[-I_1*beta_1 - I_2*beta_2 - I_3*beta_3 - I_3*c_2,      0,                 -S*beta_1,                 -S*beta_2,         -S*beta_3 - S*c_2, 0, 0,                                               c_1],\n",
       "[           I_1*beta_1 + I_2*beta_2 + I_3*beta_3, -alpha, S*beta_1 + S_1*beta_1*c_0, S*beta_2 + S_1*beta_2*c_0, S*beta_3 + S_1*beta_3*c_0, 0, 0,        c_0*(I_1*beta_1 + I_2*beta_2 + I_3*beta_3)],\n",
       "[                                              0,  alpha,            -gamma_1 - p_1,                         0,                         0, 0, 0,                                                 0],\n",
       "[                                              0,      0,                       p_1,            -gamma_2 - p_2,                         0, 0, 0,                                                 0],\n",
       "[                                              0,      0,                         0,                       p_2,             -gamma_3 - mu, 0, 0,                                                 0],\n",
       "[                                              0,      0,                   gamma_1,                   gamma_2,                   gamma_3, 0, 0,                                                 0],\n",
       "[                                              0,      0,                         0,                         0,                        mu, 0, 0,                                                 0],\n",
       "[                                        I_3*c_2,      0,           -S_1*beta_1*c_0,           -S_1*beta_2*c_0,    S*c_2 - S_1*beta_3*c_0, 0, 0, -c_0*(I_1*beta_1 + I_2*beta_2 + I_3*beta_3) - c_1]])"
      ]
     },
     "execution_count": 51,
     "metadata": {},
     "output_type": "execute_result"
    }
   ],
   "source": [
    "SCEIR_model.get_jacobian_eqn()"
   ]
  },
  {
   "cell_type": "code",
   "execution_count": 52,
   "metadata": {},
   "outputs": [
    {
     "data": {
      "text/latex": [
       "$\\displaystyle \\left[\\begin{array}{cccccccccccccc}- I_{1} S & - I_{2} S & - I_{3} S & 0 & 0 & 0 & 0 & 0 & 0 & 0 & 0 & S_{1} & - I_{3} S & 0\\\\I_{1} S + I_{1} S_{1} c_{0} & I_{2} S + I_{2} S_{1} c_{0} & I_{3} S + I_{3} S_{1} c_{0} & - E & 0 & 0 & 0 & 0 & 0 & 0 & S_{1} \\left(I_{1} \\beta_{1} + I_{2} \\beta_{2} + I_{3} \\beta_{3}\\right) & 0 & 0 & 0\\\\0 & 0 & 0 & E & - I_{1} & 0 & 0 & - I_{1} & 0 & 0 & 0 & 0 & 0 & 0\\\\0 & 0 & 0 & 0 & 0 & - I_{2} & 0 & I_{1} & - I_{2} & 0 & 0 & 0 & 0 & 0\\\\0 & 0 & 0 & 0 & 0 & 0 & - I_{3} & 0 & I_{2} & - I_{3} & 0 & 0 & 0 & 0\\\\0 & 0 & 0 & 0 & I_{1} & I_{2} & I_{3} & 0 & 0 & 0 & 0 & 0 & 0 & 0\\\\0 & 0 & 0 & 0 & 0 & 0 & 0 & 0 & 0 & I_{3} & 0 & 0 & 0 & 0\\\\- I_{1} S_{1} c_{0} & - I_{2} S_{1} c_{0} & - I_{3} S_{1} c_{0} & 0 & 0 & 0 & 0 & 0 & 0 & 0 & - S_{1} \\left(I_{1} \\beta_{1} + I_{2} \\beta_{2} + I_{3} \\beta_{3}\\right) & - S_{1} & I_{3} S & 0\\end{array}\\right]$"
      ],
      "text/plain": [
       "Matrix([\n",
       "[             -I_1*S,              -I_2*S,              -I_3*S,  0,    0,    0,    0,    0,    0,    0,                                           0,  S_1, -I_3*S, 0],\n",
       "[I_1*S + I_1*S_1*c_0, I_2*S + I_2*S_1*c_0, I_3*S + I_3*S_1*c_0, -E,    0,    0,    0,    0,    0,    0,  S_1*(I_1*beta_1 + I_2*beta_2 + I_3*beta_3),    0,      0, 0],\n",
       "[                  0,                   0,                   0,  E, -I_1,    0,    0, -I_1,    0,    0,                                           0,    0,      0, 0],\n",
       "[                  0,                   0,                   0,  0,    0, -I_2,    0,  I_1, -I_2,    0,                                           0,    0,      0, 0],\n",
       "[                  0,                   0,                   0,  0,    0,    0, -I_3,    0,  I_2, -I_3,                                           0,    0,      0, 0],\n",
       "[                  0,                   0,                   0,  0,  I_1,  I_2,  I_3,    0,    0,    0,                                           0,    0,      0, 0],\n",
       "[                  0,                   0,                   0,  0,    0,    0,    0,    0,    0,  I_3,                                           0,    0,      0, 0],\n",
       "[       -I_1*S_1*c_0,        -I_2*S_1*c_0,        -I_3*S_1*c_0,  0,    0,    0,    0,    0,    0,    0, -S_1*(I_1*beta_1 + I_2*beta_2 + I_3*beta_3), -S_1,  I_3*S, 0]])"
      ]
     },
     "execution_count": 52,
     "metadata": {},
     "output_type": "execute_result"
    }
   ],
   "source": [
    "SCEIR_model.get_grad_eqn()"
   ]
  },
  {
   "cell_type": "markdown",
   "metadata": {
    "colab_type": "text",
    "id": "wAb1ddE0gwhA"
   },
   "source": [
    "# SCCEIR model with caution distinguished $E$ and  𝐼1\n",
    "\n",
    "## Equations\n",
    "\n",
    "\\begin{equation}\n",
    "\\begin{split}\n",
    "\\dot{S} &= -(\\beta_1 (I_1 + c_0 I_{1c}) +\\beta_2 I_2 + \\beta_3 I_3) S + c_1 S_c - c_2*S*I_3\\\\\n",
    "\\dot{S_c} &= - c_0(\\beta_1 (I_1 + c_0 I_{1c}) +\\beta_2 I_2 + \\beta_3 I_3) S_c - c_1 S_c + c_2*S*I_3\\\\\n",
    "\\dot{E} &=(\\beta_1 (I_1 + c_0 I_{1c}) +\\beta_2 I_2 + \\beta_3 I_3 ) S - a E \\\\\n",
    "\\dot{E_c} &=(\\beta_1 (I_1 + c_0 I_{1c}) +\\beta_2 I_2 + \\beta_3 I_3 ) c_0 S_c - a E \\\\\n",
    "\\dot{I_1} &= a E - \\gamma_1 I_1 - p_1 I_1 \\\\\n",
    "\\dot{I_{1c}} &= a E_c - \\gamma_1 I_{1c} - p_1 I_{1c} \\\\\n",
    "\\dot{I_2} &= p_1 (I_1 + I_{1c}) -\\gamma_2 I_2 - p_2 I_2 \\\\\n",
    "\\dot{I_3} & = p_2 I_2 -\\gamma_3 I_3 - \\mu I_3 \\\\\n",
    "\\dot{R} & = \\gamma_1 (I_1 + I_{1c}) + \\gamma_2 I_2 + \\gamma_3 I_3 \\\\\n",
    "\\dot{D} & = \\mu I_3\n",
    "\\end{split}\n",
    "\\end{equation}\n",
    "\n",
    "The use of I_3 as a state variable triggering susceptibles to execute caution is just one choice. In contrast with deaths, it does not accumulate over time and so retains the property of an active threat to society, rather than an historical one.\n",
    "\n",
    "Here, the effect of caution is quadratic, since both the individual doing the infection and individual potentially being infected may be executing caution. To implement this we distinguish careful and non careful exposed and infectives up to the I_1 level. Once in hospital there is no difference, since all caution is executed wrt infected patients.\n",
    "\n",
    "## Variables\n",
    "* $S$: Susceptible individuals living as normal\n",
    "* $S_c$: Susceptible individuals exercising pandemy precautions\n",
    "* $E$: Exposed individuals living as normal - infected but not yet infectious or symptomatic\n",
    "* $E_c$: Exposed individuals exercising pandemy precautions\n",
    "* $I_i$: Infected individuals in severity class $i$. Severity increaes with $i$ and we assume individuals must pass through all previous classes. Split non hospital cases by caution.\n",
    "  * $I_1$: Mild infection (hospitalization not required), living as normal\n",
    "  * $I_{1c}$: Mild infection (hospitalization not required), exercising caution\n",
    "  * $I_2$: Severe infection (hospitalization required)\n",
    "  * $I_3$: Critical infection (ICU required)\n",
    "* $R$: individuals who have recovered from disease and are now immune\n",
    "* $D$: Dead individuals\n",
    "* $N=S+S_c+E+E_c+I_{1c}+I_1+I_2+I_3+R+D$ Total population size (constant)\n",
    "\n",
    "## Parameters\n",
    "* $\\beta_i$ rate at which infected individuals in class $I_i$ contact susceptibles and infect them\n",
    "* $a$ rate of progression from the exposed to infected class\n",
    "* $\\gamma_i$ rate at which infected individuals in class $I_i$ recover from disease and become immune\n",
    "* $p_i$ rate at which infected individuals in class $I_i$ progress to class $I_{I+1}$\n",
    "* $\\mu$ death rate for individuals in the most severe stage of disease\n",
    "\n",
    "* $c_i$ three parameters characterizing cautionary response of population via class $S_c$\n",
    "\n",
    "    - c_0 : reduction factor for exposure for cautioned susceptibles\n",
    "\n",
    "    - c_1 : duration of caution (exponential decay time constant in days)\n",
    "\n",
    "    - c_2 : rate constant for transition from uncautioned to cautioned susceptible"
   ]
  },
  {
   "cell_type": "markdown",
   "metadata": {
    "slideshow": {
     "slide_type": "slide"
    }
   },
   "source": [
    "##  Implementation of SCCEIR model"
   ]
  },
  {
   "cell_type": "code",
   "execution_count": 34,
   "metadata": {},
   "outputs": [],
   "source": [
    "# import required packages\n",
    "import os \n",
    "from sympy import symbols, init_printing\n",
    "import numpy as np\n",
    "import matplotlib.pyplot as plt\n",
    "import sympy\n",
    "import itertools\n",
    "import scipy\n",
    "from pygom import DeterministicOde, Transition, SimulateOde, TransitionType, SquareLoss\n",
    "from scipy.optimize import minimize\n",
    "from scipy.integrate import odeint"
   ]
  },
  {
   "cell_type": "code",
   "execution_count": 36,
   "metadata": {},
   "outputs": [],
   "source": [
    "# set up the symbolic SCCEIR model\n",
    "\n",
    "state = ['S', 'E', 'I_1', 'I_2','I_3', 'R', 'D', 'S_c', 'E_c','I_c']\n",
    "param_list = ['beta_1', 'beta_2','beta_3','alpha', 'gamma_1', 'gamma_2', 'gamma_3',\n",
    "              'p_1','p_2','mu','c_0','c_1','c_2','N']\n",
    "\n",
    "transition = [\n",
    "    Transition(origin='S', destination='E', equation='(beta_1*I_1+beta_2*I_2+beta_3*I_3+c_0*beta_1*I_c)*S',\n",
    "               transition_type=TransitionType.T),\n",
    "    Transition(origin='S_c', destination='E_c', equation='c_0*(beta_1*I_1+beta_2*I_2+beta_3*I_3+c_0*beta_1*I_c)*S_c',\n",
    "               transition_type=TransitionType.T),\n",
    "    Transition(origin='S', destination='S_c', equation='c_2*I_3*S',\n",
    "               transition_type=TransitionType.T),\n",
    "    Transition(origin='S_c', destination='S', equation='c_1*S_c',\n",
    "               transition_type=TransitionType.T),\n",
    "    Transition(origin='E', destination='I_1', equation='alpha*E',\n",
    "               transition_type=TransitionType.T),\n",
    "    Transition(origin='E_c', destination='I_c', equation='alpha*E',\n",
    "               transition_type=TransitionType.T),\n",
    "    Transition(origin='I_1', destination='R', equation='gamma_1*I_1',\n",
    "               transition_type=TransitionType.T),\n",
    "    Transition(origin='I_c', destination='R', equation='gamma_1*I_c',\n",
    "               transition_type=TransitionType.T),\n",
    "    Transition(origin='I_2', destination='R', equation='gamma_2*I_2',\n",
    "               transition_type=TransitionType.T),\n",
    "    Transition(origin='I_3', destination='R', equation='gamma_3*I_3',\n",
    "               transition_type=TransitionType.T),\n",
    "    Transition(origin='I_1', destination='I_2', equation='p_1*I_1',\n",
    "               transition_type=TransitionType.T),\n",
    "    Transition(origin='I_c', destination='I_2', equation='p_1*I_c',\n",
    "               transition_type=TransitionType.T),\n",
    "    Transition(origin='I_2', destination='I_3', equation='p_2*I_2',\n",
    "               transition_type=TransitionType.T),\n",
    "    Transition(origin='I_3', destination='D', equation='mu*I_3',\n",
    "               transition_type=TransitionType.T)    \n",
    "    ]\n",
    "\n",
    "\n",
    "SCCEIR_model = DeterministicOde(state, param_list, transition=transition)"
   ]
  },
  {
   "cell_type": "code",
   "execution_count": 37,
   "metadata": {},
   "outputs": [
    {
     "data": {
      "text/latex": [
       "$\\displaystyle \\left[\\begin{matrix}d{S}/dt= & - I_{3} S c_{2} - S \\left(I_{1} \\beta_{1} + I_{2} \\beta_{2} + I_{3} \\beta_{3} + I_{c} \\beta_{1} c_{0}\\right) + S_{c} c_{1}\\\\d{E}/dt= & - E \\alpha + S \\left(I_{1} \\beta_{1} + I_{2} \\beta_{2} + I_{3} \\beta_{3} + I_{c} \\beta_{1} c_{0}\\right)\\\\d{I_1}/dt= & E \\alpha - I_{1} \\gamma_{1} - I_{1} p_{1}\\\\d{I_2}/dt= & I_{1} p_{1} - I_{2} \\gamma_{2} - I_{2} p_{2} + I_{c} p_{1}\\\\d{I_3}/dt= & I_{2} p_{2} - I_{3} \\gamma_{3} - I_{3} \\mu\\\\d{R}/dt= & I_{1} \\gamma_{1} + I_{2} \\gamma_{2} + I_{3} \\gamma_{3} + I_{c} \\gamma_{1}\\\\d{D}/dt= & I_{3} \\mu\\\\d{S_c}/dt= & I_{3} S c_{2} - S_{c} c_{0} \\left(I_{1} \\beta_{1} + I_{2} \\beta_{2} + I_{3} \\beta_{3} + I_{c} \\beta_{1} c_{0}\\right) - S_{c} c_{1}\\\\d{E_c}/dt= & - E \\alpha + S_{c} c_{0} \\left(I_{1} \\beta_{1} + I_{2} \\beta_{2} + I_{3} \\beta_{3} + I_{c} \\beta_{1} c_{0}\\right)\\\\d{I_c}/dt= & E \\alpha - I_{c} \\gamma_{1} - I_{c} p_{1}\\end{matrix}\\right]$"
      ],
      "text/plain": [
       "Matrix([\n",
       "[  d{S}/dt=,      -I_3*S*c_2 - S*(I_1*beta_1 + I_2*beta_2 + I_3*beta_3 + I_c*beta_1*c_0) + S_c*c_1],\n",
       "[  d{E}/dt=,                  -E*alpha + S*(I_1*beta_1 + I_2*beta_2 + I_3*beta_3 + I_c*beta_1*c_0)],\n",
       "[d{I_1}/dt=,                                                       E*alpha - I_1*gamma_1 - I_1*p_1],\n",
       "[d{I_2}/dt=,                                             I_1*p_1 - I_2*gamma_2 - I_2*p_2 + I_c*p_1],\n",
       "[d{I_3}/dt=,                                                        I_2*p_2 - I_3*gamma_3 - I_3*mu],\n",
       "[  d{R}/dt=,                                 I_1*gamma_1 + I_2*gamma_2 + I_3*gamma_3 + I_c*gamma_1],\n",
       "[  d{D}/dt=,                                                                                I_3*mu],\n",
       "[d{S_c}/dt=, I_3*S*c_2 - S_c*c_0*(I_1*beta_1 + I_2*beta_2 + I_3*beta_3 + I_c*beta_1*c_0) - S_c*c_1],\n",
       "[d{E_c}/dt=,            -E*alpha + S_c*c_0*(I_1*beta_1 + I_2*beta_2 + I_3*beta_3 + I_c*beta_1*c_0)],\n",
       "[d{I_c}/dt=,                                                       E*alpha - I_c*gamma_1 - I_c*p_1]])"
      ]
     },
     "execution_count": 37,
     "metadata": {},
     "output_type": "execute_result"
    }
   ],
   "source": [
    "# display equations\n",
    "print_ode2(SCCEIR_model)"
   ]
  },
  {
   "cell_type": "code",
   "execution_count": 38,
   "metadata": {},
   "outputs": [
    {
     "data": {
      "image/png": "[encoded data removed]",
      "text/plain": [
       "<Figure size 432x288 with 1 Axes>"
      ]
     },
     "metadata": {
      "needs_background": "light"
     },
     "output_type": "display_data"
    },
    {
     "data": {
      "image/svg+xml": [
       "<?xml version=\"1.0\" encoding=\"UTF-8\" standalone=\"no\"?>\n",
       "<!DOCTYPE svg PUBLIC \"-//W3C//DTD SVG 1.1//EN\"\n",
       " \"http://www.w3.org/Graphics/SVG/1.1/DTD/svg11.dtd\">\n",
       "<!-- Generated by graphviz version 2.44.0 (20200408.0750)\n",
       " -->\n",
       "<!-- Pages: 1 -->\n",
       "<svg width=\"1531pt\" height=\"206pt\"\n",
       " viewBox=\"0.00 0.00 1531.00 206.00\" xmlns=\"http://www.w3.org/2000/svg\" xmlns:xlink=\"http://www.w3.org/1999/xlink\">\n",
       "<g id=\"graph0\" class=\"graph\" transform=\"scale(1 1) rotate(0) translate(4 202)\">\n",
       "<polygon fill=\"white\" stroke=\"transparent\" points=\"-4,4 -4,-202 1527,-202 1527,4 -4,4\"/>\n",
       "<!-- S -->\n",
       "<g id=\"node1\" class=\"node\">\n",
       "<title>S</title>\n",
       "<ellipse fill=\"none\" stroke=\"black\" cx=\"27\" cy=\"-154\" rx=\"27\" ry=\"18\"/>\n",
       "<text text-anchor=\"middle\" x=\"27\" y=\"-150.3\" font-family=\"Times,serif\" font-size=\"14.00\">S</text>\n",
       "</g>\n",
       "<!-- E -->\n",
       "<g id=\"node2\" class=\"node\">\n",
       "<title>E</title>\n",
       "<ellipse fill=\"none\" stroke=\"black\" cx=\"657\" cy=\"-116\" rx=\"27\" ry=\"18\"/>\n",
       "<text text-anchor=\"middle\" x=\"657\" y=\"-112.3\" font-family=\"Times,serif\" font-size=\"14.00\">E</text>\n",
       "</g>\n",
       "<!-- S&#45;&gt;E -->\n",
       "<g id=\"edge1\" class=\"edge\">\n",
       "<title>S&#45;&gt;E</title>\n",
       "<path fill=\"none\" stroke=\"black\" d=\"M40.47,-138.38C48.44,-129.69 59.59,-119.71 72,-115 268.25,-40.55 529.01,-87.16 621.6,-107.73\"/>\n",
       "<polygon fill=\"black\" stroke=\"black\" points=\"621.02,-111.18 631.54,-109.98 622.56,-104.36 621.02,-111.18\"/>\n",
       "<text text-anchor=\"middle\" x=\"230.5\" y=\"-118.8\" font-family=\"Times,serif\" font-size=\"14.00\">(beta_1*I_1+beta_2*I_2+beta_3*I_3+c_0*beta_1*I_c)*S</text>\n",
       "</g>\n",
       "<!-- S_c -->\n",
       "<g id=\"node8\" class=\"node\">\n",
       "<title>S_c</title>\n",
       "<ellipse fill=\"none\" stroke=\"black\" cx=\"434\" cy=\"-174\" rx=\"27\" ry=\"18\"/>\n",
       "<text text-anchor=\"middle\" x=\"434\" y=\"-170.3\" font-family=\"Times,serif\" font-size=\"14.00\">S_c</text>\n",
       "</g>\n",
       "<!-- S&#45;&gt;S_c -->\n",
       "<g id=\"edge3\" class=\"edge\">\n",
       "<title>S&#45;&gt;S_c</title>\n",
       "<path fill=\"none\" stroke=\"black\" d=\"M49.98,-163.64C56.89,-166.22 64.64,-168.66 72,-170 189.12,-191.3 331.16,-183.2 396.68,-177.6\"/>\n",
       "<polygon fill=\"black\" stroke=\"black\" points=\"397.24,-181.06 406.89,-176.69 396.62,-174.09 397.24,-181.06\"/>\n",
       "<text text-anchor=\"middle\" x=\"230.5\" y=\"-186.8\" font-family=\"Times,serif\" font-size=\"14.00\">c_2*I_3*S</text>\n",
       "</g>\n",
       "<!-- I_1 -->\n",
       "<g id=\"node3\" class=\"node\">\n",
       "<title>I_1</title>\n",
       "<ellipse fill=\"none\" stroke=\"black\" cx=\"994\" cy=\"-116\" rx=\"27\" ry=\"18\"/>\n",
       "<text text-anchor=\"middle\" x=\"994\" y=\"-112.3\" font-family=\"Times,serif\" font-size=\"14.00\">I_1</text>\n",
       "</g>\n",
       "<!-- E&#45;&gt;I_1 -->\n",
       "<g id=\"edge5\" class=\"edge\">\n",
       "<title>E&#45;&gt;I_1</title>\n",
       "<path fill=\"none\" stroke=\"black\" d=\"M684.01,-116C743.25,-116 888.37,-116 956.53,-116\"/>\n",
       "<polygon fill=\"black\" stroke=\"black\" points=\"956.78,-119.5 966.78,-116 956.78,-112.5 956.78,-119.5\"/>\n",
       "<text text-anchor=\"middle\" x=\"880\" y=\"-119.8\" font-family=\"Times,serif\" font-size=\"14.00\">α*E</text>\n",
       "</g>\n",
       "<!-- I_2 -->\n",
       "<g id=\"node4\" class=\"node\">\n",
       "<title>I_2</title>\n",
       "<ellipse fill=\"none\" stroke=\"black\" cx=\"1130\" cy=\"-83\" rx=\"27\" ry=\"18\"/>\n",
       "<text text-anchor=\"middle\" x=\"1130\" y=\"-79.3\" font-family=\"Times,serif\" font-size=\"14.00\">I_2</text>\n",
       "</g>\n",
       "<!-- I_1&#45;&gt;I_2 -->\n",
       "<g id=\"edge11\" class=\"edge\">\n",
       "<title>I_1&#45;&gt;I_2</title>\n",
       "<path fill=\"none\" stroke=\"black\" d=\"M1017.61,-106.98C1024.41,-104.49 1031.95,-101.94 1039,-100 1056.78,-95.12 1076.91,-91.18 1093.62,-88.32\"/>\n",
       "<polygon fill=\"black\" stroke=\"black\" points=\"1094.24,-91.76 1103.53,-86.68 1093.1,-84.86 1094.24,-91.76\"/>\n",
       "<text text-anchor=\"middle\" x=\"1062\" y=\"-103.8\" font-family=\"Times,serif\" font-size=\"14.00\">p_1*I_1</text>\n",
       "</g>\n",
       "<!-- R -->\n",
       "<g id=\"node6\" class=\"node\">\n",
       "<title>R</title>\n",
       "<ellipse fill=\"none\" stroke=\"black\" cx=\"1496\" cy=\"-107\" rx=\"27\" ry=\"18\"/>\n",
       "<text text-anchor=\"middle\" x=\"1496\" y=\"-103.3\" font-family=\"Times,serif\" font-size=\"14.00\">R</text>\n",
       "</g>\n",
       "<!-- I_1&#45;&gt;R -->\n",
       "<g id=\"edge7\" class=\"edge\">\n",
       "<title>I_1&#45;&gt;R</title>\n",
       "<path fill=\"none\" stroke=\"black\" d=\"M1021.04,-117.56C1090.86,-121.38 1288,-129.88 1451,-115 1453.9,-114.74 1456.89,-114.38 1459.89,-113.96\"/>\n",
       "<polygon fill=\"black\" stroke=\"black\" points=\"1460.65,-117.38 1469.98,-112.34 1459.55,-110.47 1460.65,-117.38\"/>\n",
       "<text text-anchor=\"middle\" x=\"1215\" y=\"-126.8\" font-family=\"Times,serif\" font-size=\"14.00\">gamma_1*I_1</text>\n",
       "</g>\n",
       "<!-- I_3 -->\n",
       "<g id=\"node5\" class=\"node\">\n",
       "<title>I_3</title>\n",
       "<ellipse fill=\"none\" stroke=\"black\" cx=\"1313\" cy=\"-32\" rx=\"27\" ry=\"18\"/>\n",
       "<text text-anchor=\"middle\" x=\"1313\" y=\"-28.3\" font-family=\"Times,serif\" font-size=\"14.00\">I_3</text>\n",
       "</g>\n",
       "<!-- I_2&#45;&gt;I_3 -->\n",
       "<g id=\"edge13\" class=\"edge\">\n",
       "<title>I_2&#45;&gt;I_3</title>\n",
       "<path fill=\"none\" stroke=\"black\" d=\"M1149.54,-70.07C1157.13,-65.31 1166.19,-60.29 1175,-57 1207.94,-44.71 1247.67,-38.32 1275.84,-35.08\"/>\n",
       "<polygon fill=\"black\" stroke=\"black\" points=\"1276.46,-38.54 1286.03,-34 1275.71,-31.58 1276.46,-38.54\"/>\n",
       "<text text-anchor=\"middle\" x=\"1215\" y=\"-60.8\" font-family=\"Times,serif\" font-size=\"14.00\">p_2*I_2</text>\n",
       "</g>\n",
       "<!-- I_2&#45;&gt;R -->\n",
       "<g id=\"edge9\" class=\"edge\">\n",
       "<title>I_2&#45;&gt;R</title>\n",
       "<path fill=\"none\" stroke=\"black\" d=\"M1156.89,-84.71C1220.67,-88.91 1385.5,-99.78 1458.87,-104.62\"/>\n",
       "<polygon fill=\"black\" stroke=\"black\" points=\"1458.79,-108.12 1469,-105.29 1459.25,-101.14 1458.79,-108.12\"/>\n",
       "<text text-anchor=\"middle\" x=\"1313\" y=\"-100.8\" font-family=\"Times,serif\" font-size=\"14.00\">gamma_2*I_2</text>\n",
       "</g>\n",
       "<!-- I_3&#45;&gt;R -->\n",
       "<g id=\"edge10\" class=\"edge\">\n",
       "<title>I_3&#45;&gt;R</title>\n",
       "<path fill=\"none\" stroke=\"black\" d=\"M1339.77,-34.66C1374.01,-38.55 1432.38,-46.46 1451,-57 1461.79,-63.1 1471.26,-72.86 1478.62,-82.14\"/>\n",
       "<polygon fill=\"black\" stroke=\"black\" points=\"1475.99,-84.48 1484.76,-90.42 1481.61,-80.3 1475.99,-84.48\"/>\n",
       "<text text-anchor=\"middle\" x=\"1411\" y=\"-60.8\" font-family=\"Times,serif\" font-size=\"14.00\">gamma_3*I_3</text>\n",
       "</g>\n",
       "<!-- D -->\n",
       "<g id=\"node7\" class=\"node\">\n",
       "<title>D</title>\n",
       "<ellipse fill=\"none\" stroke=\"black\" cx=\"1496\" cy=\"-18\" rx=\"27\" ry=\"18\"/>\n",
       "<text text-anchor=\"middle\" x=\"1496\" y=\"-14.3\" font-family=\"Times,serif\" font-size=\"14.00\">D</text>\n",
       "</g>\n",
       "<!-- I_3&#45;&gt;D -->\n",
       "<g id=\"edge14\" class=\"edge\">\n",
       "<title>I_3&#45;&gt;D</title>\n",
       "<path fill=\"none\" stroke=\"black\" d=\"M1338.21,-25.26C1348.27,-22.78 1360.11,-20.27 1371,-19 1400.38,-15.57 1433.93,-15.54 1458.72,-16.24\"/>\n",
       "<polygon fill=\"black\" stroke=\"black\" points=\"1458.66,-19.74 1468.77,-16.58 1458.9,-12.74 1458.66,-19.74\"/>\n",
       "<text text-anchor=\"middle\" x=\"1411\" y=\"-22.8\" font-family=\"Times,serif\" font-size=\"14.00\">μ*I_3</text>\n",
       "</g>\n",
       "<!-- S_c&#45;&gt;S -->\n",
       "<g id=\"edge4\" class=\"edge\">\n",
       "<title>S_c&#45;&gt;S</title>\n",
       "<path fill=\"none\" stroke=\"black\" d=\"M414.09,-161.56C406.6,-157.33 397.71,-153.14 389,-151 272.82,-122.47 129.2,-138.15 63.65,-147.98\"/>\n",
       "<polygon fill=\"black\" stroke=\"black\" points=\"62.79,-144.57 53.44,-149.55 63.86,-151.48 62.79,-144.57\"/>\n",
       "<text text-anchor=\"middle\" x=\"230.5\" y=\"-154.8\" font-family=\"Times,serif\" font-size=\"14.00\">c_1*S_c</text>\n",
       "</g>\n",
       "<!-- E_c -->\n",
       "<g id=\"node9\" class=\"node\">\n",
       "<title>E_c</title>\n",
       "<ellipse fill=\"none\" stroke=\"black\" cx=\"880\" cy=\"-174\" rx=\"27\" ry=\"18\"/>\n",
       "<text text-anchor=\"middle\" x=\"880\" y=\"-170.3\" font-family=\"Times,serif\" font-size=\"14.00\">E_c</text>\n",
       "</g>\n",
       "<!-- S_c&#45;&gt;E_c -->\n",
       "<g id=\"edge2\" class=\"edge\">\n",
       "<title>S_c&#45;&gt;E_c</title>\n",
       "<path fill=\"none\" stroke=\"black\" d=\"M461.12,-174C536.69,-174 755.72,-174 842.74,-174\"/>\n",
       "<polygon fill=\"black\" stroke=\"black\" points=\"842.92,-177.5 852.92,-174 842.92,-170.5 842.92,-177.5\"/>\n",
       "<text text-anchor=\"middle\" x=\"657\" y=\"-177.8\" font-family=\"Times,serif\" font-size=\"14.00\">c_0*(beta_1*I_1+beta_2*I_2+beta_3*I_3+c_0*beta_1*I_c)*S_c</text>\n",
       "</g>\n",
       "<!-- I_c -->\n",
       "<g id=\"node10\" class=\"node\">\n",
       "<title>I_c</title>\n",
       "<ellipse fill=\"none\" stroke=\"black\" cx=\"994\" cy=\"-174\" rx=\"27\" ry=\"18\"/>\n",
       "<text text-anchor=\"middle\" x=\"994\" y=\"-170.3\" font-family=\"Times,serif\" font-size=\"14.00\">I_c</text>\n",
       "</g>\n",
       "<!-- E_c&#45;&gt;I_c -->\n",
       "<g id=\"edge6\" class=\"edge\">\n",
       "<title>E_c&#45;&gt;I_c</title>\n",
       "<path fill=\"none\" stroke=\"black\" d=\"M907.26,-174C922,-174 940.62,-174 956.74,-174\"/>\n",
       "<polygon fill=\"black\" stroke=\"black\" points=\"956.91,-177.5 966.91,-174 956.91,-170.5 956.91,-177.5\"/>\n",
       "<text text-anchor=\"middle\" x=\"937\" y=\"-177.8\" font-family=\"Times,serif\" font-size=\"14.00\">α*E</text>\n",
       "</g>\n",
       "<!-- I_c&#45;&gt;I_2 -->\n",
       "<g id=\"edge12\" class=\"edge\">\n",
       "<title>I_c&#45;&gt;I_2</title>\n",
       "<path fill=\"none\" stroke=\"black\" d=\"M1015.16,-162.74C1033.74,-152.12 1061.85,-135.43 1085,-119 1091.53,-114.37 1098.34,-109.05 1104.6,-103.96\"/>\n",
       "<polygon fill=\"black\" stroke=\"black\" points=\"1107.25,-106.31 1112.71,-97.23 1102.78,-100.92 1107.25,-106.31\"/>\n",
       "<text text-anchor=\"middle\" x=\"1062\" y=\"-151.8\" font-family=\"Times,serif\" font-size=\"14.00\">p_1*I_c</text>\n",
       "</g>\n",
       "<!-- I_c&#45;&gt;R -->\n",
       "<g id=\"edge8\" class=\"edge\">\n",
       "<title>I_c&#45;&gt;R</title>\n",
       "<path fill=\"none\" stroke=\"black\" d=\"M1021.01,-172.12C1038.99,-170.78 1063.46,-168.9 1085,-167 1247.82,-152.66 1294.79,-179.1 1451,-131 1456.41,-129.34 1461.9,-126.97 1467.1,-124.36\"/>\n",
       "<polygon fill=\"black\" stroke=\"black\" points=\"1468.91,-127.36 1476.03,-119.52 1465.57,-121.21 1468.91,-127.36\"/>\n",
       "<text text-anchor=\"middle\" x=\"1215\" y=\"-165.8\" font-family=\"Times,serif\" font-size=\"14.00\">gamma_1*I_c</text>\n",
       "</g>\n",
       "</g>\n",
       "</svg>\n"
      ],
      "text/plain": [
       "<graphviz.dot.Digraph at 0x12ef619d0>"
      ]
     },
     "execution_count": 38,
     "metadata": {},
     "output_type": "execute_result"
    }
   ],
   "source": [
    "# display graphical representation of the model\n",
    "SCCEIR_model.get_transition_graph()"
   ]
  },
  {
   "cell_type": "code",
   "execution_count": 39,
   "metadata": {},
   "outputs": [
    {
     "data": {
      "text/latex": [
       "$\\displaystyle \\left[\\begin{matrix}- I_{3} S c_{2} - S \\left(I_{1} \\beta_{1} + I_{2} \\beta_{2} + I_{3} \\beta_{3} + I_{c} \\beta_{1} c_{0}\\right) + S_{c} c_{1}\\\\- E \\alpha + S \\left(I_{1} \\beta_{1} + I_{2} \\beta_{2} + I_{3} \\beta_{3} + I_{c} \\beta_{1} c_{0}\\right)\\\\E \\alpha - I_{1} \\gamma_{1} - I_{1} p_{1}\\\\I_{1} p_{1} - I_{2} \\gamma_{2} - I_{2} p_{2} + I_{c} p_{1}\\\\I_{2} p_{2} - I_{3} \\gamma_{3} - I_{3} \\mu\\\\I_{1} \\gamma_{1} + I_{2} \\gamma_{2} + I_{3} \\gamma_{3} + I_{c} \\gamma_{1}\\\\I_{3} \\mu\\\\I_{3} S c_{2} - S_{c} c_{0} \\left(I_{1} \\beta_{1} + I_{2} \\beta_{2} + I_{3} \\beta_{3} + I_{c} \\beta_{1} c_{0}\\right) - S_{c} c_{1}\\\\- E \\alpha + S_{c} c_{0} \\left(I_{1} \\beta_{1} + I_{2} \\beta_{2} + I_{3} \\beta_{3} + I_{c} \\beta_{1} c_{0}\\right)\\\\E \\alpha - I_{c} \\gamma_{1} - I_{c} p_{1}\\end{matrix}\\right]$"
      ],
      "text/plain": [
       "Matrix([\n",
       "[     -I_3*S*c_2 - S*(I_1*beta_1 + I_2*beta_2 + I_3*beta_3 + I_c*beta_1*c_0) + S_c*c_1],\n",
       "[                 -E*alpha + S*(I_1*beta_1 + I_2*beta_2 + I_3*beta_3 + I_c*beta_1*c_0)],\n",
       "[                                                      E*alpha - I_1*gamma_1 - I_1*p_1],\n",
       "[                                            I_1*p_1 - I_2*gamma_2 - I_2*p_2 + I_c*p_1],\n",
       "[                                                       I_2*p_2 - I_3*gamma_3 - I_3*mu],\n",
       "[                                I_1*gamma_1 + I_2*gamma_2 + I_3*gamma_3 + I_c*gamma_1],\n",
       "[                                                                               I_3*mu],\n",
       "[I_3*S*c_2 - S_c*c_0*(I_1*beta_1 + I_2*beta_2 + I_3*beta_3 + I_c*beta_1*c_0) - S_c*c_1],\n",
       "[           -E*alpha + S_c*c_0*(I_1*beta_1 + I_2*beta_2 + I_3*beta_3 + I_c*beta_1*c_0)],\n",
       "[                                                      E*alpha - I_c*gamma_1 - I_c*p_1]])"
      ]
     },
     "execution_count": 39,
     "metadata": {},
     "output_type": "execute_result"
    }
   ],
   "source": [
    "SCCEIR_model.get_ode_eqn()"
   ]
  },
  {
   "cell_type": "code",
   "execution_count": 40,
   "metadata": {},
   "outputs": [
    {
     "data": {
      "text/latex": [
       "$\\displaystyle \\left[\\begin{matrix}- I_{1} \\beta_{1} - I_{2} \\beta_{2} - I_{3} \\beta_{3} - I_{3} c_{2} - I_{c} \\beta_{1} c_{0} & 0 & - S \\beta_{1} & - S \\beta_{2} & - S \\beta_{3} - S c_{2} & 0 & 0 & c_{1} & 0 & - S \\beta_{1} c_{0}\\\\I_{1} \\beta_{1} + I_{2} \\beta_{2} + I_{3} \\beta_{3} + I_{c} \\beta_{1} c_{0} & - \\alpha & S \\beta_{1} & S \\beta_{2} & S \\beta_{3} & 0 & 0 & 0 & 0 & S \\beta_{1} c_{0}\\\\0 & \\alpha & - \\gamma_{1} - p_{1} & 0 & 0 & 0 & 0 & 0 & 0 & 0\\\\0 & 0 & p_{1} & - \\gamma_{2} - p_{2} & 0 & 0 & 0 & 0 & 0 & p_{1}\\\\0 & 0 & 0 & p_{2} & - \\gamma_{3} - \\mu & 0 & 0 & 0 & 0 & 0\\\\0 & 0 & \\gamma_{1} & \\gamma_{2} & \\gamma_{3} & 0 & 0 & 0 & 0 & \\gamma_{1}\\\\0 & 0 & 0 & 0 & \\mu & 0 & 0 & 0 & 0 & 0\\\\I_{3} c_{2} & 0 & - S_{c} \\beta_{1} c_{0} & - S_{c} \\beta_{2} c_{0} & S c_{2} - S_{c} \\beta_{3} c_{0} & 0 & 0 & - c_{0} \\left(I_{1} \\beta_{1} + I_{2} \\beta_{2} + I_{3} \\beta_{3} + I_{c} \\beta_{1} c_{0}\\right) - c_{1} & 0 & - S_{c} \\beta_{1} c_{0}^{2}\\\\0 & - \\alpha & S_{c} \\beta_{1} c_{0} & S_{c} \\beta_{2} c_{0} & S_{c} \\beta_{3} c_{0} & 0 & 0 & c_{0} \\left(I_{1} \\beta_{1} + I_{2} \\beta_{2} + I_{3} \\beta_{3} + I_{c} \\beta_{1} c_{0}\\right) & 0 & S_{c} \\beta_{1} c_{0}^{2}\\\\0 & \\alpha & 0 & 0 & 0 & 0 & 0 & 0 & 0 & - \\gamma_{1} - p_{1}\\end{matrix}\\right]$"
      ],
      "text/plain": [
       "Matrix([\n",
       "[-I_1*beta_1 - I_2*beta_2 - I_3*beta_3 - I_3*c_2 - I_c*beta_1*c_0,      0,       -S*beta_1,       -S*beta_2,      -S*beta_3 - S*c_2, 0, 0,                                                                c_1, 0,      -S*beta_1*c_0],\n",
       "[           I_1*beta_1 + I_2*beta_2 + I_3*beta_3 + I_c*beta_1*c_0, -alpha,        S*beta_1,        S*beta_2,               S*beta_3, 0, 0,                                                                  0, 0,       S*beta_1*c_0],\n",
       "[                                                               0,  alpha,  -gamma_1 - p_1,               0,                      0, 0, 0,                                                                  0, 0,                  0],\n",
       "[                                                               0,      0,             p_1,  -gamma_2 - p_2,                      0, 0, 0,                                                                  0, 0,                p_1],\n",
       "[                                                               0,      0,               0,             p_2,          -gamma_3 - mu, 0, 0,                                                                  0, 0,                  0],\n",
       "[                                                               0,      0,         gamma_1,         gamma_2,                gamma_3, 0, 0,                                                                  0, 0,            gamma_1],\n",
       "[                                                               0,      0,               0,               0,                     mu, 0, 0,                                                                  0, 0,                  0],\n",
       "[                                                         I_3*c_2,      0, -S_c*beta_1*c_0, -S_c*beta_2*c_0, S*c_2 - S_c*beta_3*c_0, 0, 0, -c_0*(I_1*beta_1 + I_2*beta_2 + I_3*beta_3 + I_c*beta_1*c_0) - c_1, 0, -S_c*beta_1*c_0**2],\n",
       "[                                                               0, -alpha,  S_c*beta_1*c_0,  S_c*beta_2*c_0,         S_c*beta_3*c_0, 0, 0,        c_0*(I_1*beta_1 + I_2*beta_2 + I_3*beta_3 + I_c*beta_1*c_0), 0,  S_c*beta_1*c_0**2],\n",
       "[                                                               0,  alpha,               0,               0,                      0, 0, 0,                                                                  0, 0,     -gamma_1 - p_1]])"
      ]
     },
     "execution_count": 40,
     "metadata": {},
     "output_type": "execute_result"
    }
   ],
   "source": [
    "SCCEIR_model.get_jacobian_eqn()"
   ]
  },
  {
   "cell_type": "code",
   "execution_count": 41,
   "metadata": {},
   "outputs": [
    {
     "data": {
      "text/latex": [
       "$\\displaystyle \\left[\\begin{array}{cccccccccccccc}- S \\left(I_{1} + I_{c} c_{0}\\right) & - I_{2} S & - I_{3} S & 0 & 0 & 0 & 0 & 0 & 0 & 0 & - I_{c} S \\beta_{1} & S_{c} & - I_{3} S & 0\\\\S \\left(I_{1} + I_{c} c_{0}\\right) & I_{2} S & I_{3} S & - E & 0 & 0 & 0 & 0 & 0 & 0 & I_{c} S \\beta_{1} & 0 & 0 & 0\\\\0 & 0 & 0 & E & - I_{1} & 0 & 0 & - I_{1} & 0 & 0 & 0 & 0 & 0 & 0\\\\0 & 0 & 0 & 0 & 0 & - I_{2} & 0 & I_{1} + I_{c} & - I_{2} & 0 & 0 & 0 & 0 & 0\\\\0 & 0 & 0 & 0 & 0 & 0 & - I_{3} & 0 & I_{2} & - I_{3} & 0 & 0 & 0 & 0\\\\0 & 0 & 0 & 0 & I_{1} + I_{c} & I_{2} & I_{3} & 0 & 0 & 0 & 0 & 0 & 0 & 0\\\\0 & 0 & 0 & 0 & 0 & 0 & 0 & 0 & 0 & I_{3} & 0 & 0 & 0 & 0\\\\- S_{c} c_{0} \\left(I_{1} + I_{c} c_{0}\\right) & - I_{2} S_{c} c_{0} & - I_{3} S_{c} c_{0} & 0 & 0 & 0 & 0 & 0 & 0 & 0 & - I_{c} S_{c} \\beta_{1} c_{0} - S_{c} \\left(I_{1} \\beta_{1} + I_{2} \\beta_{2} + I_{3} \\beta_{3} + I_{c} \\beta_{1} c_{0}\\right) & - S_{c} & I_{3} S & 0\\\\S_{c} c_{0} \\left(I_{1} + I_{c} c_{0}\\right) & I_{2} S_{c} c_{0} & I_{3} S_{c} c_{0} & - E & 0 & 0 & 0 & 0 & 0 & 0 & I_{c} S_{c} \\beta_{1} c_{0} + S_{c} \\left(I_{1} \\beta_{1} + I_{2} \\beta_{2} + I_{3} \\beta_{3} + I_{c} \\beta_{1} c_{0}\\right) & 0 & 0 & 0\\\\0 & 0 & 0 & E & - I_{c} & 0 & 0 & - I_{c} & 0 & 0 & 0 & 0 & 0 & 0\\end{array}\\right]$"
      ],
      "text/plain": [
       "Matrix([\n",
       "[      -S*(I_1 + I_c*c_0),       -I_2*S,       -I_3*S,  0,         0,    0,    0,         0,    0,    0,                                                                     -I_c*S*beta_1,  S_c, -I_3*S, 0],\n",
       "[       S*(I_1 + I_c*c_0),        I_2*S,        I_3*S, -E,         0,    0,    0,         0,    0,    0,                                                                      I_c*S*beta_1,    0,      0, 0],\n",
       "[                       0,            0,            0,  E,      -I_1,    0,    0,      -I_1,    0,    0,                                                                                 0,    0,      0, 0],\n",
       "[                       0,            0,            0,  0,         0, -I_2,    0, I_1 + I_c, -I_2,    0,                                                                                 0,    0,      0, 0],\n",
       "[                       0,            0,            0,  0,         0,    0, -I_3,         0,  I_2, -I_3,                                                                                 0,    0,      0, 0],\n",
       "[                       0,            0,            0,  0, I_1 + I_c,  I_2,  I_3,         0,    0,    0,                                                                                 0,    0,      0, 0],\n",
       "[                       0,            0,            0,  0,         0,    0,    0,         0,    0,  I_3,                                                                                 0,    0,      0, 0],\n",
       "[-S_c*c_0*(I_1 + I_c*c_0), -I_2*S_c*c_0, -I_3*S_c*c_0,  0,         0,    0,    0,         0,    0,    0, -I_c*S_c*beta_1*c_0 - S_c*(I_1*beta_1 + I_2*beta_2 + I_3*beta_3 + I_c*beta_1*c_0), -S_c,  I_3*S, 0],\n",
       "[ S_c*c_0*(I_1 + I_c*c_0),  I_2*S_c*c_0,  I_3*S_c*c_0, -E,         0,    0,    0,         0,    0,    0,  I_c*S_c*beta_1*c_0 + S_c*(I_1*beta_1 + I_2*beta_2 + I_3*beta_3 + I_c*beta_1*c_0),    0,      0, 0],\n",
       "[                       0,            0,            0,  E,      -I_c,    0,    0,      -I_c,    0,    0,                                                                                 0,    0,      0, 0]])"
      ]
     },
     "execution_count": 41,
     "metadata": {},
     "output_type": "execute_result"
    }
   ],
   "source": [
    "SCCEIR_model.get_grad_eqn()"
   ]
  },
  {
   "cell_type": "markdown",
   "metadata": {},
   "source": [
    "# Extract data from Johns Hopkins data base"
   ]
  },
  {
   "cell_type": "code",
   "execution_count": 10,
   "metadata": {},
   "outputs": [
    {
     "data": {
      "text/html": [
       "<style>.container { width:100% !important; }</style>"
      ],
      "text/plain": [
       "<IPython.core.display.HTML object>"
      ]
     },
     "metadata": {},
     "output_type": "display_data"
    }
   ],
   "source": [
    "import numpy as np\n",
    "import csv\n",
    "import itertools\n",
    "import matplotlib\n",
    "%matplotlib inline\n",
    "import seaborn as sb\n",
    "from matplotlib import pyplot as plt\n",
    "from cycler import cycler\n",
    "import datetime\n",
    "import matplotlib.dates as mdates\n",
    "from pandas.plotting import register_matplotlib_converters\n",
    "register_matplotlib_converters()\n",
    "import pwlf\n",
    "import sys\n",
    "from IPython.core.display import display, HTML\n",
    "display(HTML(\"<style>.container { width:100% !important; }</style>\"))"
   ]
  },
  {
   "cell_type": "code",
   "execution_count": 11,
   "metadata": {},
   "outputs": [],
   "source": [
    "def get_data(jhu_file):\n",
    "    dat = []\n",
    "    with open(jhu_file, newline='') as csvfile:\n",
    "        myreader = csv.reader(csvfile, delimiter=',')\n",
    "        popdat = []\n",
    "        i = 0\n",
    "        for row in myreader:\n",
    "            if i != 0:\n",
    "                poplist = []\n",
    "                j = 0\n",
    "                for elt in row:\n",
    "                    if j >= 4:\n",
    "                        poplist.append(int(elt))\n",
    "                    elif j == 0:\n",
    "                        poplist.append(elt)\n",
    "                    elif j == 1:\n",
    "                        poplist[0]=(elt,poplist[0])\n",
    "                    j = j+1\n",
    "                popdat.append(poplist)\n",
    "            else:\n",
    "                popdat.append(row)\n",
    "            # print(popdat[i])\n",
    "            i = i + 1;\n",
    "    # dates\n",
    "    popdat0=['dates']\n",
    "    for elt in popdat[0][4:]:\n",
    "        popdat0.append(elt)\n",
    "    popdat[0] = [pop for pop in popdat0]\n",
    "    # print('popdat[0]',popdat[0])\n",
    "    # totals over all countries\n",
    "    totals = np.zeros(len(popdat[0])-1,dtype=int)\n",
    "    for row in popdat[1:]:\n",
    "        totals = totals + np.array(row[1:])\n",
    "    totals = list(np.asarray(totals))\n",
    "    # print(totals)\n",
    "    popkeyed = {poplist[0]: poplist[1:] for poplist in popdat}\n",
    "    popkeyed.update({'dates':popdat[0][1:]})\n",
    "    popkeyed.update({('World',''):totals})\n",
    "    # del popkeyed[('d','a')]\n",
    "    # assemble totals for countries with multiple regions\n",
    "    total = np.zeros(len(popkeyed['dates']),dtype=int)\n",
    "    poptotkeyed = {}\n",
    "    for country,tseries in popkeyed.items():\n",
    "        if country!='dates' and country[1] != '': # it seems that UK is single exception with both '' and non '' regions, UK total is then UK overseas\n",
    "            countrytotal = (country[0],'Total')\n",
    "            if countrytotal in poptotkeyed:\n",
    "                # print(country,popkeyed[country],poptotkeyed[countrytotal])\n",
    "                total = np.array(tseries)[:]+np.array(poptotkeyed[countrytotal])[:]\n",
    "            else:\n",
    "                total =  np.array(tseries)                        \n",
    "            poptotkeyed.update({countrytotal:list(total)})\n",
    "    for countrytotal,tseries in poptotkeyed.items():\n",
    "        total = np.array(tseries)\n",
    "        popkeyed.update({countrytotal:list(total)})\n",
    "    return popkeyed"
   ]
  },
  {
   "cell_type": "markdown",
   "metadata": {},
   "source": [
    "## JHU data"
   ]
  },
  {
   "cell_type": "code",
   "execution_count": 12,
   "metadata": {},
   "outputs": [
    {
     "name": "stdout",
     "output_type": "stream",
     "text": [
      "number of countries listed 274\n",
      "0 ('Afghanistan', '')\n",
      "1 ('Albania', '')\n",
      "2 ('Algeria', '')\n",
      "3 ('Andorra', '')\n",
      "4 ('Angola', '')\n",
      "5 ('Antigua and Barbuda', '')\n",
      "6 ('Argentina', '')\n",
      "7 ('Armenia', '')\n",
      "8 ('Australia', 'Australian Capital Territory')\n",
      "9 ('Australia', 'New South Wales')\n",
      "10 ('Australia', 'Northern Territory')\n",
      "11 ('Australia', 'Queensland')\n",
      "12 ('Australia', 'South Australia')\n",
      "13 ('Australia', 'Tasmania')\n",
      "14 ('Australia', 'Victoria')\n",
      "15 ('Australia', 'Western Australia')\n",
      "16 ('Austria', '')\n",
      "17 ('Azerbaijan', '')\n",
      "18 ('Bahamas', '')\n",
      "19 ('Bahrain', '')\n",
      "20 ('Bangladesh', '')\n",
      "21 ('Barbados', '')\n",
      "22 ('Belarus', '')\n",
      "23 ('Belgium', '')\n",
      "24 ('Benin', '')\n",
      "25 ('Bhutan', '')\n",
      "26 ('Bolivia', '')\n",
      "27 ('Bosnia and Herzegovina', '')\n",
      "28 ('Brazil', '')\n",
      "29 ('Brunei', '')\n",
      "30 ('Bulgaria', '')\n",
      "31 ('Burkina Faso', '')\n",
      "32 ('Cabo Verde', '')\n",
      "33 ('Cambodia', '')\n",
      "34 ('Cameroon', '')\n",
      "35 ('Canada', 'Alberta')\n",
      "36 ('Canada', 'British Columbia')\n",
      "37 ('Canada', 'Grand Princess')\n",
      "38 ('Canada', 'Manitoba')\n",
      "39 ('Canada', 'New Brunswick')\n",
      "40 ('Canada', 'Newfoundland and Labrador')\n",
      "41 ('Canada', 'Nova Scotia')\n",
      "42 ('Canada', 'Ontario')\n",
      "43 ('Canada', 'Prince Edward Island')\n",
      "44 ('Canada', 'Quebec')\n",
      "45 ('Canada', 'Saskatchewan')\n",
      "46 ('Central African Republic', '')\n",
      "47 ('Chad', '')\n",
      "48 ('Chile', '')\n",
      "49 ('China', 'Anhui')\n",
      "50 ('China', 'Beijing')\n",
      "51 ('China', 'Chongqing')\n",
      "52 ('China', 'Fujian')\n",
      "53 ('China', 'Gansu')\n",
      "54 ('China', 'Guangdong')\n",
      "55 ('China', 'Guangxi')\n",
      "56 ('China', 'Guizhou')\n",
      "57 ('China', 'Hainan')\n",
      "58 ('China', 'Hebei')\n",
      "59 ('China', 'Heilongjiang')\n",
      "60 ('China', 'Henan')\n",
      "61 ('China', 'Hong Kong')\n",
      "62 ('China', 'Hubei')\n",
      "63 ('China', 'Hunan')\n",
      "64 ('China', 'Inner Mongolia')\n",
      "65 ('China', 'Jiangsu')\n",
      "66 ('China', 'Jiangxi')\n",
      "67 ('China', 'Jilin')\n",
      "68 ('China', 'Liaoning')\n",
      "69 ('China', 'Macau')\n",
      "70 ('China', 'Ningxia')\n",
      "71 ('China', 'Qinghai')\n",
      "72 ('China', 'Shaanxi')\n",
      "73 ('China', 'Shandong')\n",
      "74 ('China', 'Shanghai')\n",
      "75 ('China', 'Shanxi')\n",
      "76 ('China', 'Sichuan')\n",
      "77 ('China', 'Tianjin')\n",
      "78 ('China', 'Tibet')\n",
      "79 ('China', 'Xinjiang')\n",
      "80 ('China', 'Yunnan')\n",
      "81 ('China', 'Zhejiang')\n",
      "82 ('Colombia', '')\n",
      "83 ('Congo (Brazzaville)', '')\n",
      "84 ('Congo (Kinshasa)', '')\n",
      "85 ('Costa Rica', '')\n",
      "86 (\"Cote d'Ivoire\", '')\n",
      "87 ('Croatia', '')\n",
      "88 ('Diamond Princess', '')\n",
      "89 ('Cuba', '')\n",
      "90 ('Cyprus', '')\n",
      "91 ('Czechia', '')\n",
      "92 ('Denmark', 'Faroe Islands')\n",
      "93 ('Denmark', 'Greenland')\n",
      "94 ('Denmark', '')\n",
      "95 ('Djibouti', '')\n",
      "96 ('Dominican Republic', '')\n",
      "97 ('Ecuador', '')\n",
      "98 ('Egypt', '')\n",
      "99 ('El Salvador', '')\n",
      "100 ('Equatorial Guinea', '')\n",
      "101 ('Eritrea', '')\n",
      "102 ('Estonia', '')\n",
      "103 ('Eswatini', '')\n",
      "104 ('Ethiopia', '')\n",
      "105 ('Fiji', '')\n",
      "106 ('Finland', '')\n",
      "107 ('France', 'French Guiana')\n",
      "108 ('France', 'French Polynesia')\n",
      "109 ('France', 'Guadeloupe')\n",
      "110 ('France', 'Mayotte')\n",
      "111 ('France', 'New Caledonia')\n",
      "112 ('France', 'Reunion')\n",
      "113 ('France', 'Saint Barthelemy')\n",
      "114 ('France', 'St Martin')\n",
      "115 ('France', 'Martinique')\n",
      "116 ('France', '')\n",
      "117 ('Gabon', '')\n",
      "118 ('Gambia', '')\n",
      "119 ('Georgia', '')\n",
      "120 ('Germany', '')\n",
      "121 ('Ghana', '')\n",
      "122 ('Greece', '')\n",
      "123 ('Guatemala', '')\n",
      "124 ('Guinea', '')\n",
      "125 ('Guyana', '')\n",
      "126 ('Haiti', '')\n",
      "127 ('Holy See', '')\n",
      "128 ('Honduras', '')\n",
      "129 ('Hungary', '')\n",
      "130 ('Iceland', '')\n",
      "131 ('India', '')\n",
      "132 ('Indonesia', '')\n",
      "133 ('Iran', '')\n",
      "134 ('Iraq', '')\n",
      "135 ('Ireland', '')\n",
      "136 ('Israel', '')\n",
      "137 ('Italy', '')\n",
      "138 ('Jamaica', '')\n",
      "139 ('Japan', '')\n",
      "140 ('Jordan', '')\n",
      "141 ('Kazakhstan', '')\n",
      "142 ('Kenya', '')\n",
      "143 ('Korea, South', '')\n",
      "144 ('Kuwait', '')\n",
      "145 ('Kyrgyzstan', '')\n",
      "146 ('Latvia', '')\n",
      "147 ('Lebanon', '')\n",
      "148 ('Liberia', '')\n",
      "149 ('Liechtenstein', '')\n",
      "150 ('Lithuania', '')\n",
      "151 ('Luxembourg', '')\n",
      "152 ('Madagascar', '')\n",
      "153 ('Malaysia', '')\n",
      "154 ('Maldives', '')\n",
      "155 ('Malta', '')\n",
      "156 ('Mauritania', '')\n",
      "157 ('Mauritius', '')\n",
      "158 ('Mexico', '')\n",
      "159 ('Moldova', '')\n",
      "160 ('Monaco', '')\n",
      "161 ('Mongolia', '')\n",
      "162 ('Montenegro', '')\n",
      "163 ('Morocco', '')\n",
      "164 ('Namibia', '')\n",
      "165 ('Nepal', '')\n",
      "166 ('Netherlands', 'Aruba')\n",
      "167 ('Netherlands', 'Curacao')\n",
      "168 ('Netherlands', 'Sint Maarten')\n",
      "169 ('Netherlands', '')\n",
      "170 ('New Zealand', '')\n",
      "171 ('Nicaragua', '')\n",
      "172 ('Niger', '')\n",
      "173 ('Nigeria', '')\n",
      "174 ('North Macedonia', '')\n",
      "175 ('Norway', '')\n",
      "176 ('Oman', '')\n",
      "177 ('Pakistan', '')\n",
      "178 ('Panama', '')\n",
      "179 ('Papua New Guinea', '')\n",
      "180 ('Paraguay', '')\n",
      "181 ('Peru', '')\n",
      "182 ('Philippines', '')\n",
      "183 ('Poland', '')\n",
      "184 ('Portugal', '')\n",
      "185 ('Qatar', '')\n",
      "186 ('Romania', '')\n",
      "187 ('Russia', '')\n",
      "188 ('Rwanda', '')\n",
      "189 ('Saint Lucia', '')\n",
      "190 ('Saint Vincent and the Grenadines', '')\n",
      "191 ('San Marino', '')\n",
      "192 ('Saudi Arabia', '')\n",
      "193 ('Senegal', '')\n",
      "194 ('Serbia', '')\n",
      "195 ('Seychelles', '')\n",
      "196 ('Singapore', '')\n",
      "197 ('Slovakia', '')\n",
      "198 ('Slovenia', '')\n",
      "199 ('Somalia', '')\n",
      "200 ('South Africa', '')\n",
      "201 ('Spain', '')\n",
      "202 ('Sri Lanka', '')\n",
      "203 ('Sudan', '')\n",
      "204 ('Suriname', '')\n",
      "205 ('Sweden', '')\n",
      "206 ('Switzerland', '')\n",
      "207 ('Taiwan*', '')\n",
      "208 ('Tanzania', '')\n",
      "209 ('Thailand', '')\n",
      "210 ('Togo', '')\n",
      "211 ('Trinidad and Tobago', '')\n",
      "212 ('Tunisia', '')\n",
      "213 ('Turkey', '')\n",
      "214 ('Uganda', '')\n",
      "215 ('Ukraine', '')\n",
      "216 ('United Arab Emirates', '')\n",
      "217 ('United Kingdom', 'Bermuda')\n",
      "218 ('United Kingdom', 'Cayman Islands')\n",
      "219 ('United Kingdom', 'Channel Islands')\n",
      "220 ('United Kingdom', 'Gibraltar')\n",
      "221 ('United Kingdom', 'Isle of Man')\n",
      "222 ('United Kingdom', 'Montserrat')\n",
      "223 ('United Kingdom', '')\n",
      "224 ('Uruguay', '')\n",
      "225 ('US', '')\n",
      "226 ('Uzbekistan', '')\n",
      "227 ('Venezuela', '')\n",
      "228 ('Vietnam', '')\n",
      "229 ('Zambia', '')\n",
      "230 ('Zimbabwe', '')\n",
      "231 ('Canada', 'Diamond Princess')\n",
      "232 ('Dominica', '')\n",
      "233 ('Grenada', '')\n",
      "234 ('Mozambique', '')\n",
      "235 ('Syria', '')\n",
      "236 ('Timor-Leste', '')\n",
      "237 ('Belize', '')\n",
      "238 ('Laos', '')\n",
      "239 ('Libya', '')\n",
      "240 ('West Bank and Gaza', '')\n",
      "241 ('Guinea-Bissau', '')\n",
      "242 ('Mali', '')\n",
      "243 ('Saint Kitts and Nevis', '')\n",
      "244 ('Canada', 'Northwest Territories')\n",
      "245 ('Canada', 'Yukon')\n",
      "246 ('Kosovo', '')\n",
      "247 ('Burma', '')\n",
      "248 ('United Kingdom', 'Anguilla')\n",
      "249 ('United Kingdom', 'British Virgin Islands')\n",
      "250 ('United Kingdom', 'Turks and Caicos Islands')\n",
      "251 ('MS Zaandam', '')\n",
      "252 ('Botswana', '')\n",
      "253 ('Burundi', '')\n",
      "254 ('Sierra Leone', '')\n",
      "255 ('Netherlands', 'Bonaire, Sint Eustatius and Saba')\n",
      "256 ('Malawi', '')\n",
      "257 ('United Kingdom', 'Falkland Islands (Malvinas)')\n",
      "258 ('France', 'Saint Pierre and Miquelon')\n",
      "259 ('South Sudan', '')\n",
      "260 ('Western Sahara', '')\n",
      "261 ('Sao Tome and Principe', '')\n",
      "262 ('Yemen', '')\n",
      "263 ('Comoros', '')\n",
      "264 ('Tajikistan', '')\n",
      "265 ('Lesotho', '')\n",
      "266 ('World', '')\n",
      "267 ('Australia', 'Total')\n",
      "268 ('Canada', 'Total')\n",
      "269 ('China', 'Total')\n",
      "270 ('Denmark', 'Total')\n",
      "271 ('France', 'Total')\n",
      "272 ('Netherlands', 'Total')\n",
      "273 ('United Kingdom', 'Total')\n"
     ]
    }
   ],
   "source": [
    "base = '../../covid-19-JH/csse_covid_19_data/csse_covid_19_time_series/'\n",
    "confirmed = get_data(base+'time_series_covid19_confirmed_global.csv')\n",
    "deaths = get_data(base+'time_series_covid19_deaths_global.csv')\n",
    "recovered = get_data(base+'time_series_covid19_recovered_global.csv')\n",
    "covid_ts = {'confirmed':confirmed,'deaths':deaths,'recovered':recovered}\n",
    "countries_jhu = [(row[0],row[1]) for row in confirmed][1:]\n",
    "print(\"number of countries listed\",len(countries_jhu))\n",
    "i=0\n",
    "for country in countries_jhu:\n",
    "    print(i,country)\n",
    "    i = i + 1"
   ]
  },
  {
   "cell_type": "markdown",
   "metadata": {},
   "source": [
    "## Get data for one country"
   ]
  },
  {
   "cell_type": "code",
   "execution_count": 13,
   "metadata": {},
   "outputs": [],
   "source": [
    "def Float(x):\n",
    "    try:\n",
    "        rtn = float(x)\n",
    "    except:\n",
    "        rtn = float('NaN')\n",
    "    return rtn"
   ]
  },
  {
   "cell_type": "code",
   "execution_count": 146,
   "metadata": {},
   "outputs": [],
   "source": [
    " def get_country_data(country_s='World', datatype='confirmed', firstdate=None, lastdate=None):\n",
    "    if isinstance(country_s,str):\n",
    "        country = (country_s,'')\n",
    "    else:                               # single ('country','reg') entry\n",
    "        country = country_s\n",
    "    popkeyed = covid_ts[datatype]\n",
    "    \n",
    "    dates = popkeyed['dates']\n",
    "    fmt = '%m/%d/%y'\n",
    "    xx = [datetime.datetime.strptime(dd,fmt) for dd in dates ]\n",
    "    if firstdate:\n",
    "        firstdate_d = datetime.datetime.strptime(firstdate,fmt)\n",
    "    else:\n",
    "        firstdate_d = datetime.datetime.strptime(dates[0],fmt)\n",
    "    if lastdate:\n",
    "        lastdate_d = datetime.datetime.strptime(lastdate,fmt)\n",
    "    else:\n",
    "        lastdate_d = datetime.datetime.strptime(dates[-1],fmt)    \n",
    "    daystart = (firstdate_d-xx[0]).days\n",
    "    daystop = (lastdate_d-xx[-1]).days\n",
    "\n",
    "    try:\n",
    "        yy = popkeyed[country]\n",
    "        # print(country)\n",
    "    except:\n",
    "            print('country data not found',country)\n",
    "            return None,None      \n",
    "    yyf = [Float(y) for y in yy]\n",
    "\n",
    "    yy0 = []\n",
    "    yy1 = []  \n",
    "    if daystart>len(yyf):\n",
    "        print('Error: start date does not overlap with available data')\n",
    "        return None,None\n",
    "    elif daystart>0:\n",
    "        yyf = yyf[daystart:]\n",
    "    elif daystart <0:\n",
    "        yy0 = [0.]*(-daystart)\n",
    "        \n",
    "    if daystop < 0:\n",
    "        yyf = yyf[:daystop]  \n",
    "    elif daystop > 0:\n",
    "        yy1 = [0.]*(daystop)\n",
    "    yyf = yy0 + yyf + yy1\n",
    "    xxf = [float(x) for x in range(len(yyf))]\n",
    "    return xxf,yyf "
   ]
  },
  {
   "cell_type": "code",
   "execution_count": 203,
   "metadata": {
    "scrolled": false
   },
   "outputs": [
    {
     "name": "stdout",
     "output_type": "stream",
     "text": [
      "135\n"
     ]
    }
   ],
   "source": [
    "# Italy assumed data starting on firstdate\n",
    "N = 60000000\n",
    "firstdate = '01/25/20'\n",
    "lastdate = '06/07/20'\n",
    "xxf,yy = get_country_data('Italy','confirmed',firstdate=firstdate,lastdate=lastdate)\n",
    "# print(xxf)\n",
    "xxf,yy1 = get_country_data('Italy','recovered',firstdate=firstdate,lastdate=lastdate)\n",
    "xxf,yy2 = get_country_data('Italy','deaths',firstdate=firstdate,lastdate=lastdate)\n",
    "y_jhu = np.array([[yy1[i],yy2[i]] for i in range(0,len(yy))])/N\n",
    "data = np.array([[xxf[i],yy1[i],yy2[i]] for i in range(len(yy))])\n",
    "# print(data)\n",
    "lastday = len(y_jhu)\n",
    "print(lastday)"
   ]
  },
  {
   "cell_type": "markdown",
   "metadata": {},
   "source": [
    "# Simulation of SCEIR model"
   ]
  },
  {
   "cell_type": "code",
   "execution_count": 215,
   "metadata": {},
   "outputs": [
    {
     "name": "stdout",
     "output_type": "stream",
     "text": [
      "{'beta_1': 0.25, 'beta_2': 0.0, 'beta_3': 0.0, 'alpha': 0.2, 'gamma_1': 0.06999999999999999, 'gamma_2': 0.06060606060606061, 'gamma_3': 0.07142857142857142, 'p_1': 0.030000000000000013, 'p_2': 0.030303030303030304, 'mu': 0.07142857142857142, 'c_0': 0.4, 'c_1': 0.047619047619047616, 'c_2': 2000.0, 'N': 1.0}\n"
     ]
    },
    {
     "data": {
      "image/png": "[encoded data removed]",
      "text/plain": [
       "<Figure size 432x288 with 9 Axes>"
      ]
     },
     "metadata": {
      "needs_background": "light"
     },
     "output_type": "display_data"
    },
    {
     "name": "stdout",
     "output_type": "stream",
     "text": [
      "Peak infection (days) 134.0\n"
     ]
    }
   ],
   "source": [
    "# setup time points for simulation, initial conditions and parameters\n",
    "t = np.linspace(0, lastday -1, lastday)\n",
    "\n",
    "# initial conditions assuming there is no natural immunity\n",
    "E_0 =  0.00003\n",
    "x0 = [1.0-E_0, E_0, 0.0, 0.0, 0.0, 0.0, 0.0, 0.0]\n",
    "\n",
    "# Define parameters based on clinical observations Dr. Alison\n",
    "Exposure=0.25 # Rate coefficient for exposure per individual in contact per day\n",
    "IncubPeriod=5  #Incubation period, days\n",
    "DurMildInf=10 #Duration of mild infections, days\n",
    "FracMild=0.70  #Fraction of infections that are mild\n",
    "FracSevere=0.20 #Fraction of infections that are severe\n",
    "FracCritical=0.1 #Fraction of infections that are critical\n",
    "CFR=0.05 #Case fatality rate (fraction of infections resulting in death)\n",
    "TimeICUDeath=7 #Time from ICU admission to death, days\n",
    "DurHosp=11 #Duration of hospitalization, days\n",
    "\n",
    "# Model extension by John McCaskill to include caution \n",
    "CautionFactor= 0.4 # Fractional reduction of exposure rate for cautioned individuals\n",
    "CautionRetention= 21. # Duration of cautionary state of susceptibles (2 weeks)\n",
    "CautionICUFrac= 0.25 # Fraction of ICUs occupied leading to transition to caution @ 1/day\n",
    "ICUFrac= 0.002 # Fraction of ICUs relative to population size N\n",
    "\n",
    "# Model fitting extension to allow for incomplete detection\n",
    "FracConfirmedDet=0.125  # Fraction of recovered individuals measured\n",
    "FracRecoveredDet=FracConfirmedDet # Fraction of recovered individuals measured\n",
    "FracDeathsDet=1.0\n",
    "\n",
    "# convert above parameters to model parameters\n",
    "params = {'beta_1' : Exposure/sum(x0),\n",
    "          'beta_2' : 0.0,\n",
    "          'beta_3' : 0.0,\n",
    "          'alpha' : 1.0/IncubPeriod,\n",
    "          'gamma_1': (1.0/DurMildInf)*FracMild,\n",
    "          'gamma_2': (1.0/DurHosp)-(1/DurHosp)*(FracCritical/(FracCritical+FracSevere)),\n",
    "          'gamma_3': (1.0/TimeICUDeath)-(1/TimeICUDeath)*(CFR/FracCritical),\n",
    "          'p_1'    : (1.0/DurMildInf)-(1.0/DurMildInf)*FracMild,\n",
    "          'p_2'    : (1.0/DurHosp)*(FracCritical/(FracCritical+FracSevere)),\n",
    "          'mu'    : (1.0/TimeICUDeath)*(CFR/FracCritical),\n",
    "          'c_0'    : CautionFactor,\n",
    "          'c_1'    : 1.0/CautionRetention,\n",
    "          'c_2'    : 1.0/(sum(x0)*ICUFrac*CautionICUFrac),\n",
    "          'N'     : sum(x0)}\n",
    "print(params)\n",
    "# assign x0 and params to the model, integrate over t and plot\n",
    "SCEIR_model.initial_values = (x0, t[0])\n",
    "SCEIR_model.parameters = params\n",
    "solution = SCEIR_model.integrate(t[1::])\n",
    "\n",
    "SCEIR_model.plot()\n",
    "\n",
    "# calculate time point when maximum number of people are infectious\n",
    "peak_i = np.argmax(solution[:,2])\n",
    "print('Peak infection (days)', t[peak_i])"
   ]
  },
  {
   "cell_type": "markdown",
   "metadata": {},
   "source": [
    "## Compare data with SCEIR simulation"
   ]
  },
  {
   "cell_type": "code",
   "execution_count": 216,
   "metadata": {
    "scrolled": true
   },
   "outputs": [
    {
     "name": "stdout",
     "output_type": "stream",
     "text": [
      "{'beta_1': 0.25, 'beta_2': 0.0, 'beta_3': 0.0, 'alpha': 0.2, 'gamma_1': 0.06999999999999999, 'gamma_2': 0.06060606060606061, 'gamma_3': 0.07142857142857142, 'p_1': 0.030000000000000013, 'p_2': 0.030303030303030304, 'mu': 0.07142857142857142, 'c_0': 0.4, 'c_1': 0.047619047619047616, 'c_2': 2000.0, 'N': 1.0}\n",
      "0.4 0.047619047619047616\n",
      "[0.99997, 3e-05, 0.0, 0.0, 0.0, 0.0, 0.0, 0.0]\n",
      "135\n",
      "Peak infection (days) 133.0\n"
     ]
    },
    {
     "data": {
      "image/png": "[encoded data removed]",
      "text/plain": [
       "<Figure size 1080x720 with 1 Axes>"
      ]
     },
     "metadata": {
      "needs_background": "light"
     },
     "output_type": "display_data"
    }
   ],
   "source": [
    "# model with generating parameters \n",
    "print(params)\n",
    "params_fit = params.copy()\n",
    "print(params_fit['c_0'],params_fit['c_1'])\n",
    "SCEIR_model.params = params_fit\n",
    "\n",
    "x0_fit = x0.copy()\n",
    "# x0_fit[2] = 0.00001\n",
    "#t_fit = numpy.linspace(0, 150, 1000)\n",
    "print(x0_fit)\n",
    "t_fit = t\n",
    "print(len(t))\n",
    "SCEIR_model.initial_values = (x0_fit, t_fit[0])\n",
    "# %timeit sol_fit =SCEIR_model.integrate(t_fit[1::]) # use magic %timeit to time\n",
    "#sol_fit =SCEIR_model.integrate(t_fit[1::])\n",
    "# sol_fit = SCEIR_model.integrate(t_fit)\n",
    "sol_fit = scipy.integrate.odeint(SCEIR_model.ode, x0_fit, t_fit[1::])\n",
    "# print(len(sol_fit[0]))\n",
    "#\n",
    "plt.figure(figsize=(15,10))\n",
    "#plt.plot(t,y_jhu[:,0], 'go',label='I_1') # infected observations\n",
    "#plt.plot(t,y_jhu[:,1], 'go',label='I_2') # infected observations\n",
    "#plt.plot(t,y_jhu[:,2], 'go',label='I_3') # infected observations\n",
    "plt.plot(t,y_jhu[:,0]/FracRecoveredDet, 'bo',label='R') # recovered\n",
    "plt.plot(t,y_jhu[:,1], 'ro',label='D') # died\n",
    "plt.gca().set_prop_cycle(color=['grey','orange','green','green','green','blue','red', 'black'])\n",
    "plt.plot(t_fit[1::], sol_fit)\n",
    "plt.ylim([0,0.06])\n",
    "plt.legend()\n",
    "#plt.show(())\n",
    "#ode_fit.plot()\n",
    "\n",
    "peak_i = np.argmax(sol_fit[:,2])\n",
    "print('Peak infection (days)', t_fit[peak_i])"
   ]
  },
  {
   "cell_type": "markdown",
   "metadata": {},
   "source": [
    "## Integration and plot using scipy and matplotlib directly"
   ]
  },
  {
   "cell_type": "code",
   "execution_count": 155,
   "metadata": {},
   "outputs": [
    {
     "data": {
      "text/plain": [
       "[<matplotlib.lines.Line2D at 0x12fff9e10>,\n",
       " <matplotlib.lines.Line2D at 0x12fff9fd0>,\n",
       " <matplotlib.lines.Line2D at 0x12a779210>,\n",
       " <matplotlib.lines.Line2D at 0x12a7793d0>,\n",
       " <matplotlib.lines.Line2D at 0x12a779590>,\n",
       " <matplotlib.lines.Line2D at 0x12a779750>,\n",
       " <matplotlib.lines.Line2D at 0x12a779990>,\n",
       " <matplotlib.lines.Line2D at 0x12a779b50>]"
      ]
     },
     "execution_count": 155,
     "metadata": {},
     "output_type": "execute_result"
    },
    {
     "data": {
      "image/png": "[encoded data removed]",
      "text/plain": [
       "<Figure size 1080x504 with 2 Axes>"
      ]
     },
     "metadata": {
      "needs_background": "light"
     },
     "output_type": "display_data"
    }
   ],
   "source": [
    "# solution = scipy.integrate.odeint(SCEIR_model.ode, x0, t)\n",
    "# print(len(t))\n",
    "solution1 = scipy.integrate.odeint(SCEIR_model.ode, x0, t[1::])\n",
    "ys = solution1.copy()\n",
    "plt.figure(figsize=(15,7))\n",
    "plt.subplot(1,2,1)\n",
    "plt.xlabel(\"Time (days)\")\n",
    "plt.ylabel(\"Number per 1000000 People\")\n",
    "plt.ylim([0,1])\n",
    "plt.legend((\"S\",\"E\",\"I1\",\"I2\",\"I3\",\"R\",\"D\",\"Sc\"))\n",
    "plt.plot(t[1::],ys)\n",
    "plt.subplot(1,2,2)\n",
    "plt.xlabel(\"Time (days)\")\n",
    "plt.ylabel(\"Number per 1000000 People\")\n",
    "plt.ylim([0.000001,1])\n",
    "plt.legend((\"S\",\"E\",\"I1\",\"I2\",\"I3\",\"R\",\"D\",\"Sc\"))\n",
    "plt.semilogy()\n",
    "plt.plot(t[1::],ys)"
   ]
  },
  {
   "cell_type": "markdown",
   "metadata": {},
   "source": [
    "# Simulation of SCCEIR model"
   ]
  },
  {
   "cell_type": "code",
   "execution_count": 232,
   "metadata": {},
   "outputs": [
    {
     "name": "stdout",
     "output_type": "stream",
     "text": [
      "{'beta_1': 0.25, 'beta_2': 0.0, 'beta_3': 0.0, 'alpha': 0.2, 'gamma_1': 0.06999999999999999, 'gamma_2': 0.06060606060606061, 'gamma_3': 0.042857142857142844, 'p_1': 0.030000000000000013, 'p_2': 0.030303030303030304, 'mu': 0.1, 'c_0': 0.2, 'c_1': 0.047619047619047616, 'c_2': 1666.6666666666667, 'N': 1.0}\n"
     ]
    },
    {
     "data": {
      "image/png": "[encoded data removed]",
      "text/plain": [
       "<Figure size 432x288 with 9 Axes>"
      ]
     },
     "metadata": {
      "needs_background": "light"
     },
     "output_type": "display_data"
    },
    {
     "data": {
      "image/png": "[encoded data removed]",
      "text/plain": [
       "<Figure size 432x288 with 3 Axes>"
      ]
     },
     "metadata": {
      "needs_background": "light"
     },
     "output_type": "display_data"
    },
    {
     "name": "stdout",
     "output_type": "stream",
     "text": [
      "Peak infection (days) 62.0\n"
     ]
    }
   ],
   "source": [
    "# setup time points for simulation, initial conditions and parameters\n",
    "t = np.linspace(0, lastday -1, lastday)\n",
    "\n",
    "# initial conditions assuming there is no natural immunity\n",
    "E_0 =  0.00003\n",
    "x0_c = [1.0-E_0, E_0, 0.0, 0.0, 0.0, 0.0, 0.0, 0.0, 0.0, 0.0]\n",
    "\n",
    "# Define parameters based on clinical observations Dr. Alison\n",
    "Exposure=0.25 # Rate coefficient for exposure per individual in contact per day\n",
    "IncubPeriod=5  #Incubation period, days\n",
    "DurMildInf=10 #Duration of mild infections, days\n",
    "FracMild=0.70  #Fraction of infections that are mild\n",
    "FracSevere=0.20 #Fraction of infections that are severe\n",
    "FracCritical=0.1 #Fraction of infections that are critical\n",
    "CFR=0.07 #Case fatality rate (fraction of infections resulting in death)\n",
    "TimeICUDeath=7 #Time from ICU admission to death, days\n",
    "DurHosp=11 #Duration of hospitalization, days\n",
    "\n",
    "# Model fitting extension to allow for incomplete detection\n",
    "FracConfirmedDet=0.125  # Fraction of recovered individuals measured\n",
    "FracRecoveredDet=FracConfirmedDet # Fraction of recovered individuals measured\n",
    "FracDeathsDet=1.0\n",
    "\n",
    "# Model extension by John McCaskill to include caution \n",
    "CautionFactor= 0.2 # Fractional reduction of exposure rate for cautioned individuals\n",
    "CautionRetention= 21. # Duration of cautionary state of susceptibles (2 weeks)\n",
    "CautionICUFrac= 0.3 # Fraction of ICUs occupied leading to transition to caution @ 1/day\n",
    "ICUFrac= 0.002 # Fraction of ICUs relative to population size N\n",
    "\n",
    "\n",
    "# convert above parameters to model parameters\n",
    "params = {'beta_1' : Exposure/sum(x0),\n",
    "          'beta_2' : 0.0,\n",
    "          'beta_3' : 0.0,\n",
    "          'alpha' : 1.0/IncubPeriod,\n",
    "          'gamma_1': (1.0/DurMildInf)*FracMild,\n",
    "          'gamma_2': (1.0/DurHosp)-(1/DurHosp)*(FracCritical/(FracCritical+FracSevere)),\n",
    "          'gamma_3': (1.0/TimeICUDeath)-(1/TimeICUDeath)*(CFR/FracCritical),\n",
    "          'p_1'    : (1.0/DurMildInf)-(1.0/DurMildInf)*FracMild,\n",
    "          'p_2'    : (1.0/DurHosp)*(FracCritical/(FracCritical+FracSevere)),\n",
    "          'mu'    : (1.0/TimeICUDeath)*(CFR/FracCritical),\n",
    "          'c_0'    : CautionFactor,\n",
    "          'c_1'    : 1.0/CautionRetention,\n",
    "          'c_2'    : 1.0/(sum(x0)*ICUFrac*CautionICUFrac),\n",
    "          'N'     : sum(x0)}\n",
    "print(params)\n",
    "# assign x0 and params to the model, integrate over t and plot\n",
    "SCCEIR_model.initial_values = (x0_c, t[0])\n",
    "SCCEIR_model.parameters = params\n",
    "solution = SCCEIR_model.integrate(t[1::])\n",
    "\n",
    "SCCEIR_model.plot()\n",
    "\n",
    "# calculate time point when maximum number of people are infectious\n",
    "peak_i = np.argmax(solution[:,2])\n",
    "print('Peak infection (days)', t[peak_i])"
   ]
  },
  {
   "cell_type": "markdown",
   "metadata": {},
   "source": [
    "## Compare data with SCCEIR simulation"
   ]
  },
  {
   "cell_type": "code",
   "execution_count": 233,
   "metadata": {
    "scrolled": true
   },
   "outputs": [
    {
     "name": "stdout",
     "output_type": "stream",
     "text": [
      "{'beta_1': 0.25, 'beta_2': 0.0, 'beta_3': 0.0, 'alpha': 0.2, 'gamma_1': 0.06999999999999999, 'gamma_2': 0.06060606060606061, 'gamma_3': 0.042857142857142844, 'p_1': 0.030000000000000013, 'p_2': 0.030303030303030304, 'mu': 0.1, 'c_0': 0.2, 'c_1': 0.047619047619047616, 'c_2': 1666.6666666666667, 'N': 1.0}\n",
      "0.2 0.047619047619047616\n",
      "[0.99997, 3e-05, 0.0, 0.0, 0.0, 0.0, 0.0, 0.0, 0.0, 0.0]\n",
      "135\n",
      "Peak infection (days) 62.0\n"
     ]
    },
    {
     "data": {
      "image/png": "[encoded data removed]",
      "text/plain": [
       "<Figure size 1080x720 with 1 Axes>"
      ]
     },
     "metadata": {
      "needs_background": "light"
     },
     "output_type": "display_data"
    }
   ],
   "source": [
    "# model with generating parameters \n",
    "print(params)\n",
    "params_fit = params.copy()\n",
    "print(params_fit['c_0'],params_fit['c_1'])\n",
    "SCCEIR_model.params = params_fit\n",
    "\n",
    "x0_fit = x0_c.copy()\n",
    "# x0_fit[2] = 0.00001\n",
    "#t_fit = numpy.linspace(0, 150, 1000)\n",
    "print(x0_fit)\n",
    "t_fit = t\n",
    "print(len(t))\n",
    "SCCEIR_model.initial_values = (x0_fit, t_fit[0])\n",
    "# %timeit sol_fit =SCCEIR_model.integrate(t_fit[1::]) # use magic %timeit to time\n",
    "#sol_fit =SCCEIR_model.integrate(t_fit[1::])\n",
    "# sol_fit = SCCEIR_model.integrate(t_fit)\n",
    "sol_fit = scipy.integrate.odeint(SCCEIR_model.ode, x0_fit, t_fit[1::])\n",
    "# print(len(sol_fit[0]))\n",
    "#\n",
    "plt.figure(figsize=(15,10))\n",
    "plt.plot(t,y_jhu[:,0]/FracRecoveredDet, 'bo',label='R') # recovered\n",
    "plt.plot(t,y_jhu[:,1]/FracDeathsDet, 'ro',label='D') # died\n",
    "plt.gca().set_prop_cycle(color=['grey','orange','green','green','green','blue','red', 'black'])\n",
    "plt.plot(t_fit[1::], sol_fit)\n",
    "plt.ylim([0,0.06])\n",
    "plt.legend()\n",
    "#plt.show(())\n",
    "#ode_fit.plot()\n",
    "\n",
    "peak_i = np.argmax(sol_fit[:,2])\n",
    "print('Peak infection (days)', t_fit[peak_i])"
   ]
  },
  {
   "cell_type": "markdown",
   "metadata": {},
   "source": [
    "# Parameter fitting"
   ]
  },
  {
   "cell_type": "markdown",
   "metadata": {},
   "source": [
    "## Generate test data based on SCEIR simulation"
   ]
  },
  {
   "cell_type": "code",
   "execution_count": null,
   "metadata": {},
   "outputs": [],
   "source": [
    "# Add noise\n",
    "y = solution[:,2:7].copy()\n",
    "#print('len(y)',len(y),'t',len(t),t[0],t[1],'...',t[-1])\n",
    "np.random.seed(seed=6)\n",
    "noise = np.random.normal(0,1.e-2,[len(t),5])\n",
    "# ynoise = y *(1+noise)\n",
    "ynoise = y *(1.0 + noise)\n",
    "ynoise[ynoise<0] = 0\n",
    "plt.figure(figsize=(15,10))\n",
    "plt.plot(t,ynoise[:,0], 'go', label='I_1') \n",
    "plt.plot(t,ynoise[:,1], 'go', label='I_2') \n",
    "plt.plot(t,ynoise[:,2], 'go', label='I_3') \n",
    "plt.plot(t,ynoise[:,3], 'bo', label='R') \n",
    "plt.plot(t,ynoise[:,4], 'ro', label='D') \n",
    "plt.plot(t,y[:,0], 'g', label='I_1') \n",
    "plt.plot(t,y[:,1], 'g', label='I_2') \n",
    "plt.plot(t,y[:,2], 'g', label='I_3') \n",
    "plt.plot(t,y[:,3], 'b', label='R') \n",
    "plt.plot(t,y[:,4], 'r', label='D') \n",
    "plt.legend()\n",
    "plt.ylim(0,0.003)\n",
    "plt.show()"
   ]
  },
  {
   "cell_type": "code",
   "execution_count": null,
   "metadata": {
    "scrolled": true
   },
   "outputs": [],
   "source": [
    "# model with generating parameters \n",
    "print(params)\n",
    "params_fit = params.copy()\n",
    "print(params_fit['c_0'],params_fit['c_1'])\n",
    "SCEIR_model.params = params_fit\n",
    "\n",
    "x0_fit = x0.copy()\n",
    "# x0_fit[2] = 0.00001\n",
    "#t_fit = numpy.linspace(0, 150, 1000)\n",
    "print(x0_fit)\n",
    "t_fit = t\n",
    "print(len(t))\n",
    "SCEIR_model.initial_values = (x0_fit, t_fit[0])\n",
    "# %timeit sol_fit =SCEIR_model.integrate(t_fit[1::]) # use magic %timeit to time\n",
    "#sol_fit =SCEIR_model.integrate(t_fit[1::])\n",
    "# sol_fit = SCEIR_model.integrate(t_fit)\n",
    "sol_fit = scipy.integrate.odeint(SCEIR_model.ode, x0_fit, t_fit[1::])\n",
    "# print(len(sol_fit[0]))\n",
    "#\n",
    "plt.figure(figsize=(15,10))\n",
    "plt.plot(t,ynoise[:,0], 'go',label='I_1') # infected observations\n",
    "plt.plot(t,ynoise[:,1], 'go',label='I_2') # infected observations\n",
    "plt.plot(t,ynoise[:,2], 'go',label='I_3') # infected observations\n",
    "plt.plot(t,ynoise[:,3], 'bo',label='R') # recoverd\n",
    "plt.plot(t,ynoise[:,4], 'ro',label='D') # died\n",
    "plt.gca().set_prop_cycle(color=['grey','orange','green','green','green','blue','red', 'black'])\n",
    "plt.plot(t_fit[1::], sol_fit)\n",
    "plt.ylim([0,0.004])\n",
    "plt.legend()\n",
    "#plt.show(())\n",
    "#ode_fit.plot()\n",
    "\n",
    "peak_i = np.argmax(sol_fit[:,2])\n",
    "print('Peak infection (days)', t_fit[peak_i])"
   ]
  },
  {
   "cell_type": "code",
   "execution_count": null,
   "metadata": {
    "scrolled": true
   },
   "outputs": [],
   "source": [
    "params # use list(...) to convert to list"
   ]
  },
  {
   "cell_type": "markdown",
   "metadata": {},
   "source": [
    "## Fit parameters to randomized simulation data based on square_loss"
   ]
  },
  {
   "cell_type": "markdown",
   "metadata": {},
   "source": [
    "### Fit c_0 and c_1 only"
   ]
  },
  {
   "cell_type": "code",
   "execution_count": null,
   "metadata": {},
   "outputs": [],
   "source": [
    "# Initial guess of parameters, and bounding constraints\n",
    "cautionparams = list(params.values())[-4:-2]\n",
    "theta = [value for value in cautionparams]\n",
    "theta = [0.21,0.08]\n",
    "boxBounds = [(0.2,0.4),(0.05,0.15)]\n",
    "objSCEIR = SquareLoss(theta=theta, ode=SCEIR_model, x0=x0, t0=t[0], t=t[1::], y=ynoise[1::,:],\n",
    "                      state_weight=[1.,1.,1.,1.0,1.0],state_name=['I_1','I_2','I_3','R','D'],\n",
    "                      target_param=['c_0','c_1'])\n",
    "# perform optimization\n",
    "res = minimize(fun=objSCEIR.cost,\n",
    "                jac=objSCEIR.sensitivity,\n",
    "                x0=theta,\n",
    "                #bounds=boxBounds,\n",
    "                method='BFGS',\n",
    "                options={'disp':True,'maxiter':1000,'eps':0.00001})# ,'ftol':0.01})  #not BFGS\n",
    "print(res)"
   ]
  },
  {
   "cell_type": "markdown",
   "metadata": {},
   "source": [
    "### Fit c_0 and c_1 as well as initial value of E"
   ]
  },
  {
   "cell_type": "markdown",
   "metadata": {},
   "source": [
    "#### Fit c_0 and c_1 as well as initial value of E with 'SLSQP'\n",
    "does not work well\n",
    "note use of special methods IV for initial value fitting of target_state"
   ]
  },
  {
   "cell_type": "code",
   "execution_count": null,
   "metadata": {},
   "outputs": [],
   "source": [
    "# Initial guess of parameters and initial condition, and bounding constraints\n",
    "cautionparams = list(params.values())[-4:-2]\n",
    "theta = [0.25,0.08]\n",
    "boxBounds = [(0.2,0.4),(0.05,0.15)]\n",
    "objSCEIR = SquareLoss(theta=theta, ode=SCEIR_model, x0=x0, t0=t[0], t=t[1::], y=ynoise[1::,:],\n",
    "                      state_weight=[1.,1.,1.,1.,1.],state_name=['I_1','I_2','I_3','R','D'],\n",
    "                      target_param=['c_0','c_1'],target_state=['E'])\n",
    "# perform optimization\n",
    "res = minimize(fun=objSCEIR.costIV,\n",
    "                jac=objSCEIR.sensitivityIV,\n",
    "                x0=theta+[0.00005],\n",
    "                #bounds=boxBounds+[(0.0000001,0.001)],\n",
    "                method='SLSQP',\n",
    "                options={'disp':True,'maxiter':1000,'eps':0.01,'ftol':0.01})\n",
    "print(res)"
   ]
  },
  {
   "cell_type": "markdown",
   "metadata": {},
   "source": [
    "#### Fit c_0 and c_1 as well as initial value of E with BFGS\n",
    "works well:  no constraints and gtol not ftol"
   ]
  },
  {
   "cell_type": "code",
   "execution_count": null,
   "metadata": {
    "code_folding": [
     8
    ]
   },
   "outputs": [],
   "source": [
    "# Initial guess of parameters and initial condition, and bounding constraints\n",
    "cautionparams = list(params.values())[-4:-2]\n",
    "theta = [0.25,0.08]\n",
    "boxBounds = [(0.2,0.4),(0.05,0.15)]\n",
    "objSCEIR = SquareLoss(theta=theta, ode=SCEIR_model, x0=x0, t0=t[0], t=t[1::], y=ynoise[1::,:],\n",
    "                      state_weight=[1.,1.,1.,1.,1.],state_name=['I_1','I_2','I_3','R','D'],\n",
    "                      target_param=['c_0','c_1'],target_state=['E'])\n",
    "# perform optimization\n",
    "res = minimize(fun=objSCEIR.costIV,\n",
    "                jac=objSCEIR.sensitivityIV,\n",
    "                x0=theta+[0.00005],\n",
    "                #bounds=boxBounds+[(0.0000001,0.001)],\n",
    "                method='BFGS',\n",
    "                options={'disp':True,'maxiter':1000,'eps':0.01,'gtol':0.01})\n",
    "print(res)"
   ]
  },
  {
   "cell_type": "code",
   "execution_count": null,
   "metadata": {
    "scrolled": true
   },
   "outputs": [],
   "source": [
    "# model with fitted parameters \n",
    "print(params)\n",
    "print(x0)\n",
    "params_fit = params.copy()\n",
    "#params_fit['c_0'] = res.x[0]\n",
    "#params_fit['c_1'] = res.x[1]\n",
    "\n",
    "SCEIR_model.params = params_fit\n",
    "print(SCEIR_model.params)\n",
    "#ode_fit = common_models.SEIR({'beta':res.x[0], 'gamma':res.x[1],'alpha':res.x[2]})\n",
    "#x0_fit = [1-1.27e-6, 1.27e-6, 0]\n",
    "x0_fit = x0.copy()\n",
    "#x0_fit[2] = res.x[2]\n",
    "#t_fit = numpy.linspace(0, 150, 1000)\n",
    "t_fit = t\n",
    "SCEIR_model.initial_values = (x0_fit, t_fit[0])\n",
    "# %timeit sol_fit =SCEIR_model.integrate(t_fit[1::]) # use magic %timeit to time\n",
    "# sol_fit =SCEIR_model.integrate(t_fit[0::])\n",
    "sol_fit = scipy.integrate.odeint(SCEIR_model.ode, x0_fit, t_fit[1::])\n",
    "#\n",
    "plt.figure(figsize=(15,10))\n",
    "plt.plot(t,ynoise[:,0], 'go') # infected observations\n",
    "plt.plot(t,ynoise[:,1], 'go') # infected observations\n",
    "plt.plot(t,ynoise[:,2], 'go') # infected observations\n",
    "plt.plot(t,ynoise[:,3], 'bo') # recoverd\n",
    "plt.plot(t,ynoise[:,4], 'ro') # died\n",
    "plt.plot(t_fit[1::], sol_fit)\n",
    "plt.ylim([0,0.004])\n",
    "#plt.show(())\n",
    "#ode_fit.plot()\n",
    "\n",
    "peak_i = np.argmax(sol_fit[:,2])\n",
    "print('Peak infection (days)', t_fit[peak_i])"
   ]
  },
  {
   "cell_type": "markdown",
   "metadata": {},
   "source": [
    "#### Fit c_0 and c_1 as well as initial value of E using L-BFGS-B\n",
    "this method does not work well"
   ]
  },
  {
   "cell_type": "code",
   "execution_count": null,
   "metadata": {},
   "outputs": [],
   "source": [
    "# Initial guess of parameters and initial condition, and bounding constraints\n",
    "cautionparams = list(params.values())[-4:-2]\n",
    "theta = [0.25,0.08]\n",
    "boxBounds = [(0.2,0.4),(0.05,0.15)]\n",
    "objSCEIR = SquareLoss(theta=theta, ode=SCEIR_model, x0=x0, t0=t[0], t=t[1::], y=ynoise[1::,:],\n",
    "                      state_weight=[1.,1.,1.,1.,1.],state_name=['I_1','I_2','I_3','R','D'],\n",
    "                      target_param=['c_0','c_1'],target_state=['E'])\n",
    "# perform optimization\n",
    "res = minimize(fun=objSCEIR.costIV,\n",
    "                jac=objSCEIR.sensitivityIV,\n",
    "                x0=theta+[0.00005],\n",
    "                bounds=boxBounds+[(0.0000001,0.001)],\n",
    "                method='L-BFGS-B',\n",
    "                options={'disp':True,'maxiter':1000,'eps':0.0001,'ftol':0.001})\n",
    "print(res)"
   ]
  },
  {
   "cell_type": "code",
   "execution_count": null,
   "metadata": {},
   "outputs": [],
   "source": [
    "objSCEIR.residual()"
   ]
  },
  {
   "cell_type": "markdown",
   "metadata": {},
   "source": [
    "#### Fit c_0 and c_1 as well as initial value of E with Nelder-Mead\n",
    "no use of Jacobian and no constraints"
   ]
  },
  {
   "cell_type": "code",
   "execution_count": null,
   "metadata": {},
   "outputs": [],
   "source": [
    "# Initial guess of parameters and initial condition, and bounding constraints\n",
    "cautionparams = list(params.values())[-4:-2]\n",
    "theta = [0.25,0.08]\n",
    "boxBounds = [(0.2,0.4),(0.05,0.15)]\n",
    "objSCEIR = SquareLoss(theta=theta, ode=SCEIR_model, x0=x0, t0=t[0], t=t[1::], y=ynoise[1::,:],\n",
    "                      state_weight=[1.,1.,1.,1.,1.],state_name=['I_1','I_2','I_3','R','D'],\n",
    "                      target_param=['c_0','c_1'],target_state=['E'])\n",
    "# perform optimization\n",
    "res = minimize(fun=objSCEIR.costIV,\n",
    "                #jac=objSCEIR.sensitivityIV,\n",
    "                x0=theta+[0.00005],\n",
    "                #bounds=boxBounds+[(0.0000001,0.001)],\n",
    "                method='Nelder-Mead',\n",
    "                options={'disp':True,'maxiter':1000}) #,'eps':0.0001,'ftol':0.01}) #not NM\n",
    "print(res)"
   ]
  },
  {
   "cell_type": "code",
   "execution_count": null,
   "metadata": {
    "scrolled": true
   },
   "outputs": [],
   "source": [
    "# model with fitted parameters \n",
    "print(params)\n",
    "print(x0)\n",
    "params_fit = params.copy()\n",
    "#params_fit['c_0'] = res.x[0]\n",
    "#params_fit['c_1'] = res.x[1]\n",
    "\n",
    "SCEIR_model.params = params_fit\n",
    "print(SCEIR_model.params)\n",
    "#ode_fit = common_models.SEIR({'beta':res.x[0], 'gamma':res.x[1],'alpha':res.x[2]})\n",
    "#x0_fit = [1-1.27e-6, 1.27e-6, 0]\n",
    "x0_fit = x0.copy()\n",
    "#x0_fit[2] = res.x[2]\n",
    "#t_fit = numpy.linspace(0, 150, 1000)\n",
    "t_fit = t\n",
    "SCEIR_model.initial_values = (x0_fit, t_fit[0])\n",
    "# %timeit sol_fit =SCEIR_model.integrate(t_fit[1::]) # use magic %timeit to time\n",
    "# sol_fit =SCEIR_model.integrate(t_fit[0::])\n",
    "sol_fit = scipy.integrate.odeint(SCEIR_model.ode, x0_fit, t_fit[1::])\n",
    "#\n",
    "plt.figure(figsize=(15,10))\n",
    "plt.plot(t,ynoise[:,0], 'go') # infected observations\n",
    "plt.plot(t,ynoise[:,1], 'go') # infected observations\n",
    "plt.plot(t,ynoise[:,2], 'go') # infected observations\n",
    "plt.plot(t,ynoise[:,3], 'bo') # recoverd\n",
    "plt.plot(t,ynoise[:,4], 'ro') # died\n",
    "plt.plot(t_fit[1::], sol_fit)\n",
    "plt.ylim([0,0.004])\n",
    "#plt.show(())\n",
    "#ode_fit.plot()\n",
    "\n",
    "peak_i = np.argmax(sol_fit[:,2])\n",
    "print('Peak infection (days)', t_fit[peak_i])"
   ]
  },
  {
   "cell_type": "markdown",
   "metadata": {},
   "source": [
    "## Fit SCCEIR parameters to jhu data based on square_loss"
   ]
  },
  {
   "cell_type": "markdown",
   "metadata": {},
   "source": [
    "### Fit c_0 and c_1 only"
   ]
  },
  {
   "cell_type": "code",
   "execution_count": 180,
   "metadata": {},
   "outputs": [
    {
     "name": "stderr",
     "output_type": "stream",
     "text": [
      "/usr/local/lib/python3.7/site-packages/ipykernel_launcher.py:15: OptimizeWarning: Unknown solver options: eps\n",
      "  from ipykernel import kernelapp as app\n"
     ]
    },
    {
     "name": "stdout",
     "output_type": "stream",
     "text": [
      "Optimization terminated successfully.\n",
      "         Current function value: 0.000012\n",
      "         Iterations: 544\n",
      "         Function evaluations: 931\n",
      " final_simplex: (array([[-0.40574359, -0.14005259,  0.05948037],\n",
      "       [-0.40574432, -0.14006047,  0.05943691],\n",
      "       [-0.40574314, -0.14003868,  0.05954975],\n",
      "       [-0.40574384, -0.14004428,  0.05952122]]), array([1.15955941e-05, 1.15955941e-05, 1.15955941e-05, 1.15955941e-05]))\n",
      "           fun: 1.1595594101394368e-05\n",
      "       message: 'Optimization terminated successfully.'\n",
      "          nfev: 931\n",
      "           nit: 544\n",
      "        status: 0\n",
      "       success: True\n",
      "             x: array([-0.40574359, -0.14005259,  0.05948037])\n"
     ]
    }
   ],
   "source": [
    "# Initial guess of parameters, and bounding constraints\n",
    "cautionparams = list(params.values())[-4:-3]\n",
    "theta = [value for value in cautionparams]\n",
    "theta = [0.3,0.08,2500.]\n",
    "# boxBounds = [(0.2,0.8),(0.05,0.15),(100.,10000.)]\n",
    "objSCCEIR = SquareLoss(theta=theta, ode=SCCEIR_model, x0=x0_c, t0=t[0], t=t[1::], y=y_jhu[1::,:],\n",
    "                      state_weight=[1.,1.],state_name=['R','D'],\n",
    "                      target_param=['c_0','c_1','c_2'])\n",
    "# perform optimization\n",
    "res = minimize(fun=objSCCEIR.cost,\n",
    "                #jac=objSCCEIR.sensitivity,\n",
    "                x0=theta,\n",
    "                #bounds=boxBounds,\n",
    "                method='Nelder-Mead',\n",
    "                options={'disp':True,'maxiter':1000,'eps':0.00001})# ,'ftol':0.01})  #not BFGS\n",
    "print(res)"
   ]
  },
  {
   "cell_type": "markdown",
   "metadata": {},
   "source": [
    "### Fit c_0 and c_1 as well as initial value of E"
   ]
  },
  {
   "cell_type": "markdown",
   "metadata": {},
   "source": [
    "#### Fit c_0 and c_1 as well as initial value of E with 'SLSQP'\n",
    "does not work well\n",
    "note use of special methods IV for initial value fitting of target_state"
   ]
  },
  {
   "cell_type": "code",
   "execution_count": 178,
   "metadata": {},
   "outputs": [
    {
     "ename": "IntegrationError",
     "evalue": "Failed integration with x =  [ 6.44105959e+205 -6.44105959e+205 -9.23121922e+102 -9.22588909e+001\n -4.38303085e-003 -2.15315016e+002 -3.63047614e-004 -8.70107832e+104\n  3.73580068e+104 -9.23121922e+102] and max/min eigenvalues of the jacobian is 3.8125629144873115e+102 and -1.0215731545121602e+102",
     "output_type": "error",
     "traceback": [
      "\u001b[0;31m---------------------------------------------------------------------------\u001b[0m",
      "\u001b[0;31mIntegrationError\u001b[0m                          Traceback (most recent call last)",
      "\u001b[0;32m<ipython-input-178-146cc64363b3>\u001b[0m in \u001b[0;36m<module>\u001b[0;34m\u001b[0m\n\u001b[1;32m     12\u001b[0m                 \u001b[0;31m#bounds=boxBounds+[(0.0000001,0.001)],\u001b[0m\u001b[0;34m\u001b[0m\u001b[0;34m\u001b[0m\u001b[0;34m\u001b[0m\u001b[0m\n\u001b[1;32m     13\u001b[0m                 \u001b[0mmethod\u001b[0m\u001b[0;34m=\u001b[0m\u001b[0;34m'BFGS'\u001b[0m\u001b[0;34m,\u001b[0m\u001b[0;34m\u001b[0m\u001b[0;34m\u001b[0m\u001b[0m\n\u001b[0;32m---> 14\u001b[0;31m                 options={'disp':True,'maxiter':1000,'eps':0.01,'gtol':0.01})\n\u001b[0m\u001b[1;32m     15\u001b[0m \u001b[0mprint\u001b[0m\u001b[0;34m(\u001b[0m\u001b[0mres\u001b[0m\u001b[0;34m)\u001b[0m\u001b[0;34m\u001b[0m\u001b[0;34m\u001b[0m\u001b[0m\n",
      "\u001b[0;32m/usr/local/lib/python3.7/site-packages/scipy/optimize/_minimize.py\u001b[0m in \u001b[0;36mminimize\u001b[0;34m(fun, x0, args, method, jac, hess, hessp, bounds, constraints, tol, callback, options)\u001b[0m\n\u001b[1;32m    602\u001b[0m         \u001b[0;32mreturn\u001b[0m \u001b[0m_minimize_cg\u001b[0m\u001b[0;34m(\u001b[0m\u001b[0mfun\u001b[0m\u001b[0;34m,\u001b[0m \u001b[0mx0\u001b[0m\u001b[0;34m,\u001b[0m \u001b[0margs\u001b[0m\u001b[0;34m,\u001b[0m \u001b[0mjac\u001b[0m\u001b[0;34m,\u001b[0m \u001b[0mcallback\u001b[0m\u001b[0;34m,\u001b[0m \u001b[0;34m**\u001b[0m\u001b[0moptions\u001b[0m\u001b[0;34m)\u001b[0m\u001b[0;34m\u001b[0m\u001b[0;34m\u001b[0m\u001b[0m\n\u001b[1;32m    603\u001b[0m     \u001b[0;32melif\u001b[0m \u001b[0mmeth\u001b[0m \u001b[0;34m==\u001b[0m \u001b[0;34m'bfgs'\u001b[0m\u001b[0;34m:\u001b[0m\u001b[0;34m\u001b[0m\u001b[0;34m\u001b[0m\u001b[0m\n\u001b[0;32m--> 604\u001b[0;31m         \u001b[0;32mreturn\u001b[0m \u001b[0m_minimize_bfgs\u001b[0m\u001b[0;34m(\u001b[0m\u001b[0mfun\u001b[0m\u001b[0;34m,\u001b[0m \u001b[0mx0\u001b[0m\u001b[0;34m,\u001b[0m \u001b[0margs\u001b[0m\u001b[0;34m,\u001b[0m \u001b[0mjac\u001b[0m\u001b[0;34m,\u001b[0m \u001b[0mcallback\u001b[0m\u001b[0;34m,\u001b[0m \u001b[0;34m**\u001b[0m\u001b[0moptions\u001b[0m\u001b[0;34m)\u001b[0m\u001b[0;34m\u001b[0m\u001b[0;34m\u001b[0m\u001b[0m\n\u001b[0m\u001b[1;32m    605\u001b[0m     \u001b[0;32melif\u001b[0m \u001b[0mmeth\u001b[0m \u001b[0;34m==\u001b[0m \u001b[0;34m'newton-cg'\u001b[0m\u001b[0;34m:\u001b[0m\u001b[0;34m\u001b[0m\u001b[0;34m\u001b[0m\u001b[0m\n\u001b[1;32m    606\u001b[0m         return _minimize_newtoncg(fun, x0, args, jac, hess, hessp, callback,\n",
      "\u001b[0;32m/usr/local/lib/python3.7/site-packages/scipy/optimize/optimize.py\u001b[0m in \u001b[0;36m_minimize_bfgs\u001b[0;34m(fun, x0, args, jac, callback, gtol, norm, eps, maxiter, disp, return_all, **unknown_options)\u001b[0m\n\u001b[1;32m   1026\u001b[0m             \u001b[0malpha_k\u001b[0m\u001b[0;34m,\u001b[0m \u001b[0mfc\u001b[0m\u001b[0;34m,\u001b[0m \u001b[0mgc\u001b[0m\u001b[0;34m,\u001b[0m \u001b[0mold_fval\u001b[0m\u001b[0;34m,\u001b[0m \u001b[0mold_old_fval\u001b[0m\u001b[0;34m,\u001b[0m \u001b[0mgfkp1\u001b[0m \u001b[0;34m=\u001b[0m\u001b[0;31m \u001b[0m\u001b[0;31m\\\u001b[0m\u001b[0;34m\u001b[0m\u001b[0;34m\u001b[0m\u001b[0m\n\u001b[1;32m   1027\u001b[0m                      _line_search_wolfe12(f, myfprime, xk, pk, gfk,\n\u001b[0;32m-> 1028\u001b[0;31m                                           old_fval, old_old_fval, amin=1e-100, amax=1e100)\n\u001b[0m\u001b[1;32m   1029\u001b[0m         \u001b[0;32mexcept\u001b[0m \u001b[0m_LineSearchError\u001b[0m\u001b[0;34m:\u001b[0m\u001b[0;34m\u001b[0m\u001b[0;34m\u001b[0m\u001b[0m\n\u001b[1;32m   1030\u001b[0m             \u001b[0;31m# Line search failed to find a better solution.\u001b[0m\u001b[0;34m\u001b[0m\u001b[0;34m\u001b[0m\u001b[0;34m\u001b[0m\u001b[0m\n",
      "\u001b[0;32m/usr/local/lib/python3.7/site-packages/scipy/optimize/optimize.py\u001b[0m in \u001b[0;36m_line_search_wolfe12\u001b[0;34m(f, fprime, xk, pk, gfk, old_fval, old_old_fval, **kwargs)\u001b[0m\n\u001b[1;32m    843\u001b[0m     ret = line_search_wolfe1(f, fprime, xk, pk, gfk,\n\u001b[1;32m    844\u001b[0m                              \u001b[0mold_fval\u001b[0m\u001b[0;34m,\u001b[0m \u001b[0mold_old_fval\u001b[0m\u001b[0;34m,\u001b[0m\u001b[0;34m\u001b[0m\u001b[0;34m\u001b[0m\u001b[0m\n\u001b[0;32m--> 845\u001b[0;31m                              **kwargs)\n\u001b[0m\u001b[1;32m    846\u001b[0m \u001b[0;34m\u001b[0m\u001b[0m\n\u001b[1;32m    847\u001b[0m     \u001b[0;32mif\u001b[0m \u001b[0mret\u001b[0m\u001b[0;34m[\u001b[0m\u001b[0;36m0\u001b[0m\u001b[0;34m]\u001b[0m \u001b[0;32mis\u001b[0m \u001b[0;32mnot\u001b[0m \u001b[0;32mNone\u001b[0m \u001b[0;32mand\u001b[0m \u001b[0mextra_condition\u001b[0m \u001b[0;32mis\u001b[0m \u001b[0;32mnot\u001b[0m \u001b[0;32mNone\u001b[0m\u001b[0;34m:\u001b[0m\u001b[0;34m\u001b[0m\u001b[0;34m\u001b[0m\u001b[0m\n",
      "\u001b[0;32m/usr/local/lib/python3.7/site-packages/scipy/optimize/linesearch.py\u001b[0m in \u001b[0;36mline_search_wolfe1\u001b[0;34m(f, fprime, xk, pk, gfk, old_fval, old_old_fval, args, c1, c2, amax, amin, xtol)\u001b[0m\n\u001b[1;32m     99\u001b[0m     stp, fval, old_fval = scalar_search_wolfe1(\n\u001b[1;32m    100\u001b[0m             \u001b[0mphi\u001b[0m\u001b[0;34m,\u001b[0m \u001b[0mderphi\u001b[0m\u001b[0;34m,\u001b[0m \u001b[0mold_fval\u001b[0m\u001b[0;34m,\u001b[0m \u001b[0mold_old_fval\u001b[0m\u001b[0;34m,\u001b[0m \u001b[0mderphi0\u001b[0m\u001b[0;34m,\u001b[0m\u001b[0;34m\u001b[0m\u001b[0;34m\u001b[0m\u001b[0m\n\u001b[0;32m--> 101\u001b[0;31m             c1=c1, c2=c2, amax=amax, amin=amin, xtol=xtol)\n\u001b[0m\u001b[1;32m    102\u001b[0m \u001b[0;34m\u001b[0m\u001b[0m\n\u001b[1;32m    103\u001b[0m     \u001b[0;32mreturn\u001b[0m \u001b[0mstp\u001b[0m\u001b[0;34m,\u001b[0m \u001b[0mfc\u001b[0m\u001b[0;34m[\u001b[0m\u001b[0;36m0\u001b[0m\u001b[0;34m]\u001b[0m\u001b[0;34m,\u001b[0m \u001b[0mgc\u001b[0m\u001b[0;34m[\u001b[0m\u001b[0;36m0\u001b[0m\u001b[0;34m]\u001b[0m\u001b[0;34m,\u001b[0m \u001b[0mfval\u001b[0m\u001b[0;34m,\u001b[0m \u001b[0mold_fval\u001b[0m\u001b[0;34m,\u001b[0m \u001b[0mgval\u001b[0m\u001b[0;34m[\u001b[0m\u001b[0;36m0\u001b[0m\u001b[0;34m]\u001b[0m\u001b[0;34m\u001b[0m\u001b[0;34m\u001b[0m\u001b[0m\n",
      "\u001b[0;32m/usr/local/lib/python3.7/site-packages/scipy/optimize/linesearch.py\u001b[0m in \u001b[0;36mscalar_search_wolfe1\u001b[0;34m(phi, derphi, phi0, old_phi0, derphi0, c1, c2, amax, amin, xtol)\u001b[0m\n\u001b[1;32m    173\u001b[0m         \u001b[0;32mif\u001b[0m \u001b[0mtask\u001b[0m\u001b[0;34m[\u001b[0m\u001b[0;34m:\u001b[0m\u001b[0;36m2\u001b[0m\u001b[0;34m]\u001b[0m \u001b[0;34m==\u001b[0m \u001b[0;34mb'FG'\u001b[0m\u001b[0;34m:\u001b[0m\u001b[0;34m\u001b[0m\u001b[0;34m\u001b[0m\u001b[0m\n\u001b[1;32m    174\u001b[0m             \u001b[0malpha1\u001b[0m \u001b[0;34m=\u001b[0m \u001b[0mstp\u001b[0m\u001b[0;34m\u001b[0m\u001b[0;34m\u001b[0m\u001b[0m\n\u001b[0;32m--> 175\u001b[0;31m             \u001b[0mphi1\u001b[0m \u001b[0;34m=\u001b[0m \u001b[0mphi\u001b[0m\u001b[0;34m(\u001b[0m\u001b[0mstp\u001b[0m\u001b[0;34m)\u001b[0m\u001b[0;34m\u001b[0m\u001b[0;34m\u001b[0m\u001b[0m\n\u001b[0m\u001b[1;32m    176\u001b[0m             \u001b[0mderphi1\u001b[0m \u001b[0;34m=\u001b[0m \u001b[0mderphi\u001b[0m\u001b[0;34m(\u001b[0m\u001b[0mstp\u001b[0m\u001b[0;34m)\u001b[0m\u001b[0;34m\u001b[0m\u001b[0;34m\u001b[0m\u001b[0m\n\u001b[1;32m    177\u001b[0m         \u001b[0;32melse\u001b[0m\u001b[0;34m:\u001b[0m\u001b[0;34m\u001b[0m\u001b[0;34m\u001b[0m\u001b[0m\n",
      "\u001b[0;32m/usr/local/lib/python3.7/site-packages/scipy/optimize/linesearch.py\u001b[0m in \u001b[0;36mphi\u001b[0;34m(s)\u001b[0m\n\u001b[1;32m     85\u001b[0m     \u001b[0;32mdef\u001b[0m \u001b[0mphi\u001b[0m\u001b[0;34m(\u001b[0m\u001b[0ms\u001b[0m\u001b[0;34m)\u001b[0m\u001b[0;34m:\u001b[0m\u001b[0;34m\u001b[0m\u001b[0;34m\u001b[0m\u001b[0m\n\u001b[1;32m     86\u001b[0m         \u001b[0mfc\u001b[0m\u001b[0;34m[\u001b[0m\u001b[0;36m0\u001b[0m\u001b[0;34m]\u001b[0m \u001b[0;34m+=\u001b[0m \u001b[0;36m1\u001b[0m\u001b[0;34m\u001b[0m\u001b[0;34m\u001b[0m\u001b[0m\n\u001b[0;32m---> 87\u001b[0;31m         \u001b[0;32mreturn\u001b[0m \u001b[0mf\u001b[0m\u001b[0;34m(\u001b[0m\u001b[0mxk\u001b[0m \u001b[0;34m+\u001b[0m \u001b[0ms\u001b[0m\u001b[0;34m*\u001b[0m\u001b[0mpk\u001b[0m\u001b[0;34m,\u001b[0m \u001b[0;34m*\u001b[0m\u001b[0margs\u001b[0m\u001b[0;34m)\u001b[0m\u001b[0;34m\u001b[0m\u001b[0;34m\u001b[0m\u001b[0m\n\u001b[0m\u001b[1;32m     88\u001b[0m \u001b[0;34m\u001b[0m\u001b[0m\n\u001b[1;32m     89\u001b[0m     \u001b[0;32mdef\u001b[0m \u001b[0mderphi\u001b[0m\u001b[0;34m(\u001b[0m\u001b[0ms\u001b[0m\u001b[0;34m)\u001b[0m\u001b[0;34m:\u001b[0m\u001b[0;34m\u001b[0m\u001b[0;34m\u001b[0m\u001b[0m\n",
      "\u001b[0;32m/usr/local/lib/python3.7/site-packages/scipy/optimize/optimize.py\u001b[0m in \u001b[0;36mfunction_wrapper\u001b[0;34m(*wrapper_args)\u001b[0m\n\u001b[1;32m    325\u001b[0m     \u001b[0;32mdef\u001b[0m \u001b[0mfunction_wrapper\u001b[0m\u001b[0;34m(\u001b[0m\u001b[0;34m*\u001b[0m\u001b[0mwrapper_args\u001b[0m\u001b[0;34m)\u001b[0m\u001b[0;34m:\u001b[0m\u001b[0;34m\u001b[0m\u001b[0;34m\u001b[0m\u001b[0m\n\u001b[1;32m    326\u001b[0m         \u001b[0mncalls\u001b[0m\u001b[0;34m[\u001b[0m\u001b[0;36m0\u001b[0m\u001b[0;34m]\u001b[0m \u001b[0;34m+=\u001b[0m \u001b[0;36m1\u001b[0m\u001b[0;34m\u001b[0m\u001b[0;34m\u001b[0m\u001b[0m\n\u001b[0;32m--> 327\u001b[0;31m         \u001b[0;32mreturn\u001b[0m \u001b[0mfunction\u001b[0m\u001b[0;34m(\u001b[0m\u001b[0;34m*\u001b[0m\u001b[0;34m(\u001b[0m\u001b[0mwrapper_args\u001b[0m \u001b[0;34m+\u001b[0m \u001b[0margs\u001b[0m\u001b[0;34m)\u001b[0m\u001b[0;34m)\u001b[0m\u001b[0;34m\u001b[0m\u001b[0;34m\u001b[0m\u001b[0m\n\u001b[0m\u001b[1;32m    328\u001b[0m \u001b[0;34m\u001b[0m\u001b[0m\n\u001b[1;32m    329\u001b[0m     \u001b[0;32mreturn\u001b[0m \u001b[0mncalls\u001b[0m\u001b[0;34m,\u001b[0m \u001b[0mfunction_wrapper\u001b[0m\u001b[0;34m\u001b[0m\u001b[0;34m\u001b[0m\u001b[0m\n",
      "\u001b[0;32m/usr/local/lib/python3.7/site-packages/pygom/loss/base_loss.py\u001b[0m in \u001b[0;36mcostIV\u001b[0;34m(self, theta)\u001b[0m\n\u001b[1;32m   1053\u001b[0m             \u001b[0mself\u001b[0m\u001b[0;34m.\u001b[0m\u001b[0m_setParamStateInput\u001b[0m\u001b[0;34m(\u001b[0m\u001b[0mtheta\u001b[0m\u001b[0;34m)\u001b[0m\u001b[0;34m\u001b[0m\u001b[0;34m\u001b[0m\u001b[0m\n\u001b[1;32m   1054\u001b[0m \u001b[0;34m\u001b[0m\u001b[0m\n\u001b[0;32m-> 1055\u001b[0;31m         \u001b[0msolution\u001b[0m \u001b[0;34m=\u001b[0m \u001b[0mself\u001b[0m\u001b[0;34m.\u001b[0m\u001b[0m_getSolution\u001b[0m\u001b[0;34m(\u001b[0m\u001b[0;34m)\u001b[0m\u001b[0;34m\u001b[0m\u001b[0;34m\u001b[0m\u001b[0m\n\u001b[0m\u001b[1;32m   1056\u001b[0m         \u001b[0;32mreturn\u001b[0m \u001b[0mself\u001b[0m\u001b[0;34m.\u001b[0m\u001b[0m_lossObj\u001b[0m\u001b[0;34m.\u001b[0m\u001b[0mloss\u001b[0m\u001b[0;34m(\u001b[0m\u001b[0msolution\u001b[0m\u001b[0;34m)\u001b[0m\u001b[0;34m\u001b[0m\u001b[0;34m\u001b[0m\u001b[0m\n\u001b[1;32m   1057\u001b[0m \u001b[0;34m\u001b[0m\u001b[0m\n",
      "\u001b[0;32m/usr/local/lib/python3.7/site-packages/pygom/loss/base_loss.py\u001b[0m in \u001b[0;36m_getSolution\u001b[0;34m(self, theta, all_solution)\u001b[0m\n\u001b[1;32m   1332\u001b[0m                                               \u001b[0mself\u001b[0m\u001b[0;34m.\u001b[0m\u001b[0m_observeT\u001b[0m\u001b[0;34m,\u001b[0m\u001b[0;34m\u001b[0m\u001b[0;34m\u001b[0m\u001b[0m\n\u001b[1;32m   1333\u001b[0m                                               \u001b[0mfull_output\u001b[0m\u001b[0;34m=\u001b[0m\u001b[0;32mFalse\u001b[0m\u001b[0;34m,\u001b[0m\u001b[0;34m\u001b[0m\u001b[0;34m\u001b[0m\u001b[0m\n\u001b[0;32m-> 1334\u001b[0;31m                                               method=self._ode._intName)\n\u001b[0m\u001b[1;32m   1335\u001b[0m         \u001b[0;32mif\u001b[0m \u001b[0mall_solution\u001b[0m\u001b[0;34m:\u001b[0m\u001b[0;34m\u001b[0m\u001b[0;34m\u001b[0m\u001b[0m\n\u001b[1;32m   1336\u001b[0m             \u001b[0;32mreturn\u001b[0m \u001b[0msolution\u001b[0m\u001b[0;34m\u001b[0m\u001b[0;34m\u001b[0m\u001b[0m\n",
      "\u001b[0;32m/usr/local/lib/python3.7/site-packages/pygom/model/ode_utils/__init__.py\u001b[0m in \u001b[0;36mintegrateFuncJac\u001b[0;34m(func, jac, x0, t0, t, args, includeOrigin, full_output, method, nsteps)\u001b[0m\n\u001b[1;32m    266\u001b[0m         \u001b[0;32melse\u001b[0m\u001b[0;34m:\u001b[0m\u001b[0;34m\u001b[0m\u001b[0;34m\u001b[0m\u001b[0m\n\u001b[1;32m    267\u001b[0m             \u001b[0;31m# TODO: switches\u001b[0m\u001b[0;34m\u001b[0m\u001b[0;34m\u001b[0m\u001b[0;34m\u001b[0m\u001b[0m\n\u001b[0;32m--> 268\u001b[0;31m             \u001b[0mo1\u001b[0m \u001b[0;34m=\u001b[0m \u001b[0m_integrateOneStep\u001b[0m\u001b[0;34m(\u001b[0m\u001b[0mr\u001b[0m\u001b[0;34m,\u001b[0m \u001b[0mdeltaT\u001b[0m\u001b[0;34m,\u001b[0m \u001b[0mfunc\u001b[0m\u001b[0;34m,\u001b[0m \u001b[0mjac\u001b[0m\u001b[0;34m,\u001b[0m \u001b[0margs\u001b[0m\u001b[0;34m,\u001b[0m \u001b[0;32mFalse\u001b[0m\u001b[0;34m)\u001b[0m\u001b[0;34m\u001b[0m\u001b[0;34m\u001b[0m\u001b[0m\n\u001b[0m\u001b[1;32m    269\u001b[0m         \u001b[0;31m# append solution, same thing whether the output is full or not\u001b[0m\u001b[0;34m\u001b[0m\u001b[0;34m\u001b[0m\u001b[0;34m\u001b[0m\u001b[0m\n\u001b[1;32m    270\u001b[0m         \u001b[0msolution\u001b[0m\u001b[0;34m.\u001b[0m\u001b[0mappend\u001b[0m\u001b[0;34m(\u001b[0m\u001b[0mo1\u001b[0m\u001b[0;34m)\u001b[0m\u001b[0;34m\u001b[0m\u001b[0;34m\u001b[0m\u001b[0m\n",
      "\u001b[0;32m/usr/local/lib/python3.7/site-packages/pygom/model/ode_utils/__init__.py\u001b[0m in \u001b[0;36m_integrateOneStep\u001b[0;34m(r, t, func, jac, args, full_output)\u001b[0m\n\u001b[1;32m    308\u001b[0m             raise IntegrationError(\"Failed integration with x =  \" + str(r.y) +\n\u001b[1;32m    309\u001b[0m                                    \u001b[0;34m\" and max/min eigenvalues of the jacobian is \"\u001b[0m\u001b[0;34m\u001b[0m\u001b[0;34m\u001b[0m\u001b[0m\n\u001b[0;32m--> 310\u001b[0;31m                                    + str(max(a)) + \" and \" + str(min(a)))\n\u001b[0m\u001b[1;32m    311\u001b[0m \u001b[0;34m\u001b[0m\u001b[0m\n\u001b[1;32m    312\u001b[0m \u001b[0;32mdef\u001b[0m \u001b[0m_setupIntegrator\u001b[0m\u001b[0;34m(\u001b[0m\u001b[0mfunc\u001b[0m\u001b[0;34m,\u001b[0m \u001b[0mjac\u001b[0m\u001b[0;34m,\u001b[0m \u001b[0mx0\u001b[0m\u001b[0;34m,\u001b[0m \u001b[0mt0\u001b[0m\u001b[0;34m,\u001b[0m \u001b[0margs\u001b[0m\u001b[0;34m=\u001b[0m\u001b[0;34m(\u001b[0m\u001b[0;34m)\u001b[0m\u001b[0;34m,\u001b[0m \u001b[0mmethod\u001b[0m\u001b[0;34m=\u001b[0m\u001b[0;32mNone\u001b[0m\u001b[0;34m,\u001b[0m \u001b[0mnsteps\u001b[0m\u001b[0;34m=\u001b[0m\u001b[0;36m10000\u001b[0m\u001b[0;34m)\u001b[0m\u001b[0;34m:\u001b[0m\u001b[0;34m\u001b[0m\u001b[0;34m\u001b[0m\u001b[0m\n",
      "\u001b[0;31mIntegrationError\u001b[0m: Failed integration with x =  [ 6.44105959e+205 -6.44105959e+205 -9.23121922e+102 -9.22588909e+001\n -4.38303085e-003 -2.15315016e+002 -3.63047614e-004 -8.70107832e+104\n  3.73580068e+104 -9.23121922e+102] and max/min eigenvalues of the jacobian is 3.8125629144873115e+102 and -1.0215731545121602e+102"
     ]
    }
   ],
   "source": [
    "# Initial guess of parameters and initial condition, and bounding constraints\n",
    "cautionparams = list(params.values())[-4:-3]\n",
    "theta = [value for value in cautionparams]\n",
    "theta = [0.21,0.08,2500.]\n",
    "objSCCEIR = SquareLoss(theta=theta, ode=SCCEIR_model, x0=x0_c, t0=t[0], t=t[1::], y=y_jhu[1::,:],\n",
    "                      state_weight=[1.,1.],state_name=['R','D'],\n",
    "                      target_param=['c_0','c_1','c_2'],target_state=['E'])\n",
    "# perform optimization\n",
    "res = minimize(fun=objSCCEIR.costIV,\n",
    "                jac=objSCCEIR.sensitivityIV,\n",
    "                x0=theta+[0.00005],\n",
    "                #bounds=boxBounds+[(0.0000001,0.001)],\n",
    "                method='BFGS',\n",
    "                options={'disp':True,'maxiter':1000,'eps':0.01,'gtol':0.01})\n",
    "print(res)"
   ]
  },
  {
   "cell_type": "markdown",
   "metadata": {},
   "source": [
    "#### Fit c_0 and c_1 as well as initial value of E with BFGS\n",
    "works well:  no constraints and gtol not ftol"
   ]
  },
  {
   "cell_type": "code",
   "execution_count": null,
   "metadata": {
    "code_folding": []
   },
   "outputs": [],
   "source": [
    "# Initial guess of parameters and initial condition, and bounding constraints\n",
    "cautionparams = list(params.values())[-4:-2]\n",
    "theta = [0.25,0.08]\n",
    "boxBounds = [(0.2,0.4),(0.05,0.15)]\n",
    "objSCEIR = SquareLoss(theta=theta, ode=SCEIR_model, x0=x0, t0=t[0], t=t[1::], y=ynoise[1::,:],\n",
    "                      state_weight=[1.,1.,1.,1.,1.],state_name=['I_1','I_2','I_3','R','D'],\n",
    "                      target_param=['c_0','c_1'],target_state=['E'])\n",
    "# perform optimization\n",
    "res = minimize(fun=objSCEIR.costIV,\n",
    "                jac=objSCEIR.sensitivityIV,\n",
    "                x0=theta+[0.00005],\n",
    "                #bounds=boxBounds+[(0.0000001,0.001)],\n",
    "                method='BFGS',\n",
    "                options={'disp':True,'maxiter':1000,'eps':0.01,'gtol':0.01})\n",
    "print(res)"
   ]
  },
  {
   "cell_type": "code",
   "execution_count": null,
   "metadata": {
    "scrolled": true
   },
   "outputs": [],
   "source": [
    "# model with fitted parameters \n",
    "print(params)\n",
    "print(x0)\n",
    "params_fit = params.copy()\n",
    "#params_fit['c_0'] = res.x[0]\n",
    "#params_fit['c_1'] = res.x[1]\n",
    "\n",
    "SCEIR_model.params = params_fit\n",
    "print(SCEIR_model.params)\n",
    "#ode_fit = common_models.SEIR({'beta':res.x[0], 'gamma':res.x[1],'alpha':res.x[2]})\n",
    "#x0_fit = [1-1.27e-6, 1.27e-6, 0]\n",
    "x0_fit = x0.copy()\n",
    "#x0_fit[2] = res.x[2]\n",
    "#t_fit = numpy.linspace(0, 150, 1000)\n",
    "t_fit = t\n",
    "SCEIR_model.initial_values = (x0_fit, t_fit[0])\n",
    "# %timeit sol_fit =SCEIR_model.integrate(t_fit[1::]) # use magic %timeit to time\n",
    "# sol_fit =SCEIR_model.integrate(t_fit[0::])\n",
    "sol_fit = scipy.integrate.odeint(SCEIR_model.ode, x0_fit, t_fit[1::])\n",
    "#\n",
    "plt.figure(figsize=(15,10))\n",
    "plt.plot(t,ynoise[:,0], 'go') # infected observations\n",
    "plt.plot(t,ynoise[:,1], 'go') # infected observations\n",
    "plt.plot(t,ynoise[:,2], 'go') # infected observations\n",
    "plt.plot(t,ynoise[:,3], 'bo') # recoverd\n",
    "plt.plot(t,ynoise[:,4], 'ro') # died\n",
    "plt.plot(t_fit[1::], sol_fit)\n",
    "plt.ylim([0,0.004])\n",
    "#plt.show(())\n",
    "#ode_fit.plot()\n",
    "\n",
    "peak_i = np.argmax(sol_fit[:,2])\n",
    "print('Peak infection (days)', t_fit[peak_i])"
   ]
  },
  {
   "cell_type": "markdown",
   "metadata": {},
   "source": [
    "#### Fit c_0 and c_1 as well as initial value of E using L-BFGS-B\n",
    "this method does not work well"
   ]
  },
  {
   "cell_type": "code",
   "execution_count": null,
   "metadata": {},
   "outputs": [],
   "source": [
    "# Initial guess of parameters and initial condition, and bounding constraints\n",
    "cautionparams = list(params.values())[-4:-2]\n",
    "theta = [0.25,0.08]\n",
    "boxBounds = [(0.2,0.4),(0.05,0.15)]\n",
    "objSCEIR = SquareLoss(theta=theta, ode=SCEIR_model, x0=x0, t0=t[0], t=t[1::], y=ynoise[1::,:],\n",
    "                      state_weight=[1.,1.,1.,1.,1.],state_name=['I_1','I_2','I_3','R','D'],\n",
    "                      target_param=['c_0','c_1'],target_state=['E'])\n",
    "# perform optimization\n",
    "res = minimize(fun=objSCEIR.costIV,\n",
    "                jac=objSCEIR.sensitivityIV,\n",
    "                x0=theta+[0.00005],\n",
    "                bounds=boxBounds+[(0.0000001,0.001)],\n",
    "                method='L-BFGS-B',\n",
    "                options={'disp':True,'maxiter':1000,'eps':0.0001,'ftol':0.001})\n",
    "print(res)"
   ]
  },
  {
   "cell_type": "code",
   "execution_count": null,
   "metadata": {},
   "outputs": [],
   "source": [
    "objSCEIR.residual()"
   ]
  },
  {
   "cell_type": "markdown",
   "metadata": {},
   "source": [
    "#### Fit c_0 and c_1 as well as initial value of E with Nelder-Mead\n",
    "no use of Jacobian and no constraints"
   ]
  },
  {
   "cell_type": "code",
   "execution_count": null,
   "metadata": {},
   "outputs": [],
   "source": [
    "# Initial guess of parameters and initial condition, and bounding constraints\n",
    "cautionparams = list(params.values())[-4:-2]\n",
    "theta = [0.25,0.08]\n",
    "boxBounds = [(0.2,0.4),(0.05,0.15)]\n",
    "objSCEIR = SquareLoss(theta=theta, ode=SCEIR_model, x0=x0, t0=t[0], t=t[1::], y=ynoise[1::,:],\n",
    "                      state_weight=[1.,1.,1.,1.,1.],state_name=['I_1','I_2','I_3','R','D'],\n",
    "                      target_param=['c_0','c_1'],target_state=['E'])\n",
    "# perform optimization\n",
    "res = minimize(fun=objSCEIR.costIV,\n",
    "                #jac=objSCEIR.sensitivityIV,\n",
    "                x0=theta+[0.00005],\n",
    "                #bounds=boxBounds+[(0.0000001,0.001)],\n",
    "                method='Nelder-Mead',\n",
    "                options={'disp':True,'maxiter':1000}) #,'eps':0.0001,'ftol':0.01}) #not NM\n",
    "print(res)"
   ]
  },
  {
   "cell_type": "code",
   "execution_count": 181,
   "metadata": {
    "scrolled": true
   },
   "outputs": [
    {
     "name": "stdout",
     "output_type": "stream",
     "text": [
      "{'beta_1': 0.25, 'beta_2': 0.0, 'beta_3': 0.0, 'alpha': 0.2, 'gamma_1': 0.06999999999999999, 'gamma_2': 0.06060606060606061, 'gamma_3': 0.042857142857142844, 'p_1': 0.030000000000000013, 'p_2': 0.030303030303030304, 'mu': 0.1, 'c_0': 0.4, 'c_1': 0.07142857142857142, 'c_2': 2500.0, 'N': 1.0}\n",
      "[0.99997, 3e-05, 0.0, 0.0, 0.0, 0.0, 0.0, 0.0, 0.0, 0.0]\n",
      "{'beta_1': 0.25, 'beta_2': 0.0, 'beta_3': 0.0, 'alpha': 0.2, 'gamma_1': 0.06999999999999999, 'gamma_2': 0.06060606060606061, 'gamma_3': 0.042857142857142844, 'p_1': 0.030000000000000013, 'p_2': 0.030303030303030304, 'mu': 0.1, 'c_0': -0.4057435939067665, 'c_1': -0.14005259254179936, 'c_2': 2500.0, 'N': 1.0}\n",
      "Peak infection (days) 105.0\n"
     ]
    },
    {
     "data": {
      "image/png": "[encoded data removed]",
      "text/plain": [
       "<Figure size 1080x720 with 1 Axes>"
      ]
     },
     "metadata": {
      "needs_background": "light"
     },
     "output_type": "display_data"
    }
   ],
   "source": [
    "# model with fitted parameters \n",
    "print(params)\n",
    "print(x0_c)\n",
    "params_fit = params.copy()\n",
    "params_fit['c_0'] = res.x[0]\n",
    "params_fit['c_1'] = res.x[1]\n",
    "\n",
    "SCCEIR_model.params = params_fit\n",
    "print(SCCEIR_model.params)\n",
    "x0_fit = x0_c.copy()\n",
    "#x0_fit[2] = res.x[2]\n",
    "#t_fit = numpy.linspace(0, 150, 1000)\n",
    "t_fit = t\n",
    "SCCEIR_model.initial_values = (x0_fit, t_fit[0])\n",
    "# %timeit sol_fit =SCCEIR_model.integrate(t_fit[1::]) # use magic %timeit to time\n",
    "# sol_fit =SCCEIR_model.integrate(t_fit[0::])\n",
    "sol_fit = scipy.integrate.odeint(SCCEIR_model.ode, x0_fit, t_fit[1::])\n",
    "#\n",
    "plt.figure(figsize=(15,10))\n",
    "plt.plot(t,y_jhu[:,0], 'bo') # recoverd\n",
    "plt.plot(t,y_jhu[:,1], 'ro') # died\n",
    "plt.plot(t_fit[1::], sol_fit)\n",
    "plt.ylim([0,0.004])\n",
    "#plt.show(())\n",
    "#ode_fit.plot()\n",
    "\n",
    "peak_i = np.argmax(sol_fit[:,2])\n",
    "print('Peak infection (days)', t_fit[peak_i])"
   ]
  },
  {
   "cell_type": "markdown",
   "metadata": {},
   "source": [
    "### Information on method options"
   ]
  },
  {
   "cell_type": "code",
   "execution_count": null,
   "metadata": {},
   "outputs": [],
   "source": [
    "scipy.optimize.show_options(solver='minimize', method='SLSQP', disp=True)\n",
    "print(' ')\n",
    "scipy.optimize.show_options(solver='minimize', method='L-BFGS-B', disp=True)"
   ]
  },
  {
   "cell_type": "markdown",
   "metadata": {},
   "source": [
    "## Plot using full control"
   ]
  },
  {
   "cell_type": "code",
   "execution_count": null,
   "metadata": {},
   "outputs": [],
   "source": [
    "def plotmodel(solns,t,scale='linear',species='no_susc',plottitle= '',label='',\n",
    "              newplot = True,models=['SEIR','SCEIR','SCCEIR']):\n",
    "    \"\"\"\n",
    "    plot solns over \n",
    "    times t interpreted as models indicated in models parameter\n",
    "    scale: alternative 'linear' or 'log'\n",
    "    species alternatives 'all', 'confirmed', 'deaths', 'daily confirmed', 'daily deaths'\n",
    "    plottitle : title for plot\n",
    "    label : label for curve when called as part of multicurve plot\n",
    "    newplot : whether to open new plot True/False\n",
    "    models : list of models to include, default all three of those possible\n",
    "    \"\"\"\n",
    "   \n",
    "    nmodels = len(models)\n",
    "    if len(solns) != len(models):\n",
    "        print(\"Error: number of models must match number of solutions\")\n",
    "        return None\n",
    "    nm = 0\n",
    "    \n",
    "    if newplot == True:\n",
    "        plt.figure(figsize=(nmodels*8,6))\n",
    " \n",
    "    for nm in range(nmodels):\n",
    "        soln = solns[nm]\n",
    "        if models[nm] == 'SEIR':   #SEIR\n",
    "            plt.subplot(1,nmodels,nm+1)\n",
    "            if scale == 'log': #Plot on log scale\n",
    "                plt.semilogy()\n",
    "                plt.ylim([1,10000])\n",
    "            elif species != 'daily confirmed': # Plot on normal linear scale\n",
    "                #plt.ylim([0,10000])\n",
    "                pass\n",
    "            if species == 'no_susc':\n",
    "                plt.plot(tvec,soln[:,1:5],label=label)\n",
    "                plt.legend((\"E\",\"I1\",\"I2\",\"I3\"))\n",
    "            elif species == 'confirmed' or species == 'daily confirmed':\n",
    "                suma = np.sum(soln[:,2:7],axis=1)\n",
    "                # print('length=',len(suma))\n",
    "                if species == 'daily confirmed':\n",
    "                    sumd = np.zeros(len(suma))\n",
    "                    for i in range(1,len(suma)):\n",
    "                        sumd[i] = suma[i]-suma[i-1]\n",
    "                    #plt.ylim([0,1000])\n",
    "                    plt.plot(tvec,sumd,label=label)\n",
    "                else:\n",
    "                    #plt.ylim([0,200000])\n",
    "                     plt.plot(t,suma,label=label)                   \n",
    "            elif species == 'all':\n",
    "                plt.plot(tvec,soln,label=label)\n",
    "                plt.legend((\"S\",\"E\",\"I1\",\"I2\",\"I3\",\"R\",\"D\"))\n",
    "            plt.xlabel(\"Time (days)\")\n",
    "            plt.ylabel(\"Portion of population N\")\n",
    "            plt.title('SEIR %s' % plottitle)\n",
    "\n",
    "        elif models[nm] == 'SCEIR':   #SCEIR\n",
    "            #Plot\n",
    "            plt.subplot(1,nmodels,nm+1)\n",
    "            if scale == 'log': #Plot on log scale\n",
    "                plt.semilogy()\n",
    "                plt.ylim([1,10000])\n",
    "            elif species != 'daily confirmed': # Plot on normal linear scale\n",
    "                #plt.ylim([0,10000])\n",
    "                pass\n",
    "            if species == 'no_susc':\n",
    "                plt.plot(t,soln[:,1:5],label=label)\n",
    "                plt.legend((\"E\",\"I1\",\"I2\",\"I3\"))\n",
    "            elif species == 'confirmed' or species == 'daily confirmed':\n",
    "                suma = np.sum(soln[:,2:7],axis=1)\n",
    "                # print('length=',len(suma))\n",
    "                if species == 'daily confirmed':\n",
    "                    sumd = np.zeros(len(suma))\n",
    "                    for i in range(1,len(suma)):\n",
    "                        sumd[i] = suma[i]-suma[i-1]\n",
    "                    #plt.ylim([0,1000])\n",
    "                    plt.plot(t,sumd,label=label)\n",
    "                else:\n",
    "                    #plt.ylim([0,200000])\n",
    "                    plt.plot(t,suma,label=label)\n",
    "            elif species == 'all':\n",
    "                plt.plot(t,soln,label=label)\n",
    "                plt.legend((\"S\",\"E\",\"I1\",\"I2\",\"I3\",\"R\",\"D\",\"Sc\"))\n",
    "            plt.xlabel(\"Time (days)\")\n",
    "            plt.ylabel(\"Portion of population N\")\n",
    "            plt.title('SCEIR %s' % plottitle)\n",
    "        elif models[nm] == 'SCCEIR':   #SCCEIR\n",
    "            plt.subplot(1,nmodels,nm+1)\n",
    "            if scale == 'log': #Plot on log scale\n",
    "                plt.semilogy()\n",
    "                plt.ylim([1,10000])\n",
    "            elif species != 'daily confirmed': # Plot on normal linear scale\n",
    "                #plt.ylim([0,10000])\n",
    "                pass\n",
    "            if species == 'no_susc':\n",
    "                plt.plot(t,sol[:,1:5])\n",
    "                plt.legend((\"E\",\"I1\",\"I2\",\"I3\"))\n",
    "            elif species == 'confirmed' or species == 'daily confirmed':\n",
    "                suma = np.sum(soln[:,2:7],axis=1) + soln[:,9]\n",
    "                if species == 'daily confirmed':\n",
    "                    sumd = np.zeros(len(suma))\n",
    "                    for i in range(1,len(suma)):\n",
    "                        sumd[i] = suma[i]-suma[i-1]\n",
    "                    # plt.ylim([0,1000])\n",
    "                    plt.plot(t,sumd,label=label)\n",
    "                else:\n",
    "                    # plt.ylim([0,200000])\n",
    "                    plt.plot(t,suma,label=label)\n",
    "            elif species == 'all':\n",
    "                plt.plot(t,soln,label=label)\n",
    "                plt.legend((\"S\",\"E\",\"I1\",\"I2\",\"I3\",\"R\",\"D\",\"Sc\",\"Ec\",\"I1c\"))\n",
    "            plt.xlabel(\"Time (days)\")\n",
    "            plt.ylabel(\"Portion of population N\")\n",
    "            plt.title('SCCEIR %s' % plottitle)\n",
    "    return True"
   ]
  },
  {
   "cell_type": "code",
   "execution_count": null,
   "metadata": {},
   "outputs": [],
   "source": [
    "plotmodel([sol_fit],t_fit[1:],scale='linear',species='no_susc',plottitle= 'test',label='',\n",
    "              newplot = True,models=['SCEIR'])"
   ]
  },
  {
   "cell_type": "markdown",
   "metadata": {},
   "source": [
    "# Not yet implemented"
   ]
  },
  {
   "cell_type": "code",
   "execution_count": null,
   "metadata": {},
   "outputs": [],
   "source": [
    "# R0 from arXiv paper\n",
    "# does not work yet properly ! reason unclear\n",
    "from pygom.model.epi_analysis import R0\n",
    "ode1 = SCEIR_model.ode\n",
    "ode2 = SimulateOde(state, param_list, transition=transition)\n",
    "# print(ode2)\n",
    "# ode = ode2.get_unrolled_obj() # Exception: Object was not initialized using a set of ode\n",
    "# so need to define model via odes for this to work?\n",
    "# R0( ode2, ['I_1','I_2','I_3'])"
   ]
  },
  {
   "cell_type": "code",
   "execution_count": null,
   "metadata": {},
   "outputs": [],
   "source": [
    "# function for altering parameters\n",
    "print(param_list) \n",
    "model = DeterministicOde(state, param_list, transition=transition)\n",
    "def parameterize_model(t=np.linspace(0,365,366), c_0=0.3, c_1=0.07,\n",
    "                       c_2=0.004,I1_init=0.00001, default_params = param_list, model=model):\n",
    "    ic=[1-I1_init, I1_init, 0, 0, 0, 0, 0, 0]\n",
    "    cautionparams = {'c_0': c_0,\n",
    "              'c_1': c_1, \n",
    "              'c_2': c_2,\n",
    "              'N': sum(ic)}\n",
    "    \n",
    "    model.initial_values = (ic, t[0])\n",
    "    model.parameters = params\n",
    "    sol = model.integrate(t[1::])\n",
    "    model.plot()\n",
    "    peak_i = np.argmax(sol[:,2])\n",
    "    print('Peak infection (days)', t[peak_i] )\n",
    "    "
   ]
  },
  {
   "cell_type": "markdown",
   "metadata": {},
   "source": [
    "In this simple framework, reducing $\\beta$ results in a smaller epidemic:\n",
    "- the peak infection time is delayed\n",
    "- the magnitude of peak infection is reduced.\n",
    "\n",
    "Reducing beta may crudely represent giving out anti-virals, which make a person less infectious."
   ]
  },
  {
   "cell_type": "code",
   "execution_count": null,
   "metadata": {},
   "outputs": [],
   "source": [
    "parameterize_model(beta=1.2, t=np.linspace(0,500,5001))"
   ]
  },
  {
   "cell_type": "markdown",
   "metadata": {},
   "source": [
    "Vaccinating 5% of the population (assuming instantaneous rollout) or natural immunity, delays the peak period, and reduces its magnitude."
   ]
  },
  {
   "cell_type": "code",
   "execution_count": null,
   "metadata": {},
   "outputs": [],
   "source": [
    "parameterize_model(ic=[9490,5, 5, 500], beta=0.5, gamma=0.3, t=np.linspace(0,150,10))"
   ]
  },
  {
   "cell_type": "markdown",
   "metadata": {},
   "source": [
    "# gompy test example for FitzHugh model"
   ]
  },
  {
   "cell_type": "code",
   "execution_count": null,
   "metadata": {},
   "outputs": [],
   "source": [
    "from unittest import main, TestCase\n",
    "\n",
    "import numpy as np\n",
    "from scipy.optimize import minimize\n",
    "\n",
    "from pygom import SquareLoss\n",
    "from pygom.model import common_models\n",
    "\n",
    "\n",
    "class TestFHEstimate(TestCase):\n",
    "\n",
    "    def setUp(self):\n",
    "        # initial values\n",
    "        x0 = [-1.0, 1.0]\n",
    "        # params\n",
    "        param_eval = [('a', 0.2), ('b', 0.2), ('c', 3.0)]\n",
    "        self.target = np.array([0.2, 0.2, 3.0])\n",
    "        # the time points for our observations\n",
    "        t = np.linspace(0, 20, 30).astype('float64')\n",
    "        ode = common_models.FitzHugh(param_eval)\n",
    "        ode.initial_values = (x0, t[0])\n",
    "        solution = ode.integrate(t[1::])\n",
    "        self.theta = np.array([0.5, 0.5, 0.5])\n",
    "\n",
    "        self.obj = SquareLoss(self.theta, ode, x0, t[0],\n",
    "                              t[1::], solution[1::, :], ['V', 'R'])\n",
    "\n",
    "        g = self.obj.gradient()\n",
    "        assert np.linalg.norm(g) > 0\n",
    "\n",
    "        EPSILON = np.sqrt(np.finfo(np.float).eps)\n",
    "\n",
    "        self.box_bounds = [(EPSILON, 5.0)]*len(self.theta)\n",
    "\n",
    "    def test_FH_sensitivity(self):\n",
    "        res = minimize(fun=self.obj.cost,\n",
    "                       jac=self.obj.sensitivity,\n",
    "                       x0=self.theta,\n",
    "                       bounds=self.box_bounds,\n",
    "                       method='L-BFGS-B')\n",
    "\n",
    "        self.assertTrue(np.allclose(self.target, res['x'], 1e-2, 1e-2))\n",
    "\n",
    "    def test_FH_adjoint(self):\n",
    "        res = minimize(fun=self.obj.cost,\n",
    "                       jac=self.obj.adjoint,\n",
    "                       x0=self.theta,\n",
    "                       bounds=self.box_bounds,\n",
    "                       method='L-BFGS-B')\n",
    "\n",
    "        self.assertTrue(np.allclose(self.target, res['x'], 1e-2, 1e-2))\n",
    "\n",
    "    def test_FH_IV(self):\n",
    "        box_bounds = self.box_bounds + [(None, None)]*2\n",
    "\n",
    "        res = minimize(fun=self.obj.costIV,\n",
    "                       jac=self.obj.sensitivityIV,\n",
    "                       x0=self.theta.tolist() + [-0.5, 0.5],\n",
    "                       bounds=box_bounds,\n",
    "                       method='L-BFGS-B')\n",
    "\n",
    "        target = np.array([0.2, 0.2, 3.0, -1.0, 1.0])\n",
    "        self.assertTrue(np.allclose(res['x'], target, 1e-2, 1e-2))"
   ]
  },
  {
   "cell_type": "code",
   "execution_count": null,
   "metadata": {},
   "outputs": [],
   "source": [
    "test=TestFHEstimate()"
   ]
  },
  {
   "cell_type": "code",
   "execution_count": null,
   "metadata": {},
   "outputs": [],
   "source": [
    "test.setUp()"
   ]
  },
  {
   "cell_type": "code",
   "execution_count": null,
   "metadata": {},
   "outputs": [],
   "source": [
    "test.test_FH_IV()"
   ]
  },
  {
   "cell_type": "code",
   "execution_count": null,
   "metadata": {},
   "outputs": [],
   "source": []
  }
 ],
 "metadata": {
  "kernelspec": {
   "display_name": "Python 3",
   "language": "python",
   "name": "python3"
  },
  "language_info": {
   "codemirror_mode": {
    "name": "ipython",
    "version": 3
   },
   "file_extension": ".py",
   "mimetype": "text/x-python",
   "name": "python",
   "nbconvert_exporter": "python",
   "pygments_lexer": "ipython3",
   "version": "3.7.4"
  },
  "toc": {
   "base_numbering": 1,
   "nav_menu": {},
   "number_sections": true,
   "sideBar": true,
   "skip_h1_title": false,
   "title_cell": "Table of Contents",
   "title_sidebar": "Contents",
   "toc_cell": false,
   "toc_position": {},
   "toc_section_display": true,
   "toc_window_display": false
  }
 },
 "nbformat": 4,
 "nbformat_minor": 2
}
