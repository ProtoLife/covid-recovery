{
 "cells": [
  {
   "cell_type": "markdown",
   "metadata": {},
   "source": [
    "# Model Definitions"
   ]
  },
  {
   "cell_type": "markdown",
   "metadata": {
    "heading_collapsed": true
   },
   "source": [
    "## SCIR model\n",
    "\n",
    "### Equations\n",
    "\n",
    "\\begin{equation}\n",
    "\\begin{split}\n",
    "\\dot{S} &= -\\beta I S + c_1 S_c - c_2*S*I\\\\\n",
    "\\dot{S_c} &= - c_0 \\beta I S_c - c_1 S_c + c_2*S*I\\\\\n",
    "\\dot{I} &= \\beta I S - \\gamma I - \\mu I\\\\\n",
    "\\dot{R} & = \\gamma I \\\\\n",
    "\\dot{D} & = \\mu I\n",
    "\\end{split}\n",
    "\\end{equation}\n",
    "\n",
    "The use of I as a state variable triggering susceptibles to execute caution is just one choice. In contrast with deaths, it does not accumulate over time and so retains the property of an active threat to society, rather than an historical one. Alternatively, one could use the daily death rate which is proportional to it.\n",
    "\n",
    "Actually, the effect of caution may be quadratic, since both the individual doing the infection and individual potentially being infected may be executing caution. The current version assumes that infectives do not change their precautionary measures in response to I. To implement this we would need to further distinguish careful and non careful infectives. This is done in the SCICR model.\n",
    "\n",
    "### Variables\n",
    "* $S$: Susceptible individuals living as normal\n",
    "* $S_c$: Susceptible individuals exercising pandemy precautions\n",
    "* $I$: Infected individuals \n",
    "* $R$: individuals who have recovered from disease and are now immune\n",
    "* $D$: Dead individuals\n",
    "* $N=S+S_c+I+R+D$ Total population size (constant)\n",
    "\n",
    "### Parameters\n",
    "* $\\beta$ rate at which infected individuals contact susceptibles and infect them\n",
    "* $\\gamma$ rate at which infected individuals recover from disease and become immune\n",
    "* $\\mu$ death rate for infected individuals\n",
    "\n",
    "* $c_i$ three parameters characterizing cautionary response of population via class $S_c$\n",
    "\n",
    "    - c_0 : reduction factor for exposure for cautioned susceptibles\n",
    "\n",
    "    - c_1 : duration of caution (exponential decay time constant in days)\n",
    "\n",
    "    - c_2 : rate constant for transition from uncautioned to cautioned susceptible"
   ]
  },
  {
   "cell_type": "markdown",
   "metadata": {
    "hidden": true
   },
   "source": [
    "### Implementation\n",
    "Using PyGOM, we will set up my simple SCIR model ODE system\n",
    "PyGOM – A Python Package for Simplifying Modelling with Systems of Ordinary Differential Equations https://arxiv.org/pdf/1803.06934.pdf"
   ]
  },
  {
   "cell_type": "code",
   "execution_count": 1,
   "metadata": {
    "hidden": true
   },
   "outputs": [],
   "source": [
    "# import required packages\n",
    "import os \n",
    "from sympy import symbols, init_printing\n",
    "import numpy as np\n",
    "import matplotlib.pyplot as plt\n",
    "import sympy\n",
    "import itertools\n",
    "import scipy\n",
    "from pygom import DeterministicOde, Transition, SimulateOde, TransitionType, SquareLoss\n",
    "from scipy.optimize import minimize\n"
   ]
  },
  {
   "cell_type": "code",
   "execution_count": 2,
   "metadata": {
    "hidden": true
   },
   "outputs": [],
   "source": [
    "def  print_ode2(self):\n",
    "        '''\n",
    "        Prints the ode in symbolic form onto the screen/console in actual\n",
    "        symbols rather than the word of the symbol.\n",
    "        \n",
    "        Based on the PyGOM built-in but adapted for Jupyter\n",
    "        Corrected by John McCaskill to avoid subscript format error\n",
    "        '''\n",
    "        A = self.get_ode_eqn()\n",
    "        B = sympy.zeros(A.rows,2)\n",
    "        for i in range(A.shape[0]):\n",
    "            B[i,0] = sympy.symbols('d' + '{' + str(self._stateList[i]) + '}'+ '/dt=')\n",
    "            B[i,1] = A[i]\n",
    "\n",
    "        return B"
   ]
  },
  {
   "cell_type": "code",
   "execution_count": 3,
   "metadata": {
    "hidden": true
   },
   "outputs": [],
   "source": [
    "# set up the symbolic SCEIR model\n",
    "\n",
    "state = ['S', 'I', 'R','D','S_c']\n",
    "param_list = ['beta', 'gamma','mu','c_0','c_1','c_2','N']\n",
    "\n",
    "transition = [\n",
    "    Transition(origin='S', destination='I', equation='beta*I*S',\n",
    "               transition_type=TransitionType.T),\n",
    "    Transition(origin='S', destination='S_c', equation='c_2*I*S',\n",
    "               transition_type=TransitionType.T),\n",
    "    Transition(origin='S_c', destination='S', equation='c_1*S_c',\n",
    "               transition_type=TransitionType.T),\n",
    "    Transition(origin='S_c', destination='I', equation='c_0*beta*I*S_c',\n",
    "               transition_type=TransitionType.T),\n",
    "    Transition(origin='I', destination='R', equation='gamma*I',\n",
    "               transition_type=TransitionType.T),\n",
    "    Transition(origin='I', destination='D', equation='mu*I',\n",
    "               transition_type=TransitionType.T)    \n",
    "    ]\n",
    "\n",
    "SCIR_model = DeterministicOde(state, param_list, transition=transition)"
   ]
  },
  {
   "cell_type": "code",
   "execution_count": 4,
   "metadata": {
    "hidden": true
   },
   "outputs": [
    {
     "data": {
      "text/latex": [
       "$\\displaystyle \\left[\\begin{matrix}d{S}/dt= & - I S \\beta - I S c_{2} + S_{c} c_{1}\\\\d{I}/dt= & I S \\beta + I S_{c} \\beta c_{0} - I \\gamma - I \\mu\\\\d{R}/dt= & I \\gamma\\\\d{D}/dt= & I \\mu\\\\d{S_c}/dt= & I S c_{2} - I S_{c} \\beta c_{0} - S_{c} c_{1}\\end{matrix}\\right]$"
      ],
      "text/plain": [
       "Matrix([\n",
       "[  d{S}/dt=,              -I*S*beta - I*S*c_2 + S_c*c_1],\n",
       "[  d{I}/dt=, I*S*beta + I*S_c*beta*c_0 - I*gamma - I*mu],\n",
       "[  d{R}/dt=,                                    I*gamma],\n",
       "[  d{D}/dt=,                                       I*mu],\n",
       "[d{S_c}/dt=,         I*S*c_2 - I*S_c*beta*c_0 - S_c*c_1]])"
      ]
     },
     "execution_count": 4,
     "metadata": {},
     "output_type": "execute_result"
    }
   ],
   "source": [
    "# display equations\n",
    "print_ode2(SCIR_model)"
   ]
  },
  {
   "cell_type": "code",
   "execution_count": 5,
   "metadata": {
    "hidden": true
   },
   "outputs": [
    {
     "data": {
      "image/png": "[encoded data removed]",
      "text/plain": [
       "<Figure size 432x288 with 1 Axes>"
      ]
     },
     "metadata": {
      "needs_background": "light"
     },
     "output_type": "display_data"
    },
    {
     "data": {
      "image/svg+xml": [
       "<?xml version=\"1.0\" encoding=\"UTF-8\" standalone=\"no\"?>\n",
       "<!DOCTYPE svg PUBLIC \"-//W3C//DTD SVG 1.1//EN\"\n",
       " \"http://www.w3.org/Graphics/SVG/1.1/DTD/svg11.dtd\">\n",
       "<!-- Generated by graphviz version 2.44.0 (20200408.0750)\n",
       " -->\n",
       "<!-- Pages: 1 -->\n",
       "<svg width=\"471pt\" height=\"98pt\"\n",
       " viewBox=\"0.00 0.00 471.00 98.00\" xmlns=\"http://www.w3.org/2000/svg\" xmlns:xlink=\"http://www.w3.org/1999/xlink\">\n",
       "<g id=\"graph0\" class=\"graph\" transform=\"scale(1 1) rotate(0) translate(4 94)\">\n",
       "<polygon fill=\"white\" stroke=\"transparent\" points=\"-4,4 -4,-94 467,-94 467,4 -4,4\"/>\n",
       "<!-- S -->\n",
       "<g id=\"node1\" class=\"node\">\n",
       "<title>S</title>\n",
       "<ellipse fill=\"none\" stroke=\"black\" cx=\"27\" cy=\"-42\" rx=\"27\" ry=\"18\"/>\n",
       "<text text-anchor=\"middle\" x=\"27\" y=\"-38.3\" font-family=\"Times,serif\" font-size=\"14.00\">S</text>\n",
       "</g>\n",
       "<!-- I -->\n",
       "<g id=\"node2\" class=\"node\">\n",
       "<title>I</title>\n",
       "<ellipse fill=\"none\" stroke=\"black\" cx=\"327\" cy=\"-45\" rx=\"27\" ry=\"18\"/>\n",
       "<text text-anchor=\"middle\" x=\"327\" y=\"-41.3\" font-family=\"Times,serif\" font-size=\"14.00\">I</text>\n",
       "</g>\n",
       "<!-- S&#45;&gt;I -->\n",
       "<g id=\"edge1\" class=\"edge\">\n",
       "<title>S&#45;&gt;I</title>\n",
       "<path fill=\"none\" stroke=\"black\" d=\"M52.52,-48.46C58.82,-49.87 65.63,-51.19 72,-52 164.61,-63.76 189.35,-67.41 282,-56 285.28,-55.6 288.67,-55.03 292.05,-54.36\"/>\n",
       "<polygon fill=\"black\" stroke=\"black\" points=\"293,-57.73 301.99,-52.13 291.47,-50.9 293,-57.73\"/>\n",
       "<text text-anchor=\"middle\" x=\"164\" y=\"-65.8\" font-family=\"Times,serif\" font-size=\"14.00\">β*I*S</text>\n",
       "</g>\n",
       "<!-- S_c -->\n",
       "<g id=\"node5\" class=\"node\">\n",
       "<title>S_c</title>\n",
       "<ellipse fill=\"none\" stroke=\"black\" cx=\"164\" cy=\"-18\" rx=\"27\" ry=\"18\"/>\n",
       "<text text-anchor=\"middle\" x=\"164\" y=\"-14.3\" font-family=\"Times,serif\" font-size=\"14.00\">S_c</text>\n",
       "</g>\n",
       "<!-- S&#45;&gt;S_c -->\n",
       "<g id=\"edge2\" class=\"edge\">\n",
       "<title>S&#45;&gt;S_c</title>\n",
       "<path fill=\"none\" stroke=\"black\" d=\"M53.39,-37.49C74.42,-33.75 104.52,-28.4 127.86,-24.25\"/>\n",
       "<polygon fill=\"black\" stroke=\"black\" points=\"128.49,-27.69 137.72,-22.49 127.26,-20.8 128.49,-27.69\"/>\n",
       "<text text-anchor=\"middle\" x=\"95.5\" y=\"-36.8\" font-family=\"Times,serif\" font-size=\"14.00\">c_2*I*S</text>\n",
       "</g>\n",
       "<!-- R -->\n",
       "<g id=\"node3\" class=\"node\">\n",
       "<title>R</title>\n",
       "<ellipse fill=\"none\" stroke=\"black\" cx=\"436\" cy=\"-72\" rx=\"27\" ry=\"18\"/>\n",
       "<text text-anchor=\"middle\" x=\"436\" y=\"-68.3\" font-family=\"Times,serif\" font-size=\"14.00\">R</text>\n",
       "</g>\n",
       "<!-- I&#45;&gt;R -->\n",
       "<g id=\"edge5\" class=\"edge\">\n",
       "<title>I&#45;&gt;R</title>\n",
       "<path fill=\"none\" stroke=\"black\" d=\"M352.55,-51.19C366.82,-54.8 385.03,-59.39 400.7,-63.34\"/>\n",
       "<polygon fill=\"black\" stroke=\"black\" points=\"400.01,-66.78 410.57,-65.83 401.73,-59.99 400.01,-66.78\"/>\n",
       "<text text-anchor=\"middle\" x=\"381.5\" y=\"-63.8\" font-family=\"Times,serif\" font-size=\"14.00\">γ*I</text>\n",
       "</g>\n",
       "<!-- D -->\n",
       "<g id=\"node4\" class=\"node\">\n",
       "<title>D</title>\n",
       "<ellipse fill=\"none\" stroke=\"black\" cx=\"436\" cy=\"-18\" rx=\"27\" ry=\"18\"/>\n",
       "<text text-anchor=\"middle\" x=\"436\" y=\"-14.3\" font-family=\"Times,serif\" font-size=\"14.00\">D</text>\n",
       "</g>\n",
       "<!-- I&#45;&gt;D -->\n",
       "<g id=\"edge6\" class=\"edge\">\n",
       "<title>I&#45;&gt;D</title>\n",
       "<path fill=\"none\" stroke=\"black\" d=\"M352.55,-38.81C366.82,-35.2 385.03,-30.61 400.7,-26.66\"/>\n",
       "<polygon fill=\"black\" stroke=\"black\" points=\"401.73,-30.01 410.57,-24.17 400.01,-23.22 401.73,-30.01\"/>\n",
       "<text text-anchor=\"middle\" x=\"381.5\" y=\"-36.8\" font-family=\"Times,serif\" font-size=\"14.00\">μ*I</text>\n",
       "</g>\n",
       "<!-- S_c&#45;&gt;S -->\n",
       "<g id=\"edge3\" class=\"edge\">\n",
       "<title>S_c&#45;&gt;S</title>\n",
       "<path fill=\"none\" stroke=\"black\" d=\"M139.95,-9.63C121.18,-4.12 94.24,0.77 72,-7 63.97,-9.81 56.3,-14.76 49.68,-20.07\"/>\n",
       "<polygon fill=\"black\" stroke=\"black\" points=\"47.14,-17.65 41.92,-26.86 51.75,-22.92 47.14,-17.65\"/>\n",
       "<text text-anchor=\"middle\" x=\"95.5\" y=\"-10.8\" font-family=\"Times,serif\" font-size=\"14.00\">c_1*S_c</text>\n",
       "</g>\n",
       "<!-- S_c&#45;&gt;I -->\n",
       "<g id=\"edge4\" class=\"edge\">\n",
       "<title>S_c&#45;&gt;I</title>\n",
       "<path fill=\"none\" stroke=\"black\" d=\"M190.51,-22.28C217.48,-26.8 260.22,-33.97 290.47,-39.04\"/>\n",
       "<polygon fill=\"black\" stroke=\"black\" points=\"290.17,-42.54 300.61,-40.74 291.33,-35.64 290.17,-42.54\"/>\n",
       "<text text-anchor=\"middle\" x=\"245.5\" y=\"-40.8\" font-family=\"Times,serif\" font-size=\"14.00\">c_0*β*I*S_c</text>\n",
       "</g>\n",
       "</g>\n",
       "</svg>\n"
      ],
      "text/plain": [
       "<graphviz.dot.Digraph at 0x12cbcfd50>"
      ]
     },
     "execution_count": 5,
     "metadata": {},
     "output_type": "execute_result"
    }
   ],
   "source": [
    "# display graphical representation of the model\n",
    "SCIR_model.get_transition_graph()"
   ]
  },
  {
   "cell_type": "markdown",
   "metadata": {
    "hidden": true
   },
   "source": [
    "#### Derived equations, Jacobian and gradient"
   ]
  },
  {
   "cell_type": "code",
   "execution_count": 6,
   "metadata": {
    "hidden": true
   },
   "outputs": [
    {
     "data": {
      "text/latex": [
       "$\\displaystyle \\left[\\begin{matrix}- I S \\beta - I S c_{2} + S_{c} c_{1}\\\\I S \\beta + I S_{c} \\beta c_{0} - I \\gamma - I \\mu\\\\I \\gamma\\\\I \\mu\\\\I S c_{2} - I S_{c} \\beta c_{0} - S_{c} c_{1}\\end{matrix}\\right]$"
      ],
      "text/plain": [
       "Matrix([\n",
       "[             -I*S*beta - I*S*c_2 + S_c*c_1],\n",
       "[I*S*beta + I*S_c*beta*c_0 - I*gamma - I*mu],\n",
       "[                                   I*gamma],\n",
       "[                                      I*mu],\n",
       "[        I*S*c_2 - I*S_c*beta*c_0 - S_c*c_1]])"
      ]
     },
     "execution_count": 6,
     "metadata": {},
     "output_type": "execute_result"
    }
   ],
   "source": [
    "SCIR_model.get_ode_eqn()"
   ]
  },
  {
   "cell_type": "code",
   "execution_count": 7,
   "metadata": {
    "hidden": true
   },
   "outputs": [
    {
     "data": {
      "text/latex": [
       "$\\displaystyle \\left[\\begin{matrix}- I \\beta - I c_{2} & - S \\beta - S c_{2} & 0 & 0 & c_{1}\\\\I \\beta & S \\beta + S_{c} \\beta c_{0} - \\gamma - \\mu & 0 & 0 & I \\beta c_{0}\\\\0 & \\gamma & 0 & 0 & 0\\\\0 & \\mu & 0 & 0 & 0\\\\I c_{2} & S c_{2} - S_{c} \\beta c_{0} & 0 & 0 & - I \\beta c_{0} - c_{1}\\end{matrix}\\right]$"
      ],
      "text/plain": [
       "Matrix([\n",
       "[-I*beta - I*c_2,                    -S*beta - S*c_2, 0, 0,               c_1],\n",
       "[         I*beta, S*beta + S_c*beta*c_0 - gamma - mu, 0, 0,        I*beta*c_0],\n",
       "[              0,                              gamma, 0, 0,                 0],\n",
       "[              0,                                 mu, 0, 0,                 0],\n",
       "[          I*c_2,               S*c_2 - S_c*beta*c_0, 0, 0, -I*beta*c_0 - c_1]])"
      ]
     },
     "execution_count": 7,
     "metadata": {},
     "output_type": "execute_result"
    }
   ],
   "source": [
    "SCIR_model.get_jacobian_eqn()"
   ]
  },
  {
   "cell_type": "code",
   "execution_count": 8,
   "metadata": {
    "hidden": true,
    "scrolled": true
   },
   "outputs": [
    {
     "data": {
      "text/latex": [
       "$\\displaystyle \\left[\\begin{matrix}- I S & 0 & 0 & 0 & S_{c} & - I S & 0\\\\I S + I S_{c} c_{0} & - I & - I & I S_{c} \\beta & 0 & 0 & 0\\\\0 & I & 0 & 0 & 0 & 0 & 0\\\\0 & 0 & I & 0 & 0 & 0 & 0\\\\- I S_{c} c_{0} & 0 & 0 & - I S_{c} \\beta & - S_{c} & I S & 0\\end{matrix}\\right]$"
      ],
      "text/plain": [
       "Matrix([\n",
       "[           -I*S,  0,  0,           0,  S_c, -I*S, 0],\n",
       "[I*S + I*S_c*c_0, -I, -I,  I*S_c*beta,    0,    0, 0],\n",
       "[              0,  I,  0,           0,    0,    0, 0],\n",
       "[              0,  0,  I,           0,    0,    0, 0],\n",
       "[     -I*S_c*c_0,  0,  0, -I*S_c*beta, -S_c,  I*S, 0]])"
      ]
     },
     "execution_count": 8,
     "metadata": {},
     "output_type": "execute_result"
    }
   ],
   "source": [
    "SCIR_model.get_grad_eqn()"
   ]
  },
  {
   "cell_type": "markdown",
   "metadata": {},
   "source": [
    "## SCICR model\n",
    "\n",
    "### Equations\n",
    "\n",
    "\\begin{equation}\n",
    "\\begin{split}\n",
    "\\dot{S} &= -\\beta (I + c_0 I_c) S + c_1 S_c - c_2 S (I + I_c)\\\\\n",
    "\\dot{S_c} &= - c_0 \\beta (I + c_0 I_c) S_c - c_1 S_c + c_2 S (I + I_c)\\\\\n",
    "\\dot{I} &= \\beta (I + c_0 I_c) S - \\gamma I - \\mu I\\\\\n",
    "\\dot{I_c} &= \\beta (I + c_0 I_c) S_c - \\gamma I_c - \\mu I_c\\\\\n",
    "\\dot{R} & = \\gamma (I + I_c)\\\\\n",
    "\\dot{D} & = \\mu (I + I_c)\n",
    "\\end{split}\n",
    "\\end{equation}\n",
    "\n",
    "The use of I as a state variable triggering susceptibles to execute caution is just one choice. In contrast with deaths, it does not accumulate over time and so retains the property of an active threat to society, rather than an historical one. Alternatively, one could use the daily death rate which is proportional to it.\n",
    "\n",
    "The effect of caution may be quadratic, since both the individual doing the infection and individual potentially being infected may be executing caution. To implement this we distinguish careful and non careful infectives. We ignore infectives making the transition to caution or relaxing it.\n",
    "\n",
    "### Variables\n",
    "* $S$: Susceptible individuals living as normal\n",
    "* $S_c$: Susceptible individuals exercising pandemy precautions\n",
    "* $I$: Infected individuals non exercising pandemy precautions\n",
    "* $I_c$: Infected individuals exercising pandemy precautions \n",
    "* $R$: individuals who have recovered from disease and are now immune\n",
    "* $D$: Dead individuals\n",
    "* $N=S+S_c+I+I_c+R+D$ Total population size (constant)\n",
    "\n",
    "### Parameters\n",
    "* $\\beta$ rate at which infected individuals contact susceptibles and infect them\n",
    "* $\\gamma$ rate at which infected individuals recover from disease and become immune\n",
    "* $\\mu$ death rate for infected individuals\n",
    "\n",
    "* $c_i$ three parameters characterizing cautionary response of population via class $S_c$\n",
    "\n",
    "    - c_0 : reduction factor for exposure for cautioned susceptibles\n",
    "\n",
    "    - c_1 : duration of caution (exponential decay time constant in days)\n",
    "\n",
    "    - c_2 : rate constant for transition from uncautioned to cautioned susceptible"
   ]
  },
  {
   "cell_type": "markdown",
   "metadata": {},
   "source": [
    "### Implementation\n",
    "Using PyGOM, we will set up my simple SCIR model ODE system\n",
    "PyGOM – A Python Package for Simplifying Modelling with Systems of Ordinary Differential Equations https://arxiv.org/pdf/1803.06934.pdf"
   ]
  },
  {
   "cell_type": "code",
   "execution_count": 9,
   "metadata": {},
   "outputs": [],
   "source": [
    "# import required packages\n",
    "import os \n",
    "from sympy import symbols, init_printing\n",
    "import numpy as np\n",
    "import matplotlib.pyplot as plt\n",
    "import sympy\n",
    "import itertools\n",
    "import scipy\n",
    "from pygom import DeterministicOde, Transition, SimulateOde, TransitionType, SquareLoss\n",
    "from scipy.optimize import minimize\n"
   ]
  },
  {
   "cell_type": "code",
   "execution_count": 11,
   "metadata": {},
   "outputs": [],
   "source": [
    "# set up the symbolic SCICR model\n",
    "\n",
    "state = ['S', 'I', 'R','D','S_c','I_c']\n",
    "param_list = ['beta', 'gamma','mu','c_0','c_1','c_2','N']\n",
    "\n",
    "transition = [\n",
    "    Transition(origin='S', destination='I', equation='beta*(I+c_0*I_c)*S',\n",
    "               transition_type=TransitionType.T),\n",
    "    Transition(origin='S', destination='S_c', equation='c_2*(I+I_c)*S',\n",
    "               transition_type=TransitionType.T),\n",
    "    Transition(origin='S_c', destination='S', equation='c_1*S_c',\n",
    "               transition_type=TransitionType.T),\n",
    "    Transition(origin='S_c', destination='I_c', equation='c_0*beta*(I+c_0*I_c)*S_c',\n",
    "               transition_type=TransitionType.T),\n",
    "    Transition(origin='I', destination='R', equation='gamma*I',\n",
    "               transition_type=TransitionType.T),\n",
    "    Transition(origin='I', destination='D', equation='mu*I',\n",
    "               transition_type=TransitionType.T),\n",
    "    Transition(origin='I_c', destination='R', equation='gamma*I_c',\n",
    "               transition_type=TransitionType.T),\n",
    "    Transition(origin='I_c', destination='D', equation='mu*I_c',\n",
    "               transition_type=TransitionType.T),\n",
    "    Transition(origin='I_c', destination='I', equation='c_1*I_c',\n",
    "               transition_type=TransitionType.T),\n",
    "    Transition(origin='I', destination='I_c', equation='c_2*(I+I_c)*I',\n",
    "               transition_type=TransitionType.T)    \n",
    "    ]\n",
    "\n",
    "SCICR_model = DeterministicOde(state, param_list, transition=transition)"
   ]
  },
  {
   "cell_type": "code",
   "execution_count": 12,
   "metadata": {},
   "outputs": [
    {
     "data": {
      "text/latex": [
       "$\\displaystyle \\left[\\begin{matrix}d{S}/dt= & - S \\beta \\left(I + I_{c} c_{0}\\right) - S c_{2} \\left(I + I_{c}\\right) + S_{c} c_{1}\\\\d{I}/dt= & - I c_{2} \\left(I + I_{c}\\right) - I \\gamma - I \\mu + I_{c} c_{1} + S \\beta \\left(I + I_{c} c_{0}\\right)\\\\d{R}/dt= & I \\gamma + I_{c} \\gamma\\\\d{D}/dt= & I \\mu + I_{c} \\mu\\\\d{S_c}/dt= & S c_{2} \\left(I + I_{c}\\right) - S_{c} \\beta c_{0} \\left(I + I_{c} c_{0}\\right) - S_{c} c_{1}\\\\d{I_c}/dt= & I c_{2} \\left(I + I_{c}\\right) - I_{c} c_{1} - I_{c} \\gamma - I_{c} \\mu + S_{c} \\beta c_{0} \\left(I + I_{c} c_{0}\\right)\\end{matrix}\\right]$"
      ],
      "text/plain": [
       "Matrix([\n",
       "[  d{S}/dt=,                           -S*beta*(I + I_c*c_0) - S*c_2*(I + I_c) + S_c*c_1],\n",
       "[  d{I}/dt=,          -I*c_2*(I + I_c) - I*gamma - I*mu + I_c*c_1 + S*beta*(I + I_c*c_0)],\n",
       "[  d{R}/dt=,                                                         I*gamma + I_c*gamma],\n",
       "[  d{D}/dt=,                                                               I*mu + I_c*mu],\n",
       "[d{S_c}/dt=,                      S*c_2*(I + I_c) - S_c*beta*c_0*(I + I_c*c_0) - S_c*c_1],\n",
       "[d{I_c}/dt=, I*c_2*(I + I_c) - I_c*c_1 - I_c*gamma - I_c*mu + S_c*beta*c_0*(I + I_c*c_0)]])"
      ]
     },
     "execution_count": 12,
     "metadata": {},
     "output_type": "execute_result"
    }
   ],
   "source": [
    "# display equations\n",
    "print_ode2(SCICR_model)"
   ]
  },
  {
   "cell_type": "code",
   "execution_count": 13,
   "metadata": {},
   "outputs": [
    {
     "data": {
      "image/png": "[encoded data removed]",
      "text/plain": [
       "<Figure size 432x288 with 1 Axes>"
      ]
     },
     "metadata": {
      "needs_background": "light"
     },
     "output_type": "display_data"
    },
    {
     "data": {
      "image/svg+xml": [
       "<?xml version=\"1.0\" encoding=\"UTF-8\" standalone=\"no\"?>\n",
       "<!DOCTYPE svg PUBLIC \"-//W3C//DTD SVG 1.1//EN\"\n",
       " \"http://www.w3.org/Graphics/SVG/1.1/DTD/svg11.dtd\">\n",
       "<!-- Generated by graphviz version 2.44.0 (20200408.0750)\n",
       " -->\n",
       "<!-- Pages: 1 -->\n",
       "<svg width=\"591pt\" height=\"169pt\"\n",
       " viewBox=\"0.00 0.00 591.00 169.00\" xmlns=\"http://www.w3.org/2000/svg\" xmlns:xlink=\"http://www.w3.org/1999/xlink\">\n",
       "<g id=\"graph0\" class=\"graph\" transform=\"scale(1 1) rotate(0) translate(4 165)\">\n",
       "<polygon fill=\"white\" stroke=\"transparent\" points=\"-4,4 -4,-165 587,-165 587,4 -4,4\"/>\n",
       "<!-- S -->\n",
       "<g id=\"node1\" class=\"node\">\n",
       "<title>S</title>\n",
       "<ellipse fill=\"none\" stroke=\"black\" cx=\"27\" cy=\"-50\" rx=\"27\" ry=\"18\"/>\n",
       "<text text-anchor=\"middle\" x=\"27\" y=\"-46.3\" font-family=\"Times,serif\" font-size=\"14.00\">S</text>\n",
       "</g>\n",
       "<!-- I -->\n",
       "<g id=\"node2\" class=\"node\">\n",
       "<title>I</title>\n",
       "<ellipse fill=\"none\" stroke=\"black\" cx=\"211\" cy=\"-88\" rx=\"27\" ry=\"18\"/>\n",
       "<text text-anchor=\"middle\" x=\"211\" y=\"-84.3\" font-family=\"Times,serif\" font-size=\"14.00\">I</text>\n",
       "</g>\n",
       "<!-- S&#45;&gt;I -->\n",
       "<g id=\"edge1\" class=\"edge\">\n",
       "<title>S&#45;&gt;I</title>\n",
       "<path fill=\"none\" stroke=\"black\" d=\"M52.12,-56.95C58.55,-58.7 65.52,-60.51 72,-62 106.66,-69.98 146.62,-77.3 174.59,-82.13\"/>\n",
       "<polygon fill=\"black\" stroke=\"black\" points=\"174.25,-85.62 184.69,-83.86 175.42,-78.72 174.25,-85.62\"/>\n",
       "<text text-anchor=\"middle\" x=\"119\" y=\"-83.8\" font-family=\"Times,serif\" font-size=\"14.00\">β*(I+c_0*I_c)*S</text>\n",
       "</g>\n",
       "<!-- S_c -->\n",
       "<g id=\"node5\" class=\"node\">\n",
       "<title>S_c</title>\n",
       "<ellipse fill=\"none\" stroke=\"black\" cx=\"211\" cy=\"-18\" rx=\"27\" ry=\"18\"/>\n",
       "<text text-anchor=\"middle\" x=\"211\" y=\"-14.3\" font-family=\"Times,serif\" font-size=\"14.00\">S_c</text>\n",
       "</g>\n",
       "<!-- S&#45;&gt;S_c -->\n",
       "<g id=\"edge2\" class=\"edge\">\n",
       "<title>S&#45;&gt;S_c</title>\n",
       "<path fill=\"none\" stroke=\"black\" d=\"M41.38,-34.4C49.34,-26.34 60.18,-17.31 72,-13 105.6,-0.75 146.9,-4.47 175.52,-9.72\"/>\n",
       "<polygon fill=\"black\" stroke=\"black\" points=\"174.96,-13.17 185.45,-11.69 176.33,-6.31 174.96,-13.17\"/>\n",
       "<text text-anchor=\"middle\" x=\"119\" y=\"-16.8\" font-family=\"Times,serif\" font-size=\"14.00\">c_2*(I+I_c)*S</text>\n",
       "</g>\n",
       "<!-- R -->\n",
       "<g id=\"node3\" class=\"node\">\n",
       "<title>R</title>\n",
       "<ellipse fill=\"none\" stroke=\"black\" cx=\"556\" cy=\"-72\" rx=\"27\" ry=\"18\"/>\n",
       "<text text-anchor=\"middle\" x=\"556\" y=\"-68.3\" font-family=\"Times,serif\" font-size=\"14.00\">R</text>\n",
       "</g>\n",
       "<!-- I&#45;&gt;R -->\n",
       "<g id=\"edge5\" class=\"edge\">\n",
       "<title>I&#45;&gt;R</title>\n",
       "<path fill=\"none\" stroke=\"black\" d=\"M232.99,-77.27C240.12,-74.08 248.25,-70.93 256,-69 344.58,-47 370.02,-49.79 461,-57 480.69,-58.56 502.49,-61.94 520.13,-65.09\"/>\n",
       "<polygon fill=\"black\" stroke=\"black\" points=\"519.53,-68.54 529.99,-66.9 520.79,-61.65 519.53,-68.54\"/>\n",
       "<text text-anchor=\"middle\" x=\"434\" y=\"-60.8\" font-family=\"Times,serif\" font-size=\"14.00\">γ*I</text>\n",
       "</g>\n",
       "<!-- D -->\n",
       "<g id=\"node4\" class=\"node\">\n",
       "<title>D</title>\n",
       "<ellipse fill=\"none\" stroke=\"black\" cx=\"556\" cy=\"-134\" rx=\"27\" ry=\"18\"/>\n",
       "<text text-anchor=\"middle\" x=\"556\" y=\"-130.3\" font-family=\"Times,serif\" font-size=\"14.00\">D</text>\n",
       "</g>\n",
       "<!-- I&#45;&gt;D -->\n",
       "<g id=\"edge6\" class=\"edge\">\n",
       "<title>I&#45;&gt;D</title>\n",
       "<path fill=\"none\" stroke=\"black\" d=\"M226.9,-103.07C234.84,-110.11 245.19,-117.84 256,-122 345.7,-156.48 461.89,-147.4 519.45,-139.7\"/>\n",
       "<polygon fill=\"black\" stroke=\"black\" points=\"520.08,-143.15 529.49,-138.29 519.11,-136.22 520.08,-143.15\"/>\n",
       "<text text-anchor=\"middle\" x=\"434\" y=\"-149.8\" font-family=\"Times,serif\" font-size=\"14.00\">μ*I</text>\n",
       "</g>\n",
       "<!-- I_c -->\n",
       "<g id=\"node6\" class=\"node\">\n",
       "<title>I_c</title>\n",
       "<ellipse fill=\"none\" stroke=\"black\" cx=\"434\" cy=\"-99\" rx=\"27\" ry=\"18\"/>\n",
       "<text text-anchor=\"middle\" x=\"434\" y=\"-95.3\" font-family=\"Times,serif\" font-size=\"14.00\">I_c</text>\n",
       "</g>\n",
       "<!-- I&#45;&gt;I_c -->\n",
       "<g id=\"edge10\" class=\"edge\">\n",
       "<title>I&#45;&gt;I_c</title>\n",
       "<path fill=\"none\" stroke=\"black\" d=\"M237.02,-82.65C243.2,-81.55 249.81,-80.56 256,-80 314.87,-74.69 331.11,-68.04 389,-80 393.52,-80.93 398.15,-82.36 402.63,-84.01\"/>\n",
       "<polygon fill=\"black\" stroke=\"black\" points=\"401.51,-87.34 412.09,-87.91 404.17,-80.86 401.51,-87.34\"/>\n",
       "<text text-anchor=\"middle\" x=\"322.5\" y=\"-83.8\" font-family=\"Times,serif\" font-size=\"14.00\">c_2*(I+I_c)*I</text>\n",
       "</g>\n",
       "<!-- S_c&#45;&gt;S -->\n",
       "<g id=\"edge3\" class=\"edge\">\n",
       "<title>S_c&#45;&gt;S</title>\n",
       "<path fill=\"none\" stroke=\"black\" d=\"M185.39,-23.89C179.09,-25.32 172.31,-26.78 166,-28 131.36,-34.69 91.54,-40.88 63.61,-44.98\"/>\n",
       "<polygon fill=\"black\" stroke=\"black\" points=\"62.92,-41.54 53.52,-46.44 63.92,-48.47 62.92,-41.54\"/>\n",
       "<text text-anchor=\"middle\" x=\"119\" y=\"-46.8\" font-family=\"Times,serif\" font-size=\"14.00\">c_1*S_c</text>\n",
       "</g>\n",
       "<!-- S_c&#45;&gt;I_c -->\n",
       "<g id=\"edge4\" class=\"edge\">\n",
       "<title>S_c&#45;&gt;I_c</title>\n",
       "<path fill=\"none\" stroke=\"black\" d=\"M238.24,-18.59C274.3,-20.41 340.25,-27.46 389,-54 398.64,-59.25 407.5,-67.32 414.69,-75.17\"/>\n",
       "<polygon fill=\"black\" stroke=\"black\" points=\"412.13,-77.56 421.31,-82.85 417.43,-72.99 412.13,-77.56\"/>\n",
       "<text text-anchor=\"middle\" x=\"322.5\" y=\"-57.8\" font-family=\"Times,serif\" font-size=\"14.00\">c_0*β*(I+c_0*I_c)*S_c</text>\n",
       "</g>\n",
       "<!-- I_c&#45;&gt;I -->\n",
       "<g id=\"edge9\" class=\"edge\">\n",
       "<title>I_c&#45;&gt;I</title>\n",
       "<path fill=\"none\" stroke=\"black\" d=\"M407.08,-100.97C372.49,-103.16 309.37,-105.57 256,-99 252.72,-98.6 249.33,-98.03 245.95,-97.36\"/>\n",
       "<polygon fill=\"black\" stroke=\"black\" points=\"246.53,-93.9 236.01,-95.13 245,-100.73 246.53,-93.9\"/>\n",
       "<text text-anchor=\"middle\" x=\"322.5\" y=\"-106.8\" font-family=\"Times,serif\" font-size=\"14.00\">c_1*I_c</text>\n",
       "</g>\n",
       "<!-- I_c&#45;&gt;R -->\n",
       "<g id=\"edge7\" class=\"edge\">\n",
       "<title>I_c&#45;&gt;R</title>\n",
       "<path fill=\"none\" stroke=\"black\" d=\"M458.58,-90.84C465.14,-88.75 472.3,-86.63 479,-85 492.14,-81.8 506.74,-79.11 519.6,-77.01\"/>\n",
       "<polygon fill=\"black\" stroke=\"black\" points=\"520.15,-80.47 529.49,-75.46 519.06,-73.55 520.15,-80.47\"/>\n",
       "<text text-anchor=\"middle\" x=\"495\" y=\"-88.8\" font-family=\"Times,serif\" font-size=\"14.00\">γ*I_c</text>\n",
       "</g>\n",
       "<!-- I_c&#45;&gt;D -->\n",
       "<g id=\"edge8\" class=\"edge\">\n",
       "<title>I_c&#45;&gt;D</title>\n",
       "<path fill=\"none\" stroke=\"black\" d=\"M459,-106C476.82,-111.2 501.37,-118.36 521.18,-124.14\"/>\n",
       "<polygon fill=\"black\" stroke=\"black\" points=\"520.47,-127.57 531.05,-127.01 522.43,-120.85 520.47,-127.57\"/>\n",
       "<text text-anchor=\"middle\" x=\"495\" y=\"-123.8\" font-family=\"Times,serif\" font-size=\"14.00\">μ*I_c</text>\n",
       "</g>\n",
       "</g>\n",
       "</svg>\n"
      ],
      "text/plain": [
       "<graphviz.dot.Digraph at 0x1121d5d50>"
      ]
     },
     "execution_count": 13,
     "metadata": {},
     "output_type": "execute_result"
    }
   ],
   "source": [
    "# display graphical representation of the model\n",
    "SCICR_model.get_transition_graph()"
   ]
  },
  {
   "cell_type": "markdown",
   "metadata": {},
   "source": [
    "## SCEIR model\n",
    "\n",
    "### Equations\n",
    "\n",
    "\\begin{equation}\n",
    "\\begin{split}\n",
    "\\dot{S} &= -(\\beta_1 I_1 +\\beta_2 I_2 + \\beta_3 I_3) S + c_1 S_c - c_2*S*I_3\\\\\n",
    "\\dot{S_c} &= - c_0(\\beta_1 I_1 +\\beta_2 I_2 + \\beta_3 I_3) S_c - c_1 S_c + c_2*S*I_3\\\\\n",
    "\\dot{E} &=(\\beta_1 I_1 +\\beta_2 I_2 + \\beta_3 I_3 ) (S + c_0 S_c) - a E \\\\\n",
    "\\dot{I_1} &= a E - \\gamma_1 I_1 - p_1 I_1 \\\\\n",
    "\\dot{I_2} &= p_1 I_1 -\\gamma_2 I_2 - p_2 I_2 \\\\\n",
    "\\dot{I_3} & = p_2 I_2 -\\gamma_3 I_3 - \\mu I_3 \\\\\n",
    "\\dot{R} & = \\gamma_1 I_1 + \\gamma_2 I_2 + \\gamma_3 I_3 \\\\\n",
    "\\dot{D} & = \\mu I_3\n",
    "\\end{split}\n",
    "\\end{equation}\n",
    "\n",
    "The use of I_3 as a state variable triggering susceptibles to execute caution is just one choice. In contrast with deaths, it does not accumulate over time and so retains the property of an active threat to society, rather than an historical one.\n",
    "\n",
    "Actually, the effect of caution may be quadratic, since both the individual doing the infection and individual potentially being infected may be executing caution. The current version assumes that infectives do not change their precautionary measures in response to I_3. To implement this we would need to further distinguish careful and non careful infectives at least up to the I_1 level. This is done in the SCCEIR model.\n",
    "\n",
    "### Variables\n",
    "* $S$: Susceptible individuals living as normal\n",
    "* $S_c$: Susceptible individuals exercising pandemy precautions\n",
    "* $E$: Exposed individuals - infected but not yet infectious or symptomatic\n",
    "* $I_i$: Infected individuals in severity class $i$. Severity increaes with $i$ and we assume individuals must pass through all previous classes\n",
    "  * $I_1$: Mild infection (hospitalization not required)\n",
    "  * $I_2$: Severe infection (hospitalization required)\n",
    "  * $I_3$: Critical infection (ICU required)\n",
    "* $R$: individuals who have recovered from disease and are now immune\n",
    "* $D$: Dead individuals\n",
    "* $N=S+S_c+E+I_1+I_2+I_3+R+D$ Total population size (constant)\n",
    "\n",
    "### Parameters\n",
    "* $\\beta_i$ rate at which infected individuals in class $I_i$ contact susceptibles and infect them\n",
    "* $a$ rate of progression from the exposed to infected class\n",
    "* $\\gamma_i$ rate at which infected individuals in class $I_i$ recover from disease and become immune\n",
    "* $p_i$ rate at which infected individuals in class $I_i$ progress to class $I_{I+1}$\n",
    "* $\\mu$ death rate for individuals in the most severe stage of disease\n",
    "\n",
    "* $c_i$ three parameters characterizing cautionary response of population via class $S_c$\n",
    "\n",
    "    - c_0 : reduction factor for exposure for cautioned susceptibles\n",
    "\n",
    "    - c_1 : duration of caution (exponential decay time constant in days)\n",
    "\n",
    "    - c_2 : rate constant for transition from uncautioned to cautioned susceptible\n",
    "\n",
    "\n"
   ]
  },
  {
   "cell_type": "markdown",
   "metadata": {
    "heading_collapsed": true
   },
   "source": [
    "### Implementation\n",
    "Using PyGOM, we will set up the model ODE system\n",
    "PyGOM – A Python Package for Simplifying Modelling with Systems of Ordinary Differential Equations https://arxiv.org/pdf/1803.06934.pdf"
   ]
  },
  {
   "cell_type": "code",
   "execution_count": null,
   "metadata": {
    "hidden": true
   },
   "outputs": [],
   "source": [
    "# import required packages\n",
    "import os \n",
    "from sympy import symbols, init_printing\n",
    "import numpy as np\n",
    "import matplotlib.pyplot as plt\n",
    "import sympy\n",
    "import itertools\n",
    "import scipy\n",
    "from pygom import DeterministicOde, Transition, SimulateOde, TransitionType, SquareLoss\n",
    "from scipy.optimize import minimize\n"
   ]
  },
  {
   "cell_type": "code",
   "execution_count": null,
   "metadata": {
    "hidden": true
   },
   "outputs": [],
   "source": [
    "def  print_ode2(self):\n",
    "        '''\n",
    "        Prints the ode in symbolic form onto the screen/console in actual\n",
    "        symbols rather than the word of the symbol.\n",
    "        \n",
    "        Based on the PyGOM built-in but adapted for Jupyter\n",
    "        Corrected by John McCaskill to avoid subscript format error\n",
    "        '''\n",
    "        A = self.get_ode_eqn()\n",
    "        B = sympy.zeros(A.rows,2)\n",
    "        for i in range(A.shape[0]):\n",
    "            B[i,0] = sympy.symbols('d' + '{' + str(self._stateList[i]) + '}'+ '/dt=')\n",
    "            B[i,1] = A[i]\n",
    "\n",
    "        return B"
   ]
  },
  {
   "cell_type": "code",
   "execution_count": null,
   "metadata": {
    "hidden": true
   },
   "outputs": [],
   "source": [
    "# set up the symbolic SCEIR model\n",
    "\n",
    "state = ['S', 'E', 'I_1', 'I_2','I_3','R','D','S_c']\n",
    "param_list = ['beta_1', 'beta_2','beta_3','alpha', 'gamma_1', 'gamma_2', 'gamma_3',\n",
    "              'p_1','p_2','mu','c_0','c_1','c_2','N']\n",
    "\n",
    "transition = [\n",
    "    Transition(origin='S', destination='E', equation='(beta_1*I_1+beta_2*I_2+beta_3*I_3)*S',\n",
    "               transition_type=TransitionType.T),\n",
    "    Transition(origin='S', destination='S_c', equation='c_2*I_3*S',\n",
    "               transition_type=TransitionType.T),\n",
    "    Transition(origin='S_c', destination='S', equation='c_1*S_c',\n",
    "               transition_type=TransitionType.T),\n",
    "    Transition(origin='S_c', destination='E', equation='c_0*(beta_1*I_1+beta_2*I_2+beta_3*I_3)*S_c',\n",
    "               transition_type=TransitionType.T),\n",
    "    Transition(origin='E', destination='I_1', equation='alpha*E',\n",
    "               transition_type=TransitionType.T),\n",
    "    Transition(origin='I_1', destination='R', equation='gamma_1*I_1',\n",
    "               transition_type=TransitionType.T),\n",
    "    Transition(origin='I_2', destination='R', equation='gamma_2*I_2',\n",
    "               transition_type=TransitionType.T),\n",
    "    Transition(origin='I_3', destination='R', equation='gamma_3*I_3',\n",
    "               transition_type=TransitionType.T),\n",
    "    Transition(origin='I_1', destination='I_2', equation='p_1*I_1',\n",
    "               transition_type=TransitionType.T),\n",
    "    Transition(origin='I_2', destination='I_3', equation='p_2*I_2',\n",
    "               transition_type=TransitionType.T),\n",
    "    Transition(origin='I_3', destination='D', equation='mu*I_3',\n",
    "               transition_type=TransitionType.T)    \n",
    "    ]\n",
    "\n",
    "\n",
    "SCEIR_model = DeterministicOde(state, param_list, transition=transition)"
   ]
  },
  {
   "cell_type": "code",
   "execution_count": null,
   "metadata": {
    "hidden": true
   },
   "outputs": [],
   "source": [
    "# display equations\n",
    "print_ode2(SCEIR_model)"
   ]
  },
  {
   "cell_type": "code",
   "execution_count": null,
   "metadata": {
    "hidden": true
   },
   "outputs": [],
   "source": [
    "# display graphical representation of the model\n",
    "SCEIR_model.get_transition_graph()"
   ]
  },
  {
   "cell_type": "markdown",
   "metadata": {
    "colab_type": "text",
    "heading_collapsed": true,
    "id": "wAb1ddE0gwhA"
   },
   "source": [
    "## SCCEIR model with caution distinguished $E$ and  𝐼1\n",
    "\n",
    "### Equations\n",
    "\n",
    "\\begin{equation}\n",
    "\\begin{split}\n",
    "\\dot{S} &= -(\\beta_1 (I_1 + c_0 I_{1c}) +\\beta_2 I_2 + \\beta_3 I_3) S + c_1 S_c - c_2*S*I_3\\\\\n",
    "\\dot{S_c} &= - c_0(\\beta_1 (I_1 + c_0 I_{1c}) +\\beta_2 I_2 + \\beta_3 I_3) S_c - c_1 S_c + c_2*S*I_3\\\\\n",
    "\\dot{E} &=(\\beta_1 (I_1 + c_0 I_{1c}) +\\beta_2 I_2 + \\beta_3 I_3 ) S - a E \\\\\n",
    "\\dot{E_c} &=(\\beta_1 (I_1 + c_0 I_{1c}) +\\beta_2 I_2 + \\beta_3 I_3 ) c_0 S_c - a E \\\\\n",
    "\\dot{I_1} &= a E - \\gamma_1 I_1 - p_1 I_1 \\\\\n",
    "\\dot{I_{1c}} &= a E_c - \\gamma_1 I_{1c} - p_1 I_{1c} \\\\\n",
    "\\dot{I_2} &= p_1 (I_1 + I_{1c}) -\\gamma_2 I_2 - p_2 I_2 \\\\\n",
    "\\dot{I_3} & = p_2 I_2 -\\gamma_3 I_3 - \\mu I_3 \\\\\n",
    "\\dot{R} & = \\gamma_1 (I_1 + I_{1c}) + \\gamma_2 I_2 + \\gamma_3 I_3 \\\\\n",
    "\\dot{D} & = \\mu I_3\n",
    "\\end{split}\n",
    "\\end{equation}\n",
    "\n",
    "The use of I_3 as a state variable triggering susceptibles to execute caution is just one choice. In contrast with deaths, it does not accumulate over time and so retains the property of an active threat to society, rather than an historical one.\n",
    "\n",
    "Here, the effect of caution is quadratic, since both the individual doing the infection and individual potentially being infected may be executing caution. To implement this we distinguish careful and non careful exposed and infectives up to the I_1 level. Once in hospital there is no difference, since all caution is executed wrt infected patients.\n",
    "We ignore transition in caution among infected intervals as a second order effect: could be included as in SCICR model.\n",
    "\n",
    "\n",
    "### Variables\n",
    "* $S$: Susceptible individuals living as normal\n",
    "* $S_c$: Susceptible individuals exercising pandemy precautions\n",
    "* $E$: Exposed individuals living as normal - infected but not yet infectious or symptomatic\n",
    "* $E_c$: Exposed individuals exercising pandemy precautions\n",
    "* $I_i$: Infected individuals in severity class $i$. Severity increaes with $i$ and we assume individuals must pass through all previous classes. Split non hospital cases by caution.\n",
    "  * $I_1$: Mild infection (hospitalization not required), living as normal\n",
    "  * $I_{1c}$: Mild infection (hospitalization not required), exercising caution\n",
    "  * $I_2$: Severe infection (hospitalization required)\n",
    "  * $I_3$: Critical infection (ICU required)\n",
    "* $R$: individuals who have recovered from disease and are now immune\n",
    "* $D$: Dead individuals\n",
    "* $N=S+S_c+E+E_c+I_{1c}+I_1+I_2+I_3+R+D$ Total population size (constant)\n",
    "\n",
    "### Parameters\n",
    "* $\\beta_i$ rate at which infected individuals in class $I_i$ contact susceptibles and infect them\n",
    "* $a$ rate of progression from the exposed to infected class\n",
    "* $\\gamma_i$ rate at which infected individuals in class $I_i$ recover from disease and become immune\n",
    "* $p_i$ rate at which infected individuals in class $I_i$ progress to class $I_{I+1}$\n",
    "* $\\mu$ death rate for individuals in the most severe stage of disease\n",
    "\n",
    "* $c_i$ three parameters characterizing cautionary response of population via class $S_c$\n",
    "\n",
    "    - c_0 : reduction factor for exposure for cautioned susceptibles\n",
    "\n",
    "    - c_1 : duration of caution (exponential decay time constant in days)\n",
    "\n",
    "    - c_2 : rate constant for transition from uncautioned to cautioned susceptible"
   ]
  },
  {
   "cell_type": "markdown",
   "metadata": {
    "hidden": true,
    "slideshow": {
     "slide_type": "slide"
    }
   },
   "source": [
    "###  Implementation of SCCEIR model"
   ]
  },
  {
   "cell_type": "code",
   "execution_count": null,
   "metadata": {
    "hidden": true
   },
   "outputs": [],
   "source": [
    "# import required packages\n",
    "import os \n",
    "from sympy import symbols, init_printing\n",
    "import numpy as np\n",
    "import matplotlib.pyplot as plt\n",
    "import sympy\n",
    "import itertools\n",
    "import scipy\n",
    "from pygom import DeterministicOde, Transition, SimulateOde, TransitionType, SquareLoss\n",
    "from scipy.optimize import minimize\n",
    "from scipy.integrate import odeint"
   ]
  },
  {
   "cell_type": "code",
   "execution_count": null,
   "metadata": {
    "hidden": true
   },
   "outputs": [],
   "source": [
    "# set up the symbolic SCCEIR model\n",
    "\n",
    "state = ['S', 'E', 'I_1', 'I_2','I_3', 'R', 'D', 'S_c', 'E_c','I_c']\n",
    "param_list = ['beta_1', 'beta_2','beta_3','alpha', 'gamma_1', 'gamma_2', 'gamma_3',\n",
    "              'p_1','p_2','mu','c_0','c_1','c_2','N']\n",
    "\n",
    "transition = [\n",
    "    Transition(origin='S', destination='E', equation='(beta_1*I_1+beta_2*I_2+beta_3*I_3+c_0*beta_1*I_c)*S',\n",
    "               transition_type=TransitionType.T),\n",
    "    Transition(origin='S_c', destination='E_c', equation='c_0*(beta_1*I_1+beta_2*I_2+beta_3*I_3+c_0*beta_1*I_c)*S_c',\n",
    "               transition_type=TransitionType.T),\n",
    "    Transition(origin='S', destination='S_c', equation='c_2*I_3*S',\n",
    "               transition_type=TransitionType.T),\n",
    "    Transition(origin='S_c', destination='S', equation='c_1*S_c',\n",
    "               transition_type=TransitionType.T),\n",
    "    Transition(origin='E', destination='I_1', equation='alpha*E',\n",
    "               transition_type=TransitionType.T),\n",
    "    Transition(origin='E_c', destination='I_c', equation='alpha*E',\n",
    "               transition_type=TransitionType.T),\n",
    "    Transition(origin='I_1', destination='R', equation='gamma_1*I_1',\n",
    "               transition_type=TransitionType.T),\n",
    "    Transition(origin='I_c', destination='R', equation='gamma_1*I_c',\n",
    "               transition_type=TransitionType.T),\n",
    "    Transition(origin='I_2', destination='R', equation='gamma_2*I_2',\n",
    "               transition_type=TransitionType.T),\n",
    "    Transition(origin='I_3', destination='R', equation='gamma_3*I_3',\n",
    "               transition_type=TransitionType.T),\n",
    "    Transition(origin='I_1', destination='I_2', equation='p_1*I_1',\n",
    "               transition_type=TransitionType.T),\n",
    "    Transition(origin='I_c', destination='I_2', equation='p_1*I_c',\n",
    "               transition_type=TransitionType.T),\n",
    "    Transition(origin='I_2', destination='I_3', equation='p_2*I_2',\n",
    "               transition_type=TransitionType.T),\n",
    "    Transition(origin='I_3', destination='D', equation='mu*I_3',\n",
    "               transition_type=TransitionType.T)    \n",
    "    ]\n",
    "\n",
    "\n",
    "SCCEIR_model = DeterministicOde(state, param_list, transition=transition)"
   ]
  },
  {
   "cell_type": "code",
   "execution_count": null,
   "metadata": {
    "hidden": true
   },
   "outputs": [],
   "source": [
    "# display equations\n",
    "print_ode2(SCCEIR_model)"
   ]
  },
  {
   "cell_type": "code",
   "execution_count": null,
   "metadata": {
    "hidden": true
   },
   "outputs": [],
   "source": [
    "# display graphical representation of the model\n",
    "SCCEIR_model.get_transition_graph()"
   ]
  },
  {
   "cell_type": "markdown",
   "metadata": {
    "heading_collapsed": true
   },
   "source": [
    "# Extract data from Johns Hopkins data base"
   ]
  },
  {
   "cell_type": "markdown",
   "metadata": {
    "heading_collapsed": true,
    "hidden": true
   },
   "source": [
    "## Definition of data extraction fuctions get_data and get_country_data"
   ]
  },
  {
   "cell_type": "code",
   "execution_count": 14,
   "metadata": {
    "hidden": true
   },
   "outputs": [
    {
     "data": {
      "text/html": [
       "<style>.container { width:100% !important; }</style>"
      ],
      "text/plain": [
       "<IPython.core.display.HTML object>"
      ]
     },
     "metadata": {},
     "output_type": "display_data"
    }
   ],
   "source": [
    "import numpy as np\n",
    "import csv\n",
    "import itertools\n",
    "import matplotlib\n",
    "%matplotlib inline\n",
    "import seaborn as sb\n",
    "from matplotlib import pyplot as plt\n",
    "from cycler import cycler\n",
    "import datetime\n",
    "import matplotlib.dates as mdates\n",
    "from pandas.plotting import register_matplotlib_converters\n",
    "register_matplotlib_converters()\n",
    "import pwlf\n",
    "import sys\n",
    "from IPython.core.display import display, HTML\n",
    "display(HTML(\"<style>.container { width:100% !important; }</style>\"))"
   ]
  },
  {
   "cell_type": "code",
   "execution_count": 15,
   "metadata": {
    "hidden": true
   },
   "outputs": [],
   "source": [
    "def get_data(jhu_file):\n",
    "    dat = []\n",
    "    with open(jhu_file, newline='') as csvfile:\n",
    "        myreader = csv.reader(csvfile, delimiter=',')\n",
    "        popdat = []\n",
    "        i = 0\n",
    "        for row in myreader:\n",
    "            if i != 0:\n",
    "                poplist = []\n",
    "                j = 0\n",
    "                for elt in row:\n",
    "                    if j >= 4:\n",
    "                        poplist.append(int(elt))\n",
    "                    elif j == 0:\n",
    "                        poplist.append(elt)\n",
    "                    elif j == 1:\n",
    "                        poplist[0]=(elt,poplist[0])\n",
    "                    j = j+1\n",
    "                popdat.append(poplist)\n",
    "            else:\n",
    "                popdat.append(row)\n",
    "            # print(popdat[i])\n",
    "            i = i + 1;\n",
    "    # dates\n",
    "    popdat0=['dates']\n",
    "    for elt in popdat[0][4:]:\n",
    "        popdat0.append(elt)\n",
    "    popdat[0] = [pop for pop in popdat0]\n",
    "    # print('popdat[0]',popdat[0])\n",
    "    # totals over all countries\n",
    "    totals = np.zeros(len(popdat[0])-1,dtype=int)\n",
    "    for row in popdat[1:]:\n",
    "        totals = totals + np.array(row[1:])\n",
    "    totals = list(np.asarray(totals))\n",
    "    # print(totals)\n",
    "    popkeyed = {poplist[0]: poplist[1:] for poplist in popdat}\n",
    "    popkeyed.update({'dates':popdat[0][1:]})\n",
    "    popkeyed.update({('World',''):totals})\n",
    "    # del popkeyed[('d','a')]\n",
    "    # assemble totals for countries with multiple regions\n",
    "    total = np.zeros(len(popkeyed['dates']),dtype=int)\n",
    "    poptotkeyed = {}\n",
    "    for country,tseries in popkeyed.items():\n",
    "        if country!='dates' and country[1] != '': # it seems that UK is single exception with both '' and non '' regions, UK total is then UK overseas\n",
    "            countrytotal = (country[0],'Total')\n",
    "            if countrytotal in poptotkeyed:\n",
    "                # print(country,popkeyed[country],poptotkeyed[countrytotal])\n",
    "                total = np.array(tseries)[:]+np.array(poptotkeyed[countrytotal])[:]\n",
    "            else:\n",
    "                total =  np.array(tseries)                        \n",
    "            poptotkeyed.update({countrytotal:list(total)})\n",
    "    for countrytotal,tseries in poptotkeyed.items():\n",
    "        total = np.array(tseries)\n",
    "        popkeyed.update({countrytotal:list(total)})\n",
    "    return popkeyed"
   ]
  },
  {
   "cell_type": "code",
   "execution_count": 17,
   "metadata": {
    "hidden": true
   },
   "outputs": [],
   "source": [
    "def Float(x):\n",
    "    try:\n",
    "        rtn = float(x)\n",
    "    except:\n",
    "        rtn = float('NaN')\n",
    "    return rtn"
   ]
  },
  {
   "cell_type": "code",
   "execution_count": 18,
   "metadata": {
    "hidden": true
   },
   "outputs": [],
   "source": [
    " def get_country_data(country_s='World', datatype='confirmed', firstdate=None, lastdate=None):\n",
    "    if isinstance(country_s,str):\n",
    "        country = (country_s,'')\n",
    "    else:                               # single ('country','reg') entry\n",
    "        country = country_s\n",
    "    popkeyed = covid_ts[datatype]\n",
    "    \n",
    "    dates = popkeyed['dates']\n",
    "    fmt = '%m/%d/%y'\n",
    "    xx = [datetime.datetime.strptime(dd,fmt) for dd in dates ]\n",
    "    if firstdate:\n",
    "        firstdate_d = datetime.datetime.strptime(firstdate,fmt)\n",
    "    else:\n",
    "        firstdate_d = datetime.datetime.strptime(dates[0],fmt)\n",
    "    if lastdate:\n",
    "        lastdate_d = datetime.datetime.strptime(lastdate,fmt)\n",
    "    else:\n",
    "        lastdate_d = datetime.datetime.strptime(dates[-1],fmt)    \n",
    "    daystart = (firstdate_d-xx[0]).days\n",
    "    daystop = (lastdate_d-xx[-1]).days\n",
    "\n",
    "    try:\n",
    "        yy = popkeyed[country]\n",
    "        # print(country)\n",
    "    except:\n",
    "            print('country data not found',country)\n",
    "            return None,None      \n",
    "    yyf = [Float(y) for y in yy]\n",
    "\n",
    "    yy0 = []\n",
    "    yy1 = []  \n",
    "    if daystart>len(yyf):\n",
    "        print('Error: start date does not overlap with available data')\n",
    "        return None,None\n",
    "    elif daystart>0:\n",
    "        yyf = yyf[daystart:]\n",
    "    elif daystart <0:\n",
    "        yy0 = [0.]*(-daystart)\n",
    "        \n",
    "    if daystop < 0:\n",
    "        yyf = yyf[:daystop]  \n",
    "    elif daystop > 0:\n",
    "        yy1 = [0.]*(daystop)\n",
    "    yyf = yy0 + yyf + yy1\n",
    "    xxf = [float(x) for x in range(len(yyf))]\n",
    "    return xxf,yyf "
   ]
  },
  {
   "cell_type": "markdown",
   "metadata": {
    "heading_collapsed": true,
    "hidden": true
   },
   "source": [
    "## JHU data"
   ]
  },
  {
   "cell_type": "code",
   "execution_count": 28,
   "metadata": {
    "hidden": true
   },
   "outputs": [
    {
     "name": "stdout",
     "output_type": "stream",
     "text": [
      "number of countries listed 274\n"
     ]
    }
   ],
   "source": [
    "base = '../../covid-19-JH/csse_covid_19_data/csse_covid_19_time_series/'\n",
    "confirmed = get_data(base+'time_series_covid19_confirmed_global.csv')\n",
    "deaths = get_data(base+'time_series_covid19_deaths_global.csv')\n",
    "recovered = get_data(base+'time_series_covid19_recovered_global.csv')\n",
    "covid_ts = {'confirmed':confirmed,'deaths':deaths,'recovered':recovered}\n",
    "countries_jhu = [(row[0],row[1]) for row in confirmed][1:]\n",
    "print(\"number of countries listed\",len(countries_jhu))\n",
    "i=0\n",
    "for country in countries_jhu:\n",
    "#    print(i,country)\n",
    "    i = i + 1"
   ]
  },
  {
   "cell_type": "markdown",
   "metadata": {
    "heading_collapsed": true,
    "hidden": true
   },
   "source": [
    "## Get data for one country"
   ]
  },
  {
   "cell_type": "code",
   "execution_count": 30,
   "metadata": {
    "hidden": true,
    "scrolled": false
   },
   "outputs": [
    {
     "name": "stdout",
     "output_type": "stream",
     "text": [
      "days 0 to 135 data stored in y_jhu\n"
     ]
    }
   ],
   "source": [
    "# Italy assumed data starting on firstdate\n",
    "N = 60000000\n",
    "firstdate = '01/25/20'\n",
    "lastdate = '06/07/20'\n",
    "xxf,yy = get_country_data('Italy','confirmed',firstdate=firstdate,lastdate=lastdate)\n",
    "# print(xxf)\n",
    "xxf,yy1 = get_country_data('Italy','recovered',firstdate=firstdate,lastdate=lastdate)\n",
    "xxf,yy2 = get_country_data('Italy','deaths',firstdate=firstdate,lastdate=lastdate)\n",
    "y_jhu = np.array([[yy1[i],yy2[i]] for i in range(0,len(yy))])/N\n",
    "data = np.array([[xxf[i],yy1[i],yy2[i]] for i in range(len(yy))])\n",
    "# print(data)\n",
    "lastday = len(y_jhu)\n",
    "print('days 0 to',lastday,'data stored in y_jhu')"
   ]
  },
  {
   "cell_type": "markdown",
   "metadata": {},
   "source": [
    "# Simulation"
   ]
  },
  {
   "cell_type": "markdown",
   "metadata": {
    "heading_collapsed": true
   },
   "source": [
    "## Simulation of SCIR model"
   ]
  },
  {
   "cell_type": "code",
   "execution_count": 20,
   "metadata": {
    "hidden": true
   },
   "outputs": [
    {
     "name": "stdout",
     "output_type": "stream",
     "text": [
      "{'beta': 0.25, 'gamma': 0.1, 'mu': 0.029411764705882353, 'c_0': 0.4, 'c_1': 0.047619047619047616, 'c_2': 2000.0, 'N': 1.0}\n"
     ]
    },
    {
     "data": {
      "image/png": "[encoded data removed]",
      "text/plain": [
       "<Figure size 432x288 with 6 Axes>"
      ]
     },
     "metadata": {
      "needs_background": "light"
     },
     "output_type": "display_data"
    },
    {
     "name": "stdout",
     "output_type": "stream",
     "text": [
      "Peak infection (days) 134.0\n"
     ]
    }
   ],
   "source": [
    "# setup time points for simulation, initial conditions and parameters\n",
    "t = np.linspace(0, lastday -1, lastday)\n",
    "\n",
    "# initial conditions assuming there is no natural immunity\n",
    "I_0 =  0.00003\n",
    "x0_SCIR = [1.0-I_0, I_0, 0.0, 0.0, 0.0]\n",
    "\n",
    "# Define parameters based on clinical observations Dr. Alison\n",
    "Exposure=0.25 # Rate coefficient for exposure per individual in contact per day\n",
    "IncubPeriod=5  #Incubation period, days\n",
    "DurInf=10 #Duration of mild infections, days\n",
    "FracCritical=0.1 #Fraction of infections that are critical\n",
    "CFR=0.05 #Case fatality rate (fraction of infections resulting in death)\n",
    "TimeDeath=DurInf+7 #Time from ICU admission to death, days\n",
    "\n",
    "# Model extension by John McCaskill to include caution \n",
    "CautionFactor= 0.4 # Fractional reduction of exposure rate for cautioned individuals\n",
    "CautionRetention= 21. # Duration of cautionary state of susceptibles (2 weeks)\n",
    "CautionICUFrac= 0.25 # Fraction of ICUs occupied leading to transition to caution @ 1/day\n",
    "ICUFrac= 0.002 # Fraction of ICUs relative to population size N\n",
    "\n",
    "# Model fitting extension to allow for incomplete detection\n",
    "FracConfirmedDet=0.125  # Fraction of recovered individuals measured\n",
    "FracRecoveredDet=FracConfirmedDet # Fraction of recovered individuals measured\n",
    "FracDeathsDet=1.0\n",
    "\n",
    "# convert above parameters to model parameters\n",
    "params = {'beta' : Exposure/sum(x0_SCIR),\n",
    "          'gamma': (1.0/DurInf),\n",
    "          'mu'    : (1.0/TimeDeath)*(CFR/FracCritical),\n",
    "          'c_0'    : CautionFactor,\n",
    "          'c_1'    : 1.0/CautionRetention,\n",
    "          'c_2'    : 1.0/(sum(x0_SCIR)*ICUFrac*CautionICUFrac),\n",
    "          'N'     : sum(x0_SCIR)}\n",
    "print(params)\n",
    "# assign x0 and params to the model, integrate over t and plot\n",
    "SCIR_model.initial_values = (x0_SCIR, t[0])\n",
    "SCIR_model.parameters = params\n",
    "solution = SCIR_model.integrate(t[1::])\n",
    "\n",
    "SCIR_model.plot()\n",
    "\n",
    "# calculate time point when maximum number of people are infectious\n",
    "peak_i = np.argmax(solution[:,1])\n",
    "print('Peak infection (days)', t[peak_i])"
   ]
  },
  {
   "cell_type": "markdown",
   "metadata": {
    "hidden": true
   },
   "source": [
    "### Integration and plot using scipy and matplotlib directly"
   ]
  },
  {
   "cell_type": "code",
   "execution_count": 21,
   "metadata": {
    "hidden": true
   },
   "outputs": [
    {
     "data": {
      "text/plain": [
       "<matplotlib.legend.Legend at 0x131915450>"
      ]
     },
     "execution_count": 21,
     "metadata": {},
     "output_type": "execute_result"
    },
    {
     "data": {
      "image/png": "[encoded data removed]",
      "text/plain": [
       "<Figure size 1080x504 with 2 Axes>"
      ]
     },
     "metadata": {
      "needs_background": "light"
     },
     "output_type": "display_data"
    }
   ],
   "source": [
    "solution1 = scipy.integrate.odeint(SCIR_model.ode, x0_SCIR, t[1::])\n",
    "ys = solution1.copy()\n",
    "plt.figure(figsize=(15,7))\n",
    "plt.subplot(1,2,1)\n",
    "plt.xlabel(\"Time (days)\")\n",
    "plt.ylabel(\"Number per 1000000 People\")\n",
    "plt.ylim([0,0.001])\n",
    "plt.plot(t[1::],ys,label=(\"S\",\"I\",\"R\",\"D\",\"Sc\"))\n",
    "plt.legend((\"S\",\"I\",\"R\",\"D\",\"Sc\"))\n",
    "plt.subplot(1,2,2)\n",
    "plt.xlabel(\"Time (days)\")\n",
    "plt.ylabel(\"Number per 1000000 People\")\n",
    "plt.ylim([0.000001,1])\n",
    "plt.semilogy()\n",
    "plt.plot(t[1::],ys,label=(\"S\",\"I\",\"R\",\"D\",\"Sc\"))\n",
    "plt.legend((\"S\",\"I\",\"R\",\"D\",\"Sc\"))"
   ]
  },
  {
   "cell_type": "markdown",
   "metadata": {
    "hidden": true
   },
   "source": [
    "### Compare data with SCIR simulation"
   ]
  },
  {
   "cell_type": "code",
   "execution_count": 22,
   "metadata": {
    "hidden": true,
    "scrolled": true
   },
   "outputs": [
    {
     "name": "stdout",
     "output_type": "stream",
     "text": [
      "{'beta': 0.25, 'gamma': 0.1, 'mu': 0.029411764705882353, 'c_0': 0.4, 'c_1': 0.047619047619047616, 'c_2': 2000.0, 'N': 1.0}\n",
      "0.4 0.047619047619047616\n",
      "[0.99997, 3e-05, 0.0, 0.0, 0.0]\n",
      "135\n",
      "Peak infection (days) 133.0\n"
     ]
    },
    {
     "data": {
      "image/png": "[encoded data removed]",
      "text/plain": [
       "<Figure size 1080x720 with 1 Axes>"
      ]
     },
     "metadata": {
      "needs_background": "light"
     },
     "output_type": "display_data"
    }
   ],
   "source": [
    "# model with generating parameters \n",
    "print(params)\n",
    "params_fit = params.copy()\n",
    "print(params_fit['c_0'],params_fit['c_1'])\n",
    "SCIR_model.params = params_fit\n",
    "x0_fit = x0_SCIR.copy()\n",
    "print(x0_fit)\n",
    "t_fit = t\n",
    "print(len(t))\n",
    "SCIR_model.initial_values = (x0_fit, t_fit[0])\n",
    "sol_fit = scipy.integrate.odeint(SCIR_model.ode, x0_fit, t_fit[1::])\n",
    "plt.figure(figsize=(15,10))\n",
    "plt.plot(t,y_jhu[:,0]/FracRecoveredDet, 'bo',label='R') # recovered\n",
    "plt.plot(t,y_jhu[:,1], 'ro',label='D') # died\n",
    "plt.gca().set_prop_cycle(color=['grey','orange','green','green','green','blue','red', 'black'])\n",
    "plt.plot(t_fit[1::], sol_fit)\n",
    "plt.ylim([0,0.02])\n",
    "plt.legend()\n",
    "peak_i = np.argmax(sol_fit[:,2])\n",
    "print('Peak infection (days)', t_fit[peak_i])"
   ]
  },
  {
   "cell_type": "markdown",
   "metadata": {},
   "source": [
    "## Simulation of SCICR model"
   ]
  },
  {
   "cell_type": "code",
   "execution_count": 23,
   "metadata": {},
   "outputs": [
    {
     "name": "stdout",
     "output_type": "stream",
     "text": [
      "{'beta': 0.25, 'gamma': 0.1, 'mu': 0.029411764705882353, 'c_0': 0.4, 'c_1': 0.047619047619047616, 'c_2': 2000.0, 'N': 1.0}\n"
     ]
    },
    {
     "data": {
      "image/png": "[encoded data removed]",
      "text/plain": [
       "<Figure size 432x288 with 6 Axes>"
      ]
     },
     "metadata": {
      "needs_background": "light"
     },
     "output_type": "display_data"
    },
    {
     "name": "stdout",
     "output_type": "stream",
     "text": [
      "Peak infection (days) 5.0\n"
     ]
    }
   ],
   "source": [
    "# setup time points for simulation, initial conditions and parameters\n",
    "t = np.linspace(0, lastday -1, lastday)\n",
    "\n",
    "# initial conditions assuming there is no natural immunity\n",
    "I_0 =  0.00003\n",
    "x0_SCICR = [1.0-I_0, I_0, 0.0, 0.0, 0.0, 0.0]\n",
    "\n",
    "# Define parameters based on clinical observations Dr. Alison\n",
    "Exposure=0.25 # Rate coefficient for exposure per individual in contact per day\n",
    "IncubPeriod=5  #Incubation period, days\n",
    "DurInf=10 #Duration of mild infections, days\n",
    "FracCritical=0.1 #Fraction of infections that are critical\n",
    "CFR=0.05 #Case fatality rate (fraction of infections resulting in death)\n",
    "TimeDeath=DurInf+7 #Time from ICU admission to death, days\n",
    "\n",
    "# Model extension by John McCaskill to include caution \n",
    "CautionFactor= 0.4 # Fractional reduction of exposure rate for cautioned individuals\n",
    "CautionRetention= 21. # Duration of cautionary state of susceptibles (2 weeks)\n",
    "CautionICUFrac= 0.25 # Fraction of ICUs occupied leading to transition to caution @ 1/day\n",
    "ICUFrac= 0.002 # Fraction of ICUs relative to population size N\n",
    "\n",
    "# Model fitting extension to allow for incomplete detection\n",
    "FracConfirmedDet=0.125  # Fraction of recovered individuals measured\n",
    "FracRecoveredDet=FracConfirmedDet # Fraction of recovered individuals measured\n",
    "FracDeathsDet=1.0\n",
    "\n",
    "# convert above parameters to model parameters\n",
    "params = {'beta' : Exposure/sum(x0_SCICR),\n",
    "          'gamma': (1.0/DurInf),\n",
    "          'mu'    : (1.0/TimeDeath)*(CFR/FracCritical),\n",
    "          'c_0'    : CautionFactor,\n",
    "          'c_1'    : 1.0/CautionRetention,\n",
    "          'c_2'    : 1.0/(sum(x0_SCICR)*ICUFrac*CautionICUFrac),\n",
    "          'N'     : sum(x0_SCICR)}\n",
    "print(params)\n",
    "# assign x0 and params to the model, integrate over t and plot\n",
    "SCICR_model.initial_values = (x0_SCICR, t[0])\n",
    "SCICR_model.parameters = params\n",
    "solution = SCICR_model.integrate(t[1::])\n",
    "\n",
    "SCICR_model.plot()\n",
    "\n",
    "# calculate time point when maximum number of people are infectious\n",
    "peak_i = np.argmax(solution[:,1])\n",
    "print('Peak infection (days)', t[peak_i])"
   ]
  },
  {
   "cell_type": "markdown",
   "metadata": {},
   "source": [
    "### Integration and plot using scipy and matplotlib directly"
   ]
  },
  {
   "cell_type": "code",
   "execution_count": 24,
   "metadata": {},
   "outputs": [
    {
     "data": {
      "text/plain": [
       "<matplotlib.legend.Legend at 0x12f675bd0>"
      ]
     },
     "execution_count": 24,
     "metadata": {},
     "output_type": "execute_result"
    },
    {
     "data": {
      "image/png": "[encoded data removed]",
      "text/plain": [
       "<Figure size 1080x504 with 2 Axes>"
      ]
     },
     "metadata": {
      "needs_background": "light"
     },
     "output_type": "display_data"
    }
   ],
   "source": [
    "solution1 = scipy.integrate.odeint(SCICR_model.ode, x0_SCICR, t[1::])\n",
    "ys = solution1.copy()\n",
    "plt.figure(figsize=(15,7))\n",
    "plt.subplot(1,2,1)\n",
    "plt.xlabel(\"Time (days)\")\n",
    "plt.ylabel(\"Number per 1000000 People\")\n",
    "plt.ylim([0,0.001])\n",
    "plt.plot(t[1::],ys,label=(\"S\",\"I\",\"R\",\"D\",\"Sc\"))\n",
    "plt.legend((\"S\",\"I\",\"R\",\"D\",\"Sc\"))\n",
    "plt.subplot(1,2,2)\n",
    "plt.xlabel(\"Time (days)\")\n",
    "plt.ylabel(\"Number per 1000000 People\")\n",
    "plt.ylim([0.000001,1])\n",
    "plt.semilogy()\n",
    "plt.plot(t[1::],ys,label=(\"S\",\"I\",\"R\",\"D\",\"Sc\"))\n",
    "plt.legend((\"S\",\"I\",\"R\",\"D\",\"Sc\"))"
   ]
  },
  {
   "cell_type": "markdown",
   "metadata": {},
   "source": [
    "### Compare data with SCICR simulation"
   ]
  },
  {
   "cell_type": "code",
   "execution_count": 25,
   "metadata": {
    "scrolled": true
   },
   "outputs": [
    {
     "name": "stdout",
     "output_type": "stream",
     "text": [
      "{'beta': 0.25, 'gamma': 0.1, 'mu': 0.029411764705882353, 'c_0': 0.4, 'c_1': 0.047619047619047616, 'c_2': 2000.0, 'N': 1.0}\n",
      "0.4 0.047619047619047616\n",
      "[0.99997, 3e-05, 0.0, 0.0, 0.0, 0.0]\n",
      "135\n",
      "Peak infection (days) 133.0\n"
     ]
    },
    {
     "data": {
      "image/png": "[encoded data removed]",
      "text/plain": [
       "<Figure size 1080x720 with 1 Axes>"
      ]
     },
     "metadata": {
      "needs_background": "light"
     },
     "output_type": "display_data"
    }
   ],
   "source": [
    "# model with generating parameters \n",
    "print(params)\n",
    "params_fit = params.copy()\n",
    "print(params_fit['c_0'],params_fit['c_1'])\n",
    "SCICR_model.params = params_fit\n",
    "\n",
    "x0_fit = x0_SCICR.copy()\n",
    "print(x0_fit)\n",
    "t_fit = t\n",
    "print(len(t))\n",
    "SCICR_model.initial_values = (x0_fit, t_fit[0])\n",
    "sol_fit = scipy.integrate.odeint(SCICR_model.ode, x0_fit, t_fit[1::])\n",
    "#\n",
    "plt.figure(figsize=(15,10))\n",
    "plt.plot(t,y_jhu[:,0]/FracRecoveredDet, 'bo',label='R') # recovered\n",
    "plt.plot(t,y_jhu[:,1], 'ro',label='D') # died\n",
    "plt.gca().set_prop_cycle(color=['grey','orange','green','green','green','blue','red', 'black'])\n",
    "plt.plot(t_fit[1::], sol_fit)\n",
    "plt.ylim([0,0.02])\n",
    "plt.legend()\n",
    "#plt.show(())\n",
    "#ode_fit.plot()\n",
    "\n",
    "peak_i = np.argmax(sol_fit[:,2])\n",
    "print('Peak infection (days)', t_fit[peak_i])"
   ]
  },
  {
   "cell_type": "markdown",
   "metadata": {
    "heading_collapsed": true
   },
   "source": [
    "## Simulation of SCEIR model"
   ]
  },
  {
   "cell_type": "code",
   "execution_count": null,
   "metadata": {
    "hidden": true
   },
   "outputs": [],
   "source": [
    "# setup time points for simulation, initial conditions and parameters\n",
    "t = np.linspace(0, lastday -1, lastday)\n",
    "\n",
    "# initial conditions assuming there is no natural immunity\n",
    "E_0 =  0.00003\n",
    "x0_SCEIR = [1.0-E_0, E_0, 0.0, 0.0, 0.0, 0.0, 0.0, 0.0]\n",
    "\n",
    "# Define parameters based on clinical observations Dr. Alison\n",
    "Exposure=0.25 # Rate coefficient for exposure per individual in contact per day\n",
    "IncubPeriod=5  #Incubation period, days\n",
    "DurMildInf=10 #Duration of mild infections, days\n",
    "FracMild=0.70  #Fraction of infections that are mild\n",
    "FracSevere=0.20 #Fraction of infections that are severe\n",
    "FracCritical=0.1 #Fraction of infections that are critical\n",
    "CFR=0.05 #Case fatality rate (fraction of infections resulting in death)\n",
    "TimeICUDeath=7 #Time from ICU admission to death, days\n",
    "DurHosp=11 #Duration of hospitalization, days\n",
    "\n",
    "# Model extension by John McCaskill to include caution \n",
    "CautionFactor= 0.4 # Fractional reduction of exposure rate for cautioned individuals\n",
    "CautionRetention= 21. # Duration of cautionary state of susceptibles (2 weeks)\n",
    "CautionICUFrac= 0.25 # Fraction of ICUs occupied leading to transition to caution @ 1/day\n",
    "ICUFrac= 0.002 # Fraction of ICUs relative to population size N\n",
    "\n",
    "# Model fitting extension to allow for incomplete detection\n",
    "FracConfirmedDet=0.125  # Fraction of recovered individuals measured\n",
    "FracRecoveredDet=FracConfirmedDet # Fraction of recovered individuals measured\n",
    "FracDeathsDet=1.0\n",
    "\n",
    "# convert above parameters to model parameters\n",
    "params = {'beta_1' : Exposure/sum(x0_SCEIR),\n",
    "          'beta_2' : 0.0,\n",
    "          'beta_3' : 0.0,\n",
    "          'alpha' : 1.0/IncubPeriod,\n",
    "          'gamma_1': (1.0/DurMildInf)*FracMild,\n",
    "          'gamma_2': (1.0/DurHosp)-(1/DurHosp)*(FracCritical/(FracCritical+FracSevere)),\n",
    "          'gamma_3': (1.0/TimeICUDeath)-(1/TimeICUDeath)*(CFR/FracCritical),\n",
    "          'p_1'    : (1.0/DurMildInf)-(1.0/DurMildInf)*FracMild,\n",
    "          'p_2'    : (1.0/DurHosp)*(FracCritical/(FracCritical+FracSevere)),\n",
    "          'mu'    : (1.0/TimeICUDeath)*(CFR/FracCritical),\n",
    "          'c_0'    : CautionFactor,\n",
    "          'c_1'    : 1.0/CautionRetention,\n",
    "          'c_2'    : 1.0/(sum(x0_SCEIR)*ICUFrac*CautionICUFrac),\n",
    "          'N'     : sum(x0_SCEIR)}\n",
    "print(params)\n",
    "# assign x0 and params to the model, integrate over t and plot\n",
    "SCEIR_model.initial_values = (x0_SCEIR, t[0])\n",
    "SCEIR_model.parameters = params\n",
    "solution = SCEIR_model.integrate(t[1::])\n",
    "\n",
    "SCEIR_model.plot()\n",
    "\n",
    "# calculate time point when maximum number of people are infectious\n",
    "peak_i = np.argmax(solution[:,2])\n",
    "print('Peak infection (days)', t[peak_i])"
   ]
  },
  {
   "cell_type": "markdown",
   "metadata": {
    "hidden": true
   },
   "source": [
    "### Compare data with SCEIR simulation"
   ]
  },
  {
   "cell_type": "code",
   "execution_count": null,
   "metadata": {
    "hidden": true,
    "scrolled": true
   },
   "outputs": [],
   "source": [
    "# model with generating parameters \n",
    "print(params)\n",
    "params_fit = params.copy()\n",
    "print(params_fit['c_0'],params_fit['c_1'])\n",
    "SCEIR_model.params = params_fit\n",
    "\n",
    "x0_fit = x0_SCEIR.copy()\n",
    "# x0_fit[2] = 0.00001\n",
    "#t_fit = numpy.linspace(0, 150, 1000)\n",
    "print(x0_fit)\n",
    "t_fit = t\n",
    "print(len(t))\n",
    "SCEIR_model.initial_values = (x0_fit, t_fit[0])\n",
    "# %timeit sol_fit =SCEIR_model.integrate(t_fit[1::]) # use magic %timeit to time\n",
    "#sol_fit =SCEIR_model.integrate(t_fit[1::])\n",
    "# sol_fit = SCEIR_model.integrate(t_fit)\n",
    "sol_fit = scipy.integrate.odeint(SCEIR_model.ode, x0_fit, t_fit[1::])\n",
    "# print(len(sol_fit[0]))\n",
    "#\n",
    "plt.figure(figsize=(15,10))\n",
    "#plt.plot(t,y_jhu[:,0], 'go',label='I_1') # infected observations\n",
    "#plt.plot(t,y_jhu[:,1], 'go',label='I_2') # infected observations\n",
    "#plt.plot(t,y_jhu[:,2], 'go',label='I_3') # infected observations\n",
    "plt.plot(t,y_jhu[:,0]/FracRecoveredDet, 'bo',label='R') # recovered\n",
    "plt.plot(t,y_jhu[:,1], 'ro',label='D') # died\n",
    "plt.gca().set_prop_cycle(color=['grey','orange','green','green','green','blue','red', 'black'])\n",
    "plt.plot(t_fit[1::], sol_fit)\n",
    "plt.ylim([0,0.06])\n",
    "plt.legend()\n",
    "#plt.show(())\n",
    "#ode_fit.plot()\n",
    "\n",
    "peak_i = np.argmax(sol_fit[:,2])\n",
    "print('Peak infection (days)', t_fit[peak_i])"
   ]
  },
  {
   "cell_type": "markdown",
   "metadata": {
    "hidden": true
   },
   "source": [
    "### Integration and plot using scipy and matplotlib directly"
   ]
  },
  {
   "cell_type": "code",
   "execution_count": null,
   "metadata": {
    "hidden": true
   },
   "outputs": [],
   "source": [
    "# solution = scipy.integrate.odeint(SCEIR_model.ode, x0, t)\n",
    "# print(len(t))\n",
    "solution1 = scipy.integrate.odeint(SCEIR_model.ode, x0_SCEIR, t[1::])\n",
    "ys = solution1.copy()\n",
    "plt.figure(figsize=(15,7))\n",
    "plt.subplot(1,2,1)\n",
    "plt.xlabel(\"Time (days)\")\n",
    "plt.ylabel(\"Number per 1000000 People\")\n",
    "plt.ylim([0,1])\n",
    "plt.legend((\"S\",\"E\",\"I1\",\"I2\",\"I3\",\"R\",\"D\",\"Sc\"))\n",
    "plt.plot(t[1::],ys)\n",
    "plt.subplot(1,2,2)\n",
    "plt.xlabel(\"Time (days)\")\n",
    "plt.ylabel(\"Number per 1000000 People\")\n",
    "plt.ylim([0.000001,1])\n",
    "plt.legend((\"S\",\"E\",\"I1\",\"I2\",\"I3\",\"R\",\"D\",\"Sc\"))\n",
    "plt.semilogy()\n",
    "plt.plot(t[1::],ys)"
   ]
  },
  {
   "cell_type": "markdown",
   "metadata": {
    "heading_collapsed": true
   },
   "source": [
    "## Simulation of SCCEIR model"
   ]
  },
  {
   "cell_type": "code",
   "execution_count": null,
   "metadata": {
    "hidden": true
   },
   "outputs": [],
   "source": [
    "# setup time points for simulation, initial conditions and parameters\n",
    "t = np.linspace(0, lastday -1, lastday)\n",
    "\n",
    "# initial conditions assuming there is no natural immunity\n",
    "E_0 =  0.00003\n",
    "x0_SCCEIR = [1.0-E_0, E_0, 0.0, 0.0, 0.0, 0.0, 0.0, 0.0, 0.0, 0.0]\n",
    "\n",
    "# Define parameters based on clinical observations Dr. Alison\n",
    "Exposure=0.25 # Rate coefficient for exposure per individual in contact per day\n",
    "IncubPeriod=5  #Incubation period, days\n",
    "DurMildInf=10 #Duration of mild infections, days\n",
    "FracMild=0.70  #Fraction of infections that are mild\n",
    "FracSevere=0.20 #Fraction of infections that are severe\n",
    "FracCritical=0.1 #Fraction of infections that are critical\n",
    "CFR=0.07 #Case fatality rate (fraction of infections resulting in death)\n",
    "TimeICUDeath=7 #Time from ICU admission to death, days\n",
    "DurHosp=11 #Duration of hospitalization, days\n",
    "\n",
    "# Model fitting extension to allow for incomplete detection\n",
    "FracConfirmedDet=0.125  # Fraction of recovered individuals measured\n",
    "FracRecoveredDet=FracConfirmedDet # Fraction of recovered individuals measured\n",
    "FracDeathsDet=1.0\n",
    "\n",
    "# Model extension by John McCaskill to include caution \n",
    "CautionFactor= 0.2 # Fractional reduction of exposure rate for cautioned individuals\n",
    "CautionRetention= 21. # Duration of cautionary state of susceptibles (2 weeks)\n",
    "CautionICUFrac= 0.3 # Fraction of ICUs occupied leading to transition to caution @ 1/day\n",
    "ICUFrac= 0.002 # Fraction of ICUs relative to population size N\n",
    "\n",
    "\n",
    "# convert above parameters to model parameters\n",
    "params = {'beta_1' : Exposure/sum(x0_SCCEIR),\n",
    "          'beta_2' : 0.0,\n",
    "          'beta_3' : 0.0,\n",
    "          'alpha' : 1.0/IncubPeriod,\n",
    "          'gamma_1': (1.0/DurMildInf)*FracMild,\n",
    "          'gamma_2': (1.0/DurHosp)-(1/DurHosp)*(FracCritical/(FracCritical+FracSevere)),\n",
    "          'gamma_3': (1.0/TimeICUDeath)-(1/TimeICUDeath)*(CFR/FracCritical),\n",
    "          'p_1'    : (1.0/DurMildInf)-(1.0/DurMildInf)*FracMild,\n",
    "          'p_2'    : (1.0/DurHosp)*(FracCritical/(FracCritical+FracSevere)),\n",
    "          'mu'    : (1.0/TimeICUDeath)*(CFR/FracCritical),\n",
    "          'c_0'    : CautionFactor,\n",
    "          'c_1'    : 1.0/CautionRetention,\n",
    "          'c_2'    : 1.0/(sum(x0_SCCEIR)*ICUFrac*CautionICUFrac),\n",
    "          'N'     : sum(x0_SCCEIR)}\n",
    "print(params)\n",
    "# assign x0 and params to the model, integrate over t and plot\n",
    "SCCEIR_model.initial_values = (x0_SCCEIR, t[0])\n",
    "SCCEIR_model.parameters = params\n",
    "solution = SCCEIR_model.integrate(t[1::])\n",
    "\n",
    "SCCEIR_model.plot()\n",
    "\n",
    "# calculate time point when maximum number of people are infectious\n",
    "peak_i = np.argmax(solution[:,2])\n",
    "print('Peak infection (days)', t[peak_i])"
   ]
  },
  {
   "cell_type": "markdown",
   "metadata": {
    "hidden": true
   },
   "source": [
    "### Compare data with SCCEIR simulation"
   ]
  },
  {
   "cell_type": "code",
   "execution_count": null,
   "metadata": {
    "hidden": true,
    "scrolled": true
   },
   "outputs": [],
   "source": [
    "# model with generating parameters \n",
    "print(params)\n",
    "params_fit = params.copy()\n",
    "print(params_fit['c_0'],params_fit['c_1'])\n",
    "SCCEIR_model.params = params_fit\n",
    "\n",
    "x0_fit = x0_SCCEIR.copy()\n",
    "# x0_fit[2] = 0.00001\n",
    "#t_fit = numpy.linspace(0, 150, 1000)\n",
    "print(x0_fit)\n",
    "t_fit = t\n",
    "print(len(t))\n",
    "SCCEIR_model.initial_values = (x0_fit, t_fit[0])\n",
    "# %timeit sol_fit =SCCEIR_model.integrate(t_fit[1::]) # use magic %timeit to time\n",
    "#sol_fit =SCCEIR_model.integrate(t_fit[1::])\n",
    "# sol_fit = SCCEIR_model.integrate(t_fit)\n",
    "sol_fit = scipy.integrate.odeint(SCCEIR_model.ode, x0_fit, t_fit[1::])\n",
    "# print(len(sol_fit[0]))\n",
    "#\n",
    "plt.figure(figsize=(15,10))\n",
    "plt.plot(t,y_jhu[:,0]/FracRecoveredDet, 'bo',label='R') # recovered\n",
    "plt.plot(t,y_jhu[:,1]/FracDeathsDet, 'ro',label='D') # died\n",
    "plt.gca().set_prop_cycle(color=['grey','orange','green','green','green','blue','red', 'black'])\n",
    "plt.plot(t_fit[1::], sol_fit)\n",
    "plt.ylim([0,0.06])\n",
    "plt.legend()\n",
    "#plt.show(())\n",
    "#ode_fit.plot()\n",
    "\n",
    "peak_i = np.argmax(sol_fit[:,2])\n",
    "print('Peak infection (days)', t_fit[peak_i])"
   ]
  },
  {
   "cell_type": "markdown",
   "metadata": {},
   "source": [
    "# Parameter fitting"
   ]
  },
  {
   "cell_type": "markdown",
   "metadata": {
    "heading_collapsed": true
   },
   "source": [
    "## Testing fitting"
   ]
  },
  {
   "cell_type": "markdown",
   "metadata": {
    "heading_collapsed": true,
    "hidden": true
   },
   "source": [
    "### Generate test data based on SCEIR simulation"
   ]
  },
  {
   "cell_type": "code",
   "execution_count": null,
   "metadata": {
    "hidden": true
   },
   "outputs": [],
   "source": [
    "# Add noise\n",
    "y = solution[:,2:7].copy()\n",
    "#print('len(y)',len(y),'t',len(t),t[0],t[1],'...',t[-1])\n",
    "np.random.seed(seed=6)\n",
    "noise = np.random.normal(0,1.e-2,[len(t),5])\n",
    "# ynoise = y *(1+noise)\n",
    "ynoise = y *(1.0 + noise)\n",
    "ynoise[ynoise<0] = 0\n",
    "plt.figure(figsize=(15,10))\n",
    "plt.plot(t,ynoise[:,0], 'go', label='I_1') \n",
    "plt.plot(t,ynoise[:,1], 'go', label='I_2') \n",
    "plt.plot(t,ynoise[:,2], 'go', label='I_3') \n",
    "plt.plot(t,ynoise[:,3], 'bo', label='R') \n",
    "plt.plot(t,ynoise[:,4], 'ro', label='D') \n",
    "plt.plot(t,y[:,0], 'g', label='I_1') \n",
    "plt.plot(t,y[:,1], 'g', label='I_2') \n",
    "plt.plot(t,y[:,2], 'g', label='I_3') \n",
    "plt.plot(t,y[:,3], 'b', label='R') \n",
    "plt.plot(t,y[:,4], 'r', label='D') \n",
    "plt.legend()\n",
    "plt.ylim(0,0.003)\n",
    "plt.show()"
   ]
  },
  {
   "cell_type": "code",
   "execution_count": null,
   "metadata": {
    "hidden": true,
    "scrolled": true
   },
   "outputs": [],
   "source": [
    "# model with generating parameters \n",
    "print(params)\n",
    "params_fit = params.copy()\n",
    "print(params_fit['c_0'],params_fit['c_1'])\n",
    "SCEIR_model.params = params_fit\n",
    "\n",
    "x0_fit = x0_SCEIR.copy()\n",
    "# x0_fit[2] = 0.00001\n",
    "#t_fit = numpy.linspace(0, 150, 1000)\n",
    "print(x0_fit)\n",
    "t_fit = t\n",
    "print(len(t))\n",
    "SCEIR_model.initial_values = (x0_fit, t_fit[0])\n",
    "# %timeit sol_fit =SCEIR_model.integrate(t_fit[1::]) # use magic %timeit to time\n",
    "#sol_fit =SCEIR_model.integrate(t_fit[1::])\n",
    "# sol_fit = SCEIR_model.integrate(t_fit)\n",
    "sol_fit = scipy.integrate.odeint(SCEIR_model.ode, x0_fit, t_fit[1::])\n",
    "# print(len(sol_fit[0]))\n",
    "#\n",
    "plt.figure(figsize=(15,10))\n",
    "plt.plot(t,ynoise[:,0], 'go',label='I_1') # infected observations\n",
    "plt.plot(t,ynoise[:,1], 'go',label='I_2') # infected observations\n",
    "plt.plot(t,ynoise[:,2], 'go',label='I_3') # infected observations\n",
    "plt.plot(t,ynoise[:,3], 'bo',label='R') # recoverd\n",
    "plt.plot(t,ynoise[:,4], 'ro',label='D') # died\n",
    "plt.gca().set_prop_cycle(color=['grey','orange','green','green','green','blue','red', 'black'])\n",
    "plt.plot(t_fit[1::], sol_fit)\n",
    "plt.ylim([0,0.004])\n",
    "plt.legend()\n",
    "#plt.show(())\n",
    "#ode_fit.plot()\n",
    "\n",
    "peak_i = np.argmax(sol_fit[:,2])\n",
    "print('Peak infection (days)', t_fit[peak_i])"
   ]
  },
  {
   "cell_type": "code",
   "execution_count": null,
   "metadata": {
    "hidden": true,
    "scrolled": true
   },
   "outputs": [],
   "source": [
    "params # use list(...) to convert to list"
   ]
  },
  {
   "cell_type": "markdown",
   "metadata": {
    "hidden": true
   },
   "source": [
    "### Fit parameters to randomized simulation data based on square_loss"
   ]
  },
  {
   "cell_type": "markdown",
   "metadata": {
    "hidden": true
   },
   "source": [
    "#### Fit c_0 and c_1 only"
   ]
  },
  {
   "cell_type": "code",
   "execution_count": null,
   "metadata": {
    "hidden": true
   },
   "outputs": [],
   "source": [
    "# Initial guess of parameters, and bounding constraints\n",
    "cautionparams = list(params.values())[-4:-2]\n",
    "theta = [value for value in cautionparams]\n",
    "theta = [0.21,0.08]\n",
    "boxBounds = [(0.2,0.4),(0.05,0.15)]\n",
    "objSCEIR = SquareLoss(theta=theta, ode=SCEIR_model, x0=x0_SCEIR, t0=t[0], t=t[1::], y=ynoise[1::,:],\n",
    "                      state_weight=[1.,1.,1.,1.0,1.0],state_name=['I_1','I_2','I_3','R','D'],\n",
    "                      target_param=['c_0','c_1'])\n",
    "# perform optimization\n",
    "res = minimize(fun=objSCEIR.cost,\n",
    "                jac=objSCEIR.sensitivity,\n",
    "                x0=theta,\n",
    "                #bounds=boxBounds,\n",
    "                method='BFGS',\n",
    "                options={'disp':True,'maxiter':1000,'eps':0.00001})# ,'ftol':0.01})  #not BFGS\n",
    "print(res)"
   ]
  },
  {
   "cell_type": "markdown",
   "metadata": {
    "hidden": true
   },
   "source": [
    "#### Fit c_0 and c_1 as well as initial value of E"
   ]
  },
  {
   "cell_type": "markdown",
   "metadata": {
    "hidden": true
   },
   "source": [
    "##### Fit c_0 and c_1 as well as initial value of E with 'SLSQP'\n",
    "does not work well\n",
    "note use of special methods IV for initial value fitting of target_state"
   ]
  },
  {
   "cell_type": "code",
   "execution_count": null,
   "metadata": {
    "hidden": true
   },
   "outputs": [],
   "source": [
    "# Initial guess of parameters and initial condition, and bounding constraints\n",
    "cautionparams = list(params.values())[-4:-2]\n",
    "theta = [0.25,0.08]\n",
    "boxBounds = [(0.2,0.4),(0.05,0.15)]\n",
    "objSCEIR = SquareLoss(theta=theta, ode=SCEIR_model, x0=x0_SCEIR, t0=t[0], t=t[1::], y=ynoise[1::,:],\n",
    "                      state_weight=[1.,1.,1.,1.,1.],state_name=['I_1','I_2','I_3','R','D'],\n",
    "                      target_param=['c_0','c_1'],target_state=['E'])\n",
    "# perform optimization\n",
    "res = minimize(fun=objSCEIR.costIV,\n",
    "                jac=objSCEIR.sensitivityIV,\n",
    "                x0=theta+[0.00005],\n",
    "                #bounds=boxBounds+[(0.0000001,0.001)],\n",
    "                method='SLSQP',\n",
    "                options={'disp':True,'maxiter':1000,'eps':0.01,'ftol':0.01})\n",
    "print(res)"
   ]
  },
  {
   "cell_type": "markdown",
   "metadata": {
    "hidden": true
   },
   "source": [
    "##### Fit c_0 and c_1 as well as initial value of E with BFGS\n",
    "works well:  no constraints and gtol not ftol"
   ]
  },
  {
   "cell_type": "code",
   "execution_count": null,
   "metadata": {
    "code_folding": [
     8
    ],
    "hidden": true
   },
   "outputs": [],
   "source": [
    "# Initial guess of parameters and initial condition, and bounding constraints\n",
    "cautionparams = list(params.values())[-4:-2]\n",
    "theta = [0.25,0.08]\n",
    "boxBounds = [(0.2,0.4),(0.05,0.15)]\n",
    "objSCEIR = SquareLoss(theta=theta, ode=SCEIR_model, x0=x0_SCEIR, t0=t[0], t=t[1::], y=ynoise[1::,:],\n",
    "                      state_weight=[1.,1.,1.,1.,1.],state_name=['I_1','I_2','I_3','R','D'],\n",
    "                      target_param=['c_0','c_1'],target_state=['E'])\n",
    "# perform optimization\n",
    "res = minimize(fun=objSCEIR.costIV,\n",
    "                jac=objSCEIR.sensitivityIV,\n",
    "                x0=theta+[0.00005],\n",
    "                #bounds=boxBounds+[(0.0000001,0.001)],\n",
    "                method='BFGS',\n",
    "                options={'disp':True,'maxiter':1000,'eps':0.01,'gtol':0.01})\n",
    "print(res)"
   ]
  },
  {
   "cell_type": "code",
   "execution_count": null,
   "metadata": {
    "hidden": true,
    "scrolled": true
   },
   "outputs": [],
   "source": [
    "# model with fitted parameters \n",
    "print(params)\n",
    "print(x0_SCEIR)\n",
    "params_fit = params.copy()\n",
    "#params_fit['c_0'] = res.x[0]\n",
    "#params_fit['c_1'] = res.x[1]\n",
    "\n",
    "SCEIR_model.params = params_fit\n",
    "print(SCEIR_model.params)\n",
    "#ode_fit = common_models.SEIR({'beta':res.x[0], 'gamma':res.x[1],'alpha':res.x[2]})\n",
    "#x0_fit = [1-1.27e-6, 1.27e-6, 0]\n",
    "x0_fit = x0.copy()\n",
    "#x0_fit[2] = res.x[2]\n",
    "#t_fit = numpy.linspace(0, 150, 1000)\n",
    "t_fit = t\n",
    "SCEIR_model.initial_values = (x0_fit, t_fit[0])\n",
    "# %timeit sol_fit =SCEIR_model.integrate(t_fit[1::]) # use magic %timeit to time\n",
    "# sol_fit =SCEIR_model.integrate(t_fit[0::])\n",
    "sol_fit = scipy.integrate.odeint(SCEIR_model.ode, x0_fit, t_fit[1::])\n",
    "#\n",
    "plt.figure(figsize=(15,10))\n",
    "plt.plot(t,ynoise[:,0], 'go') # infected observations\n",
    "plt.plot(t,ynoise[:,1], 'go') # infected observations\n",
    "plt.plot(t,ynoise[:,2], 'go') # infected observations\n",
    "plt.plot(t,ynoise[:,3], 'bo') # recoverd\n",
    "plt.plot(t,ynoise[:,4], 'ro') # died\n",
    "plt.plot(t_fit[1::], sol_fit)\n",
    "plt.ylim([0,0.004])\n",
    "#plt.show(())\n",
    "#ode_fit.plot()\n",
    "\n",
    "peak_i = np.argmax(sol_fit[:,2])\n",
    "print('Peak infection (days)', t_fit[peak_i])"
   ]
  },
  {
   "cell_type": "markdown",
   "metadata": {
    "hidden": true
   },
   "source": [
    "##### Fit c_0 and c_1 as well as initial value of E using L-BFGS-B\n",
    "this method does not work well"
   ]
  },
  {
   "cell_type": "code",
   "execution_count": null,
   "metadata": {
    "hidden": true
   },
   "outputs": [],
   "source": [
    "# Initial guess of parameters and initial condition, and bounding constraints\n",
    "cautionparams = list(params.values())[-4:-2]\n",
    "theta = [0.25,0.08]\n",
    "boxBounds = [(0.2,0.4),(0.05,0.15)]\n",
    "objSCEIR = SquareLoss(theta=theta, ode=SCEIR_model, x0=x0_SCEIR, t0=t[0], t=t[1::], y=ynoise[1::,:],\n",
    "                      state_weight=[1.,1.,1.,1.,1.],state_name=['I_1','I_2','I_3','R','D'],\n",
    "                      target_param=['c_0','c_1'],target_state=['E'])\n",
    "# perform optimization\n",
    "res = minimize(fun=objSCEIR.costIV,\n",
    "                jac=objSCEIR.sensitivityIV,\n",
    "                x0=theta+[0.00005],\n",
    "                bounds=boxBounds+[(0.0000001,0.001)],\n",
    "                method='L-BFGS-B',\n",
    "                options={'disp':True,'maxiter':1000,'eps':0.0001,'ftol':0.001})\n",
    "print(res)"
   ]
  },
  {
   "cell_type": "code",
   "execution_count": null,
   "metadata": {
    "hidden": true
   },
   "outputs": [],
   "source": [
    "objSCEIR.residual()"
   ]
  },
  {
   "cell_type": "markdown",
   "metadata": {
    "hidden": true
   },
   "source": [
    "##### Fit c_0 and c_1 as well as initial value of E with Nelder-Mead\n",
    "no use of Jacobian and no constraints"
   ]
  },
  {
   "cell_type": "code",
   "execution_count": null,
   "metadata": {
    "hidden": true
   },
   "outputs": [],
   "source": [
    "# Initial guess of parameters and initial condition, and bounding constraints\n",
    "cautionparams = list(params.values())[-4:-2]\n",
    "theta = [0.25,0.08]\n",
    "boxBounds = [(0.2,0.4),(0.05,0.15)]\n",
    "objSCEIR = SquareLoss(theta=theta, ode=SCEIR_model, x0=x0_SCEIR, t0=t[0], t=t[1::], y=ynoise[1::,:],\n",
    "                      state_weight=[1.,1.,1.,1.,1.],state_name=['I_1','I_2','I_3','R','D'],\n",
    "                      target_param=['c_0','c_1'],target_state=['E'])\n",
    "# perform optimization\n",
    "res = minimize(fun=objSCEIR.costIV,\n",
    "                #jac=objSCEIR.sensitivityIV,\n",
    "                x0=theta+[0.00005],\n",
    "                #bounds=boxBounds+[(0.0000001,0.001)],\n",
    "                method='Nelder-Mead',\n",
    "                options={'disp':True,'maxiter':1000}) #,'eps':0.0001,'ftol':0.01}) #not NM\n",
    "print(res)"
   ]
  },
  {
   "cell_type": "code",
   "execution_count": null,
   "metadata": {
    "hidden": true,
    "scrolled": true
   },
   "outputs": [],
   "source": [
    "# model with fitted parameters \n",
    "print(params)\n",
    "print(x0_SCEIR)\n",
    "params_fit = params.copy()\n",
    "#params_fit['c_0'] = res.x[0]\n",
    "#params_fit['c_1'] = res.x[1]\n",
    "\n",
    "SCEIR_model.params = params_fit\n",
    "print(SCEIR_model.params)\n",
    "#ode_fit = common_models.SEIR({'beta':res.x[0], 'gamma':res.x[1],'alpha':res.x[2]})\n",
    "#x0_fit = [1-1.27e-6, 1.27e-6, 0]\n",
    "x0_fit = x0_SCEIR.copy()\n",
    "#x0_fit[2] = res.x[2]\n",
    "#t_fit = numpy.linspace(0, 150, 1000)\n",
    "t_fit = t\n",
    "SCEIR_model.initial_values = (x0_fit, t_fit[0])\n",
    "# %timeit sol_fit =SCEIR_model.integrate(t_fit[1::]) # use magic %timeit to time\n",
    "# sol_fit =SCEIR_model.integrate(t_fit[0::])\n",
    "sol_fit = scipy.integrate.odeint(SCEIR_model.ode, x0_fit, t_fit[1::])\n",
    "#\n",
    "plt.figure(figsize=(15,10))\n",
    "plt.plot(t,ynoise[:,0], 'go') # infected observations\n",
    "plt.plot(t,ynoise[:,1], 'go') # infected observations\n",
    "plt.plot(t,ynoise[:,2], 'go') # infected observations\n",
    "plt.plot(t,ynoise[:,3], 'bo') # recoverd\n",
    "plt.plot(t,ynoise[:,4], 'ro') # died\n",
    "plt.plot(t_fit[1::], sol_fit)\n",
    "plt.ylim([0,0.004])\n",
    "#plt.show(())\n",
    "#ode_fit.plot()\n",
    "\n",
    "peak_i = np.argmax(sol_fit[:,2])\n",
    "print('Peak infection (days)', t_fit[peak_i])"
   ]
  },
  {
   "cell_type": "markdown",
   "metadata": {},
   "source": [
    "## Fit SCICR parameters to jhu data based on square_loss"
   ]
  },
  {
   "cell_type": "code",
   "execution_count": 27,
   "metadata": {},
   "outputs": [
    {
     "name": "stdout",
     "output_type": "stream",
     "text": [
      "{beta: 0.25, gamma: 0.1, mu: 0.029411764705882353, c_0: 0.4, c_1: 0.047619047619047616, c_2: 2000.0, N: 1.0}\n"
     ]
    }
   ],
   "source": [
    "params=SCICR_model.parameters\n",
    "print(params)"
   ]
  },
  {
   "cell_type": "code",
   "execution_count": null,
   "metadata": {
    "code_folding": []
   },
   "outputs": [],
   "source": [
    "# Initial guess of parameters and initial condition, and bounding constraints\n",
    "params=SCICR_model.parameters\n",
    "cautionparams = list(params.values())[-4:-2]\n",
    "theta = [0.25,0.08]\n",
    "boxBounds = [(0.2,0.4),(0.05,0.15)]\n",
    "objSCEIR = SquareLoss(theta=theta, ode=SCEIR_model, x0=x0_SCCEIR, t0=t[0], t=t[1::], y=y_jhu[1::,:],\n",
    "                      state_weight=[1.,1.],state_name=['R','D'],\n",
    "                      target_param=['beta','gamma','mu','c_0','c_1','c_2'],target_state=['E'])\n",
    "# perform optimization\n",
    "res = minimize(fun=objSCEIR.costIV,\n",
    "                jac=objSCEIR.sensitivityIV,\n",
    "                x0=theta+[0.00005],\n",
    "                #bounds=boxBounds+[(0.0000001,0.001)],\n",
    "                method='BFGS',\n",
    "                options={'disp':True,'maxiter':1000,'eps':0.01,'gtol':0.01})\n",
    "print(res)"
   ]
  },
  {
   "cell_type": "code",
   "execution_count": null,
   "metadata": {
    "scrolled": true
   },
   "outputs": [],
   "source": [
    "# model with fitted parameters \n",
    "print(params)\n",
    "print(x0_SCCEIR)\n",
    "params_fit = params.copy()\n",
    "#params_fit['c_0'] = res.x[0]\n",
    "#params_fit['c_1'] = res.x[1]\n",
    "\n",
    "SCEIR_model.params = params_fit\n",
    "print(SCEIR_model.params)\n",
    "#ode_fit = common_models.SEIR({'beta':res.x[0], 'gamma':res.x[1],'alpha':res.x[2]})\n",
    "#x0_fit = [1-1.27e-6, 1.27e-6, 0]\n",
    "x0_fit = x0_SCCEIR.copy()\n",
    "#x0_fit[2] = res.x[2]\n",
    "#t_fit = numpy.linspace(0, 150, 1000)\n",
    "t_fit = t\n",
    "SCEIR_model.initial_values = (x0_fit, t_fit[0])\n",
    "# %timeit sol_fit =SCEIR_model.integrate(t_fit[1::]) # use magic %timeit to time\n",
    "# sol_fit =SCEIR_model.integrate(t_fit[0::])\n",
    "sol_fit = scipy.integrate.odeint(SCEIR_model.ode, x0_fit, t_fit[1::])\n",
    "#\n",
    "plt.figure(figsize=(15,10))\n",
    "plt.plot(t,ynoise[:,0], 'go') # infected observations\n",
    "plt.plot(t,ynoise[:,1], 'go') # infected observations\n",
    "plt.plot(t,ynoise[:,2], 'go') # infected observations\n",
    "plt.plot(t,ynoise[:,3], 'bo') # recoverd\n",
    "plt.plot(t,ynoise[:,4], 'ro') # died\n",
    "plt.plot(t_fit[1::], sol_fit)\n",
    "plt.ylim([0,0.004])\n",
    "#plt.show(())\n",
    "#ode_fit.plot()\n",
    "\n",
    "peak_i = np.argmax(sol_fit[:,2])\n",
    "print('Peak infection (days)', t_fit[peak_i])"
   ]
  },
  {
   "cell_type": "markdown",
   "metadata": {},
   "source": [
    "## Fit SCCEIR parameters to jhu data based on square_loss"
   ]
  },
  {
   "cell_type": "markdown",
   "metadata": {},
   "source": [
    "### Fit c_0 and c_1 only"
   ]
  },
  {
   "cell_type": "code",
   "execution_count": null,
   "metadata": {},
   "outputs": [],
   "source": [
    "# Initial guess of parameters, and bounding constraints\n",
    "cautionparams = list(params.values())[-4:-3]\n",
    "theta = [value for value in cautionparams]\n",
    "theta = [0.3,0.08,2500.]\n",
    "# boxBounds = [(0.2,0.8),(0.05,0.15),(100.,10000.)]\n",
    "objSCCEIR = SquareLoss(theta=theta, ode=SCCEIR_model, x0=x0_SCCEIR, t0=t[0], t=t[1::], y=y_jhu[1::,:],\n",
    "                      state_weight=[1.,1.],state_name=['R','D'],\n",
    "                      target_param=['c_0','c_1','c_2'])\n",
    "# perform optimization\n",
    "res = minimize(fun=objSCCEIR.cost,\n",
    "                #jac=objSCCEIR.sensitivity,\n",
    "                x0=theta,\n",
    "                #bounds=boxBounds,\n",
    "                method='Nelder-Mead',\n",
    "                options={'disp':True,'maxiter':1000,'eps':0.00001})# ,'ftol':0.01})  #not BFGS\n",
    "print(res)"
   ]
  },
  {
   "cell_type": "markdown",
   "metadata": {},
   "source": [
    "### Fit c_0 and c_1 as well as initial value of E"
   ]
  },
  {
   "cell_type": "markdown",
   "metadata": {},
   "source": [
    "#### Fit c_0 and c_1 as well as initial value of E with 'SLSQP'\n",
    "does not work well\n",
    "note use of special methods IV for initial value fitting of target_state"
   ]
  },
  {
   "cell_type": "code",
   "execution_count": null,
   "metadata": {},
   "outputs": [],
   "source": [
    "# Initial guess of parameters and initial condition, and bounding constraints\n",
    "cautionparams = list(params.values())[-4:-3]\n",
    "theta = [value for value in cautionparams]\n",
    "theta = [0.21,0.08,2500.]\n",
    "objSCCEIR = SquareLoss(theta=theta, ode=SCCEIR_model, x0=x0_SCCEIR, t0=t[0], t=t[1::], y=y_jhu[1::,:],\n",
    "                      state_weight=[1.,1.],state_name=['R','D'],\n",
    "                      target_param=['c_0','c_1','c_2'],target_state=['E'])\n",
    "# perform optimization\n",
    "res = minimize(fun=objSCCEIR.costIV,\n",
    "                jac=objSCCEIR.sensitivityIV,\n",
    "                x0=theta+[0.00005],\n",
    "                #bounds=boxBounds+[(0.0000001,0.001)],\n",
    "                method='BFGS',\n",
    "                options={'disp':True,'maxiter':1000,'eps':0.01,'gtol':0.01})\n",
    "print(res)"
   ]
  },
  {
   "cell_type": "markdown",
   "metadata": {},
   "source": [
    "#### Fit c_0 and c_1 as well as initial value of E with BFGS\n",
    "works well:  no constraints and gtol not ftol"
   ]
  },
  {
   "cell_type": "code",
   "execution_count": null,
   "metadata": {
    "code_folding": []
   },
   "outputs": [],
   "source": [
    "# Initial guess of parameters and initial condition, and bounding constraints\n",
    "cautionparams = list(params.values())[-4:-2]\n",
    "theta = [0.25,0.08]\n",
    "boxBounds = [(0.2,0.4),(0.05,0.15)]\n",
    "objSCEIR = SquareLoss(theta=theta, ode=SCEIR_model, x0=x0_SCCEIR, t0=t[0], t=t[1::], y=ynoise[1::,:],\n",
    "                      state_weight=[1.,1.,1.,1.,1.],state_name=['I_1','I_2','I_3','R','D'],\n",
    "                      target_param=['c_0','c_1'],target_state=['E'])\n",
    "# perform optimization\n",
    "res = minimize(fun=objSCEIR.costIV,\n",
    "                jac=objSCEIR.sensitivityIV,\n",
    "                x0=theta+[0.00005],\n",
    "                #bounds=boxBounds+[(0.0000001,0.001)],\n",
    "                method='BFGS',\n",
    "                options={'disp':True,'maxiter':1000,'eps':0.01,'gtol':0.01})\n",
    "print(res)"
   ]
  },
  {
   "cell_type": "code",
   "execution_count": null,
   "metadata": {
    "scrolled": true
   },
   "outputs": [],
   "source": [
    "# model with fitted parameters \n",
    "print(params)\n",
    "print(x0_SCCEIR)\n",
    "params_fit = params.copy()\n",
    "#params_fit['c_0'] = res.x[0]\n",
    "#params_fit['c_1'] = res.x[1]\n",
    "\n",
    "SCEIR_model.params = params_fit\n",
    "print(SCEIR_model.params)\n",
    "#ode_fit = common_models.SEIR({'beta':res.x[0], 'gamma':res.x[1],'alpha':res.x[2]})\n",
    "#x0_fit = [1-1.27e-6, 1.27e-6, 0]\n",
    "x0_fit = x0_SCCEIR.copy()\n",
    "#x0_fit[2] = res.x[2]\n",
    "#t_fit = numpy.linspace(0, 150, 1000)\n",
    "t_fit = t\n",
    "SCEIR_model.initial_values = (x0_fit, t_fit[0])\n",
    "# %timeit sol_fit =SCEIR_model.integrate(t_fit[1::]) # use magic %timeit to time\n",
    "# sol_fit =SCEIR_model.integrate(t_fit[0::])\n",
    "sol_fit = scipy.integrate.odeint(SCEIR_model.ode, x0_fit, t_fit[1::])\n",
    "#\n",
    "plt.figure(figsize=(15,10))\n",
    "plt.plot(t,ynoise[:,0], 'go') # infected observations\n",
    "plt.plot(t,ynoise[:,1], 'go') # infected observations\n",
    "plt.plot(t,ynoise[:,2], 'go') # infected observations\n",
    "plt.plot(t,ynoise[:,3], 'bo') # recoverd\n",
    "plt.plot(t,ynoise[:,4], 'ro') # died\n",
    "plt.plot(t_fit[1::], sol_fit)\n",
    "plt.ylim([0,0.004])\n",
    "#plt.show(())\n",
    "#ode_fit.plot()\n",
    "\n",
    "peak_i = np.argmax(sol_fit[:,2])\n",
    "print('Peak infection (days)', t_fit[peak_i])"
   ]
  },
  {
   "cell_type": "markdown",
   "metadata": {},
   "source": [
    "#### Fit c_0 and c_1 as well as initial value of E using L-BFGS-B\n",
    "this method does not work well"
   ]
  },
  {
   "cell_type": "code",
   "execution_count": null,
   "metadata": {},
   "outputs": [],
   "source": [
    "# Initial guess of parameters and initial condition, and bounding constraints\n",
    "cautionparams = list(params.values())[-4:-2]\n",
    "theta = [0.25,0.08]\n",
    "boxBounds = [(0.2,0.4),(0.05,0.15)]\n",
    "objSCEIR = SquareLoss(theta=theta, ode=SCEIR_model, x0=x0_SCCEIR, t0=t[0], t=t[1::], y=ynoise[1::,:],\n",
    "                      state_weight=[1.,1.,1.,1.,1.],state_name=['I_1','I_2','I_3','R','D'],\n",
    "                      target_param=['c_0','c_1'],target_state=['E'])\n",
    "# perform optimization\n",
    "res = minimize(fun=objSCEIR.costIV,\n",
    "                jac=objSCEIR.sensitivityIV,\n",
    "                x0=theta+[0.00005],\n",
    "                bounds=boxBounds+[(0.0000001,0.001)],\n",
    "                method='L-BFGS-B',\n",
    "                options={'disp':True,'maxiter':1000,'eps':0.0001,'ftol':0.001})\n",
    "print(res)"
   ]
  },
  {
   "cell_type": "code",
   "execution_count": null,
   "metadata": {},
   "outputs": [],
   "source": [
    "objSCEIR.residual()"
   ]
  },
  {
   "cell_type": "markdown",
   "metadata": {},
   "source": [
    "#### Fit c_0 and c_1 as well as initial value of E with Nelder-Mead\n",
    "no use of Jacobian and no constraints"
   ]
  },
  {
   "cell_type": "code",
   "execution_count": null,
   "metadata": {},
   "outputs": [],
   "source": [
    "# Initial guess of parameters and initial condition, and bounding constraints\n",
    "cautionparams = list(params.values())[-4:-2]\n",
    "theta = [0.25,0.08]\n",
    "boxBounds = [(0.2,0.4),(0.05,0.15)]\n",
    "objSCEIR = SquareLoss(theta=theta, ode=SCEIR_model, x0=x0_SCCEIR, t0=t[0], t=t[1::], y=ynoise[1::,:],\n",
    "                      state_weight=[1.,1.,1.,1.,1.],state_name=['I_1','I_2','I_3','R','D'],\n",
    "                      target_param=['c_0','c_1'],target_state=['E'])\n",
    "# perform optimization\n",
    "res = minimize(fun=objSCEIR.costIV,\n",
    "                #jac=objSCEIR.sensitivityIV,\n",
    "                x0=theta+[0.00005],\n",
    "                #bounds=boxBounds+[(0.0000001,0.001)],\n",
    "                method='Nelder-Mead',\n",
    "                options={'disp':True,'maxiter':1000}) #,'eps':0.0001,'ftol':0.01}) #not NM\n",
    "print(res)"
   ]
  },
  {
   "cell_type": "code",
   "execution_count": null,
   "metadata": {
    "scrolled": true
   },
   "outputs": [],
   "source": [
    "# model with fitted parameters \n",
    "print(params)\n",
    "print(x0_SCCEIR)\n",
    "params_fit = params.copy()\n",
    "params_fit['c_0'] = res.x[0]\n",
    "params_fit['c_1'] = res.x[1]\n",
    "\n",
    "SCCEIR_model.params = params_fit\n",
    "print(SCCEIR_model.params)\n",
    "x0_fit = x0_SCCEIR.copy()\n",
    "#x0_fit[2] = res.x[2]\n",
    "#t_fit = numpy.linspace(0, 150, 1000)\n",
    "t_fit = t\n",
    "SCCEIR_model.initial_values = (x0_fit, t_fit[0])\n",
    "# %timeit sol_fit =SCCEIR_model.integrate(t_fit[1::]) # use magic %timeit to time\n",
    "# sol_fit =SCCEIR_model.integrate(t_fit[0::])\n",
    "sol_fit = scipy.integrate.odeint(SCCEIR_model.ode, x0_fit, t_fit[1::])\n",
    "#\n",
    "plt.figure(figsize=(15,10))\n",
    "plt.plot(t,y_jhu[:,0], 'bo') # recoverd\n",
    "plt.plot(t,y_jhu[:,1], 'ro') # died\n",
    "plt.plot(t_fit[1::], sol_fit)\n",
    "plt.ylim([0,0.004])\n",
    "#plt.show(())\n",
    "#ode_fit.plot()\n",
    "\n",
    "peak_i = np.argmax(sol_fit[:,2])\n",
    "print('Peak infection (days)', t_fit[peak_i])"
   ]
  },
  {
   "cell_type": "markdown",
   "metadata": {},
   "source": [
    "### Information on method options"
   ]
  },
  {
   "cell_type": "code",
   "execution_count": null,
   "metadata": {},
   "outputs": [],
   "source": [
    "scipy.optimize.show_options(solver='minimize', method='SLSQP', disp=True)\n",
    "print(' ')\n",
    "scipy.optimize.show_options(solver='minimize', method='L-BFGS-B', disp=True)"
   ]
  },
  {
   "cell_type": "markdown",
   "metadata": {
    "heading_collapsed": true
   },
   "source": [
    "## Plot using full control"
   ]
  },
  {
   "cell_type": "code",
   "execution_count": null,
   "metadata": {
    "hidden": true
   },
   "outputs": [],
   "source": [
    "def plotmodel(solns,t,scale='linear',species='no_susc',plottitle= '',label='',\n",
    "              newplot = True,models=['SEIR','SCEIR','SCCEIR']):\n",
    "    \"\"\"\n",
    "    plot solns over \n",
    "    times t interpreted as models indicated in models parameter\n",
    "    scale: alternative 'linear' or 'log'\n",
    "    species alternatives 'all', 'confirmed', 'deaths', 'daily confirmed', 'daily deaths'\n",
    "    plottitle : title for plot\n",
    "    label : label for curve when called as part of multicurve plot\n",
    "    newplot : whether to open new plot True/False\n",
    "    models : list of models to include, default all three of those possible\n",
    "    \"\"\"\n",
    "   \n",
    "    nmodels = len(models)\n",
    "    if len(solns) != len(models):\n",
    "        print(\"Error: number of models must match number of solutions\")\n",
    "        return None\n",
    "    nm = 0\n",
    "    \n",
    "    if newplot == True:\n",
    "        plt.figure(figsize=(nmodels*8,6))\n",
    " \n",
    "    for nm in range(nmodels):\n",
    "        soln = solns[nm]\n",
    "        if models[nm] == 'SEIR':   #SEIR\n",
    "            plt.subplot(1,nmodels,nm+1)\n",
    "            if scale == 'log': #Plot on log scale\n",
    "                plt.semilogy()\n",
    "                plt.ylim([1,10000])\n",
    "            elif species != 'daily confirmed': # Plot on normal linear scale\n",
    "                #plt.ylim([0,10000])\n",
    "                pass\n",
    "            if species == 'no_susc':\n",
    "                plt.plot(tvec,soln[:,1:5],label=label)\n",
    "                plt.legend((\"E\",\"I1\",\"I2\",\"I3\"))\n",
    "            elif species == 'confirmed' or species == 'daily confirmed':\n",
    "                suma = np.sum(soln[:,2:7],axis=1)\n",
    "                # print('length=',len(suma))\n",
    "                if species == 'daily confirmed':\n",
    "                    sumd = np.zeros(len(suma))\n",
    "                    for i in range(1,len(suma)):\n",
    "                        sumd[i] = suma[i]-suma[i-1]\n",
    "                    #plt.ylim([0,1000])\n",
    "                    plt.plot(tvec,sumd,label=label)\n",
    "                else:\n",
    "                    #plt.ylim([0,200000])\n",
    "                     plt.plot(t,suma,label=label)                   \n",
    "            elif species == 'all':\n",
    "                plt.plot(tvec,soln,label=label)\n",
    "                plt.legend((\"S\",\"E\",\"I1\",\"I2\",\"I3\",\"R\",\"D\"))\n",
    "            plt.xlabel(\"Time (days)\")\n",
    "            plt.ylabel(\"Portion of population N\")\n",
    "            plt.title('SEIR %s' % plottitle)\n",
    "\n",
    "        elif models[nm] == 'SCEIR':   #SCEIR\n",
    "            #Plot\n",
    "            plt.subplot(1,nmodels,nm+1)\n",
    "            if scale == 'log': #Plot on log scale\n",
    "                plt.semilogy()\n",
    "                plt.ylim([1,10000])\n",
    "            elif species != 'daily confirmed': # Plot on normal linear scale\n",
    "                #plt.ylim([0,10000])\n",
    "                pass\n",
    "            if species == 'no_susc':\n",
    "                plt.plot(t,soln[:,1:5],label=label)\n",
    "                plt.legend((\"E\",\"I1\",\"I2\",\"I3\"))\n",
    "            elif species == 'confirmed' or species == 'daily confirmed':\n",
    "                suma = np.sum(soln[:,2:7],axis=1)\n",
    "                # print('length=',len(suma))\n",
    "                if species == 'daily confirmed':\n",
    "                    sumd = np.zeros(len(suma))\n",
    "                    for i in range(1,len(suma)):\n",
    "                        sumd[i] = suma[i]-suma[i-1]\n",
    "                    #plt.ylim([0,1000])\n",
    "                    plt.plot(t,sumd,label=label)\n",
    "                else:\n",
    "                    #plt.ylim([0,200000])\n",
    "                    plt.plot(t,suma,label=label)\n",
    "            elif species == 'all':\n",
    "                plt.plot(t,soln,label=label)\n",
    "                plt.legend((\"S\",\"E\",\"I1\",\"I2\",\"I3\",\"R\",\"D\",\"Sc\"))\n",
    "            plt.xlabel(\"Time (days)\")\n",
    "            plt.ylabel(\"Portion of population N\")\n",
    "            plt.title('SCEIR %s' % plottitle)\n",
    "        elif models[nm] == 'SCCEIR':   #SCCEIR\n",
    "            plt.subplot(1,nmodels,nm+1)\n",
    "            if scale == 'log': #Plot on log scale\n",
    "                plt.semilogy()\n",
    "                plt.ylim([1,10000])\n",
    "            elif species != 'daily confirmed': # Plot on normal linear scale\n",
    "                #plt.ylim([0,10000])\n",
    "                pass\n",
    "            if species == 'no_susc':\n",
    "                plt.plot(t,sol[:,1:5])\n",
    "                plt.legend((\"E\",\"I1\",\"I2\",\"I3\"))\n",
    "            elif species == 'confirmed' or species == 'daily confirmed':\n",
    "                suma = np.sum(soln[:,2:7],axis=1) + soln[:,9]\n",
    "                if species == 'daily confirmed':\n",
    "                    sumd = np.zeros(len(suma))\n",
    "                    for i in range(1,len(suma)):\n",
    "                        sumd[i] = suma[i]-suma[i-1]\n",
    "                    # plt.ylim([0,1000])\n",
    "                    plt.plot(t,sumd,label=label)\n",
    "                else:\n",
    "                    # plt.ylim([0,200000])\n",
    "                    plt.plot(t,suma,label=label)\n",
    "            elif species == 'all':\n",
    "                plt.plot(t,soln,label=label)\n",
    "                plt.legend((\"S\",\"E\",\"I1\",\"I2\",\"I3\",\"R\",\"D\",\"Sc\",\"Ec\",\"I1c\"))\n",
    "            plt.xlabel(\"Time (days)\")\n",
    "            plt.ylabel(\"Portion of population N\")\n",
    "            plt.title('SCCEIR %s' % plottitle)\n",
    "    return True"
   ]
  },
  {
   "cell_type": "code",
   "execution_count": null,
   "metadata": {
    "hidden": true
   },
   "outputs": [],
   "source": [
    "plotmodel([sol_fit],t_fit[1:],scale='linear',species='no_susc',plottitle= 'test',label='',\n",
    "              newplot = True,models=['SCEIR'])"
   ]
  },
  {
   "cell_type": "markdown",
   "metadata": {},
   "source": [
    "# Not yet implemented"
   ]
  },
  {
   "cell_type": "code",
   "execution_count": null,
   "metadata": {},
   "outputs": [],
   "source": [
    "# R0 from arXiv paper\n",
    "# does not work yet properly ! reason unclear\n",
    "from pygom.model.epi_analysis import R0\n",
    "ode1 = SCEIR_model.ode\n",
    "ode2 = SimulateOde(state, param_list, transition=transition)\n",
    "# print(ode2)\n",
    "# ode = ode2.get_unrolled_obj() # Exception: Object was not initialized using a set of ode\n",
    "# so need to define model via odes for this to work?\n",
    "# R0( ode2, ['I_1','I_2','I_3'])"
   ]
  },
  {
   "cell_type": "code",
   "execution_count": null,
   "metadata": {},
   "outputs": [],
   "source": [
    "# function for altering parameters\n",
    "print(param_list) \n",
    "model = DeterministicOde(state, param_list, transition=transition)\n",
    "def parameterize_model(t=np.linspace(0,365,366), c_0=0.3, c_1=0.07,\n",
    "                       c_2=0.004,I1_init=0.00001, default_params = param_list, model=model):\n",
    "    ic=[1-I1_init, I1_init, 0, 0, 0, 0, 0, 0]\n",
    "    cautionparams = {'c_0': c_0,\n",
    "              'c_1': c_1, \n",
    "              'c_2': c_2,\n",
    "              'N': sum(ic)}\n",
    "    \n",
    "    model.initial_values = (ic, t[0])\n",
    "    model.parameters = params\n",
    "    sol = model.integrate(t[1::])\n",
    "    model.plot()\n",
    "    peak_i = np.argmax(sol[:,2])\n",
    "    print('Peak infection (days)', t[peak_i] )\n",
    "    "
   ]
  },
  {
   "cell_type": "markdown",
   "metadata": {},
   "source": [
    "In this simple framework, reducing $\\beta$ results in a smaller epidemic:\n",
    "- the peak infection time is delayed\n",
    "- the magnitude of peak infection is reduced.\n",
    "\n",
    "Reducing beta may crudely represent giving out anti-virals, which make a person less infectious."
   ]
  },
  {
   "cell_type": "code",
   "execution_count": null,
   "metadata": {},
   "outputs": [],
   "source": [
    "parameterize_model(beta=1.2, t=np.linspace(0,500,5001))"
   ]
  },
  {
   "cell_type": "markdown",
   "metadata": {},
   "source": [
    "Vaccinating 5% of the population (assuming instantaneous rollout) or natural immunity, delays the peak period, and reduces its magnitude."
   ]
  },
  {
   "cell_type": "code",
   "execution_count": null,
   "metadata": {},
   "outputs": [],
   "source": [
    "parameterize_model(ic=[9490,5, 5, 500], beta=0.5, gamma=0.3, t=np.linspace(0,150,10))"
   ]
  },
  {
   "cell_type": "markdown",
   "metadata": {},
   "source": [
    "# gompy test example for FitzHugh model"
   ]
  },
  {
   "cell_type": "code",
   "execution_count": null,
   "metadata": {},
   "outputs": [],
   "source": [
    "from unittest import main, TestCase\n",
    "\n",
    "import numpy as np\n",
    "from scipy.optimize import minimize\n",
    "\n",
    "from pygom import SquareLoss\n",
    "from pygom.model import common_models\n",
    "\n",
    "\n",
    "class TestFHEstimate(TestCase):\n",
    "\n",
    "    def setUp(self):\n",
    "        # initial values\n",
    "        x0 = [-1.0, 1.0]\n",
    "        # params\n",
    "        param_eval = [('a', 0.2), ('b', 0.2), ('c', 3.0)]\n",
    "        self.target = np.array([0.2, 0.2, 3.0])\n",
    "        # the time points for our observations\n",
    "        t = np.linspace(0, 20, 30).astype('float64')\n",
    "        ode = common_models.FitzHugh(param_eval)\n",
    "        ode.initial_values = (x0, t[0])\n",
    "        solution = ode.integrate(t[1::])\n",
    "        self.theta = np.array([0.5, 0.5, 0.5])\n",
    "\n",
    "        self.obj = SquareLoss(self.theta, ode, x0, t[0],\n",
    "                              t[1::], solution[1::, :], ['V', 'R'])\n",
    "\n",
    "        g = self.obj.gradient()\n",
    "        assert np.linalg.norm(g) > 0\n",
    "\n",
    "        EPSILON = np.sqrt(np.finfo(np.float).eps)\n",
    "\n",
    "        self.box_bounds = [(EPSILON, 5.0)]*len(self.theta)\n",
    "\n",
    "    def test_FH_sensitivity(self):\n",
    "        res = minimize(fun=self.obj.cost,\n",
    "                       jac=self.obj.sensitivity,\n",
    "                       x0=self.theta,\n",
    "                       bounds=self.box_bounds,\n",
    "                       method='L-BFGS-B')\n",
    "\n",
    "        self.assertTrue(np.allclose(self.target, res['x'], 1e-2, 1e-2))\n",
    "\n",
    "    def test_FH_adjoint(self):\n",
    "        res = minimize(fun=self.obj.cost,\n",
    "                       jac=self.obj.adjoint,\n",
    "                       x0=self.theta,\n",
    "                       bounds=self.box_bounds,\n",
    "                       method='L-BFGS-B')\n",
    "\n",
    "        self.assertTrue(np.allclose(self.target, res['x'], 1e-2, 1e-2))\n",
    "\n",
    "    def test_FH_IV(self):\n",
    "        box_bounds = self.box_bounds + [(None, None)]*2\n",
    "\n",
    "        res = minimize(fun=self.obj.costIV,\n",
    "                       jac=self.obj.sensitivityIV,\n",
    "                       x0=self.theta.tolist() + [-0.5, 0.5],\n",
    "                       bounds=box_bounds,\n",
    "                       method='L-BFGS-B')\n",
    "\n",
    "        target = np.array([0.2, 0.2, 3.0, -1.0, 1.0])\n",
    "        self.assertTrue(np.allclose(res['x'], target, 1e-2, 1e-2))"
   ]
  },
  {
   "cell_type": "code",
   "execution_count": null,
   "metadata": {},
   "outputs": [],
   "source": [
    "test=TestFHEstimate()"
   ]
  },
  {
   "cell_type": "code",
   "execution_count": null,
   "metadata": {},
   "outputs": [],
   "source": [
    "test.setUp()"
   ]
  },
  {
   "cell_type": "code",
   "execution_count": null,
   "metadata": {},
   "outputs": [],
   "source": [
    "test.test_FH_IV()"
   ]
  },
  {
   "cell_type": "code",
   "execution_count": null,
   "metadata": {},
   "outputs": [],
   "source": []
  }
 ],
 "metadata": {
  "kernelspec": {
   "display_name": "Python 3",
   "language": "python",
   "name": "python3"
  },
  "language_info": {
   "codemirror_mode": {
    "name": "ipython",
    "version": 3
   },
   "file_extension": ".py",
   "mimetype": "text/x-python",
   "name": "python",
   "nbconvert_exporter": "python",
   "pygments_lexer": "ipython3",
   "version": "3.7.4"
  },
  "toc": {
   "base_numbering": 1,
   "nav_menu": {},
   "number_sections": true,
   "sideBar": true,
   "skip_h1_title": false,
   "title_cell": "Table of Contents",
   "title_sidebar": "Contents",
   "toc_cell": false,
   "toc_position": {},
   "toc_section_display": true,
   "toc_window_display": false
  }
 },
 "nbformat": 4,
 "nbformat_minor": 2
}
