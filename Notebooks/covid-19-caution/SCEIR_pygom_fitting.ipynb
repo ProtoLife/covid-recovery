{
 "cells": [
  {
   "cell_type": "markdown",
   "metadata": {},
   "source": [
    "# Model Definitions"
   ]
  },
  {
   "cell_type": "code",
   "execution_count": 1,
   "metadata": {
    "code_folding": []
   },
   "outputs": [],
   "source": [
    "# import required packages\n",
    "import os \n",
    "from sympy import symbols, init_printing\n",
    "import numpy as np\n",
    "import matplotlib.pyplot as plt\n",
    "import sympy\n",
    "import itertools\n",
    "import scipy\n",
    "from pygom import DeterministicOde, Transition, SimulateOde, TransitionType, SquareLoss\n",
    "from scipy.optimize import minimize\n"
   ]
  },
  {
   "cell_type": "code",
   "execution_count": 2,
   "metadata": {
    "code_folding": []
   },
   "outputs": [],
   "source": [
    "def  print_ode2(self):\n",
    "        '''\n",
    "        Prints the ode in symbolic form onto the screen/console in actual\n",
    "        symbols rather than the word of the symbol.\n",
    "        \n",
    "        Based on the PyGOM built-in but adapted for Jupyter\n",
    "        Corrected by John McCaskill to avoid subscript format error\n",
    "        '''\n",
    "        A = self.get_ode_eqn()\n",
    "        B = sympy.zeros(A.rows,2)\n",
    "        for i in range(A.shape[0]):\n",
    "            B[i,0] = sympy.symbols('d' + '{' + str(self._stateList[i]) + '}'+ '/dt=')\n",
    "            B[i,1] = A[i]\n",
    "\n",
    "        return B"
   ]
  },
  {
   "cell_type": "code",
   "execution_count": 3,
   "metadata": {},
   "outputs": [],
   "source": [
    "# Jupyter Specifics\n",
    "from IPython.display import HTML\n",
    "from ipywidgets.widgets import interact, interactive, IntSlider, FloatSlider, Layout, ToggleButton, ToggleButtons, fixed\n",
    "\n",
    "style = {'description_width': '100px'}\n",
    "slider_layout = Layout(width='99%')"
   ]
  },
  {
   "cell_type": "markdown",
   "metadata": {},
   "source": [
    "## Caution Extensions to SIR Model"
   ]
  },
  {
   "cell_type": "markdown",
   "metadata": {},
   "source": [
    "### SIR model"
   ]
  },
  {
   "cell_type": "markdown",
   "metadata": {},
   "source": [
    "#### Equations\n",
    "\n",
    "\\begin{equation}\n",
    "\\begin{split}\n",
    "\\dot{S} &= -\\beta I S\\\\\n",
    "\\dot{I} &= \\beta I S - \\gamma I - \\mu I\\\\\n",
    "\\dot{R} & = \\gamma I \\\\\n",
    "\\dot{D} & = \\mu I\n",
    "\\end{split}\n",
    "\\end{equation}\n",
    "\n",
    "\n",
    "#### Variables\n",
    "* $S$: Susceptible individuals\n",
    "* $I$: Infected individuals \n",
    "* $R$: individuals who have recovered from disease and are now immune\n",
    "* $D$: Dead individuals\n",
    "* $N=S+I+R+D$ Total population size (constant)\n",
    "\n",
    "#### Parameters\n",
    "* $\\beta$ rate at which infected individuals contact susceptibles and infect them\n",
    "* $\\gamma$ rate at which infected individuals recover from disease and become immune\n",
    "* $\\mu$ death rate for infected individuals"
   ]
  },
  {
   "cell_type": "markdown",
   "metadata": {},
   "source": [
    "#### Implementation\n",
    "Using PyGOM, we will set up my simple SCIR model ODE system\n",
    "PyGOM – A Python Package for Simplifying Modelling with Systems of Ordinary Differential Equations https://arxiv.org/pdf/1803.06934.pdf"
   ]
  },
  {
   "cell_type": "code",
   "execution_count": 4,
   "metadata": {},
   "outputs": [],
   "source": [
    "# set up the symbolic SIR model, actually SIRD including deaths\n",
    "\n",
    "state = ['S', 'I', 'R', 'D']\n",
    "param_list = ['beta', 'gamma','mu','N']\n",
    "\n",
    "transition = [\n",
    "    Transition(origin='S', destination='I', equation='beta*I*S',\n",
    "               transition_type=TransitionType.T),\n",
    "    Transition(origin='I', destination='R', equation='gamma*I',\n",
    "               transition_type=TransitionType.T),\n",
    "    Transition(origin='I', destination='D', equation='mu*I',\n",
    "               transition_type=TransitionType.T)    \n",
    "    ]\n",
    "\n",
    "SIR_model = DeterministicOde(state, param_list, transition=transition)\n",
    "SIR_model.modelname='SIR'\n",
    "SIR_model.ei=1\n",
    "SIR_model.confirmed=slice(1,4)  # cases 1-3 i.e. I, R and D\n",
    "SIR_model.recovered=slice(2,3)\n",
    "SIR_model.deaths=slice(3,4)"
   ]
  },
  {
   "cell_type": "code",
   "execution_count": 5,
   "metadata": {},
   "outputs": [
    {
     "data": {
      "text/latex": [
       "$\\displaystyle \\left[\\begin{matrix}d{S}/dt= & - I S \\beta\\\\d{I}/dt= & I S \\beta - I \\gamma - I \\mu\\\\d{R}/dt= & I \\gamma\\\\d{D}/dt= & I \\mu\\end{matrix}\\right]$"
      ],
      "text/plain": [
       "Matrix([\n",
       "[d{S}/dt=,                 -I*S*beta],\n",
       "[d{I}/dt=, I*S*beta - I*gamma - I*mu],\n",
       "[d{R}/dt=,                   I*gamma],\n",
       "[d{D}/dt=,                      I*mu]])"
      ]
     },
     "execution_count": 5,
     "metadata": {},
     "output_type": "execute_result"
    }
   ],
   "source": [
    "# display equations\n",
    "print_ode2(SIR_model)"
   ]
  },
  {
   "cell_type": "code",
   "execution_count": 6,
   "metadata": {},
   "outputs": [
    {
     "data": {
      "image/png": "[encoded data removed]",
      "text/plain": [
       "<Figure size 432x288 with 1 Axes>"
      ]
     },
     "metadata": {
      "needs_background": "light"
     },
     "output_type": "display_data"
    },
    {
     "data": {
      "image/svg+xml": [
       "<?xml version=\"1.0\" encoding=\"UTF-8\" standalone=\"no\"?>\n",
       "<!DOCTYPE svg PUBLIC \"-//W3C//DTD SVG 1.1//EN\"\n",
       " \"http://www.w3.org/Graphics/SVG/1.1/DTD/svg11.dtd\">\n",
       "<!-- Generated by graphviz version 2.44.0 (20200408.0750)\n",
       " -->\n",
       "<!-- Pages: 1 -->\n",
       "<svg width=\"295pt\" height=\"98pt\"\n",
       " viewBox=\"0.00 0.00 295.00 98.00\" xmlns=\"http://www.w3.org/2000/svg\" xmlns:xlink=\"http://www.w3.org/1999/xlink\">\n",
       "<g id=\"graph0\" class=\"graph\" transform=\"scale(1 1) rotate(0) translate(4 94)\">\n",
       "<polygon fill=\"white\" stroke=\"transparent\" points=\"-4,4 -4,-94 291,-94 291,4 -4,4\"/>\n",
       "<!-- S -->\n",
       "<g id=\"node1\" class=\"node\">\n",
       "<title>S</title>\n",
       "<ellipse fill=\"none\" stroke=\"black\" cx=\"27\" cy=\"-45\" rx=\"27\" ry=\"18\"/>\n",
       "<text text-anchor=\"middle\" x=\"27\" y=\"-41.3\" font-family=\"Times,serif\" font-size=\"14.00\">S</text>\n",
       "</g>\n",
       "<!-- I -->\n",
       "<g id=\"node2\" class=\"node\">\n",
       "<title>I</title>\n",
       "<ellipse fill=\"none\" stroke=\"black\" cx=\"151\" cy=\"-45\" rx=\"27\" ry=\"18\"/>\n",
       "<text text-anchor=\"middle\" x=\"151\" y=\"-41.3\" font-family=\"Times,serif\" font-size=\"14.00\">I</text>\n",
       "</g>\n",
       "<!-- S&#45;&gt;I -->\n",
       "<g id=\"edge1\" class=\"edge\">\n",
       "<title>S&#45;&gt;I</title>\n",
       "<path fill=\"none\" stroke=\"black\" d=\"M54.17,-45C71.54,-45 94.57,-45 113.7,-45\"/>\n",
       "<polygon fill=\"black\" stroke=\"black\" points=\"113.87,-48.5 123.87,-45 113.87,-41.5 113.87,-48.5\"/>\n",
       "<text text-anchor=\"middle\" x=\"89\" y=\"-48.8\" font-family=\"Times,serif\" font-size=\"14.00\">β*I*S</text>\n",
       "</g>\n",
       "<!-- R -->\n",
       "<g id=\"node3\" class=\"node\">\n",
       "<title>R</title>\n",
       "<ellipse fill=\"none\" stroke=\"black\" cx=\"260\" cy=\"-72\" rx=\"27\" ry=\"18\"/>\n",
       "<text text-anchor=\"middle\" x=\"260\" y=\"-68.3\" font-family=\"Times,serif\" font-size=\"14.00\">R</text>\n",
       "</g>\n",
       "<!-- I&#45;&gt;R -->\n",
       "<g id=\"edge2\" class=\"edge\">\n",
       "<title>I&#45;&gt;R</title>\n",
       "<path fill=\"none\" stroke=\"black\" d=\"M176.55,-51.19C190.82,-54.8 209.03,-59.39 224.7,-63.34\"/>\n",
       "<polygon fill=\"black\" stroke=\"black\" points=\"224.01,-66.78 234.57,-65.83 225.73,-59.99 224.01,-66.78\"/>\n",
       "<text text-anchor=\"middle\" x=\"205.5\" y=\"-63.8\" font-family=\"Times,serif\" font-size=\"14.00\">γ*I</text>\n",
       "</g>\n",
       "<!-- D -->\n",
       "<g id=\"node4\" class=\"node\">\n",
       "<title>D</title>\n",
       "<ellipse fill=\"none\" stroke=\"black\" cx=\"260\" cy=\"-18\" rx=\"27\" ry=\"18\"/>\n",
       "<text text-anchor=\"middle\" x=\"260\" y=\"-14.3\" font-family=\"Times,serif\" font-size=\"14.00\">D</text>\n",
       "</g>\n",
       "<!-- I&#45;&gt;D -->\n",
       "<g id=\"edge3\" class=\"edge\">\n",
       "<title>I&#45;&gt;D</title>\n",
       "<path fill=\"none\" stroke=\"black\" d=\"M176.55,-38.81C190.82,-35.2 209.03,-30.61 224.7,-26.66\"/>\n",
       "<polygon fill=\"black\" stroke=\"black\" points=\"225.73,-30.01 234.57,-24.17 224.01,-23.22 225.73,-30.01\"/>\n",
       "<text text-anchor=\"middle\" x=\"205.5\" y=\"-36.8\" font-family=\"Times,serif\" font-size=\"14.00\">μ*I</text>\n",
       "</g>\n",
       "</g>\n",
       "</svg>\n"
      ],
      "text/plain": [
       "<graphviz.dot.Digraph at 0x127cb5b90>"
      ]
     },
     "execution_count": 6,
     "metadata": {},
     "output_type": "execute_result"
    }
   ],
   "source": [
    "# display graphical representation of the model\n",
    "SIR_model.get_transition_graph()"
   ]
  },
  {
   "cell_type": "markdown",
   "metadata": {},
   "source": [
    "##### Derived equations, Jacobian and gradient"
   ]
  },
  {
   "cell_type": "code",
   "execution_count": 7,
   "metadata": {},
   "outputs": [
    {
     "data": {
      "text/latex": [
       "$\\displaystyle \\left[\\begin{matrix}- I S \\beta\\\\I S \\beta - I \\gamma - I \\mu\\\\I \\gamma\\\\I \\mu\\end{matrix}\\right]$"
      ],
      "text/plain": [
       "Matrix([\n",
       "[                -I*S*beta],\n",
       "[I*S*beta - I*gamma - I*mu],\n",
       "[                  I*gamma],\n",
       "[                     I*mu]])"
      ]
     },
     "execution_count": 7,
     "metadata": {},
     "output_type": "execute_result"
    }
   ],
   "source": [
    "SIR_model.get_ode_eqn()"
   ]
  },
  {
   "cell_type": "code",
   "execution_count": 8,
   "metadata": {},
   "outputs": [
    {
     "data": {
      "text/latex": [
       "$\\displaystyle \\left[\\begin{matrix}- I \\beta & - S \\beta & 0 & 0\\\\I \\beta & S \\beta - \\gamma - \\mu & 0 & 0\\\\0 & \\gamma & 0 & 0\\\\0 & \\mu & 0 & 0\\end{matrix}\\right]$"
      ],
      "text/plain": [
       "Matrix([\n",
       "[-I*beta,             -S*beta, 0, 0],\n",
       "[ I*beta, S*beta - gamma - mu, 0, 0],\n",
       "[      0,               gamma, 0, 0],\n",
       "[      0,                  mu, 0, 0]])"
      ]
     },
     "execution_count": 8,
     "metadata": {},
     "output_type": "execute_result"
    }
   ],
   "source": [
    "SIR_model.get_jacobian_eqn()"
   ]
  },
  {
   "cell_type": "code",
   "execution_count": 9,
   "metadata": {
    "scrolled": false
   },
   "outputs": [
    {
     "data": {
      "text/latex": [
       "$\\displaystyle \\left[\\begin{matrix}- I S & 0 & 0 & 0\\\\I S & - I & - I & 0\\\\0 & I & 0 & 0\\\\0 & 0 & I & 0\\end{matrix}\\right]$"
      ],
      "text/plain": [
       "Matrix([\n",
       "[-I*S,  0,  0, 0],\n",
       "[ I*S, -I, -I, 0],\n",
       "[   0,  I,  0, 0],\n",
       "[   0,  0,  I, 0]])"
      ]
     },
     "execution_count": 9,
     "metadata": {},
     "output_type": "execute_result"
    }
   ],
   "source": [
    "SIR_model.get_grad_eqn()"
   ]
  },
  {
   "cell_type": "markdown",
   "metadata": {},
   "source": [
    "### SCIR model"
   ]
  },
  {
   "cell_type": "markdown",
   "metadata": {},
   "source": [
    "#### Equations\n",
    "\n",
    "\\begin{equation}\n",
    "\\begin{split}\n",
    "\\dot{S} &= -\\beta I S + c_1 S_c - c_2*S*I\\\\\n",
    "\\dot{S_c} &= - c_0 \\beta I S_c - c_1 S_c + c_2*S*I\\\\\n",
    "\\dot{I} &= \\beta I S - \\gamma I - \\mu I\\\\\n",
    "\\dot{R} & = \\gamma I \\\\\n",
    "\\dot{D} & = \\mu I\n",
    "\\end{split}\n",
    "\\end{equation}\n",
    "\n",
    "The use of I as a state variable triggering susceptibles to execute caution is just one choice. In contrast with deaths, it does not accumulate over time and so retains the property of an active threat to society, rather than an historical one. Alternatively, one could use the daily death rate which is proportional to it.\n",
    "\n",
    "Actually, the effect of caution may be quadratic, since both the individual doing the infection and individual potentially being infected may be executing caution. The current version assumes that infectives do not change their precautionary measures in response to I. To implement this we would need to further distinguish careful and non careful infectives. This is done in the SC2IR model.\n",
    "\n",
    "#### Variables\n",
    "* $S$: Susceptible individuals living as normal\n",
    "* $S_c$: Susceptible individuals exercising pandemy precautions\n",
    "* $I$: Infected individuals \n",
    "* $R$: individuals who have recovered from disease and are now immune\n",
    "* $D$: Dead individuals\n",
    "* $N=S+S_c+I+R+D$ Total population size (constant)\n",
    "\n",
    "#### Parameters\n",
    "* $\\beta$ rate at which infected individuals contact susceptibles and infect them\n",
    "* $\\gamma$ rate at which infected individuals recover from disease and become immune\n",
    "* $\\mu$ death rate for infected individuals\n",
    "\n",
    "* $c_i$ three parameters characterizing cautionary response of population via class $S_c$\n",
    "\n",
    "    - c_0 : reduction factor for exposure for cautioned susceptibles\n",
    "\n",
    "    - c_1 : duration of caution (exponential decay time constant in days)\n",
    "\n",
    "    - c_2 : rate constant for transition from uncautioned to cautioned susceptible"
   ]
  },
  {
   "cell_type": "markdown",
   "metadata": {},
   "source": [
    "#### Implementation\n",
    "Using PyGOM, we will set up my simple SCIR model ODE system\n",
    "PyGOM – A Python Package for Simplifying Modelling with Systems of Ordinary Differential Equations https://arxiv.org/pdf/1803.06934.pdf"
   ]
  },
  {
   "cell_type": "code",
   "execution_count": 10,
   "metadata": {},
   "outputs": [],
   "source": [
    "# set up symbolic model\n",
    "\n",
    "state = ['S', 'I', 'R', 'D', 'S_c']\n",
    "param_list = ['beta', 'gamma', 'mu', 'c_0', 'c_1', 'c_2', 'N']\n",
    "\n",
    "transition = [\n",
    "    Transition(origin='S', destination='I', equation='beta*I*S',\n",
    "               transition_type=TransitionType.T),\n",
    "    Transition(origin='S', destination='S_c', equation='c_2*I*S',\n",
    "               transition_type=TransitionType.T),\n",
    "    Transition(origin='S_c', destination='S', equation='c_1*S_c',\n",
    "               transition_type=TransitionType.T),\n",
    "    Transition(origin='S_c', destination='I', equation='c_0*beta*I*S_c',\n",
    "               transition_type=TransitionType.T),\n",
    "    Transition(origin='I', destination='R', equation='gamma*I',\n",
    "               transition_type=TransitionType.T),\n",
    "    Transition(origin='I', destination='D', equation='mu*I',\n",
    "               transition_type=TransitionType.T)    \n",
    "    ]\n",
    "\n",
    "SCIR_model = DeterministicOde(state, param_list, transition=transition)\n",
    "SCIR_model.modelname='SCIR'\n",
    "SCIR_model.ei=1\n",
    "SCIR_model.confirmed=slice(1,4)  # cases 1-3 i.e. I, R and D\n",
    "SCIR_model.recovered=slice(2,3)\n",
    "SCIR_model.deaths=slice(3,4)"
   ]
  },
  {
   "cell_type": "code",
   "execution_count": 11,
   "metadata": {},
   "outputs": [
    {
     "data": {
      "text/latex": [
       "$\\displaystyle \\left[\\begin{matrix}d{S}/dt= & - I S \\beta - I S c_{2} + S_{c} c_{1}\\\\d{I}/dt= & I S \\beta + I S_{c} \\beta c_{0} - I \\gamma - I \\mu\\\\d{R}/dt= & I \\gamma\\\\d{D}/dt= & I \\mu\\\\d{S_c}/dt= & I S c_{2} - I S_{c} \\beta c_{0} - S_{c} c_{1}\\end{matrix}\\right]$"
      ],
      "text/plain": [
       "Matrix([\n",
       "[  d{S}/dt=,              -I*S*beta - I*S*c_2 + S_c*c_1],\n",
       "[  d{I}/dt=, I*S*beta + I*S_c*beta*c_0 - I*gamma - I*mu],\n",
       "[  d{R}/dt=,                                    I*gamma],\n",
       "[  d{D}/dt=,                                       I*mu],\n",
       "[d{S_c}/dt=,         I*S*c_2 - I*S_c*beta*c_0 - S_c*c_1]])"
      ]
     },
     "execution_count": 11,
     "metadata": {},
     "output_type": "execute_result"
    }
   ],
   "source": [
    "# display equations\n",
    "print_ode2(SCIR_model)"
   ]
  },
  {
   "cell_type": "code",
   "execution_count": 12,
   "metadata": {},
   "outputs": [
    {
     "data": {
      "image/png": "[encoded data removed]",
      "text/plain": [
       "<Figure size 432x288 with 1 Axes>"
      ]
     },
     "metadata": {
      "needs_background": "light"
     },
     "output_type": "display_data"
    },
    {
     "data": {
      "image/svg+xml": [
       "<?xml version=\"1.0\" encoding=\"UTF-8\" standalone=\"no\"?>\n",
       "<!DOCTYPE svg PUBLIC \"-//W3C//DTD SVG 1.1//EN\"\n",
       " \"http://www.w3.org/Graphics/SVG/1.1/DTD/svg11.dtd\">\n",
       "<!-- Generated by graphviz version 2.44.0 (20200408.0750)\n",
       " -->\n",
       "<!-- Pages: 1 -->\n",
       "<svg width=\"471pt\" height=\"98pt\"\n",
       " viewBox=\"0.00 0.00 471.00 98.00\" xmlns=\"http://www.w3.org/2000/svg\" xmlns:xlink=\"http://www.w3.org/1999/xlink\">\n",
       "<g id=\"graph0\" class=\"graph\" transform=\"scale(1 1) rotate(0) translate(4 94)\">\n",
       "<polygon fill=\"white\" stroke=\"transparent\" points=\"-4,4 -4,-94 467,-94 467,4 -4,4\"/>\n",
       "<!-- S -->\n",
       "<g id=\"node1\" class=\"node\">\n",
       "<title>S</title>\n",
       "<ellipse fill=\"none\" stroke=\"black\" cx=\"27\" cy=\"-42\" rx=\"27\" ry=\"18\"/>\n",
       "<text text-anchor=\"middle\" x=\"27\" y=\"-38.3\" font-family=\"Times,serif\" font-size=\"14.00\">S</text>\n",
       "</g>\n",
       "<!-- I -->\n",
       "<g id=\"node2\" class=\"node\">\n",
       "<title>I</title>\n",
       "<ellipse fill=\"none\" stroke=\"black\" cx=\"327\" cy=\"-45\" rx=\"27\" ry=\"18\"/>\n",
       "<text text-anchor=\"middle\" x=\"327\" y=\"-41.3\" font-family=\"Times,serif\" font-size=\"14.00\">I</text>\n",
       "</g>\n",
       "<!-- S&#45;&gt;I -->\n",
       "<g id=\"edge1\" class=\"edge\">\n",
       "<title>S&#45;&gt;I</title>\n",
       "<path fill=\"none\" stroke=\"black\" d=\"M52.52,-48.46C58.82,-49.87 65.63,-51.19 72,-52 164.61,-63.76 189.35,-67.41 282,-56 285.28,-55.6 288.67,-55.03 292.05,-54.36\"/>\n",
       "<polygon fill=\"black\" stroke=\"black\" points=\"293,-57.73 301.99,-52.13 291.47,-50.9 293,-57.73\"/>\n",
       "<text text-anchor=\"middle\" x=\"164\" y=\"-65.8\" font-family=\"Times,serif\" font-size=\"14.00\">β*I*S</text>\n",
       "</g>\n",
       "<!-- S_c -->\n",
       "<g id=\"node5\" class=\"node\">\n",
       "<title>S_c</title>\n",
       "<ellipse fill=\"none\" stroke=\"black\" cx=\"164\" cy=\"-18\" rx=\"27\" ry=\"18\"/>\n",
       "<text text-anchor=\"middle\" x=\"164\" y=\"-14.3\" font-family=\"Times,serif\" font-size=\"14.00\">S_c</text>\n",
       "</g>\n",
       "<!-- S&#45;&gt;S_c -->\n",
       "<g id=\"edge2\" class=\"edge\">\n",
       "<title>S&#45;&gt;S_c</title>\n",
       "<path fill=\"none\" stroke=\"black\" d=\"M53.39,-37.49C74.42,-33.75 104.52,-28.4 127.86,-24.25\"/>\n",
       "<polygon fill=\"black\" stroke=\"black\" points=\"128.49,-27.69 137.72,-22.49 127.26,-20.8 128.49,-27.69\"/>\n",
       "<text text-anchor=\"middle\" x=\"95.5\" y=\"-36.8\" font-family=\"Times,serif\" font-size=\"14.00\">c_2*I*S</text>\n",
       "</g>\n",
       "<!-- R -->\n",
       "<g id=\"node3\" class=\"node\">\n",
       "<title>R</title>\n",
       "<ellipse fill=\"none\" stroke=\"black\" cx=\"436\" cy=\"-72\" rx=\"27\" ry=\"18\"/>\n",
       "<text text-anchor=\"middle\" x=\"436\" y=\"-68.3\" font-family=\"Times,serif\" font-size=\"14.00\">R</text>\n",
       "</g>\n",
       "<!-- I&#45;&gt;R -->\n",
       "<g id=\"edge5\" class=\"edge\">\n",
       "<title>I&#45;&gt;R</title>\n",
       "<path fill=\"none\" stroke=\"black\" d=\"M352.55,-51.19C366.82,-54.8 385.03,-59.39 400.7,-63.34\"/>\n",
       "<polygon fill=\"black\" stroke=\"black\" points=\"400.01,-66.78 410.57,-65.83 401.73,-59.99 400.01,-66.78\"/>\n",
       "<text text-anchor=\"middle\" x=\"381.5\" y=\"-63.8\" font-family=\"Times,serif\" font-size=\"14.00\">γ*I</text>\n",
       "</g>\n",
       "<!-- D -->\n",
       "<g id=\"node4\" class=\"node\">\n",
       "<title>D</title>\n",
       "<ellipse fill=\"none\" stroke=\"black\" cx=\"436\" cy=\"-18\" rx=\"27\" ry=\"18\"/>\n",
       "<text text-anchor=\"middle\" x=\"436\" y=\"-14.3\" font-family=\"Times,serif\" font-size=\"14.00\">D</text>\n",
       "</g>\n",
       "<!-- I&#45;&gt;D -->\n",
       "<g id=\"edge6\" class=\"edge\">\n",
       "<title>I&#45;&gt;D</title>\n",
       "<path fill=\"none\" stroke=\"black\" d=\"M352.55,-38.81C366.82,-35.2 385.03,-30.61 400.7,-26.66\"/>\n",
       "<polygon fill=\"black\" stroke=\"black\" points=\"401.73,-30.01 410.57,-24.17 400.01,-23.22 401.73,-30.01\"/>\n",
       "<text text-anchor=\"middle\" x=\"381.5\" y=\"-36.8\" font-family=\"Times,serif\" font-size=\"14.00\">μ*I</text>\n",
       "</g>\n",
       "<!-- S_c&#45;&gt;S -->\n",
       "<g id=\"edge3\" class=\"edge\">\n",
       "<title>S_c&#45;&gt;S</title>\n",
       "<path fill=\"none\" stroke=\"black\" d=\"M139.95,-9.63C121.18,-4.12 94.24,0.77 72,-7 63.97,-9.81 56.3,-14.76 49.68,-20.07\"/>\n",
       "<polygon fill=\"black\" stroke=\"black\" points=\"47.14,-17.65 41.92,-26.86 51.75,-22.92 47.14,-17.65\"/>\n",
       "<text text-anchor=\"middle\" x=\"95.5\" y=\"-10.8\" font-family=\"Times,serif\" font-size=\"14.00\">c_1*S_c</text>\n",
       "</g>\n",
       "<!-- S_c&#45;&gt;I -->\n",
       "<g id=\"edge4\" class=\"edge\">\n",
       "<title>S_c&#45;&gt;I</title>\n",
       "<path fill=\"none\" stroke=\"black\" d=\"M190.51,-22.28C217.48,-26.8 260.22,-33.97 290.47,-39.04\"/>\n",
       "<polygon fill=\"black\" stroke=\"black\" points=\"290.17,-42.54 300.61,-40.74 291.33,-35.64 290.17,-42.54\"/>\n",
       "<text text-anchor=\"middle\" x=\"245.5\" y=\"-40.8\" font-family=\"Times,serif\" font-size=\"14.00\">c_0*β*I*S_c</text>\n",
       "</g>\n",
       "</g>\n",
       "</svg>\n"
      ],
      "text/plain": [
       "<graphviz.dot.Digraph at 0x127f5c4d0>"
      ]
     },
     "execution_count": 12,
     "metadata": {},
     "output_type": "execute_result"
    }
   ],
   "source": [
    "# display graphical representation of the model\n",
    "SCIR_model.get_transition_graph()"
   ]
  },
  {
   "cell_type": "markdown",
   "metadata": {},
   "source": [
    "### SC2IR model"
   ]
  },
  {
   "cell_type": "markdown",
   "metadata": {
    "heading_collapsed": true
   },
   "source": [
    "#### Equations\n",
    "\n",
    "\\begin{equation}\n",
    "\\begin{split}\n",
    "\\dot{S} &= -\\beta (I + c_0 I_c) S + c_1 S_c - c_2 S (I + I_c)\\\\\n",
    "\\dot{S_c} &= - c_0 \\beta (I + c_0 I_c) S_c - c_1 S_c + c_2 S (I + I_c)\\\\\n",
    "\\dot{I} &= \\beta (I + c_0 I_c) S - \\gamma I - \\mu I\\\\\n",
    "\\dot{I_c} &= \\beta (I + c_0 I_c) S_c - \\gamma I_c - \\mu I_c\\\\\n",
    "\\dot{R} & = \\gamma (I + I_c)\\\\\n",
    "\\dot{D} & = \\mu (I + I_c)\n",
    "\\end{split}\n",
    "\\end{equation}\n",
    "\n",
    "The use of I as a state variable triggering susceptibles to execute caution is just one choice. In contrast with deaths, it does not accumulate over time and so retains the property of an active threat to society, rather than an historical one. Alternatively, one could use the daily death rate which is proportional to it.\n",
    "\n",
    "The effect of caution may be quadratic, since both the individual doing the infection and individual potentially being infected may be executing caution. To implement this we distinguish careful and non careful infectives. We ignore infectives making the transition to caution or relaxing it.\n",
    "\n",
    "#### Variables\n",
    "* $S$: Susceptible individuals living as normal\n",
    "* $S_c$: Susceptible individuals exercising pandemy precautions\n",
    "* $I$: Infected individuals non exercising pandemy precautions\n",
    "* $I_c$: Infected individuals exercising pandemy precautions \n",
    "* $R$: individuals who have recovered from disease and are now immune\n",
    "* $D$: Dead individuals\n",
    "* $N=S+S_c+I+I_c+R+D$ Total population size (constant)\n",
    "\n",
    "#### Parameters\n",
    "* $\\beta$ rate at which infected individuals contact susceptibles and infect them\n",
    "* $\\gamma$ rate at which infected individuals recover from disease and become immune\n",
    "* $\\mu$ death rate for infected individuals\n",
    "\n",
    "* $c_i$ three parameters characterizing cautionary response of population via class $S_c$\n",
    "\n",
    "    - c_0 : reduction factor for exposure for cautioned susceptibles\n",
    "\n",
    "    - c_1 : duration of caution (exponential decay time constant in days)\n",
    "\n",
    "    - c_2 : rate constant for transition from uncautioned to cautioned susceptible"
   ]
  },
  {
   "cell_type": "markdown",
   "metadata": {},
   "source": [
    "#### Implementation\n",
    "Using PyGOM, we will set up my simple SCIR model ODE system\n",
    "PyGOM – A Python Package for Simplifying Modelling with Systems of Ordinary Differential Equations https://arxiv.org/pdf/1803.06934.pdf"
   ]
  },
  {
   "cell_type": "code",
   "execution_count": 13,
   "metadata": {},
   "outputs": [],
   "source": [
    "# set up symbolic model\n",
    "\n",
    "state = ['S', 'I', 'R', 'D', 'I_c', 'S_c']\n",
    "param_list = ['beta', 'gamma', 'mu', 'c_0', 'c_1', 'c_2', 'N']\n",
    "\n",
    "transition = [\n",
    "    Transition(origin='S', destination='I', equation='beta*(I+c_0*I_c)*S',\n",
    "               transition_type=TransitionType.T),\n",
    "    Transition(origin='S', destination='S_c', equation='c_2*(I+I_c)*S',\n",
    "               transition_type=TransitionType.T),\n",
    "    Transition(origin='S_c', destination='S', equation='c_1*S_c',\n",
    "               transition_type=TransitionType.T),\n",
    "    Transition(origin='S_c', destination='I_c', equation='c_0*beta*(I+c_0*I_c)*S_c',\n",
    "               transition_type=TransitionType.T),\n",
    "    Transition(origin='I', destination='R', equation='gamma*I',\n",
    "               transition_type=TransitionType.T),\n",
    "    Transition(origin='I', destination='D', equation='mu*I',\n",
    "               transition_type=TransitionType.T),\n",
    "    Transition(origin='I_c', destination='R', equation='gamma*I_c',\n",
    "               transition_type=TransitionType.T),\n",
    "    Transition(origin='I_c', destination='D', equation='mu*I_c',\n",
    "               transition_type=TransitionType.T)  #,\n",
    "#    Transition(origin='I_c', destination='I', equation='c_1*I_c',\n",
    "#               transition_type=TransitionType.T),\n",
    "#    Transition(origin='I', destination='I_c', equation='c_2*(I+I_c)*I',\n",
    "#               transition_type=TransitionType.T)    \n",
    "    ]\n",
    "\n",
    "SC2IR_model = DeterministicOde(state, param_list, transition=transition)\n",
    "SC2IR_model.modelname='SC2IR'\n",
    "\n",
    "SC2IR_model.ei=1\n",
    "SC2IR_model.confirmed=slice(1,5)  # cases 1-3 i.e. I, R and D\n",
    "SC2IR_model.recovered=slice(2,3)\n",
    "SC2IR_model.deaths=slice(3,4)"
   ]
  },
  {
   "cell_type": "code",
   "execution_count": 14,
   "metadata": {},
   "outputs": [
    {
     "data": {
      "text/latex": [
       "$\\displaystyle \\left[\\begin{matrix}d{S}/dt= & - S \\beta \\left(I + I_{c} c_{0}\\right) - S c_{2} \\left(I + I_{c}\\right) + S_{c} c_{1}\\\\d{I}/dt= & - I \\gamma - I \\mu + S \\beta \\left(I + I_{c} c_{0}\\right)\\\\d{R}/dt= & I \\gamma + I_{c} \\gamma\\\\d{D}/dt= & I \\mu + I_{c} \\mu\\\\d{I_c}/dt= & - I_{c} \\gamma - I_{c} \\mu + S_{c} \\beta c_{0} \\left(I + I_{c} c_{0}\\right)\\\\d{S_c}/dt= & S c_{2} \\left(I + I_{c}\\right) - S_{c} \\beta c_{0} \\left(I + I_{c} c_{0}\\right) - S_{c} c_{1}\\end{matrix}\\right]$"
      ],
      "text/plain": [
       "Matrix([\n",
       "[  d{S}/dt=,      -S*beta*(I + I_c*c_0) - S*c_2*(I + I_c) + S_c*c_1],\n",
       "[  d{I}/dt=,                 -I*gamma - I*mu + S*beta*(I + I_c*c_0)],\n",
       "[  d{R}/dt=,                                    I*gamma + I_c*gamma],\n",
       "[  d{D}/dt=,                                          I*mu + I_c*mu],\n",
       "[d{I_c}/dt=,       -I_c*gamma - I_c*mu + S_c*beta*c_0*(I + I_c*c_0)],\n",
       "[d{S_c}/dt=, S*c_2*(I + I_c) - S_c*beta*c_0*(I + I_c*c_0) - S_c*c_1]])"
      ]
     },
     "execution_count": 14,
     "metadata": {},
     "output_type": "execute_result"
    }
   ],
   "source": [
    "# display equations\n",
    "print_ode2(SC2IR_model)"
   ]
  },
  {
   "cell_type": "markdown",
   "metadata": {},
   "source": [
    "\n",
    "\\begin{equation}\n",
    "\\begin{split}\n",
    "\\dot{S} &= -\\beta (I + c_0 I_c) S + c_1 S_c - c_2 S (I + I_c)\\\\\n",
    "\\dot{S_c} &= - c_0 \\beta (I + c_0 I_c) S_c - c_1 S_c + c_2 S (I + I_c)\\\\\n",
    "\\dot{I} &= \\beta (I + c_0 I_c) S - \\gamma I - \\mu I\\\\\n",
    "\\dot{I_c} &= \\beta (I + c_0 I_c) S_c - \\gamma I_c - \\mu I_c\\\\\n",
    "\\dot{R} & = \\gamma (I + I_c)\\\\\n",
    "\\dot{D} & = \\mu (I + I_c)\n",
    "\\end{split}\n",
    "\\end{equation}\n"
   ]
  },
  {
   "cell_type": "code",
   "execution_count": 15,
   "metadata": {},
   "outputs": [
    {
     "data": {
      "image/png": "[encoded data removed]",
      "text/plain": [
       "<Figure size 432x288 with 1 Axes>"
      ]
     },
     "metadata": {
      "needs_background": "light"
     },
     "output_type": "display_data"
    },
    {
     "data": {
      "image/svg+xml": [
       "<?xml version=\"1.0\" encoding=\"UTF-8\" standalone=\"no\"?>\n",
       "<!DOCTYPE svg PUBLIC \"-//W3C//DTD SVG 1.1//EN\"\n",
       " \"http://www.w3.org/Graphics/SVG/1.1/DTD/svg11.dtd\">\n",
       "<!-- Generated by graphviz version 2.44.0 (20200408.0750)\n",
       " -->\n",
       "<!-- Pages: 1 -->\n",
       "<svg width=\"617pt\" height=\"127pt\"\n",
       " viewBox=\"0.00 0.00 617.00 127.06\" xmlns=\"http://www.w3.org/2000/svg\" xmlns:xlink=\"http://www.w3.org/1999/xlink\">\n",
       "<g id=\"graph0\" class=\"graph\" transform=\"scale(1 1) rotate(0) translate(4 123.06)\">\n",
       "<polygon fill=\"white\" stroke=\"transparent\" points=\"-4,4 -4,-123.06 613,-123.06 613,4 -4,4\"/>\n",
       "<!-- S -->\n",
       "<g id=\"node1\" class=\"node\">\n",
       "<title>S</title>\n",
       "<ellipse fill=\"none\" stroke=\"black\" cx=\"27\" cy=\"-63.06\" rx=\"27\" ry=\"18\"/>\n",
       "<text text-anchor=\"middle\" x=\"27\" y=\"-59.36\" font-family=\"Times,serif\" font-size=\"14.00\">S</text>\n",
       "</g>\n",
       "<!-- I -->\n",
       "<g id=\"node2\" class=\"node\">\n",
       "<title>I</title>\n",
       "<ellipse fill=\"none\" stroke=\"black\" cx=\"460\" cy=\"-93.06\" rx=\"27\" ry=\"18\"/>\n",
       "<text text-anchor=\"middle\" x=\"460\" y=\"-89.36\" font-family=\"Times,serif\" font-size=\"14.00\">I</text>\n",
       "</g>\n",
       "<!-- S&#45;&gt;I -->\n",
       "<g id=\"edge1\" class=\"edge\">\n",
       "<title>S&#45;&gt;I</title>\n",
       "<path fill=\"none\" stroke=\"black\" d=\"M52.04,-69.98C58.47,-71.58 65.46,-73.1 72,-74.06 199.59,-92.96 353.16,-94.21 422.21,-93.65\"/>\n",
       "<polygon fill=\"black\" stroke=\"black\" points=\"422.58,-97.14 432.55,-93.54 422.51,-90.14 422.58,-97.14\"/>\n",
       "<text text-anchor=\"middle\" x=\"217\" y=\"-93.86\" font-family=\"Times,serif\" font-size=\"14.00\">β*(I+c_0*I_c)*S</text>\n",
       "</g>\n",
       "<!-- S_c -->\n",
       "<g id=\"node6\" class=\"node\">\n",
       "<title>S_c</title>\n",
       "<ellipse fill=\"none\" stroke=\"black\" cx=\"217\" cy=\"-32.06\" rx=\"27\" ry=\"18\"/>\n",
       "<text text-anchor=\"middle\" x=\"217\" y=\"-28.36\" font-family=\"Times,serif\" font-size=\"14.00\">S_c</text>\n",
       "</g>\n",
       "<!-- S&#45;&gt;S_c -->\n",
       "<g id=\"edge2\" class=\"edge\">\n",
       "<title>S&#45;&gt;S_c</title>\n",
       "<path fill=\"none\" stroke=\"black\" d=\"M41.38,-47.46C49.34,-39.4 60.18,-30.37 72,-26.06 107.75,-13.03 151.84,-17.6 181.75,-23.46\"/>\n",
       "<polygon fill=\"black\" stroke=\"black\" points=\"181.19,-26.92 191.7,-25.55 182.63,-20.07 181.19,-26.92\"/>\n",
       "<text text-anchor=\"middle\" x=\"112\" y=\"-29.86\" font-family=\"Times,serif\" font-size=\"14.00\">c_2*(I+I_c)*S</text>\n",
       "</g>\n",
       "<!-- R -->\n",
       "<g id=\"node3\" class=\"node\">\n",
       "<title>R</title>\n",
       "<ellipse fill=\"none\" stroke=\"black\" cx=\"582\" cy=\"-101.06\" rx=\"27\" ry=\"18\"/>\n",
       "<text text-anchor=\"middle\" x=\"582\" y=\"-97.36\" font-family=\"Times,serif\" font-size=\"14.00\">R</text>\n",
       "</g>\n",
       "<!-- I&#45;&gt;R -->\n",
       "<g id=\"edge5\" class=\"edge\">\n",
       "<title>I&#45;&gt;R</title>\n",
       "<path fill=\"none\" stroke=\"black\" d=\"M487.04,-94.8C503.94,-95.93 526.21,-97.41 544.82,-98.65\"/>\n",
       "<polygon fill=\"black\" stroke=\"black\" points=\"544.8,-102.16 555.01,-99.33 545.27,-95.17 544.8,-102.16\"/>\n",
       "<text text-anchor=\"middle\" x=\"521\" y=\"-100.86\" font-family=\"Times,serif\" font-size=\"14.00\">γ*I</text>\n",
       "</g>\n",
       "<!-- D -->\n",
       "<g id=\"node4\" class=\"node\">\n",
       "<title>D</title>\n",
       "<ellipse fill=\"none\" stroke=\"black\" cx=\"582\" cy=\"-32.06\" rx=\"27\" ry=\"18\"/>\n",
       "<text text-anchor=\"middle\" x=\"582\" y=\"-28.36\" font-family=\"Times,serif\" font-size=\"14.00\">D</text>\n",
       "</g>\n",
       "<!-- I&#45;&gt;D -->\n",
       "<g id=\"edge6\" class=\"edge\">\n",
       "<title>I&#45;&gt;D</title>\n",
       "<path fill=\"none\" stroke=\"black\" d=\"M482.42,-82.96C497.72,-75.66 518.74,-65.48 537,-56.06 541.71,-53.63 546.67,-51 551.5,-48.4\"/>\n",
       "<polygon fill=\"black\" stroke=\"black\" points=\"553.4,-51.35 560.51,-43.5 550.05,-45.2 553.4,-51.35\"/>\n",
       "<text text-anchor=\"middle\" x=\"521\" y=\"-74.86\" font-family=\"Times,serif\" font-size=\"14.00\">μ*I</text>\n",
       "</g>\n",
       "<!-- I_c -->\n",
       "<g id=\"node5\" class=\"node\">\n",
       "<title>I_c</title>\n",
       "<ellipse fill=\"none\" stroke=\"black\" cx=\"460\" cy=\"-32.06\" rx=\"27\" ry=\"18\"/>\n",
       "<text text-anchor=\"middle\" x=\"460\" y=\"-28.36\" font-family=\"Times,serif\" font-size=\"14.00\">I_c</text>\n",
       "</g>\n",
       "<!-- I_c&#45;&gt;R -->\n",
       "<g id=\"edge7\" class=\"edge\">\n",
       "<title>I_c&#45;&gt;R</title>\n",
       "<path fill=\"none\" stroke=\"black\" d=\"M486.54,-28.37C502.1,-27.38 521.83,-28.44 537,-37.06 541.19,-39.45 554.44,-59.15 565.31,-76.08\"/>\n",
       "<polygon fill=\"black\" stroke=\"black\" points=\"562.4,-78.02 570.72,-84.57 568.3,-74.25 562.4,-78.02\"/>\n",
       "<text text-anchor=\"middle\" x=\"521\" y=\"-40.86\" font-family=\"Times,serif\" font-size=\"14.00\">γ*I_c</text>\n",
       "</g>\n",
       "<!-- I_c&#45;&gt;D -->\n",
       "<g id=\"edge8\" class=\"edge\">\n",
       "<title>I_c&#45;&gt;D</title>\n",
       "<path fill=\"none\" stroke=\"black\" d=\"M477.37,-17.96C485.19,-12.14 495.01,-6.06 505,-3.06 518.62,1.02 523.38,1.02 537,-3.06 543.71,-5.08 550.35,-8.48 556.35,-12.26\"/>\n",
       "<polygon fill=\"black\" stroke=\"black\" points=\"554.4,-15.17 564.63,-17.96 558.37,-9.41 554.4,-15.17\"/>\n",
       "<text text-anchor=\"middle\" x=\"521\" y=\"-6.86\" font-family=\"Times,serif\" font-size=\"14.00\">μ*I_c</text>\n",
       "</g>\n",
       "<!-- S_c&#45;&gt;S -->\n",
       "<g id=\"edge3\" class=\"edge\">\n",
       "<title>S_c&#45;&gt;S</title>\n",
       "<path fill=\"none\" stroke=\"black\" d=\"M190.45,-36.28C157.69,-41.68 100.72,-51.07 63.69,-57.18\"/>\n",
       "<polygon fill=\"black\" stroke=\"black\" points=\"62.65,-53.8 53.35,-58.88 63.79,-60.71 62.65,-53.8\"/>\n",
       "<text text-anchor=\"middle\" x=\"112\" y=\"-58.86\" font-family=\"Times,serif\" font-size=\"14.00\">c_1*S_c</text>\n",
       "</g>\n",
       "<!-- S_c&#45;&gt;I_c -->\n",
       "<g id=\"edge4\" class=\"edge\">\n",
       "<title>S_c&#45;&gt;I_c</title>\n",
       "<path fill=\"none\" stroke=\"black\" d=\"M244.25,-32.06C287.44,-32.06 373.58,-32.06 422.62,-32.06\"/>\n",
       "<polygon fill=\"black\" stroke=\"black\" points=\"422.78,-35.56 432.78,-32.06 422.78,-28.56 422.78,-35.56\"/>\n",
       "<text text-anchor=\"middle\" x=\"348.5\" y=\"-35.86\" font-family=\"Times,serif\" font-size=\"14.00\">c_0*β*(I+c_0*I_c)*S_c</text>\n",
       "</g>\n",
       "</g>\n",
       "</svg>\n"
      ],
      "text/plain": [
       "<graphviz.dot.Digraph at 0x1283b73d0>"
      ]
     },
     "execution_count": 15,
     "metadata": {},
     "output_type": "execute_result"
    }
   ],
   "source": [
    "# display graphical representation of the model\n",
    "SC2IR_model.get_transition_graph()"
   ]
  },
  {
   "cell_type": "markdown",
   "metadata": {},
   "source": [
    "## Caution Extensions to SEIR Model"
   ]
  },
  {
   "cell_type": "markdown",
   "metadata": {},
   "source": [
    "### SEIR model"
   ]
  },
  {
   "cell_type": "markdown",
   "metadata": {},
   "source": [
    "#### Equations\n",
    "\n",
    "\\begin{equation}\n",
    "\\begin{split}\n",
    "\\dot{S} &= -\\beta I S\\\\\n",
    "\\dot{E} &= \\beta I S - \\alpha E\\\\\n",
    "\\dot{I} &= \\alpha E - \\gamma I - \\mu I\\\\\n",
    "\\dot{R} & = \\gamma I \\\\\n",
    "\\dot{D} & = \\mu I\n",
    "\\end{split}\n",
    "\\end{equation}\n",
    "\n",
    "\n",
    "#### Variables\n",
    "* $S$: Susceptible individuals\n",
    "* $E$: Exposed individuals\n",
    "* $I$: Infected individuals \n",
    "* $R$: individuals who have recovered from disease and are now immune\n",
    "* $D$: Dead individuals\n",
    "* $N=S+E+I+R+D$ Total population size (constant)\n",
    "\n",
    "#### Parameters\n",
    "* $\\beta$ rate at which infected individuals contact susceptibles and expose them to infection\n",
    "* $\\alpha$ rate at which exposed individuals become infected (1/(incubation time)\n",
    "* $\\gamma$ rate at which infected individuals recover from disease and become immune\n",
    "* $\\mu$ death rate for infected individuals"
   ]
  },
  {
   "cell_type": "markdown",
   "metadata": {},
   "source": [
    "#### Implementation\n",
    "Using PyGOM, we will set up my simple SCIR model ODE system\n",
    "PyGOM – A Python Package for Simplifying Modelling with Systems of Ordinary Differential Equations https://arxiv.org/pdf/1803.06934.pdf"
   ]
  },
  {
   "cell_type": "code",
   "execution_count": 16,
   "metadata": {},
   "outputs": [],
   "source": [
    "# set up the symbolic model\n",
    "state = ['S', 'E', 'I', 'R', 'D']\n",
    "param_list = ['beta', 'alpha', 'gamma', 'mu', 'N']\n",
    "\n",
    "transition = [\n",
    "    Transition(origin='S', destination='E', equation='beta*I*S',\n",
    "               transition_type=TransitionType.T),\n",
    "    Transition(origin='E', destination='I', equation='alpha*E',\n",
    "               transition_type=TransitionType.T),\n",
    "    Transition(origin='I', destination='R', equation='gamma*I',\n",
    "               transition_type=TransitionType.T),\n",
    "    Transition(origin='I', destination='D', equation='mu*I',\n",
    "               transition_type=TransitionType.T)    \n",
    "    ]\n",
    "\n",
    "SEIR_model = DeterministicOde(state, param_list, transition=transition)\n",
    "SEIR_model.modelname='SEIR'\n",
    "SEIR_model.ei=slice(1,3) # cases 1,2 i.e. E and I\n",
    "SEIR_model.confirmed=slice(2,5)  # cases 2-4 i.e. I, R and D, not E\n",
    "SEIR_model.recovered=slice(3,4)\n",
    "SEIR_model.deaths=slice(4,5)\n"
   ]
  },
  {
   "cell_type": "code",
   "execution_count": 17,
   "metadata": {},
   "outputs": [
    {
     "data": {
      "text/latex": [
       "$\\displaystyle \\left[\\begin{matrix}d{S}/dt= & - I S \\beta\\\\d{E}/dt= & - E \\alpha + I S \\beta\\\\d{I}/dt= & E \\alpha - I \\gamma - I \\mu\\\\d{R}/dt= & I \\gamma\\\\d{D}/dt= & I \\mu\\end{matrix}\\right]$"
      ],
      "text/plain": [
       "Matrix([\n",
       "[d{S}/dt=,                -I*S*beta],\n",
       "[d{E}/dt=,      -E*alpha + I*S*beta],\n",
       "[d{I}/dt=, E*alpha - I*gamma - I*mu],\n",
       "[d{R}/dt=,                  I*gamma],\n",
       "[d{D}/dt=,                     I*mu]])"
      ]
     },
     "execution_count": 17,
     "metadata": {},
     "output_type": "execute_result"
    }
   ],
   "source": [
    "# display equations\n",
    "print_ode2(SEIR_model)"
   ]
  },
  {
   "cell_type": "code",
   "execution_count": 18,
   "metadata": {},
   "outputs": [
    {
     "data": {
      "image/png": "[encoded data removed]",
      "text/plain": [
       "<Figure size 432x288 with 1 Axes>"
      ]
     },
     "metadata": {
      "needs_background": "light"
     },
     "output_type": "display_data"
    },
    {
     "data": {
      "image/svg+xml": [
       "<?xml version=\"1.0\" encoding=\"UTF-8\" standalone=\"no\"?>\n",
       "<!DOCTYPE svg PUBLIC \"-//W3C//DTD SVG 1.1//EN\"\n",
       " \"http://www.w3.org/Graphics/SVG/1.1/DTD/svg11.dtd\">\n",
       "<!-- Generated by graphviz version 2.44.0 (20200408.0750)\n",
       " -->\n",
       "<!-- Pages: 1 -->\n",
       "<svg width=\"409pt\" height=\"98pt\"\n",
       " viewBox=\"0.00 0.00 409.00 98.00\" xmlns=\"http://www.w3.org/2000/svg\" xmlns:xlink=\"http://www.w3.org/1999/xlink\">\n",
       "<g id=\"graph0\" class=\"graph\" transform=\"scale(1 1) rotate(0) translate(4 94)\">\n",
       "<polygon fill=\"white\" stroke=\"transparent\" points=\"-4,4 -4,-94 405,-94 405,4 -4,4\"/>\n",
       "<!-- S -->\n",
       "<g id=\"node1\" class=\"node\">\n",
       "<title>S</title>\n",
       "<ellipse fill=\"none\" stroke=\"black\" cx=\"27\" cy=\"-45\" rx=\"27\" ry=\"18\"/>\n",
       "<text text-anchor=\"middle\" x=\"27\" y=\"-41.3\" font-family=\"Times,serif\" font-size=\"14.00\">S</text>\n",
       "</g>\n",
       "<!-- E -->\n",
       "<g id=\"node2\" class=\"node\">\n",
       "<title>E</title>\n",
       "<ellipse fill=\"none\" stroke=\"black\" cx=\"151\" cy=\"-45\" rx=\"27\" ry=\"18\"/>\n",
       "<text text-anchor=\"middle\" x=\"151\" y=\"-41.3\" font-family=\"Times,serif\" font-size=\"14.00\">E</text>\n",
       "</g>\n",
       "<!-- S&#45;&gt;E -->\n",
       "<g id=\"edge1\" class=\"edge\">\n",
       "<title>S&#45;&gt;E</title>\n",
       "<path fill=\"none\" stroke=\"black\" d=\"M54.17,-45C71.54,-45 94.57,-45 113.7,-45\"/>\n",
       "<polygon fill=\"black\" stroke=\"black\" points=\"113.87,-48.5 123.87,-45 113.87,-41.5 113.87,-48.5\"/>\n",
       "<text text-anchor=\"middle\" x=\"89\" y=\"-48.8\" font-family=\"Times,serif\" font-size=\"14.00\">β*I*S</text>\n",
       "</g>\n",
       "<!-- I -->\n",
       "<g id=\"node3\" class=\"node\">\n",
       "<title>I</title>\n",
       "<ellipse fill=\"none\" stroke=\"black\" cx=\"265\" cy=\"-45\" rx=\"27\" ry=\"18\"/>\n",
       "<text text-anchor=\"middle\" x=\"265\" y=\"-41.3\" font-family=\"Times,serif\" font-size=\"14.00\">I</text>\n",
       "</g>\n",
       "<!-- E&#45;&gt;I -->\n",
       "<g id=\"edge2\" class=\"edge\">\n",
       "<title>E&#45;&gt;I</title>\n",
       "<path fill=\"none\" stroke=\"black\" d=\"M178.26,-45C193,-45 211.62,-45 227.74,-45\"/>\n",
       "<polygon fill=\"black\" stroke=\"black\" points=\"227.91,-48.5 237.91,-45 227.91,-41.5 227.91,-48.5\"/>\n",
       "<text text-anchor=\"middle\" x=\"208\" y=\"-48.8\" font-family=\"Times,serif\" font-size=\"14.00\">α*E</text>\n",
       "</g>\n",
       "<!-- R -->\n",
       "<g id=\"node4\" class=\"node\">\n",
       "<title>R</title>\n",
       "<ellipse fill=\"none\" stroke=\"black\" cx=\"374\" cy=\"-72\" rx=\"27\" ry=\"18\"/>\n",
       "<text text-anchor=\"middle\" x=\"374\" y=\"-68.3\" font-family=\"Times,serif\" font-size=\"14.00\">R</text>\n",
       "</g>\n",
       "<!-- I&#45;&gt;R -->\n",
       "<g id=\"edge3\" class=\"edge\">\n",
       "<title>I&#45;&gt;R</title>\n",
       "<path fill=\"none\" stroke=\"black\" d=\"M290.55,-51.19C304.82,-54.8 323.03,-59.39 338.7,-63.34\"/>\n",
       "<polygon fill=\"black\" stroke=\"black\" points=\"338.01,-66.78 348.57,-65.83 339.73,-59.99 338.01,-66.78\"/>\n",
       "<text text-anchor=\"middle\" x=\"319.5\" y=\"-63.8\" font-family=\"Times,serif\" font-size=\"14.00\">γ*I</text>\n",
       "</g>\n",
       "<!-- D -->\n",
       "<g id=\"node5\" class=\"node\">\n",
       "<title>D</title>\n",
       "<ellipse fill=\"none\" stroke=\"black\" cx=\"374\" cy=\"-18\" rx=\"27\" ry=\"18\"/>\n",
       "<text text-anchor=\"middle\" x=\"374\" y=\"-14.3\" font-family=\"Times,serif\" font-size=\"14.00\">D</text>\n",
       "</g>\n",
       "<!-- I&#45;&gt;D -->\n",
       "<g id=\"edge4\" class=\"edge\">\n",
       "<title>I&#45;&gt;D</title>\n",
       "<path fill=\"none\" stroke=\"black\" d=\"M290.55,-38.81C304.82,-35.2 323.03,-30.61 338.7,-26.66\"/>\n",
       "<polygon fill=\"black\" stroke=\"black\" points=\"339.73,-30.01 348.57,-24.17 338.01,-23.22 339.73,-30.01\"/>\n",
       "<text text-anchor=\"middle\" x=\"319.5\" y=\"-36.8\" font-family=\"Times,serif\" font-size=\"14.00\">μ*I</text>\n",
       "</g>\n",
       "</g>\n",
       "</svg>\n"
      ],
      "text/plain": [
       "<graphviz.dot.Digraph at 0x10c3276d0>"
      ]
     },
     "execution_count": 18,
     "metadata": {},
     "output_type": "execute_result"
    }
   ],
   "source": [
    "# display graphical representation of the model\n",
    "SEIR_model.get_transition_graph()"
   ]
  },
  {
   "cell_type": "markdown",
   "metadata": {},
   "source": [
    "### SCEIR model"
   ]
  },
  {
   "cell_type": "markdown",
   "metadata": {},
   "source": [
    "#### Equations\n",
    "\n",
    "\\begin{equation}\n",
    "\\begin{split}\n",
    "\\dot{S} &= -\\beta I S + c_1 S_c - c_2*S*I\\\\\n",
    "\\dot{S_c} &= - c_0 \\beta I S_c - c_1 S_c + c_2*S*I\\\\\n",
    "\\dot{E} &= \\beta I (S + c_0 S_c) - \\alpha E\\\\\n",
    "\\dot{I} &= \\alpha E - \\gamma I - \\mu I\\\\\n",
    "\\dot{R} & = \\gamma I \\\\\n",
    "\\dot{D} & = \\mu I\n",
    "\\end{split}\n",
    "\\end{equation}\n",
    "\n",
    "The use of I as a state variable triggering susceptibles to execute caution is just one choice. In contrast with deaths, it does not accumulate over time and so retains the property of an active threat to society, rather than an historical one. Alternatively, one could use the daily death rate which is proportional to it.\n",
    "\n",
    "Actually, the effect of caution may be quadratic, since both the individual doing the infection and individual potentially being infected may be executing caution. The current version assumes that infectives do not change their precautionary measures in response to I. To implement this we would need to further distinguish careful and non careful infectives. This is done in the SC2IR model.\n",
    "\n",
    "#### Variables\n",
    "* $S$: Susceptible individuals living as normal\n",
    "* $S_c$: Susceptible individuals exercising pandemy precautions\n",
    "* $E$: Exposed individuals\n",
    "* $I$: Infected individuals \n",
    "* $R$: individuals who have recovered from disease and are now immune\n",
    "* $D$: Dead individuals\n",
    "* $N=S+S_c+E+I+R+D$ Total population size (constant)\n",
    "\n",
    "#### Parameters\n",
    "* $\\beta$ rate at which infected individuals contact susceptibles and infect them\n",
    "* $\\alpha$ rate at which exposed individuals become infected (1/(incubation time)\n",
    "* $\\gamma$ rate at which infected individuals recover from disease and become immune\n",
    "* $\\mu$ death rate for infected individuals\n",
    "\n",
    "* $c_i$ three parameters characterizing cautionary response of population via class $S_c$\n",
    "\n",
    "    - c_0 : reduction factor for exposure for cautioned susceptibles\n",
    "\n",
    "    - c_1 : duration of caution (exponential decay time constant in days)\n",
    "\n",
    "    - c_2 : rate constant for transition from uncautioned to cautioned susceptible"
   ]
  },
  {
   "cell_type": "markdown",
   "metadata": {},
   "source": [
    "#### Implementation\n",
    "Using PyGOM, we will set up my simple SCIR model ODE system\n",
    "PyGOM – A Python Package for Simplifying Modelling with Systems of Ordinary Differential Equations https://arxiv.org/pdf/1803.06934.pdf"
   ]
  },
  {
   "cell_type": "code",
   "execution_count": 19,
   "metadata": {},
   "outputs": [],
   "source": [
    "# set up the symbolic model\n",
    "\n",
    "state = ['S', 'E', 'I', 'R', 'D', 'S_c']\n",
    "param_list = ['beta', 'alpha', 'gamma', 'mu', 'c_0', 'c_1', 'c_2', 'N']\n",
    "\n",
    "transition = [\n",
    "    Transition(origin='S', destination='E', equation='beta*I*S',\n",
    "               transition_type=TransitionType.T),\n",
    "    Transition(origin='S', destination='S_c', equation='c_2*I*S',\n",
    "               transition_type=TransitionType.T),\n",
    "    Transition(origin='S_c', destination='S', equation='c_1*S_c',\n",
    "               transition_type=TransitionType.T),\n",
    "    Transition(origin='S_c', destination='E', equation='c_0*beta*I*S_c',\n",
    "               transition_type=TransitionType.T),\n",
    "    Transition(origin='E', destination='I', equation='alpha*E',\n",
    "               transition_type=TransitionType.T),\n",
    "    Transition(origin='I', destination='R', equation='gamma*I',\n",
    "               transition_type=TransitionType.T),\n",
    "    Transition(origin='I', destination='D', equation='mu*I',\n",
    "               transition_type=TransitionType.T)    \n",
    "    ]\n",
    "\n",
    "SCEIR_model = DeterministicOde(state, param_list, transition=transition)\n",
    "SCEIR_model.modelname='SCEIR'\n",
    "SCEIR_model.ei=slice(1,3) # cases 1,2 i.e. E,I\n",
    "SCEIR_model.confirmed=slice(2,5)  # cases 2-4 i.e. I, R and D, not E\n",
    "SCEIR_model.recovered=slice(3,4)\n",
    "SCEIR_model.deaths=slice(4,5)"
   ]
  },
  {
   "cell_type": "code",
   "execution_count": 20,
   "metadata": {},
   "outputs": [
    {
     "data": {
      "text/latex": [
       "$\\displaystyle \\left[\\begin{matrix}d{S}/dt= & - I S \\beta - I S c_{2} + S_{c} c_{1}\\\\d{E}/dt= & - E \\alpha + I S \\beta + I S_{c} \\beta c_{0}\\\\d{I}/dt= & E \\alpha - I \\gamma - I \\mu\\\\d{R}/dt= & I \\gamma\\\\d{D}/dt= & I \\mu\\\\d{S_c}/dt= & I S c_{2} - I S_{c} \\beta c_{0} - S_{c} c_{1}\\end{matrix}\\right]$"
      ],
      "text/plain": [
       "Matrix([\n",
       "[  d{S}/dt=,        -I*S*beta - I*S*c_2 + S_c*c_1],\n",
       "[  d{E}/dt=, -E*alpha + I*S*beta + I*S_c*beta*c_0],\n",
       "[  d{I}/dt=,             E*alpha - I*gamma - I*mu],\n",
       "[  d{R}/dt=,                              I*gamma],\n",
       "[  d{D}/dt=,                                 I*mu],\n",
       "[d{S_c}/dt=,   I*S*c_2 - I*S_c*beta*c_0 - S_c*c_1]])"
      ]
     },
     "execution_count": 20,
     "metadata": {},
     "output_type": "execute_result"
    }
   ],
   "source": [
    "# display equations\n",
    "print_ode2(SCEIR_model)"
   ]
  },
  {
   "cell_type": "code",
   "execution_count": 21,
   "metadata": {},
   "outputs": [
    {
     "data": {
      "image/png": "[encoded data removed]",
      "text/plain": [
       "<Figure size 432x288 with 1 Axes>"
      ]
     },
     "metadata": {
      "needs_background": "light"
     },
     "output_type": "display_data"
    },
    {
     "data": {
      "image/svg+xml": [
       "<?xml version=\"1.0\" encoding=\"UTF-8\" standalone=\"no\"?>\n",
       "<!DOCTYPE svg PUBLIC \"-//W3C//DTD SVG 1.1//EN\"\n",
       " \"http://www.w3.org/Graphics/SVG/1.1/DTD/svg11.dtd\">\n",
       "<!-- Generated by graphviz version 2.44.0 (20200408.0750)\n",
       " -->\n",
       "<!-- Pages: 1 -->\n",
       "<svg width=\"585pt\" height=\"98pt\"\n",
       " viewBox=\"0.00 0.00 585.00 98.00\" xmlns=\"http://www.w3.org/2000/svg\" xmlns:xlink=\"http://www.w3.org/1999/xlink\">\n",
       "<g id=\"graph0\" class=\"graph\" transform=\"scale(1 1) rotate(0) translate(4 94)\">\n",
       "<polygon fill=\"white\" stroke=\"transparent\" points=\"-4,4 -4,-94 581,-94 581,4 -4,4\"/>\n",
       "<!-- S -->\n",
       "<g id=\"node1\" class=\"node\">\n",
       "<title>S</title>\n",
       "<ellipse fill=\"none\" stroke=\"black\" cx=\"27\" cy=\"-42\" rx=\"27\" ry=\"18\"/>\n",
       "<text text-anchor=\"middle\" x=\"27\" y=\"-38.3\" font-family=\"Times,serif\" font-size=\"14.00\">S</text>\n",
       "</g>\n",
       "<!-- E -->\n",
       "<g id=\"node2\" class=\"node\">\n",
       "<title>E</title>\n",
       "<ellipse fill=\"none\" stroke=\"black\" cx=\"327\" cy=\"-45\" rx=\"27\" ry=\"18\"/>\n",
       "<text text-anchor=\"middle\" x=\"327\" y=\"-41.3\" font-family=\"Times,serif\" font-size=\"14.00\">E</text>\n",
       "</g>\n",
       "<!-- S&#45;&gt;E -->\n",
       "<g id=\"edge1\" class=\"edge\">\n",
       "<title>S&#45;&gt;E</title>\n",
       "<path fill=\"none\" stroke=\"black\" d=\"M52.52,-48.46C58.82,-49.87 65.63,-51.19 72,-52 164.61,-63.76 189.35,-67.41 282,-56 285.28,-55.6 288.67,-55.03 292.05,-54.36\"/>\n",
       "<polygon fill=\"black\" stroke=\"black\" points=\"293,-57.73 301.99,-52.13 291.47,-50.9 293,-57.73\"/>\n",
       "<text text-anchor=\"middle\" x=\"164\" y=\"-65.8\" font-family=\"Times,serif\" font-size=\"14.00\">β*I*S</text>\n",
       "</g>\n",
       "<!-- S_c -->\n",
       "<g id=\"node6\" class=\"node\">\n",
       "<title>S_c</title>\n",
       "<ellipse fill=\"none\" stroke=\"black\" cx=\"164\" cy=\"-18\" rx=\"27\" ry=\"18\"/>\n",
       "<text text-anchor=\"middle\" x=\"164\" y=\"-14.3\" font-family=\"Times,serif\" font-size=\"14.00\">S_c</text>\n",
       "</g>\n",
       "<!-- S&#45;&gt;S_c -->\n",
       "<g id=\"edge2\" class=\"edge\">\n",
       "<title>S&#45;&gt;S_c</title>\n",
       "<path fill=\"none\" stroke=\"black\" d=\"M53.39,-37.49C74.42,-33.75 104.52,-28.4 127.86,-24.25\"/>\n",
       "<polygon fill=\"black\" stroke=\"black\" points=\"128.49,-27.69 137.72,-22.49 127.26,-20.8 128.49,-27.69\"/>\n",
       "<text text-anchor=\"middle\" x=\"95.5\" y=\"-36.8\" font-family=\"Times,serif\" font-size=\"14.00\">c_2*I*S</text>\n",
       "</g>\n",
       "<!-- I -->\n",
       "<g id=\"node3\" class=\"node\">\n",
       "<title>I</title>\n",
       "<ellipse fill=\"none\" stroke=\"black\" cx=\"441\" cy=\"-45\" rx=\"27\" ry=\"18\"/>\n",
       "<text text-anchor=\"middle\" x=\"441\" y=\"-41.3\" font-family=\"Times,serif\" font-size=\"14.00\">I</text>\n",
       "</g>\n",
       "<!-- E&#45;&gt;I -->\n",
       "<g id=\"edge5\" class=\"edge\">\n",
       "<title>E&#45;&gt;I</title>\n",
       "<path fill=\"none\" stroke=\"black\" d=\"M354.26,-45C369,-45 387.62,-45 403.74,-45\"/>\n",
       "<polygon fill=\"black\" stroke=\"black\" points=\"403.91,-48.5 413.91,-45 403.91,-41.5 403.91,-48.5\"/>\n",
       "<text text-anchor=\"middle\" x=\"384\" y=\"-48.8\" font-family=\"Times,serif\" font-size=\"14.00\">α*E</text>\n",
       "</g>\n",
       "<!-- R -->\n",
       "<g id=\"node4\" class=\"node\">\n",
       "<title>R</title>\n",
       "<ellipse fill=\"none\" stroke=\"black\" cx=\"550\" cy=\"-72\" rx=\"27\" ry=\"18\"/>\n",
       "<text text-anchor=\"middle\" x=\"550\" y=\"-68.3\" font-family=\"Times,serif\" font-size=\"14.00\">R</text>\n",
       "</g>\n",
       "<!-- I&#45;&gt;R -->\n",
       "<g id=\"edge6\" class=\"edge\">\n",
       "<title>I&#45;&gt;R</title>\n",
       "<path fill=\"none\" stroke=\"black\" d=\"M466.55,-51.19C480.82,-54.8 499.03,-59.39 514.7,-63.34\"/>\n",
       "<polygon fill=\"black\" stroke=\"black\" points=\"514.01,-66.78 524.57,-65.83 515.73,-59.99 514.01,-66.78\"/>\n",
       "<text text-anchor=\"middle\" x=\"495.5\" y=\"-63.8\" font-family=\"Times,serif\" font-size=\"14.00\">γ*I</text>\n",
       "</g>\n",
       "<!-- D -->\n",
       "<g id=\"node5\" class=\"node\">\n",
       "<title>D</title>\n",
       "<ellipse fill=\"none\" stroke=\"black\" cx=\"550\" cy=\"-18\" rx=\"27\" ry=\"18\"/>\n",
       "<text text-anchor=\"middle\" x=\"550\" y=\"-14.3\" font-family=\"Times,serif\" font-size=\"14.00\">D</text>\n",
       "</g>\n",
       "<!-- I&#45;&gt;D -->\n",
       "<g id=\"edge7\" class=\"edge\">\n",
       "<title>I&#45;&gt;D</title>\n",
       "<path fill=\"none\" stroke=\"black\" d=\"M466.55,-38.81C480.82,-35.2 499.03,-30.61 514.7,-26.66\"/>\n",
       "<polygon fill=\"black\" stroke=\"black\" points=\"515.73,-30.01 524.57,-24.17 514.01,-23.22 515.73,-30.01\"/>\n",
       "<text text-anchor=\"middle\" x=\"495.5\" y=\"-36.8\" font-family=\"Times,serif\" font-size=\"14.00\">μ*I</text>\n",
       "</g>\n",
       "<!-- S_c&#45;&gt;S -->\n",
       "<g id=\"edge3\" class=\"edge\">\n",
       "<title>S_c&#45;&gt;S</title>\n",
       "<path fill=\"none\" stroke=\"black\" d=\"M139.95,-9.63C121.18,-4.12 94.24,0.77 72,-7 63.97,-9.81 56.3,-14.76 49.68,-20.07\"/>\n",
       "<polygon fill=\"black\" stroke=\"black\" points=\"47.14,-17.65 41.92,-26.86 51.75,-22.92 47.14,-17.65\"/>\n",
       "<text text-anchor=\"middle\" x=\"95.5\" y=\"-10.8\" font-family=\"Times,serif\" font-size=\"14.00\">c_1*S_c</text>\n",
       "</g>\n",
       "<!-- S_c&#45;&gt;E -->\n",
       "<g id=\"edge4\" class=\"edge\">\n",
       "<title>S_c&#45;&gt;E</title>\n",
       "<path fill=\"none\" stroke=\"black\" d=\"M190.51,-22.28C217.48,-26.8 260.22,-33.97 290.47,-39.04\"/>\n",
       "<polygon fill=\"black\" stroke=\"black\" points=\"290.17,-42.54 300.61,-40.74 291.33,-35.64 290.17,-42.54\"/>\n",
       "<text text-anchor=\"middle\" x=\"245.5\" y=\"-40.8\" font-family=\"Times,serif\" font-size=\"14.00\">c_0*β*I*S_c</text>\n",
       "</g>\n",
       "</g>\n",
       "</svg>\n"
      ],
      "text/plain": [
       "<graphviz.dot.Digraph at 0x10c3d7dd0>"
      ]
     },
     "execution_count": 21,
     "metadata": {},
     "output_type": "execute_result"
    }
   ],
   "source": [
    "# display graphical representation of the model\n",
    "SCEIR_model.get_transition_graph()"
   ]
  },
  {
   "cell_type": "markdown",
   "metadata": {},
   "source": [
    "### SC3EIR model"
   ]
  },
  {
   "cell_type": "markdown",
   "metadata": {},
   "source": [
    "#### Equations\n",
    "\n",
    "\\begin{equation}\n",
    "\\begin{split}\n",
    "\\dot{S} &= -\\beta (I + c_0 I_c) S + c_1 S_c - c_2 S (I + I_c)\\\\\n",
    "\\dot{S_c} &= - c_0 \\beta (I + c_0 I_c) S_c - c_1 S_c + c_2 S (I + I_c)\\\\\n",
    "\\dot{E} &= \\beta (I + c_0 I_c) S - \\alpha E\\\\\n",
    "\\dot{E_c} &= c_0 \\beta (I + c_0 I_c) S_c - \\alpha E_c\\\\\n",
    "\\dot{I} &= \\alpha E - \\gamma I - \\mu I\\\\\n",
    "\\dot{I_c} &= \\alpha E_c - \\gamma I_c - \\mu I_c\\\\\n",
    "\\dot{R} & = \\gamma (I + I_c) \\\\\n",
    "\\dot{D} & = \\mu (I + I_c)\n",
    "\\end{split}\n",
    "\\end{equation}\n",
    "\n",
    "The use of I as a state variable triggering susceptibles to execute caution is just one choice. In contrast with deaths, it does not accumulate over time and so retains the property of an active threat to society, rather than an historical one. Alternatively, one could use the daily death rate which is proportional to it.\n",
    "\n",
    "Actually, the effect of caution may be quadratic, since both the individual doing the infection and individual potentially being infected may be executing caution. The current version assumes that infectives do not change their precautionary measures in response to I. To implement this we would need to further distinguish careful and non careful infectives. This is done in the SC2IR model.\n",
    "\n",
    "#### Variables\n",
    "* $S$: Susceptible individuals living as normal\n",
    "* $S_c$: Susceptible individuals exercising pandemy precautions\n",
    "* $E$: Exposed individuals\n",
    "* $E_c$: Exposed individuals exercising caution\n",
    "* $I$: Infected individuals\n",
    "* $I_c$: Infected individuals exercising caution\n",
    "* $R$: individuals who have recovered from disease and are now immune\n",
    "* $D$: Dead individuals\n",
    "* $N=S+S_c+E+E_c+I+I_c+R+D$ Total population size (constant)\n",
    "\n",
    "#### Parameters\n",
    "* $\\beta$ rate at which infected individuals contact susceptibles and infect them\n",
    "* $\\alpha$ rate at which exposed individuals become infected (1/(incubation time)\n",
    "* $\\gamma$ rate at which infected individuals recover from disease and become immune\n",
    "* $\\mu$ death rate for infected individuals\n",
    "\n",
    "* $c_i$ three parameters characterizing cautionary response of population via class $S_c$\n",
    "\n",
    "    - c_0 : reduction factor for exposure for cautioned susceptibles\n",
    "\n",
    "    - c_1 : duration of caution (exponential decay time constant in days)\n",
    "\n",
    "    - c_2 : rate constant for transition from uncautioned to cautioned susceptible"
   ]
  },
  {
   "cell_type": "markdown",
   "metadata": {},
   "source": [
    "#### Implementation\n",
    "Using PyGOM, we will set up my simple SCIR model ODE system\n",
    "PyGOM – A Python Package for Simplifying Modelling with Systems of Ordinary Differential Equations https://arxiv.org/pdf/1803.06934.pdf"
   ]
  },
  {
   "cell_type": "code",
   "execution_count": 22,
   "metadata": {},
   "outputs": [],
   "source": [
    "# set up the symbolic model\n",
    "\n",
    "state = ['S', 'E', 'I', 'R', 'D', 'I_c', 'S_c', 'E_c']\n",
    "param_list = ['beta', 'alpha', 'gamma', 'mu', 'c_0', 'c_1', 'c_2', 'N']\n",
    "\n",
    "transition = [\n",
    "    Transition(origin='S', destination='E', equation='beta*(I+c_0*I_c)*S',\n",
    "               transition_type=TransitionType.T),\n",
    "    Transition(origin='S', destination='S_c', equation='c_2*I*S',\n",
    "               transition_type=TransitionType.T),\n",
    "    Transition(origin='S_c', destination='S', equation='c_1*S_c',\n",
    "               transition_type=TransitionType.T),\n",
    "    Transition(origin='S_c', destination='E_c', equation='c_0*beta*(I+c_0*I_c)*S_c',\n",
    "               transition_type=TransitionType.T),\n",
    "    Transition(origin='E', destination='I', equation='alpha*E',\n",
    "               transition_type=TransitionType.T),\n",
    "    Transition(origin='E_c', destination='I_c', equation='alpha*E_c',\n",
    "               transition_type=TransitionType.T),\n",
    "    Transition(origin='I', destination='R', equation='gamma*I',\n",
    "               transition_type=TransitionType.T),\n",
    "    Transition(origin='I_c', destination='R', equation='gamma*I_c',\n",
    "               transition_type=TransitionType.T),\n",
    "    Transition(origin='I', destination='D', equation='mu*I',\n",
    "               transition_type=TransitionType.T),\n",
    "    Transition(origin='I_c', destination='D', equation='mu*I_c',\n",
    "               transition_type=TransitionType.T)\n",
    "    ]\n",
    "\n",
    "SC3EIR_model = DeterministicOde(state, param_list, transition=transition)\n",
    "SC3EIR_model.modelname='SC3EIR'\n",
    "SC3EIR_model.ei=slice(1,3) # cases 1,2 i.e. E,I  # note E_c and I_c not included\n",
    "SC3EIR_model.confirmed=slice(2,6)  # cases 2-5 i.e. I, R, D, and I_c, not E, E_c\n",
    "SC3EIR_model.recovered=slice(3,4)\n",
    "SC3EIR_model.deaths=slice(4,5)"
   ]
  },
  {
   "cell_type": "code",
   "execution_count": 23,
   "metadata": {},
   "outputs": [
    {
     "data": {
      "text/latex": [
       "$\\displaystyle \\left[\\begin{matrix}d{S}/dt= & - I S c_{2} - S \\beta \\left(I + I_{c} c_{0}\\right) + S_{c} c_{1}\\\\d{E}/dt= & - E \\alpha + S \\beta \\left(I + I_{c} c_{0}\\right)\\\\d{I}/dt= & E \\alpha - I \\gamma - I \\mu\\\\d{R}/dt= & I \\gamma + I_{c} \\gamma\\\\d{D}/dt= & I \\mu + I_{c} \\mu\\\\d{I_c}/dt= & E_{c} \\alpha - I_{c} \\gamma - I_{c} \\mu\\\\d{S_c}/dt= & I S c_{2} - S_{c} \\beta c_{0} \\left(I + I_{c} c_{0}\\right) - S_{c} c_{1}\\\\d{E_c}/dt= & - E_{c} \\alpha + S_{c} \\beta c_{0} \\left(I + I_{c} c_{0}\\right)\\end{matrix}\\right]$"
      ],
      "text/plain": [
       "Matrix([\n",
       "[  d{S}/dt=,      -I*S*c_2 - S*beta*(I + I_c*c_0) + S_c*c_1],\n",
       "[  d{E}/dt=,                -E*alpha + S*beta*(I + I_c*c_0)],\n",
       "[  d{I}/dt=,                       E*alpha - I*gamma - I*mu],\n",
       "[  d{R}/dt=,                            I*gamma + I_c*gamma],\n",
       "[  d{D}/dt=,                                  I*mu + I_c*mu],\n",
       "[d{I_c}/dt=,                 E_c*alpha - I_c*gamma - I_c*mu],\n",
       "[d{S_c}/dt=, I*S*c_2 - S_c*beta*c_0*(I + I_c*c_0) - S_c*c_1],\n",
       "[d{E_c}/dt=,        -E_c*alpha + S_c*beta*c_0*(I + I_c*c_0)]])"
      ]
     },
     "execution_count": 23,
     "metadata": {},
     "output_type": "execute_result"
    }
   ],
   "source": [
    "# display equations\n",
    "print_ode2(SC3EIR_model)"
   ]
  },
  {
   "cell_type": "code",
   "execution_count": 24,
   "metadata": {},
   "outputs": [
    {
     "data": {
      "image/png": "[encoded data removed]",
      "text/plain": [
       "<Figure size 432x288 with 1 Axes>"
      ]
     },
     "metadata": {
      "needs_background": "light"
     },
     "output_type": "display_data"
    },
    {
     "data": {
      "image/svg+xml": [
       "<?xml version=\"1.0\" encoding=\"UTF-8\" standalone=\"no\"?>\n",
       "<!DOCTYPE svg PUBLIC \"-//W3C//DTD SVG 1.1//EN\"\n",
       " \"http://www.w3.org/Graphics/SVG/1.1/DTD/svg11.dtd\">\n",
       "<!-- Generated by graphviz version 2.44.0 (20200408.0750)\n",
       " -->\n",
       "<!-- Pages: 1 -->\n",
       "<svg width=\"718pt\" height=\"127pt\"\n",
       " viewBox=\"0.00 0.00 718.00 126.89\" xmlns=\"http://www.w3.org/2000/svg\" xmlns:xlink=\"http://www.w3.org/1999/xlink\">\n",
       "<g id=\"graph0\" class=\"graph\" transform=\"scale(1 1) rotate(0) translate(4 122.89)\">\n",
       "<polygon fill=\"white\" stroke=\"transparent\" points=\"-4,4 -4,-122.89 714,-122.89 714,4 -4,4\"/>\n",
       "<!-- S -->\n",
       "<g id=\"node1\" class=\"node\">\n",
       "<title>S</title>\n",
       "<ellipse fill=\"none\" stroke=\"black\" cx=\"27\" cy=\"-52.89\" rx=\"27\" ry=\"18\"/>\n",
       "<text text-anchor=\"middle\" x=\"27\" y=\"-49.19\" font-family=\"Times,serif\" font-size=\"14.00\">S</text>\n",
       "</g>\n",
       "<!-- E -->\n",
       "<g id=\"node2\" class=\"node\">\n",
       "<title>E</title>\n",
       "<ellipse fill=\"none\" stroke=\"black\" cx=\"322.5\" cy=\"-90.89\" rx=\"27\" ry=\"18\"/>\n",
       "<text text-anchor=\"middle\" x=\"322.5\" y=\"-87.19\" font-family=\"Times,serif\" font-size=\"14.00\">E</text>\n",
       "</g>\n",
       "<!-- S&#45;&gt;E -->\n",
       "<g id=\"edge1\" class=\"edge\">\n",
       "<title>S&#45;&gt;E</title>\n",
       "<path fill=\"none\" stroke=\"black\" d=\"M52.54,-59.66C58.84,-61.22 65.64,-62.76 72,-63.89 147.33,-77.32 236.72,-85.03 285.43,-88.55\"/>\n",
       "<polygon fill=\"black\" stroke=\"black\" points=\"285.25,-92.04 295.47,-89.26 285.74,-85.06 285.25,-92.04\"/>\n",
       "<text text-anchor=\"middle\" x=\"119\" y=\"-80.69\" font-family=\"Times,serif\" font-size=\"14.00\">β*(I+c_0*I_c)*S</text>\n",
       "</g>\n",
       "<!-- S_c -->\n",
       "<g id=\"node7\" class=\"node\">\n",
       "<title>S_c</title>\n",
       "<ellipse fill=\"none\" stroke=\"black\" cx=\"211\" cy=\"-25.89\" rx=\"27\" ry=\"18\"/>\n",
       "<text text-anchor=\"middle\" x=\"211\" y=\"-22.19\" font-family=\"Times,serif\" font-size=\"14.00\">S_c</text>\n",
       "</g>\n",
       "<!-- S&#45;&gt;S_c -->\n",
       "<g id=\"edge2\" class=\"edge\">\n",
       "<title>S&#45;&gt;S_c</title>\n",
       "<path fill=\"none\" stroke=\"black\" d=\"M41.38,-37.29C49.34,-29.23 60.18,-20.2 72,-15.89 105.97,-3.51 147.7,-9.14 176.32,-15.89\"/>\n",
       "<polygon fill=\"black\" stroke=\"black\" points=\"175.68,-19.34 186.23,-18.39 177.4,-12.55 175.68,-19.34\"/>\n",
       "<text text-anchor=\"middle\" x=\"119\" y=\"-19.69\" font-family=\"Times,serif\" font-size=\"14.00\">c_2*I*S</text>\n",
       "</g>\n",
       "<!-- I -->\n",
       "<g id=\"node3\" class=\"node\">\n",
       "<title>I</title>\n",
       "<ellipse fill=\"none\" stroke=\"black\" cx=\"561\" cy=\"-90.89\" rx=\"27\" ry=\"18\"/>\n",
       "<text text-anchor=\"middle\" x=\"561\" y=\"-87.19\" font-family=\"Times,serif\" font-size=\"14.00\">I</text>\n",
       "</g>\n",
       "<!-- E&#45;&gt;I -->\n",
       "<g id=\"edge5\" class=\"edge\">\n",
       "<title>E&#45;&gt;I</title>\n",
       "<path fill=\"none\" stroke=\"black\" d=\"M349.71,-90.89C391.98,-90.89 475.29,-90.89 523.39,-90.89\"/>\n",
       "<polygon fill=\"black\" stroke=\"black\" points=\"523.67,-94.39 533.67,-90.89 523.67,-87.39 523.67,-94.39\"/>\n",
       "<text text-anchor=\"middle\" x=\"434\" y=\"-94.69\" font-family=\"Times,serif\" font-size=\"14.00\">α*E</text>\n",
       "</g>\n",
       "<!-- R -->\n",
       "<g id=\"node4\" class=\"node\">\n",
       "<title>R</title>\n",
       "<ellipse fill=\"none\" stroke=\"black\" cx=\"683\" cy=\"-100.89\" rx=\"27\" ry=\"18\"/>\n",
       "<text text-anchor=\"middle\" x=\"683\" y=\"-97.19\" font-family=\"Times,serif\" font-size=\"14.00\">R</text>\n",
       "</g>\n",
       "<!-- I&#45;&gt;R -->\n",
       "<g id=\"edge7\" class=\"edge\">\n",
       "<title>I&#45;&gt;R</title>\n",
       "<path fill=\"none\" stroke=\"black\" d=\"M588.04,-93.06C604.94,-94.47 627.21,-96.32 645.82,-97.88\"/>\n",
       "<polygon fill=\"black\" stroke=\"black\" points=\"645.76,-101.38 656.01,-98.73 646.34,-94.41 645.76,-101.38\"/>\n",
       "<text text-anchor=\"middle\" x=\"622\" y=\"-100.69\" font-family=\"Times,serif\" font-size=\"14.00\">γ*I</text>\n",
       "</g>\n",
       "<!-- D -->\n",
       "<g id=\"node5\" class=\"node\">\n",
       "<title>D</title>\n",
       "<ellipse fill=\"none\" stroke=\"black\" cx=\"683\" cy=\"-31.89\" rx=\"27\" ry=\"18\"/>\n",
       "<text text-anchor=\"middle\" x=\"683\" y=\"-28.19\" font-family=\"Times,serif\" font-size=\"14.00\">D</text>\n",
       "</g>\n",
       "<!-- I&#45;&gt;D -->\n",
       "<g id=\"edge9\" class=\"edge\">\n",
       "<title>I&#45;&gt;D</title>\n",
       "<path fill=\"none\" stroke=\"black\" d=\"M584.14,-81.17C599.4,-74.36 620.09,-64.89 638,-55.89 642.74,-53.51 647.71,-50.9 652.55,-48.31\"/>\n",
       "<polygon fill=\"black\" stroke=\"black\" points=\"654.44,-51.27 661.56,-43.41 651.1,-45.11 654.44,-51.27\"/>\n",
       "<text text-anchor=\"middle\" x=\"622\" y=\"-73.69\" font-family=\"Times,serif\" font-size=\"14.00\">μ*I</text>\n",
       "</g>\n",
       "<!-- I_c -->\n",
       "<g id=\"node6\" class=\"node\">\n",
       "<title>I_c</title>\n",
       "<ellipse fill=\"none\" stroke=\"black\" cx=\"561\" cy=\"-25.89\" rx=\"27\" ry=\"18\"/>\n",
       "<text text-anchor=\"middle\" x=\"561\" y=\"-22.19\" font-family=\"Times,serif\" font-size=\"14.00\">I_c</text>\n",
       "</g>\n",
       "<!-- I_c&#45;&gt;R -->\n",
       "<g id=\"edge8\" class=\"edge\">\n",
       "<title>I_c&#45;&gt;R</title>\n",
       "<path fill=\"none\" stroke=\"black\" d=\"M588.05,-24.6C603.61,-25.01 623.17,-27.67 638,-36.89 642.1,-39.44 655.36,-59.12 666.26,-76\"/>\n",
       "<polygon fill=\"black\" stroke=\"black\" points=\"663.34,-77.93 671.68,-84.46 669.23,-74.15 663.34,-77.93\"/>\n",
       "<text text-anchor=\"middle\" x=\"622\" y=\"-40.69\" font-family=\"Times,serif\" font-size=\"14.00\">γ*I_c</text>\n",
       "</g>\n",
       "<!-- I_c&#45;&gt;D -->\n",
       "<g id=\"edge10\" class=\"edge\">\n",
       "<title>I_c&#45;&gt;D</title>\n",
       "<path fill=\"none\" stroke=\"black\" d=\"M580.91,-13.46C588.4,-9.23 597.29,-5.03 606,-2.89 619.81,0.5 624.38,1.19 638,-2.89 644.71,-4.9 651.35,-8.31 657.35,-12.09\"/>\n",
       "<polygon fill=\"black\" stroke=\"black\" points=\"655.4,-15 665.63,-17.79 659.37,-9.23 655.4,-15\"/>\n",
       "<text text-anchor=\"middle\" x=\"622\" y=\"-6.69\" font-family=\"Times,serif\" font-size=\"14.00\">μ*I_c</text>\n",
       "</g>\n",
       "<!-- S_c&#45;&gt;S -->\n",
       "<g id=\"edge3\" class=\"edge\">\n",
       "<title>S_c&#45;&gt;S</title>\n",
       "<path fill=\"none\" stroke=\"black\" d=\"M184.44,-29.68C152.93,-34.36 99.2,-42.33 63.65,-47.6\"/>\n",
       "<polygon fill=\"black\" stroke=\"black\" points=\"63.07,-44.15 53.69,-49.08 64.1,-51.07 63.07,-44.15\"/>\n",
       "<text text-anchor=\"middle\" x=\"119\" y=\"-48.69\" font-family=\"Times,serif\" font-size=\"14.00\">c_1*S_c</text>\n",
       "</g>\n",
       "<!-- E_c -->\n",
       "<g id=\"node8\" class=\"node\">\n",
       "<title>E_c</title>\n",
       "<ellipse fill=\"none\" stroke=\"black\" cx=\"434\" cy=\"-25.89\" rx=\"27\" ry=\"18\"/>\n",
       "<text text-anchor=\"middle\" x=\"434\" y=\"-22.19\" font-family=\"Times,serif\" font-size=\"14.00\">E_c</text>\n",
       "</g>\n",
       "<!-- S_c&#45;&gt;E_c -->\n",
       "<g id=\"edge4\" class=\"edge\">\n",
       "<title>S_c&#45;&gt;E_c</title>\n",
       "<path fill=\"none\" stroke=\"black\" d=\"M238.22,-25.89C277.6,-25.89 352.13,-25.89 396.7,-25.89\"/>\n",
       "<polygon fill=\"black\" stroke=\"black\" points=\"396.81,-29.39 406.81,-25.89 396.81,-22.39 396.81,-29.39\"/>\n",
       "<text text-anchor=\"middle\" x=\"322.5\" y=\"-29.69\" font-family=\"Times,serif\" font-size=\"14.00\">c_0*β*(I+c_0*I_c)*S_c</text>\n",
       "</g>\n",
       "<!-- E_c&#45;&gt;I_c -->\n",
       "<g id=\"edge6\" class=\"edge\">\n",
       "<title>E_c&#45;&gt;I_c</title>\n",
       "<path fill=\"none\" stroke=\"black\" d=\"M461.2,-25.89C479.37,-25.89 503.8,-25.89 523.82,-25.89\"/>\n",
       "<polygon fill=\"black\" stroke=\"black\" points=\"523.83,-29.39 533.83,-25.89 523.83,-22.39 523.83,-29.39\"/>\n",
       "<text text-anchor=\"middle\" x=\"497.5\" y=\"-29.69\" font-family=\"Times,serif\" font-size=\"14.00\">α*E_c</text>\n",
       "</g>\n",
       "</g>\n",
       "</svg>\n"
      ],
      "text/plain": [
       "<graphviz.dot.Digraph at 0x127597b50>"
      ]
     },
     "execution_count": 24,
     "metadata": {},
     "output_type": "execute_result"
    }
   ],
   "source": [
    "# display graphical representation of the model\n",
    "SC3EIR_model.get_transition_graph()"
   ]
  },
  {
   "cell_type": "markdown",
   "metadata": {},
   "source": [
    "## Caution Extensions to SEI3R Model"
   ]
  },
  {
   "cell_type": "markdown",
   "metadata": {},
   "source": [
    "### SEI3R model"
   ]
  },
  {
   "cell_type": "markdown",
   "metadata": {},
   "source": [
    "#### Equations\n",
    "\n",
    "\\begin{equation}\n",
    "\\begin{split}\n",
    "\\dot{S} &= -(\\beta_1 I_1 +\\beta_2 I_2 + \\beta_3 I_3) S\\\\\n",
    "\\dot{E} &=(\\beta_1 I_1 +\\beta_2 I_2 + \\beta_3 I_3 ) S - a E \\\\\n",
    "\\dot{I_1} &= a E - \\gamma_1 I_1 - p_1 I_1 \\\\\n",
    "\\dot{I_2} &= p_1 I_1 -\\gamma_2 I_2 - p_2 I_2 \\\\\n",
    "\\dot{I_3} & = p_2 I_2 -\\gamma_3 I_3 - \\mu I_3 \\\\\n",
    "\\dot{R} & = \\gamma_1 I_1 + \\gamma_2 I_2 + \\gamma_3 I_3 \\\\\n",
    "\\dot{D} & = \\mu I_3\n",
    "\\end{split}\n",
    "\\end{equation}\n",
    "\n",
    "This model (by Dr. Alison for example) involves exposed but not infectious individuals and three classes of infective states with increasing severity.\n",
    "The latter two involve hospitalization with the last in ICU.\n",
    "\n",
    "#### Variables\n",
    "* $S$: Susceptible individuals living as normal\n",
    "* $E$: Exposed individuals - infected but not yet infectious or symptomatic\n",
    "* $I_i$: Infected individuals in severity class $i$. Severity increaes with $i$ and we assume individuals must pass through all previous classes\n",
    "  * $I_1$: Mild infection (hospitalization not required)\n",
    "  * $I_2$: Severe infection (hospitalization required)\n",
    "  * $I_3$: Critical infection (ICU required)\n",
    "* $R$: individuals who have recovered from disease and are now immune\n",
    "* $D$: Dead individuals\n",
    "* $N=S+E+I_1+I_2+I_3+R+D$ Total population size (constant)\n",
    "\n",
    "#### Parameters\n",
    "* $\\beta_i$ rate at which infected individuals in class $I_i$ contact susceptibles and infect them\n",
    "* $a$ rate of progression from the exposed to infected class\n",
    "* $\\gamma_i$ rate at which infected individuals in class $I_i$ recover from disease and become immune\n",
    "* $p_i$ rate at which infected individuals in class $I_i$ progress to class $I_{I+1}$\n",
    "* $\\mu$ death rate for individuals in the most severe stage of disease"
   ]
  },
  {
   "cell_type": "markdown",
   "metadata": {},
   "source": [
    "#### Implementation\n",
    "Using PyGOM, we will set up the model ODE system\n",
    "PyGOM – A Python Package for Simplifying Modelling with Systems of Ordinary Differential Equations https://arxiv.org/pdf/1803.06934.pdf"
   ]
  },
  {
   "cell_type": "code",
   "execution_count": 25,
   "metadata": {},
   "outputs": [],
   "source": [
    "# set up the symbolic SEI3R model\n",
    "\n",
    "state = ['S', 'E', 'I_1', 'I_2','I_3','R','D']\n",
    "param_list = ['beta_1', 'beta_2','beta_3','alpha', 'gamma_1', 'gamma_2', 'gamma_3',\n",
    "              'p_1','p_2','mu','N']\n",
    "\n",
    "transition = [\n",
    "    Transition(origin='S', destination='E', equation='(beta_1*I_1+beta_2*I_2+beta_3*I_3)*S',\n",
    "               transition_type=TransitionType.T),\n",
    "    Transition(origin='E', destination='I_1', equation='alpha*E',\n",
    "               transition_type=TransitionType.T),\n",
    "    Transition(origin='I_1', destination='R', equation='gamma_1*I_1',\n",
    "               transition_type=TransitionType.T),\n",
    "    Transition(origin='I_2', destination='R', equation='gamma_2*I_2',\n",
    "               transition_type=TransitionType.T),\n",
    "    Transition(origin='I_3', destination='R', equation='gamma_3*I_3',\n",
    "               transition_type=TransitionType.T),\n",
    "    Transition(origin='I_1', destination='I_2', equation='p_1*I_1',\n",
    "               transition_type=TransitionType.T),\n",
    "    Transition(origin='I_2', destination='I_3', equation='p_2*I_2',\n",
    "               transition_type=TransitionType.T),\n",
    "    Transition(origin='I_3', destination='D', equation='mu*I_3',\n",
    "               transition_type=TransitionType.T)    \n",
    "    ]\n",
    "\n",
    "\n",
    "SEI3R_model = DeterministicOde(state, param_list, transition=transition)\n",
    "SEI3R_model.modelname='SEI3R'\n",
    "SEI3R_model.ei=slice(1,5)\n",
    "SEI3R_model.confirmed=slice(2,7)  # cases 2-6 i.e. I1, I2, I3, R and D\n",
    "SEI3R_model.recovered=slice(5,6)\n",
    "SEI3R_model.deaths=slice(6,7)"
   ]
  },
  {
   "cell_type": "code",
   "execution_count": 26,
   "metadata": {},
   "outputs": [
    {
     "data": {
      "text/latex": [
       "$\\displaystyle \\left[\\begin{matrix}d{S}/dt= & - S \\left(I_{1} \\beta_{1} + I_{2} \\beta_{2} + I_{3} \\beta_{3}\\right)\\\\d{E}/dt= & - E \\alpha + S \\left(I_{1} \\beta_{1} + I_{2} \\beta_{2} + I_{3} \\beta_{3}\\right)\\\\d{I_1}/dt= & E \\alpha - I_{1} \\gamma_{1} - I_{1} p_{1}\\\\d{I_2}/dt= & I_{1} p_{1} - I_{2} \\gamma_{2} - I_{2} p_{2}\\\\d{I_3}/dt= & I_{2} p_{2} - I_{3} \\gamma_{3} - I_{3} \\mu\\\\d{R}/dt= & I_{1} \\gamma_{1} + I_{2} \\gamma_{2} + I_{3} \\gamma_{3}\\\\d{D}/dt= & I_{3} \\mu\\end{matrix}\\right]$"
      ],
      "text/plain": [
       "Matrix([\n",
       "[  d{S}/dt=,           -S*(I_1*beta_1 + I_2*beta_2 + I_3*beta_3)],\n",
       "[  d{E}/dt=, -E*alpha + S*(I_1*beta_1 + I_2*beta_2 + I_3*beta_3)],\n",
       "[d{I_1}/dt=,                     E*alpha - I_1*gamma_1 - I_1*p_1],\n",
       "[d{I_2}/dt=,                     I_1*p_1 - I_2*gamma_2 - I_2*p_2],\n",
       "[d{I_3}/dt=,                      I_2*p_2 - I_3*gamma_3 - I_3*mu],\n",
       "[  d{R}/dt=,             I_1*gamma_1 + I_2*gamma_2 + I_3*gamma_3],\n",
       "[  d{D}/dt=,                                              I_3*mu]])"
      ]
     },
     "execution_count": 26,
     "metadata": {},
     "output_type": "execute_result"
    }
   ],
   "source": [
    "# display equations\n",
    "print_ode2(SEI3R_model)"
   ]
  },
  {
   "cell_type": "code",
   "execution_count": 27,
   "metadata": {},
   "outputs": [
    {
     "data": {
      "image/png": "[encoded data removed]",
      "text/plain": [
       "<Figure size 432x288 with 1 Axes>"
      ]
     },
     "metadata": {
      "needs_background": "light"
     },
     "output_type": "display_data"
    },
    {
     "data": {
      "image/svg+xml": [
       "<?xml version=\"1.0\" encoding=\"UTF-8\" standalone=\"no\"?>\n",
       "<!DOCTYPE svg PUBLIC \"-//W3C//DTD SVG 1.1//EN\"\n",
       " \"http://www.w3.org/Graphics/SVG/1.1/DTD/svg11.dtd\">\n",
       "<!-- Generated by graphviz version 2.44.0 (20200408.0750)\n",
       " -->\n",
       "<!-- Pages: 1 -->\n",
       "<svg width=\"852pt\" height=\"145pt\"\n",
       " viewBox=\"0.00 0.00 852.00 145.00\" xmlns=\"http://www.w3.org/2000/svg\" xmlns:xlink=\"http://www.w3.org/1999/xlink\">\n",
       "<g id=\"graph0\" class=\"graph\" transform=\"scale(1 1) rotate(0) translate(4 141)\">\n",
       "<polygon fill=\"white\" stroke=\"transparent\" points=\"-4,4 -4,-141 848,-141 848,4 -4,4\"/>\n",
       "<!-- S -->\n",
       "<g id=\"node1\" class=\"node\">\n",
       "<title>S</title>\n",
       "<ellipse fill=\"none\" stroke=\"black\" cx=\"27\" cy=\"-18\" rx=\"27\" ry=\"18\"/>\n",
       "<text text-anchor=\"middle\" x=\"27\" y=\"-14.3\" font-family=\"Times,serif\" font-size=\"14.00\">S</text>\n",
       "</g>\n",
       "<!-- E -->\n",
       "<g id=\"node2\" class=\"node\">\n",
       "<title>E</title>\n",
       "<ellipse fill=\"none\" stroke=\"black\" cx=\"295\" cy=\"-18\" rx=\"27\" ry=\"18\"/>\n",
       "<text text-anchor=\"middle\" x=\"295\" y=\"-14.3\" font-family=\"Times,serif\" font-size=\"14.00\">E</text>\n",
       "</g>\n",
       "<!-- S&#45;&gt;E -->\n",
       "<g id=\"edge1\" class=\"edge\">\n",
       "<title>S&#45;&gt;E</title>\n",
       "<path fill=\"none\" stroke=\"black\" d=\"M54.48,-18C102.28,-18 203.05,-18 257.41,-18\"/>\n",
       "<polygon fill=\"black\" stroke=\"black\" points=\"257.63,-21.5 267.63,-18 257.63,-14.5 257.63,-21.5\"/>\n",
       "<text text-anchor=\"middle\" x=\"161\" y=\"-21.8\" font-family=\"Times,serif\" font-size=\"14.00\">(β_1*I_1+β_2*I_2+β_3*I_3)*S</text>\n",
       "</g>\n",
       "<!-- I_1 -->\n",
       "<g id=\"node3\" class=\"node\">\n",
       "<title>I_1</title>\n",
       "<ellipse fill=\"none\" stroke=\"black\" cx=\"409\" cy=\"-18\" rx=\"27\" ry=\"18\"/>\n",
       "<text text-anchor=\"middle\" x=\"409\" y=\"-14.3\" font-family=\"Times,serif\" font-size=\"14.00\">I_1</text>\n",
       "</g>\n",
       "<!-- E&#45;&gt;I_1 -->\n",
       "<g id=\"edge2\" class=\"edge\">\n",
       "<title>E&#45;&gt;I_1</title>\n",
       "<path fill=\"none\" stroke=\"black\" d=\"M322.26,-18C337,-18 355.62,-18 371.74,-18\"/>\n",
       "<polygon fill=\"black\" stroke=\"black\" points=\"371.91,-21.5 381.91,-18 371.91,-14.5 371.91,-21.5\"/>\n",
       "<text text-anchor=\"middle\" x=\"352\" y=\"-21.8\" font-family=\"Times,serif\" font-size=\"14.00\">α*E</text>\n",
       "</g>\n",
       "<!-- I_2 -->\n",
       "<g id=\"node4\" class=\"node\">\n",
       "<title>I_2</title>\n",
       "<ellipse fill=\"none\" stroke=\"black\" cx=\"545\" cy=\"-48\" rx=\"27\" ry=\"18\"/>\n",
       "<text text-anchor=\"middle\" x=\"545\" y=\"-44.3\" font-family=\"Times,serif\" font-size=\"14.00\">I_2</text>\n",
       "</g>\n",
       "<!-- I_1&#45;&gt;I_2 -->\n",
       "<g id=\"edge6\" class=\"edge\">\n",
       "<title>I_1&#45;&gt;I_2</title>\n",
       "<path fill=\"none\" stroke=\"black\" d=\"M434.89,-23.57C455.86,-28.27 486.07,-35.03 509.39,-40.25\"/>\n",
       "<polygon fill=\"black\" stroke=\"black\" points=\"508.72,-43.69 519.24,-42.46 510.25,-36.86 508.72,-43.69\"/>\n",
       "<text text-anchor=\"middle\" x=\"477\" y=\"-41.8\" font-family=\"Times,serif\" font-size=\"14.00\">p_1*I_1</text>\n",
       "</g>\n",
       "<!-- R -->\n",
       "<g id=\"node6\" class=\"node\">\n",
       "<title>R</title>\n",
       "<ellipse fill=\"none\" stroke=\"black\" cx=\"817\" cy=\"-48\" rx=\"27\" ry=\"18\"/>\n",
       "<text text-anchor=\"middle\" x=\"817\" y=\"-44.3\" font-family=\"Times,serif\" font-size=\"14.00\">R</text>\n",
       "</g>\n",
       "<!-- I_1&#45;&gt;R -->\n",
       "<g id=\"edge3\" class=\"edge\">\n",
       "<title>I_1&#45;&gt;R</title>\n",
       "<path fill=\"none\" stroke=\"black\" d=\"M436.12,-17.75C468.17,-17.61 524.14,-17.92 572,-21 646.34,-25.79 732.9,-36.63 780.35,-43.02\"/>\n",
       "<polygon fill=\"black\" stroke=\"black\" points=\"780.04,-46.51 790.42,-44.39 780.99,-39.57 780.04,-46.51\"/>\n",
       "<text text-anchor=\"middle\" x=\"613\" y=\"-30.8\" font-family=\"Times,serif\" font-size=\"14.00\">γ_1*I_1</text>\n",
       "</g>\n",
       "<!-- I_3 -->\n",
       "<g id=\"node5\" class=\"node\">\n",
       "<title>I_3</title>\n",
       "<ellipse fill=\"none\" stroke=\"black\" cx=\"681\" cy=\"-99\" rx=\"27\" ry=\"18\"/>\n",
       "<text text-anchor=\"middle\" x=\"681\" y=\"-95.3\" font-family=\"Times,serif\" font-size=\"14.00\">I_3</text>\n",
       "</g>\n",
       "<!-- I_2&#45;&gt;I_3 -->\n",
       "<g id=\"edge7\" class=\"edge\">\n",
       "<title>I_2&#45;&gt;I_3</title>\n",
       "<path fill=\"none\" stroke=\"black\" d=\"M568.73,-56.65C590.39,-64.89 623.22,-77.39 647.61,-86.67\"/>\n",
       "<polygon fill=\"black\" stroke=\"black\" points=\"646.57,-90.02 657.16,-90.31 649.06,-83.48 646.57,-90.02\"/>\n",
       "<text text-anchor=\"middle\" x=\"613\" y=\"-84.8\" font-family=\"Times,serif\" font-size=\"14.00\">p_2*I_2</text>\n",
       "</g>\n",
       "<!-- I_2&#45;&gt;R -->\n",
       "<g id=\"edge4\" class=\"edge\">\n",
       "<title>I_2&#45;&gt;R</title>\n",
       "<path fill=\"none\" stroke=\"black\" d=\"M572.38,-48C621,-48 724.79,-48 779.89,-48\"/>\n",
       "<polygon fill=\"black\" stroke=\"black\" points=\"779.91,-51.5 789.91,-48 779.91,-44.5 779.91,-51.5\"/>\n",
       "<text text-anchor=\"middle\" x=\"681\" y=\"-51.8\" font-family=\"Times,serif\" font-size=\"14.00\">γ_2*I_2</text>\n",
       "</g>\n",
       "<!-- I_3&#45;&gt;R -->\n",
       "<g id=\"edge5\" class=\"edge\">\n",
       "<title>I_3&#45;&gt;R</title>\n",
       "<path fill=\"none\" stroke=\"black\" d=\"M704.73,-90.35C726.39,-82.11 759.22,-69.61 783.61,-60.33\"/>\n",
       "<polygon fill=\"black\" stroke=\"black\" points=\"785.06,-63.52 793.16,-56.69 782.57,-56.98 785.06,-63.52\"/>\n",
       "<text text-anchor=\"middle\" x=\"749\" y=\"-84.8\" font-family=\"Times,serif\" font-size=\"14.00\">γ_3*I_3</text>\n",
       "</g>\n",
       "<!-- D -->\n",
       "<g id=\"node7\" class=\"node\">\n",
       "<title>D</title>\n",
       "<ellipse fill=\"none\" stroke=\"black\" cx=\"817\" cy=\"-119\" rx=\"27\" ry=\"18\"/>\n",
       "<text text-anchor=\"middle\" x=\"817\" y=\"-115.3\" font-family=\"Times,serif\" font-size=\"14.00\">D</text>\n",
       "</g>\n",
       "<!-- I_3&#45;&gt;D -->\n",
       "<g id=\"edge8\" class=\"edge\">\n",
       "<title>I_3&#45;&gt;D</title>\n",
       "<path fill=\"none\" stroke=\"black\" d=\"M707.52,-102.81C728.2,-105.9 757.56,-110.28 780.53,-113.71\"/>\n",
       "<polygon fill=\"black\" stroke=\"black\" points=\"780.17,-117.19 790.58,-115.21 781.2,-110.27 780.17,-117.19\"/>\n",
       "<text text-anchor=\"middle\" x=\"749\" y=\"-114.8\" font-family=\"Times,serif\" font-size=\"14.00\">μ*I_3</text>\n",
       "</g>\n",
       "</g>\n",
       "</svg>\n"
      ],
      "text/plain": [
       "<graphviz.dot.Digraph at 0x10d12fe50>"
      ]
     },
     "execution_count": 27,
     "metadata": {},
     "output_type": "execute_result"
    }
   ],
   "source": [
    "# display graphical representation of the model\n",
    "SEI3R_model.get_transition_graph()"
   ]
  },
  {
   "cell_type": "markdown",
   "metadata": {},
   "source": [
    "### SCEI3R model"
   ]
  },
  {
   "cell_type": "markdown",
   "metadata": {},
   "source": [
    "#### Equations\n",
    "\n",
    "\\begin{equation}\n",
    "\\begin{split}\n",
    "\\dot{S} &= -(\\beta_1 I_1 +\\beta_2 I_2 + \\beta_3 I_3) S + c_1 S_c - c_2*S*I_3\\\\\n",
    "\\dot{S_c} &= - c_0(\\beta_1 I_1 +\\beta_2 I_2 + \\beta_3 I_3) S_c - c_1 S_c + c_2*S*I_3\\\\\n",
    "\\dot{E} &=(\\beta_1 I_1 +\\beta_2 I_2 + \\beta_3 I_3 ) (S + c_0 S_c) - a E \\\\\n",
    "\\dot{I_1} &= a E - \\gamma_1 I_1 - p_1 I_1 \\\\\n",
    "\\dot{I_2} &= p_1 I_1 -\\gamma_2 I_2 - p_2 I_2 \\\\\n",
    "\\dot{I_3} & = p_2 I_2 -\\gamma_3 I_3 - \\mu I_3 \\\\\n",
    "\\dot{R} & = \\gamma_1 I_1 + \\gamma_2 I_2 + \\gamma_3 I_3 \\\\\n",
    "\\dot{D} & = \\mu I_3\n",
    "\\end{split}\n",
    "\\end{equation}\n",
    "\n",
    "The use of I_3 as a state variable triggering susceptibles to execute caution is just one choice. In contrast with deaths, it does not accumulate over time and so retains the property of an active threat to society, rather than an historical one.\n",
    "\n",
    "Actually, the effect of caution may be quadratic, since both the individual doing the infection and individual potentially being infected may be executing caution. The current version assumes that infectives do not change their precautionary measures in response to I_3. To implement this we would need to further distinguish careful and non careful infectives at least up to the I_1 level. This is done in the SC3EI3R model.\n",
    "\n",
    "#### Variables\n",
    "* $S$: Susceptible individuals living as normal\n",
    "* $S_c$: Susceptible individuals exercising pandemy precautions\n",
    "* $E$: Exposed individuals - infected but not yet infectious or symptomatic\n",
    "* $I_i$: Infected individuals in severity class $i$. Severity increaes with $i$ and we assume individuals must pass through all previous classes\n",
    "  * $I_1$: Mild infection (hospitalization not required)\n",
    "  * $I_2$: Severe infection (hospitalization required)\n",
    "  * $I_3$: Critical infection (ICU required)\n",
    "* $R$: individuals who have recovered from disease and are now immune\n",
    "* $D$: Dead individuals\n",
    "* $N=S+S_c+E+I_1+I_2+I_3+R+D$ Total population size (constant)\n",
    "\n",
    "#### Parameters\n",
    "* $\\beta_i$ rate at which infected individuals in class $I_i$ contact susceptibles and infect them\n",
    "* $a$ rate of progression from the exposed to infected class\n",
    "* $\\gamma_i$ rate at which infected individuals in class $I_i$ recover from disease and become immune\n",
    "* $p_i$ rate at which infected individuals in class $I_i$ progress to class $I_{I+1}$\n",
    "* $\\mu$ death rate for individuals in the most severe stage of disease\n",
    "\n",
    "* $c_i$ three parameters characterizing cautionary response of population via class $S_c$\n",
    "\n",
    "    - c_0 : reduction factor for exposure for cautioned susceptibles\n",
    "\n",
    "    - c_1 : duration of caution (exponential decay time constant in days)\n",
    "\n",
    "    - c_2 : rate constant for transition from uncautioned to cautioned susceptible\n",
    "\n",
    "\n"
   ]
  },
  {
   "cell_type": "markdown",
   "metadata": {},
   "source": [
    "#### Implementation\n",
    "Using PyGOM, we will set up the model ODE system\n",
    "PyGOM – A Python Package for Simplifying Modelling with Systems of Ordinary Differential Equations https://arxiv.org/pdf/1803.06934.pdf"
   ]
  },
  {
   "cell_type": "code",
   "execution_count": 28,
   "metadata": {},
   "outputs": [],
   "source": [
    "# set up the symbolic model\n",
    "\n",
    "state = ['S', 'E', 'I_1', 'I_2','I_3','R','D','S_c']\n",
    "param_list = ['beta_1', 'beta_2','beta_3','alpha', 'gamma_1', 'gamma_2', 'gamma_3',\n",
    "              'p_1','p_2','mu','c_0','c_1','c_2','N']\n",
    "\n",
    "transition = [\n",
    "    Transition(origin='S', destination='E', equation='(beta_1*I_1+beta_2*I_2+beta_3*I_3)*S',\n",
    "               transition_type=TransitionType.T),\n",
    "    Transition(origin='S', destination='S_c', equation='c_2*I_3*S',\n",
    "               transition_type=TransitionType.T),\n",
    "    Transition(origin='S_c', destination='S', equation='c_1*S_c',\n",
    "               transition_type=TransitionType.T),\n",
    "    Transition(origin='S_c', destination='E', equation='c_0*(beta_1*I_1+beta_2*I_2+beta_3*I_3)*S_c',\n",
    "               transition_type=TransitionType.T),\n",
    "    Transition(origin='E', destination='I_1', equation='alpha*E',\n",
    "               transition_type=TransitionType.T),\n",
    "    Transition(origin='I_1', destination='R', equation='gamma_1*I_1',\n",
    "               transition_type=TransitionType.T),\n",
    "    Transition(origin='I_2', destination='R', equation='gamma_2*I_2',\n",
    "               transition_type=TransitionType.T),\n",
    "    Transition(origin='I_3', destination='R', equation='gamma_3*I_3',\n",
    "               transition_type=TransitionType.T),\n",
    "    Transition(origin='I_1', destination='I_2', equation='p_1*I_1',\n",
    "               transition_type=TransitionType.T),\n",
    "    Transition(origin='I_2', destination='I_3', equation='p_2*I_2',\n",
    "               transition_type=TransitionType.T),\n",
    "    Transition(origin='I_3', destination='D', equation='mu*I_3',\n",
    "               transition_type=TransitionType.T)    \n",
    "    ]\n",
    "\n",
    "\n",
    "SCEI3R_model = DeterministicOde(state, param_list, transition=transition)\n",
    "SCEI3R_model.modelname='SCEI3R'\n",
    "SCEI3R_model.ei=slice(1,5)\n",
    "SCEI3R_model.confirmed=slice(2,7)  # cases 2-6 i.e. I1, I2, I3, R and D\n",
    "SCEI3R_model.recovered=slice(5,6)\n",
    "SCEI3R_model.deaths=slice(6,7)"
   ]
  },
  {
   "cell_type": "code",
   "execution_count": 29,
   "metadata": {},
   "outputs": [
    {
     "data": {
      "text/latex": [
       "$\\displaystyle \\left[\\begin{matrix}d{S}/dt= & - I_{3} S c_{2} - S \\left(I_{1} \\beta_{1} + I_{2} \\beta_{2} + I_{3} \\beta_{3}\\right) + S_{c} c_{1}\\\\d{E}/dt= & - E \\alpha + S \\left(I_{1} \\beta_{1} + I_{2} \\beta_{2} + I_{3} \\beta_{3}\\right) + S_{c} c_{0} \\left(I_{1} \\beta_{1} + I_{2} \\beta_{2} + I_{3} \\beta_{3}\\right)\\\\d{I_1}/dt= & E \\alpha - I_{1} \\gamma_{1} - I_{1} p_{1}\\\\d{I_2}/dt= & I_{1} p_{1} - I_{2} \\gamma_{2} - I_{2} p_{2}\\\\d{I_3}/dt= & I_{2} p_{2} - I_{3} \\gamma_{3} - I_{3} \\mu\\\\d{R}/dt= & I_{1} \\gamma_{1} + I_{2} \\gamma_{2} + I_{3} \\gamma_{3}\\\\d{D}/dt= & I_{3} \\mu\\\\d{S_c}/dt= & I_{3} S c_{2} - S_{c} c_{0} \\left(I_{1} \\beta_{1} + I_{2} \\beta_{2} + I_{3} \\beta_{3}\\right) - S_{c} c_{1}\\end{matrix}\\right]$"
      ],
      "text/plain": [
       "Matrix([\n",
       "[  d{S}/dt=,                                      -I_3*S*c_2 - S*(I_1*beta_1 + I_2*beta_2 + I_3*beta_3) + S_c*c_1],\n",
       "[  d{E}/dt=, -E*alpha + S*(I_1*beta_1 + I_2*beta_2 + I_3*beta_3) + S_c*c_0*(I_1*beta_1 + I_2*beta_2 + I_3*beta_3)],\n",
       "[d{I_1}/dt=,                                                                      E*alpha - I_1*gamma_1 - I_1*p_1],\n",
       "[d{I_2}/dt=,                                                                      I_1*p_1 - I_2*gamma_2 - I_2*p_2],\n",
       "[d{I_3}/dt=,                                                                       I_2*p_2 - I_3*gamma_3 - I_3*mu],\n",
       "[  d{R}/dt=,                                                              I_1*gamma_1 + I_2*gamma_2 + I_3*gamma_3],\n",
       "[  d{D}/dt=,                                                                                               I_3*mu],\n",
       "[d{S_c}/dt=,                                 I_3*S*c_2 - S_c*c_0*(I_1*beta_1 + I_2*beta_2 + I_3*beta_3) - S_c*c_1]])"
      ]
     },
     "execution_count": 29,
     "metadata": {},
     "output_type": "execute_result"
    }
   ],
   "source": [
    "# display equations\n",
    "print_ode2(SCEI3R_model)"
   ]
  },
  {
   "cell_type": "code",
   "execution_count": 30,
   "metadata": {},
   "outputs": [
    {
     "data": {
      "image/png": "[encoded data removed]",
      "text/plain": [
       "<Figure size 432x288 with 1 Axes>"
      ]
     },
     "metadata": {
      "needs_background": "light"
     },
     "output_type": "display_data"
    },
    {
     "data": {
      "image/svg+xml": [
       "<?xml version=\"1.0\" encoding=\"UTF-8\" standalone=\"no\"?>\n",
       "<!DOCTYPE svg PUBLIC \"-//W3C//DTD SVG 1.1//EN\"\n",
       " \"http://www.w3.org/Graphics/SVG/1.1/DTD/svg11.dtd\">\n",
       "<!-- Generated by graphviz version 2.44.0 (20200408.0750)\n",
       " -->\n",
       "<!-- Pages: 1 -->\n",
       "<svg width=\"1164pt\" height=\"172pt\"\n",
       " viewBox=\"0.00 0.00 1164.00 172.00\" xmlns=\"http://www.w3.org/2000/svg\" xmlns:xlink=\"http://www.w3.org/1999/xlink\">\n",
       "<g id=\"graph0\" class=\"graph\" transform=\"scale(1 1) rotate(0) translate(4 168)\">\n",
       "<polygon fill=\"white\" stroke=\"transparent\" points=\"-4,4 -4,-168 1160,-168 1160,4 -4,4\"/>\n",
       "<!-- S -->\n",
       "<g id=\"node1\" class=\"node\">\n",
       "<title>S</title>\n",
       "<ellipse fill=\"none\" stroke=\"black\" cx=\"27\" cy=\"-42\" rx=\"27\" ry=\"18\"/>\n",
       "<text text-anchor=\"middle\" x=\"27\" y=\"-38.3\" font-family=\"Times,serif\" font-size=\"14.00\">S</text>\n",
       "</g>\n",
       "<!-- E -->\n",
       "<g id=\"node2\" class=\"node\">\n",
       "<title>E</title>\n",
       "<ellipse fill=\"none\" stroke=\"black\" cx=\"607\" cy=\"-45\" rx=\"27\" ry=\"18\"/>\n",
       "<text text-anchor=\"middle\" x=\"607\" y=\"-41.3\" font-family=\"Times,serif\" font-size=\"14.00\">E</text>\n",
       "</g>\n",
       "<!-- S&#45;&gt;E -->\n",
       "<g id=\"edge1\" class=\"edge\">\n",
       "<title>S&#45;&gt;E</title>\n",
       "<path fill=\"none\" stroke=\"black\" d=\"M51.48,-50.24C58.04,-52.18 65.23,-53.98 72,-55 287.36,-87.36 346.46,-89.17 562,-58 565.5,-57.49 569.1,-56.77 572.67,-55.93\"/>\n",
       "<polygon fill=\"black\" stroke=\"black\" points=\"573.78,-59.26 582.53,-53.29 571.96,-52.49 573.78,-59.26\"/>\n",
       "<text text-anchor=\"middle\" x=\"238\" y=\"-83.8\" font-family=\"Times,serif\" font-size=\"14.00\">(β_1*I_1+β_2*I_2+β_3*I_3)*S</text>\n",
       "</g>\n",
       "<!-- S_c -->\n",
       "<g id=\"node8\" class=\"node\">\n",
       "<title>S_c</title>\n",
       "<ellipse fill=\"none\" stroke=\"black\" cx=\"238\" cy=\"-18\" rx=\"27\" ry=\"18\"/>\n",
       "<text text-anchor=\"middle\" x=\"238\" y=\"-14.3\" font-family=\"Times,serif\" font-size=\"14.00\">S_c</text>\n",
       "</g>\n",
       "<!-- S&#45;&gt;S_c -->\n",
       "<g id=\"edge2\" class=\"edge\">\n",
       "<title>S&#45;&gt;S_c</title>\n",
       "<path fill=\"none\" stroke=\"black\" d=\"M54.05,-39.01C91.17,-34.75 159.42,-26.91 201.25,-22.11\"/>\n",
       "<polygon fill=\"black\" stroke=\"black\" points=\"201.75,-25.57 211.28,-20.95 200.95,-18.62 201.75,-25.57\"/>\n",
       "<text text-anchor=\"middle\" x=\"101.5\" y=\"-39.8\" font-family=\"Times,serif\" font-size=\"14.00\">c_2*I_3*S</text>\n",
       "</g>\n",
       "<!-- I_1 -->\n",
       "<g id=\"node3\" class=\"node\">\n",
       "<title>I_1</title>\n",
       "<ellipse fill=\"none\" stroke=\"black\" cx=\"721\" cy=\"-45\" rx=\"27\" ry=\"18\"/>\n",
       "<text text-anchor=\"middle\" x=\"721\" y=\"-41.3\" font-family=\"Times,serif\" font-size=\"14.00\">I_1</text>\n",
       "</g>\n",
       "<!-- E&#45;&gt;I_1 -->\n",
       "<g id=\"edge5\" class=\"edge\">\n",
       "<title>E&#45;&gt;I_1</title>\n",
       "<path fill=\"none\" stroke=\"black\" d=\"M634.26,-45C649,-45 667.62,-45 683.74,-45\"/>\n",
       "<polygon fill=\"black\" stroke=\"black\" points=\"683.91,-48.5 693.91,-45 683.91,-41.5 683.91,-48.5\"/>\n",
       "<text text-anchor=\"middle\" x=\"664\" y=\"-48.8\" font-family=\"Times,serif\" font-size=\"14.00\">α*E</text>\n",
       "</g>\n",
       "<!-- I_2 -->\n",
       "<g id=\"node4\" class=\"node\">\n",
       "<title>I_2</title>\n",
       "<ellipse fill=\"none\" stroke=\"black\" cx=\"857\" cy=\"-75\" rx=\"27\" ry=\"18\"/>\n",
       "<text text-anchor=\"middle\" x=\"857\" y=\"-71.3\" font-family=\"Times,serif\" font-size=\"14.00\">I_2</text>\n",
       "</g>\n",
       "<!-- I_1&#45;&gt;I_2 -->\n",
       "<g id=\"edge9\" class=\"edge\">\n",
       "<title>I_1&#45;&gt;I_2</title>\n",
       "<path fill=\"none\" stroke=\"black\" d=\"M746.89,-50.57C767.86,-55.27 798.07,-62.03 821.39,-67.25\"/>\n",
       "<polygon fill=\"black\" stroke=\"black\" points=\"820.72,-70.69 831.24,-69.46 822.25,-63.86 820.72,-70.69\"/>\n",
       "<text text-anchor=\"middle\" x=\"789\" y=\"-67.8\" font-family=\"Times,serif\" font-size=\"14.00\">p_1*I_1</text>\n",
       "</g>\n",
       "<!-- R -->\n",
       "<g id=\"node6\" class=\"node\">\n",
       "<title>R</title>\n",
       "<ellipse fill=\"none\" stroke=\"black\" cx=\"1129\" cy=\"-75\" rx=\"27\" ry=\"18\"/>\n",
       "<text text-anchor=\"middle\" x=\"1129\" y=\"-71.3\" font-family=\"Times,serif\" font-size=\"14.00\">R</text>\n",
       "</g>\n",
       "<!-- I_1&#45;&gt;R -->\n",
       "<g id=\"edge6\" class=\"edge\">\n",
       "<title>I_1&#45;&gt;R</title>\n",
       "<path fill=\"none\" stroke=\"black\" d=\"M748.12,-44.75C780.17,-44.61 836.14,-44.92 884,-48 958.34,-52.79 1044.9,-63.63 1092.35,-70.02\"/>\n",
       "<polygon fill=\"black\" stroke=\"black\" points=\"1092.04,-73.51 1102.42,-71.39 1092.99,-66.57 1092.04,-73.51\"/>\n",
       "<text text-anchor=\"middle\" x=\"925\" y=\"-56.8\" font-family=\"Times,serif\" font-size=\"14.00\">γ_1*I_1</text>\n",
       "</g>\n",
       "<!-- I_3 -->\n",
       "<g id=\"node5\" class=\"node\">\n",
       "<title>I_3</title>\n",
       "<ellipse fill=\"none\" stroke=\"black\" cx=\"993\" cy=\"-126\" rx=\"27\" ry=\"18\"/>\n",
       "<text text-anchor=\"middle\" x=\"993\" y=\"-122.3\" font-family=\"Times,serif\" font-size=\"14.00\">I_3</text>\n",
       "</g>\n",
       "<!-- I_2&#45;&gt;I_3 -->\n",
       "<g id=\"edge10\" class=\"edge\">\n",
       "<title>I_2&#45;&gt;I_3</title>\n",
       "<path fill=\"none\" stroke=\"black\" d=\"M880.73,-83.65C902.39,-91.89 935.22,-104.39 959.61,-113.67\"/>\n",
       "<polygon fill=\"black\" stroke=\"black\" points=\"958.57,-117.02 969.16,-117.31 961.06,-110.48 958.57,-117.02\"/>\n",
       "<text text-anchor=\"middle\" x=\"925\" y=\"-111.8\" font-family=\"Times,serif\" font-size=\"14.00\">p_2*I_2</text>\n",
       "</g>\n",
       "<!-- I_2&#45;&gt;R -->\n",
       "<g id=\"edge7\" class=\"edge\">\n",
       "<title>I_2&#45;&gt;R</title>\n",
       "<path fill=\"none\" stroke=\"black\" d=\"M884.38,-75C933,-75 1036.79,-75 1091.89,-75\"/>\n",
       "<polygon fill=\"black\" stroke=\"black\" points=\"1091.91,-78.5 1101.91,-75 1091.91,-71.5 1091.91,-78.5\"/>\n",
       "<text text-anchor=\"middle\" x=\"993\" y=\"-78.8\" font-family=\"Times,serif\" font-size=\"14.00\">γ_2*I_2</text>\n",
       "</g>\n",
       "<!-- I_3&#45;&gt;R -->\n",
       "<g id=\"edge8\" class=\"edge\">\n",
       "<title>I_3&#45;&gt;R</title>\n",
       "<path fill=\"none\" stroke=\"black\" d=\"M1016.73,-117.35C1038.39,-109.11 1071.22,-96.61 1095.61,-87.33\"/>\n",
       "<polygon fill=\"black\" stroke=\"black\" points=\"1097.06,-90.52 1105.16,-83.69 1094.57,-83.98 1097.06,-90.52\"/>\n",
       "<text text-anchor=\"middle\" x=\"1061\" y=\"-111.8\" font-family=\"Times,serif\" font-size=\"14.00\">γ_3*I_3</text>\n",
       "</g>\n",
       "<!-- D -->\n",
       "<g id=\"node7\" class=\"node\">\n",
       "<title>D</title>\n",
       "<ellipse fill=\"none\" stroke=\"black\" cx=\"1129\" cy=\"-146\" rx=\"27\" ry=\"18\"/>\n",
       "<text text-anchor=\"middle\" x=\"1129\" y=\"-142.3\" font-family=\"Times,serif\" font-size=\"14.00\">D</text>\n",
       "</g>\n",
       "<!-- I_3&#45;&gt;D -->\n",
       "<g id=\"edge11\" class=\"edge\">\n",
       "<title>I_3&#45;&gt;D</title>\n",
       "<path fill=\"none\" stroke=\"black\" d=\"M1019.52,-129.81C1040.2,-132.9 1069.56,-137.28 1092.53,-140.71\"/>\n",
       "<polygon fill=\"black\" stroke=\"black\" points=\"1092.17,-144.19 1102.58,-142.21 1093.2,-137.27 1092.17,-144.19\"/>\n",
       "<text text-anchor=\"middle\" x=\"1061\" y=\"-141.8\" font-family=\"Times,serif\" font-size=\"14.00\">μ*I_3</text>\n",
       "</g>\n",
       "<!-- S_c&#45;&gt;S -->\n",
       "<g id=\"edge3\" class=\"edge\">\n",
       "<title>S_c&#45;&gt;S</title>\n",
       "<path fill=\"none\" stroke=\"black\" d=\"M212.54,-11.85C179.71,-4.73 119.97,4.2 72,-11 64.77,-13.29 57.71,-17.24 51.43,-21.57\"/>\n",
       "<polygon fill=\"black\" stroke=\"black\" points=\"49.31,-18.79 43.41,-27.59 53.51,-24.39 49.31,-18.79\"/>\n",
       "<text text-anchor=\"middle\" x=\"101.5\" y=\"-14.8\" font-family=\"Times,serif\" font-size=\"14.00\">c_1*S_c</text>\n",
       "</g>\n",
       "<!-- S_c&#45;&gt;E -->\n",
       "<g id=\"edge4\" class=\"edge\">\n",
       "<title>S_c&#45;&gt;E</title>\n",
       "<path fill=\"none\" stroke=\"black\" d=\"M265.1,-19.92C329.41,-24.65 495.6,-36.88 569.57,-42.32\"/>\n",
       "<polygon fill=\"black\" stroke=\"black\" points=\"569.56,-45.83 579.79,-43.07 570.07,-38.85 569.56,-45.83\"/>\n",
       "<text text-anchor=\"middle\" x=\"453.5\" y=\"-44.8\" font-family=\"Times,serif\" font-size=\"14.00\">c_0*(β_1*I_1+β_2*I_2+β_3*I_3)*S_c</text>\n",
       "</g>\n",
       "</g>\n",
       "</svg>\n"
      ],
      "text/plain": [
       "<graphviz.dot.Digraph at 0x10c359090>"
      ]
     },
     "execution_count": 30,
     "metadata": {},
     "output_type": "execute_result"
    }
   ],
   "source": [
    "# display graphical representation of the model\n",
    "SCEI3R_model.get_transition_graph()"
   ]
  },
  {
   "cell_type": "markdown",
   "metadata": {},
   "source": [
    "### SC3EI3R model with caution distinguished $E$ and  𝐼1"
   ]
  },
  {
   "cell_type": "markdown",
   "metadata": {
    "colab_type": "text",
    "heading_collapsed": true,
    "id": "wAb1ddE0gwhA"
   },
   "source": [
    "#### Equations\n",
    "\n",
    "\\begin{equation}\n",
    "\\begin{split}\n",
    "\\dot{S} &= -(\\beta_1 (I_1 + c_0 I_{1c}) +\\beta_2 I_2 + \\beta_3 I_3) S + c_1 S_c - c_2*S*I_3\\\\\n",
    "\\dot{S_c} &= - c_0(\\beta_1 (I_1 + c_0 I_{1c}) +\\beta_2 I_2 + \\beta_3 I_3) S_c - c_1 S_c + c_2*S*I_3\\\\\n",
    "\\dot{E} &=(\\beta_1 (I_1 + c_0 I_{1c}) +\\beta_2 I_2 + \\beta_3 I_3 ) S - a E + c_1 E_c - c_2*E*I_3\\\\\n",
    "\\dot{E_c} &=(\\beta_1 (I_1 + c_0 I_{1c}) +\\beta_2 I_2 + \\beta_3 I_3 ) c_0 S_c - a E - c_1 E_c + c_2*E*I_3\\\\\n",
    "\\dot{I_1} &= a E - \\gamma_1 I_1 - p_1 I_1 + c_1 I_{1c} - c_2*I_{1c}*I_3\\\\\n",
    "\\dot{I_{1c}} &= a E_c - \\gamma_1 I_{1c} - p_1 I_{1c} - c_1 I_{1c} + c_2*I_{1c}*I_3\\\\\n",
    "\\dot{I_2} &= p_1 (I_1 + I_{1c}) -\\gamma_2 I_2 - p_2 I_2 \\\\\n",
    "\\dot{I_3} & = p_2 I_2 -\\gamma_3 I_3 - \\mu I_3 \\\\\n",
    "\\dot{R} & = \\gamma_1 (I_1 + I_{1c}) + \\gamma_2 I_2 + \\gamma_3 I_3 \\\\\n",
    "\\dot{D} & = \\mu I_3\n",
    "\\end{split}\n",
    "\\end{equation}\n",
    "\n",
    "The use of I_3 as a state variable triggering susceptibles to execute caution is just one choice. In contrast with deaths, it does not accumulate over time and so retains the property of an active threat to society, rather than an historical one.\n",
    "\n",
    "Here, the effect of caution is quadratic, since both the individual doing the infection and individual potentially being infected may be executing caution. To implement this we distinguish careful and non careful exposed and infectives up to the I_1 level. Once in hospital there is no difference, since all caution is executed wrt infected patients.\n",
    "We ignore transition in caution among infected intervals as a second order effect: could be included as in SC2IR model.\n",
    "\n",
    "\n",
    "#### Variables\n",
    "* $S$: Susceptible individuals living as normal\n",
    "* $S_c$: Susceptible individuals exercising pandemy precautions\n",
    "* $E$: Exposed individuals living as normal - infected but not yet infectious or symptomatic\n",
    "* $E_c$: Exposed individuals exercising pandemy precautions\n",
    "* $I_i$: Infected individuals in severity class $i$. Severity increaes with $i$ and we assume individuals must pass through all previous classes. Split non hospital cases by caution.\n",
    "  * $I_1$: Mild infection (hospitalization not required), living as normal\n",
    "  * $I_{1c}$: Mild infection (hospitalization not required), exercising caution\n",
    "  * $I_2$: Severe infection (hospitalization required)\n",
    "  * $I_3$: Critical infection (ICU required)\n",
    "* $R$: individuals who have recovered from disease and are now immune\n",
    "* $D$: Dead individuals\n",
    "* $N=S+S_c+E+E_c+I_{1c}+I_1+I_2+I_3+R+D$ Total population size (constant)\n",
    "\n",
    "#### Parameters\n",
    "* $\\beta_i$ rate at which infected individuals in class $I_i$ contact susceptibles and infect them\n",
    "* $a$ rate of progression from the exposed to infected class\n",
    "* $\\gamma_i$ rate at which infected individuals in class $I_i$ recover from disease and become immune\n",
    "* $p_i$ rate at which infected individuals in class $I_i$ progress to class $I_{I+1}$\n",
    "* $\\mu$ death rate for individuals in the most severe stage of disease\n",
    "\n",
    "* $c_i$ three parameters characterizing cautionary response of population via class $S_c$\n",
    "\n",
    "    - c_0 : reduction factor for exposure for cautioned susceptibles\n",
    "\n",
    "    - c_1 : duration of caution (exponential decay time constant in days)\n",
    "\n",
    "    - c_2 : rate constant for transition from uncautioned to cautioned susceptible"
   ]
  },
  {
   "cell_type": "markdown",
   "metadata": {
    "slideshow": {
     "slide_type": "slide"
    }
   },
   "source": [
    "####  Implementation"
   ]
  },
  {
   "cell_type": "code",
   "execution_count": 31,
   "metadata": {},
   "outputs": [],
   "source": [
    "# set up the symbolic model\n",
    "\n",
    "state = ['S', 'E', 'I_1', 'I_2','I_3', 'R', 'D', 'I_c', 'S_c', 'E_c']\n",
    "param_list = ['beta_1', 'beta_2','beta_3','alpha', 'gamma_1', 'gamma_2', 'gamma_3',\n",
    "              'p_1','p_2','mu','c_0','c_1','c_2','N']\n",
    "\n",
    "transition = [\n",
    "    Transition(origin='S', destination='E', equation='(beta_1*I_1+beta_2*I_2+beta_3*I_3+c_0*beta_1*I_c)*S',\n",
    "               transition_type=TransitionType.T),\n",
    "    Transition(origin='S_c', destination='E_c', equation='c_0*(beta_1*I_1+beta_2*I_2+beta_3*I_3+c_0*beta_1*I_c)*S_c',\n",
    "               transition_type=TransitionType.T),\n",
    "    Transition(origin='S', destination='S_c', equation='c_2*I_3*S',\n",
    "               transition_type=TransitionType.T),\n",
    "    Transition(origin='S_c', destination='S', equation='c_1*S_c',\n",
    "               transition_type=TransitionType.T),\n",
    "    Transition(origin='E', destination='I_1', equation='alpha*E',\n",
    "               transition_type=TransitionType.T),\n",
    "    Transition(origin='E', destination='E_c', equation='c_2*I_3*E',\n",
    "               transition_type=TransitionType.T),\n",
    "    Transition(origin='E_c', destination='I_c', equation='alpha*E_c',\n",
    "               transition_type=TransitionType.T),\n",
    "    Transition(origin='E_c', destination='E', equation='c_1*E_c',\n",
    "               transition_type=TransitionType.T),\n",
    "    Transition(origin='I_1', destination='R', equation='gamma_1*I_1',\n",
    "               transition_type=TransitionType.T),\n",
    "    Transition(origin='I_1', destination='I_c', equation='c_2*I_3*I_1',  # error corrected I_1, mistakenly was I_c \n",
    "               transition_type=TransitionType.T),    \n",
    "    Transition(origin='I_c', destination='R', equation='gamma_1*I_c',\n",
    "               transition_type=TransitionType.T),\n",
    "    Transition(origin='I_c', destination='I_1', equation='c_1*I_c',\n",
    "               transition_type=TransitionType.T),    \n",
    "    Transition(origin='I_2', destination='R', equation='gamma_2*I_2',\n",
    "               transition_type=TransitionType.T),\n",
    "    Transition(origin='I_3', destination='R', equation='gamma_3*I_3',\n",
    "               transition_type=TransitionType.T),\n",
    "    Transition(origin='I_1', destination='I_2', equation='p_1*I_1',\n",
    "               transition_type=TransitionType.T),\n",
    "    Transition(origin='I_c', destination='I_2', equation='p_1*I_c',\n",
    "               transition_type=TransitionType.T),\n",
    "    Transition(origin='I_2', destination='I_3', equation='p_2*I_2',\n",
    "               transition_type=TransitionType.T),\n",
    "    Transition(origin='I_3', destination='D', equation='mu*I_3',\n",
    "               transition_type=TransitionType.T)\n",
    "    ]\n",
    "\n",
    "\n",
    "SC3EI3R_model = DeterministicOde(state, param_list, transition=transition)\n",
    "SC3EI3R_model.modelname='SC3EI3R'\n",
    "SC3EI3R_model.ei=slice(1,5) # 1,2,3,4 i.e. E,I_1,I_2,I_3 – not E_c and I_c \n",
    "SC3EI3R_model.confirmed=slice(2,8)  # cases 2-7 i.e. I1, I2, I3, R, D and I_c\n",
    "SC3EI3R_model.recovered=slice(5,6)\n",
    "SC3EI3R_model.deaths=slice(6,7)"
   ]
  },
  {
   "cell_type": "code",
   "execution_count": 32,
   "metadata": {},
   "outputs": [
    {
     "data": {
      "text/latex": [
       "$\\displaystyle \\left[\\begin{matrix}d{S}/dt= & - I_{3} S c_{2} - S \\left(I_{1} \\beta_{1} + I_{2} \\beta_{2} + I_{3} \\beta_{3} + I_{c} \\beta_{1} c_{0}\\right) + S_{c} c_{1}\\\\d{E}/dt= & - E I_{3} c_{2} - E \\alpha + E_{c} c_{1} + S \\left(I_{1} \\beta_{1} + I_{2} \\beta_{2} + I_{3} \\beta_{3} + I_{c} \\beta_{1} c_{0}\\right)\\\\d{I_1}/dt= & E \\alpha - I_{1} \\gamma_{1} - I_{1} p_{1} - I_{3} I_{c} c_{2} + I_{c} c_{1}\\\\d{I_2}/dt= & I_{1} p_{1} - I_{2} \\gamma_{2} - I_{2} p_{2} + I_{c} p_{1}\\\\d{I_3}/dt= & I_{2} p_{2} - I_{3} \\gamma_{3} - I_{3} \\mu\\\\d{R}/dt= & I_{1} \\gamma_{1} + I_{2} \\gamma_{2} + I_{3} \\gamma_{3} + I_{c} \\gamma_{1}\\\\d{D}/dt= & I_{3} \\mu\\\\d{I_c}/dt= & E_{c} \\alpha + I_{3} I_{c} c_{2} - I_{c} c_{1} - I_{c} \\gamma_{1} - I_{c} p_{1}\\\\d{S_c}/dt= & I_{3} S c_{2} - S_{c} c_{0} \\left(I_{1} \\beta_{1} + I_{2} \\beta_{2} + I_{3} \\beta_{3} + I_{c} \\beta_{1} c_{0}\\right) - S_{c} c_{1}\\\\d{E_c}/dt= & E I_{3} c_{2} - E_{c} \\alpha - E_{c} c_{1} + S_{c} c_{0} \\left(I_{1} \\beta_{1} + I_{2} \\beta_{2} + I_{3} \\beta_{3} + I_{c} \\beta_{1} c_{0}\\right)\\end{matrix}\\right]$"
      ],
      "text/plain": [
       "Matrix([\n",
       "[  d{S}/dt=,                  -I_3*S*c_2 - S*(I_1*beta_1 + I_2*beta_2 + I_3*beta_3 + I_c*beta_1*c_0) + S_c*c_1],\n",
       "[  d{E}/dt=,        -E*I_3*c_2 - E*alpha + E_c*c_1 + S*(I_1*beta_1 + I_2*beta_2 + I_3*beta_3 + I_c*beta_1*c_0)],\n",
       "[d{I_1}/dt=,                                           E*alpha - I_1*gamma_1 - I_1*p_1 - I_3*I_c*c_2 + I_c*c_1],\n",
       "[d{I_2}/dt=,                                                         I_1*p_1 - I_2*gamma_2 - I_2*p_2 + I_c*p_1],\n",
       "[d{I_3}/dt=,                                                                    I_2*p_2 - I_3*gamma_3 - I_3*mu],\n",
       "[  d{R}/dt=,                                             I_1*gamma_1 + I_2*gamma_2 + I_3*gamma_3 + I_c*gamma_1],\n",
       "[  d{D}/dt=,                                                                                            I_3*mu],\n",
       "[d{I_c}/dt=,                                         E_c*alpha + I_3*I_c*c_2 - I_c*c_1 - I_c*gamma_1 - I_c*p_1],\n",
       "[d{S_c}/dt=,             I_3*S*c_2 - S_c*c_0*(I_1*beta_1 + I_2*beta_2 + I_3*beta_3 + I_c*beta_1*c_0) - S_c*c_1],\n",
       "[d{E_c}/dt=, E*I_3*c_2 - E_c*alpha - E_c*c_1 + S_c*c_0*(I_1*beta_1 + I_2*beta_2 + I_3*beta_3 + I_c*beta_1*c_0)]])"
      ]
     },
     "execution_count": 32,
     "metadata": {},
     "output_type": "execute_result"
    }
   ],
   "source": [
    "# display equations\n",
    "print_ode2(SC3EI3R_model)"
   ]
  },
  {
   "cell_type": "code",
   "execution_count": 33,
   "metadata": {},
   "outputs": [
    {
     "data": {
      "image/png": "[encoded data removed]",
      "text/plain": [
       "<Figure size 432x288 with 1 Axes>"
      ]
     },
     "metadata": {
      "needs_background": "light"
     },
     "output_type": "display_data"
    },
    {
     "data": {
      "image/svg+xml": [
       "<?xml version=\"1.0\" encoding=\"UTF-8\" standalone=\"no\"?>\n",
       "<!DOCTYPE svg PUBLIC \"-//W3C//DTD SVG 1.1//EN\"\n",
       " \"http://www.w3.org/Graphics/SVG/1.1/DTD/svg11.dtd\">\n",
       "<!-- Generated by graphviz version 2.44.0 (20200408.0750)\n",
       " -->\n",
       "<!-- Pages: 1 -->\n",
       "<svg width=\"1361pt\" height=\"302pt\"\n",
       " viewBox=\"0.00 0.00 1361.00 302.00\" xmlns=\"http://www.w3.org/2000/svg\" xmlns:xlink=\"http://www.w3.org/1999/xlink\">\n",
       "<g id=\"graph0\" class=\"graph\" transform=\"scale(1 1) rotate(0) translate(4 298)\">\n",
       "<polygon fill=\"white\" stroke=\"transparent\" points=\"-4,4 -4,-298 1357,-298 1357,4 -4,4\"/>\n",
       "<!-- S -->\n",
       "<g id=\"node1\" class=\"node\">\n",
       "<title>S</title>\n",
       "<ellipse fill=\"none\" stroke=\"black\" cx=\"27\" cy=\"-238\" rx=\"27\" ry=\"18\"/>\n",
       "<text text-anchor=\"middle\" x=\"27\" y=\"-234.3\" font-family=\"Times,serif\" font-size=\"14.00\">S</text>\n",
       "</g>\n",
       "<!-- E -->\n",
       "<g id=\"node2\" class=\"node\">\n",
       "<title>E</title>\n",
       "<ellipse fill=\"none\" stroke=\"black\" cx=\"374\" cy=\"-200\" rx=\"27\" ry=\"18\"/>\n",
       "<text text-anchor=\"middle\" x=\"374\" y=\"-196.3\" font-family=\"Times,serif\" font-size=\"14.00\">E</text>\n",
       "</g>\n",
       "<!-- S&#45;&gt;E -->\n",
       "<g id=\"edge1\" class=\"edge\">\n",
       "<title>S&#45;&gt;E</title>\n",
       "<path fill=\"none\" stroke=\"black\" d=\"M41.38,-222.41C49.35,-214.36 60.19,-205.33 72,-201 163.23,-167.57 280.71,-182.17 338.2,-192.67\"/>\n",
       "<polygon fill=\"black\" stroke=\"black\" points=\"337.73,-196.14 348.21,-194.57 339.04,-189.27 337.73,-196.14\"/>\n",
       "<text text-anchor=\"middle\" x=\"200.5\" y=\"-204.8\" font-family=\"Times,serif\" font-size=\"14.00\">(β_1*I_1+β_2*I_2+β_3*I_3+c_0*β_1*I_c)*S</text>\n",
       "</g>\n",
       "<!-- S_c -->\n",
       "<g id=\"node9\" class=\"node\">\n",
       "<title>S_c</title>\n",
       "<ellipse fill=\"none\" stroke=\"black\" cx=\"374\" cy=\"-276\" rx=\"27\" ry=\"18\"/>\n",
       "<text text-anchor=\"middle\" x=\"374\" y=\"-272.3\" font-family=\"Times,serif\" font-size=\"14.00\">S_c</text>\n",
       "</g>\n",
       "<!-- S&#45;&gt;S_c -->\n",
       "<g id=\"edge3\" class=\"edge\">\n",
       "<title>S&#45;&gt;S_c</title>\n",
       "<path fill=\"none\" stroke=\"black\" d=\"M52.79,-232.57C105.56,-222.17 232.09,-203.49 329,-239 337.49,-242.11 345.48,-247.65 352.26,-253.51\"/>\n",
       "<polygon fill=\"black\" stroke=\"black\" points=\"349.93,-256.13 359.62,-260.41 354.72,-251.02 349.93,-256.13\"/>\n",
       "<text text-anchor=\"middle\" x=\"200.5\" y=\"-242.8\" font-family=\"Times,serif\" font-size=\"14.00\">c_2*I_3*S</text>\n",
       "</g>\n",
       "<!-- I_1 -->\n",
       "<g id=\"node3\" class=\"node\">\n",
       "<title>I_1</title>\n",
       "<ellipse fill=\"none\" stroke=\"black\" cx=\"760\" cy=\"-162\" rx=\"27\" ry=\"18\"/>\n",
       "<text text-anchor=\"middle\" x=\"760\" y=\"-158.3\" font-family=\"Times,serif\" font-size=\"14.00\">I_1</text>\n",
       "</g>\n",
       "<!-- E&#45;&gt;I_1 -->\n",
       "<g id=\"edge5\" class=\"edge\">\n",
       "<title>E&#45;&gt;I_1</title>\n",
       "<path fill=\"none\" stroke=\"black\" d=\"M388.38,-184.41C396.35,-176.36 407.19,-167.32 419,-163 524.53,-124.35 661.16,-142.64 724.25,-154.55\"/>\n",
       "<polygon fill=\"black\" stroke=\"black\" points=\"723.6,-157.99 734.09,-156.47 724.95,-151.12 723.6,-157.99\"/>\n",
       "<text text-anchor=\"middle\" x=\"567\" y=\"-166.8\" font-family=\"Times,serif\" font-size=\"14.00\">α*E</text>\n",
       "</g>\n",
       "<!-- E_c -->\n",
       "<g id=\"node10\" class=\"node\">\n",
       "<title>E_c</title>\n",
       "<ellipse fill=\"none\" stroke=\"black\" cx=\"760\" cy=\"-238\" rx=\"27\" ry=\"18\"/>\n",
       "<text text-anchor=\"middle\" x=\"760\" y=\"-234.3\" font-family=\"Times,serif\" font-size=\"14.00\">E_c</text>\n",
       "</g>\n",
       "<!-- E&#45;&gt;E_c -->\n",
       "<g id=\"edge6\" class=\"edge\">\n",
       "<title>E&#45;&gt;E_c</title>\n",
       "<path fill=\"none\" stroke=\"black\" d=\"M401.04,-197.81C470.29,-192.33 657.56,-179.96 715,-201 723.49,-204.11 731.48,-209.65 738.26,-215.51\"/>\n",
       "<polygon fill=\"black\" stroke=\"black\" points=\"735.93,-218.13 745.62,-222.41 740.72,-213.02 735.93,-218.13\"/>\n",
       "<text text-anchor=\"middle\" x=\"567\" y=\"-204.8\" font-family=\"Times,serif\" font-size=\"14.00\">c_2*I_3*E</text>\n",
       "</g>\n",
       "<!-- I_2 -->\n",
       "<g id=\"node4\" class=\"node\">\n",
       "<title>I_2</title>\n",
       "<ellipse fill=\"none\" stroke=\"black\" cx=\"1054\" cy=\"-75\" rx=\"27\" ry=\"18\"/>\n",
       "<text text-anchor=\"middle\" x=\"1054\" y=\"-71.3\" font-family=\"Times,serif\" font-size=\"14.00\">I_2</text>\n",
       "</g>\n",
       "<!-- I_1&#45;&gt;I_2 -->\n",
       "<g id=\"edge15\" class=\"edge\">\n",
       "<title>I_1&#45;&gt;I_2</title>\n",
       "<path fill=\"none\" stroke=\"black\" d=\"M772.12,-145.46C780.04,-135.03 791.62,-122.21 805,-115 873.27,-78.19 966.38,-73.22 1016.86,-73.61\"/>\n",
       "<polygon fill=\"black\" stroke=\"black\" points=\"1016.91,-77.12 1026.96,-73.77 1017.02,-70.12 1016.91,-77.12\"/>\n",
       "<text text-anchor=\"middle\" x=\"919\" y=\"-87.8\" font-family=\"Times,serif\" font-size=\"14.00\">p_1*I_1</text>\n",
       "</g>\n",
       "<!-- R -->\n",
       "<g id=\"node6\" class=\"node\">\n",
       "<title>R</title>\n",
       "<ellipse fill=\"none\" stroke=\"black\" cx=\"1326\" cy=\"-107\" rx=\"27\" ry=\"18\"/>\n",
       "<text text-anchor=\"middle\" x=\"1326\" y=\"-103.3\" font-family=\"Times,serif\" font-size=\"14.00\">R</text>\n",
       "</g>\n",
       "<!-- I_1&#45;&gt;R -->\n",
       "<g id=\"edge9\" class=\"edge\">\n",
       "<title>I_1&#45;&gt;R</title>\n",
       "<path fill=\"none\" stroke=\"black\" d=\"M784.35,-153.93C814.74,-144.16 869.68,-129 918,-129 918,-129 918,-129 1191,-129 1225.13,-129 1263.52,-121.96 1290.43,-115.85\"/>\n",
       "<polygon fill=\"black\" stroke=\"black\" points=\"1291.57,-119.18 1300.5,-113.48 1289.97,-112.36 1291.57,-119.18\"/>\n",
       "<text text-anchor=\"middle\" x=\"1054\" y=\"-132.8\" font-family=\"Times,serif\" font-size=\"14.00\">γ_1*I_1</text>\n",
       "</g>\n",
       "<!-- I_c -->\n",
       "<g id=\"node8\" class=\"node\">\n",
       "<title>I_c</title>\n",
       "<ellipse fill=\"none\" stroke=\"black\" cx=\"919\" cy=\"-192\" rx=\"27\" ry=\"18\"/>\n",
       "<text text-anchor=\"middle\" x=\"919\" y=\"-188.3\" font-family=\"Times,serif\" font-size=\"14.00\">I_c</text>\n",
       "</g>\n",
       "<!-- I_1&#45;&gt;I_c -->\n",
       "<g id=\"edge10\" class=\"edge\">\n",
       "<title>I_1&#45;&gt;I_c</title>\n",
       "<path fill=\"none\" stroke=\"black\" d=\"M783.54,-171.3C790.34,-173.8 797.89,-176.29 805,-178 830.22,-184.07 859.27,-187.59 881.61,-189.59\"/>\n",
       "<polygon fill=\"black\" stroke=\"black\" points=\"881.41,-193.08 891.67,-190.42 881.99,-186.11 881.41,-193.08\"/>\n",
       "<text text-anchor=\"middle\" x=\"839.5\" y=\"-191.8\" font-family=\"Times,serif\" font-size=\"14.00\">c_2*I_3*I_c</text>\n",
       "</g>\n",
       "<!-- I_3 -->\n",
       "<g id=\"node5\" class=\"node\">\n",
       "<title>I_3</title>\n",
       "<ellipse fill=\"none\" stroke=\"black\" cx=\"1190\" cy=\"-32\" rx=\"27\" ry=\"18\"/>\n",
       "<text text-anchor=\"middle\" x=\"1190\" y=\"-28.3\" font-family=\"Times,serif\" font-size=\"14.00\">I_3</text>\n",
       "</g>\n",
       "<!-- I_2&#45;&gt;I_3 -->\n",
       "<g id=\"edge17\" class=\"edge\">\n",
       "<title>I_2&#45;&gt;I_3</title>\n",
       "<path fill=\"none\" stroke=\"black\" d=\"M1077.19,-65.33C1084.11,-62.47 1091.82,-59.46 1099,-57 1117.04,-50.83 1137.5,-45.05 1154.35,-40.61\"/>\n",
       "<polygon fill=\"black\" stroke=\"black\" points=\"1155.51,-43.92 1164.32,-38.02 1153.76,-37.15 1155.51,-43.92\"/>\n",
       "<text text-anchor=\"middle\" x=\"1122\" y=\"-60.8\" font-family=\"Times,serif\" font-size=\"14.00\">p_2*I_2</text>\n",
       "</g>\n",
       "<!-- I_2&#45;&gt;R -->\n",
       "<g id=\"edge13\" class=\"edge\">\n",
       "<title>I_2&#45;&gt;R</title>\n",
       "<path fill=\"none\" stroke=\"black\" d=\"M1080.89,-78.07C1129.37,-83.81 1233.94,-96.21 1289.16,-102.75\"/>\n",
       "<polygon fill=\"black\" stroke=\"black\" points=\"1288.85,-106.24 1299.19,-103.94 1289.67,-99.29 1288.85,-106.24\"/>\n",
       "<text text-anchor=\"middle\" x=\"1190\" y=\"-97.8\" font-family=\"Times,serif\" font-size=\"14.00\">γ_2*I_2</text>\n",
       "</g>\n",
       "<!-- I_3&#45;&gt;R -->\n",
       "<g id=\"edge14\" class=\"edge\">\n",
       "<title>I_3&#45;&gt;R</title>\n",
       "<path fill=\"none\" stroke=\"black\" d=\"M1216.64,-35.11C1235.57,-38.32 1261.35,-44.68 1281,-57 1291.35,-63.49 1300.65,-73.14 1308.01,-82.24\"/>\n",
       "<polygon fill=\"black\" stroke=\"black\" points=\"1305.34,-84.51 1314.19,-90.33 1310.9,-80.26 1305.34,-84.51\"/>\n",
       "<text text-anchor=\"middle\" x=\"1258\" y=\"-60.8\" font-family=\"Times,serif\" font-size=\"14.00\">γ_3*I_3</text>\n",
       "</g>\n",
       "<!-- D -->\n",
       "<g id=\"node7\" class=\"node\">\n",
       "<title>D</title>\n",
       "<ellipse fill=\"none\" stroke=\"black\" cx=\"1326\" cy=\"-18\" rx=\"27\" ry=\"18\"/>\n",
       "<text text-anchor=\"middle\" x=\"1326\" y=\"-14.3\" font-family=\"Times,serif\" font-size=\"14.00\">D</text>\n",
       "</g>\n",
       "<!-- I_3&#45;&gt;D -->\n",
       "<g id=\"edge18\" class=\"edge\">\n",
       "<title>I_3&#45;&gt;D</title>\n",
       "<path fill=\"none\" stroke=\"black\" d=\"M1214.48,-23.76C1221.04,-21.82 1228.23,-20.02 1235,-19 1252.49,-16.37 1272.11,-15.87 1288.56,-16.13\"/>\n",
       "<polygon fill=\"black\" stroke=\"black\" points=\"1288.77,-19.64 1298.85,-16.4 1288.95,-12.64 1288.77,-19.64\"/>\n",
       "<text text-anchor=\"middle\" x=\"1258\" y=\"-22.8\" font-family=\"Times,serif\" font-size=\"14.00\">μ*I_3</text>\n",
       "</g>\n",
       "<!-- I_c&#45;&gt;I_1 -->\n",
       "<g id=\"edge12\" class=\"edge\">\n",
       "<title>I_c&#45;&gt;I_1</title>\n",
       "<path fill=\"none\" stroke=\"black\" d=\"M903.14,-177.02C895.22,-170.1 884.87,-162.62 874,-159 848.81,-150.6 818.69,-151.92 795.88,-155.03\"/>\n",
       "<polygon fill=\"black\" stroke=\"black\" points=\"795.31,-151.57 785.96,-156.55 796.38,-158.49 795.31,-151.57\"/>\n",
       "<text text-anchor=\"middle\" x=\"839.5\" y=\"-162.8\" font-family=\"Times,serif\" font-size=\"14.00\">c_1*I_c</text>\n",
       "</g>\n",
       "<!-- I_c&#45;&gt;I_2 -->\n",
       "<g id=\"edge16\" class=\"edge\">\n",
       "<title>I_c&#45;&gt;I_2</title>\n",
       "<path fill=\"none\" stroke=\"black\" d=\"M936.04,-177.89C959.21,-157.51 1002.2,-119.69 1029.1,-96.02\"/>\n",
       "<polygon fill=\"black\" stroke=\"black\" points=\"1031.7,-98.4 1036.9,-89.16 1027.08,-93.14 1031.7,-98.4\"/>\n",
       "<text text-anchor=\"middle\" x=\"986.5\" y=\"-153.8\" font-family=\"Times,serif\" font-size=\"14.00\">p_1*I_c</text>\n",
       "</g>\n",
       "<!-- I_c&#45;&gt;R -->\n",
       "<g id=\"edge11\" class=\"edge\">\n",
       "<title>I_c&#45;&gt;R</title>\n",
       "<path fill=\"none\" stroke=\"black\" d=\"M946.23,-193.2C1007.59,-195 1164.13,-193.84 1281,-143 1288.89,-139.57 1296.51,-134.3 1303.13,-128.84\"/>\n",
       "<polygon fill=\"black\" stroke=\"black\" points=\"1305.75,-131.2 1310.92,-121.95 1301.11,-125.95 1305.75,-131.2\"/>\n",
       "<text text-anchor=\"middle\" x=\"1122\" y=\"-189.8\" font-family=\"Times,serif\" font-size=\"14.00\">γ_1*I_c</text>\n",
       "</g>\n",
       "<!-- S_c&#45;&gt;S -->\n",
       "<g id=\"edge4\" class=\"edge\">\n",
       "<title>S_c&#45;&gt;S</title>\n",
       "<path fill=\"none\" stroke=\"black\" d=\"M346.89,-276.49C294.26,-276.96 171.91,-275.39 72,-254 68.09,-253.16 64.05,-252.06 60.09,-250.81\"/>\n",
       "<polygon fill=\"black\" stroke=\"black\" points=\"61.08,-247.45 50.49,-247.53 58.81,-254.08 61.08,-247.45\"/>\n",
       "<text text-anchor=\"middle\" x=\"200.5\" y=\"-279.8\" font-family=\"Times,serif\" font-size=\"14.00\">c_1*S_c</text>\n",
       "</g>\n",
       "<!-- S_c&#45;&gt;E_c -->\n",
       "<g id=\"edge2\" class=\"edge\">\n",
       "<title>S_c&#45;&gt;E_c</title>\n",
       "<path fill=\"none\" stroke=\"black\" d=\"M401.36,-276.82C458.96,-278.05 600.08,-278.1 715,-254 718.92,-253.18 722.95,-252.08 726.92,-250.85\"/>\n",
       "<polygon fill=\"black\" stroke=\"black\" points=\"728.19,-254.11 736.52,-247.56 725.93,-247.49 728.19,-254.11\"/>\n",
       "<text text-anchor=\"middle\" x=\"567\" y=\"-280.8\" font-family=\"Times,serif\" font-size=\"14.00\">c_0*(β_1*I_1+β_2*I_2+β_3*I_3+c_0*β_1*I_c)*S_c</text>\n",
       "</g>\n",
       "<!-- E_c&#45;&gt;E -->\n",
       "<g id=\"edge8\" class=\"edge\">\n",
       "<title>E_c&#45;&gt;E</title>\n",
       "<path fill=\"none\" stroke=\"black\" d=\"M732.94,-236.21C727.04,-235.8 720.81,-235.38 715,-235 583.46,-226.29 548.03,-243.02 419,-216 415.08,-215.18 411.05,-214.08 407.08,-212.85\"/>\n",
       "<polygon fill=\"black\" stroke=\"black\" points=\"408.07,-209.49 397.48,-209.57 405.81,-216.11 408.07,-209.49\"/>\n",
       "<text text-anchor=\"middle\" x=\"567\" y=\"-238.8\" font-family=\"Times,serif\" font-size=\"14.00\">c_1*E_c</text>\n",
       "</g>\n",
       "<!-- E_c&#45;&gt;I_c -->\n",
       "<g id=\"edge7\" class=\"edge\">\n",
       "<title>E_c&#45;&gt;I_c</title>\n",
       "<path fill=\"none\" stroke=\"black\" d=\"M785.37,-231.77C808.34,-225.79 843.67,-216.32 874,-207 877.61,-205.89 881.36,-204.69 885.09,-203.46\"/>\n",
       "<polygon fill=\"black\" stroke=\"black\" points=\"886.43,-206.71 894.79,-200.21 884.2,-200.07 886.43,-206.71\"/>\n",
       "<text text-anchor=\"middle\" x=\"839.5\" y=\"-229.8\" font-family=\"Times,serif\" font-size=\"14.00\">α*E_c</text>\n",
       "</g>\n",
       "</g>\n",
       "</svg>\n"
      ],
      "text/plain": [
       "<graphviz.dot.Digraph at 0x1280ddd90>"
      ]
     },
     "execution_count": 33,
     "metadata": {},
     "output_type": "execute_result"
    }
   ],
   "source": [
    "# display graphical representation of the model\n",
    "SC3EI3R_model.get_transition_graph()"
   ]
  },
  {
   "cell_type": "code",
   "execution_count": 34,
   "metadata": {},
   "outputs": [],
   "source": [
    "# set up the symbolic model directly as ODEs to allow confirmed cases as state for fitting\n",
    "\n",
    "state = ['S', 'E', 'I_1', 'I_2','I_3', 'R', 'D', 'I_c', 'S_c', 'E_c', 'C_f']\n",
    "param_list = ['beta_1', 'beta_2','beta_3','alpha', 'gamma_1', 'gamma_2', 'gamma_3',\n",
    "              'p_1','p_2','mu','c_0','c_1','c_2','N']\n",
    "\n",
    "transition = [\n",
    "    Transition('S', '-(beta_1*(I_1+c_0*I_c)+beta_2*I_2+beta_3*I_3)*S - c_2*I_3*S + c_1*S_c','ODE'),\n",
    "    Transition('S_c', '-c_0*(beta_1*(I_1+c_0*I_c)+beta_2*I_2+beta_3*I_3)*S_c+c_2*I_3*S-c_1*S_c','ODE'),\n",
    "    Transition('E', '(beta_1*(I_1+c_0*I_c)+beta_2*I_2+beta_3*I_3)*S-alpha*E-c_2*I_3*E+c_1*E_c','ODE'),\n",
    "    Transition('E_c', 'c_0*(beta_1*(I_1+c_0*I_c)+beta_2*I_2+beta_3*I_3)*S_c-alpha*E_c+c_2*I_3*E-c_1*E_c','ODE'),\n",
    "    Transition('I_1', 'alpha*E-gamma_1*I_1-p_1*I_1-c_2*I_3*I_1+c_1*I_c','ODE'),\n",
    "    Transition('I_c', 'alpha*E_c-gamma_1*I_c-p_1*I_c+c_2*I_3*I_1-c_1*I_c','ODE'),\n",
    "    Transition('I_2', 'p_1*(I_1+I_c)-gamma_2*I_2-p_2*I_2','ODE'),\n",
    "    Transition('I_3', 'p_2*I_2-gamma_3*I_3-mu*I_3','ODE'),\n",
    "    Transition('R',  'gamma_1*(I_1+I_c)+gamma_2*I_2+gamma_3*I_3','ODE'),\n",
    "    Transition('D',  'mu*I_3','ODE'),\n",
    "    Transition('C_f', 'alpha*(E+E_c)','ODE')\n",
    "    ]\n",
    "\n",
    "SC3EI3R_model = DeterministicOde(state, param_list, ode=transition)\n",
    "SC3EI3R_model.modelname='SC3EI3R'\n",
    "SC3EI3R_model.ei=slice(1,5) # 1,2,3,4 i.e. E,I_1,I_2,I_3 – not E_c and I_c \n",
    "SC3EI3R_model.confirmed=slice(10,11)\n",
    "SC3EI3R_model.recovered=slice(5,6)\n",
    "SC3EI3R_model.deaths=slice(6,7)"
   ]
  },
  {
   "cell_type": "code",
   "execution_count": 35,
   "metadata": {},
   "outputs": [
    {
     "data": {
      "text/latex": [
       "$\\displaystyle \\left[\\begin{matrix}d{S}/dt= & - I_{3} S c_{2} + S \\left(- I_{2} \\beta_{2} - I_{3} \\beta_{3} - \\beta_{1} \\left(I_{1} + I_{c} c_{0}\\right)\\right) + S_{c} c_{1}\\\\d{E}/dt= & - E I_{3} c_{2} - E \\alpha + E_{c} c_{1} + S \\left(I_{2} \\beta_{2} + I_{3} \\beta_{3} + \\beta_{1} \\left(I_{1} + I_{c} c_{0}\\right)\\right)\\\\d{I_1}/dt= & E \\alpha - I_{1} I_{3} c_{2} - I_{1} \\gamma_{1} - I_{1} p_{1} + I_{c} c_{1}\\\\d{I_2}/dt= & - I_{2} \\gamma_{2} - I_{2} p_{2} + p_{1} \\left(I_{1} + I_{c}\\right)\\\\d{I_3}/dt= & I_{2} p_{2} - I_{3} \\gamma_{3} - I_{3} \\mu\\\\d{R}/dt= & I_{2} \\gamma_{2} + I_{3} \\gamma_{3} + \\gamma_{1} \\left(I_{1} + I_{c}\\right)\\\\d{D}/dt= & I_{3} \\mu\\\\d{I_c}/dt= & E_{c} \\alpha + I_{1} I_{3} c_{2} - I_{c} c_{1} - I_{c} \\gamma_{1} - I_{c} p_{1}\\\\d{S_c}/dt= & I_{3} S c_{2} - S_{c} c_{0} \\left(I_{2} \\beta_{2} + I_{3} \\beta_{3} + \\beta_{1} \\left(I_{1} + I_{c} c_{0}\\right)\\right) - S_{c} c_{1}\\\\d{E_c}/dt= & E I_{3} c_{2} - E_{c} \\alpha - E_{c} c_{1} + S_{c} c_{0} \\left(I_{2} \\beta_{2} + I_{3} \\beta_{3} + \\beta_{1} \\left(I_{1} + I_{c} c_{0}\\right)\\right)\\\\d{C_f}/dt= & \\alpha \\left(E + E_{c}\\right)\\end{matrix}\\right]$"
      ],
      "text/plain": [
       "Matrix([\n",
       "[  d{S}/dt=,                 -I_3*S*c_2 + S*(-I_2*beta_2 - I_3*beta_3 - beta_1*(I_1 + I_c*c_0)) + S_c*c_1],\n",
       "[  d{E}/dt=,        -E*I_3*c_2 - E*alpha + E_c*c_1 + S*(I_2*beta_2 + I_3*beta_3 + beta_1*(I_1 + I_c*c_0))],\n",
       "[d{I_1}/dt=,                                      E*alpha - I_1*I_3*c_2 - I_1*gamma_1 - I_1*p_1 + I_c*c_1],\n",
       "[d{I_2}/dt=,                                                     -I_2*gamma_2 - I_2*p_2 + p_1*(I_1 + I_c)],\n",
       "[d{I_3}/dt=,                                                               I_2*p_2 - I_3*gamma_3 - I_3*mu],\n",
       "[  d{R}/dt=,                                              I_2*gamma_2 + I_3*gamma_3 + gamma_1*(I_1 + I_c)],\n",
       "[  d{D}/dt=,                                                                                       I_3*mu],\n",
       "[d{I_c}/dt=,                                    E_c*alpha + I_1*I_3*c_2 - I_c*c_1 - I_c*gamma_1 - I_c*p_1],\n",
       "[d{S_c}/dt=,             I_3*S*c_2 - S_c*c_0*(I_2*beta_2 + I_3*beta_3 + beta_1*(I_1 + I_c*c_0)) - S_c*c_1],\n",
       "[d{E_c}/dt=, E*I_3*c_2 - E_c*alpha - E_c*c_1 + S_c*c_0*(I_2*beta_2 + I_3*beta_3 + beta_1*(I_1 + I_c*c_0))],\n",
       "[d{C_f}/dt=,                                                                              alpha*(E + E_c)]])"
      ]
     },
     "execution_count": 35,
     "metadata": {},
     "output_type": "execute_result"
    }
   ],
   "source": [
    "# display equations\n",
    "print_ode2(SC3EI3R_model)"
   ]
  },
  {
   "cell_type": "markdown",
   "metadata": {},
   "source": [
    "## Caution Extensions to SEIR Model with Economic Supression"
   ]
  },
  {
   "cell_type": "markdown",
   "metadata": {},
   "source": [
    "### SC3UEIR model"
   ]
  },
  {
   "cell_type": "markdown",
   "metadata": {},
   "source": [
    "#### Equations\n",
    "\n",
    "\\begin{equation}\n",
    "\\begin{split}\n",
    "\\dot{S} &= -\\beta (I + c_0 I_c) S + c_1 S_c - c_2 S (I + I_c)\\\\\n",
    "\\dot{S_c} &= - c_0 \\beta (I + c_0 I_c) S_c - c_1 S_c + c_2 S (I + I_c) -  k_u (1 - W) S_c + k_1 S_u\\\\\n",
    "\\dot{E} &= \\beta (I + c_0 I_c) (S + S_u) - \\alpha E\\\\\n",
    "\\dot{E_c} &= c_0 \\beta (I + c_0 I_c) S_c - \\alpha E_c\\\\\n",
    "\\dot{I} &= \\alpha E - \\gamma I - \\mu I\\\\\n",
    "\\dot{I_c} &= \\alpha E_c - \\gamma I_c - \\mu I_c\\\\\n",
    "\\dot{R} & = \\gamma (I + I_c) \\\\\n",
    "\\dot{D} & = \\mu (I + I_c) \\\\\n",
    "\\dot{S_u} & = -\\beta (I + c_0 I_c) S_u + k_u (1 - W) S_c  - k_1 S_u \\\\\n",
    "\\dot{W} & = k_w W (1 - \\kappa S_c - W)\n",
    "\\end{split}\n",
    "\\end{equation}\n",
    "\n",
    "\n",
    "\n",
    "#### Variables\n",
    "* $S$: Susceptible individuals living as normal\n",
    "* $S_c$: Susceptible individuals exercising pandemy precautions\n",
    "* $S_u$: Susceptible individuals immune to caution because of economic downturn\n",
    "* $E$: Exposed individuals\n",
    "* $E_c$: Exposed individuals exercising caution\n",
    "* $I$: Infected individuals\n",
    "* $I_c$: Infected individuals exercising caution\n",
    "* $R$: individuals who have recovered from disease and are now immune\n",
    "* $D$: Dead individuals\n",
    "* $W$: Economic status obeying a logistic law with caution individuals downturning\n",
    "* $N=S+S_c+S_u+E+E_c+I+I_c+R+D$ Total population size (constant)\n",
    "\n",
    "#### Parameters\n",
    "* $\\beta$ rate at which infected individuals contact susceptibles and infect them\n",
    "* $\\alpha$ rate at which exposed individuals become infected (1/(incubation time)\n",
    "* $\\gamma$ rate at which infected individuals recover from disease and become immune\n",
    "* $\\mu$ death rate for infected individuals\n",
    "\n",
    "* $c_i$ three parameters characterizing cautionary response of population via class $S_c$\n",
    "\n",
    "    - c_0 : reduction factor for exposure for cautioned susceptibles\n",
    "\n",
    "    - c_1 : inverse duration of caution (exponential decay time constant in days)\n",
    "\n",
    "    - c_2 : rate constant for transition from uncautioned to cautioned susceptible\n",
    "* four parameters coupling to economy and uncautionable individuals\n",
    "    - k_w : rate coefficient of economy equilibration\n",
    "    - k_u : rate coefficient of transition from uncautioned to uncautionable\n",
    "    - k_1 : inverse duration of uncautionable state\n",
    "    - $\\kappa$ : economic downturn of caution (proportional to number cautious)"
   ]
  },
  {
   "cell_type": "markdown",
   "metadata": {
    "slideshow": {
     "slide_type": "slide"
    }
   },
   "source": [
    "####  Implementation"
   ]
  },
  {
   "cell_type": "code",
   "execution_count": 36,
   "metadata": {},
   "outputs": [],
   "source": [
    "# set up the symbolic model\n",
    "\n",
    "state = ['S', 'E', 'I', 'R', 'D', 'I_c', 'S_c', 'E_c', 'S_u', 'W']\n",
    "param_list = ['beta', 'alpha', 'gamma', 'mu', 'c_0', 'c_1', 'c_2', 'k_u', 'k_1', 'k_w','kappa', 'N']\n",
    "\n",
    "transition = [\n",
    "    Transition(origin='S', equation='-beta*(I+c_0*I_c)*S+c_1*S_c-c_2*(I+I_c)*S-k_u*(1-W)*S+k_1*S_u'),\n",
    "    Transition(origin='S_c', equation='-c_0*beta*(I+c_0*I_c)*S_c-c_1*S_c+c_2*(I+I_c)*S-k_u*(1-W)*S_c'),\n",
    "    Transition(origin='S_u', equation='-beta*(I+c_0*I_c)*S_u+k_u*(1-W)*(S+S_c)-k_1*S_u'),\n",
    "    Transition(origin='E', equation='beta*(I+c_0*I_c)*(S+S_u)-alpha*E'),\n",
    "    Transition(origin='E_c', equation='c_0*beta*(I+c_0*I_c)*S_c-alpha*E_c'),\n",
    "    Transition(origin='I', equation='alpha*E-gamma*I-mu*I'),\n",
    "    Transition(origin='I_c', equation='alpha*E_c-gamma*I_c-mu*I_c'),\n",
    "    Transition(origin='R', equation='gamma*(I+I_c)'),\n",
    "    Transition(origin='D', equation='mu*(I+I_c)'),\n",
    "    Transition(origin='W', equation='k_w*W*(1-kappa*S_c-W)')\n",
    "    ]\n",
    "\n",
    "SC3UEIR_model = DeterministicOde(state, param_list, ode=transition)\n",
    "SC3UEIR_model.modelname='SC3UEIR'\n",
    "SC3UEIR_model.ei=slice(1,3) # cases 1,2 i.e. E,I  # note E_c and I_c not included\n",
    "SC3UEIR_model.confirmed=slice(2,6)  # cases 2-5 i.e. I, R, D, and I_c, not E, E_c\n",
    "SC3UEIR_model.recovered=slice(3,4)\n",
    "SC3UEIR_model.deaths=slice(4,5)"
   ]
  },
  {
   "cell_type": "code",
   "execution_count": 37,
   "metadata": {},
   "outputs": [
    {
     "data": {
      "text/latex": [
       "$\\displaystyle \\left[\\begin{matrix}d{S}/dt= & - S \\beta \\left(I + I_{c} c_{0}\\right) - S c_{2} \\left(I + I_{c}\\right) - S k_{u} \\left(1 - W\\right) + S_{c} c_{1} + S_{u} k_{1}\\\\d{E}/dt= & - E \\alpha + \\beta \\left(I + I_{c} c_{0}\\right) \\left(S + S_{u}\\right)\\\\d{I}/dt= & E \\alpha - I \\gamma - I \\mu\\\\d{R}/dt= & \\gamma \\left(I + I_{c}\\right)\\\\d{D}/dt= & \\mu \\left(I + I_{c}\\right)\\\\d{I_c}/dt= & E_{c} \\alpha - I_{c} \\gamma - I_{c} \\mu\\\\d{S_c}/dt= & S c_{2} \\left(I + I_{c}\\right) - S_{c} \\beta c_{0} \\left(I + I_{c} c_{0}\\right) - S_{c} c_{1} - S_{c} k_{u} \\left(1 - W\\right)\\\\d{E_c}/dt= & - E_{c} \\alpha + S_{c} \\beta c_{0} \\left(I + I_{c} c_{0}\\right)\\\\d{S_u}/dt= & - S_{u} \\beta \\left(I + I_{c} c_{0}\\right) - S_{u} k_{1} + k_{u} \\left(1 - W\\right) \\left(S + S_{c}\\right)\\\\d{W}/dt= & W k_{w} \\left(- S_{c} \\kappa - W + 1\\right)\\end{matrix}\\right]$"
      ],
      "text/plain": [
       "Matrix([\n",
       "[  d{S}/dt=, -S*beta*(I + I_c*c_0) - S*c_2*(I + I_c) - S*k_u*(1 - W) + S_c*c_1 + S_u*k_1],\n",
       "[  d{E}/dt=,                                     -E*alpha + beta*(I + I_c*c_0)*(S + S_u)],\n",
       "[  d{I}/dt=,                                                    E*alpha - I*gamma - I*mu],\n",
       "[  d{R}/dt=,                                                             gamma*(I + I_c)],\n",
       "[  d{D}/dt=,                                                                mu*(I + I_c)],\n",
       "[d{I_c}/dt=,                                              E_c*alpha - I_c*gamma - I_c*mu],\n",
       "[d{S_c}/dt=,    S*c_2*(I + I_c) - S_c*beta*c_0*(I + I_c*c_0) - S_c*c_1 - S_c*k_u*(1 - W)],\n",
       "[d{E_c}/dt=,                                     -E_c*alpha + S_c*beta*c_0*(I + I_c*c_0)],\n",
       "[d{S_u}/dt=,                   -S_u*beta*(I + I_c*c_0) - S_u*k_1 + k_u*(1 - W)*(S + S_c)],\n",
       "[  d{W}/dt=,                                                  W*k_w*(-S_c*kappa - W + 1)]])"
      ]
     },
     "execution_count": 37,
     "metadata": {},
     "output_type": "execute_result"
    }
   ],
   "source": [
    "# display equations\n",
    "print_ode2(SC3UEIR_model)"
   ]
  },
  {
   "cell_type": "markdown",
   "metadata": {},
   "source": [
    "### SC3UEI3R model\n",
    "This model is an extension of the cautionary model to include a class of susceptibles $S_u$ who are impervious to caution. \n",
    "The main influencer for this class is the economy, which we introduce as a new state variable W, normalized to 1 in the absence of pandemic.\n",
    "The model assumption is that fractional depression of the economy influences some susceptibles (both cautioned and uncautioned) to become uncautionable,\n",
    "with a rate coefficient proportional to the economic depression (1-W). The economy itself is mdoelled with logistic growth to a state 1 in the absence of pandemic\n",
    "and 1- $\\kappa S_c$ with pandemic. i.e. individuals exercising caution are the main correlate of economic depression (but the only suppressor for the pandemic).\n",
    "As for the cautioned class, uncautionable individuals also return to normal sussceptibles with exponential decay at rate $k_1$."
   ]
  },
  {
   "cell_type": "markdown",
   "metadata": {},
   "source": [
    "#### Equations\n",
    "\n",
    "\\begin{equation}\n",
    "\\begin{split}\n",
    "\\dot{S} &={} -(\\beta_1 (I_1 + c_0 I_c) + \\beta_2 I_2 + \\beta_3 I_3) S + c_1 S_c - c_2 S I_3 - S k_u (1-W) + k_1 S_u\\\\\n",
    "\\dot{S_c} &={} - c_0 (\\beta_1 (I_1 + c_0 I_c) + \\beta_2 I_2 + \\beta_3 I_3) S_c - c_1 S_c + c_2 S I_3 - k_u (1 - W) S_c \\\\\n",
    "\\dot{S_u} & = -(\\beta_1 (I_1 + c_0 I_c)+\\beta_2 I_2 + \\beta_3 I_3) S_u + k_u (1 - W)(S+ S_c)  - k_1 S_u \\\\\n",
    "\\dot{W} & = k_w W (1 - \\kappa S_c - W)\\\\\n",
    "\\dot{E} &= \\beta_1 (I_1 + c_0 I_c) (S + S_u) - \\alpha E + c_1 E_c - c_2 I_3 E\\\\\n",
    "\\dot{E_c} &= c_0 \\beta_1 (I_1 + c_0 I_c) S_c - \\alpha E_c - c_1 E_c + c_2 I_3 E\\\\\n",
    "\\dot{I_1} &= \\alpha E - \\gamma_1 I_1 - p_1 I_1 + c_1 I_c - c_2 I_3 I_1\\\\\n",
    "\\dot{I_c} &= \\alpha E_c - \\gamma_1 I_c - p_1 I_c - c_1 I_c + c_2 I_3 I_1\\\\\n",
    "\\dot{I_2} &= p_1 (I_1 + I_c) -\\gamma_2 I_2 - p_2 I_2 \\\\\n",
    "\\dot{I_3} & = p_2 I_2 -\\gamma_3 I_3 - \\mu I_3 \\\\ \n",
    "\\dot{R} & = \\gamma_1 (I_1 + I_c) +\\gamma_2 I_2 + \\gamma_3 I_3\\\\\n",
    "\\dot{D} & = \\mu (I_3) \\\\\n",
    "\\end{split}\n",
    "\\end{equation}\n",
    "\n",
    "#### Variables\n",
    "* $S$: Susceptible individuals living as normal\n",
    "* $S_c$: Susceptible individuals exercising pandemy precautions\n",
    "* $S_u$: Susceptible individuals immune to caution because of economic downturn\n",
    "* $W$: Economic status obeying a logistic law with caution individuals downturning\n",
    "* $E$: Exposed individuals\n",
    "* $E_c$: Exposed individuals exercising caution\n",
    "* $I_i$: Infected individuals in severity class $i$. Severity increaes with $i$ and we assume individuals must pass through all previous classes. Split non hospital cases by caution.\n",
    "  * $I_1$: Mild infection (hospitalization not required), living as normal\n",
    "  * $I_c$: Mild infection (hospitalization not required), exercising caution\n",
    "  * $I_2$: Severe infection (hospitalization required)\n",
    "  * $I_3$: Critical infection (ICU required)\n",
    "* $R$: individuals who have recovered from disease and are now immune\n",
    "* $D$: Dead individuals\n",
    "* $N=S+S_c+S_u+E+E_c+I_1+I_c+I_2+I_3+R+D$ Total population size (constant)\n",
    "\n",
    "#### Parameters\n",
    "* $\\beta$ rate at which infected individuals contact susceptibles and infect them\n",
    "* $\\alpha$ rate at which exposed individuals become infected (1/(incubation time)\n",
    "* $\\gamma$ rate at which infected individuals recover from disease and become immune\n",
    "* $\\mu$ death rate for infected individuals\n",
    "* $\\gamma_i$ rate at which infected individuals in class $I_i$ recover from disease and become immune\n",
    "* $p_i$ rate at which infected individuals in class $I_i$ progress to class $I_{I+1}$\n",
    "* $c_i$ three parameters characterizing cautionary response of population via class $S_c$\n",
    "\n",
    "    - $c_0$ : reduction factor for exposure for cautioned susceptibles\n",
    "\n",
    "    - $c_1$ : inverse duration of caution (exponential decay time constant in days)\n",
    "\n",
    "    - $c_2$ : rate constant for transition from uncautioned to cautioned susceptible\n",
    "* four parameters coupling to economy and uncautionable individuals\n",
    "    - $k_w$ : rate coefficient of economy equilibration\n",
    "    - $k_u$ : rate coefficient of transition from uncautioned to uncautionable\n",
    "    - $k_1$ : inverse duration of uncautionable state\n",
    "    - $\\kappa$ : economic downturn of caution (proportional to number cautious)"
   ]
  },
  {
   "cell_type": "markdown",
   "metadata": {
    "slideshow": {
     "slide_type": "slide"
    }
   },
   "source": [
    "####  Implementation"
   ]
  },
  {
   "cell_type": "code",
   "execution_count": 51,
   "metadata": {},
   "outputs": [],
   "source": [
    "# set up the symbolic model\n",
    "\n",
    "state = ['S', 'E', 'I_1', 'I_2', 'I_3', 'R', 'D',  'I_c', 'S_c', 'E_c', 'S_u', 'W'] # order important to allow correct plot groupings\n",
    "param_list = ['beta_1', 'beta_2', 'beta_3', 'p_1', 'p_2', 'alpha', \n",
    "              'gamma_1', 'gamma_2', 'gamma_3','mu', 'c_0', 'c_1', 'c_2', 'k_u', 'k_1', 'k_w', 'kappa', 'N'] # order also important\n",
    "\n",
    "transition = [\n",
    "    Transition(origin='S', equation='-(beta_1*(I_1+c_0*I_c)+beta_2*I_2+beta_3*I_3)*S+c_1*S_c-c_2*(I_3)*S-k_u*(1-W)*S+k_1*S_u'),\n",
    "    Transition(origin='S_c', equation='-c_0*(beta_1*(I_1+c_0*I_c)+beta_2*I_2+beta_3*I_3)*S_c-c_1*S_c+c_2*(I_3)*S-k_u*(1-W)*S_c'),\n",
    "    Transition(origin='S_u', equation='-(beta_1*(I_1+c_0*I_c)+beta_2*I_2+beta_3*I_3)*S_u+k_u*(1-W)*(S+S_c)-k_1*S_u'),\n",
    "    Transition(origin='W', equation='k_w*W*(1-kappa*S_c-W)'),\n",
    "    Transition(origin='E', equation='beta_1*(I_1+c_0*I_c)*(S+S_u)-alpha*E-c_2*(I_3)*E+c_1*E_c'),\n",
    "    Transition(origin='E_c', equation='c_0*beta_1*(I_1+c_0*I_c)*S_c-alpha*E_c+c_2*(I_3)*E-c_1*E_c'),\n",
    "    Transition(origin='I_1', equation='alpha*E-gamma_1*I_1-p_1*I_1-c_2*(I_3)*I_1+c_1*I_c'),\n",
    "    Transition(origin='I_c', equation='alpha*E_c-gamma_1*I_c-p_1*I_c+c_2*(I_3)*I_1-c_1*I_c'), # changed to I_c, prints better\n",
    "    Transition(origin='I_2', equation='p_1*(I_1+I_c)-gamma_2*I_2-p_2*I_2'),\n",
    "    Transition(origin='I_3', equation='p_2*I_2-gamma_3*I_3-mu*I_3'),     # error corrected, this is equation for I_3 not I_2\n",
    "    Transition(origin='R', equation='gamma_1*(I_1+I_c)+gamma_2*I_2+gamma_3*I_3'),\n",
    "    Transition(origin='D', equation='mu*I_3')\n",
    "    ]\n",
    "\n",
    "SC3UEI3R_model = DeterministicOde(state, param_list, ode=transition)\n",
    "SC3UEI3R_model.modelname='SC3UEI3R'  # following needs to be adjusted for new models, NB add new species at end to preserve slice subsets\n",
    "SC3UEI3R_model.ei=slice(1,5)         # 1,2,3,4 i.e. E,I_1,I_2,I_3 – not E_c and I_c \n",
    "SC3UEI3R_model.confirmed=slice(2,8)  # cases 2-7 i.e. I1, I2, I3, R, D and I_c\n",
    "SC3UEI3R_model.recovered=slice(5,6)  # case 5 R\n",
    "SC3UEI3R_model.deaths=slice(6,7)     # case 6 D"
   ]
  },
  {
   "cell_type": "code",
   "execution_count": 52,
   "metadata": {
    "scrolled": false
   },
   "outputs": [
    {
     "data": {
      "text/latex": [
       "$\\displaystyle \\left[\\begin{matrix}d{S}/dt= & - I_{3} S c_{2} - S k_{u} \\left(1 - W\\right) + S \\left(- I_{2} \\beta_{2} - I_{3} \\beta_{3} - \\beta_{1} \\left(I_{1} + I_{c} c_{0}\\right)\\right) + S_{c} c_{1}\\\\d{E}/dt= & - E I_{3} c_{2} - E \\alpha + E_{c} c_{1} + \\beta_{1} \\left(I_{1} + I_{c} c_{0}\\right) \\left(S + S_{u}\\right)\\\\d{I_1}/dt= & E \\alpha - I_{1} I_{3} c_{2} - I_{1} \\gamma_{1} - I_{1} p_{1} + I_{c} c_{1}\\\\d{I_2}/dt= & - I_{2} \\gamma_{2} - I_{2} p_{2} + p_{1} \\left(I_{1} + I_{c}\\right)\\\\d{I_3}/dt= & I_{2} p_{2} - I_{3} \\gamma_{3} - I_{3} \\mu\\\\d{R}/dt= & I_{2} \\gamma_{2} + I_{3} \\gamma_{3} + \\gamma_{1} \\left(I_{1} + I_{c}\\right)\\\\d{D}/dt= & I_{3} \\mu\\\\d{I_c}/dt= & E_{c} \\alpha + I_{1} I_{3} c_{2} - I_{c} c_{1} - I_{c} \\gamma_{1} - I_{c} p_{1}\\\\d{S_c}/dt= & I_{3} S c_{2} - S_{c} c_{0} \\left(I_{2} \\beta_{2} + I_{3} \\beta_{3} + \\beta_{1} \\left(I_{1} + I_{c} c_{0}\\right)\\right) - S_{c} c_{1} - S_{c} k_{u} \\left(1 - W\\right) + S_{u} k_{1}\\\\d{E_c}/dt= & E I_{3} c_{2} - E_{c} \\alpha - E_{c} c_{1} + S_{c} \\beta_{1} c_{0} \\left(I_{1} + I_{c} c_{0}\\right)\\\\d{S_u}/dt= & - S_{u} k_{1} + S_{u} \\left(- I_{2} \\beta_{2} - I_{3} \\beta_{3} - \\beta_{1} \\left(I_{1} + I_{c} c_{0}\\right)\\right) + k_{u} \\left(1 - W\\right) \\left(S + S_{c}\\right)\\\\d{W}/dt= & W k_{w} \\left(- S_{c} \\kappa - W + 1\\right)\\end{matrix}\\right]$"
      ],
      "text/plain": [
       "Matrix([\n",
       "[  d{S}/dt=,                 -I_3*S*c_2 - S*k_u*(1 - W) + S*(-I_2*beta_2 - I_3*beta_3 - beta_1*(I_1 + I_c*c_0)) + S_c*c_1],\n",
       "[  d{E}/dt=,                                            -E*I_3*c_2 - E*alpha + E_c*c_1 + beta_1*(I_1 + I_c*c_0)*(S + S_u)],\n",
       "[d{I_1}/dt=,                                                      E*alpha - I_1*I_3*c_2 - I_1*gamma_1 - I_1*p_1 + I_c*c_1],\n",
       "[d{I_2}/dt=,                                                                     -I_2*gamma_2 - I_2*p_2 + p_1*(I_1 + I_c)],\n",
       "[d{I_3}/dt=,                                                                               I_2*p_2 - I_3*gamma_3 - I_3*mu],\n",
       "[  d{R}/dt=,                                                              I_2*gamma_2 + I_3*gamma_3 + gamma_1*(I_1 + I_c)],\n",
       "[  d{D}/dt=,                                                                                                       I_3*mu],\n",
       "[d{I_c}/dt=,                                                    E_c*alpha + I_1*I_3*c_2 - I_c*c_1 - I_c*gamma_1 - I_c*p_1],\n",
       "[d{S_c}/dt=, I_3*S*c_2 - S_c*c_0*(I_2*beta_2 + I_3*beta_3 + beta_1*(I_1 + I_c*c_0)) - S_c*c_1 - S_c*k_u*(1 - W) + S_u*k_1],\n",
       "[d{E_c}/dt=,                                             E*I_3*c_2 - E_c*alpha - E_c*c_1 + S_c*beta_1*c_0*(I_1 + I_c*c_0)],\n",
       "[d{S_u}/dt=,                   -S_u*k_1 + S_u*(-I_2*beta_2 - I_3*beta_3 - beta_1*(I_1 + I_c*c_0)) + k_u*(1 - W)*(S + S_c)],\n",
       "[  d{W}/dt=,                                                                                   W*k_w*(-S_c*kappa - W + 1)]])"
      ]
     },
     "execution_count": 52,
     "metadata": {},
     "output_type": "execute_result"
    }
   ],
   "source": [
    "# display equations\n",
    "print_ode2(SC3UEI3R_model) # name needs to be that of current model"
   ]
  },
  {
   "cell_type": "markdown",
   "metadata": {},
   "source": [
    "# Extract data from Johns Hopkins data base"
   ]
  },
  {
   "cell_type": "markdown",
   "metadata": {},
   "source": [
    "## Definition of data extraction fuctions get_data and get_country_data"
   ]
  },
  {
   "cell_type": "code",
   "execution_count": 40,
   "metadata": {},
   "outputs": [
    {
     "data": {
      "text/html": [
       "<style>.container { width:100% !important; }</style>"
      ],
      "text/plain": [
       "<IPython.core.display.HTML object>"
      ]
     },
     "metadata": {},
     "output_type": "display_data"
    }
   ],
   "source": [
    "import numpy as np\n",
    "import csv\n",
    "import itertools\n",
    "import matplotlib\n",
    "%matplotlib inline\n",
    "import seaborn as sb\n",
    "from matplotlib import pyplot as plt\n",
    "from cycler import cycler\n",
    "import datetime\n",
    "import matplotlib.dates as mdates\n",
    "from pandas.plotting import register_matplotlib_converters\n",
    "register_matplotlib_converters()\n",
    "import pwlf\n",
    "import sys\n",
    "from IPython.core.display import display, HTML\n",
    "display(HTML(\"<style>.container { width:100% !important; }</style>\"))"
   ]
  },
  {
   "cell_type": "code",
   "execution_count": 41,
   "metadata": {},
   "outputs": [],
   "source": [
    "def get_data(jhu_file):\n",
    "    dat = []\n",
    "    with open(jhu_file, newline='') as csvfile:\n",
    "        myreader = csv.reader(csvfile, delimiter=',')\n",
    "        popdat = []\n",
    "        i = 0\n",
    "        for row in myreader:\n",
    "            if i != 0:\n",
    "                poplist = []\n",
    "                j = 0\n",
    "                for elt in row:\n",
    "                    if j >= 4:\n",
    "                        poplist.append(int(elt))\n",
    "                    elif j == 0:\n",
    "                        poplist.append(elt)\n",
    "                    elif j == 1:\n",
    "                        poplist[0]=(elt,poplist[0])\n",
    "                    j = j+1\n",
    "                popdat.append(poplist)\n",
    "            else:\n",
    "                popdat.append(row)\n",
    "            # print(popdat[i])\n",
    "            i = i + 1;\n",
    "    # dates\n",
    "    popdat0=['dates']\n",
    "    for elt in popdat[0][4:]:\n",
    "        popdat0.append(elt)\n",
    "    popdat[0] = [pop for pop in popdat0]\n",
    "    # print('popdat[0]',popdat[0])\n",
    "    # totals over all countries\n",
    "    totals = np.zeros(len(popdat[0])-1,dtype=int)\n",
    "    for row in popdat[1:]:\n",
    "        totals = totals + np.array(row[1:])\n",
    "    totals = list(np.asarray(totals))\n",
    "    # print(totals)\n",
    "    popkeyed = {poplist[0]: poplist[1:] for poplist in popdat}\n",
    "    popkeyed.update({'dates':popdat[0][1:]})\n",
    "    popkeyed.update({('World',''):totals})\n",
    "    # del popkeyed[('d','a')]\n",
    "    # assemble totals for countries with multiple regions\n",
    "    total = np.zeros(len(popkeyed['dates']),dtype=int)\n",
    "    poptotkeyed = {}\n",
    "    for country,tseries in popkeyed.items():\n",
    "        if country!='dates' and country[1] != '': # it seems that UK is single exception with both '' and non '' regions, UK total is then UK overseas\n",
    "            countrytotal = (country[0],'Total')\n",
    "            if countrytotal in poptotkeyed:\n",
    "                # print(country,popkeyed[country],poptotkeyed[countrytotal])\n",
    "                total = np.array(tseries)[:]+np.array(poptotkeyed[countrytotal])[:]\n",
    "            else:\n",
    "                total =  np.array(tseries)                        \n",
    "            poptotkeyed.update({countrytotal:list(total)})\n",
    "    for countrytotal,tseries in poptotkeyed.items():\n",
    "        total = np.array(tseries)\n",
    "        popkeyed.update({countrytotal:list(total)})\n",
    "    return popkeyed"
   ]
  },
  {
   "cell_type": "code",
   "execution_count": 42,
   "metadata": {},
   "outputs": [],
   "source": [
    "def Float(x):\n",
    "    try:\n",
    "        rtn = float(x)\n",
    "    except:\n",
    "        rtn = float('NaN')\n",
    "    return rtn"
   ]
  },
  {
   "cell_type": "code",
   "execution_count": 43,
   "metadata": {},
   "outputs": [],
   "source": [
    "# from covid_data_explore-jhu-j\n",
    "def get_country_data(country_s='World', datatype='confirmed', firstdate=None, lastdate=None):\n",
    "    if isinstance(country_s,str):\n",
    "        country = (country_s,'')\n",
    "    else:                               # single ('country','reg') entry\n",
    "        country = country_s\n",
    "    popkeyed = covid_ts[datatype]\n",
    "    \n",
    "    dates = popkeyed['dates']\n",
    "    fmt = '%m/%d/%y'\n",
    "    xx = [datetime.datetime.strptime(dd,fmt) for dd in dates ]\n",
    "    if firstdate:\n",
    "        firstdate_d = datetime.datetime.strptime(firstdate,fmt)\n",
    "    else:\n",
    "        firstdate_d = datetime.datetime.strptime(dates[0],fmt)\n",
    "    if lastdate:\n",
    "        lastdate_d = datetime.datetime.strptime(lastdate,fmt)\n",
    "    else:\n",
    "        lastdate_d = datetime.datetime.strptime(dates[-1],fmt)    \n",
    "    daystart = (firstdate_d-xx[0]).days\n",
    "    daystop = (lastdate_d-xx[-1]).days\n",
    "\n",
    "    try:\n",
    "        yy = popkeyed[country]\n",
    "        # print(country)\n",
    "    except:\n",
    "            print('country data not found',country)\n",
    "            return None,None,None\n",
    "    yyf = [Float(y) for y in yy]\n",
    "    \n",
    "    if daystart <0:\n",
    "        xx0 = [xx[0]+datetime.timedelta(days=i) for i in range(daystart,0)]\n",
    "        yy0 = [0.]*(-daystart)\n",
    "    else:\n",
    "        xx0 = []\n",
    "        yy0 = []\n",
    "    if daystop > 0:\n",
    "        xx1 = [xx[-1]+datetime.timedelta(days=i) for i in range(daystop)]\n",
    "        yy1 = [0.]*(daystop)\n",
    "    else:\n",
    "        xx1 = []\n",
    "        yy1 = []       \n",
    "    xx = xx0 + xx + xx1\n",
    "    xxf = [Float((x-firstdate_d).days) for x in xx ]\n",
    "    \n",
    "    yy = yy0 + yyf + yy1\n",
    "    return xx,xxf,yy \n",
    "\n"
   ]
  },
  {
   "cell_type": "code",
   "execution_count": 44,
   "metadata": {},
   "outputs": [],
   "source": [
    "def get_country_data_nyw(country_s='World', datatype='confirmed', firstdate=None, lastdate=None):\n",
    "    if isinstance(country_s,str):\n",
    "        country = (country_s,'')\n",
    "    else:                               # single ('country','reg') entry\n",
    "        country = country_s\n",
    "    popkeyed = covid_ts[datatype]\n",
    "    \n",
    "    dates = popkeyed['dates']\n",
    "    fmt = '%m/%d/%y'\n",
    "    xx = [datetime.datetime.strptime(dd,fmt) for dd in dates ]\n",
    "    if firstdate:\n",
    "        firstdate_d = datetime.datetime.strptime(firstdate,fmt)\n",
    "    else:\n",
    "        firstdate_d = datetime.datetime.strptime(dates[0],fmt)\n",
    "    if lastdate:\n",
    "        lastdate_d = datetime.datetime.strptime(lastdate,fmt)\n",
    "    else:\n",
    "        lastdate_d = datetime.datetime.strptime(dates[-1],fmt)    \n",
    "    daystart = (firstdate_d-xx[0]).days\n",
    "    daystop = (lastdate_d-xx[-1]).days\n",
    "    \n",
    "    try:\n",
    "        yy = popkeyed[country]\n",
    "        # print(country)\n",
    "    except:\n",
    "            print('country data not found',country)\n",
    "            return None,None      \n",
    "    yyf = [Float(y) for y in yy]\n",
    "\n",
    "    yy0 = []\n",
    "    yy1 = []  \n",
    "    if daystart>len(yyf):\n",
    "        print('Error: start date does not overlap with available data')\n",
    "        return None,None\n",
    "    elif daystart>0:\n",
    "        yyf = yyf[daystart:]\n",
    "    elif daystart <0:\n",
    "        yy0 = [0.]*(-daystart)\n",
    "        \n",
    "    if daystop < 0:\n",
    "        yyf = yyf[:daystop]  \n",
    "    elif daystop > 0:\n",
    "        yy1 = [0.]*(daystop)\n",
    "    yyf = yy0 + yyf + yy1\n",
    "    xxf = [float(x) for x in range(len(yyf))]\n",
    "    return xxf,yyf "
   ]
  },
  {
   "cell_type": "markdown",
   "metadata": {},
   "source": [
    "## JHU data"
   ]
  },
  {
   "cell_type": "code",
   "execution_count": 45,
   "metadata": {},
   "outputs": [
    {
     "name": "stdout",
     "output_type": "stream",
     "text": [
      "number of countries listed 274\n"
     ]
    }
   ],
   "source": [
    "base = '../../covid-19-JH/csse_covid_19_data/csse_covid_19_time_series/'\n",
    "confirmed = get_data(base+'time_series_covid19_confirmed_global.csv')\n",
    "deaths = get_data(base+'time_series_covid19_deaths_global.csv')\n",
    "recovered = get_data(base+'time_series_covid19_recovered_global.csv')\n",
    "covid_ts = {'confirmed':confirmed,'deaths':deaths,'recovered':recovered}\n",
    "countries_jhu = [(row[0],row[1]) for row in confirmed][1:]\n",
    "print(\"number of countries listed\",len(countries_jhu))\n",
    "i=0\n",
    "for country in countries_jhu:\n",
    "#    print(i,country)\n",
    "    i = i + 1"
   ]
  },
  {
   "cell_type": "markdown",
   "metadata": {},
   "source": [
    "## Get data for one country"
   ]
  },
  {
   "cell_type": "code",
   "execution_count": 46,
   "metadata": {
    "scrolled": false
   },
   "outputs": [
    {
     "name": "stdout",
     "output_type": "stream",
     "text": [
      "[-3.0, -2.0, -1.0, 0.0, 1.0, 2.0, 3.0, 4.0, 5.0, 6.0, 7.0, 8.0, 9.0, 10.0, 11.0, 12.0, 13.0, 14.0, 15.0, 16.0, 17.0, 18.0, 19.0, 20.0, 21.0, 22.0, 23.0, 24.0, 25.0, 26.0, 27.0, 28.0, 29.0, 30.0, 31.0, 32.0, 33.0, 34.0, 35.0, 36.0, 37.0, 38.0, 39.0, 40.0, 41.0, 42.0, 43.0, 44.0, 45.0, 46.0, 47.0, 48.0, 49.0, 50.0, 51.0, 52.0, 53.0, 54.0, 55.0, 56.0, 57.0, 58.0, 59.0, 60.0, 61.0, 62.0, 63.0, 64.0, 65.0, 66.0, 67.0, 68.0, 69.0, 70.0, 71.0, 72.0, 73.0, 74.0, 75.0, 76.0, 77.0, 78.0, 79.0, 80.0, 81.0, 82.0, 83.0, 84.0, 85.0, 86.0, 87.0, 88.0, 89.0, 90.0, 91.0, 92.0, 93.0, 94.0, 95.0, 96.0, 97.0, 98.0, 99.0, 100.0, 101.0, 102.0, 103.0, 104.0, 105.0, 106.0, 107.0, 108.0, 109.0, 110.0, 111.0, 112.0, 113.0, 114.0, 115.0, 116.0, 117.0, 118.0, 119.0, 120.0, 121.0, 122.0, 123.0, 124.0, 125.0, 126.0, 127.0, 128.0, 129.0, 130.0, 131.0, 132.0, 133.0, 134.0, 135.0, 136.0, 137.0, 138.0, 139.0, 140.0, 141.0, 142.0, 143.0, 144.0, 145.0, 146.0, 147.0, 148.0, 149.0, 150.0, 151.0, 152.0, 153.0, 154.0, 155.0, 156.0, 157.0, 158.0, 159.0, 160.0, 161.0, 162.0, 163.0, 164.0, 165.0, 166.0, 167.0, 168.0, 169.0, 170.0, 171.0, 172.0, 173.0, 174.0, 175.0, 176.0, 177.0, 178.0, 179.0, 180.0, 181.0, 182.0, 183.0, 184.0, 185.0, 186.0, 187.0, 188.0, 189.0, 190.0]\n",
      "days 0 to 194 data stored in y_jhu\n"
     ]
    }
   ],
   "source": [
    "# assumed data starting on firstdate\n",
    "test_country='Germany'\n",
    "N = 80000000\n",
    "firstdate = '01/25/20'\n",
    "lastdate = '01/08/20'\n",
    "xx,xxf,yy0 = get_country_data(test_country,'confirmed',firstdate=firstdate,lastdate=lastdate)\n",
    "xx,xxf,yy1 = get_country_data(test_country,'recovered',firstdate=firstdate,lastdate=lastdate)\n",
    "xx,xxf,yy2 = get_country_data(test_country,'deaths',firstdate=firstdate,lastdate=lastdate)\n",
    "print(xxf)\n",
    "y_jhu={}\n",
    "y_jhu[test_country] = np.array([[yy0[i],yy1[i],yy2[i]] for i in range(0,len(yy0))])/N\n",
    "# data = np.array([[xxf[i],yy0[i],yy1[i],yy2[i]] for i in range(len(yy))])\n",
    "# print(data)\n",
    "lastday = len(y_jhu[test_country])\n",
    "print('days 0 to',lastday,'data stored in y_jhu')"
   ]
  },
  {
   "cell_type": "markdown",
   "metadata": {},
   "source": [
    "# Simulation"
   ]
  },
  {
   "cell_type": "markdown",
   "metadata": {},
   "source": [
    "Note:  Problem with setting parameters in model.\n",
    "\n",
    "The DeterministicOde Class method parameters, converts a dictionary or list of tuples of parameters to a dictionary with sympy symbolic keys, not strings.\n",
    "So attempts to modify parameter values by accessing this dictionary fail. Copying the dictionary, modifying and rewriting also fail.\n",
    "Instead we store the dictionary of parameters in addition as a dictionary with string keys, under model.params. When we modify these values, they can then be copied back to the parameters method using model.parameters = model.params."
   ]
  },
  {
   "cell_type": "markdown",
   "metadata": {},
   "source": [
    "## Simulation of SCIR model"
   ]
  },
  {
   "cell_type": "code",
   "execution_count": null,
   "metadata": {
    "scrolled": true
   },
   "outputs": [],
   "source": [
    "# setup time points for simulation, initial conditions and parameters\n",
    "t = np.linspace(0, lastday -1, lastday)\n",
    "\n",
    "# initial conditions assuming there is no natural immunity\n",
    "I_0 =  0.00003\n",
    "x0_SCIR = [1.0-I_0, I_0, 0.0, 0.0, 0.0]\n",
    "\n",
    "# Define parameters based on clinical observations Dr. Alison\n",
    "Exposure=0.25 # Rate coefficient for exposure per individual in contact per day\n",
    "IncubPeriod=5  #Incubation period, days\n",
    "DurInf=10 #Duration of mild infections, days\n",
    "FracCritical=0.1 #Fraction of infections that are critical\n",
    "CFR=0.05 #Case fatality rate (fraction of infections resulting in death)\n",
    "TimeDeath=DurInf+7 #Time from ICU admission to death, days\n",
    "\n",
    "# Model extension by John McCaskill to include caution \n",
    "CautionFactor= 0.4 # Fractional reduction of exposure rate for cautioned individuals\n",
    "CautionRetention= 21. # Duration of cautionary state of susceptibles (2 weeks)\n",
    "CautionICUFrac= 0.25 # Fraction of ICUs occupied leading to transition to caution @ 1/day\n",
    "ICUFrac= 0.002 # Fraction of ICUs relative to population size N\n",
    "\n",
    "# Model fitting extension to allow for incomplete detection\n",
    "FracConfirmedDet=0.125  # Fraction of recovered individuals measured\n",
    "FracRecoveredDet=FracConfirmedDet # Fraction of recovered individuals measured\n",
    "FracDeathsDet=1.0\n",
    "\n",
    "# convert above parameters to model parameters\n",
    "params = {'beta' : Exposure/sum(x0_SCIR),\n",
    "          'gamma': (1.0/DurInf),\n",
    "          'mu'    : (1.0/TimeDeath)*(CFR/FracCritical),\n",
    "          'c_0'    : CautionFactor,\n",
    "          'c_1'    : 1.0/CautionRetention,\n",
    "          'c_2'    : 1.0/(sum(x0_SCIR)*ICUFrac*CautionICUFrac),\n",
    "          'N'     : sum(x0_SCIR)}\n",
    "print(params)\n",
    "# assign x0 and params to the model, integrate over t and plot\n",
    "SCIR_model.initial_values = (x0_SCIR, t[0])\n",
    "SCIR_model.parameters = params\n",
    "SCIR_model.params = params.copy()\n",
    "solution = SCIR_model.integrate(t[1::])\n",
    "\n",
    "SCIR_model.plot()\n",
    "\n",
    "# calculate time point when maximum number of people are infectious\n",
    "peak_i = np.argmax(solution[:,1])\n",
    "print('Peak infection (days)', t[peak_i])"
   ]
  },
  {
   "cell_type": "markdown",
   "metadata": {},
   "source": [
    "### Integration and plot using scipy and matplotlib directly"
   ]
  },
  {
   "cell_type": "code",
   "execution_count": null,
   "metadata": {},
   "outputs": [],
   "source": [
    "solution1 = scipy.integrate.odeint(SCIR_model.ode, x0_SCIR, t[1::])\n",
    "ys = solution1.copy()\n",
    "plt.figure(figsize=(15,7))\n",
    "plt.subplot(1,2,1)\n",
    "plt.xlabel(\"Time (days)\")\n",
    "plt.ylabel(\"Number per 1000000 People\")\n",
    "plt.ylim([0,0.001])\n",
    "plt.plot(t[1::],ys,label=(\"S\",\"I\",\"R\",\"D\",\"Sc\"))\n",
    "plt.legend((\"S\",\"I\",\"R\",\"D\",\"Sc\"))\n",
    "plt.subplot(1,2,2)\n",
    "plt.xlabel(\"Time (days)\")\n",
    "plt.ylabel(\"Number per 1000000 People\")\n",
    "plt.ylim([0.000001,1])\n",
    "plt.semilogy()\n",
    "plt.plot(t[1::],ys,label=(\"S\",\"I\",\"R\",\"D\",\"Sc\"))\n",
    "plt.legend((\"S\",\"I\",\"R\",\"D\",\"Sc\"));"
   ]
  },
  {
   "cell_type": "markdown",
   "metadata": {},
   "source": [
    "### Compare data with SCIR simulation"
   ]
  },
  {
   "cell_type": "code",
   "execution_count": null,
   "metadata": {
    "scrolled": true
   },
   "outputs": [],
   "source": [
    "# model with generating parameters \n",
    "params1 = SCIR_model.params.copy()\n",
    "params1['c_0']=0.85\n",
    "params1['beta']=0.15\n",
    "SCIR_model.parameters = params1\n",
    "print('parameters',SCIR_model.parameters)\n",
    "x0_fit = x0_SCIR.copy()\n",
    "print('initial conditions',x0_fit)\n",
    "t_fit = t\n",
    "SCIR_model.initial_values = (x0_fit, t_fit[0])\n",
    "sol_fit = scipy.integrate.odeint(SCIR_model.ode, x0_fit, t_fit[1::])\n",
    "plt.figure(figsize=(15,10))\n",
    "plt.plot(t,y_jhu[test_country][:,1]/FracRecoveredDet, 'bo',label='R') # recovered\n",
    "plt.plot(t,y_jhu[test_country][:,2], 'ro',label='D') # died\n",
    "plt.gca().set_prop_cycle(color=['grey','orange','green','green','green','blue','red', 'black'])\n",
    "plt.plot(t_fit[1::], sol_fit)\n",
    "plt.ylim([0,0.02])\n",
    "plt.legend()\n",
    "peak_i = np.argmax(sol_fit[:,2])\n",
    "print('Peak infection (days)', t_fit[peak_i])"
   ]
  },
  {
   "cell_type": "markdown",
   "metadata": {},
   "source": [
    "## Simulation of SC2IR model"
   ]
  },
  {
   "cell_type": "code",
   "execution_count": null,
   "metadata": {},
   "outputs": [],
   "source": [
    "# setup time points for simulation, initial conditions and parameters\n",
    "t = np.linspace(0, lastday -1, lastday)\n",
    "\n",
    "# initial conditions assuming there is no natural immunity\n",
    "I_0 =  0.00003\n",
    "x0 = [1.0-I_0, I_0, 0.0, 0.0, 0.0, 0.0]\n",
    "\n",
    "# Define parameters based on clinical observations Dr. Alison\n",
    "Exposure=0.25 # Rate coefficient for exposure per individual in contact per day\n",
    "IncubPeriod=5  #Incubation period, days\n",
    "DurInf=10 #Duration of mild infections, days\n",
    "FracCritical=0.1 #Fraction of infections that are critical\n",
    "CFR=0.05 #Case fatality rate (fraction of infections resulting in death)\n",
    "TimeDeath=DurInf+7 #Time from ICU admission to death, days\n",
    "\n",
    "# Model extension by John McCaskill to include caution \n",
    "CautionFactor= 0.4 # Fractional reduction of exposure rate for cautioned individuals\n",
    "CautionRetention= 21. # Duration of cautionary state of susceptibles (2 weeks)\n",
    "CautionICUFrac= 0.25 # Fraction of ICUs occupied leading to transition to caution @ 1/day\n",
    "ICUFrac= 0.002 # Fraction of ICUs relative to population size N\n",
    "\n",
    "# Model fitting extension to allow for incomplete detection\n",
    "FracConfirmedDet=0.125  # Fraction of recovered individuals measured\n",
    "FracRecoveredDet=FracConfirmedDet # Fraction of recovered individuals measured\n",
    "FracDeathsDet=1.0\n",
    "\n",
    "# convert above parameters to model parameters\n",
    "params = {'beta' : Exposure/sum(x0),\n",
    "          'gamma': (1.0/DurInf),\n",
    "          'mu'    : (1.0/TimeDeath)*(CFR/FracCritical),\n",
    "          'c_0'    : CautionFactor,\n",
    "          'c_1'    : 1.0/CautionRetention,\n",
    "          'c_2'    : 1.0/(sum(x0)*ICUFrac*CautionICUFrac),\n",
    "          'N'     : sum(x0)}\n",
    "print('parameters',params)\n",
    "# assign x0 and params to the model, integrate over t and plot\n",
    "SC2IR_model.initial_values = (x0, t[0])\n",
    "SC2IR_model.parameters = params\n",
    "SC2IR_model.params = params.copy()\n",
    "solution = SC2IR_model.integrate(t[1::])\n",
    "\n",
    "SC2IR_model.plot()\n",
    "\n",
    "# calculate time point when maximum number of people are infectious\n",
    "peak_i = np.argmax(solution[:,1])\n",
    "print('Peak infection (days)', t[peak_i])"
   ]
  },
  {
   "cell_type": "markdown",
   "metadata": {},
   "source": [
    "### Integration and plot using scipy and matplotlib directly"
   ]
  },
  {
   "cell_type": "code",
   "execution_count": null,
   "metadata": {},
   "outputs": [],
   "source": [
    "solution1 = scipy.integrate.odeint(SC2IR_model.ode, x0, t[1::])\n",
    "ys = solution1.copy()\n",
    "plt.figure(figsize=(15,7))\n",
    "plt.subplot(1,2,1)\n",
    "plt.xlabel(\"Time (days)\")\n",
    "plt.ylabel(\"Fraction of population\")\n",
    "plt.ylim([0,1])\n",
    "plt.gca().set_prop_cycle(color=['grey','green','blue','red','darkgreen', 'black'])\n",
    "plt.plot(t[1::],ys,label=(\"S\",\"I\",\"R\",\"D\",'Ic',\"Sc\"))\n",
    "plt.legend((\"S\",\"I\",\"R\",\"D\",\"Ic\",\"Sc\"))\n",
    "plt.title(SC2IR_model.modelname)\n",
    "plt.subplot(1,2,2)\n",
    "plt.xlabel(\"Time (days)\")\n",
    "plt.ylabel(\"Fraction of population\")\n",
    "plt.ylim([0.000001,1])\n",
    "plt.semilogy()\n",
    "plt.gca().set_prop_cycle(color=['grey','green','blue','red','darkgreen', 'black'])\n",
    "plt.plot(t[1::],ys,label=(\"S\",\"I\",\"R\",\"D\",'Ic',\"Sc\"))\n",
    "plt.legend((\"S\",\"I\",\"R\",\"D\",\"Ic\",\"Sc\"))\n",
    "plt.title(SC2IR_model.modelname + ' - semilog');"
   ]
  },
  {
   "cell_type": "markdown",
   "metadata": {},
   "source": [
    "### Compare data with SC2IR simulation"
   ]
  },
  {
   "cell_type": "code",
   "execution_count": null,
   "metadata": {
    "scrolled": true
   },
   "outputs": [],
   "source": [
    "# model with generating parameters \n",
    "def isolveplot(beta,gamma,mu,c_0,c_1,c_2,logI_0):\n",
    "    # saveparams=SC2IR_model.parameters.copy() # backup model current parameters\n",
    "    # saveICs = SC2IR_model.initial_values # back model ICs\n",
    "    I_0 = 10.**logI_0\n",
    "    x0 = [1.0-I_0, I_0, 0.0, 0.0, 0.0, 0.0]\n",
    "    params = {'beta' : beta,\n",
    "          'gamma': gamma,\n",
    "          'mu'    : mu,\n",
    "          'c_0'    : c_0,\n",
    "          'c_1'    : c_1,\n",
    "          'c_2'    : c_2,\n",
    "          'N'     : sum(x0)}\n",
    "    SC2IR_model.initial_values = (x0, t[0])\n",
    "    SC2IR_model.parameters = params.copy()\n",
    "    \n",
    "    sol_fit = scipy.integrate.odeint(SC2IR_model.ode, x0, t[1::])\n",
    "    #\n",
    "    plt.figure(figsize=(15,10))\n",
    "    plt.plot(t,y_jhu[test_country][:,1]/FracRecoveredDet, 'bo',label='R') # recovered\n",
    "    plt.semilogy()\n",
    "    plt.plot(t,y_jhu[test_country][:,2], 'ro',label='D') # died\n",
    "    plt.semilogy()\n",
    "    plt.gca().set_prop_cycle(color=['grey','green','blue','red','darkgreen','black'])\n",
    "    plt.plot(t[1::], sol_fit)\n",
    "    plt.ylim([0.000001,1])\n",
    "    plt.semilogy()\n",
    "    plt.legend(('R','D','S','I','R','D','I_c','S_c'))\n",
    "    #plt.show(())\n",
    "    #ode_fit.plot()\n",
    "\n",
    "    peak_i = np.argmax(sol_fit[:,2])\n",
    "    print('Peak infection (days)', t_fit[peak_i])\n",
    "    # SC2IR_model.parameters=saveparams.copy()\n",
    "    # SC2IR_model.initial_values=saveICs"
   ]
  },
  {
   "cell_type": "code",
   "execution_count": null,
   "metadata": {},
   "outputs": [],
   "source": [
    "params = {'beta' : 0.25,\n",
    "          'gamma': 0.1,\n",
    "          'mu'    : 0.05,\n",
    "          'c_0'    : 0.3,\n",
    "          'c_1'    : 1./14.,\n",
    "          'c_2'    : 2000.,\n",
    "          'N'     : 1.}\n",
    "interact(isolveplot,\n",
    "         beta=FloatSlider(min=0,max=1,step=0.01,value=params['beta'],description='beta',\n",
    "                            style=style,layout=slider_layout,continuous_update=False,readout_format='.3f'),\n",
    "         gamma=FloatSlider(min=0,max=1,step=0.01,value=params['gamma'],description='gamma',\n",
    "                            style=style,layout=slider_layout,continuous_update=False,readout_format='.3f'),\n",
    "         mu=FloatSlider(min=0,max=0.1,step=0.001,value=params['mu'],description='mu',\n",
    "                            style=style,layout=slider_layout,continuous_update=False,readout_format='.3f'),     \n",
    "         c_0=FloatSlider(min=0,max=1,step=0.01,value=params['c_0'],description='c_0',\n",
    "                            style=style,layout=slider_layout,continuous_update=False,readout_format='.3f'),\n",
    "         c_1=FloatSlider(min=0,max=1,step=0.001,value=params['c_1'],description='c_1',\n",
    "                            style=style,layout=slider_layout,continuous_update=False,readout_format='.3f'),\n",
    "         c_2=FloatSlider(min=0,max=5000,step=1,value=params['c_2'],description='c_2',\n",
    "                            style=style,layout=slider_layout,continuous_update=False,readout_format='.1f'),\n",
    "         logI_0=FloatSlider(min=-10,max=0,step=0.01,value=np.log10(x0[1]),description='log I_0',\n",
    "                            style=style,layout=slider_layout,continuous_update=False))"
   ]
  },
  {
   "cell_type": "code",
   "execution_count": null,
   "metadata": {},
   "outputs": [],
   "source": [
    "slide_params=SC2IR_model.parameters.copy()\n",
    "print(slide_params)\n",
    "theta = [0.4,0.11,0.007,0.33,0.228,275.]"
   ]
  },
  {
   "cell_type": "markdown",
   "metadata": {},
   "source": [
    "## Simulation of SCEI3R model"
   ]
  },
  {
   "cell_type": "code",
   "execution_count": null,
   "metadata": {},
   "outputs": [],
   "source": [
    "# setup time points for simulation, initial conditions and parameters\n",
    "t = np.linspace(0, lastday -1, lastday)\n",
    "\n",
    "# initial conditions assuming there is no natural immunity\n",
    "E_0 =  0.00003\n",
    "x0_SCEI3R = [1.0-E_0, E_0, 0.0, 0.0, 0.0, 0.0, 0.0, 0.0]\n",
    "\n",
    "# Define parameters based on clinical observations Dr. Alison\n",
    "Exposure=0.25 # Rate coefficient for exposure per individual in contact per day\n",
    "IncubPeriod=5  #Incubation period, days\n",
    "DurMildInf=10 #Duration of mild infections, days\n",
    "FracMild=0.70  #Fraction of infections that are mild\n",
    "FracSevere=0.20 #Fraction of infections that are severe\n",
    "FracCritical=0.1 #Fraction of infections that are critical\n",
    "CFR=0.07 #Case fatality rate (fraction of infections resulting in death)\n",
    "TimeICUDeath=7 #Time from ICU admission to death, days\n",
    "DurHosp=11 #Duration of hospitalization, days\n",
    "\n",
    "# Model extension by John McCaskill to include caution \n",
    "CautionFactor= 0.2 # Fractional reduction of exposure rate for cautioned individuals\n",
    "CautionRetention= 21. # Duration of cautionary state of susceptibles (2 weeks)\n",
    "CautionICUFrac= 0.3 # Fraction of ICUs occupied leading to transition to caution @ 1/day\n",
    "ICUFrac= 0.002 # Fraction of ICUs relative to population size N\n",
    "\n",
    "# Model fitting extension to allow for incomplete detection\n",
    "FracConfirmedDet=0.125  # Fraction of recovered individuals measured\n",
    "FracRecoveredDet=FracConfirmedDet # Fraction of recovered individuals measured\n",
    "FracDeathsDet=1.0\n",
    "\n",
    "# convert above parameters to model parameters\n",
    "params = {'beta_1' : Exposure/sum(x0_SCEI3R),\n",
    "          'beta_2' : 0.0,\n",
    "          'beta_3' : 0.0,\n",
    "          'alpha' : 1.0/IncubPeriod,\n",
    "          'gamma_1': (1.0/DurMildInf)*FracMild,\n",
    "          'gamma_2': (1.0/DurHosp)-(1/DurHosp)*(FracCritical/(FracCritical+FracSevere)),\n",
    "          'gamma_3': (1.0/TimeICUDeath)-(1/TimeICUDeath)*(CFR/FracCritical),\n",
    "          'p_1'    : (1.0/DurMildInf)-(1.0/DurMildInf)*FracMild,\n",
    "          'p_2'    : (1.0/DurHosp)*(FracCritical/(FracCritical+FracSevere)),\n",
    "          'mu'    : (1.0/TimeICUDeath)*(CFR/FracCritical),\n",
    "          'c_0'    : CautionFactor,\n",
    "          'c_1'    : 1.0/CautionRetention,\n",
    "          'c_2'    : 1.0/(sum(x0_SCEI3R)*ICUFrac*CautionICUFrac),\n",
    "          'N'     : sum(x0_SCEI3R)}\n",
    "print(params)\n",
    "# assign x0 and params to the model, integrate over t and plot\n",
    "SCEI3R_model.initial_values = (x0_SCEI3R, t[0])\n",
    "SCEI3R_model.parameters = params\n",
    "SCEI3R_model.params = params.copy()\n",
    "solution = SCEI3R_model.integrate(t[1::])\n",
    "\n",
    "SCEI3R_model.plot()\n",
    "\n",
    "# calculate time point when maximum number of people are infectious\n",
    "peak_i = np.argmax(solution[:,2])\n",
    "print('Peak infection (days)', t[peak_i])"
   ]
  },
  {
   "cell_type": "markdown",
   "metadata": {},
   "source": [
    "### Compare data with SCEI3R simulation"
   ]
  },
  {
   "cell_type": "code",
   "execution_count": null,
   "metadata": {
    "scrolled": true
   },
   "outputs": [],
   "source": [
    "# model with generating parameters \n",
    "params1 = SCEI3R_model.params.copy()\n",
    "params1['c_0']=0.7\n",
    "SCEI3R_model.parameters = params1\n",
    "print(SCEI3R_model.parameters)\n",
    "x0_fit = x0_SCEI3R.copy()\n",
    "# x0_fit[2] = 0.00001\n",
    "#t_fit = numpy.linspace(0, 150, 1000)\n",
    "print(x0_fit)\n",
    "t_fit = t\n",
    "print(len(t))\n",
    "SCEI3R_model.initial_values = (x0_fit, t_fit[0])\n",
    "# %timeit sol_fit =SCEI3R_model.integrate(t_fit[1::]) # use magic %timeit to time\n",
    "#sol_fit =SCEI3R_model.integrate(t_fit[1::])\n",
    "# sol_fit = SCEI3R_model.integrate(t_fit)\n",
    "sol_fit = scipy.integrate.odeint(SCEI3R_model.ode, x0_fit, t_fit[1::])\n",
    "# print(len(sol_fit[0]))\n",
    "#\n",
    "plt.figure(figsize=(15,10))\n",
    "#plt.plot(t,y_jhu[test_country][:,0], 'go',label='I_1') # infected observations\n",
    "#plt.plot(t,y_jhu[test_country][:,1], 'go',label='I_2') # infected observations\n",
    "#plt.plot(t,y_jhu[test_country][:,2], 'go',label='I_3') # infected observations\n",
    "plt.plot(t,y_jhu[test_country][:,1]/FracRecoveredDet, 'bo',label='R') # recovered\n",
    "plt.plot(t,y_jhu[test_country][:,2], 'ro',label='D') # died\n",
    "plt.gca().set_prop_cycle(color=['grey','orange','green','green','green','blue','red','black',])\n",
    "plt.plot(t_fit[1::], sol_fit)\n",
    "plt.ylim([0,0.06])\n",
    "plt.legend()\n",
    "#plt.show(())\n",
    "#ode_fit.plot()\n",
    "\n",
    "peak_i = np.argmax(sol_fit[:,2])\n",
    "print('Peak infection (days)', t_fit[peak_i])"
   ]
  },
  {
   "cell_type": "markdown",
   "metadata": {},
   "source": [
    "### Integration and plot using scipy and matplotlib directly"
   ]
  },
  {
   "cell_type": "code",
   "execution_count": null,
   "metadata": {},
   "outputs": [],
   "source": [
    "# solution = scipy.integrate.odeint(SCEI3R_model.ode, x0, t)\n",
    "# print(len(t))\n",
    "solution1 = scipy.integrate.odeint(SCEI3R_model.ode, x0_SCEI3R, t[1::])\n",
    "ys = solution1.copy()\n",
    "plt.figure(figsize=(15,7))\n",
    "plt.subplot(1,2,1)\n",
    "plt.xlabel(\"Time (days)\")\n",
    "plt.ylabel(\"Number per 1000000 People\")\n",
    "plt.ylim([0,1])\n",
    "plt.legend((\"S\",\"E\",\"I1\",\"I2\",\"I3\",\"R\",\"D\",\"Sc\"))\n",
    "plt.plot(t[1::],ys)\n",
    "plt.subplot(1,2,2)\n",
    "plt.xlabel(\"Time (days)\")\n",
    "plt.ylabel(\"Number per 1000000 People\")\n",
    "plt.ylim([0.000001,1])\n",
    "plt.legend((\"S\",\"E\",\"I1\",\"I2\",\"I3\",\"R\",\"D\",\"Sc\"))\n",
    "plt.semilogy()\n",
    "plt.plot(t[1::],ys);"
   ]
  },
  {
   "cell_type": "markdown",
   "metadata": {},
   "source": [
    "## Simulation of SC3EI3R model"
   ]
  },
  {
   "cell_type": "code",
   "execution_count": null,
   "metadata": {},
   "outputs": [],
   "source": [
    "# setup time points for simulation, initial conditions and parameters\n",
    "t = np.linspace(0, lastday -1, lastday)\n",
    "tmax=lastday-1\n",
    "# initial conditions assuming there is no natural immunity\n",
    "E_0 =  0.00003\n",
    "x0_SC3EI3R = [1.0-E_0, E_0, 0.0, 0.0, 0.0, 0.0, 0.0, 0.0, 0.0, 0.0, 0.0]\n",
    "\n",
    "# Define parameters based on clinical observations Dr. Alison\n",
    "Exposure=0.25 # Rate coefficient for exposure per individual in contact per day\n",
    "IncubPeriod=5  #Incubation period, days\n",
    "DurMildInf=10 #Duration of mild infections, days\n",
    "FracMild=0.70  #Fraction of infections that are mild\n",
    "FracSevere=0.20 #Fraction of infections that are severe\n",
    "FracCritical=0.1 #Fraction of infections that are critical\n",
    "CFR=0.07 #Case fatality rate (fraction of infections resulting in death)\n",
    "TimeICUDeath=7 #Time from ICU admission to death, days\n",
    "DurHosp=11 #Duration of hospitalization, days\n",
    "\n",
    "# Model fitting extension to allow for incomplete detection\n",
    "FracConfirmedDet=0.125  # Fraction of recovered individuals measured\n",
    "FracRecoveredDet=FracConfirmedDet # Fraction of recovered individuals measured\n",
    "FracDeathsDet=1.0\n",
    "\n",
    "# Model extension by John McCaskill to include caution \n",
    "CautionFactor= 0.2 # Fractional reduction of exposure rate for cautioned individuals\n",
    "CautionRetention= 21. # Duration of cautionary state of susceptibles (2 weeks)\n",
    "CautionICUFrac= 0.3 # Fraction of ICUs occupied leading to transition to caution @ 1/day\n",
    "ICUFrac= 0.002 # Fraction of ICUs relative to population size N\n",
    "\n",
    "\n",
    "# convert above parameters to model parameters\n",
    "params = {'beta_1' : Exposure/sum(x0_SC3EI3R),\n",
    "          'beta_2' : 0.0,\n",
    "          'beta_3' : 0.0,\n",
    "          'alpha' : 1.0/IncubPeriod,\n",
    "          'gamma_1': (1.0/DurMildInf)*FracMild,\n",
    "          'gamma_2': (1.0/DurHosp)-(1/DurHosp)*(FracCritical/(FracCritical+FracSevere)),\n",
    "          'gamma_3': (1.0/TimeICUDeath)-(1/TimeICUDeath)*(CFR/FracCritical),\n",
    "          'p_1'    : (1.0/DurMildInf)-(1.0/DurMildInf)*FracMild,\n",
    "          'p_2'    : (1.0/DurHosp)*(FracCritical/(FracCritical+FracSevere)),\n",
    "          'mu'    : (1.0/TimeICUDeath)*(CFR/FracCritical),\n",
    "          'c_0'    : CautionFactor,\n",
    "          'c_1'    : 1.0/CautionRetention,\n",
    "          'c_2'    : 1.0/(sum(x0_SC3EI3R)*ICUFrac*CautionICUFrac),\n",
    "          'N'     : sum(x0_SC3EI3R)}\n",
    "\n",
    "print(params)\n",
    "# assign x0 and params to the model, integrate over t and plot\n",
    "SC3EI3R_model.initial_values = (x0_SC3EI3R, t[0])\n",
    "SC3EI3R_model.parameters = params\n",
    "SC3EI3R_model.params = params.copy()\n",
    "solution = SC3EI3R_model.integrate(t[1::])\n",
    "\n",
    "SC3EI3R_model.plot()\n",
    "\n",
    "# calculate time point when maximum number of people are infectious\n",
    "peak_i = np.argmax(solution[:,2])\n",
    "print('Peak infection (days)', t[peak_i])"
   ]
  },
  {
   "cell_type": "markdown",
   "metadata": {},
   "source": [
    "### Compare data with SC3EI3R simulation"
   ]
  },
  {
   "cell_type": "code",
   "execution_count": null,
   "metadata": {
    "scrolled": true
   },
   "outputs": [],
   "source": [
    "# model with generating parameters \n",
    "params1 = SC3EI3R_model.params.copy()\n",
    "params1['c_0']=0.35\n",
    "SC3EI3R_model.parameters = params1\n",
    "print(SC3EI3R_model.parameters)\n",
    "x0_fit = x0_SC3EI3R.copy()\n",
    "# x0_fit[2] = 0.00001\n",
    "#t_fit = numpy.linspace(0, 150, 1000)\n",
    "print(x0_fit)\n",
    "t_fit = t\n",
    "print(len(t))\n",
    "SC3EI3R_model.initial_values = (x0_fit, t_fit[0])\n",
    "# %timeit sol_fit =SC3EI3R_model.integrate(t_fit[1::]) # use magic %timeit to time\n",
    "sol_fit =SC3EI3R_model.integrate(t_fit[1::])\n",
    "# sol_fit = SC3EI3R_model.integrate(t_fit)\n",
    "# sol_fit = scipy.integrate.odeint(SC3EI3R_model(params_fit).ode, x0_fit, t_fit[1::])\n",
    "# print(len(sol_fit[0]))\n",
    "#\n",
    "plt.figure(figsize=(15,10))\n",
    "plt.plot(t,y_jhu[test_country][:,1]/FracRecoveredDet, 'bo',label='R') # recovered\n",
    "plt.plot(t,y_jhu[test_country][:,2]/FracDeathsDet, 'ro',label='D') # died\n",
    "plt.gca().set_prop_cycle(color=['grey','orange','green','green','green','blue','red','darkgreen', 'black'])\n",
    "#plt.plot(t_fit[1::], sol_fit)\n",
    "plt.plot(t_fit, sol_fit)\n",
    "plt.ylim([0,0.06])\n",
    "plt.legend()\n",
    "#plt.show(())\n",
    "#ode_fit.plot()\n",
    "\n",
    "peak_i = np.argmax(sol_fit[:,2])\n",
    "print('Peak infection (days)', t_fit[peak_i])"
   ]
  },
  {
   "cell_type": "markdown",
   "metadata": {},
   "source": [
    "## Simulation models for range of caution parameters"
   ]
  },
  {
   "cell_type": "markdown",
   "metadata": {},
   "source": [
    "### SCIR, SC2IR, SCEIR, SC3EIR,  SCEI3R and SC3EI3R simulations"
   ]
  },
  {
   "cell_type": "code",
   "execution_count": null,
   "metadata": {},
   "outputs": [],
   "source": [
    "def param_copy(model):\n",
    "    params = model.parameters\n",
    "    newparams = {}\n",
    "    pkeys1 = list(model.params.keys())\n",
    "    pkeys2 = list(model.parameters.keys())\n",
    "    for i in range(len(pkeys1)):\n",
    "        newparams[pkeys1[i]] = params[pkeys2[i]]\n",
    "    print(newparams)\n",
    "    model.parameters=newparams\n",
    "    \n",
    "def param_modify(model,param,value):\n",
    "    params = model.parameters\n",
    "    newparams = {}\n",
    "    pkeys1 = list(model.params.keys())\n",
    "    pkeys2 = list(model.parameters.keys())\n",
    "    for i in range(len(pkeys1)):\n",
    "        newparams[pkeys1[i]] = params[pkeys2[i]]\n",
    "    newparams[param]=value\n",
    "    print(newparams)\n",
    "    model.parameters=newparams\n",
    "    \n",
    "param_modify(SCIR_model,'beta',0.721)"
   ]
  },
  {
   "cell_type": "code",
   "execution_count": null,
   "metadata": {},
   "outputs": [],
   "source": [
    "SCIR_model.parameters = {'gamma':0.4}\n",
    "SCIR_model.parameters"
   ]
  },
  {
   "cell_type": "code",
   "execution_count": null,
   "metadata": {},
   "outputs": [],
   "source": [
    "def vector2params(b,a,g,p,u,c,k,N,modelname):\n",
    "    if 'I3' in modelname:\n",
    "        params = {\n",
    "            'beta_1' : b[1],\n",
    "            'beta_2' : b[2],\n",
    "            'beta_3' : b[3],\n",
    "            'alpha' : a,\n",
    "            'gamma_1': g[1],\n",
    "            'gamma_2': g[2],\n",
    "            'gamma_3': g[3],\n",
    "            'p_1'    : p[1],\n",
    "            'p_2'    : p[2],\n",
    "            'mu'    : u}\n",
    "    elif 'E' in modelname:\n",
    "        params = {\n",
    "            'beta' : b[1],  # see above for explanations\n",
    "            'alpha' : a, \n",
    "            'gamma': g[1]+g[2]*(p[1]/(g[2]+p[2]))+g[3]*(p[1]/(g[2]+p[2]))*(p[2]/(g[3]+u)),\n",
    "            'mu'    : u*(p[1]/(g[2]+p[2])*(p[2]/(g[3]+u)))}    \n",
    "    else:\n",
    "        params = {\n",
    "            'beta' : b[1],  # see above for explanations\n",
    "            'gamma': g[1]+g[2]*(p[1]/(g[2]+p[2]))+g[3]*(p[1]/(g[2]+p[2]))*(p[2]/(g[3]+u)),\n",
    "            'mu'    : u*(p[1]/(g[2]+p[2])*(p[2]/(g[3]+u)))}\n",
    "            \n",
    "    if 'C' in modelname: # models with caution  \n",
    "        params['c_0'] = c[0]\n",
    "        params['c_1'] = c[1]\n",
    "        params['c_2'] = c[2]\n",
    "        \n",
    "    if 'U' in modelname: # models with economic correction to caution  \n",
    "        params['k_u'] = k[0]\n",
    "        params['k_1'] = k[1]\n",
    "        params['k_w'] = k[2]\n",
    "        params['kappa'] = k[3]\n",
    "        \n",
    "    params['N'] = N\n",
    "    return params\n",
    "\n",
    "def params2vector(params):\n",
    "    b = [None,None,None]\n",
    "    g = [None,None,None]\n",
    "    p = [None,None,None]\n",
    "    c = [None,None,None]\n",
    "    b[0]=0.0\n",
    "    b[1]=params['beta_1']\n",
    "    b[2]=params['beta_2']\n",
    "    b[3]=params['beta_3']\n",
    "    g[0]=0.0\n",
    "    g[1]=params['gamma_1']\n",
    "    g[2]=params['gamma_2']\n",
    "    g[3]=params['gamma_3']\n",
    "    p[0]=0.0\n",
    "    p[1]=params['p_1']\n",
    "    p[2]=params['p_2']\n",
    "    c[0]=params['c_1']\n",
    "    c[1]=params['c_2']\n",
    "    c[2]=params['c_3']\n",
    "    a=params['alpha']\n",
    "    u=params['mu']\n",
    "    N=params['N']\n",
    "    return (b,a,g,p,u,c,N)"
   ]
  },
  {
   "cell_type": "code",
   "execution_count": null,
   "metadata": {},
   "outputs": [],
   "source": [
    "count = 0\n",
    "\n",
    "def difference(datain):\n",
    "    dataout = np.zeros(np.shape(datain))\n",
    "    for i in range(1,len(datain)):\n",
    "        dataout[i,...] = datain[i,...]-datain[i-1,...]\n",
    "    return dataout\n",
    "        \n",
    "def rolling_average(datain,period):\n",
    "    (tmax,n) = np.shape(datain)\n",
    "    dataout = np.zeros((tmax,n),dtype=float)\n",
    "    moving_av = np.zeros(n,dtype=float)\n",
    "    for k in range(len(datain)):\n",
    "        if k-period >= 0:\n",
    "            moving_av[:] = moving_av[:] - datain[k-7,...]\n",
    "        moving_av[:] = moving_av[:] + datain[k,...]\n",
    "        dataout[k] = moving_av/min(float(period),float(k+1))\n",
    "    return dataout\n",
    "\n",
    "axes = [None]\n",
    "    \n",
    "def solveplot(smodels=['SIR','SCIR','SC2IR','SEIR','SCEIR','SC3EIR','SEI3R','SCEI3R','SC3EI3R'],species='EI',tmax=100,summing='daily',averaging='weekly',fitdata = None,scale='linear',plottitle= '',label='',\n",
    "              newplot = True, gbrcolors=False, figsize = None):\n",
    "    \"\"\"\n",
    "    solve ODEs and plot for set of models indicated\n",
    "    params: dictionary of simulation parameters\n",
    "    scale: alternative 'linear' or 'log'\n",
    "    species alternatives 'all', 'EI', 'confirmed', 'deaths', 'daily confirmed', 'daily deaths'\n",
    "    plottitle : title for plot\n",
    "    label : label for curve when called as part of multicurve plot\n",
    "    newplot : whether to open new plot True/False\n",
    "    models : list of models to include, default all three of those possible\n",
    "    \"\"\"\n",
    "    global count\n",
    "    global axes\n",
    "    global FracConfirmedDet,FracRecoveredDet,FracDeathsDet\n",
    "    tvec=np.arange(0,tmax,1)\n",
    "    tvec1 = tvec[1:]\n",
    "\n",
    "    if not fitdata is None:\n",
    "        tmaxf = len(fitdata)\n",
    "        if fitdata.ndim != 2:\n",
    "            print(\"error in number of dimensions of array\")\n",
    "        else:\n",
    "            print(\"fit data \",np.shape(fitdata))\n",
    "        tvecf=np.arange(0,tmaxf,1)\n",
    "        tvecf1 = tvecf[1:]\n",
    "            \n",
    "    nmodels = len(smodels)\n",
    "    nm = 0\n",
    "    \n",
    "    count = count+1\n",
    "    \n",
    "    if newplot:\n",
    "        axes = [None]*nmodels \n",
    "        if (figsize == None):\n",
    "            figsize=(nmodels*8,6)\n",
    "        plt.figure(figsize=figsize)\n",
    "        # fig, axeslist = plt.subplots(1, nmodels, figsize=(nmodels*8,6))\n",
    "        \n",
    "    solns = []    \n",
    "    for smodel in smodels:\n",
    "        model = cmodels[smodel]\n",
    "        nm = nm + 1\n",
    "        soln = scipy.integrate.odeint(model.ode, model.initial_values[0], tvec[1::])\n",
    "        #Plot\n",
    "        # ax = axeslist[nm]\n",
    "        if axes[nm-1] == None: \n",
    "            ax = axes[nm-1] = plt.subplot(1,nmodels,nm)\n",
    "        else:\n",
    "            ax = axes[nm-1]\n",
    "        if scale == 'log': #Plot on log scale\n",
    "            ax.semilogy()\n",
    "            ax.ylim([0.00000001,1.0])\n",
    "        if not isinstance(species,list):\n",
    "            lspecies = [species]\n",
    "        else:\n",
    "            lspecies = species\n",
    "            \n",
    "        if summing == 'daily':\n",
    "            ssoln = difference(soln)\n",
    "            if not fitdata is None:\n",
    "                sfit = difference(fitdata)\n",
    "        else:\n",
    "            ssoln = soln\n",
    "            if not fitdata is None:\n",
    "                sfit = fitdata\n",
    "                \n",
    "        if averaging == 'weekly':\n",
    "            srsoln = rolling_average(ssoln,7)\n",
    "            if not fitdata is None:\n",
    "                srfit = rolling_average(sfit,7)\n",
    "        else:\n",
    "            srsoln = ssoln\n",
    "            if not fitdata is None:\n",
    "                srfit = sfit\n",
    "                \n",
    "        for species in lspecies:\n",
    "            if species == 'confirmed':\n",
    "                suma = np.sum(srsoln[:,model.confirmed],axis=1)\n",
    "                if not fitdata is None:\n",
    "                    ax.plot(tvec1,suma,label=label,color='green')\n",
    "                    fita = srfit[1::,0]/FracConfirmedDet # confirmed cases data, corrected by FracConfirmedDet\n",
    "                    ax.plot(tvecf1,fita,'o',label=label,color='green')\n",
    "                else:\n",
    "                    ax.plot(tvec1,suma,label=label)\n",
    "            if species == 'recovered':\n",
    "                suma = np.sum(srsoln[:,model.recovered],axis=1)   \n",
    "                if not fitdata is None:\n",
    "                    ax.plot(tvec1,suma,label=label,color='blue')\n",
    "                    fita = srfit[1::,1]/FracRecoveredDet # recovered cases data, corrected by FracRecoveredDet\n",
    "                    ax.plot(tvecf1,fita,'o',label=label,color='blue')\n",
    "                else:\n",
    "                    ax.plot(tvec1,suma,label=label)\n",
    "            elif species == 'deaths':\n",
    "                suma = np.sum(srsoln[:,model.deaths],axis=1)\n",
    "                if not fitdata is None:\n",
    "                    ax.plot(tvec1,suma,label=label,color='red')\n",
    "                    fita = srfit[1::,2]/FracDeathsDet # deaths cases data, corrected by FracDeathsDet\n",
    "                    ax.plot(tvecf1,fita,'o',label=label,color='red')\n",
    "                else:\n",
    "                    ax.plot(tvec1,suma,label=label)\n",
    "            elif species == 'deaths_x10':\n",
    "                suma = np.sum(srsoln[:,model.deaths],axis=1)*10\n",
    "                if not fitdata is None:\n",
    "                    ax.plot(tvec1,suma,label=label,color='red')\n",
    "                    fita = srfit[1::,2]*10/FracDeathsDet # deaths cases data, corrected by FracDeathsDet\n",
    "                    ax.plot(tvecf1,fita,'o',label=label,color='red')\n",
    "                else:\n",
    "                    ax.plot(tvec1,suma,label=label)\n",
    "            elif species == 'EI':\n",
    "                ax.plot(tvec1,soln[:,model.ei],label=label)\n",
    "                # ax.plot(tvec1,soln[:,model.ei],label=\"%s\" % count)\n",
    "                if 'I3' in model.modelname: \n",
    "                    plt.legend((\"E\",\"I1\",\"I2\",\"I3\"))\n",
    "                elif 'E' in model.modelname: \n",
    "                    plt.legend((\"E\",\"I\"))\n",
    "                else:\n",
    "                    plt.legend((\"I\"))\n",
    "            elif species == 'all':\n",
    "                ax.plot(tvec1,soln,label=label)\n",
    "\n",
    "                if 'I3' in model.modelname:\n",
    "                    if 'C3'in model.modelname:\n",
    "                        pspecies=(\"S\",\"E\",\"I1\",\"I2\",\"I3\",\"R\",\"D\",\"Ic\",\"Sc\",\"Ec\")\n",
    "                    elif 'C' in model.modelname:\n",
    "                        pspecies=(\"S\",\"E\",\"I1\",\"I2\",\"I3\",\"R\",\"D\",\"Sc\")\n",
    "                    else:\n",
    "                        pspecies=(\"S\",\"E\",\"I1\",\"I2\",\"I3\",\"R\",\"D\")\n",
    "                elif 'E' in model.modelname:\n",
    "                    if 'C3'in model.modelname:\n",
    "                        pspecies=(\"S\",\"E\",\"I\",\"R\",\"D\",\"Ic\",\"Sc\",\"Ec\")\n",
    "                    else:\n",
    "                        pspecies=(\"S\",\"E\",\"I\",\"R\",\"D\",\"Sc\")                \n",
    "                else:\n",
    "                    if 'C2'in model.modelname:\n",
    "                        pspecies=(\"S\",\"I\",\"R\",\"D\",\"Ic\",\"Sc\")\n",
    "                    else:\n",
    "                        pspecies=(\"S\",\"I\",\"R\",\"D\",\"Sc\")\n",
    "                plt.legend(pspecies)\n",
    "            \n",
    "        plt.xlabel(\"Time (days)\")\n",
    "        plt.ylabel(\"Fraction of population\")\n",
    "        plt.title(model.modelname +' '+plottitle)\n",
    "        solns.append(soln)\n",
    "    return solns"
   ]
  },
  {
   "cell_type": "code",
   "execution_count": null,
   "metadata": {},
   "outputs": [],
   "source": [
    "# Set up multimodel consistent sets of parameters\n",
    "Exposure=0.25 # Rate coefficient for exposure per individual in contact per day\n",
    "IncubPeriod=5  #Incubation period, days \n",
    "DurMildInf=10 #Duration of mild infections, days\n",
    "FracMild=0.8  #Fraction of infections that are mild\n",
    "FracSevere=0.15 #Fraction of infections that are severe\n",
    "FracCritical=0.05 #Fraction of infections that are critical\n",
    "CFR=0.02 #Case fatality rate (fraction of infections resulting in death)\n",
    "TimeICUDeath=7 #Time from ICU admission to death, days\n",
    "DurHosp=11 #Duration of hospitalization, days\n",
    "\n",
    "# Model extension by John McCaskill to include caution \n",
    "CautionFactor= 0.3 # Fractional reduction of exposure rate for cautioned individuals\n",
    "CautionRetention= 14. # Duration of cautionary state of susceptibles (4 weeks)\n",
    "CautionICUFrac= 0.25 # Fraction of ICUs occupied leading to 90% of susceptibles in caution \n",
    "ICUFrac= 0.001 # Fraction of ICUs relative to population size N\n",
    "\n",
    "EconomicCostOfCaution = 0.5 # Cost to economy of individual exercising caution\n",
    "\n",
    "N=1\n",
    "b=np.zeros(4) #beta\n",
    "g=np.zeros(4) #gamma\n",
    "p=np.zeros(3) # progression\n",
    "c=np.zeros(3) #caution\n",
    "k=np.zeros(4) #economic caution\n",
    "\n",
    "a=1/IncubPeriod                    # transition rate from exposed to infected\n",
    "b=Exposure*np.array([0,1,0,0])/N   # hospitalized cases don't transmit\n",
    "u=(1/TimeICUDeath)*(CFR/FracCritical) # death rate from ICU\n",
    "g[3]=(1/TimeICUDeath)-u            # recovery rate\n",
    "\n",
    "p[2]=(1/DurHosp)*(FracCritical/(FracCritical+FracSevere))\n",
    "g[2]=(1/DurHosp)-p[2]\n",
    "\n",
    "g[1]=(1/DurMildInf)*FracMild\n",
    "p[1]=(1/DurMildInf)-g[1]\n",
    "\n",
    "c[0]=CautionFactor\n",
    "c[1]=1/CautionRetention\n",
    "c[2]=1/(N*ICUFrac*CautionICUFrac)   # this is the rate coefficient giving 1/day at IE = denom\n",
    "\n",
    "k[0]=c[1]\n",
    "k[1]=c[1]\n",
    "k[2]=c[1]\n",
    "k[3]=EconomicCostOfCaution\n",
    "\n",
    "cmodels = {'SIR':SIR_model,'SCIR':SCIR_model,'SC2IR':SC2IR_model,\n",
    "           'SEIR':SEIR_model,'SCEIR':SCEIR_model,'SC3EIR':SC3EIR_model,\n",
    "           'SEI3R':SEI3R_model,'SCEI3R':SCEI3R_model,'SC3EI3R':SC3EI3R_model,'SC3UEIR':SC3UEIR_model}\n",
    "smodels = ['SIR','SCIR','SC2IR','SEIR','SCEIR','SC3EIR','SEI3R','SCEI3R','SC3EI3R','SC3UEIR']\n",
    "\n",
    "for smodel in smodels: \n",
    "    params_in=vector2params(b,a,g,p,u,c,k,N,smodel)\n",
    "    # print(smodel,params_in)\n",
    "    cmodels[smodel].parameters = params_in\n",
    "    \n",
    "I_0 =  0.00003\n",
    "\n",
    "x0_SIR = [1.0-I_0, I_0, 0.0, 0.0]\n",
    "x0_SCIR = [1.0-I_0, I_0, 0.0, 0.0, 0.0]\n",
    "x0_SC2IR = [1.0-I_0, I_0, 0.0, 0.0, 0.0, 0.0]\n",
    "SIR_model.initial_values = (x0_SIR, t[0])\n",
    "SCIR_model.initial_values = (x0_SCIR, t[0])\n",
    "SC2IR_model.initial_values = (x0_SC2IR, t[0])\n",
    "\n",
    "x0_SEIR = [1.0-I_0, 0.0, I_0, 0.0, 0.0]\n",
    "x0_SCEIR = [1.0-I_0, 0.0, I_0, 0.0, 0.0, 0.0]\n",
    "x0_SC3EIR = [1.0-I_0, 0.0, I_0, 0.0, 0.0, 0.0, 0.0, 0.0]\n",
    "SEIR_model.initial_values = (x0_SEIR, t[0])\n",
    "SCEIR_model.initial_values = (x0_SCEIR, t[0])\n",
    "SC3EIR_model.initial_values = (x0_SC3EIR, t[0])\n",
    "\n",
    "x0_SEI3R = [1.0-I_0, 0.0, I_0, 0.0, 0.0, 0.0, 0.0]\n",
    "x0_SCEI3R = [1.0-I_0, 0.0, I_0, 0.0, 0.0, 0.0, 0.0, 0.0]\n",
    "x0_SC3EI3R = [1.0-I_0, 0.0, I_0, 0.0, 0.0, 0.0, 0.0, 0.0, 0.0, 0.0, 0.0]\n",
    "SEI3R_model.initial_values = (x0_SEI3R, t[0])\n",
    "SCEI3R_model.initial_values = (x0_SCEI3R, t[0])\n",
    "SC3EI3R_model.initial_values = (x0_SC3EI3R, t[0])\n",
    "\n",
    "\n",
    "x0_SC3UEIR = [1.0-I_0, 0.0, I_0, 0.0, 0.0, 0.0, 0.0, 0.0, 0.0, 0.0]\n",
    "SC3UEIR_model.initial_values = (x0_SC3UEIR, t[0])"
   ]
  },
  {
   "cell_type": "code",
   "execution_count": null,
   "metadata": {
    "scrolled": true
   },
   "outputs": [],
   "source": [
    "smodels = ['SCEIR','SC3EIR','SCEI3R','SC3EI3R']\n",
    "# tmax = lastday-1\n",
    "tmax = 300\n",
    "# caution standard parameters\n",
    "CautionFactor= 0.25    # Fractional reduction of exposure rate for cautioned individuals\n",
    "CautionRetention= 45. # Duration of cautionary state of susceptibles (4 weeks)\n",
    "CautionICUFrac= 0.05   # Fraction of ICUs occupied leading to transition to caution @ 1/day \n",
    "ICUFrac= 0.002        # Fraction of ICUs relative to population size N\n",
    "\n",
    "# Sensitivity scans\n",
    "CautionFactors= [1.0,0.9,0.75,0.5,0.25,0.0]   # Fractional reduction of exposure rate for cautioned individuals\n",
    "CautionFactors2= [0.4,0.3,0.2,0.1,0.0]   # Fractional reduction of exposure rate for cautioned individuals\n",
    "CautionRetentions= [7.,14.,28.,56.,112.,224.]      # Duration of cautionary state of susceptibles\n",
    "CautionICUFracs= [1.0,0.75,0.5,0.25,0.125,0.0625] # Fraction of ICUs occupied leading to 90% of susceptibles in caution \n",
    "\n",
    "newplot = True\n",
    "for s in range(6):\n",
    "    for smodel in smodels:\n",
    "        model = cmodels[smodel]\n",
    "        if 'C' in model.modelname:\n",
    "            if 'E' in model.modelname:\n",
    "                cmodels[smodel].parameters = {'c_0':CautionFactors[s],'c_1':1./CautionRetention,'c_2':1./(N*ICUFrac*CautionICUFrac)}\n",
    "            else:\n",
    "                cmodels[smodel].parameters = {'c_0':CautionFactors[s],'c_1':1./CautionRetention,'c_2':FracSevere*FracCritical/(N*ICUFrac*CautionICUFrac)}\n",
    "            # print(smodel,cmodels[smodel].parameters) \n",
    "        else:\n",
    "            print(\"ERROR\")\n",
    "    label_c = 'CautionFactor %s' % CautionFactors[s]\n",
    "    plottitle = 'Caution Factor' \n",
    "    solns=solveplot(smodels,'confirmed',tmax,'daily','daily',None,'linear',plottitle,label_c,newplot)\n",
    "    plt.legend()\n",
    "    newplot = False\n",
    "\n",
    "newplot = True\n",
    "for s in range(5):\n",
    "    for smodel in smodels:\n",
    "        model = cmodels[smodel]\n",
    "        if 'C' in model.modelname:\n",
    "            if 'E' in model.modelname:\n",
    "                cmodels[smodel].parameters = {'c_0':CautionFactors2[s],'c_1':1./CautionRetention,'c_2':1./(N*ICUFrac*CautionICUFrac)}\n",
    "            else:\n",
    "                cmodels[smodel].parameters = {'c_0':CautionFactors2[s],'c_1':1./CautionRetention,'c_2':FracSevere*FracCritical/(N*ICUFrac*CautionICUFrac)}\n",
    "            # print(smodel,cmodels[smodel].parameters) \n",
    "        else:\n",
    "            print(\"ERROR\")\n",
    "    label_c = 'CautionFactor %s' % CautionFactors2[s]\n",
    "    plottitle = 'Caution Factor' \n",
    "    solns=solveplot(smodels,'confirmed',tmax,'daily','daily',None,'linear',plottitle,label_c,newplot)\n",
    "    plt.legend()\n",
    "    newplot = False\n",
    "    \n",
    "newplot = True\n",
    "#for i in reversed(range(5)):\n",
    "for s in range(5):\n",
    "    for smodel in smodels:\n",
    "        model = cmodels[smodel]\n",
    "        if 'C' in model.modelname:\n",
    "            if 'E' in model.modelname:\n",
    "                cmodels[smodel].parameters = {'c_0':CautionFactor,'c_1':1./CautionRetentions[s],'c_2':1./(N*ICUFrac*CautionICUFrac)}\n",
    "            else:\n",
    "                cmodels[smodel].parameters = {'c_0':CautionFactor,'c_1':1./CautionRetentions[s],'c_2':FracSevere*FracCritical/(N*ICUFrac*CautionICUFrac)}\n",
    "            cmodels[smodel].parameters = {'c_0':CautionFactor,'c_1':1/CautionRetentions[s],'c_2':1./(N*ICUFrac*CautionICUFrac)}\n",
    "            # print(smodel,cmodels[smodel].parameters) \n",
    "    label_c = 'CautionRetention %s'% CautionRetentions[s]\n",
    "    plottitle = 'Caution Retention' \n",
    "    solns=solveplot(smodels,'confirmed',tmax,'daily','daily',None,'linear',plottitle,label_c,newplot)\n",
    "    plt.legend()\n",
    "    newplot = False\n",
    "\n",
    "newplot = True    \n",
    "for s in range(5):\n",
    "    for smodel in smodels:\n",
    "        model = cmodels[smodel]\n",
    "        if 'C' in model.modelname:\n",
    "            cmodels[smodel].parameters = {'c_0':CautionFactor,'c_1':1/CautionRetention,'c_2':1./(N*ICUFrac*CautionICUFracs[s])}\n",
    "            # print(smodel,cmodels[smodel].parameters) \n",
    "    label_c = 'CautionICUFrac %s'% CautionICUFracs[s]\n",
    "    plottitle = 'Caution ICUFrac' \n",
    "    solns=solveplot(smodels,'confirmed',tmax,'daily','daily',None,'linear',plottitle,label_c,newplot)\n",
    "    plt.legend()\n",
    "    newplot = False\n",
    "    \n",
    "# return parameters to standard set\n",
    "for smodel in smodels:\n",
    "    model = cmodels[smodel]\n",
    "    if 'C' in model.modelname:\n",
    "        cmodels[smodel].parameters = {'c_0':CautionFactor,'c_1':1/CautionRetention,'c_2':1./(N*ICUFrac*CautionICUFrac)}"
   ]
  },
  {
   "cell_type": "code",
   "execution_count": null,
   "metadata": {
    "scrolled": false
   },
   "outputs": [],
   "source": [
    "smodels = ['SCIR','SC2IR','SCEIR','SC3EIR','SCEI3R','SC3EI3R']\n",
    "# tmax = lastday-1\n",
    "tmax = 300\n",
    "# caution standard parameters\n",
    "CautionFactor= 0.2    # Fractional reduction of exposure rate for cautioned individuals\n",
    "CautionRetention= 21. # Duration of cautionary state of susceptibles (4 weeks)\n",
    "CautionICUFrac= 0.3   # Fraction of ICUs occupied leading to transition to caution @ 1/day \n",
    "ICUFrac= 0.002        # Fraction of ICUs relative to population size N\n",
    "\n",
    "# Sensitivity scans\n",
    "CautionFactors= [1.0,0.9,0.75,0.5,0.25,0.0]   # Fractional reduction of exposure rate for cautioned individuals\n",
    "CautionRetentions= [7.,14.,28.,56.,112.,224.]      # Duration of cautionary state of susceptibles\n",
    "CautionICUFracs= [1.0,0.75,0.5,0.25,0.125,0.0625] # Fraction of ICUs occupied leading to 90% of susceptibles in caution \n",
    "\n",
    "newplot = True\n",
    "for s in range(6):\n",
    "    for smodel in smodels:\n",
    "        model = cmodels[smodel]\n",
    "        if 'C' in model.modelname:\n",
    "            if 'E' in model.modelname:\n",
    "                cmodels[smodel].parameters = {'c_0':CautionFactors[s],'c_1':1./CautionRetention,'c_2':1./(N*ICUFrac*CautionICUFrac)}\n",
    "            else:\n",
    "                cmodels[smodel].parameters = {'c_0':CautionFactors[s],'c_1':1./CautionRetention,'c_2':FracSevere*FracCritical/(N*ICUFrac*CautionICUFrac)}\n",
    "            # print(smodel,cmodels[smodel].parameters) \n",
    "        else:\n",
    "            print(\"ERROR\")\n",
    "    label_c = 'CautionFactor %s' % CautionFactors[s]\n",
    "    plottitle = 'Caution Factor' \n",
    "    solns=solveplot(smodels,'confirmed',tmax,'daily','daily',None,'linear',plottitle,label_c,newplot)\n",
    "    plt.legend()\n",
    "    newplot = False\n",
    "\n",
    "newplot = True\n",
    "#for i in reversed(range(5)):\n",
    "for s in range(5):\n",
    "    for smodel in smodels:\n",
    "        model = cmodels[smodel]\n",
    "        if 'C' in model.modelname:\n",
    "            if 'E' in model.modelname:\n",
    "                cmodels[smodel].parameters = {'c_0':CautionFactor,'c_1':1./CautionRetentions[s],'c_2':1./(N*ICUFrac*CautionICUFrac)}\n",
    "            else:\n",
    "                cmodels[smodel].parameters = {'c_0':CautionFactor,'c_1':1./CautionRetentions[s],'c_2':FracSevere*FracCritical/(N*ICUFrac*CautionICUFrac)}\n",
    "            cmodels[smodel].parameters = {'c_0':CautionFactor,'c_1':1/CautionRetentions[s],'c_2':1./(N*ICUFrac*CautionICUFrac)}\n",
    "            # print(smodel,cmodels[smodel].parameters) \n",
    "    label_c = 'CautionRetention %s'% CautionRetentions[s]\n",
    "    plottitle = 'Caution Retention' \n",
    "    solns=solveplot(smodels,'confirmed',tmax,'daily','daily',None,'linear',plottitle,label_c,newplot)\n",
    "    plt.legend()\n",
    "    newplot = False\n",
    "\n",
    "newplot = True    \n",
    "for s in range(5):\n",
    "    for smodel in smodels:\n",
    "        model = cmodels[smodel]\n",
    "        if 'C' in model.modelname:\n",
    "            cmodels[smodel].parameters = {'c_0':CautionFactor,'c_1':1/CautionRetention,'c_2':1./(N*ICUFrac*CautionICUFracs[s])}\n",
    "            # print(smodel,cmodels[smodel].parameters) \n",
    "    label_c = 'CautionICUFrac %s'% CautionICUFracs[s]\n",
    "    plottitle = 'Caution ICUFrac' \n",
    "    solns=solveplot(smodels,'confirmed',tmax,'daily','daily',None,'linear',plottitle,label_c,newplot)\n",
    "    plt.legend()\n",
    "    newplot = False\n",
    "    \n",
    "# return parameters to standard set\n",
    "for smodel in smodels:\n",
    "    model = cmodels[smodel]\n",
    "    if 'C' in model.modelname:\n",
    "        cmodels[smodel].parameters = {'c_0':CautionFactor,'c_1':1/CautionRetention,'c_2':1./(N*ICUFrac*CautionICUFrac)}"
   ]
  },
  {
   "cell_type": "code",
   "execution_count": null,
   "metadata": {},
   "outputs": [],
   "source": [
    "smodels = ['SC2IR','SC3EIR','SC3EI3R','SC3UEIR']\n",
    "# tmax = lastday-1\n",
    "tmax = 600\n",
    "# caution standard parameters\n",
    "CautionFactor= 0.4    # Fractional reduction of exposure rate for cautioned individuals\n",
    "CautionRetention= 21. # Duration of cautionary state of susceptibles (4 weeks)\n",
    "CautionICUFrac= 0.3   # Fraction of ICUs occupied leading to transition to caution @ 1/day \n",
    "ICUFrac= 0.002        # Fraction of ICUs relative to population size N\n",
    "\n",
    "# Sensitivity scans\n",
    "# CautionFactors= [1.0,0.9,0.75,0.5,0.25,0.0]       # Fractional reduction of exposure rate for cautioned individuals\n",
    "CautionFactors= [1.0,0.9,0.75,0.5,0.25,0.0]   # Fractional reduction of exposure rate for cautioned individuals\n",
    "CautionFactors2= [0.4,0.3,0.2,0.1,0.0]   # Fractional reduction of exposure rate for cautioned individuals\n",
    "CautionRetentions= [7.,14.,28.,56.,112.,224.]   # Duration of cautionary state of susceptibles\n",
    "CautionICUFracs= [1.0,0.75,0.5,0.25,0.125,0.0625] # Fraction of ICUs occupied leading to 90% of susceptibles in caution \n",
    "ktime = 56.\n",
    "ktimes= [7.,14.,28.,56.]   # Duration of cautionary state of susceptibles\n",
    "    \n",
    "\n",
    "smodel ='SC3UEIR'\n",
    "model = cmodels[smodel]\n",
    "for s in range(4):\n",
    "    newplot = True\n",
    "    for s1 in range(4):\n",
    "        cmodels[smodel].parameters = {'k_u':1./ktimes[s],'k_1':1./ktimes[s1],'k_w':1./ktime}\n",
    "        label_c = 'k_u %s k_1 %s'% (ktimes[s],ktimes[s1])\n",
    "        plottitle = 'k_u k_1' \n",
    "        solns=solveplot([smodel],'confirmed',tmax,'daily','daily',None,'linear',plottitle,label_c,newplot)\n",
    "        plt.legend()\n",
    "        newplot = False   \n",
    "    \n",
    "# return parameters to standard set\n",
    "for smodel in smodels:\n",
    "    model = cmodels[smodel]\n",
    "    if 'C' in model.modelname:\n",
    "        cmodels[smodel].parameters = {'c_0':CautionFactor,'c_1':1/CautionRetention,'c_2':1./(N*ICUFrac*CautionICUFrac)}\n",
    "    if 'U' in model.modelname:\n",
    "            cmodels[smodel].parameters = {'k_u':1./ktime,'k_1':1./ktime,'k_w':1./ktime}"
   ]
  },
  {
   "cell_type": "code",
   "execution_count": null,
   "metadata": {},
   "outputs": [],
   "source": [
    "# more extensive parameter screen for one model\n",
    "smodels = ['SCEI3R']\n",
    "# tmax = lastday-1\n",
    "tmax = 300\n",
    "# caution standard parameters\n",
    "CautionFactor= 0.2    # Fractional reduction of exposure rate for cautioned individuals\n",
    "CautionRetention= 21. # Duration of cautionary state of susceptibles (4 weeks)\n",
    "CautionICUFrac= 0.3   # Fraction of ICUs occupied leading to transition to caution @ 1/day \n",
    "ICUFrac= 0.002        # Fraction of ICUs relative to population size N\n",
    "\n",
    "# Sensitivity scans\n",
    "CautionFactors= [1.0,0.5,0.1]       # Fractional reduction of exposure rate for cautioned individuals\n",
    "CautionRetentions= [7.,28.,112.]    # Duration of cautionary state of susceptibles (2 weeks)\n",
    "CautionICUFracs= [0.0625,0.25,0.75] # Fraction of ICUs occupied leading to 90% of susceptibles in caution \n",
    "\n",
    "for s2 in range(3):\n",
    " newplot = True\n",
    " for s3 in range(3):\n",
    "   newplot = True\n",
    "   for s1 in range(3):\n",
    "    for smodel in smodels:\n",
    "        model = cmodels[smodel]\n",
    "        if 'C' in model.modelname: \n",
    "            cmodels[smodel].parameters = {'c_0':CautionFactors[s1],'c_1':1./CautionRetentions[s2],'c_2':1./(N*ICUFrac*CautionICUFracs[s3])}\n",
    "        else:\n",
    "            print(\"ERROR\")\n",
    "    label_c = ('CF %s' % CautionFactors[s1]) + (' CICUF %s'% CautionICUFracs[s3])\n",
    "    plottitle = 'Caution Factor' \n",
    "    solns=solveplot(smodels,'confirmed',tmax,'daily','daily',None,'linear',plottitle,label_c,newplot)\n",
    "    plt.legend()\n",
    "    newplot = False\n",
    "    \n",
    "# return parameters to standard set\n",
    "for smodel in smodels:\n",
    "    model = cmodels[smodel]\n",
    "    if 'C' in model.modelname:\n",
    "        cmodels[smodel].parameters = {'c_0':CautionFactor,'c_1':1./CautionRetention,'c_2':1./(N*ICUFrac*CautionICUFrac)}\n"
   ]
  },
  {
   "cell_type": "code",
   "execution_count": null,
   "metadata": {},
   "outputs": [],
   "source": [
    "# the parameters are stored not as strings but as sympy symbols\n",
    "# but they cannot be accessed externally like that\n",
    "# from sympy import Symbol\n",
    "# cmodels['SCIR'].parameters[Symbol('c_0')]  # prouces KeyError: c_0\n",
    "types= [type(k) for k in cmodels['SCIR'].parameters.keys()]\n",
    "print(types)"
   ]
  },
  {
   "cell_type": "markdown",
   "metadata": {},
   "source": [
    "# Parameter fitting"
   ]
  },
  {
   "cell_type": "markdown",
   "metadata": {},
   "source": [
    "## Fitting via sliders"
   ]
  },
  {
   "cell_type": "markdown",
   "metadata": {},
   "source": [
    "### SC3EIR Model"
   ]
  },
  {
   "cell_type": "code",
   "execution_count": null,
   "metadata": {},
   "outputs": [],
   "source": [
    "len(t)"
   ]
  },
  {
   "cell_type": "code",
   "execution_count": null,
   "metadata": {},
   "outputs": [],
   "source": [
    "model = 'SC3EIR'\n",
    "params={'beta':0.25,'alpha':1./5.,'gamma':0.1,'mu':0.05,'c_0':0.3, 'c_1':1/14., 'c_2':2000}\n",
    "def slidefitplot(beta,alpha,gamma,mu,c_0,c_1,c_2,logI_0):\n",
    "    params={ 'beta':beta, 'alpha':alpha, 'gamma':gamma, 'mu':mu, 'c_0':c_0, 'c_1':c_1, 'c_2':c_2}\n",
    "    cmodels[model].parameters = params\n",
    "    I0 = 10**logI_0\n",
    "    x0 = [1.-I0,0.,I0,0.,0.,0.,0.,0.]\n",
    "    cmodels[model].initial_values = (x0,t[0])\n",
    "    solveplot(smodels=[model],species=['confirmed','recovered','deaths'],tmax=len(t),summing='daily',fitdata=y_jhu[test_country],scale='linear',plottitle= '',label='confirmed',newplot = True)"
   ]
  },
  {
   "cell_type": "code",
   "execution_count": null,
   "metadata": {},
   "outputs": [],
   "source": [
    "interact(slidefitplot,\n",
    "         beta=FloatSlider(min=0,max=1,step=0.01,value=params['beta'],description='beta',\n",
    "                            style=style,layout=slider_layout,continuous_update=False,readout_format='.3f'),\n",
    "         alpha=FloatSlider(min=0,max=1,step=0.01,value=params['alpha'],description='alpha',\n",
    "                            style=style,layout=slider_layout,continuous_update=False,readout_format='.3f'),\n",
    "         gamma=FloatSlider(min=0,max=1,step=0.01,value=params['gamma'],description='gamma',\n",
    "                            style=style,layout=slider_layout,continuous_update=False,readout_format='.3f'),\n",
    "         mu=FloatSlider(min=0,max=0.2,step=0.002,value=params['mu'],description='mu',\n",
    "                            style=style,layout=slider_layout,continuous_update=False,readout_format='.3f'),     \n",
    "         c_0=FloatSlider(min=0,max=1,step=0.01,value=params['c_0'],description='c_0',\n",
    "                            style=style,layout=slider_layout,continuous_update=False,readout_format='.3f'),\n",
    "         c_1=FloatSlider(min=0,max=1,step=0.001,value=params['c_1'],description='c_1',\n",
    "                            style=style,layout=slider_layout,continuous_update=False,readout_format='.3f'),\n",
    "         c_2=FloatSlider(min=0,max=5000,step=1,value=params['c_2'],description='c_2',\n",
    "                            style=style,layout=slider_layout,continuous_update=False,readout_format='.1f'),\n",
    "         logI_0=FloatSlider(min=-10,max=0,step=0.01,value=-6,description='log I_0',\n",
    "                            style=style,layout=slider_layout,continuous_update=False))"
   ]
  },
  {
   "cell_type": "markdown",
   "metadata": {},
   "source": [
    "### SC3EI3R Model"
   ]
  },
  {
   "cell_type": "markdown",
   "metadata": {},
   "source": [
    "#### Germany"
   ]
  },
  {
   "cell_type": "code",
   "execution_count": null,
   "metadata": {
    "scrolled": false
   },
   "outputs": [],
   "source": [
    "# assumed data starting on firstdate\n",
    "test_country='Germany'\n",
    "N = 80000000\n",
    "firstdate = '01/25/20'\n",
    "lastdate = '01/08/20'\n",
    "xx,xxf,yy0 = get_country_data(test_country,'confirmed',firstdate=firstdate,lastdate=lastdate)\n",
    "xx,xxf,yy1 = get_country_data(test_country,'recovered',firstdate=firstdate,lastdate=lastdate)\n",
    "xx,xxf,yy2 = get_country_data(test_country,'deaths',firstdate=firstdate,lastdate=lastdate)\n",
    "print(xxf)\n",
    "y_jhu={}\n",
    "y_jhu[test_country] = np.array([[yy0[i],yy1[i],yy2[i]] for i in range(0,len(yy0))])/N\n",
    "# data = np.array([[xxf[i],yy0[i],yy1[i],yy2[i]] for i in range(len(yy))])\n",
    "# print(data)\n",
    "lastday = len(y_jhu[test_country])\n",
    "print('days 0 to',lastday,'data stored in y_jhu')"
   ]
  },
  {
   "cell_type": "code",
   "execution_count": null,
   "metadata": {},
   "outputs": [],
   "source": [
    "len(t)"
   ]
  },
  {
   "cell_type": "code",
   "execution_count": null,
   "metadata": {},
   "outputs": [],
   "source": [
    "(1.0/TimeICUDeath)*(CFR/FracCritical)"
   ]
  },
  {
   "cell_type": "code",
   "execution_count": null,
   "metadata": {},
   "outputs": [],
   "source": [
    "model = 'SC3EI3R'\n",
    "\n",
    "# Define parameters based on clinical observations Dr. Alison\n",
    "Exposure=0.4 # Rate coefficient for exposure per individual in contact per day\n",
    "IncubPeriod=5  #Incubation period, days\n",
    "DurMildInf=10 #Duration of mild infections, days  : includes time for reg. of recovery\n",
    "FracMild=0.7  #Fraction of infections that are mild\n",
    "FracSevere=0.20 #Fraction of infections that are severe\n",
    "FracCritical=0.1 #Fraction of infections that are critical\n",
    "CFR=0.05 #Case fatality rate (fraction of infections resulting in death)\n",
    "TimeICUDeath=5 #Time from ICU admission to death, days\n",
    "DurHosp=4 #Duration of hospitalization, days  : includes 4 day reg of recovery\n",
    "\n",
    "# Model fitting extension to allow for incomplete detection\n",
    "FracConfirmedDet=1.0  # Fraction of recovered individuals measured : plots made with this parameter NYI\n",
    "FracRecoveredDet=FracConfirmedDet # Fraction of recovered individuals measured\n",
    "FracDeathsDet=1.0\n",
    "\n",
    "# Model extension by John McCaskill to include caution \n",
    "CautionFactor= 0.1 # Fractional reduction of exposure rate for cautioned individuals\n",
    "CautionRetention= 60. # Duration of cautionary state of susceptibles (2 weeks)\n",
    "CautionICUFrac= 0.1 # Fraction of ICUs occupied leading to transition to caution @ 1/day\n",
    "ICUFrac= 0.001 # Fraction of ICUs relative to population size N\n",
    "\n",
    "params = {'beta_1' : Exposure/sum(x0_SC3EI3R),\n",
    "          'beta_2' : 0.0,\n",
    "          'beta_3' : 0.0,\n",
    "          'alpha' : 1.0/IncubPeriod,\n",
    "          'gamma_1': (1.0/DurMildInf)*FracMild,\n",
    "          'gamma_2': (1.0/DurHosp)-(1/DurHosp)*(FracCritical/(FracCritical+FracSevere)),\n",
    "          'gamma_3': (1.0/TimeICUDeath)-(1/TimeICUDeath)*(CFR/FracCritical),\n",
    "          'p_1'    : (1.0/DurMildInf)-(1.0/DurMildInf)*FracMild,\n",
    "          'p_2'    : (1.0/DurHosp)*(FracCritical/(FracCritical+FracSevere)),\n",
    "          'mu'    : (1.0/TimeICUDeath)*(CFR/FracCritical),\n",
    "          'c_0'    : CautionFactor,\n",
    "          'c_1'    : 1.0/CautionRetention,\n",
    "          'c_2'    : 1.0/(sum(x0_SC3EI3R)*ICUFrac*CautionICUFrac),\n",
    "          'N'     : sum(x0_SC3EI3R)}\n",
    "\n",
    "print(params)\n",
    "SC3EI3R_model.parameters = params\n",
    "\n",
    "def slidefitplot(beta_1,mu,c_0,c_1,c_2,logI_0):\n",
    "    params={ 'beta_1':beta_1, 'mu':mu, 'c_0':c_0, 'c_1':c_1, 'c_2':c_2}\n",
    "    cmodels[model].parameters = params\n",
    "    \n",
    "    I0 = 10**logI_0\n",
    "    x0 = [1.-I0,0.,I0,0.,0.,0.,0.,0.,0.,0.,0.]\n",
    "\n",
    "    cmodels[model].initial_values = (x0,t[0])\n",
    "    weights=np.array([1.,1.,1.])\n",
    "    solveplot(smodels=[model],species=['confirmed','recovered','deaths_x10'],tmax=len(t),summing='daily',averaging='weekly',fitdata=y_jhu[test_country]*weights,scale='linear',plottitle= '',label='confirmed',newplot = True, figsize = (15,15))"
   ]
  },
  {
   "cell_type": "code",
   "execution_count": null,
   "metadata": {},
   "outputs": [],
   "source": [
    "w =interactive(slidefitplot,\n",
    "         beta_1=FloatSlider(min=0,max=1,step=0.01,value=params['beta_1'],description='beta_1',\n",
    "                            style=style,layout=slider_layout,continuous_update=False,readout_format='.3f'),\n",
    "         mu=FloatSlider(min=0,max=0.2,step=0.002,value=params['mu'],description='mu',\n",
    "                            style=style,layout=slider_layout,continuous_update=False,readout_format='.3f'),     \n",
    "         c_0=FloatSlider(min=0,max=1,step=0.01,value=params['c_0'],description='c_0',\n",
    "                            style=style,layout=slider_layout,continuous_update=False,readout_format='.3f'),\n",
    "         c_1=FloatSlider(min=0,max=1,step=0.001,value=params['c_1'],description='c_1',\n",
    "                            style=style,layout=slider_layout,continuous_update=False,readout_format='.3f'),\n",
    "         c_2=FloatSlider(min=0,max=20000,step=1,value=params['c_2'],description='c_2',\n",
    "                            style=style,layout=slider_layout,continuous_update=False,readout_format='.1f'),\n",
    "         logI_0=FloatSlider(min=-10,max=0,step=0.01,value=-6,description='log I_0',\n",
    "                            style=style,layout=slider_layout,continuous_update=False)\n",
    "         )\n",
    "display(w)"
   ]
  },
  {
   "cell_type": "code",
   "execution_count": null,
   "metadata": {},
   "outputs": [],
   "source": [
    "params=w.kwargs\n",
    "\n",
    "print(params)"
   ]
  },
  {
   "cell_type": "markdown",
   "metadata": {},
   "source": [
    "#### Italy"
   ]
  },
  {
   "cell_type": "code",
   "execution_count": null,
   "metadata": {
    "scrolled": false
   },
   "outputs": [],
   "source": [
    "# assumed data starting on firstdate\n",
    "test_country='Italy'\n",
    "N = 66650000\n",
    "firstdate = '01/25/20'\n",
    "lastdate = '01/08/20'\n",
    "xx,xxf,yy0 = get_country_data(test_country,'confirmed',firstdate=firstdate,lastdate=lastdate)\n",
    "xx,xxf,yy1 = get_country_data(test_country,'recovered',firstdate=firstdate,lastdate=lastdate)\n",
    "xx,xxf,yy2 = get_country_data(test_country,'deaths',firstdate=firstdate,lastdate=lastdate)\n",
    "print(xxf)\n",
    "y_jhu={}\n",
    "y_jhu[test_country] = np.array([[yy0[i],yy1[i],yy2[i]] for i in range(0,len(yy0))])/N\n",
    "# data = np.array([[xxf[i],yy0[i],yy1[i],yy2[i]] for i in range(len(yy))])\n",
    "# print(data)\n",
    "lastday = len(y_jhu[test_country])\n",
    "print('days 0 to',lastday,'data stored in y_jhu')"
   ]
  },
  {
   "cell_type": "code",
   "execution_count": null,
   "metadata": {},
   "outputs": [],
   "source": [
    "model = 'SC3EI3R'\n",
    "\n",
    "# Define parameters based on clinical observations Dr. Alison\n",
    "Exposure=0.4 # Rate coefficient for exposure per individual in contact per day\n",
    "IncubPeriod=5  #Incubation period, days\n",
    "DurMildInf=8 #Duration of mild infections, days\n",
    "FracMild=0.65  #Fraction of infections that are mild\n",
    "FracSevere=0.20 #Fraction of infections that are severe\n",
    "FracCritical=0.15 #Fraction of infections that are critical\n",
    "CFR=0.1 #Case fatality rate (fraction of infections resulting in death)\n",
    "TimeICUDeath=4 #Time from ICU admission to death, days\n",
    "DurHosp=4 #Duration of hospitalization, days\n",
    "\n",
    "# Model fitting extension to allow for incomplete detection\n",
    "FracConfirmedDet=0.5  # Fraction of infected individuals confirmed\n",
    "FracRecoveredDet=FracConfirmedDet # Fraction of recovered individuals measured\n",
    "FracDeathsDet=1.0\n",
    "\n",
    "# Model extension by John McCaskill to include caution \n",
    "CautionFactor= 0.1 # Fractional reduction of exposure rate for cautioned individuals\n",
    "CautionRetention= 60. # Duration of cautionary state of susceptibles (2 weeks)\n",
    "CautionICUFrac= 0.1 # Fraction of ICUs occupied leading to transition to caution @ 1/day\n",
    "ICUFrac= 0.001 # Fraction of ICUs relative to population size N\n",
    "\n",
    "params = {'beta_1' : Exposure/sum(x0_SC3EI3R),\n",
    "          'beta_2' : 0.0,\n",
    "          'beta_3' : 0.0,\n",
    "          'alpha' : 1.0/IncubPeriod,\n",
    "          'gamma_1': (1.0/DurMildInf)*FracMild,\n",
    "          'gamma_2': (1.0/DurHosp)-(1/DurHosp)*(FracCritical/(FracCritical+FracSevere)),\n",
    "          'gamma_3': (1.0/TimeICUDeath)-(1/TimeICUDeath)*(CFR/FracCritical),\n",
    "          'p_1'    : (1.0/DurMildInf)-(1.0/DurMildInf)*FracMild,\n",
    "          'p_2'    : (1.0/DurHosp)*(FracCritical/(FracCritical+FracSevere)),\n",
    "          'mu'    : (1.0/TimeICUDeath)*(CFR/FracCritical),\n",
    "          'c_0'    : CautionFactor,\n",
    "          'c_1'    : 1.0/CautionRetention,\n",
    "          'c_2'    : 1.0/(sum(x0_SC3EI3R)*ICUFrac*CautionICUFrac),\n",
    "          'N'     : sum(x0_SC3EI3R)}\n",
    "\n",
    "print(params)\n",
    "SC3EI3R_model.parameters = params\n",
    "\n",
    "def slidefitplot(beta_1,mu,c_0,c_1,c_2,logI_0):\n",
    "    params={ 'beta_1':beta_1, 'mu':mu, 'c_0':c_0, 'c_1':c_1, 'c_2':c_2}\n",
    "    cmodels[model].parameters = params\n",
    "    \n",
    "    I0 = 10**logI_0\n",
    "    x0 = [1.-I0,0.,I0,0.,0.,0.,0.,0.,0.,0.,0.]\n",
    "\n",
    "    cmodels[model].initial_values = (x0,t[0])\n",
    "    weights=np.array([1.,1.,1.])\n",
    "    solveplot(smodels=[model],species=['confirmed','recovered','deaths_x10'],tmax=len(t),summing='daily',averaging='weekly',fitdata=y_jhu[test_country]*weights,scale='linear',plottitle= '',label='confirmed',newplot = True, figsize = (15,15))"
   ]
  },
  {
   "cell_type": "code",
   "execution_count": null,
   "metadata": {},
   "outputs": [],
   "source": [
    "w =interactive(slidefitplot,\n",
    "         beta_1=FloatSlider(min=0,max=1,step=0.01,value=params['beta_1'],description='beta_1',\n",
    "                            style=style,layout=slider_layout,continuous_update=False,readout_format='.3f'),\n",
    "         mu=FloatSlider(min=0,max=0.2,step=0.002,value=params['mu'],description='mu',\n",
    "                            style=style,layout=slider_layout,continuous_update=False,readout_format='.3f'),     \n",
    "         c_0=FloatSlider(min=0,max=1,step=0.01,value=params['c_0'],description='c_0',\n",
    "                            style=style,layout=slider_layout,continuous_update=False,readout_format='.3f'),\n",
    "         c_1=FloatSlider(min=0,max=1,step=0.001,value=params['c_1'],description='c_1',\n",
    "                            style=style,layout=slider_layout,continuous_update=False,readout_format='.3f'),\n",
    "         c_2=FloatSlider(min=0,max=20000,step=1,value=params['c_2'],description='c_2',\n",
    "                            style=style,layout=slider_layout,continuous_update=False,readout_format='.1f'),\n",
    "         logI_0=FloatSlider(min=-10,max=0,step=0.01,value=-6,description='log I_0',\n",
    "                            style=style,layout=slider_layout,continuous_update=False)\n",
    "         )\n",
    "display(w)"
   ]
  },
  {
   "cell_type": "code",
   "execution_count": null,
   "metadata": {},
   "outputs": [],
   "source": [
    "params=w.kwargs\n",
    "\n",
    "print(params)"
   ]
  },
  {
   "cell_type": "markdown",
   "metadata": {},
   "source": [
    "Note that we have used 50% detection of confirmed and recovered, 100% for deaths in manual fit. \n",
    "It appears that Italy's registration of recovery, although the right overall magnitude is markedly delayed - check reporting delays.\n",
    "Italy also had at least two successive regional infections, as seen in the dual peak confirmed data, so not easy to fit with one model.\n",
    "See below for simulation of second peak."
   ]
  },
  {
   "cell_type": "code",
   "execution_count": null,
   "metadata": {},
   "outputs": [],
   "source": [
    "w =interactive(slidefitplot,\n",
    "         beta_1=FloatSlider(min=0,max=1,step=0.01,value=params['beta_1'],description='beta_1',\n",
    "                            style=style,layout=slider_layout,continuous_update=False,readout_format='.3f'),\n",
    "         mu=FloatSlider(min=0,max=0.2,step=0.002,value=params['mu'],description='mu',\n",
    "                            style=style,layout=slider_layout,continuous_update=False,readout_format='.3f'),     \n",
    "         c_0=FloatSlider(min=0,max=1,step=0.01,value=params['c_0'],description='c_0',\n",
    "                            style=style,layout=slider_layout,continuous_update=False,readout_format='.3f'),\n",
    "         c_1=FloatSlider(min=0,max=1,step=0.001,value=params['c_1'],description='c_1',\n",
    "                            style=style,layout=slider_layout,continuous_update=False,readout_format='.3f'),\n",
    "         c_2=FloatSlider(min=0,max=20000,step=1,value=params['c_2'],description='c_2',\n",
    "                            style=style,layout=slider_layout,continuous_update=False,readout_format='.1f'),\n",
    "         logI_0=FloatSlider(min=-10,max=0,step=0.01,value=-6,description='log I_0',\n",
    "                            style=style,layout=slider_layout,continuous_update=False)\n",
    "         )\n",
    "display(w)"
   ]
  },
  {
   "cell_type": "markdown",
   "metadata": {},
   "source": [
    "#### Brazil"
   ]
  },
  {
   "cell_type": "code",
   "execution_count": null,
   "metadata": {
    "scrolled": false
   },
   "outputs": [],
   "source": [
    "# assumed data starting on firstdate\n",
    "test_country='Brazil'\n",
    "N = 210000000\n",
    "firstdate = '01/25/20'\n",
    "lastdate = '01/08/20'\n",
    "xx,xxf,yy0 = get_country_data(test_country,'confirmed',firstdate=firstdate,lastdate=lastdate)\n",
    "xx,xxf,yy1 = get_country_data(test_country,'recovered',firstdate=firstdate,lastdate=lastdate)\n",
    "xx,xxf,yy2 = get_country_data(test_country,'deaths',firstdate=firstdate,lastdate=lastdate)\n",
    "print(xxf)\n",
    "y_jhu={}\n",
    "y_jhu[test_country] = np.array([[yy0[i],yy1[i],yy2[i]] for i in range(0,len(yy0))])/N\n",
    "# data = np.array([[xxf[i],yy0[i],yy1[i],yy2[i]] for i in range(len(yy))])\n",
    "# print(data)\n",
    "lastday = len(y_jhu[test_country])\n",
    "print('days 0 to',lastday,'data stored in y_jhu')"
   ]
  },
  {
   "cell_type": "code",
   "execution_count": null,
   "metadata": {},
   "outputs": [],
   "source": [
    "model = 'SC3EI3R'\n",
    "\n",
    "# Define parameters based on clinical observations Dr. Alison\n",
    "Exposure=0.4 # Rate coefficient for exposure per individual in contact per day\n",
    "IncubPeriod=5  #Incubation period, days\n",
    "DurMildInf=8 #Duration of mild infections, days\n",
    "FracMild=0.65  #Fraction of infections that are mild\n",
    "FracSevere=0.20 #Fraction of infections that are severe\n",
    "FracCritical=0.15 #Fraction of infections that are critical\n",
    "CFR=0.1 #Case fatality rate (fraction of infections resulting in death)\n",
    "TimeICUDeath=4 #Time from ICU admission to death, days\n",
    "DurHosp=8 #Duration of hospitalization, days\n",
    "\n",
    "# Model fitting extension to allow for incomplete detection\n",
    "FracConfirmedDet=0.  # Fraction of recovered individuals measured\n",
    "FracRecoveredDet=FracConfirmedDet # Fraction of recovered individuals measured\n",
    "FracDeathsDet=1.0\n",
    "\n",
    "# Model extension by John McCaskill to include caution \n",
    "CautionFactor= 0.1 # Fractional reduction of exposure rate for cautioned individuals\n",
    "CautionRetention= 60. # Duration of cautionary state of susceptibles (2 weeks)\n",
    "CautionICUFrac= 0.1 # Fraction of ICUs occupied leading to transition to caution @ 1/day\n",
    "ICUFrac= 0.001 # Fraction of ICUs relative to population size N\n",
    "\n",
    "params = {'beta_1' : Exposure/sum(x0_SC3EI3R),\n",
    "          'beta_2' : 0.0,\n",
    "          'beta_3' : 0.0,\n",
    "          'alpha' : 1.0/IncubPeriod,\n",
    "          'gamma_1': (1.0/DurMildInf)*FracMild,\n",
    "          'gamma_2': (1.0/DurHosp)-(1/DurHosp)*(FracCritical/(FracCritical+FracSevere)),\n",
    "          'gamma_3': (1.0/TimeICUDeath)-(1/TimeICUDeath)*(CFR/FracCritical),\n",
    "          'p_1'    : (1.0/DurMildInf)-(1.0/DurMildInf)*FracMild,\n",
    "          'p_2'    : (1.0/DurHosp)*(FracCritical/(FracCritical+FracSevere)),\n",
    "          'mu'    : (1.0/TimeICUDeath)*(CFR/FracCritical),\n",
    "          'c_0'    : CautionFactor,\n",
    "          'c_1'    : 1.0/CautionRetention,\n",
    "          'c_2'    : 1.0/(sum(x0_SC3EI3R)*ICUFrac*CautionICUFrac),\n",
    "          'N'     : sum(x0_SC3EI3R)}\n",
    "\n",
    "print(params)\n",
    "SC3EI3R_model.parameters = params\n",
    "\n",
    "def slidefitplot(beta_1,mu,c_0,c_1,c_2,logI_0):\n",
    "    params={ 'beta_1':beta_1, 'mu':mu, 'c_0':c_0, 'c_1':c_1, 'c_2':c_2}\n",
    "    cmodels[model].parameters = params\n",
    "    \n",
    "    I0 = 10**logI_0\n",
    "    x0 = [1.-I0,0.,I0,0.,0.,0.,0.,0.,0.,0.,0.]\n",
    "\n",
    "    cmodels[model].initial_values = (x0,t[0])\n",
    "    weights=np.array([1.,1.,1.])\n",
    "    solveplot(smodels=[model],species=['confirmed','recovered','deaths_x10'],tmax=len(t),summing='cumulative',averaging='weekly',fitdata=y_jhu[test_country]*weights,scale='linear',plottitle= '',label='confirmed',newplot = True, figsize = (15,15))"
   ]
  },
  {
   "cell_type": "code",
   "execution_count": null,
   "metadata": {},
   "outputs": [],
   "source": [
    "w =interactive(slidefitplot,\n",
    "         beta_1=FloatSlider(min=0,max=1,step=0.01,value=params['beta_1'],description='beta_1',\n",
    "                            style=style,layout=slider_layout,continuous_update=False,readout_format='.3f'),\n",
    "         mu=FloatSlider(min=0,max=0.2,step=0.002,value=params['mu'],description='mu',\n",
    "                            style=style,layout=slider_layout,continuous_update=False,readout_format='.3f'),     \n",
    "         c_0=FloatSlider(min=0,max=1,step=0.01,value=params['c_0'],description='c_0',\n",
    "                            style=style,layout=slider_layout,continuous_update=False,readout_format='.3f'),\n",
    "         c_1=FloatSlider(min=0,max=1,step=0.001,value=params['c_1'],description='c_1',\n",
    "                            style=style,layout=slider_layout,continuous_update=False,readout_format='.3f'),\n",
    "         c_2=FloatSlider(min=0,max=20000,step=1,value=params['c_2'],description='c_2',\n",
    "                            style=style,layout=slider_layout,continuous_update=False,readout_format='.1f'),\n",
    "         logI_0=FloatSlider(min=-10,max=0,step=0.01,value=-6,description='log I_0',\n",
    "                            style=style,layout=slider_layout,continuous_update=False)\n",
    "         )\n",
    "display(w)"
   ]
  },
  {
   "cell_type": "markdown",
   "metadata": {},
   "source": [
    "The Brazil data shows that death is not as delayed as assumed. The process of progression is perhaps less clearly documented."
   ]
  },
  {
   "cell_type": "markdown",
   "metadata": {},
   "source": [
    "### SC3UEIR Model"
   ]
  },
  {
   "cell_type": "code",
   "execution_count": null,
   "metadata": {},
   "outputs": [],
   "source": [
    "# assumed data starting on firstdate\n",
    "test_country='US'\n",
    "N = 66650000\n",
    "firstdate = '01/25/20'\n",
    "lastdate = '01/08/20'\n",
    "xx,xxf,yy0 = get_country_data(test_country,'confirmed',firstdate=firstdate,lastdate=lastdate)\n",
    "xx,xxf,yy1 = get_country_data(test_country,'recovered',firstdate=firstdate,lastdate=lastdate)\n",
    "xx,xxf,yy2 = get_country_data(test_country,'deaths',firstdate=firstdate,lastdate=lastdate)\n",
    "print(xxf)\n",
    "y_jhu={}\n",
    "y_jhu[test_country] = np.array([[yy0[i],yy1[i],yy2[i]] for i in range(0,len(yy0))])/N\n",
    "# data = np.array([[xxf[i],yy0[i],yy1[i],yy2[i]] for i in range(len(yy))])\n",
    "# print(data)\n",
    "lastday = len(y_jhu[test_country])\n",
    "print('days 0 to',lastday,'data stored in y_jhu')"
   ]
  },
  {
   "cell_type": "code",
   "execution_count": null,
   "metadata": {},
   "outputs": [],
   "source": [
    "model = 'SC3UEIR'\n",
    "I_0 =  0.00003\n",
    "x0_SC3UEIR = [1.0-I_0, I_0, 0.0, 0.0, 0.0, 0.0, 0.0, 0.0, 0.0, 1.0]\n",
    "SC3UEIR_model.initial_values = (x0_SC3UEIR, t[0])\n",
    "\n",
    "# Define parameters based on clinical observations Dr. Alison\n",
    "Exposure=0.4 # Rate coefficient for exposure per individual in contact per day\n",
    "IncubPeriod=5  #Incubation period, days\n",
    "DurMildInf=8 #Duration of mild infections, days\n",
    "FracMild=0.65  #Fraction of infections that are mild\n",
    "FracSevere=0.20 #Fraction of infections that are severe\n",
    "FracCritical=0.15 #Fraction of infections that are critical\n",
    "CFR=0.1 #Case fatality rate (fraction of infections resulting in death)\n",
    "TimeICUDeath=4 #Time from ICU admission to death, days\n",
    "DurHosp=8 #Duration of hospitalization, days\n",
    "\n",
    "# Model fitting extension to allow for incomplete detection\n",
    "FracConfirmedDet=0.5  # Fraction of recovered individuals measured\n",
    "FracRecoveredDet=FracConfirmedDet # Fraction of recovered individuals measured\n",
    "FracDeathsDet=1.0\n",
    "\n",
    "# Model extension by John McCaskill to include caution \n",
    "CautionFactor= 0.1 # Fractional reduction of exposure rate for cautioned individuals\n",
    "CautionRetention= 60. # Duration of cautionary state of susceptibles (2 weeks)\n",
    "CautionICUFrac= 0.1 # Fraction of ICUs occupied leading to transition to caution @ 1/day\n",
    "ICUFrac= 0.001 # Fraction of ICUs relative to population size N\n",
    "\n",
    "# Model extension by John McCaskill to include economic influence on caution \n",
    "EconomicCostOfCaution= 0.5 # Fractional reduction of economic contribution for cautioned individuals\n",
    "\n",
    "p = [0,(1.0/DurMildInf)-(1.0/DurMildInf)*FracMild,  (1.0/DurHosp)*(FracCritical/(FracCritical+FracSevere))]\n",
    "g = [0,(1.0/DurMildInf)*FracMild,   (1.0/DurHosp)-(1/DurHosp)*(FracCritical/(FracCritical+FracSevere)),\n",
    "           (1.0/TimeICUDeath)-(1/TimeICUDeath)*(CFR/FracCritical)]\n",
    "u = (1.0/TimeICUDeath)*(CFR/FracCritical)\n",
    "                \n",
    "params = {'beta' : Exposure/sum(x0_SC3UEIR),\n",
    "          'alpha' : 1.0/IncubPeriod,\n",
    "          'gamma' :  g[1]+g[2]*(p[1]/(g[2]+p[2]))+g[3]*(p[1]/(g[2]+p[2]))*(p[2]/(g[3]+u)),\n",
    "          'mu'     : u*(p[1]/(g[2]+p[2])*(p[2]/(g[3]+u))),\n",
    "          'c_0'    : CautionFactor,\n",
    "          'c_1'    : 1.0/CautionRetention,\n",
    "          'c_2'    : 1.0/(sum(x0_SC3UEIR)*ICUFrac*CautionICUFrac),\n",
    "          'N'      : sum(x0_SC3UEIR),\n",
    "          'k_u'    : 1.0/CautionRetention,\n",
    "          'k_1'    : 1.0/CautionRetention,\n",
    "          'k_w'    : 1.0/CautionRetention,\n",
    "          'kappa'  : EconomicCostOfCaution}\n",
    "\n",
    "print(params)\n",
    "SC3UEIR_model.parameters = params.copy()\n",
    "# solution = SCIR_model.integrate(t[1::])\n",
    "\n",
    "def slidefitplot(beta,alpha,gamma,mu,c_0,c_1,c_2,logI_0,k_u,k_1,k_w,kappa):\n",
    "    params={ 'beta':beta, 'alpha':alpha, 'gamma':gamma, 'mu':mu, 'c_0':c_0, 'c_1':c_1, 'c_2':c_2, 'k_u':k_u, 'k_1':k_1, 'k_w':k_w, 'kappa':kappa}\n",
    "    cmodels[model].parameters = params\n",
    "    \n",
    "    I0 = 10**logI_0\n",
    "    x0 = [1.-I0,0.,I0,0.,0.,0.,0.,0.,0.,1.]\n",
    "\n",
    "    cmodels[model].initial_values = (x0,t[0])\n",
    "    weights=np.array([1.,1.,1.])\n",
    "    solveplot(smodels=[model],species=['confirmed','recovered','deaths_x10'],tmax=len(t),summing='daily',averaging='weekly',fitdata=y_jhu[test_country]*weights,scale='linear',plottitle= '',label='confirmed',newplot = True, figsize = (15,15))"
   ]
  },
  {
   "cell_type": "code",
   "execution_count": null,
   "metadata": {},
   "outputs": [],
   "source": [
    "interact(slidefitplot,\n",
    "         beta=FloatSlider(min=0,max=1,step=0.01,value=params['beta'],description='beta',\n",
    "                            style=style,layout=slider_layout,continuous_update=False,readout_format='.3f'),\n",
    "         alpha=FloatSlider(min=0,max=1,step=0.01,value=params['alpha'],description='alpha',\n",
    "                            style=style,layout=slider_layout,continuous_update=False,readout_format='.3f'),\n",
    "         gamma=FloatSlider(min=0,max=1,step=0.01,value=params['gamma'],description='gamma',\n",
    "                            style=style,layout=slider_layout,continuous_update=False,readout_format='.3f'),\n",
    "         mu=FloatSlider(min=0,max=0.2,step=0.002,value=params['mu'],description='mu',\n",
    "                            style=style,layout=slider_layout,continuous_update=False,readout_format='.3f'),     \n",
    "         c_0=FloatSlider(min=0,max=1,step=0.01,value=params['c_0'],description='c_0',\n",
    "                            style=style,layout=slider_layout,continuous_update=False,readout_format='.3f'),\n",
    "         c_1=FloatSlider(min=0,max=1,step=0.001,value=params['c_1'],description='c_1',\n",
    "                            style=style,layout=slider_layout,continuous_update=False,readout_format='.3f'),\n",
    "         c_2=FloatSlider(min=0,max=5000,step=1,value=params['c_2'],description='c_2',\n",
    "                            style=style,layout=slider_layout,continuous_update=False,readout_format='.1f'),\n",
    "         logI_0=FloatSlider(min=-10,max=0,step=0.01,value=-6,description='log I_0',\n",
    "                            style=style,layout=slider_layout,continuous_update=False),\n",
    "         k_u=FloatSlider(min=0,max=1,step=0.001,value=params['k_u'],description='k_u',\n",
    "                            style=style,layout=slider_layout,continuous_update=False,readout_format='.3f'),\n",
    "         k_1=FloatSlider(min=0,max=1,step=0.001,value=params['k_1'],description='k_1',\n",
    "                            style=style,layout=slider_layout,continuous_update=False,readout_format='.3f'),\n",
    "         k_w=FloatSlider(min=0,max=1,step=0.001,value=params['k_w'],description='k_w',\n",
    "                            style=style,layout=slider_layout,continuous_update=False,readout_format='.3f'),     \n",
    "         kappa=FloatSlider(min=0,max=1,step=0.001,value=params['kappa'],description='kappa',\n",
    "                            style=style,layout=slider_layout,continuous_update=False,readout_format='.3f'))"
   ]
  },
  {
   "cell_type": "markdown",
   "metadata": {},
   "source": [
    "## Fit SC3EI3R parameters to jhu data based on square_loss"
   ]
  },
  {
   "cell_type": "markdown",
   "metadata": {
    "slideshow": {
     "slide_type": "slide"
    }
   },
   "source": [
    "### Fit c_0 , c_1 and c_2 as well as initial value of I_1"
   ]
  },
  {
   "cell_type": "code",
   "execution_count": null,
   "metadata": {},
   "outputs": [],
   "source": [
    "SC3EI3R_model.parameters"
   ]
  },
  {
   "cell_type": "code",
   "execution_count": null,
   "metadata": {
    "code_folding": []
   },
   "outputs": [],
   "source": [
    "# Initial guess of parameters and initial condition, and bounding constraints\n",
    "I0 =10**-6.43\n",
    "x0_SC3EI3R = [1.-I0,0.,I0,0.,0.,0.,0.,0.,0.,0.,0.]\n",
    "SC3EI3R_model.parameters={'beta_1': 0.41, 'mu': 0.079, 'c_0': 0.1, 'c_1': 0.030303030303030304, 'c_2': 11170.0}\n",
    "cautionparams = list(params.values())[-4:-1]\n",
    "theta = [0.1,0.07,8000.] # cautionparams\n",
    "boxBounds = [(0.05,0.4),(0.05,0.15),(1000.,200000.)]\n",
    "# set up optimization function with cost and sensitivity (Jacobian)\n",
    "objSC3EI3R = SquareLoss(theta=theta, ode=SC3EI3R_model, x0=x0_SC3EI3R, t0=t[0], t=t[1::], y=y_jhu[test_country][1::,:],\n",
    "                      state_weight=[1.,1.,10.],state_name=['C_f','R','D'],\n",
    "                      target_param=['c_0','c_1','c_2'],target_state=['I_1'])\n",
    "# perform optimization\n",
    "res = minimize(fun=objSC3EI3R.costIV,\n",
    "                jac=objSC3EI3R.sensitivityIV,\n",
    "                x0=theta+[I0],\n",
    "                bounds=boxBounds+[(0.0000001,0.0001)],\n",
    "                #method='BFGS',\n",
    "                method='SLSQP',\n",
    "                #options={'disp':True,'maxiter':1000,'eps':0.01,'gtol':0.01})\n",
    "                #options={'disp':True})\n",
    "                options={'disp':True,'maxiter':1000,'eps':0.001,'ftol':0.001})\n",
    "print(res)"
   ]
  },
  {
   "cell_type": "code",
   "execution_count": null,
   "metadata": {
    "scrolled": true
   },
   "outputs": [],
   "source": [
    "# model with fitted parameters \n",
    "print(params)\n",
    "print(x0_SC3EI3R)\n",
    "params_fit = params.copy()\n",
    "#params_fit['c_0'] = res.x[0]\n",
    "#params_fit['c_1'] = res.x[1]\n",
    "\n",
    "SC3EI3R_model.params = params_fit\n",
    "print(SC3EI3R_model.params)\n",
    "#ode_fit = common_models.SEI3R({'beta':res.x[0], 'gamma':res.x[1],'alpha':res.x[2]})\n",
    "#x0_fit = [1-1.27e-6, 1.27e-6, 0]\n",
    "x0_fit = x0_SC3EI3R.copy()\n",
    "#x0_fit[2] = res.x[2]\n",
    "#t_fit = numpy.linspace(0, 150, 1000)\n",
    "t_fit = t\n",
    "SC3EI3R_model.initial_values = (x0_fit, t_fit[0])\n",
    "# %timeit sol_fit =SCEI3R_model.integrate(t_fit[1::]) # use magic %timeit to time\n",
    "# sol_fit =SCEI3R_model.integrate(t_fit[0::])\n",
    "sol_fit = scipy.integrate.odeint(SC3EI3R_model.ode, x0_fit, t_fit[1::])\n",
    "#\n",
    "plt.figure(figsize=(15,10))\n",
    "plt.plot(t,ynoise[:,0], 'o',color='lightgreen') # infected observations\n",
    "plt.plot(t,ynoise[:,1], 'o',color='green') # infected observations\n",
    "plt.plot(t,ynoise[:,2], 'o',color='darkgreen') # infected observations\n",
    "plt.plot(t,ynoise[:,3], 'bo') # recoverd\n",
    "plt.plot(t,ynoise[:,4], 'ro') # died\n",
    "plt.plot(t_fit[1::], sol_fit)\n",
    "plt.ylim([0,0.004])\n",
    "#plt.show(())\n",
    "#ode_fit.plot()\n",
    "\n",
    "peak_i = np.argmax(sol_fit[:,2])\n",
    "print('Peak infection (days)', t_fit[peak_i])"
   ]
  },
  {
   "cell_type": "markdown",
   "metadata": {},
   "source": [
    "## Testing fitting"
   ]
  },
  {
   "cell_type": "markdown",
   "metadata": {},
   "source": [
    "### Generate test data based on SCEI3R simulation"
   ]
  },
  {
   "cell_type": "code",
   "execution_count": null,
   "metadata": {},
   "outputs": [],
   "source": [
    "# Add noise\n",
    "y = solution[:,2:7].copy()\n",
    "#print('len(y)',len(y),'t',len(t),t[0],t[1],'...',t[-1])\n",
    "np.random.seed(seed=6)\n",
    "noise = np.random.normal(0,1.e-2,[len(t),5])\n",
    "# ynoise = y *(1+noise)\n",
    "ynoise = y *(1.0 + noise)\n",
    "ynoise[ynoise<0] = 0\n",
    "plt.figure(figsize=(15,10))\n",
    "plt.plot(t,ynoise[:,0], 'go', label='I_1') \n",
    "plt.plot(t,ynoise[:,1], 'go', label='I_2') \n",
    "plt.plot(t,ynoise[:,2], 'go', label='I_3') \n",
    "plt.plot(t,ynoise[:,3], 'bo', label='R') \n",
    "plt.plot(t,ynoise[:,4], 'ro', label='D') \n",
    "plt.plot(t,y[:,0], 'g', label='I_1') \n",
    "plt.plot(t,y[:,1], 'g', label='I_2') \n",
    "plt.plot(t,y[:,2], 'g', label='I_3') \n",
    "plt.plot(t,y[:,3], 'b', label='R') \n",
    "plt.plot(t,y[:,4], 'r', label='D') \n",
    "plt.legend()\n",
    "plt.ylim(0,0.003)\n",
    "plt.show()"
   ]
  },
  {
   "cell_type": "code",
   "execution_count": null,
   "metadata": {
    "scrolled": true
   },
   "outputs": [],
   "source": [
    "# model with generating parameters \n",
    "print(params)\n",
    "params_fit = params.copy()\n",
    "print(params_fit['c_0'],params_fit['c_1'])\n",
    "SCEI3R_model.params = params_fit\n",
    "\n",
    "x0_fit = x0_SCEI3R.copy()\n",
    "print(x0_fit)\n",
    "#t_fit = numpy.linspace(0, 150, 1000)\n",
    "\n",
    "t_fit = t\n",
    "SCEI3R_model.initial_values = (x0_fit, t_fit[0])\n",
    "# %timeit sol_fit =SCEI3R_model.integrate(t_fit[1::]) # use magic %timeit to time\n",
    "sol_fit = scipy.integrate.odeint(SCEI3R_model.ode, x0_fit, t_fit[1::])\n",
    "# print(len(sol_fit[0]))\n",
    "#\n",
    "plt.figure(figsize=(15,10))\n",
    "plt.plot(t,ynoise[:,0], 'go',label='I_1') # infected observations\n",
    "plt.plot(t,ynoise[:,1], 'go',label='I_2') # infected observations\n",
    "plt.plot(t,ynoise[:,2], 'go',label='I_3') # infected observations\n",
    "plt.plot(t,ynoise[:,3], 'bo',label='R') # recoverd\n",
    "plt.plot(t,ynoise[:,4], 'ro',label='D') # died\n",
    "plt.gca().set_prop_cycle(color=['grey','orange','green','green','green','blue','red', 'black'])\n",
    "plt.plot(t_fit[1::], sol_fit)\n",
    "plt.ylim([0,0.004])\n",
    "plt.legend()\n",
    "#plt.show(())\n",
    "#ode_fit.plot()\n",
    "\n",
    "peak_i = np.argmax(sol_fit[:,2])\n",
    "print('Peak infection (days)', t_fit[peak_i])"
   ]
  },
  {
   "cell_type": "code",
   "execution_count": null,
   "metadata": {
    "scrolled": true
   },
   "outputs": [],
   "source": [
    "params # use list(...) to convert to list"
   ]
  },
  {
   "cell_type": "markdown",
   "metadata": {},
   "source": [
    "### Fit parameters to randomized simulation data based on square_loss"
   ]
  },
  {
   "cell_type": "markdown",
   "metadata": {},
   "source": [
    "#### Fit c_0 and c_1 only"
   ]
  },
  {
   "cell_type": "code",
   "execution_count": null,
   "metadata": {},
   "outputs": [],
   "source": [
    "# Initial guess of parameters, and bounding constraints\n",
    "cautionparams = list(params.values())[-4:-2]\n",
    "theta = [value for value in cautionparams]\n",
    "theta = [0.21,0.08]\n",
    "boxBounds = [(0.2,0.4),(0.05,0.15)]\n",
    "objSCEI3R = SquareLoss(theta=theta, ode=SCEI3R_model, x0=x0_SCEI3R, t0=t[0], t=t[1::], y=ynoise[1::,:],\n",
    "                      state_weight=[1.,1.,1.,1.0,1.0],state_name=['I_1','I_2','I_3','R','D'],\n",
    "                      target_param=['c_0','c_1'])\n",
    "# perform optimization\n",
    "res = minimize(fun=objSCEI3R.cost,\n",
    "                jac=objSCEI3R.sensitivity,\n",
    "                x0=theta,\n",
    "                #bounds=boxBounds,\n",
    "                method='BFGS',\n",
    "                options={'disp':True,'maxiter':1000,'eps':0.00001})# ,'ftol':0.01})  #not BFGS\n",
    "print(res)"
   ]
  },
  {
   "cell_type": "markdown",
   "metadata": {},
   "source": [
    "#### Fit c_0 and c_1 as well as initial value of E"
   ]
  },
  {
   "cell_type": "markdown",
   "metadata": {},
   "source": [
    "##### Fit c_0 and c_1 as well as initial value of E with 'SLSQP'\n",
    "does not work well\n",
    "note use of special methods IV for initial value fitting of target_state"
   ]
  },
  {
   "cell_type": "code",
   "execution_count": null,
   "metadata": {},
   "outputs": [],
   "source": [
    "# Initial guess of parameters and initial condition, and bounding constraints\n",
    "cautionparams = list(params.values())[-4:-2]\n",
    "theta = [0.25,0.08]\n",
    "boxBounds = [(0.2,0.4),(0.05,0.15)]\n",
    "objSCEI3R = SquareLoss(theta=theta, ode=SCEI3R_model, x0=x0_SCEI3R, t0=t[0], t=t[1::], y=ynoise[1::,:],\n",
    "                      state_weight=[1.,1.,1.,1.,1.],state_name=['I_1','I_2','I_3','R','D'],\n",
    "                      target_param=['c_0','c_1'],target_state=['E'])\n",
    "# perform optimization\n",
    "res = minimize(fun=objSCEI3R.costIV,\n",
    "                jac=objSCEI3R.sensitivityIV,\n",
    "                x0=theta+[0.00005],\n",
    "                #bounds=boxBounds+[(0.0000001,0.001)],\n",
    "                method='SLSQP',\n",
    "                options={'disp':True,'maxiter':1000,'eps':0.01,'ftol':0.01})\n",
    "print(res)"
   ]
  },
  {
   "cell_type": "markdown",
   "metadata": {},
   "source": [
    "##### Fit c_0 and c_1 as well as initial value of E with BFGS\n",
    "works well:  no constraints and gtol not ftol"
   ]
  },
  {
   "cell_type": "code",
   "execution_count": null,
   "metadata": {
    "code_folding": [
     8
    ]
   },
   "outputs": [],
   "source": [
    "# Initial guess of parameters and initial condition, and bounding constraints\n",
    "cautionparams = list(params.values())[-4:-2]\n",
    "theta = [0.25,0.08]\n",
    "boxBounds = [(0.2,0.4),(0.05,0.15)]\n",
    "objSCEI3R = SquareLoss(theta=theta, ode=SCEI3R_model, x0=x0_SCEI3R, t0=t[0], t=t[1::], y=ynoise[1::,:],\n",
    "                      state_weight=[1.,1.,1.,1.,1.],state_name=['I_1','I_2','I_3','R','D'],\n",
    "                      target_param=['c_0','c_1'],target_state=['E'])\n",
    "# perform optimization\n",
    "res = minimize(fun=objSCEI3R.costIV,\n",
    "                jac=objSCEI3R.sensitivityIV,\n",
    "                x0=theta+[0.00005],\n",
    "                #bounds=boxBounds+[(0.0000001,0.001)],\n",
    "                method='BFGS',\n",
    "                options={'disp':True,'maxiter':1000,'eps':0.01,'gtol':0.01})\n",
    "print(res)"
   ]
  },
  {
   "cell_type": "code",
   "execution_count": null,
   "metadata": {
    "scrolled": true
   },
   "outputs": [],
   "source": [
    "# model with fitted parameters \n",
    "print(params)\n",
    "print(x0_SCEI3R)\n",
    "params_fit = params.copy()\n",
    "#params_fit['c_0'] = res.x[0]\n",
    "#params_fit['c_1'] = res.x[1]\n",
    "\n",
    "SCEI3R_model.params = params_fit\n",
    "print(SCEI3R_model.params)\n",
    "#ode_fit = common_models.SEI3R({'beta':res.x[0], 'gamma':res.x[1],'alpha':res.x[2]})\n",
    "#x0_fit = [1-1.27e-6, 1.27e-6, 0]\n",
    "x0_fit = x0.copy()\n",
    "#x0_fit[2] = res.x[2]\n",
    "#t_fit = numpy.linspace(0, 150, 1000)\n",
    "t_fit = t\n",
    "SCEI3R_model.initial_values = (x0_fit, t_fit[0])\n",
    "# %timeit sol_fit =SCEI3R_model.integrate(t_fit[1::]) # use magic %timeit to time\n",
    "# sol_fit =SCEI3R_model.integrate(t_fit[0::])\n",
    "sol_fit = scipy.integrate.odeint(SCEI3R_model.ode, x0_fit, t_fit[1::])\n",
    "#\n",
    "plt.figure(figsize=(15,10))\n",
    "plt.plot(t,ynoise[:,0], 'go') # infected observations\n",
    "plt.plot(t,ynoise[:,1], 'go') # infected observations\n",
    "plt.plot(t,ynoise[:,2], 'go') # infected observations\n",
    "plt.plot(t,ynoise[:,3], 'bo') # recoverd\n",
    "plt.plot(t,ynoise[:,4], 'ro') # died\n",
    "plt.plot(t_fit[1::], sol_fit)\n",
    "plt.ylim([0,0.004])\n",
    "#plt.show(())\n",
    "#ode_fit.plot()\n",
    "\n",
    "peak_i = np.argmax(sol_fit[:,2])\n",
    "print('Peak infection (days)', t_fit[peak_i])"
   ]
  },
  {
   "cell_type": "markdown",
   "metadata": {},
   "source": [
    "##### Fit c_0 and c_1 as well as initial value of E using L-BFGS-B\n",
    "this method does not work well"
   ]
  },
  {
   "cell_type": "code",
   "execution_count": null,
   "metadata": {},
   "outputs": [],
   "source": [
    "# Initial guess of parameters and initial condition, and bounding constraints\n",
    "cautionparams = list(params.values())[-4:-2]\n",
    "theta = [0.25,0.08]\n",
    "boxBounds = [(0.2,0.4),(0.05,0.15)]\n",
    "objSCEI3R = SquareLoss(theta=theta, ode=SCEI3R_model, x0=x0_SCEI3R, t0=t[0], t=t[1::], y=ynoise[1::,:],\n",
    "                      state_weight=[1.,1.,1.,1.,1.],state_name=['I_1','I_2','I_3','R','D'],\n",
    "                      target_param=['c_0','c_1'],target_state=['E'])\n",
    "# perform optimization\n",
    "res = minimize(fun=objSCEI3R.costIV,\n",
    "                jac=objSCEI3R.sensitivityIV,\n",
    "                x0=theta+[0.00005],\n",
    "                bounds=boxBounds+[(0.0000001,0.001)],\n",
    "                method='L-BFGS-B',\n",
    "                options={'disp':True,'maxiter':1000,'eps':0.0001,'ftol':0.001})\n",
    "print(res)"
   ]
  },
  {
   "cell_type": "code",
   "execution_count": null,
   "metadata": {},
   "outputs": [],
   "source": [
    "objSCEI3R.residual()"
   ]
  },
  {
   "cell_type": "markdown",
   "metadata": {},
   "source": [
    "##### Fit c_0 and c_1 as well as initial value of E with Nelder-Mead\n",
    "no use of Jacobian and no constraints"
   ]
  },
  {
   "cell_type": "code",
   "execution_count": null,
   "metadata": {},
   "outputs": [],
   "source": [
    "# Initial guess of parameters and initial condition, and bounding constraints\n",
    "cautionparams = list(params.values())[-4:-2]\n",
    "theta = [0.25,0.08]\n",
    "boxBounds = [(0.2,0.4),(0.05,0.15)]\n",
    "objSCEI3R = SquareLoss(theta=theta, ode=SCEI3R_model, x0=x0_SCEI3R, t0=t[0], t=t[1::], y=ynoise[1::,:],\n",
    "                      state_weight=[1.,1.,1.,1.,1.],state_name=['I_1','I_2','I_3','R','D'],\n",
    "                      target_param=['c_0','c_1'],target_state=['E'])\n",
    "# perform optimization\n",
    "res = minimize(fun=objSCEI3R.costIV,\n",
    "                #jac=objSCEI3R.sensitivityIV,\n",
    "                x0=theta+[0.00005],\n",
    "                #bounds=boxBounds+[(0.0000001,0.001)],\n",
    "                method='Nelder-Mead',\n",
    "                options={'disp':True,'maxiter':1000}) #,'eps':0.0001,'ftol':0.01}) #not NM\n",
    "print(res)"
   ]
  },
  {
   "cell_type": "code",
   "execution_count": null,
   "metadata": {
    "scrolled": true
   },
   "outputs": [],
   "source": [
    "# model with fitted parameters \n",
    "print(params)\n",
    "print(x0_SCEI3R)\n",
    "params_fit = params.copy()\n",
    "#params_fit['c_0'] = res.x[0]\n",
    "#params_fit['c_1'] = res.x[1]\n",
    "\n",
    "SCEI3R_model.params = params_fit\n",
    "print(SCEI3R_model.params)\n",
    "#ode_fit = common_models.SEI3R({'beta':res.x[0], 'gamma':res.x[1],'alpha':res.x[2]})\n",
    "#x0_fit = [1-1.27e-6, 1.27e-6, 0]\n",
    "x0_fit = x0_SCEI3R.copy()\n",
    "#x0_fit[2] = res.x[2]\n",
    "#t_fit = numpy.linspace(0, 150, 1000)\n",
    "t_fit = t\n",
    "SCEI3R_model.initial_values = (x0_fit, t_fit[0])\n",
    "# %timeit sol_fit =SCEI3R_model.integrate(t_fit[1::]) # use magic %timeit to time\n",
    "# sol_fit =SCEI3R_model.integrate(t_fit[0::])\n",
    "sol_fit = scipy.integrate.odeint(SCEI3R_model.ode, x0_fit, t_fit[1::])\n",
    "#\n",
    "plt.figure(figsize=(15,10))\n",
    "plt.plot(t,ynoise[:,0], 'go') # infected observations\n",
    "plt.plot(t,ynoise[:,1], 'go') # infected observations\n",
    "plt.plot(t,ynoise[:,2], 'go') # infected observations\n",
    "plt.plot(t,ynoise[:,3], 'bo') # recoverd\n",
    "plt.plot(t,ynoise[:,4], 'ro') # died\n",
    "plt.plot(t_fit[1::], sol_fit)\n",
    "plt.ylim([0,0.004])\n",
    "#plt.show(())\n",
    "#ode_fit.plot()\n",
    "\n",
    "peak_i = np.argmax(sol_fit[:,2])\n",
    "print('Peak infection (days)', t_fit[peak_i])"
   ]
  },
  {
   "cell_type": "markdown",
   "metadata": {},
   "source": [
    "## Fit SC2IR parameters to jhu data based on square_loss"
   ]
  },
  {
   "cell_type": "code",
   "execution_count": null,
   "metadata": {},
   "outputs": [],
   "source": [
    "params=SC2IR_model.parameters\n",
    "print(params)"
   ]
  },
  {
   "cell_type": "code",
   "execution_count": null,
   "metadata": {
    "code_folding": []
   },
   "outputs": [],
   "source": [
    "# Initial guess of parameters and initial condition, and bounding constraints\n",
    "theta = [0.4,0.11,0.007,0.33,0.228,275.]\n",
    "boxBounds = [(0.2,0.5),(0.05,0.15),(0.005,0.015),(0.25,0.55),(0.15,0.4),(5.,2000.)]\n",
    "# setup cost function and Jacobian with target parameters and initial states\n",
    "objSC2IR = SquareLoss(theta=theta, ode=SC2IR_model, x0=x0, t0=t[0], t=t[1::], y=y_jhu[test_country][1::,1:3],\n",
    "                      state_weight=[0.2,1.],state_name=['R','D'],\n",
    "                      target_param=['beta','gamma','mu','c_0','c_1','c_2'],\n",
    "                      target_state=['I'])\n",
    "# perform optimization\n",
    "res = minimize(fun=objSC2IR.costIV,\n",
    "                jac=objSC2IR.sensitivityIV,\n",
    "                x0=theta+[0.000000001],\n",
    "                bounds=boxBounds+[(0.0000000001,0.000001)],\n",
    "                # method='L-BFGS-B',\n",
    "                # method='Nelder-Mead',\n",
    "                #options={'disp':True,'maxiter':1000,'eps':0.01,'gtol':0.01})\n",
    "                options={'disp':True,'maxiter':1000,'eps':0.000001,'ftol':0.000000001})\n",
    "print(res)"
   ]
  },
  {
   "cell_type": "code",
   "execution_count": null,
   "metadata": {
    "scrolled": true
   },
   "outputs": [],
   "source": [
    "# model with fitted parameters \n",
    "startparams = SC2IR_model.parameters.copy()  # save starting parameters (not fit)\n",
    "print(params)\n",
    "print(x0)\n",
    "params_fit = params.copy()\n",
    "params_fit['beta'] = res.x[0]\n",
    "params_fit['gamma'] = res.x[1]\n",
    "params_fit['mu'] = res.x[2]\n",
    "params_fit['c_0'] = res.x[3]\n",
    "params_fit['c_1'] = res.x[4]\n",
    "params_fit['c_2'] = res.x[5]\n",
    "\n",
    "SC2IR_model.params = params_fit\n",
    "print(SC2IR_model.params)\n",
    "x0_fit = x0.copy()\n",
    "x0_fit[1] = res.x[6]\n",
    "t_fit = t\n",
    "SC2IR_model.initial_values = (x0_fit, t_fit[0])\n",
    "sol_fit = scipy.integrate.odeint(SC2IR_model.ode, x0_fit, t_fit[1::])\n",
    "#\n",
    "plt.figure(figsize=(15,10))\n",
    "plt.semilogy()\n",
    "plt.ylim([0.000001,1])\n",
    "plt.plot(t,y_jhu[test_country][:,1], 'bo',label='R')  # recovered\n",
    "plt.semilogy()\n",
    "plt.ylim([0.000001,1])\n",
    "plt.plot(t,y_jhu[test_country][:,2], 'ro',label='D')  # died\n",
    "plt.semilogy()\n",
    "plt.ylim([0.000001,1])\n",
    "\n",
    "plt.gca().set_prop_cycle(color=['grey','green','blue','red', 'black'])\n",
    "plt.plot(t_fit[1::], sol_fit)\n",
    "plt.ylim([0.000001,1])\n",
    "plt.legend(('R','D','S','I','R','D','S_c','I_c'))\n",
    "plt.semilogy()\n",
    "#plt.show(())\n",
    "#ode_fit.plot()\n",
    "\n",
    "peak_i = np.argmax(sol_fit[:,1])\n",
    "print('Peak infection (days)', t_fit[peak_i])\n",
    "SC2IR_model.parameters = startparams"
   ]
  },
  {
   "cell_type": "markdown",
   "metadata": {},
   "source": [
    "## Fit SC3EI3R parameters to jhu data based on square_loss"
   ]
  },
  {
   "cell_type": "markdown",
   "metadata": {},
   "source": [
    "### Fit c_0 and c_1 only"
   ]
  },
  {
   "cell_type": "code",
   "execution_count": null,
   "metadata": {},
   "outputs": [],
   "source": [
    "# Initial guess of parameters, and bounding constraints\n",
    "cautionparams = list(params.values())[-4:-1]\n",
    "theta = [value for value in cautionparams]\n",
    "print(theta)\n",
    "theta = [0.3,0.08,2500.]\n",
    "boxBounds = [(0.2,0.8),(0.05,0.15),(100.,10000.)]\n",
    "objSC3EI3R = SquareLoss(theta=theta, ode=SC3EI3R_model, x0=x0_SC3EI3R, t0=t[0], t=t[1::], y=y_jhu[test_country][1::,1:3],\n",
    "                      state_weight=[1.,1.],state_name=['R','D'],\n",
    "                      target_param=['c_0','c_1','c_2'])\n",
    "# perform optimization\n",
    "res = minimize(fun=objSC3EI3R.cost,\n",
    "                #jac=objSC3EI3R.sensitivity,\n",
    "                x0=theta,\n",
    "                #bounds=boxBounds,\n",
    "                method='L-BFGS-B',\n",
    "                # method='Nelder-Mead',\n",
    "                options={'disp':True,'maxiter':1000,'eps':0.00001})# ,'ftol':0.01})  #not BFGS\n",
    "print(res)"
   ]
  },
  {
   "cell_type": "markdown",
   "metadata": {},
   "source": [
    "### Fit c_0 and c_1 as well as initial value of E"
   ]
  },
  {
   "cell_type": "markdown",
   "metadata": {},
   "source": [
    "#### Fit c_0 and c_1 as well as initial value of E with 'SLSQP'\n",
    "does not work well\n",
    "note use of special methods IV for initial value fitting of target_state"
   ]
  },
  {
   "cell_type": "code",
   "execution_count": null,
   "metadata": {},
   "outputs": [],
   "source": [
    "# Initial guess of parameters and initial condition, and bounding constraints\n",
    "cautionparams = list(params.values())[-4:-3]\n",
    "theta = [value for value in cautionparams]\n",
    "theta = [0.21,0.08,2500.]\n",
    "objSC3EI3R = SquareLoss(theta=theta, ode=SC3EI3R_model, x0=x0_SC3EI3R, t0=t[0], t=t[1::], y=y_jhu[test_country][1::,1:3],\n",
    "                      state_weight=[1.,1.],state_name=['R','D'],\n",
    "                      target_param=['c_0','c_1','c_2'],target_state=['I_1'])\n",
    "# perform optimization\n",
    "res = minimize(fun=objSC3EI3R.costIV,\n",
    "                jac=objSC3EI3R.sensitivityIV,\n",
    "                x0=theta+[0.00005],\n",
    "                bounds=boxBounds+[(0.0000001,0.001)],\n",
    "                # method='BFGS',\n",
    "                method='L-BFGS-B',\n",
    "                options={'disp':True,'maxiter':1000,'eps':0.01,'gtol':0.01})\n",
    "print(res)"
   ]
  },
  {
   "cell_type": "markdown",
   "metadata": {},
   "source": [
    "#### Fit c_0 and c_1 as well as initial value of E with BFGS\n",
    "works well:  no constraints and gtol not ftol"
   ]
  },
  {
   "cell_type": "code",
   "execution_count": null,
   "metadata": {
    "code_folding": []
   },
   "outputs": [],
   "source": [
    "# Initial guess of parameters and initial condition, and bounding constraints\n",
    "cautionparams = list(params.values())[-4:-2]\n",
    "theta = [0.25,0.08]\n",
    "boxBounds = [(0.2,0.4),(0.05,0.15)]\n",
    "objSCEI3R = SquareLoss(theta=theta, ode=SCEI3R_model, x0=x0_SC3EI3R, t0=t[0], t=t[1::], y=ynoise[1::,:],\n",
    "                      state_weight=[1.,1.,1.,1.,1.],state_name=['I_1','I_2','I_3','R','D'],\n",
    "                      target_param=['c_0','c_1'],target_state=['E'])\n",
    "# perform optimization\n",
    "res = minimize(fun=objSCEI3R.costIV,\n",
    "                jac=objSCEI3R.sensitivityIV,\n",
    "                x0=theta+[0.00005],\n",
    "                #bounds=boxBounds+[(0.0000001,0.001)],\n",
    "                method='BFGS',\n",
    "                options={'disp':True,'maxiter':1000,'eps':0.01,'gtol':0.01})\n",
    "print(res)"
   ]
  },
  {
   "cell_type": "code",
   "execution_count": null,
   "metadata": {
    "scrolled": true
   },
   "outputs": [],
   "source": [
    "# model with fitted parameters \n",
    "print(params)\n",
    "print(x0_SC3EI3R)\n",
    "params_fit = params.copy()\n",
    "#params_fit['c_0'] = res.x[0]\n",
    "#params_fit['c_1'] = res.x[1]\n",
    "\n",
    "SC3EI3R_model.params = params_fit\n",
    "print(SC3EI3R_model.params)\n",
    "#ode_fit = common_models.SEI3R({'beta':res.x[0], 'gamma':res.x[1],'alpha':res.x[2]})\n",
    "#x0_fit = [1-1.27e-6, 1.27e-6, 0]\n",
    "x0_fit = x0_SC3EI3R.copy()\n",
    "#x0_fit[2] = res.x[2]\n",
    "#t_fit = numpy.linspace(0, 150, 1000)\n",
    "t_fit = t\n",
    "SC3EI3R_model.initial_values = (x0_fit, t_fit[0])\n",
    "# %timeit sol_fit =SCEI3R_model.integrate(t_fit[1::]) # use magic %timeit to time\n",
    "# sol_fit =SCEI3R_model.integrate(t_fit[0::])\n",
    "sol_fit = scipy.integrate.odeint(SC3EI3R_model.ode, x0_fit, t_fit[1::])\n",
    "#\n",
    "plt.figure(figsize=(15,10))\n",
    "plt.plot(t,ynoise[:,0], 'o',color='lightgreen') # infected observations\n",
    "plt.plot(t,ynoise[:,1], 'o',color='green') # infected observations\n",
    "plt.plot(t,ynoise[:,2], 'o',color='darkgreen') # infected observations\n",
    "plt.plot(t,ynoise[:,3], 'bo') # recoverd\n",
    "plt.plot(t,ynoise[:,4], 'ro') # died\n",
    "plt.plot(t_fit[1::], sol_fit)\n",
    "plt.ylim([0,0.004])\n",
    "#plt.show(())\n",
    "#ode_fit.plot()\n",
    "\n",
    "peak_i = np.argmax(sol_fit[:,2])\n",
    "print('Peak infection (days)', t_fit[peak_i])"
   ]
  },
  {
   "cell_type": "markdown",
   "metadata": {},
   "source": [
    "#### Fit c_0 and c_1 as well as initial value of E using L-BFGS-B\n",
    "this method does not work well"
   ]
  },
  {
   "cell_type": "code",
   "execution_count": null,
   "metadata": {},
   "outputs": [],
   "source": [
    "# Initial guess of parameters and initial condition, and bounding constraints\n",
    "cautionparams = list(params.values())[-4:-2]\n",
    "theta = [0.25,0.08]\n",
    "boxBounds = [(0.2,0.4),(0.05,0.15)]\n",
    "objSCEI3R = SquareLoss(theta=theta, ode=SCEI3R_model, x0=x0_SC3EI3R, t0=t[0], t=t[1::], y=ynoise[1::,:],\n",
    "                      state_weight=[1.,1.,1.,1.,1.],state_name=['I_1','I_2','I_3','R','D'],\n",
    "                      target_param=['c_0','c_1'],target_state=['E'])\n",
    "# perform optimization\n",
    "res = minimize(fun=objSCEI3R.costIV,\n",
    "                jac=objSCEI3R.sensitivityIV,\n",
    "                x0=theta+[0.00005],\n",
    "                bounds=boxBounds+[(0.0000001,0.001)],\n",
    "                method='L-BFGS-B',\n",
    "                options={'disp':True,'maxiter':1000,'eps':0.0001,'ftol':0.001})\n",
    "print(res)"
   ]
  },
  {
   "cell_type": "code",
   "execution_count": null,
   "metadata": {},
   "outputs": [],
   "source": [
    "objSCEI3R.residual()"
   ]
  },
  {
   "cell_type": "markdown",
   "metadata": {},
   "source": [
    "#### Fit c_0 and c_1 as well as initial value of E with Nelder-Mead\n",
    "no use of Jacobian and no constraints"
   ]
  },
  {
   "cell_type": "code",
   "execution_count": null,
   "metadata": {},
   "outputs": [],
   "source": [
    "# Initial guess of parameters and initial condition, and bounding constraints\n",
    "cautionparams = list(params.values())[-4:-2]\n",
    "theta = [0.25,0.08]\n",
    "boxBounds = [(0.2,0.4),(0.05,0.15)]\n",
    "objSCEI3R = SquareLoss(theta=theta, ode=SCEI3R_model, x0=x0_SC3EI3R, t0=t[0], t=t[1::], y=ynoise[1::,:],\n",
    "                      state_weight=[1.,1.,1.,1.,1.],state_name=['I_1','I_2','I_3','R','D'],\n",
    "                      target_param=['c_0','c_1'],target_state=['E'])\n",
    "# perform optimization\n",
    "res = minimize(fun=objSCEI3R.costIV,\n",
    "                #jac=objSCEI3R.sensitivityIV,\n",
    "                x0=theta+[0.00005],\n",
    "                #bounds=boxBounds+[(0.0000001,0.001)],\n",
    "                method='Nelder-Mead',\n",
    "                options={'disp':True,'maxiter':1000}) #,'eps':0.0001,'ftol':0.01}) #not NM\n",
    "print(res)"
   ]
  },
  {
   "cell_type": "code",
   "execution_count": null,
   "metadata": {
    "scrolled": true
   },
   "outputs": [],
   "source": [
    "# model with fitted parameters \n",
    "print(params)\n",
    "print(x0_SC3EI3R)\n",
    "params_fit = params.copy()\n",
    "params_fit['c_0'] = res.x[0]\n",
    "params_fit['c_1'] = res.x[1]\n",
    "\n",
    "SC3EI3R_model.params = params_fit\n",
    "print(SC3EI3R_model.params)\n",
    "x0_fit = x0_SC3EI3R.copy()\n",
    "#x0_fit[2] = res.x[2]\n",
    "#t_fit = numpy.linspace(0, 150, 1000)\n",
    "t_fit = t\n",
    "SC3EI3R_model.initial_values = (x0_fit, t_fit[0])\n",
    "# %timeit sol_fit =SC3EI3R_model.integrate(t_fit[1::]) # use magic %timeit to time\n",
    "# sol_fit =SC3EI3R_model.integrate(t_fit[0::])\n",
    "sol_fit = scipy.integrate.odeint(SC3EI3R_model.ode, x0_fit, t_fit[1::])\n",
    "#\n",
    "plt.figure(figsize=(15,10))\n",
    "plt.plot(t,y_jhu[:,0], 'bo') # recoverd\n",
    "plt.plot(t,y_jhu[:,1], 'ro') # died\n",
    "plt.plot(t_fit[1::], sol_fit)\n",
    "plt.ylim([0,0.004])\n",
    "#plt.show(())\n",
    "#ode_fit.plot()\n",
    "\n",
    "peak_i = np.argmax(sol_fit[:,2])\n",
    "print('Peak infection (days)', t_fit[peak_i])"
   ]
  },
  {
   "cell_type": "markdown",
   "metadata": {},
   "source": [
    "### Information on method options"
   ]
  },
  {
   "cell_type": "code",
   "execution_count": null,
   "metadata": {},
   "outputs": [],
   "source": [
    "scipy.optimize.show_options(solver='minimize', method='SLSQP', disp=True)\n",
    "print(' ')\n",
    "scipy.optimize.show_options(solver='minimize', method='L-BFGS-B', disp=True)"
   ]
  },
  {
   "cell_type": "markdown",
   "metadata": {
    "heading_collapsed": true
   },
   "source": [
    "## Plot using full control"
   ]
  },
  {
   "cell_type": "code",
   "execution_count": null,
   "metadata": {
    "hidden": true
   },
   "outputs": [],
   "source": [
    "def plotmodel(solns,t,scale='linear',species='no_susc',plottitle= '',label='',\n",
    "              newplot = True,models=['SEI3R','SCEI3R','SC3EI3R']):\n",
    "    \"\"\"\n",
    "    plot solns over \n",
    "    times t interpreted as models indicated in models parameter\n",
    "    scale: alternative 'linear' or 'log'\n",
    "    species alternatives 'all', 'confirmed', 'deaths', 'daily confirmed', 'daily deaths'\n",
    "    plottitle : title for plot\n",
    "    label : label for curve when called as part of multicurve plot\n",
    "    newplot : whether to open new plot True/False\n",
    "    models : list of models to include, default all three of those possible\n",
    "    \"\"\"\n",
    "   \n",
    "    nmodels = len(models)\n",
    "    if len(solns) != len(models):\n",
    "        print(\"Error: number of models must match number of solutions\")\n",
    "        return None\n",
    "    nm = 0\n",
    "    \n",
    "    if newplot == True:\n",
    "        plt.figure(figsize=(nmodels*8,6))\n",
    " \n",
    "    for nm in range(nmodels):\n",
    "        soln = solns[nm]\n",
    "        if models[nm] == 'SEI3R':   #SEI3R\n",
    "            plt.subplot(1,nmodels,nm+1)\n",
    "            if scale == 'log': #Plot on log scale\n",
    "                plt.semilogy()\n",
    "                plt.ylim([1,10000])\n",
    "            elif species != 'daily confirmed': # Plot on normal linear scale\n",
    "                #plt.ylim([0,10000])\n",
    "                pass\n",
    "            if species == 'no_susc':\n",
    "                plt.plot(tvec,soln[:,1:5],label=label)\n",
    "                plt.legend((\"E\",\"I1\",\"I2\",\"I3\"))\n",
    "            elif species == 'confirmed' or species == 'daily confirmed':\n",
    "                suma = np.sum(soln[:,2:7],axis=1)\n",
    "                # print('length=',len(suma))\n",
    "                if species == 'daily confirmed':\n",
    "                    sumd = np.zeros(len(suma))\n",
    "                    for i in range(1,len(suma)):\n",
    "                        sumd[i] = suma[i]-suma[i-1]\n",
    "                    #plt.ylim([0,1000])\n",
    "                    plt.plot(tvec,sumd,label=label)\n",
    "                else:\n",
    "                    #plt.ylim([0,200000])\n",
    "                     plt.plot(t,suma,label=label)                   \n",
    "            elif species == 'all':\n",
    "                plt.plot(tvec,soln,label=label)\n",
    "                plt.legend((\"S\",\"E\",\"I1\",\"I2\",\"I3\",\"R\",\"D\"))\n",
    "            plt.xlabel(\"Time (days)\")\n",
    "            plt.ylabel(\"Portion of population N\")\n",
    "            plt.title('SEI3R %s' % plottitle)\n",
    "\n",
    "        elif models[nm] == 'SCEI3R':   #SCEI3R\n",
    "            #Plot\n",
    "            plt.subplot(1,nmodels,nm+1)\n",
    "            if scale == 'log': #Plot on log scale\n",
    "                plt.semilogy()\n",
    "                plt.ylim([1,10000])\n",
    "            elif species != 'daily confirmed': # Plot on normal linear scale\n",
    "                #plt.ylim([0,10000])\n",
    "                pass\n",
    "            if species == 'no_susc':\n",
    "                plt.plot(t,soln[:,1:5],label=label)\n",
    "                plt.legend((\"E\",\"I1\",\"I2\",\"I3\"))\n",
    "            elif species == 'confirmed' or species == 'daily confirmed':\n",
    "                suma = np.sum(soln[:,2:7],axis=1)\n",
    "                # print('length=',len(suma))\n",
    "                if species == 'daily confirmed':\n",
    "                    sumd = np.zeros(len(suma))\n",
    "                    for i in range(1,len(suma)):\n",
    "                        sumd[i] = suma[i]-suma[i-1]\n",
    "                    #plt.ylim([0,1000])\n",
    "                    plt.plot(t,sumd,label=label)\n",
    "                else:\n",
    "                    #plt.ylim([0,200000])\n",
    "                    plt.plot(t,suma,label=label)\n",
    "            elif species == 'all':\n",
    "                plt.plot(t,soln,label=label)\n",
    "                plt.legend((\"S\",\"E\",\"I1\",\"I2\",\"I3\",\"R\",\"D\",\"Sc\"))\n",
    "            plt.xlabel(\"Time (days)\")\n",
    "            plt.ylabel(\"Portion of population N\")\n",
    "            plt.title('SCEI3R %s' % plottitle)\n",
    "        elif models[nm] == 'SC3EI3R':   #SC3EI3R\n",
    "            plt.subplot(1,nmodels,nm+1)\n",
    "            if scale == 'log': #Plot on log scale\n",
    "                plt.semilogy()\n",
    "                plt.ylim([1,10000])\n",
    "            elif species != 'daily confirmed': # Plot on normal linear scale\n",
    "                #plt.ylim([0,10000])\n",
    "                pass\n",
    "            if species == 'no_susc':\n",
    "                plt.plot(t,sol[:,1:5])\n",
    "                plt.legend((\"E\",\"I1\",\"I2\",\"I3\"))\n",
    "            elif species == 'confirmed' or species == 'daily confirmed':\n",
    "                suma = np.sum(soln[:,2:7],axis=1) + soln[:,9]\n",
    "                if species == 'daily confirmed':\n",
    "                    sumd = np.zeros(len(suma))\n",
    "                    for i in range(1,len(suma)):\n",
    "                        sumd[i] = suma[i]-suma[i-1]\n",
    "                    # plt.ylim([0,1000])\n",
    "                    plt.plot(t,sumd,label=label)\n",
    "                else:\n",
    "                    # plt.ylim([0,200000])\n",
    "                    plt.plot(t,suma,label=label)\n",
    "            elif species == 'all':\n",
    "                plt.plot(t,soln,label=label)\n",
    "                plt.legend((\"S\",\"E\",\"I1\",\"I2\",\"I3\",\"R\",\"D\",\"Sc\",\"Ec\",\"I1c\"))\n",
    "            plt.xlabel(\"Time (days)\")\n",
    "            plt.ylabel(\"Portion of population N\")\n",
    "            plt.title('SC3EI3R %s' % plottitle)\n",
    "    return True"
   ]
  },
  {
   "cell_type": "code",
   "execution_count": null,
   "metadata": {
    "hidden": true
   },
   "outputs": [],
   "source": [
    "plotmodel([sol_fit],t_fit[1:],scale='linear',species='no_susc',plottitle= 'test',label='',\n",
    "              newplot = True,models=['SCEI3R'])"
   ]
  },
  {
   "cell_type": "markdown",
   "metadata": {},
   "source": [
    "# Not yet implemented"
   ]
  },
  {
   "cell_type": "code",
   "execution_count": null,
   "metadata": {},
   "outputs": [],
   "source": [
    "# R0 from arXiv paper\n",
    "# does not work yet properly ! reason unclear\n",
    "from pygom.model.epi_analysis import R0\n",
    "ode1 = SCEI3R_model.ode\n",
    "ode2 = SimulateOde(state, param_list, transition=transition)\n",
    "# print(ode2)\n",
    "# ode = ode2.get_unrolled_obj() # Exception: Object was not initialized using a set of ode\n",
    "# so need to define model via odes for this to work?\n",
    "# R0( ode2, ['I_1','I_2','I_3'])"
   ]
  },
  {
   "cell_type": "code",
   "execution_count": null,
   "metadata": {},
   "outputs": [],
   "source": [
    "# function for altering parameters\n",
    "print(param_list) \n",
    "model = DeterministicOde(state, param_list, transition=transition)\n",
    "def parameterize_model(t=np.linspace(0,365,366), c_0=0.3, c_1=0.07,\n",
    "                       c_2=0.004,I1_init=0.00001, default_params = param_list, model=model):\n",
    "    ic=[1-I1_init, I1_init, 0, 0, 0, 0, 0, 0]\n",
    "    cautionparams = {'c_0': c_0,\n",
    "              'c_1': c_1, \n",
    "              'c_2': c_2,\n",
    "              'N': sum(ic)}\n",
    "    \n",
    "    model.initial_values = (ic, t[0])\n",
    "    model.parameters = params\n",
    "    sol = model.integrate(t[1::])\n",
    "    model.plot()\n",
    "    peak_i = np.argmax(sol[:,2])\n",
    "    print('Peak infection (days)', t[peak_i] )\n",
    "    "
   ]
  },
  {
   "cell_type": "markdown",
   "metadata": {},
   "source": [
    "In this simple framework, reducing $\\beta$ results in a smaller epidemic:\n",
    "- the peak infection time is delayed\n",
    "- the magnitude of peak infection is reduced.\n",
    "\n",
    "Reducing beta may crudely represent giving out anti-virals, which make a person less infectious."
   ]
  },
  {
   "cell_type": "code",
   "execution_count": null,
   "metadata": {},
   "outputs": [],
   "source": [
    "parameterize_model(beta=1.2, t=np.linspace(0,500,5001))"
   ]
  },
  {
   "cell_type": "markdown",
   "metadata": {},
   "source": [
    "Vaccinating 5% of the population (assuming instantaneous rollout) or natural immunity, delays the peak period, and reduces its magnitude."
   ]
  },
  {
   "cell_type": "code",
   "execution_count": null,
   "metadata": {},
   "outputs": [],
   "source": [
    "parameterize_model(ic=[9490,5, 5, 500], beta=0.5, gamma=0.3, t=np.linspace(0,150,10))"
   ]
  },
  {
   "cell_type": "markdown",
   "metadata": {},
   "source": [
    "# gompy test example for FitzHugh model"
   ]
  },
  {
   "cell_type": "code",
   "execution_count": null,
   "metadata": {},
   "outputs": [],
   "source": [
    "from unittest import main, TestCase\n",
    "\n",
    "import numpy as np\n",
    "from scipy.optimize import minimize\n",
    "\n",
    "from pygom import SquareLoss\n",
    "from pygom.model import common_models\n",
    "\n",
    "\n",
    "class TestFHEstimate(TestCase):\n",
    "\n",
    "    def setUp(self):\n",
    "        # initial values\n",
    "        x0 = [-1.0, 1.0]\n",
    "        # params\n",
    "        param_eval = [('a', 0.2), ('b', 0.2), ('c', 3.0)]\n",
    "        self.target = np.array([0.2, 0.2, 3.0])\n",
    "        # the time points for our observations\n",
    "        t = np.linspace(0, 20, 30).astype('float64')\n",
    "        ode = common_models.FitzHugh(param_eval)\n",
    "        ode.initial_values = (x0, t[0])\n",
    "        solution = ode.integrate(t[1::])\n",
    "        self.theta = np.array([0.5, 0.5, 0.5])\n",
    "\n",
    "        self.obj = SquareLoss(self.theta, ode, x0, t[0],\n",
    "                              t[1::], solution[1::, :], ['V', 'R'])\n",
    "\n",
    "        g = self.obj.gradient()\n",
    "        assert np.linalg.norm(g) > 0\n",
    "\n",
    "        EPSILON = np.sqrt(np.finfo(np.float).eps)\n",
    "\n",
    "        self.box_bounds = [(EPSILON, 5.0)]*len(self.theta)\n",
    "\n",
    "    def test_FH_sensitivity(self):\n",
    "        res = minimize(fun=self.obj.cost,\n",
    "                       jac=self.obj.sensitivity,\n",
    "                       x0=self.theta,\n",
    "                       bounds=self.box_bounds,\n",
    "                       method='L-BFGS-B')\n",
    "\n",
    "        self.assertTrue(np.allclose(self.target, res['x'], 1e-2, 1e-2))\n",
    "\n",
    "    def test_FH_adjoint(self):\n",
    "        res = minimize(fun=self.obj.cost,\n",
    "                       jac=self.obj.adjoint,\n",
    "                       x0=self.theta,\n",
    "                       bounds=self.box_bounds,\n",
    "                       method='L-BFGS-B')\n",
    "\n",
    "        self.assertTrue(np.allclose(self.target, res['x'], 1e-2, 1e-2))\n",
    "\n",
    "    def test_FH_IV(self):\n",
    "        box_bounds = self.box_bounds + [(None, None)]*2\n",
    "\n",
    "        res = minimize(fun=self.obj.costIV,\n",
    "                       jac=self.obj.sensitivityIV,\n",
    "                       x0=self.theta.tolist() + [-0.5, 0.5],\n",
    "                       bounds=box_bounds,\n",
    "                       method='L-BFGS-B')\n",
    "\n",
    "        target = np.array([0.2, 0.2, 3.0, -1.0, 1.0])\n",
    "        self.assertTrue(np.allclose(res['x'], target, 1e-2, 1e-2))"
   ]
  },
  {
   "cell_type": "code",
   "execution_count": null,
   "metadata": {},
   "outputs": [],
   "source": [
    "test=TestFHEstimate()"
   ]
  },
  {
   "cell_type": "code",
   "execution_count": null,
   "metadata": {},
   "outputs": [],
   "source": [
    "test.setUp()"
   ]
  },
  {
   "cell_type": "code",
   "execution_count": null,
   "metadata": {},
   "outputs": [],
   "source": [
    "test.test_FH_IV()"
   ]
  },
  {
   "cell_type": "code",
   "execution_count": null,
   "metadata": {},
   "outputs": [],
   "source": []
  }
 ],
 "metadata": {
  "kernelspec": {
   "display_name": "Python 3",
   "language": "python",
   "name": "python3"
  },
  "language_info": {
   "codemirror_mode": {
    "name": "ipython",
    "version": 3
   },
   "file_extension": ".py",
   "mimetype": "text/x-python",
   "name": "python",
   "nbconvert_exporter": "python",
   "pygments_lexer": "ipython3",
   "version": "3.7.4"
  },
  "toc": {
   "base_numbering": 1,
   "nav_menu": {},
   "number_sections": true,
   "sideBar": true,
   "skip_h1_title": false,
   "title_cell": "Table of Contents",
   "title_sidebar": "Contents",
   "toc_cell": false,
   "toc_position": {
    "height": "calc(100% - 180px)",
    "left": "10px",
    "top": "150px",
    "width": "579.8333129882812px"
   },
   "toc_section_display": true,
   "toc_window_display": false
  }
 },
 "nbformat": 4,
 "nbformat_minor": 2
}
