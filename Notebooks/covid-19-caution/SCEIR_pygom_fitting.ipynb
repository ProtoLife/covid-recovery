{
 "cells": [
  {
   "cell_type": "markdown",
   "metadata": {},
   "source": [
    "# Notes on current version:\n",
    "For TOC if missing from command line try\n",
    "jupyter nbextensions_configurator enable\n",
    "then toggle nbextensions, restart.\n",
    "\n",
    "1. 1.9.2020 Managed to convert ODE models for economic extension to transition model ready for stochastic simulation, using separate birth death list\n",
    "            See section on SC2UIR model. Not done for other two economic extensions yet\n",
    "2. 1.9.2020 Implemented stochastic simulation (Tau-leap method) using PyGom inbuilt capabilities: for SCIR simulation only so far\n",
    "            Neeed to use integer N>>1, not 1.0, for stochastic simulation. Calculates in a few minutes for N=10000, rescaled ICUfrac to 0.02 (x10). N=100000 didn't finish in 10m."
   ]
  },
  {
   "cell_type": "markdown",
   "metadata": {},
   "source": [
    "# Model Definitions"
   ]
  },
  {
   "cell_type": "markdown",
   "metadata": {},
   "source": [
    "## Utilities for custom extension of PyGom"
   ]
  },
  {
   "cell_type": "code",
   "execution_count": 8,
   "metadata": {},
   "outputs": [],
   "source": [
    "# import required packages\n",
    "import os \n",
    "import csv\n",
    "from sympy import symbols, init_printing\n",
    "import numpy as np\n",
    "import matplotlib\n",
    "%matplotlib inline\n",
    "import seaborn as sb\n",
    "from matplotlib import pyplot as plt\n",
    "import sympy\n",
    "import itertools\n",
    "import scipy\n",
    "import datetime\n",
    "import matplotlib.dates as mdates\n",
    "from pygom import DeterministicOde, Transition, SimulateOde, TransitionType, SquareLoss\n",
    "from scipy.optimize import minimize\n",
    "\n",
    "import pickle as pk\n",
    "import jsonpickle as jpk\n",
    "\n",
    "from cycler import cycler\n",
    "from pandas.plotting import register_matplotlib_converters\n",
    "register_matplotlib_converters()\n",
    "import pwlf"
   ]
  },
  {
   "cell_type": "code",
   "execution_count": 9,
   "metadata": {},
   "outputs": [],
   "source": [
    "\n",
    "# This cell adds two methods to the DeterministicODE class of pygom\n",
    "# dumpparams: stores params in a file './params/Model_Name.pk'\n",
    "# loadparams: loads params from same file.  returns None if any problem finding the file.\n",
    "# e.g. will be accessed by SCIR.dumparams() or SCIR.loadparams()\n",
    "# This stuff needs modules os, sys, pickle as pk.\n",
    "\n",
    "def dumpparams(self): # Have to add self since this will become a method\n",
    "    mname = self.modelname\n",
    "    dirnm = os.getcwd()\n",
    "    pfile = dirnm+'/params/'+mname+'.pk'\n",
    "    try:\n",
    "        params = self.params.copy()\n",
    "        with open(pfile,'wb') as fp:\n",
    "            pk.dump(params,fp,protocol=pk.HIGHEST_PROTOCOL)\n",
    "        print('dumped params to',pfile)\n",
    "    except:\n",
    "        print('problem dumping params to ',pfile)\n",
    "\n",
    "\n",
    "def loadparams(self): # Have to add self since this will become a method\n",
    "    mname = self.modelname\n",
    "    dirnm = os.getcwd()\n",
    "    pfile = dirnm+'/params/'+mname+'.pk'\n",
    "    try:\n",
    "        with open(pfile,'rb') as fp:\n",
    "            params = pk.load(fp)\n",
    "            print('loaded params from ',pfile,':')\n",
    "    except:\n",
    "        print(\"problem loading\",pfile)\n",
    "        return None\n",
    "\n",
    "\n",
    "    nms = [x.name for x in self.param_list]\n",
    "    try:\n",
    "        self.parameters = params.copy()\n",
    "        self.params = params.copy()\n",
    "    except:\n",
    "        print('problem loading the params; none loaded')\n",
    "        return None\n",
    "    return True\n",
    "\n",
    "OdeClass = DeterministicOde().__class__\n",
    "setattr(OdeClass,'dumpparams', dumpparams)\n",
    "setattr(OdeClass,'loadparams', loadparams)\n",
    "\n",
    "\n"
   ]
  },
  {
   "cell_type": "code",
   "execution_count": 10,
   "metadata": {},
   "outputs": [],
   "source": [
    "def Float(x):\n",
    "    try:\n",
    "        rtn = float(x)\n",
    "    except:\n",
    "        rtn = float('NaN')\n",
    "    return rtn"
   ]
  },
  {
   "cell_type": "code",
   "execution_count": 11,
   "metadata": {
    "code_folding": [],
    "init_cell": true
   },
   "outputs": [],
   "source": [
    "def  print_ode2(self):\n",
    "        '''\n",
    "        Prints the ode in symbolic form onto the screen/console in actual\n",
    "        symbols rather than the word of the symbol.\n",
    "        \n",
    "        Based on the PyGOM built-in but adapted for Jupyter\n",
    "        Corrected by John McCaskill to avoid subscript format error\n",
    "        '''\n",
    "        A = self.get_ode_eqn()\n",
    "        B = sympy.zeros(A.rows,2)\n",
    "        for i in range(A.shape[0]):\n",
    "            B[i,0] = sympy.symbols('d' + '{' + str(self._stateList[i]) + '}'+ '/dt=')\n",
    "            B[i,1] = A[i]\n",
    "\n",
    "        return B"
   ]
  },
  {
   "cell_type": "code",
   "execution_count": 12,
   "metadata": {
    "init_cell": true
   },
   "outputs": [
    {
     "data": {
      "text/html": [
       "<style>.container { width:100% !important; }</style>"
      ],
      "text/plain": [
       "<IPython.core.display.HTML object>"
      ]
     },
     "metadata": {},
     "output_type": "display_data"
    }
   ],
   "source": [
    "# Jupyter Specifics\n",
    "from IPython.display import display, HTML\n",
    "from ipywidgets.widgets import interact, interactive, IntSlider, FloatSlider, Layout, ToggleButton, ToggleButtons, fixed\n",
    "display(HTML(\"<style>.container { width:100% !important; }</style>\"))\n",
    "style = {'description_width': '100px'}\n",
    "slider_layout = Layout(width='99%')"
   ]
  },
  {
   "cell_type": "markdown",
   "metadata": {},
   "source": [
    "## Caution Extensions to SIR Model"
   ]
  },
  {
   "cell_type": "markdown",
   "metadata": {},
   "source": [
    "### SIR model"
   ]
  },
  {
   "cell_type": "markdown",
   "metadata": {},
   "source": [
    "#### Equations\n",
    "\n",
    "\\begin{equation}\n",
    "\\begin{split}\n",
    "\\dot{S} &= -\\beta I S\\\\\n",
    "\\dot{I} &= \\beta I S - \\gamma I - \\mu I\\\\\n",
    "\\dot{R} & = \\gamma I \\\\\n",
    "\\dot{D} & = \\mu I\n",
    "\\end{split}\n",
    "\\end{equation}\n",
    "\n",
    "\n",
    "#### Variables\n",
    "* $S$: Susceptible individuals\n",
    "* $I$: Infected individuals \n",
    "* $R$: individuals who have recovered from disease and are now immune\n",
    "* $D$: Dead individuals\n",
    "* $N=S+I+R+D$ Total population size (constant)\n",
    "\n",
    "#### Parameters\n",
    "* $\\beta$ rate at which infected individuals contact susceptibles and infect them\n",
    "* $\\gamma$ rate at which infected individuals recover from disease and become immune\n",
    "* $\\mu$ death rate for infected individuals"
   ]
  },
  {
   "cell_type": "markdown",
   "metadata": {},
   "source": [
    "#### Implementation\n",
    "Using PyGOM, we will set up my simple SCIR model ODE system\n",
    "PyGOM – A Python Package for Simplifying Modelling with Systems of Ordinary Differential Equations https://arxiv.org/pdf/1803.06934.pdf"
   ]
  },
  {
   "cell_type": "code",
   "execution_count": 6,
   "metadata": {
    "init_cell": true
   },
   "outputs": [
    {
     "ename": "NameError",
     "evalue": "name 'Transition' is not defined",
     "output_type": "error",
     "traceback": [
      "\u001b[0;31m---------------------------------------------------------------------------\u001b[0m",
      "\u001b[0;31mNameError\u001b[0m                                 Traceback (most recent call last)",
      "\u001b[0;32m<ipython-input-6-2127d7697e02>\u001b[0m in \u001b[0;36m<module>\u001b[0;34m\u001b[0m\n\u001b[1;32m      5\u001b[0m \u001b[0;34m\u001b[0m\u001b[0m\n\u001b[1;32m      6\u001b[0m transition = [\n\u001b[0;32m----> 7\u001b[0;31m     Transition(origin='S', destination='I', equation='beta*I*S',\n\u001b[0m\u001b[1;32m      8\u001b[0m                transition_type=TransitionType.T),\n\u001b[1;32m      9\u001b[0m     Transition(origin='I', destination='R', equation='gamma*I',\n",
      "\u001b[0;31mNameError\u001b[0m: name 'Transition' is not defined"
     ]
    }
   ],
   "source": [
    "# set up the symbolic SIR model, actually SIRD including deaths\n",
    "\n",
    "state = ['S', 'I', 'R', 'D']\n",
    "param_list = ['beta', 'gamma','mu','N']\n",
    "\n",
    "transition = [\n",
    "    Transition(origin='S', destination='I', equation='beta*I*S',\n",
    "               transition_type=TransitionType.T),\n",
    "    Transition(origin='I', destination='R', equation='gamma*I',\n",
    "               transition_type=TransitionType.T),\n",
    "    Transition(origin='I', destination='D', equation='mu*I',\n",
    "               transition_type=TransitionType.T)    \n",
    "    ]\n",
    "\n",
    "SIR_model = DeterministicOde(state, param_list, transition=transition)\n",
    "SIR_model.modelname='SIR'\n",
    "SIR_model.ei=1\n",
    "SIR_model.confirmed=slice(1,4)  # cases 1-3 i.e. I, R and D\n",
    "SIR_model.recovered=slice(2,3)\n",
    "SIR_model.deaths=slice(3,4)"
   ]
  },
  {
   "cell_type": "code",
   "execution_count": 5,
   "metadata": {},
   "outputs": [
    {
     "data": {
      "text/latex": [
       "$\\displaystyle \\left[\\begin{matrix}d{S}/dt= & - I S \\beta\\\\d{I}/dt= & I S \\beta - I \\gamma - I \\mu\\\\d{R}/dt= & I \\gamma\\\\d{D}/dt= & I \\mu\\end{matrix}\\right]$"
      ],
      "text/plain": [
       "Matrix([\n",
       "[d{S}/dt=,                 -I*S*beta],\n",
       "[d{I}/dt=, I*S*beta - I*gamma - I*mu],\n",
       "[d{R}/dt=,                   I*gamma],\n",
       "[d{D}/dt=,                      I*mu]])"
      ]
     },
     "execution_count": 5,
     "metadata": {},
     "output_type": "execute_result"
    }
   ],
   "source": [
    "# display equations\n",
    "print_ode2(SIR_model)"
   ]
  },
  {
   "cell_type": "code",
   "execution_count": 6,
   "metadata": {},
   "outputs": [
    {
     "data": {
      "image/png": "[encoded data removed]",
      "text/plain": [
       "<Figure size 432x288 with 1 Axes>"
      ]
     },
     "metadata": {
      "needs_background": "light"
     },
     "output_type": "display_data"
    },
    {
     "data": {
      "image/svg+xml": [
       "<?xml version=\"1.0\" encoding=\"UTF-8\" standalone=\"no\"?>\n",
       "<!DOCTYPE svg PUBLIC \"-//W3C//DTD SVG 1.1//EN\"\n",
       " \"http://www.w3.org/Graphics/SVG/1.1/DTD/svg11.dtd\">\n",
       "<!-- Generated by graphviz version 2.44.0 (20200408.0750)\n",
       " -->\n",
       "<!-- Pages: 1 -->\n",
       "<svg width=\"295pt\" height=\"98pt\"\n",
       " viewBox=\"0.00 0.00 295.00 98.00\" xmlns=\"http://www.w3.org/2000/svg\" xmlns:xlink=\"http://www.w3.org/1999/xlink\">\n",
       "<g id=\"graph0\" class=\"graph\" transform=\"scale(1 1) rotate(0) translate(4 94)\">\n",
       "<polygon fill=\"white\" stroke=\"transparent\" points=\"-4,4 -4,-94 291,-94 291,4 -4,4\"/>\n",
       "<!-- S -->\n",
       "<g id=\"node1\" class=\"node\">\n",
       "<title>S</title>\n",
       "<ellipse fill=\"none\" stroke=\"black\" cx=\"27\" cy=\"-45\" rx=\"27\" ry=\"18\"/>\n",
       "<text text-anchor=\"middle\" x=\"27\" y=\"-41.3\" font-family=\"Times,serif\" font-size=\"14.00\">S</text>\n",
       "</g>\n",
       "<!-- I -->\n",
       "<g id=\"node2\" class=\"node\">\n",
       "<title>I</title>\n",
       "<ellipse fill=\"none\" stroke=\"black\" cx=\"151\" cy=\"-45\" rx=\"27\" ry=\"18\"/>\n",
       "<text text-anchor=\"middle\" x=\"151\" y=\"-41.3\" font-family=\"Times,serif\" font-size=\"14.00\">I</text>\n",
       "</g>\n",
       "<!-- S&#45;&gt;I -->\n",
       "<g id=\"edge1\" class=\"edge\">\n",
       "<title>S&#45;&gt;I</title>\n",
       "<path fill=\"none\" stroke=\"black\" d=\"M54.17,-45C71.54,-45 94.57,-45 113.7,-45\"/>\n",
       "<polygon fill=\"black\" stroke=\"black\" points=\"113.87,-48.5 123.87,-45 113.87,-41.5 113.87,-48.5\"/>\n",
       "<text text-anchor=\"middle\" x=\"89\" y=\"-48.8\" font-family=\"Times,serif\" font-size=\"14.00\">β*I*S</text>\n",
       "</g>\n",
       "<!-- R -->\n",
       "<g id=\"node3\" class=\"node\">\n",
       "<title>R</title>\n",
       "<ellipse fill=\"none\" stroke=\"black\" cx=\"260\" cy=\"-72\" rx=\"27\" ry=\"18\"/>\n",
       "<text text-anchor=\"middle\" x=\"260\" y=\"-68.3\" font-family=\"Times,serif\" font-size=\"14.00\">R</text>\n",
       "</g>\n",
       "<!-- I&#45;&gt;R -->\n",
       "<g id=\"edge2\" class=\"edge\">\n",
       "<title>I&#45;&gt;R</title>\n",
       "<path fill=\"none\" stroke=\"black\" d=\"M176.55,-51.19C190.82,-54.8 209.03,-59.39 224.7,-63.34\"/>\n",
       "<polygon fill=\"black\" stroke=\"black\" points=\"224.01,-66.78 234.57,-65.83 225.73,-59.99 224.01,-66.78\"/>\n",
       "<text text-anchor=\"middle\" x=\"205.5\" y=\"-63.8\" font-family=\"Times,serif\" font-size=\"14.00\">γ*I</text>\n",
       "</g>\n",
       "<!-- D -->\n",
       "<g id=\"node4\" class=\"node\">\n",
       "<title>D</title>\n",
       "<ellipse fill=\"none\" stroke=\"black\" cx=\"260\" cy=\"-18\" rx=\"27\" ry=\"18\"/>\n",
       "<text text-anchor=\"middle\" x=\"260\" y=\"-14.3\" font-family=\"Times,serif\" font-size=\"14.00\">D</text>\n",
       "</g>\n",
       "<!-- I&#45;&gt;D -->\n",
       "<g id=\"edge3\" class=\"edge\">\n",
       "<title>I&#45;&gt;D</title>\n",
       "<path fill=\"none\" stroke=\"black\" d=\"M176.55,-38.81C190.82,-35.2 209.03,-30.61 224.7,-26.66\"/>\n",
       "<polygon fill=\"black\" stroke=\"black\" points=\"225.73,-30.01 234.57,-24.17 224.01,-23.22 225.73,-30.01\"/>\n",
       "<text text-anchor=\"middle\" x=\"205.5\" y=\"-36.8\" font-family=\"Times,serif\" font-size=\"14.00\">μ*I</text>\n",
       "</g>\n",
       "</g>\n",
       "</svg>\n"
      ],
      "text/plain": [
       "<graphviz.dot.Digraph at 0x11d5247d0>"
      ]
     },
     "execution_count": 6,
     "metadata": {},
     "output_type": "execute_result"
    }
   ],
   "source": [
    "# display graphical representation of the model\n",
    "SIR_model.get_transition_graph()"
   ]
  },
  {
   "cell_type": "markdown",
   "metadata": {},
   "source": [
    "##### Derived equations, Jacobian and gradient"
   ]
  },
  {
   "cell_type": "code",
   "execution_count": 7,
   "metadata": {},
   "outputs": [
    {
     "data": {
      "text/latex": [
       "$\\displaystyle \\left[\\begin{matrix}- I S \\beta\\\\I S \\beta - I \\gamma - I \\mu\\\\I \\gamma\\\\I \\mu\\end{matrix}\\right]$"
      ],
      "text/plain": [
       "Matrix([\n",
       "[                -I*S*beta],\n",
       "[I*S*beta - I*gamma - I*mu],\n",
       "[                  I*gamma],\n",
       "[                     I*mu]])"
      ]
     },
     "execution_count": 7,
     "metadata": {},
     "output_type": "execute_result"
    }
   ],
   "source": [
    "SIR_model.get_ode_eqn()"
   ]
  },
  {
   "cell_type": "code",
   "execution_count": 8,
   "metadata": {},
   "outputs": [
    {
     "data": {
      "text/latex": [
       "$\\displaystyle \\left[\\begin{matrix}- I \\beta & - S \\beta & 0 & 0\\\\I \\beta & S \\beta - \\gamma - \\mu & 0 & 0\\\\0 & \\gamma & 0 & 0\\\\0 & \\mu & 0 & 0\\end{matrix}\\right]$"
      ],
      "text/plain": [
       "Matrix([\n",
       "[-I*beta,             -S*beta, 0, 0],\n",
       "[ I*beta, S*beta - gamma - mu, 0, 0],\n",
       "[      0,               gamma, 0, 0],\n",
       "[      0,                  mu, 0, 0]])"
      ]
     },
     "execution_count": 8,
     "metadata": {},
     "output_type": "execute_result"
    }
   ],
   "source": [
    "SIR_model.get_jacobian_eqn()"
   ]
  },
  {
   "cell_type": "code",
   "execution_count": 9,
   "metadata": {
    "scrolled": true
   },
   "outputs": [
    {
     "data": {
      "text/latex": [
       "$\\displaystyle \\left[\\begin{matrix}- I S & 0 & 0 & 0\\\\I S & - I & - I & 0\\\\0 & I & 0 & 0\\\\0 & 0 & I & 0\\end{matrix}\\right]$"
      ],
      "text/plain": [
       "Matrix([\n",
       "[-I*S,  0,  0, 0],\n",
       "[ I*S, -I, -I, 0],\n",
       "[   0,  I,  0, 0],\n",
       "[   0,  0,  I, 0]])"
      ]
     },
     "execution_count": 9,
     "metadata": {},
     "output_type": "execute_result"
    }
   ],
   "source": [
    "SIR_model.get_grad_eqn()"
   ]
  },
  {
   "cell_type": "markdown",
   "metadata": {},
   "source": [
    "#### R0"
   ]
  },
  {
   "cell_type": "code",
   "execution_count": 9,
   "metadata": {},
   "outputs": [],
   "source": [
    "from pygom.model.epi_analysis import R0"
   ]
  },
  {
   "cell_type": "code",
   "execution_count": 10,
   "metadata": {
    "scrolled": true
   },
   "outputs": [
    {
     "name": "stderr",
     "output_type": "stream",
     "text": [
      "/Users/n/.pyenv/versions/3.7.2/lib/python3.7/site-packages/sympy/__init__.py:676: SymPyDeprecationWarning: \n",
      "\n",
      "importing sympy.matrices.matrices with 'from sympy import *' has been\n",
      "deprecated since SymPy 1.6. Use import sympy.matrices.matrices\n",
      "instead. See https://github.com/sympy/sympy/issues/18245 for more\n",
      "info.\n",
      "\n",
      "  deprecated_since_version=\"1.6\").warn()\n"
     ]
    },
    {
     "data": {
      "image/png": "[encoded data removed]",
      "text/plain": [
       "<Figure size 432x288 with 1 Axes>"
      ]
     },
     "metadata": {
      "needs_background": "light"
     },
     "output_type": "display_data"
    },
    {
     "data": {
      "image/svg+xml": [
       "<?xml version=\"1.0\" encoding=\"UTF-8\" standalone=\"no\"?>\n",
       "<!DOCTYPE svg PUBLIC \"-//W3C//DTD SVG 1.1//EN\"\n",
       " \"http://www.w3.org/Graphics/SVG/1.1/DTD/svg11.dtd\">\n",
       "<!-- Generated by graphviz version 2.40.1 (20161225.0304)\n",
       " -->\n",
       "<!-- Title: %3 Pages: 1 -->\n",
       "<svg width=\"296pt\" height=\"98pt\"\n",
       " viewBox=\"0.00 0.00 295.68 98.00\" xmlns=\"http://www.w3.org/2000/svg\" xmlns:xlink=\"http://www.w3.org/1999/xlink\">\n",
       "<g id=\"graph0\" class=\"graph\" transform=\"scale(1 1) rotate(0) translate(4 94)\">\n",
       "<title>%3</title>\n",
       "<polygon fill=\"#ffffff\" stroke=\"transparent\" points=\"-4,4 -4,-94 291.6826,-94 291.6826,4 -4,4\"/>\n",
       "<!-- S -->\n",
       "<g id=\"node1\" class=\"node\">\n",
       "<title>S</title>\n",
       "<ellipse fill=\"none\" stroke=\"#000000\" cx=\"27\" cy=\"-45\" rx=\"27\" ry=\"18\"/>\n",
       "<text text-anchor=\"middle\" x=\"27\" y=\"-40.8\" font-family=\"Times,serif\" font-size=\"14.00\" fill=\"#000000\">S</text>\n",
       "</g>\n",
       "<!-- I -->\n",
       "<g id=\"node2\" class=\"node\">\n",
       "<title>I</title>\n",
       "<ellipse fill=\"none\" stroke=\"#000000\" cx=\"151.2344\" cy=\"-45\" rx=\"27\" ry=\"18\"/>\n",
       "<text text-anchor=\"middle\" x=\"151.2344\" y=\"-40.8\" font-family=\"Times,serif\" font-size=\"14.00\" fill=\"#000000\">I</text>\n",
       "</g>\n",
       "<!-- S&#45;&gt;I -->\n",
       "<g id=\"edge1\" class=\"edge\">\n",
       "<title>S&#45;&gt;I</title>\n",
       "<path fill=\"none\" stroke=\"#000000\" d=\"M54.2638,-45C71.741,-45 94.6607,-45 113.8293,-45\"/>\n",
       "<polygon fill=\"#000000\" stroke=\"#000000\" points=\"114.0342,-48.5001 124.0342,-45 114.0342,-41.5001 114.0342,-48.5001\"/>\n",
       "<text text-anchor=\"middle\" x=\"89.1172\" y=\"-47.8\" font-family=\"Times,serif\" font-size=\"14.00\" fill=\"#000000\">I*S*β</text>\n",
       "</g>\n",
       "<!-- R -->\n",
       "<g id=\"node3\" class=\"node\">\n",
       "<title>R</title>\n",
       "<ellipse fill=\"none\" stroke=\"#000000\" cx=\"260.6826\" cy=\"-72\" rx=\"27\" ry=\"18\"/>\n",
       "<text text-anchor=\"middle\" x=\"260.6826\" y=\"-67.8\" font-family=\"Times,serif\" font-size=\"14.00\" fill=\"#000000\">R</text>\n",
       "</g>\n",
       "<!-- I&#45;&gt;R -->\n",
       "<g id=\"edge2\" class=\"edge\">\n",
       "<title>I&#45;&gt;R</title>\n",
       "<path fill=\"none\" stroke=\"#000000\" d=\"M176.6191,-51.2622C191.02,-54.8148 209.2693,-59.3168 225.082,-63.2176\"/>\n",
       "<polygon fill=\"#000000\" stroke=\"#000000\" points=\"224.5092,-66.6812 235.0564,-65.6782 226.1858,-59.8849 224.5092,-66.6812\"/>\n",
       "<text text-anchor=\"middle\" x=\"205.9585\" y=\"-62.8\" font-family=\"Times,serif\" font-size=\"14.00\" fill=\"#000000\">I*γ</text>\n",
       "</g>\n",
       "<!-- D -->\n",
       "<g id=\"node4\" class=\"node\">\n",
       "<title>D</title>\n",
       "<ellipse fill=\"none\" stroke=\"#000000\" cx=\"260.6826\" cy=\"-18\" rx=\"27\" ry=\"18\"/>\n",
       "<text text-anchor=\"middle\" x=\"260.6826\" y=\"-13.8\" font-family=\"Times,serif\" font-size=\"14.00\" fill=\"#000000\">D</text>\n",
       "</g>\n",
       "<!-- I&#45;&gt;D -->\n",
       "<g id=\"edge3\" class=\"edge\">\n",
       "<title>I&#45;&gt;D</title>\n",
       "<path fill=\"none\" stroke=\"#000000\" d=\"M176.6191,-38.7378C191.02,-35.1852 209.2693,-30.6832 225.082,-26.7824\"/>\n",
       "<polygon fill=\"#000000\" stroke=\"#000000\" points=\"226.1858,-30.1151 235.0564,-24.3218 224.5092,-23.3188 226.1858,-30.1151\"/>\n",
       "<text text-anchor=\"middle\" x=\"205.9585\" y=\"-35.8\" font-family=\"Times,serif\" font-size=\"14.00\" fill=\"#000000\">I*μ</text>\n",
       "</g>\n",
       "</g>\n",
       "</svg>\n"
      ],
      "text/plain": [
       "<graphviz.dot.Digraph at 0x11cee7128>"
      ]
     },
     "execution_count": 10,
     "metadata": {},
     "output_type": "execute_result"
    }
   ],
   "source": [
    "transition_ode = [\n",
    "    Transition(origin='S',  equation='-beta*I*S'),\n",
    "    Transition(origin='I',  equation='beta*I*S-gamma*I-mu*I'),\n",
    "    Transition(origin='R',  equation='gamma*I'),\n",
    "    Transition(origin='D',  equation='mu*I')  \n",
    "    ]\n",
    "ode = SimulateOde(state, param_list, ode=transition_ode)\n",
    "ode = ode.get_unrolled_obj()\n",
    "ode.get_transition_graph()"
   ]
  },
  {
   "cell_type": "code",
   "execution_count": 28,
   "metadata": {
    "scrolled": true
   },
   "outputs": [
    {
     "data": {
      "text/latex": [
       "$\\displaystyle 0$"
      ],
      "text/plain": [
       "0"
      ]
     },
     "execution_count": 28,
     "metadata": {},
     "output_type": "execute_result"
    }
   ],
   "source": [
    "R0(ode,['I'])"
   ]
  },
  {
   "cell_type": "code",
   "execution_count": 29,
   "metadata": {},
   "outputs": [],
   "source": [
    "import sympy.matrices.matrices\n",
    "# from sympy import *"
   ]
  },
  {
   "cell_type": "markdown",
   "metadata": {},
   "source": [
    "### SCIR model"
   ]
  },
  {
   "cell_type": "markdown",
   "metadata": {},
   "source": [
    "#### Equations\n",
    "\n",
    "\\begin{equation}\n",
    "\\begin{split}\n",
    "\\dot{S} &= -\\beta I S + c_1 S_c - c_2*S*I\\\\\n",
    "\\dot{S_c} &= - c_0 \\beta I S_c - c_1 S_c + c_2*S*I\\\\\n",
    "\\dot{I} &= \\beta I S - \\gamma I - \\mu I\\\\\n",
    "\\dot{R} & = \\gamma I \\\\\n",
    "\\dot{D} & = \\mu I\n",
    "\\end{split}\n",
    "\\end{equation}\n",
    "\n",
    "The use of I as a state variable triggering susceptibles to execute caution is just one choice. In contrast with deaths, it does not accumulate over time and so retains the property of an active threat to society, rather than an historical one. Alternatively, one could use the daily death rate which is proportional to it.\n",
    "\n",
    "Actually, the effect of caution may be quadratic, since both the individual doing the infection and individual potentially being infected may be executing caution. The current version assumes that infectives do not change their precautionary measures in response to I. To implement this we would need to further distinguish careful and non careful infectives. This is done in the SC2IR model.\n",
    "\n",
    "#### Variables\n",
    "* $S$: Susceptible individuals living as normal\n",
    "* $S_c$: Susceptible individuals exercising pandemy precautions\n",
    "* $I$: Infected individuals \n",
    "* $R$: individuals who have recovered from disease and are now immune\n",
    "* $D$: Dead individuals\n",
    "* $N=S+S_c+I+R+D$ Total population size (constant)\n",
    "\n",
    "#### Parameters\n",
    "* $\\beta$ rate at which infected individuals contact susceptibles and infect them\n",
    "* $\\gamma$ rate at which infected individuals recover from disease and become immune\n",
    "* $\\mu$ death rate for infected individuals\n",
    "\n",
    "* $c_i$ three parameters characterizing cautionary response of population via class $S_c$\n",
    "\n",
    "    - c_0 : reduction factor for exposure for cautioned susceptibles\n",
    "\n",
    "    - c_1 : duration of caution (exponential decay time constant in days)\n",
    "\n",
    "    - c_2 : rate constant for transition from uncautioned to cautioned susceptible"
   ]
  },
  {
   "cell_type": "markdown",
   "metadata": {},
   "source": [
    "#### Implementation\n",
    "Using PyGOM, we will set up my simple SCIR model ODE system\n",
    "PyGOM – A Python Package for Simplifying Modelling with Systems of Ordinary Differential Equations https://arxiv.org/pdf/1803.06934.pdf"
   ]
  },
  {
   "cell_type": "code",
   "execution_count": null,
   "metadata": {
    "init_cell": true
   },
   "outputs": [],
   "source": [
    "# set up symbolic model\n",
    "\n",
    "state = ['S', 'I', 'R', 'D', 'S_c']\n",
    "param_list = ['beta', 'gamma', 'mu', 'c_0', 'c_1', 'c_2', 'N']\n",
    "\n",
    "transition = [\n",
    "    Transition(origin='S', destination='I', equation='beta*I*S',\n",
    "               transition_type=TransitionType.T),\n",
    "    Transition(origin='S', destination='S_c', equation='c_2*I*S',\n",
    "               transition_type=TransitionType.T),\n",
    "    Transition(origin='S_c', destination='S', equation='c_1*S_c',\n",
    "               transition_type=TransitionType.T),\n",
    "    Transition(origin='S_c', destination='I', equation='c_0*beta*I*S_c',\n",
    "               transition_type=TransitionType.T),\n",
    "    Transition(origin='I', destination='R', equation='gamma*I',\n",
    "               transition_type=TransitionType.T),\n",
    "    Transition(origin='I', destination='D', equation='mu*I',\n",
    "               transition_type=TransitionType.T)    \n",
    "    ]\n",
    "\n",
    "SCIR_model = DeterministicOde(state, param_list, transition=transition)\n",
    "\n",
    "SCIR_modelS = SimulateOde(state, param_list , transition=transition)\n",
    "SCIR_model.modelname='SCIR'\n",
    "SCIR_model.ei=1\n",
    "SCIR_model.confirmed=slice(1,4)  # cases 1-3 i.e. I, R and D\n",
    "SCIR_model.recovered=slice(2,3)\n",
    "SCIR_model.deaths=slice(3,4)\n",
    "\n",
    "\n"
   ]
  },
  {
   "cell_type": "code",
   "execution_count": 65,
   "metadata": {},
   "outputs": [
    {
     "data": {
      "text/latex": [
       "$\\displaystyle \\left[\\begin{matrix}d{S}/dt= & - I S \\beta - I S c_{2} + S_{c} c_{1}\\\\d{I}/dt= & I S \\beta + I S_{c} \\beta c_{0} - I \\gamma - I \\mu\\\\d{R}/dt= & I \\gamma\\\\d{D}/dt= & I \\mu\\\\d{S_c}/dt= & I S c_{2} - I S_{c} \\beta c_{0} - S_{c} c_{1}\\end{matrix}\\right]$"
      ],
      "text/plain": [
       "Matrix([\n",
       "[  d{S}/dt=,              -I*S*beta - I*S*c_2 + S_c*c_1],\n",
       "[  d{I}/dt=, I*S*beta + I*S_c*beta*c_0 - I*gamma - I*mu],\n",
       "[  d{R}/dt=,                                    I*gamma],\n",
       "[  d{D}/dt=,                                       I*mu],\n",
       "[d{S_c}/dt=,         I*S*c_2 - I*S_c*beta*c_0 - S_c*c_1]])"
      ]
     },
     "execution_count": 65,
     "metadata": {},
     "output_type": "execute_result"
    }
   ],
   "source": [
    "# display equations\n",
    "print_ode2(SCIR_model)"
   ]
  },
  {
   "cell_type": "code",
   "execution_count": 66,
   "metadata": {},
   "outputs": [
    {
     "data": {
      "image/png": "[encoded data removed]",
      "text/plain": [
       "<Figure size 432x288 with 1 Axes>"
      ]
     },
     "metadata": {
      "needs_background": "light"
     },
     "output_type": "display_data"
    },
    {
     "data": {
      "image/svg+xml": [
       "<?xml version=\"1.0\" encoding=\"UTF-8\" standalone=\"no\"?>\n",
       "<!DOCTYPE svg PUBLIC \"-//W3C//DTD SVG 1.1//EN\"\n",
       " \"http://www.w3.org/Graphics/SVG/1.1/DTD/svg11.dtd\">\n",
       "<!-- Generated by graphviz version 2.44.0 (20200408.0750)\n",
       " -->\n",
       "<!-- Pages: 1 -->\n",
       "<svg width=\"471pt\" height=\"98pt\"\n",
       " viewBox=\"0.00 0.00 471.00 98.00\" xmlns=\"http://www.w3.org/2000/svg\" xmlns:xlink=\"http://www.w3.org/1999/xlink\">\n",
       "<g id=\"graph0\" class=\"graph\" transform=\"scale(1 1) rotate(0) translate(4 94)\">\n",
       "<polygon fill=\"white\" stroke=\"transparent\" points=\"-4,4 -4,-94 467,-94 467,4 -4,4\"/>\n",
       "<!-- S -->\n",
       "<g id=\"node1\" class=\"node\">\n",
       "<title>S</title>\n",
       "<ellipse fill=\"none\" stroke=\"black\" cx=\"27\" cy=\"-42\" rx=\"27\" ry=\"18\"/>\n",
       "<text text-anchor=\"middle\" x=\"27\" y=\"-38.3\" font-family=\"Times,serif\" font-size=\"14.00\">S</text>\n",
       "</g>\n",
       "<!-- I -->\n",
       "<g id=\"node2\" class=\"node\">\n",
       "<title>I</title>\n",
       "<ellipse fill=\"none\" stroke=\"black\" cx=\"327\" cy=\"-45\" rx=\"27\" ry=\"18\"/>\n",
       "<text text-anchor=\"middle\" x=\"327\" y=\"-41.3\" font-family=\"Times,serif\" font-size=\"14.00\">I</text>\n",
       "</g>\n",
       "<!-- S&#45;&gt;I -->\n",
       "<g id=\"edge1\" class=\"edge\">\n",
       "<title>S&#45;&gt;I</title>\n",
       "<path fill=\"none\" stroke=\"black\" d=\"M52.52,-48.46C58.82,-49.87 65.63,-51.19 72,-52 164.61,-63.76 189.35,-67.41 282,-56 285.28,-55.6 288.67,-55.03 292.05,-54.36\"/>\n",
       "<polygon fill=\"black\" stroke=\"black\" points=\"293,-57.73 301.99,-52.13 291.47,-50.9 293,-57.73\"/>\n",
       "<text text-anchor=\"middle\" x=\"164\" y=\"-65.8\" font-family=\"Times,serif\" font-size=\"14.00\">β*I*S</text>\n",
       "</g>\n",
       "<!-- S_c -->\n",
       "<g id=\"node5\" class=\"node\">\n",
       "<title>S_c</title>\n",
       "<ellipse fill=\"none\" stroke=\"black\" cx=\"164\" cy=\"-18\" rx=\"27\" ry=\"18\"/>\n",
       "<text text-anchor=\"middle\" x=\"164\" y=\"-14.3\" font-family=\"Times,serif\" font-size=\"14.00\">S_c</text>\n",
       "</g>\n",
       "<!-- S&#45;&gt;S_c -->\n",
       "<g id=\"edge2\" class=\"edge\">\n",
       "<title>S&#45;&gt;S_c</title>\n",
       "<path fill=\"none\" stroke=\"black\" d=\"M53.39,-37.49C74.42,-33.75 104.52,-28.4 127.86,-24.25\"/>\n",
       "<polygon fill=\"black\" stroke=\"black\" points=\"128.49,-27.69 137.72,-22.49 127.26,-20.8 128.49,-27.69\"/>\n",
       "<text text-anchor=\"middle\" x=\"95.5\" y=\"-36.8\" font-family=\"Times,serif\" font-size=\"14.00\">c_2*I*S</text>\n",
       "</g>\n",
       "<!-- R -->\n",
       "<g id=\"node3\" class=\"node\">\n",
       "<title>R</title>\n",
       "<ellipse fill=\"none\" stroke=\"black\" cx=\"436\" cy=\"-72\" rx=\"27\" ry=\"18\"/>\n",
       "<text text-anchor=\"middle\" x=\"436\" y=\"-68.3\" font-family=\"Times,serif\" font-size=\"14.00\">R</text>\n",
       "</g>\n",
       "<!-- I&#45;&gt;R -->\n",
       "<g id=\"edge5\" class=\"edge\">\n",
       "<title>I&#45;&gt;R</title>\n",
       "<path fill=\"none\" stroke=\"black\" d=\"M352.55,-51.19C366.82,-54.8 385.03,-59.39 400.7,-63.34\"/>\n",
       "<polygon fill=\"black\" stroke=\"black\" points=\"400.01,-66.78 410.57,-65.83 401.73,-59.99 400.01,-66.78\"/>\n",
       "<text text-anchor=\"middle\" x=\"381.5\" y=\"-63.8\" font-family=\"Times,serif\" font-size=\"14.00\">γ*I</text>\n",
       "</g>\n",
       "<!-- D -->\n",
       "<g id=\"node4\" class=\"node\">\n",
       "<title>D</title>\n",
       "<ellipse fill=\"none\" stroke=\"black\" cx=\"436\" cy=\"-18\" rx=\"27\" ry=\"18\"/>\n",
       "<text text-anchor=\"middle\" x=\"436\" y=\"-14.3\" font-family=\"Times,serif\" font-size=\"14.00\">D</text>\n",
       "</g>\n",
       "<!-- I&#45;&gt;D -->\n",
       "<g id=\"edge6\" class=\"edge\">\n",
       "<title>I&#45;&gt;D</title>\n",
       "<path fill=\"none\" stroke=\"black\" d=\"M352.55,-38.81C366.82,-35.2 385.03,-30.61 400.7,-26.66\"/>\n",
       "<polygon fill=\"black\" stroke=\"black\" points=\"401.73,-30.01 410.57,-24.17 400.01,-23.22 401.73,-30.01\"/>\n",
       "<text text-anchor=\"middle\" x=\"381.5\" y=\"-36.8\" font-family=\"Times,serif\" font-size=\"14.00\">μ*I</text>\n",
       "</g>\n",
       "<!-- S_c&#45;&gt;S -->\n",
       "<g id=\"edge3\" class=\"edge\">\n",
       "<title>S_c&#45;&gt;S</title>\n",
       "<path fill=\"none\" stroke=\"black\" d=\"M139.95,-9.63C121.18,-4.12 94.24,0.77 72,-7 63.97,-9.81 56.3,-14.76 49.68,-20.07\"/>\n",
       "<polygon fill=\"black\" stroke=\"black\" points=\"47.14,-17.65 41.92,-26.86 51.75,-22.92 47.14,-17.65\"/>\n",
       "<text text-anchor=\"middle\" x=\"95.5\" y=\"-10.8\" font-family=\"Times,serif\" font-size=\"14.00\">c_1*S_c</text>\n",
       "</g>\n",
       "<!-- S_c&#45;&gt;I -->\n",
       "<g id=\"edge4\" class=\"edge\">\n",
       "<title>S_c&#45;&gt;I</title>\n",
       "<path fill=\"none\" stroke=\"black\" d=\"M190.51,-22.28C217.48,-26.8 260.22,-33.97 290.47,-39.04\"/>\n",
       "<polygon fill=\"black\" stroke=\"black\" points=\"290.17,-42.54 300.61,-40.74 291.33,-35.64 290.17,-42.54\"/>\n",
       "<text text-anchor=\"middle\" x=\"245.5\" y=\"-40.8\" font-family=\"Times,serif\" font-size=\"14.00\">c_0*β*I*S_c</text>\n",
       "</g>\n",
       "</g>\n",
       "</svg>\n"
      ],
      "text/plain": [
       "<graphviz.dot.Digraph at 0x11df97b50>"
      ]
     },
     "execution_count": 66,
     "metadata": {},
     "output_type": "execute_result"
    }
   ],
   "source": [
    "# display graphical representation of the model\n",
    "SCIR_model.get_transition_graph()"
   ]
  },
  {
   "cell_type": "markdown",
   "metadata": {},
   "source": [
    "### SC2IR model"
   ]
  },
  {
   "cell_type": "markdown",
   "metadata": {
    "heading_collapsed": true
   },
   "source": [
    "#### Equations\n",
    "\n",
    "\\begin{equation}\n",
    "\\begin{split}\n",
    "\\dot{S} &= -\\beta (I + c_0 I_c) S + c_1 S_c - c_2 S (I + I_c)\\\\\n",
    "\\dot{S_c} &= - c_0 \\beta (I + c_0 I_c) S_c - c_1 S_c + c_2 S (I + I_c)\\\\\n",
    "\\dot{I} &= \\beta (I + c_0 I_c) S - \\gamma I - \\mu I + c_1 I_c - c_2 I (I + I_c)\\\\\n",
    "\\dot{I_c} &= \\beta (I + c_0 I_c) S_c - \\gamma I_c - \\mu I_c - c_1 I_c + c_2 I (I + I_c)\\\\\n",
    "\\dot{R} & = \\gamma (I + I_c)\\\\\n",
    "\\dot{D} & = \\mu (I + I_c)\n",
    "\\end{split}\n",
    "\\end{equation}\n",
    "\n",
    "The use of I as a state variable triggering susceptibles to execute caution is just one choice. In contrast with deaths, it does not accumulate over time and so retains the property of an active threat to society, rather than an historical one. Alternatively, one could use the daily death rate which is proportional to it.\n",
    "\n",
    "The effect of caution may be quadratic, since both the individual doing the infection and individual potentially being infected may be executing caution. To implement this we distinguish careful and non careful infectives. We ignore infectives making the transition to caution or relaxing it.\n",
    "\n",
    "#### Variables\n",
    "* $S$: Susceptible individuals living as normal\n",
    "* $S_c$: Susceptible individuals exercising pandemy precautions\n",
    "* $I$: Infected individuals non exercising pandemy precautions\n",
    "* $I_c$: Infected individuals exercising pandemy precautions \n",
    "* $R$: individuals who have recovered from disease and are now immune\n",
    "* $D$: Dead individuals\n",
    "* $N=S+S_c+I+I_c+R+D$ Total population size (constant)\n",
    "\n",
    "#### Parameters\n",
    "* $\\beta$ rate at which infected individuals contact susceptibles and infect them\n",
    "* $\\gamma$ rate at which infected individuals recover from disease and become immune\n",
    "* $\\mu$ death rate for infected individuals\n",
    "\n",
    "* $c_i$ three parameters characterizing cautionary response of population via class $S_c$\n",
    "\n",
    "    - c_0 : reduction factor for exposure for cautioned susceptibles\n",
    "\n",
    "    - c_1 : duration of caution (exponential decay time constant in days)\n",
    "\n",
    "    - c_2 : rate constant for transition from uncautioned to cautioned susceptible"
   ]
  },
  {
   "cell_type": "markdown",
   "metadata": {},
   "source": [
    "#### Implementation\n",
    "Using PyGOM, we will set up my simple SCIR model ODE system\n",
    "PyGOM – A Python Package for Simplifying Modelling with Systems of Ordinary Differential Equations https://arxiv.org/pdf/1803.06934.pdf"
   ]
  },
  {
   "cell_type": "code",
   "execution_count": null,
   "metadata": {
    "init_cell": true
   },
   "outputs": [],
   "source": [
    "# set up symbolic model\n",
    "\n",
    "state = ['S', 'I', 'R', 'D', 'I_c', 'S_c']\n",
    "param_list = ['beta', 'gamma', 'mu', 'c_0', 'c_1', 'c_2', 'N']\n",
    "\n",
    "transition = [\n",
    "    Transition(origin='S', destination='I', equation='beta*(I+c_0*I_c)*S',\n",
    "               transition_type=TransitionType.T),\n",
    "    Transition(origin='S', destination='S_c', equation='c_2*(I+I_c)*S',\n",
    "               transition_type=TransitionType.T),\n",
    "    Transition(origin='S_c', destination='S', equation='c_1*S_c',\n",
    "               transition_type=TransitionType.T),\n",
    "    Transition(origin='S_c', destination='I_c', equation='c_0*beta*(I+c_0*I_c)*S_c',\n",
    "               transition_type=TransitionType.T),\n",
    "    Transition(origin='I', destination='R', equation='gamma*I',\n",
    "               transition_type=TransitionType.T),\n",
    "    Transition(origin='I', destination='D', equation='mu*I',\n",
    "               transition_type=TransitionType.T),\n",
    "    Transition(origin='I', destination='I_c', equation='c_2*(I+I_c)*I',\n",
    "               transition_type=TransitionType.T),\n",
    "    Transition(origin='I_c', destination='R', equation='gamma*I_c',\n",
    "               transition_type=TransitionType.T),\n",
    "    Transition(origin='I_c', destination='I', equation='c_1*I_c',\n",
    "               transition_type=TransitionType.T),\n",
    "    Transition(origin='I_c', destination='D', equation='mu*I_c',\n",
    "               transition_type=TransitionType.T)  #, \n",
    "    ]\n",
    "\n",
    "SC2IR_model = DeterministicOde(state, param_list, transition=transition)\n",
    "SC2IR_model.modelname='SC2IR'\n",
    "\n",
    "SC2IR_model.ei=1\n",
    "SC2IR_model.confirmed=slice(1,5)  # cases 1-3 i.e. I, R and D\n",
    "SC2IR_model.recovered=slice(2,3)\n",
    "SC2IR_model.deaths=slice(3,4)"
   ]
  },
  {
   "cell_type": "code",
   "execution_count": 38,
   "metadata": {},
   "outputs": [
    {
     "data": {
      "text/latex": [
       "$\\displaystyle \\left[\\begin{matrix}d{S}/dt= & - S \\beta \\left(I + I_{c} c_{0}\\right) - S c_{2} \\left(I + I_{c}\\right) + S_{c} c_{1}\\\\d{I}/dt= & - I c_{2} \\left(I + I_{c}\\right) - I \\gamma - I \\mu + I_{c} c_{1} + S \\beta \\left(I + I_{c} c_{0}\\right)\\\\d{R}/dt= & I \\gamma + I_{c} \\gamma\\\\d{D}/dt= & I \\mu + I_{c} \\mu\\\\d{I_c}/dt= & I c_{2} \\left(I + I_{c}\\right) - I_{c} c_{1} - I_{c} \\gamma - I_{c} \\mu + S_{c} \\beta c_{0} \\left(I + I_{c} c_{0}\\right)\\\\d{S_c}/dt= & S c_{2} \\left(I + I_{c}\\right) - S_{c} \\beta c_{0} \\left(I + I_{c} c_{0}\\right) - S_{c} c_{1}\\end{matrix}\\right]$"
      ],
      "text/plain": [
       "Matrix([\n",
       "[  d{S}/dt=,                           -S*beta*(I + I_c*c_0) - S*c_2*(I + I_c) + S_c*c_1],\n",
       "[  d{I}/dt=,          -I*c_2*(I + I_c) - I*gamma - I*mu + I_c*c_1 + S*beta*(I + I_c*c_0)],\n",
       "[  d{R}/dt=,                                                         I*gamma + I_c*gamma],\n",
       "[  d{D}/dt=,                                                               I*mu + I_c*mu],\n",
       "[d{I_c}/dt=, I*c_2*(I + I_c) - I_c*c_1 - I_c*gamma - I_c*mu + S_c*beta*c_0*(I + I_c*c_0)],\n",
       "[d{S_c}/dt=,                      S*c_2*(I + I_c) - S_c*beta*c_0*(I + I_c*c_0) - S_c*c_1]])"
      ]
     },
     "execution_count": 38,
     "metadata": {},
     "output_type": "execute_result"
    }
   ],
   "source": [
    "# display equations\n",
    "print_ode2(SC2IR_model)"
   ]
  },
  {
   "cell_type": "markdown",
   "metadata": {},
   "source": [
    "\n",
    "\\begin{equation}\n",
    "\\begin{split}\n",
    "\\dot{S} &= -\\beta (I + c_0 I_c) S + c_1 S_c - c_2 S (I + I_c)\\\\\n",
    "\\dot{S_c} &= - c_0 \\beta (I + c_0 I_c) S_c - c_1 S_c + c_2 S (I + I_c)\\\\\n",
    "\\dot{I} &= \\beta (I + c_0 I_c) S - \\gamma I - \\mu I\\\\\n",
    "\\dot{I_c} &= \\beta (I + c_0 I_c) S_c - \\gamma I_c - \\mu I_c\\\\\n",
    "\\dot{R} & = \\gamma (I + I_c)\\\\\n",
    "\\dot{D} & = \\mu (I + I_c)\n",
    "\\end{split}\n",
    "\\end{equation}\n"
   ]
  },
  {
   "cell_type": "code",
   "execution_count": null,
   "metadata": {},
   "outputs": [],
   "source": [
    "# display graphical representation of the model\n",
    "SC2IR_model.get_transition_graph()"
   ]
  },
  {
   "cell_type": "markdown",
   "metadata": {},
   "source": [
    "## Caution Extensions to SEIR Model"
   ]
  },
  {
   "cell_type": "markdown",
   "metadata": {},
   "source": [
    "### SEIR model"
   ]
  },
  {
   "cell_type": "markdown",
   "metadata": {},
   "source": [
    "#### Equations\n",
    "\n",
    "\\begin{equation}\n",
    "\\begin{split}\n",
    "\\dot{S} &= -\\beta I S\\\\\n",
    "\\dot{E} &= \\beta I S - \\alpha E\\\\\n",
    "\\dot{I} &= \\alpha E - \\gamma I - \\mu I\\\\\n",
    "\\dot{R} & = \\gamma I \\\\\n",
    "\\dot{D} & = \\mu I\n",
    "\\end{split}\n",
    "\\end{equation}\n",
    "\n",
    "\n",
    "#### Variables\n",
    "* $S$: Susceptible individuals\n",
    "* $E$: Exposed individuals\n",
    "* $I$: Infected individuals \n",
    "* $R$: individuals who have recovered from disease and are now immune\n",
    "* $D$: Dead individuals\n",
    "* $N=S+E+I+R+D$ Total population size (constant)\n",
    "\n",
    "#### Parameters\n",
    "* $\\beta$ rate at which infected individuals contact susceptibles and expose them to infection\n",
    "* $\\alpha$ rate at which exposed individuals become infected (1/(incubation time)\n",
    "* $\\gamma$ rate at which infected individuals recover from disease and become immune\n",
    "* $\\mu$ death rate for infected individuals"
   ]
  },
  {
   "cell_type": "markdown",
   "metadata": {},
   "source": [
    "#### Implementation\n",
    "Using PyGOM, we will set up my simple SCIR model ODE system\n",
    "PyGOM – A Python Package for Simplifying Modelling with Systems of Ordinary Differential Equations https://arxiv.org/pdf/1803.06934.pdf"
   ]
  },
  {
   "cell_type": "code",
   "execution_count": null,
   "metadata": {
    "init_cell": true
   },
   "outputs": [],
   "source": [
    "# set up the symbolic model\n",
    "state = ['S', 'E', 'I', 'R', 'D']\n",
    "param_list = ['beta', 'alpha', 'gamma', 'mu', 'N']\n",
    "\n",
    "transition = [\n",
    "    Transition(origin='S', destination='E', equation='beta*I*S',\n",
    "               transition_type=TransitionType.T),\n",
    "    Transition(origin='E', destination='I', equation='alpha*E',\n",
    "               transition_type=TransitionType.T),\n",
    "    Transition(origin='I', destination='R', equation='gamma*I',\n",
    "               transition_type=TransitionType.T),\n",
    "    Transition(origin='I', destination='D', equation='mu*I',\n",
    "               transition_type=TransitionType.T)    \n",
    "    ]\n",
    "\n",
    "SEIR_model = DeterministicOde(state, param_list, transition=transition)\n",
    "SEIR_model.modelname='SEIR'\n",
    "SEIR_model.ei=slice(1,3) # cases 1,2 i.e. E and I\n",
    "SEIR_model.confirmed=slice(2,5)  # cases 2-4 i.e. I, R and D, not E\n",
    "SEIR_model.recovered=slice(3,4)\n",
    "SEIR_model.deaths=slice(4,5)\n"
   ]
  },
  {
   "cell_type": "code",
   "execution_count": null,
   "metadata": {},
   "outputs": [],
   "source": [
    "# display equations\n",
    "print_ode2(SEIR_model)"
   ]
  },
  {
   "cell_type": "code",
   "execution_count": null,
   "metadata": {},
   "outputs": [],
   "source": [
    "# display graphical representation of the model\n",
    "SEIR_model.get_transition_graph()"
   ]
  },
  {
   "cell_type": "markdown",
   "metadata": {},
   "source": [
    "### SCEIR model"
   ]
  },
  {
   "cell_type": "markdown",
   "metadata": {},
   "source": [
    "#### Equations\n",
    "\n",
    "\\begin{equation}\n",
    "\\begin{split}\n",
    "\\dot{S} &= -\\beta I S + c_1 S_c - c_2*S*I\\\\\n",
    "\\dot{S_c} &= - c_0 \\beta I S_c - c_1 S_c + c_2*S*I\\\\\n",
    "\\dot{E} &= \\beta I (S + c_0 S_c) - \\alpha E\\\\\n",
    "\\dot{I} &= \\alpha E - \\gamma I - \\mu I\\\\\n",
    "\\dot{R} & = \\gamma I \\\\\n",
    "\\dot{D} & = \\mu I\n",
    "\\end{split}\n",
    "\\end{equation}\n",
    "\n",
    "The use of I as a state variable triggering susceptibles to execute caution is just one choice. In contrast with deaths, it does not accumulate over time and so retains the property of an active threat to society, rather than an historical one. Alternatively, one could use the daily death rate which is proportional to it.\n",
    "\n",
    "Actually, the effect of caution may be quadratic, since both the individual doing the infection and individual potentially being infected may be executing caution. The current version assumes that infectives do not change their precautionary measures in response to I. To implement this we would need to further distinguish careful and non careful infectives. This is done in the SC2IR model.\n",
    "\n",
    "#### Variables\n",
    "* $S$: Susceptible individuals living as normal\n",
    "* $S_c$: Susceptible individuals exercising pandemy precautions\n",
    "* $E$: Exposed individuals\n",
    "* $I$: Infected individuals \n",
    "* $R$: individuals who have recovered from disease and are now immune\n",
    "* $D$: Dead individuals\n",
    "* $N=S+S_c+E+I+R+D$ Total population size (constant)\n",
    "\n",
    "#### Parameters\n",
    "* $\\beta$ rate at which infected individuals contact susceptibles and infect them\n",
    "* $\\alpha$ rate at which exposed individuals become infected (1/(incubation time)\n",
    "* $\\gamma$ rate at which infected individuals recover from disease and become immune\n",
    "* $\\mu$ death rate for infected individuals\n",
    "\n",
    "* $c_i$ three parameters characterizing cautionary response of population via class $S_c$\n",
    "\n",
    "    - c_0 : reduction factor for exposure for cautioned susceptibles\n",
    "\n",
    "    - c_1 : duration of caution (exponential decay time constant in days)\n",
    "\n",
    "    - c_2 : rate constant for transition from uncautioned to cautioned susceptible"
   ]
  },
  {
   "cell_type": "markdown",
   "metadata": {},
   "source": [
    "#### Implementation\n",
    "Using PyGOM, we will set up my simple SCIR model ODE system\n",
    "PyGOM – A Python Package for Simplifying Modelling with Systems of Ordinary Differential Equations https://arxiv.org/pdf/1803.06934.pdf"
   ]
  },
  {
   "cell_type": "code",
   "execution_count": null,
   "metadata": {
    "init_cell": true
   },
   "outputs": [],
   "source": [
    "# set up the symbolic model\n",
    "\n",
    "state = ['S', 'E', 'I', 'R', 'D', 'S_c']\n",
    "param_list = ['beta', 'alpha', 'gamma', 'mu', 'c_0', 'c_1', 'c_2', 'N']\n",
    "\n",
    "transition = [\n",
    "    Transition(origin='S', destination='E', equation='beta*I*S',\n",
    "               transition_type=TransitionType.T),\n",
    "    Transition(origin='S', destination='S_c', equation='c_2*I*S',\n",
    "               transition_type=TransitionType.T),\n",
    "    Transition(origin='S_c', destination='S', equation='c_1*S_c',\n",
    "               transition_type=TransitionType.T),\n",
    "    Transition(origin='S_c', destination='E', equation='c_0*beta*I*S_c',\n",
    "               transition_type=TransitionType.T),\n",
    "    Transition(origin='E', destination='I', equation='alpha*E',\n",
    "               transition_type=TransitionType.T),\n",
    "    Transition(origin='I', destination='R', equation='gamma*I',\n",
    "               transition_type=TransitionType.T),\n",
    "    Transition(origin='I', destination='D', equation='mu*I',\n",
    "               transition_type=TransitionType.T)    \n",
    "    ]\n",
    "\n",
    "SCEIR_model = DeterministicOde(state, param_list, transition=transition)\n",
    "SCEIR_model.modelname='SCEIR'\n",
    "SCEIR_model.ei=slice(1,3) # cases 1,2 i.e. E,I\n",
    "SCEIR_model.confirmed=slice(2,5)  # cases 2-4 i.e. I, R and D, not E\n",
    "SCEIR_model.recovered=slice(3,4)\n",
    "SCEIR_model.deaths=slice(4,5)"
   ]
  },
  {
   "cell_type": "code",
   "execution_count": null,
   "metadata": {},
   "outputs": [],
   "source": [
    "# display equations\n",
    "print_ode2(SCEIR_model)"
   ]
  },
  {
   "cell_type": "code",
   "execution_count": null,
   "metadata": {},
   "outputs": [],
   "source": [
    "# display graphical representation of the model\n",
    "SCEIR_model.get_transition_graph()"
   ]
  },
  {
   "cell_type": "markdown",
   "metadata": {},
   "source": [
    "### SC3EIR model"
   ]
  },
  {
   "cell_type": "markdown",
   "metadata": {},
   "source": [
    "#### Equations\n",
    "\n",
    "\\begin{equation}\n",
    "\\begin{split}\n",
    "\\dot{S} &= -\\beta (I + c_0 I_c) S + c_1 S_c - c_2 S (I + I_c)\\\\\n",
    "\\dot{S_c} &= - c_0 \\beta (I + c_0 I_c) S_c - c_1 S_c + c_2 S (I + I_c)\\\\\n",
    "\\dot{E} &= \\beta (I + c_0 I_c) S - \\alpha E  + c_1 E_c - c_2 E (I + I_c)\\\\\n",
    "\\dot{E_c} &= c_0 \\beta (I + c_0 I_c) S_c - \\alpha E_c  - c_1 E_c + c_2 E (I + I_c)\\\\\n",
    "\\dot{I} &= \\alpha E - \\gamma I - \\mu I  + c_1 I_c - c_2 I (I + I_c)\\\\\n",
    "\\dot{I_c} &= \\alpha E_c - \\gamma I_c - \\mu I_c - c_1 I_c + c_2 I (I + I_c)\\\\\n",
    "\\dot{R} & = \\gamma (I + I_c) \\\\\n",
    "\\dot{D} & = \\mu (I + I_c)\n",
    "\\end{split}\n",
    "\\end{equation}\n",
    "\n",
    "The use of I as a state variable triggering susceptibles to execute caution is just one choice. In contrast with deaths, it does not accumulate over time and so retains the property of an active threat to society, rather than an historical one. Alternatively, one could use the daily death rate which is proportional to it.\n",
    "\n",
    "Actually, the effect of caution may be quadratic, since both the individual doing the infection and individual potentially being infected may be executing caution. The current version assumes that infectives do not change their precautionary measures in response to I. To implement this we would need to further distinguish careful and non careful infectives. This is done in the SC2IR model.\n",
    "\n",
    "#### Variables\n",
    "* $S$: Susceptible individuals living as normal\n",
    "* $S_c$: Susceptible individuals exercising pandemy precautions\n",
    "* $E$: Exposed individuals\n",
    "* $E_c$: Exposed individuals exercising caution\n",
    "* $I$: Infected individuals\n",
    "* $I_c$: Infected individuals exercising caution\n",
    "* $R$: individuals who have recovered from disease and are now immune\n",
    "* $D$: Dead individuals\n",
    "* $N=S+S_c+E+E_c+I+I_c+R+D$ Total population size (constant)\n",
    "\n",
    "#### Parameters\n",
    "* $\\beta$ rate at which infected individuals contact susceptibles and infect them\n",
    "* $\\alpha$ rate at which exposed individuals become infected (1/(incubation time)\n",
    "* $\\gamma$ rate at which infected individuals recover from disease and become immune\n",
    "* $\\mu$ death rate for infected individuals\n",
    "\n",
    "* $c_i$ three parameters characterizing cautionary response of population via class $S_c$\n",
    "\n",
    "    - c_0 : reduction factor for exposure for cautioned susceptibles\n",
    "\n",
    "    - c_1 : duration of caution (exponential decay time constant in days)\n",
    "\n",
    "    - c_2 : rate constant for transition from uncautioned to cautioned susceptible"
   ]
  },
  {
   "cell_type": "markdown",
   "metadata": {},
   "source": [
    "#### Implementation\n",
    "Using PyGOM, we will set up my simple SCIR model ODE system\n",
    "PyGOM – A Python Package for Simplifying Modelling with Systems of Ordinary Differential Equations https://arxiv.org/pdf/1803.06934.pdf"
   ]
  },
  {
   "cell_type": "code",
   "execution_count": null,
   "metadata": {
    "init_cell": true
   },
   "outputs": [],
   "source": [
    "# set up the symbolic model\n",
    "\n",
    "state = ['S', 'E', 'I', 'R', 'D', 'I_c', 'S_c', 'E_c']\n",
    "param_list = ['beta', 'alpha', 'gamma', 'mu', 'c_0', 'c_1', 'c_2', 'N']\n",
    "\n",
    "transition = [\n",
    "    Transition(origin='S', destination='E', equation='beta*(I+c_0*I_c)*S',\n",
    "               transition_type=TransitionType.T),\n",
    "    Transition(origin='S', destination='S_c', equation='c_2*(I+I_c)*S',\n",
    "               transition_type=TransitionType.T),\n",
    "    Transition(origin='S_c', destination='S', equation='c_1*S_c',\n",
    "               transition_type=TransitionType.T),\n",
    "    Transition(origin='S_c', destination='E_c', equation='c_0*beta*(I+c_0*I_c)*S_c',\n",
    "               transition_type=TransitionType.T),\n",
    "    Transition(origin='E', destination='I', equation='alpha*E',\n",
    "               transition_type=TransitionType.T),\n",
    "    Transition(origin='E', destination='E_c', equation='c_2*(I+I_c)*E',\n",
    "               transition_type=TransitionType.T),\n",
    "    Transition(origin='E_c', destination='I_c', equation='alpha*E_c',\n",
    "               transition_type=TransitionType.T),\n",
    "    Transition(origin='E_c', destination='E', equation='c_1*E_c',\n",
    "               transition_type=TransitionType.T),\n",
    "    Transition(origin='I', destination='R', equation='gamma*I',\n",
    "               transition_type=TransitionType.T),\n",
    "    Transition(origin='I', destination='I_c', equation='c_2*(I+I_c)*I',\n",
    "               transition_type=TransitionType.T),\n",
    "    Transition(origin='I', destination='D', equation='mu*I',\n",
    "               transition_type=TransitionType.T),\n",
    "    Transition(origin='I_c', destination='R', equation='gamma*I_c',\n",
    "               transition_type=TransitionType.T),\n",
    "    Transition(origin='I_c', destination='I', equation='c_1*I_c',\n",
    "               transition_type=TransitionType.T),\n",
    "    Transition(origin='I_c', destination='D', equation='mu*I_c',\n",
    "               transition_type=TransitionType.T)\n",
    "    ]\n",
    "\n",
    "SC3EIR_model = DeterministicOde(state, param_list, transition=transition)\n",
    "SC3EIR_model.modelname='SC3EIR'\n",
    "SC3EIR_model.ei=slice(1,3) # cases 1,2 i.e. E,I  # note E_c and I_c not included\n",
    "SC3EIR_model.confirmed=slice(2,6)  # cases 2-5 i.e. I, R, D, and I_c, not E, E_c\n",
    "SC3EIR_model.recovered=slice(3,4)\n",
    "SC3EIR_model.deaths=slice(4,5)"
   ]
  },
  {
   "cell_type": "code",
   "execution_count": null,
   "metadata": {},
   "outputs": [],
   "source": [
    "# display equations\n",
    "print_ode2(SC3EIR_model)"
   ]
  },
  {
   "cell_type": "code",
   "execution_count": null,
   "metadata": {},
   "outputs": [],
   "source": [
    "# display graphical representation of the model\n",
    "SC3EIR_model.get_transition_graph()"
   ]
  },
  {
   "cell_type": "markdown",
   "metadata": {},
   "source": [
    "## Caution Extensions to SEI3R Model"
   ]
  },
  {
   "cell_type": "markdown",
   "metadata": {},
   "source": [
    "### SEI3R model"
   ]
  },
  {
   "cell_type": "markdown",
   "metadata": {},
   "source": [
    "#### Equations\n",
    "\n",
    "\\begin{equation}\n",
    "\\begin{split}\n",
    "\\dot{S} &= -(\\beta_1 I_1 +\\beta_2 I_2 + \\beta_3 I_3) S\\\\\n",
    "\\dot{E} &=(\\beta_1 I_1 +\\beta_2 I_2 + \\beta_3 I_3 ) S - a E \\\\\n",
    "\\dot{I_1} &= a E - \\gamma_1 I_1 - p_1 I_1 \\\\\n",
    "\\dot{I_2} &= p_1 I_1 -\\gamma_2 I_2 - p_2 I_2 \\\\\n",
    "\\dot{I_3} & = p_2 I_2 -\\gamma_3 I_3 - \\mu I_3 \\\\\n",
    "\\dot{R} & = \\gamma_1 I_1 + \\gamma_2 I_2 + \\gamma_3 I_3 \\\\\n",
    "\\dot{D} & = \\mu I_3\n",
    "\\end{split}\n",
    "\\end{equation}\n",
    "\n",
    "This model (by Dr. Alison for example) involves exposed but not infectious individuals and three classes of infective states with increasing severity.\n",
    "The latter two involve hospitalization with the last in ICU.\n",
    "\n",
    "#### Variables\n",
    "* $S$: Susceptible individuals living as normal\n",
    "* $E$: Exposed individuals - infected but not yet infectious or symptomatic\n",
    "* $I_i$: Infected individuals in severity class $i$. Severity increaes with $i$ and we assume individuals must pass through all previous classes\n",
    "  * $I_1$: Mild infection (hospitalization not required)\n",
    "  * $I_2$: Severe infection (hospitalization required)\n",
    "  * $I_3$: Critical infection (ICU required)\n",
    "* $R$: individuals who have recovered from disease and are now immune\n",
    "* $D$: Dead individuals\n",
    "* $N=S+E+I_1+I_2+I_3+R+D$ Total population size (constant)\n",
    "\n",
    "#### Parameters\n",
    "* $\\beta_i$ rate at which infected individuals in class $I_i$ contact susceptibles and infect them\n",
    "* $a$ rate of progression from the exposed to infected class\n",
    "* $\\gamma_i$ rate at which infected individuals in class $I_i$ recover from disease and become immune\n",
    "* $p_i$ rate at which infected individuals in class $I_i$ progress to class $I_{I+1}$\n",
    "* $\\mu$ death rate for individuals in the most severe stage of disease"
   ]
  },
  {
   "cell_type": "markdown",
   "metadata": {},
   "source": [
    "#### Implementation\n",
    "Using PyGOM, we will set up the model ODE system\n",
    "PyGOM – A Python Package for Simplifying Modelling with Systems of Ordinary Differential Equations https://arxiv.org/pdf/1803.06934.pdf"
   ]
  },
  {
   "cell_type": "code",
   "execution_count": null,
   "metadata": {
    "init_cell": true
   },
   "outputs": [],
   "source": [
    "# set up the symbolic SEI3R model\n",
    "\n",
    "state = ['S', 'E', 'I_1', 'I_2','I_3','R','D']\n",
    "param_list = ['beta_1', 'beta_2','beta_3','alpha', 'gamma_1', 'gamma_2', 'gamma_3',\n",
    "              'p_1','p_2','mu','N']\n",
    "\n",
    "transition = [\n",
    "    Transition(origin='S', destination='E', equation='(beta_1*I_1+beta_2*I_2+beta_3*I_3)*S',\n",
    "               transition_type=TransitionType.T),\n",
    "    Transition(origin='E', destination='I_1', equation='alpha*E',\n",
    "               transition_type=TransitionType.T),\n",
    "    Transition(origin='I_1', destination='R', equation='gamma_1*I_1',\n",
    "               transition_type=TransitionType.T),\n",
    "    Transition(origin='I_2', destination='R', equation='gamma_2*I_2',\n",
    "               transition_type=TransitionType.T),\n",
    "    Transition(origin='I_3', destination='R', equation='gamma_3*I_3',\n",
    "               transition_type=TransitionType.T),\n",
    "    Transition(origin='I_1', destination='I_2', equation='p_1*I_1',\n",
    "               transition_type=TransitionType.T),\n",
    "    Transition(origin='I_2', destination='I_3', equation='p_2*I_2',\n",
    "               transition_type=TransitionType.T),\n",
    "    Transition(origin='I_3', destination='D', equation='mu*I_3',\n",
    "               transition_type=TransitionType.T)    \n",
    "    ]\n",
    "\n",
    "\n",
    "SEI3R_model = DeterministicOde(state, param_list, transition=transition)\n",
    "SEI3R_model.modelname='SEI3R'\n",
    "SEI3R_model.ei=slice(1,5)\n",
    "SEI3R_model.confirmed=slice(2,7)  # cases 2-6 i.e. I1, I2, I3, R and D\n",
    "SEI3R_model.recovered=slice(5,6)\n",
    "SEI3R_model.deaths=slice(6,7)"
   ]
  },
  {
   "cell_type": "code",
   "execution_count": null,
   "metadata": {},
   "outputs": [],
   "source": [
    "# display equations\n",
    "print_ode2(SEI3R_model)"
   ]
  },
  {
   "cell_type": "code",
   "execution_count": null,
   "metadata": {},
   "outputs": [],
   "source": [
    "# display graphical representation of the model\n",
    "SEI3R_model.get_transition_graph()"
   ]
  },
  {
   "cell_type": "markdown",
   "metadata": {},
   "source": [
    "### SCEI3R model"
   ]
  },
  {
   "cell_type": "markdown",
   "metadata": {},
   "source": [
    "#### Equations\n",
    "\n",
    "\\begin{equation}\n",
    "\\begin{split}\n",
    "\\dot{S} &= -(\\beta_1 I_1 +\\beta_2 I_2 + \\beta_3 I_3) S + c_1 S_c - c_2*S*I_3\\\\\n",
    "\\dot{S_c} &= - c_0(\\beta_1 I_1 +\\beta_2 I_2 + \\beta_3 I_3) S_c - c_1 S_c + c_2*S*I_3\\\\\n",
    "\\dot{E} &=(\\beta_1 I_1 +\\beta_2 I_2 + \\beta_3 I_3 ) (S + c_0 S_c) - a E \\\\\n",
    "\\dot{I_1} &= a E - \\gamma_1 I_1 - p_1 I_1 \\\\\n",
    "\\dot{I_2} &= p_1 I_1 -\\gamma_2 I_2 - p_2 I_2 \\\\\n",
    "\\dot{I_3} & = p_2 I_2 -\\gamma_3 I_3 - \\mu I_3 \\\\\n",
    "\\dot{R} & = \\gamma_1 I_1 + \\gamma_2 I_2 + \\gamma_3 I_3 \\\\\n",
    "\\dot{D} & = \\mu I_3\n",
    "\\end{split}\n",
    "\\end{equation}\n",
    "\n",
    "The use of I_3 as a state variable triggering susceptibles to execute caution is just one choice. In contrast with deaths, it does not accumulate over time and so retains the property of an active threat to society, rather than an historical one.\n",
    "\n",
    "Actually, the effect of caution may be quadratic, since both the individual doing the infection and individual potentially being infected may be executing caution. The current version assumes that infectives do not change their precautionary measures in response to I_3. To implement this we would need to further distinguish careful and non careful infectives at least up to the I_1 level. This is done in the SC3EI3R model.\n",
    "\n",
    "#### Variables\n",
    "* $S$: Susceptible individuals living as normal\n",
    "* $S_c$: Susceptible individuals exercising pandemy precautions\n",
    "* $E$: Exposed individuals - infected but not yet infectious or symptomatic\n",
    "* $I_i$: Infected individuals in severity class $i$. Severity increaes with $i$ and we assume individuals must pass through all previous classes\n",
    "  * $I_1$: Mild infection (hospitalization not required)\n",
    "  * $I_2$: Severe infection (hospitalization required)\n",
    "  * $I_3$: Critical infection (ICU required)\n",
    "* $R$: individuals who have recovered from disease and are now immune\n",
    "* $D$: Dead individuals\n",
    "* $N=S+S_c+E+I_1+I_2+I_3+R+D$ Total population size (constant)\n",
    "\n",
    "#### Parameters\n",
    "* $\\beta_i$ rate at which infected individuals in class $I_i$ contact susceptibles and infect them\n",
    "* $a$ rate of progression from the exposed to infected class\n",
    "* $\\gamma_i$ rate at which infected individuals in class $I_i$ recover from disease and become immune\n",
    "* $p_i$ rate at which infected individuals in class $I_i$ progress to class $I_{I+1}$\n",
    "* $\\mu$ death rate for individuals in the most severe stage of disease\n",
    "\n",
    "* $c_i$ three parameters characterizing cautionary response of population via class $S_c$\n",
    "\n",
    "    - c_0 : reduction factor for exposure for cautioned susceptibles\n",
    "\n",
    "    - c_1 : duration of caution (exponential decay time constant in days)\n",
    "\n",
    "    - c_2 : rate constant for transition from uncautioned to cautioned susceptible\n",
    "\n",
    "\n"
   ]
  },
  {
   "cell_type": "markdown",
   "metadata": {},
   "source": [
    "#### Implementation\n",
    "Using PyGOM, we will set up the model ODE system\n",
    "PyGOM – A Python Package for Simplifying Modelling with Systems of Ordinary Differential Equations https://arxiv.org/pdf/1803.06934.pdf"
   ]
  },
  {
   "cell_type": "code",
   "execution_count": null,
   "metadata": {
    "init_cell": true
   },
   "outputs": [],
   "source": [
    "# set up the symbolic model\n",
    "\n",
    "state = ['S', 'E', 'I_1', 'I_2','I_3','R','D','S_c']\n",
    "param_list = ['beta_1', 'beta_2','beta_3','alpha', 'gamma_1', 'gamma_2', 'gamma_3',\n",
    "              'p_1','p_2','mu','c_0','c_1','c_2','N']\n",
    "\n",
    "transition = [\n",
    "    Transition(origin='S', destination='E', equation='(beta_1*I_1+beta_2*I_2+beta_3*I_3)*S',\n",
    "               transition_type=TransitionType.T),\n",
    "    Transition(origin='S', destination='S_c', equation='c_2*I_3*S',\n",
    "               transition_type=TransitionType.T),\n",
    "    Transition(origin='S_c', destination='S', equation='c_1*S_c',\n",
    "               transition_type=TransitionType.T),\n",
    "    Transition(origin='S_c', destination='E', equation='c_0*(beta_1*I_1+beta_2*I_2+beta_3*I_3)*S_c',\n",
    "               transition_type=TransitionType.T),\n",
    "    Transition(origin='E', destination='I_1', equation='alpha*E',\n",
    "               transition_type=TransitionType.T),\n",
    "    Transition(origin='I_1', destination='R', equation='gamma_1*I_1',\n",
    "               transition_type=TransitionType.T),\n",
    "    Transition(origin='I_2', destination='R', equation='gamma_2*I_2',\n",
    "               transition_type=TransitionType.T),\n",
    "    Transition(origin='I_3', destination='R', equation='gamma_3*I_3',\n",
    "               transition_type=TransitionType.T),\n",
    "    Transition(origin='I_1', destination='I_2', equation='p_1*I_1',\n",
    "               transition_type=TransitionType.T),\n",
    "    Transition(origin='I_2', destination='I_3', equation='p_2*I_2',\n",
    "               transition_type=TransitionType.T),\n",
    "    Transition(origin='I_3', destination='D', equation='mu*I_3',\n",
    "               transition_type=TransitionType.T)    \n",
    "    ]\n",
    "\n",
    "\n",
    "SCEI3R_model = DeterministicOde(state, param_list, transition=transition)\n",
    "SCEI3R_model.modelname='SCEI3R'\n",
    "SCEI3R_model.ei=slice(1,5)\n",
    "SCEI3R_model.confirmed=slice(2,7)  # cases 2-6 i.e. I1, I2, I3, R and D\n",
    "SCEI3R_model.recovered=slice(5,6)\n",
    "SCEI3R_model.deaths=slice(6,7)"
   ]
  },
  {
   "cell_type": "code",
   "execution_count": null,
   "metadata": {},
   "outputs": [],
   "source": [
    "# display equations\n",
    "print_ode2(SCEI3R_model)"
   ]
  },
  {
   "cell_type": "code",
   "execution_count": null,
   "metadata": {},
   "outputs": [],
   "source": [
    "# display graphical representation of the model\n",
    "SCEI3R_model.get_transition_graph()"
   ]
  },
  {
   "cell_type": "markdown",
   "metadata": {},
   "source": [
    "### SC3EI3R model with caution distinguished $E$ and  𝐼1"
   ]
  },
  {
   "cell_type": "markdown",
   "metadata": {
    "colab_type": "text",
    "heading_collapsed": true,
    "id": "wAb1ddE0gwhA"
   },
   "source": [
    "#### Equations\n",
    "\n",
    "\\begin{equation}\n",
    "\\begin{split}\n",
    "\\dot{S} &= -(\\beta_1 (I_1 + c_0 I_{1c}) +\\beta_2 I_2 + \\beta_3 I_3) S + c_1 S_c - c_2*S*I_3\\\\\n",
    "\\dot{S_c} &= - c_0(\\beta_1 (I_1 + c_0 I_{1c}) +\\beta_2 I_2 + \\beta_3 I_3) S_c - c_1 S_c + c_2*S*I_3\\\\\n",
    "\\dot{E} &=(\\beta_1 (I_1 + c_0 I_{1c}) +\\beta_2 I_2 + \\beta_3 I_3 ) S - a E + c_1 E_c - c_2*E*I_3\\\\\n",
    "\\dot{E_c} &=(\\beta_1 (I_1 + c_0 I_{1c}) +\\beta_2 I_2 + \\beta_3 I_3 ) c_0 S_c - a E - c_1 E_c + c_2*E*I_3\\\\\n",
    "\\dot{I_1} &= a E - \\gamma_1 I_1 - p_1 I_1 + c_1 I_{1c} - c_2*I_{1c}*I_3\\\\\n",
    "\\dot{I_{1c}} &= a E_c - \\gamma_1 I_{1c} - p_1 I_{1c} - c_1 I_{1c} + c_2*I_{1c}*I_3\\\\\n",
    "\\dot{I_2} &= p_1 (I_1 + I_{1c}) -\\gamma_2 I_2 - p_2 I_2 \\\\\n",
    "\\dot{I_3} & = p_2 I_2 -\\gamma_3 I_3 - \\mu I_3 \\\\\n",
    "\\dot{R} & = \\gamma_1 (I_1 + I_{1c}) + \\gamma_2 I_2 + \\gamma_3 I_3 \\\\\n",
    "\\dot{D} & = \\mu I_3\n",
    "\\end{split}\n",
    "\\end{equation}\n",
    "\n",
    "The use of I_3 as a state variable triggering susceptibles to execute caution is just one choice. In contrast with deaths, it does not accumulate over time and so retains the property of an active threat to society, rather than an historical one.\n",
    "\n",
    "Here, the effect of caution is quadratic, since both the individual doing the infection and individual potentially being infected may be executing caution. To implement this we distinguish careful and non careful exposed and infectives up to the I_1 level. Once in hospital there is no difference, since all caution is executed wrt infected patients.\n",
    "We ignore transition in caution among infected intervals as a second order effect: could be included as in SC2IR model.\n",
    "\n",
    "\n",
    "#### Variables\n",
    "* $S$: Susceptible individuals living as normal\n",
    "* $S_c$: Susceptible individuals exercising pandemy precautions\n",
    "* $E$: Exposed individuals living as normal - infected but not yet infectious or symptomatic\n",
    "* $E_c$: Exposed individuals exercising pandemy precautions\n",
    "* $I_i$: Infected individuals in severity class $i$. Severity increaes with $i$ and we assume individuals must pass through all previous classes. Split non hospital cases by caution.\n",
    "  * $I_1$: Mild infection (hospitalization not required), living as normal\n",
    "  * $I_{1c}$: Mild infection (hospitalization not required), exercising caution\n",
    "  * $I_2$: Severe infection (hospitalization required)\n",
    "  * $I_3$: Critical infection (ICU required)\n",
    "* $R$: individuals who have recovered from disease and are now immune\n",
    "* $D$: Dead individuals\n",
    "* $N=S+S_c+E+E_c+I_{1c}+I_1+I_2+I_3+R+D$ Total population size (constant)\n",
    "\n",
    "#### Parameters\n",
    "* $\\beta_i$ rate at which infected individuals in class $I_i$ contact susceptibles and infect them\n",
    "* $a$ rate of progression from the exposed to infected class\n",
    "* $\\gamma_i$ rate at which infected individuals in class $I_i$ recover from disease and become immune\n",
    "* $p_i$ rate at which infected individuals in class $I_i$ progress to class $I_{I+1}$\n",
    "* $\\mu$ death rate for individuals in the most severe stage of disease\n",
    "\n",
    "* $c_i$ three parameters characterizing cautionary response of population via class $S_c$\n",
    "\n",
    "    - c_0 : reduction factor for exposure for cautioned susceptibles\n",
    "\n",
    "    - c_1 : duration of caution (exponential decay time constant in days)\n",
    "\n",
    "    - c_2 : rate constant for transition from uncautioned to cautioned susceptible"
   ]
  },
  {
   "cell_type": "markdown",
   "metadata": {
    "slideshow": {
     "slide_type": "slide"
    }
   },
   "source": [
    "####  Implementation"
   ]
  },
  {
   "cell_type": "code",
   "execution_count": null,
   "metadata": {
    "init_cell": true
   },
   "outputs": [],
   "source": [
    "# set up the symbolic model\n",
    "\n",
    "state = ['S', 'E', 'I_1', 'I_2','I_3', 'R', 'D', 'I_c', 'S_c', 'E_c']\n",
    "param_list = ['beta_1', 'beta_2','beta_3','alpha', 'gamma_1', 'gamma_2', 'gamma_3',\n",
    "              'p_1','p_2','mu','c_0','c_1','c_2','N']\n",
    "\n",
    "transition = [\n",
    "    Transition(origin='S', destination='E', equation='(beta_1*I_1+beta_2*I_2+beta_3*I_3+c_0*beta_1*I_c)*S',\n",
    "               transition_type=TransitionType.T),\n",
    "    Transition(origin='S_c', destination='E_c', equation='c_0*(beta_1*I_1+beta_2*I_2+beta_3*I_3+c_0*beta_1*I_c)*S_c',\n",
    "               transition_type=TransitionType.T),\n",
    "    Transition(origin='S', destination='S_c', equation='c_2*I_3*S',\n",
    "               transition_type=TransitionType.T),\n",
    "    Transition(origin='S_c', destination='S', equation='c_1*S_c',\n",
    "               transition_type=TransitionType.T),\n",
    "    Transition(origin='E', destination='I_1', equation='alpha*E',\n",
    "               transition_type=TransitionType.T),\n",
    "    Transition(origin='E', destination='E_c', equation='c_2*I_3*E',\n",
    "               transition_type=TransitionType.T),\n",
    "    Transition(origin='E_c', destination='I_c', equation='alpha*E_c',\n",
    "               transition_type=TransitionType.T),\n",
    "    Transition(origin='E_c', destination='E', equation='c_1*E_c',\n",
    "               transition_type=TransitionType.T),\n",
    "    Transition(origin='I_1', destination='R', equation='gamma_1*I_1',\n",
    "               transition_type=TransitionType.T),\n",
    "    Transition(origin='I_1', destination='I_c', equation='c_2*I_3*I_1',  # error corrected I_1, mistakenly was I_c \n",
    "               transition_type=TransitionType.T),    \n",
    "    Transition(origin='I_c', destination='R', equation='gamma_1*I_c',\n",
    "               transition_type=TransitionType.T),\n",
    "    Transition(origin='I_c', destination='I_1', equation='c_1*I_c',\n",
    "               transition_type=TransitionType.T),    \n",
    "    Transition(origin='I_2', destination='R', equation='gamma_2*I_2',\n",
    "               transition_type=TransitionType.T),\n",
    "    Transition(origin='I_3', destination='R', equation='gamma_3*I_3',\n",
    "               transition_type=TransitionType.T),\n",
    "    Transition(origin='I_1', destination='I_2', equation='p_1*I_1',\n",
    "               transition_type=TransitionType.T),\n",
    "    Transition(origin='I_c', destination='I_2', equation='p_1*I_c',\n",
    "               transition_type=TransitionType.T),\n",
    "    Transition(origin='I_2', destination='I_3', equation='p_2*I_2',\n",
    "               transition_type=TransitionType.T),\n",
    "    Transition(origin='I_3', destination='D', equation='mu*I_3',\n",
    "               transition_type=TransitionType.T)\n",
    "    ]\n",
    "\n",
    "\n",
    "SC3EI3R_model = DeterministicOde(state, param_list, transition=transition)\n",
    "SC3EI3R_model.modelname='SC3EI3R'\n",
    "SC3EI3R_model.ei=slice(1,5) # 1,2,3,4 i.e. E,I_1,I_2,I_3 – not E_c and I_c \n",
    "SC3EI3R_model.confirmed=slice(2,8)  # cases 2-7 i.e. I1, I2, I3, R, D and I_c\n",
    "SC3EI3R_model.recovered=slice(5,6)\n",
    "SC3EI3R_model.deaths=slice(6,7)"
   ]
  },
  {
   "cell_type": "code",
   "execution_count": null,
   "metadata": {},
   "outputs": [],
   "source": [
    "# display equations\n",
    "print_ode2(SC3EI3R_model)"
   ]
  },
  {
   "cell_type": "code",
   "execution_count": null,
   "metadata": {},
   "outputs": [],
   "source": [
    "# display graphical representation of the model\n",
    "SC3EI3R_model.get_transition_graph()"
   ]
  },
  {
   "cell_type": "code",
   "execution_count": 19,
   "metadata": {},
   "outputs": [],
   "source": [
    "# set up the symbolic model directly as ODEs to allow confirmed cases as state for fitting\n",
    "\n",
    "state = ['S', 'E', 'I_1', 'I_2','I_3', 'R', 'D', 'I_c', 'S_c', 'E_c', 'C_f']\n",
    "param_list = ['beta_1', 'beta_2','beta_3','alpha', 'gamma_1', 'gamma_2', 'gamma_3',\n",
    "              'p_1','p_2','mu','c_0','c_1','c_2','N']\n",
    "\n",
    "transition = [\n",
    "    Transition('S', '-(beta_1*(I_1+c_0*I_c)+beta_2*I_2+beta_3*I_3)*S - c_2*I_3*S + c_1*S_c','ODE'),\n",
    "    Transition('S_c', '-c_0*(beta_1*(I_1+c_0*I_c)+beta_2*I_2+beta_3*I_3)*S_c+c_2*I_3*S-c_1*S_c','ODE'),\n",
    "    Transition('E', '(beta_1*(I_1+c_0*I_c)+beta_2*I_2+beta_3*I_3)*S-alpha*E-c_2*I_3*E+c_1*E_c','ODE'),\n",
    "    Transition('E_c', 'c_0*(beta_1*(I_1+c_0*I_c)+beta_2*I_2+beta_3*I_3)*S_c-alpha*E_c+c_2*I_3*E-c_1*E_c','ODE'),\n",
    "    Transition('I_1', 'alpha*E-gamma_1*I_1-p_1*I_1-c_2*I_3*I_1+c_1*I_c','ODE'),\n",
    "    Transition('I_c', 'alpha*E_c-gamma_1*I_c-p_1*I_c+c_2*I_3*I_1-c_1*I_c','ODE'),\n",
    "    Transition('I_2', 'p_1*(I_1+I_c)-gamma_2*I_2-p_2*I_2','ODE'),\n",
    "    Transition('I_3', 'p_2*I_2-gamma_3*I_3-mu*I_3','ODE'),\n",
    "    Transition('R',  'gamma_1*(I_1+I_c)+gamma_2*I_2+gamma_3*I_3','ODE'),\n",
    "    Transition('D',  'mu*I_3','ODE'),\n",
    "    Transition('C_f', 'alpha*(E+E_c)','ODE')\n",
    "    ]\n",
    "\n",
    "SC3EI3R_model = DeterministicOde(state, param_list, ode=transition)\n",
    "SC3EI3R_model.modelname='SC3EI3R'\n",
    "SC3EI3R_model.ei=slice(1,5) # 1,2,3,4 i.e. E,I_1,I_2,I_3 – not E_c and I_c \n",
    "SC3EI3R_model.confirmed=slice(10,11)\n",
    "SC3EI3R_model.recovered=slice(5,6)\n",
    "SC3EI3R_model.deaths=slice(6,7)"
   ]
  },
  {
   "cell_type": "code",
   "execution_count": null,
   "metadata": {},
   "outputs": [],
   "source": [
    "# display equations\n",
    "print_ode2(SC3EI3R_model)"
   ]
  },
  {
   "cell_type": "markdown",
   "metadata": {},
   "source": [
    "## Caution Extensions to SEIR Model with Economic Supression\n",
    "This model is an extension of the cautionary model to include a class of susceptibles $S_u$ who are impervious to caution. \n",
    "The main influencer for this class is the economy, which we introduce as a new state variable W, normalized to 1 in the absence of pandemic.\n",
    "The model assumption is that fractional depression of the economy influences some susceptibles (both cautioned and uncautioned) to become uncautionable,\n",
    "with a rate coefficient proportional to the economic depression (1-W). The economy itself is mdoelled with logistic growth to a state 1 in the absence of pandemic\n",
    "and 1- $\\kappa S_c$ with pandemic. i.e. individuals exercising caution are the main correlate of economic depression (but the only suppressor for the pandemic).\n",
    "As for the cautioned class, uncautionable individuals also return to normal sussceptibles with exponential decay at rate $k_1$."
   ]
  },
  {
   "cell_type": "markdown",
   "metadata": {},
   "source": [
    "### SC2UIR model"
   ]
  },
  {
   "cell_type": "markdown",
   "metadata": {},
   "source": [
    "#### Equations\n",
    "\\begin{equation}\n",
    "\\begin{split}\n",
    "\\dot{S} &= -\\beta (I + c_0 I_c) S + c_1 S_c - c_2 S (I + I_c) -  k_u (1 - W) S + k_1 S_u\\\\\n",
    "\\dot{S_c} &= - c_0 \\beta (I + c_0 I_c) S_c - c_1 S_c + c_2 S (I + I_c) -  k_u (1 - W) S_c\\\\\n",
    "\\dot{I} &= \\beta (I + c_0 I_c) S - \\gamma I - \\mu I + c_1 I_c - c_2 I (I + I_c)\\\\\n",
    "\\dot{I_c} &= c_0 \\beta (I + c_0 I_c) S_c - \\gamma I_c - \\mu I_c - c_1 I_c + c_2 I (I + I_c)\\\\\n",
    "\\dot{R} & = \\gamma (I + I_c) \\\\\n",
    "\\dot{D} & = \\mu (I + I_c) \\\\\n",
    "\\dot{S_u} & = -\\beta (I + c_0 I_c) S_u + k_u (1 - W) (S + S_c)  - k_1 S_u \\\\\n",
    "\\dot{W} & = k_w W (1 - \\kappa S_c - W)\n",
    "\\end{split}\n",
    "\\end{equation}\n",
    "\n",
    "#### Variables\n",
    "* $S$: Susceptible individuals living as normal\n",
    "* $S_c$: Susceptible individuals exercising pandemy precautions\n",
    "* $S_u$: Susceptible individuals immune to caution because of economic downturn\n",
    "* $E$: Exposed individuals\n",
    "* $E_c$: Exposed individuals exercising caution\n",
    "* $I$: Infected individuals\n",
    "* $I_c$: Infected individuals exercising caution\n",
    "* $R$: individuals who have recovered from disease and are now immune\n",
    "* $D$: Dead individuals\n",
    "* $W$: Economic status obeying a logistic law with caution individuals downturning\n",
    "* $N=S+S_c+S_u+E+E_c+I+I_c+R+D$ Total population size (constant)\n",
    "\n",
    "#### Parameters\n",
    "* $\\beta$ rate at which infected individuals contact susceptibles and infect them\n",
    "* $\\alpha$ rate at which exposed individuals become infected (1/(incubation time)\n",
    "* $\\gamma$ rate at which infected individuals recover from disease and become immune\n",
    "* $\\mu$ death rate for infected individuals\n",
    "\n",
    "* $c_i$ three parameters characterizing cautionary response of population via class $S_c$\n",
    "\n",
    "    - c_0 : reduction factor for exposure for cautioned susceptibles\n",
    "\n",
    "    - c_1 : inverse duration of caution (exponential decay time constant in days)\n",
    "\n",
    "    - c_2 : rate constant for transition from uncautioned to cautioned susceptible\n",
    "* four parameters coupling to economy and uncautionable individuals\n",
    "    - k_w : rate coefficient of economy equilibration\n",
    "    - k_u : rate coefficient of transition from uncautioned to uncautionable\n",
    "    - k_1 : inverse duration of uncautionable state\n",
    "    - $\\kappa$ : economic downturn of caution (proportional to number cautious)"
   ]
  },
  {
   "cell_type": "markdown",
   "metadata": {
    "slideshow": {
     "slide_type": "slide"
    }
   },
   "source": [
    "####  Implementation"
   ]
  },
  {
   "cell_type": "code",
   "execution_count": 7,
   "metadata": {
    "init_cell": true
   },
   "outputs": [
    {
     "ename": "NameError",
     "evalue": "name 'Transition' is not defined",
     "output_type": "error",
     "traceback": [
      "\u001b[0;31m---------------------------------------------------------------------------\u001b[0m",
      "\u001b[0;31mNameError\u001b[0m                                 Traceback (most recent call last)",
      "\u001b[0;32m<ipython-input-7-396384784cf3>\u001b[0m in \u001b[0;36m<module>\u001b[0;34m\u001b[0m\n\u001b[1;32m      5\u001b[0m \u001b[0;34m\u001b[0m\u001b[0m\n\u001b[1;32m      6\u001b[0m transition = [\n\u001b[0;32m----> 7\u001b[0;31m     \u001b[0mTransition\u001b[0m\u001b[0;34m(\u001b[0m\u001b[0morigin\u001b[0m\u001b[0;34m=\u001b[0m\u001b[0;34m'S'\u001b[0m\u001b[0;34m,\u001b[0m \u001b[0mequation\u001b[0m\u001b[0;34m=\u001b[0m\u001b[0;34m'-beta*(I+c_0*I_c)*S+c_1*S_c-c_2*(I+I_c)*S-k_u*(1-W)*S+k_1*S_u'\u001b[0m\u001b[0;34m)\u001b[0m\u001b[0;34m,\u001b[0m\u001b[0;34m\u001b[0m\u001b[0;34m\u001b[0m\u001b[0m\n\u001b[0m\u001b[1;32m      8\u001b[0m     \u001b[0mTransition\u001b[0m\u001b[0;34m(\u001b[0m\u001b[0morigin\u001b[0m\u001b[0;34m=\u001b[0m\u001b[0;34m'S_c'\u001b[0m\u001b[0;34m,\u001b[0m \u001b[0mequation\u001b[0m\u001b[0;34m=\u001b[0m\u001b[0;34m'-c_0*beta*(I+c_0*I_c)*S_c-c_1*S_c+c_2*(I+I_c)*S-k_u*(1-W)*S_c'\u001b[0m\u001b[0;34m)\u001b[0m\u001b[0;34m,\u001b[0m\u001b[0;34m\u001b[0m\u001b[0;34m\u001b[0m\u001b[0m\n\u001b[1;32m      9\u001b[0m     \u001b[0mTransition\u001b[0m\u001b[0;34m(\u001b[0m\u001b[0morigin\u001b[0m\u001b[0;34m=\u001b[0m\u001b[0;34m'S_u'\u001b[0m\u001b[0;34m,\u001b[0m \u001b[0mequation\u001b[0m\u001b[0;34m=\u001b[0m\u001b[0;34m'-beta*(I+c_0*I_c)*S_u+k_u*(1-W)*(S+S_c)-k_1*S_u'\u001b[0m\u001b[0;34m)\u001b[0m\u001b[0;34m,\u001b[0m\u001b[0;34m\u001b[0m\u001b[0;34m\u001b[0m\u001b[0m\n",
      "\u001b[0;31mNameError\u001b[0m: name 'Transition' is not defined"
     ]
    }
   ],
   "source": [
    "# set up the symbolic model\n",
    "\n",
    "state = ['S', 'I', 'R', 'D', 'I_c', 'S_c', 'S_u', 'W']\n",
    "param_list = ['beta', 'gamma', 'mu', 'c_0', 'c_1', 'c_2', 'k_u', 'k_1', 'k_w','kappa', 'N']\n",
    "\n",
    "transition = [\n",
    "    Transition(origin='S', equation='-beta*(I+c_0*I_c)*S+c_1*S_c-c_2*(I+I_c)*S-k_u*(1-W)*S+k_1*S_u'),\n",
    "    Transition(origin='S_c', equation='-c_0*beta*(I+c_0*I_c)*S_c-c_1*S_c+c_2*(I+I_c)*S-k_u*(1-W)*S_c'),\n",
    "    Transition(origin='S_u', equation='-beta*(I+c_0*I_c)*S_u+k_u*(1-W)*(S+S_c)-k_1*S_u'),\n",
    "    Transition(origin='I', equation='beta*(I+c_0*I_c)*S-gamma*I-mu*I+c_1*I_c-c_2*(I+I_c)*I'),\n",
    "    Transition(origin='I_c', equation='c_0*beta*(I+c_0*I_c)*S_c-gamma*I_c-mu*I_c-c_1*I_c+c_2*(I+I_c)*I'),\n",
    "    Transition(origin='R', equation='gamma*(I+I_c)'),\n",
    "    Transition(origin='D', equation='mu*(I+I_c)'),\n",
    "    Transition(origin='W', equation='k_w*W*(1-kappa*S_c-W)')\n",
    "    ]\n",
    "\n",
    "SC2UIR_model = DeterministicOde(state, param_list, ode=transition)\n",
    "SC2UIR_model.modelname='SC2UIR'\n",
    "SC2UIR_model.ei=1                  # case 1 i.e. I  # note I_c not included\n",
    "SC2UIR_model.confirmed=slice(1,5)  # cases 1-4 i.e. I, R, D, and I_c\n",
    "SC2UIR_model.recovered=slice(2,3)\n",
    "SC2UIR_model.deaths=slice(3,4)\n",
    "# display equations\n",
    "print_ode2(SC2UIR_model)"
   ]
  },
  {
   "cell_type": "code",
   "execution_count": null,
   "metadata": {
    "init_cell": true
   },
   "outputs": [],
   "source": [
    "# set up the symbolic model from transitions, works using separate birth and death list\n",
    "\n",
    "state = ['S', 'I', 'R', 'D', 'I_c', 'S_c', 'S_u', 'W']\n",
    "param_list = ['beta', 'gamma', 'mu', 'c_0', 'c_1', 'c_2', 'k_u', 'k_1', 'k_w','kappa', 'N']\n",
    "\n",
    "transition = [\n",
    "    Transition(origin='S', destination='I', equation='beta*(I+c_0*I_c)*S', transition_type=TransitionType.T),\n",
    "    Transition(origin='S', destination='S_c', equation='c_2*(I+I_c)*S', transition_type=TransitionType.T),\n",
    "    Transition(origin='S', destination='S_u', equation='k_u*(1-W)*S', transition_type=TransitionType.T),\n",
    "    Transition(origin='S_c', destination='S', equation='c_1*S_c', transition_type=TransitionType.T),\n",
    "    Transition(origin='S_c', destination='I_c', equation='c_0*beta*(I+c_0*I_c)*S_c', transition_type=TransitionType.T),\n",
    "    Transition(origin='S_c', destination='S_u', equation='k_u*(1-W)*S_c', transition_type=TransitionType.T),\n",
    "    Transition(origin='S_u', destination='S', equation='k_1*S_u', transition_type=TransitionType.T),   \n",
    "    Transition(origin='S_u', destination='I', equation='beta*(I+c_0*I_c)*S_u', transition_type=TransitionType.T),    \n",
    "    Transition(origin='I', destination='I_c', equation='c_2*(I+I_c)*I', transition_type=TransitionType.T),    \n",
    "    Transition(origin='I', destination='R', equation='gamma*I', transition_type=TransitionType.T), \n",
    "    Transition(origin='I', destination='D', equation='mu*I', transition_type=TransitionType.T), \n",
    "    Transition(origin='I_c', destination='I', equation='c_1*I_c', transition_type=TransitionType.T),\n",
    "    Transition(origin='I_c', destination='R', equation='gamma*I_c', transition_type=TransitionType.T), \n",
    "    Transition(origin='I_c', destination='D', equation='mu*I_c', transition_type=TransitionType.T),\n",
    "    Transition(origin='W', destination='D', equation='0*W', transition_type=TransitionType.T)\n",
    "    ]\n",
    "bdlist =     [Transition(origin='W',equation='k_w*W*(1-kappa*S_c-W)', transition_type=TransitionType.B)\n",
    "    ]\n",
    "SC2UIR_model = DeterministicOde(state, param_list, transition=transition)\n",
    "SC2UIR_model.birth_death_list = bdlist\n",
    "SC2UIR_model.modelname='SC2UIR'\n",
    "SC2UIR_model.ei=1                  # case 1 i.e. I  # note I_c not included\n",
    "SC2UIR_model.confirmed=slice(1,5)  # cases 1-4 i.e. I, R, D, and I_c\n",
    "SC2UIR_model.recovered=slice(2,3)\n",
    "SC2UIR_model.deaths=slice(3,4)"
   ]
  },
  {
   "cell_type": "code",
   "execution_count": 61,
   "metadata": {},
   "outputs": [
    {
     "data": {
      "text/latex": [
       "$\\displaystyle \\left[\\begin{matrix}d{S}/dt= & - S \\beta \\left(I + I_{c} c_{0}\\right) - S c_{2} \\left(I + I_{c}\\right) - S k_{u} \\left(1 - W\\right) + S_{c} c_{1} + S_{u} k_{1}\\\\d{I}/dt= & - I c_{2} \\left(I + I_{c}\\right) - I \\gamma - I \\mu + I_{c} c_{1} + S \\beta \\left(I + I_{c} c_{0}\\right) + S_{u} \\beta \\left(I + I_{c} c_{0}\\right)\\\\d{R}/dt= & I \\gamma + I_{c} \\gamma\\\\d{D}/dt= & I \\mu + I_{c} \\mu\\\\d{I_c}/dt= & I c_{2} \\left(I + I_{c}\\right) - I_{c} c_{1} - I_{c} \\gamma - I_{c} \\mu + S_{c} \\beta c_{0} \\left(I + I_{c} c_{0}\\right)\\\\d{S_c}/dt= & S c_{2} \\left(I + I_{c}\\right) - S_{c} \\beta c_{0} \\left(I + I_{c} c_{0}\\right) - S_{c} c_{1} - S_{c} k_{u} \\left(1 - W\\right)\\\\d{S_u}/dt= & S k_{u} \\left(1 - W\\right) + S_{c} k_{u} \\left(1 - W\\right) - S_{u} \\beta \\left(I + I_{c} c_{0}\\right) - S_{u} k_{1}\\\\d{W}/dt= & W k_{w} \\left(- S_{c} \\kappa - W + 1\\right)\\end{matrix}\\right]$"
      ],
      "text/plain": [
       "Matrix([\n",
       "[  d{S}/dt=,                 -S*beta*(I + I_c*c_0) - S*c_2*(I + I_c) - S*k_u*(1 - W) + S_c*c_1 + S_u*k_1],\n",
       "[  d{I}/dt=, -I*c_2*(I + I_c) - I*gamma - I*mu + I_c*c_1 + S*beta*(I + I_c*c_0) + S_u*beta*(I + I_c*c_0)],\n",
       "[  d{R}/dt=,                                                                         I*gamma + I_c*gamma],\n",
       "[  d{D}/dt=,                                                                               I*mu + I_c*mu],\n",
       "[d{I_c}/dt=,                 I*c_2*(I + I_c) - I_c*c_1 - I_c*gamma - I_c*mu + S_c*beta*c_0*(I + I_c*c_0)],\n",
       "[d{S_c}/dt=,                    S*c_2*(I + I_c) - S_c*beta*c_0*(I + I_c*c_0) - S_c*c_1 - S_c*k_u*(1 - W)],\n",
       "[d{S_u}/dt=,                          S*k_u*(1 - W) + S_c*k_u*(1 - W) - S_u*beta*(I + I_c*c_0) - S_u*k_1],\n",
       "[  d{W}/dt=,                                                                  W*k_w*(-S_c*kappa - W + 1)]])"
      ]
     },
     "execution_count": 61,
     "metadata": {},
     "output_type": "execute_result"
    }
   ],
   "source": [
    "# display equations\n",
    "print_ode2(SC2UIR_model)"
   ]
  },
  {
   "cell_type": "code",
   "execution_count": 62,
   "metadata": {},
   "outputs": [
    {
     "data": {
      "image/png": "[encoded data removed]",
      "text/plain": [
       "<Figure size 432x288 with 1 Axes>"
      ]
     },
     "metadata": {
      "needs_background": "light"
     },
     "output_type": "display_data"
    },
    {
     "data": {
      "image/svg+xml": [
       "<?xml version=\"1.0\" encoding=\"UTF-8\" standalone=\"no\"?>\n",
       "<!DOCTYPE svg PUBLIC \"-//W3C//DTD SVG 1.1//EN\"\n",
       " \"http://www.w3.org/Graphics/SVG/1.1/DTD/svg11.dtd\">\n",
       "<!-- Generated by graphviz version 2.44.0 (20200408.0750)\n",
       " -->\n",
       "<!-- Pages: 1 -->\n",
       "<svg width=\"1020pt\" height=\"225pt\"\n",
       " viewBox=\"0.00 0.00 1020.00 225.00\" xmlns=\"http://www.w3.org/2000/svg\" xmlns:xlink=\"http://www.w3.org/1999/xlink\">\n",
       "<g id=\"graph0\" class=\"graph\" transform=\"scale(1 1) rotate(0) translate(4 221)\">\n",
       "<polygon fill=\"white\" stroke=\"transparent\" points=\"-4,4 -4,-221 1016,-221 1016,4 -4,4\"/>\n",
       "<!-- S -->\n",
       "<g id=\"node1\" class=\"node\">\n",
       "<title>S</title>\n",
       "<ellipse fill=\"none\" stroke=\"black\" cx=\"27\" cy=\"-130\" rx=\"27\" ry=\"18\"/>\n",
       "<text text-anchor=\"middle\" x=\"27\" y=\"-126.3\" font-family=\"Times,serif\" font-size=\"14.00\">S</text>\n",
       "</g>\n",
       "<!-- I -->\n",
       "<g id=\"node2\" class=\"node\">\n",
       "<title>I</title>\n",
       "<ellipse fill=\"none\" stroke=\"black\" cx=\"661\" cy=\"-151\" rx=\"27\" ry=\"18\"/>\n",
       "<text text-anchor=\"middle\" x=\"661\" y=\"-147.3\" font-family=\"Times,serif\" font-size=\"14.00\">I</text>\n",
       "</g>\n",
       "<!-- S&#45;&gt;I -->\n",
       "<g id=\"edge1\" class=\"edge\">\n",
       "<title>S&#45;&gt;I</title>\n",
       "<path fill=\"none\" stroke=\"black\" d=\"M38.59,-113.74C46.43,-103.22 58.13,-90.35 72,-84 111.65,-65.85 126.4,-80.11 170,-79 203.77,-78.14 212.27,-77.2 246,-79 295.99,-81.67 308.69,-82.37 358,-91 398.56,-98.1 407.71,-104.47 448,-113 509.71,-126.06 582.16,-138.41 624.39,-145.31\"/>\n",
       "<polygon fill=\"black\" stroke=\"black\" points=\"624.01,-148.8 634.45,-146.95 625.14,-141.89 624.01,-148.8\"/>\n",
       "<text text-anchor=\"middle\" x=\"311\" y=\"-94.8\" font-family=\"Times,serif\" font-size=\"14.00\">β*(I+c_0*I_c)*S</text>\n",
       "</g>\n",
       "<!-- S_c -->\n",
       "<g id=\"node6\" class=\"node\">\n",
       "<title>S_c</title>\n",
       "<ellipse fill=\"none\" stroke=\"black\" cx=\"208\" cy=\"-106\" rx=\"27\" ry=\"18\"/>\n",
       "<text text-anchor=\"middle\" x=\"208\" y=\"-102.3\" font-family=\"Times,serif\" font-size=\"14.00\">S_c</text>\n",
       "</g>\n",
       "<!-- S&#45;&gt;S_c -->\n",
       "<g id=\"edge2\" class=\"edge\">\n",
       "<title>S&#45;&gt;S_c</title>\n",
       "<path fill=\"none\" stroke=\"black\" d=\"M53.65,-126.56C84.48,-122.43 136.43,-115.46 171.2,-110.8\"/>\n",
       "<polygon fill=\"black\" stroke=\"black\" points=\"171.96,-114.23 181.4,-109.43 171.02,-107.29 171.96,-114.23\"/>\n",
       "<text text-anchor=\"middle\" x=\"112\" y=\"-126.8\" font-family=\"Times,serif\" font-size=\"14.00\">c_2*(I+I_c)*S</text>\n",
       "</g>\n",
       "<!-- S_u -->\n",
       "<g id=\"node7\" class=\"node\">\n",
       "<title>S_u</title>\n",
       "<ellipse fill=\"none\" stroke=\"black\" cx=\"403\" cy=\"-160\" rx=\"27\" ry=\"18\"/>\n",
       "<text text-anchor=\"middle\" x=\"403\" y=\"-156.3\" font-family=\"Times,serif\" font-size=\"14.00\">S_u</text>\n",
       "</g>\n",
       "<!-- S&#45;&gt;S_u -->\n",
       "<g id=\"edge3\" class=\"edge\">\n",
       "<title>S&#45;&gt;S_u</title>\n",
       "<path fill=\"none\" stroke=\"black\" d=\"M39.44,-146.45C47.34,-156.34 58.77,-168.12 72,-174 188.16,-225.62 232.86,-196.3 358,-174 361.69,-173.34 365.5,-172.46 369.26,-171.45\"/>\n",
       "<polygon fill=\"black\" stroke=\"black\" points=\"370.4,-174.77 379,-168.58 368.41,-168.05 370.4,-174.77\"/>\n",
       "<text text-anchor=\"middle\" x=\"208\" y=\"-205.8\" font-family=\"Times,serif\" font-size=\"14.00\">k_u*(1&#45;W)*S</text>\n",
       "</g>\n",
       "<!-- R -->\n",
       "<g id=\"node3\" class=\"node\">\n",
       "<title>R</title>\n",
       "<ellipse fill=\"none\" stroke=\"black\" cx=\"985\" cy=\"-179\" rx=\"27\" ry=\"18\"/>\n",
       "<text text-anchor=\"middle\" x=\"985\" y=\"-175.3\" font-family=\"Times,serif\" font-size=\"14.00\">R</text>\n",
       "</g>\n",
       "<!-- I&#45;&gt;R -->\n",
       "<g id=\"edge10\" class=\"edge\">\n",
       "<title>I&#45;&gt;R</title>\n",
       "<path fill=\"none\" stroke=\"black\" d=\"M685.57,-158.71C701.13,-163.44 722.06,-169.12 741,-172 813.73,-183.06 900.08,-182.3 947.78,-180.69\"/>\n",
       "<polygon fill=\"black\" stroke=\"black\" points=\"948.06,-184.19 957.92,-180.32 947.8,-177.19 948.06,-184.19\"/>\n",
       "<text text-anchor=\"middle\" x=\"863\" y=\"-184.8\" font-family=\"Times,serif\" font-size=\"14.00\">γ*I</text>\n",
       "</g>\n",
       "<!-- D -->\n",
       "<g id=\"node4\" class=\"node\">\n",
       "<title>D</title>\n",
       "<ellipse fill=\"none\" stroke=\"black\" cx=\"985\" cy=\"-72\" rx=\"27\" ry=\"18\"/>\n",
       "<text text-anchor=\"middle\" x=\"985\" y=\"-68.3\" font-family=\"Times,serif\" font-size=\"14.00\">D</text>\n",
       "</g>\n",
       "<!-- I&#45;&gt;D -->\n",
       "<g id=\"edge11\" class=\"edge\">\n",
       "<title>I&#45;&gt;D</title>\n",
       "<path fill=\"none\" stroke=\"black\" d=\"M683.73,-141.21C716.18,-127.04 779.5,-101.08 836,-88 873.61,-79.29 917.73,-75.3 947.94,-73.48\"/>\n",
       "<polygon fill=\"black\" stroke=\"black\" points=\"948.23,-76.97 958.02,-72.93 947.84,-69.98 948.23,-76.97\"/>\n",
       "<text text-anchor=\"middle\" x=\"863\" y=\"-91.8\" font-family=\"Times,serif\" font-size=\"14.00\">μ*I</text>\n",
       "</g>\n",
       "<!-- I_c -->\n",
       "<g id=\"node5\" class=\"node\">\n",
       "<title>I_c</title>\n",
       "<ellipse fill=\"none\" stroke=\"black\" cx=\"863\" cy=\"-130\" rx=\"27\" ry=\"18\"/>\n",
       "<text text-anchor=\"middle\" x=\"863\" y=\"-126.3\" font-family=\"Times,serif\" font-size=\"14.00\">I_c</text>\n",
       "</g>\n",
       "<!-- I&#45;&gt;I_c -->\n",
       "<g id=\"edge9\" class=\"edge\">\n",
       "<title>I&#45;&gt;I_c</title>\n",
       "<path fill=\"none\" stroke=\"black\" d=\"M685.57,-143.45C701.12,-138.87 722.06,-133.44 741,-131 769.31,-127.35 801.66,-127.3 825.78,-128.05\"/>\n",
       "<polygon fill=\"black\" stroke=\"black\" points=\"825.79,-131.55 835.91,-128.42 826.05,-124.55 825.79,-131.55\"/>\n",
       "<text text-anchor=\"middle\" x=\"779.5\" y=\"-134.8\" font-family=\"Times,serif\" font-size=\"14.00\">c_2*(I+I_c)*I</text>\n",
       "</g>\n",
       "<!-- I_c&#45;&gt;I -->\n",
       "<g id=\"edge12\" class=\"edge\">\n",
       "<title>I_c&#45;&gt;I</title>\n",
       "<path fill=\"none\" stroke=\"black\" d=\"M840,-139.54C833.09,-142.12 825.34,-144.58 818,-146 777.48,-153.81 729.97,-154.1 698.12,-153.05\"/>\n",
       "<polygon fill=\"black\" stroke=\"black\" points=\"698.08,-149.54 687.95,-152.65 697.8,-156.54 698.08,-149.54\"/>\n",
       "<text text-anchor=\"middle\" x=\"779.5\" y=\"-156.8\" font-family=\"Times,serif\" font-size=\"14.00\">c_1*I_c</text>\n",
       "</g>\n",
       "<!-- I_c&#45;&gt;R -->\n",
       "<g id=\"edge13\" class=\"edge\">\n",
       "<title>I_c&#45;&gt;R</title>\n",
       "<path fill=\"none\" stroke=\"black\" d=\"M886.57,-139.22C905.09,-146.78 931.54,-157.58 952.2,-166.02\"/>\n",
       "<polygon fill=\"black\" stroke=\"black\" points=\"950.95,-169.28 961.53,-169.82 953.6,-162.8 950.95,-169.28\"/>\n",
       "<text text-anchor=\"middle\" x=\"924\" y=\"-163.8\" font-family=\"Times,serif\" font-size=\"14.00\">γ*I_c</text>\n",
       "</g>\n",
       "<!-- I_c&#45;&gt;D -->\n",
       "<g id=\"edge14\" class=\"edge\">\n",
       "<title>I_c&#45;&gt;D</title>\n",
       "<path fill=\"none\" stroke=\"black\" d=\"M885.45,-119.63C904.39,-110.48 932.22,-97.02 953.48,-86.75\"/>\n",
       "<polygon fill=\"black\" stroke=\"black\" points=\"955.25,-89.78 962.73,-82.28 952.21,-83.48 955.25,-89.78\"/>\n",
       "<text text-anchor=\"middle\" x=\"924\" y=\"-110.8\" font-family=\"Times,serif\" font-size=\"14.00\">μ*I_c</text>\n",
       "</g>\n",
       "<!-- S_c&#45;&gt;S -->\n",
       "<g id=\"edge4\" class=\"edge\">\n",
       "<title>S_c&#45;&gt;S</title>\n",
       "<path fill=\"none\" stroke=\"black\" d=\"M183.31,-98.01C155.73,-90.03 109.23,-80.71 72,-94 63.9,-96.89 56.21,-101.99 49.59,-107.46\"/>\n",
       "<polygon fill=\"black\" stroke=\"black\" points=\"46.93,-105.15 41.84,-114.44 51.61,-110.35 46.93,-105.15\"/>\n",
       "<text text-anchor=\"middle\" x=\"112\" y=\"-97.8\" font-family=\"Times,serif\" font-size=\"14.00\">c_1*S_c</text>\n",
       "</g>\n",
       "<!-- S_c&#45;&gt;I_c -->\n",
       "<g id=\"edge5\" class=\"edge\">\n",
       "<title>S_c&#45;&gt;I_c</title>\n",
       "<path fill=\"none\" stroke=\"black\" d=\"M235.19,-105.52C319.77,-104.23 593.15,-102.07 818,-123 820.72,-123.25 823.53,-123.57 826.35,-123.93\"/>\n",
       "<polygon fill=\"black\" stroke=\"black\" points=\"826.09,-127.43 836.48,-125.36 827.07,-120.49 826.09,-127.43\"/>\n",
       "<text text-anchor=\"middle\" x=\"514.5\" y=\"-111.8\" font-family=\"Times,serif\" font-size=\"14.00\">c_0*β*(I+c_0*I_c)*S_c</text>\n",
       "</g>\n",
       "<!-- S_c&#45;&gt;S_u -->\n",
       "<g id=\"edge6\" class=\"edge\">\n",
       "<title>S_c&#45;&gt;S_u</title>\n",
       "<path fill=\"none\" stroke=\"black\" d=\"M235.18,-107.12C265.64,-109.15 316.99,-114.88 358,-131 364.26,-133.46 370.55,-136.9 376.34,-140.55\"/>\n",
       "<polygon fill=\"black\" stroke=\"black\" points=\"374.7,-143.66 384.95,-146.35 378.61,-137.86 374.7,-143.66\"/>\n",
       "<text text-anchor=\"middle\" x=\"311\" y=\"-134.8\" font-family=\"Times,serif\" font-size=\"14.00\">k_u*(1&#45;W)*S_c</text>\n",
       "</g>\n",
       "<!-- S_u&#45;&gt;S -->\n",
       "<g id=\"edge7\" class=\"edge\">\n",
       "<title>S_u&#45;&gt;S</title>\n",
       "<path fill=\"none\" stroke=\"black\" d=\"M375.7,-160.44C319.54,-160.98 183.87,-160.1 72,-142 68.72,-141.47 65.33,-140.79 61.95,-140.02\"/>\n",
       "<polygon fill=\"black\" stroke=\"black\" points=\"62.56,-136.57 52.01,-137.53 60.86,-143.36 62.56,-136.57\"/>\n",
       "<text text-anchor=\"middle\" x=\"208\" y=\"-161.8\" font-family=\"Times,serif\" font-size=\"14.00\">k_1*S_u</text>\n",
       "</g>\n",
       "<!-- S_u&#45;&gt;I -->\n",
       "<g id=\"edge8\" class=\"edge\">\n",
       "<title>S_u&#45;&gt;I</title>\n",
       "<path fill=\"none\" stroke=\"black\" d=\"M430.43,-159.07C476.45,-157.45 571.33,-154.12 623.56,-152.28\"/>\n",
       "<polygon fill=\"black\" stroke=\"black\" points=\"623.84,-155.77 633.71,-151.92 623.59,-148.78 623.84,-155.77\"/>\n",
       "<text text-anchor=\"middle\" x=\"514.5\" y=\"-161.8\" font-family=\"Times,serif\" font-size=\"14.00\">β*(I+c_0*I_c)*S_u</text>\n",
       "</g>\n",
       "<!-- W -->\n",
       "<g id=\"node8\" class=\"node\">\n",
       "<title>W</title>\n",
       "<ellipse fill=\"none\" stroke=\"black\" cx=\"863\" cy=\"-18\" rx=\"27\" ry=\"18\"/>\n",
       "<text text-anchor=\"middle\" x=\"863\" y=\"-14.3\" font-family=\"Times,serif\" font-size=\"14.00\">W</text>\n",
       "</g>\n",
       "<!-- W&#45;&gt;D -->\n",
       "<g id=\"edge15\" class=\"edge\">\n",
       "<title>W&#45;&gt;D</title>\n",
       "<path fill=\"none\" stroke=\"black\" d=\"M888.6,-24.3C903.8,-28.62 923.49,-35.02 940,-43 945.95,-45.87 952.04,-49.43 957.72,-53.06\"/>\n",
       "<polygon fill=\"black\" stroke=\"black\" points=\"955.97,-56.1 966.23,-58.74 959.85,-50.28 955.97,-56.1\"/>\n",
       "<text text-anchor=\"middle\" x=\"924\" y=\"-46.8\" font-family=\"Times,serif\" font-size=\"14.00\">0*W</text>\n",
       "</g>\n",
       "<!-- k_w*W*(1&#45;&kappa;*S_c&#45;W) -->\n",
       "<g id=\"node9\" class=\"node\">\n",
       "<title>k_w*W*(1&#45;&kappa;*S_c&#45;W)</title>\n",
       "<text text-anchor=\"middle\" x=\"661\" y=\"-14.3\" font-family=\"Times,serif\" font-size=\"14.00\">k_w*W*(1&#45;κ*S_c&#45;W)</text>\n",
       "</g>\n",
       "<!-- k_w*W*(1&#45;&kappa;*S_c&#45;W)&#45;&gt;W -->\n",
       "<g id=\"edge16\" class=\"edge\">\n",
       "<title>k_w*W*(1&#45;&kappa;*S_c&#45;W)&#45;&gt;W</title>\n",
       "<path fill=\"none\" stroke=\"black\" d=\"M723.09,-18C756.61,-18 797.03,-18 825.6,-18\"/>\n",
       "<polygon fill=\"black\" stroke=\"black\" points=\"825.93,-21.5 835.93,-18 825.93,-14.5 825.93,-21.5\"/>\n",
       "</g>\n",
       "</g>\n",
       "</svg>\n"
      ],
      "text/plain": [
       "<graphviz.dot.Digraph at 0x11e2a5510>"
      ]
     },
     "execution_count": 62,
     "metadata": {},
     "output_type": "execute_result"
    }
   ],
   "source": [
    "SC2UIR_model.get_transition_graph()"
   ]
  },
  {
   "cell_type": "code",
   "execution_count": 39,
   "metadata": {},
   "outputs": [],
   "source": [
    "ode = SimulateOde(state, param_list, ode=transition)\n",
    "ode = ode.get_unrolled_obj()\n",
    "# R0(ode, ['I','I_c'])   # produces error, no valid subset found"
   ]
  },
  {
   "cell_type": "markdown",
   "metadata": {},
   "source": [
    "### SC3UEIR model"
   ]
  },
  {
   "cell_type": "markdown",
   "metadata": {},
   "source": [
    "#### Equations\n",
    "\\begin{equation}\n",
    "\\begin{split}\n",
    "\\dot{S} &= -\\beta (I + c_0 I_c) S + c_1 S_c - c_2 S (I + I_c) -  k_u (1 - W) S + k_1 S_u\\\\\n",
    "\\dot{S_c} &= - c_0 \\beta (I + c_0 I_c) S_c - c_1 S_c + c_2 S (I + I_c) -  k_u (1 - W) S_c\\\\\n",
    "\\dot{E} &= \\beta (I + c_0 I_c) (S + S_u) - \\alpha E + c_1 E_c - c_2 E (I + I_c)\\\\\n",
    "\\dot{E_c} &= c_0 \\beta (I + c_0 I_c) S_c - \\alpha E_c - c_1 E_c + c_2 E (I + I_c)\\\\\n",
    "\\dot{I} &= \\alpha E - \\gamma I - \\mu I + c_1 I_c - c_2 I (I + I_c)\\\\\n",
    "\\dot{I_c} &= \\alpha E_c - \\gamma I_c - \\mu I_c - c_1 I_c + c_2 I (I + I_c)\\\\\n",
    "\\dot{R} & = \\gamma (I + I_c) \\\\\n",
    "\\dot{D} & = \\mu (I + I_c) \\\\\n",
    "\\dot{S_u} & = -\\beta (I + c_0 I_c) S_u + k_u (1 - W) (S + S_c)  - k_1 S_u \\\\\n",
    "\\dot{W} & = k_w W (1 - \\kappa S_c - W)\n",
    "\\end{split}\n",
    "\\end{equation}\n",
    "\n",
    "#### Variables\n",
    "* $S$: Susceptible individuals living as normal\n",
    "* $S_c$: Susceptible individuals exercising pandemy precautions\n",
    "* $S_u$: Susceptible individuals immune to caution because of economic downturn\n",
    "* $E$: Exposed individuals\n",
    "* $E_c$: Exposed individuals exercising caution\n",
    "* $I$: Infected individuals\n",
    "* $I_c$: Infected individuals exercising caution\n",
    "* $R$: individuals who have recovered from disease and are now immune\n",
    "* $D$: Dead individuals\n",
    "* $W$: Economic status obeying a logistic law with caution individuals downturning\n",
    "* $N=S+S_c+S_u+E+E_c+I+I_c+R+D$ Total population size (constant)\n",
    "\n",
    "#### Parameters\n",
    "* $\\beta$ rate at which infected individuals contact susceptibles and infect them\n",
    "* $\\alpha$ rate at which exposed individuals become infected (1/(incubation time)\n",
    "* $\\gamma$ rate at which infected individuals recover from disease and become immune\n",
    "* $\\mu$ death rate for infected individuals\n",
    "\n",
    "* $c_i$ three parameters characterizing cautionary response of population via class $S_c$\n",
    "\n",
    "    - c_0 : reduction factor for exposure for cautioned susceptibles\n",
    "\n",
    "    - c_1 : inverse duration of caution (exponential decay time constant in days)\n",
    "\n",
    "    - c_2 : rate constant for transition from uncautioned to cautioned susceptible\n",
    "* four parameters coupling to economy and uncautionable individuals\n",
    "    - k_w : rate coefficient of economy equilibration\n",
    "    - k_u : rate coefficient of transition from uncautioned to uncautionable\n",
    "    - k_1 : inverse duration of uncautionable state\n",
    "    - $\\kappa$ : economic downturn of caution (proportional to number cautious)"
   ]
  },
  {
   "cell_type": "markdown",
   "metadata": {
    "slideshow": {
     "slide_type": "slide"
    }
   },
   "source": [
    "####  Implementation"
   ]
  },
  {
   "cell_type": "code",
   "execution_count": null,
   "metadata": {
    "init_cell": true
   },
   "outputs": [],
   "source": [
    "# set up the symbolic model\n",
    "\n",
    "state = ['S', 'E', 'I', 'R', 'D', 'I_c', 'S_c', 'E_c', 'S_u', 'W']\n",
    "param_list = ['beta', 'alpha', 'gamma', 'mu', 'c_0', 'c_1', 'c_2', 'k_u', 'k_1', 'k_w','kappa', 'N']\n",
    "\n",
    "transition = [\n",
    "    Transition(origin='S', equation='-beta*(I+c_0*I_c)*S+c_1*S_c-c_2*(I+I_c)*S-k_u*(1-W)*S+k_1*S_u'),\n",
    "    Transition(origin='S_c', equation='-c_0*beta*(I+c_0*I_c)*S_c-c_1*S_c+c_2*(I+I_c)*S-k_u*(1-W)*S_c'),\n",
    "    Transition(origin='S_u', equation='-beta*(I+c_0*I_c)*S_u+k_u*(1-W)*(S+S_c)-k_1*S_u'),\n",
    "    Transition(origin='E', equation='beta*(I+c_0*I_c)*(S+S_u)-alpha*E+c_1*E_c-c_2*(I+I_c)*E'),\n",
    "    Transition(origin='E_c', equation='c_0*beta*(I+c_0*I_c)*S_c-alpha*E_c-c_1*E_c+c_2*(I+I_c)*E'),\n",
    "    Transition(origin='I', equation='alpha*E-gamma*I-mu*I+c_1*I_c-c_2*(I+I_c)*I'),\n",
    "    Transition(origin='I_c', equation='alpha*E_c-gamma*I_c-mu*I_c-c_1*I_c+c_2*(I+I_c)*I'),\n",
    "    Transition(origin='R', equation='gamma*(I+I_c)'),\n",
    "    Transition(origin='D', equation='mu*(I+I_c)'),\n",
    "    Transition(origin='W', equation='k_w*W*(1-kappa*S_c-W)')\n",
    "    ]\n",
    "\n",
    "SC3UEIR_model = DeterministicOde(state, param_list, ode=transition)\n",
    "SC3UEIR_model.modelname='SC3UEIR'\n",
    "SC3UEIR_model.ei=slice(1,3) # cases 1,2 i.e. E,I  # note E_c and I_c not included\n",
    "SC3UEIR_model.confirmed=slice(2,6)  # cases 2-5 i.e. I, R, D, and I_c, not E, E_c\n",
    "SC3UEIR_model.recovered=slice(3,4)\n",
    "SC3UEIR_model.deaths=slice(4,5)"
   ]
  },
  {
   "cell_type": "code",
   "execution_count": null,
   "metadata": {},
   "outputs": [],
   "source": [
    "# display equations\n",
    "print_ode2(SC3UEIR_model)"
   ]
  },
  {
   "cell_type": "markdown",
   "metadata": {},
   "source": [
    "### SC3UEI3R model"
   ]
  },
  {
   "cell_type": "markdown",
   "metadata": {},
   "source": [
    "#### Equations \n",
    "\n",
    "\\begin{equation}\n",
    "\\begin{split}\n",
    "\\dot{S} &={} -(\\beta_1 (I_1 + c_0 I_c) + \\beta_2 I_2 + \\beta_3 I_3) S + c_1 S_c - c_2 S I_3 - S k_u (1-W) + k_1 S_u\\\\\n",
    "\\dot{S_c} &={} - c_0 (\\beta_1 (I_1 + c_0 I_c) + \\beta_2 I_2 + \\beta_3 I_3) S_c - c_1 S_c + c_2 S I_3 - k_u (1 - W) S_c \\\\\n",
    "\\dot{E} &= \\beta_1 (I_1 + c_0 I_c) (S + S_u) - \\alpha E + c_1 E_c - c_2 I_3 E\\\\\n",
    "\\dot{E_c} &= c_0 \\beta_1 (I_1 + c_0 I_c) S_c - \\alpha E_c - c_1 E_c + c_2 I_3 E\\\\\n",
    "\\dot{I_1} &= \\alpha E - \\gamma_1 I_1 - p_1 I_1 + c_1 I_c - c_2 I_3 I_1\\\\\n",
    "\\dot{I_c} &= \\alpha E_c - \\gamma_1 I_c - p_1 I_c - c_1 I_c + c_2 I_3 I_1\\\\\n",
    "\\dot{I_2} &= p_1 (I_1 + I_c) -\\gamma_2 I_2 - p_2 I_2 \\\\\n",
    "\\dot{I_3} & = p_2 I_2 -\\gamma_3 I_3 - \\mu I_3 \\\\ \n",
    "\\dot{R} & = \\gamma_1 (I_1 + I_c) +\\gamma_2 I_2 + \\gamma_3 I_3\\\\\n",
    "\\dot{D} & = \\mu (I_3) \\\\\n",
    "\\dot{S_u} & = -(\\beta_1 (I_1 + c_0 I_c)+\\beta_2 I_2 + \\beta_3 I_3) S_u + k_u (1 - W)(S+ S_c)  - k_1 S_u \\\\\n",
    "\\dot{W} & = k_w W (1 - \\kappa S_c - W)\\\\\n",
    "\\end{split}\n",
    "\\end{equation}\n",
    "\n",
    "#### Variables\n",
    "* $S$: Susceptible individuals living as normal\n",
    "* $S_c$: Susceptible individuals exercising pandemy precautions\n",
    "* $S_u$: Susceptible individuals immune to caution because of economic downturn\n",
    "* $W$: Economic status obeying a logistic law with caution individuals downturning\n",
    "* $E$: Exposed individuals\n",
    "* $E_c$: Exposed individuals exercising caution\n",
    "* $I_i$: Infected individuals in severity class $i$. Severity increaes with $i$ and we assume individuals must pass through all previous classes. Split non hospital cases by caution.\n",
    "  * $I_1$: Mild infection (hospitalization not required), living as normal\n",
    "  * $I_c$: Mild infection (hospitalization not required), exercising caution\n",
    "  * $I_2$: Severe infection (hospitalization required)\n",
    "  * $I_3$: Critical infection (ICU required)\n",
    "* $R$: individuals who have recovered from disease and are now immune\n",
    "* $D$: Dead individuals\n",
    "* $N=S+S_c+S_u+E+E_c+I_1+I_c+I_2+I_3+R+D$ Total population size (constant)\n",
    "\n",
    "#### Parameters\n",
    "* $\\beta$ rate at which infected individuals contact susceptibles and infect them\n",
    "* $\\alpha$ rate at which exposed individuals become infected (1/(incubation time)\n",
    "* $\\gamma$ rate at which infected individuals recover from disease and become immune\n",
    "* $\\mu$ death rate for infected individuals\n",
    "* $\\gamma_i$ rate at which infected individuals in class $I_i$ recover from disease and become immune\n",
    "* $p_i$ rate at which infected individuals in class $I_i$ progress to class $I_{I+1}$\n",
    "* $c_i$ three parameters characterizing cautionary response of population via class $S_c$\n",
    "\n",
    "    - $c_0$ : reduction factor for exposure for cautioned susceptibles\n",
    "\n",
    "    - $c_1$ : inverse duration of caution (exponential decay time constant in days)\n",
    "\n",
    "    - $c_2$ : rate constant for transition from uncautioned to cautioned susceptible\n",
    "* four parameters coupling to economy and uncautionable individuals\n",
    "    - $k_w$ : rate coefficient of economy equilibration\n",
    "    - $k_u$ : rate coefficient of transition from uncautioned to uncautionable\n",
    "    - $k_1$ : inverse duration of uncautionable state\n",
    "    - $\\kappa$ : economic downturn of caution (proportional to number cautious)"
   ]
  },
  {
   "cell_type": "markdown",
   "metadata": {
    "slideshow": {
     "slide_type": "slide"
    }
   },
   "source": [
    "####  Implementation"
   ]
  },
  {
   "cell_type": "code",
   "execution_count": 23,
   "metadata": {},
   "outputs": [],
   "source": [
    "# set up the symbolic model\n",
    "\n",
    "state = ['S', 'E', 'I_1', 'I_2', 'I_3', 'R', 'D',  'I_c', 'S_c', 'E_c', 'S_u', 'W'] # order important to allow correct plot groupings\n",
    "param_list = ['beta_1', 'beta_2', 'beta_3', 'p_1', 'p_2', 'alpha', \n",
    "              'gamma_1', 'gamma_2', 'gamma_3','mu', 'c_0', 'c_1', 'c_2', 'k_u', 'k_1', 'k_w', 'kappa', 'N'] # order also important\n",
    "\n",
    "transition = [\n",
    "    Transition(origin='S', equation='-(beta_1*(I_1+c_0*I_c)+beta_2*I_2+beta_3*I_3)*S+c_1*S_c-c_2*(I_3)*S-k_u*(1-W)*S+k_1*S_u'),\n",
    "    Transition(origin='S_c', equation='-c_0*(beta_1*(I_1+c_0*I_c)+beta_2*I_2+beta_3*I_3)*S_c-c_1*S_c+c_2*(I_3)*S-k_u*(1-W)*S_c'),\n",
    "    Transition(origin='S_u', equation='-(beta_1*(I_1+c_0*I_c)+beta_2*I_2+beta_3*I_3)*S_u+k_u*(1-W)*(S+S_c)-k_1*S_u'),\n",
    "    Transition(origin='W', equation='k_w*W*(1-kappa*S_c-W)'),\n",
    "    Transition(origin='E', equation='beta_1*(I_1+c_0*I_c)*(S+S_u)-alpha*E-c_2*(I_3)*E+c_1*E_c'),\n",
    "    Transition(origin='E_c', equation='c_0*beta_1*(I_1+c_0*I_c)*S_c-alpha*E_c+c_2*(I_3)*E-c_1*E_c'),\n",
    "    Transition(origin='I_1', equation='alpha*E-gamma_1*I_1-p_1*I_1-c_2*(I_3)*I_1+c_1*I_c'),\n",
    "    Transition(origin='I_c', equation='alpha*E_c-gamma_1*I_c-p_1*I_c+c_2*(I_3)*I_1-c_1*I_c'), # changed to I_c, prints better\n",
    "    Transition(origin='I_2', equation='p_1*(I_1+I_c)-gamma_2*I_2-p_2*I_2'),\n",
    "    Transition(origin='I_3', equation='p_2*I_2-gamma_3*I_3-mu*I_3'),     # error corrected, this is equation for I_3 not I_2\n",
    "    Transition(origin='R', equation='gamma_1*(I_1+I_c)+gamma_2*I_2+gamma_3*I_3'),\n",
    "    Transition(origin='D', equation='mu*I_3')\n",
    "    ]\n",
    "\n",
    "SC3UEI3R_model = DeterministicOde(state, param_list, ode=transition)\n",
    "SC3UEI3R_model.modelname='SC3UEI3R'  # following needs to be adjusted for new models, NB add new species at end to preserve slice subsets\n",
    "SC3UEI3R_model.ei=slice(1,5)         # 1,2,3,4 i.e. E,I_1,I_2,I_3 – not E_c and I_c \n",
    "SC3UEI3R_model.confirmed=slice(2,8)  # cases 2-7 i.e. I1, I2, I3, R, D and I_c\n",
    "SC3UEI3R_model.recovered=slice(5,6)  # case 5 R\n",
    "SC3UEI3R_model.deaths=slice(6,7)     # case 6 D"
   ]
  },
  {
   "cell_type": "code",
   "execution_count": null,
   "metadata": {
    "scrolled": false
   },
   "outputs": [],
   "source": [
    "# display equations\n",
    "print_ode2(SC3UEI3R_model) # name needs to be that of current model"
   ]
  },
  {
   "cell_type": "markdown",
   "metadata": {},
   "source": [
    "# Extract data from Johns Hopkins data base"
   ]
  },
  {
   "cell_type": "markdown",
   "metadata": {},
   "source": [
    "## Definition of data extraction fuctions get_data and get_country_data"
   ]
  },
  {
   "cell_type": "code",
   "execution_count": 13,
   "metadata": {
    "init_cell": true
   },
   "outputs": [
    {
     "data": {
      "text/html": [
       "<style>.container { width:100% !important; }</style>"
      ],
      "text/plain": [
       "<IPython.core.display.HTML object>"
      ]
     },
     "metadata": {},
     "output_type": "display_data"
    }
   ],
   "source": [
    "import numpy as np\n",
    "import csv\n",
    "import itertools\n",
    "import matplotlib\n",
    "%matplotlib inline\n",
    "import seaborn as sb\n",
    "from matplotlib import pyplot as plt\n",
    "from cycler import cycler\n",
    "import datetime\n",
    "import matplotlib.dates as mdates\n",
    "from pandas.plotting import register_matplotlib_converters\n",
    "register_matplotlib_converters()\n",
    "import pwlf\n",
    "import sys\n",
    "from IPython.core.display import display, HTML\n",
    "display(HTML(\"<style>.container { width:100% !important; }</style>\"))"
   ]
  },
  {
   "cell_type": "code",
   "execution_count": 14,
   "metadata": {
    "init_cell": true
   },
   "outputs": [],
   "source": [
    "def get_data(jhu_file):\n",
    "    dat = []\n",
    "    with open(jhu_file, newline='') as csvfile:\n",
    "        myreader = csv.reader(csvfile, delimiter=',')\n",
    "        popdat = []\n",
    "        i = 0\n",
    "        for row in myreader:\n",
    "            if i != 0:\n",
    "                poplist = []\n",
    "                j = 0\n",
    "                for elt in row:\n",
    "                    if j >= 4:\n",
    "                        poplist.append(int(elt))\n",
    "                    elif j == 0:\n",
    "                        poplist.append(elt)\n",
    "                    elif j == 1:\n",
    "                        poplist[0]=(elt,poplist[0])\n",
    "                    j = j+1\n",
    "                popdat.append(poplist)\n",
    "            else:\n",
    "                popdat.append(row)\n",
    "            # print(popdat[i])\n",
    "            i = i + 1;\n",
    "    # dates\n",
    "    popdat0=['dates']\n",
    "    for elt in popdat[0][4:]:\n",
    "        popdat0.append(elt)\n",
    "    popdat[0] = [pop for pop in popdat0]\n",
    "    # print('popdat[0]',popdat[0])\n",
    "    # totals over all countries\n",
    "    totals = np.zeros(len(popdat[0])-1,dtype=int)\n",
    "    for row in popdat[1:]:\n",
    "        totals = totals + np.array(row[1:])\n",
    "    totals = list(np.asarray(totals))\n",
    "    # print(totals)\n",
    "    popkeyed = {poplist[0]: poplist[1:] for poplist in popdat}\n",
    "    popkeyed.update({'dates':popdat[0][1:]})\n",
    "    popkeyed.update({('World',''):totals})\n",
    "    # del popkeyed[('d','a')]\n",
    "    # assemble totals for countries with multiple regions\n",
    "    total = np.zeros(len(popkeyed['dates']),dtype=int)\n",
    "    poptotkeyed = {}\n",
    "    for country,tseries in popkeyed.items():\n",
    "        if country!='dates' and country[1] != '': # it seems that UK is single exception with both '' and non '' regions, UK total is then UK overseas\n",
    "            countrytotal = (country[0],'Total')\n",
    "            if countrytotal in poptotkeyed:\n",
    "                # print(country,popkeyed[country],poptotkeyed[countrytotal])\n",
    "                total = np.array(tseries)[:]+np.array(poptotkeyed[countrytotal])[:]\n",
    "            else:\n",
    "                total =  np.array(tseries)                        \n",
    "            poptotkeyed.update({countrytotal:list(total)})\n",
    "    for countrytotal,tseries in poptotkeyed.items():\n",
    "        total = np.array(tseries)\n",
    "        popkeyed.update({countrytotal:list(total)})\n",
    "    return popkeyed"
   ]
  },
  {
   "cell_type": "code",
   "execution_count": 15,
   "metadata": {
    "init_cell": true
   },
   "outputs": [],
   "source": [
    "def Float(x):\n",
    "    try:\n",
    "        rtn = float(x)\n",
    "    except:\n",
    "        rtn = float('NaN')\n",
    "    return rtn"
   ]
  },
  {
   "cell_type": "code",
   "execution_count": 16,
   "metadata": {
    "init_cell": true
   },
   "outputs": [],
   "source": [
    "# from covid_data_explore-jhu-j\n",
    "def get_country_data(country_s='World', datatype='confirmed', firstdate=None, lastdate=None):\n",
    "    if isinstance(country_s,str):\n",
    "        country = (country_s,'')\n",
    "    else:                               # single ('country','reg') entry\n",
    "        country = country_s\n",
    "    popkeyed = covid_ts[datatype]\n",
    "    \n",
    "    dates = popkeyed['dates']\n",
    "    fmt = '%m/%d/%y'\n",
    "    xx = [datetime.datetime.strptime(dd,fmt) for dd in dates ]\n",
    "    if firstdate:\n",
    "        firstdate_d = datetime.datetime.strptime(firstdate,fmt)\n",
    "    else:\n",
    "        firstdate_d = datetime.datetime.strptime(dates[0],fmt)\n",
    "    if lastdate:\n",
    "        lastdate_d = datetime.datetime.strptime(lastdate,fmt)\n",
    "    else:\n",
    "        lastdate_d = datetime.datetime.strptime(dates[-1],fmt)    \n",
    "    daystart = (firstdate_d-xx[0]).days\n",
    "    daystop = (lastdate_d-xx[-1]).days\n",
    "\n",
    "    try:\n",
    "        yy = popkeyed[country]\n",
    "        # print(country)\n",
    "    except:\n",
    "            print('country data not found',country)\n",
    "            return None,None,None\n",
    "    yyf = [Float(y) for y in yy]\n",
    "    \n",
    "    if daystart <0:\n",
    "        xx0 = [xx[0]+datetime.timedelta(days=i) for i in range(daystart,0)]\n",
    "        yy0 = [0.]*(-daystart)\n",
    "    else:\n",
    "        xx0 = []\n",
    "        yy0 = []\n",
    "    if daystop > 0:\n",
    "        xx1 = [xx[-1]+datetime.timedelta(days=i) for i in range(daystop)]\n",
    "        yy1 = [0.]*(daystop)\n",
    "    else:\n",
    "        xx1 = []\n",
    "        yy1 = []       \n",
    "    xx = xx0 + xx + xx1\n",
    "    xxf = [Float((x-firstdate_d).days) for x in xx ]\n",
    "    \n",
    "    yy = yy0 + yyf + yy1\n",
    "    return xx,xxf,yy \n",
    "\n"
   ]
  },
  {
   "cell_type": "code",
   "execution_count": 17,
   "metadata": {
    "init_cell": true
   },
   "outputs": [],
   "source": [
    "def get_country_data_nyw(country_s='World', datatype='confirmed', firstdate=None, lastdate=None):\n",
    "    if isinstance(country_s,str):\n",
    "        country = (country_s,'')\n",
    "    else:                               # single ('country','reg') entry\n",
    "        country = country_s\n",
    "    popkeyed = covid_ts[datatype]\n",
    "    \n",
    "    dates = popkeyed['dates']\n",
    "    fmt = '%m/%d/%y'\n",
    "    xx = [datetime.datetime.strptime(dd,fmt) for dd in dates ]\n",
    "    if firstdate:\n",
    "        firstdate_d = datetime.datetime.strptime(firstdate,fmt)\n",
    "    else:\n",
    "        firstdate_d = datetime.datetime.strptime(dates[0],fmt)\n",
    "    if lastdate:\n",
    "        lastdate_d = datetime.datetime.strptime(lastdate,fmt)\n",
    "    else:\n",
    "        lastdate_d = datetime.datetime.strptime(dates[-1],fmt)    \n",
    "    daystart = (firstdate_d-xx[0]).days\n",
    "    daystop = (lastdate_d-xx[-1]).days\n",
    "    \n",
    "    try:\n",
    "        yy = popkeyed[country]\n",
    "        # print(country)\n",
    "    except:\n",
    "            print('country data not found',country)\n",
    "            return None,None      \n",
    "    yyf = [Float(y) for y in yy]\n",
    "\n",
    "    yy0 = []\n",
    "    yy1 = []  \n",
    "    if daystart>len(yyf):\n",
    "        print('Error: start date does not overlap with available data')\n",
    "        return None,None\n",
    "    elif daystart>0:\n",
    "        yyf = yyf[daystart:]\n",
    "    elif daystart <0:\n",
    "        yy0 = [0.]*(-daystart)\n",
    "        \n",
    "    if daystop < 0:\n",
    "        yyf = yyf[:daystop]  \n",
    "    elif daystop > 0:\n",
    "        yy1 = [0.]*(daystop)\n",
    "    yyf = yy0 + yyf + yy1\n",
    "    xxf = [float(x) for x in range(len(yyf))]\n",
    "    return xxf,yyf "
   ]
  },
  {
   "cell_type": "markdown",
   "metadata": {},
   "source": [
    "## JHU data"
   ]
  },
  {
   "cell_type": "code",
   "execution_count": 18,
   "metadata": {
    "init_cell": true
   },
   "outputs": [
    {
     "name": "stdout",
     "output_type": "stream",
     "text": [
      "number of countries listed 274\n"
     ]
    }
   ],
   "source": [
    "base = '../../covid-19-JH/csse_covid_19_data/csse_covid_19_time_series/'\n",
    "confirmed = get_data(base+'time_series_covid19_confirmed_global.csv')\n",
    "deaths = get_data(base+'time_series_covid19_deaths_global.csv')\n",
    "recovered = get_data(base+'time_series_covid19_recovered_global.csv')\n",
    "covid_ts = {'confirmed':confirmed,'deaths':deaths,'recovered':recovered}\n",
    "countries_jhu = [(row[0],row[1]) for row in confirmed][1:]\n",
    "print(\"number of countries listed\",len(countries_jhu))\n",
    "i=0\n",
    "for country in countries_jhu:\n",
    "#    print(i,country)\n",
    "    i = i + 1"
   ]
  },
  {
   "cell_type": "markdown",
   "metadata": {},
   "source": [
    "## Get data for one country"
   ]
  },
  {
   "cell_type": "code",
   "execution_count": 19,
   "metadata": {
    "init_cell": true,
    "scrolled": false
   },
   "outputs": [
    {
     "name": "stdout",
     "output_type": "stream",
     "text": [
      "[-3.0, -2.0, -1.0, 0.0, 1.0, 2.0, 3.0, 4.0, 5.0, 6.0, 7.0, 8.0, 9.0, 10.0, 11.0, 12.0, 13.0, 14.0, 15.0, 16.0, 17.0, 18.0, 19.0, 20.0, 21.0, 22.0, 23.0, 24.0, 25.0, 26.0, 27.0, 28.0, 29.0, 30.0, 31.0, 32.0, 33.0, 34.0, 35.0, 36.0, 37.0, 38.0, 39.0, 40.0, 41.0, 42.0, 43.0, 44.0, 45.0, 46.0, 47.0, 48.0, 49.0, 50.0, 51.0, 52.0, 53.0, 54.0, 55.0, 56.0, 57.0, 58.0, 59.0, 60.0, 61.0, 62.0, 63.0, 64.0, 65.0, 66.0, 67.0, 68.0, 69.0, 70.0, 71.0, 72.0, 73.0, 74.0, 75.0, 76.0, 77.0, 78.0, 79.0, 80.0, 81.0, 82.0, 83.0, 84.0, 85.0, 86.0, 87.0, 88.0, 89.0, 90.0, 91.0, 92.0, 93.0, 94.0, 95.0, 96.0, 97.0, 98.0, 99.0, 100.0, 101.0, 102.0, 103.0, 104.0, 105.0, 106.0, 107.0, 108.0, 109.0, 110.0, 111.0, 112.0, 113.0, 114.0, 115.0, 116.0, 117.0, 118.0, 119.0, 120.0, 121.0, 122.0, 123.0, 124.0, 125.0, 126.0, 127.0, 128.0, 129.0, 130.0, 131.0, 132.0, 133.0, 134.0, 135.0, 136.0, 137.0, 138.0, 139.0, 140.0, 141.0, 142.0, 143.0, 144.0, 145.0, 146.0, 147.0, 148.0, 149.0, 150.0, 151.0, 152.0, 153.0, 154.0, 155.0, 156.0, 157.0, 158.0, 159.0, 160.0, 161.0, 162.0, 163.0, 164.0, 165.0, 166.0, 167.0, 168.0, 169.0, 170.0, 171.0, 172.0, 173.0, 174.0, 175.0, 176.0, 177.0, 178.0, 179.0, 180.0, 181.0, 182.0, 183.0, 184.0, 185.0, 186.0, 187.0, 188.0, 189.0, 190.0, 191.0, 192.0, 193.0, 194.0, 195.0, 196.0, 197.0, 198.0, 199.0, 200.0, 201.0, 202.0, 203.0, 204.0, 205.0, 206.0, 207.0, 208.0, 209.0, 210.0, 211.0, 212.0, 213.0, 214.0, 215.0, 216.0, 217.0, 218.0, 219.0, 220.0]\n",
      "days 0 to 224 data stored in y_jhu\n"
     ]
    }
   ],
   "source": [
    "# assumed data starting on firstdate\n",
    "test_country='Germany'\n",
    "N = 80000000\n",
    "firstdate = '01/25/20'\n",
    "lastdate = '01/08/20'\n",
    "xx,xxf,yy0 = get_country_data(test_country,'confirmed',firstdate=firstdate,lastdate=lastdate)\n",
    "xx,xxf,yy1 = get_country_data(test_country,'recovered',firstdate=firstdate,lastdate=lastdate)\n",
    "xx,xxf,yy2 = get_country_data(test_country,'deaths',firstdate=firstdate,lastdate=lastdate)\n",
    "print(xxf)\n",
    "y_jhu={}\n",
    "y_jhu[test_country] = np.array([[yy0[i],yy1[i],yy2[i]] for i in range(0,len(yy0))])/N\n",
    "# data = np.array([[xxf[i],yy0[i],yy1[i],yy2[i]] for i in range(len(yy))])\n",
    "# print(data)\n",
    "lastday = len(y_jhu[test_country])\n",
    "print('days 0 to',lastday,'data stored in y_jhu')"
   ]
  },
  {
   "cell_type": "markdown",
   "metadata": {},
   "source": [
    "## OWID data"
   ]
  },
  {
   "cell_type": "code",
   "execution_count": 20,
   "metadata": {},
   "outputs": [
    {
     "data": {
      "text/plain": [
       "odict_keys(['iso_code', 'continent', 'location', 'date', 'total_cases', 'new_cases', 'new_cases_smoothed', 'total_deaths', 'new_deaths', 'new_deaths_smoothed', 'total_cases_per_million', 'new_cases_per_million', 'new_cases_smoothed_per_million', 'total_deaths_per_million', 'new_deaths_per_million', 'new_deaths_smoothed_per_million', 'new_tests', 'total_tests', 'total_tests_per_thousand', 'new_tests_per_thousand', 'new_tests_smoothed', 'new_tests_smoothed_per_thousand', 'tests_per_case', 'positive_rate', 'tests_units', 'stringency_index', 'population', 'population_density', 'median_age', 'aged_65_older', 'aged_70_older', 'gdp_per_capita', 'extreme_poverty', 'cardiovasc_death_rate', 'diabetes_prevalence', 'female_smokers', 'male_smokers', 'handwashing_facilities', 'hospital_beds_per_thousand', 'life_expectancy'])"
      ]
     },
     "execution_count": 20,
     "metadata": {},
     "output_type": "execute_result"
    }
   ],
   "source": [
    "import csv\n",
    "owid_file = '../../covid-19-owid/public/data/owid-covid-data.csv'\n",
    "covid_owid = []\n",
    "with open(owid_file,'r',newline='') as fp:\n",
    "    myreader = csv.DictReader(fp,delimiter=',')\n",
    "#    rows = list(itertools.islice(myreader,4))\n",
    "    for row in myreader:\n",
    "        covid_owid.append(row)\n",
    "covid_owid[0].keys()"
   ]
  },
  {
   "cell_type": "code",
   "execution_count": 21,
   "metadata": {},
   "outputs": [],
   "source": [
    "def get_data_owid(owid_file,database='owid',datatype='confirmed',dataaccum = 'cumulative'):\n",
    "    import numpy as np\n",
    "    import datetime\n",
    "    import matplotlib.dates as mdates\n",
    "    \n",
    "    global covid_owid\n",
    "    if not covid_owid:\n",
    "        with open(owid_file, 'r', newline='') as csvfile:\n",
    "            myreader = csv.DictReader(csvfile,delimiter=',')\n",
    "            for row in myreader:\n",
    "                covid_owid.append(row)\n",
    "        close(owid_file)\n",
    "        \n",
    "    # for key in covid_owid[0].keys():   # to loop through all keys\n",
    "    \n",
    "    if datatype == 'confirmed':\n",
    "        if dataaccum == 'cumulative':\n",
    "            key = 'total_cases'\n",
    "        elif dataaccum == 'weekly':\n",
    "            key = 'new_cases_smoothed'\n",
    "        else:\n",
    "            key = 'new_cases'\n",
    "    elif datatype == 'recovered':\n",
    "        print('data for recovered cases not available in OWID database')\n",
    "        key = None\n",
    "    elif datatype == 'deaths':\n",
    "        if dataaccum == 'cumulative':\n",
    "            key = 'total_deaths'\n",
    "        elif dataaccum == 'weekly':\n",
    "            key = 'new_deaths_smoothed'\n",
    "        else:\n",
    "            key = 'new_deaths'\n",
    "    elif datatype == 'tests':\n",
    "        if dataaccum == 'cumulative':  # reporting intervals often sporadic so better to use smoothed weekly\n",
    "            # key = 'total_tests'\n",
    "            key = 'new_tests_smoothed'  # will adjust to cumulative below\n",
    "        elif dataaccum == 'weekly':\n",
    "            key = 'new_tests_smoothed'\n",
    "        else:\n",
    "            key = 'new_tests'          # reporting intervals often sporadic so better to use smoothed weekly\n",
    "    elif datatype =='stringency':\n",
    "        key = 'stringency_index'\n",
    "    elif datatype == 'recovered':\n",
    "        print('data for recovered cases not available in OWID database')\n",
    "        key = None\n",
    "        return \n",
    "    else:\n",
    "        print('data for ', datatype,'not available or not yet translated in OWID database')\n",
    "        key = None\n",
    "        return\n",
    "   \n",
    "    countries = np.unique(np.array([dd['location'] for dd in covid_owid]))\n",
    "    dates = np.unique(np.array([dd['date'] for dd in covid_owid]))\n",
    "    dates.sort()\n",
    "    fmt = '%Y-%m-%d'\n",
    "    dates_t = [datetime.datetime.strptime(dd,fmt) for dd in dates ]\n",
    "    firstdate = dates[0]\n",
    "    lastdate = dates[-1]\n",
    "    firstdate_t =  dates_t[0]\n",
    "    lastdate_t =  dates_t[-1]\n",
    "\n",
    "    daystart = 0\n",
    "    daystop = (lastdate_t-firstdate_t).days\n",
    "    \n",
    "    popkeyed = {country: np.zeros(daystop+1,dtype=float) for country in countries} \n",
    "    \n",
    "    for dd in covid_owid:\n",
    "        country = dd['location']\n",
    "        day = (datetime.datetime.strptime(dd['date'],fmt)-firstdate_t).days\n",
    "        popkeyed[country][day] = float(dd[key]) if not dd[key]=='' else 0.0 \n",
    "        \n",
    "    # popkeyed = {country: np.transpose(np.array([[dd['date'],dd[key]] for dd in covid_owid if dd['location'] == country])) for country in countries}\n",
    "    # popkeyed = {country: np.array([float(dd[key]) if not dd[key]=='' else 0.0 for dd in covid_owid if dd['location'] == country]) for country in countries} \n",
    "\n",
    "    if datatype == 'tests' and dataaccum == 'cumulative':  # assemble cumulative tests from smooth daily tests\n",
    "        for country in countries:\n",
    "            data = popkeyed[country]\n",
    "            sumdata= np.zeros(len(data))\n",
    "            sum = 0.0\n",
    "            for i,d in enumerate(data):\n",
    "                sum = sum + d\n",
    "                sumdata[i] = sum\n",
    "            popkeyed.update({country:sumdata})\n",
    "\n",
    "    fmt_jhu = '%m/%d/%y'\n",
    "    popkeyed.update({'dates': [date.strftime(fmt_jhu) for date in dates_t]})   # dates are set to strings in jhu date format for compatibility\n",
    "    return popkeyed"
   ]
  },
  {
   "cell_type": "code",
   "execution_count": 22,
   "metadata": {},
   "outputs": [],
   "source": [
    "owid_file = '../../covid-19-owid/public/data/owid-covid-data.csv'\n",
    "confirmed_owid=get_data_owid(owid_file,database='owid',datatype='confirmed',dataaccum = 'cumulative')\n",
    "recovered_owid = None\n",
    "deaths_owid=get_data_owid(owid_file,database='owid',datatype='deaths',dataaccum = 'cumulative')\n",
    "tests_owid=get_data_owid(owid_file,database='owid',datatype='tests',dataaccum = 'cumulative')\n",
    "stringency_owid=get_data_owid(owid_file,database='owid',datatype='stringency',dataaccum = 'daily')\n",
    "covid_owid_ts= {'confirmed':confirmed_owid,'deaths':deaths_owid,'recovered':recovered_owid, 'tests': tests_owid , 'stringency': stringency_owid}"
   ]
  },
  {
   "cell_type": "code",
   "execution_count": 41,
   "metadata": {},
   "outputs": [],
   "source": [
    "def truncx(xx,daystart,daystop):\n",
    "    \"\"\"truncate array xx to run from daystart to daystop\n",
    "       do this before trying to extend the arrays if required\"\"\"\n",
    "    daymin = max(daystart,0)\n",
    "    daymax = min(daystop,(xx[-1]-xx[0]).days)\n",
    "    return xx[daymin:daymax+1]\n",
    "\n",
    "def truncy(xx,yy,daystart,daystop):\n",
    "    \"\"\"truncate arrays xx and yy to run from daystart to daystop\n",
    "       do this before trying to extend the arrays if required\"\"\"\n",
    "    daymin = max(daystart,0)\n",
    "    daymax = min(daystop,(xx[-1]-xx[0]).days)\n",
    "    return yy[daymin:daymax+1]\n",
    "\n",
    "def plotCountry_(country_s, datatype='confirmed', dataaccum='cumulative', fittype=None, ax=None, ax2=False,\n",
    "                symbol='o--', step=None, firstdate=None, lastdate=None, intdates=False, linecolor=None, maxyval=None, minconfirmed=0,nsegments=3,database='jhu'):\n",
    "    \"\"\" plots selected data for a list of countries or single country\n",
    "        datatypes allowed are 'confirmed','deaths','recovered'\n",
    "        dataaccum specifies either 'cumulative' or 'daily' or averaged over 7 days 'cum_av_weekly' or 'daily_av_weekly'\n",
    "        fittypes allowed are currently None, 'piecewise-linear'\n",
    "        ax graphical axes to use for plot: default None -> new axes\n",
    "        ax2 true if second axes as twin axes for overlay plotting\n",
    "        symbol to use for plotting\n",
    "        step whether to use step plotting instead of points: default None -> points\n",
    "        firstdate to plot (maybe before first date in data - pad with 0)\n",
    "        lastdate to plot (maybe after last date in data - pad with 0)\n",
    "        intdates : whether to plot dates as integers for compatibility (default as dates)\n",
    "        linecolor is default color to use for a single trace, instead of listed set)\n",
    "    \"\"\"\n",
    "    global covid_ts, covid_ts_owid\n",
    "    import math\n",
    "    import warnings\n",
    "    # extract list of countries in [(country,region),...] format from first parameter\n",
    "    countries = []\n",
    "    if isinstance(country_s,list):\n",
    "        for country in country_s:\n",
    "            if isinstance(country,str) and database == 'jhu':\n",
    "                country = (country,'')\n",
    "            countries.append(country)\n",
    "    elif isinstance(country_s,str):\n",
    "        if database == 'jhu':\n",
    "            countries = [( country_s,'')]\n",
    "        else:\n",
    "             countries = [country_s]\n",
    "    else:                               # single ('country','reg') entry\n",
    "        countries = [country_s]\n",
    "        \n",
    "    # get data with datatype and extend dates to padd desired interval specified by firstdate,lastdate\n",
    "    if database == 'jhu':\n",
    "        popkeyed = covid_ts[datatype]\n",
    "        dates = popkeyed['dates']\n",
    "        fmt = '%m/%d/%y'\n",
    "    elif database == 'owid':\n",
    "        popkeyed = covid_owid_ts[datatype]\n",
    "        dates = popkeyed['dates']\n",
    "        fmt = '%m/%d/%y'\n",
    "        # fmt = '%Y-%m-%d' the owid date format was converted to the jhu date format in get_data_owid\n",
    "    xxd = [datetime.datetime.strptime(dd,fmt) for dd in dates ]\n",
    "    if firstdate:\n",
    "        firstdate_d = datetime.datetime.strptime(firstdate,fmt)\n",
    "    else:\n",
    "        firstdate_d = datetime.datetime.strptime(dates[0],fmt)\n",
    "    if lastdate:\n",
    "        lastdate_d = datetime.datetime.strptime(lastdate,fmt)\n",
    "    else:\n",
    "        lastdate_d = datetime.datetime.strptime(dates[-1],fmt)\n",
    "    daystart = (firstdate_d-xxd[0]).days\n",
    "    daystop = (lastdate_d-xxd[0]).days\n",
    "    xx = [0.]*(daystop-daystart+1)\n",
    "    xx = truncx(xxd,daystart,daystop)\n",
    "    # print('1 len xx',len(xx))\n",
    "    \n",
    "    if daystart <0:\n",
    "        xx0 = [xx[0]+datetime.timedelta(days=i) for i in range(daystart,0)]\n",
    "        yy0 = [0.]*(-daystart)\n",
    "    else:\n",
    "        xx0 = []\n",
    "        yy0 = []\n",
    "\n",
    "    if daystop > (xxd[-1]-xxd[0]).days:\n",
    "        xx1 = [xxd[-1]+datetime.timedelta(days=i) for i in range(daystop-(xxd[-1]-xxd[0]).days)]\n",
    "        yy1 = [' ']*(daystop-(xxd[-1]-xxd[0]).days)\n",
    "    else:\n",
    "        xx1 = []\n",
    "        yy1 = []       \n",
    "    xx = xx0 + xx + xx1\n",
    "    # print('2 len xx',len(xx))\n",
    "    #print('len xx1 yy1',len(xx1),len(yy1))\n",
    "    \n",
    "    # print('len xx',len(xx))\n",
    "    if fittype == 'piecewise-linear':\n",
    "        xxi = [Float((x-xx[0]).days) for x in xx ]\n",
    "        # print(xxi)\n",
    "    # print('len xxi',len(xxi))    \n",
    "    # locator = mdates.MonthLocator()\n",
    "    locator = mdates.AutoDateLocator(minticks=5, maxticks=13)\n",
    "    formatter= mdates.ConciseDateFormatter(locator)\n",
    "    \n",
    "    if not ax:\n",
    "        fig,ax = plt.subplots(1,1,figsize=(9,6)) \n",
    "        ax2 = ax\n",
    "    elif ax2:\n",
    "        ax2 = ax.twinx()\n",
    "    else:\n",
    "        ax2 = ax\n",
    "        \n",
    "    colors =  ['k', 'b', 'c', 'm', 'y', 'g', 'olive', 'chocolate']\n",
    "        \n",
    "    i = 0\n",
    "    j = 0\n",
    "    for country in countries:\n",
    "        try:\n",
    "            yyd = popkeyed[country]\n",
    "            if np.max(yyd) >= minconfirmed:\n",
    "                j = j+1\n",
    "            else:\n",
    "                i = i + 1\n",
    "                continue\n",
    "        except:\n",
    "            print('country not found',country)\n",
    "            i = i + 1\n",
    "            continue\n",
    "        yy = truncy(xxd,yyd,daystart,daystop)\n",
    "        # print(country,'1 len yy yyd',len(yy),len(yyd))\n",
    "        yyf = [Float(y) for y in yy]\n",
    "        yy = yy0 + yyf + yy1\n",
    "        # print(country,'2 len yy',len(yy))\n",
    "        # ymax=np.max(np.array(yy))\n",
    "        yyf = [Float(y) for y in yy]\n",
    "        if dataaccum == 'daily':\n",
    "            yy = [0.]*len(yy)\n",
    "            yy[0] = yyf[0]\n",
    "            for k in range(1,len(yy)):\n",
    "                yy[k] = yyf[k]-yyf[k-1]   \n",
    "        elif dataaccum == 'cum_av_weekly':\n",
    "            yy = [0.]*len(yy)\n",
    "            moving_av = 0.\n",
    "            for k in range(len(yy)):\n",
    "                if k-7 >= 0:\n",
    "                    moving_av = moving_av - yyf[k-7]\n",
    "                moving_av = moving_av + yyf[k]\n",
    "                yy[k] = moving_av/min(7.0,float(k+1))\n",
    "        elif dataaccum == 'daily_av_weekly':\n",
    "            yy = [0.]*len(yyf)\n",
    "            yy[0] = yyf[0]\n",
    "            for k in range(1,len(yy)):\n",
    "                yy[k] = yyf[k]-yyf[k-1]\n",
    "            yyf = [y for y in yy]\n",
    "            yy = [0.]*len(yy)\n",
    "            moving_av = 0.\n",
    "            for k in range(len(yy)):\n",
    "                if k-7 >= 0:\n",
    "                    moving_av = moving_av - yyf[k-7]\n",
    "                moving_av = moving_av + yyf[k]\n",
    "                yy[k] = moving_av/min(7.0,float(k+1))\n",
    "        if intdates:\n",
    "            xx = range(len(xx))\n",
    "        \n",
    "        if step:\n",
    "            ax2.step(xx,yy,label = country[0])\n",
    "        else:\n",
    "            # print(ax,ax2)\n",
    "            # ax2.set_ylim(ymax,0)\n",
    "            if linecolor:\n",
    "                color = linecolor\n",
    "            else:\n",
    "                color = colors[i]\n",
    "\n",
    "            ax2.plot(xx, yy, symbol, markersize=3, color = color, alpha=0.8, label = country[0])\n",
    "\n",
    "        if maxyval: ax.set_ylim(0,maxyval)\n",
    "        if maxyval: ax2.set_ylim(0,maxyval)\n",
    "            \n",
    "        plt.title(country[0]+'-'+country[1])  # +' '+datatype)\n",
    "        if fittype == 'piecewise-linear':    \n",
    "            warnings.filterwarnings(\"ignore\", message=\"Warning: zero length interval encountered in pwlf.py calc_slopes\")\n",
    "            # initialize piecewise linear fit with your x and y data\n",
    "            # yyf = [Float(y) for y in yy]\n",
    "            yyf = [Float(y) if not math.isnan(y) else 0.0 for y in yy]\n",
    "            # print(yyf)\n",
    "            my_pwlf = pwlf.PiecewiseLinFit(xxi, yyf)\n",
    "            # fit the data for three line segments\n",
    "            res = my_pwlf.fit(nsegments)\n",
    "            \n",
    "            ppp = my_pwlf.p_values(method='non-linear', step_size=1e-4)\n",
    "            se = my_pwlf.se  # standard errors\n",
    "            parameters = np.concatenate((my_pwlf.beta,\n",
    "                             my_pwlf.fit_breaks[1:-1]))\n",
    "            header = ['Parameter type', 'Parameter value', 'Standard error', 't         ', 'P > np.abs(t) (p-value)']\n",
    "            print(*header, sep=' | ')\n",
    "            values = np.zeros((parameters.size, 5), dtype=np.object_)\n",
    "            values[:, 1] = np.around(parameters, decimals=3)\n",
    "            values[:, 2] = np.around(se, decimals=3)\n",
    "            values[:, 3] = np.around(parameters / se, decimals=3)\n",
    "            values[:, 4] = np.around(ppp, decimals=3)\n",
    "            for iii, row in enumerate(values):\n",
    "                if iii < my_pwlf.beta.size:\n",
    "                    row[0] = 'Slope     '\n",
    "                    print(*row, sep='     | ')\n",
    "                else:\n",
    "                    row[0] = 'Breakpoint'\n",
    "                    print(*row, sep='     | ')\n",
    "            print(\"\")      \n",
    "            # predict for the determined points\n",
    "            xHat = np.linspace(min(xxi), max(xxi), num=len(xx))\n",
    "            # print(len(xHat),len(xxi))\n",
    "            yHat = my_pwlf.predict(xHat)\n",
    "            ax2.plot(xx, yHat, color = colors[i], alpha=0.5, label = country[0]+' fit')\n",
    "            \n",
    "        i = i+1\n",
    "\n",
    "    if j==0:\n",
    "        ax.axis(\"off\")\n",
    "    else:\n",
    "        if j > 1:\n",
    "            plt.legend(loc=\"upper left\")\n",
    "            plt.title('countries '+datatype+dataaccum)\n",
    "        if not intdates:\n",
    "            ax2.xaxis.set_major_formatter(formatter)\n",
    "            ax2.xaxis.set_major_locator(locator)\n",
    "            for tick in ax2.get_xticklabels():\n",
    "                tick.set_rotation(40)\n",
    "\n"
   ]
  },
  {
   "cell_type": "code",
   "execution_count": null,
   "metadata": {},
   "outputs": [],
   "source": []
  },
  {
   "cell_type": "markdown",
   "metadata": {},
   "source": [
    "## Plots of data for Cautionary Model comparison"
   ]
  },
  {
   "cell_type": "markdown",
   "metadata": {},
   "source": [
    "Comment out line 1110 in pwlf.py (in /⁨usr⁩/local⁩/lib⁩/⁨python3.7⁩/site-packages⁩/pwlf⁩ directory)\n",
    "    print(\"Warning: zero length interval encountered in pwlf.py calc_slopes\").  \n",
    "to remove repeated warnings, which don't seem to harm final result\n",
    "    Warning: zero length interval encountered in pwlf.py calc_slopes"
   ]
  },
  {
   "cell_type": "code",
   "execution_count": 42,
   "metadata": {},
   "outputs": [
    {
     "name": "stdout",
     "output_type": "stream",
     "text": [
      "Parameter type | Parameter value | Standard error | t          | P > np.abs(t) (p-value)\n",
      "Slope          | -2153.968     | 861.47     | -2.5     | 0.013\n",
      "Slope          | 314.292     | 54.759     | 5.74     | 0.0\n",
      "Slope          | 4402.357     | 68.356     | 64.403     | 0.0\n",
      "Slope          | -2493.497     | 73.62     | -33.87     | 0.0\n",
      "Slope          | -1912.27     | 61.584     | -31.051     | 0.0\n",
      "Breakpoint     | 27.629     | 0.272     | 101.649     | 0.0\n",
      "Breakpoint     | 61.522     | 0.489     | 125.767     | 0.0\n",
      "Breakpoint     | 87.508     | 0.533     | 164.077     | 0.0\n",
      "\n",
      "Parameter type | Parameter value | Standard error | t          | P > np.abs(t) (p-value)\n",
      "Slope          | -1723.371     | 1656.21     | -1.041     | 0.299\n",
      "Slope          | 181.842     | 86.277     | 2.108     | 0.036\n",
      "Slope          | 5878.275     | 122.015     | 48.177     | 0.0\n",
      "Slope          | -5448.02     | 87.859     | -62.008     | 0.0\n",
      "Slope          | 4665.851     | 105.423     | 44.258     | 0.0\n",
      "Breakpoint     | 33.487     | 0.407     | 82.195     | 0.0\n",
      "Breakpoint     | 67.342     | 0.357     | 188.512     | 0.0\n",
      "Breakpoint     | 169.378     | 0.441     | 383.689     | 0.0\n",
      "\n",
      "Parameter type | Parameter value | Standard error | t          | P > np.abs(t) (p-value)\n",
      "Slope          | -1043.612     | 1036.568     | -1.007     | 0.315\n",
      "Slope          | 118.334     | 55.673     | 2.126     | 0.035\n",
      "Slope          | 4277.852     | 74.071     | 57.754     | 0.0\n",
      "Slope          | -3894.49     | 49.753     | -78.277     | 0.0\n",
      "Slope          | 749.481     | 96.187     | 7.792     | 0.0\n",
      "Breakpoint     | 32.547     | 0.343     | 94.809     | 0.0\n",
      "Breakpoint     | 68.271     | 0.299     | 228.233     | 0.0\n",
      "Breakpoint     | 176.291     | 1.887     | 93.406     | 0.0\n",
      "\n",
      "Parameter type | Parameter value | Standard error | t          | P > np.abs(t) (p-value)\n",
      "Slope          | -3226.307     | 1013.442     | -3.184     | 0.002\n",
      "Slope          | 303.058     | 44.723     | 6.776     | 0.0\n",
      "Slope          | 4685.788     | 79.365     | 59.041     | 0.0\n",
      "Slope          | -4525.16     | 66.356     | -68.195     | 0.0\n",
      "Slope          | 2799.448     | 110.198     | 25.404     | 0.0\n",
      "Breakpoint     | 39.36     | 0.334     | 117.811     | 0.0\n",
      "Breakpoint     | 70.56     | 0.295     | 239.15     | 0.0\n",
      "Breakpoint     | 177.282     | 0.553     | 320.647     | 0.0\n",
      "\n",
      "Parameter type | Parameter value | Standard error | t          | P > np.abs(t) (p-value)\n",
      "Slope          | -2355.84     | 616.346     | -3.822     | 0.0\n",
      "Slope          | 215.292     | 26.523     | 8.117     | 0.0\n",
      "Slope          | 4255.314     | 35.674     | 119.284     | 0.0\n",
      "Slope          | -2121.549     | 67.522     | -31.42     | 0.0\n",
      "Slope          | -1585.53     | 63.658     | -24.907     | 0.0\n",
      "Breakpoint     | 40.264     | 0.205     | 196.467     | 0.0\n",
      "Breakpoint     | 84.55     | 0.487     | 173.64     | 0.0\n",
      "Breakpoint     | 107.31     | 0.586     | 183.192     | 0.0\n",
      "\n",
      "Parameter type | Parameter value | Standard error | t          | P > np.abs(t) (p-value)\n",
      "Slope          | -643.099     | 95.877     | -6.708     | 0.0\n",
      "Slope          | 59.314     | 3.84     | 15.448     | 0.0\n",
      "Slope          | 499.469     | 4.349     | 114.836     | 0.0\n",
      "Slope          | 450.981     | 7.122     | 63.327     | 0.0\n",
      "Slope          | -759.257     | 7.256     | -104.633     | 0.0\n",
      "Breakpoint     | 43.303     | 0.251     | 172.685     | 0.0\n",
      "Breakpoint     | 110.395     | 0.316     | 349.238     | 0.0\n",
      "Breakpoint     | 140.643     | 0.192     | 733.386     | 0.0\n",
      "\n",
      "Parameter type | Parameter value | Standard error | t          | P > np.abs(t) (p-value)\n",
      "Slope          | -983.524     | 435.674     | -2.257     | 0.025\n",
      "Slope          | 71.595     | 16.677     | 4.293     | 0.0\n",
      "Slope          | 3818.162     | 38.888     | 98.184     | 0.0\n",
      "Slope          | -1895.679     | 88.69     | -21.374     | 0.0\n",
      "Slope          | -876.365     | 81.56     | -10.745     | 0.0\n",
      "Breakpoint     | 45.783     | 0.188     | 244.172     | 0.0\n",
      "Breakpoint     | 73.584     | 0.495     | 148.546     | 0.0\n",
      "Breakpoint     | 89.733     | 0.935     | 95.934     | 0.0\n",
      "\n"
     ]
    },
    {
     "data": {
      "image/png": "[encoded data removed]",
      "text/plain": [
       "<Figure size 648x432 with 1 Axes>"
      ]
     },
     "metadata": {
      "needs_background": "light"
     },
     "output_type": "display_data"
    }
   ],
   "source": [
    "plotCountry_(['Italy','Spain','Germany','France','United Kingdom','Sweden','Turkey'],\n",
    "             'confirmed','cum_av_weekly',firstdate='02/15/20',lastdate='09/1/20',fittype='piecewise-linear',nsegments=4)\n",
    "#plt.savefig(\"covid-19-caution/figures/fig1a.pdf\",bbox_inches='tight')"
   ]
  },
  {
   "cell_type": "code",
   "execution_count": 32,
   "metadata": {
    "scrolled": false
   },
   "outputs": [
    {
     "data": {
      "image/png": "[encoded data removed]",
      "text/plain": [
       "<Figure size 648x432 with 1 Axes>"
      ]
     },
     "metadata": {
      "needs_background": "light"
     },
     "output_type": "display_data"
    }
   ],
   "source": [
    "plotCountry_(['Italy','Spain','Germany','France','United Kingdom','Sweden','Turkey'],\n",
    "            'confirmed','daily_av_weekly',firstdate='02/15/20',lastdate='08/31/20',database='owid')\n",
    "plt.title(\"\");\n",
    "# plt.plot(xx,[450000*d[1] for d in dat],linewidth=6,color='salmon',alpha=0.5,linestyle='--');\n",
    "# plt.savefig(\"covid-19-caution/figures/fig1b.pdf\",bbox_inches='tight')"
   ]
  },
  {
   "cell_type": "markdown",
   "metadata": {},
   "source": [
    "# Simulation"
   ]
  },
  {
   "cell_type": "markdown",
   "metadata": {},
   "source": [
    "Note:  Problem with setting parameters in model.\n",
    "\n",
    "The DeterministicOde Class method parameters, converts a dictionary or list of tuples of parameters to a dictionary with sympy symbolic keys, not strings.\n",
    "So attempts to modify parameter values by accessing this dictionary fail. Copying the dictionary, modifying and rewriting also fail.\n",
    "Instead we store the dictionary of parameters in addition as a dictionary with string keys, under model.params. When we modify these values, they can then be copied back to the parameters method using model.parameters = model.params."
   ]
  },
  {
   "cell_type": "markdown",
   "metadata": {},
   "source": [
    "## Simulation of SCIR model"
   ]
  },
  {
   "cell_type": "code",
   "execution_count": null,
   "metadata": {
    "init_cell": true,
    "scrolled": true
   },
   "outputs": [],
   "source": [
    "# setup time points for simulation, initial conditions and parameters\n",
    "t = np.linspace(0, lastday -1, lastday)\n",
    "\n",
    "# initial conditions assuming there is no natural immunity\n",
    "I_0 =  0.00003\n",
    "x0_SCIR = [1.0-I_0, I_0, 0.0, 0.0, 0.0]\n",
    "\n",
    "# Define parameters based on clinical observations Dr. Alison\n",
    "Exposure=0.25 # Rate coefficient for exposure per individual in contact per day\n",
    "IncubPeriod=5  #Incubation period, days\n",
    "DurInf=10 #Duration of mild infections, days\n",
    "FracCritical=0.1 #Fraction of infections that are critical\n",
    "CFR=0.05 #Case fatality rate (fraction of infections resulting in death)\n",
    "TimeDeath=DurInf+7 #Time from ICU admission to death, days\n",
    "\n",
    "# Model extension by John McCaskill to include caution \n",
    "CautionFactor= 0.4 # Fractional reduction of exposure rate for cautioned individuals\n",
    "CautionRetention= 21. # Duration of cautionary state of susceptibles (2 weeks)\n",
    "CautionICUFrac= 0.25 # Fraction of ICUs occupied leading to transition to caution @ 1/day\n",
    "ICUFrac= 0.002 # Fraction of ICUs relative to population size N\n",
    "\n",
    "# Model fitting extension to allow for incomplete detection\n",
    "FracConfirmedDet=0.125  # Fraction of recovered individuals measured\n",
    "FracRecoveredDet=FracConfirmedDet # Fraction of recovered individuals measured\n",
    "FracDeathsDet=1.0\n",
    "\n",
    "# convert above parameters to model parameters\n",
    "params = {'beta' : Exposure/sum(x0_SCIR),\n",
    "          'gamma': (1.0/DurInf),\n",
    "          'mu'    : (1.0/TimeDeath)*(CFR/FracCritical),\n",
    "          'c_0'    : CautionFactor,\n",
    "          'c_1'    : 1.0/CautionRetention,\n",
    "          'c_2'    : 1.0/(sum(x0_SCIR)*ICUFrac*CautionICUFrac),\n",
    "          'N'     : sum(x0_SCIR)}\n",
    "print(params)\n",
    "# assign x0 and params to the model, integrate over t and plot\n",
    "SCIR_model.initial_values = (x0_SCIR, t[0])\n",
    "SCIR_model.parameters = params\n",
    "SCIR_model.params = params.copy()\n",
    "solution = SCIR_model.integrate(t[1::])\n",
    "\n",
    "SCIR_model.plot()\n",
    "\n",
    "# calculate time point when maximum number of people are infectious\n",
    "peak_i = np.argmax(solution[:,1])\n",
    "print('Peak infection (days)', t[peak_i])"
   ]
  },
  {
   "cell_type": "markdown",
   "metadata": {},
   "source": [
    "### Integration and plot using scipy and matplotlib directly"
   ]
  },
  {
   "cell_type": "code",
   "execution_count": 32,
   "metadata": {},
   "outputs": [
    {
     "data": {
      "image/png": "[encoded data removed]",
      "text/plain": [
       "<Figure size 1080x504 with 2 Axes>"
      ]
     },
     "metadata": {
      "needs_background": "light"
     },
     "output_type": "display_data"
    }
   ],
   "source": [
    "solution1 = scipy.integrate.odeint(SCIR_model.ode, x0_SCIR, t[1::])\n",
    "ys = solution1.copy()\n",
    "plt.figure(figsize=(15,7))\n",
    "plt.subplot(1,2,1)\n",
    "plt.xlabel(\"Time (days)\")\n",
    "plt.ylabel(\"Number per 1000000 People\")\n",
    "plt.ylim([0,0.001])\n",
    "plt.plot(t[1::],ys,label=(\"S\",\"I\",\"R\",\"D\",\"Sc\"))\n",
    "plt.legend((\"S\",\"I\",\"R\",\"D\",\"Sc\"))\n",
    "plt.subplot(1,2,2)\n",
    "plt.xlabel(\"Time (days)\")\n",
    "plt.ylabel(\"Number per 1000000 People\")\n",
    "plt.ylim([0.000001,1])\n",
    "plt.semilogy()\n",
    "plt.plot(t[1::],ys,label=(\"S\",\"I\",\"R\",\"D\",\"Sc\"))\n",
    "plt.legend((\"S\",\"I\",\"R\",\"D\",\"Sc\"));"
   ]
  },
  {
   "cell_type": "markdown",
   "metadata": {},
   "source": [
    "### Test dumpparams() and loadparams()"
   ]
  },
  {
   "cell_type": "code",
   "execution_count": 33,
   "metadata": {},
   "outputs": [
    {
     "data": {
      "text/plain": [
       "{'beta': 0.25,\n",
       " 'gamma': 0.1,\n",
       " 'mu': 0.029411764705882353,\n",
       " 'c_0': 0.4,\n",
       " 'c_1': 0.047619047619047616,\n",
       " 'c_2': 2000.0,\n",
       " 'N': 1.0}"
      ]
     },
     "execution_count": 33,
     "metadata": {},
     "output_type": "execute_result"
    }
   ],
   "source": [
    "SCIR_model.params"
   ]
  },
  {
   "cell_type": "code",
   "execution_count": 34,
   "metadata": {},
   "outputs": [
    {
     "data": {
      "text/plain": [
       "0.25"
      ]
     },
     "execution_count": 34,
     "metadata": {},
     "output_type": "execute_result"
    }
   ],
   "source": [
    "SCIR_model.params['beta']"
   ]
  },
  {
   "cell_type": "code",
   "execution_count": 35,
   "metadata": {},
   "outputs": [
    {
     "name": "stdout",
     "output_type": "stream",
     "text": [
      "dumped params to /Users/n/Projects/covid-recovery/Notebooks/covid-19-caution/params/SCIR.pk\n"
     ]
    }
   ],
   "source": [
    "SCIR_model.dumpparams()"
   ]
  },
  {
   "cell_type": "code",
   "execution_count": 36,
   "metadata": {},
   "outputs": [],
   "source": [
    "params1 = SCIR_model.params.copy()"
   ]
  },
  {
   "cell_type": "code",
   "execution_count": 37,
   "metadata": {},
   "outputs": [
    {
     "data": {
      "text/plain": [
       "{'beta': 0.25,\n",
       " 'gamma': 0.1,\n",
       " 'mu': 0.029411764705882353,\n",
       " 'c_0': 0.4,\n",
       " 'c_1': 0.047619047619047616,\n",
       " 'c_2': 2000.0,\n",
       " 'N': 1.0}"
      ]
     },
     "execution_count": 37,
     "metadata": {},
     "output_type": "execute_result"
    }
   ],
   "source": [
    "params1"
   ]
  },
  {
   "cell_type": "code",
   "execution_count": 22,
   "metadata": {},
   "outputs": [],
   "source": [
    "pk.dump(params1,open('foo','wb')) # this works!?!?\n"
   ]
  },
  {
   "cell_type": "code",
   "execution_count": 38,
   "metadata": {},
   "outputs": [
    {
     "name": "stdout",
     "output_type": "stream",
     "text": [
      "loaded params from  /Users/n/Projects/covid-recovery/Notebooks/covid-19-caution/params/SCIR.pk :\n"
     ]
    },
    {
     "data": {
      "text/plain": [
       "True"
      ]
     },
     "execution_count": 38,
     "metadata": {},
     "output_type": "execute_result"
    }
   ],
   "source": [
    "SCIR_model.loadparams()"
   ]
  },
  {
   "cell_type": "code",
   "execution_count": 39,
   "metadata": {},
   "outputs": [
    {
     "data": {
      "text/plain": [
       "{'beta': 0.25,\n",
       " 'gamma': 0.1,\n",
       " 'mu': 0.029411764705882353,\n",
       " 'c_0': 0.4,\n",
       " 'c_1': 0.047619047619047616,\n",
       " 'c_2': 2000.0,\n",
       " 'N': 1.0}"
      ]
     },
     "execution_count": 39,
     "metadata": {},
     "output_type": "execute_result"
    }
   ],
   "source": [
    "params1 = SCIR_model.params.copy()\n",
    "params1"
   ]
  },
  {
   "cell_type": "code",
   "execution_count": 40,
   "metadata": {},
   "outputs": [
    {
     "data": {
      "text/plain": [
       "True"
      ]
     },
     "execution_count": 40,
     "metadata": {},
     "output_type": "execute_result"
    }
   ],
   "source": [
    "'beta' in params1"
   ]
  },
  {
   "cell_type": "markdown",
   "metadata": {},
   "source": [
    "Good: but still need to set .parameters before values can be used by simulation"
   ]
  },
  {
   "cell_type": "code",
   "execution_count": null,
   "metadata": {},
   "outputs": [],
   "source": [
    "SCIR_model.parameters = params1"
   ]
  },
  {
   "cell_type": "markdown",
   "metadata": {},
   "source": [
    "### Compare data with SCIR simulation"
   ]
  },
  {
   "cell_type": "code",
   "execution_count": 58,
   "metadata": {
    "scrolled": true
   },
   "outputs": [
    {
     "ename": "Exception",
     "evalue": "Too many input parameters",
     "output_type": "error",
     "traceback": [
      "\u001b[0;31m---------------------------------------------------------------------------\u001b[0m",
      "\u001b[0;31mException\u001b[0m                                 Traceback (most recent call last)",
      "\u001b[0;32m<ipython-input-58-57289d883b6c>\u001b[0m in \u001b[0;36m<module>\u001b[0;34m\u001b[0m\n\u001b[1;32m      3\u001b[0m \u001b[0mparams1\u001b[0m\u001b[0;34m[\u001b[0m\u001b[0;34m'c_0'\u001b[0m\u001b[0;34m]\u001b[0m\u001b[0;34m=\u001b[0m\u001b[0;36m0.85\u001b[0m\u001b[0;34m\u001b[0m\u001b[0;34m\u001b[0m\u001b[0m\n\u001b[1;32m      4\u001b[0m \u001b[0mparams1\u001b[0m\u001b[0;34m[\u001b[0m\u001b[0;34m'beta'\u001b[0m\u001b[0;34m]\u001b[0m\u001b[0;34m=\u001b[0m\u001b[0;36m0.15\u001b[0m\u001b[0;34m\u001b[0m\u001b[0;34m\u001b[0m\u001b[0m\n\u001b[0;32m----> 5\u001b[0;31m \u001b[0mSCIR_model\u001b[0m\u001b[0;34m.\u001b[0m\u001b[0mparameters\u001b[0m \u001b[0;34m=\u001b[0m \u001b[0mparams1\u001b[0m\u001b[0;34m\u001b[0m\u001b[0;34m\u001b[0m\u001b[0m\n\u001b[0m\u001b[1;32m      6\u001b[0m \u001b[0mprint\u001b[0m\u001b[0;34m(\u001b[0m\u001b[0;34m'parameters'\u001b[0m\u001b[0;34m,\u001b[0m\u001b[0mSCIR_model\u001b[0m\u001b[0;34m.\u001b[0m\u001b[0mparameters\u001b[0m\u001b[0;34m)\u001b[0m\u001b[0;34m\u001b[0m\u001b[0;34m\u001b[0m\u001b[0m\n\u001b[1;32m      7\u001b[0m \u001b[0mx0_fit\u001b[0m \u001b[0;34m=\u001b[0m \u001b[0mx0_SCIR\u001b[0m\u001b[0;34m.\u001b[0m\u001b[0mcopy\u001b[0m\u001b[0;34m(\u001b[0m\u001b[0;34m)\u001b[0m\u001b[0;34m\u001b[0m\u001b[0;34m\u001b[0m\u001b[0m\n",
      "\u001b[0;32m~/.pyenv/versions/3.7.2/lib/python3.7/site-packages/pygom/model/base_ode_model.py\u001b[0m in \u001b[0;36mparameters\u001b[0;34m(self, parameters)\u001b[0m\n\u001b[1;32m    258\u001b[0m                 \u001b[0;31m# the value can be a single value or a distribution\u001b[0m\u001b[0;34m\u001b[0m\u001b[0;34m\u001b[0m\u001b[0;34m\u001b[0m\u001b[0m\n\u001b[1;32m    259\u001b[0m                 \u001b[0;32mif\u001b[0m \u001b[0mlen\u001b[0m\u001b[0;34m(\u001b[0m\u001b[0mparameters\u001b[0m\u001b[0;34m)\u001b[0m \u001b[0;34m>\u001b[0m \u001b[0mself\u001b[0m\u001b[0;34m.\u001b[0m\u001b[0mnum_param\u001b[0m\u001b[0;34m:\u001b[0m\u001b[0;34m\u001b[0m\u001b[0;34m\u001b[0m\u001b[0m\n\u001b[0;32m--> 260\u001b[0;31m                     \u001b[0;32mraise\u001b[0m \u001b[0mException\u001b[0m\u001b[0;34m(\u001b[0m\u001b[0;34m\"Too many input parameters\"\u001b[0m\u001b[0;34m)\u001b[0m\u001b[0;34m\u001b[0m\u001b[0;34m\u001b[0m\u001b[0m\n\u001b[0m\u001b[1;32m    261\u001b[0m \u001b[0;34m\u001b[0m\u001b[0m\n\u001b[1;32m    262\u001b[0m                 \u001b[0;31m# holder\u001b[0m\u001b[0;34m\u001b[0m\u001b[0;34m\u001b[0m\u001b[0;34m\u001b[0m\u001b[0m\n",
      "\u001b[0;31mException\u001b[0m: Too many input parameters"
     ]
    }
   ],
   "source": [
    "# model with generating parameters \n",
    "params1 = SCIR_model.params.copy()\n",
    "params1['c_0']=0.85\n",
    "params1['beta']=0.15\n",
    "SCIR_model.parameters = params1\n",
    "print('parameters',SCIR_model.parameters)\n",
    "x0_fit = x0_SCIR.copy()\n",
    "print('initial conditions',x0_fit)\n",
    "t_fit = t\n",
    "SCIR_model.initial_values = (x0_fit, t_fit[0])\n",
    "sol_fit = scipy.integrate.odeint(SCIR_model.ode, x0_fit, t_fit[1::])\n",
    "plt.figure(figsize=(15,10))\n",
    "plt.plot(t,y_jhu[test_country][:,1]/FracRecoveredDet, 'bo',label='R') # recovered\n",
    "plt.plot(t,y_jhu[test_country][:,2], 'ro',label='D') # died\n",
    "plt.gca().set_prop_cycle(color=['grey','orange','green','green','green','blue','red', 'black'])\n",
    "plt.plot(t_fit[1::], sol_fit)\n",
    "plt.ylim([0,0.02])\n",
    "plt.legend()\n",
    "peak_i = np.argmax(sol_fit[:,2])\n",
    "print('Peak infection (days)', t_fit[peak_i])"
   ]
  },
  {
   "cell_type": "markdown",
   "metadata": {},
   "source": [
    "### Stochastic simulation"
   ]
  },
  {
   "cell_type": "code",
   "execution_count": 109,
   "metadata": {},
   "outputs": [],
   "source": [
    "N=10000\n",
    "I_0 =  10\n",
    "x0_SCIR_S = [N-I_0, I_0, 0, 0, 0]\n",
    "# Define parameters based on clinical observations Dr. Alison\n",
    "Exposure=0.25 # Rate coefficient for exposure per individual in contact per day\n",
    "IncubPeriod=5  #Incubation period, days\n",
    "DurInf=10 #Duration of mild infections, days\n",
    "FracCritical=0.1 #Fraction of infections that are critical\n",
    "CFR=0.05 #Case fatality rate (fraction of infections resulting in death)\n",
    "TimeDeath=DurInf+7 #Time from ICU admission to death, days\n",
    "\n",
    "# Model extension by John McCaskill to include caution \n",
    "CautionFactor= 0.4 # Fractional reduction of exposure rate for cautioned individuals\n",
    "CautionRetention= 21. # Duration of cautionary state of susceptibles (2 weeks)\n",
    "CautionICUFrac= 0.25 # Fraction of ICUs occupied leading to transition to caution @ 1/day\n",
    "ICUFrac= 0.02 # Fraction of ICUs relative to population size N                                                       # increased 10X for low pop simulation\n",
    "\n",
    "# Model fitting extension to allow for incomplete detection\n",
    "FracConfirmedDet=0.125  # Fraction of recovered individuals measured\n",
    "FracRecoveredDet=FracConfirmedDet # Fraction of recovered individuals measured\n",
    "FracDeathsDet=1.0\n",
    "params_S = {'beta' : Exposure/sum(x0_SCIR_S),\n",
    "          'gamma': (1.0/DurInf),\n",
    "          'mu'    : (1.0/TimeDeath)*(CFR/FracCritical),\n",
    "          'c_0'    : CautionFactor,\n",
    "          'c_1'    : 1.0/CautionRetention,\n",
    "          'c_2'    : 1.0/(sum(x0_SCIR_S)*ICUFrac*CautionICUFrac),\n",
    "          'N'     : sum(x0_SCIR_S)}\n",
    "SCIR_modelS.initial_values = (x0_SCIR_S, t[0])\n",
    "SCIR_modelS.parameters = params_S\n",
    "SCIR_modelS.params = params_S.copy()\n",
    "t_jump = np.linspace(0,100,50)\n",
    "simX, simT =SCIR_modelS.simulate_jump(t_jump, iteration=5, full_output=True)"
   ]
  },
  {
   "cell_type": "code",
   "execution_count": 110,
   "metadata": {},
   "outputs": [
    {
     "data": {
      "image/png": "[encoded data removed]",
      "text/plain": [
       "<Figure size 1800x1080 with 10 Axes>"
      ]
     },
     "metadata": {
      "needs_background": "light"
     },
     "output_type": "display_data"
    }
   ],
   "source": [
    "plt.figure(figsize=(25,15))\n",
    "\n",
    "for iter in range(5):\n",
    "    plt.subplot(2,5,iter+1)\n",
    "    plt.xlabel(\"Time (days)\")\n",
    "    plt.ylabel(\"Population\")\n",
    "    plt.plot(simT,simX[iter],label=(\"S\",\"I\",\"R\",\"D\",\"Sc\"))\n",
    "    plt.legend((\"S\",\"I\",\"R\",\"D\",\"Sc\"))\n",
    "for iter in range(5):\n",
    "    plt.subplot(2,5,5+iter+1)\n",
    "    plt.xlabel(\"Time (days)\")\n",
    "    plt.ylabel(\"Population\")\n",
    "    plt.semilogy()\n",
    "    plt.plot(simT,simX[iter],label=(\"S\",\"I\",\"R\",\"D\",\"Sc\"))\n",
    "    plt.legend((\"S\",\"I\",\"R\",\"D\",\"Sc\"));"
   ]
  },
  {
   "cell_type": "markdown",
   "metadata": {},
   "source": [
    "## Simulation of SC2IR model"
   ]
  },
  {
   "cell_type": "code",
   "execution_count": 26,
   "metadata": {},
   "outputs": [
    {
     "name": "stdout",
     "output_type": "stream",
     "text": [
      "parameters {'beta': 0.25, 'gamma': 0.1, 'mu': 0.029411764705882353, 'c_0': 0.4, 'c_1': 0.047619047619047616, 'c_2': 2000.0, 'N': 1.0}\n"
     ]
    },
    {
     "data": {
      "image/png": "[encoded data removed]",
      "text/plain": [
       "<Figure size 432x288 with 6 Axes>"
      ]
     },
     "metadata": {
      "needs_background": "light"
     },
     "output_type": "display_data"
    },
    {
     "name": "stdout",
     "output_type": "stream",
     "text": [
      "Peak infection (days) 5.0\n"
     ]
    }
   ],
   "source": [
    "# setup time points for simulation, initial conditions and parameters\n",
    "t = np.linspace(0, lastday -1, lastday)\n",
    "\n",
    "# initial conditions assuming there is no natural immunity\n",
    "I_0 =  0.00003\n",
    "x0 = [1.0-I_0, I_0, 0.0, 0.0, 0.0, 0.0]\n",
    "\n",
    "# Define parameters based on clinical observations Dr. Alison\n",
    "Exposure=0.25 # Rate coefficient for exposure per individual in contact per day\n",
    "IncubPeriod=5  #Incubation period, days\n",
    "DurInf=10 #Duration of mild infections, days\n",
    "FracCritical=0.1 #Fraction of infections that are critical\n",
    "CFR=0.05 #Case fatality rate (fraction of infections resulting in death)\n",
    "TimeDeath=DurInf+7 #Time from ICU admission to death, days\n",
    "\n",
    "# Model extension by John McCaskill to include caution \n",
    "CautionFactor= 0.4 # Fractional reduction of exposure rate for cautioned individuals\n",
    "CautionRetention= 21. # Duration of cautionary state of susceptibles (2 weeks)\n",
    "CautionICUFrac= 0.25 # Fraction of ICUs occupied leading to transition to caution @ 1/day\n",
    "ICUFrac= 0.002 # Fraction of ICUs relative to population size N\n",
    "\n",
    "# Model fitting extension to allow for incomplete detection\n",
    "FracConfirmedDet=0.125  # Fraction of recovered individuals measured\n",
    "FracRecoveredDet=FracConfirmedDet # Fraction of recovered individuals measured\n",
    "FracDeathsDet=1.0\n",
    "\n",
    "# convert above parameters to model parameters\n",
    "params = {'beta' : Exposure/sum(x0),\n",
    "          'gamma': (1.0/DurInf),\n",
    "          'mu'    : (1.0/TimeDeath)*(CFR/FracCritical),\n",
    "          'c_0'    : CautionFactor,\n",
    "          'c_1'    : 1.0/CautionRetention,\n",
    "          'c_2'    : 1.0/(sum(x0)*ICUFrac*CautionICUFrac),\n",
    "          'N'     : sum(x0)}\n",
    "print('parameters',params)\n",
    "# assign x0 and params to the model, integrate over t and plot\n",
    "SC2IR_model.initial_values = (x0, t[0])\n",
    "SC2IR_model.parameters = params\n",
    "SC2IR_model.params = params.copy()\n",
    "solution = SC2IR_model.integrate(t[1::])\n",
    "\n",
    "SC2IR_model.plot()\n",
    "\n",
    "# calculate time point when maximum number of people are infectious\n",
    "peak_i = np.argmax(solution[:,1])\n",
    "print('Peak infection (days)', t[peak_i])"
   ]
  },
  {
   "cell_type": "markdown",
   "metadata": {},
   "source": [
    "### Integration and plot using scipy and matplotlib directly"
   ]
  },
  {
   "cell_type": "code",
   "execution_count": null,
   "metadata": {},
   "outputs": [],
   "source": [
    "solution1 = scipy.integrate.odeint(SC2IR_model.ode, x0, t[1::])\n",
    "ys = solution1.copy()\n",
    "plt.figure(figsize=(15,7))\n",
    "plt.subplot(1,2,1)\n",
    "plt.xlabel(\"Time (days)\")\n",
    "plt.ylabel(\"Fraction of population\")\n",
    "plt.ylim([0,1])\n",
    "plt.gca().set_prop_cycle(color=['grey','green','blue','red','darkgreen', 'black'])\n",
    "plt.plot(t[1::],ys,label=(\"S\",\"I\",\"R\",\"D\",'Ic',\"Sc\"))\n",
    "plt.legend((\"S\",\"I\",\"R\",\"D\",\"Ic\",\"Sc\"))\n",
    "plt.title(SC2IR_model.modelname)\n",
    "plt.subplot(1,2,2)\n",
    "plt.xlabel(\"Time (days)\")\n",
    "plt.ylabel(\"Fraction of population\")\n",
    "plt.ylim([0.000001,1])\n",
    "plt.semilogy()\n",
    "plt.gca().set_prop_cycle(color=['grey','green','blue','red','darkgreen', 'black'])\n",
    "plt.plot(t[1::],ys,label=(\"S\",\"I\",\"R\",\"D\",'Ic',\"Sc\"))\n",
    "plt.legend((\"S\",\"I\",\"R\",\"D\",\"Ic\",\"Sc\"))\n",
    "plt.title(SC2IR_model.modelname + ' - semilog');"
   ]
  },
  {
   "cell_type": "markdown",
   "metadata": {},
   "source": [
    "### Compare data with SC2IR simulation"
   ]
  },
  {
   "cell_type": "code",
   "execution_count": null,
   "metadata": {
    "scrolled": true
   },
   "outputs": [],
   "source": [
    "# model with generating parameters \n",
    "def isolveplot(beta,gamma,mu,c_0,c_1,c_2,logI_0):\n",
    "    # saveparams=SC2IR_model.parameters.copy() # backup model current parameters\n",
    "    # saveICs = SC2IR_model.initial_values # back model ICs\n",
    "    I_0 = 10.**logI_0\n",
    "    x0 = [1.0-I_0, I_0, 0.0, 0.0, 0.0, 0.0]\n",
    "    params = {'beta' : beta,\n",
    "          'gamma': gamma,\n",
    "          'mu'    : mu,\n",
    "          'c_0'    : c_0,\n",
    "          'c_1'    : c_1,\n",
    "          'c_2'    : c_2,\n",
    "          'N'     : sum(x0)}\n",
    "    SC2IR_model.initial_values = (x0, t[0])\n",
    "    SC2IR_model.parameters = params.copy()\n",
    "    \n",
    "    sol_fit = scipy.integrate.odeint(SC2IR_model.ode, x0, t[1::])\n",
    "    #\n",
    "    plt.figure(figsize=(15,10))\n",
    "    plt.plot(t,y_jhu[test_country][:,1]/FracRecoveredDet, 'bo',label='R') # recovered\n",
    "    plt.semilogy()\n",
    "    plt.plot(t,y_jhu[test_country][:,2], 'ro',label='D') # died\n",
    "    plt.semilogy()\n",
    "    plt.gca().set_prop_cycle(color=['grey','green','blue','red','darkgreen','black'])\n",
    "    plt.plot(t[1::], sol_fit)\n",
    "    plt.ylim([0.000001,1])\n",
    "    plt.semilogy()\n",
    "    plt.legend(('R','D','S','I','R','D','I_c','S_c'))\n",
    "    #plt.show(())\n",
    "    #ode_fit.plot()\n",
    "\n",
    "    peak_i = np.argmax(sol_fit[:,2])\n",
    "    print('Peak infection (days)', t_fit[peak_i])\n",
    "    # SC2IR_model.parameters=saveparams.copy()\n",
    "    # SC2IR_model.initial_values=saveICs"
   ]
  },
  {
   "cell_type": "code",
   "execution_count": null,
   "metadata": {},
   "outputs": [],
   "source": [
    "params = {'beta' : 0.25,\n",
    "          'gamma': 0.1,\n",
    "          'mu'    : 0.05,\n",
    "          'c_0'    : 0.3,\n",
    "          'c_1'    : 1./14.,\n",
    "          'c_2'    : 2000.,\n",
    "          'N'     : 1.}\n",
    "interact(isolveplot,\n",
    "         beta=FloatSlider(min=0,max=1,step=0.01,value=params['beta'],description='beta',\n",
    "                            style=style,layout=slider_layout,continuous_update=False,readout_format='.3f'),\n",
    "         gamma=FloatSlider(min=0,max=1,step=0.01,value=params['gamma'],description='gamma',\n",
    "                            style=style,layout=slider_layout,continuous_update=False,readout_format='.3f'),\n",
    "         mu=FloatSlider(min=0,max=0.1,step=0.001,value=params['mu'],description='mu',\n",
    "                            style=style,layout=slider_layout,continuous_update=False,readout_format='.3f'),     \n",
    "         c_0=FloatSlider(min=0,max=1,step=0.01,value=params['c_0'],description='c_0',\n",
    "                            style=style,layout=slider_layout,continuous_update=False,readout_format='.3f'),\n",
    "         c_1=FloatSlider(min=0,max=1,step=0.001,value=params['c_1'],description='c_1',\n",
    "                            style=style,layout=slider_layout,continuous_update=False,readout_format='.3f'),\n",
    "         c_2=FloatSlider(min=0,max=5000,step=1,value=params['c_2'],description='c_2',\n",
    "                            style=style,layout=slider_layout,continuous_update=False,readout_format='.1f'),\n",
    "         logI_0=FloatSlider(min=-10,max=0,step=0.01,value=np.log10(x0[1]),description='log I_0',\n",
    "                            style=style,layout=slider_layout,continuous_update=False))"
   ]
  },
  {
   "cell_type": "code",
   "execution_count": null,
   "metadata": {},
   "outputs": [],
   "source": [
    "slide_params=SC2IR_model.parameters.copy()\n",
    "print(slide_params)\n",
    "theta = [0.4,0.11,0.007,0.33,0.228,275.]"
   ]
  },
  {
   "cell_type": "markdown",
   "metadata": {},
   "source": [
    "## Simulation of SCEI3R model"
   ]
  },
  {
   "cell_type": "code",
   "execution_count": null,
   "metadata": {},
   "outputs": [],
   "source": [
    "# setup time points for simulation, initial conditions and parameters\n",
    "t = np.linspace(0, lastday -1, lastday)\n",
    "\n",
    "# initial conditions assuming there is no natural immunity\n",
    "E_0 =  0.00003\n",
    "x0_SCEI3R = [1.0-E_0, E_0, 0.0, 0.0, 0.0, 0.0, 0.0, 0.0]\n",
    "\n",
    "# Define parameters based on clinical observations Dr. Alison\n",
    "Exposure=0.25 # Rate coefficient for exposure per individual in contact per day\n",
    "IncubPeriod=5  #Incubation period, days\n",
    "DurMildInf=10 #Duration of mild infections, days\n",
    "FracMild=0.70  #Fraction of infections that are mild\n",
    "FracSevere=0.20 #Fraction of infections that are severe\n",
    "FracCritical=0.1 #Fraction of infections that are critical\n",
    "CFR=0.07 #Case fatality rate (fraction of infections resulting in death)\n",
    "TimeICUDeath=7 #Time from ICU admission to death, days\n",
    "DurHosp=11 #Duration of hospitalization, days\n",
    "\n",
    "# Model extension by John McCaskill to include caution \n",
    "CautionFactor= 0.2 # Fractional reduction of exposure rate for cautioned individuals\n",
    "CautionRetention= 21. # Duration of cautionary state of susceptibles (2 weeks)\n",
    "CautionICUFrac= 0.3 # Fraction of ICUs occupied leading to transition to caution @ 1/day\n",
    "ICUFrac= 0.002 # Fraction of ICUs relative to population size N\n",
    "\n",
    "# Model fitting extension to allow for incomplete detection\n",
    "FracConfirmedDet=0.125  # Fraction of recovered individuals measured\n",
    "FracRecoveredDet=FracConfirmedDet # Fraction of recovered individuals measured\n",
    "FracDeathsDet=1.0\n",
    "\n",
    "# convert above parameters to model parameters\n",
    "params = {'beta_1' : Exposure/sum(x0_SCEI3R),\n",
    "          'beta_2' : 0.0,\n",
    "          'beta_3' : 0.0,\n",
    "          'alpha' : 1.0/IncubPeriod,\n",
    "          'gamma_1': (1.0/DurMildInf)*FracMild,\n",
    "          'gamma_2': (1.0/DurHosp)-(1/DurHosp)*(FracCritical/(FracCritical+FracSevere)),\n",
    "          'gamma_3': (1.0/TimeICUDeath)-(1/TimeICUDeath)*(CFR/FracCritical),\n",
    "          'p_1'    : (1.0/DurMildInf)-(1.0/DurMildInf)*FracMild,\n",
    "          'p_2'    : (1.0/DurHosp)*(FracCritical/(FracCritical+FracSevere)),\n",
    "          'mu'    : (1.0/TimeICUDeath)*(CFR/FracCritical),\n",
    "          'c_0'    : CautionFactor,\n",
    "          'c_1'    : 1.0/CautionRetention,\n",
    "          'c_2'    : 1.0/(sum(x0_SCEI3R)*ICUFrac*CautionICUFrac),\n",
    "          'N'     : sum(x0_SCEI3R)}\n",
    "print(params)\n",
    "# assign x0 and params to the model, integrate over t and plot\n",
    "SCEI3R_model.initial_values = (x0_SCEI3R, t[0])\n",
    "SCEI3R_model.parameters = params\n",
    "SCEI3R_model.params = params.copy()\n",
    "solution = SCEI3R_model.integrate(t[1::])\n",
    "\n",
    "SCEI3R_model.plot()\n",
    "\n",
    "# calculate time point when maximum number of people are infectious\n",
    "peak_i = np.argmax(solution[:,2])\n",
    "print('Peak infection (days)', t[peak_i])"
   ]
  },
  {
   "cell_type": "markdown",
   "metadata": {},
   "source": [
    "### Compare data with SCEI3R simulation"
   ]
  },
  {
   "cell_type": "code",
   "execution_count": null,
   "metadata": {
    "scrolled": true
   },
   "outputs": [],
   "source": [
    "# model with generating parameters \n",
    "params1 = SCEI3R_model.params.copy()\n",
    "params1['c_0']=0.7\n",
    "SCEI3R_model.parameters = params1\n",
    "print(SCEI3R_model.parameters)\n",
    "x0_fit = x0_SCEI3R.copy()\n",
    "# x0_fit[2] = 0.00001\n",
    "#t_fit = numpy.linspace(0, 150, 1000)\n",
    "print(x0_fit)\n",
    "t_fit = t\n",
    "print(len(t))\n",
    "SCEI3R_model.initial_values = (x0_fit, t_fit[0])\n",
    "# %timeit sol_fit =SCEI3R_model.integrate(t_fit[1::]) # use magic %timeit to time\n",
    "#sol_fit =SCEI3R_model.integrate(t_fit[1::])\n",
    "# sol_fit = SCEI3R_model.integrate(t_fit)\n",
    "sol_fit = scipy.integrate.odeint(SCEI3R_model.ode, x0_fit, t_fit[1::])\n",
    "# print(len(sol_fit[0]))\n",
    "#\n",
    "plt.figure(figsize=(15,10))\n",
    "#plt.plot(t,y_jhu[test_country][:,0], 'go',label='I_1') # infected observations\n",
    "#plt.plot(t,y_jhu[test_country][:,1], 'go',label='I_2') # infected observations\n",
    "#plt.plot(t,y_jhu[test_country][:,2], 'go',label='I_3') # infected observations\n",
    "plt.plot(t,y_jhu[test_country][:,1]/FracRecoveredDet, 'bo',label='R') # recovered\n",
    "plt.plot(t,y_jhu[test_country][:,2], 'ro',label='D') # died\n",
    "plt.gca().set_prop_cycle(color=['grey','orange','green','green','green','blue','red','black',])\n",
    "plt.plot(t_fit[1::], sol_fit)\n",
    "plt.ylim([0,0.06])\n",
    "plt.legend()\n",
    "#plt.show(())\n",
    "#ode_fit.plot()\n",
    "\n",
    "peak_i = np.argmax(sol_fit[:,2])\n",
    "print('Peak infection (days)', t_fit[peak_i])"
   ]
  },
  {
   "cell_type": "markdown",
   "metadata": {},
   "source": [
    "### Integration and plot using scipy and matplotlib directly"
   ]
  },
  {
   "cell_type": "code",
   "execution_count": null,
   "metadata": {},
   "outputs": [],
   "source": [
    "# solution = scipy.integrate.odeint(SCEI3R_model.ode, x0, t)\n",
    "# print(len(t))\n",
    "solution1 = scipy.integrate.odeint(SCEI3R_model.ode, x0_SCEI3R, t[1::])\n",
    "ys = solution1.copy()\n",
    "plt.figure(figsize=(15,7))\n",
    "plt.subplot(1,2,1)\n",
    "plt.xlabel(\"Time (days)\")\n",
    "plt.ylabel(\"Number per 1000000 People\")\n",
    "plt.ylim([0,1])\n",
    "plt.legend((\"S\",\"E\",\"I1\",\"I2\",\"I3\",\"R\",\"D\",\"Sc\"))\n",
    "plt.plot(t[1::],ys)\n",
    "plt.subplot(1,2,2)\n",
    "plt.xlabel(\"Time (days)\")\n",
    "plt.ylabel(\"Number per 1000000 People\")\n",
    "plt.ylim([0.000001,1])\n",
    "plt.legend((\"S\",\"E\",\"I1\",\"I2\",\"I3\",\"R\",\"D\",\"Sc\"))\n",
    "plt.semilogy()\n",
    "plt.plot(t[1::],ys);"
   ]
  },
  {
   "cell_type": "markdown",
   "metadata": {},
   "source": [
    "## Simulation of SC3EI3R model"
   ]
  },
  {
   "cell_type": "code",
   "execution_count": null,
   "metadata": {},
   "outputs": [],
   "source": [
    "len(params)"
   ]
  },
  {
   "cell_type": "code",
   "execution_count": 25,
   "metadata": {},
   "outputs": [
    {
     "name": "stdout",
     "output_type": "stream",
     "text": [
      "{'beta_1': 0.25, 'beta_2': 0.0, 'beta_3': 0.0, 'alpha': 0.2, 'gamma_1': 0.06999999999999999, 'gamma_2': 0.06060606060606061, 'gamma_3': 0.042857142857142844, 'p_1': 0.030000000000000013, 'p_2': 0.030303030303030304, 'mu': 0.1, 'c_0': 0.2, 'c_1': 0.047619047619047616, 'c_2': 1666.6666666666667, 'N': 1.0}\n"
     ]
    },
    {
     "data": {
      "image/png": "[encoded data removed]",
      "text/plain": [
       "<Figure size 432x288 with 9 Axes>"
      ]
     },
     "metadata": {
      "needs_background": "light"
     },
     "output_type": "display_data"
    },
    {
     "data": {
      "image/png": "[encoded data removed]",
      "text/plain": [
       "<Figure size 432x288 with 3 Axes>"
      ]
     },
     "metadata": {
      "needs_background": "light"
     },
     "output_type": "display_data"
    },
    {
     "name": "stdout",
     "output_type": "stream",
     "text": [
      "Peak infection (days) 66.0\n"
     ]
    }
   ],
   "source": [
    "# setup time points for simulation, initial conditions and parameters\n",
    "t = np.linspace(0, lastday -1, lastday)\n",
    "tmax=lastday-1\n",
    "# initial conditions assuming there is no natural immunity\n",
    "E_0 =  0.00003\n",
    "x0_SC3EI3R = [1.0-E_0, E_0, 0.0, 0.0, 0.0, 0.0, 0.0, 0.0, 0.0, 0.0, 0.0]\n",
    "x0_SC3EI3R = [1.0-E_0, E_0, 0.0, 0.0, 0.0, 0.0, 0.0, 0.0, 0.0, 0.0]\n",
    "\n",
    "\n",
    "# Define parameters based on clinical observations Dr. Alison\n",
    "Exposure=0.25 # Rate coefficient for exposure per individual in contact per day\n",
    "IncubPeriod=5  #Incubation period, days\n",
    "DurMildInf=10 #Duration of mild infections, days\n",
    "FracMild=0.70  #Fraction of infections that are mild\n",
    "FracSevere=0.20 #Fraction of infections that are severe\n",
    "FracCritical=0.1 #Fraction of infections that are critical\n",
    "CFR=0.07 #Case fatality rate (fraction of infections resulting in death)\n",
    "TimeICUDeath=7 #Time from ICU admission to death, days\n",
    "DurHosp=11 #Duration of hospitalization, days\n",
    "\n",
    "# Model fitting extension to allow for incomplete detection\n",
    "FracConfirmedDet=0.125  # Fraction of recovered individuals measured\n",
    "FracRecoveredDet=FracConfirmedDet # Fraction of recovered individuals measured\n",
    "FracDeathsDet=1.0\n",
    "\n",
    "# Model extension by John McCaskill to include caution \n",
    "CautionFactor= 0.2 # Fractional reduction of exposure rate for cautioned individuals\n",
    "CautionRetention= 21. # Duration of cautionary state of susceptibles (2 weeks)\n",
    "CautionICUFrac= 0.3 # Fraction of ICUs occupied leading to transition to caution @ 1/day\n",
    "ICUFrac= 0.002 # Fraction of ICUs relative to population size N\n",
    "\n",
    "\n",
    "# convert above parameters to model parameters\n",
    "params = {'beta_1' : Exposure/sum(x0_SC3EI3R),\n",
    "          'beta_2' : 0.0,\n",
    "          'beta_3' : 0.0,\n",
    "          'alpha' : 1.0/IncubPeriod,\n",
    "          'gamma_1': (1.0/DurMildInf)*FracMild,\n",
    "          'gamma_2': (1.0/DurHosp)-(1/DurHosp)*(FracCritical/(FracCritical+FracSevere)),\n",
    "          'gamma_3': (1.0/TimeICUDeath)-(1/TimeICUDeath)*(CFR/FracCritical),\n",
    "          'p_1'    : (1.0/DurMildInf)-(1.0/DurMildInf)*FracMild,\n",
    "          'p_2'    : (1.0/DurHosp)*(FracCritical/(FracCritical+FracSevere)),\n",
    "          'mu'    : (1.0/TimeICUDeath)*(CFR/FracCritical),\n",
    "          'c_0'    : CautionFactor,\n",
    "          'c_1'    : 1.0/CautionRetention,\n",
    "          'c_2'    : 1.0/(sum(x0_SC3EI3R)*ICUFrac*CautionICUFrac),\n",
    "          'N'     : sum(x0_SC3EI3R)}\n",
    "\n",
    "print(params)\n",
    "# assign x0 and params to the model, integrate over t and plot\n",
    "SC3EI3R_model.initial_values = (x0_SC3EI3R, t[0])\n",
    "SC3EI3R_model.parameters = params\n",
    "SC3EI3R_model.params = params.copy()\n",
    "solution = SC3EI3R_model.integrate(t[1::])\n",
    "\n",
    "SC3EI3R_model.plot()\n",
    "\n",
    "# calculate time point when maximum number of people are infectious\n",
    "peak_i = np.argmax(solution[:,2])\n",
    "print('Peak infection (days)', t[peak_i])"
   ]
  },
  {
   "cell_type": "code",
   "execution_count": null,
   "metadata": {},
   "outputs": [],
   "source": [
    "x0_SC3EI3R"
   ]
  },
  {
   "cell_type": "markdown",
   "metadata": {},
   "source": [
    "### Compare data with SC3EI3R simulation"
   ]
  },
  {
   "cell_type": "code",
   "execution_count": null,
   "metadata": {
    "scrolled": true
   },
   "outputs": [],
   "source": [
    "# model with generating parameters \n",
    "params1 = SC3EI3R_model.params.copy()\n",
    "params1['c_0']=0.35\n",
    "SC3EI3R_model.parameters = params1\n",
    "print(SC3EI3R_model.parameters)\n",
    "x0_fit = x0_SC3EI3R.copy()\n",
    "# x0_fit[2] = 0.00001\n",
    "#t_fit = numpy.linspace(0, 150, 1000)\n",
    "print(x0_fit)\n",
    "t_fit = t\n",
    "print(len(t))\n",
    "SC3EI3R_model.initial_values = (x0_fit, t_fit[0])\n",
    "# %timeit sol_fit =SC3EI3R_model.integrate(t_fit[1::]) # use magic %timeit to time\n",
    "sol_fit =SC3EI3R_model.integrate(t_fit[1::])\n",
    "# sol_fit = SC3EI3R_model.integrate(t_fit)\n",
    "# sol_fit = scipy.integrate.odeint(SC3EI3R_model(params_fit).ode, x0_fit, t_fit[1::])\n",
    "# print(len(sol_fit[0]))\n",
    "#\n",
    "plt.figure(figsize=(15,10))\n",
    "plt.plot(t,y_jhu[test_country][:,1]/FracRecoveredDet, 'bo',label='R') # recovered\n",
    "plt.plot(t,y_jhu[test_country][:,2]/FracDeathsDet, 'ro',label='D') # died\n",
    "plt.gca().set_prop_cycle(color=['grey','orange','green','green','green','blue','red','darkgreen', 'black'])\n",
    "#plt.plot(t_fit[1::], sol_fit)\n",
    "plt.plot(t_fit, sol_fit)\n",
    "plt.ylim([0,0.06])\n",
    "plt.legend()\n",
    "#plt.show(())\n",
    "#ode_fit.plot()\n",
    "\n",
    "peak_i = np.argmax(sol_fit[:,2])\n",
    "print('Peak infection (days)', t_fit[peak_i])"
   ]
  },
  {
   "cell_type": "markdown",
   "metadata": {},
   "source": [
    "## Simulation models for range of caution parameters"
   ]
  },
  {
   "cell_type": "markdown",
   "metadata": {},
   "source": [
    "### SCIR, SC2IR, SCEIR, SC3EIR,  SCEI3R, SC3EI3R, SC2UIR, SC3UEIR, SC3UEI3R simulations"
   ]
  },
  {
   "cell_type": "code",
   "execution_count": null,
   "metadata": {},
   "outputs": [],
   "source": [
    "def param_copy(model):\n",
    "    params = model.parameters\n",
    "    newparams = {}\n",
    "    pkeys1 = list(model.params.keys())\n",
    "    pkeys2 = list(model.parameters.keys())\n",
    "    for i in range(len(pkeys1)):\n",
    "        newparams[pkeys1[i]] = params[pkeys2[i]]\n",
    "    print(newparams)\n",
    "    model.parameters=newparams\n",
    "    \n",
    "def param_modify(model,param,value):\n",
    "    params = model.parameters\n",
    "    newparams = {}\n",
    "    pkeys1 = list(model.params.keys())\n",
    "    pkeys2 = list(model.parameters.keys())\n",
    "    for i in range(len(pkeys1)):\n",
    "        newparams[pkeys1[i]] = params[pkeys2[i]]\n",
    "    newparams[param]=value\n",
    "    print(newparams)\n",
    "    model.parameters=newparams\n",
    "    \n",
    "param_modify(SCIR_model,'beta',0.721)"
   ]
  },
  {
   "cell_type": "code",
   "execution_count": null,
   "metadata": {},
   "outputs": [],
   "source": [
    "SCIR_model.parameters = {'gamma':0.4}\n",
    "SCIR_model.parameters"
   ]
  },
  {
   "cell_type": "code",
   "execution_count": null,
   "metadata": {},
   "outputs": [],
   "source": [
    "def vector2params_old(b,a,g,p,u,c,k,N,modelname):\n",
    "    if 'I3' in modelname:  # models with hospitalization\n",
    "        params = {\n",
    "            'beta_1' : b[1],\n",
    "            'beta_2' : b[2],\n",
    "            'beta_3' : b[3],\n",
    "            'alpha' : a,\n",
    "            'gamma_1': g[1],\n",
    "            'gamma_2': g[2],\n",
    "            'gamma_3': g[3],\n",
    "            'p_1'    : p[1],\n",
    "            'p_2'    : p[2],\n",
    "            'mu'    : u}\n",
    "    elif 'E' in modelname:\n",
    "        params = {\n",
    "            'beta' : b[1],  # see above for explanations\n",
    "            'alpha' : a, \n",
    "            'gamma': g[1]+g[2]*(p[1]/(g[2]+p[2]))+g[3]*(p[1]/(g[2]+p[2]))*(p[2]/(g[3]+u)),\n",
    "            'mu'    : u*(p[1]/(g[2]+p[2])*(p[2]/(g[3]+u)))}    \n",
    "    else:\n",
    "        params = {\n",
    "            'beta' : b[1],  # see above for explanations\n",
    "            'gamma': g[1]+g[2]*(p[1]/(g[2]+p[2]))+g[3]*(p[1]/(g[2]+p[2]))*(p[2]/(g[3]+u)),\n",
    "            'mu'    : u*(p[1]/(g[2]+p[2])*(p[2]/(g[3]+u)))}\n",
    "            \n",
    "    if 'C' in modelname: # models with caution  \n",
    "        params['c_0'] = c[0]\n",
    "        params['c_1'] = c[1]\n",
    "        if 'I3' in modelname: # models with hospitalization\n",
    "            params['c_2'] = c[2]\n",
    "        else:\n",
    "            params['c_2'] = c[2]*FracCritical\n",
    "        \n",
    "    if 'U' in modelname: # models with economic correction to caution  \n",
    "        params['k_u'] = k[0]\n",
    "        params['k_1'] = k[1]\n",
    "        params['k_w'] = k[2]\n",
    "        params['kappa'] = k[3]\n",
    "        \n",
    "    params['N'] = N\n",
    "    return params\n",
    "\n",
    "def params2vector_old(params):\n",
    "    b = [None,None,None]\n",
    "    g = [None,None,None]\n",
    "    p = [None,None,None]\n",
    "    c = [None,None,None]\n",
    "    b[0]=0.0\n",
    "    b[1]=params['beta_1']\n",
    "    b[2]=params['beta_2']\n",
    "    b[3]=params['beta_3']\n",
    "    g[0]=0.0\n",
    "    g[1]=params['gamma_1']\n",
    "    g[2]=params['gamma_2']\n",
    "    g[3]=params['gamma_3']\n",
    "    p[0]=0.0\n",
    "    p[1]=params['p_1']\n",
    "    p[2]=params['p_2']\n",
    "    c[0]=params['c_1']\n",
    "    c[1]=params['c_2']\n",
    "    c[2]=params['c_3']\n",
    "    a=params['alpha']\n",
    "    u=params['mu']\n",
    "    N=params['N']\n",
    "    return (b,a,g,p,u,c,N)"
   ]
  },
  {
   "cell_type": "code",
   "execution_count": null,
   "metadata": {},
   "outputs": [],
   "source": [
    "def vector2params(b,a,g,p,u,c,k,N,modelname):\n",
    "    global FracCritical\n",
    "    if 'I3' in modelname:  # models with hospitalization\n",
    "        params = {\n",
    "            'beta_1' : b[1],\n",
    "            'beta_2' : b[2],\n",
    "            'beta_3' : b[3],\n",
    "            'alpha' : a,\n",
    "            'gamma_1': g[1],\n",
    "            'gamma_2': g[2],\n",
    "            'gamma_3': g[3],\n",
    "            'p_1'    : p[1],\n",
    "            'p_2'    : p[2],\n",
    "            'mu'    : u}\n",
    "    elif 'E' in modelname:\n",
    "        irat = 1 + p[1]/(g[2]+p[2]) + p[2]/(g[3]+u)\n",
    "        #irat = 1\n",
    "        params = {\n",
    "            'beta' : b[1],  # see above for explanations\n",
    "            'alpha' : a, \n",
    "            'gamma': (g[1]+g[2]*(p[1]/(g[2]+p[2]))+g[3]*(p[1]/(g[2]+p[2]))*(p[2]/(g[3]+u)))/irat,\n",
    "            'mu'    : u*(p[1]/(g[2]+p[2])*(p[2]/(g[3]+u))/irat)}\n",
    "    else:\n",
    "        irat = 1 + p[1]/(g[2]+p[2]) + p[2]/(g[3]+u)\n",
    "        #irat = 1\n",
    "        params = {\n",
    "            #'beta' : np.sqrt(b[1]*a),  # see above for explanations\n",
    "            'beta' : b[1],  # see above for explanations\n",
    "            'gamma': (g[1]+g[2]*(p[1]/(g[2]+p[2]))+g[3]*(p[1]/(g[2]+p[2]))*(p[2]/(g[3]+u)))/irat,\n",
    "            'mu'    : u*(p[1]/(g[2]+p[2])*(p[2]/(g[3]+u))/irat)}\n",
    "            \n",
    "    if 'C' in modelname: # models with caution  \n",
    "        params['c_0'] = c[0]\n",
    "        params['c_1'] = c[1]\n",
    "        if 'I3' in modelname: # models with hospitalization\n",
    "            params['c_2'] = c[2]\n",
    "        else:\n",
    "            params['c_2'] = c[2]*FracCritical\n",
    "        \n",
    "    if 'U' in modelname: # models with economic correction to caution  \n",
    "        params['k_u'] = k[0]\n",
    "        params['k_1'] = k[1]\n",
    "        params['k_w'] = k[2]\n",
    "        params['kappa'] = k[3]\n",
    "        \n",
    "    params['N'] = N\n",
    "    return params\n",
    "\n",
    "def params2vector(params):\n",
    "    b = [None,None,None]\n",
    "    g = [None,None,None]\n",
    "    p = [None,None,None]\n",
    "    c = [None,None,None]\n",
    "    b[0]=0.0\n",
    "    b[1]=params['beta_1']\n",
    "    b[2]=params['beta_2']\n",
    "    b[3]=params['beta_3']\n",
    "    g[0]=0.0\n",
    "    g[1]=params['gamma_1']\n",
    "    g[2]=params['gamma_2']\n",
    "    g[3]=params['gamma_3']\n",
    "    p[0]=0.0\n",
    "    p[1]=params['p_1']\n",
    "    p[2]=params['p_2']\n",
    "    c[0]=params['c_1']\n",
    "    c[1]=params['c_2']\n",
    "    c[2]=params['c_3']\n",
    "    a=params['alpha']\n",
    "    u=params['mu']\n",
    "    N=params['N']\n",
    "    return (b,a,g,p,u,c,N)"
   ]
  },
  {
   "cell_type": "code",
   "execution_count": null,
   "metadata": {},
   "outputs": [],
   "source": [
    "count = 0\n",
    "\n",
    "def difference(datain):\n",
    "    dataout = np.zeros(np.shape(datain))\n",
    "    for i in range(1,len(datain)):\n",
    "        dataout[i,...] = datain[i,...]-datain[i-1,...]\n",
    "    return dataout\n",
    "        \n",
    "def rolling_average(datain,period):\n",
    "    (tmax,n) = np.shape(datain)\n",
    "    dataout = np.zeros((tmax,n),dtype=float)\n",
    "    moving_av = np.zeros(n,dtype=float)\n",
    "    for k in range(len(datain)):\n",
    "        if k-period >= 0:\n",
    "            moving_av[:] = moving_av[:] - datain[k-7,...]\n",
    "        moving_av[:] = moving_av[:] + datain[k,...]\n",
    "        dataout[k] = moving_av/min(float(period),float(k+1))\n",
    "    return dataout\n",
    "\n",
    "axes = [None]\n",
    "    \n",
    "def solveplot(smodels=['SIR','SCIR','SC2IR','SEIR','SCEIR','SC3EIR','SEI3R','SCEI3R','SC3EI3R'],species='EI',tmax=100,summing='daily',averaging='weekly',fitdata = None,scale='linear',plottitle= '',label='',\n",
    "              newplot = True, gbrcolors=False, figsize = None):\n",
    "    \"\"\"\n",
    "    solve ODEs and plot for set of models indicated\n",
    "    params: dictionary of simulation parameters\n",
    "    scale: alternative 'linear' or 'log'\n",
    "    species alternatives 'all', 'EI', 'confirmed', 'deaths', 'daily confirmed', 'daily deaths'\n",
    "    plottitle : title for plot\n",
    "    label : label for curve when called as part of multicurve plot\n",
    "    newplot : whether to open new plot True/False\n",
    "    models : list of models to include, default all three of those possible\n",
    "    \"\"\"\n",
    "    global count\n",
    "    global axes\n",
    "    global FracConfirmedDet,FracRecoveredDet,FracDeathsDet\n",
    "    tvec=np.arange(0,tmax,1)\n",
    "    tvec1 = tvec[1:]\n",
    "\n",
    "    if not fitdata is None:\n",
    "        tmaxf = len(fitdata)\n",
    "        if fitdata.ndim != 2:\n",
    "            print(\"error in number of dimensions of array\")\n",
    "        else:\n",
    "            print(\"fit data \",np.shape(fitdata))\n",
    "        tvecf=np.arange(0,tmaxf,1)\n",
    "        tvecf1 = tvecf[1:]\n",
    "            \n",
    "    nmodels = len(smodels)\n",
    "    nm = 0\n",
    "    \n",
    "    count = count+1\n",
    "    \n",
    "    if newplot:\n",
    "        axes = [None]*nmodels \n",
    "        if (figsize == None):\n",
    "            figsize=(nmodels*8,6)\n",
    "        plt.figure(figsize=figsize)\n",
    "        # fig, axeslist = plt.subplots(1, nmodels, figsize=(nmodels*8,6))\n",
    "        \n",
    "    solns = []    \n",
    "    for smodel in smodels:\n",
    "        model = cmodels[smodel]\n",
    "        nm = nm + 1\n",
    "        soln = scipy.integrate.odeint(model.ode, model.initial_values[0], tvec[1::])\n",
    "        #Plot\n",
    "        # ax = axeslist[nm]\n",
    "        if axes[nm-1] == None: \n",
    "            ax = axes[nm-1] = plt.subplot(1,nmodels,nm)\n",
    "        else:\n",
    "            ax = axes[nm-1]\n",
    "        if scale == 'log': #Plot on log scale\n",
    "            ax.semilogy()\n",
    "            ax.ylim([0.00000001,1.0])\n",
    "        if not isinstance(species,list):\n",
    "            lspecies = [species]\n",
    "        else:\n",
    "            lspecies = species\n",
    "            \n",
    "        if summing == 'daily':\n",
    "            ssoln = difference(soln)\n",
    "            if not fitdata is None:\n",
    "                sfit = difference(fitdata)\n",
    "        else:\n",
    "            ssoln = soln\n",
    "            if not fitdata is None:\n",
    "                sfit = fitdata\n",
    "                \n",
    "        if averaging == 'weekly':\n",
    "            srsoln = rolling_average(ssoln,7)\n",
    "            if not fitdata is None:\n",
    "                srfit = rolling_average(sfit,7)\n",
    "        else:\n",
    "            srsoln = ssoln\n",
    "            if not fitdata is None:\n",
    "                srfit = sfit\n",
    "                \n",
    "        for species in lspecies:\n",
    "            if species == 'confirmed':\n",
    "                suma = np.sum(srsoln[:,model.confirmed],axis=1)\n",
    "                if not fitdata is None:\n",
    "                    ax.plot(tvec1,suma,label=label,color='green')\n",
    "                    fita = srfit[1::,0]/FracConfirmedDet # confirmed cases data, corrected by FracConfirmedDet\n",
    "                    ax.plot(tvecf1,fita,'o',label=label,color='green')\n",
    "                else:\n",
    "                    ax.plot(tvec1,suma,label=label)\n",
    "            if species == 'recovered':\n",
    "                suma = np.sum(srsoln[:,model.recovered],axis=1)   \n",
    "                if not fitdata is None:\n",
    "                    ax.plot(tvec1,suma,label=label,color='blue')\n",
    "                    fita = srfit[1::,1]/FracRecoveredDet # recovered cases data, corrected by FracRecoveredDet\n",
    "                    ax.plot(tvecf1,fita,'o',label=label,color='blue')\n",
    "                else:\n",
    "                    ax.plot(tvec1,suma,label=label)\n",
    "            elif species == 'deaths':\n",
    "                suma = np.sum(srsoln[:,model.deaths],axis=1)\n",
    "                if not fitdata is None:\n",
    "                    ax.plot(tvec1,suma,label=label,color='red')\n",
    "                    fita = srfit[1::,2]/FracDeathsDet # deaths cases data, corrected by FracDeathsDet\n",
    "                    ax.plot(tvecf1,fita,'o',label=label,color='red')\n",
    "                else:\n",
    "                    ax.plot(tvec1,suma,label=label)\n",
    "            elif species == 'deaths_x10':\n",
    "                suma = np.sum(srsoln[:,model.deaths],axis=1)*10\n",
    "                if not fitdata is None:\n",
    "                    ax.plot(tvec1,suma,label=label,color='red')\n",
    "                    fita = srfit[1::,2]*10/FracDeathsDet # deaths cases data, corrected by FracDeathsDet\n",
    "                    ax.plot(tvecf1,fita,'o',label=label,color='red')\n",
    "                else:\n",
    "                    ax.plot(tvec1,suma,label=label)\n",
    "            elif species == 'EI':\n",
    "                ax.plot(tvec1,soln[:,model.ei],label=label)\n",
    "                # ax.plot(tvec1,soln[:,model.ei],label=\"%s\" % count)\n",
    "                if 'I3' in model.modelname: \n",
    "                    plt.legend((\"E\",\"I1\",\"I2\",\"I3\"))\n",
    "                elif 'E' in model.modelname: \n",
    "                    plt.legend((\"E\",\"I\"))\n",
    "                else:\n",
    "                    plt.legend((\"I\"))\n",
    "            elif species == 'all':\n",
    "                ax.plot(tvec1,soln,label=label)\n",
    "\n",
    "                if 'I3' in model.modelname:\n",
    "                    if 'C3'in model.modelname:\n",
    "                        pspecies=(\"S\",\"E\",\"I1\",\"I2\",\"I3\",\"R\",\"D\",\"Ic\",\"Sc\",\"Ec\")\n",
    "                    elif 'C' in model.modelname:\n",
    "                        pspecies=(\"S\",\"E\",\"I1\",\"I2\",\"I3\",\"R\",\"D\",\"Sc\")\n",
    "                    else:\n",
    "                        pspecies=(\"S\",\"E\",\"I1\",\"I2\",\"I3\",\"R\",\"D\")\n",
    "                elif 'E' in model.modelname:\n",
    "                    if 'C3'in model.modelname:\n",
    "                        pspecies=(\"S\",\"E\",\"I\",\"R\",\"D\",\"Ic\",\"Sc\",\"Ec\")\n",
    "                    else:\n",
    "                        pspecies=(\"S\",\"E\",\"I\",\"R\",\"D\",\"Sc\")                \n",
    "                else:\n",
    "                    if 'C2'in model.modelname:\n",
    "                        pspecies=(\"S\",\"I\",\"R\",\"D\",\"Ic\",\"Sc\")\n",
    "                    else:\n",
    "                        pspecies=(\"S\",\"I\",\"R\",\"D\",\"Sc\")\n",
    "                plt.legend(pspecies)\n",
    "            \n",
    "        plt.xlabel(\"Time (days)\")\n",
    "        plt.ylabel(\"Fraction of population\")\n",
    "        plt.title(model.modelname +' '+plottitle)\n",
    "        solns.append(soln)\n",
    "    return solns"
   ]
  },
  {
   "cell_type": "code",
   "execution_count": null,
   "metadata": {},
   "outputs": [],
   "source": [
    "# Set up multimodel consistent sets of parameters\n",
    "Exposure=0.25     # Rate coefficient for exposure per individual in contact per day\n",
    "IncubPeriod=5     #Incubation period, days \n",
    "DurMildInf=10     #Duration of mild infections, days\n",
    "FracMild=0.8      #Fraction of infections that are mild\n",
    "FracSevere=0.15   #Fraction of infections that are severe\n",
    "FracCritical=0.05 #Fraction of infections that are critical\n",
    "CFR=0.02          #Case fatality rate (fraction of infections resulting in death)\n",
    "TimeICUDeath=7    #Time from ICU admission to death, days\n",
    "DurHosp=11        #Duration of hospitalization, days\n",
    "\n",
    "# Model extension by John McCaskill to include caution \n",
    "CautionFactor= 0.3    # Fractional reduction of exposure rate for cautioned individuals\n",
    "CautionRetention= 14. # Duration of cautionary state of susceptibles (4 weeks)\n",
    "CautionICUFrac= 0.25  # Fraction of ICUs occupied leading to 90% of susceptibles in caution \n",
    "ICUFrac= 0.001        # Fraction of ICUs relative to population size N\n",
    "\n",
    "EconomicCostOfCaution = 0.5 # Cost to economy of individual exercising caution\n",
    "\n",
    "N=1\n",
    "b=np.zeros(4)     # beta\n",
    "g=np.zeros(4)     # gamma\n",
    "p=np.zeros(3)     # progression\n",
    "c=np.zeros(3)     # caution\n",
    "k=np.zeros(4)     # economic caution\n",
    "\n",
    "a=1/IncubPeriod                       # transition rate from exposed to infected\n",
    "b=Exposure*np.array([0,1,0,0])/N      # hospitalized cases don't transmit\n",
    "u=(1/TimeICUDeath)*(CFR/FracCritical) # death rate from ICU\n",
    "g[3]=(1/TimeICUDeath)-u               # recovery rate\n",
    "\n",
    "p[2]=(1/DurHosp)*(FracCritical/(FracCritical+FracSevere))\n",
    "g[2]=(1/DurHosp)-p[2]\n",
    "\n",
    "g[1]=(1/DurMildInf)*FracMild\n",
    "p[1]=(1/DurMildInf)-g[1]\n",
    "\n",
    "c[0]=CautionFactor\n",
    "c[1]=1/CautionRetention\n",
    "c[2]=1/(N*ICUFrac*CautionICUFrac)     # this is the rate coefficient giving 1/day at I3 = denominator\n",
    "\n",
    "k[0]=c[1]\n",
    "k[1]=c[1]\n",
    "k[2]=c[1]\n",
    "k[3]=EconomicCostOfCaution\n",
    "\n",
    "cmodels = {'SIR':SIR_model,'SCIR':SCIR_model,'SC2IR':SC2IR_model,\n",
    "           'SEIR':SEIR_model,'SCEIR':SCEIR_model,'SC3EIR':SC3EIR_model,\n",
    "           'SEI3R':SEI3R_model,'SCEI3R':SCEI3R_model,'SC3EI3R':SC3EI3R_model,\n",
    "           'SC2UIR':SC2UIR_model,'SC3UEIR':SC3UEIR_model,'SC3UEI3R':SC3UEI3R_model}\n",
    "smodels = ['SIR','SCIR','SC2IR','SEIR','SCEIR','SC3EIR','SEI3R','SCEI3R','SC3EI3R','SC2UIR','SC3UEIR','SC3UEI3R']\n",
    "\n",
    "for smodel in smodels: \n",
    "    params_in=vector2params(b,a,g,p,u,c,k,N,smodel)\n",
    "    # print(smodel,params_in)\n",
    "    cmodels[smodel].parameters = params_in\n",
    "    \n",
    "I_0 =  0.00003\n",
    "\n",
    "x0_SIR = [1.0-I_0, I_0, 0.0, 0.0]\n",
    "x0_SCIR = [1.0-I_0, I_0, 0.0, 0.0, 0.0]\n",
    "x0_SC2IR = [1.0-I_0, I_0, 0.0, 0.0, 0.0, 0.0]\n",
    "SIR_model.initial_values = (x0_SIR, t[0])\n",
    "SCIR_model.initial_values = (x0_SCIR, t[0])\n",
    "SC2IR_model.initial_values = (x0_SC2IR, t[0])\n",
    "\n",
    "x0_SEIR = [1.0-I_0, 0.0, I_0, 0.0, 0.0]\n",
    "x0_SCEIR = [1.0-I_0, 0.0, I_0, 0.0, 0.0, 0.0]\n",
    "x0_SC3EIR = [1.0-I_0, 0.0, I_0, 0.0, 0.0, 0.0, 0.0, 0.0]\n",
    "SEIR_model.initial_values = (x0_SEIR, t[0])\n",
    "SCEIR_model.initial_values = (x0_SCEIR, t[0])\n",
    "SC3EIR_model.initial_values = (x0_SC3EIR, t[0])\n",
    "\n",
    "x0_SEI3R = [1.0-I_0, 0.0, I_0, 0.0, 0.0, 0.0, 0.0]\n",
    "x0_SCEI3R = [1.0-I_0, 0.0, I_0, 0.0, 0.0, 0.0, 0.0, 0.0]\n",
    "x0_SC3EI3R = [1.0-I_0, 0.0, I_0, 0.0, 0.0, 0.0, 0.0, 0.0, 0.0, 0.0, 0.0]\n",
    "SEI3R_model.initial_values = (x0_SEI3R, t[0])\n",
    "SCEI3R_model.initial_values = (x0_SCEI3R, t[0])\n",
    "SC3EI3R_model.initial_values = (x0_SC3EI3R, t[0])\n",
    "\n",
    "\n",
    "x0_SC2UIR = [1.0-I_0, I_0, 0.0, 0.0, 0.0, 0.0, 0.0, 1.0]\n",
    "x0_SC3UEIR = [1.0-I_0, 0.0, I_0, 0.0, 0.0, 0.0, 0.0, 0.0, 0.0, 1.0]\n",
    "x0_SC3UEI3R = [1.0-I_0, 0.0, I_0, 0.0, 0.0, 0.0, 0.0, 0.0, 0.0, 0.0, 0.0, 1.0]\n",
    "SC2UIR_model.initial_values = (x0_SC2UIR, t[0])\n",
    "SC3UEIR_model.initial_values = (x0_SC3UEIR, t[0])\n",
    "SC3UEI3R_model.initial_values = (x0_SC3UEI3R, t[0])"
   ]
  },
  {
   "cell_type": "code",
   "execution_count": null,
   "metadata": {},
   "outputs": [],
   "source": [
    "import os\n",
    "os.getcwd()"
   ]
  },
  {
   "cell_type": "code",
   "execution_count": null,
   "metadata": {
    "scrolled": true
   },
   "outputs": [],
   "source": [
    "smodels1 = ['SIR','SEIR','SEI3R']\n",
    "smodels2 = ['SC2IR','SC3EIR','SC3EI3R']\n",
    "# tmax = lastday-1\n",
    "tmax = 300\n",
    "# caution standard parameters\n",
    "CautionFactor= 0.2    # Fractional reduction of exposure rate for cautioned individuals\n",
    "CautionRetention= 21. # Duration of cautionary state of susceptibles (4 weeks)\n",
    "CautionICUFrac= 0.3   # Fraction of ICUs occupied leading to transition to caution @ 1/day \n",
    "ICUFrac= 0.002        # Fraction of ICUs relative to population size N\n",
    "\n",
    "# Sensitivity scans\n",
    "CautionFactors= [1.0,0.9,0.8,0.7,0.6,0.5]   # Fractional reduction of exposure rate for cautioned individuals\n",
    "CautionFactors2= [0.5,0.4,0.3,0.2,0.1,0.0]     # Fractional reduction of exposure rate for cautioned individuals\n",
    "CautionRetentions= [7.,14.,28.,56.,112.,224.]      # Duration of cautionary state of susceptibles\n",
    "CautionICUFracs= [1.0,0.75,0.5,0.25,0.125,0.0625] # Fraction of ICUs occupied leading to 90% of susceptibles in caution \n",
    "\n",
    "import os\n",
    "cwd=os.getcwd()\n",
    "\n",
    "newplot = True  \n",
    "for smodel in smodels1:\n",
    "    model = cmodels[smodel]\n",
    "label_c = '' \n",
    "plottitle = 'Without Caution' \n",
    "solns=solveplot(smodels1,'confirmed',tmax,'daily','daily',None,'linear',plottitle,label_c,newplot)\n",
    "\n",
    "irat = 1 + p[1]/(g[2]+p[2]) + p[2]/(g[3]+u)\n",
    "drat = (p[1]/(g[2]+p[2]))*(p[2]/(g[3]+u))/irat\n",
    "\n",
    "newplot = True\n",
    "for s in range(6):\n",
    "    for smodel in smodels2:\n",
    "        model = cmodels[smodel]\n",
    "        if 'C' in model.modelname:\n",
    "            cmodels[smodel].parameters = {'c_0':CautionFactors[s],'c_1':1./CautionRetention}\n",
    "            if 'E' in model.modelname:\n",
    "                if 'I3' in model.modelname:\n",
    "                    cmodels[smodel].parameters = {'c_2':1./(N*ICUFrac*CautionICUFrac)}\n",
    "                else:\n",
    "                    cmodels[smodel].parameters = {'c_2':drat/(N*ICUFrac*CautionICUFrac)}  \n",
    "            else:\n",
    "                cmodels[smodel].parameters = {'c_2':drat/(N*ICUFrac*CautionICUFrac)}\n",
    "            # print(smodel,cmodels[smodel].parameters) \n",
    "                \n",
    "    label_c = 'CautionFactor %s' % CautionFactors[s]\n",
    "    plottitle = 'Caution Factor' \n",
    "    solns=solveplot(smodels2,'confirmed',tmax,'daily','daily',None,'linear',plottitle,label_c,newplot)\n",
    "    plt.legend()\n",
    "    newplot = False  \n",
    "plt.savefig(cwd+\"/figures/fig3a.pdf\",bbox_inches='tight')\n",
    "\n",
    "newplot = True\n",
    "for s in range(6):\n",
    "    for smodel in smodels2:\n",
    "        model = cmodels[smodel]\n",
    "        if 'C' in model.modelname:\n",
    "            cmodels[smodel].parameters = {'c_0':CautionFactors2[s],'c_1':1./CautionRetention}\n",
    "            if 'E' in model.modelname:\n",
    "                if 'I3' in model.modelname:\n",
    "                    cmodels[smodel].parameters = {'c_2':1./(N*ICUFrac*CautionICUFrac)}\n",
    "                else:\n",
    "                    cmodels[smodel].parameters = {'c_2':drat/(N*ICUFrac*CautionICUFrac)}  \n",
    "            else:\n",
    "                cmodels[smodel].parameters = {'c_2':drat/(N*ICUFrac*CautionICUFrac)}\n",
    "            # print(smodel,cmodels[smodel].parameters) \n",
    "                \n",
    "    label_c = 'CautionFactor %s' % CautionFactors2[s]\n",
    "    plottitle = 'Caution Factor' \n",
    "    solns=solveplot(smodels2,'confirmed',tmax,'daily','daily',None,'linear',plottitle,label_c,newplot)\n",
    "    plt.legend()\n",
    "    newplot = False  \n",
    "plt.savefig(cwd+\"/figures/fig3b.pdf\",bbox_inches='tight')\n",
    "\n",
    "newplot = True\n",
    "#for i in reversed(range(5)):\n",
    "for s in range(6):\n",
    "    for smodel in smodels2:\n",
    "        model = cmodels[smodel]\n",
    "        if 'C' in model.modelname:\n",
    "            cmodels[smodel].parameters = {'c_0':CautionFactor,'c_1':1./CautionRetentions[s]}\n",
    "            if 'E' in model.modelname:\n",
    "                if 'I3' in model.modelname:\n",
    "                    cmodels[smodel].parameters = {'c_2':1./(N*ICUFrac*CautionICUFrac)}\n",
    "                else:\n",
    "                    cmodels[smodel].parameters = {'c_2':drat/(N*ICUFrac*CautionICUFrac)}  \n",
    "            else:\n",
    "                cmodels[smodel].parameters = {'c_2':drat/(N*ICUFrac*CautionICUFrac)}\n",
    "            # print(smodel,cmodels[smodel].parameters) \n",
    "    label_c = 'CautionRetention %s'% CautionRetentions[s]\n",
    "    plottitle = 'Caution Retention' \n",
    "    solns=solveplot(smodels2,'confirmed',tmax,'daily','daily',None,'linear',plottitle,label_c,newplot)\n",
    "    plt.legend()\n",
    "    newplot = False\n",
    "plt.savefig(cwd+\"/figures/fig3c.pdf\",bbox_inches='tight')\n",
    "\n",
    "newplot = True    \n",
    "for s in range(6):\n",
    "    for smodel in smodels2:\n",
    "        model = cmodels[smodel]\n",
    "        if 'C' in model.modelname:\n",
    "            cmodels[smodel].parameters = {'c_0':CautionFactor,'c_1':1./CautionRetentions[s]}\n",
    "            if 'E' in model.modelname:\n",
    "                if 'I3' in model.modelname:\n",
    "                    cmodels[smodel].parameters = {'c_2':1./(N*ICUFrac*CautionICUFracs[s])}\n",
    "                else:\n",
    "                    cmodels[smodel].parameters = {'c_2':drat/(N*ICUFrac*CautionICUFracs[s])}  \n",
    "            else:\n",
    "                cmodels[smodel].parameters = {'c_2':drat/(N*ICUFrac*CautionICUFracs[s])}\n",
    "            # print(smodel,cmodels[smodel].parameters) \n",
    "    label_c = 'CautionICUFrac %s'% CautionICUFracs[s]\n",
    "    plottitle = 'Caution ICUFrac' \n",
    "    solns=solveplot(smodels2,'confirmed',tmax,'daily','daily',None,'linear',plottitle,label_c,newplot)\n",
    "    plt.legend()\n",
    "    newplot = False\n",
    "\n",
    "plt.savefig(cwd+\"/figures/fig3d.pdf\",bbox_inches='tight')\n",
    "\n",
    "# return parameters to standard set\n",
    "for smodel in smodels2:\n",
    "    model = cmodels[smodel]\n",
    "    if 'C' in model.modelname:\n",
    "        cmodels[smodel].parameters = {'c_0':CautionFactor,'c_1':1/CautionRetention,'c_2':1./(N*ICUFrac*CautionICUFrac)}\n",
    "        \n"
   ]
  },
  {
   "cell_type": "code",
   "execution_count": null,
   "metadata": {
    "scrolled": false
   },
   "outputs": [],
   "source": [
    "smodels = ['SCIR','SC2IR','SCEIR','SC3EIR','SCEI3R','SC3EI3R']\n",
    "# tmax = lastday-1\n",
    "tmax = 300\n",
    "# caution standard parameters\n",
    "CautionFactor= 0.2    # Fractional reduction of exposure rate for cautioned individuals\n",
    "CautionRetention= 21. # Duration of cautionary state of susceptibles (4 weeks)\n",
    "CautionICUFrac= 0.3   # Fraction of ICUs occupied leading to transition to caution @ 1/day \n",
    "ICUFrac= 0.002        # Fraction of ICUs relative to population size N\n",
    "\n",
    "# Sensitivity scans\n",
    "CautionFactors= [1.0,0.9,0.8,0.7,0.6,0.5]         # Fractional reduction of exposure rate for cautioned individuals\n",
    "CautionFactors2= [0.5,0.4,0.3,0.2,0.1,0.0]        # Fractional reduction of exposure rate for cautioned individuals\n",
    "CautionRetentions= [7.,14.,28.,56.,112.,224.]     # Duration of cautionary state of susceptibles\n",
    "CautionICUFracs= [1.0,0.75,0.5,0.25,0.125,0.0625] # Fraction of ICUs occupied leading to 90% of susceptibles in caution \n",
    "\n",
    "irat = 1 + p[1]/(g[2]+p[2]) + p[2]/(g[3]+u)\n",
    "drat = (p[1]/(g[2]+p[2]))*(p[2]/(g[3]+u))/irat\n",
    "\n",
    "newplot = True\n",
    "for s in range(6):\n",
    "    for smodel in smodels:\n",
    "        model = cmodels[smodel]\n",
    "        if 'C' in model.modelname:\n",
    "            cmodels[smodel].parameters = {'c_0':CautionFactors[s],'c_1':1./CautionRetention}\n",
    "            if 'E' in model.modelname:\n",
    "                if 'I3' in model.modelname:\n",
    "                    cmodels[smodel].parameters = {'c_2':1./(N*ICUFrac*CautionICUFrac)}\n",
    "                else:\n",
    "                    cmodels[smodel].parameters = {'c_2':drat/(N*ICUFrac*CautionICUFrac)}  \n",
    "            else:\n",
    "                cmodels[smodel].parameters = {'c_2':drat/(N*ICUFrac*CautionICUFrac)}\n",
    "            # print(smodel,cmodels[smodel].parameters) \n",
    "                \n",
    "    label_c = 'CautionFactor %s' % CautionFactors[s]\n",
    "    plottitle = 'Caution Factor' \n",
    "    solns=solveplot(smodels,'confirmed',tmax,'daily','daily',None,'linear',plottitle,label_c,newplot)\n",
    "    plt.legend()\n",
    "    newplot = False  \n",
    "#plt.savefig(cwd+\"/figures/fig3sa.pdf\",bbox_inches='tight')\n",
    "\n",
    "newplot = True\n",
    "for s in range(6):\n",
    "    for smodel in smodels:\n",
    "        model = cmodels[smodel]\n",
    "        if 'C' in model.modelname:\n",
    "            cmodels[smodel].parameters = {'c_0':CautionFactors2[s],'c_1':1./CautionRetention}\n",
    "            if 'E' in model.modelname:\n",
    "                if 'I3' in model.modelname:\n",
    "                    cmodels[smodel].parameters = {'c_2':1./(N*ICUFrac*CautionICUFrac)}\n",
    "                else:\n",
    "                    cmodels[smodel].parameters = {'c_2':drat/(N*ICUFrac*CautionICUFrac)}  \n",
    "            else:\n",
    "                cmodels[smodel].parameters = {'c_2':drat/(N*ICUFrac*CautionICUFrac)}\n",
    "            # print(smodel,cmodels[smodel].parameters) \n",
    "                \n",
    "    label_c = 'CautionFactor %s' % CautionFactors2[s]\n",
    "    plottitle = 'Caution Factor' \n",
    "    solns=solveplot(smodels,'confirmed',tmax,'daily','daily',None,'linear',plottitle,label_c,newplot)\n",
    "    plt.legend()\n",
    "    newplot = False  \n",
    "#plt.savefig(cwd+\"/figures/fig3sb.pdf\",bbox_inches='tight')\n",
    "\n",
    "newplot = True\n",
    "for s in range(6):\n",
    "    for smodel in smodels:\n",
    "        model = cmodels[smodel]\n",
    "        if 'C' in model.modelname:\n",
    "            cmodels[smodel].parameters = {'c_0':CautionFactor,'c_1':1./CautionRetentions[s]}\n",
    "            if 'E' in model.modelname:\n",
    "                if 'I3' in model.modelname:\n",
    "                    cmodels[smodel].parameters = {'c_2':1./(N*ICUFrac*CautionICUFrac)}\n",
    "                else:\n",
    "                    cmodels[smodel].parameters = {'c_2':drat/(N*ICUFrac*CautionICUFrac)}  \n",
    "            else:\n",
    "                cmodels[smodel].parameters = {'c_2':drat/(N*ICUFrac*CautionICUFrac)}\n",
    "            # print(smodel,cmodels[smodel].parameters) \n",
    "    label_c = 'CautionRetention %s'% CautionRetentions[s]\n",
    "    plottitle = 'Caution Retention' \n",
    "    solns=solveplot(smodels,'confirmed',tmax,'daily','daily',None,'linear',plottitle,label_c,newplot)\n",
    "    plt.legend()\n",
    "    newplot = False\n",
    "#plt.savefig(cwd+\"/figures/fig3sc.pdf\",bbox_inches='tight')\n",
    "\n",
    "newplot = True    \n",
    "for s in range(6):\n",
    "    for smodel in smodels:\n",
    "        model = cmodels[smodel]\n",
    "        if 'C' in model.modelname:\n",
    "            cmodels[smodel].parameters = {'c_0':CautionFactor,'c_1':1./CautionRetentions[s]}\n",
    "            if 'E' in model.modelname:\n",
    "                if 'I3' in model.modelname:\n",
    "                    cmodels[smodel].parameters = {'c_2':1./(N*ICUFrac*CautionICUFracs[s])}\n",
    "                else:\n",
    "                    cmodels[smodel].parameters = {'c_2':drat/(N*ICUFrac*CautionICUFracs[s])}  \n",
    "            else:\n",
    "                cmodels[smodel].parameters = {'c_2':drat/(N*ICUFrac*CautionICUFracs[s])}\n",
    "            # print(smodel,cmodels[smodel].parameters) \n",
    "    label_c = 'CautionICUFrac %s'% CautionICUFracs[s]\n",
    "    plottitle = 'Caution ICUFrac' \n",
    "    solns=solveplot(smodels,'confirmed',tmax,'daily','daily',None,'linear',plottitle,label_c,newplot)\n",
    "    plt.legend()\n",
    "    newplot = False\n",
    "\n",
    "#plt.savefig(cwd+\"/figures/fig3sd.pdf\",bbox_inches='tight')\n",
    "\n",
    "# return parameters to standard set\n",
    "for smodel in smodels:\n",
    "    model = cmodels[smodel]\n",
    "    if 'C' in model.modelname:\n",
    "        cmodels[smodel].parameters = {'c_0':CautionFactor,'c_1':1/CautionRetention,'c_2':1./(N*ICUFrac*CautionICUFrac)}"
   ]
  },
  {
   "cell_type": "code",
   "execution_count": null,
   "metadata": {
    "scrolled": true
   },
   "outputs": [],
   "source": [
    "smodels = ['SCEIR','SC3EIR','SCEI3R','SC3EI3R']\n",
    "# tmax = lastday-1\n",
    "tmax = 300\n",
    "# caution standard parameters\n",
    "CautionFactor= 0.25    # Fractional reduction of exposure rate for cautioned individuals\n",
    "CautionRetention= 45. # Duration of cautionary state of susceptibles (4 weeks)\n",
    "CautionICUFrac= 0.05   # Fraction of ICUs occupied leading to transition to caution @ 1/day \n",
    "ICUFrac= 0.002        # Fraction of ICUs relative to population size N\n",
    "\n",
    "# Sensitivity scans\n",
    "CautionFactors= [1.0,0.9,0.75,0.5,0.25,0.0]   # Fractional reduction of exposure rate for cautioned individuals\n",
    "CautionFactors2= [0.4,0.3,0.2,0.1,0.0]   # Fractional reduction of exposure rate for cautioned individuals\n",
    "CautionRetentions= [7.,14.,28.,56.,112.,224.]      # Duration of cautionary state of susceptibles\n",
    "CautionICUFracs= [1.0,0.75,0.5,0.25,0.125,0.0625] # Fraction of ICUs occupied leading to 90% of susceptibles in caution \n",
    "\n",
    "newplot = True\n",
    "for s in range(6):\n",
    "    for smodel in smodels:\n",
    "        model = cmodels[smodel]\n",
    "        if 'C' in model.modelname:\n",
    "            if 'E' in model.modelname:\n",
    "                cmodels[smodel].parameters = {'c_0':CautionFactors[s],'c_1':1./CautionRetention,'c_2':1./(N*ICUFrac*CautionICUFrac)}\n",
    "            else:\n",
    "                cmodels[smodel].parameters = {'c_0':CautionFactors[s],'c_1':1./CautionRetention,'c_2':FracSevere*FracCritical/(N*ICUFrac*CautionICUFrac)}\n",
    "            # print(smodel,cmodels[smodel].parameters) \n",
    "        else:\n",
    "            print(\"ERROR\")\n",
    "    label_c = 'CautionFactor %s' % CautionFactors[s]\n",
    "    plottitle = 'Caution Factor' \n",
    "    solns=solveplot(smodels,'confirmed',tmax,'daily','daily',None,'linear',plottitle,label_c,newplot)\n",
    "    plt.legend()\n",
    "    newplot = False\n",
    "\n",
    "newplot = True\n",
    "for s in range(5):\n",
    "    for smodel in smodels:\n",
    "        model = cmodels[smodel]\n",
    "        if 'C' in model.modelname:\n",
    "            if 'E' in model.modelname:\n",
    "                cmodels[smodel].parameters = {'c_0':CautionFactors2[s],'c_1':1./CautionRetention,'c_2':1./(N*ICUFrac*CautionICUFrac)}\n",
    "            else:\n",
    "                cmodels[smodel].parameters = {'c_0':CautionFactors2[s],'c_1':1./CautionRetention,'c_2':FracSevere*FracCritical/(N*ICUFrac*CautionICUFrac)}\n",
    "            # print(smodel,cmodels[smodel].parameters) \n",
    "        else:\n",
    "            print(\"ERROR\")\n",
    "    label_c = 'CautionFactor %s' % CautionFactors2[s]\n",
    "    plottitle = 'Caution Factor' \n",
    "    solns=solveplot(smodels,'confirmed',tmax,'daily','daily',None,'linear',plottitle,label_c,newplot)\n",
    "    plt.legend()\n",
    "    newplot = False\n",
    "    \n",
    "newplot = True\n",
    "#for i in reversed(range(5)):\n",
    "for s in range(5):\n",
    "    for smodel in smodels:\n",
    "        model = cmodels[smodel]\n",
    "        if 'C' in model.modelname:\n",
    "            if 'E' in model.modelname:\n",
    "                cmodels[smodel].parameters = {'c_0':CautionFactor,'c_1':1./CautionRetentions[s],'c_2':1./(N*ICUFrac*CautionICUFrac)}\n",
    "            else:\n",
    "                cmodels[smodel].parameters = {'c_0':CautionFactor,'c_1':1./CautionRetentions[s],'c_2':FracSevere*FracCritical/(N*ICUFrac*CautionICUFrac)}\n",
    "            cmodels[smodel].parameters = {'c_0':CautionFactor,'c_1':1/CautionRetentions[s],'c_2':1./(N*ICUFrac*CautionICUFrac)}\n",
    "            # print(smodel,cmodels[smodel].parameters) \n",
    "    label_c = 'CautionRetention %s'% CautionRetentions[s]\n",
    "    plottitle = 'Caution Retention' \n",
    "    solns=solveplot(smodels,'confirmed',tmax,'daily','daily',None,'linear',plottitle,label_c,newplot)\n",
    "    plt.legend()\n",
    "    newplot = False\n",
    "\n",
    "newplot = True    \n",
    "for s in range(5):\n",
    "    for smodel in smodels:\n",
    "        model = cmodels[smodel]\n",
    "        if 'C' in model.modelname:\n",
    "            cmodels[smodel].parameters = {'c_0':CautionFactor,'c_1':1/CautionRetention,'c_2':1./(N*ICUFrac*CautionICUFracs[s])}\n",
    "            # print(smodel,cmodels[smodel].parameters) \n",
    "    label_c = 'CautionICUFrac %s'% CautionICUFracs[s]\n",
    "    plottitle = 'Caution ICUFrac' \n",
    "    solns=solveplot(smodels,'confirmed',tmax,'daily','daily',None,'linear',plottitle,label_c,newplot)\n",
    "    plt.legend()\n",
    "    newplot = False\n",
    "    \n",
    "# return parameters to standard set\n",
    "for smodel in smodels:\n",
    "    model = cmodels[smodel]\n",
    "    if 'C' in model.modelname:\n",
    "        cmodels[smodel].parameters = {'c_0':CautionFactor,'c_1':1/CautionRetention,'c_2':1./(N*ICUFrac*CautionICUFrac)}"
   ]
  },
  {
   "cell_type": "code",
   "execution_count": null,
   "metadata": {
    "scrolled": false
   },
   "outputs": [],
   "source": [
    "smodels = ['SCIR','SC2IR','SCEIR','SC3EIR','SCEI3R','SC3EI3R']\n",
    "# tmax = lastday-1\n",
    "tmax = 300\n",
    "# caution standard parameters\n",
    "CautionFactor= 0.2    # Fractional reduction of exposure rate for cautioned individuals\n",
    "CautionRetention= 21. # Duration of cautionary state of susceptibles (4 weeks)\n",
    "CautionICUFrac= 0.3   # Fraction of ICUs occupied leading to transition to caution @ 1/day \n",
    "ICUFrac= 0.002        # Fraction of ICUs relative to population size N\n",
    "\n",
    "# Sensitivity scans\n",
    "CautionFactors= [1.0,0.9,0.75,0.5,0.25,0.0]   # Fractional reduction of exposure rate for cautioned individuals\n",
    "CautionRetentions= [7.,14.,28.,56.,112.,224.]      # Duration of cautionary state of susceptibles\n",
    "CautionICUFracs= [1.0,0.75,0.5,0.25,0.125,0.0625] # Fraction of ICUs occupied leading to 90% of susceptibles in caution \n",
    "\n",
    "\n",
    "\n",
    "newplot = True\n",
    "for s in range(6):\n",
    "    for smodel in smodels:\n",
    "        model = cmodels[smodel]\n",
    "        if 'C' in model.modelname:\n",
    "            if 'E' in model.modelname:\n",
    "                cmodels[smodel].parameters = {'c_0':CautionFactors[s],'c_1':1./CautionRetention,'c_2':1./(N*ICUFrac*CautionICUFrac)}\n",
    "            else:\n",
    "                cmodels[smodel].parameters = {'c_0':CautionFactors[s],'c_1':1./CautionRetention,'c_2':FracSevere*FracCritical/(N*ICUFrac*CautionICUFrac)}\n",
    "            # print(smodel,cmodels[smodel].parameters) \n",
    "        else:\n",
    "            print(\"ERROR\")\n",
    "    label_c = 'CautionFactor %s' % CautionFactors[s]\n",
    "    plottitle = 'Caution Factor' \n",
    "    solns=solveplot(smodels,'confirmed',tmax,'daily','daily',None,'linear',plottitle,label_c,newplot)\n",
    "    plt.legend()\n",
    "    newplot = False\n",
    "\n",
    "newplot = True\n",
    "for s in range(6):\n",
    "    for smodel in smodels:\n",
    "        model = cmodels[smodel]\n",
    "        if 'C' in model.modelname:\n",
    "            if 'E' in model.modelname:\n",
    "                cmodels[smodel].parameters = {'c_0':CautionFactor,'c_1':1./CautionRetentions[s],'c_2':1./(N*ICUFrac*CautionICUFrac)}\n",
    "            else:\n",
    "                cmodels[smodel].parameters = {'c_0':CautionFactor,'c_1':1./CautionRetentions[s],'c_2':FracSevere*FracCritical/(N*ICUFrac*CautionICUFrac)}\n",
    "            cmodels[smodel].parameters = {'c_0':CautionFactor,'c_1':1/CautionRetentions[s],'c_2':1./(N*ICUFrac*CautionICUFrac)}\n",
    "            # print(smodel,cmodels[smodel].parameters) \n",
    "    label_c = 'CautionRetention %s'% CautionRetentions[s]\n",
    "    plottitle = 'Caution Retention' \n",
    "    solns=solveplot(smodels,'confirmed',tmax,'daily','daily',None,'linear',plottitle,label_c,newplot)\n",
    "    plt.legend()\n",
    "    newplot = False\n",
    "\n",
    "newplot = True    \n",
    "for s in range(6):\n",
    "    for smodel in smodels:\n",
    "        model = cmodels[smodel]\n",
    "        if 'C' in model.modelname:\n",
    "            cmodels[smodel].parameters = {'c_0':CautionFactor,'c_1':1/CautionRetention,'c_2':1./(N*ICUFrac*CautionICUFracs[s])}\n",
    "            # print(smodel,cmodels[smodel].parameters) \n",
    "    label_c = 'CautionICUFrac %s'% CautionICUFracs[s]\n",
    "    plottitle = 'Caution ICUFrac' \n",
    "    solns=solveplot(smodels,'confirmed',tmax,'daily','daily',None,'linear',plottitle,label_c,newplot)\n",
    "    plt.legend()\n",
    "    newplot = False\n",
    "    \n",
    "# return parameters to standard set\n",
    "for smodel in smodels:\n",
    "    model = cmodels[smodel]\n",
    "    if 'C' in model.modelname:\n",
    "        cmodels[smodel].parameters = {'c_0':CautionFactor,'c_1':1/CautionRetention,'c_2':1./(N*ICUFrac*CautionICUFrac)}"
   ]
  },
  {
   "cell_type": "code",
   "execution_count": null,
   "metadata": {},
   "outputs": [],
   "source": [
    "# smodels = ['SC2IR','SC2UIR','SC3EIR','SC3UEIR','SC3EI3R','SC3UEI3R']\n",
    "smodels = ['SC2UIR','SC3UEIR','SC3UEI3R']\n",
    "# tmax = lastday-1\n",
    "tmax = 300\n",
    "# caution standard parameters\n",
    "CautionFactor= 0.4    # Fractional reduction of exposure rate for cautioned individuals\n",
    "CautionRetention= 21. # Duration of cautionary state of susceptibles (4 weeks)\n",
    "CautionICUFrac= 0.3   # Fraction of ICUs occupied leading to transition to caution @ 1/day \n",
    "ICUFrac= 0.002        # Fraction of ICUs relative to population size N\n",
    "\n",
    "# Sensitivity scans\n",
    "CautionFactors= [1.0,0.9,0.8,0.7,0.6,0.5]         # Fractional reduction of exposure rate for cautioned individuals\n",
    "CautionFactors2= [0.5,0.4,0.3,0.2,0.1,0.0]        # Fractional reduction of exposure rate for cautioned individuals\n",
    "CautionRetentions= [7.,14.,28.,56.,112.,224.].reverse()     # Duration of cautionary state of susceptibles\n",
    "CautionICUFracs= [1.0,0.75,0.5,0.25,0.125,0.0625] # Fraction of ICUs occupied leading to 90% of susceptibles in caution \n",
    "ktime = 56.\n",
    "ktimes= [1., 7.,14.,28.,56.,112.]   # Duration of cautionary state of susceptibles\n",
    "kappas = [1.,0.8,0.6,0.4,0.2,0.]    # Economic cost of caution\n",
    "kappa = 0.5\n",
    "irat = 1 + p[1]/(g[2]+p[2]) + p[2]/(g[3]+u)\n",
    "drat = (p[1]/(g[2]+p[2]))*(p[2]/(g[3]+u))/irat  \n",
    "\n",
    "newplot = True\n",
    "for s in range(-1,6):\n",
    "    for smodel in smodels:\n",
    "        model = cmodels[smodel]\n",
    "        if 'C' in model.modelname:\n",
    "            cmodels[smodel].parameters = {'c_0':CautionFactor,'c_1':1./CautionRetention}\n",
    "            if 'E' in model.modelname:\n",
    "                if 'I3' in model.modelname:\n",
    "                    cmodels[smodel].parameters = {'c_2':1./(N*ICUFrac*CautionICUFrac)}\n",
    "                else:\n",
    "                    cmodels[smodel].parameters = {'c_2':drat/(N*ICUFrac*CautionICUFrac)}  \n",
    "            else:\n",
    "                cmodels[smodel].parameters = {'c_2':drat/(N*ICUFrac*CautionICUFrac)}\n",
    "        else:\n",
    "            print(\"ERROR\")\n",
    "        if 'U' in smodel:\n",
    "            if s == -1:\n",
    "                cmodels[smodel].parameters = {'k_u':0.,'k_1':1.,'k_w':1.,'kappa':0.}  \n",
    "            else:\n",
    "                cmodels[smodel].parameters = {'k_u':1./ktime,'k_1':1./ktime,'k_w':1./ktime,'kappa':kappas[s]}          \n",
    "    if s == -1:\n",
    "        label_c = 'no economic influence'\n",
    "    else:\n",
    "        label_c = 'kappa %s' % kappas[s]\n",
    "    plottitle = 'Cost of caution kappa' \n",
    "    solns=solveplot(smodels,'confirmed',tmax,'daily','daily',None,'linear',plottitle,label_c,newplot)\n",
    "    plt.legend()\n",
    "    newplot = False \n",
    "plt.savefig(cwd+\"/figures/fig5sa.pdf\",bbox_inches='tight')\n",
    "\n",
    "newplot = True\n",
    "for s in range(-1,6):\n",
    "    for smodel in smodels:\n",
    "        model = cmodels[smodel]\n",
    "        if 'C' in model.modelname:\n",
    "            cmodels[smodel].parameters = {'c_0':CautionFactor,'c_1':1./CautionRetention}\n",
    "            if 'E' in model.modelname:\n",
    "                if 'I3' in model.modelname:\n",
    "                    cmodels[smodel].parameters = {'c_2':1./(N*ICUFrac*CautionICUFrac)}\n",
    "                else:\n",
    "                    cmodels[smodel].parameters = {'c_2':drat/(N*ICUFrac*CautionICUFrac)}  \n",
    "            else:\n",
    "                cmodels[smodel].parameters = {'c_2':drat/(N*ICUFrac*CautionICUFrac)}\n",
    "        else:\n",
    "            print(\"ERROR\")\n",
    "        if 'U' in smodel:\n",
    "            if s == -1:\n",
    "                cmodels[smodel].parameters = {'k_u':0.,'k_1':1.,'k_w':1.,'kappa':0.}  \n",
    "            else:\n",
    "                cmodels[smodel].parameters = {'k_u':1./ktimes[s],'k_1':1./ktime,'k_w':1./ktime, 'kappa':kappa}           \n",
    "    if s == -1:\n",
    "        label_c = 'no economic influence'\n",
    "    else:\n",
    "        label_c = 'k_u time %s' % ktimes[s]\n",
    "    plottitle = 'Uncautionable decay k_u' \n",
    "    solns=solveplot(smodels,'confirmed',tmax,'daily','daily',None,'linear',plottitle,label_c,newplot)\n",
    "    plt.legend()\n",
    "    newplot = False     \n",
    "plt.savefig(cwd+\"/figures/fig5sb.pdf\",bbox_inches='tight')\n",
    "    \n",
    "newplot = True\n",
    "for s in range(-1,6):\n",
    "    for smodel in smodels:\n",
    "        model = cmodels[smodel]\n",
    "        if 'C' in model.modelname:\n",
    "            cmodels[smodel].parameters = {'c_0':CautionFactor,'c_1':1./CautionRetention}\n",
    "            if 'E' in model.modelname:\n",
    "                if 'I3' in model.modelname:\n",
    "                    cmodels[smodel].parameters = {'c_2':1./(N*ICUFrac*CautionICUFrac)}\n",
    "                else:\n",
    "                    cmodels[smodel].parameters = {'c_2':drat/(N*ICUFrac*CautionICUFrac)}  \n",
    "            else:\n",
    "                cmodels[smodel].parameters = {'c_2':drat/(N*ICUFrac*CautionICUFrac)}\n",
    "        else:\n",
    "            print(\"ERROR\")\n",
    "        if 'U' in smodel:\n",
    "            if s == -1:\n",
    "                cmodels[smodel].parameters = {'k_u':0.,'k_1':1.,'k_w':1.,'kappa':0.}  \n",
    "            else:\n",
    "                cmodels[smodel].parameters = {'k_u':1./ktime,'k_1':1./ktimes[s],'k_w':1./ktime, 'kappa':kappa}          \n",
    "    if s == -1:\n",
    "        label_c = 'no economic influence'\n",
    "    else:\n",
    "        label_c = 'k_1 time %s' % ktimes[s]\n",
    "    plottitle = 'Uncautionable decay k_1' \n",
    "    solns=solveplot(smodels,'confirmed',tmax,'daily','daily',None,'linear',plottitle,label_c,newplot)\n",
    "    plt.legend()\n",
    "    newplot = False   \n",
    "plt.savefig(cwd+\"/figures/fig5sc.pdf\",bbox_inches='tight')\n",
    "    \n",
    "newplot = True\n",
    "for s in range(-1,6):\n",
    "    for smodel in smodels:\n",
    "        model = cmodels[smodel]\n",
    "        if 'C' in model.modelname:\n",
    "            cmodels[smodel].parameters = {'c_0':CautionFactor,'c_1':1./CautionRetention}\n",
    "            if 'E' in model.modelname:\n",
    "                if 'I3' in model.modelname:\n",
    "                    cmodels[smodel].parameters = {'c_2':1./(N*ICUFrac*CautionICUFrac)}\n",
    "                else:\n",
    "                    cmodels[smodel].parameters = {'c_2':drat/(N*ICUFrac*CautionICUFrac)}  \n",
    "            else:\n",
    "                cmodels[smodel].parameters = {'c_2':drat/(N*ICUFrac*CautionICUFrac)}\n",
    "        else:\n",
    "            print(\"ERROR\")\n",
    "        if 'U' in smodel:\n",
    "            if s == -1:\n",
    "                cmodels[smodel].parameters = {'k_u':0.,'k_1':1.,'k_w':1.,'kappa':0.}  \n",
    "            else:\n",
    "                cmodels[smodel].parameters = {'k_u':1./ktime,'k_1':1./ktime,'k_w':1./ktimes[s], 'kappa':kappa}  \n",
    "    if s == -1:\n",
    "        label_c = 'no economic influence'\n",
    "    else:        \n",
    "        label_c = 'k_w time %s' % ktimes[s]\n",
    "    plottitle = 'Economic relaxation k_w' \n",
    "    solns=solveplot(smodels,'confirmed',tmax,'daily','daily',None,'linear',plottitle,label_c,newplot)\n",
    "    plt.legend()\n",
    "    newplot = False    \n",
    "plt.savefig(cwd+\"/figures/fig5sd.pdf\",bbox_inches='tight')\n",
    "    \n",
    "# return parameters to standard set\n",
    "for smodel in smodels:\n",
    "    model = cmodels[smodel]\n",
    "    if 'C' in model.modelname:\n",
    "            cmodels[smodel].parameters = {'c_0':CautionFactor,'c_1':1./CautionRetention}\n",
    "            if 'E' in model.modelname:\n",
    "                if 'I3' in model.modelname:\n",
    "                    cmodels[smodel].parameters = {'c_2':1./(N*ICUFrac*CautionICUFrac)}\n",
    "                else:\n",
    "                    cmodels[smodel].parameters = {'c_2':drat/(N*ICUFrac*CautionICUFrac)}  \n",
    "            else:\n",
    "                cmodels[smodel].parameters = {'c_2':drat/(N*ICUFrac*CautionICUFrac)}\n",
    "    if 'U' in model.modelname:\n",
    "            cmodels[smodel].parameters = {'k_u':1./ktime,'k_1':1./ktime,'k_w':1./ktime, 'kappa':kappa}"
   ]
  },
  {
   "cell_type": "code",
   "execution_count": null,
   "metadata": {},
   "outputs": [],
   "source": [
    "# smodels = ['SC2IR','SC2UIR','SC3EIR','SC3UEIR','SC3EI3R','SC3UEI3R']\n",
    "smodels = ['SC2UIR','SC3UEIR','SC3UEI3R']\n",
    "# tmax = lastday-1\n",
    "tmax = 600\n",
    "# caution standard parameters\n",
    "CautionFactor= 0.2    # Fractional reduction of exposure rate for cautioned individuals\n",
    "CautionRetention= 60. # Duration of cautionary state of susceptibles (4 weeks)\n",
    "CautionICUFrac= 0.3   # Fraction of ICUs occupied leading to transition to caution @ 1/day \n",
    "ICUFrac= 0.002        # Fraction of ICUs relative to population size N\n",
    "\n",
    "# Sensitivity scans\n",
    "CautionFactors= [1.0,0.9,0.8,0.7,0.6,0.5]         # Fractional reduction of exposure rate for cautioned individuals\n",
    "CautionFactors2= [0.5,0.4,0.3,0.2,0.1,0.0]        # Fractional reduction of exposure rate for cautioned individuals\n",
    "CautionRetentions= [7.,14.,28.,56.,112.,224.].reverse()     # Duration of cautionary state of susceptibles\n",
    "CautionICUFracs= [1.0,0.75,0.5,0.25,0.125,0.0625] # Fraction of ICUs occupied leading to 90% of susceptibles in caution \n",
    "ktime = 56.\n",
    "ktimes= [1., 7.,14.,28.,56.,112.]   # Duration of cautionary state of susceptibles\n",
    "kappas = [1.,0.8,0.6,0.4,0.2,0.]    # Economic cost of caution\n",
    "kappa = 0.5\n",
    "irat = 1 + p[1]/(g[2]+p[2]) + p[2]/(g[3]+u)\n",
    "drat = (p[1]/(g[2]+p[2]))*(p[2]/(g[3]+u))/irat  \n",
    "\n",
    "newplot = True\n",
    "for s in range(-1,6):\n",
    "    for smodel in smodels:\n",
    "        model = cmodels[smodel]\n",
    "        if 'C' in model.modelname:\n",
    "            cmodels[smodel].parameters = {'c_0':CautionFactor,'c_1':1./CautionRetention}\n",
    "            if 'E' in model.modelname:\n",
    "                if 'I3' in model.modelname:\n",
    "                    cmodels[smodel].parameters = {'c_2':1./(N*ICUFrac*CautionICUFrac)}\n",
    "                else:\n",
    "                    cmodels[smodel].parameters = {'c_2':drat/(N*ICUFrac*CautionICUFrac)}  \n",
    "            else:\n",
    "                cmodels[smodel].parameters = {'c_2':drat/(N*ICUFrac*CautionICUFrac)}\n",
    "        else:\n",
    "            print(\"ERROR\")\n",
    "        if 'U' in smodel:\n",
    "            if s == -1:\n",
    "                cmodels[smodel].parameters = {'k_u':0.,'k_1':1.,'k_w':1.,'kappa':0.}  \n",
    "            else:\n",
    "                cmodels[smodel].parameters = {'k_u':1./ktime,'k_1':1./ktime,'k_w':1./ktime,'kappa':kappas[s]}          \n",
    "    if s == -1:\n",
    "        label_c = 'no economic influence'\n",
    "    else:\n",
    "        label_c = 'kappa %s' % kappas[s]\n",
    "    plottitle = 'Cost of caution kappa' \n",
    "    solns=solveplot(smodels,'confirmed',tmax,'daily','daily',None,'linear',plottitle,label_c,newplot)\n",
    "    plt.legend()\n",
    "    newplot = False \n",
    "plt.savefig(cwd+\"/figures/fig6sa.pdf\",bbox_inches='tight')\n",
    "\n",
    "newplot = True\n",
    "for s in range(-1,6):\n",
    "    for smodel in smodels:\n",
    "        model = cmodels[smodel]\n",
    "        if 'C' in model.modelname:\n",
    "            cmodels[smodel].parameters = {'c_0':CautionFactor,'c_1':1./CautionRetention}\n",
    "            if 'E' in model.modelname:\n",
    "                if 'I3' in model.modelname:\n",
    "                    cmodels[smodel].parameters = {'c_2':1./(N*ICUFrac*CautionICUFrac)}\n",
    "                else:\n",
    "                    cmodels[smodel].parameters = {'c_2':drat/(N*ICUFrac*CautionICUFrac)}  \n",
    "            else:\n",
    "                cmodels[smodel].parameters = {'c_2':drat/(N*ICUFrac*CautionICUFrac)}\n",
    "        else:\n",
    "            print(\"ERROR\")\n",
    "        if 'U' in smodel:\n",
    "            if s == -1:\n",
    "                cmodels[smodel].parameters = {'k_u':0.,'k_1':1.,'k_w':1.,'kappa':0.}  \n",
    "            else:\n",
    "                cmodels[smodel].parameters = {'k_u':1./ktimes[s],'k_1':1./ktime,'k_w':1./ktime, 'kappa':kappa}           \n",
    "    if s == -1:\n",
    "        label_c = 'no economic influence'\n",
    "    else:\n",
    "        label_c = 'k_u time %s' % ktimes[s]\n",
    "    plottitle = 'Uncautionable decay k_u' \n",
    "    solns=solveplot(smodels,'confirmed',tmax,'daily','daily',None,'linear',plottitle,label_c,newplot)\n",
    "    plt.legend()\n",
    "    newplot = False     \n",
    "plt.savefig(cwd+\"/figures/fig6sb.pdf\",bbox_inches='tight')\n",
    "    \n",
    "newplot = True\n",
    "for s in range(-1,6):\n",
    "    for smodel in smodels:\n",
    "        model = cmodels[smodel]\n",
    "        if 'C' in model.modelname:\n",
    "            cmodels[smodel].parameters = {'c_0':CautionFactor,'c_1':1./CautionRetention}\n",
    "            if 'E' in model.modelname:\n",
    "                if 'I3' in model.modelname:\n",
    "                    cmodels[smodel].parameters = {'c_2':1./(N*ICUFrac*CautionICUFrac)}\n",
    "                else:\n",
    "                    cmodels[smodel].parameters = {'c_2':drat/(N*ICUFrac*CautionICUFrac)}  \n",
    "            else:\n",
    "                cmodels[smodel].parameters = {'c_2':drat/(N*ICUFrac*CautionICUFrac)}\n",
    "        else:\n",
    "            print(\"ERROR\")\n",
    "        if 'U' in smodel:\n",
    "            if s == -1:\n",
    "                cmodels[smodel].parameters = {'k_u':0.,'k_1':1.,'k_w':1.,'kappa':0.}  \n",
    "            else:\n",
    "                cmodels[smodel].parameters = {'k_u':1./ktime,'k_1':1./ktimes[s],'k_w':1./ktime, 'kappa':kappa}          \n",
    "    if s == -1:\n",
    "        label_c = 'no economic influence'\n",
    "    else:\n",
    "        label_c = 'k_1 time %s' % ktimes[s]\n",
    "    plottitle = 'Uncautionable decay k_1' \n",
    "    solns=solveplot(smodels,'confirmed',tmax,'daily','daily',None,'linear',plottitle,label_c,newplot)\n",
    "    plt.legend()\n",
    "    newplot = False   \n",
    "plt.savefig(cwd+\"/figures/fig6sc.pdf\",bbox_inches='tight')\n",
    "    \n",
    "newplot = True\n",
    "for s in range(-1,6):\n",
    "    for smodel in smodels:\n",
    "        model = cmodels[smodel]\n",
    "        if 'C' in model.modelname:\n",
    "            cmodels[smodel].parameters = {'c_0':CautionFactor,'c_1':1./CautionRetention}\n",
    "            if 'E' in model.modelname:\n",
    "                if 'I3' in model.modelname:\n",
    "                    cmodels[smodel].parameters = {'c_2':1./(N*ICUFrac*CautionICUFrac)}\n",
    "                else:\n",
    "                    cmodels[smodel].parameters = {'c_2':drat/(N*ICUFrac*CautionICUFrac)}  \n",
    "            else:\n",
    "                cmodels[smodel].parameters = {'c_2':drat/(N*ICUFrac*CautionICUFrac)}\n",
    "        else:\n",
    "            print(\"ERROR\")\n",
    "        if 'U' in smodel:\n",
    "            if s == -1:\n",
    "                cmodels[smodel].parameters = {'k_u':0.,'k_1':1.,'k_w':1.,'kappa':0.}  \n",
    "            else:\n",
    "                cmodels[smodel].parameters = {'k_u':1./ktime,'k_1':1./ktime,'k_w':1./ktimes[s], 'kappa':kappa}  \n",
    "    if s == -1:\n",
    "        label_c = 'no economic influence'\n",
    "    else:        \n",
    "        label_c = 'k_w time %s' % ktimes[s]\n",
    "    plottitle = 'Economic relaxation k_w' \n",
    "    solns=solveplot(smodels,'confirmed',tmax,'daily','daily',None,'linear',plottitle,label_c,newplot)\n",
    "    plt.legend()\n",
    "    newplot = False    \n",
    "plt.savefig(cwd+\"/figures/fig6sd.pdf\",bbox_inches='tight')\n",
    "    \n",
    "# return parameters to standard set\n",
    "for smodel in smodels:\n",
    "    model = cmodels[smodel]\n",
    "    if 'C' in model.modelname:\n",
    "            cmodels[smodel].parameters = {'c_0':CautionFactor,'c_1':1./CautionRetention}\n",
    "            if 'E' in model.modelname:\n",
    "                if 'I3' in model.modelname:\n",
    "                    cmodels[smodel].parameters = {'c_2':1./(N*ICUFrac*CautionICUFrac)}\n",
    "                else:\n",
    "                    cmodels[smodel].parameters = {'c_2':drat/(N*ICUFrac*CautionICUFrac)}  \n",
    "            else:\n",
    "                cmodels[smodel].parameters = {'c_2':drat/(N*ICUFrac*CautionICUFrac)}\n",
    "    if 'U' in model.modelname:\n",
    "            cmodels[smodel].parameters = {'k_u':1./ktime,'k_1':1./ktime,'k_w':1./ktime, 'kappa':kappa}"
   ]
  },
  {
   "cell_type": "code",
   "execution_count": null,
   "metadata": {},
   "outputs": [],
   "source": [
    "smodels = ['SC3UEI3R']\n",
    "# tmax = lastday-1\n",
    "tmax = 300\n",
    "# caution standard parameters\n",
    "CautionFactor= 0.4    # Fractional reduction of exposure rate for cautioned individuals\n",
    "CautionRetention= 60. # Duration of cautionary state of susceptibles (4 weeks)\n",
    "CautionICUFrac= 0.3   # Fraction of ICUs occupied leading to transition to caution @ 1/day \n",
    "ICUFrac= 0.002        # Fraction of ICUs relative to population size N\n",
    "\n",
    "# Sensitivity scans\n",
    "CautionFactors= [1.0,0.9,0.8,0.7,0.6,0.5]         # Fractional reduction of exposure rate for cautioned individuals\n",
    "CautionFactors2= [0.5,0.4,0.3,0.2,0.1,0.0]        # Fractional reduction of exposure rate for cautioned individuals\n",
    "CautionRetentions= [7.,14.,28.,56.,112.,224.].reverse()     # Duration of cautionary state of susceptibles\n",
    "CautionICUFracs= [1.0,0.75,0.5,0.25,0.125,0.0625] # Fraction of ICUs occupied leading to 90% of susceptibles in caution \n",
    "ktime = 56.\n",
    "ktimes= [2.5, 5.,10.,20.,40.,80.]   # Duration of cautionary state of susceptibles\n",
    "kappas = [1.,0.8,0.6,0.4,0.2,0.]    # Economic cost of caution\n",
    "kappa = 0.5\n",
    "irat = 1 + p[1]/(g[2]+p[2]) + p[2]/(g[3]+u)\n",
    "drat = (p[1]/(g[2]+p[2]))*(p[2]/(g[3]+u))/irat  \n",
    "\n",
    "newplot = True\n",
    "for s in range(-1,6):\n",
    "    for smodel in smodels:\n",
    "        model = cmodels[smodel]\n",
    "        if 'C' in model.modelname:\n",
    "            cmodels[smodel].parameters = {'c_0':CautionFactor,'c_1':1./CautionRetention}\n",
    "            if 'E' in model.modelname:\n",
    "                if 'I3' in model.modelname:\n",
    "                    cmodels[smodel].parameters = {'c_2':1./(N*ICUFrac*CautionICUFrac)}\n",
    "                else:\n",
    "                    cmodels[smodel].parameters = {'c_2':drat/(N*ICUFrac*CautionICUFrac)}  \n",
    "            else:\n",
    "                cmodels[smodel].parameters = {'c_2':drat/(N*ICUFrac*CautionICUFrac)}\n",
    "        else:\n",
    "            print(\"ERROR\")\n",
    "        if 'U' in smodel:\n",
    "            if s == -1:\n",
    "                cmodels[smodel].parameters = {'k_u':0.,'k_1':1.,'k_w':1.,'kappa':0.}  \n",
    "            else:\n",
    "                cmodels[smodel].parameters = {'k_u':1./ktimes[s],'k_1':1./90.,'k_w':1./90., 'kappa':kappa}           \n",
    "    if s == -1:\n",
    "        label_c = 'no economic influence'\n",
    "    else:\n",
    "        label_c = 'k_u 1/%s' % ktimes[s]\n",
    "    plottitle = 'Uncautionable decay k_u' \n",
    "    solns=solveplot(smodels,'confirmed',tmax,'daily','daily',None,'linear',plottitle,label_c,newplot)\n",
    "    plt.legend()\n",
    "    newplot = False     \n",
    "#plt.savefig(cwd+\"/figures/fig5a.pdf\",bbox_inches='tight')\n",
    "\n",
    "    \n",
    "# return parameters to standard set\n",
    "for smodel in smodels:\n",
    "    model = cmodels[smodel]\n",
    "    if 'C' in model.modelname:\n",
    "            cmodels[smodel].parameters = {'c_0':CautionFactor,'c_1':1./CautionRetention}\n",
    "            if 'E' in model.modelname:\n",
    "                if 'I3' in model.modelname:\n",
    "                    cmodels[smodel].parameters = {'c_2':1./(N*ICUFrac*CautionICUFrac)}\n",
    "                else:\n",
    "                    cmodels[smodel].parameters = {'c_2':drat/(N*ICUFrac*CautionICUFrac)}  \n",
    "            else:\n",
    "                cmodels[smodel].parameters = {'c_2':drat/(N*ICUFrac*CautionICUFrac)}\n",
    "    if 'U' in model.modelname:\n",
    "            cmodels[smodel].parameters = {'k_u':1./ktime,'k_1':1./ktime,'k_w':1./ktime, 'kappa':kappa}"
   ]
  },
  {
   "cell_type": "code",
   "execution_count": null,
   "metadata": {},
   "outputs": [],
   "source": [
    "# more extensive parameter screen for one model\n",
    "smodels = ['SCEI3R']\n",
    "# tmax = lastday-1\n",
    "tmax = 300\n",
    "# caution standard parameters\n",
    "CautionFactor= 0.2    # Fractional reduction of exposure rate for cautioned individuals\n",
    "CautionRetention= 21. # Duration of cautionary state of susceptibles (4 weeks)\n",
    "CautionICUFrac= 0.3   # Fraction of ICUs occupied leading to transition to caution @ 1/day \n",
    "ICUFrac= 0.002        # Fraction of ICUs relative to population size N\n",
    "\n",
    "# Sensitivity scans\n",
    "CautionFactors= [1.0,0.5,0.1]       # Fractional reduction of exposure rate for cautioned individuals\n",
    "CautionRetentions= [7.,28.,112.]    # Duration of cautionary state of susceptibles (2 weeks)\n",
    "CautionICUFracs= [0.0625,0.25,0.75] # Fraction of ICUs occupied leading to 90% of susceptibles in caution \n",
    "\n",
    "for s2 in range(3):\n",
    " newplot = True\n",
    " for s3 in range(3):\n",
    "   newplot = True\n",
    "   for s1 in range(3):\n",
    "    for smodel in smodels:\n",
    "        model = cmodels[smodel]\n",
    "        if 'C' in model.modelname: \n",
    "            cmodels[smodel].parameters = {'c_0':CautionFactors[s1],'c_1':1./CautionRetentions[s2],'c_2':1./(N*ICUFrac*CautionICUFracs[s3])}\n",
    "        else:\n",
    "            print(\"ERROR\")\n",
    "    label_c = ('CF %s' % CautionFactors[s1]) + (' CICUF %s'% CautionICUFracs[s3])\n",
    "    plottitle = 'Caution Factor' \n",
    "    solns=solveplot(smodels,'confirmed',tmax,'daily','daily',None,'linear',plottitle,label_c,newplot)\n",
    "    plt.legend()\n",
    "    newplot = False\n",
    "    \n",
    "# return parameters to standard set\n",
    "for smodel in smodels:\n",
    "    model = cmodels[smodel]\n",
    "    if 'C' in model.modelname:\n",
    "        cmodels[smodel].parameters = {'c_0':CautionFactor,'c_1':1./CautionRetention,'c_2':1./(N*ICUFrac*CautionICUFrac)}\n"
   ]
  },
  {
   "cell_type": "code",
   "execution_count": null,
   "metadata": {},
   "outputs": [],
   "source": [
    "# the parameters are stored not as strings but as sympy symbols\n",
    "# but they cannot be accessed externally like that\n",
    "# from sympy import Symbol\n",
    "# cmodels['SCIR'].parameters[Symbol('c_0')]  # prouces KeyError: c_0\n",
    "types= [type(k) for k in cmodels['SCIR'].parameters.keys()]\n",
    "print(types)"
   ]
  },
  {
   "cell_type": "markdown",
   "metadata": {},
   "source": [
    "# Parameter fitting"
   ]
  },
  {
   "cell_type": "markdown",
   "metadata": {},
   "source": [
    "## Fitting via sliders"
   ]
  },
  {
   "cell_type": "markdown",
   "metadata": {},
   "source": [
    "### SC3EIR Model"
   ]
  },
  {
   "cell_type": "code",
   "execution_count": null,
   "metadata": {},
   "outputs": [],
   "source": [
    "len(t)"
   ]
  },
  {
   "cell_type": "code",
   "execution_count": null,
   "metadata": {},
   "outputs": [],
   "source": [
    "model = 'SC3EIR'\n",
    "params={'beta':0.25,'alpha':1./5.,'gamma':0.1,'mu':0.05,'c_0':0.3, 'c_1':1/14., 'c_2':2000}\n",
    "def slidefitplot(beta,alpha,gamma,mu,c_0,c_1,c_2,logI_0):\n",
    "    params={ 'beta':beta, 'alpha':alpha, 'gamma':gamma, 'mu':mu, 'c_0':c_0, 'c_1':c_1, 'c_2':c_2}\n",
    "    cmodels[model].parameters = params\n",
    "    I0 = 10**logI_0\n",
    "    x0 = [1.-I0,0.,I0,0.,0.,0.,0.,0.]\n",
    "    cmodels[model].initial_values = (x0,t[0])\n",
    "    solveplot(smodels=[model],species=['confirmed','recovered','deaths'],tmax=len(t),summing='daily',fitdata=y_jhu[test_country],scale='linear',plottitle= '',label='confirmed',newplot = True)"
   ]
  },
  {
   "cell_type": "code",
   "execution_count": null,
   "metadata": {},
   "outputs": [],
   "source": [
    "interact(slidefitplot,\n",
    "         beta=FloatSlider(min=0,max=1,step=0.01,value=params['beta'],description='beta',\n",
    "                            style=style,layout=slider_layout,continuous_update=False,readout_format='.3f'),\n",
    "         alpha=FloatSlider(min=0,max=1,step=0.01,value=params['alpha'],description='alpha',\n",
    "                            style=style,layout=slider_layout,continuous_update=False,readout_format='.3f'),\n",
    "         gamma=FloatSlider(min=0,max=1,step=0.01,value=params['gamma'],description='gamma',\n",
    "                            style=style,layout=slider_layout,continuous_update=False,readout_format='.3f'),\n",
    "         mu=FloatSlider(min=0,max=0.2,step=0.002,value=params['mu'],description='mu',\n",
    "                            style=style,layout=slider_layout,continuous_update=False,readout_format='.3f'),     \n",
    "         c_0=FloatSlider(min=0,max=1,step=0.01,value=params['c_0'],description='c_0',\n",
    "                            style=style,layout=slider_layout,continuous_update=False,readout_format='.3f'),\n",
    "         c_1=FloatSlider(min=0,max=1,step=0.001,value=params['c_1'],description='c_1',\n",
    "                            style=style,layout=slider_layout,continuous_update=False,readout_format='.3f'),\n",
    "         c_2=FloatSlider(min=0,max=5000,step=1,value=params['c_2'],description='c_2',\n",
    "                            style=style,layout=slider_layout,continuous_update=False,readout_format='.1f'),\n",
    "         logI_0=FloatSlider(min=-10,max=0,step=0.01,value=-6,description='log I_0',\n",
    "                            style=style,layout=slider_layout,continuous_update=False))"
   ]
  },
  {
   "cell_type": "markdown",
   "metadata": {},
   "source": [
    "### SC3EI3R Model"
   ]
  },
  {
   "cell_type": "markdown",
   "metadata": {},
   "source": [
    "#### Germany"
   ]
  },
  {
   "cell_type": "code",
   "execution_count": null,
   "metadata": {
    "scrolled": false
   },
   "outputs": [],
   "source": [
    "# assumed data starting on firstdate\n",
    "test_country='Germany'\n",
    "N = 80000000\n",
    "firstdate = '01/25/20'\n",
    "lastdate = '01/08/20'\n",
    "xx,xxf,yy0 = get_country_data(test_country,'confirmed',firstdate=firstdate,lastdate=lastdate)\n",
    "xx,xxf,yy1 = get_country_data(test_country,'recovered',firstdate=firstdate,lastdate=lastdate)\n",
    "xx,xxf,yy2 = get_country_data(test_country,'deaths',firstdate=firstdate,lastdate=lastdate)\n",
    "print(xxf)\n",
    "y_jhu={}\n",
    "y_jhu[test_country] = np.array([[yy0[i],yy1[i],yy2[i]] for i in range(0,len(yy0))])/N\n",
    "# data = np.array([[xxf[i],yy0[i],yy1[i],yy2[i]] for i in range(len(yy))])\n",
    "# print(data)\n",
    "lastday = len(y_jhu[test_country])\n",
    "print('days 0 to',lastday,'data stored in y_jhu')"
   ]
  },
  {
   "cell_type": "code",
   "execution_count": null,
   "metadata": {},
   "outputs": [],
   "source": [
    "len(t)"
   ]
  },
  {
   "cell_type": "code",
   "execution_count": null,
   "metadata": {},
   "outputs": [],
   "source": [
    "(1.0/TimeICUDeath)*(CFR/FracCritical)"
   ]
  },
  {
   "cell_type": "code",
   "execution_count": null,
   "metadata": {},
   "outputs": [],
   "source": [
    "model = 'SC3EI3R'\n",
    "\n",
    "# Define parameters based on clinical observations Dr. Alison\n",
    "Exposure=0.4 # Rate coefficient for exposure per individual in contact per day\n",
    "IncubPeriod=5  #Incubation period, days\n",
    "DurMildInf=10 #Duration of mild infections, days  : includes time for reg. of recovery\n",
    "FracMild=0.7  #Fraction of infections that are mild\n",
    "FracSevere=0.20 #Fraction of infections that are severe\n",
    "FracCritical=0.1 #Fraction of infections that are critical\n",
    "CFR=0.05 #Case fatality rate (fraction of infections resulting in death)\n",
    "TimeICUDeath=5 #Time from ICU admission to death, days\n",
    "DurHosp=4 #Duration of hospitalization, days  : includes 4 day reg of recovery\n",
    "\n",
    "# Model fitting extension to allow for incomplete detection\n",
    "FracConfirmedDet=1.0  # Fraction of recovered individuals measured : plots made with this parameter NYI\n",
    "FracRecoveredDet=FracConfirmedDet # Fraction of recovered individuals measured\n",
    "FracDeathsDet=1.0\n",
    "\n",
    "# Model extension by John McCaskill to include caution \n",
    "CautionFactor= 0.1 # Fractional reduction of exposure rate for cautioned individuals\n",
    "CautionRetention= 60. # Duration of cautionary state of susceptibles (2 weeks)\n",
    "CautionICUFrac= 0.1 # Fraction of ICUs occupied leading to transition to caution @ 1/day\n",
    "ICUFrac= 0.001 # Fraction of ICUs relative to population size N\n",
    "\n",
    "params = {'beta_1' : Exposure/sum(x0_SC3EI3R),\n",
    "          'beta_2' : 0.0,\n",
    "          'beta_3' : 0.0,\n",
    "          'alpha' : 1.0/IncubPeriod,\n",
    "          'gamma_1': (1.0/DurMildInf)*FracMild,\n",
    "          'gamma_2': (1.0/DurHosp)-(1/DurHosp)*(FracCritical/(FracCritical+FracSevere)),\n",
    "          'gamma_3': (1.0/TimeICUDeath)-(1/TimeICUDeath)*(CFR/FracCritical),\n",
    "          'p_1'    : (1.0/DurMildInf)-(1.0/DurMildInf)*FracMild,\n",
    "          'p_2'    : (1.0/DurHosp)*(FracCritical/(FracCritical+FracSevere)),\n",
    "          'mu'    : (1.0/TimeICUDeath)*(CFR/FracCritical),\n",
    "          'c_0'    : CautionFactor,\n",
    "          'c_1'    : 1.0/CautionRetention,\n",
    "          'c_2'    : 1.0/(sum(x0_SC3EI3R)*ICUFrac*CautionICUFrac),\n",
    "          'N'     : sum(x0_SC3EI3R)}\n",
    "\n",
    "print(params)\n",
    "SC3EI3R_model.parameters = params\n",
    "\n",
    "def slidefitplot(beta_1,mu,c_0,c_1,c_2,logI_0):\n",
    "    params={ 'beta_1':beta_1, 'mu':mu, 'c_0':c_0, 'c_1':c_1, 'c_2':c_2}\n",
    "    cmodels[model].parameters = params\n",
    "    \n",
    "    I0 = 10**logI_0\n",
    "    x0 = [1.-I0,0.,I0,0.,0.,0.,0.,0.,0.,0.,0.]\n",
    "    #x0 = [1.-I0,0.,I0,0.,0.,0.,0.,0.,0.,0.]\n",
    "\n",
    "\n",
    "    cmodels[model].initial_values = (x0,t[0])\n",
    "    weights=np.array([1.,1.,1.])\n",
    "    solveplot(smodels=[model],species=['confirmed','recovered','deaths_x10'],tmax=len(t),summing='daily',averaging='weekly',fitdata=y_jhu[test_country]*weights,scale='linear',plottitle= '',label='confirmed',newplot = True, figsize = (15,15))"
   ]
  },
  {
   "cell_type": "code",
   "execution_count": null,
   "metadata": {},
   "outputs": [],
   "source": [
    "w =interactive(slidefitplot,\n",
    "         beta_1=FloatSlider(min=0,max=1,step=0.01,value=params['beta_1'],description='beta_1',\n",
    "                            style=style,layout=slider_layout,continuous_update=False,readout_format='.3f'),\n",
    "         mu=FloatSlider(min=0,max=0.2,step=0.002,value=params['mu'],description='mu',\n",
    "                            style=style,layout=slider_layout,continuous_update=False,readout_format='.3f'),     \n",
    "         c_0=FloatSlider(min=0,max=1,step=0.01,value=params['c_0'],description='c_0',\n",
    "                            style=style,layout=slider_layout,continuous_update=False,readout_format='.3f'),\n",
    "         c_1=FloatSlider(min=0,max=1,step=0.001,value=params['c_1'],description='c_1',\n",
    "                            style=style,layout=slider_layout,continuous_update=False,readout_format='.3f'),\n",
    "         c_2=FloatSlider(min=0,max=20000,step=1,value=params['c_2'],description='c_2',\n",
    "                            style=style,layout=slider_layout,continuous_update=False,readout_format='.1f'),\n",
    "         logI_0=FloatSlider(min=-10,max=0,step=0.01,value=-6,description='log I_0',\n",
    "                            style=style,layout=slider_layout,continuous_update=False)\n",
    "         )\n",
    "display(w)"
   ]
  },
  {
   "cell_type": "code",
   "execution_count": null,
   "metadata": {},
   "outputs": [],
   "source": [
    "params=w.kwargs\n",
    "\n",
    "print(params)"
   ]
  },
  {
   "cell_type": "code",
   "execution_count": null,
   "metadata": {},
   "outputs": [],
   "source": []
  },
  {
   "cell_type": "markdown",
   "metadata": {},
   "source": [
    "#### Spain"
   ]
  },
  {
   "cell_type": "code",
   "execution_count": null,
   "metadata": {
    "scrolled": false
   },
   "outputs": [],
   "source": [
    "# assumed data starting on firstdate\n",
    "test_country='Spain'\n",
    "N = 80000000\n",
    "firstdate = '01/25/20'\n",
    "lastdate = '01/08/20'\n",
    "xx,xxf,yy0 = get_country_data(test_country,'confirmed',firstdate=firstdate,lastdate=lastdate)\n",
    "xx,xxf,yy1 = get_country_data(test_country,'recovered',firstdate=firstdate,lastdate=lastdate)\n",
    "xx,xxf,yy2 = get_country_data(test_country,'deaths',firstdate=firstdate,lastdate=lastdate)\n",
    "print(xxf)\n",
    "y_jhu={}\n",
    "y_jhu[test_country] = np.array([[yy0[i],yy1[i],yy2[i]] for i in range(0,len(yy0))])/N\n",
    "# data = np.array([[xxf[i],yy0[i],yy1[i],yy2[i]] for i in range(len(yy))])\n",
    "# print(data)\n",
    "lastday = len(y_jhu[test_country])\n",
    "print('days 0 to',lastday,'data stored in y_jhu')"
   ]
  },
  {
   "cell_type": "code",
   "execution_count": null,
   "metadata": {},
   "outputs": [],
   "source": [
    "len(t)"
   ]
  },
  {
   "cell_type": "code",
   "execution_count": null,
   "metadata": {},
   "outputs": [],
   "source": [
    "(1.0/TimeICUDeath)*(CFR/FracCritical)"
   ]
  },
  {
   "cell_type": "code",
   "execution_count": null,
   "metadata": {},
   "outputs": [],
   "source": [
    "model = 'SC3EI3R'\n",
    "\n",
    "# Define parameters based on clinical observations Dr. Alison\n",
    "Exposure=0.4 # Rate coefficient for exposure per individual in contact per day\n",
    "IncubPeriod=5  #Incubation period, days\n",
    "DurMildInf=10 #Duration of mild infections, days  : includes time for reg. of recovery\n",
    "FracMild=0.7  #Fraction of infections that are mild\n",
    "FracSevere=0.20 #Fraction of infections that are severe\n",
    "FracCritical=0.1 #Fraction of infections that are critical\n",
    "CFR=0.05 #Case fatality rate (fraction of infections resulting in death)\n",
    "TimeICUDeath=5 #Time from ICU admission to death, days\n",
    "DurHosp=4 #Duration of hospitalization, days  : includes 4 day reg of recovery\n",
    "\n",
    "# Model fitting extension to allow for incomplete detection\n",
    "FracConfirmedDet=0.5  # Fraction of confirmed individuals measured : plots made with this parameter NYI\n",
    "FracRecoveredDet=FracConfirmedDet # Fraction of recovered individuals measured\n",
    "FracDeathsDet=1.0\n",
    "\n",
    "# Model extension by John McCaskill to include caution \n",
    "CautionFactor= 0.1 # Fractional reduction of exposure rate for cautioned individuals\n",
    "CautionRetention= 60. # Duration of cautionary state of susceptibles (2 weeks)\n",
    "CautionICUFrac= 0.1 # Fraction of ICUs occupied leading to transition to caution @ 1/day\n",
    "ICUFrac= 0.001 # Fraction of ICUs relative to population size N\n",
    "\n",
    "params = {'beta_1' : Exposure/sum(x0_SC3EI3R),\n",
    "          'beta_2' : 0.0,\n",
    "          'beta_3' : 0.0,\n",
    "          'alpha' : 1.0/IncubPeriod,\n",
    "          'gamma_1': (1.0/DurMildInf)*FracMild,\n",
    "          'gamma_2': (1.0/DurHosp)-(1/DurHosp)*(FracCritical/(FracCritical+FracSevere)),\n",
    "          'gamma_3': (1.0/TimeICUDeath)-(1/TimeICUDeath)*(CFR/FracCritical),\n",
    "          'p_1'    : (1.0/DurMildInf)-(1.0/DurMildInf)*FracMild,\n",
    "          'p_2'    : (1.0/DurHosp)*(FracCritical/(FracCritical+FracSevere)),\n",
    "          'mu'    : (1.0/TimeICUDeath)*(CFR/FracCritical),\n",
    "          'c_0'    : CautionFactor,\n",
    "          'c_1'    : 1.0/CautionRetention,\n",
    "          'c_2'    : 1.0/(sum(x0_SC3EI3R)*ICUFrac*CautionICUFrac),\n",
    "          'N'     : sum(x0_SC3EI3R)}\n",
    "\n",
    "print(params)\n",
    "SC3EI3R_model.parameters = params\n",
    "\n",
    "def slidefitplot(beta_1,mu,c_0,c_1,c_2,logI_0):\n",
    "    params={ 'beta_1':beta_1, 'mu':mu, 'c_0':c_0, 'c_1':c_1, 'c_2':c_2}\n",
    "    cmodels[model].parameters = params\n",
    "    \n",
    "    I0 = 10**logI_0\n",
    "    x0 = [1.-I0,0.,I0,0.,0.,0.,0.,0.,0.,0.,0.]\n",
    "    #x0 = [1.-I0,0.,I0,0.,0.,0.,0.,0.,0.,0.]\n",
    "\n",
    "\n",
    "    cmodels[model].initial_values = (x0,t[0])\n",
    "    weights=np.array([1.,1.,1.])\n",
    "    solveplot(smodels=[model],species=['confirmed','recovered','deaths_x10'],tmax=len(t),summing='daily',averaging='weekly',fitdata=y_jhu[test_country]*weights,scale='linear',plottitle= '',label='confirmed',newplot = True, figsize = (15,15))"
   ]
  },
  {
   "cell_type": "code",
   "execution_count": null,
   "metadata": {},
   "outputs": [],
   "source": [
    "w =interactive(slidefitplot,\n",
    "         beta_1=FloatSlider(min=0,max=1,step=0.01,value=params['beta_1'],description='beta_1',\n",
    "                            style=style,layout=slider_layout,continuous_update=False,readout_format='.3f'),\n",
    "         mu=FloatSlider(min=0,max=0.2,step=0.002,value=params['mu'],description='mu',\n",
    "                            style=style,layout=slider_layout,continuous_update=False,readout_format='.3f'),     \n",
    "         c_0=FloatSlider(min=0,max=1,step=0.01,value=params['c_0'],description='c_0',\n",
    "                            style=style,layout=slider_layout,continuous_update=False,readout_format='.3f'),\n",
    "         c_1=FloatSlider(min=0,max=1,step=0.001,value=params['c_1'],description='c_1',\n",
    "                            style=style,layout=slider_layout,continuous_update=False,readout_format='.3f'),\n",
    "         c_2=FloatSlider(min=0,max=20000,step=1,value=params['c_2'],description='c_2',\n",
    "                            style=style,layout=slider_layout,continuous_update=False,readout_format='.1f'),\n",
    "         logI_0=FloatSlider(min=-10,max=0,step=0.01,value=-6,description='log I_0',\n",
    "                            style=style,layout=slider_layout,continuous_update=False)\n",
    "         )\n",
    "display(w)"
   ]
  },
  {
   "cell_type": "code",
   "execution_count": null,
   "metadata": {},
   "outputs": [],
   "source": [
    "params=w.kwargs\n",
    "\n",
    "print(params)"
   ]
  },
  {
   "cell_type": "markdown",
   "metadata": {},
   "source": [
    "#### Italy"
   ]
  },
  {
   "cell_type": "code",
   "execution_count": null,
   "metadata": {
    "scrolled": false
   },
   "outputs": [],
   "source": [
    "# assumed data starting on firstdate\n",
    "test_country='Italy'\n",
    "N = 66650000\n",
    "firstdate = '01/25/20'\n",
    "lastdate = '01/08/20'\n",
    "xx,xxf,yy0 = get_country_data(test_country,'confirmed',firstdate=firstdate,lastdate=lastdate)\n",
    "xx,xxf,yy1 = get_country_data(test_country,'recovered',firstdate=firstdate,lastdate=lastdate)\n",
    "xx,xxf,yy2 = get_country_data(test_country,'deaths',firstdate=firstdate,lastdate=lastdate)\n",
    "print(xxf)\n",
    "y_jhu={}\n",
    "y_jhu[test_country] = np.array([[yy0[i],yy1[i],yy2[i]] for i in range(0,len(yy0))])/N\n",
    "# data = np.array([[xxf[i],yy0[i],yy1[i],yy2[i]] for i in range(len(yy))])\n",
    "# print(data)\n",
    "lastday = len(y_jhu[test_country])\n",
    "print('days 0 to',lastday,'data stored in y_jhu')"
   ]
  },
  {
   "cell_type": "code",
   "execution_count": null,
   "metadata": {},
   "outputs": [],
   "source": [
    "model = 'SC3EI3R'\n",
    "\n",
    "# Define parameters based on clinical observations Dr. Alison\n",
    "Exposure=0.4 # Rate coefficient for exposure per individual in contact per day\n",
    "IncubPeriod=5  #Incubation period, days\n",
    "DurMildInf=8 #Duration of mild infections, days\n",
    "FracMild=0.65  #Fraction of infections that are mild\n",
    "FracSevere=0.20 #Fraction of infections that are severe\n",
    "FracCritical=0.15 #Fraction of infections that are critical\n",
    "CFR=0.1 #Case fatality rate (fraction of infections resulting in death)\n",
    "TimeICUDeath=4 #Time from ICU admission to death, days\n",
    "DurHosp=4 #Duration of hospitalization, days\n",
    "\n",
    "# Model fitting extension to allow for incomplete detection\n",
    "FracConfirmedDet=0.5  # Fraction of infected individuals confirmed\n",
    "FracRecoveredDet=FracConfirmedDet # Fraction of recovered individuals measured\n",
    "FracDeathsDet=1.0\n",
    "\n",
    "# Model extension by John McCaskill to include caution \n",
    "CautionFactor= 0.1 # Fractional reduction of exposure rate for cautioned individuals\n",
    "CautionRetention= 60. # Duration of cautionary state of susceptibles (2 weeks)\n",
    "CautionICUFrac= 0.1 # Fraction of ICUs occupied leading to transition to caution @ 1/day\n",
    "ICUFrac= 0.001 # Fraction of ICUs relative to population size N\n",
    "\n",
    "params = {'beta_1' : Exposure/sum(x0_SC3EI3R),\n",
    "          'beta_2' : 0.0,\n",
    "          'beta_3' : 0.0,\n",
    "          'alpha' : 1.0/IncubPeriod,\n",
    "          'gamma_1': (1.0/DurMildInf)*FracMild,\n",
    "          'gamma_2': (1.0/DurHosp)-(1/DurHosp)*(FracCritical/(FracCritical+FracSevere)),\n",
    "          'gamma_3': (1.0/TimeICUDeath)-(1/TimeICUDeath)*(CFR/FracCritical),\n",
    "          'p_1'    : (1.0/DurMildInf)-(1.0/DurMildInf)*FracMild,\n",
    "          'p_2'    : (1.0/DurHosp)*(FracCritical/(FracCritical+FracSevere)),\n",
    "          'mu'    : (1.0/TimeICUDeath)*(CFR/FracCritical),\n",
    "          'c_0'    : CautionFactor,\n",
    "          'c_1'    : 1.0/CautionRetention,\n",
    "          'c_2'    : 1.0/(sum(x0_SC3EI3R)*ICUFrac*CautionICUFrac),\n",
    "          'N'     : sum(x0_SC3EI3R)}\n",
    "\n",
    "print(params)\n",
    "SC3EI3R_model.parameters = params\n",
    "\n",
    "def slidefitplot(beta_1,mu,c_0,c_1,c_2,logI_0):\n",
    "    params={ 'beta_1':beta_1, 'mu':mu, 'c_0':c_0, 'c_1':c_1, 'c_2':c_2}\n",
    "    cmodels[model].parameters = params\n",
    "    \n",
    "    I0 = 10**logI_0\n",
    "    x0 = [1.-I0,0.,I0,0.,0.,0.,0.,0.,0.,0.,0.]\n",
    "    # x0 = [1.-I0,0.,I0,0.,0.,0.,0.,0.,0.,0.]\n",
    "\n",
    "\n",
    "    cmodels[model].initial_values = (x0,t[0])\n",
    "    weights=np.array([1.,1.,1.])\n",
    "    solveplot(smodels=[model],species=['confirmed','recovered','deaths_x10'],tmax=len(t),summing='daily',averaging='weekly',fitdata=y_jhu[test_country]*weights,scale='linear',plottitle= '',label='confirmed',newplot = True, figsize = (15,15))"
   ]
  },
  {
   "cell_type": "code",
   "execution_count": null,
   "metadata": {},
   "outputs": [],
   "source": [
    "w =interactive(slidefitplot,\n",
    "         beta_1=FloatSlider(min=0,max=1,step=0.01,value=params['beta_1'],description='beta_1',\n",
    "                            style=style,layout=slider_layout,continuous_update=False,readout_format='.3f'),\n",
    "         mu=FloatSlider(min=0,max=0.2,step=0.002,value=params['mu'],description='mu',\n",
    "                            style=style,layout=slider_layout,continuous_update=False,readout_format='.3f'),     \n",
    "         c_0=FloatSlider(min=0,max=1,step=0.01,value=params['c_0'],description='c_0',\n",
    "                            style=style,layout=slider_layout,continuous_update=False,readout_format='.3f'),\n",
    "         c_1=FloatSlider(min=0,max=1,step=0.001,value=params['c_1'],description='c_1',\n",
    "                            style=style,layout=slider_layout,continuous_update=False,readout_format='.3f'),\n",
    "         c_2=FloatSlider(min=0,max=20000,step=1,value=params['c_2'],description='c_2',\n",
    "                            style=style,layout=slider_layout,continuous_update=False,readout_format='.1f'),\n",
    "         logI_0=FloatSlider(min=-10,max=0,step=0.01,value=-6,description='log I_0',\n",
    "                            style=style,layout=slider_layout,continuous_update=False)\n",
    "         )\n",
    "display(w)"
   ]
  },
  {
   "cell_type": "code",
   "execution_count": null,
   "metadata": {},
   "outputs": [],
   "source": [
    "params=w.kwargs\n",
    "\n",
    "print(params)"
   ]
  },
  {
   "cell_type": "markdown",
   "metadata": {},
   "source": [
    "Note that we have used 50% detection of confirmed and recovered, 100% for deaths in manual fit. \n",
    "It appears that Italy's registration of recovery, although the right overall magnitude is markedly delayed - check reporting delays.\n",
    "Italy also had at least two successive regional infections, as seen in the dual peak confirmed data, so not easy to fit with one model.\n",
    "See below for simulation of second peak."
   ]
  },
  {
   "cell_type": "code",
   "execution_count": null,
   "metadata": {},
   "outputs": [],
   "source": [
    "w =interactive(slidefitplot,\n",
    "         beta_1=FloatSlider(min=0,max=1,step=0.01,value=params['beta_1'],description='beta_1',\n",
    "                            style=style,layout=slider_layout,continuous_update=False,readout_format='.3f'),\n",
    "         mu=FloatSlider(min=0,max=0.2,step=0.002,value=params['mu'],description='mu',\n",
    "                            style=style,layout=slider_layout,continuous_update=False,readout_format='.3f'),     \n",
    "         c_0=FloatSlider(min=0,max=1,step=0.01,value=params['c_0'],description='c_0',\n",
    "                            style=style,layout=slider_layout,continuous_update=False,readout_format='.3f'),\n",
    "         c_1=FloatSlider(min=0,max=1,step=0.001,value=params['c_1'],description='c_1',\n",
    "                            style=style,layout=slider_layout,continuous_update=False,readout_format='.3f'),\n",
    "         c_2=FloatSlider(min=0,max=20000,step=1,value=params['c_2'],description='c_2',\n",
    "                            style=style,layout=slider_layout,continuous_update=False,readout_format='.1f'),\n",
    "         logI_0=FloatSlider(min=-10,max=0,step=0.01,value=-6,description='log I_0',\n",
    "                            style=style,layout=slider_layout,continuous_update=False)\n",
    "         )\n",
    "display(w)"
   ]
  },
  {
   "cell_type": "markdown",
   "metadata": {},
   "source": [
    "#### Brazil"
   ]
  },
  {
   "cell_type": "code",
   "execution_count": null,
   "metadata": {
    "scrolled": false
   },
   "outputs": [],
   "source": [
    "# assumed data starting on firstdate\n",
    "test_country='Brazil'\n",
    "N = 210000000\n",
    "firstdate = '01/25/20'\n",
    "lastdate = '01/08/20'\n",
    "xx,xxf,yy0 = get_country_data(test_country,'confirmed',firstdate=firstdate,lastdate=lastdate)\n",
    "xx,xxf,yy1 = get_country_data(test_country,'recovered',firstdate=firstdate,lastdate=lastdate)\n",
    "xx,xxf,yy2 = get_country_data(test_country,'deaths',firstdate=firstdate,lastdate=lastdate)\n",
    "print(xxf)\n",
    "y_jhu={}\n",
    "y_jhu[test_country] = np.array([[yy0[i],yy1[i],yy2[i]] for i in range(0,len(yy0))])/N\n",
    "# data = np.array([[xxf[i],yy0[i],yy1[i],yy2[i]] for i in range(len(yy))])\n",
    "# print(data)\n",
    "lastday = len(y_jhu[test_country])\n",
    "print('days 0 to',lastday,'data stored in y_jhu')"
   ]
  },
  {
   "cell_type": "code",
   "execution_count": null,
   "metadata": {},
   "outputs": [],
   "source": [
    "model = 'SC3EI3R'\n",
    "\n",
    "# Define parameters based on clinical observations Dr. Alison\n",
    "Exposure=0.4 # Rate coefficient for exposure per individual in contact per day\n",
    "IncubPeriod=5  #Incubation period, days\n",
    "DurMildInf=8 #Duration of mild infections, days\n",
    "FracMild=0.65  #Fraction of infections that are mild\n",
    "FracSevere=0.20 #Fraction of infections that are severe\n",
    "FracCritical=0.15 #Fraction of infections that are critical\n",
    "CFR=0.1 #Case fatality rate (fraction of infections resulting in death)\n",
    "TimeICUDeath=4 #Time from ICU admission to death, days\n",
    "DurHosp=8 #Duration of hospitalization, days\n",
    "\n",
    "# Model fitting extension to allow for incomplete detection\n",
    "FracConfirmedDet=0.  # Fraction of recovered individuals measured\n",
    "FracRecoveredDet=FracConfirmedDet # Fraction of recovered individuals measured\n",
    "FracDeathsDet=1.0\n",
    "\n",
    "# Model extension by John McCaskill to include caution \n",
    "CautionFactor= 0.1 # Fractional reduction of exposure rate for cautioned individuals\n",
    "CautionRetention= 60. # Duration of cautionary state of susceptibles (2 weeks)\n",
    "CautionICUFrac= 0.1 # Fraction of ICUs occupied leading to transition to caution @ 1/day\n",
    "ICUFrac= 0.001 # Fraction of ICUs relative to population size N\n",
    "\n",
    "params = {'beta_1' : Exposure/sum(x0_SC3EI3R),\n",
    "          'beta_2' : 0.0,\n",
    "          'beta_3' : 0.0,\n",
    "          'alpha' : 1.0/IncubPeriod,\n",
    "          'gamma_1': (1.0/DurMildInf)*FracMild,\n",
    "          'gamma_2': (1.0/DurHosp)-(1/DurHosp)*(FracCritical/(FracCritical+FracSevere)),\n",
    "          'gamma_3': (1.0/TimeICUDeath)-(1/TimeICUDeath)*(CFR/FracCritical),\n",
    "          'p_1'    : (1.0/DurMildInf)-(1.0/DurMildInf)*FracMild,\n",
    "          'p_2'    : (1.0/DurHosp)*(FracCritical/(FracCritical+FracSevere)),\n",
    "          'mu'    : (1.0/TimeICUDeath)*(CFR/FracCritical),\n",
    "          'c_0'    : CautionFactor,\n",
    "          'c_1'    : 1.0/CautionRetention,\n",
    "          'c_2'    : 1.0/(sum(x0_SC3EI3R)*ICUFrac*CautionICUFrac),\n",
    "          'N'     : sum(x0_SC3EI3R)}\n",
    "\n",
    "print(params)\n",
    "SC3EI3R_model.parameters = params\n",
    "\n",
    "def slidefitplot(beta_1,mu,c_0,c_1,c_2,logI_0):\n",
    "    params={ 'beta_1':beta_1, 'mu':mu, 'c_0':c_0, 'c_1':c_1, 'c_2':c_2}\n",
    "    cmodels[model].parameters = params\n",
    "    \n",
    "    I0 = 10**logI_0\n",
    "    x0 = [1.-I0,0.,I0,0.,0.,0.,0.,0.,0.,0.,0.]\n",
    "\n",
    "    cmodels[model].initial_values = (x0,t[0])\n",
    "    weights=np.array([1.,1.,1.])\n",
    "    solveplot(smodels=[model],species=['confirmed','recovered','deaths_x10'],tmax=len(t),summing='cumulative',averaging='weekly',fitdata=y_jhu[test_country]*weights,scale='linear',plottitle= '',label='confirmed',newplot = True, figsize = (15,15))"
   ]
  },
  {
   "cell_type": "code",
   "execution_count": null,
   "metadata": {},
   "outputs": [],
   "source": [
    "w =interactive(slidefitplot,\n",
    "         beta_1=FloatSlider(min=0,max=1,step=0.01,value=params['beta_1'],description='beta_1',\n",
    "                            style=style,layout=slider_layout,continuous_update=False,readout_format='.3f'),\n",
    "         mu=FloatSlider(min=0,max=0.2,step=0.002,value=params['mu'],description='mu',\n",
    "                            style=style,layout=slider_layout,continuous_update=False,readout_format='.3f'),     \n",
    "         c_0=FloatSlider(min=0,max=1,step=0.01,value=params['c_0'],description='c_0',\n",
    "                            style=style,layout=slider_layout,continuous_update=False,readout_format='.3f'),\n",
    "         c_1=FloatSlider(min=0,max=1,step=0.001,value=params['c_1'],description='c_1',\n",
    "                            style=style,layout=slider_layout,continuous_update=False,readout_format='.3f'),\n",
    "         c_2=FloatSlider(min=0,max=20000,step=1,value=params['c_2'],description='c_2',\n",
    "                            style=style,layout=slider_layout,continuous_update=False,readout_format='.1f'),\n",
    "         logI_0=FloatSlider(min=-10,max=0,step=0.01,value=-6,description='log I_0',\n",
    "                            style=style,layout=slider_layout,continuous_update=False)\n",
    "         )\n",
    "display(w)"
   ]
  },
  {
   "cell_type": "markdown",
   "metadata": {},
   "source": [
    "The Brazil data shows that death is not as delayed as assumed. The process of progression is perhaps less clearly documented."
   ]
  },
  {
   "cell_type": "markdown",
   "metadata": {},
   "source": [
    "#### Russia"
   ]
  },
  {
   "cell_type": "code",
   "execution_count": null,
   "metadata": {
    "scrolled": false
   },
   "outputs": [],
   "source": [
    "# assumed data starting on firstdate\n",
    "test_country='Iran'\n",
    "N = 144500000\n",
    "firstdate = '01/25/20'\n",
    "lastdate = '01/08/20'\n",
    "xx,xxf,yy0 = get_country_data(test_country,'confirmed',firstdate=firstdate,lastdate=lastdate)\n",
    "xx,xxf,yy1 = get_country_data(test_country,'recovered',firstdate=firstdate,lastdate=lastdate)\n",
    "xx,xxf,yy2 = get_country_data(test_country,'deaths',firstdate=firstdate,lastdate=lastdate)\n",
    "print(xxf)\n",
    "y_jhu={}\n",
    "y_jhu[test_country] = np.array([[yy0[i],yy1[i],yy2[i]] for i in range(0,len(yy0))])/N\n",
    "# data = np.array([[xxf[i],yy0[i],yy1[i],yy2[i]] for i in range(len(yy))])\n",
    "# print(data)\n",
    "lastday = len(y_jhu[test_country])\n",
    "print('days 0 to',lastday,'data stored in y_jhu')"
   ]
  },
  {
   "cell_type": "code",
   "execution_count": null,
   "metadata": {},
   "outputs": [],
   "source": [
    "model = 'SC3EI3R'\n",
    "\n",
    "# Define parameters based on clinical observations Dr. Alison\n",
    "Exposure=0.4 # Rate coefficient for exposure per individual in contact per day\n",
    "IncubPeriod=5  #Incubation period, days\n",
    "DurMildInf=8 #Duration of mild infections, days\n",
    "FracMild=0.65  #Fraction of infections that are mild\n",
    "FracSevere=0.20 #Fraction of infections that are severe\n",
    "FracCritical=0.15 #Fraction of infections that are critical\n",
    "CFR=0.1 #Case fatality rate (fraction of infections resulting in death)\n",
    "TimeICUDeath=4 #Time from ICU admission to death, days\n",
    "DurHosp=8 #Duration of hospitalization, days\n",
    "\n",
    "# Model fitting extension to allow for incomplete detection\n",
    "FracConfirmedDet=0.  # Fraction of recovered individuals measured\n",
    "FracRecoveredDet=FracConfirmedDet # Fraction of recovered individuals measured\n",
    "FracDeathsDet=1.0\n",
    "\n",
    "# Model extension by John McCaskill to include caution \n",
    "CautionFactor= 0.1 # Fractional reduction of exposure rate for cautioned individuals\n",
    "CautionRetention= 60. # Duration of cautionary state of susceptibles (2 weeks)\n",
    "CautionICUFrac= 0.1 # Fraction of ICUs occupied leading to transition to caution @ 1/day\n",
    "ICUFrac= 0.002 # Fraction of ICUs relative to population size N\n",
    "\n",
    "params = {'beta_1' : Exposure/sum(x0_SC3EI3R),\n",
    "          'beta_2' : 0.0,\n",
    "          'beta_3' : 0.0,\n",
    "          'alpha' : 1.0/IncubPeriod,\n",
    "          'gamma_1': (1.0/DurMildInf)*FracMild,\n",
    "          'gamma_2': (1.0/DurHosp)-(1/DurHosp)*(FracCritical/(FracCritical+FracSevere)),\n",
    "          'gamma_3': (1.0/TimeICUDeath)-(1/TimeICUDeath)*(CFR/FracCritical),\n",
    "          'p_1'    : (1.0/DurMildInf)-(1.0/DurMildInf)*FracMild,\n",
    "          'p_2'    : (1.0/DurHosp)*(FracCritical/(FracCritical+FracSevere)),\n",
    "          'mu'    : (1.0/TimeICUDeath)*(CFR/FracCritical),\n",
    "          'c_0'    : CautionFactor,\n",
    "          'c_1'    : 1.0/CautionRetention,\n",
    "          'c_2'    : 1.0/(sum(x0_SC3EI3R)*ICUFrac*CautionICUFrac),\n",
    "          'N'     : sum(x0_SC3EI3R)}\n",
    "\n",
    "print(params)\n",
    "SC3EI3R_model.parameters = params\n",
    "\n",
    "def slidefitplot(beta_1,mu,c_0,c_1,c_2,logI_0):\n",
    "    params={ 'beta_1':beta_1, 'mu':mu, 'c_0':c_0, 'c_1':c_1, 'c_2':c_2}\n",
    "    cmodels[model].parameters = params\n",
    "    \n",
    "    I0 = 10**logI_0\n",
    "    x0 = [1.-I0,0.,I0,0.,0.,0.,0.,0.,0.,0.,0.]\n",
    "\n",
    "    cmodels[model].initial_values = (x0,t[0])\n",
    "    weights=np.array([1.,1.,1.])\n",
    "    solveplot(smodels=[model],species=['confirmed','recovered','deaths_x10'],tmax=len(t),summing='cumulative',averaging='weekly',fitdata=y_jhu[test_country]*weights,scale='linear',plottitle= '',label='confirmed',newplot = True, figsize = (15,15))"
   ]
  },
  {
   "cell_type": "code",
   "execution_count": null,
   "metadata": {},
   "outputs": [],
   "source": [
    "w =interactive(slidefitplot,\n",
    "         beta_1=FloatSlider(min=0,max=1,step=0.01,value=params['beta_1'],description='beta_1',\n",
    "                            style=style,layout=slider_layout,continuous_update=False,readout_format='.3f'),\n",
    "         mu=FloatSlider(min=0,max=0.2,step=0.002,value=params['mu'],description='mu',\n",
    "                            style=style,layout=slider_layout,continuous_update=False,readout_format='.3f'),     \n",
    "         c_0=FloatSlider(min=0,max=1,step=0.01,value=params['c_0'],description='c_0',\n",
    "                            style=style,layout=slider_layout,continuous_update=False,readout_format='.3f'),\n",
    "         c_1=FloatSlider(min=0,max=1,step=0.001,value=params['c_1'],description='c_1',\n",
    "                            style=style,layout=slider_layout,continuous_update=False,readout_format='.3f'),\n",
    "         c_2=FloatSlider(min=0,max=20000,step=1,value=params['c_2'],description='c_2',\n",
    "                            style=style,layout=slider_layout,continuous_update=False,readout_format='.1f'),\n",
    "         logI_0=FloatSlider(min=-10,max=0,step=0.01,value=-6,description='log I_0',\n",
    "                            style=style,layout=slider_layout,continuous_update=False)\n",
    "         )\n",
    "display(w)"
   ]
  },
  {
   "cell_type": "markdown",
   "metadata": {},
   "source": [
    "### SC3UEIR Model"
   ]
  },
  {
   "cell_type": "code",
   "execution_count": null,
   "metadata": {},
   "outputs": [],
   "source": [
    "# assumed data starting on firstdate\n",
    "test_country='US'\n",
    "N = 66650000\n",
    "firstdate = '01/25/20'\n",
    "lastdate = '01/08/20'\n",
    "xx,xxf,yy0 = get_country_data(test_country,'confirmed',firstdate=firstdate,lastdate=lastdate)\n",
    "xx,xxf,yy1 = get_country_data(test_country,'recovered',firstdate=firstdate,lastdate=lastdate)\n",
    "xx,xxf,yy2 = get_country_data(test_country,'deaths',firstdate=firstdate,lastdate=lastdate)\n",
    "print(xxf)\n",
    "y_jhu={}\n",
    "y_jhu[test_country] = np.array([[yy0[i],yy1[i],yy2[i]] for i in range(0,len(yy0))])/N\n",
    "# data = np.array([[xxf[i],yy0[i],yy1[i],yy2[i]] for i in range(len(yy))])\n",
    "# print(data)\n",
    "lastday = len(y_jhu[test_country])\n",
    "print('days 0 to',lastday,'data stored in y_jhu')"
   ]
  },
  {
   "cell_type": "code",
   "execution_count": null,
   "metadata": {},
   "outputs": [],
   "source": [
    "model = 'SC3UEIR'\n",
    "I_0 =  0.00003\n",
    "x0_SC3UEIR = [1.0-I_0, 0.0, I_0, 0.0, 0.0, 0.0, 0.0, 0.0, 0.0, 1.0]\n",
    "SC3UEIR_model.initial_values = (x0_SC3UEIR, t[0])\n",
    "\n",
    "# Define parameters based on clinical observations Dr. Alison\n",
    "Exposure=0.4 # Rate coefficient for exposure per individual in contact per day\n",
    "IncubPeriod=5  #Incubation period, days\n",
    "DurMildInf=8 #Duration of mild infections, days\n",
    "FracMild=0.65  #Fraction of infections that are mild\n",
    "FracSevere=0.20 #Fraction of infections that are severe\n",
    "FracCritical=0.15 #Fraction of infections that are critical\n",
    "CFR=0.1 #Case fatality rate (fraction of infections resulting in death)\n",
    "TimeICUDeath=4 #Time from ICU admission to death, days\n",
    "DurHosp=8 #Duration of hospitalization, days\n",
    "\n",
    "# Model fitting extension to allow for incomplete detection\n",
    "FracConfirmedDet=0.5  # Fraction of recovered individuals measured\n",
    "FracRecoveredDet=FracConfirmedDet # Fraction of recovered individuals measured\n",
    "FracDeathsDet=1.0\n",
    "\n",
    "# Model extension by John McCaskill to include caution \n",
    "CautionFactor= 0.1 # Fractional reduction of exposure rate for cautioned individuals\n",
    "CautionRetention= 60. # Duration of cautionary state of susceptibles (2 weeks)\n",
    "CautionICUFrac= 0.1 # Fraction of ICUs occupied leading to transition to caution @ 1/day\n",
    "ICUFrac= 0.001 # Fraction of ICUs relative to population size N\n",
    "\n",
    "# Model extension by John McCaskill to include economic influence on caution \n",
    "EconomicCostOfCaution= 0.5 # Fractional reduction of economic contribution for cautioned individuals\n",
    "\n",
    "p = [0,(1.0/DurMildInf)-(1.0/DurMildInf)*FracMild,  (1.0/DurHosp)*(FracCritical/(FracCritical+FracSevere))]\n",
    "g = [0,(1.0/DurMildInf)*FracMild,   (1.0/DurHosp)-(1/DurHosp)*(FracCritical/(FracCritical+FracSevere)),\n",
    "           (1.0/TimeICUDeath)-(1/TimeICUDeath)*(CFR/FracCritical)]\n",
    "u = (1.0/TimeICUDeath)*(CFR/FracCritical)\n",
    "                \n",
    "params = {'beta' : Exposure/sum(x0_SC3UEIR),\n",
    "          'alpha' : 1.0/IncubPeriod,\n",
    "          'gamma' :  g[1]+g[2]*(p[1]/(g[2]+p[2]))+g[3]*(p[1]/(g[2]+p[2]))*(p[2]/(g[3]+u)),\n",
    "          'mu'     : u*(p[1]/(g[2]+p[2])*(p[2]/(g[3]+u))),\n",
    "          'c_0'    : CautionFactor,\n",
    "          'c_1'    : 1.0/CautionRetention,\n",
    "          'c_2'    : 1.0/(sum(x0_SC3UEIR)*ICUFrac*CautionICUFrac),\n",
    "          'N'      : sum(x0_SC3UEIR),\n",
    "          'k_u'    : 1.0/CautionRetention,\n",
    "          'k_1'    : 1.0/CautionRetention,\n",
    "          'k_w'    : 1.0/CautionRetention,\n",
    "          'kappa'  : EconomicCostOfCaution}\n",
    "\n",
    "print(params)\n",
    "SC3UEIR_model.parameters = params.copy()\n",
    "# solution = SCIR_model.integrate(t[1::])\n",
    "\n",
    "def slidefitplot(beta,alpha,gamma,mu,c_0,c_1,c_2,logI_0,k_u,k_1,k_w,kappa):\n",
    "    params={ 'beta':beta, 'alpha':alpha, 'gamma':gamma, 'mu':mu, 'c_0':c_0, 'c_1':c_1, 'c_2':c_2, 'k_u':k_u, 'k_1':k_1, 'k_w':k_w, 'kappa':kappa}\n",
    "    cmodels[model].parameters = params\n",
    "    \n",
    "    I0 = 10**logI_0\n",
    "    x0 = [1.-I0,0.,I0,0.,0.,0.,0.,0.,0.,1.]\n",
    "\n",
    "    cmodels[model].initial_values = (x0,t[0])\n",
    "    weights=np.array([1.,1.,1.])\n",
    "    solveplot(smodels=[model],species=['confirmed','recovered','deaths_x10'],tmax=len(t),summing='daily',averaging='weekly',fitdata=y_jhu[test_country]*weights,scale='linear',plottitle= '',label='confirmed',newplot = True, figsize = (15,15))"
   ]
  },
  {
   "cell_type": "code",
   "execution_count": null,
   "metadata": {},
   "outputs": [],
   "source": [
    "w = interactive(slidefitplot,\n",
    "         beta=FloatSlider(min=0,max=1,step=0.01,value=params['beta'],description='beta',\n",
    "                            style=style,layout=slider_layout,continuous_update=False,readout_format='.3f'),\n",
    "         alpha=FloatSlider(min=0,max=1,step=0.01,value=params['alpha'],description='alpha',\n",
    "                            style=style,layout=slider_layout,continuous_update=False,readout_format='.3f'),\n",
    "         gamma=FloatSlider(min=0,max=1,step=0.01,value=params['gamma'],description='gamma',\n",
    "                            style=style,layout=slider_layout,continuous_update=False,readout_format='.3f'),\n",
    "         mu=FloatSlider(min=0,max=0.2,step=0.002,value=params['mu'],description='mu',\n",
    "                            style=style,layout=slider_layout,continuous_update=False,readout_format='.3f'),     \n",
    "         c_0=FloatSlider(min=0,max=1,step=0.01,value=params['c_0'],description='c_0',\n",
    "                            style=style,layout=slider_layout,continuous_update=False,readout_format='.3f'),\n",
    "         c_1=FloatSlider(min=0,max=1,step=0.001,value=params['c_1'],description='c_1',\n",
    "                            style=style,layout=slider_layout,continuous_update=False,readout_format='.3f'),\n",
    "         c_2=FloatSlider(min=0,max=5000,step=1,value=params['c_2'],description='c_2',\n",
    "                            style=style,layout=slider_layout,continuous_update=False,readout_format='.1f'),\n",
    "         logI_0=FloatSlider(min=-10,max=0,step=0.01,value=-6,description='log I_0',\n",
    "                            style=style,layout=slider_layout,continuous_update=False),\n",
    "         k_u=FloatSlider(min=0,max=1,step=0.001,value=params['k_u'],description='k_u',\n",
    "                            style=style,layout=slider_layout,continuous_update=False,readout_format='.3f'),\n",
    "         k_1=FloatSlider(min=0,max=1,step=0.001,value=params['k_1'],description='k_1',\n",
    "                            style=style,layout=slider_layout,continuous_update=False,readout_format='.3f'),\n",
    "         k_w=FloatSlider(min=0,max=1,step=0.001,value=params['k_w'],description='k_w',\n",
    "                            style=style,layout=slider_layout,continuous_update=False,readout_format='.3f'),     \n",
    "         kappa=FloatSlider(min=0,max=1,step=0.001,value=params['kappa'],description='kappa',\n",
    "                            style=style,layout=slider_layout,continuous_update=False,readout_format='.3f'))\n",
    "display(w)"
   ]
  },
  {
   "cell_type": "code",
   "execution_count": null,
   "metadata": {},
   "outputs": [],
   "source": [
    "params=w.kwargs\n",
    "# not a good fit yet, did better last week\n",
    "print(params)"
   ]
  },
  {
   "cell_type": "markdown",
   "metadata": {},
   "source": [
    "### SC3UEI3R Model"
   ]
  },
  {
   "cell_type": "markdown",
   "metadata": {},
   "source": [
    "#### USA"
   ]
  },
  {
   "cell_type": "code",
   "execution_count": null,
   "metadata": {},
   "outputs": [],
   "source": [
    "# assumed data starting on firstdate\n",
    "test_country='US'\n",
    "N = 66650000\n",
    "firstdate = '01/25/20'\n",
    "lastdate = '01/08/20'\n",
    "xx,xxf,yy0 = get_country_data(test_country,'confirmed',firstdate=firstdate,lastdate=lastdate)\n",
    "xx,xxf,yy1 = get_country_data(test_country,'recovered',firstdate=firstdate,lastdate=lastdate)\n",
    "xx,xxf,yy2 = get_country_data(test_country,'deaths',firstdate=firstdate,lastdate=lastdate)\n",
    "print(xxf)\n",
    "y_jhu={}\n",
    "y_jhu[test_country] = np.array([[yy0[i],yy1[i],yy2[i]] for i in range(0,len(yy0))])/N\n",
    "# data = np.array([[xxf[i],yy0[i],yy1[i],yy2[i]] for i in range(len(yy))])\n",
    "# print(data)\n",
    "lastday = len(y_jhu[test_country])\n",
    "print('days 0 to',lastday,'data stored in y_jhu')"
   ]
  },
  {
   "cell_type": "code",
   "execution_count": null,
   "metadata": {},
   "outputs": [],
   "source": [
    "model = 'SC3UEI3R'\n",
    "I_0 =  0.00003\n",
    "x0_SC3UEI3R = [1.0-I_0, 0.0, I_0, 0.0, 0.0, 0.0, 0.0, 0.0, 0.0, 0.0, 0.0, 1.0]\n",
    "SC3UEI3R_model.initial_values = (x0_SC3UEI3R, t[0])\n",
    "\n",
    "# Define parameters based on clinical observations Dr. Alison\n",
    "Exposure=0.4 # Rate coefficient for exposure per individual in contact per day\n",
    "IncubPeriod=5  #Incubation period, days\n",
    "DurMildInf=8 #Duration of mild infections, days\n",
    "FracMild=0.65  #Fraction of infections that are mild\n",
    "FracSevere=0.20 #Fraction of infections that are severe\n",
    "FracCritical=0.15 #Fraction of infections that are critical\n",
    "CFR=0.1 #Case fatality rate (fraction of infections resulting in death)\n",
    "TimeICUDeath=4 #Time from ICU admission to death, days\n",
    "DurHosp=5 #Duration of hospitalization, days\n",
    "\n",
    "# Model fitting extension to allow for incomplete detection\n",
    "FracConfirmedDet=0.5  # Fraction of recovered individuals measured\n",
    "FracRecoveredDet=FracConfirmedDet # Fraction of recovered individuals measured\n",
    "FracDeathsDet=1.0\n",
    "\n",
    "# Model extension by John McCaskill to include caution \n",
    "CautionFactor= 0.1 # Fractional reduction of exposure rate for cautioned individuals\n",
    "CautionRetention= 60. # Duration of cautionary state of susceptibles (2 weeks)\n",
    "CautionICUFrac= 0.1 # Fraction of ICUs occupied leading to transition to caution @ 1/day\n",
    "ICUFrac= 0.001 # Fraction of ICUs relative to population size N\n",
    "\n",
    "# Model extension by John McCaskill to include economic influence on caution \n",
    "EconomicCostOfCaution= 0.5 # Fractional reduction of economic contribution for cautioned individuals\n",
    "\n",
    "p = [0,(1.0/DurMildInf)-(1.0/DurMildInf)*FracMild,  (1.0/DurHosp)*(FracCritical/(FracCritical+FracSevere))]\n",
    "g = [0,(1.0/DurMildInf)*FracMild,   (1.0/DurHosp)-(1/DurHosp)*(FracCritical/(FracCritical+FracSevere)),\n",
    "           (1.0/TimeICUDeath)-(1/TimeICUDeath)*(CFR/FracCritical)]\n",
    "u = (1.0/TimeICUDeath)*(CFR/FracCritical)\n",
    "                \n",
    "params = {'beta_1' : Exposure/sum(x0_SC3UEI3R),\n",
    "          'beta_2' : 0.0,\n",
    "          'beta_3' : 0.0,\n",
    "          'alpha' : 1.0/IncubPeriod,\n",
    "          'gamma_1': (1.0/DurMildInf)*FracMild,\n",
    "          'gamma_2': (1.0/DurHosp)-(1/DurHosp)*(FracCritical/(FracCritical+FracSevere)),\n",
    "          'gamma_3': (1.0/TimeICUDeath)-(1/TimeICUDeath)*(CFR/FracCritical),\n",
    "          'p_1'    : (1.0/DurMildInf)-(1.0/DurMildInf)*FracMild,\n",
    "          'p_2'    : (1.0/DurHosp)*(FracCritical/(FracCritical+FracSevere)),\n",
    "          'mu'    : (1.0/TimeICUDeath)*(CFR/FracCritical),\n",
    "          'c_0'    : CautionFactor,\n",
    "          'c_1'    : 1.0/CautionRetention,\n",
    "          'c_2'    : 1.0/(ICUFrac*CautionICUFrac),\n",
    "          'k_u'    : 1.0/5.,\n",
    "          'k_1'    : 1.0/90,\n",
    "          'k_w'    : 1.0/90,\n",
    "          'kappa'  : EconomicCostOfCaution,\n",
    "          'N'      : sum(x0_SC3UEI3R)}\n",
    "\n",
    "print(params)\n",
    "SC3UEI3R_model.parameters = params.copy()"
   ]
  },
  {
   "cell_type": "code",
   "execution_count": null,
   "metadata": {},
   "outputs": [],
   "source": [
    "def slidefitplot(beta_1,alpha,mu,c_0,c_1,c_2,logI_0,k_u,k_1,k_w,kappa):\n",
    "    params={ 'beta_1':beta_1, 'alpha':alpha, 'mu':mu, 'c_0':c_0, 'c_1':c_1, 'c_2':c_2, 'k_u':k_u, 'k_1':k_1, 'k_w':k_w, 'kappa':kappa}\n",
    "    cmodels[model].parameters = params\n",
    "    \n",
    "    I0 = 10**logI_0\n",
    "    x0 = [1.-I0,0.,I0,0.,0.,0.,0.,0.,0.,0.,0.,1.]\n",
    "\n",
    "    cmodels[model].initial_values = (x0,t[0])\n",
    "    weights=np.array([1.,1.,1.])\n",
    "    solveplot(smodels=[model],species=['confirmed','recovered','deaths_x10'],tmax=len(t),summing='daily',averaging='weekly',fitdata=y_jhu[test_country]*weights,scale='linear',plottitle= '',label='confirmed',newplot = True, figsize = (15,15))"
   ]
  },
  {
   "cell_type": "code",
   "execution_count": null,
   "metadata": {},
   "outputs": [],
   "source": [
    "w=interactive(slidefitplot,\n",
    "         beta_1=FloatSlider(min=0,max=1,step=0.01,value=params['beta_1'],description='beta_1',\n",
    "                            style=style,layout=slider_layout,continuous_update=False,readout_format='.3f'),\n",
    "         alpha=FloatSlider(min=0,max=1,step=0.01,value=params['alpha'],description='alpha',\n",
    "                            style=style,layout=slider_layout,continuous_update=False,readout_format='.3f'),\n",
    "         mu=FloatSlider(min=0,max=0.2,step=0.002,value=params['mu'],description='mu',\n",
    "                            style=style,layout=slider_layout,continuous_update=False,readout_format='.3f'),     \n",
    "         c_0=FloatSlider(min=0,max=1,step=0.01,value=params['c_0'],description='c_0',\n",
    "                            style=style,layout=slider_layout,continuous_update=False,readout_format='.3f'),\n",
    "         c_1=FloatSlider(min=0,max=1,step=0.001,value=params['c_1'],description='c_1',\n",
    "                            style=style,layout=slider_layout,continuous_update=False,readout_format='.3f'),\n",
    "         c_2=FloatSlider(min=0,max=5000,step=1,value=params['c_2'],description='c_2',\n",
    "                            style=style,layout=slider_layout,continuous_update=False,readout_format='.1f'),\n",
    "         logI_0=FloatSlider(min=-10,max=0,step=0.01,value=-6,description='log I_0',\n",
    "                            style=style,layout=slider_layout,continuous_update=False),\n",
    "         k_u=FloatSlider(min=0,max=1,step=0.001,value=params['k_u'],description='k_u',\n",
    "                            style=style,layout=slider_layout,continuous_update=False,readout_format='.3f'),\n",
    "         k_1=FloatSlider(min=0,max=1,step=0.001,value=params['k_1'],description='k_1',\n",
    "                            style=style,layout=slider_layout,continuous_update=False,readout_format='.3f'),\n",
    "         k_w=FloatSlider(min=0,max=1,step=0.001,value=params['k_w'],description='k_w',\n",
    "                            style=style,layout=slider_layout,continuous_update=False,readout_format='.3f'),     \n",
    "         kappa=FloatSlider(min=0,max=1,step=0.001,value=params['kappa'],description='kappa',\n",
    "                            style=style,layout=slider_layout,continuous_update=False,readout_format='.3f'))\n",
    "display(w)"
   ]
  },
  {
   "cell_type": "code",
   "execution_count": null,
   "metadata": {},
   "outputs": [],
   "source": [
    "params=w.kwargs\n",
    "\n",
    "print(params)"
   ]
  },
  {
   "cell_type": "markdown",
   "metadata": {},
   "source": [
    "#### Spain"
   ]
  },
  {
   "cell_type": "code",
   "execution_count": null,
   "metadata": {},
   "outputs": [],
   "source": [
    "# assumed data starting on firstdate\n",
    "test_country='Spain'\n",
    "N = 66650000\n",
    "firstdate = '01/25/20'\n",
    "lastdate = '01/08/20'\n",
    "xx,xxf,yy0 = get_country_data(test_country,'confirmed',firstdate=firstdate,lastdate=lastdate)\n",
    "xx,xxf,yy1 = get_country_data(test_country,'recovered',firstdate=firstdate,lastdate=lastdate)\n",
    "xx,xxf,yy2 = get_country_data(test_country,'deaths',firstdate=firstdate,lastdate=lastdate)\n",
    "print(xxf)\n",
    "y_jhu={}\n",
    "y_jhu[test_country] = np.array([[yy0[i],yy1[i],yy2[i]] for i in range(0,len(yy0))])/N\n",
    "# data = np.array([[xxf[i],yy0[i],yy1[i],yy2[i]] for i in range(len(yy))])\n",
    "# print(data)\n",
    "lastday = len(y_jhu[test_country])\n",
    "print('days 0 to',lastday,'data stored in y_jhu')"
   ]
  },
  {
   "cell_type": "code",
   "execution_count": null,
   "metadata": {},
   "outputs": [],
   "source": [
    "model = 'SC3UEI3R'\n",
    "I_0 =  0.00003\n",
    "x0_SC3UEI3R = [1.0-I_0, 0.0, I_0, 0.0, 0.0, 0.0, 0.0, 0.0, 0.0, 0.0, 0.0, 1.0]\n",
    "SC3UEI3R_model.initial_values = (x0_SC3UEI3R, t[0])\n",
    "\n",
    "# Define parameters based on clinical observations Dr. Alison\n",
    "Exposure=0.4 # Rate coefficient for exposure per individual in contact per day\n",
    "IncubPeriod=5  #Incubation period, days\n",
    "DurMildInf=8 #Duration of mild infections, days\n",
    "FracMild=0.65  #Fraction of infections that are mild\n",
    "FracSevere=0.20 #Fraction of infections that are severe\n",
    "FracCritical=0.15 #Fraction of infections that are critical\n",
    "CFR=0.1 #Case fatality rate (fraction of infections resulting in death)\n",
    "TimeICUDeath=4 #Time from ICU admission to death, days\n",
    "DurHosp=5 #Duration of hospitalization, days\n",
    "\n",
    "# Model fitting extension to allow for incomplete detection\n",
    "FracConfirmedDet=0.5  # Fraction of recovered individuals measured\n",
    "FracRecoveredDet=FracConfirmedDet # Fraction of recovered individuals measured\n",
    "FracDeathsDet=1.0\n",
    "\n",
    "# Model extension by John McCaskill to include caution \n",
    "CautionFactor= 0.1 # Fractional reduction of exposure rate for cautioned individuals\n",
    "CautionRetention= 60. # Duration of cautionary state of susceptibles (2 weeks)\n",
    "CautionICUFrac= 0.1 # Fraction of ICUs occupied leading to transition to caution @ 1/day\n",
    "ICUFrac= 0.001 # Fraction of ICUs relative to population size N\n",
    "\n",
    "# Model extension by John McCaskill to include economic influence on caution \n",
    "EconomicCostOfCaution= 0.5 # Fractional reduction of economic contribution for cautioned individuals\n",
    "\n",
    "p = [0,(1.0/DurMildInf)-(1.0/DurMildInf)*FracMild,  (1.0/DurHosp)*(FracCritical/(FracCritical+FracSevere))]\n",
    "g = [0,(1.0/DurMildInf)*FracMild,   (1.0/DurHosp)-(1/DurHosp)*(FracCritical/(FracCritical+FracSevere)),\n",
    "           (1.0/TimeICUDeath)-(1/TimeICUDeath)*(CFR/FracCritical)]\n",
    "u = (1.0/TimeICUDeath)*(CFR/FracCritical)\n",
    "                \n",
    "params = {'beta_1' : Exposure/sum(x0_SC3UEI3R),\n",
    "          'beta_2' : 0.0,\n",
    "          'beta_3' : 0.0,\n",
    "          'alpha' : 1.0/IncubPeriod,\n",
    "          'gamma_1': (1.0/DurMildInf)*FracMild,\n",
    "          'gamma_2': (1.0/DurHosp)-(1/DurHosp)*(FracCritical/(FracCritical+FracSevere)),\n",
    "          'gamma_3': (1.0/TimeICUDeath)-(1/TimeICUDeath)*(CFR/FracCritical),\n",
    "          'p_1'    : (1.0/DurMildInf)-(1.0/DurMildInf)*FracMild,\n",
    "          'p_2'    : (1.0/DurHosp)*(FracCritical/(FracCritical+FracSevere)),\n",
    "          'mu'    : (1.0/TimeICUDeath)*(CFR/FracCritical),\n",
    "          'c_0'    : CautionFactor,\n",
    "          'c_1'    : 1.0/CautionRetention,\n",
    "          'c_2'    : 1.0/(ICUFrac*CautionICUFrac),\n",
    "          'k_u'    : 1.0/5.,\n",
    "          'k_1'    : 1.0/90,\n",
    "          'k_w'    : 1.0/90,\n",
    "          'kappa'  : EconomicCostOfCaution,\n",
    "          'N'      : sum(x0_SC3UEI3R)}\n",
    "\n",
    "print(params)\n",
    "SC3UEI3R_model.parameters = params.copy()"
   ]
  },
  {
   "cell_type": "code",
   "execution_count": null,
   "metadata": {},
   "outputs": [],
   "source": [
    "def slidefitplot(beta_1,alpha,mu,c_0,c_1,c_2,logI_0,k_u,k_1,k_w,kappa):\n",
    "    params={ 'beta_1':beta_1, 'alpha':alpha, 'mu':mu, 'c_0':c_0, 'c_1':c_1, 'c_2':c_2, 'k_u':k_u, 'k_1':k_1, 'k_w':k_w, 'kappa':kappa}\n",
    "    cmodels[model].parameters = params\n",
    "    \n",
    "    I0 = 10**logI_0\n",
    "    x0 = [1.-I0,0.,I0,0.,0.,0.,0.,0.,0.,0.,0.,1.]\n",
    "\n",
    "    cmodels[model].initial_values = (x0,t[0])\n",
    "    weights=np.array([1.,1.,1.])\n",
    "    solveplot(smodels=[model],species=['confirmed','recovered','deaths_x10'],tmax=len(t),summing='daily',averaging='weekly',fitdata=y_jhu[test_country]*weights,scale='linear',plottitle= '',label='confirmed',newplot = True, figsize = (15,15))"
   ]
  },
  {
   "cell_type": "code",
   "execution_count": null,
   "metadata": {},
   "outputs": [],
   "source": [
    "w=interactive(slidefitplot,\n",
    "         beta_1=FloatSlider(min=0,max=1,step=0.01,value=params['beta_1'],description='beta_1',\n",
    "                            style=style,layout=slider_layout,continuous_update=False,readout_format='.3f'),\n",
    "         alpha=FloatSlider(min=0,max=1,step=0.01,value=params['alpha'],description='alpha',\n",
    "                            style=style,layout=slider_layout,continuous_update=False,readout_format='.3f'),\n",
    "         mu=FloatSlider(min=0,max=0.2,step=0.002,value=params['mu'],description='mu',\n",
    "                            style=style,layout=slider_layout,continuous_update=False,readout_format='.3f'),     \n",
    "         c_0=FloatSlider(min=0,max=1,step=0.01,value=params['c_0'],description='c_0',\n",
    "                            style=style,layout=slider_layout,continuous_update=False,readout_format='.3f'),\n",
    "         c_1=FloatSlider(min=0,max=1,step=0.001,value=params['c_1'],description='c_1',\n",
    "                            style=style,layout=slider_layout,continuous_update=False,readout_format='.3f'),\n",
    "         c_2=FloatSlider(min=0,max=5000,step=1,value=params['c_2'],description='c_2',\n",
    "                            style=style,layout=slider_layout,continuous_update=False,readout_format='.1f'),\n",
    "         logI_0=FloatSlider(min=-10,max=0,step=0.01,value=-6,description='log I_0',\n",
    "                            style=style,layout=slider_layout,continuous_update=False),\n",
    "         k_u=FloatSlider(min=0,max=1,step=0.001,value=params['k_u'],description='k_u',\n",
    "                            style=style,layout=slider_layout,continuous_update=False,readout_format='.3f'),\n",
    "         k_1=FloatSlider(min=0,max=1,step=0.001,value=params['k_1'],description='k_1',\n",
    "                            style=style,layout=slider_layout,continuous_update=False,readout_format='.3f'),\n",
    "         k_w=FloatSlider(min=0,max=1,step=0.001,value=params['k_w'],description='k_w',\n",
    "                            style=style,layout=slider_layout,continuous_update=False,readout_format='.3f'),     \n",
    "         kappa=FloatSlider(min=0,max=1,step=0.001,value=params['kappa'],description='kappa',\n",
    "                            style=style,layout=slider_layout,continuous_update=False,readout_format='.3f'))\n",
    "display(w)"
   ]
  },
  {
   "cell_type": "code",
   "execution_count": null,
   "metadata": {},
   "outputs": [],
   "source": [
    "params=w.kwargs\n",
    "\n",
    "print(params)"
   ]
  },
  {
   "cell_type": "markdown",
   "metadata": {},
   "source": [
    "## Fit SC3EI3R parameters to jhu data based on square_loss"
   ]
  },
  {
   "cell_type": "markdown",
   "metadata": {
    "slideshow": {
     "slide_type": "slide"
    }
   },
   "source": [
    "### Fit c_0 , c_1 and c_2 as well as initial value of I_1"
   ]
  },
  {
   "cell_type": "code",
   "execution_count": null,
   "metadata": {},
   "outputs": [],
   "source": [
    "SC3EI3R_model.parameters"
   ]
  },
  {
   "cell_type": "code",
   "execution_count": null,
   "metadata": {
    "code_folding": []
   },
   "outputs": [],
   "source": [
    "# Initial guess of parameters and initial condition, and bounding constraints\n",
    "I0 =10**-6.43\n",
    "x0_SC3EI3R = [1.-I0,0.,I0,0.,0.,0.,0.,0.,0.,0.,0.]\n",
    "SC3EI3R_model.parameters={'beta_1': 0.41, 'mu': 0.079, 'c_0': 0.1, 'c_1': 0.030303030303030304, 'c_2': 11170.0}\n",
    "cautionparams = list(params.values())[-4:-1]\n",
    "theta = [0.1,0.07,8000.] # cautionparams\n",
    "boxBounds = [(0.05,0.4),(0.05,0.15),(1000.,200000.)]\n",
    "# set up optimization function with cost and sensitivity (Jacobian)\n",
    "objSC3EI3R = SquareLoss(theta=theta, ode=SC3EI3R_model, x0=x0_SC3EI3R, t0=t[0], t=t[1::], y=y_jhu[test_country][1::,:],\n",
    "                      state_weight=[1.,1.,10.],state_name=['C_f','R','D'],\n",
    "                      target_param=['c_0','c_1','c_2'],target_state=['I_1'])\n",
    "# perform optimization\n",
    "res = minimize(fun=objSC3EI3R.costIV,\n",
    "                jac=objSC3EI3R.sensitivityIV,\n",
    "                x0=theta+[I0],\n",
    "                bounds=boxBounds+[(0.0000001,0.0001)],\n",
    "                #method='BFGS',\n",
    "                method='SLSQP',\n",
    "                #options={'disp':True,'maxiter':1000,'eps':0.01,'gtol':0.01})\n",
    "                #options={'disp':True})\n",
    "                options={'disp':True,'maxiter':1000,'eps':0.001,'ftol':0.001})\n",
    "print(res)"
   ]
  },
  {
   "cell_type": "code",
   "execution_count": null,
   "metadata": {
    "scrolled": true
   },
   "outputs": [],
   "source": [
    "# model with fitted parameters \n",
    "print(params)\n",
    "print(x0_SC3EI3R)\n",
    "params_fit = params.copy()\n",
    "#params_fit['c_0'] = res.x[0]\n",
    "#params_fit['c_1'] = res.x[1]\n",
    "\n",
    "SC3EI3R_model.params = params_fit\n",
    "print(SC3EI3R_model.params)\n",
    "#ode_fit = common_models.SEI3R({'beta':res.x[0], 'gamma':res.x[1],'alpha':res.x[2]})\n",
    "#x0_fit = [1-1.27e-6, 1.27e-6, 0]\n",
    "x0_fit = x0_SC3EI3R.copy()\n",
    "#x0_fit[2] = res.x[2]\n",
    "#t_fit = numpy.linspace(0, 150, 1000)\n",
    "t_fit = t\n",
    "SC3EI3R_model.initial_values = (x0_fit, t_fit[0])\n",
    "# %timeit sol_fit =SCEI3R_model.integrate(t_fit[1::]) # use magic %timeit to time\n",
    "# sol_fit =SCEI3R_model.integrate(t_fit[0::])\n",
    "sol_fit = scipy.integrate.odeint(SC3EI3R_model.ode, x0_fit, t_fit[1::])\n",
    "#\n",
    "plt.figure(figsize=(15,10))\n",
    "plt.plot(t,ynoise[:,0], 'o',color='lightgreen') # infected observations\n",
    "plt.plot(t,ynoise[:,1], 'o',color='green') # infected observations\n",
    "plt.plot(t,ynoise[:,2], 'o',color='darkgreen') # infected observations\n",
    "plt.plot(t,ynoise[:,3], 'bo') # recoverd\n",
    "plt.plot(t,ynoise[:,4], 'ro') # died\n",
    "plt.plot(t_fit[1::], sol_fit)\n",
    "plt.ylim([0,0.004])\n",
    "#plt.show(())\n",
    "#ode_fit.plot()\n",
    "\n",
    "peak_i = np.argmax(sol_fit[:,2])\n",
    "print('Peak infection (days)', t_fit[peak_i])"
   ]
  },
  {
   "cell_type": "markdown",
   "metadata": {},
   "source": [
    "## Testing fitting"
   ]
  },
  {
   "cell_type": "markdown",
   "metadata": {},
   "source": [
    "### Generate test data based on SCEI3R simulation"
   ]
  },
  {
   "cell_type": "code",
   "execution_count": null,
   "metadata": {},
   "outputs": [],
   "source": [
    "# Add noise\n",
    "y = solution[:,2:7].copy()\n",
    "#print('len(y)',len(y),'t',len(t),t[0],t[1],'...',t[-1])\n",
    "np.random.seed(seed=6)\n",
    "noise = np.random.normal(0,1.e-2,[len(t),5])\n",
    "# ynoise = y *(1+noise)\n",
    "ynoise = y *(1.0 + noise)\n",
    "ynoise[ynoise<0] = 0\n",
    "plt.figure(figsize=(15,10))\n",
    "plt.plot(t,ynoise[:,0], 'go', label='I_1') \n",
    "plt.plot(t,ynoise[:,1], 'go', label='I_2') \n",
    "plt.plot(t,ynoise[:,2], 'go', label='I_3') \n",
    "plt.plot(t,ynoise[:,3], 'bo', label='R') \n",
    "plt.plot(t,ynoise[:,4], 'ro', label='D') \n",
    "plt.plot(t,y[:,0], 'g', label='I_1') \n",
    "plt.plot(t,y[:,1], 'g', label='I_2') \n",
    "plt.plot(t,y[:,2], 'g', label='I_3') \n",
    "plt.plot(t,y[:,3], 'b', label='R') \n",
    "plt.plot(t,y[:,4], 'r', label='D') \n",
    "plt.legend()\n",
    "plt.ylim(0,0.003)\n",
    "plt.show()"
   ]
  },
  {
   "cell_type": "code",
   "execution_count": null,
   "metadata": {
    "scrolled": true
   },
   "outputs": [],
   "source": [
    "# model with generating parameters \n",
    "print(params)\n",
    "params_fit = params.copy()\n",
    "print(params_fit['c_0'],params_fit['c_1'])\n",
    "SCEI3R_model.params = params_fit\n",
    "\n",
    "x0_fit = x0_SCEI3R.copy()\n",
    "print(x0_fit)\n",
    "#t_fit = numpy.linspace(0, 150, 1000)\n",
    "\n",
    "t_fit = t\n",
    "SCEI3R_model.initial_values = (x0_fit, t_fit[0])\n",
    "# %timeit sol_fit =SCEI3R_model.integrate(t_fit[1::]) # use magic %timeit to time\n",
    "sol_fit = scipy.integrate.odeint(SCEI3R_model.ode, x0_fit, t_fit[1::])\n",
    "# print(len(sol_fit[0]))\n",
    "#\n",
    "plt.figure(figsize=(15,10))\n",
    "plt.plot(t,ynoise[:,0], 'go',label='I_1') # infected observations\n",
    "plt.plot(t,ynoise[:,1], 'go',label='I_2') # infected observations\n",
    "plt.plot(t,ynoise[:,2], 'go',label='I_3') # infected observations\n",
    "plt.plot(t,ynoise[:,3], 'bo',label='R') # recoverd\n",
    "plt.plot(t,ynoise[:,4], 'ro',label='D') # died\n",
    "plt.gca().set_prop_cycle(color=['grey','orange','green','green','green','blue','red', 'black'])\n",
    "plt.plot(t_fit[1::], sol_fit)\n",
    "plt.ylim([0,0.004])\n",
    "plt.legend()\n",
    "#plt.show(())\n",
    "#ode_fit.plot()\n",
    "\n",
    "peak_i = np.argmax(sol_fit[:,2])\n",
    "print('Peak infection (days)', t_fit[peak_i])"
   ]
  },
  {
   "cell_type": "code",
   "execution_count": null,
   "metadata": {
    "scrolled": true
   },
   "outputs": [],
   "source": [
    "params # use list(...) to convert to list"
   ]
  },
  {
   "cell_type": "markdown",
   "metadata": {},
   "source": [
    "### Fit parameters to randomized simulation data based on square_loss"
   ]
  },
  {
   "cell_type": "markdown",
   "metadata": {},
   "source": [
    "#### Fit c_0 and c_1 only"
   ]
  },
  {
   "cell_type": "code",
   "execution_count": null,
   "metadata": {},
   "outputs": [],
   "source": [
    "# Initial guess of parameters, and bounding constraints\n",
    "cautionparams = list(params.values())[-4:-2]\n",
    "theta = [value for value in cautionparams]\n",
    "theta = [0.21,0.08]\n",
    "boxBounds = [(0.2,0.4),(0.05,0.15)]\n",
    "objSCEI3R = SquareLoss(theta=theta, ode=SCEI3R_model, x0=x0_SCEI3R, t0=t[0], t=t[1::], y=ynoise[1::,:],\n",
    "                      state_weight=[1.,1.,1.,1.0,1.0],state_name=['I_1','I_2','I_3','R','D'],\n",
    "                      target_param=['c_0','c_1'])\n",
    "# perform optimization\n",
    "res = minimize(fun=objSCEI3R.cost,\n",
    "                jac=objSCEI3R.sensitivity,\n",
    "                x0=theta,\n",
    "                #bounds=boxBounds,\n",
    "                method='BFGS',\n",
    "                options={'disp':True,'maxiter':1000,'eps':0.00001})# ,'ftol':0.01})  #not BFGS\n",
    "print(res)"
   ]
  },
  {
   "cell_type": "markdown",
   "metadata": {},
   "source": [
    "#### Fit c_0 and c_1 as well as initial value of E"
   ]
  },
  {
   "cell_type": "markdown",
   "metadata": {},
   "source": [
    "##### Fit c_0 and c_1 as well as initial value of E with 'SLSQP'\n",
    "does not work well\n",
    "note use of special methods IV for initial value fitting of target_state"
   ]
  },
  {
   "cell_type": "code",
   "execution_count": null,
   "metadata": {},
   "outputs": [],
   "source": [
    "# Initial guess of parameters and initial condition, and bounding constraints\n",
    "cautionparams = list(params.values())[-4:-2]\n",
    "theta = [0.25,0.08]\n",
    "boxBounds = [(0.2,0.4),(0.05,0.15)]\n",
    "objSCEI3R = SquareLoss(theta=theta, ode=SCEI3R_model, x0=x0_SCEI3R, t0=t[0], t=t[1::], y=ynoise[1::,:],\n",
    "                      state_weight=[1.,1.,1.,1.,1.],state_name=['I_1','I_2','I_3','R','D'],\n",
    "                      target_param=['c_0','c_1'],target_state=['E'])\n",
    "# perform optimization\n",
    "res = minimize(fun=objSCEI3R.costIV,\n",
    "                jac=objSCEI3R.sensitivityIV,\n",
    "                x0=theta+[0.00005],\n",
    "                #bounds=boxBounds+[(0.0000001,0.001)],\n",
    "                method='SLSQP',\n",
    "                options={'disp':True,'maxiter':1000,'eps':0.01,'ftol':0.01})\n",
    "print(res)"
   ]
  },
  {
   "cell_type": "markdown",
   "metadata": {},
   "source": [
    "##### Fit c_0 and c_1 as well as initial value of E with BFGS\n",
    "works well:  no constraints and gtol not ftol"
   ]
  },
  {
   "cell_type": "code",
   "execution_count": null,
   "metadata": {
    "code_folding": [
     8
    ]
   },
   "outputs": [],
   "source": [
    "# Initial guess of parameters and initial condition, and bounding constraints\n",
    "cautionparams = list(params.values())[-4:-2]\n",
    "theta = [0.25,0.08]\n",
    "boxBounds = [(0.2,0.4),(0.05,0.15)]\n",
    "objSCEI3R = SquareLoss(theta=theta, ode=SCEI3R_model, x0=x0_SCEI3R, t0=t[0], t=t[1::], y=ynoise[1::,:],\n",
    "                      state_weight=[1.,1.,1.,1.,1.],state_name=['I_1','I_2','I_3','R','D'],\n",
    "                      target_param=['c_0','c_1'],target_state=['E'])\n",
    "# perform optimization\n",
    "res = minimize(fun=objSCEI3R.costIV,\n",
    "                jac=objSCEI3R.sensitivityIV,\n",
    "                x0=theta+[0.00005],\n",
    "                #bounds=boxBounds+[(0.0000001,0.001)],\n",
    "                method='BFGS',\n",
    "                options={'disp':True,'maxiter':1000,'eps':0.01,'gtol':0.01})\n",
    "print(res)"
   ]
  },
  {
   "cell_type": "code",
   "execution_count": null,
   "metadata": {
    "scrolled": true
   },
   "outputs": [],
   "source": [
    "# model with fitted parameters \n",
    "print(params)\n",
    "print(x0_SCEI3R)\n",
    "params_fit = params.copy()\n",
    "#params_fit['c_0'] = res.x[0]\n",
    "#params_fit['c_1'] = res.x[1]\n",
    "\n",
    "SCEI3R_model.params = params_fit\n",
    "print(SCEI3R_model.params)\n",
    "#ode_fit = common_models.SEI3R({'beta':res.x[0], 'gamma':res.x[1],'alpha':res.x[2]})\n",
    "#x0_fit = [1-1.27e-6, 1.27e-6, 0]\n",
    "x0_fit = x0.copy()\n",
    "#x0_fit[2] = res.x[2]\n",
    "#t_fit = numpy.linspace(0, 150, 1000)\n",
    "t_fit = t\n",
    "SCEI3R_model.initial_values = (x0_fit, t_fit[0])\n",
    "# %timeit sol_fit =SCEI3R_model.integrate(t_fit[1::]) # use magic %timeit to time\n",
    "# sol_fit =SCEI3R_model.integrate(t_fit[0::])\n",
    "sol_fit = scipy.integrate.odeint(SCEI3R_model.ode, x0_fit, t_fit[1::])\n",
    "#\n",
    "plt.figure(figsize=(15,10))\n",
    "plt.plot(t,ynoise[:,0], 'go') # infected observations\n",
    "plt.plot(t,ynoise[:,1], 'go') # infected observations\n",
    "plt.plot(t,ynoise[:,2], 'go') # infected observations\n",
    "plt.plot(t,ynoise[:,3], 'bo') # recoverd\n",
    "plt.plot(t,ynoise[:,4], 'ro') # died\n",
    "plt.plot(t_fit[1::], sol_fit)\n",
    "plt.ylim([0,0.004])\n",
    "#plt.show(())\n",
    "#ode_fit.plot()\n",
    "\n",
    "peak_i = np.argmax(sol_fit[:,2])\n",
    "print('Peak infection (days)', t_fit[peak_i])"
   ]
  },
  {
   "cell_type": "markdown",
   "metadata": {},
   "source": [
    "##### Fit c_0 and c_1 as well as initial value of E using L-BFGS-B\n",
    "this method does not work well"
   ]
  },
  {
   "cell_type": "code",
   "execution_count": null,
   "metadata": {},
   "outputs": [],
   "source": [
    "# Initial guess of parameters and initial condition, and bounding constraints\n",
    "cautionparams = list(params.values())[-4:-2]\n",
    "theta = [0.25,0.08]\n",
    "boxBounds = [(0.2,0.4),(0.05,0.15)]\n",
    "objSCEI3R = SquareLoss(theta=theta, ode=SCEI3R_model, x0=x0_SCEI3R, t0=t[0], t=t[1::], y=ynoise[1::,:],\n",
    "                      state_weight=[1.,1.,1.,1.,1.],state_name=['I_1','I_2','I_3','R','D'],\n",
    "                      target_param=['c_0','c_1'],target_state=['E'])\n",
    "# perform optimization\n",
    "res = minimize(fun=objSCEI3R.costIV,\n",
    "                jac=objSCEI3R.sensitivityIV,\n",
    "                x0=theta+[0.00005],\n",
    "                bounds=boxBounds+[(0.0000001,0.001)],\n",
    "                method='L-BFGS-B',\n",
    "                options={'disp':True,'maxiter':1000,'eps':0.0001,'ftol':0.001})\n",
    "print(res)"
   ]
  },
  {
   "cell_type": "code",
   "execution_count": null,
   "metadata": {},
   "outputs": [],
   "source": [
    "objSCEI3R.residual()"
   ]
  },
  {
   "cell_type": "markdown",
   "metadata": {},
   "source": [
    "##### Fit c_0 and c_1 as well as initial value of E with Nelder-Mead\n",
    "no use of Jacobian and no constraints"
   ]
  },
  {
   "cell_type": "code",
   "execution_count": null,
   "metadata": {},
   "outputs": [],
   "source": [
    "# Initial guess of parameters and initial condition, and bounding constraints\n",
    "cautionparams = list(params.values())[-4:-2]\n",
    "theta = [0.25,0.08]\n",
    "boxBounds = [(0.2,0.4),(0.05,0.15)]\n",
    "objSCEI3R = SquareLoss(theta=theta, ode=SCEI3R_model, x0=x0_SCEI3R, t0=t[0], t=t[1::], y=ynoise[1::,:],\n",
    "                      state_weight=[1.,1.,1.,1.,1.],state_name=['I_1','I_2','I_3','R','D'],\n",
    "                      target_param=['c_0','c_1'],target_state=['E'])\n",
    "# perform optimization\n",
    "res = minimize(fun=objSCEI3R.costIV,\n",
    "                #jac=objSCEI3R.sensitivityIV,\n",
    "                x0=theta+[0.00005],\n",
    "                #bounds=boxBounds+[(0.0000001,0.001)],\n",
    "                method='Nelder-Mead',\n",
    "                options={'disp':True,'maxiter':1000}) #,'eps':0.0001,'ftol':0.01}) #not NM\n",
    "print(res)"
   ]
  },
  {
   "cell_type": "code",
   "execution_count": null,
   "metadata": {
    "scrolled": true
   },
   "outputs": [],
   "source": [
    "# model with fitted parameters \n",
    "print(params)\n",
    "print(x0_SCEI3R)\n",
    "params_fit = params.copy()\n",
    "#params_fit['c_0'] = res.x[0]\n",
    "#params_fit['c_1'] = res.x[1]\n",
    "\n",
    "SCEI3R_model.params = params_fit\n",
    "print(SCEI3R_model.params)\n",
    "#ode_fit = common_models.SEI3R({'beta':res.x[0], 'gamma':res.x[1],'alpha':res.x[2]})\n",
    "#x0_fit = [1-1.27e-6, 1.27e-6, 0]\n",
    "x0_fit = x0_SCEI3R.copy()\n",
    "#x0_fit[2] = res.x[2]\n",
    "#t_fit = numpy.linspace(0, 150, 1000)\n",
    "t_fit = t\n",
    "SCEI3R_model.initial_values = (x0_fit, t_fit[0])\n",
    "# %timeit sol_fit =SCEI3R_model.integrate(t_fit[1::]) # use magic %timeit to time\n",
    "# sol_fit =SCEI3R_model.integrate(t_fit[0::])\n",
    "sol_fit = scipy.integrate.odeint(SCEI3R_model.ode, x0_fit, t_fit[1::])\n",
    "#\n",
    "plt.figure(figsize=(15,10))\n",
    "plt.plot(t,ynoise[:,0], 'go') # infected observations\n",
    "plt.plot(t,ynoise[:,1], 'go') # infected observations\n",
    "plt.plot(t,ynoise[:,2], 'go') # infected observations\n",
    "plt.plot(t,ynoise[:,3], 'bo') # recoverd\n",
    "plt.plot(t,ynoise[:,4], 'ro') # died\n",
    "plt.plot(t_fit[1::], sol_fit)\n",
    "plt.ylim([0,0.004])\n",
    "#plt.show(())\n",
    "#ode_fit.plot()\n",
    "\n",
    "peak_i = np.argmax(sol_fit[:,2])\n",
    "print('Peak infection (days)', t_fit[peak_i])"
   ]
  },
  {
   "cell_type": "markdown",
   "metadata": {},
   "source": [
    "## Fit SC2IR parameters to jhu data based on square_loss"
   ]
  },
  {
   "cell_type": "code",
   "execution_count": null,
   "metadata": {},
   "outputs": [],
   "source": [
    "params=SC2IR_model.parameters\n",
    "print(params)"
   ]
  },
  {
   "cell_type": "code",
   "execution_count": null,
   "metadata": {
    "code_folding": []
   },
   "outputs": [],
   "source": [
    "# Initial guess of parameters and initial condition, and bounding constraints\n",
    "theta = [0.4,0.11,0.007,0.33,0.228,275.]\n",
    "boxBounds = [(0.2,0.5),(0.05,0.15),(0.005,0.015),(0.25,0.55),(0.15,0.4),(5.,2000.)]\n",
    "# setup cost function and Jacobian with target parameters and initial states\n",
    "objSC2IR = SquareLoss(theta=theta, ode=SC2IR_model, x0=x0, t0=t[0], t=t[1::], y=y_jhu[test_country][1::,1:3],\n",
    "                      state_weight=[0.2,1.],state_name=['R','D'],\n",
    "                      target_param=['beta','gamma','mu','c_0','c_1','c_2'],\n",
    "                      target_state=['I'])\n",
    "# perform optimization\n",
    "res = minimize(fun=objSC2IR.costIV,\n",
    "                jac=objSC2IR.sensitivityIV,\n",
    "                x0=theta+[0.000000001],\n",
    "                bounds=boxBounds+[(0.0000000001,0.000001)],\n",
    "                # method='L-BFGS-B',\n",
    "                # method='Nelder-Mead',\n",
    "                #options={'disp':True,'maxiter':1000,'eps':0.01,'gtol':0.01})\n",
    "                options={'disp':True,'maxiter':1000,'eps':0.000001,'ftol':0.000000001})\n",
    "print(res)"
   ]
  },
  {
   "cell_type": "code",
   "execution_count": null,
   "metadata": {
    "scrolled": true
   },
   "outputs": [],
   "source": [
    "# model with fitted parameters \n",
    "startparams = SC2IR_model.parameters.copy()  # save starting parameters (not fit)\n",
    "print(params)\n",
    "print(x0)\n",
    "params_fit = params.copy()\n",
    "params_fit['beta'] = res.x[0]\n",
    "params_fit['gamma'] = res.x[1]\n",
    "params_fit['mu'] = res.x[2]\n",
    "params_fit['c_0'] = res.x[3]\n",
    "params_fit['c_1'] = res.x[4]\n",
    "params_fit['c_2'] = res.x[5]\n",
    "\n",
    "SC2IR_model.params = params_fit\n",
    "print(SC2IR_model.params)\n",
    "x0_fit = x0.copy()\n",
    "x0_fit[1] = res.x[6]\n",
    "t_fit = t\n",
    "SC2IR_model.initial_values = (x0_fit, t_fit[0])\n",
    "sol_fit = scipy.integrate.odeint(SC2IR_model.ode, x0_fit, t_fit[1::])\n",
    "#\n",
    "plt.figure(figsize=(15,10))\n",
    "plt.semilogy()\n",
    "plt.ylim([0.000001,1])\n",
    "plt.plot(t,y_jhu[test_country][:,1], 'bo',label='R')  # recovered\n",
    "plt.semilogy()\n",
    "plt.ylim([0.000001,1])\n",
    "plt.plot(t,y_jhu[test_country][:,2], 'ro',label='D')  # died\n",
    "plt.semilogy()\n",
    "plt.ylim([0.000001,1])\n",
    "\n",
    "plt.gca().set_prop_cycle(color=['grey','green','blue','red', 'black'])\n",
    "plt.plot(t_fit[1::], sol_fit)\n",
    "plt.ylim([0.000001,1])\n",
    "plt.legend(('R','D','S','I','R','D','S_c','I_c'))\n",
    "plt.semilogy()\n",
    "#plt.show(())\n",
    "#ode_fit.plot()\n",
    "\n",
    "peak_i = np.argmax(sol_fit[:,1])\n",
    "print('Peak infection (days)', t_fit[peak_i])\n",
    "SC2IR_model.parameters = startparams"
   ]
  },
  {
   "cell_type": "markdown",
   "metadata": {},
   "source": [
    "## Fit SC3EI3R parameters to jhu data based on square_loss"
   ]
  },
  {
   "cell_type": "markdown",
   "metadata": {},
   "source": [
    "### Fit c_0 and c_1 only"
   ]
  },
  {
   "cell_type": "code",
   "execution_count": null,
   "metadata": {},
   "outputs": [],
   "source": [
    "# Initial guess of parameters, and bounding constraints\n",
    "cautionparams = list(params.values())[-4:-1]\n",
    "theta = [value for value in cautionparams]\n",
    "print(theta)\n",
    "theta = [0.3,0.08,2500.]\n",
    "boxBounds = [(0.2,0.8),(0.05,0.15),(100.,10000.)]\n",
    "objSC3EI3R = SquareLoss(theta=theta, ode=SC3EI3R_model, x0=x0_SC3EI3R, t0=t[0], t=t[1::], y=y_jhu[test_country][1::,1:3],\n",
    "                      state_weight=[1.,1.],state_name=['R','D'],\n",
    "                      target_param=['c_0','c_1','c_2'])\n",
    "# perform optimization\n",
    "res = minimize(fun=objSC3EI3R.cost,\n",
    "                #jac=objSC3EI3R.sensitivity,\n",
    "                x0=theta,\n",
    "                #bounds=boxBounds,\n",
    "                method='L-BFGS-B',\n",
    "                # method='Nelder-Mead',\n",
    "                options={'disp':True,'maxiter':1000,'eps':0.00001})# ,'ftol':0.01})  #not BFGS\n",
    "print(res)"
   ]
  },
  {
   "cell_type": "markdown",
   "metadata": {},
   "source": [
    "### Fit c_0 and c_1 as well as initial value of E"
   ]
  },
  {
   "cell_type": "markdown",
   "metadata": {},
   "source": [
    "#### Fit c_0 and c_1 as well as initial value of E with 'SLSQP'\n",
    "does not work well\n",
    "note use of special methods IV for initial value fitting of target_state"
   ]
  },
  {
   "cell_type": "code",
   "execution_count": null,
   "metadata": {},
   "outputs": [],
   "source": [
    "# Initial guess of parameters and initial condition, and bounding constraints\n",
    "cautionparams = list(params.values())[-4:-3]\n",
    "theta = [value for value in cautionparams]\n",
    "theta = [0.21,0.08,2500.]\n",
    "objSC3EI3R = SquareLoss(theta=theta, ode=SC3EI3R_model, x0=x0_SC3EI3R, t0=t[0], t=t[1::], y=y_jhu[test_country][1::,1:3],\n",
    "                      state_weight=[1.,1.],state_name=['R','D'],\n",
    "                      target_param=['c_0','c_1','c_2'],target_state=['I_1'])\n",
    "# perform optimization\n",
    "res = minimize(fun=objSC3EI3R.costIV,\n",
    "                jac=objSC3EI3R.sensitivityIV,\n",
    "                x0=theta+[0.00005],\n",
    "                bounds=boxBounds+[(0.0000001,0.001)],\n",
    "                # method='BFGS',\n",
    "                method='L-BFGS-B',\n",
    "                options={'disp':True,'maxiter':1000,'eps':0.01,'gtol':0.01})\n",
    "print(res)"
   ]
  },
  {
   "cell_type": "markdown",
   "metadata": {},
   "source": [
    "#### Fit c_0 and c_1 as well as initial value of E with BFGS\n",
    "works well:  no constraints and gtol not ftol"
   ]
  },
  {
   "cell_type": "code",
   "execution_count": null,
   "metadata": {
    "code_folding": []
   },
   "outputs": [],
   "source": [
    "# Initial guess of parameters and initial condition, and bounding constraints\n",
    "cautionparams = list(params.values())[-4:-2]\n",
    "theta = [0.25,0.08]\n",
    "boxBounds = [(0.2,0.4),(0.05,0.15)]\n",
    "objSCEI3R = SquareLoss(theta=theta, ode=SCEI3R_model, x0=x0_SC3EI3R, t0=t[0], t=t[1::], y=ynoise[1::,:],\n",
    "                      state_weight=[1.,1.,1.,1.,1.],state_name=['I_1','I_2','I_3','R','D'],\n",
    "                      target_param=['c_0','c_1'],target_state=['E'])\n",
    "# perform optimization\n",
    "res = minimize(fun=objSCEI3R.costIV,\n",
    "                jac=objSCEI3R.sensitivityIV,\n",
    "                x0=theta+[0.00005],\n",
    "                #bounds=boxBounds+[(0.0000001,0.001)],\n",
    "                method='BFGS',\n",
    "                options={'disp':True,'maxiter':1000,'eps':0.01,'gtol':0.01})\n",
    "print(res)"
   ]
  },
  {
   "cell_type": "code",
   "execution_count": null,
   "metadata": {
    "scrolled": true
   },
   "outputs": [],
   "source": [
    "# model with fitted parameters \n",
    "print(params)\n",
    "print(x0_SC3EI3R)\n",
    "params_fit = params.copy()\n",
    "#params_fit['c_0'] = res.x[0]\n",
    "#params_fit['c_1'] = res.x[1]\n",
    "\n",
    "SC3EI3R_model.params = params_fit\n",
    "print(SC3EI3R_model.params)\n",
    "#ode_fit = common_models.SEI3R({'beta':res.x[0], 'gamma':res.x[1],'alpha':res.x[2]})\n",
    "#x0_fit = [1-1.27e-6, 1.27e-6, 0]\n",
    "x0_fit = x0_SC3EI3R.copy()\n",
    "#x0_fit[2] = res.x[2]\n",
    "#t_fit = numpy.linspace(0, 150, 1000)\n",
    "t_fit = t\n",
    "SC3EI3R_model.initial_values = (x0_fit, t_fit[0])\n",
    "# %timeit sol_fit =SCEI3R_model.integrate(t_fit[1::]) # use magic %timeit to time\n",
    "# sol_fit =SCEI3R_model.integrate(t_fit[0::])\n",
    "sol_fit = scipy.integrate.odeint(SC3EI3R_model.ode, x0_fit, t_fit[1::])\n",
    "#\n",
    "plt.figure(figsize=(15,10))\n",
    "plt.plot(t,ynoise[:,0], 'o',color='lightgreen') # infected observations\n",
    "plt.plot(t,ynoise[:,1], 'o',color='green') # infected observations\n",
    "plt.plot(t,ynoise[:,2], 'o',color='darkgreen') # infected observations\n",
    "plt.plot(t,ynoise[:,3], 'bo') # recoverd\n",
    "plt.plot(t,ynoise[:,4], 'ro') # died\n",
    "plt.plot(t_fit[1::], sol_fit)\n",
    "plt.ylim([0,0.004])\n",
    "#plt.show(())\n",
    "#ode_fit.plot()\n",
    "\n",
    "peak_i = np.argmax(sol_fit[:,2])\n",
    "print('Peak infection (days)', t_fit[peak_i])"
   ]
  },
  {
   "cell_type": "markdown",
   "metadata": {},
   "source": [
    "#### Fit c_0 and c_1 as well as initial value of E using L-BFGS-B\n",
    "this method does not work well"
   ]
  },
  {
   "cell_type": "code",
   "execution_count": null,
   "metadata": {},
   "outputs": [],
   "source": [
    "# Initial guess of parameters and initial condition, and bounding constraints\n",
    "cautionparams = list(params.values())[-4:-2]\n",
    "theta = [0.25,0.08]\n",
    "boxBounds = [(0.2,0.4),(0.05,0.15)]\n",
    "objSCEI3R = SquareLoss(theta=theta, ode=SCEI3R_model, x0=x0_SC3EI3R, t0=t[0], t=t[1::], y=ynoise[1::,:],\n",
    "                      state_weight=[1.,1.,1.,1.,1.],state_name=['I_1','I_2','I_3','R','D'],\n",
    "                      target_param=['c_0','c_1'],target_state=['E'])\n",
    "# perform optimization\n",
    "res = minimize(fun=objSCEI3R.costIV,\n",
    "                jac=objSCEI3R.sensitivityIV,\n",
    "                x0=theta+[0.00005],\n",
    "                bounds=boxBounds+[(0.0000001,0.001)],\n",
    "                method='L-BFGS-B',\n",
    "                options={'disp':True,'maxiter':1000,'eps':0.0001,'ftol':0.001})\n",
    "print(res)"
   ]
  },
  {
   "cell_type": "code",
   "execution_count": null,
   "metadata": {},
   "outputs": [],
   "source": [
    "objSCEI3R.residual()"
   ]
  },
  {
   "cell_type": "markdown",
   "metadata": {},
   "source": [
    "#### Fit c_0 and c_1 as well as initial value of E with Nelder-Mead\n",
    "no use of Jacobian and no constraints"
   ]
  },
  {
   "cell_type": "code",
   "execution_count": null,
   "metadata": {},
   "outputs": [],
   "source": [
    "# Initial guess of parameters and initial condition, and bounding constraints\n",
    "cautionparams = list(params.values())[-4:-2]\n",
    "theta = [0.25,0.08]\n",
    "boxBounds = [(0.2,0.4),(0.05,0.15)]\n",
    "objSCEI3R = SquareLoss(theta=theta, ode=SCEI3R_model, x0=x0_SC3EI3R, t0=t[0], t=t[1::], y=ynoise[1::,:],\n",
    "                      state_weight=[1.,1.,1.,1.,1.],state_name=['I_1','I_2','I_3','R','D'],\n",
    "                      target_param=['c_0','c_1'],target_state=['E'])\n",
    "# perform optimization\n",
    "res = minimize(fun=objSCEI3R.costIV,\n",
    "                #jac=objSCEI3R.sensitivityIV,\n",
    "                x0=theta+[0.00005],\n",
    "                #bounds=boxBounds+[(0.0000001,0.001)],\n",
    "                method='Nelder-Mead',\n",
    "                options={'disp':True,'maxiter':1000}) #,'eps':0.0001,'ftol':0.01}) #not NM\n",
    "print(res)"
   ]
  },
  {
   "cell_type": "code",
   "execution_count": null,
   "metadata": {
    "scrolled": true
   },
   "outputs": [],
   "source": [
    "# model with fitted parameters \n",
    "print(params)\n",
    "print(x0_SC3EI3R)\n",
    "params_fit = params.copy()\n",
    "params_fit['c_0'] = res.x[0]\n",
    "params_fit['c_1'] = res.x[1]\n",
    "\n",
    "SC3EI3R_model.params = params_fit\n",
    "print(SC3EI3R_model.params)\n",
    "x0_fit = x0_SC3EI3R.copy()\n",
    "#x0_fit[2] = res.x[2]\n",
    "#t_fit = numpy.linspace(0, 150, 1000)\n",
    "t_fit = t\n",
    "SC3EI3R_model.initial_values = (x0_fit, t_fit[0])\n",
    "# %timeit sol_fit =SC3EI3R_model.integrate(t_fit[1::]) # use magic %timeit to time\n",
    "# sol_fit =SC3EI3R_model.integrate(t_fit[0::])\n",
    "sol_fit = scipy.integrate.odeint(SC3EI3R_model.ode, x0_fit, t_fit[1::])\n",
    "#\n",
    "plt.figure(figsize=(15,10))\n",
    "plt.plot(t,y_jhu[:,0], 'bo') # recoverd\n",
    "plt.plot(t,y_jhu[:,1], 'ro') # died\n",
    "plt.plot(t_fit[1::], sol_fit)\n",
    "plt.ylim([0,0.004])\n",
    "#plt.show(())\n",
    "#ode_fit.plot()\n",
    "\n",
    "peak_i = np.argmax(sol_fit[:,2])\n",
    "print('Peak infection (days)', t_fit[peak_i])"
   ]
  },
  {
   "cell_type": "markdown",
   "metadata": {},
   "source": [
    "### Information on method options"
   ]
  },
  {
   "cell_type": "code",
   "execution_count": null,
   "metadata": {},
   "outputs": [],
   "source": [
    "scipy.optimize.show_options(solver='minimize', method='SLSQP', disp=True)\n",
    "print(' ')\n",
    "scipy.optimize.show_options(solver='minimize', method='L-BFGS-B', disp=True)"
   ]
  },
  {
   "cell_type": "markdown",
   "metadata": {},
   "source": [
    "## Plot using full control"
   ]
  },
  {
   "cell_type": "code",
   "execution_count": null,
   "metadata": {},
   "outputs": [],
   "source": [
    "def plotmodel(solns,t,scale='linear',species='no_susc',plottitle= '',label='',\n",
    "              newplot = True,models=['SEI3R','SCEI3R','SC3EI3R']):\n",
    "    \"\"\"\n",
    "    plot solns over \n",
    "    times t interpreted as models indicated in models parameter\n",
    "    scale: alternative 'linear' or 'log'\n",
    "    species alternatives 'all', 'confirmed', 'deaths', 'daily confirmed', 'daily deaths'\n",
    "    plottitle : title for plot\n",
    "    label : label for curve when called as part of multicurve plot\n",
    "    newplot : whether to open new plot True/False\n",
    "    models : list of models to include, default all three of those possible\n",
    "    \"\"\"\n",
    "   \n",
    "    nmodels = len(models)\n",
    "    if len(solns) != len(models):\n",
    "        print(\"Error: number of models must match number of solutions\")\n",
    "        return None\n",
    "    nm = 0\n",
    "    \n",
    "    if newplot == True:\n",
    "        plt.figure(figsize=(nmodels*8,6))\n",
    " \n",
    "    for nm in range(nmodels):\n",
    "        soln = solns[nm]\n",
    "        if models[nm] == 'SEI3R':   #SEI3R\n",
    "            plt.subplot(1,nmodels,nm+1)\n",
    "            if scale == 'log': #Plot on log scale\n",
    "                plt.semilogy()\n",
    "                plt.ylim([1,10000])\n",
    "            elif species != 'daily confirmed': # Plot on normal linear scale\n",
    "                #plt.ylim([0,10000])\n",
    "                pass\n",
    "            if species == 'no_susc':\n",
    "                plt.plot(tvec,soln[:,1:5],label=label)\n",
    "                plt.legend((\"E\",\"I1\",\"I2\",\"I3\"))\n",
    "            elif species == 'confirmed' or species == 'daily confirmed':\n",
    "                suma = np.sum(soln[:,2:7],axis=1)\n",
    "                # print('length=',len(suma))\n",
    "                if species == 'daily confirmed':\n",
    "                    sumd = np.zeros(len(suma))\n",
    "                    for i in range(1,len(suma)):\n",
    "                        sumd[i] = suma[i]-suma[i-1]\n",
    "                    #plt.ylim([0,1000])\n",
    "                    plt.plot(tvec,sumd,label=label)\n",
    "                else:\n",
    "                    #plt.ylim([0,200000])\n",
    "                     plt.plot(t,suma,label=label)                   \n",
    "            elif species == 'all':\n",
    "                plt.plot(tvec,soln,label=label)\n",
    "                plt.legend((\"S\",\"E\",\"I1\",\"I2\",\"I3\",\"R\",\"D\"))\n",
    "            plt.xlabel(\"Time (days)\")\n",
    "            plt.ylabel(\"Portion of population N\")\n",
    "            plt.title('SEI3R %s' % plottitle)\n",
    "\n",
    "        elif models[nm] == 'SCEI3R':   #SCEI3R\n",
    "            #Plot\n",
    "            plt.subplot(1,nmodels,nm+1)\n",
    "            if scale == 'log': #Plot on log scale\n",
    "                plt.semilogy()\n",
    "                plt.ylim([1,10000])\n",
    "            elif species != 'daily confirmed': # Plot on normal linear scale\n",
    "                #plt.ylim([0,10000])\n",
    "                pass\n",
    "            if species == 'no_susc':\n",
    "                plt.plot(t,soln[:,1:5],label=label)\n",
    "                plt.legend((\"E\",\"I1\",\"I2\",\"I3\"))\n",
    "            elif species == 'confirmed' or species == 'daily confirmed':\n",
    "                suma = np.sum(soln[:,2:7],axis=1)\n",
    "                # print('length=',len(suma))\n",
    "                if species == 'daily confirmed':\n",
    "                    sumd = np.zeros(len(suma))\n",
    "                    for i in range(1,len(suma)):\n",
    "                        sumd[i] = suma[i]-suma[i-1]\n",
    "                    #plt.ylim([0,1000])\n",
    "                    plt.plot(t,sumd,label=label)\n",
    "                else:\n",
    "                    #plt.ylim([0,200000])\n",
    "                    plt.plot(t,suma,label=label)\n",
    "            elif species == 'all':\n",
    "                plt.plot(t,soln,label=label)\n",
    "                plt.legend((\"S\",\"E\",\"I1\",\"I2\",\"I3\",\"R\",\"D\",\"Sc\"))\n",
    "            plt.xlabel(\"Time (days)\")\n",
    "            plt.ylabel(\"Portion of population N\")\n",
    "            plt.title('SCEI3R %s' % plottitle)\n",
    "        elif models[nm] == 'SC3EI3R':   #SC3EI3R\n",
    "            plt.subplot(1,nmodels,nm+1)\n",
    "            if scale == 'log': #Plot on log scale\n",
    "                plt.semilogy()\n",
    "                plt.ylim([1,10000])\n",
    "            elif species != 'daily confirmed': # Plot on normal linear scale\n",
    "                #plt.ylim([0,10000])\n",
    "                pass\n",
    "            if species == 'no_susc':\n",
    "                plt.plot(t,sol[:,1:5])\n",
    "                plt.legend((\"E\",\"I1\",\"I2\",\"I3\"))\n",
    "            elif species == 'confirmed' or species == 'daily confirmed':\n",
    "                suma = np.sum(soln[:,2:7],axis=1) + soln[:,9]\n",
    "                if species == 'daily confirmed':\n",
    "                    sumd = np.zeros(len(suma))\n",
    "                    for i in range(1,len(suma)):\n",
    "                        sumd[i] = suma[i]-suma[i-1]\n",
    "                    # plt.ylim([0,1000])\n",
    "                    plt.plot(t,sumd,label=label)\n",
    "                else:\n",
    "                    # plt.ylim([0,200000])\n",
    "                    plt.plot(t,suma,label=label)\n",
    "            elif species == 'all':\n",
    "                plt.plot(t,soln,label=label)\n",
    "                plt.legend((\"S\",\"E\",\"I1\",\"I2\",\"I3\",\"R\",\"D\",\"Sc\",\"Ec\",\"I1c\"))\n",
    "            plt.xlabel(\"Time (days)\")\n",
    "            plt.ylabel(\"Portion of population N\")\n",
    "            plt.title('SC3EI3R %s' % plottitle)\n",
    "    return True"
   ]
  },
  {
   "cell_type": "code",
   "execution_count": null,
   "metadata": {},
   "outputs": [],
   "source": [
    "plotmodel([sol_fit],t_fit[1:],scale='linear',species='no_susc',plottitle= 'test',label='',\n",
    "              newplot = True,models=['SCEI3R'])"
   ]
  }
 ],
 "metadata": {
  "celltoolbar": "Initialization Cell",
  "kernelspec": {
   "display_name": "Python 3",
   "language": "python",
   "name": "python3"
  },
  "language_info": {
   "codemirror_mode": {
    "name": "ipython",
    "version": 3
   },
   "file_extension": ".py",
   "mimetype": "text/x-python",
   "name": "python",
   "nbconvert_exporter": "python",
   "pygments_lexer": "ipython3",
   "version": "3.7.4"
  },
  "toc": {
   "base_numbering": 1,
   "nav_menu": {},
   "number_sections": true,
   "sideBar": true,
   "skip_h1_title": false,
   "title_cell": "Table of Contents",
   "title_sidebar": "Contents",
   "toc_cell": false,
   "toc_position": {
    "height": "calc(100% - 180px)",
    "left": "10px",
    "top": "150px",
    "width": "434.1176452636719px"
   },
   "toc_section_display": true,
   "toc_window_display": true
  }
 },
 "nbformat": 4,
 "nbformat_minor": 2
}
