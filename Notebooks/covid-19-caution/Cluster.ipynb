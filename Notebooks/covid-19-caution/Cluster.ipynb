{
 "cells": [
  {
   "cell_type": "code",
   "execution_count": 1,
   "metadata": {},
   "outputs": [
    {
     "data": {
      "text/html": [
       "<style>.container { width:100% !important; }</style>"
      ],
      "text/plain": [
       "<IPython.core.display.HTML object>"
      ]
     },
     "metadata": {},
     "output_type": "display_data"
    }
   ],
   "source": [
    "%matplotlib notebook\n",
    "import matplotlib\n",
    "import seaborn as sb\n",
    "from matplotlib import pyplot as plt\n",
    "import numpy as np\n",
    "\n",
    "# Jupyter Specifics\n",
    "%matplotlib inline\n",
    "from IPython.display import display, HTML\n",
    "from ipywidgets.widgets import interact, interactive, IntSlider, FloatSlider, Layout, ToggleButton, ToggleButtons, fixed\n",
    "display(HTML(\"<style>.container { width:100% !important; }</style>\"))\n",
    "style = {'description_width': '100px'}\n",
    "slider_layout = Layout(width='99%')"
   ]
  },
  {
   "cell_type": "code",
   "execution_count": 2,
   "metadata": {},
   "outputs": [
    {
     "name": "stdout",
     "output_type": "stream",
     "text": [
      "Getting data:\n",
      "getting JHU data...\n",
      "number of countries listed 274\n",
      "done with JHU data.  Got  274 countries.\n",
      "getting owid data...\n",
      "data for population changes only slowly if at all in OWID database\n",
      "done with owid data. Got 212 countries\n",
      "WHO acute file found dictionary acute_who\n",
      "ICU file found dictionary icus_2012\n",
      "---------------------------------\n",
      "Done with data.\n",
      "---------------------------------\n",
      "Getting deaths, case and testing data...\n",
      "done.\n",
      "doing piecwise linear fits to testing data ...\n",
      "done.\n",
      "making cases with nonlinear testing adjustment...\n",
      "done.\n",
      "to change the nonlinear correction function, call make_cases_adj_nonlin(K), K=2 by default\n"
     ]
    }
   ],
   "source": [
    "from Cluster import *"
   ]
  },
  {
   "cell_type": "code",
   "execution_count": 3,
   "metadata": {},
   "outputs": [],
   "source": [
    "datasets = ['deaths','cases','cases_lin2020','cases_pwlfit','cases_nonlin']\n",
    "\n",
    "d_countries = [c for c in clusdata_all['deaths']]\n",
    "c_countries = [c for c in clusdata_all['cases']]\n",
    "lc_countries = [c for c in clusdata_all['cases_lin2020']]\n",
    "pc_countries = [c for c in clusdata_all['cases_pwlfit']]\n",
    "nc_countries = [c for c in clusdata_all['cases_nonlin']]\n",
    "\n",
    "countries = d_countries"
   ]
  },
  {
   "cell_type": "code",
   "execution_count": 4,
   "metadata": {},
   "outputs": [
    {
     "name": "stdout",
     "output_type": "stream",
     "text": [
      "[59, 59, 59, 59, 59]\n",
      "[True, True, True, True, True]\n",
      "[True, True, True, True, True]\n",
      "[True, True, True, True, True]\n",
      "[True, True, True, True, True]\n",
      "[True, True, True, True, True]\n",
      "[165, 165, 165, 165, 165]\n",
      "267 267 267 12/31/19 12/31/19 12/31/19\n"
     ]
    }
   ],
   "source": [
    "# check that all country sets being used are the same and check time series lengths and starting dates\n",
    "countrysets = [d_countries,c_countries,lc_countries,pc_countries,nc_countries]\n",
    "print([len(ccs) for ccs in countrysets])\n",
    "for ccs1 in countrysets:\n",
    "    print([ccs1 == ccs2 for ccs2 in countrysets])\n",
    "print([len(clusdata_all[d1]['United States']) for d1 in datasets])\n",
    "print(len(total_deaths_x['dates']),len(total_cases_x['dates']),len(testing_x['dates']),total_deaths_x['dates'][0],total_cases_x['dates'][0],testing_x['dates'][0])"
   ]
  },
  {
   "cell_type": "code",
   "execution_count": 5,
   "metadata": {},
   "outputs": [
    {
     "data": {
      "text/plain": [
       "267"
      ]
     },
     "execution_count": 5,
     "metadata": {},
     "output_type": "execute_result"
    }
   ],
   "source": [
    "len(testing_x['dates'])"
   ]
  },
  {
   "cell_type": "markdown",
   "metadata": {},
   "source": [
    "# ClusterFit testing"
   ]
  },
  {
   "cell_type": "code",
   "execution_count": null,
   "metadata": {},
   "outputs": [],
   "source": [
    "np.argsort(list(range(4,14)))[-1:][0]"
   ]
  },
  {
   "cell_type": "markdown",
   "metadata": {},
   "source": [
    "16000 2 seats"
   ]
  },
  {
   "cell_type": "code",
   "execution_count": null,
   "metadata": {},
   "outputs": [],
   "source": [
    "\n",
    "base = '../../covid-19-JH/csse_covid_19_data/csse_covid_19_time_series/'\n",
    "confirmed_jhu = get_data(base+'time_series_covid19_confirmed_global.csv')\n",
    "deaths_jhu = get_data(base+'time_series_covid19_deaths_global.csv')"
   ]
  },
  {
   "cell_type": "code",
   "execution_count": null,
   "metadata": {},
   "outputs": [],
   "source": [
    "[x for x in dir() if 'death' in x]"
   ]
  },
  {
   "cell_type": "code",
   "execution_count": null,
   "metadata": {},
   "outputs": [],
   "source": [
    "plt.plot(new_cases_spm['Denmark'])"
   ]
  },
  {
   "cell_type": "code",
   "execution_count": null,
   "metadata": {},
   "outputs": [],
   "source": [
    "\n",
    "plt.plot(confirmed_jhu[('Germany','')])"
   ]
  },
  {
   "cell_type": "markdown",
   "metadata": {},
   "source": [
    "## cases"
   ]
  },
  {
   "cell_type": "code",
   "execution_count": null,
   "metadata": {},
   "outputs": [],
   "source": [
    "len(clusdata_all['cases'])"
   ]
  },
  {
   "cell_type": "code",
   "execution_count": null,
   "metadata": {},
   "outputs": [],
   "source": [
    "#foo = ClusterFit(clusdata_all['cases'],fft='fft') # real and imag components of FFT used together for PCA\n",
    "#foo = ClusterFit(clusdata_all['cases'],fft='powfft') # power spectrum via FFT used for PCA (not invertible)\n",
    "foo = ClusterFit(clusdata_all['cases'],fft=None) "
   ]
  },
  {
   "cell_type": "code",
   "execution_count": null,
   "metadata": {},
   "outputs": [],
   "source": [
    "foo.umap_cluster(5,5,n_neighbors=6)\n",
    "print('mean cluster membership probability =',np.mean(foo.clus_probs))\n",
    "foo.plot_umap()"
   ]
  },
  {
   "cell_type": "code",
   "execution_count": null,
   "metadata": {},
   "outputs": [],
   "source": [
    "foo.clus_labels\n",
    "print(len(foo.clus_labels))\n",
    "print(len(c_countries))"
   ]
  },
  {
   "cell_type": "code",
   "execution_count": null,
   "metadata": {},
   "outputs": [],
   "source": [
    "foo.clus_labels"
   ]
  },
  {
   "cell_type": "code",
   "execution_count": null,
   "metadata": {},
   "outputs": [],
   "source": [
    "labelled = [(foo.clus_labels[i],c_countries[i]) for i in range(len(foo.clus_labels))]\n",
    "print(labelled)"
   ]
  },
  {
   "cell_type": "code",
   "execution_count": null,
   "metadata": {},
   "outputs": [],
   "source": [
    "np.lexsort((c_countries,foo.clus_labels))"
   ]
  },
  {
   "cell_type": "code",
   "execution_count": null,
   "metadata": {},
   "outputs": [],
   "source": [
    "# foo.umap_best_cluster(Nclus=3)\n",
    "foo.umap_best_cluster(Nclus=4,n_neighbors=6)"
   ]
  },
  {
   "cell_type": "code",
   "execution_count": null,
   "metadata": {},
   "outputs": [],
   "source": [
    "foo.plot_umap()"
   ]
  },
  {
   "cell_type": "code",
   "execution_count": null,
   "metadata": {},
   "outputs": [],
   "source": [
    "np.mean(foo.clus_probs)"
   ]
  },
  {
   "cell_type": "code",
   "execution_count": null,
   "metadata": {},
   "outputs": [],
   "source": [
    "foo.clus_labels"
   ]
  },
  {
   "cell_type": "code",
   "execution_count": null,
   "metadata": {},
   "outputs": [],
   "source": [
    "foo.cluster_plot_all()"
   ]
  },
  {
   "cell_type": "code",
   "execution_count": null,
   "metadata": {},
   "outputs": [],
   "source": [
    "foo.plot_pcas()"
   ]
  },
  {
   "cell_type": "code",
   "execution_count": null,
   "metadata": {
    "scrolled": true
   },
   "outputs": [],
   "source": [
    "clsize = []\n",
    "clprobs = []\n",
    "for i in range(100):\n",
    "    foo.umap_cluster(i,min_size=5,diag=False)\n",
    "    clsize.append(len(set(foo.clus_labels)))\n",
    "    clprobs.append(np.mean(foo.clus_probs))"
   ]
  },
  {
   "cell_type": "code",
   "execution_count": null,
   "metadata": {},
   "outputs": [],
   "source": [
    "plt.scatter(clsize,clprobs)\n",
    "plt.title('min_size=5');"
   ]
  },
  {
   "cell_type": "code",
   "execution_count": null,
   "metadata": {},
   "outputs": [],
   "source": [
    "# min_size = 6\n",
    "plt.scatter(clsize,clprobs)"
   ]
  },
  {
   "cell_type": "code",
   "execution_count": null,
   "metadata": {},
   "outputs": [],
   "source": [
    "plt.hist(clsize);\n",
    "plt.show()\n",
    "plt.hist(clprobs);"
   ]
  },
  {
   "cell_type": "code",
   "execution_count": null,
   "metadata": {},
   "outputs": [],
   "source": [
    "plt.hist(clsize);\n",
    "plt.show()\n",
    "plt.hist(clprobs);"
   ]
  },
  {
   "cell_type": "code",
   "execution_count": null,
   "metadata": {},
   "outputs": [],
   "source": [
    "plt.hist(clsize);"
   ]
  },
  {
   "cell_type": "code",
   "execution_count": null,
   "metadata": {},
   "outputs": [],
   "source": [
    "plt.hist(clprobs);"
   ]
  },
  {
   "cell_type": "code",
   "execution_count": null,
   "metadata": {},
   "outputs": [],
   "source": [
    "clusfit_all = {}\n",
    "clusfit_all['cases'] = foo"
   ]
  },
  {
   "cell_type": "markdown",
   "metadata": {},
   "source": [
    "## cases FFT"
   ]
  },
  {
   "cell_type": "code",
   "execution_count": null,
   "metadata": {},
   "outputs": [],
   "source": [
    "len(clusdata_all['cases'])"
   ]
  },
  {
   "cell_type": "code",
   "execution_count": null,
   "metadata": {},
   "outputs": [],
   "source": [
    "foofft = ClusterFit(clusdata_all['cases'],fft='fft') # real and imag components of FFT used together for PCA\n",
    "#foo = ClusterFit(clusdata_all['cases'],fft='powfft') # power spectrum via FFT used for PCA (not invertible)\n",
    "#foo = ClusterFit(clusdata_all['cases'],fft=None) "
   ]
  },
  {
   "cell_type": "code",
   "execution_count": null,
   "metadata": {},
   "outputs": [],
   "source": [
    "foofft.umap_cluster(5,5)\n",
    "print('mean cluster membership probability =',np.mean(foofft.clus_probs))\n",
    "foofft.plot_umap()"
   ]
  },
  {
   "cell_type": "code",
   "execution_count": null,
   "metadata": {},
   "outputs": [],
   "source": [
    "# foo.umap_best_cluster(Nclus=3)\n",
    "foofft.umap_best_cluster()"
   ]
  },
  {
   "cell_type": "code",
   "execution_count": null,
   "metadata": {},
   "outputs": [],
   "source": [
    "foofft.plot_umap()"
   ]
  },
  {
   "cell_type": "code",
   "execution_count": null,
   "metadata": {},
   "outputs": [],
   "source": [
    "np.mean(foofft.clus_probs)"
   ]
  },
  {
   "cell_type": "code",
   "execution_count": null,
   "metadata": {},
   "outputs": [],
   "source": [
    "foofft.clus_labels"
   ]
  },
  {
   "cell_type": "code",
   "execution_count": null,
   "metadata": {
    "scrolled": false
   },
   "outputs": [],
   "source": [
    "foofft.cluster_plot_all()"
   ]
  },
  {
   "cell_type": "code",
   "execution_count": null,
   "metadata": {},
   "outputs": [],
   "source": [
    "foofft.plot_pcas()"
   ]
  },
  {
   "cell_type": "code",
   "execution_count": null,
   "metadata": {
    "scrolled": true
   },
   "outputs": [],
   "source": [
    "clsize = []\n",
    "clprobs = []\n",
    "for i in range(100):\n",
    "    foofft.umap_cluster(i,min_size=5,diag=False)\n",
    "    clsize.append(len(set(foofft.clus_labels)))\n",
    "    clprobs.append(np.mean(foofft.clus_probs))"
   ]
  },
  {
   "cell_type": "code",
   "execution_count": null,
   "metadata": {},
   "outputs": [],
   "source": [
    "plt.scatter(clsize,clprobs)\n",
    "plt.title('min_size=5');"
   ]
  },
  {
   "cell_type": "code",
   "execution_count": null,
   "metadata": {},
   "outputs": [],
   "source": [
    "# min_size = 6\n",
    "plt.scatter(clsize,clprobs)"
   ]
  },
  {
   "cell_type": "code",
   "execution_count": null,
   "metadata": {},
   "outputs": [],
   "source": [
    "plt.hist(clsize);\n",
    "plt.show()\n",
    "plt.hist(clprobs);"
   ]
  },
  {
   "cell_type": "code",
   "execution_count": null,
   "metadata": {},
   "outputs": [],
   "source": [
    "plt.hist(clsize);\n",
    "plt.show()\n",
    "plt.hist(clprobs);"
   ]
  },
  {
   "cell_type": "code",
   "execution_count": null,
   "metadata": {},
   "outputs": [],
   "source": [
    "plt.hist(clsize);"
   ]
  },
  {
   "cell_type": "code",
   "execution_count": null,
   "metadata": {},
   "outputs": [],
   "source": [
    "plt.hist(clprobs);"
   ]
  },
  {
   "cell_type": "code",
   "execution_count": null,
   "metadata": {},
   "outputs": [],
   "source": [
    "clusfit_all = {}\n",
    "clusfit_all['cases'] = foofft"
   ]
  },
  {
   "cell_type": "markdown",
   "metadata": {},
   "source": [
    "## deaths"
   ]
  },
  {
   "cell_type": "code",
   "execution_count": null,
   "metadata": {},
   "outputs": [],
   "source": [
    "len(clusdata_all['deaths'])"
   ]
  },
  {
   "cell_type": "code",
   "execution_count": null,
   "metadata": {},
   "outputs": [],
   "source": [
    "foo = ClusterFit(clusdata_all['deaths']) # real and imag components of FFT used together for PCA\n",
    "#foo = ClusterFit(clusdata_all['deaths'],fft='powfft') # power spectrum via FFT used for PCA (not invertible)\n",
    "#foo = ClusterFit(clusdata_all['deaths'],fft=None) "
   ]
  },
  {
   "cell_type": "code",
   "execution_count": null,
   "metadata": {},
   "outputs": [],
   "source": [
    "foo.umap_cluster(5,5)\n",
    "print('mean cluster membership probability =',np.mean(foofft.clus_probs))\n",
    "foo.plot_umap()"
   ]
  },
  {
   "cell_type": "code",
   "execution_count": null,
   "metadata": {},
   "outputs": [],
   "source": [
    "# foo.umap_best_cluster(Nclus=3)\n",
    "foo.umap_best_cluster(Nclus=3)"
   ]
  },
  {
   "cell_type": "code",
   "execution_count": null,
   "metadata": {},
   "outputs": [],
   "source": [
    "foo.plot_umap()"
   ]
  },
  {
   "cell_type": "code",
   "execution_count": null,
   "metadata": {},
   "outputs": [],
   "source": [
    "np.mean(foo.clus_probs)"
   ]
  },
  {
   "cell_type": "code",
   "execution_count": null,
   "metadata": {
    "scrolled": false
   },
   "outputs": [],
   "source": [
    "foo.cluster_plot_all()"
   ]
  },
  {
   "cell_type": "code",
   "execution_count": null,
   "metadata": {},
   "outputs": [],
   "source": [
    "foo.plot_pcas()"
   ]
  },
  {
   "cell_type": "code",
   "execution_count": null,
   "metadata": {
    "scrolled": true
   },
   "outputs": [],
   "source": [
    "clsize = []\n",
    "clprobs = []\n",
    "for i in range(100):\n",
    "    foo.umap_cluster(i,min_size=5,diag=False)\n",
    "    clsize.append(len(set(foo.clus_labels)))\n",
    "    clprobs.append(np.mean(foo.clus_probs))"
   ]
  },
  {
   "cell_type": "code",
   "execution_count": null,
   "metadata": {},
   "outputs": [],
   "source": [
    "plt.scatter(clsize,clprobs)\n",
    "plt.title('min_size=5');"
   ]
  },
  {
   "cell_type": "code",
   "execution_count": null,
   "metadata": {},
   "outputs": [],
   "source": [
    "# min_size = 6\n",
    "plt.scatter(clsize,clprobs)"
   ]
  },
  {
   "cell_type": "code",
   "execution_count": null,
   "metadata": {},
   "outputs": [],
   "source": [
    "plt.hist(clsize);\n",
    "plt.show()\n",
    "plt.hist(clprobs);"
   ]
  },
  {
   "cell_type": "code",
   "execution_count": null,
   "metadata": {},
   "outputs": [],
   "source": [
    "plt.hist(clsize);\n",
    "plt.show()\n",
    "plt.hist(clprobs);"
   ]
  },
  {
   "cell_type": "code",
   "execution_count": null,
   "metadata": {},
   "outputs": [],
   "source": [
    "plt.hist(clsize);"
   ]
  },
  {
   "cell_type": "code",
   "execution_count": null,
   "metadata": {},
   "outputs": [],
   "source": [
    "plt.hist(clprobs);"
   ]
  },
  {
   "cell_type": "code",
   "execution_count": null,
   "metadata": {},
   "outputs": [],
   "source": [
    "clusfit_all = {}\n",
    "clusfit_all['cases'] = foo"
   ]
  },
  {
   "cell_type": "markdown",
   "metadata": {},
   "source": [
    "## deaths FFT"
   ]
  },
  {
   "cell_type": "code",
   "execution_count": null,
   "metadata": {},
   "outputs": [],
   "source": [
    "foofft = ClusterFit(clusdata_all['deaths'],fft='fft')"
   ]
  },
  {
   "cell_type": "code",
   "execution_count": null,
   "metadata": {},
   "outputs": [],
   "source": [
    "foofft.umap_cluster(3) # arg = random seed"
   ]
  },
  {
   "cell_type": "code",
   "execution_count": null,
   "metadata": {},
   "outputs": [],
   "source": [
    "foofft.plot_umap()"
   ]
  },
  {
   "cell_type": "code",
   "execution_count": null,
   "metadata": {},
   "outputs": [],
   "source": [
    "foofft.umap_best_cluster()"
   ]
  },
  {
   "cell_type": "code",
   "execution_count": null,
   "metadata": {},
   "outputs": [],
   "source": [
    "foofft.plot_umap()"
   ]
  },
  {
   "cell_type": "code",
   "execution_count": null,
   "metadata": {},
   "outputs": [],
   "source": [
    "foofft.plot_pcas()"
   ]
  },
  {
   "cell_type": "code",
   "execution_count": null,
   "metadata": {},
   "outputs": [],
   "source": [
    "clusfit_all['deaths'] = foofft"
   ]
  },
  {
   "cell_type": "markdown",
   "metadata": {},
   "source": [
    "# Plots of all countries"
   ]
  },
  {
   "cell_type": "code",
   "execution_count": null,
   "metadata": {},
   "outputs": [],
   "source": [
    "plot_all(countries,clusdata_all['deaths'])"
   ]
  },
  {
   "cell_type": "code",
   "execution_count": null,
   "metadata": {
    "scrolled": false
   },
   "outputs": [],
   "source": [
    "plot_all(countries,clusdata_all['cases'],clusdata_all['cases_nonlin'],longshort_testing_c)"
   ]
  },
  {
   "cell_type": "code",
   "execution_count": null,
   "metadata": {
    "scrolled": false
   },
   "outputs": [],
   "source": [
    "plot_all(countries,clusdata_all['cases'],clusdata_all['cases_nonlinr'],longshort_reg_testing_c)"
   ]
  },
  {
   "cell_type": "code",
   "execution_count": null,
   "metadata": {},
   "outputs": [],
   "source": [
    "plot_all(countries,clusdata_all['cases'],clusdata_all['cases_pwlfit'],longshort_reg_testing_c)"
   ]
  },
  {
   "cell_type": "code",
   "execution_count": null,
   "metadata": {
    "scrolled": false
   },
   "outputs": [],
   "source": [
    "plot_all(lcountries,cases_raw,cases_adj_lin2020)"
   ]
  },
  {
   "cell_type": "code",
   "execution_count": null,
   "metadata": {},
   "outputs": [],
   "source": []
  },
  {
   "cell_type": "markdown",
   "metadata": {},
   "source": [
    "# Compare best clusters"
   ]
  },
  {
   "cell_type": "code",
   "execution_count": null,
   "metadata": {},
   "outputs": [],
   "source": [
    "datasets = [c for c in clusdata_all]\n",
    "datasets"
   ]
  },
  {
   "cell_type": "code",
   "execution_count": null,
   "metadata": {},
   "outputs": [],
   "source": [
    "len(countries)"
   ]
  },
  {
   "cell_type": "code",
   "execution_count": null,
   "metadata": {
    "scrolled": false
   },
   "outputs": [],
   "source": [
    "plot_all(countries,clusdata_all['cases'],clusdata_all['cases_nonlinr']);"
   ]
  },
  {
   "cell_type": "code",
   "execution_count": null,
   "metadata": {},
   "outputs": [],
   "source": [
    "#  Norman not sure I understand what you are printing out with \"found 48 clusters of size 3\" , seems wrong\n",
    "res = {}\n",
    "for d in datasets:\n",
    "    print('doing ',d,'...')\n",
    "    mfit = ClusterFit(clusdata_all[d])\n",
    "    mfit.umap_best_cluster()\n",
    "    res[d] = mfit"
   ]
  },
  {
   "cell_type": "code",
   "execution_count": null,
   "metadata": {},
   "outputs": [],
   "source": [
    "for rr in res:\n",
    "    foo = res[rr]\n",
    "    # foo.plot_umap() ########## doesn't work???\n",
    "    plt.scatter(foo.um_dat[0],foo.um_dat[1],c=foo.clus_labels)\n",
    "    plt.title(rr)\n",
    "    plt.show()"
   ]
  },
  {
   "cell_type": "code",
   "execution_count": null,
   "metadata": {},
   "outputs": [],
   "source": [
    "def corcl(a,b):\n",
    "    if len(set(a)) > 0 or len(set(b)) > 0:\n",
    "        return len(set(a).intersection(set(b)))/float(len(set(a).union(set(b))))\n",
    "    else:\n",
    "        return 1 \n",
    "    \n",
    "def matchset(a,x):\n",
    "    rtn = [i for i in range(len(a)) if a[i] == x]\n",
    "    return rtn\n",
    "\n",
    "def match1(a,x):\n",
    "    rtn = [1 for i in range(len(a)) if a[i] == x]\n",
    "    return rtn\n",
    "    \n",
    "def imxcor(clusters,nset,n,nclus,nclusmax=6): \n",
    "    \"\"\" finds cluster index in previous datasets d best correlated to cluster n in dataset dd\n",
    "        nclus is current number of already aligned clusters\n",
    "        nclusmax is max allowed number of clusters\n",
    "    \"\"\"\n",
    "    cx = []\n",
    "    cc = clusters[nset]\n",
    "    for j in range(0,nset):\n",
    "        c = mapclusters[j]\n",
    "        klen = min(nclusmax,len(cc))\n",
    "        for k in range(nclus): # find best matching previous cluster\n",
    "            cx.append(np.sum(match1(cc,n)*match1(c,k)))\n",
    "    return argmax(cx),max(cx)"
   ]
  },
  {
   "cell_type": "code",
   "execution_count": null,
   "metadata": {},
   "outputs": [],
   "source": [
    "maxclusters = 6\n",
    "clusters = [res[d].clus_labels for d in res]\n",
    "ncountries = len(res['deaths'])\n",
    "mapclusters = np.zeros((len(clusters),ncountries)\n",
    "mapclusters[0,:] = clusters[0,:] # class lables are those of deaths to start, may be expanded\n",
    "corclasses = np.zeros((len(classes),len(classes)))\n",
    "c = clusters[0] # the first dataset clusters are all accepted as first clusters\n",
    "nclusters = len(set(c))                    \n",
    "for j in range(1,len(clusters)):\n",
    "    cc = clusters[j] # clus_labels for jth dataset\n",
    "                      # map clusters to best matching cluster in 0th dataset : losers try with other previous datasets : losers new\n",
    "    for k in set(cc):\n",
    "                       i,cor = imxcor(k,cc,nclusmax=nclasses)\n",
    "                       \n",
    "    corclasses[i,j] = mxcor(c,cc)\n",
    "    corclasses[j,i] = corclasses[i,j]\n",
    "for i in range(len(classes)):\n",
    "    corclasses[i,i] = 1.0\n",
    "plt.imshow(corclasses)    "
   ]
  },
  {
   "cell_type": "code",
   "execution_count": null,
   "metadata": {},
   "outputs": [],
   "source": [
    "print([(i,c,np.mean(corclasses[i,:])) for i,c in enumerate([r for r in res])])"
   ]
  },
  {
   "cell_type": "code",
   "execution_count": null,
   "metadata": {},
   "outputs": [],
   "source": [
    "for i in range(6):\n",
    "    plt.plot(list(range(6)),corclasses[i,:])"
   ]
  },
  {
   "cell_type": "markdown",
   "metadata": {},
   "source": [
    "Note: `cases_nonlin` and `cases_nonlinr` currently same.\n",
    "\n",
    "**Cluster correlations not outstandingly high!**"
   ]
  },
  {
   "cell_type": "code",
   "execution_count": null,
   "metadata": {},
   "outputs": [],
   "source": [
    "foo = res['cases_nonlin']"
   ]
  },
  {
   "cell_type": "code",
   "execution_count": null,
   "metadata": {},
   "outputs": [],
   "source": [
    "def plot_adj(country, data, adj = None, testing=None,  ndays=250, axis = None):\n",
    "    ndays = 250\n",
    "    if testing:\n",
    "        # Ntests = regtests(testing,country)  # this does not work here, since data is already synchronized, use regularized data in testing \n",
    "        Ntests = testing[country]\n",
    "    if axis is None:   \n",
    "        fig, ax1 = plt.subplots(figsize=(12,8))\n",
    "    else:\n",
    "        ax1 = axis\n",
    "    ax1.plot(data[country][:ndays]) \n",
    "    if adj is not None:  # already adjusted\n",
    "        ax1.plot(adj[country][:ndays])\n",
    "    ax1.set_title(country)\n",
    "    ax1.set_ylabel('Cases/million')\n",
    "    ax1.set_xlabel('day')\n",
    "    if testing:\n",
    "        ax2 = ax1.twinx()\n",
    "        ax2.plot(Ntests[:ndays],color='red',alpha=0.4)\n",
    "        ax2.set_ylabel('Testing/1000')\n",
    "\n",
    "        \n",
    "def plot_all(countries,dat,adj=None,testing=None,ndays=250):\n",
    "    max_cols=6\n",
    "    max_rows=int(len(countries)/max_cols) + 1\n",
    "    fig, axes = plt.subplots(nrows=max_rows, ncols=max_cols, figsize=(24,4*max_rows))\n",
    "\n",
    "    for idx, country  in enumerate(countries):\n",
    "        row = idx // max_cols\n",
    "        col = idx % max_cols\n",
    "        plot_adj(country,dat,adj,testing,ndays,axis=axes[row,col])\n",
    "    for idx in range(len(countries),max_rows*max_cols):\n",
    "        row = idx // max_cols\n",
    "        col = idx % max_cols\n",
    "        axes[row, col].axis(\"off\")\n",
    "    #plt.subplots_adjust(wspace=.05, hspace=.05)\n",
    "    fig.tight_layout()\n",
    "    #for ax in fig.get_axes():\n",
    "    #    ax.label_outer()\n",
    "    plt.show()\n"
   ]
  },
  {
   "cell_type": "code",
   "execution_count": null,
   "metadata": {},
   "outputs": [],
   "source": [
    "plt.plot(foo.smoothed[0])"
   ]
  },
  {
   "cell_type": "code",
   "execution_count": null,
   "metadata": {},
   "outputs": [],
   "source": [
    "len(foo.dat[0,:])"
   ]
  },
  {
   "cell_type": "code",
   "execution_count": null,
   "metadata": {
    "scrolled": false
   },
   "outputs": [],
   "source": [
    "dat1 = {countries[i]:foo.dat[i,:] for i in range(len(countries))}\n",
    "dat2 = {countries[i]:foo.smoothed[i,:] for i in range(len(countries))}\n",
    "plot_all(countries,dat1,dat2)"
   ]
  },
  {
   "cell_type": "code",
   "execution_count": null,
   "metadata": {},
   "outputs": [],
   "source": [
    "cc = 'cases_nonlin'\n",
    "clus0 = [i for i,x in enumerate(res[cc].clus_labels) if x==0]\n",
    "\n",
    "count0 = [countries[i] for i in clus0]\n",
    "plot_all(count0,dat1,dat2)"
   ]
  },
  {
   "cell_type": "code",
   "execution_count": null,
   "metadata": {},
   "outputs": [],
   "source": [
    "cc = 'cases_nonlin'\n",
    "clus = [i for i,x in enumerate(res[cc].clus_labels) if x==1]\n",
    "\n",
    "count = [countries[i] for i in clus]\n",
    "plot_all(count,dat1,dat2)"
   ]
  },
  {
   "cell_type": "code",
   "execution_count": null,
   "metadata": {},
   "outputs": [],
   "source": [
    "cc = 'cases_nonlin'\n",
    "clus = [i for i,x in enumerate(res[cc].clus_labels) if x==2]\n",
    "\n",
    "count = [countries[i] for i in clus]\n",
    "plot_all(count,dat1,dat2)"
   ]
  },
  {
   "cell_type": "markdown",
   "metadata": {},
   "source": [
    "# Hdbscan on raw data"
   ]
  },
  {
   "cell_type": "code",
   "execution_count": null,
   "metadata": {},
   "outputs": [],
   "source": []
  },
  {
   "cell_type": "code",
   "execution_count": null,
   "metadata": {},
   "outputs": [],
   "source": [
    "foo = list(range(10))\n",
    "foo[3]='red'\n",
    "foo"
   ]
  },
  {
   "cell_type": "code",
   "execution_count": null,
   "metadata": {},
   "outputs": [],
   "source": [
    "foodeath = ClusterFit(clusdata_all['deaths'])\n"
   ]
  },
  {
   "cell_type": "code",
   "execution_count": null,
   "metadata": {},
   "outputs": [],
   "source": [
    "foodeath.hdbscan()"
   ]
  },
  {
   "cell_type": "code",
   "execution_count": null,
   "metadata": {},
   "outputs": [],
   "source": [
    "foodeath.umap(n_neighbors=4)"
   ]
  },
  {
   "cell_type": "code",
   "execution_count": null,
   "metadata": {},
   "outputs": [],
   "source": [
    "len(foodeath.clus_labels)"
   ]
  },
  {
   "cell_type": "code",
   "execution_count": null,
   "metadata": {},
   "outputs": [],
   "source": [
    "foodeath.clus_labels"
   ]
  },
  {
   "cell_type": "code",
   "execution_count": null,
   "metadata": {},
   "outputs": [],
   "source": [
    "foodeath.plot_umap()"
   ]
  },
  {
   "cell_type": "markdown",
   "metadata": {},
   "source": [
    "# hdbscan on raw PCA"
   ]
  },
  {
   "cell_type": "code",
   "execution_count": null,
   "metadata": {},
   "outputs": [],
   "source": [
    "foodeath = ClusterFit(clusdata_all['deaths'])\n"
   ]
  },
  {
   "cell_type": "code",
   "execution_count": null,
   "metadata": {},
   "outputs": [],
   "source": [
    "foodeath.hdbscan_pca()"
   ]
  },
  {
   "cell_type": "code",
   "execution_count": null,
   "metadata": {},
   "outputs": [],
   "source": [
    "foodeath.umap(n_neighbors=4)"
   ]
  },
  {
   "cell_type": "code",
   "execution_count": null,
   "metadata": {},
   "outputs": [],
   "source": [
    "len(foodeath.clus_labels)"
   ]
  },
  {
   "cell_type": "code",
   "execution_count": null,
   "metadata": {},
   "outputs": [],
   "source": [
    "foodeath.clus_labels"
   ]
  },
  {
   "cell_type": "code",
   "execution_count": null,
   "metadata": {},
   "outputs": [],
   "source": [
    "foodeath.plot_umap()"
   ]
  },
  {
   "cell_type": "markdown",
   "metadata": {},
   "source": [
    "# FPCA"
   ]
  },
  {
   "cell_type": "markdown",
   "metadata": {},
   "source": [
    "[Example](https://fda.readthedocs.io/en/latest/auto_examples/plot_fpca.html#sphx-glr-auto-examples-plot-fpca-py) of FPCA...\n",
    "\n",
    "Also: see same example in the fpca_example notebook.\n",
    "\n",
    "Also:  see [documentation](https://fda.readthedocs.io/en/latest/modules/preprocessing/dim_reduction/autosummary/skfda.preprocessing.dim_reduction.projection.FPCA.html?highlight=fpca) for FPCA."
   ]
  },
  {
   "cell_type": "markdown",
   "metadata": {},
   "source": [
    "## Using raw data (as discrete samples)"
   ]
  },
  {
   "cell_type": "markdown",
   "metadata": {},
   "source": [
    "### Preliminary scratch..."
   ]
  },
  {
   "cell_type": "code",
   "execution_count": null,
   "metadata": {},
   "outputs": [],
   "source": [
    "dat = foodeath.dat"
   ]
  },
  {
   "cell_type": "code",
   "execution_count": null,
   "metadata": {},
   "outputs": [],
   "source": [
    "foodeath.fitted.shape"
   ]
  },
  {
   "cell_type": "code",
   "execution_count": null,
   "metadata": {},
   "outputs": [],
   "source": [
    "dat.shape"
   ]
  },
  {
   "cell_type": "code",
   "execution_count": 7,
   "metadata": {},
   "outputs": [],
   "source": [
    "import skfda\n",
    "from skfda.datasets import fetch_growth\n",
    "from skfda.exploratory.visualization import plot_fpca_perturbation_graphs\n",
    "from skfda.preprocessing.dim_reduction.projection import FPCA\n",
    "from skfda.representation.basis import BSpline, Fourier, Monomial\n",
    "\n"
   ]
  },
  {
   "cell_type": "code",
   "execution_count": null,
   "metadata": {},
   "outputs": [],
   "source": [
    "len(dat[0])"
   ]
  },
  {
   "cell_type": "markdown",
   "metadata": {},
   "source": [
    "Configure data a samples of a function on a grid, specify the grid as list of days:"
   ]
  },
  {
   "cell_type": "code",
   "execution_count": null,
   "metadata": {},
   "outputs": [],
   "source": [
    "dat_disc = skfda.representation.grid.FDataGrid(dat,list(range(len(dat[0]))))"
   ]
  },
  {
   "cell_type": "code",
   "execution_count": null,
   "metadata": {},
   "outputs": [],
   "source": [
    "len(dat_disc)"
   ]
  },
  {
   "cell_type": "code",
   "execution_count": null,
   "metadata": {},
   "outputs": [],
   "source": [
    "dat_disc.plot()"
   ]
  },
  {
   "cell_type": "code",
   "execution_count": null,
   "metadata": {},
   "outputs": [],
   "source": [
    "idx = [i for i,x in enumerate(countries) if x==\"Spain\"][0]\n",
    "dat_disc[idx].plot()\n",
    "plt.title(countries[idx])"
   ]
  },
  {
   "cell_type": "code",
   "execution_count": null,
   "metadata": {},
   "outputs": [],
   "source": [
    "fpca_disc = FPCA(n_components=10)\n",
    "fpca_disc.fit(dat_disc)\n",
    "fpca_disc.components_.plot()\n"
   ]
  },
  {
   "cell_type": "code",
   "execution_count": null,
   "metadata": {
    "scrolled": false
   },
   "outputs": [],
   "source": [
    "max_cols = 5\n",
    "max_rows = len(fpca_disc.components_) // max_cols\n",
    "#fig, axes = plt.subplots(nrows=max_rows, ncols=max_cols, figsize=(20,max_rows*3.5))\n",
    "for i in range(len(fpca_disc.components_)):\n",
    "    row = i // max_cols\n",
    "    col = i % max_cols\n",
    "    #axes[row, col].axis(\"off\")\n",
    "    fpca_disc.components_[i].plot()\n"
   ]
  },
  {
   "cell_type": "code",
   "execution_count": null,
   "metadata": {},
   "outputs": [],
   "source": [
    "foo = fpca_disc.transform(dat_disc)"
   ]
  },
  {
   "cell_type": "code",
   "execution_count": null,
   "metadata": {},
   "outputs": [],
   "source": [
    "[x for x in dir(fpca_disc) if 'transform' in x]"
   ]
  },
  {
   "cell_type": "code",
   "execution_count": null,
   "metadata": {},
   "outputs": [],
   "source": [
    "type(foo)"
   ]
  },
  {
   "cell_type": "code",
   "execution_count": null,
   "metadata": {},
   "outputs": [],
   "source": [
    "foo.shape"
   ]
  },
  {
   "cell_type": "code",
   "execution_count": null,
   "metadata": {},
   "outputs": [],
   "source": [
    "foo.shape"
   ]
  },
  {
   "cell_type": "code",
   "execution_count": null,
   "metadata": {
    "scrolled": false
   },
   "outputs": [],
   "source": [
    "for minc in range(2,8):\n",
    "    for ncomp in range(5,11):\n",
    "        fpca_disc = FPCA(n_components=ncomp)\n",
    "        fpca_disc.fit(dat_disc)\n",
    "        foo = fpca_disc.transform(dat_disc)\n",
    "        clusterer = hdbscan.HDBSCAN(min_cluster_size=minc)\n",
    "        labels = clusterer.fit_predict(foo)\n",
    "        try:\n",
    "            validity = hdbscan.validity.validity_index(foo, labels)\n",
    "            print('hdbscan_min_clus=',minc,':  ',ncomp ,'FPCAcomponents:  ',\n",
    "                  len(set([x for x in labels if x>-1])),'clusters;  ',\n",
    "                  sum([1 for x in labels if x>-1]),'clustered;  ',sum([1 for x in labels if x==-1]),'unclustered; ','validity =',np.round(validity,3))\n",
    "        except:\n",
    "            validity=None\n",
    "\n",
    "            print('hdbscan_min_clus=',minc,':  ',ncomp ,'FPCAcomponents:  ',\n",
    "              len(set([x for x in labels if x>-1])),'clusters;  ',\n",
    "              sum([1 for x in labels if x>-1]),'clustered;  ',sum([1 for x in labels if x==-1]),'unclustered; ','validity =',validity)\n",
    "        #print(labels)\n",
    "\n",
    "    print('--------------------------')"
   ]
  },
  {
   "cell_type": "code",
   "execution_count": null,
   "metadata": {},
   "outputs": [],
   "source": [
    "min_samples = 3\n",
    "for minc in range(2,8):\n",
    "    for ncomp in range(3,11):\n",
    "        fpca_disc = FPCA(n_components=ncomp)\n",
    "        fpca_disc.fit(dat_disc)\n",
    "        foo = fpca_disc.transform(dat_disc)\n",
    "        clusterer = hdbscan.HDBSCAN(min_cluster_size=minc,min_samples=min_samples)\n",
    "        labels = clusterer.fit_predict(foo)\n",
    "        try:\n",
    "            validity = hdbscan.validity.validity_index(foo, labels)\n",
    "            print('hdbscan_min_clus=',minc,':  ',ncomp ,'FPCAcomponents:  ',\n",
    "                  len(set([x for x in labels if x>-1])),'clusters;  ',\n",
    "                  sum([1 for x in labels if x>-1]),'clustered;  ',sum([1 for x in labels if x==-1]),'unclustered; ','validity =',np.round(validity,3))\n",
    "        except:\n",
    "            validity=None\n",
    "\n",
    "            print('hdbscan_min_clus=',minc,':  ',ncomp ,'FPCAcomponents:  ',\n",
    "              len(set([x for x in labels if x>-1])),'clusters;  ',\n",
    "              sum([1 for x in labels if x>-1]),'clustered;  ',sum([1 for x in labels if x==-1]),'unclustered; ','validity =',validity)\n",
    "        #print(labels)\n",
    "\n",
    "    print('--------------------------')"
   ]
  },
  {
   "cell_type": "code",
   "execution_count": null,
   "metadata": {},
   "outputs": [],
   "source": [
    "labels"
   ]
  },
  {
   "cell_type": "markdown",
   "metadata": {},
   "source": [
    "### integrated into ClusterFit"
   ]
  },
  {
   "cell_type": "code",
   "execution_count": null,
   "metadata": {},
   "outputs": [],
   "source": [
    "foo = ClusterFit(clusdata_all['deaths'])"
   ]
  },
  {
   "cell_type": "code",
   "execution_count": null,
   "metadata": {},
   "outputs": [],
   "source": [
    "foo.hdbscan_fpca()"
   ]
  },
  {
   "cell_type": "code",
   "execution_count": null,
   "metadata": {},
   "outputs": [],
   "source": [
    "foo.umap()\n",
    "foo.plot_umap()"
   ]
  },
  {
   "cell_type": "markdown",
   "metadata": {},
   "source": [
    "### Cases"
   ]
  },
  {
   "cell_type": "code",
   "execution_count": null,
   "metadata": {},
   "outputs": [],
   "source": [
    "foocases = ClusterFit(clusdata_all['cases'])\n",
    "dat = foocases.dat\n",
    "dat_disc = skfda.representation.grid.FDataGrid(dat,list(range(len(dat[0]))))\n",
    "foo = fpca_disc.transform(dat_disc)"
   ]
  },
  {
   "cell_type": "code",
   "execution_count": null,
   "metadata": {},
   "outputs": [],
   "source": [
    "min_samples = 4\n",
    "for minc in range(2,8):\n",
    "    for ncomp in range(3,11):\n",
    "        fpca_disc = FPCA(n_components=ncomp)\n",
    "        fpca_disc.fit(dat_disc)\n",
    "        foo = fpca_disc.transform(dat_disc)\n",
    "        clusterer = hdbscan.HDBSCAN(min_cluster_size=minc,min_samples=min_samples)\n",
    "        labels = clusterer.fit_predict(foo)\n",
    "        try:\n",
    "            validity = hdbscan.validity.validity_index(foo, labels)\n",
    "            print('hdbscan_min_clus=',minc,':  ',ncomp ,'FPCAcomponents:  ',\n",
    "                  len(set([x for x in labels if x>-1])),'clusters;  ',\n",
    "                  sum([1 for x in labels if x>-1]),'clustered;  ',sum([1 for x in labels if x==-1]),'unclustered; ','validity =',np.round(validity,3))\n",
    "        except:\n",
    "            validity=None\n",
    "\n",
    "            print('hdbscan_min_clus=',minc,':  ',ncomp ,'FPCAcomponents:  ',\n",
    "              len(set([x for x in labels if x>-1])),'clusters;  ',\n",
    "              sum([1 for x in labels if x>-1]),'clustered;  ',sum([1 for x in labels if x==-1]),'unclustered; ','validity =',validity)\n",
    "        #print(labels)\n",
    "\n",
    "    print('--------------------------')"
   ]
  },
  {
   "cell_type": "markdown",
   "metadata": {},
   "source": [
    "### Cases adj_nonlin"
   ]
  },
  {
   "cell_type": "code",
   "execution_count": null,
   "metadata": {},
   "outputs": [],
   "source": [
    "cases = [c for c in clusdata_all]\n",
    "cases"
   ]
  },
  {
   "cell_type": "code",
   "execution_count": 13,
   "metadata": {},
   "outputs": [],
   "source": [
    "foocases_nonlin = ClusterFit(clusdata_all['cases_nonlin'])\n",
    "dat = foocases_nonlin.dat\n",
    "dat_disc = skfda.representation.grid.FDataGrid(dat,list(range(len(dat[0]))))\n",
    "foo = fpca_disc.transform(dat_disc)"
   ]
  },
  {
   "cell_type": "code",
   "execution_count": 14,
   "metadata": {},
   "outputs": [
    {
     "name": "stdout",
     "output_type": "stream",
     "text": [
      "hdbscan_min_clus= 2 :   3 FPCAcomponents:   4 clusters;   45 clustered;   14 unclustered;  validity = 0.49264\n",
      "hdbscan_min_clus= 2 :   4 FPCAcomponents:   5 clusters;   43 clustered;   16 unclustered;  validity = None\n",
      "hdbscan_min_clus= 2 :   5 FPCAcomponents:   4 clusters;   44 clustered;   15 unclustered;  validity = 0.42067\n",
      "hdbscan_min_clus= 2 :   6 FPCAcomponents:   4 clusters;   40 clustered;   19 unclustered;  validity = 0.37563\n",
      "hdbscan_min_clus= 2 :   7 FPCAcomponents:   6 clusters;   38 clustered;   21 unclustered;  validity = None\n",
      "hdbscan_min_clus= 2 :   8 FPCAcomponents:   5 clusters;   35 clustered;   24 unclustered;  validity = None\n",
      "hdbscan_min_clus= 2 :   9 FPCAcomponents:   5 clusters;   35 clustered;   24 unclustered;  validity = None\n",
      "hdbscan_min_clus= 2 :   10 FPCAcomponents:   4 clusters;   39 clustered;   20 unclustered;  validity = None\n",
      "hdbscan_min_clus= 2 :   11 FPCAcomponents:   5 clusters;   40 clustered;   19 unclustered;  validity = None\n",
      "hdbscan_min_clus= 2 :   12 FPCAcomponents:   6 clusters;   38 clustered;   21 unclustered;  validity = None\n",
      "hdbscan_min_clus= 2 :   13 FPCAcomponents:   4 clusters;   42 clustered;   17 unclustered;  validity = None\n",
      "hdbscan_min_clus= 2 :   14 FPCAcomponents:   6 clusters;   38 clustered;   21 unclustered;  validity = None\n",
      "hdbscan_min_clus= 2 :   15 FPCAcomponents:   6 clusters;   38 clustered;   21 unclustered;  validity = None\n",
      "--------------------------\n",
      "hdbscan_min_clus= 3 :   3 FPCAcomponents:   4 clusters;   45 clustered;   14 unclustered;  validity = 0.49264\n",
      "hdbscan_min_clus= 3 :   4 FPCAcomponents:   4 clusters;   41 clustered;   18 unclustered;  validity = 0.45394\n",
      "hdbscan_min_clus= 3 :   5 FPCAcomponents:   4 clusters;   44 clustered;   15 unclustered;  validity = 0.42067\n",
      "hdbscan_min_clus= 3 :   6 FPCAcomponents:   4 clusters;   40 clustered;   19 unclustered;  validity = 0.37563\n",
      "hdbscan_min_clus= 3 :   7 FPCAcomponents:   4 clusters;   38 clustered;   21 unclustered;  validity = 0.32253\n",
      "hdbscan_min_clus= 3 :   8 FPCAcomponents:   3 clusters;   41 clustered;   18 unclustered;  validity = 0.23241\n",
      "hdbscan_min_clus= 3 :   9 FPCAcomponents:   3 clusters;   41 clustered;   18 unclustered;  validity = 0.38105\n",
      "hdbscan_min_clus= 3 :   10 FPCAcomponents:   3 clusters;   42 clustered;   17 unclustered;  validity = 0.2899\n",
      "hdbscan_min_clus= 3 :   11 FPCAcomponents:   3 clusters;   43 clustered;   16 unclustered;  validity = 0.32117\n",
      "hdbscan_min_clus= 3 :   12 FPCAcomponents:   4 clusters;   42 clustered;   17 unclustered;  validity = 0.33657\n",
      "hdbscan_min_clus= 3 :   13 FPCAcomponents:   3 clusters;   43 clustered;   16 unclustered;  validity = 0.3951\n",
      "hdbscan_min_clus= 3 :   14 FPCAcomponents:   3 clusters;   43 clustered;   16 unclustered;  validity = 0.31959\n",
      "hdbscan_min_clus= 3 :   15 FPCAcomponents:   3 clusters;   43 clustered;   16 unclustered;  validity = 0.32159\n",
      "--------------------------\n",
      "hdbscan_min_clus= 4 :   3 FPCAcomponents:   4 clusters;   45 clustered;   14 unclustered;  validity = 0.49264\n",
      "hdbscan_min_clus= 4 :   4 FPCAcomponents:   4 clusters;   41 clustered;   18 unclustered;  validity = 0.45394\n",
      "hdbscan_min_clus= 4 :   5 FPCAcomponents:   4 clusters;   44 clustered;   15 unclustered;  validity = 0.42067\n",
      "hdbscan_min_clus= 4 :   6 FPCAcomponents:   4 clusters;   40 clustered;   19 unclustered;  validity = 0.37563\n",
      "hdbscan_min_clus= 4 :   7 FPCAcomponents:   3 clusters;   40 clustered;   19 unclustered;  validity = 0.28343\n",
      "hdbscan_min_clus= 4 :   8 FPCAcomponents:   3 clusters;   41 clustered;   18 unclustered;  validity = 0.23241\n",
      "hdbscan_min_clus= 4 :   9 FPCAcomponents:   3 clusters;   41 clustered;   18 unclustered;  validity = 0.38105\n",
      "hdbscan_min_clus= 4 :   10 FPCAcomponents:   3 clusters;   42 clustered;   17 unclustered;  validity = 0.2899\n",
      "hdbscan_min_clus= 4 :   11 FPCAcomponents:   3 clusters;   43 clustered;   16 unclustered;  validity = 0.32117\n",
      "hdbscan_min_clus= 4 :   12 FPCAcomponents:   3 clusters;   43 clustered;   16 unclustered;  validity = 0.32319\n",
      "hdbscan_min_clus= 4 :   13 FPCAcomponents:   3 clusters;   43 clustered;   16 unclustered;  validity = 0.3951\n",
      "hdbscan_min_clus= 4 :   14 FPCAcomponents:   3 clusters;   43 clustered;   16 unclustered;  validity = 0.31959\n",
      "hdbscan_min_clus= 4 :   15 FPCAcomponents:   3 clusters;   43 clustered;   16 unclustered;  validity = 0.32159\n",
      "--------------------------\n",
      "hdbscan_min_clus= 5 :   3 FPCAcomponents:   3 clusters;   50 clustered;   9 unclustered;  validity = 0.46205\n",
      "hdbscan_min_clus= 5 :   4 FPCAcomponents:   4 clusters;   41 clustered;   18 unclustered;  validity = 0.45394\n",
      "hdbscan_min_clus= 5 :   5 FPCAcomponents:   4 clusters;   44 clustered;   15 unclustered;  validity = 0.42067\n",
      "hdbscan_min_clus= 5 :   6 FPCAcomponents:   4 clusters;   40 clustered;   19 unclustered;  validity = 0.37563\n",
      "hdbscan_min_clus= 5 :   7 FPCAcomponents:   3 clusters;   40 clustered;   19 unclustered;  validity = 0.28343\n",
      "hdbscan_min_clus= 5 :   8 FPCAcomponents:   3 clusters;   41 clustered;   18 unclustered;  validity = 0.23241\n",
      "hdbscan_min_clus= 5 :   9 FPCAcomponents:   3 clusters;   41 clustered;   18 unclustered;  validity = 0.38105\n",
      "hdbscan_min_clus= 5 :   10 FPCAcomponents:   3 clusters;   42 clustered;   17 unclustered;  validity = 0.2899\n",
      "hdbscan_min_clus= 5 :   11 FPCAcomponents:   3 clusters;   43 clustered;   16 unclustered;  validity = 0.32117\n",
      "hdbscan_min_clus= 5 :   12 FPCAcomponents:   3 clusters;   43 clustered;   16 unclustered;  validity = 0.32319\n",
      "hdbscan_min_clus= 5 :   13 FPCAcomponents:   3 clusters;   43 clustered;   16 unclustered;  validity = 0.3951\n",
      "hdbscan_min_clus= 5 :   14 FPCAcomponents:   3 clusters;   43 clustered;   16 unclustered;  validity = 0.31959\n",
      "hdbscan_min_clus= 5 :   15 FPCAcomponents:   3 clusters;   43 clustered;   16 unclustered;  validity = 0.32159\n",
      "--------------------------\n",
      "hdbscan_min_clus= 6 :   3 FPCAcomponents:   3 clusters;   50 clustered;   9 unclustered;  validity = 0.46205\n",
      "hdbscan_min_clus= 6 :   4 FPCAcomponents:   4 clusters;   41 clustered;   18 unclustered;  validity = 0.45394\n",
      "hdbscan_min_clus= 6 :   5 FPCAcomponents:   3 clusters;   45 clustered;   14 unclustered;  validity = 0.45763\n",
      "hdbscan_min_clus= 6 :   6 FPCAcomponents:   2 clusters;   36 clustered;   23 unclustered;  validity = 0.35278\n",
      "hdbscan_min_clus= 6 :   7 FPCAcomponents:   2 clusters;   35 clustered;   24 unclustered;  validity = 0.22706\n",
      "hdbscan_min_clus= 6 :   8 FPCAcomponents:   2 clusters;   36 clustered;   23 unclustered;  validity = 0.17714\n",
      "hdbscan_min_clus= 6 :   9 FPCAcomponents:   2 clusters;   36 clustered;   23 unclustered;  validity = 0.34424\n",
      "hdbscan_min_clus= 6 :   10 FPCAcomponents:   3 clusters;   42 clustered;   17 unclustered;  validity = 0.2899\n",
      "hdbscan_min_clus= 6 :   11 FPCAcomponents:   3 clusters;   43 clustered;   16 unclustered;  validity = 0.32117\n",
      "hdbscan_min_clus= 6 :   12 FPCAcomponents:   3 clusters;   43 clustered;   16 unclustered;  validity = 0.32319\n",
      "hdbscan_min_clus= 6 :   13 FPCAcomponents:   3 clusters;   43 clustered;   16 unclustered;  validity = 0.3951\n",
      "hdbscan_min_clus= 6 :   14 FPCAcomponents:   3 clusters;   43 clustered;   16 unclustered;  validity = 0.31959\n",
      "hdbscan_min_clus= 6 :   15 FPCAcomponents:   3 clusters;   43 clustered;   16 unclustered;  validity = 0.32159\n",
      "--------------------------\n",
      "hdbscan_min_clus= 7 :   3 FPCAcomponents:   3 clusters;   50 clustered;   9 unclustered;  validity = 0.46205\n",
      "hdbscan_min_clus= 7 :   4 FPCAcomponents:   3 clusters;   44 clustered;   15 unclustered;  validity = 0.29419\n",
      "hdbscan_min_clus= 7 :   5 FPCAcomponents:   3 clusters;   45 clustered;   14 unclustered;  validity = 0.45763\n",
      "hdbscan_min_clus= 7 :   6 FPCAcomponents:   2 clusters;   36 clustered;   23 unclustered;  validity = 0.35278\n",
      "hdbscan_min_clus= 7 :   7 FPCAcomponents:   2 clusters;   35 clustered;   24 unclustered;  validity = 0.22706\n",
      "hdbscan_min_clus= 7 :   8 FPCAcomponents:   2 clusters;   36 clustered;   23 unclustered;  validity = 0.17714\n",
      "hdbscan_min_clus= 7 :   9 FPCAcomponents:   2 clusters;   36 clustered;   23 unclustered;  validity = 0.34424\n",
      "hdbscan_min_clus= 7 :   10 FPCAcomponents:   2 clusters;   36 clustered;   23 unclustered;  validity = 0.23851\n",
      "hdbscan_min_clus= 7 :   11 FPCAcomponents:   3 clusters;   43 clustered;   16 unclustered;  validity = 0.32117\n",
      "hdbscan_min_clus= 7 :   12 FPCAcomponents:   3 clusters;   43 clustered;   16 unclustered;  validity = 0.32319\n",
      "hdbscan_min_clus= 7 :   13 FPCAcomponents:   3 clusters;   43 clustered;   16 unclustered;  validity = 0.3951\n",
      "hdbscan_min_clus= 7 :   14 FPCAcomponents:   3 clusters;   43 clustered;   16 unclustered;  validity = 0.31959\n",
      "hdbscan_min_clus= 7 :   15 FPCAcomponents:   3 clusters;   43 clustered;   16 unclustered;  validity = 0.32159\n",
      "--------------------------\n"
     ]
    }
   ],
   "source": [
    "min_samples = 3\n",
    "for minc in range(2,8):\n",
    "    for ncomp in range(3,16):\n",
    "        fpca_disc = FPCA(n_components=ncomp)\n",
    "        fpca_disc.fit(dat_disc)\n",
    "        foo = fpca_disc.transform(dat_disc)\n",
    "        clusterer = hdbscan.HDBSCAN(min_cluster_size=minc,min_samples=min_samples,gen_min_span_tree=True)\n",
    "        labels = clusterer.fit_predict(foo)\n",
    "        try:\n",
    "            validity = hdbscan.validity.validity_index(foo, labels)\n",
    "            print('hdbscan_min_clus=',minc,':  ',ncomp ,'FPCAcomponents:  ',\n",
    "                  len(set([x for x in labels if x>-1])),'clusters;  ',\n",
    "                  sum([1 for x in labels if x>-1]),'clustered;  ',sum([1 for x in labels if x==-1]),'unclustered; ','validity =',np.round(validity,5))\n",
    "        except:\n",
    "            validity=None\n",
    "\n",
    "            print('hdbscan_min_clus=',minc,':  ',ncomp ,'FPCAcomponents:  ',\n",
    "              len(set([x for x in labels if x>-1])),'clusters;  ',\n",
    "              sum([1 for x in labels if x>-1]),'clustered;  ',sum([1 for x in labels if x==-1]),'unclustered; ','validity =',validity)\n",
    "        #print(labels)\n",
    "\n",
    "    print('--------------------------')"
   ]
  },
  {
   "cell_type": "markdown",
   "metadata": {},
   "source": [
    "### Conclusions"
   ]
  },
  {
   "cell_type": "markdown",
   "metadata": {},
   "source": [
    "* N_components = 5 seems to be swee spot (high validity, with 6 unclustered)\n",
    "* N_components = 4 can have higher validity, but 12 unclustered\n",
    "* Note min_cluster_size doesn't seem to make a bit difference in the validity profile, once > 3\n",
    "* Validity same for 5 decimal places probably means clustering is identical.\n",
    "\n",
    "**Suggested 'canonical' hyperparams:**\n",
    "* hdbscan min_samples = 3\n",
    "* hdbscan min_cluster_size = 3\n",
    "* FPCA N_components = 5\n",
    "\n"
   ]
  },
  {
   "cell_type": "markdown",
   "metadata": {},
   "source": [
    "### Scan with 3 scorings to compute best cluster, saving results for comparison"
   ]
  },
  {
   "cell_type": "code",
   "execution_count": 237,
   "metadata": {},
   "outputs": [
    {
     "name": "stdout",
     "output_type": "stream",
     "text": [
      "---------------------------------------------------------\n",
      "hdbscan:  3 minc:   2 mins:   3 FPCAcomponents:   4 clusters;   52 clustered;   7 unclustered;  validity = 0.468 score1: 3.537 score2: 4.274\n",
      "hdbscan:  3 minc:   2 mins:   4 FPCAcomponents:   4 clusters;   48 clustered;   11 unclustered;  validity = 0.44951 score1: 4.425 score2: 4.449\n",
      "hdbscan:  3 minc:   2 mins:   5 FPCAcomponents:   5 clusters;   42 clustered;   17 unclustered;  validity = 0.34693 score1: 6.782 score2: 7.206\n",
      "hdbscan:  3 minc:   2 mins:   6 FPCAcomponents:   4 clusters;   43 clustered;   16 unclustered;  validity = 0.39354 score1: 5.741 score2: 5.082\n",
      "hdbscan:  3 minc:   2 mins:   7 FPCAcomponents:   5 clusters;   39 clustered;   20 unclustered;  validity = 0.36531 score1: 7.237 score2: 6.843\n",
      "hdbscan:  3 minc:   2 mins:   8 FPCAcomponents:   4 clusters;   43 clustered;   16 unclustered;  validity = 0.32692 score1: 6.259 score2: 6.118\n",
      "hdbscan:  3 minc:   2 mins:   9 FPCAcomponents:   4 clusters;   41 clustered;   18 unclustered;  validity = 0.38937 score1: 6.168 score2: 5.137\n",
      "hdbscan:  3 minc:   2 mins:   10 FPCAcomponents:   5 clusters;   39 clustered;   20 unclustered;  validity = 0.33 score1: 7.53 score2: 7.576\n",
      "hdbscan:  3 minc:   2 mins:   11 FPCAcomponents:   4 clusters;   42 clustered;   17 unclustered;  validity = 0.4284 score1: 5.734 score2: 4.669\n",
      "hdbscan:  3 minc:   2 mins:   12 FPCAcomponents:   5 clusters;   40 clustered;   19 unclustered;  validity = 0.32566 score1: 7.371 score2: 7.677\n",
      "hdbscan:  3 minc:   2 mins:   15 FPCAcomponents:   5 clusters;   40 clustered;   19 unclustered;  validity = 0.32384 score1: 7.388 score2: 7.72\n",
      "--------------------------\n",
      "hdbscan:  4 minc:   2 mins:   3 FPCAcomponents:   4 clusters;   52 clustered;   7 unclustered;  validity = None\n",
      "hdbscan:  4 minc:   2 mins:   4 FPCAcomponents:   4 clusters;   48 clustered;   11 unclustered;  validity = 0.44951 score1: 4.425 score2: 4.449\n",
      "hdbscan:  4 minc:   2 mins:   5 FPCAcomponents:   4 clusters;   45 clustered;   14 unclustered;  validity = 0.33963 score1: 5.744 score2: 5.889\n",
      "hdbscan:  4 minc:   2 mins:   6 FPCAcomponents:   4 clusters;   43 clustered;   16 unclustered;  validity = 0.39354 score1: 5.741 score2: 5.082\n",
      "hdbscan:  4 minc:   2 mins:   7 FPCAcomponents:   4 clusters;   43 clustered;   16 unclustered;  validity = 0.36566 score1: 5.935 score2: 5.47\n",
      "hdbscan:  4 minc:   2 mins:   8 FPCAcomponents:   4 clusters;   43 clustered;   16 unclustered;  validity = 0.32692 score1: 6.259 score2: 6.118\n",
      "hdbscan:  4 minc:   2 mins:   9 FPCAcomponents:   4 clusters;   41 clustered;   18 unclustered;  validity = 0.38937 score1: 6.168 score2: 5.137\n",
      "hdbscan:  4 minc:   2 mins:   10 FPCAcomponents:   4 clusters;   42 clustered;   17 unclustered;  validity = 0.40091 score1: 5.894 score2: 4.989\n",
      "hdbscan:  4 minc:   2 mins:   11 FPCAcomponents:   4 clusters;   42 clustered;   17 unclustered;  validity = 0.4284 score1: 5.734 score2: 4.669\n",
      "hdbscan:  4 minc:   2 mins:   12 FPCAcomponents:   4 clusters;   43 clustered;   16 unclustered;  validity = 0.41431 score1: 5.614 score2: 4.827\n",
      "hdbscan:  4 minc:   2 mins:   15 FPCAcomponents:   4 clusters;   43 clustered;   16 unclustered;  validity = 0.4095 score1: 5.642 score2: 4.884\n",
      "--------------------------\n",
      "hdbscan:  5 minc:   2 mins:   3 FPCAcomponents:   4 clusters;   52 clustered;   7 unclustered;  validity = None\n",
      "hdbscan:  5 minc:   2 mins:   4 FPCAcomponents:   4 clusters;   48 clustered;   11 unclustered;  validity = 0.44951 score1: 4.425 score2: 4.449\n",
      "hdbscan:  5 minc:   2 mins:   5 FPCAcomponents:   4 clusters;   45 clustered;   14 unclustered;  validity = 0.33963 score1: 5.744 score2: 5.889\n",
      "hdbscan:  5 minc:   2 mins:   6 FPCAcomponents:   4 clusters;   43 clustered;   16 unclustered;  validity = 0.39354 score1: 5.741 score2: 5.082\n",
      "hdbscan:  5 minc:   2 mins:   7 FPCAcomponents:   4 clusters;   43 clustered;   16 unclustered;  validity = 0.36566 score1: 5.935 score2: 5.47\n",
      "hdbscan:  5 minc:   2 mins:   8 FPCAcomponents:   4 clusters;   43 clustered;   16 unclustered;  validity = 0.32692 score1: 6.259 score2: 6.118\n",
      "hdbscan:  5 minc:   2 mins:   9 FPCAcomponents:   3 clusters;   47 clustered;   12 unclustered;  validity = 0.29124 score1: 6.334 score2: 8.584\n",
      "hdbscan:  5 minc:   2 mins:   10 FPCAcomponents:   3 clusters;   47 clustered;   12 unclustered;  validity = 0.43491 score1: 5.199 score2: 5.748\n",
      "hdbscan:  5 minc:   2 mins:   11 FPCAcomponents:   4 clusters;   42 clustered;   17 unclustered;  validity = 0.4284 score1: 5.734 score2: 4.669\n",
      "hdbscan:  5 minc:   2 mins:   12 FPCAcomponents:   3 clusters;   47 clustered;   12 unclustered;  validity = 0.44081 score1: 5.169 score2: 5.671\n",
      "hdbscan:  5 minc:   2 mins:   15 FPCAcomponents:   3 clusters;   47 clustered;   12 unclustered;  validity = 0.41303 score1: 5.321 score2: 6.053\n",
      "--------------------------\n",
      "hdbscan:  6 minc:   2 mins:   3 FPCAcomponents:   4 clusters;   52 clustered;   7 unclustered;  validity = None\n",
      "hdbscan:  6 minc:   2 mins:   4 FPCAcomponents:   4 clusters;   48 clustered;   11 unclustered;  validity = 0.44951 score1: 4.425 score2: 4.449\n",
      "hdbscan:  6 minc:   2 mins:   5 FPCAcomponents:   4 clusters;   45 clustered;   14 unclustered;  validity = 0.33963 score1: 5.744 score2: 5.889\n",
      "hdbscan:  6 minc:   2 mins:   6 FPCAcomponents:   3 clusters;   45 clustered;   14 unclustered;  validity = 0.4151 score1: 5.709 score2: 6.023\n",
      "hdbscan:  6 minc:   2 mins:   7 FPCAcomponents:   3 clusters;   45 clustered;   14 unclustered;  validity = 0.31737 score1: 6.451 score2: 7.877\n",
      "hdbscan:  6 minc:   2 mins:   8 FPCAcomponents:   3 clusters;   45 clustered;   14 unclustered;  validity = 0.28674 score1: 6.788 score2: 8.719\n",
      "hdbscan:  6 minc:   2 mins:   9 FPCAcomponents:   3 clusters;   47 clustered;   12 unclustered;  validity = 0.29124 score1: 6.334 score2: 8.584\n",
      "hdbscan:  6 minc:   2 mins:   10 FPCAcomponents:   3 clusters;   47 clustered;   12 unclustered;  validity = 0.43491 score1: 5.199 score2: 5.748\n",
      "hdbscan:  6 minc:   2 mins:   11 FPCAcomponents:   3 clusters;   46 clustered;   13 unclustered;  validity = 0.4287 score1: 5.433 score2: 5.832\n",
      "hdbscan:  6 minc:   2 mins:   12 FPCAcomponents:   3 clusters;   47 clustered;   12 unclustered;  validity = 0.44081 score1: 5.169 score2: 5.671\n",
      "hdbscan:  6 minc:   2 mins:   15 FPCAcomponents:   3 clusters;   47 clustered;   12 unclustered;  validity = 0.41303 score1: 5.321 score2: 6.053\n",
      "--------------------------\n",
      "hdbscan:  7 minc:   2 mins:   3 FPCAcomponents:   3 clusters;   56 clustered;   3 unclustered;  validity = 0.27556 score1: 4.729 score2: 9.072\n",
      "hdbscan:  7 minc:   2 mins:   4 FPCAcomponents:   4 clusters;   48 clustered;   11 unclustered;  validity = 0.44951 score1: 4.425 score2: 4.449\n",
      "hdbscan:  7 minc:   2 mins:   5 FPCAcomponents:   3 clusters;   47 clustered;   12 unclustered;  validity = 0.36305 score1: 5.654 score2: 6.886\n",
      "hdbscan:  7 minc:   2 mins:   6 FPCAcomponents:   3 clusters;   45 clustered;   14 unclustered;  validity = 0.4151 score1: 5.709 score2: 6.023\n",
      "hdbscan:  7 minc:   2 mins:   7 FPCAcomponents:   3 clusters;   45 clustered;   14 unclustered;  validity = 0.31737 score1: 6.451 score2: 7.877\n",
      "hdbscan:  7 minc:   2 mins:   8 FPCAcomponents:   3 clusters;   45 clustered;   14 unclustered;  validity = 0.28674 score1: 6.788 score2: 8.719\n",
      "hdbscan:  7 minc:   2 mins:   9 FPCAcomponents:   3 clusters;   47 clustered;   12 unclustered;  validity = 0.29124 score1: 6.334 score2: 8.584\n",
      "hdbscan:  7 minc:   2 mins:   10 FPCAcomponents:   3 clusters;   47 clustered;   12 unclustered;  validity = 0.43491 score1: 5.199 score2: 5.748\n",
      "hdbscan:  7 minc:   2 mins:   11 FPCAcomponents:   3 clusters;   46 clustered;   13 unclustered;  validity = 0.4287 score1: 5.433 score2: 5.832\n",
      "hdbscan:  7 minc:   2 mins:   12 FPCAcomponents:   3 clusters;   47 clustered;   12 unclustered;  validity = 0.44081 score1: 5.169 score2: 5.671\n",
      "hdbscan:  7 minc:   2 mins:   15 FPCAcomponents:   3 clusters;   47 clustered;   12 unclustered;  validity = 0.41303 score1: 5.321 score2: 6.053\n",
      "--------------------------\n",
      "hdbscan:  8 minc:   2 mins:   3 FPCAcomponents:   3 clusters;   56 clustered;   3 unclustered;  validity = 0.27556 score1: 4.729 score2: 9.072\n",
      "hdbscan:  8 minc:   2 mins:   4 FPCAcomponents:   2 clusters;   41 clustered;   18 unclustered;  validity = 0.38413 score1: 7.203 score2: 7.81\n",
      "hdbscan:  8 minc:   2 mins:   5 FPCAcomponents:   3 clusters;   47 clustered;   12 unclustered;  validity = 0.36305 score1: 5.654 score2: 6.886\n",
      "hdbscan:  8 minc:   2 mins:   6 FPCAcomponents:   2 clusters;   38 clustered;   21 unclustered;  validity = 0.35621 score1: 8.007 score2: 8.422\n",
      "hdbscan:  8 minc:   2 mins:   7 FPCAcomponents:   2 clusters;   38 clustered;   21 unclustered;  validity = 0.24137 score1: 9.343 score2: 12.429\n",
      "hdbscan:  8 minc:   2 mins:   8 FPCAcomponents:   2 clusters;   38 clustered;   21 unclustered;  validity = 0.24898 score1: 9.216 score2: 12.049\n",
      "hdbscan:  8 minc:   2 mins:   9 FPCAcomponents:   2 clusters;   40 clustered;   19 unclustered;  validity = 0.21588 score1: 9.432 score2: 13.896\n",
      "hdbscan:  8 minc:   2 mins:   10 FPCAcomponents:   2 clusters;   40 clustered;   19 unclustered;  validity = 0.38132 score1: 7.423 score2: 7.868\n",
      "hdbscan:  8 minc:   2 mins:   11 FPCAcomponents:   2 clusters;   39 clustered;   20 unclustered;  validity = 0.37193 score1: 7.689 score2: 8.066\n",
      "hdbscan:  8 minc:   2 mins:   12 FPCAcomponents:   3 clusters;   47 clustered;   12 unclustered;  validity = 0.44081 score1: 5.169 score2: 5.671\n",
      "hdbscan:  8 minc:   2 mins:   15 FPCAcomponents:   3 clusters;   47 clustered;   12 unclustered;  validity = 0.41303 score1: 5.321 score2: 6.053\n",
      "--------------------------\n",
      "hdbscan:  9 minc:   2 mins:   3 FPCAcomponents:   3 clusters;   56 clustered;   3 unclustered;  validity = 0.27556 score1: 4.729 score2: 9.072\n"
     ]
    },
    {
     "name": "stdout",
     "output_type": "stream",
     "text": [
      "hdbscan:  9 minc:   2 mins:   4 FPCAcomponents:   2 clusters;   41 clustered;   18 unclustered;  validity = 0.38413 score1: 7.203 score2: 7.81\n",
      "hdbscan:  9 minc:   2 mins:   5 FPCAcomponents:   2 clusters;   39 clustered;   20 unclustered;  validity = 0.38948 score1: 7.568 score2: 7.703\n",
      "hdbscan:  9 minc:   2 mins:   6 FPCAcomponents:   2 clusters;   38 clustered;   21 unclustered;  validity = 0.35621 score1: 8.007 score2: 8.422\n",
      "hdbscan:  9 minc:   2 mins:   7 FPCAcomponents:   2 clusters;   38 clustered;   21 unclustered;  validity = 0.24137 score1: 9.343 score2: 12.429\n",
      "hdbscan:  9 minc:   2 mins:   8 FPCAcomponents:   2 clusters;   38 clustered;   21 unclustered;  validity = 0.24898 score1: 9.216 score2: 12.049\n",
      "hdbscan:  9 minc:   2 mins:   9 FPCAcomponents:   2 clusters;   40 clustered;   19 unclustered;  validity = 0.21588 score1: 9.432 score2: 13.896\n",
      "hdbscan:  9 minc:   2 mins:   10 FPCAcomponents:   2 clusters;   40 clustered;   19 unclustered;  validity = 0.38132 score1: 7.423 score2: 7.868\n",
      "hdbscan:  9 minc:   2 mins:   11 FPCAcomponents:   2 clusters;   39 clustered;   20 unclustered;  validity = 0.37193 score1: 7.689 score2: 8.066\n",
      "hdbscan:  9 minc:   2 mins:   12 FPCAcomponents:   2 clusters;   39 clustered;   20 unclustered;  validity = 0.37366 score1: 7.676 score2: 8.029\n",
      "hdbscan:  9 minc:   2 mins:   15 FPCAcomponents:   2 clusters;   39 clustered;   20 unclustered;  validity = 0.33273 score1: 8.005 score2: 9.016\n",
      "--------------------------\n",
      "---------------------------------------------------------\n",
      "minc,min_samples,ncomp,nclus,nclustered,nunclustered,validity,score1,score2\n",
      "maxvalid  [(3, 2, 3, 4, 52, 7, 0.46799905400752884, 3.536756455887863, 4.273512911775726)]\n",
      "minscore1 [(3, 2, 3, 4, 52, 7, 0.46799905400752884, 3.536756455887863, 4.273512911775726)]\n",
      "minscore2 [(3, 2, 3, 4, 52, 7, 0.46799905400752884, 3.536756455887863, 4.273512911775726)]\n"
     ]
    }
   ],
   "source": [
    "maxvalid = []\n",
    "maxvalidval= 0.0\n",
    "minscore1 = []\n",
    "minscore1val = 999.\n",
    "minscore2 = []\n",
    "minscore2val = 999.\n",
    "print('---------------------------------------------------------')\n",
    "probdata=np.zeros((7*11,len(dat)),dtype=float)\n",
    "clusdata = np.zeros((7*11,len(countries)),dtype=np.integer)\n",
    "report = []\n",
    "count = 0\n",
    "for minc in range(3,10):\n",
    "    min_samples = 2\n",
    "    for ncomp in [3,4,5,6,7,8,9,10,11,12,15]:\n",
    "        fpca_disc = FPCA(n_components=ncomp)\n",
    "        fpca_disc.fit(dat_disc)\n",
    "        foo = fpca_disc.transform(dat_disc)\n",
    "        clusterer = hdbscan.HDBSCAN(min_cluster_size=minc,min_samples=min_samples,cluster_selection_epsilon=0)\n",
    "        labels = clusterer.fit_predict(foo)\n",
    "        nclus = len(set([x for x in labels if x>-1]))\n",
    "        nclustered = sum([1 for x in labels if x>-1])\n",
    "        nunclustered = sum([1 for x in labels if x==-1])\n",
    "        \n",
    "        try:\n",
    "            validity = hdbscan.validity.validity_index(foo, labels)\n",
    "            score1 = 1.0/validity + nunclustered/5 + np.abs(nclus-4)/2\n",
    "            score2 = unclus*(4.+np.abs(nclus-4))/(validity*20)\n",
    "            if validity > maxvalidval:\n",
    "                maxvalidval = validity\n",
    "                maxvalid = [(minc,min_samples,ncomp,nclus,nclustered,nunclustered,validity,score1,score2)]\n",
    "            elif validity == maxvalidval:\n",
    "                maxvalid.append(minc,min_samples,ncomp,nclus,nclustered,nunclustered,validity,score1,score2)\n",
    "            if score1 <  minscore1val:\n",
    "                minscore1val = score1\n",
    "                minscore1 = [(minc,min_samples,ncomp,nclus,nclustered,nunclustered,validity,score1,score2)]\n",
    "            elif score1 ==  minscore1val:\n",
    "                minscore1.append(minc,min_samples,ncomp,nclus,nclustered,nunclustered,validity,score1,score2)   \n",
    "            if score2 <  minscore2val:\n",
    "                minscore2val = score2\n",
    "                minscore2 = [(minc,min_samples,ncomp,nclus,nclustered,nunclustered,validity,score1,score2)]\n",
    "            elif score2 ==  minscore2val:\n",
    "                minscore2.append(minc,min_samples,ncomp,nclus,nclustered,nunclustered,validity,score1,score2) \n",
    "            print('hdbscan: ',minc,'minc:  ',min_samples,'mins:  ',ncomp ,'FPCAcomponents:  ',\n",
    "                  nclus,'clusters;  ',\n",
    "                  nclustered,'clustered;  ',\n",
    "                  nunclustered,'unclustered; ','validity =',np.round(validity,5),\n",
    "                  'score1:',np.round(score1,3),'score2:',np.round(score2,3))\n",
    "            probdata[count,:] = clusterer.probabilities_[:]\n",
    "            clusdata[count,:] = labels[:]\n",
    "            report.append('hdbscan: %2d,%3d,%3d,%3d,%5.2f' % (minc,ncomp,nclus,nunclustered,validity))\n",
    "            \n",
    "        except:\n",
    "            validity=None\n",
    "            print('hdbscan: ',minc,'minc:  ',min_samples,'mins:  ',ncomp ,'FPCAcomponents:  ',\n",
    "              nclus,'clusters;  ',\n",
    "              nclustered,'clustered;  ',nunclustered,'unclustered; ','validity =',validity,)\n",
    "            report.append('hdbscan: %2d,%3d,%3d,%3d,%5.2f' % (minc,ncomp,nclus,nunclustered,0.))\n",
    "        count = count+1\n",
    "    print('--------------------------')\n",
    "print('---------------------------------------------------------')\n",
    "print('minc,min_samples,ncomp,nclus,nclustered,nunclustered,validity,score1,score2')\n",
    "print('maxvalid ',maxvalid)\n",
    "print('minscore1',minscore1)\n",
    "print('minscore2',minscore2)"
   ]
  },
  {
   "cell_type": "code",
   "execution_count": 238,
   "metadata": {},
   "outputs": [],
   "source": [
    "# minscore1\n",
    "minc,min_samples,ncomp,nclus,nclustered,nunclustered,validity,score1,score2 = minscore1[0]"
   ]
  },
  {
   "cell_type": "code",
   "execution_count": 239,
   "metadata": {},
   "outputs": [
    {
     "name": "stdout",
     "output_type": "stream",
     "text": [
      "hdbscan_min_clus= 3 :   3 FPCAcomponents:   4 clusters;   52 clustered;   7 unclustered;  validity = 0.468\n"
     ]
    }
   ],
   "source": [
    "# rerun for optimal parameters\n",
    "# minscore1 : could use maxvalid or minscore1 instead\n",
    "minc,min_samples,ncomp,nclus,nclustered,nunclustered,validity,score1,score2 = minscore1[0]\n",
    "\n",
    "food = ClusterFit(clusdata_all['cases_nonlin'])\n",
    "dat = food.dat\n",
    "dat_disc = skfda.representation.grid.FDataGrid(dat,list(range(len(dat[0]))))\n",
    "\n",
    "fpca_disc = FPCA(n_components=ncomp)\n",
    "fpca_disc.fit(dat_disc)\n",
    "foo = fpca_disc.transform(dat_disc)\n",
    "clusterer = hdbscan.HDBSCAN(min_cluster_size=minc,min_samples=min_samples,gen_min_span_tree=True)\n",
    "labels = clusterer.fit_predict(foo)\n",
    "try:\n",
    "    validity = hdbscan.validity.validity_index(foo, labels)\n",
    "    print('hdbscan_min_clus=',minc,':  ',ncomp ,'FPCAcomponents:  ',\n",
    "          len(set([x for x in labels if x>-1])),'clusters;  ',\n",
    "          sum([1 for x in labels if x>-1]),'clustered;  ',sum([1 for x in labels if x==-1]),'unclustered; ','validity =',np.round(validity,5))\n",
    "except:\n",
    "    validity=None\n",
    "\n",
    "\n",
    "    print('hdbscan_min_clus=',minc,':  ',ncomp ,'FPCAcomponents:  ',\n",
    "      len(set([x for x in labels if x>-1])),'clusters;  ',\n",
    "      sum([1 for x in labels if x>-1]),'clustered;  ',sum([1 for x in labels if x==-1]),'unclustered; ','validity =',validity)\n",
    "#print(labels)"
   ]
  },
  {
   "cell_type": "code",
   "execution_count": 240,
   "metadata": {},
   "outputs": [
    {
     "data": {
      "text/plain": [
       "<matplotlib.axes._subplots.AxesSubplot at 0x1715dae50>"
      ]
     },
     "execution_count": 240,
     "metadata": {},
     "output_type": "execute_result"
    },
    {
     "data": {
      "image/png": "[encoded data removed]",
      "text/plain": [
       "<Figure size 432x288 with 2 Axes>"
      ]
     },
     "metadata": {
      "needs_background": "light"
     },
     "output_type": "display_data"
    }
   ],
   "source": [
    "clusterer.minimum_spanning_tree_.plot(edge_cmap='viridis', \n",
    "                                      edge_alpha=0.6, \n",
    "                                      node_size=80, \n",
    "                                      edge_linewidth=2)"
   ]
  },
  {
   "cell_type": "code",
   "execution_count": 241,
   "metadata": {},
   "outputs": [
    {
     "data": {
      "text/plain": [
       "<matplotlib.axes._subplots.AxesSubplot at 0x179aeee50>"
      ]
     },
     "execution_count": 241,
     "metadata": {},
     "output_type": "execute_result"
    },
    {
     "data": {
      "image/png": "[encoded data removed]",
      "text/plain": [
       "<Figure size 432x288 with 2 Axes>"
      ]
     },
     "metadata": {
      "needs_background": "light"
     },
     "output_type": "display_data"
    }
   ],
   "source": [
    "clusterer.single_linkage_tree_.plot(cmap='viridis', colorbar=True)"
   ]
  },
  {
   "cell_type": "code",
   "execution_count": 242,
   "metadata": {},
   "outputs": [
    {
     "data": {
      "text/plain": [
       "<matplotlib.axes._subplots.AxesSubplot at 0x172934b90>"
      ]
     },
     "execution_count": 242,
     "metadata": {},
     "output_type": "execute_result"
    },
    {
     "data": {
      "image/png": "[encoded data removed]",
      "text/plain": [
       "<Figure size 432x288 with 2 Axes>"
      ]
     },
     "metadata": {
      "needs_background": "light"
     },
     "output_type": "display_data"
    }
   ],
   "source": [
    "#clusterer.condensed_tree_.plot()\n",
    "clusterer.condensed_tree_.plot(select_clusters=True)"
   ]
  },
  {
   "cell_type": "code",
   "execution_count": 243,
   "metadata": {},
   "outputs": [],
   "source": [
    "from sklearn import datasets\n",
    "from sklearn.manifold import TSNE \n",
    "import matplotlib.pyplot as plt\n",
    "import seaborn as sns\n",
    "import numpy as np"
   ]
  },
  {
   "cell_type": "code",
   "execution_count": 244,
   "metadata": {},
   "outputs": [
    {
     "data": {
      "text/plain": [
       "<matplotlib.collections.PathCollection at 0x177e45910>"
      ]
     },
     "execution_count": 244,
     "metadata": {},
     "output_type": "execute_result"
    },
    {
     "data": {
      "image/png": "[encoded data removed]",
      "text/plain": [
       "<Figure size 720x720 with 1 Axes>"
      ]
     },
     "metadata": {
      "needs_background": "light"
     },
     "output_type": "display_data"
    }
   ],
   "source": [
    "projection = TSNE().fit_transform(dat)\n",
    "color_palette = sns.color_palette('Paired', 12)\n",
    "cluster_colors = [color_palette[x] if x >= 0\n",
    "else (0.5, 0.5, 0.5)\n",
    "for x in clusterer.labels_]\n",
    "cluster_member_colors = [sns.desaturate(x, p) for x, p in\n",
    "                         zip(cluster_colors, clusterer.probabilities_)]\n",
    "fig,ax = plt.subplots(1,1,figsize=(10,10))\n",
    "plt.scatter(*projection.T, s=200, linewidth=2, c=cluster_member_colors, alpha=0.5)"
   ]
  },
  {
   "cell_type": "code",
   "execution_count": 245,
   "metadata": {},
   "outputs": [
    {
     "data": {
      "text/plain": [
       "<mpl_toolkits.mplot3d.art3d.Path3DCollection at 0x170452cd0>"
      ]
     },
     "execution_count": 245,
     "metadata": {},
     "output_type": "execute_result"
    },
    {
     "data": {
      "image/png": "[encoded data removed]",
      "text/plain": [
       "<Figure size 432x288 with 1 Axes>"
      ]
     },
     "metadata": {
      "needs_background": "light"
     },
     "output_type": "display_data"
    }
   ],
   "source": [
    "fig = plt.figure()\n",
    "ax = fig.add_subplot(111, projection='3d')\n",
    "ax.scatter(*projection.T,c=cluster_member_colors)"
   ]
  },
  {
   "cell_type": "code",
   "execution_count": 246,
   "metadata": {},
   "outputs": [
    {
     "data": {
      "text/plain": [
       "59"
      ]
     },
     "execution_count": 246,
     "metadata": {},
     "output_type": "execute_result"
    }
   ],
   "source": [
    "len(countries)"
   ]
  },
  {
   "cell_type": "code",
   "execution_count": 247,
   "metadata": {},
   "outputs": [
    {
     "data": {
      "text/plain": [
       "59"
      ]
     },
     "execution_count": 247,
     "metadata": {},
     "output_type": "execute_result"
    }
   ],
   "source": [
    "len(probdata[0])"
   ]
  },
  {
   "cell_type": "markdown",
   "metadata": {},
   "source": [
    "#### Comparison of country assignment probs"
   ]
  },
  {
   "cell_type": "code",
   "execution_count": 257,
   "metadata": {},
   "outputs": [],
   "source": [
    "clus_argsort = np.lexsort((countries,clusdata[0]))\n",
    "scountries = [countries[clus_argsort[i]] for i in range(len(countries))]\n",
    "probdata_s = probdata.copy()\n",
    "clusdata_s = clusdata.copy()\n",
    "for i in range(len(probdata)):\n",
    "    foo = probdata[i]\n",
    "    for j in range(len(scountries)):\n",
    "        probdata_s[i,j] = probdata[i,clus_argsort[j]]\n",
    "        clusdata_s[i,j] = clusdata[i,clus_argsort[j]]   "
   ]
  },
  {
   "cell_type": "code",
   "execution_count": 258,
   "metadata": {},
   "outputs": [],
   "source": [
    "# rawdata = np.random.random((10,10))              # prob of correct assignment to chosen cluster\n",
    "rawdata = np.transpose(probdata_s)\n",
    "# cindex = np.random.random_integers(0,3,(10,10))  # cluster index \n",
    "cindex = np.transpose(clusdata_s)\n",
    "colors = np.array([[1,1,1],[1,0,0],[0,1,0],[0,0,1],[1,1,0],[0,1,1],[1,0,1]]) # black,red,green,blue,yellow,cyan,magenta\n",
    "cluscols = np.transpose(colors[cindex[:,:]+1],(2,0,1)) # transpose to allow elementwise multiplication with rawdata with separate r,g,b\n",
    "coldata = np.transpose((cluscols+3*cluscols*rawdata)/4.,(1,2,0))   # transpose back to have colours as elements of 2D array"
   ]
  },
  {
   "cell_type": "code",
   "execution_count": 259,
   "metadata": {},
   "outputs": [
    {
     "data": {
      "image/png": "[encoded data removed]",
      "text/plain": [
       "<Figure size 1080x1440 with 1 Axes>"
      ]
     },
     "metadata": {
      "needs_background": "light"
     },
     "output_type": "display_data"
    }
   ],
   "source": [
    "fig,ax = plt.subplots(1,1,figsize=(15,20))\n",
    "img = ax.imshow(coldata)\n",
    "ax.set_yticks(range(len(countries)))\n",
    "ax.set_yticklabels(scountries)\n",
    "ax.set_xticks(range(len(clusdata_s)))\n",
    "plt.setp(ax.get_xticklabels(), rotation='vertical', family='monospace')\n",
    "ax.set_xticklabels(report,rotation='vertical')\n",
    "# fig.colorbar(img)\n",
    "plt.show()"
   ]
  },
  {
   "cell_type": "markdown",
   "metadata": {},
   "source": [
    "## 2nd method using basis:\n",
    "\n",
    "basis = skfda.representation.basis.BSpline(n_basis=20)\n",
    "basis_dat_disc = dat_disc.to_basis(basis)\n",
    "basis_dat_disc.plot()"
   ]
  },
  {
   "cell_type": "code",
   "execution_count": null,
   "metadata": {},
   "outputs": [],
   "source": []
  },
  {
   "cell_type": "markdown",
   "metadata": {},
   "source": [
    "# Clustering comparisons"
   ]
  },
  {
   "cell_type": "markdown",
   "metadata": {},
   "source": [
    "Matrix density plot :\n",
    "Columns : different clusterings.\n",
    "Rows: the countries.\n",
    "\n",
    "1.\tChoose candidate best clustering: this determines labels of clusters\n",
    "2.\tOrder countries by this clustering then alphabetically within cluster\n",
    "3.\tFor this first clustering complete column with prob of country assignment being correct. Assign one of 3-6 colours to each cluster label. Shade colour intensity with prob. e.g. colours (red, green ,blue, yellow, magenta, cyan)\n",
    "4.\tFor next clustering: firstly determine best matches of cluster index to first clustering. If more clusters than best (or for later steps those already registered), add new clusters to cluster list with new colours. Stop at 6 clusters in registered list. Members of further clusters all receive colour black with grey tone.\n"
   ]
  },
  {
   "cell_type": "markdown",
   "metadata": {},
   "source": [
    "## PCA clusterings"
   ]
  },
  {
   "cell_type": "code",
   "execution_count": 216,
   "metadata": {},
   "outputs": [
    {
     "name": "stdout",
     "output_type": "stream",
     "text": [
      "['deaths', 'cases', 'cases_lin2020', 'cases_pwlfit', 'cases_nonlin', 'cases_nonlinr']\n",
      "doing  deaths ...\n",
      "found 50 clusterings with size 3 clusters\n",
      "doing  cases ...\n",
      "found 5 clusterings with size 3 clusters\n",
      "doing  cases_lin2020 ...\n",
      "found 4 clusterings with size 3 clusters\n",
      "doing  cases_pwlfit ...\n",
      "found 4 clusterings with size 3 clusters\n",
      "doing  cases_nonlin ...\n",
      "found 3 clusterings with size 3 clusters\n",
      "doing  cases_nonlinr ...\n",
      "found 3 clusterings with size 3 clusters\n"
     ]
    }
   ],
   "source": [
    "# redo all clustering compactly \n",
    "# Norman I guess you need to substitute this with dbhscan\n",
    "datasets = [c for c in clusdata_all]\n",
    "print(datasets)\n",
    "res = {}\n",
    "for d in datasets:\n",
    "    print('doing ',d,'...')\n",
    "    mfit = ClusterFit(clusdata_all[d])\n",
    "    # mfit = ClusterFit(clusdata_all[d],fft='fft') # only 2 clusters for 'deaths'\n",
    "    mfit.umap_best_cluster(Nclus=3)\n",
    "    res[d] = mfit"
   ]
  },
  {
   "cell_type": "code",
   "execution_count": 234,
   "metadata": {},
   "outputs": [],
   "source": [
    "clus_argsort = np.lexsort((countries,res['deaths'].clus_labels))\n",
    "scountries = [countries[clus_argsort[i]] for i in range(len(countries))]\n",
    "probdata2 = np.zeros((len(res),len(countries)),dtype=np.float)\n",
    "clusdata2 = np.zeros((len(res),len(countries)),dtype=np.integer)\n",
    "probdata2s = np.zeros((len(res),len(countries)),dtype=np.float)\n",
    "clusdata2s = np.zeros((len(res),len(countries)),dtype=np.integer)\n",
    "for i,rr in enumerate(res):\n",
    "    foo = res[rr]\n",
    "    probdata2[i,:] = foo.clus_probs[:]\n",
    "    clusdata2[i,:] = foo.clus_labels[:]\n",
    "    for j in range(len(scountries)):\n",
    "        probdata2s[i,j] = foo.clus_probs[clus_argsort[j]]\n",
    "        clusdata2s[i,j] = foo.clus_labels[clus_argsort[j]] "
   ]
  },
  {
   "cell_type": "code",
   "execution_count": 235,
   "metadata": {},
   "outputs": [],
   "source": [
    "# rawdata = np.random.random((10,10))              # prob of correct assignment to chosen cluster\n",
    "rawdata = np.transpose(probdata2s)\n",
    "# cindex = np.random.random_integers(0,3,(10,10))  # cluster index \n",
    "cindex = np.transpose(clusdata2s)\n",
    "colors = np.array([[1,1,1],[1,0,0],[0,1,0],[0,0,1],[1,1,0],[0,1,1],[1,0,1]]) # black,red,green,blue,yellow,cyan,magenta\n",
    "cluscols = np.transpose(colors[1+cindex[:,:]],(2,0,1)) # transpose to allow elementwise multiplication with rawdata with separate r,g,b\n",
    "coldata = np.transpose(cluscols*rawdata,(1,2,0))   # transpose back to have colours as elements of 2D array\n",
    "report2 = ['umap_pca: %16s' % r for r in res]"
   ]
  },
  {
   "cell_type": "code",
   "execution_count": 253,
   "metadata": {},
   "outputs": [
    {
     "data": {
      "text/plain": [
       "['umap_pca:           deaths',\n",
       " 'umap_pca:            cases',\n",
       " 'umap_pca:    cases_lin2020',\n",
       " 'umap_pca:     cases_pwlfit',\n",
       " 'umap_pca:     cases_nonlin',\n",
       " 'umap_pca:    cases_nonlinr']"
      ]
     },
     "execution_count": 253,
     "metadata": {},
     "output_type": "execute_result"
    }
   ],
   "source": [
    "report2"
   ]
  },
  {
   "cell_type": "code",
   "execution_count": 236,
   "metadata": {},
   "outputs": [
    {
     "data": {
      "image/png": "[encoded data removed]",
      "text/plain": [
       "<Figure size 720x1080 with 1 Axes>"
      ]
     },
     "metadata": {
      "needs_background": "light"
     },
     "output_type": "display_data"
    }
   ],
   "source": [
    "fig,ax = plt.subplots(1,1,figsize=(10,15))\n",
    "img = ax.imshow(coldata)\n",
    "ax.set_yticks(range(len(countries)))\n",
    "ax.set_yticklabels(countries)\n",
    "ax.set_xticks(range(len(res)))\n",
    "ax.set_xticklabels(report2,rotation='vertical')\n",
    "# fig.colorbar(img)\n",
    "plt.show()"
   ]
  },
  {
   "cell_type": "markdown",
   "metadata": {},
   "source": [
    "## HDBSCAN and PCA clusterings together"
   ]
  },
  {
   "cell_type": "code",
   "execution_count": 260,
   "metadata": {},
   "outputs": [],
   "source": [
    "clusdata12 = np.concatenate((clusdata,clusdata2))\n",
    "probdata12 = np.concatenate((probdata,probdata2))\n",
    "report12 = report + report2\n",
    "clus_argsort = np.lexsort((countries,clusdata12[0]))\n",
    "scountries = [countries[clus_argsort[i]] for i in range(len(countries))]\n",
    "probdata_s = probdata12.copy()\n",
    "clusdata_s = clusdata12.copy()\n",
    "for i in range(len(probdata12)):\n",
    "    foo = probdata12[i]\n",
    "    for j in range(len(scountries)):\n",
    "        probdata_s[i,j] = probdata12[i,clus_argsort[j]]\n",
    "        clusdata_s[i,j] = clusdata12[i,clus_argsort[j]]   "
   ]
  },
  {
   "cell_type": "code",
   "execution_count": 261,
   "metadata": {},
   "outputs": [],
   "source": [
    "# rawdata = np.random.random((10,10))              # prob of correct assignment to chosen cluster\n",
    "rawdata = np.transpose(probdata_s)\n",
    "# cindex = np.random.random_integers(0,3,(10,10))  # cluster index \n",
    "cindex = np.transpose(clusdata_s)\n",
    "colors = np.array([[1,1,1],[1,0,0],[0,1,0],[0,0,1],[1,1,0],[0,1,1],[1,0,1]]) # black,red,green,blue,yellow,cyan,magenta\n",
    "cluscols = np.transpose(colors[cindex[:,:]+1],(2,0,1)) # transpose to allow elementwise multiplication with rawdata with separate r,g,b\n",
    "coldata = np.transpose((cluscols+3*cluscols*rawdata)/4.,(1,2,0))   # transpose back to have colours as elements of 2D array"
   ]
  },
  {
   "cell_type": "code",
   "execution_count": 262,
   "metadata": {},
   "outputs": [
    {
     "data": {
      "image/png": "[encoded data removed]",
      "text/plain": [
       "<Figure size 1080x1440 with 1 Axes>"
      ]
     },
     "metadata": {
      "needs_background": "light"
     },
     "output_type": "display_data"
    }
   ],
   "source": [
    "fig,ax = plt.subplots(1,1,figsize=(15,20))\n",
    "img = ax.imshow(coldata)\n",
    "ax.set_yticks(range(len(countries)))\n",
    "ax.set_yticklabels(scountries)\n",
    "ax.set_xticks(range(len(clusdata_s)))\n",
    "plt.setp(ax.get_xticklabels(), rotation='vertical', family='monospace')\n",
    "ax.set_xticklabels(report12,rotation='vertical')\n",
    "# fig.colorbar(img)\n",
    "plt.show()"
   ]
  },
  {
   "cell_type": "markdown",
   "metadata": {},
   "source": [
    "Still working on mapping between clusters, so that recolor columns to best match "
   ]
  },
  {
   "cell_type": "code",
   "execution_count": null,
   "metadata": {},
   "outputs": [],
   "source": [
    "def corcl(a,b):\n",
    "    if len(set(a)) > 0 or len(set(b)) > 0:\n",
    "        return len(set(a).intersection(set(b)))/float(len(set(a).union(set(b))))\n",
    "    else:\n",
    "        return 1 \n",
    "    \n",
    "def matchset(a,x):\n",
    "    rtn = [i for i in range(len(a)) if a[i] == x]\n",
    "    return rtn\n",
    "\n",
    "def match1(a,x):\n",
    "    rtn = [1 if a[i] == x else 0 for i in range(len(a)) ]\n",
    "    return rtn\n",
    "    \n",
    "def imxcor(clusters,nset,n,nclus,nclusmax=6): \n",
    "    \"\"\" finds cluster index in previous datasets d best correlated to cluster n in dataset dd\n",
    "        nclus is current number of already aligned clusters\n",
    "        nclusmax is max allowed number of clusters\n",
    "    \"\"\"\n",
    "    cx = []\n",
    "    cc = clusters[nset]\n",
    "    for j in range(0,nset):\n",
    "        c = mapclusters[j]\n",
    "        klen = min(nclusmax,len(cc))\n",
    "        for k in range(nclus): # find best matching previous cluster\n",
    "            cx.append(np.sum(match1(cc,n)*match1(c,k)))\n",
    "    return argmax(cx),max(cx)"
   ]
  }
 ],
 "metadata": {
  "kernelspec": {
   "display_name": "Python 3",
   "language": "python",
   "name": "python3"
  },
  "language_info": {
   "codemirror_mode": {
    "name": "ipython",
    "version": 3
   },
   "file_extension": ".py",
   "mimetype": "text/x-python",
   "name": "python",
   "nbconvert_exporter": "python",
   "pygments_lexer": "ipython3",
   "version": "3.7.4"
  },
  "toc": {
   "base_numbering": 1,
   "nav_menu": {
    "height": "341px",
    "width": "225px"
   },
   "number_sections": true,
   "sideBar": true,
   "skip_h1_title": false,
   "title_cell": "Table of Contents",
   "title_sidebar": "Contents",
   "toc_cell": false,
   "toc_position": {
    "height": "calc(100% - 180px)",
    "left": "10px",
    "top": "150px",
    "width": "344.08087158203125px"
   },
   "toc_section_display": true,
   "toc_window_display": true
  }
 },
 "nbformat": 4,
 "nbformat_minor": 4
}
