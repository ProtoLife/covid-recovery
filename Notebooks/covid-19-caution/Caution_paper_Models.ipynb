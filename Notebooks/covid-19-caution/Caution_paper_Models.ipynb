{
 "cells": [
  {
   "cell_type": "markdown",
   "metadata": {
    "heading_collapsed": true
   },
   "source": [
    "# Notes on current version:\n",
    "For TOC if missing from command line try\n",
    "jupyter nbextensions_configurator enable\n",
    "then toggle nbextensions, restart.\n",
    "\n",
    "1. 1.9.2020 Managed to convert ODE models for economic extension to transition model ready for stochastic simulation, using separate birth death list\n",
    "            See section on SC2UIR model. Not done for other two economic extensions yet\n",
    "2. 1.9.2020 Implemented stochastic simulation (Tau-leap method) using PyGom inbuilt capabilities: for SCIR simulation only so far\n",
    "            Neeed to use integer N>>1, not 1.0, for stochastic simulation. Calculates in a few minutes for N=10000, rescaled ICUfrac to 0.02 (x10). N=100000 didn't finish in 10m."
   ]
  },
  {
   "cell_type": "markdown",
   "metadata": {},
   "source": [
    "# Model Definitions"
   ]
  },
  {
   "cell_type": "markdown",
   "metadata": {},
   "source": [
    "## Utilities for custom extension of PyGom"
   ]
  },
  {
   "cell_type": "code",
   "execution_count": null,
   "metadata": {},
   "outputs": [],
   "source": [
    "# import required packages\n",
    "import os \n",
    "import csv\n",
    "from sympy import symbols, init_printing\n",
    "import numpy as np\n",
    "import matplotlib\n",
    "%matplotlib inline\n",
    "import seaborn as sb\n",
    "from matplotlib import pyplot as plt\n",
    "import sympy\n",
    "import itertools\n",
    "import scipy\n",
    "import datetime\n",
    "import matplotlib.dates as mdates\n",
    "from pygom import DeterministicOde, Transition, SimulateOde, TransitionType, SquareLoss\n",
    "from scipy.optimize import minimize\n",
    "\n",
    "import pickle as pk\n",
    "import jsonpickle as jpk\n",
    "\n",
    "from cycler import cycler\n",
    "from pandas.plotting import register_matplotlib_converters\n",
    "register_matplotlib_converters()\n",
    "import pwlf"
   ]
  },
  {
   "cell_type": "code",
   "execution_count": null,
   "metadata": {},
   "outputs": [],
   "source": [
    "from models import *\n",
    "from model_fits import *"
   ]
  },
  {
   "cell_type": "code",
   "execution_count": 3,
   "metadata": {},
   "outputs": [],
   "source": [
    "savefigs = False # whether to save specific figures for paper to .../figures directory"
   ]
  },
  {
   "cell_type": "code",
   "execution_count": 4,
   "metadata": {},
   "outputs": [
    {
     "data": {
      "text/html": [
       "<style>.container { width:100% !important; }</style>"
      ],
      "text/plain": [
       "<IPython.core.display.HTML object>"
      ]
     },
     "metadata": {},
     "output_type": "display_data"
    }
   ],
   "source": [
    "# Jupyter Specifics\n",
    "from IPython.display import display, HTML\n",
    "display(HTML(\"<style>.container { width:100% !important; }</style>\"))\n",
    "style = {'description_width': '100px'}"
   ]
  },
  {
   "cell_type": "markdown",
   "metadata": {},
   "source": [
    "## Age Extensions to SIR Model"
   ]
  },
  {
   "cell_type": "code",
   "execution_count": null,
   "metadata": {},
   "outputs": [],
   "source": [
    "fit1 = ModelFit('SIR_fit1_A','SIR',age_structure=4)"
   ]
  },
  {
   "cell_type": "code",
   "execution_count": 5,
   "metadata": {},
   "outputs": [],
   "source": [
    "            I_0 =  0.00003  \n",
    "            age_structure = 4\n",
    "            first_infected_agegroup = int(age_structure//4)   # rough first approximation : would give 20-25 year olds for 16 group 0-80 in 5 year intervals\n",
    "            state0 = ['S', 'I', 'R', 'D']\n",
    "            param_list0 = ['beta', 'gamma','mu','N']\n",
    "            state = []\n",
    "            sa = {}     # state age dictionary\n",
    "            for s in state0:\n",
    "                state_tmp = []\n",
    "                for i in range(age_structure):\n",
    "                    state_tmp.append(s+'_'+str(i))\n",
    "                state.extend(state_tmp)\n",
    "                sa.update({s:state_tmp.copy()})\n",
    "            param_list = param_list0\n",
    "            pa = {}\n",
    "            N_list = []\n",
    "            for i in range(age_structure):\n",
    "                N_list.append('N'+'_'+str(i))\n",
    "            param_list.extend(N_list)\n",
    "            pa.update({'N':N_list})\n",
    "            contact = [[None]*age_structure]*age_structure\n",
    "            for i in range(age_structure):\n",
    "                contact[i] = ['con'+'_'+str(i)+'_'+str(j) for j in range(age_structure)]\n",
    "                param_list.extend(contact[i])\n",
    "            phi = [None]*age_structure\n",
    "            for i in range(age_structure):\n",
    "                tmp = 'beta*(0'\n",
    "                for j in range(age_structure):\n",
    "                    tmp= tmp+'+'+contact[i][j]+'*'+sa['I'][j]+'/'+pa['N'][j]\n",
    "                tmp = tmp+')'\n",
    "                phi[i]=tmp[:]               # Note that strings are treated like arrays and need to be copied elementwise\n",
    "            transition = []\n",
    "            for i in range(age_structure):\n",
    "                transition.append(Transition(origin=sa['S'][i],destination=sa['I'][i], equation = phi[i]+'*'+sa['S'][i],\n",
    "                  transition_type=TransitionType.T))\n",
    "            for i in range(age_structure):\n",
    "                transition.append(Transition(origin=sa['I'][i],destination=sa['R'][i], equation = 'gamma'+'*'+sa['I'][i],\n",
    "                  transition_type=TransitionType.T)) \n",
    "            for i in range(age_structure):\n",
    "                transition.append(Transition(origin=sa['I'][i],destination=sa['D'][i], equation = 'mu'+'*'+sa['I'][i],\n",
    "                  transition_type=TransitionType.T))                 \n",
    "\n",
    "            model = DeterministicOde(state, param_list, transition=transition)\n",
    "            model.modelname='SIR'+'_'+str(age_structure)\n",
    "            model.ei=slice(1*age_structure,2*age_structure)\n",
    "            model.confirmed=slice(1*age_structure,4*age_structure)  # cases 1-3 i.e. I, R and D\n",
    "            model.recovered=slice(2*age_structure,3*age_structure)\n",
    "            model.deaths=slice(3*age_structure,4*age_structure)\n",
    "            model.I_1 = 1*age_structure + first_infected_agegroup\n",
    "\n",
    "            #x0 = [1.0-I_0, I_0, 0.0, 0.0]\n",
    "            x0 = []\n",
    "            for s in state0:\n",
    "                state_tmp = []\n",
    "                for i in range(age_structure):\n",
    "                    if i == first_infected_agegroup and s == 'S':\n",
    "                        x0.append(1.0-I_0)\n",
    "                    elif i == first_infected_agegroup and s == 'I':\n",
    "                        x0.append(I_0)\n",
    "                    else:\n",
    "                        x0.append(0.)\n",
    "            model.initial_values = (x0, 0) # 0 for t[0]"
   ]
  },
  {
   "cell_type": "code",
   "execution_count": 6,
   "metadata": {},
   "outputs": [
    {
     "data": {
      "text/plain": [
       "['beta*(0+con_0_0*I_0/N_0+con_0_1*I_1/N_1+con_0_2*I_2/N_2+con_0_3*I_3/N_3)',\n",
       " 'beta*(0+con_1_0*I_0/N_0+con_1_1*I_1/N_1+con_1_2*I_2/N_2+con_1_3*I_3/N_3)',\n",
       " 'beta*(0+con_2_0*I_0/N_0+con_2_1*I_1/N_1+con_2_2*I_2/N_2+con_2_3*I_3/N_3)',\n",
       " 'beta*(0+con_3_0*I_0/N_0+con_3_1*I_1/N_1+con_3_2*I_2/N_2+con_3_3*I_3/N_3)']"
      ]
     },
     "execution_count": 6,
     "metadata": {},
     "output_type": "execute_result"
    }
   ],
   "source": [
    "phi"
   ]
  },
  {
   "cell_type": "code",
   "execution_count": 7,
   "metadata": {},
   "outputs": [
    {
     "data": {
      "text/latex": [
       "$\\displaystyle \\left[\\begin{matrix}d{S_0}/dt= & - S_{0} \\beta \\left(\\frac{I_{0} con_{0 0}}{N_{0}} + \\frac{I_{1} con_{0 1}}{N_{1}} + \\frac{I_{2} con_{0 2}}{N_{2}} + \\frac{I_{3} con_{0 3}}{N_{3}}\\right)\\\\d{S_1}/dt= & - S_{1} \\beta \\left(\\frac{I_{0} con_{1 0}}{N_{0}} + \\frac{I_{1} con_{1 1}}{N_{1}} + \\frac{I_{2} con_{1 2}}{N_{2}} + \\frac{I_{3} con_{1 3}}{N_{3}}\\right)\\\\d{S_2}/dt= & - S_{2} \\beta \\left(\\frac{I_{0} con_{2 0}}{N_{0}} + \\frac{I_{1} con_{2 1}}{N_{1}} + \\frac{I_{2} con_{2 2}}{N_{2}} + \\frac{I_{3} con_{2 3}}{N_{3}}\\right)\\\\d{S_3}/dt= & - S_{3} \\beta \\left(\\frac{I_{0} con_{3 0}}{N_{0}} + \\frac{I_{1} con_{3 1}}{N_{1}} + \\frac{I_{2} con_{3 2}}{N_{2}} + \\frac{I_{3} con_{3 3}}{N_{3}}\\right)\\\\d{I_0}/dt= & - I_{0} \\gamma - I_{0} \\mu + S_{0} \\beta \\left(\\frac{I_{0} con_{0 0}}{N_{0}} + \\frac{I_{1} con_{0 1}}{N_{1}} + \\frac{I_{2} con_{0 2}}{N_{2}} + \\frac{I_{3} con_{0 3}}{N_{3}}\\right)\\\\d{I_1}/dt= & - I_{1} \\gamma - I_{1} \\mu + S_{1} \\beta \\left(\\frac{I_{0} con_{1 0}}{N_{0}} + \\frac{I_{1} con_{1 1}}{N_{1}} + \\frac{I_{2} con_{1 2}}{N_{2}} + \\frac{I_{3} con_{1 3}}{N_{3}}\\right)\\\\d{I_2}/dt= & - I_{2} \\gamma - I_{2} \\mu + S_{2} \\beta \\left(\\frac{I_{0} con_{2 0}}{N_{0}} + \\frac{I_{1} con_{2 1}}{N_{1}} + \\frac{I_{2} con_{2 2}}{N_{2}} + \\frac{I_{3} con_{2 3}}{N_{3}}\\right)\\\\d{I_3}/dt= & - I_{3} \\gamma - I_{3} \\mu + S_{3} \\beta \\left(\\frac{I_{0} con_{3 0}}{N_{0}} + \\frac{I_{1} con_{3 1}}{N_{1}} + \\frac{I_{2} con_{3 2}}{N_{2}} + \\frac{I_{3} con_{3 3}}{N_{3}}\\right)\\\\d{R_0}/dt= & I_{0} \\gamma\\\\d{R_1}/dt= & I_{1} \\gamma\\\\d{R_2}/dt= & I_{2} \\gamma\\\\d{R_3}/dt= & I_{3} \\gamma\\\\d{D_0}/dt= & I_{0} \\mu\\\\d{D_1}/dt= & I_{1} \\mu\\\\d{D_2}/dt= & I_{2} \\mu\\\\d{D_3}/dt= & I_{3} \\mu\\end{matrix}\\right]$"
      ],
      "text/plain": [
       "Matrix([\n",
       "[d{S_0}/dt=,                      -S_0*beta*(I_0*con_0_0/N_0 + I_1*con_0_1/N_1 + I_2*con_0_2/N_2 + I_3*con_0_3/N_3)],\n",
       "[d{S_1}/dt=,                      -S_1*beta*(I_0*con_1_0/N_0 + I_1*con_1_1/N_1 + I_2*con_1_2/N_2 + I_3*con_1_3/N_3)],\n",
       "[d{S_2}/dt=,                      -S_2*beta*(I_0*con_2_0/N_0 + I_1*con_2_1/N_1 + I_2*con_2_2/N_2 + I_3*con_2_3/N_3)],\n",
       "[d{S_3}/dt=,                      -S_3*beta*(I_0*con_3_0/N_0 + I_1*con_3_1/N_1 + I_2*con_3_2/N_2 + I_3*con_3_3/N_3)],\n",
       "[d{I_0}/dt=, -I_0*gamma - I_0*mu + S_0*beta*(I_0*con_0_0/N_0 + I_1*con_0_1/N_1 + I_2*con_0_2/N_2 + I_3*con_0_3/N_3)],\n",
       "[d{I_1}/dt=, -I_1*gamma - I_1*mu + S_1*beta*(I_0*con_1_0/N_0 + I_1*con_1_1/N_1 + I_2*con_1_2/N_2 + I_3*con_1_3/N_3)],\n",
       "[d{I_2}/dt=, -I_2*gamma - I_2*mu + S_2*beta*(I_0*con_2_0/N_0 + I_1*con_2_1/N_1 + I_2*con_2_2/N_2 + I_3*con_2_3/N_3)],\n",
       "[d{I_3}/dt=, -I_3*gamma - I_3*mu + S_3*beta*(I_0*con_3_0/N_0 + I_1*con_3_1/N_1 + I_2*con_3_2/N_2 + I_3*con_3_3/N_3)],\n",
       "[d{R_0}/dt=,                                                                                              I_0*gamma],\n",
       "[d{R_1}/dt=,                                                                                              I_1*gamma],\n",
       "[d{R_2}/dt=,                                                                                              I_2*gamma],\n",
       "[d{R_3}/dt=,                                                                                              I_3*gamma],\n",
       "[d{D_0}/dt=,                                                                                                 I_0*mu],\n",
       "[d{D_1}/dt=,                                                                                                 I_1*mu],\n",
       "[d{D_2}/dt=,                                                                                                 I_2*mu],\n",
       "[d{D_3}/dt=,                                                                                                 I_3*mu]])"
      ]
     },
     "execution_count": 7,
     "metadata": {},
     "output_type": "execute_result"
    }
   ],
   "source": [
    "#model.print_ode()\n",
    "model.print_ode2()"
   ]
  },
  {
   "cell_type": "code",
   "execution_count": 8,
   "metadata": {},
   "outputs": [
    {
     "data": {
      "image/png": "[encoded data removed]",
      "text/plain": [
       "<Figure size 432x288 with 1 Axes>"
      ]
     },
     "metadata": {
      "needs_background": "light"
     },
     "output_type": "display_data"
    },
    {
     "data": {
      "image/svg+xml": [
       "<?xml version=\"1.0\" encoding=\"UTF-8\" standalone=\"no\"?>\n",
       "<!DOCTYPE svg PUBLIC \"-//W3C//DTD SVG 1.1//EN\"\n",
       " \"http://www.w3.org/Graphics/SVG/1.1/DTD/svg11.dtd\">\n",
       "<!-- Generated by graphviz version 2.44.0 (20200408.0750)\n",
       " -->\n",
       "<!-- Pages: 1 -->\n",
       "<svg width=\"759pt\" height=\"429pt\"\n",
       " viewBox=\"0.00 0.00 759.00 429.00\" xmlns=\"http://www.w3.org/2000/svg\" xmlns:xlink=\"http://www.w3.org/1999/xlink\">\n",
       "<g id=\"graph0\" class=\"graph\" transform=\"scale(1 1) rotate(0) translate(4 425)\">\n",
       "<polygon fill=\"white\" stroke=\"transparent\" points=\"-4,4 -4,-425 755,-425 755,4 -4,4\"/>\n",
       "<!-- S_0 -->\n",
       "<g id=\"node1\" class=\"node\">\n",
       "<title>S_0</title>\n",
       "<ellipse fill=\"none\" stroke=\"black\" cx=\"27\" cy=\"-45\" rx=\"27\" ry=\"18\"/>\n",
       "<text text-anchor=\"middle\" x=\"27\" y=\"-41.3\" font-family=\"Times,serif\" font-size=\"14.00\">S_0</text>\n",
       "</g>\n",
       "<!-- I_0 -->\n",
       "<g id=\"node5\" class=\"node\">\n",
       "<title>I_0</title>\n",
       "<ellipse fill=\"none\" stroke=\"black\" cx=\"601\" cy=\"-45\" rx=\"27\" ry=\"18\"/>\n",
       "<text text-anchor=\"middle\" x=\"601\" y=\"-41.3\" font-family=\"Times,serif\" font-size=\"14.00\">I_0</text>\n",
       "</g>\n",
       "<!-- S_0&#45;&gt;I_0 -->\n",
       "<g id=\"edge1\" class=\"edge\">\n",
       "<title>S_0&#45;&gt;I_0</title>\n",
       "<path fill=\"none\" stroke=\"black\" d=\"M54.06,-45C146.19,-45 456.66,-45 563.51,-45\"/>\n",
       "<polygon fill=\"black\" stroke=\"black\" points=\"563.78,-48.5 573.78,-45 563.78,-41.5 563.78,-48.5\"/>\n",
       "<text text-anchor=\"middle\" x=\"314\" y=\"-48.8\" font-family=\"Times,serif\" font-size=\"14.00\">β*(0+con_0_0*I_0/N_0+con_0_1*I_1/N_1+con_0_2*I_2/N_2+con_0_3*I_3/N_3)*S_0</text>\n",
       "</g>\n",
       "<!-- S_1 -->\n",
       "<g id=\"node2\" class=\"node\">\n",
       "<title>S_1</title>\n",
       "<ellipse fill=\"none\" stroke=\"black\" cx=\"27\" cy=\"-153\" rx=\"27\" ry=\"18\"/>\n",
       "<text text-anchor=\"middle\" x=\"27\" y=\"-149.3\" font-family=\"Times,serif\" font-size=\"14.00\">S_1</text>\n",
       "</g>\n",
       "<!-- I_1 -->\n",
       "<g id=\"node6\" class=\"node\">\n",
       "<title>I_1</title>\n",
       "<ellipse fill=\"none\" stroke=\"black\" cx=\"601\" cy=\"-153\" rx=\"27\" ry=\"18\"/>\n",
       "<text text-anchor=\"middle\" x=\"601\" y=\"-149.3\" font-family=\"Times,serif\" font-size=\"14.00\">I_1</text>\n",
       "</g>\n",
       "<!-- S_1&#45;&gt;I_1 -->\n",
       "<g id=\"edge2\" class=\"edge\">\n",
       "<title>S_1&#45;&gt;I_1</title>\n",
       "<path fill=\"none\" stroke=\"black\" d=\"M54.06,-153C146.19,-153 456.66,-153 563.51,-153\"/>\n",
       "<polygon fill=\"black\" stroke=\"black\" points=\"563.78,-156.5 573.78,-153 563.78,-149.5 563.78,-156.5\"/>\n",
       "<text text-anchor=\"middle\" x=\"314\" y=\"-156.8\" font-family=\"Times,serif\" font-size=\"14.00\">β*(0+con_1_0*I_0/N_0+con_1_1*I_1/N_1+con_1_2*I_2/N_2+con_1_3*I_3/N_3)*S_1</text>\n",
       "</g>\n",
       "<!-- S_2 -->\n",
       "<g id=\"node3\" class=\"node\">\n",
       "<title>S_2</title>\n",
       "<ellipse fill=\"none\" stroke=\"black\" cx=\"27\" cy=\"-281\" rx=\"27\" ry=\"18\"/>\n",
       "<text text-anchor=\"middle\" x=\"27\" y=\"-277.3\" font-family=\"Times,serif\" font-size=\"14.00\">S_2</text>\n",
       "</g>\n",
       "<!-- I_2 -->\n",
       "<g id=\"node7\" class=\"node\">\n",
       "<title>I_2</title>\n",
       "<ellipse fill=\"none\" stroke=\"black\" cx=\"601\" cy=\"-281\" rx=\"27\" ry=\"18\"/>\n",
       "<text text-anchor=\"middle\" x=\"601\" y=\"-277.3\" font-family=\"Times,serif\" font-size=\"14.00\">I_2</text>\n",
       "</g>\n",
       "<!-- S_2&#45;&gt;I_2 -->\n",
       "<g id=\"edge3\" class=\"edge\">\n",
       "<title>S_2&#45;&gt;I_2</title>\n",
       "<path fill=\"none\" stroke=\"black\" d=\"M54.06,-281C146.19,-281 456.66,-281 563.51,-281\"/>\n",
       "<polygon fill=\"black\" stroke=\"black\" points=\"563.78,-284.5 573.78,-281 563.78,-277.5 563.78,-284.5\"/>\n",
       "<text text-anchor=\"middle\" x=\"314\" y=\"-284.8\" font-family=\"Times,serif\" font-size=\"14.00\">β*(0+con_2_0*I_0/N_0+con_2_1*I_1/N_1+con_2_2*I_2/N_2+con_2_3*I_3/N_3)*S_2</text>\n",
       "</g>\n",
       "<!-- S_3 -->\n",
       "<g id=\"node4\" class=\"node\">\n",
       "<title>S_3</title>\n",
       "<ellipse fill=\"none\" stroke=\"black\" cx=\"27\" cy=\"-362\" rx=\"27\" ry=\"18\"/>\n",
       "<text text-anchor=\"middle\" x=\"27\" y=\"-358.3\" font-family=\"Times,serif\" font-size=\"14.00\">S_3</text>\n",
       "</g>\n",
       "<!-- I_3 -->\n",
       "<g id=\"node8\" class=\"node\">\n",
       "<title>I_3</title>\n",
       "<ellipse fill=\"none\" stroke=\"black\" cx=\"601\" cy=\"-362\" rx=\"27\" ry=\"18\"/>\n",
       "<text text-anchor=\"middle\" x=\"601\" y=\"-358.3\" font-family=\"Times,serif\" font-size=\"14.00\">I_3</text>\n",
       "</g>\n",
       "<!-- S_3&#45;&gt;I_3 -->\n",
       "<g id=\"edge4\" class=\"edge\">\n",
       "<title>S_3&#45;&gt;I_3</title>\n",
       "<path fill=\"none\" stroke=\"black\" d=\"M54.06,-362C146.19,-362 456.66,-362 563.51,-362\"/>\n",
       "<polygon fill=\"black\" stroke=\"black\" points=\"563.78,-365.5 573.78,-362 563.78,-358.5 563.78,-365.5\"/>\n",
       "<text text-anchor=\"middle\" x=\"314\" y=\"-365.8\" font-family=\"Times,serif\" font-size=\"14.00\">β*(0+con_3_0*I_0/N_0+con_3_1*I_1/N_1+con_3_2*I_2/N_2+con_3_3*I_3/N_3)*S_3</text>\n",
       "</g>\n",
       "<!-- R_0 -->\n",
       "<g id=\"node9\" class=\"node\">\n",
       "<title>R_0</title>\n",
       "<ellipse fill=\"none\" stroke=\"black\" cx=\"724\" cy=\"-72\" rx=\"27\" ry=\"18\"/>\n",
       "<text text-anchor=\"middle\" x=\"724\" y=\"-68.3\" font-family=\"Times,serif\" font-size=\"14.00\">R_0</text>\n",
       "</g>\n",
       "<!-- I_0&#45;&gt;R_0 -->\n",
       "<g id=\"edge5\" class=\"edge\">\n",
       "<title>I_0&#45;&gt;R_0</title>\n",
       "<path fill=\"none\" stroke=\"black\" d=\"M626.78,-50.53C644.56,-54.5 668.75,-59.9 688.43,-64.29\"/>\n",
       "<polygon fill=\"black\" stroke=\"black\" points=\"687.73,-67.72 698.25,-66.48 689.26,-60.88 687.73,-67.72\"/>\n",
       "<text text-anchor=\"middle\" x=\"662.5\" y=\"-65.8\" font-family=\"Times,serif\" font-size=\"14.00\">γ*I_0</text>\n",
       "</g>\n",
       "<!-- D_0 -->\n",
       "<g id=\"node13\" class=\"node\">\n",
       "<title>D_0</title>\n",
       "<ellipse fill=\"none\" stroke=\"black\" cx=\"724\" cy=\"-18\" rx=\"27\" ry=\"18\"/>\n",
       "<text text-anchor=\"middle\" x=\"724\" y=\"-14.3\" font-family=\"Times,serif\" font-size=\"14.00\">D_0</text>\n",
       "</g>\n",
       "<!-- I_0&#45;&gt;D_0 -->\n",
       "<g id=\"edge9\" class=\"edge\">\n",
       "<title>I_0&#45;&gt;D_0</title>\n",
       "<path fill=\"none\" stroke=\"black\" d=\"M626.78,-39.47C644.56,-35.5 668.75,-30.1 688.43,-25.71\"/>\n",
       "<polygon fill=\"black\" stroke=\"black\" points=\"689.26,-29.12 698.25,-23.52 687.73,-22.28 689.26,-29.12\"/>\n",
       "<text text-anchor=\"middle\" x=\"662.5\" y=\"-38.8\" font-family=\"Times,serif\" font-size=\"14.00\">μ*I_0</text>\n",
       "</g>\n",
       "<!-- R_1 -->\n",
       "<g id=\"node10\" class=\"node\">\n",
       "<title>R_1</title>\n",
       "<ellipse fill=\"none\" stroke=\"black\" cx=\"724\" cy=\"-180\" rx=\"27\" ry=\"18\"/>\n",
       "<text text-anchor=\"middle\" x=\"724\" y=\"-176.3\" font-family=\"Times,serif\" font-size=\"14.00\">R_1</text>\n",
       "</g>\n",
       "<!-- I_1&#45;&gt;R_1 -->\n",
       "<g id=\"edge6\" class=\"edge\">\n",
       "<title>I_1&#45;&gt;R_1</title>\n",
       "<path fill=\"none\" stroke=\"black\" d=\"M626.78,-158.53C644.56,-162.5 668.75,-167.9 688.43,-172.29\"/>\n",
       "<polygon fill=\"black\" stroke=\"black\" points=\"687.73,-175.72 698.25,-174.48 689.26,-168.88 687.73,-175.72\"/>\n",
       "<text text-anchor=\"middle\" x=\"662.5\" y=\"-172.8\" font-family=\"Times,serif\" font-size=\"14.00\">γ*I_1</text>\n",
       "</g>\n",
       "<!-- D_1 -->\n",
       "<g id=\"node14\" class=\"node\">\n",
       "<title>D_1</title>\n",
       "<ellipse fill=\"none\" stroke=\"black\" cx=\"724\" cy=\"-126\" rx=\"27\" ry=\"18\"/>\n",
       "<text text-anchor=\"middle\" x=\"724\" y=\"-122.3\" font-family=\"Times,serif\" font-size=\"14.00\">D_1</text>\n",
       "</g>\n",
       "<!-- I_1&#45;&gt;D_1 -->\n",
       "<g id=\"edge10\" class=\"edge\">\n",
       "<title>I_1&#45;&gt;D_1</title>\n",
       "<path fill=\"none\" stroke=\"black\" d=\"M626.78,-147.47C644.56,-143.5 668.75,-138.1 688.43,-133.71\"/>\n",
       "<polygon fill=\"black\" stroke=\"black\" points=\"689.26,-137.12 698.25,-131.52 687.73,-130.28 689.26,-137.12\"/>\n",
       "<text text-anchor=\"middle\" x=\"662.5\" y=\"-145.8\" font-family=\"Times,serif\" font-size=\"14.00\">μ*I_1</text>\n",
       "</g>\n",
       "<!-- R_2 -->\n",
       "<g id=\"node11\" class=\"node\">\n",
       "<title>R_2</title>\n",
       "<ellipse fill=\"none\" stroke=\"black\" cx=\"724\" cy=\"-288\" rx=\"27\" ry=\"18\"/>\n",
       "<text text-anchor=\"middle\" x=\"724\" y=\"-284.3\" font-family=\"Times,serif\" font-size=\"14.00\">R_2</text>\n",
       "</g>\n",
       "<!-- I_2&#45;&gt;R_2 -->\n",
       "<g id=\"edge7\" class=\"edge\">\n",
       "<title>I_2&#45;&gt;R_2</title>\n",
       "<path fill=\"none\" stroke=\"black\" d=\"M627.96,-282.5C645.18,-283.5 668.03,-284.82 687,-285.92\"/>\n",
       "<polygon fill=\"black\" stroke=\"black\" points=\"686.9,-289.42 697.09,-286.5 687.3,-282.43 686.9,-289.42\"/>\n",
       "<text text-anchor=\"middle\" x=\"662.5\" y=\"-288.8\" font-family=\"Times,serif\" font-size=\"14.00\">γ*I_2</text>\n",
       "</g>\n",
       "<!-- D_2 -->\n",
       "<g id=\"node15\" class=\"node\">\n",
       "<title>D_2</title>\n",
       "<ellipse fill=\"none\" stroke=\"black\" cx=\"724\" cy=\"-234\" rx=\"27\" ry=\"18\"/>\n",
       "<text text-anchor=\"middle\" x=\"724\" y=\"-230.3\" font-family=\"Times,serif\" font-size=\"14.00\">D_2</text>\n",
       "</g>\n",
       "<!-- I_2&#45;&gt;D_2 -->\n",
       "<g id=\"edge11\" class=\"edge\">\n",
       "<title>I_2&#45;&gt;D_2</title>\n",
       "<path fill=\"none\" stroke=\"black\" d=\"M624.76,-272.16C643.43,-264.91 670.1,-254.55 690.94,-246.45\"/>\n",
       "<polygon fill=\"black\" stroke=\"black\" points=\"692.29,-249.68 700.34,-242.8 689.75,-243.16 692.29,-249.68\"/>\n",
       "<text text-anchor=\"middle\" x=\"662.5\" y=\"-266.8\" font-family=\"Times,serif\" font-size=\"14.00\">μ*I_2</text>\n",
       "</g>\n",
       "<!-- R_3 -->\n",
       "<g id=\"node12\" class=\"node\">\n",
       "<title>R_3</title>\n",
       "<ellipse fill=\"none\" stroke=\"black\" cx=\"724\" cy=\"-403\" rx=\"27\" ry=\"18\"/>\n",
       "<text text-anchor=\"middle\" x=\"724\" y=\"-399.3\" font-family=\"Times,serif\" font-size=\"14.00\">R_3</text>\n",
       "</g>\n",
       "<!-- I_3&#45;&gt;R_3 -->\n",
       "<g id=\"edge8\" class=\"edge\">\n",
       "<title>I_3&#45;&gt;R_3</title>\n",
       "<path fill=\"none\" stroke=\"black\" d=\"M625.33,-369.91C643.63,-376.1 669.32,-384.81 689.77,-391.74\"/>\n",
       "<polygon fill=\"black\" stroke=\"black\" points=\"688.73,-395.08 699.33,-394.98 690.98,-388.46 688.73,-395.08\"/>\n",
       "<text text-anchor=\"middle\" x=\"662.5\" y=\"-390.8\" font-family=\"Times,serif\" font-size=\"14.00\">γ*I_3</text>\n",
       "</g>\n",
       "<!-- D_3 -->\n",
       "<g id=\"node16\" class=\"node\">\n",
       "<title>D_3</title>\n",
       "<ellipse fill=\"none\" stroke=\"black\" cx=\"724\" cy=\"-349\" rx=\"27\" ry=\"18\"/>\n",
       "<text text-anchor=\"middle\" x=\"724\" y=\"-345.3\" font-family=\"Times,serif\" font-size=\"14.00\">D_3</text>\n",
       "</g>\n",
       "<!-- I_3&#45;&gt;D_3 -->\n",
       "<g id=\"edge12\" class=\"edge\">\n",
       "<title>I_3&#45;&gt;D_3</title>\n",
       "<path fill=\"none\" stroke=\"black\" d=\"M627.96,-359.21C645.18,-357.36 668.03,-354.91 687,-352.87\"/>\n",
       "<polygon fill=\"black\" stroke=\"black\" points=\"687.52,-356.33 697.09,-351.78 686.77,-349.37 687.52,-356.33\"/>\n",
       "<text text-anchor=\"middle\" x=\"662.5\" y=\"-360.8\" font-family=\"Times,serif\" font-size=\"14.00\">μ*I_3</text>\n",
       "</g>\n",
       "</g>\n",
       "</svg>\n"
      ],
      "text/plain": [
       "<graphviz.dot.Digraph at 0x104349610>"
      ]
     },
     "execution_count": 8,
     "metadata": {},
     "output_type": "execute_result"
    }
   ],
   "source": [
    "model.get_transition_graph()"
   ]
  },
  {
   "cell_type": "markdown",
   "metadata": {},
   "source": [
    "## Caution Extensions to SIR Model"
   ]
  },
  {
   "cell_type": "code",
   "execution_count": null,
   "metadata": {},
   "outputs": [],
   "source": []
  },
  {
   "cell_type": "code",
   "execution_count": null,
   "metadata": {},
   "outputs": [],
   "source": [
    "fit1 = ModelFit('SEIR_fit1','SEIR')"
   ]
  },
  {
   "cell_type": "code",
   "execution_count": null,
   "metadata": {},
   "outputs": [],
   "source": [
    "fit1.modelname"
   ]
  },
  {
   "cell_type": "code",
   "execution_count": null,
   "metadata": {},
   "outputs": [],
   "source": [
    "fit1.cbparams"
   ]
  },
  {
   "cell_type": "markdown",
   "metadata": {},
   "source": [
    "### SIR model"
   ]
  },
  {
   "cell_type": "markdown",
   "metadata": {},
   "source": [
    "#### Equations\n",
    "\n",
    "\\begin{equation}\n",
    "\\begin{split}\n",
    "\\dot{S} &= -\\beta I S\\\\\n",
    "\\dot{I} &= \\beta I S - \\gamma I - \\mu I\\\\\n",
    "\\dot{R} & = \\gamma I \\\\\n",
    "\\dot{D} & = \\mu I\n",
    "\\end{split}\n",
    "\\end{equation}\n",
    "\n",
    "\n",
    "#### Variables\n",
    "* $S$: Susceptible individuals\n",
    "* $I$: Infected individuals \n",
    "* $R$: individuals who have recovered from disease and are now immune\n",
    "* $D$: Dead individuals\n",
    "* $N=S+I+R+D$ Total population size (constant)\n",
    "\n",
    "#### Parameters\n",
    "* $\\beta$ rate at which infected individuals contact susceptibles and infect them\n",
    "* $\\gamma$ rate at which infected individuals recover from disease and become immune\n",
    "* $\\mu$ death rate for infected individuals"
   ]
  },
  {
   "cell_type": "markdown",
   "metadata": {},
   "source": [
    "#### Implementation\n",
    "Using PyGOM, we will set up my simple SCIR model ODE system\n",
    "PyGOM – A Python Package for Simplifying Modelling with Systems of Ordinary Differential Equations https://arxiv.org/pdf/1803.06934.pdf"
   ]
  },
  {
   "cell_type": "code",
   "execution_count": null,
   "metadata": {},
   "outputs": [],
   "source": [
    "SIR_model.print_ode()\n",
    "SIR_model.print_ode2()"
   ]
  },
  {
   "cell_type": "code",
   "execution_count": null,
   "metadata": {},
   "outputs": [],
   "source": [
    "# display equations\n",
    "print_ode2(SIR_model)"
   ]
  },
  {
   "cell_type": "code",
   "execution_count": null,
   "metadata": {},
   "outputs": [],
   "source": [
    "# display graphical representation of the model\n",
    "SIR_model.get_transition_graph()"
   ]
  },
  {
   "cell_type": "markdown",
   "metadata": {},
   "source": [
    "##### Derived equations, Jacobian and gradient"
   ]
  },
  {
   "cell_type": "code",
   "execution_count": null,
   "metadata": {},
   "outputs": [],
   "source": [
    "SIR_model.get_ode_eqn()"
   ]
  },
  {
   "cell_type": "code",
   "execution_count": null,
   "metadata": {},
   "outputs": [],
   "source": [
    "SIR_model.get_jacobian_eqn()"
   ]
  },
  {
   "cell_type": "code",
   "execution_count": null,
   "metadata": {
    "scrolled": true
   },
   "outputs": [],
   "source": [
    "SIR_model.get_grad_eqn()"
   ]
  },
  {
   "cell_type": "markdown",
   "metadata": {},
   "source": [
    "#### R0"
   ]
  },
  {
   "cell_type": "code",
   "execution_count": null,
   "metadata": {},
   "outputs": [],
   "source": [
    "from pygom.model.epi_analysis import R0"
   ]
  },
  {
   "cell_type": "code",
   "execution_count": null,
   "metadata": {
    "scrolled": true
   },
   "outputs": [],
   "source": [
    "state = ['S', 'I', 'R', 'D']\n",
    "param_list = ['beta', 'gamma','mu','N']\n",
    "transition_ode = [\n",
    "    Transition(origin='S',  equation='-beta*I*S'),\n",
    "    Transition(origin='I',  equation='beta*I*S-gamma*I-mu*I'),\n",
    "    Transition(origin='R',  equation='gamma*I'),\n",
    "    Transition(origin='D',  equation='mu*I')  \n",
    "    ]\n",
    "ode = SimulateOde(state, param_list, ode=transition_ode)\n",
    "ode = ode.get_unrolled_obj()\n",
    "R0(ode,['I'])"
   ]
  },
  {
   "cell_type": "markdown",
   "metadata": {},
   "source": [
    "### SCIR model"
   ]
  },
  {
   "cell_type": "markdown",
   "metadata": {},
   "source": [
    "#### Equations\n",
    "\n",
    "\\begin{equation}\n",
    "\\begin{split}\n",
    "\\dot{S} &= -\\beta I S + c_1 S_c - c_2*S*I\\\\\n",
    "\\dot{S_c} &= - c_0 \\beta I S_c - c_1 S_c + c_2*S*I\\\\\n",
    "\\dot{I} &= \\beta I S - \\gamma I - \\mu I\\\\\n",
    "\\dot{R} & = \\gamma I \\\\\n",
    "\\dot{D} & = \\mu I\n",
    "\\end{split}\n",
    "\\end{equation}\n",
    "\n",
    "The use of I as a state variable triggering susceptibles to execute caution is just one choice. In contrast with deaths, it does not accumulate over time and so retains the property of an active threat to society, rather than an historical one. Alternatively, one could use the daily death rate which is proportional to it.\n",
    "\n",
    "Actually, the effect of caution may be quadratic, since both the individual doing the infection and individual potentially being infected may be executing caution. The current version assumes that infectives do not change their precautionary measures in response to I. To implement this we would need to further distinguish careful and non careful infectives. This is done in the SC2IR model.\n",
    "\n",
    "#### Variables\n",
    "* $S$: Susceptible individuals living as normal\n",
    "* $S_c$: Susceptible individuals exercising pandemy precautions\n",
    "* $I$: Infected individuals \n",
    "* $R$: individuals who have recovered from disease and are now immune\n",
    "* $D$: Dead individuals\n",
    "* $N=S+S_c+I+R+D$ Total population size (constant)\n",
    "\n",
    "#### Parameters\n",
    "* $\\beta$ rate at which infected individuals contact susceptibles and infect them\n",
    "* $\\gamma$ rate at which infected individuals recover from disease and become immune\n",
    "* $\\mu$ death rate for infected individuals\n",
    "\n",
    "* $c_i$ three parameters characterizing cautionary response of population via class $S_c$\n",
    "\n",
    "    - c_0 : reduction factor for exposure for cautioned susceptibles\n",
    "\n",
    "    - c_1 : duration of caution (exponential decay time constant in days)\n",
    "\n",
    "    - c_2 : rate constant for transition from uncautioned to cautioned susceptible"
   ]
  },
  {
   "cell_type": "markdown",
   "metadata": {},
   "source": [
    "#### Implementation\n",
    "Using PyGOM, we will set up my simple SCIR model ODE system\n",
    "PyGOM – A Python Package for Simplifying Modelling with Systems of Ordinary Differential Equations https://arxiv.org/pdf/1803.06934.pdf"
   ]
  },
  {
   "cell_type": "code",
   "execution_count": null,
   "metadata": {},
   "outputs": [],
   "source": [
    "# display equations\n",
    "print_ode2(SCIR_model)"
   ]
  },
  {
   "cell_type": "code",
   "execution_count": null,
   "metadata": {},
   "outputs": [],
   "source": [
    "# display graphical representation of the model\n",
    "SCIR_model.get_transition_graph()"
   ]
  },
  {
   "cell_type": "markdown",
   "metadata": {},
   "source": [
    "### SC2IR model"
   ]
  },
  {
   "cell_type": "markdown",
   "metadata": {
    "heading_collapsed": true
   },
   "source": [
    "#### Equations\n",
    "\n",
    "\\begin{equation}\n",
    "\\begin{split}\n",
    "\\dot{S} &= -\\beta (I + c_0 I_c) S + c_1 S_c - c_2 S (I + I_c)\\\\\n",
    "\\dot{S_c} &= - c_0 \\beta (I + c_0 I_c) S_c - c_1 S_c + c_2 S (I + I_c)\\\\\n",
    "\\dot{I} &= \\beta (I + c_0 I_c) S - \\gamma I - \\mu I + c_1 I_c - c_2 I (I + I_c)\\\\\n",
    "\\dot{I_c} &= \\beta (I + c_0 I_c) S_c - \\gamma I_c - \\mu I_c - c_1 I_c + c_2 I (I + I_c)\\\\\n",
    "\\dot{R} & = \\gamma (I + I_c)\\\\\n",
    "\\dot{D} & = \\mu (I + I_c)\n",
    "\\end{split}\n",
    "\\end{equation}\n",
    "\n",
    "The use of I as a state variable triggering susceptibles to execute caution is just one choice. In contrast with deaths, it does not accumulate over time and so retains the property of an active threat to society, rather than an historical one. Alternatively, one could use the daily death rate which is proportional to it.\n",
    "\n",
    "The effect of caution may be quadratic, since both the individual doing the infection and individual potentially being infected may be executing caution. To implement this we distinguish careful and non careful infectives. We ignore infectives making the transition to caution or relaxing it.\n",
    "\n",
    "#### Variables\n",
    "* $S$: Susceptible individuals living as normal\n",
    "* $S_c$: Susceptible individuals exercising pandemy precautions\n",
    "* $I$: Infected individuals non exercising pandemy precautions\n",
    "* $I_c$: Infected individuals exercising pandemy precautions \n",
    "* $R$: individuals who have recovered from disease and are now immune\n",
    "* $D$: Dead individuals\n",
    "* $N=S+S_c+I+I_c+R+D$ Total population size (constant)\n",
    "\n",
    "#### Parameters\n",
    "* $\\beta$ rate at which infected individuals contact susceptibles and infect them\n",
    "* $\\gamma$ rate at which infected individuals recover from disease and become immune\n",
    "* $\\mu$ death rate for infected individuals\n",
    "\n",
    "* $c_i$ three parameters characterizing cautionary response of population via class $S_c$\n",
    "\n",
    "    - c_0 : reduction factor for exposure for cautioned susceptibles\n",
    "\n",
    "    - c_1 : duration of caution (exponential decay time constant in days)\n",
    "\n",
    "    - c_2 : rate constant for transition from uncautioned to cautioned susceptible"
   ]
  },
  {
   "cell_type": "markdown",
   "metadata": {},
   "source": [
    "#### Implementation\n",
    "Using PyGOM, we will set up my simple SCIR model ODE system\n",
    "PyGOM – A Python Package for Simplifying Modelling with Systems of Ordinary Differential Equations https://arxiv.org/pdf/1803.06934.pdf"
   ]
  },
  {
   "cell_type": "code",
   "execution_count": null,
   "metadata": {},
   "outputs": [],
   "source": [
    "# display equations\n",
    "print_ode2(SC2IR_model)"
   ]
  },
  {
   "cell_type": "markdown",
   "metadata": {},
   "source": [
    "\n",
    "\\begin{equation}\n",
    "\\begin{split}\n",
    "\\dot{S} &= -\\beta (I + c_0 I_c) S + c_1 S_c - c_2 S (I + I_c)\\\\\n",
    "\\dot{S_c} &= - c_0 \\beta (I + c_0 I_c) S_c - c_1 S_c + c_2 S (I + I_c)\\\\\n",
    "\\dot{I} &= \\beta (I + c_0 I_c) S - \\gamma I - \\mu I\\\\\n",
    "\\dot{I_c} &= \\beta (I + c_0 I_c) S_c - \\gamma I_c - \\mu I_c\\\\\n",
    "\\dot{R} & = \\gamma (I + I_c)\\\\\n",
    "\\dot{D} & = \\mu (I + I_c)\n",
    "\\end{split}\n",
    "\\end{equation}\n"
   ]
  },
  {
   "cell_type": "code",
   "execution_count": null,
   "metadata": {},
   "outputs": [],
   "source": [
    "# display graphical representation of the model\n",
    "SC2IR_model.get_transition_graph()"
   ]
  },
  {
   "cell_type": "markdown",
   "metadata": {},
   "source": [
    "## Caution Extensions to SEIR Model"
   ]
  },
  {
   "cell_type": "markdown",
   "metadata": {},
   "source": [
    "### SEIR model"
   ]
  },
  {
   "cell_type": "markdown",
   "metadata": {},
   "source": [
    "#### Equations\n",
    "\n",
    "\\begin{equation}\n",
    "\\begin{split}\n",
    "\\dot{S} &= -\\beta I S\\\\\n",
    "\\dot{E} &= \\beta I S - \\alpha E\\\\\n",
    "\\dot{I} &= \\alpha E - \\gamma I - \\mu I\\\\\n",
    "\\dot{R} & = \\gamma I \\\\\n",
    "\\dot{D} & = \\mu I\n",
    "\\end{split}\n",
    "\\end{equation}\n",
    "\n",
    "\n",
    "#### Variables\n",
    "* $S$: Susceptible individuals\n",
    "* $E$: Exposed individuals\n",
    "* $I$: Infected individuals \n",
    "* $R$: individuals who have recovered from disease and are now immune\n",
    "* $D$: Dead individuals\n",
    "* $N=S+E+I+R+D$ Total population size (constant)\n",
    "\n",
    "#### Parameters\n",
    "* $\\beta$ rate at which infected individuals contact susceptibles and expose them to infection\n",
    "* $\\alpha$ rate at which exposed individuals become infected (1/(incubation time)\n",
    "* $\\gamma$ rate at which infected individuals recover from disease and become immune\n",
    "* $\\mu$ death rate for infected individuals"
   ]
  },
  {
   "cell_type": "markdown",
   "metadata": {},
   "source": [
    "#### Implementation\n",
    "Using PyGOM, we will set up my simple SCIR model ODE system\n",
    "PyGOM – A Python Package for Simplifying Modelling with Systems of Ordinary Differential Equations https://arxiv.org/pdf/1803.06934.pdf"
   ]
  },
  {
   "cell_type": "code",
   "execution_count": null,
   "metadata": {},
   "outputs": [],
   "source": [
    "# display equations\n",
    "print_ode2(SEIR_model)"
   ]
  },
  {
   "cell_type": "code",
   "execution_count": null,
   "metadata": {},
   "outputs": [],
   "source": [
    "# display graphical representation of the model\n",
    "SEIR_model.get_transition_graph()"
   ]
  },
  {
   "cell_type": "markdown",
   "metadata": {},
   "source": [
    "### SCEIR model"
   ]
  },
  {
   "cell_type": "markdown",
   "metadata": {},
   "source": [
    "#### Equations\n",
    "\n",
    "\\begin{equation}\n",
    "\\begin{split}\n",
    "\\dot{S} &= -\\beta I S + c_1 S_c - c_2*S*I\\\\\n",
    "\\dot{S_c} &= - c_0 \\beta I S_c - c_1 S_c + c_2*S*I\\\\\n",
    "\\dot{E} &= \\beta I (S + c_0 S_c) - \\alpha E\\\\\n",
    "\\dot{I} &= \\alpha E - \\gamma I - \\mu I\\\\\n",
    "\\dot{R} & = \\gamma I \\\\\n",
    "\\dot{D} & = \\mu I\n",
    "\\end{split}\n",
    "\\end{equation}\n",
    "\n",
    "The use of I as a state variable triggering susceptibles to execute caution is just one choice. In contrast with deaths, it does not accumulate over time and so retains the property of an active threat to society, rather than an historical one. Alternatively, one could use the daily death rate which is proportional to it.\n",
    "\n",
    "Actually, the effect of caution may be quadratic, since both the individual doing the infection and individual potentially being infected may be executing caution. The current version assumes that infectives do not change their precautionary measures in response to I. To implement this we would need to further distinguish careful and non careful infectives. This is done in the SC2IR model.\n",
    "\n",
    "#### Variables\n",
    "* $S$: Susceptible individuals living as normal\n",
    "* $S_c$: Susceptible individuals exercising pandemy precautions\n",
    "* $E$: Exposed individuals\n",
    "* $I$: Infected individuals \n",
    "* $R$: individuals who have recovered from disease and are now immune\n",
    "* $D$: Dead individuals\n",
    "* $N=S+S_c+E+I+R+D$ Total population size (constant)\n",
    "\n",
    "#### Parameters\n",
    "* $\\beta$ rate at which infected individuals contact susceptibles and infect them\n",
    "* $\\alpha$ rate at which exposed individuals become infected (1/(incubation time)\n",
    "* $\\gamma$ rate at which infected individuals recover from disease and become immune\n",
    "* $\\mu$ death rate for infected individuals\n",
    "\n",
    "* $c_i$ three parameters characterizing cautionary response of population via class $S_c$\n",
    "\n",
    "    - c_0 : reduction factor for exposure for cautioned susceptibles\n",
    "\n",
    "    - c_1 : duration of caution (exponential decay time constant in days)\n",
    "\n",
    "    - c_2 : rate constant for transition from uncautioned to cautioned susceptible"
   ]
  },
  {
   "cell_type": "markdown",
   "metadata": {},
   "source": [
    "#### Implementation\n",
    "Using PyGOM, we will set up my simple SCIR model ODE system\n",
    "PyGOM – A Python Package for Simplifying Modelling with Systems of Ordinary Differential Equations https://arxiv.org/pdf/1803.06934.pdf"
   ]
  },
  {
   "cell_type": "code",
   "execution_count": null,
   "metadata": {},
   "outputs": [],
   "source": [
    "# display equations\n",
    "print_ode2(SCEIR_model)"
   ]
  },
  {
   "cell_type": "code",
   "execution_count": null,
   "metadata": {},
   "outputs": [],
   "source": [
    "# display graphical representation of the model\n",
    "SCEIR_model.get_transition_graph()"
   ]
  },
  {
   "cell_type": "markdown",
   "metadata": {},
   "source": [
    "### SC3EIR model"
   ]
  },
  {
   "cell_type": "markdown",
   "metadata": {},
   "source": [
    "#### Equations\n",
    "\n",
    "\\begin{equation}\n",
    "\\begin{split}\n",
    "\\dot{S} &= -\\beta (I + c_0 I_c) S + c_1 S_c - c_2 S (I + I_c)\\\\\n",
    "\\dot{S_c} &= - c_0 \\beta (I + c_0 I_c) S_c - c_1 S_c + c_2 S (I + I_c)\\\\\n",
    "\\dot{E} &= \\beta (I + c_0 I_c) S - \\alpha E  + c_1 E_c - c_2 E (I + I_c)\\\\\n",
    "\\dot{E_c} &= c_0 \\beta (I + c_0 I_c) S_c - \\alpha E_c  - c_1 E_c + c_2 E (I + I_c)\\\\\n",
    "\\dot{I} &= \\alpha E - \\gamma I - \\mu I  + c_1 I_c - c_2 I (I + I_c)\\\\\n",
    "\\dot{I_c} &= \\alpha E_c - \\gamma I_c - \\mu I_c - c_1 I_c + c_2 I (I + I_c)\\\\\n",
    "\\dot{R} & = \\gamma (I + I_c) \\\\\n",
    "\\dot{D} & = \\mu (I + I_c)\n",
    "\\end{split}\n",
    "\\end{equation}\n",
    "\n",
    "The use of I as a state variable triggering susceptibles to execute caution is just one choice. In contrast with deaths, it does not accumulate over time and so retains the property of an active threat to society, rather than an historical one. Alternatively, one could use the daily death rate which is proportional to it.\n",
    "\n",
    "Actually, the effect of caution may be quadratic, since both the individual doing the infection and individual potentially being infected may be executing caution. The current version assumes that infectives do not change their precautionary measures in response to I. To implement this we would need to further distinguish careful and non careful infectives. This is done in the SC2IR model.\n",
    "\n",
    "#### Variables\n",
    "* $S$: Susceptible individuals living as normal\n",
    "* $S_c$: Susceptible individuals exercising pandemy precautions\n",
    "* $E$: Exposed individuals\n",
    "* $E_c$: Exposed individuals exercising caution\n",
    "* $I$: Infected individuals\n",
    "* $I_c$: Infected individuals exercising caution\n",
    "* $R$: individuals who have recovered from disease and are now immune\n",
    "* $D$: Dead individuals\n",
    "* $N=S+S_c+E+E_c+I+I_c+R+D$ Total population size (constant)\n",
    "\n",
    "#### Parameters\n",
    "* $\\beta$ rate at which infected individuals contact susceptibles and infect them\n",
    "* $\\alpha$ rate at which exposed individuals become infected (1/(incubation time)\n",
    "* $\\gamma$ rate at which infected individuals recover from disease and become immune\n",
    "* $\\mu$ death rate for infected individuals\n",
    "\n",
    "* $c_i$ three parameters characterizing cautionary response of population via class $S_c$\n",
    "\n",
    "    - c_0 : reduction factor for exposure for cautioned susceptibles\n",
    "\n",
    "    - c_1 : duration of caution (exponential decay time constant in days)\n",
    "\n",
    "    - c_2 : rate constant for transition from uncautioned to cautioned susceptible"
   ]
  },
  {
   "cell_type": "markdown",
   "metadata": {},
   "source": [
    "#### Implementation\n",
    "Using PyGOM, we will set up my simple SCIR model ODE system\n",
    "PyGOM – A Python Package for Simplifying Modelling with Systems of Ordinary Differential Equations https://arxiv.org/pdf/1803.06934.pdf"
   ]
  },
  {
   "cell_type": "code",
   "execution_count": null,
   "metadata": {},
   "outputs": [],
   "source": [
    "# display equations\n",
    "print_ode2(SC3EIR_model)"
   ]
  },
  {
   "cell_type": "code",
   "execution_count": null,
   "metadata": {},
   "outputs": [],
   "source": [
    "# display graphical representation of the model\n",
    "SC3EIR_model.get_transition_graph()"
   ]
  },
  {
   "cell_type": "markdown",
   "metadata": {},
   "source": [
    "## Caution Extensions to SEI3R Model"
   ]
  },
  {
   "cell_type": "markdown",
   "metadata": {},
   "source": [
    "### SEI3R model"
   ]
  },
  {
   "cell_type": "markdown",
   "metadata": {},
   "source": [
    "#### Equations\n",
    "\n",
    "\\begin{equation}\n",
    "\\begin{split}\n",
    "\\dot{S} &= -(\\beta_1 I_1 +\\beta_2 I_2 + \\beta_3 I_3) S\\\\\n",
    "\\dot{E} &=(\\beta_1 I_1 +\\beta_2 I_2 + \\beta_3 I_3 ) S - a E \\\\\n",
    "\\dot{I_1} &= a E - \\gamma_1 I_1 - p_1 I_1 \\\\\n",
    "\\dot{I_2} &= p_1 I_1 -\\gamma_2 I_2 - p_2 I_2 \\\\\n",
    "\\dot{I_3} & = p_2 I_2 -\\gamma_3 I_3 - \\mu I_3 \\\\\n",
    "\\dot{R} & = \\gamma_1 I_1 + \\gamma_2 I_2 + \\gamma_3 I_3 \\\\\n",
    "\\dot{D} & = \\mu I_3\n",
    "\\end{split}\n",
    "\\end{equation}\n",
    "\n",
    "This model (by Dr. Alison for example) involves exposed but not infectious individuals and three classes of infective states with increasing severity.\n",
    "The latter two involve hospitalization with the last in ICU.\n",
    "\n",
    "#### Variables\n",
    "* $S$: Susceptible individuals living as normal\n",
    "* $E$: Exposed individuals - infected but not yet infectious or symptomatic\n",
    "* $I_i$: Infected individuals in severity class $i$. Severity increaes with $i$ and we assume individuals must pass through all previous classes\n",
    "  * $I_1$: Mild infection (hospitalization not required)\n",
    "  * $I_2$: Severe infection (hospitalization required)\n",
    "  * $I_3$: Critical infection (ICU required)\n",
    "* $R$: individuals who have recovered from disease and are now immune\n",
    "* $D$: Dead individuals\n",
    "* $N=S+E+I_1+I_2+I_3+R+D$ Total population size (constant)\n",
    "\n",
    "#### Parameters\n",
    "* $\\beta_i$ rate at which infected individuals in class $I_i$ contact susceptibles and infect them\n",
    "* $a$ rate of progression from the exposed to infected class\n",
    "* $\\gamma_i$ rate at which infected individuals in class $I_i$ recover from disease and become immune\n",
    "* $p_i$ rate at which infected individuals in class $I_i$ progress to class $I_{I+1}$\n",
    "* $\\mu$ death rate for individuals in the most severe stage of disease"
   ]
  },
  {
   "cell_type": "markdown",
   "metadata": {},
   "source": [
    "#### Implementation\n",
    "Using PyGOM, we will set up the model ODE system\n",
    "PyGOM – A Python Package for Simplifying Modelling with Systems of Ordinary Differential Equations https://arxiv.org/pdf/1803.06934.pdf"
   ]
  },
  {
   "cell_type": "code",
   "execution_count": null,
   "metadata": {},
   "outputs": [],
   "source": [
    "# display equations\n",
    "print_ode2(SEI3R_model)"
   ]
  },
  {
   "cell_type": "code",
   "execution_count": null,
   "metadata": {},
   "outputs": [],
   "source": [
    "# display graphical representation of the model\n",
    "SEI3R_model.get_transition_graph()"
   ]
  },
  {
   "cell_type": "markdown",
   "metadata": {},
   "source": [
    "### SCEI3R model"
   ]
  },
  {
   "cell_type": "markdown",
   "metadata": {},
   "source": [
    "#### Equations\n",
    "\n",
    "\\begin{equation}\n",
    "\\begin{split}\n",
    "\\dot{S} &= -(\\beta_1 I_1 +\\beta_2 I_2 + \\beta_3 I_3) S + c_1 S_c - c_2*S*I_3\\\\\n",
    "\\dot{S_c} &= - c_0(\\beta_1 I_1 +\\beta_2 I_2 + \\beta_3 I_3) S_c - c_1 S_c + c_2*S*I_3\\\\\n",
    "\\dot{E} &=(\\beta_1 I_1 +\\beta_2 I_2 + \\beta_3 I_3 ) (S + c_0 S_c) - a E \\\\\n",
    "\\dot{I_1} &= a E - \\gamma_1 I_1 - p_1 I_1 \\\\\n",
    "\\dot{I_2} &= p_1 I_1 -\\gamma_2 I_2 - p_2 I_2 \\\\\n",
    "\\dot{I_3} & = p_2 I_2 -\\gamma_3 I_3 - \\mu I_3 \\\\\n",
    "\\dot{R} & = \\gamma_1 I_1 + \\gamma_2 I_2 + \\gamma_3 I_3 \\\\\n",
    "\\dot{D} & = \\mu I_3\n",
    "\\end{split}\n",
    "\\end{equation}\n",
    "\n",
    "The use of I_3 as a state variable triggering susceptibles to execute caution is just one choice. In contrast with deaths, it does not accumulate over time and so retains the property of an active threat to society, rather than an historical one.\n",
    "\n",
    "Actually, the effect of caution may be quadratic, since both the individual doing the infection and individual potentially being infected may be executing caution. The current version assumes that infectives do not change their precautionary measures in response to I_3. To implement this we would need to further distinguish careful and non careful infectives at least up to the I_1 level. This is done in the SC3EI3R model.\n",
    "\n",
    "#### Variables\n",
    "* $S$: Susceptible individuals living as normal\n",
    "* $S_c$: Susceptible individuals exercising pandemy precautions\n",
    "* $E$: Exposed individuals - infected but not yet infectious or symptomatic\n",
    "* $I_i$: Infected individuals in severity class $i$. Severity increaes with $i$ and we assume individuals must pass through all previous classes\n",
    "  * $I_1$: Mild infection (hospitalization not required)\n",
    "  * $I_2$: Severe infection (hospitalization required)\n",
    "  * $I_3$: Critical infection (ICU required)\n",
    "* $R$: individuals who have recovered from disease and are now immune\n",
    "* $D$: Dead individuals\n",
    "* $N=S+S_c+E+I_1+I_2+I_3+R+D$ Total population size (constant)\n",
    "\n",
    "#### Parameters\n",
    "* $\\beta_i$ rate at which infected individuals in class $I_i$ contact susceptibles and infect them\n",
    "* $a$ rate of progression from the exposed to infected class\n",
    "* $\\gamma_i$ rate at which infected individuals in class $I_i$ recover from disease and become immune\n",
    "* $p_i$ rate at which infected individuals in class $I_i$ progress to class $I_{I+1}$\n",
    "* $\\mu$ death rate for individuals in the most severe stage of disease\n",
    "\n",
    "* $c_i$ three parameters characterizing cautionary response of population via class $S_c$\n",
    "\n",
    "    - c_0 : reduction factor for exposure for cautioned susceptibles\n",
    "\n",
    "    - c_1 : duration of caution (exponential decay time constant in days)\n",
    "\n",
    "    - c_2 : rate constant for transition from uncautioned to cautioned susceptible\n",
    "\n",
    "\n"
   ]
  },
  {
   "cell_type": "markdown",
   "metadata": {},
   "source": [
    "#### Implementation\n",
    "Using PyGOM, we will set up the model ODE system\n",
    "PyGOM – A Python Package for Simplifying Modelling with Systems of Ordinary Differential Equations https://arxiv.org/pdf/1803.06934.pdf"
   ]
  },
  {
   "cell_type": "code",
   "execution_count": null,
   "metadata": {},
   "outputs": [],
   "source": [
    "# display equations\n",
    "print_ode2(SCEI3R_model)"
   ]
  },
  {
   "cell_type": "code",
   "execution_count": null,
   "metadata": {},
   "outputs": [],
   "source": [
    "# display graphical representation of the model\n",
    "SCEI3R_model.get_transition_graph()"
   ]
  },
  {
   "cell_type": "markdown",
   "metadata": {},
   "source": [
    "### SC3EI3R model with caution distinguished $E$ and  𝐼1"
   ]
  },
  {
   "cell_type": "markdown",
   "metadata": {
    "colab_type": "text",
    "heading_collapsed": true,
    "id": "wAb1ddE0gwhA"
   },
   "source": [
    "#### Equations\n",
    "\n",
    "\\begin{equation}\n",
    "\\begin{split}\n",
    "\\dot{S} &= -(\\beta_1 (I_1 + c_0 I_{1c}) +\\beta_2 I_2 + \\beta_3 I_3) S + c_1 S_c - c_2*S*I_3\\\\\n",
    "\\dot{S_c} &= - c_0(\\beta_1 (I_1 + c_0 I_{1c}) +\\beta_2 I_2 + \\beta_3 I_3) S_c - c_1 S_c + c_2*S*I_3\\\\\n",
    "\\dot{E} &=(\\beta_1 (I_1 + c_0 I_{1c}) +\\beta_2 I_2 + \\beta_3 I_3 ) S - a E + c_1 E_c - c_2*E*I_3\\\\\n",
    "\\dot{E_c} &=(\\beta_1 (I_1 + c_0 I_{1c}) +\\beta_2 I_2 + \\beta_3 I_3 ) c_0 S_c - a E - c_1 E_c + c_2*E*I_3\\\\\n",
    "\\dot{I_1} &= a E - \\gamma_1 I_1 - p_1 I_1 + c_1 I_{1c} - c_2*I_{1c}*I_3\\\\\n",
    "\\dot{I_{1c}} &= a E_c - \\gamma_1 I_{1c} - p_1 I_{1c} - c_1 I_{1c} + c_2*I_{1c}*I_3\\\\\n",
    "\\dot{I_2} &= p_1 (I_1 + I_{1c}) -\\gamma_2 I_2 - p_2 I_2 \\\\\n",
    "\\dot{I_3} & = p_2 I_2 -\\gamma_3 I_3 - \\mu I_3 \\\\\n",
    "\\dot{R} & = \\gamma_1 (I_1 + I_{1c}) + \\gamma_2 I_2 + \\gamma_3 I_3 \\\\\n",
    "\\dot{D} & = \\mu I_3\n",
    "\\end{split}\n",
    "\\end{equation}\n",
    "\n",
    "The use of I_3 as a state variable triggering susceptibles to execute caution is just one choice. In contrast with deaths, it does not accumulate over time and so retains the property of an active threat to society, rather than an historical one.\n",
    "\n",
    "Here, the effect of caution is quadratic, since both the individual doing the infection and individual potentially being infected may be executing caution. To implement this we distinguish careful and non careful exposed and infectives up to the I_1 level. Once in hospital there is no difference, since all caution is executed wrt infected patients.\n",
    "We ignore transition in caution among infected intervals as a second order effect: could be included as in SC2IR model.\n",
    "\n",
    "\n",
    "#### Variables\n",
    "* $S$: Susceptible individuals living as normal\n",
    "* $S_c$: Susceptible individuals exercising pandemy precautions\n",
    "* $E$: Exposed individuals living as normal - infected but not yet infectious or symptomatic\n",
    "* $E_c$: Exposed individuals exercising pandemy precautions\n",
    "* $I_i$: Infected individuals in severity class $i$. Severity increaes with $i$ and we assume individuals must pass through all previous classes. Split non hospital cases by caution.\n",
    "  * $I_1$: Mild infection (hospitalization not required), living as normal\n",
    "  * $I_{1c}$: Mild infection (hospitalization not required), exercising caution\n",
    "  * $I_2$: Severe infection (hospitalization required)\n",
    "  * $I_3$: Critical infection (ICU required)\n",
    "* $R$: individuals who have recovered from disease and are now immune\n",
    "* $D$: Dead individuals\n",
    "* $N=S+S_c+E+E_c+I_{1c}+I_1+I_2+I_3+R+D$ Total population size (constant)\n",
    "\n",
    "#### Parameters\n",
    "* $\\beta_i$ rate at which infected individuals in class $I_i$ contact susceptibles and infect them\n",
    "* $a$ rate of progression from the exposed to infected class\n",
    "* $\\gamma_i$ rate at which infected individuals in class $I_i$ recover from disease and become immune\n",
    "* $p_i$ rate at which infected individuals in class $I_i$ progress to class $I_{I+1}$\n",
    "* $\\mu$ death rate for individuals in the most severe stage of disease\n",
    "\n",
    "* $c_i$ three parameters characterizing cautionary response of population via class $S_c$\n",
    "\n",
    "    - c_0 : reduction factor for exposure for cautioned susceptibles\n",
    "\n",
    "    - c_1 : duration of caution (exponential decay time constant in days)\n",
    "\n",
    "    - c_2 : rate constant for transition from uncautioned to cautioned susceptible"
   ]
  },
  {
   "cell_type": "markdown",
   "metadata": {
    "slideshow": {
     "slide_type": "slide"
    }
   },
   "source": [
    "####  Implementation"
   ]
  },
  {
   "cell_type": "code",
   "execution_count": null,
   "metadata": {},
   "outputs": [],
   "source": [
    "# display equations\n",
    "print_ode2(SC3EI3R_model)"
   ]
  },
  {
   "cell_type": "code",
   "execution_count": null,
   "metadata": {},
   "outputs": [],
   "source": [
    "# display graphical representation of the model\n",
    "SC3EI3R_model.get_transition_graph()"
   ]
  },
  {
   "cell_type": "markdown",
   "metadata": {},
   "source": [
    "## Caution Extensions to SEIR Model with Economic Supression\n",
    "This model is an extension of the cautionary model to include a class of susceptibles $S_u$ who are impervious to caution. \n",
    "The main influencer for this class is the economy, which we introduce as a new state variable W, normalized to 1 in the absence of pandemic.\n",
    "The model assumption is that fractional depression of the economy influences some susceptibles (both cautioned and uncautioned) to become uncautionable,\n",
    "with a rate coefficient proportional to the economic depression (1-W). The economy itself is mdoelled with logistic growth to a state 1 in the absence of pandemic\n",
    "and 1- $\\kappa S_c$ with pandemic. i.e. individuals exercising caution are the main correlate of economic depression (but the only suppressor for the pandemic).\n",
    "As for the cautioned class, uncautionable individuals also return to normal sussceptibles with exponential decay at rate $k_1$."
   ]
  },
  {
   "cell_type": "markdown",
   "metadata": {},
   "source": [
    "### SC2UIR model"
   ]
  },
  {
   "cell_type": "markdown",
   "metadata": {},
   "source": [
    "#### Equations\n",
    "\\begin{equation}\n",
    "\\begin{split}\n",
    "\\dot{S} &= -\\beta (I + c_0 I_c) S + c_1 S_c - c_2 S (I + I_c) -  k_u (1 - W) S + k_1 S_u\\\\\n",
    "\\dot{S_c} &= - c_0 \\beta (I + c_0 I_c) S_c - c_1 S_c + c_2 S (I + I_c) -  k_u (1 - W) S_c\\\\\n",
    "\\dot{I} &= \\beta (I + c_0 I_c) S - \\gamma I - \\mu I + c_1 I_c - c_2 I (I + I_c)\\\\\n",
    "\\dot{I_c} &= c_0 \\beta (I + c_0 I_c) S_c - \\gamma I_c - \\mu I_c - c_1 I_c + c_2 I (I + I_c)\\\\\n",
    "\\dot{R} & = \\gamma (I + I_c) \\\\\n",
    "\\dot{D} & = \\mu (I + I_c) \\\\\n",
    "\\dot{S_u} & = -\\beta (I + c_0 I_c) S_u + k_u (1 - W) (S + S_c)  - k_1 S_u \\\\\n",
    "\\dot{W} & = k_w W (1 - \\kappa S_c - W)\n",
    "\\end{split}\n",
    "\\end{equation}\n",
    "\n",
    "#### Variables\n",
    "* $S$: Susceptible individuals living as normal\n",
    "* $S_c$: Susceptible individuals exercising pandemy precautions\n",
    "* $S_u$: Susceptible individuals immune to caution because of economic downturn\n",
    "* $E$: Exposed individuals\n",
    "* $E_c$: Exposed individuals exercising caution\n",
    "* $I$: Infected individuals\n",
    "* $I_c$: Infected individuals exercising caution\n",
    "* $R$: individuals who have recovered from disease and are now immune\n",
    "* $D$: Dead individuals\n",
    "* $W$: Economic status obeying a logistic law with caution individuals downturning\n",
    "* $N=S+S_c+S_u+E+E_c+I+I_c+R+D$ Total population size (constant)\n",
    "\n",
    "#### Parameters\n",
    "* $\\beta$ rate at which infected individuals contact susceptibles and infect them\n",
    "* $\\alpha$ rate at which exposed individuals become infected (1/(incubation time)\n",
    "* $\\gamma$ rate at which infected individuals recover from disease and become immune\n",
    "* $\\mu$ death rate for infected individuals\n",
    "\n",
    "* $c_i$ three parameters characterizing cautionary response of population via class $S_c$\n",
    "\n",
    "    - c_0 : reduction factor for exposure for cautioned susceptibles\n",
    "\n",
    "    - c_1 : inverse duration of caution (exponential decay time constant in days)\n",
    "\n",
    "    - c_2 : rate constant for transition from uncautioned to cautioned susceptible\n",
    "* four parameters coupling to economy and uncautionable individuals\n",
    "    - k_w : rate coefficient of economy equilibration\n",
    "    - k_u : rate coefficient of transition from uncautioned to uncautionable\n",
    "    - k_1 : inverse duration of uncautionable state\n",
    "    - $\\kappa$ : economic downturn of caution (proportional to number cautious)"
   ]
  },
  {
   "cell_type": "markdown",
   "metadata": {
    "slideshow": {
     "slide_type": "slide"
    }
   },
   "source": [
    "####  Implementation"
   ]
  },
  {
   "cell_type": "code",
   "execution_count": null,
   "metadata": {},
   "outputs": [],
   "source": [
    "# display equations\n",
    "print_ode2(SC2UIR_model)"
   ]
  },
  {
   "cell_type": "code",
   "execution_count": null,
   "metadata": {},
   "outputs": [],
   "source": [
    "# SC2UIR_model.get_transition_graph() # ode was defined explicitly, no transition available"
   ]
  },
  {
   "cell_type": "code",
   "execution_count": null,
   "metadata": {},
   "outputs": [],
   "source": [
    "# ode = SimulateOde(state, param_list, transition=transition)\n",
    "# ode = ode.get_unrolled_obj()\n",
    "# R0(ode, ['I','I_c'])   # produces error, no valid subset found"
   ]
  },
  {
   "cell_type": "markdown",
   "metadata": {},
   "source": [
    "### SC3UEIR model"
   ]
  },
  {
   "cell_type": "markdown",
   "metadata": {},
   "source": [
    "#### Equations\n",
    "\\begin{equation}\n",
    "\\begin{split}\n",
    "\\dot{S} &= -\\beta (I + c_0 I_c) S + c_1 S_c - c_2 S (I + I_c) -  k_u (1 - W) S + k_1 S_u\\\\\n",
    "\\dot{S_c} &= - c_0 \\beta (I + c_0 I_c) S_c - c_1 S_c + c_2 S (I + I_c) -  k_u (1 - W) S_c\\\\\n",
    "\\dot{E} &= \\beta (I + c_0 I_c) (S + S_u) - \\alpha E + c_1 E_c - c_2 E (I + I_c)\\\\\n",
    "\\dot{E_c} &= c_0 \\beta (I + c_0 I_c) S_c - \\alpha E_c - c_1 E_c + c_2 E (I + I_c)\\\\\n",
    "\\dot{I} &= \\alpha E - \\gamma I - \\mu I + c_1 I_c - c_2 I (I + I_c)\\\\\n",
    "\\dot{I_c} &= \\alpha E_c - \\gamma I_c - \\mu I_c - c_1 I_c + c_2 I (I + I_c)\\\\\n",
    "\\dot{R} & = \\gamma (I + I_c) \\\\\n",
    "\\dot{D} & = \\mu (I + I_c) \\\\\n",
    "\\dot{S_u} & = -\\beta (I + c_0 I_c) S_u + k_u (1 - W) (S + S_c)  - k_1 S_u \\\\\n",
    "\\dot{W} & = k_w W (1 - \\kappa S_c - W)\n",
    "\\end{split}\n",
    "\\end{equation}\n",
    "\n",
    "#### Variables\n",
    "* $S$: Susceptible individuals living as normal\n",
    "* $S_c$: Susceptible individuals exercising pandemy precautions\n",
    "* $S_u$: Susceptible individuals immune to caution because of economic downturn\n",
    "* $E$: Exposed individuals\n",
    "* $E_c$: Exposed individuals exercising caution\n",
    "* $I$: Infected individuals\n",
    "* $I_c$: Infected individuals exercising caution\n",
    "* $R$: individuals who have recovered from disease and are now immune\n",
    "* $D$: Dead individuals\n",
    "* $W$: Economic status obeying a logistic law with caution individuals downturning\n",
    "* $N=S+S_c+S_u+E+E_c+I+I_c+R+D$ Total population size (constant)\n",
    "\n",
    "#### Parameters\n",
    "* $\\beta$ rate at which infected individuals contact susceptibles and infect them\n",
    "* $\\alpha$ rate at which exposed individuals become infected (1/(incubation time)\n",
    "* $\\gamma$ rate at which infected individuals recover from disease and become immune\n",
    "* $\\mu$ death rate for infected individuals\n",
    "\n",
    "* $c_i$ three parameters characterizing cautionary response of population via class $S_c$\n",
    "\n",
    "    - c_0 : reduction factor for exposure for cautioned susceptibles\n",
    "\n",
    "    - c_1 : inverse duration of caution (exponential decay time constant in days)\n",
    "\n",
    "    - c_2 : rate constant for transition from uncautioned to cautioned susceptible\n",
    "* four parameters coupling to economy and uncautionable individuals\n",
    "    - k_w : rate coefficient of economy equilibration\n",
    "    - k_u : rate coefficient of transition from uncautioned to uncautionable\n",
    "    - k_1 : inverse duration of uncautionable state\n",
    "    - $\\kappa$ : economic downturn of caution (proportional to number cautious)"
   ]
  },
  {
   "cell_type": "markdown",
   "metadata": {
    "slideshow": {
     "slide_type": "slide"
    }
   },
   "source": [
    "####  Implementation"
   ]
  },
  {
   "cell_type": "code",
   "execution_count": null,
   "metadata": {},
   "outputs": [],
   "source": [
    "# display equations\n",
    "print_ode2(SC3UEIR_model)"
   ]
  },
  {
   "cell_type": "markdown",
   "metadata": {},
   "source": [
    "### SC3UEI3R model"
   ]
  },
  {
   "cell_type": "markdown",
   "metadata": {},
   "source": [
    "#### Equations \n",
    "\n",
    "\\begin{equation}\n",
    "\\begin{split}\n",
    "\\dot{S} &={} -(\\beta_1 (I_1 + c_0 I_c) + \\beta_2 I_2 + \\beta_3 I_3) S + c_1 S_c - c_2 S I_3 - S k_u (1-W) + k_1 S_u\\\\\n",
    "\\dot{S_c} &={} - c_0 (\\beta_1 (I_1 + c_0 I_c) + \\beta_2 I_2 + \\beta_3 I_3) S_c - c_1 S_c + c_2 S I_3 - k_u (1 - W) S_c \\\\\n",
    "\\dot{E} &= \\beta_1 (I_1 + c_0 I_c) (S + S_u) - \\alpha E + c_1 E_c - c_2 I_3 E\\\\\n",
    "\\dot{E_c} &= c_0 \\beta_1 (I_1 + c_0 I_c) S_c - \\alpha E_c - c_1 E_c + c_2 I_3 E\\\\\n",
    "\\dot{I_1} &= \\alpha E - \\gamma_1 I_1 - p_1 I_1 + c_1 I_c - c_2 I_3 I_1\\\\\n",
    "\\dot{I_c} &= \\alpha E_c - \\gamma_1 I_c - p_1 I_c - c_1 I_c + c_2 I_3 I_1\\\\\n",
    "\\dot{I_2} &= p_1 (I_1 + I_c) -\\gamma_2 I_2 - p_2 I_2 \\\\\n",
    "\\dot{I_3} & = p_2 I_2 -\\gamma_3 I_3 - \\mu I_3 \\\\ \n",
    "\\dot{R} & = \\gamma_1 (I_1 + I_c) +\\gamma_2 I_2 + \\gamma_3 I_3\\\\\n",
    "\\dot{D} & = \\mu (I_3) \\\\\n",
    "\\dot{S_u} & = -(\\beta_1 (I_1 + c_0 I_c)+\\beta_2 I_2 + \\beta_3 I_3) S_u + k_u (1 - W)(S+ S_c)  - k_1 S_u \\\\\n",
    "\\dot{W} & = k_w W (1 - \\kappa S_c - W)\\\\\n",
    "\\end{split}\n",
    "\\end{equation}\n",
    "\n",
    "#### Variables\n",
    "* $S$: Susceptible individuals living as normal\n",
    "* $S_c$: Susceptible individuals exercising pandemy precautions\n",
    "* $S_u$: Susceptible individuals immune to caution because of economic downturn\n",
    "* $W$: Economic status obeying a logistic law with caution individuals downturning\n",
    "* $E$: Exposed individuals\n",
    "* $E_c$: Exposed individuals exercising caution\n",
    "* $I_i$: Infected individuals in severity class $i$. Severity increaes with $i$ and we assume individuals must pass through all previous classes. Split non hospital cases by caution.\n",
    "  * $I_1$: Mild infection (hospitalization not required), living as normal\n",
    "  * $I_c$: Mild infection (hospitalization not required), exercising caution\n",
    "  * $I_2$: Severe infection (hospitalization required)\n",
    "  * $I_3$: Critical infection (ICU required)\n",
    "* $R$: individuals who have recovered from disease and are now immune\n",
    "* $D$: Dead individuals\n",
    "* $N=S+S_c+S_u+E+E_c+I_1+I_c+I_2+I_3+R+D$ Total population size (constant)\n",
    "\n",
    "#### Parameters\n",
    "* $\\beta$ rate at which infected individuals contact susceptibles and infect them\n",
    "* $\\alpha$ rate at which exposed individuals become infected (1/(incubation time)\n",
    "* $\\gamma$ rate at which infected individuals recover from disease and become immune\n",
    "* $\\mu$ death rate for infected individuals\n",
    "* $\\gamma_i$ rate at which infected individuals in class $I_i$ recover from disease and become immune\n",
    "* $p_i$ rate at which infected individuals in class $I_i$ progress to class $I_{I+1}$\n",
    "* $c_i$ three parameters characterizing cautionary response of population via class $S_c$\n",
    "\n",
    "    - $c_0$ : reduction factor for exposure for cautioned susceptibles\n",
    "\n",
    "    - $c_1$ : inverse duration of caution (exponential decay time constant in days)\n",
    "\n",
    "    - $c_2$ : rate constant for transition from uncautioned to cautioned susceptible\n",
    "* four parameters coupling to economy and uncautionable individuals\n",
    "    - $k_w$ : rate coefficient of economy equilibration\n",
    "    - $k_u$ : rate coefficient of transition from uncautioned to uncautionable\n",
    "    - $k_1$ : inverse duration of uncautionable state\n",
    "    - $\\kappa$ : economic downturn of caution (proportional to number cautious)"
   ]
  },
  {
   "cell_type": "markdown",
   "metadata": {
    "slideshow": {
     "slide_type": "slide"
    }
   },
   "source": [
    "####  Implementation"
   ]
  },
  {
   "cell_type": "code",
   "execution_count": null,
   "metadata": {},
   "outputs": [],
   "source": [
    "# display equations\n",
    "print_ode2(SC3UEI3R_model) # name needs to be that of current model"
   ]
  },
  {
   "cell_type": "code",
   "execution_count": null,
   "metadata": {},
   "outputs": [],
   "source": []
  }
 ],
 "metadata": {
  "kernelspec": {
   "display_name": "Python 3",
   "language": "python",
   "name": "python3"
  },
  "toc": {
   "base_numbering": 1,
   "nav_menu": {
    "height": "523px",
    "width": "246px"
   },
   "number_sections": true,
   "sideBar": true,
   "skip_h1_title": false,
   "title_cell": "Table of Contents",
   "title_sidebar": "Contents",
   "toc_cell": false,
   "toc_position": {
    "height": "calc(100% - 180px)",
    "left": "10px",
    "top": "150px",
    "width": "305.0918884277344px"
   },
   "toc_section_display": true,
   "toc_window_display": true
  }
 },
 "nbformat": 4,
 "nbformat_minor": 4
}
