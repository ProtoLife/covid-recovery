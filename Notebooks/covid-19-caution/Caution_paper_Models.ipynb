{
 "cells": [
  {
   "cell_type": "markdown",
   "metadata": {
    "heading_collapsed": true
   },
   "source": [
    "# Notes on current version:\n",
    "For TOC if missing from command line try\n",
    "jupyter nbextensions_configurator enable\n",
    "then toggle nbextensions, restart.\n",
    "\n",
    "1. 1.9.2020 Managed to convert ODE models for economic extension to transition model ready for stochastic simulation, using separate birth death list\n",
    "            See section on SC2UIR model. Not done for other two economic extensions yet\n",
    "2. 1.9.2020 Implemented stochastic simulation (Tau-leap method) using PyGom inbuilt capabilities: for SCIR simulation only so far\n",
    "            Neeed to use integer N>>1, not 1.0, for stochastic simulation. Calculates in a few minutes for N=10000, rescaled ICUfrac to 0.02 (x10). N=100000 didn't finish in 10m."
   ]
  },
  {
   "cell_type": "markdown",
   "metadata": {},
   "source": [
    "# Model Definitions"
   ]
  },
  {
   "cell_type": "markdown",
   "metadata": {},
   "source": [
    "## Utilities for custom extension of PyGom"
   ]
  },
  {
   "cell_type": "code",
   "execution_count": 1,
   "metadata": {},
   "outputs": [],
   "source": [
    "# import required packages\n",
    "import os \n",
    "import csv\n",
    "from sympy import symbols, init_printing\n",
    "import numpy as np\n",
    "import matplotlib\n",
    "%matplotlib inline\n",
    "import seaborn as sb\n",
    "from matplotlib import pyplot as plt\n",
    "import sympy\n",
    "import itertools\n",
    "import scipy\n",
    "import datetime\n",
    "import matplotlib.dates as mdates\n",
    "from pygom import DeterministicOde, Transition, SimulateOde, TransitionType, SquareLoss\n",
    "from scipy.optimize import minimize\n",
    "\n",
    "import pickle as pk\n",
    "import jsonpickle as jpk\n",
    "\n",
    "from cycler import cycler\n",
    "from pandas.plotting import register_matplotlib_converters\n",
    "register_matplotlib_converters()\n",
    "import pwlf"
   ]
  },
  {
   "cell_type": "code",
   "execution_count": 2,
   "metadata": {},
   "outputs": [
    {
     "data": {
      "text/html": [
       "<style>.container { width:100% !important; }</style>"
      ],
      "text/plain": [
       "<IPython.core.display.HTML object>"
      ]
     },
     "metadata": {},
     "output_type": "display_data"
    }
   ],
   "source": [
    "from models import *"
   ]
  },
  {
   "cell_type": "code",
   "execution_count": 3,
   "metadata": {},
   "outputs": [],
   "source": [
    "savefigs = False # whether to save specific figures for paper to .../figures directory"
   ]
  },
  {
   "cell_type": "code",
   "execution_count": 4,
   "metadata": {},
   "outputs": [],
   "source": [
    "\n",
    "# This cell adds two methods to the DeterministicODE class of pygom\n",
    "# dumpparams: stores params in a file './params/Model_Name.pk'\n",
    "# loadparams: loads params from same file.  returns None if any problem finding the file.\n",
    "# e.g. will be accessed by SCIR.dumparams() or SCIR.loadparams()\n",
    "# This stuff needs modules os, sys, pickle as pk.\n",
    "\n",
    "def dumpparams(self,run_id=''): # Have to add self since this will become a method\n",
    "    mname = self.modelname\n",
    "    dirnm = os.getcwd()\n",
    "    pfile = dirnm+'/params/'+mname+'.pk'\n",
    "    try:\n",
    "        params = self.params.copy()\n",
    "        with open(pfile,'wb') as fp:\n",
    "            pk.dump(params,fp,protocol=pk.HIGHEST_PROTOCOL)\n",
    "        print('dumped params to',pfile)\n",
    "        if run_id != '':\n",
    "            pfile2 = dirnm+'/params/'+run_id+'.pk'\n",
    "            with open(pfile2,'wb') as fp:\n",
    "                pk.dump(params,fp,protocol=pk.HIGHEST_PROTOCOL)\n",
    "            print('dumped params to',pfile2)\n",
    "    except:\n",
    "        print('problem dumping params to ',pfile)\n",
    "\n",
    "\n",
    "def loadparams(self,run_id=''): # Have to add self since this will become a method\n",
    "    mname = self.modelname\n",
    "    dirnm = os.getcwd()\n",
    "    if run_id == '':\n",
    "        pfile = dirnm+'/params/'+mname+'.pk'\n",
    "    else:\n",
    "        pfile = dirnm+'/params/'+run_id+'.pk'\n",
    "    try:\n",
    "        with open(pfile,'rb') as fp:\n",
    "            params = pk.load(fp)\n",
    "            print('loaded params from ',pfile,':')\n",
    "    except:\n",
    "        print(\"problem loading\",pfile)\n",
    "        return None\n",
    "\n",
    "\n",
    "    nms = [x.name for x in self.param_list]\n",
    "    try:\n",
    "        self.params = params.copy()\n",
    "        self.parameters = params.copy()\n",
    "    except:\n",
    "        print('problem loading the params; none loaded')\n",
    "        return None\n",
    "    return True\n",
    "\n",
    "OdeClass = DeterministicOde().__class__\n",
    "setattr(OdeClass,'dumpparams', dumpparams)\n",
    "setattr(OdeClass,'loadparams', loadparams)\n",
    "\n",
    "\n",
    "\n"
   ]
  },
  {
   "cell_type": "code",
   "execution_count": 5,
   "metadata": {},
   "outputs": [],
   "source": [
    "def Float(x):\n",
    "    try:\n",
    "        rtn = float(x)\n",
    "    except:\n",
    "        rtn = float('NaN')\n",
    "    return rtn"
   ]
  },
  {
   "cell_type": "code",
   "execution_count": 6,
   "metadata": {
    "code_folding": []
   },
   "outputs": [],
   "source": [
    "def  print_ode2(self):\n",
    "        '''\n",
    "        Prints the ode in symbolic form onto the screen/console in actual\n",
    "        symbols rather than the word of the symbol.\n",
    "        \n",
    "        Based on the PyGOM built-in but adapted for Jupyter\n",
    "        Corrected by John McCaskill to avoid subscript format error\n",
    "        '''\n",
    "        A = self.get_ode_eqn()\n",
    "        B = sympy.zeros(A.rows,2)\n",
    "        for i in range(A.shape[0]):\n",
    "            B[i,0] = sympy.symbols('d' + '{' + str(self._stateList[i]) + '}'+ '/dt=')\n",
    "            B[i,1] = A[i]\n",
    "\n",
    "        return B"
   ]
  },
  {
   "cell_type": "code",
   "execution_count": 7,
   "metadata": {},
   "outputs": [
    {
     "data": {
      "text/html": [
       "<style>.container { width:100% !important; }</style>"
      ],
      "text/plain": [
       "<IPython.core.display.HTML object>"
      ]
     },
     "metadata": {},
     "output_type": "display_data"
    }
   ],
   "source": [
    "# Jupyter Specifics\n",
    "from IPython.display import display, HTML\n",
    "from ipywidgets.widgets import interact, interactive, IntSlider, FloatSlider, Layout, ToggleButton, ToggleButtons, fixed\n",
    "display(HTML(\"<style>.container { width:100% !important; }</style>\"))\n",
    "style = {'description_width': '100px'}\n",
    "slider_layout = Layout(width='99%')"
   ]
  },
  {
   "cell_type": "markdown",
   "metadata": {},
   "source": [
    "## Caution Extensions to SIR Model"
   ]
  },
  {
   "cell_type": "markdown",
   "metadata": {},
   "source": [
    "### SIR model"
   ]
  },
  {
   "cell_type": "markdown",
   "metadata": {},
   "source": [
    "#### Equations\n",
    "\n",
    "\\begin{equation}\n",
    "\\begin{split}\n",
    "\\dot{S} &= -\\beta I S\\\\\n",
    "\\dot{I} &= \\beta I S - \\gamma I - \\mu I\\\\\n",
    "\\dot{R} & = \\gamma I \\\\\n",
    "\\dot{D} & = \\mu I\n",
    "\\end{split}\n",
    "\\end{equation}\n",
    "\n",
    "\n",
    "#### Variables\n",
    "* $S$: Susceptible individuals\n",
    "* $I$: Infected individuals \n",
    "* $R$: individuals who have recovered from disease and are now immune\n",
    "* $D$: Dead individuals\n",
    "* $N=S+I+R+D$ Total population size (constant)\n",
    "\n",
    "#### Parameters\n",
    "* $\\beta$ rate at which infected individuals contact susceptibles and infect them\n",
    "* $\\gamma$ rate at which infected individuals recover from disease and become immune\n",
    "* $\\mu$ death rate for infected individuals"
   ]
  },
  {
   "cell_type": "markdown",
   "metadata": {},
   "source": [
    "#### Implementation\n",
    "Using PyGOM, we will set up my simple SCIR model ODE system\n",
    "PyGOM – A Python Package for Simplifying Modelling with Systems of Ordinary Differential Equations https://arxiv.org/pdf/1803.06934.pdf"
   ]
  },
  {
   "cell_type": "code",
   "execution_count": 8,
   "metadata": {},
   "outputs": [
    {
     "data": {
      "text/latex": [
       "$\\displaystyle \\left[\\begin{matrix}d{S}/dt= & - I S \\beta\\\\d{I}/dt= & I S \\beta - I \\gamma - I \\mu\\\\d{R}/dt= & I \\gamma\\\\d{D}/dt= & I \\mu\\end{matrix}\\right]$"
      ],
      "text/plain": [
       "Matrix([\n",
       "[d{S}/dt=,                 -I*S*beta],\n",
       "[d{I}/dt=, I*S*beta - I*gamma - I*mu],\n",
       "[d{R}/dt=,                   I*gamma],\n",
       "[d{D}/dt=,                      I*mu]])"
      ]
     },
     "execution_count": 8,
     "metadata": {},
     "output_type": "execute_result"
    }
   ],
   "source": [
    "# display equations\n",
    "print_ode2(SIR_model)"
   ]
  },
  {
   "cell_type": "code",
   "execution_count": 9,
   "metadata": {},
   "outputs": [
    {
     "data": {
      "image/png": "[encoded data removed]",
      "text/plain": [
       "<Figure size 432x288 with 1 Axes>"
      ]
     },
     "metadata": {
      "needs_background": "light"
     },
     "output_type": "display_data"
    },
    {
     "data": {
      "image/svg+xml": [
       "<?xml version=\"1.0\" encoding=\"UTF-8\" standalone=\"no\"?>\n",
       "<!DOCTYPE svg PUBLIC \"-//W3C//DTD SVG 1.1//EN\"\n",
       " \"http://www.w3.org/Graphics/SVG/1.1/DTD/svg11.dtd\">\n",
       "<!-- Generated by graphviz version 2.44.0 (20200408.0750)\n",
       " -->\n",
       "<!-- Pages: 1 -->\n",
       "<svg width=\"295pt\" height=\"98pt\"\n",
       " viewBox=\"0.00 0.00 295.00 98.00\" xmlns=\"http://www.w3.org/2000/svg\" xmlns:xlink=\"http://www.w3.org/1999/xlink\">\n",
       "<g id=\"graph0\" class=\"graph\" transform=\"scale(1 1) rotate(0) translate(4 94)\">\n",
       "<polygon fill=\"white\" stroke=\"transparent\" points=\"-4,4 -4,-94 291,-94 291,4 -4,4\"/>\n",
       "<!-- S -->\n",
       "<g id=\"node1\" class=\"node\">\n",
       "<title>S</title>\n",
       "<ellipse fill=\"none\" stroke=\"black\" cx=\"27\" cy=\"-45\" rx=\"27\" ry=\"18\"/>\n",
       "<text text-anchor=\"middle\" x=\"27\" y=\"-41.3\" font-family=\"Times,serif\" font-size=\"14.00\">S</text>\n",
       "</g>\n",
       "<!-- I -->\n",
       "<g id=\"node2\" class=\"node\">\n",
       "<title>I</title>\n",
       "<ellipse fill=\"none\" stroke=\"black\" cx=\"151\" cy=\"-45\" rx=\"27\" ry=\"18\"/>\n",
       "<text text-anchor=\"middle\" x=\"151\" y=\"-41.3\" font-family=\"Times,serif\" font-size=\"14.00\">I</text>\n",
       "</g>\n",
       "<!-- S&#45;&gt;I -->\n",
       "<g id=\"edge1\" class=\"edge\">\n",
       "<title>S&#45;&gt;I</title>\n",
       "<path fill=\"none\" stroke=\"black\" d=\"M54.17,-45C71.54,-45 94.57,-45 113.7,-45\"/>\n",
       "<polygon fill=\"black\" stroke=\"black\" points=\"113.87,-48.5 123.87,-45 113.87,-41.5 113.87,-48.5\"/>\n",
       "<text text-anchor=\"middle\" x=\"89\" y=\"-48.8\" font-family=\"Times,serif\" font-size=\"14.00\">β*I*S</text>\n",
       "</g>\n",
       "<!-- R -->\n",
       "<g id=\"node3\" class=\"node\">\n",
       "<title>R</title>\n",
       "<ellipse fill=\"none\" stroke=\"black\" cx=\"260\" cy=\"-72\" rx=\"27\" ry=\"18\"/>\n",
       "<text text-anchor=\"middle\" x=\"260\" y=\"-68.3\" font-family=\"Times,serif\" font-size=\"14.00\">R</text>\n",
       "</g>\n",
       "<!-- I&#45;&gt;R -->\n",
       "<g id=\"edge2\" class=\"edge\">\n",
       "<title>I&#45;&gt;R</title>\n",
       "<path fill=\"none\" stroke=\"black\" d=\"M176.55,-51.19C190.82,-54.8 209.03,-59.39 224.7,-63.34\"/>\n",
       "<polygon fill=\"black\" stroke=\"black\" points=\"224.01,-66.78 234.57,-65.83 225.73,-59.99 224.01,-66.78\"/>\n",
       "<text text-anchor=\"middle\" x=\"205.5\" y=\"-63.8\" font-family=\"Times,serif\" font-size=\"14.00\">γ*I</text>\n",
       "</g>\n",
       "<!-- D -->\n",
       "<g id=\"node4\" class=\"node\">\n",
       "<title>D</title>\n",
       "<ellipse fill=\"none\" stroke=\"black\" cx=\"260\" cy=\"-18\" rx=\"27\" ry=\"18\"/>\n",
       "<text text-anchor=\"middle\" x=\"260\" y=\"-14.3\" font-family=\"Times,serif\" font-size=\"14.00\">D</text>\n",
       "</g>\n",
       "<!-- I&#45;&gt;D -->\n",
       "<g id=\"edge3\" class=\"edge\">\n",
       "<title>I&#45;&gt;D</title>\n",
       "<path fill=\"none\" stroke=\"black\" d=\"M176.55,-38.81C190.82,-35.2 209.03,-30.61 224.7,-26.66\"/>\n",
       "<polygon fill=\"black\" stroke=\"black\" points=\"225.73,-30.01 234.57,-24.17 224.01,-23.22 225.73,-30.01\"/>\n",
       "<text text-anchor=\"middle\" x=\"205.5\" y=\"-36.8\" font-family=\"Times,serif\" font-size=\"14.00\">μ*I</text>\n",
       "</g>\n",
       "</g>\n",
       "</svg>\n"
      ],
      "text/plain": [
       "<graphviz.dot.Digraph at 0x125340fd0>"
      ]
     },
     "execution_count": 9,
     "metadata": {},
     "output_type": "execute_result"
    }
   ],
   "source": [
    "# display graphical representation of the model\n",
    "SIR_model.get_transition_graph()"
   ]
  },
  {
   "cell_type": "markdown",
   "metadata": {},
   "source": [
    "##### Derived equations, Jacobian and gradient"
   ]
  },
  {
   "cell_type": "code",
   "execution_count": 10,
   "metadata": {},
   "outputs": [
    {
     "data": {
      "text/latex": [
       "$\\displaystyle \\left[\\begin{matrix}- I S \\beta\\\\I S \\beta - I \\gamma - I \\mu\\\\I \\gamma\\\\I \\mu\\end{matrix}\\right]$"
      ],
      "text/plain": [
       "Matrix([\n",
       "[                -I*S*beta],\n",
       "[I*S*beta - I*gamma - I*mu],\n",
       "[                  I*gamma],\n",
       "[                     I*mu]])"
      ]
     },
     "execution_count": 10,
     "metadata": {},
     "output_type": "execute_result"
    }
   ],
   "source": [
    "SIR_model.get_ode_eqn()"
   ]
  },
  {
   "cell_type": "code",
   "execution_count": 11,
   "metadata": {},
   "outputs": [
    {
     "data": {
      "text/latex": [
       "$\\displaystyle \\left[\\begin{matrix}- I \\beta & - S \\beta & 0 & 0\\\\I \\beta & S \\beta - \\gamma - \\mu & 0 & 0\\\\0 & \\gamma & 0 & 0\\\\0 & \\mu & 0 & 0\\end{matrix}\\right]$"
      ],
      "text/plain": [
       "Matrix([\n",
       "[-I*beta,             -S*beta, 0, 0],\n",
       "[ I*beta, S*beta - gamma - mu, 0, 0],\n",
       "[      0,               gamma, 0, 0],\n",
       "[      0,                  mu, 0, 0]])"
      ]
     },
     "execution_count": 11,
     "metadata": {},
     "output_type": "execute_result"
    }
   ],
   "source": [
    "SIR_model.get_jacobian_eqn()"
   ]
  },
  {
   "cell_type": "code",
   "execution_count": 12,
   "metadata": {
    "scrolled": true
   },
   "outputs": [
    {
     "data": {
      "text/latex": [
       "$\\displaystyle \\left[\\begin{matrix}- I S & 0 & 0 & 0\\\\I S & - I & - I & 0\\\\0 & I & 0 & 0\\\\0 & 0 & I & 0\\end{matrix}\\right]$"
      ],
      "text/plain": [
       "Matrix([\n",
       "[-I*S,  0,  0, 0],\n",
       "[ I*S, -I, -I, 0],\n",
       "[   0,  I,  0, 0],\n",
       "[   0,  0,  I, 0]])"
      ]
     },
     "execution_count": 12,
     "metadata": {},
     "output_type": "execute_result"
    }
   ],
   "source": [
    "SIR_model.get_grad_eqn()"
   ]
  },
  {
   "cell_type": "markdown",
   "metadata": {},
   "source": [
    "#### R0"
   ]
  },
  {
   "cell_type": "code",
   "execution_count": 13,
   "metadata": {},
   "outputs": [],
   "source": [
    "from pygom.model.epi_analysis import R0"
   ]
  },
  {
   "cell_type": "code",
   "execution_count": 14,
   "metadata": {
    "scrolled": true
   },
   "outputs": [
    {
     "name": "stderr",
     "output_type": "stream",
     "text": [
      "/usr/local/lib/python3.7/site-packages/sympy/__init__.py:676: SymPyDeprecationWarning: \n",
      "\n",
      "importing sympy.matrices.matrices with 'from sympy import *' has been\n",
      "deprecated since SymPy 1.6. Use import sympy.matrices.matrices\n",
      "instead. See https://github.com/sympy/sympy/issues/18245 for more\n",
      "info.\n",
      "\n",
      "  deprecated_since_version=\"1.6\").warn()\n"
     ]
    },
    {
     "data": {
      "text/latex": [
       "$\\displaystyle 0$"
      ],
      "text/plain": [
       "0"
      ]
     },
     "execution_count": 14,
     "metadata": {},
     "output_type": "execute_result"
    }
   ],
   "source": [
    "state = ['S', 'I', 'R', 'D']\n",
    "param_list = ['beta', 'gamma','mu','N']\n",
    "transition_ode = [\n",
    "    Transition(origin='S',  equation='-beta*I*S'),\n",
    "    Transition(origin='I',  equation='beta*I*S-gamma*I-mu*I'),\n",
    "    Transition(origin='R',  equation='gamma*I'),\n",
    "    Transition(origin='D',  equation='mu*I')  \n",
    "    ]\n",
    "ode = SimulateOde(state, param_list, ode=transition_ode)\n",
    "ode = ode.get_unrolled_obj()\n",
    "R0(ode,['I'])"
   ]
  },
  {
   "cell_type": "markdown",
   "metadata": {},
   "source": [
    "### SCIR model"
   ]
  },
  {
   "cell_type": "markdown",
   "metadata": {},
   "source": [
    "#### Equations\n",
    "\n",
    "\\begin{equation}\n",
    "\\begin{split}\n",
    "\\dot{S} &= -\\beta I S + c_1 S_c - c_2*S*I\\\\\n",
    "\\dot{S_c} &= - c_0 \\beta I S_c - c_1 S_c + c_2*S*I\\\\\n",
    "\\dot{I} &= \\beta I S - \\gamma I - \\mu I\\\\\n",
    "\\dot{R} & = \\gamma I \\\\\n",
    "\\dot{D} & = \\mu I\n",
    "\\end{split}\n",
    "\\end{equation}\n",
    "\n",
    "The use of I as a state variable triggering susceptibles to execute caution is just one choice. In contrast with deaths, it does not accumulate over time and so retains the property of an active threat to society, rather than an historical one. Alternatively, one could use the daily death rate which is proportional to it.\n",
    "\n",
    "Actually, the effect of caution may be quadratic, since both the individual doing the infection and individual potentially being infected may be executing caution. The current version assumes that infectives do not change their precautionary measures in response to I. To implement this we would need to further distinguish careful and non careful infectives. This is done in the SC2IR model.\n",
    "\n",
    "#### Variables\n",
    "* $S$: Susceptible individuals living as normal\n",
    "* $S_c$: Susceptible individuals exercising pandemy precautions\n",
    "* $I$: Infected individuals \n",
    "* $R$: individuals who have recovered from disease and are now immune\n",
    "* $D$: Dead individuals\n",
    "* $N=S+S_c+I+R+D$ Total population size (constant)\n",
    "\n",
    "#### Parameters\n",
    "* $\\beta$ rate at which infected individuals contact susceptibles and infect them\n",
    "* $\\gamma$ rate at which infected individuals recover from disease and become immune\n",
    "* $\\mu$ death rate for infected individuals\n",
    "\n",
    "* $c_i$ three parameters characterizing cautionary response of population via class $S_c$\n",
    "\n",
    "    - c_0 : reduction factor for exposure for cautioned susceptibles\n",
    "\n",
    "    - c_1 : duration of caution (exponential decay time constant in days)\n",
    "\n",
    "    - c_2 : rate constant for transition from uncautioned to cautioned susceptible"
   ]
  },
  {
   "cell_type": "markdown",
   "metadata": {},
   "source": [
    "#### Implementation\n",
    "Using PyGOM, we will set up my simple SCIR model ODE system\n",
    "PyGOM – A Python Package for Simplifying Modelling with Systems of Ordinary Differential Equations https://arxiv.org/pdf/1803.06934.pdf"
   ]
  },
  {
   "cell_type": "code",
   "execution_count": 15,
   "metadata": {},
   "outputs": [
    {
     "data": {
      "text/latex": [
       "$\\displaystyle \\left[\\begin{matrix}d{S}/dt= & - I S \\beta - I S c_{2} + S_{c} c_{1}\\\\d{I}/dt= & I S \\beta + I S_{c} \\beta c_{0} - I \\gamma - I \\mu\\\\d{R}/dt= & I \\gamma\\\\d{D}/dt= & I \\mu\\\\d{S_c}/dt= & I S c_{2} - I S_{c} \\beta c_{0} - S_{c} c_{1}\\end{matrix}\\right]$"
      ],
      "text/plain": [
       "Matrix([\n",
       "[  d{S}/dt=,              -I*S*beta - I*S*c_2 + S_c*c_1],\n",
       "[  d{I}/dt=, I*S*beta + I*S_c*beta*c_0 - I*gamma - I*mu],\n",
       "[  d{R}/dt=,                                    I*gamma],\n",
       "[  d{D}/dt=,                                       I*mu],\n",
       "[d{S_c}/dt=,         I*S*c_2 - I*S_c*beta*c_0 - S_c*c_1]])"
      ]
     },
     "execution_count": 15,
     "metadata": {},
     "output_type": "execute_result"
    }
   ],
   "source": [
    "# display equations\n",
    "print_ode2(SCIR_model)"
   ]
  },
  {
   "cell_type": "code",
   "execution_count": 16,
   "metadata": {},
   "outputs": [
    {
     "data": {
      "image/png": "[encoded data removed]",
      "text/plain": [
       "<Figure size 432x288 with 1 Axes>"
      ]
     },
     "metadata": {
      "needs_background": "light"
     },
     "output_type": "display_data"
    },
    {
     "data": {
      "image/svg+xml": [
       "<?xml version=\"1.0\" encoding=\"UTF-8\" standalone=\"no\"?>\n",
       "<!DOCTYPE svg PUBLIC \"-//W3C//DTD SVG 1.1//EN\"\n",
       " \"http://www.w3.org/Graphics/SVG/1.1/DTD/svg11.dtd\">\n",
       "<!-- Generated by graphviz version 2.44.0 (20200408.0750)\n",
       " -->\n",
       "<!-- Pages: 1 -->\n",
       "<svg width=\"471pt\" height=\"98pt\"\n",
       " viewBox=\"0.00 0.00 471.00 98.00\" xmlns=\"http://www.w3.org/2000/svg\" xmlns:xlink=\"http://www.w3.org/1999/xlink\">\n",
       "<g id=\"graph0\" class=\"graph\" transform=\"scale(1 1) rotate(0) translate(4 94)\">\n",
       "<polygon fill=\"white\" stroke=\"transparent\" points=\"-4,4 -4,-94 467,-94 467,4 -4,4\"/>\n",
       "<!-- S -->\n",
       "<g id=\"node1\" class=\"node\">\n",
       "<title>S</title>\n",
       "<ellipse fill=\"none\" stroke=\"black\" cx=\"27\" cy=\"-42\" rx=\"27\" ry=\"18\"/>\n",
       "<text text-anchor=\"middle\" x=\"27\" y=\"-38.3\" font-family=\"Times,serif\" font-size=\"14.00\">S</text>\n",
       "</g>\n",
       "<!-- I -->\n",
       "<g id=\"node2\" class=\"node\">\n",
       "<title>I</title>\n",
       "<ellipse fill=\"none\" stroke=\"black\" cx=\"327\" cy=\"-45\" rx=\"27\" ry=\"18\"/>\n",
       "<text text-anchor=\"middle\" x=\"327\" y=\"-41.3\" font-family=\"Times,serif\" font-size=\"14.00\">I</text>\n",
       "</g>\n",
       "<!-- S&#45;&gt;I -->\n",
       "<g id=\"edge1\" class=\"edge\">\n",
       "<title>S&#45;&gt;I</title>\n",
       "<path fill=\"none\" stroke=\"black\" d=\"M52.52,-48.46C58.82,-49.87 65.63,-51.19 72,-52 164.61,-63.76 189.35,-67.41 282,-56 285.28,-55.6 288.67,-55.03 292.05,-54.36\"/>\n",
       "<polygon fill=\"black\" stroke=\"black\" points=\"293,-57.73 301.99,-52.13 291.47,-50.9 293,-57.73\"/>\n",
       "<text text-anchor=\"middle\" x=\"164\" y=\"-65.8\" font-family=\"Times,serif\" font-size=\"14.00\">β*I*S</text>\n",
       "</g>\n",
       "<!-- S_c -->\n",
       "<g id=\"node5\" class=\"node\">\n",
       "<title>S_c</title>\n",
       "<ellipse fill=\"none\" stroke=\"black\" cx=\"164\" cy=\"-18\" rx=\"27\" ry=\"18\"/>\n",
       "<text text-anchor=\"middle\" x=\"164\" y=\"-14.3\" font-family=\"Times,serif\" font-size=\"14.00\">S_c</text>\n",
       "</g>\n",
       "<!-- S&#45;&gt;S_c -->\n",
       "<g id=\"edge2\" class=\"edge\">\n",
       "<title>S&#45;&gt;S_c</title>\n",
       "<path fill=\"none\" stroke=\"black\" d=\"M53.39,-37.49C74.42,-33.75 104.52,-28.4 127.86,-24.25\"/>\n",
       "<polygon fill=\"black\" stroke=\"black\" points=\"128.49,-27.69 137.72,-22.49 127.26,-20.8 128.49,-27.69\"/>\n",
       "<text text-anchor=\"middle\" x=\"95.5\" y=\"-36.8\" font-family=\"Times,serif\" font-size=\"14.00\">c_2*I*S</text>\n",
       "</g>\n",
       "<!-- R -->\n",
       "<g id=\"node3\" class=\"node\">\n",
       "<title>R</title>\n",
       "<ellipse fill=\"none\" stroke=\"black\" cx=\"436\" cy=\"-72\" rx=\"27\" ry=\"18\"/>\n",
       "<text text-anchor=\"middle\" x=\"436\" y=\"-68.3\" font-family=\"Times,serif\" font-size=\"14.00\">R</text>\n",
       "</g>\n",
       "<!-- I&#45;&gt;R -->\n",
       "<g id=\"edge5\" class=\"edge\">\n",
       "<title>I&#45;&gt;R</title>\n",
       "<path fill=\"none\" stroke=\"black\" d=\"M352.55,-51.19C366.82,-54.8 385.03,-59.39 400.7,-63.34\"/>\n",
       "<polygon fill=\"black\" stroke=\"black\" points=\"400.01,-66.78 410.57,-65.83 401.73,-59.99 400.01,-66.78\"/>\n",
       "<text text-anchor=\"middle\" x=\"381.5\" y=\"-63.8\" font-family=\"Times,serif\" font-size=\"14.00\">γ*I</text>\n",
       "</g>\n",
       "<!-- D -->\n",
       "<g id=\"node4\" class=\"node\">\n",
       "<title>D</title>\n",
       "<ellipse fill=\"none\" stroke=\"black\" cx=\"436\" cy=\"-18\" rx=\"27\" ry=\"18\"/>\n",
       "<text text-anchor=\"middle\" x=\"436\" y=\"-14.3\" font-family=\"Times,serif\" font-size=\"14.00\">D</text>\n",
       "</g>\n",
       "<!-- I&#45;&gt;D -->\n",
       "<g id=\"edge6\" class=\"edge\">\n",
       "<title>I&#45;&gt;D</title>\n",
       "<path fill=\"none\" stroke=\"black\" d=\"M352.55,-38.81C366.82,-35.2 385.03,-30.61 400.7,-26.66\"/>\n",
       "<polygon fill=\"black\" stroke=\"black\" points=\"401.73,-30.01 410.57,-24.17 400.01,-23.22 401.73,-30.01\"/>\n",
       "<text text-anchor=\"middle\" x=\"381.5\" y=\"-36.8\" font-family=\"Times,serif\" font-size=\"14.00\">μ*I</text>\n",
       "</g>\n",
       "<!-- S_c&#45;&gt;S -->\n",
       "<g id=\"edge3\" class=\"edge\">\n",
       "<title>S_c&#45;&gt;S</title>\n",
       "<path fill=\"none\" stroke=\"black\" d=\"M139.95,-9.63C121.18,-4.12 94.24,0.77 72,-7 63.97,-9.81 56.3,-14.76 49.68,-20.07\"/>\n",
       "<polygon fill=\"black\" stroke=\"black\" points=\"47.14,-17.65 41.92,-26.86 51.75,-22.92 47.14,-17.65\"/>\n",
       "<text text-anchor=\"middle\" x=\"95.5\" y=\"-10.8\" font-family=\"Times,serif\" font-size=\"14.00\">c_1*S_c</text>\n",
       "</g>\n",
       "<!-- S_c&#45;&gt;I -->\n",
       "<g id=\"edge4\" class=\"edge\">\n",
       "<title>S_c&#45;&gt;I</title>\n",
       "<path fill=\"none\" stroke=\"black\" d=\"M190.51,-22.28C217.48,-26.8 260.22,-33.97 290.47,-39.04\"/>\n",
       "<polygon fill=\"black\" stroke=\"black\" points=\"290.17,-42.54 300.61,-40.74 291.33,-35.64 290.17,-42.54\"/>\n",
       "<text text-anchor=\"middle\" x=\"245.5\" y=\"-40.8\" font-family=\"Times,serif\" font-size=\"14.00\">c_0*β*I*S_c</text>\n",
       "</g>\n",
       "</g>\n",
       "</svg>\n"
      ],
      "text/plain": [
       "<graphviz.dot.Digraph at 0x125a2eb50>"
      ]
     },
     "execution_count": 16,
     "metadata": {},
     "output_type": "execute_result"
    }
   ],
   "source": [
    "# display graphical representation of the model\n",
    "SCIR_model.get_transition_graph()"
   ]
  },
  {
   "cell_type": "markdown",
   "metadata": {},
   "source": [
    "### SC2IR model"
   ]
  },
  {
   "cell_type": "markdown",
   "metadata": {
    "heading_collapsed": true
   },
   "source": [
    "#### Equations\n",
    "\n",
    "\\begin{equation}\n",
    "\\begin{split}\n",
    "\\dot{S} &= -\\beta (I + c_0 I_c) S + c_1 S_c - c_2 S (I + I_c)\\\\\n",
    "\\dot{S_c} &= - c_0 \\beta (I + c_0 I_c) S_c - c_1 S_c + c_2 S (I + I_c)\\\\\n",
    "\\dot{I} &= \\beta (I + c_0 I_c) S - \\gamma I - \\mu I + c_1 I_c - c_2 I (I + I_c)\\\\\n",
    "\\dot{I_c} &= \\beta (I + c_0 I_c) S_c - \\gamma I_c - \\mu I_c - c_1 I_c + c_2 I (I + I_c)\\\\\n",
    "\\dot{R} & = \\gamma (I + I_c)\\\\\n",
    "\\dot{D} & = \\mu (I + I_c)\n",
    "\\end{split}\n",
    "\\end{equation}\n",
    "\n",
    "The use of I as a state variable triggering susceptibles to execute caution is just one choice. In contrast with deaths, it does not accumulate over time and so retains the property of an active threat to society, rather than an historical one. Alternatively, one could use the daily death rate which is proportional to it.\n",
    "\n",
    "The effect of caution may be quadratic, since both the individual doing the infection and individual potentially being infected may be executing caution. To implement this we distinguish careful and non careful infectives. We ignore infectives making the transition to caution or relaxing it.\n",
    "\n",
    "#### Variables\n",
    "* $S$: Susceptible individuals living as normal\n",
    "* $S_c$: Susceptible individuals exercising pandemy precautions\n",
    "* $I$: Infected individuals non exercising pandemy precautions\n",
    "* $I_c$: Infected individuals exercising pandemy precautions \n",
    "* $R$: individuals who have recovered from disease and are now immune\n",
    "* $D$: Dead individuals\n",
    "* $N=S+S_c+I+I_c+R+D$ Total population size (constant)\n",
    "\n",
    "#### Parameters\n",
    "* $\\beta$ rate at which infected individuals contact susceptibles and infect them\n",
    "* $\\gamma$ rate at which infected individuals recover from disease and become immune\n",
    "* $\\mu$ death rate for infected individuals\n",
    "\n",
    "* $c_i$ three parameters characterizing cautionary response of population via class $S_c$\n",
    "\n",
    "    - c_0 : reduction factor for exposure for cautioned susceptibles\n",
    "\n",
    "    - c_1 : duration of caution (exponential decay time constant in days)\n",
    "\n",
    "    - c_2 : rate constant for transition from uncautioned to cautioned susceptible"
   ]
  },
  {
   "cell_type": "markdown",
   "metadata": {},
   "source": [
    "#### Implementation\n",
    "Using PyGOM, we will set up my simple SCIR model ODE system\n",
    "PyGOM – A Python Package for Simplifying Modelling with Systems of Ordinary Differential Equations https://arxiv.org/pdf/1803.06934.pdf"
   ]
  },
  {
   "cell_type": "code",
   "execution_count": 17,
   "metadata": {},
   "outputs": [
    {
     "data": {
      "text/latex": [
       "$\\displaystyle \\left[\\begin{matrix}d{S}/dt= & - S \\beta \\left(I + I_{c} c_{0}\\right) - S c_{2} \\left(I + I_{c}\\right) + S_{c} c_{1}\\\\d{I}/dt= & - I c_{2} \\left(I + I_{c}\\right) - I \\gamma - I \\mu + I_{c} c_{1} + S \\beta \\left(I + I_{c} c_{0}\\right)\\\\d{R}/dt= & I \\gamma + I_{c} \\gamma\\\\d{D}/dt= & I \\mu + I_{c} \\mu\\\\d{I_c}/dt= & I c_{2} \\left(I + I_{c}\\right) - I_{c} c_{1} - I_{c} \\gamma - I_{c} \\mu + S_{c} \\beta c_{0} \\left(I + I_{c} c_{0}\\right)\\\\d{S_c}/dt= & S c_{2} \\left(I + I_{c}\\right) - S_{c} \\beta c_{0} \\left(I + I_{c} c_{0}\\right) - S_{c} c_{1}\\end{matrix}\\right]$"
      ],
      "text/plain": [
       "Matrix([\n",
       "[  d{S}/dt=,                           -S*beta*(I + I_c*c_0) - S*c_2*(I + I_c) + S_c*c_1],\n",
       "[  d{I}/dt=,          -I*c_2*(I + I_c) - I*gamma - I*mu + I_c*c_1 + S*beta*(I + I_c*c_0)],\n",
       "[  d{R}/dt=,                                                         I*gamma + I_c*gamma],\n",
       "[  d{D}/dt=,                                                               I*mu + I_c*mu],\n",
       "[d{I_c}/dt=, I*c_2*(I + I_c) - I_c*c_1 - I_c*gamma - I_c*mu + S_c*beta*c_0*(I + I_c*c_0)],\n",
       "[d{S_c}/dt=,                      S*c_2*(I + I_c) - S_c*beta*c_0*(I + I_c*c_0) - S_c*c_1]])"
      ]
     },
     "execution_count": 17,
     "metadata": {},
     "output_type": "execute_result"
    }
   ],
   "source": [
    "# display equations\n",
    "print_ode2(SC2IR_model)"
   ]
  },
  {
   "cell_type": "markdown",
   "metadata": {},
   "source": [
    "\n",
    "\\begin{equation}\n",
    "\\begin{split}\n",
    "\\dot{S} &= -\\beta (I + c_0 I_c) S + c_1 S_c - c_2 S (I + I_c)\\\\\n",
    "\\dot{S_c} &= - c_0 \\beta (I + c_0 I_c) S_c - c_1 S_c + c_2 S (I + I_c)\\\\\n",
    "\\dot{I} &= \\beta (I + c_0 I_c) S - \\gamma I - \\mu I\\\\\n",
    "\\dot{I_c} &= \\beta (I + c_0 I_c) S_c - \\gamma I_c - \\mu I_c\\\\\n",
    "\\dot{R} & = \\gamma (I + I_c)\\\\\n",
    "\\dot{D} & = \\mu (I + I_c)\n",
    "\\end{split}\n",
    "\\end{equation}\n"
   ]
  },
  {
   "cell_type": "code",
   "execution_count": 18,
   "metadata": {},
   "outputs": [
    {
     "data": {
      "image/png": "[encoded data removed]",
      "text/plain": [
       "<Figure size 432x288 with 1 Axes>"
      ]
     },
     "metadata": {
      "needs_background": "light"
     },
     "output_type": "display_data"
    },
    {
     "data": {
      "image/svg+xml": [
       "<?xml version=\"1.0\" encoding=\"UTF-8\" standalone=\"no\"?>\n",
       "<!DOCTYPE svg PUBLIC \"-//W3C//DTD SVG 1.1//EN\"\n",
       " \"http://www.w3.org/Graphics/SVG/1.1/DTD/svg11.dtd\">\n",
       "<!-- Generated by graphviz version 2.44.0 (20200408.0750)\n",
       " -->\n",
       "<!-- Pages: 1 -->\n",
       "<svg width=\"591pt\" height=\"169pt\"\n",
       " viewBox=\"0.00 0.00 591.00 169.00\" xmlns=\"http://www.w3.org/2000/svg\" xmlns:xlink=\"http://www.w3.org/1999/xlink\">\n",
       "<g id=\"graph0\" class=\"graph\" transform=\"scale(1 1) rotate(0) translate(4 165)\">\n",
       "<polygon fill=\"white\" stroke=\"transparent\" points=\"-4,4 -4,-165 587,-165 587,4 -4,4\"/>\n",
       "<!-- S -->\n",
       "<g id=\"node1\" class=\"node\">\n",
       "<title>S</title>\n",
       "<ellipse fill=\"none\" stroke=\"black\" cx=\"27\" cy=\"-50\" rx=\"27\" ry=\"18\"/>\n",
       "<text text-anchor=\"middle\" x=\"27\" y=\"-46.3\" font-family=\"Times,serif\" font-size=\"14.00\">S</text>\n",
       "</g>\n",
       "<!-- I -->\n",
       "<g id=\"node2\" class=\"node\">\n",
       "<title>I</title>\n",
       "<ellipse fill=\"none\" stroke=\"black\" cx=\"211\" cy=\"-88\" rx=\"27\" ry=\"18\"/>\n",
       "<text text-anchor=\"middle\" x=\"211\" y=\"-84.3\" font-family=\"Times,serif\" font-size=\"14.00\">I</text>\n",
       "</g>\n",
       "<!-- S&#45;&gt;I -->\n",
       "<g id=\"edge1\" class=\"edge\">\n",
       "<title>S&#45;&gt;I</title>\n",
       "<path fill=\"none\" stroke=\"black\" d=\"M52.12,-56.95C58.55,-58.7 65.52,-60.51 72,-62 106.66,-69.98 146.62,-77.3 174.59,-82.13\"/>\n",
       "<polygon fill=\"black\" stroke=\"black\" points=\"174.25,-85.62 184.69,-83.86 175.42,-78.72 174.25,-85.62\"/>\n",
       "<text text-anchor=\"middle\" x=\"119\" y=\"-83.8\" font-family=\"Times,serif\" font-size=\"14.00\">β*(I+c_0*I_c)*S</text>\n",
       "</g>\n",
       "<!-- S_c -->\n",
       "<g id=\"node6\" class=\"node\">\n",
       "<title>S_c</title>\n",
       "<ellipse fill=\"none\" stroke=\"black\" cx=\"211\" cy=\"-18\" rx=\"27\" ry=\"18\"/>\n",
       "<text text-anchor=\"middle\" x=\"211\" y=\"-14.3\" font-family=\"Times,serif\" font-size=\"14.00\">S_c</text>\n",
       "</g>\n",
       "<!-- S&#45;&gt;S_c -->\n",
       "<g id=\"edge2\" class=\"edge\">\n",
       "<title>S&#45;&gt;S_c</title>\n",
       "<path fill=\"none\" stroke=\"black\" d=\"M41.38,-34.4C49.34,-26.34 60.18,-17.31 72,-13 105.6,-0.75 146.9,-4.47 175.52,-9.72\"/>\n",
       "<polygon fill=\"black\" stroke=\"black\" points=\"174.96,-13.17 185.45,-11.69 176.33,-6.31 174.96,-13.17\"/>\n",
       "<text text-anchor=\"middle\" x=\"119\" y=\"-16.8\" font-family=\"Times,serif\" font-size=\"14.00\">c_2*(I+I_c)*S</text>\n",
       "</g>\n",
       "<!-- R -->\n",
       "<g id=\"node3\" class=\"node\">\n",
       "<title>R</title>\n",
       "<ellipse fill=\"none\" stroke=\"black\" cx=\"556\" cy=\"-72\" rx=\"27\" ry=\"18\"/>\n",
       "<text text-anchor=\"middle\" x=\"556\" y=\"-68.3\" font-family=\"Times,serif\" font-size=\"14.00\">R</text>\n",
       "</g>\n",
       "<!-- I&#45;&gt;R -->\n",
       "<g id=\"edge5\" class=\"edge\">\n",
       "<title>I&#45;&gt;R</title>\n",
       "<path fill=\"none\" stroke=\"black\" d=\"M235.56,-80.24C242.12,-78.3 249.29,-76.38 256,-75 345.58,-56.56 369.82,-49.77 461,-57 480.69,-58.56 502.49,-61.94 520.13,-65.09\"/>\n",
       "<polygon fill=\"black\" stroke=\"black\" points=\"519.53,-68.54 529.99,-66.9 520.79,-61.65 519.53,-68.54\"/>\n",
       "<text text-anchor=\"middle\" x=\"434\" y=\"-60.8\" font-family=\"Times,serif\" font-size=\"14.00\">γ*I</text>\n",
       "</g>\n",
       "<!-- D -->\n",
       "<g id=\"node4\" class=\"node\">\n",
       "<title>D</title>\n",
       "<ellipse fill=\"none\" stroke=\"black\" cx=\"556\" cy=\"-134\" rx=\"27\" ry=\"18\"/>\n",
       "<text text-anchor=\"middle\" x=\"556\" y=\"-130.3\" font-family=\"Times,serif\" font-size=\"14.00\">D</text>\n",
       "</g>\n",
       "<!-- I&#45;&gt;D -->\n",
       "<g id=\"edge6\" class=\"edge\">\n",
       "<title>I&#45;&gt;D</title>\n",
       "<path fill=\"none\" stroke=\"black\" d=\"M226.9,-103.07C234.84,-110.11 245.19,-117.84 256,-122 345.7,-156.48 461.89,-147.4 519.45,-139.7\"/>\n",
       "<polygon fill=\"black\" stroke=\"black\" points=\"520.08,-143.15 529.49,-138.29 519.11,-136.22 520.08,-143.15\"/>\n",
       "<text text-anchor=\"middle\" x=\"434\" y=\"-149.8\" font-family=\"Times,serif\" font-size=\"14.00\">μ*I</text>\n",
       "</g>\n",
       "<!-- I_c -->\n",
       "<g id=\"node5\" class=\"node\">\n",
       "<title>I_c</title>\n",
       "<ellipse fill=\"none\" stroke=\"black\" cx=\"434\" cy=\"-99\" rx=\"27\" ry=\"18\"/>\n",
       "<text text-anchor=\"middle\" x=\"434\" y=\"-95.3\" font-family=\"Times,serif\" font-size=\"14.00\">I_c</text>\n",
       "</g>\n",
       "<!-- I&#45;&gt;I_c -->\n",
       "<g id=\"edge7\" class=\"edge\">\n",
       "<title>I&#45;&gt;I_c</title>\n",
       "<path fill=\"none\" stroke=\"black\" d=\"M237.71,-84.45C272.35,-80.33 335.78,-75.18 389,-84 392.92,-84.65 396.96,-85.6 400.92,-86.72\"/>\n",
       "<polygon fill=\"black\" stroke=\"black\" points=\"399.94,-90.08 410.53,-89.76 402.05,-83.41 399.94,-90.08\"/>\n",
       "<text text-anchor=\"middle\" x=\"322.5\" y=\"-87.8\" font-family=\"Times,serif\" font-size=\"14.00\">c_2*(I+I_c)*I</text>\n",
       "</g>\n",
       "<!-- I_c&#45;&gt;I -->\n",
       "<g id=\"edge9\" class=\"edge\">\n",
       "<title>I_c&#45;&gt;I</title>\n",
       "<path fill=\"none\" stroke=\"black\" d=\"M407.08,-100.97C372.49,-103.16 309.37,-105.57 256,-99 252.72,-98.6 249.33,-98.03 245.95,-97.36\"/>\n",
       "<polygon fill=\"black\" stroke=\"black\" points=\"246.53,-93.9 236.01,-95.13 245,-100.73 246.53,-93.9\"/>\n",
       "<text text-anchor=\"middle\" x=\"322.5\" y=\"-106.8\" font-family=\"Times,serif\" font-size=\"14.00\">c_1*I_c</text>\n",
       "</g>\n",
       "<!-- I_c&#45;&gt;R -->\n",
       "<g id=\"edge8\" class=\"edge\">\n",
       "<title>I_c&#45;&gt;R</title>\n",
       "<path fill=\"none\" stroke=\"black\" d=\"M458.58,-90.84C465.14,-88.75 472.3,-86.63 479,-85 492.14,-81.8 506.74,-79.11 519.6,-77.01\"/>\n",
       "<polygon fill=\"black\" stroke=\"black\" points=\"520.15,-80.47 529.49,-75.46 519.06,-73.55 520.15,-80.47\"/>\n",
       "<text text-anchor=\"middle\" x=\"495\" y=\"-88.8\" font-family=\"Times,serif\" font-size=\"14.00\">γ*I_c</text>\n",
       "</g>\n",
       "<!-- I_c&#45;&gt;D -->\n",
       "<g id=\"edge10\" class=\"edge\">\n",
       "<title>I_c&#45;&gt;D</title>\n",
       "<path fill=\"none\" stroke=\"black\" d=\"M459,-106C476.82,-111.2 501.37,-118.36 521.18,-124.14\"/>\n",
       "<polygon fill=\"black\" stroke=\"black\" points=\"520.47,-127.57 531.05,-127.01 522.43,-120.85 520.47,-127.57\"/>\n",
       "<text text-anchor=\"middle\" x=\"495\" y=\"-123.8\" font-family=\"Times,serif\" font-size=\"14.00\">μ*I_c</text>\n",
       "</g>\n",
       "<!-- S_c&#45;&gt;S -->\n",
       "<g id=\"edge3\" class=\"edge\">\n",
       "<title>S_c&#45;&gt;S</title>\n",
       "<path fill=\"none\" stroke=\"black\" d=\"M185.39,-23.89C179.09,-25.32 172.31,-26.78 166,-28 131.36,-34.69 91.54,-40.88 63.61,-44.98\"/>\n",
       "<polygon fill=\"black\" stroke=\"black\" points=\"62.92,-41.54 53.52,-46.44 63.92,-48.47 62.92,-41.54\"/>\n",
       "<text text-anchor=\"middle\" x=\"119\" y=\"-46.8\" font-family=\"Times,serif\" font-size=\"14.00\">c_1*S_c</text>\n",
       "</g>\n",
       "<!-- S_c&#45;&gt;I_c -->\n",
       "<g id=\"edge4\" class=\"edge\">\n",
       "<title>S_c&#45;&gt;I_c</title>\n",
       "<path fill=\"none\" stroke=\"black\" d=\"M237.99,-20.17C273.77,-24.02 339.39,-34.23 389,-60 397.2,-64.26 405.11,-70.39 411.9,-76.53\"/>\n",
       "<polygon fill=\"black\" stroke=\"black\" points=\"409.67,-79.24 419.31,-83.63 414.51,-74.18 409.67,-79.24\"/>\n",
       "<text text-anchor=\"middle\" x=\"322.5\" y=\"-63.8\" font-family=\"Times,serif\" font-size=\"14.00\">c_0*β*(I+c_0*I_c)*S_c</text>\n",
       "</g>\n",
       "</g>\n",
       "</svg>\n"
      ],
      "text/plain": [
       "<graphviz.dot.Digraph at 0x125a996d0>"
      ]
     },
     "execution_count": 18,
     "metadata": {},
     "output_type": "execute_result"
    }
   ],
   "source": [
    "# display graphical representation of the model\n",
    "SC2IR_model.get_transition_graph()"
   ]
  },
  {
   "cell_type": "markdown",
   "metadata": {},
   "source": [
    "## Caution Extensions to SEIR Model"
   ]
  },
  {
   "cell_type": "markdown",
   "metadata": {},
   "source": [
    "### SEIR model"
   ]
  },
  {
   "cell_type": "markdown",
   "metadata": {},
   "source": [
    "#### Equations\n",
    "\n",
    "\\begin{equation}\n",
    "\\begin{split}\n",
    "\\dot{S} &= -\\beta I S\\\\\n",
    "\\dot{E} &= \\beta I S - \\alpha E\\\\\n",
    "\\dot{I} &= \\alpha E - \\gamma I - \\mu I\\\\\n",
    "\\dot{R} & = \\gamma I \\\\\n",
    "\\dot{D} & = \\mu I\n",
    "\\end{split}\n",
    "\\end{equation}\n",
    "\n",
    "\n",
    "#### Variables\n",
    "* $S$: Susceptible individuals\n",
    "* $E$: Exposed individuals\n",
    "* $I$: Infected individuals \n",
    "* $R$: individuals who have recovered from disease and are now immune\n",
    "* $D$: Dead individuals\n",
    "* $N=S+E+I+R+D$ Total population size (constant)\n",
    "\n",
    "#### Parameters\n",
    "* $\\beta$ rate at which infected individuals contact susceptibles and expose them to infection\n",
    "* $\\alpha$ rate at which exposed individuals become infected (1/(incubation time)\n",
    "* $\\gamma$ rate at which infected individuals recover from disease and become immune\n",
    "* $\\mu$ death rate for infected individuals"
   ]
  },
  {
   "cell_type": "markdown",
   "metadata": {},
   "source": [
    "#### Implementation\n",
    "Using PyGOM, we will set up my simple SCIR model ODE system\n",
    "PyGOM – A Python Package for Simplifying Modelling with Systems of Ordinary Differential Equations https://arxiv.org/pdf/1803.06934.pdf"
   ]
  },
  {
   "cell_type": "code",
   "execution_count": 19,
   "metadata": {},
   "outputs": [
    {
     "data": {
      "text/latex": [
       "$\\displaystyle \\left[\\begin{matrix}d{S}/dt= & - I S \\beta\\\\d{E}/dt= & - E \\alpha + I S \\beta\\\\d{I}/dt= & E \\alpha - I \\gamma - I \\mu\\\\d{R}/dt= & I \\gamma\\\\d{D}/dt= & I \\mu\\end{matrix}\\right]$"
      ],
      "text/plain": [
       "Matrix([\n",
       "[d{S}/dt=,                -I*S*beta],\n",
       "[d{E}/dt=,      -E*alpha + I*S*beta],\n",
       "[d{I}/dt=, E*alpha - I*gamma - I*mu],\n",
       "[d{R}/dt=,                  I*gamma],\n",
       "[d{D}/dt=,                     I*mu]])"
      ]
     },
     "execution_count": 19,
     "metadata": {},
     "output_type": "execute_result"
    }
   ],
   "source": [
    "# display equations\n",
    "print_ode2(SEIR_model)"
   ]
  },
  {
   "cell_type": "code",
   "execution_count": 20,
   "metadata": {},
   "outputs": [
    {
     "data": {
      "image/png": "[encoded data removed]",
      "text/plain": [
       "<Figure size 432x288 with 1 Axes>"
      ]
     },
     "metadata": {
      "needs_background": "light"
     },
     "output_type": "display_data"
    },
    {
     "data": {
      "image/svg+xml": [
       "<?xml version=\"1.0\" encoding=\"UTF-8\" standalone=\"no\"?>\n",
       "<!DOCTYPE svg PUBLIC \"-//W3C//DTD SVG 1.1//EN\"\n",
       " \"http://www.w3.org/Graphics/SVG/1.1/DTD/svg11.dtd\">\n",
       "<!-- Generated by graphviz version 2.44.0 (20200408.0750)\n",
       " -->\n",
       "<!-- Pages: 1 -->\n",
       "<svg width=\"409pt\" height=\"98pt\"\n",
       " viewBox=\"0.00 0.00 409.00 98.00\" xmlns=\"http://www.w3.org/2000/svg\" xmlns:xlink=\"http://www.w3.org/1999/xlink\">\n",
       "<g id=\"graph0\" class=\"graph\" transform=\"scale(1 1) rotate(0) translate(4 94)\">\n",
       "<polygon fill=\"white\" stroke=\"transparent\" points=\"-4,4 -4,-94 405,-94 405,4 -4,4\"/>\n",
       "<!-- S -->\n",
       "<g id=\"node1\" class=\"node\">\n",
       "<title>S</title>\n",
       "<ellipse fill=\"none\" stroke=\"black\" cx=\"27\" cy=\"-45\" rx=\"27\" ry=\"18\"/>\n",
       "<text text-anchor=\"middle\" x=\"27\" y=\"-41.3\" font-family=\"Times,serif\" font-size=\"14.00\">S</text>\n",
       "</g>\n",
       "<!-- E -->\n",
       "<g id=\"node2\" class=\"node\">\n",
       "<title>E</title>\n",
       "<ellipse fill=\"none\" stroke=\"black\" cx=\"151\" cy=\"-45\" rx=\"27\" ry=\"18\"/>\n",
       "<text text-anchor=\"middle\" x=\"151\" y=\"-41.3\" font-family=\"Times,serif\" font-size=\"14.00\">E</text>\n",
       "</g>\n",
       "<!-- S&#45;&gt;E -->\n",
       "<g id=\"edge1\" class=\"edge\">\n",
       "<title>S&#45;&gt;E</title>\n",
       "<path fill=\"none\" stroke=\"black\" d=\"M54.17,-45C71.54,-45 94.57,-45 113.7,-45\"/>\n",
       "<polygon fill=\"black\" stroke=\"black\" points=\"113.87,-48.5 123.87,-45 113.87,-41.5 113.87,-48.5\"/>\n",
       "<text text-anchor=\"middle\" x=\"89\" y=\"-48.8\" font-family=\"Times,serif\" font-size=\"14.00\">β*I*S</text>\n",
       "</g>\n",
       "<!-- I -->\n",
       "<g id=\"node3\" class=\"node\">\n",
       "<title>I</title>\n",
       "<ellipse fill=\"none\" stroke=\"black\" cx=\"265\" cy=\"-45\" rx=\"27\" ry=\"18\"/>\n",
       "<text text-anchor=\"middle\" x=\"265\" y=\"-41.3\" font-family=\"Times,serif\" font-size=\"14.00\">I</text>\n",
       "</g>\n",
       "<!-- E&#45;&gt;I -->\n",
       "<g id=\"edge2\" class=\"edge\">\n",
       "<title>E&#45;&gt;I</title>\n",
       "<path fill=\"none\" stroke=\"black\" d=\"M178.26,-45C193,-45 211.62,-45 227.74,-45\"/>\n",
       "<polygon fill=\"black\" stroke=\"black\" points=\"227.91,-48.5 237.91,-45 227.91,-41.5 227.91,-48.5\"/>\n",
       "<text text-anchor=\"middle\" x=\"208\" y=\"-48.8\" font-family=\"Times,serif\" font-size=\"14.00\">α*E</text>\n",
       "</g>\n",
       "<!-- R -->\n",
       "<g id=\"node4\" class=\"node\">\n",
       "<title>R</title>\n",
       "<ellipse fill=\"none\" stroke=\"black\" cx=\"374\" cy=\"-72\" rx=\"27\" ry=\"18\"/>\n",
       "<text text-anchor=\"middle\" x=\"374\" y=\"-68.3\" font-family=\"Times,serif\" font-size=\"14.00\">R</text>\n",
       "</g>\n",
       "<!-- I&#45;&gt;R -->\n",
       "<g id=\"edge3\" class=\"edge\">\n",
       "<title>I&#45;&gt;R</title>\n",
       "<path fill=\"none\" stroke=\"black\" d=\"M290.55,-51.19C304.82,-54.8 323.03,-59.39 338.7,-63.34\"/>\n",
       "<polygon fill=\"black\" stroke=\"black\" points=\"338.01,-66.78 348.57,-65.83 339.73,-59.99 338.01,-66.78\"/>\n",
       "<text text-anchor=\"middle\" x=\"319.5\" y=\"-63.8\" font-family=\"Times,serif\" font-size=\"14.00\">γ*I</text>\n",
       "</g>\n",
       "<!-- D -->\n",
       "<g id=\"node5\" class=\"node\">\n",
       "<title>D</title>\n",
       "<ellipse fill=\"none\" stroke=\"black\" cx=\"374\" cy=\"-18\" rx=\"27\" ry=\"18\"/>\n",
       "<text text-anchor=\"middle\" x=\"374\" y=\"-14.3\" font-family=\"Times,serif\" font-size=\"14.00\">D</text>\n",
       "</g>\n",
       "<!-- I&#45;&gt;D -->\n",
       "<g id=\"edge4\" class=\"edge\">\n",
       "<title>I&#45;&gt;D</title>\n",
       "<path fill=\"none\" stroke=\"black\" d=\"M290.55,-38.81C304.82,-35.2 323.03,-30.61 338.7,-26.66\"/>\n",
       "<polygon fill=\"black\" stroke=\"black\" points=\"339.73,-30.01 348.57,-24.17 338.01,-23.22 339.73,-30.01\"/>\n",
       "<text text-anchor=\"middle\" x=\"319.5\" y=\"-36.8\" font-family=\"Times,serif\" font-size=\"14.00\">μ*I</text>\n",
       "</g>\n",
       "</g>\n",
       "</svg>\n"
      ],
      "text/plain": [
       "<graphviz.dot.Digraph at 0x125687810>"
      ]
     },
     "execution_count": 20,
     "metadata": {},
     "output_type": "execute_result"
    }
   ],
   "source": [
    "# display graphical representation of the model\n",
    "SEIR_model.get_transition_graph()"
   ]
  },
  {
   "cell_type": "markdown",
   "metadata": {},
   "source": [
    "### SCEIR model"
   ]
  },
  {
   "cell_type": "markdown",
   "metadata": {},
   "source": [
    "#### Equations\n",
    "\n",
    "\\begin{equation}\n",
    "\\begin{split}\n",
    "\\dot{S} &= -\\beta I S + c_1 S_c - c_2*S*I\\\\\n",
    "\\dot{S_c} &= - c_0 \\beta I S_c - c_1 S_c + c_2*S*I\\\\\n",
    "\\dot{E} &= \\beta I (S + c_0 S_c) - \\alpha E\\\\\n",
    "\\dot{I} &= \\alpha E - \\gamma I - \\mu I\\\\\n",
    "\\dot{R} & = \\gamma I \\\\\n",
    "\\dot{D} & = \\mu I\n",
    "\\end{split}\n",
    "\\end{equation}\n",
    "\n",
    "The use of I as a state variable triggering susceptibles to execute caution is just one choice. In contrast with deaths, it does not accumulate over time and so retains the property of an active threat to society, rather than an historical one. Alternatively, one could use the daily death rate which is proportional to it.\n",
    "\n",
    "Actually, the effect of caution may be quadratic, since both the individual doing the infection and individual potentially being infected may be executing caution. The current version assumes that infectives do not change their precautionary measures in response to I. To implement this we would need to further distinguish careful and non careful infectives. This is done in the SC2IR model.\n",
    "\n",
    "#### Variables\n",
    "* $S$: Susceptible individuals living as normal\n",
    "* $S_c$: Susceptible individuals exercising pandemy precautions\n",
    "* $E$: Exposed individuals\n",
    "* $I$: Infected individuals \n",
    "* $R$: individuals who have recovered from disease and are now immune\n",
    "* $D$: Dead individuals\n",
    "* $N=S+S_c+E+I+R+D$ Total population size (constant)\n",
    "\n",
    "#### Parameters\n",
    "* $\\beta$ rate at which infected individuals contact susceptibles and infect them\n",
    "* $\\alpha$ rate at which exposed individuals become infected (1/(incubation time)\n",
    "* $\\gamma$ rate at which infected individuals recover from disease and become immune\n",
    "* $\\mu$ death rate for infected individuals\n",
    "\n",
    "* $c_i$ three parameters characterizing cautionary response of population via class $S_c$\n",
    "\n",
    "    - c_0 : reduction factor for exposure for cautioned susceptibles\n",
    "\n",
    "    - c_1 : duration of caution (exponential decay time constant in days)\n",
    "\n",
    "    - c_2 : rate constant for transition from uncautioned to cautioned susceptible"
   ]
  },
  {
   "cell_type": "markdown",
   "metadata": {},
   "source": [
    "#### Implementation\n",
    "Using PyGOM, we will set up my simple SCIR model ODE system\n",
    "PyGOM – A Python Package for Simplifying Modelling with Systems of Ordinary Differential Equations https://arxiv.org/pdf/1803.06934.pdf"
   ]
  },
  {
   "cell_type": "code",
   "execution_count": 21,
   "metadata": {},
   "outputs": [
    {
     "data": {
      "text/latex": [
       "$\\displaystyle \\left[\\begin{matrix}d{S}/dt= & - I S \\beta - I S c_{2} + S_{c} c_{1}\\\\d{E}/dt= & - E \\alpha + I S \\beta + I S_{c} \\beta c_{0}\\\\d{I}/dt= & E \\alpha - I \\gamma - I \\mu\\\\d{R}/dt= & I \\gamma\\\\d{D}/dt= & I \\mu\\\\d{S_c}/dt= & I S c_{2} - I S_{c} \\beta c_{0} - S_{c} c_{1}\\end{matrix}\\right]$"
      ],
      "text/plain": [
       "Matrix([\n",
       "[  d{S}/dt=,        -I*S*beta - I*S*c_2 + S_c*c_1],\n",
       "[  d{E}/dt=, -E*alpha + I*S*beta + I*S_c*beta*c_0],\n",
       "[  d{I}/dt=,             E*alpha - I*gamma - I*mu],\n",
       "[  d{R}/dt=,                              I*gamma],\n",
       "[  d{D}/dt=,                                 I*mu],\n",
       "[d{S_c}/dt=,   I*S*c_2 - I*S_c*beta*c_0 - S_c*c_1]])"
      ]
     },
     "execution_count": 21,
     "metadata": {},
     "output_type": "execute_result"
    }
   ],
   "source": [
    "# display equations\n",
    "print_ode2(SCEIR_model)"
   ]
  },
  {
   "cell_type": "code",
   "execution_count": 22,
   "metadata": {},
   "outputs": [
    {
     "data": {
      "image/png": "[encoded data removed]",
      "text/plain": [
       "<Figure size 432x288 with 1 Axes>"
      ]
     },
     "metadata": {
      "needs_background": "light"
     },
     "output_type": "display_data"
    },
    {
     "data": {
      "image/svg+xml": [
       "<?xml version=\"1.0\" encoding=\"UTF-8\" standalone=\"no\"?>\n",
       "<!DOCTYPE svg PUBLIC \"-//W3C//DTD SVG 1.1//EN\"\n",
       " \"http://www.w3.org/Graphics/SVG/1.1/DTD/svg11.dtd\">\n",
       "<!-- Generated by graphviz version 2.44.0 (20200408.0750)\n",
       " -->\n",
       "<!-- Pages: 1 -->\n",
       "<svg width=\"585pt\" height=\"98pt\"\n",
       " viewBox=\"0.00 0.00 585.00 98.00\" xmlns=\"http://www.w3.org/2000/svg\" xmlns:xlink=\"http://www.w3.org/1999/xlink\">\n",
       "<g id=\"graph0\" class=\"graph\" transform=\"scale(1 1) rotate(0) translate(4 94)\">\n",
       "<polygon fill=\"white\" stroke=\"transparent\" points=\"-4,4 -4,-94 581,-94 581,4 -4,4\"/>\n",
       "<!-- S -->\n",
       "<g id=\"node1\" class=\"node\">\n",
       "<title>S</title>\n",
       "<ellipse fill=\"none\" stroke=\"black\" cx=\"27\" cy=\"-42\" rx=\"27\" ry=\"18\"/>\n",
       "<text text-anchor=\"middle\" x=\"27\" y=\"-38.3\" font-family=\"Times,serif\" font-size=\"14.00\">S</text>\n",
       "</g>\n",
       "<!-- E -->\n",
       "<g id=\"node2\" class=\"node\">\n",
       "<title>E</title>\n",
       "<ellipse fill=\"none\" stroke=\"black\" cx=\"327\" cy=\"-45\" rx=\"27\" ry=\"18\"/>\n",
       "<text text-anchor=\"middle\" x=\"327\" y=\"-41.3\" font-family=\"Times,serif\" font-size=\"14.00\">E</text>\n",
       "</g>\n",
       "<!-- S&#45;&gt;E -->\n",
       "<g id=\"edge1\" class=\"edge\">\n",
       "<title>S&#45;&gt;E</title>\n",
       "<path fill=\"none\" stroke=\"black\" d=\"M52.52,-48.46C58.82,-49.87 65.63,-51.19 72,-52 164.61,-63.76 189.35,-67.41 282,-56 285.28,-55.6 288.67,-55.03 292.05,-54.36\"/>\n",
       "<polygon fill=\"black\" stroke=\"black\" points=\"293,-57.73 301.99,-52.13 291.47,-50.9 293,-57.73\"/>\n",
       "<text text-anchor=\"middle\" x=\"164\" y=\"-65.8\" font-family=\"Times,serif\" font-size=\"14.00\">β*I*S</text>\n",
       "</g>\n",
       "<!-- S_c -->\n",
       "<g id=\"node6\" class=\"node\">\n",
       "<title>S_c</title>\n",
       "<ellipse fill=\"none\" stroke=\"black\" cx=\"164\" cy=\"-18\" rx=\"27\" ry=\"18\"/>\n",
       "<text text-anchor=\"middle\" x=\"164\" y=\"-14.3\" font-family=\"Times,serif\" font-size=\"14.00\">S_c</text>\n",
       "</g>\n",
       "<!-- S&#45;&gt;S_c -->\n",
       "<g id=\"edge2\" class=\"edge\">\n",
       "<title>S&#45;&gt;S_c</title>\n",
       "<path fill=\"none\" stroke=\"black\" d=\"M53.39,-37.49C74.42,-33.75 104.52,-28.4 127.86,-24.25\"/>\n",
       "<polygon fill=\"black\" stroke=\"black\" points=\"128.49,-27.69 137.72,-22.49 127.26,-20.8 128.49,-27.69\"/>\n",
       "<text text-anchor=\"middle\" x=\"95.5\" y=\"-36.8\" font-family=\"Times,serif\" font-size=\"14.00\">c_2*I*S</text>\n",
       "</g>\n",
       "<!-- I -->\n",
       "<g id=\"node3\" class=\"node\">\n",
       "<title>I</title>\n",
       "<ellipse fill=\"none\" stroke=\"black\" cx=\"441\" cy=\"-45\" rx=\"27\" ry=\"18\"/>\n",
       "<text text-anchor=\"middle\" x=\"441\" y=\"-41.3\" font-family=\"Times,serif\" font-size=\"14.00\">I</text>\n",
       "</g>\n",
       "<!-- E&#45;&gt;I -->\n",
       "<g id=\"edge5\" class=\"edge\">\n",
       "<title>E&#45;&gt;I</title>\n",
       "<path fill=\"none\" stroke=\"black\" d=\"M354.26,-45C369,-45 387.62,-45 403.74,-45\"/>\n",
       "<polygon fill=\"black\" stroke=\"black\" points=\"403.91,-48.5 413.91,-45 403.91,-41.5 403.91,-48.5\"/>\n",
       "<text text-anchor=\"middle\" x=\"384\" y=\"-48.8\" font-family=\"Times,serif\" font-size=\"14.00\">α*E</text>\n",
       "</g>\n",
       "<!-- R -->\n",
       "<g id=\"node4\" class=\"node\">\n",
       "<title>R</title>\n",
       "<ellipse fill=\"none\" stroke=\"black\" cx=\"550\" cy=\"-72\" rx=\"27\" ry=\"18\"/>\n",
       "<text text-anchor=\"middle\" x=\"550\" y=\"-68.3\" font-family=\"Times,serif\" font-size=\"14.00\">R</text>\n",
       "</g>\n",
       "<!-- I&#45;&gt;R -->\n",
       "<g id=\"edge6\" class=\"edge\">\n",
       "<title>I&#45;&gt;R</title>\n",
       "<path fill=\"none\" stroke=\"black\" d=\"M466.55,-51.19C480.82,-54.8 499.03,-59.39 514.7,-63.34\"/>\n",
       "<polygon fill=\"black\" stroke=\"black\" points=\"514.01,-66.78 524.57,-65.83 515.73,-59.99 514.01,-66.78\"/>\n",
       "<text text-anchor=\"middle\" x=\"495.5\" y=\"-63.8\" font-family=\"Times,serif\" font-size=\"14.00\">γ*I</text>\n",
       "</g>\n",
       "<!-- D -->\n",
       "<g id=\"node5\" class=\"node\">\n",
       "<title>D</title>\n",
       "<ellipse fill=\"none\" stroke=\"black\" cx=\"550\" cy=\"-18\" rx=\"27\" ry=\"18\"/>\n",
       "<text text-anchor=\"middle\" x=\"550\" y=\"-14.3\" font-family=\"Times,serif\" font-size=\"14.00\">D</text>\n",
       "</g>\n",
       "<!-- I&#45;&gt;D -->\n",
       "<g id=\"edge7\" class=\"edge\">\n",
       "<title>I&#45;&gt;D</title>\n",
       "<path fill=\"none\" stroke=\"black\" d=\"M466.55,-38.81C480.82,-35.2 499.03,-30.61 514.7,-26.66\"/>\n",
       "<polygon fill=\"black\" stroke=\"black\" points=\"515.73,-30.01 524.57,-24.17 514.01,-23.22 515.73,-30.01\"/>\n",
       "<text text-anchor=\"middle\" x=\"495.5\" y=\"-36.8\" font-family=\"Times,serif\" font-size=\"14.00\">μ*I</text>\n",
       "</g>\n",
       "<!-- S_c&#45;&gt;S -->\n",
       "<g id=\"edge3\" class=\"edge\">\n",
       "<title>S_c&#45;&gt;S</title>\n",
       "<path fill=\"none\" stroke=\"black\" d=\"M139.95,-9.63C121.18,-4.12 94.24,0.77 72,-7 63.97,-9.81 56.3,-14.76 49.68,-20.07\"/>\n",
       "<polygon fill=\"black\" stroke=\"black\" points=\"47.14,-17.65 41.92,-26.86 51.75,-22.92 47.14,-17.65\"/>\n",
       "<text text-anchor=\"middle\" x=\"95.5\" y=\"-10.8\" font-family=\"Times,serif\" font-size=\"14.00\">c_1*S_c</text>\n",
       "</g>\n",
       "<!-- S_c&#45;&gt;E -->\n",
       "<g id=\"edge4\" class=\"edge\">\n",
       "<title>S_c&#45;&gt;E</title>\n",
       "<path fill=\"none\" stroke=\"black\" d=\"M190.51,-22.28C217.48,-26.8 260.22,-33.97 290.47,-39.04\"/>\n",
       "<polygon fill=\"black\" stroke=\"black\" points=\"290.17,-42.54 300.61,-40.74 291.33,-35.64 290.17,-42.54\"/>\n",
       "<text text-anchor=\"middle\" x=\"245.5\" y=\"-40.8\" font-family=\"Times,serif\" font-size=\"14.00\">c_0*β*I*S_c</text>\n",
       "</g>\n",
       "</g>\n",
       "</svg>\n"
      ],
      "text/plain": [
       "<graphviz.dot.Digraph at 0x125aa2410>"
      ]
     },
     "execution_count": 22,
     "metadata": {},
     "output_type": "execute_result"
    }
   ],
   "source": [
    "# display graphical representation of the model\n",
    "SCEIR_model.get_transition_graph()"
   ]
  },
  {
   "cell_type": "markdown",
   "metadata": {},
   "source": [
    "### SC3EIR model"
   ]
  },
  {
   "cell_type": "markdown",
   "metadata": {},
   "source": [
    "#### Equations\n",
    "\n",
    "\\begin{equation}\n",
    "\\begin{split}\n",
    "\\dot{S} &= -\\beta (I + c_0 I_c) S + c_1 S_c - c_2 S (I + I_c)\\\\\n",
    "\\dot{S_c} &= - c_0 \\beta (I + c_0 I_c) S_c - c_1 S_c + c_2 S (I + I_c)\\\\\n",
    "\\dot{E} &= \\beta (I + c_0 I_c) S - \\alpha E  + c_1 E_c - c_2 E (I + I_c)\\\\\n",
    "\\dot{E_c} &= c_0 \\beta (I + c_0 I_c) S_c - \\alpha E_c  - c_1 E_c + c_2 E (I + I_c)\\\\\n",
    "\\dot{I} &= \\alpha E - \\gamma I - \\mu I  + c_1 I_c - c_2 I (I + I_c)\\\\\n",
    "\\dot{I_c} &= \\alpha E_c - \\gamma I_c - \\mu I_c - c_1 I_c + c_2 I (I + I_c)\\\\\n",
    "\\dot{R} & = \\gamma (I + I_c) \\\\\n",
    "\\dot{D} & = \\mu (I + I_c)\n",
    "\\end{split}\n",
    "\\end{equation}\n",
    "\n",
    "The use of I as a state variable triggering susceptibles to execute caution is just one choice. In contrast with deaths, it does not accumulate over time and so retains the property of an active threat to society, rather than an historical one. Alternatively, one could use the daily death rate which is proportional to it.\n",
    "\n",
    "Actually, the effect of caution may be quadratic, since both the individual doing the infection and individual potentially being infected may be executing caution. The current version assumes that infectives do not change their precautionary measures in response to I. To implement this we would need to further distinguish careful and non careful infectives. This is done in the SC2IR model.\n",
    "\n",
    "#### Variables\n",
    "* $S$: Susceptible individuals living as normal\n",
    "* $S_c$: Susceptible individuals exercising pandemy precautions\n",
    "* $E$: Exposed individuals\n",
    "* $E_c$: Exposed individuals exercising caution\n",
    "* $I$: Infected individuals\n",
    "* $I_c$: Infected individuals exercising caution\n",
    "* $R$: individuals who have recovered from disease and are now immune\n",
    "* $D$: Dead individuals\n",
    "* $N=S+S_c+E+E_c+I+I_c+R+D$ Total population size (constant)\n",
    "\n",
    "#### Parameters\n",
    "* $\\beta$ rate at which infected individuals contact susceptibles and infect them\n",
    "* $\\alpha$ rate at which exposed individuals become infected (1/(incubation time)\n",
    "* $\\gamma$ rate at which infected individuals recover from disease and become immune\n",
    "* $\\mu$ death rate for infected individuals\n",
    "\n",
    "* $c_i$ three parameters characterizing cautionary response of population via class $S_c$\n",
    "\n",
    "    - c_0 : reduction factor for exposure for cautioned susceptibles\n",
    "\n",
    "    - c_1 : duration of caution (exponential decay time constant in days)\n",
    "\n",
    "    - c_2 : rate constant for transition from uncautioned to cautioned susceptible"
   ]
  },
  {
   "cell_type": "markdown",
   "metadata": {},
   "source": [
    "#### Implementation\n",
    "Using PyGOM, we will set up my simple SCIR model ODE system\n",
    "PyGOM – A Python Package for Simplifying Modelling with Systems of Ordinary Differential Equations https://arxiv.org/pdf/1803.06934.pdf"
   ]
  },
  {
   "cell_type": "code",
   "execution_count": 23,
   "metadata": {},
   "outputs": [
    {
     "data": {
      "text/latex": [
       "$\\displaystyle \\left[\\begin{matrix}d{S}/dt= & - S \\beta \\left(I + I_{c} c_{0}\\right) - S c_{2} \\left(I + I_{c}\\right) + S_{c} c_{1}\\\\d{E}/dt= & - E \\alpha - E c_{2} \\left(I + I_{c}\\right) + E_{c} c_{1} + S \\beta \\left(I + I_{c} c_{0}\\right)\\\\d{I}/dt= & E \\alpha - I c_{2} \\left(I + I_{c}\\right) - I \\gamma - I \\mu + I_{c} c_{1}\\\\d{R}/dt= & I \\gamma + I_{c} \\gamma\\\\d{D}/dt= & I \\mu + I_{c} \\mu\\\\d{I_c}/dt= & E_{c} \\alpha + I c_{2} \\left(I + I_{c}\\right) - I_{c} c_{1} - I_{c} \\gamma - I_{c} \\mu\\\\d{S_c}/dt= & S c_{2} \\left(I + I_{c}\\right) - S_{c} \\beta c_{0} \\left(I + I_{c} c_{0}\\right) - S_{c} c_{1}\\\\d{E_c}/dt= & E c_{2} \\left(I + I_{c}\\right) - E_{c} \\alpha - E_{c} c_{1} + S_{c} \\beta c_{0} \\left(I + I_{c} c_{0}\\right)\\end{matrix}\\right]$"
      ],
      "text/plain": [
       "Matrix([\n",
       "[  d{S}/dt=,                  -S*beta*(I + I_c*c_0) - S*c_2*(I + I_c) + S_c*c_1],\n",
       "[  d{E}/dt=,        -E*alpha - E*c_2*(I + I_c) + E_c*c_1 + S*beta*(I + I_c*c_0)],\n",
       "[  d{I}/dt=,               E*alpha - I*c_2*(I + I_c) - I*gamma - I*mu + I_c*c_1],\n",
       "[  d{R}/dt=,                                                I*gamma + I_c*gamma],\n",
       "[  d{D}/dt=,                                                      I*mu + I_c*mu],\n",
       "[d{I_c}/dt=,         E_c*alpha + I*c_2*(I + I_c) - I_c*c_1 - I_c*gamma - I_c*mu],\n",
       "[d{S_c}/dt=,             S*c_2*(I + I_c) - S_c*beta*c_0*(I + I_c*c_0) - S_c*c_1],\n",
       "[d{E_c}/dt=, E*c_2*(I + I_c) - E_c*alpha - E_c*c_1 + S_c*beta*c_0*(I + I_c*c_0)]])"
      ]
     },
     "execution_count": 23,
     "metadata": {},
     "output_type": "execute_result"
    }
   ],
   "source": [
    "# display equations\n",
    "print_ode2(SC3EIR_model)"
   ]
  },
  {
   "cell_type": "code",
   "execution_count": 24,
   "metadata": {},
   "outputs": [
    {
     "data": {
      "image/png": "[encoded data removed]",
      "text/plain": [
       "<Figure size 432x288 with 1 Axes>"
      ]
     },
     "metadata": {
      "needs_background": "light"
     },
     "output_type": "display_data"
    },
    {
     "data": {
      "image/svg+xml": [
       "<?xml version=\"1.0\" encoding=\"UTF-8\" standalone=\"no\"?>\n",
       "<!DOCTYPE svg PUBLIC \"-//W3C//DTD SVG 1.1//EN\"\n",
       " \"http://www.w3.org/Graphics/SVG/1.1/DTD/svg11.dtd\">\n",
       "<!-- Generated by graphviz version 2.44.0 (20200408.0750)\n",
       " -->\n",
       "<!-- Pages: 1 -->\n",
       "<svg width=\"758pt\" height=\"197pt\"\n",
       " viewBox=\"0.00 0.00 758.00 196.67\" xmlns=\"http://www.w3.org/2000/svg\" xmlns:xlink=\"http://www.w3.org/1999/xlink\">\n",
       "<g id=\"graph0\" class=\"graph\" transform=\"scale(1 1) rotate(0) translate(4 192.67)\">\n",
       "<polygon fill=\"white\" stroke=\"transparent\" points=\"-4,4 -4,-192.67 754,-192.67 754,4 -4,4\"/>\n",
       "<!-- S -->\n",
       "<g id=\"node1\" class=\"node\">\n",
       "<title>S</title>\n",
       "<ellipse fill=\"none\" stroke=\"black\" cx=\"27\" cy=\"-132.67\" rx=\"27\" ry=\"18\"/>\n",
       "<text text-anchor=\"middle\" x=\"27\" y=\"-128.97\" font-family=\"Times,serif\" font-size=\"14.00\">S</text>\n",
       "</g>\n",
       "<!-- E -->\n",
       "<g id=\"node2\" class=\"node\">\n",
       "<title>E</title>\n",
       "<ellipse fill=\"none\" stroke=\"black\" cx=\"211\" cy=\"-94.67\" rx=\"27\" ry=\"18\"/>\n",
       "<text text-anchor=\"middle\" x=\"211\" y=\"-90.97\" font-family=\"Times,serif\" font-size=\"14.00\">E</text>\n",
       "</g>\n",
       "<!-- S&#45;&gt;E -->\n",
       "<g id=\"edge1\" class=\"edge\">\n",
       "<title>S&#45;&gt;E</title>\n",
       "<path fill=\"none\" stroke=\"black\" d=\"M41.39,-117.11C49.36,-109.06 60.2,-100.02 72,-95.67 105.34,-83.38 146.36,-85 174.97,-88.53\"/>\n",
       "<polygon fill=\"black\" stroke=\"black\" points=\"174.53,-92 184.92,-89.9 175.49,-85.07 174.53,-92\"/>\n",
       "<text text-anchor=\"middle\" x=\"119\" y=\"-99.47\" font-family=\"Times,serif\" font-size=\"14.00\">β*(I+c_0*I_c)*S</text>\n",
       "</g>\n",
       "<!-- S_c -->\n",
       "<g id=\"node7\" class=\"node\">\n",
       "<title>S_c</title>\n",
       "<ellipse fill=\"none\" stroke=\"black\" cx=\"211\" cy=\"-170.67\" rx=\"27\" ry=\"18\"/>\n",
       "<text text-anchor=\"middle\" x=\"211\" y=\"-166.97\" font-family=\"Times,serif\" font-size=\"14.00\">S_c</text>\n",
       "</g>\n",
       "<!-- S&#45;&gt;S_c -->\n",
       "<g id=\"edge2\" class=\"edge\">\n",
       "<title>S&#45;&gt;S_c</title>\n",
       "<path fill=\"none\" stroke=\"black\" d=\"M50.58,-141.82C57.38,-144.32 64.92,-146.84 72,-148.67 106.15,-157.52 146.04,-163.42 174.12,-166.86\"/>\n",
       "<polygon fill=\"black\" stroke=\"black\" points=\"173.92,-170.36 184.27,-168.06 174.75,-163.41 173.92,-170.36\"/>\n",
       "<text text-anchor=\"middle\" x=\"119\" y=\"-168.47\" font-family=\"Times,serif\" font-size=\"14.00\">c_2*(I+I_c)*S</text>\n",
       "</g>\n",
       "<!-- I -->\n",
       "<g id=\"node3\" class=\"node\">\n",
       "<title>I</title>\n",
       "<ellipse fill=\"none\" stroke=\"black\" cx=\"434\" cy=\"-56.67\" rx=\"27\" ry=\"18\"/>\n",
       "<text text-anchor=\"middle\" x=\"434\" y=\"-52.97\" font-family=\"Times,serif\" font-size=\"14.00\">I</text>\n",
       "</g>\n",
       "<!-- E&#45;&gt;I -->\n",
       "<g id=\"edge5\" class=\"edge\">\n",
       "<title>E&#45;&gt;I</title>\n",
       "<path fill=\"none\" stroke=\"black\" d=\"M225.38,-79.1C233.35,-71.05 244.2,-62.02 256,-57.67 302.72,-40.49 361.2,-44.66 397.84,-50.03\"/>\n",
       "<polygon fill=\"black\" stroke=\"black\" points=\"397.59,-53.54 408.02,-51.64 398.68,-46.62 397.59,-53.54\"/>\n",
       "<text text-anchor=\"middle\" x=\"322.5\" y=\"-61.47\" font-family=\"Times,serif\" font-size=\"14.00\">α*E</text>\n",
       "</g>\n",
       "<!-- E_c -->\n",
       "<g id=\"node8\" class=\"node\">\n",
       "<title>E_c</title>\n",
       "<ellipse fill=\"none\" stroke=\"black\" cx=\"434\" cy=\"-132.67\" rx=\"27\" ry=\"18\"/>\n",
       "<text text-anchor=\"middle\" x=\"434\" y=\"-128.97\" font-family=\"Times,serif\" font-size=\"14.00\">E_c</text>\n",
       "</g>\n",
       "<!-- E&#45;&gt;E_c -->\n",
       "<g id=\"edge6\" class=\"edge\">\n",
       "<title>E&#45;&gt;E_c</title>\n",
       "<path fill=\"none\" stroke=\"black\" d=\"M234.54,-103.97C241.34,-106.48 248.89,-108.96 256,-110.67 281.99,-116.93 353.44,-124.76 397.2,-129.19\"/>\n",
       "<polygon fill=\"black\" stroke=\"black\" points=\"396.85,-132.67 407.15,-130.18 397.55,-125.7 396.85,-132.67\"/>\n",
       "<text text-anchor=\"middle\" x=\"322.5\" y=\"-131.47\" font-family=\"Times,serif\" font-size=\"14.00\">c_2*(I+I_c)*E</text>\n",
       "</g>\n",
       "<!-- R -->\n",
       "<g id=\"node4\" class=\"node\">\n",
       "<title>R</title>\n",
       "<ellipse fill=\"none\" stroke=\"black\" cx=\"723\" cy=\"-18.67\" rx=\"27\" ry=\"18\"/>\n",
       "<text text-anchor=\"middle\" x=\"723\" y=\"-14.97\" font-family=\"Times,serif\" font-size=\"14.00\">R</text>\n",
       "</g>\n",
       "<!-- I&#45;&gt;R -->\n",
       "<g id=\"edge9\" class=\"edge\">\n",
       "<title>I&#45;&gt;R</title>\n",
       "<path fill=\"none\" stroke=\"black\" d=\"M449.56,-41.55C457.56,-34.12 468.06,-25.71 479,-20.67 547.37,10.8 638.47,-0.62 687.41,-10.44\"/>\n",
       "<polygon fill=\"black\" stroke=\"black\" points=\"686.97,-13.92 697.47,-12.56 688.41,-7.07 686.97,-13.92\"/>\n",
       "<text text-anchor=\"middle\" x=\"601\" y=\"-6.47\" font-family=\"Times,serif\" font-size=\"14.00\">γ*I</text>\n",
       "</g>\n",
       "<!-- D -->\n",
       "<g id=\"node5\" class=\"node\">\n",
       "<title>D</title>\n",
       "<ellipse fill=\"none\" stroke=\"black\" cx=\"723\" cy=\"-80.67\" rx=\"27\" ry=\"18\"/>\n",
       "<text text-anchor=\"middle\" x=\"723\" y=\"-76.97\" font-family=\"Times,serif\" font-size=\"14.00\">D</text>\n",
       "</g>\n",
       "<!-- I&#45;&gt;D -->\n",
       "<g id=\"edge11\" class=\"edge\">\n",
       "<title>I&#45;&gt;D</title>\n",
       "<path fill=\"none\" stroke=\"black\" d=\"M456.98,-66.64C463.9,-69.37 471.65,-72.03 479,-73.67 551.62,-89.93 571.63,-83.01 646,-85.67 660.21,-86.18 663.8,-86.48 678,-85.67 680.71,-85.52 683.52,-85.31 686.33,-85.07\"/>\n",
       "<polygon fill=\"black\" stroke=\"black\" points=\"686.84,-88.54 696.45,-84.07 686.15,-81.57 686.84,-88.54\"/>\n",
       "<text text-anchor=\"middle\" x=\"601\" y=\"-88.47\" font-family=\"Times,serif\" font-size=\"14.00\">μ*I</text>\n",
       "</g>\n",
       "<!-- I_c -->\n",
       "<g id=\"node6\" class=\"node\">\n",
       "<title>I_c</title>\n",
       "<ellipse fill=\"none\" stroke=\"black\" cx=\"601\" cy=\"-45.67\" rx=\"27\" ry=\"18\"/>\n",
       "<text text-anchor=\"middle\" x=\"601\" y=\"-41.97\" font-family=\"Times,serif\" font-size=\"14.00\">I_c</text>\n",
       "</g>\n",
       "<!-- I&#45;&gt;I_c -->\n",
       "<g id=\"edge10\" class=\"edge\">\n",
       "<title>I&#45;&gt;I_c</title>\n",
       "<path fill=\"none\" stroke=\"black\" d=\"M461.14,-54.93C488.9,-53.08 532.96,-50.14 564,-48.07\"/>\n",
       "<polygon fill=\"black\" stroke=\"black\" points=\"564.23,-51.57 573.98,-47.41 563.77,-44.58 564.23,-51.57\"/>\n",
       "<text text-anchor=\"middle\" x=\"517.5\" y=\"-58.47\" font-family=\"Times,serif\" font-size=\"14.00\">c_2*(I+I_c)*I</text>\n",
       "</g>\n",
       "<!-- I_c&#45;&gt;I -->\n",
       "<g id=\"edge13\" class=\"edge\">\n",
       "<title>I_c&#45;&gt;I</title>\n",
       "<path fill=\"none\" stroke=\"black\" d=\"M578.03,-35.99C571.12,-33.4 563.36,-30.97 556,-29.67 522.3,-23.74 511.93,-20.38 479,-29.67 472.77,-31.43 466.56,-34.35 460.85,-37.62\"/>\n",
       "<polygon fill=\"black\" stroke=\"black\" points=\"458.96,-34.68 452.35,-42.96 462.68,-40.6 458.96,-34.68\"/>\n",
       "<text text-anchor=\"middle\" x=\"517.5\" y=\"-33.47\" font-family=\"Times,serif\" font-size=\"14.00\">c_1*I_c</text>\n",
       "</g>\n",
       "<!-- I_c&#45;&gt;R -->\n",
       "<g id=\"edge12\" class=\"edge\">\n",
       "<title>I_c&#45;&gt;R</title>\n",
       "<path fill=\"none\" stroke=\"black\" d=\"M625.58,-37.51C632.14,-35.42 639.3,-33.3 646,-31.67 659.14,-28.48 673.74,-25.78 686.6,-23.68\"/>\n",
       "<polygon fill=\"black\" stroke=\"black\" points=\"687.15,-27.14 696.49,-22.14 686.06,-20.23 687.15,-27.14\"/>\n",
       "<text text-anchor=\"middle\" x=\"662\" y=\"-35.47\" font-family=\"Times,serif\" font-size=\"14.00\">γ*I_c</text>\n",
       "</g>\n",
       "<!-- I_c&#45;&gt;D -->\n",
       "<g id=\"edge14\" class=\"edge\">\n",
       "<title>I_c&#45;&gt;D</title>\n",
       "<path fill=\"none\" stroke=\"black\" d=\"M626,-52.67C643.82,-57.87 668.37,-65.03 688.18,-70.81\"/>\n",
       "<polygon fill=\"black\" stroke=\"black\" points=\"687.47,-74.25 698.05,-73.69 689.43,-67.53 687.47,-74.25\"/>\n",
       "<text text-anchor=\"middle\" x=\"662\" y=\"-70.47\" font-family=\"Times,serif\" font-size=\"14.00\">μ*I_c</text>\n",
       "</g>\n",
       "<!-- S_c&#45;&gt;S -->\n",
       "<g id=\"edge3\" class=\"edge\">\n",
       "<title>S_c&#45;&gt;S</title>\n",
       "<path fill=\"none\" stroke=\"black\" d=\"M198.06,-154.69C190.12,-145.47 178.82,-134.72 166,-129.67 132.74,-116.58 91.38,-119.76 62.66,-124.7\"/>\n",
       "<polygon fill=\"black\" stroke=\"black\" points=\"61.87,-121.29 52.68,-126.58 63.16,-128.17 61.87,-121.29\"/>\n",
       "<text text-anchor=\"middle\" x=\"119\" y=\"-133.47\" font-family=\"Times,serif\" font-size=\"14.00\">c_1*S_c</text>\n",
       "</g>\n",
       "<!-- S_c&#45;&gt;E_c -->\n",
       "<g id=\"edge4\" class=\"edge\">\n",
       "<title>S_c&#45;&gt;E_c</title>\n",
       "<path fill=\"none\" stroke=\"black\" d=\"M238.12,-169.27C272.95,-166.98 336.31,-161.36 389,-148.67 392.89,-147.74 396.91,-146.57 400.87,-145.3\"/>\n",
       "<polygon fill=\"black\" stroke=\"black\" points=\"402.16,-148.55 410.46,-141.97 399.87,-141.94 402.16,-148.55\"/>\n",
       "<text text-anchor=\"middle\" x=\"322.5\" y=\"-171.47\" font-family=\"Times,serif\" font-size=\"14.00\">c_0*β*(I+c_0*I_c)*S_c</text>\n",
       "</g>\n",
       "<!-- E_c&#45;&gt;E -->\n",
       "<g id=\"edge8\" class=\"edge\">\n",
       "<title>E_c&#45;&gt;E</title>\n",
       "<path fill=\"none\" stroke=\"black\" d=\"M421.06,-116.69C413.12,-107.47 401.82,-96.72 389,-91.67 342.41,-73.33 283.43,-79.55 246.71,-86.5\"/>\n",
       "<polygon fill=\"black\" stroke=\"black\" points=\"245.62,-83.15 236.51,-88.55 247.01,-90.01 245.62,-83.15\"/>\n",
       "<text text-anchor=\"middle\" x=\"322.5\" y=\"-95.47\" font-family=\"Times,serif\" font-size=\"14.00\">c_1*E_c</text>\n",
       "</g>\n",
       "<!-- E_c&#45;&gt;I_c -->\n",
       "<g id=\"edge7\" class=\"edge\">\n",
       "<title>E_c&#45;&gt;I_c</title>\n",
       "<path fill=\"none\" stroke=\"black\" d=\"M456.8,-122.95C481.32,-111.8 522.14,-92.62 556,-73.67 561.47,-70.62 567.19,-67.16 572.64,-63.76\"/>\n",
       "<polygon fill=\"black\" stroke=\"black\" points=\"574.89,-66.47 581.44,-58.14 571.13,-60.57 574.89,-66.47\"/>\n",
       "<text text-anchor=\"middle\" x=\"517.5\" y=\"-114.47\" font-family=\"Times,serif\" font-size=\"14.00\">α*E_c</text>\n",
       "</g>\n",
       "</g>\n",
       "</svg>\n"
      ],
      "text/plain": [
       "<graphviz.dot.Digraph at 0x12592f450>"
      ]
     },
     "execution_count": 24,
     "metadata": {},
     "output_type": "execute_result"
    }
   ],
   "source": [
    "# display graphical representation of the model\n",
    "SC3EIR_model.get_transition_graph()"
   ]
  },
  {
   "cell_type": "markdown",
   "metadata": {},
   "source": [
    "## Caution Extensions to SEI3R Model"
   ]
  },
  {
   "cell_type": "markdown",
   "metadata": {},
   "source": [
    "### SEI3R model"
   ]
  },
  {
   "cell_type": "markdown",
   "metadata": {},
   "source": [
    "#### Equations\n",
    "\n",
    "\\begin{equation}\n",
    "\\begin{split}\n",
    "\\dot{S} &= -(\\beta_1 I_1 +\\beta_2 I_2 + \\beta_3 I_3) S\\\\\n",
    "\\dot{E} &=(\\beta_1 I_1 +\\beta_2 I_2 + \\beta_3 I_3 ) S - a E \\\\\n",
    "\\dot{I_1} &= a E - \\gamma_1 I_1 - p_1 I_1 \\\\\n",
    "\\dot{I_2} &= p_1 I_1 -\\gamma_2 I_2 - p_2 I_2 \\\\\n",
    "\\dot{I_3} & = p_2 I_2 -\\gamma_3 I_3 - \\mu I_3 \\\\\n",
    "\\dot{R} & = \\gamma_1 I_1 + \\gamma_2 I_2 + \\gamma_3 I_3 \\\\\n",
    "\\dot{D} & = \\mu I_3\n",
    "\\end{split}\n",
    "\\end{equation}\n",
    "\n",
    "This model (by Dr. Alison for example) involves exposed but not infectious individuals and three classes of infective states with increasing severity.\n",
    "The latter two involve hospitalization with the last in ICU.\n",
    "\n",
    "#### Variables\n",
    "* $S$: Susceptible individuals living as normal\n",
    "* $E$: Exposed individuals - infected but not yet infectious or symptomatic\n",
    "* $I_i$: Infected individuals in severity class $i$. Severity increaes with $i$ and we assume individuals must pass through all previous classes\n",
    "  * $I_1$: Mild infection (hospitalization not required)\n",
    "  * $I_2$: Severe infection (hospitalization required)\n",
    "  * $I_3$: Critical infection (ICU required)\n",
    "* $R$: individuals who have recovered from disease and are now immune\n",
    "* $D$: Dead individuals\n",
    "* $N=S+E+I_1+I_2+I_3+R+D$ Total population size (constant)\n",
    "\n",
    "#### Parameters\n",
    "* $\\beta_i$ rate at which infected individuals in class $I_i$ contact susceptibles and infect them\n",
    "* $a$ rate of progression from the exposed to infected class\n",
    "* $\\gamma_i$ rate at which infected individuals in class $I_i$ recover from disease and become immune\n",
    "* $p_i$ rate at which infected individuals in class $I_i$ progress to class $I_{I+1}$\n",
    "* $\\mu$ death rate for individuals in the most severe stage of disease"
   ]
  },
  {
   "cell_type": "markdown",
   "metadata": {},
   "source": [
    "#### Implementation\n",
    "Using PyGOM, we will set up the model ODE system\n",
    "PyGOM – A Python Package for Simplifying Modelling with Systems of Ordinary Differential Equations https://arxiv.org/pdf/1803.06934.pdf"
   ]
  },
  {
   "cell_type": "code",
   "execution_count": 25,
   "metadata": {},
   "outputs": [
    {
     "data": {
      "text/latex": [
       "$\\displaystyle \\left[\\begin{matrix}d{S}/dt= & - S \\left(I_{1} \\beta_{1} + I_{2} \\beta_{2} + I_{3} \\beta_{3}\\right)\\\\d{E}/dt= & - E \\alpha + S \\left(I_{1} \\beta_{1} + I_{2} \\beta_{2} + I_{3} \\beta_{3}\\right)\\\\d{I_1}/dt= & E \\alpha - I_{1} \\gamma_{1} - I_{1} p_{1}\\\\d{I_2}/dt= & I_{1} p_{1} - I_{2} \\gamma_{2} - I_{2} p_{2}\\\\d{I_3}/dt= & I_{2} p_{2} - I_{3} \\gamma_{3} - I_{3} \\mu\\\\d{R}/dt= & I_{1} \\gamma_{1} + I_{2} \\gamma_{2} + I_{3} \\gamma_{3}\\\\d{D}/dt= & I_{3} \\mu\\end{matrix}\\right]$"
      ],
      "text/plain": [
       "Matrix([\n",
       "[  d{S}/dt=,           -S*(I_1*beta_1 + I_2*beta_2 + I_3*beta_3)],\n",
       "[  d{E}/dt=, -E*alpha + S*(I_1*beta_1 + I_2*beta_2 + I_3*beta_3)],\n",
       "[d{I_1}/dt=,                     E*alpha - I_1*gamma_1 - I_1*p_1],\n",
       "[d{I_2}/dt=,                     I_1*p_1 - I_2*gamma_2 - I_2*p_2],\n",
       "[d{I_3}/dt=,                      I_2*p_2 - I_3*gamma_3 - I_3*mu],\n",
       "[  d{R}/dt=,             I_1*gamma_1 + I_2*gamma_2 + I_3*gamma_3],\n",
       "[  d{D}/dt=,                                              I_3*mu]])"
      ]
     },
     "execution_count": 25,
     "metadata": {},
     "output_type": "execute_result"
    }
   ],
   "source": [
    "# display equations\n",
    "print_ode2(SEI3R_model)"
   ]
  },
  {
   "cell_type": "code",
   "execution_count": 26,
   "metadata": {},
   "outputs": [
    {
     "data": {
      "image/png": "[encoded data removed]",
      "text/plain": [
       "<Figure size 432x288 with 1 Axes>"
      ]
     },
     "metadata": {
      "needs_background": "light"
     },
     "output_type": "display_data"
    },
    {
     "data": {
      "image/svg+xml": [
       "<?xml version=\"1.0\" encoding=\"UTF-8\" standalone=\"no\"?>\n",
       "<!DOCTYPE svg PUBLIC \"-//W3C//DTD SVG 1.1//EN\"\n",
       " \"http://www.w3.org/Graphics/SVG/1.1/DTD/svg11.dtd\">\n",
       "<!-- Generated by graphviz version 2.44.0 (20200408.0750)\n",
       " -->\n",
       "<!-- Pages: 1 -->\n",
       "<svg width=\"852pt\" height=\"145pt\"\n",
       " viewBox=\"0.00 0.00 852.00 145.00\" xmlns=\"http://www.w3.org/2000/svg\" xmlns:xlink=\"http://www.w3.org/1999/xlink\">\n",
       "<g id=\"graph0\" class=\"graph\" transform=\"scale(1 1) rotate(0) translate(4 141)\">\n",
       "<polygon fill=\"white\" stroke=\"transparent\" points=\"-4,4 -4,-141 848,-141 848,4 -4,4\"/>\n",
       "<!-- S -->\n",
       "<g id=\"node1\" class=\"node\">\n",
       "<title>S</title>\n",
       "<ellipse fill=\"none\" stroke=\"black\" cx=\"27\" cy=\"-18\" rx=\"27\" ry=\"18\"/>\n",
       "<text text-anchor=\"middle\" x=\"27\" y=\"-14.3\" font-family=\"Times,serif\" font-size=\"14.00\">S</text>\n",
       "</g>\n",
       "<!-- E -->\n",
       "<g id=\"node2\" class=\"node\">\n",
       "<title>E</title>\n",
       "<ellipse fill=\"none\" stroke=\"black\" cx=\"295\" cy=\"-18\" rx=\"27\" ry=\"18\"/>\n",
       "<text text-anchor=\"middle\" x=\"295\" y=\"-14.3\" font-family=\"Times,serif\" font-size=\"14.00\">E</text>\n",
       "</g>\n",
       "<!-- S&#45;&gt;E -->\n",
       "<g id=\"edge1\" class=\"edge\">\n",
       "<title>S&#45;&gt;E</title>\n",
       "<path fill=\"none\" stroke=\"black\" d=\"M54.48,-18C102.28,-18 203.05,-18 257.41,-18\"/>\n",
       "<polygon fill=\"black\" stroke=\"black\" points=\"257.63,-21.5 267.63,-18 257.63,-14.5 257.63,-21.5\"/>\n",
       "<text text-anchor=\"middle\" x=\"161\" y=\"-21.8\" font-family=\"Times,serif\" font-size=\"14.00\">(β_1*I_1+β_2*I_2+β_3*I_3)*S</text>\n",
       "</g>\n",
       "<!-- I_1 -->\n",
       "<g id=\"node3\" class=\"node\">\n",
       "<title>I_1</title>\n",
       "<ellipse fill=\"none\" stroke=\"black\" cx=\"409\" cy=\"-18\" rx=\"27\" ry=\"18\"/>\n",
       "<text text-anchor=\"middle\" x=\"409\" y=\"-14.3\" font-family=\"Times,serif\" font-size=\"14.00\">I_1</text>\n",
       "</g>\n",
       "<!-- E&#45;&gt;I_1 -->\n",
       "<g id=\"edge2\" class=\"edge\">\n",
       "<title>E&#45;&gt;I_1</title>\n",
       "<path fill=\"none\" stroke=\"black\" d=\"M322.26,-18C337,-18 355.62,-18 371.74,-18\"/>\n",
       "<polygon fill=\"black\" stroke=\"black\" points=\"371.91,-21.5 381.91,-18 371.91,-14.5 371.91,-21.5\"/>\n",
       "<text text-anchor=\"middle\" x=\"352\" y=\"-21.8\" font-family=\"Times,serif\" font-size=\"14.00\">α*E</text>\n",
       "</g>\n",
       "<!-- I_2 -->\n",
       "<g id=\"node4\" class=\"node\">\n",
       "<title>I_2</title>\n",
       "<ellipse fill=\"none\" stroke=\"black\" cx=\"545\" cy=\"-48\" rx=\"27\" ry=\"18\"/>\n",
       "<text text-anchor=\"middle\" x=\"545\" y=\"-44.3\" font-family=\"Times,serif\" font-size=\"14.00\">I_2</text>\n",
       "</g>\n",
       "<!-- I_1&#45;&gt;I_2 -->\n",
       "<g id=\"edge6\" class=\"edge\">\n",
       "<title>I_1&#45;&gt;I_2</title>\n",
       "<path fill=\"none\" stroke=\"black\" d=\"M434.89,-23.57C455.86,-28.27 486.07,-35.03 509.39,-40.25\"/>\n",
       "<polygon fill=\"black\" stroke=\"black\" points=\"508.72,-43.69 519.24,-42.46 510.25,-36.86 508.72,-43.69\"/>\n",
       "<text text-anchor=\"middle\" x=\"477\" y=\"-41.8\" font-family=\"Times,serif\" font-size=\"14.00\">p_1*I_1</text>\n",
       "</g>\n",
       "<!-- R -->\n",
       "<g id=\"node6\" class=\"node\">\n",
       "<title>R</title>\n",
       "<ellipse fill=\"none\" stroke=\"black\" cx=\"817\" cy=\"-48\" rx=\"27\" ry=\"18\"/>\n",
       "<text text-anchor=\"middle\" x=\"817\" y=\"-44.3\" font-family=\"Times,serif\" font-size=\"14.00\">R</text>\n",
       "</g>\n",
       "<!-- I_1&#45;&gt;R -->\n",
       "<g id=\"edge3\" class=\"edge\">\n",
       "<title>I_1&#45;&gt;R</title>\n",
       "<path fill=\"none\" stroke=\"black\" d=\"M436.12,-17.75C468.17,-17.61 524.14,-17.92 572,-21 646.34,-25.79 732.9,-36.63 780.35,-43.02\"/>\n",
       "<polygon fill=\"black\" stroke=\"black\" points=\"780.04,-46.51 790.42,-44.39 780.99,-39.57 780.04,-46.51\"/>\n",
       "<text text-anchor=\"middle\" x=\"613\" y=\"-30.8\" font-family=\"Times,serif\" font-size=\"14.00\">γ_1*I_1</text>\n",
       "</g>\n",
       "<!-- I_3 -->\n",
       "<g id=\"node5\" class=\"node\">\n",
       "<title>I_3</title>\n",
       "<ellipse fill=\"none\" stroke=\"black\" cx=\"681\" cy=\"-99\" rx=\"27\" ry=\"18\"/>\n",
       "<text text-anchor=\"middle\" x=\"681\" y=\"-95.3\" font-family=\"Times,serif\" font-size=\"14.00\">I_3</text>\n",
       "</g>\n",
       "<!-- I_2&#45;&gt;I_3 -->\n",
       "<g id=\"edge7\" class=\"edge\">\n",
       "<title>I_2&#45;&gt;I_3</title>\n",
       "<path fill=\"none\" stroke=\"black\" d=\"M568.73,-56.65C590.39,-64.89 623.22,-77.39 647.61,-86.67\"/>\n",
       "<polygon fill=\"black\" stroke=\"black\" points=\"646.57,-90.02 657.16,-90.31 649.06,-83.48 646.57,-90.02\"/>\n",
       "<text text-anchor=\"middle\" x=\"613\" y=\"-84.8\" font-family=\"Times,serif\" font-size=\"14.00\">p_2*I_2</text>\n",
       "</g>\n",
       "<!-- I_2&#45;&gt;R -->\n",
       "<g id=\"edge4\" class=\"edge\">\n",
       "<title>I_2&#45;&gt;R</title>\n",
       "<path fill=\"none\" stroke=\"black\" d=\"M572.38,-48C621,-48 724.79,-48 779.89,-48\"/>\n",
       "<polygon fill=\"black\" stroke=\"black\" points=\"779.91,-51.5 789.91,-48 779.91,-44.5 779.91,-51.5\"/>\n",
       "<text text-anchor=\"middle\" x=\"681\" y=\"-51.8\" font-family=\"Times,serif\" font-size=\"14.00\">γ_2*I_2</text>\n",
       "</g>\n",
       "<!-- I_3&#45;&gt;R -->\n",
       "<g id=\"edge5\" class=\"edge\">\n",
       "<title>I_3&#45;&gt;R</title>\n",
       "<path fill=\"none\" stroke=\"black\" d=\"M704.73,-90.35C726.39,-82.11 759.22,-69.61 783.61,-60.33\"/>\n",
       "<polygon fill=\"black\" stroke=\"black\" points=\"785.06,-63.52 793.16,-56.69 782.57,-56.98 785.06,-63.52\"/>\n",
       "<text text-anchor=\"middle\" x=\"749\" y=\"-84.8\" font-family=\"Times,serif\" font-size=\"14.00\">γ_3*I_3</text>\n",
       "</g>\n",
       "<!-- D -->\n",
       "<g id=\"node7\" class=\"node\">\n",
       "<title>D</title>\n",
       "<ellipse fill=\"none\" stroke=\"black\" cx=\"817\" cy=\"-119\" rx=\"27\" ry=\"18\"/>\n",
       "<text text-anchor=\"middle\" x=\"817\" y=\"-115.3\" font-family=\"Times,serif\" font-size=\"14.00\">D</text>\n",
       "</g>\n",
       "<!-- I_3&#45;&gt;D -->\n",
       "<g id=\"edge8\" class=\"edge\">\n",
       "<title>I_3&#45;&gt;D</title>\n",
       "<path fill=\"none\" stroke=\"black\" d=\"M707.52,-102.81C728.2,-105.9 757.56,-110.28 780.53,-113.71\"/>\n",
       "<polygon fill=\"black\" stroke=\"black\" points=\"780.17,-117.19 790.58,-115.21 781.2,-110.27 780.17,-117.19\"/>\n",
       "<text text-anchor=\"middle\" x=\"749\" y=\"-114.8\" font-family=\"Times,serif\" font-size=\"14.00\">μ*I_3</text>\n",
       "</g>\n",
       "</g>\n",
       "</svg>\n"
      ],
      "text/plain": [
       "<graphviz.dot.Digraph at 0x125b49f10>"
      ]
     },
     "execution_count": 26,
     "metadata": {},
     "output_type": "execute_result"
    }
   ],
   "source": [
    "# display graphical representation of the model\n",
    "SEI3R_model.get_transition_graph()"
   ]
  },
  {
   "cell_type": "markdown",
   "metadata": {},
   "source": [
    "### SCEI3R model"
   ]
  },
  {
   "cell_type": "markdown",
   "metadata": {},
   "source": [
    "#### Equations\n",
    "\n",
    "\\begin{equation}\n",
    "\\begin{split}\n",
    "\\dot{S} &= -(\\beta_1 I_1 +\\beta_2 I_2 + \\beta_3 I_3) S + c_1 S_c - c_2*S*I_3\\\\\n",
    "\\dot{S_c} &= - c_0(\\beta_1 I_1 +\\beta_2 I_2 + \\beta_3 I_3) S_c - c_1 S_c + c_2*S*I_3\\\\\n",
    "\\dot{E} &=(\\beta_1 I_1 +\\beta_2 I_2 + \\beta_3 I_3 ) (S + c_0 S_c) - a E \\\\\n",
    "\\dot{I_1} &= a E - \\gamma_1 I_1 - p_1 I_1 \\\\\n",
    "\\dot{I_2} &= p_1 I_1 -\\gamma_2 I_2 - p_2 I_2 \\\\\n",
    "\\dot{I_3} & = p_2 I_2 -\\gamma_3 I_3 - \\mu I_3 \\\\\n",
    "\\dot{R} & = \\gamma_1 I_1 + \\gamma_2 I_2 + \\gamma_3 I_3 \\\\\n",
    "\\dot{D} & = \\mu I_3\n",
    "\\end{split}\n",
    "\\end{equation}\n",
    "\n",
    "The use of I_3 as a state variable triggering susceptibles to execute caution is just one choice. In contrast with deaths, it does not accumulate over time and so retains the property of an active threat to society, rather than an historical one.\n",
    "\n",
    "Actually, the effect of caution may be quadratic, since both the individual doing the infection and individual potentially being infected may be executing caution. The current version assumes that infectives do not change their precautionary measures in response to I_3. To implement this we would need to further distinguish careful and non careful infectives at least up to the I_1 level. This is done in the SC3EI3R model.\n",
    "\n",
    "#### Variables\n",
    "* $S$: Susceptible individuals living as normal\n",
    "* $S_c$: Susceptible individuals exercising pandemy precautions\n",
    "* $E$: Exposed individuals - infected but not yet infectious or symptomatic\n",
    "* $I_i$: Infected individuals in severity class $i$. Severity increaes with $i$ and we assume individuals must pass through all previous classes\n",
    "  * $I_1$: Mild infection (hospitalization not required)\n",
    "  * $I_2$: Severe infection (hospitalization required)\n",
    "  * $I_3$: Critical infection (ICU required)\n",
    "* $R$: individuals who have recovered from disease and are now immune\n",
    "* $D$: Dead individuals\n",
    "* $N=S+S_c+E+I_1+I_2+I_3+R+D$ Total population size (constant)\n",
    "\n",
    "#### Parameters\n",
    "* $\\beta_i$ rate at which infected individuals in class $I_i$ contact susceptibles and infect them\n",
    "* $a$ rate of progression from the exposed to infected class\n",
    "* $\\gamma_i$ rate at which infected individuals in class $I_i$ recover from disease and become immune\n",
    "* $p_i$ rate at which infected individuals in class $I_i$ progress to class $I_{I+1}$\n",
    "* $\\mu$ death rate for individuals in the most severe stage of disease\n",
    "\n",
    "* $c_i$ three parameters characterizing cautionary response of population via class $S_c$\n",
    "\n",
    "    - c_0 : reduction factor for exposure for cautioned susceptibles\n",
    "\n",
    "    - c_1 : duration of caution (exponential decay time constant in days)\n",
    "\n",
    "    - c_2 : rate constant for transition from uncautioned to cautioned susceptible\n",
    "\n",
    "\n"
   ]
  },
  {
   "cell_type": "markdown",
   "metadata": {},
   "source": [
    "#### Implementation\n",
    "Using PyGOM, we will set up the model ODE system\n",
    "PyGOM – A Python Package for Simplifying Modelling with Systems of Ordinary Differential Equations https://arxiv.org/pdf/1803.06934.pdf"
   ]
  },
  {
   "cell_type": "code",
   "execution_count": 27,
   "metadata": {},
   "outputs": [
    {
     "data": {
      "text/latex": [
       "$\\displaystyle \\left[\\begin{matrix}d{S}/dt= & - I_{3} S c_{2} - S \\left(I_{1} \\beta_{1} + I_{2} \\beta_{2} + I_{3} \\beta_{3}\\right) + S_{c} c_{1}\\\\d{E}/dt= & - E \\alpha + S \\left(I_{1} \\beta_{1} + I_{2} \\beta_{2} + I_{3} \\beta_{3}\\right) + S_{c} c_{0} \\left(I_{1} \\beta_{1} + I_{2} \\beta_{2} + I_{3} \\beta_{3}\\right)\\\\d{I_1}/dt= & E \\alpha - I_{1} \\gamma_{1} - I_{1} p_{1}\\\\d{I_2}/dt= & I_{1} p_{1} - I_{2} \\gamma_{2} - I_{2} p_{2}\\\\d{I_3}/dt= & I_{2} p_{2} - I_{3} \\gamma_{3} - I_{3} \\mu\\\\d{R}/dt= & I_{1} \\gamma_{1} + I_{2} \\gamma_{2} + I_{3} \\gamma_{3}\\\\d{D}/dt= & I_{3} \\mu\\\\d{S_c}/dt= & I_{3} S c_{2} - S_{c} c_{0} \\left(I_{1} \\beta_{1} + I_{2} \\beta_{2} + I_{3} \\beta_{3}\\right) - S_{c} c_{1}\\end{matrix}\\right]$"
      ],
      "text/plain": [
       "Matrix([\n",
       "[  d{S}/dt=,                                      -I_3*S*c_2 - S*(I_1*beta_1 + I_2*beta_2 + I_3*beta_3) + S_c*c_1],\n",
       "[  d{E}/dt=, -E*alpha + S*(I_1*beta_1 + I_2*beta_2 + I_3*beta_3) + S_c*c_0*(I_1*beta_1 + I_2*beta_2 + I_3*beta_3)],\n",
       "[d{I_1}/dt=,                                                                      E*alpha - I_1*gamma_1 - I_1*p_1],\n",
       "[d{I_2}/dt=,                                                                      I_1*p_1 - I_2*gamma_2 - I_2*p_2],\n",
       "[d{I_3}/dt=,                                                                       I_2*p_2 - I_3*gamma_3 - I_3*mu],\n",
       "[  d{R}/dt=,                                                              I_1*gamma_1 + I_2*gamma_2 + I_3*gamma_3],\n",
       "[  d{D}/dt=,                                                                                               I_3*mu],\n",
       "[d{S_c}/dt=,                                 I_3*S*c_2 - S_c*c_0*(I_1*beta_1 + I_2*beta_2 + I_3*beta_3) - S_c*c_1]])"
      ]
     },
     "execution_count": 27,
     "metadata": {},
     "output_type": "execute_result"
    }
   ],
   "source": [
    "# display equations\n",
    "print_ode2(SCEI3R_model)"
   ]
  },
  {
   "cell_type": "code",
   "execution_count": 28,
   "metadata": {},
   "outputs": [
    {
     "data": {
      "image/png": "[encoded data removed]",
      "text/plain": [
       "<Figure size 432x288 with 1 Axes>"
      ]
     },
     "metadata": {
      "needs_background": "light"
     },
     "output_type": "display_data"
    },
    {
     "data": {
      "image/svg+xml": [
       "<?xml version=\"1.0\" encoding=\"UTF-8\" standalone=\"no\"?>\n",
       "<!DOCTYPE svg PUBLIC \"-//W3C//DTD SVG 1.1//EN\"\n",
       " \"http://www.w3.org/Graphics/SVG/1.1/DTD/svg11.dtd\">\n",
       "<!-- Generated by graphviz version 2.44.0 (20200408.0750)\n",
       " -->\n",
       "<!-- Pages: 1 -->\n",
       "<svg width=\"1164pt\" height=\"172pt\"\n",
       " viewBox=\"0.00 0.00 1164.00 172.00\" xmlns=\"http://www.w3.org/2000/svg\" xmlns:xlink=\"http://www.w3.org/1999/xlink\">\n",
       "<g id=\"graph0\" class=\"graph\" transform=\"scale(1 1) rotate(0) translate(4 168)\">\n",
       "<polygon fill=\"white\" stroke=\"transparent\" points=\"-4,4 -4,-168 1160,-168 1160,4 -4,4\"/>\n",
       "<!-- S -->\n",
       "<g id=\"node1\" class=\"node\">\n",
       "<title>S</title>\n",
       "<ellipse fill=\"none\" stroke=\"black\" cx=\"27\" cy=\"-42\" rx=\"27\" ry=\"18\"/>\n",
       "<text text-anchor=\"middle\" x=\"27\" y=\"-38.3\" font-family=\"Times,serif\" font-size=\"14.00\">S</text>\n",
       "</g>\n",
       "<!-- E -->\n",
       "<g id=\"node2\" class=\"node\">\n",
       "<title>E</title>\n",
       "<ellipse fill=\"none\" stroke=\"black\" cx=\"607\" cy=\"-45\" rx=\"27\" ry=\"18\"/>\n",
       "<text text-anchor=\"middle\" x=\"607\" y=\"-41.3\" font-family=\"Times,serif\" font-size=\"14.00\">E</text>\n",
       "</g>\n",
       "<!-- S&#45;&gt;E -->\n",
       "<g id=\"edge1\" class=\"edge\">\n",
       "<title>S&#45;&gt;E</title>\n",
       "<path fill=\"none\" stroke=\"black\" d=\"M51.48,-50.24C58.04,-52.18 65.23,-53.98 72,-55 287.36,-87.36 346.46,-89.17 562,-58 565.5,-57.49 569.1,-56.77 572.67,-55.93\"/>\n",
       "<polygon fill=\"black\" stroke=\"black\" points=\"573.78,-59.26 582.53,-53.29 571.96,-52.49 573.78,-59.26\"/>\n",
       "<text text-anchor=\"middle\" x=\"238\" y=\"-83.8\" font-family=\"Times,serif\" font-size=\"14.00\">(β_1*I_1+β_2*I_2+β_3*I_3)*S</text>\n",
       "</g>\n",
       "<!-- S_c -->\n",
       "<g id=\"node8\" class=\"node\">\n",
       "<title>S_c</title>\n",
       "<ellipse fill=\"none\" stroke=\"black\" cx=\"238\" cy=\"-18\" rx=\"27\" ry=\"18\"/>\n",
       "<text text-anchor=\"middle\" x=\"238\" y=\"-14.3\" font-family=\"Times,serif\" font-size=\"14.00\">S_c</text>\n",
       "</g>\n",
       "<!-- S&#45;&gt;S_c -->\n",
       "<g id=\"edge2\" class=\"edge\">\n",
       "<title>S&#45;&gt;S_c</title>\n",
       "<path fill=\"none\" stroke=\"black\" d=\"M54.05,-39.01C91.17,-34.75 159.42,-26.91 201.25,-22.11\"/>\n",
       "<polygon fill=\"black\" stroke=\"black\" points=\"201.75,-25.57 211.28,-20.95 200.95,-18.62 201.75,-25.57\"/>\n",
       "<text text-anchor=\"middle\" x=\"101.5\" y=\"-39.8\" font-family=\"Times,serif\" font-size=\"14.00\">c_2*I_3*S</text>\n",
       "</g>\n",
       "<!-- I_1 -->\n",
       "<g id=\"node3\" class=\"node\">\n",
       "<title>I_1</title>\n",
       "<ellipse fill=\"none\" stroke=\"black\" cx=\"721\" cy=\"-45\" rx=\"27\" ry=\"18\"/>\n",
       "<text text-anchor=\"middle\" x=\"721\" y=\"-41.3\" font-family=\"Times,serif\" font-size=\"14.00\">I_1</text>\n",
       "</g>\n",
       "<!-- E&#45;&gt;I_1 -->\n",
       "<g id=\"edge5\" class=\"edge\">\n",
       "<title>E&#45;&gt;I_1</title>\n",
       "<path fill=\"none\" stroke=\"black\" d=\"M634.26,-45C649,-45 667.62,-45 683.74,-45\"/>\n",
       "<polygon fill=\"black\" stroke=\"black\" points=\"683.91,-48.5 693.91,-45 683.91,-41.5 683.91,-48.5\"/>\n",
       "<text text-anchor=\"middle\" x=\"664\" y=\"-48.8\" font-family=\"Times,serif\" font-size=\"14.00\">α*E</text>\n",
       "</g>\n",
       "<!-- I_2 -->\n",
       "<g id=\"node4\" class=\"node\">\n",
       "<title>I_2</title>\n",
       "<ellipse fill=\"none\" stroke=\"black\" cx=\"857\" cy=\"-75\" rx=\"27\" ry=\"18\"/>\n",
       "<text text-anchor=\"middle\" x=\"857\" y=\"-71.3\" font-family=\"Times,serif\" font-size=\"14.00\">I_2</text>\n",
       "</g>\n",
       "<!-- I_1&#45;&gt;I_2 -->\n",
       "<g id=\"edge9\" class=\"edge\">\n",
       "<title>I_1&#45;&gt;I_2</title>\n",
       "<path fill=\"none\" stroke=\"black\" d=\"M746.89,-50.57C767.86,-55.27 798.07,-62.03 821.39,-67.25\"/>\n",
       "<polygon fill=\"black\" stroke=\"black\" points=\"820.72,-70.69 831.24,-69.46 822.25,-63.86 820.72,-70.69\"/>\n",
       "<text text-anchor=\"middle\" x=\"789\" y=\"-67.8\" font-family=\"Times,serif\" font-size=\"14.00\">p_1*I_1</text>\n",
       "</g>\n",
       "<!-- R -->\n",
       "<g id=\"node6\" class=\"node\">\n",
       "<title>R</title>\n",
       "<ellipse fill=\"none\" stroke=\"black\" cx=\"1129\" cy=\"-75\" rx=\"27\" ry=\"18\"/>\n",
       "<text text-anchor=\"middle\" x=\"1129\" y=\"-71.3\" font-family=\"Times,serif\" font-size=\"14.00\">R</text>\n",
       "</g>\n",
       "<!-- I_1&#45;&gt;R -->\n",
       "<g id=\"edge6\" class=\"edge\">\n",
       "<title>I_1&#45;&gt;R</title>\n",
       "<path fill=\"none\" stroke=\"black\" d=\"M748.12,-44.75C780.17,-44.61 836.14,-44.92 884,-48 958.34,-52.79 1044.9,-63.63 1092.35,-70.02\"/>\n",
       "<polygon fill=\"black\" stroke=\"black\" points=\"1092.04,-73.51 1102.42,-71.39 1092.99,-66.57 1092.04,-73.51\"/>\n",
       "<text text-anchor=\"middle\" x=\"925\" y=\"-56.8\" font-family=\"Times,serif\" font-size=\"14.00\">γ_1*I_1</text>\n",
       "</g>\n",
       "<!-- I_3 -->\n",
       "<g id=\"node5\" class=\"node\">\n",
       "<title>I_3</title>\n",
       "<ellipse fill=\"none\" stroke=\"black\" cx=\"993\" cy=\"-126\" rx=\"27\" ry=\"18\"/>\n",
       "<text text-anchor=\"middle\" x=\"993\" y=\"-122.3\" font-family=\"Times,serif\" font-size=\"14.00\">I_3</text>\n",
       "</g>\n",
       "<!-- I_2&#45;&gt;I_3 -->\n",
       "<g id=\"edge10\" class=\"edge\">\n",
       "<title>I_2&#45;&gt;I_3</title>\n",
       "<path fill=\"none\" stroke=\"black\" d=\"M880.73,-83.65C902.39,-91.89 935.22,-104.39 959.61,-113.67\"/>\n",
       "<polygon fill=\"black\" stroke=\"black\" points=\"958.57,-117.02 969.16,-117.31 961.06,-110.48 958.57,-117.02\"/>\n",
       "<text text-anchor=\"middle\" x=\"925\" y=\"-111.8\" font-family=\"Times,serif\" font-size=\"14.00\">p_2*I_2</text>\n",
       "</g>\n",
       "<!-- I_2&#45;&gt;R -->\n",
       "<g id=\"edge7\" class=\"edge\">\n",
       "<title>I_2&#45;&gt;R</title>\n",
       "<path fill=\"none\" stroke=\"black\" d=\"M884.38,-75C933,-75 1036.79,-75 1091.89,-75\"/>\n",
       "<polygon fill=\"black\" stroke=\"black\" points=\"1091.91,-78.5 1101.91,-75 1091.91,-71.5 1091.91,-78.5\"/>\n",
       "<text text-anchor=\"middle\" x=\"993\" y=\"-78.8\" font-family=\"Times,serif\" font-size=\"14.00\">γ_2*I_2</text>\n",
       "</g>\n",
       "<!-- I_3&#45;&gt;R -->\n",
       "<g id=\"edge8\" class=\"edge\">\n",
       "<title>I_3&#45;&gt;R</title>\n",
       "<path fill=\"none\" stroke=\"black\" d=\"M1016.73,-117.35C1038.39,-109.11 1071.22,-96.61 1095.61,-87.33\"/>\n",
       "<polygon fill=\"black\" stroke=\"black\" points=\"1097.06,-90.52 1105.16,-83.69 1094.57,-83.98 1097.06,-90.52\"/>\n",
       "<text text-anchor=\"middle\" x=\"1061\" y=\"-111.8\" font-family=\"Times,serif\" font-size=\"14.00\">γ_3*I_3</text>\n",
       "</g>\n",
       "<!-- D -->\n",
       "<g id=\"node7\" class=\"node\">\n",
       "<title>D</title>\n",
       "<ellipse fill=\"none\" stroke=\"black\" cx=\"1129\" cy=\"-146\" rx=\"27\" ry=\"18\"/>\n",
       "<text text-anchor=\"middle\" x=\"1129\" y=\"-142.3\" font-family=\"Times,serif\" font-size=\"14.00\">D</text>\n",
       "</g>\n",
       "<!-- I_3&#45;&gt;D -->\n",
       "<g id=\"edge11\" class=\"edge\">\n",
       "<title>I_3&#45;&gt;D</title>\n",
       "<path fill=\"none\" stroke=\"black\" d=\"M1019.52,-129.81C1040.2,-132.9 1069.56,-137.28 1092.53,-140.71\"/>\n",
       "<polygon fill=\"black\" stroke=\"black\" points=\"1092.17,-144.19 1102.58,-142.21 1093.2,-137.27 1092.17,-144.19\"/>\n",
       "<text text-anchor=\"middle\" x=\"1061\" y=\"-141.8\" font-family=\"Times,serif\" font-size=\"14.00\">μ*I_3</text>\n",
       "</g>\n",
       "<!-- S_c&#45;&gt;S -->\n",
       "<g id=\"edge3\" class=\"edge\">\n",
       "<title>S_c&#45;&gt;S</title>\n",
       "<path fill=\"none\" stroke=\"black\" d=\"M212.54,-11.85C179.71,-4.73 119.97,4.2 72,-11 64.77,-13.29 57.71,-17.24 51.43,-21.57\"/>\n",
       "<polygon fill=\"black\" stroke=\"black\" points=\"49.31,-18.79 43.41,-27.59 53.51,-24.39 49.31,-18.79\"/>\n",
       "<text text-anchor=\"middle\" x=\"101.5\" y=\"-14.8\" font-family=\"Times,serif\" font-size=\"14.00\">c_1*S_c</text>\n",
       "</g>\n",
       "<!-- S_c&#45;&gt;E -->\n",
       "<g id=\"edge4\" class=\"edge\">\n",
       "<title>S_c&#45;&gt;E</title>\n",
       "<path fill=\"none\" stroke=\"black\" d=\"M265.1,-19.92C329.41,-24.65 495.6,-36.88 569.57,-42.32\"/>\n",
       "<polygon fill=\"black\" stroke=\"black\" points=\"569.56,-45.83 579.79,-43.07 570.07,-38.85 569.56,-45.83\"/>\n",
       "<text text-anchor=\"middle\" x=\"453.5\" y=\"-44.8\" font-family=\"Times,serif\" font-size=\"14.00\">c_0*(β_1*I_1+β_2*I_2+β_3*I_3)*S_c</text>\n",
       "</g>\n",
       "</g>\n",
       "</svg>\n"
      ],
      "text/plain": [
       "<graphviz.dot.Digraph at 0x125bc5790>"
      ]
     },
     "execution_count": 28,
     "metadata": {},
     "output_type": "execute_result"
    }
   ],
   "source": [
    "# display graphical representation of the model\n",
    "SCEI3R_model.get_transition_graph()"
   ]
  },
  {
   "cell_type": "markdown",
   "metadata": {},
   "source": [
    "### SC3EI3R model with caution distinguished $E$ and  𝐼1"
   ]
  },
  {
   "cell_type": "markdown",
   "metadata": {
    "colab_type": "text",
    "heading_collapsed": true,
    "id": "wAb1ddE0gwhA"
   },
   "source": [
    "#### Equations\n",
    "\n",
    "\\begin{equation}\n",
    "\\begin{split}\n",
    "\\dot{S} &= -(\\beta_1 (I_1 + c_0 I_{1c}) +\\beta_2 I_2 + \\beta_3 I_3) S + c_1 S_c - c_2*S*I_3\\\\\n",
    "\\dot{S_c} &= - c_0(\\beta_1 (I_1 + c_0 I_{1c}) +\\beta_2 I_2 + \\beta_3 I_3) S_c - c_1 S_c + c_2*S*I_3\\\\\n",
    "\\dot{E} &=(\\beta_1 (I_1 + c_0 I_{1c}) +\\beta_2 I_2 + \\beta_3 I_3 ) S - a E + c_1 E_c - c_2*E*I_3\\\\\n",
    "\\dot{E_c} &=(\\beta_1 (I_1 + c_0 I_{1c}) +\\beta_2 I_2 + \\beta_3 I_3 ) c_0 S_c - a E - c_1 E_c + c_2*E*I_3\\\\\n",
    "\\dot{I_1} &= a E - \\gamma_1 I_1 - p_1 I_1 + c_1 I_{1c} - c_2*I_{1c}*I_3\\\\\n",
    "\\dot{I_{1c}} &= a E_c - \\gamma_1 I_{1c} - p_1 I_{1c} - c_1 I_{1c} + c_2*I_{1c}*I_3\\\\\n",
    "\\dot{I_2} &= p_1 (I_1 + I_{1c}) -\\gamma_2 I_2 - p_2 I_2 \\\\\n",
    "\\dot{I_3} & = p_2 I_2 -\\gamma_3 I_3 - \\mu I_3 \\\\\n",
    "\\dot{R} & = \\gamma_1 (I_1 + I_{1c}) + \\gamma_2 I_2 + \\gamma_3 I_3 \\\\\n",
    "\\dot{D} & = \\mu I_3\n",
    "\\end{split}\n",
    "\\end{equation}\n",
    "\n",
    "The use of I_3 as a state variable triggering susceptibles to execute caution is just one choice. In contrast with deaths, it does not accumulate over time and so retains the property of an active threat to society, rather than an historical one.\n",
    "\n",
    "Here, the effect of caution is quadratic, since both the individual doing the infection and individual potentially being infected may be executing caution. To implement this we distinguish careful and non careful exposed and infectives up to the I_1 level. Once in hospital there is no difference, since all caution is executed wrt infected patients.\n",
    "We ignore transition in caution among infected intervals as a second order effect: could be included as in SC2IR model.\n",
    "\n",
    "\n",
    "#### Variables\n",
    "* $S$: Susceptible individuals living as normal\n",
    "* $S_c$: Susceptible individuals exercising pandemy precautions\n",
    "* $E$: Exposed individuals living as normal - infected but not yet infectious or symptomatic\n",
    "* $E_c$: Exposed individuals exercising pandemy precautions\n",
    "* $I_i$: Infected individuals in severity class $i$. Severity increaes with $i$ and we assume individuals must pass through all previous classes. Split non hospital cases by caution.\n",
    "  * $I_1$: Mild infection (hospitalization not required), living as normal\n",
    "  * $I_{1c}$: Mild infection (hospitalization not required), exercising caution\n",
    "  * $I_2$: Severe infection (hospitalization required)\n",
    "  * $I_3$: Critical infection (ICU required)\n",
    "* $R$: individuals who have recovered from disease and are now immune\n",
    "* $D$: Dead individuals\n",
    "* $N=S+S_c+E+E_c+I_{1c}+I_1+I_2+I_3+R+D$ Total population size (constant)\n",
    "\n",
    "#### Parameters\n",
    "* $\\beta_i$ rate at which infected individuals in class $I_i$ contact susceptibles and infect them\n",
    "* $a$ rate of progression from the exposed to infected class\n",
    "* $\\gamma_i$ rate at which infected individuals in class $I_i$ recover from disease and become immune\n",
    "* $p_i$ rate at which infected individuals in class $I_i$ progress to class $I_{I+1}$\n",
    "* $\\mu$ death rate for individuals in the most severe stage of disease\n",
    "\n",
    "* $c_i$ three parameters characterizing cautionary response of population via class $S_c$\n",
    "\n",
    "    - c_0 : reduction factor for exposure for cautioned susceptibles\n",
    "\n",
    "    - c_1 : duration of caution (exponential decay time constant in days)\n",
    "\n",
    "    - c_2 : rate constant for transition from uncautioned to cautioned susceptible"
   ]
  },
  {
   "cell_type": "markdown",
   "metadata": {
    "slideshow": {
     "slide_type": "slide"
    }
   },
   "source": [
    "####  Implementation"
   ]
  },
  {
   "cell_type": "code",
   "execution_count": 29,
   "metadata": {},
   "outputs": [
    {
     "data": {
      "text/latex": [
       "$\\displaystyle \\left[\\begin{matrix}d{S}/dt= & - I_{3} S c_{2} - S \\left(I_{1} \\beta_{1} + I_{2} \\beta_{2} + I_{3} \\beta_{3} + I_{c} \\beta_{1} c_{0}\\right) + S_{c} c_{1}\\\\d{E}/dt= & - E I_{3} c_{2} - E \\alpha + E_{c} c_{1} + S \\left(I_{1} \\beta_{1} + I_{2} \\beta_{2} + I_{3} \\beta_{3} + I_{c} \\beta_{1} c_{0}\\right)\\\\d{I_1}/dt= & E \\alpha - I_{1} I_{3} c_{2} - I_{1} \\gamma_{1} - I_{1} p_{1} + I_{c} c_{1}\\\\d{I_2}/dt= & I_{1} p_{1} - I_{2} \\gamma_{2} - I_{2} p_{2} + I_{c} p_{1}\\\\d{I_3}/dt= & I_{2} p_{2} - I_{3} \\gamma_{3} - I_{3} \\mu\\\\d{R}/dt= & I_{1} \\gamma_{1} + I_{2} \\gamma_{2} + I_{3} \\gamma_{3} + I_{c} \\gamma_{1}\\\\d{D}/dt= & I_{3} \\mu\\\\d{I_c}/dt= & E_{c} \\alpha + I_{1} I_{3} c_{2} - I_{c} c_{1} - I_{c} \\gamma_{1} - I_{c} p_{1}\\\\d{S_c}/dt= & I_{3} S c_{2} - S_{c} c_{0} \\left(I_{1} \\beta_{1} + I_{2} \\beta_{2} + I_{3} \\beta_{3} + I_{c} \\beta_{1} c_{0}\\right) - S_{c} c_{1}\\\\d{E_c}/dt= & E I_{3} c_{2} - E_{c} \\alpha - E_{c} c_{1} + S_{c} c_{0} \\left(I_{1} \\beta_{1} + I_{2} \\beta_{2} + I_{3} \\beta_{3} + I_{c} \\beta_{1} c_{0}\\right)\\end{matrix}\\right]$"
      ],
      "text/plain": [
       "Matrix([\n",
       "[  d{S}/dt=,                  -I_3*S*c_2 - S*(I_1*beta_1 + I_2*beta_2 + I_3*beta_3 + I_c*beta_1*c_0) + S_c*c_1],\n",
       "[  d{E}/dt=,        -E*I_3*c_2 - E*alpha + E_c*c_1 + S*(I_1*beta_1 + I_2*beta_2 + I_3*beta_3 + I_c*beta_1*c_0)],\n",
       "[d{I_1}/dt=,                                           E*alpha - I_1*I_3*c_2 - I_1*gamma_1 - I_1*p_1 + I_c*c_1],\n",
       "[d{I_2}/dt=,                                                         I_1*p_1 - I_2*gamma_2 - I_2*p_2 + I_c*p_1],\n",
       "[d{I_3}/dt=,                                                                    I_2*p_2 - I_3*gamma_3 - I_3*mu],\n",
       "[  d{R}/dt=,                                             I_1*gamma_1 + I_2*gamma_2 + I_3*gamma_3 + I_c*gamma_1],\n",
       "[  d{D}/dt=,                                                                                            I_3*mu],\n",
       "[d{I_c}/dt=,                                         E_c*alpha + I_1*I_3*c_2 - I_c*c_1 - I_c*gamma_1 - I_c*p_1],\n",
       "[d{S_c}/dt=,             I_3*S*c_2 - S_c*c_0*(I_1*beta_1 + I_2*beta_2 + I_3*beta_3 + I_c*beta_1*c_0) - S_c*c_1],\n",
       "[d{E_c}/dt=, E*I_3*c_2 - E_c*alpha - E_c*c_1 + S_c*c_0*(I_1*beta_1 + I_2*beta_2 + I_3*beta_3 + I_c*beta_1*c_0)]])"
      ]
     },
     "execution_count": 29,
     "metadata": {},
     "output_type": "execute_result"
    }
   ],
   "source": [
    "# display equations\n",
    "print_ode2(SC3EI3R_model)"
   ]
  },
  {
   "cell_type": "code",
   "execution_count": 30,
   "metadata": {},
   "outputs": [
    {
     "data": {
      "image/png": "[encoded data removed]",
      "text/plain": [
       "<Figure size 432x288 with 1 Axes>"
      ]
     },
     "metadata": {
      "needs_background": "light"
     },
     "output_type": "display_data"
    },
    {
     "data": {
      "image/svg+xml": [
       "<?xml version=\"1.0\" encoding=\"UTF-8\" standalone=\"no\"?>\n",
       "<!DOCTYPE svg PUBLIC \"-//W3C//DTD SVG 1.1//EN\"\n",
       " \"http://www.w3.org/Graphics/SVG/1.1/DTD/svg11.dtd\">\n",
       "<!-- Generated by graphviz version 2.44.0 (20200408.0750)\n",
       " -->\n",
       "<!-- Pages: 1 -->\n",
       "<svg width=\"1362pt\" height=\"302pt\"\n",
       " viewBox=\"0.00 0.00 1362.00 302.00\" xmlns=\"http://www.w3.org/2000/svg\" xmlns:xlink=\"http://www.w3.org/1999/xlink\">\n",
       "<g id=\"graph0\" class=\"graph\" transform=\"scale(1 1) rotate(0) translate(4 298)\">\n",
       "<polygon fill=\"white\" stroke=\"transparent\" points=\"-4,4 -4,-298 1358,-298 1358,4 -4,4\"/>\n",
       "<!-- S -->\n",
       "<g id=\"node1\" class=\"node\">\n",
       "<title>S</title>\n",
       "<ellipse fill=\"none\" stroke=\"black\" cx=\"27\" cy=\"-238\" rx=\"27\" ry=\"18\"/>\n",
       "<text text-anchor=\"middle\" x=\"27\" y=\"-234.3\" font-family=\"Times,serif\" font-size=\"14.00\">S</text>\n",
       "</g>\n",
       "<!-- E -->\n",
       "<g id=\"node2\" class=\"node\">\n",
       "<title>E</title>\n",
       "<ellipse fill=\"none\" stroke=\"black\" cx=\"374\" cy=\"-200\" rx=\"27\" ry=\"18\"/>\n",
       "<text text-anchor=\"middle\" x=\"374\" y=\"-196.3\" font-family=\"Times,serif\" font-size=\"14.00\">E</text>\n",
       "</g>\n",
       "<!-- S&#45;&gt;E -->\n",
       "<g id=\"edge1\" class=\"edge\">\n",
       "<title>S&#45;&gt;E</title>\n",
       "<path fill=\"none\" stroke=\"black\" d=\"M41.38,-222.41C49.35,-214.36 60.19,-205.33 72,-201 163.23,-167.57 280.71,-182.17 338.2,-192.67\"/>\n",
       "<polygon fill=\"black\" stroke=\"black\" points=\"337.73,-196.14 348.21,-194.57 339.04,-189.27 337.73,-196.14\"/>\n",
       "<text text-anchor=\"middle\" x=\"200.5\" y=\"-204.8\" font-family=\"Times,serif\" font-size=\"14.00\">(β_1*I_1+β_2*I_2+β_3*I_3+c_0*β_1*I_c)*S</text>\n",
       "</g>\n",
       "<!-- S_c -->\n",
       "<g id=\"node9\" class=\"node\">\n",
       "<title>S_c</title>\n",
       "<ellipse fill=\"none\" stroke=\"black\" cx=\"374\" cy=\"-276\" rx=\"27\" ry=\"18\"/>\n",
       "<text text-anchor=\"middle\" x=\"374\" y=\"-272.3\" font-family=\"Times,serif\" font-size=\"14.00\">S_c</text>\n",
       "</g>\n",
       "<!-- S&#45;&gt;S_c -->\n",
       "<g id=\"edge3\" class=\"edge\">\n",
       "<title>S&#45;&gt;S_c</title>\n",
       "<path fill=\"none\" stroke=\"black\" d=\"M52.79,-232.57C105.56,-222.17 232.09,-203.49 329,-239 337.49,-242.11 345.48,-247.65 352.26,-253.51\"/>\n",
       "<polygon fill=\"black\" stroke=\"black\" points=\"349.93,-256.13 359.62,-260.41 354.72,-251.02 349.93,-256.13\"/>\n",
       "<text text-anchor=\"middle\" x=\"200.5\" y=\"-242.8\" font-family=\"Times,serif\" font-size=\"14.00\">c_2*I_3*S</text>\n",
       "</g>\n",
       "<!-- I_1 -->\n",
       "<g id=\"node3\" class=\"node\">\n",
       "<title>I_1</title>\n",
       "<ellipse fill=\"none\" stroke=\"black\" cx=\"760\" cy=\"-162\" rx=\"27\" ry=\"18\"/>\n",
       "<text text-anchor=\"middle\" x=\"760\" y=\"-158.3\" font-family=\"Times,serif\" font-size=\"14.00\">I_1</text>\n",
       "</g>\n",
       "<!-- E&#45;&gt;I_1 -->\n",
       "<g id=\"edge5\" class=\"edge\">\n",
       "<title>E&#45;&gt;I_1</title>\n",
       "<path fill=\"none\" stroke=\"black\" d=\"M388.38,-184.41C396.35,-176.36 407.19,-167.32 419,-163 524.53,-124.35 661.16,-142.64 724.25,-154.55\"/>\n",
       "<polygon fill=\"black\" stroke=\"black\" points=\"723.6,-157.99 734.09,-156.47 724.95,-151.12 723.6,-157.99\"/>\n",
       "<text text-anchor=\"middle\" x=\"567\" y=\"-166.8\" font-family=\"Times,serif\" font-size=\"14.00\">α*E</text>\n",
       "</g>\n",
       "<!-- E_c -->\n",
       "<g id=\"node10\" class=\"node\">\n",
       "<title>E_c</title>\n",
       "<ellipse fill=\"none\" stroke=\"black\" cx=\"760\" cy=\"-238\" rx=\"27\" ry=\"18\"/>\n",
       "<text text-anchor=\"middle\" x=\"760\" y=\"-234.3\" font-family=\"Times,serif\" font-size=\"14.00\">E_c</text>\n",
       "</g>\n",
       "<!-- E&#45;&gt;E_c -->\n",
       "<g id=\"edge6\" class=\"edge\">\n",
       "<title>E&#45;&gt;E_c</title>\n",
       "<path fill=\"none\" stroke=\"black\" d=\"M401.04,-197.81C470.29,-192.33 657.56,-179.96 715,-201 723.49,-204.11 731.48,-209.65 738.26,-215.51\"/>\n",
       "<polygon fill=\"black\" stroke=\"black\" points=\"735.93,-218.13 745.62,-222.41 740.72,-213.02 735.93,-218.13\"/>\n",
       "<text text-anchor=\"middle\" x=\"567\" y=\"-204.8\" font-family=\"Times,serif\" font-size=\"14.00\">c_2*I_3*E</text>\n",
       "</g>\n",
       "<!-- I_2 -->\n",
       "<g id=\"node4\" class=\"node\">\n",
       "<title>I_2</title>\n",
       "<ellipse fill=\"none\" stroke=\"black\" cx=\"1055\" cy=\"-75\" rx=\"27\" ry=\"18\"/>\n",
       "<text text-anchor=\"middle\" x=\"1055\" y=\"-71.3\" font-family=\"Times,serif\" font-size=\"14.00\">I_2</text>\n",
       "</g>\n",
       "<!-- I_1&#45;&gt;I_2 -->\n",
       "<g id=\"edge15\" class=\"edge\">\n",
       "<title>I_1&#45;&gt;I_2</title>\n",
       "<path fill=\"none\" stroke=\"black\" d=\"M772.12,-145.45C780.03,-135.02 791.61,-122.2 805,-115 873.57,-78.11 967.05,-73.17 1017.72,-73.59\"/>\n",
       "<polygon fill=\"black\" stroke=\"black\" points=\"1017.81,-77.09 1027.86,-73.75 1017.92,-70.1 1017.81,-77.09\"/>\n",
       "<text text-anchor=\"middle\" x=\"920\" y=\"-87.8\" font-family=\"Times,serif\" font-size=\"14.00\">p_1*I_1</text>\n",
       "</g>\n",
       "<!-- R -->\n",
       "<g id=\"node6\" class=\"node\">\n",
       "<title>R</title>\n",
       "<ellipse fill=\"none\" stroke=\"black\" cx=\"1327\" cy=\"-107\" rx=\"27\" ry=\"18\"/>\n",
       "<text text-anchor=\"middle\" x=\"1327\" y=\"-103.3\" font-family=\"Times,serif\" font-size=\"14.00\">R</text>\n",
       "</g>\n",
       "<!-- I_1&#45;&gt;R -->\n",
       "<g id=\"edge9\" class=\"edge\">\n",
       "<title>I_1&#45;&gt;R</title>\n",
       "<path fill=\"none\" stroke=\"black\" d=\"M784.24,-154.01C814.77,-144.25 870.24,-129 919,-129 919,-129 919,-129 1192,-129 1226.13,-129 1264.52,-121.96 1291.43,-115.85\"/>\n",
       "<polygon fill=\"black\" stroke=\"black\" points=\"1292.57,-119.18 1301.5,-113.48 1290.97,-112.36 1292.57,-119.18\"/>\n",
       "<text text-anchor=\"middle\" x=\"1055\" y=\"-132.8\" font-family=\"Times,serif\" font-size=\"14.00\">γ_1*I_1</text>\n",
       "</g>\n",
       "<!-- I_c -->\n",
       "<g id=\"node8\" class=\"node\">\n",
       "<title>I_c</title>\n",
       "<ellipse fill=\"none\" stroke=\"black\" cx=\"920\" cy=\"-192\" rx=\"27\" ry=\"18\"/>\n",
       "<text text-anchor=\"middle\" x=\"920\" y=\"-188.3\" font-family=\"Times,serif\" font-size=\"14.00\">I_c</text>\n",
       "</g>\n",
       "<!-- I_1&#45;&gt;I_c -->\n",
       "<g id=\"edge10\" class=\"edge\">\n",
       "<title>I_1&#45;&gt;I_c</title>\n",
       "<path fill=\"none\" stroke=\"black\" d=\"M783.54,-171.3C790.34,-173.81 797.89,-176.29 805,-178 830.61,-184.14 860.14,-187.68 882.73,-189.65\"/>\n",
       "<polygon fill=\"black\" stroke=\"black\" points=\"882.64,-193.16 892.89,-190.48 883.21,-186.18 882.64,-193.16\"/>\n",
       "<text text-anchor=\"middle\" x=\"840\" y=\"-191.8\" font-family=\"Times,serif\" font-size=\"14.00\">c_2*I_3*I_1</text>\n",
       "</g>\n",
       "<!-- I_3 -->\n",
       "<g id=\"node5\" class=\"node\">\n",
       "<title>I_3</title>\n",
       "<ellipse fill=\"none\" stroke=\"black\" cx=\"1191\" cy=\"-32\" rx=\"27\" ry=\"18\"/>\n",
       "<text text-anchor=\"middle\" x=\"1191\" y=\"-28.3\" font-family=\"Times,serif\" font-size=\"14.00\">I_3</text>\n",
       "</g>\n",
       "<!-- I_2&#45;&gt;I_3 -->\n",
       "<g id=\"edge17\" class=\"edge\">\n",
       "<title>I_2&#45;&gt;I_3</title>\n",
       "<path fill=\"none\" stroke=\"black\" d=\"M1078.19,-65.33C1085.11,-62.47 1092.82,-59.46 1100,-57 1118.04,-50.83 1138.5,-45.05 1155.35,-40.61\"/>\n",
       "<polygon fill=\"black\" stroke=\"black\" points=\"1156.51,-43.92 1165.32,-38.02 1154.76,-37.15 1156.51,-43.92\"/>\n",
       "<text text-anchor=\"middle\" x=\"1123\" y=\"-60.8\" font-family=\"Times,serif\" font-size=\"14.00\">p_2*I_2</text>\n",
       "</g>\n",
       "<!-- I_2&#45;&gt;R -->\n",
       "<g id=\"edge13\" class=\"edge\">\n",
       "<title>I_2&#45;&gt;R</title>\n",
       "<path fill=\"none\" stroke=\"black\" d=\"M1081.89,-78.07C1130.37,-83.81 1234.94,-96.21 1290.16,-102.75\"/>\n",
       "<polygon fill=\"black\" stroke=\"black\" points=\"1289.85,-106.24 1300.19,-103.94 1290.67,-99.29 1289.85,-106.24\"/>\n",
       "<text text-anchor=\"middle\" x=\"1191\" y=\"-97.8\" font-family=\"Times,serif\" font-size=\"14.00\">γ_2*I_2</text>\n",
       "</g>\n",
       "<!-- I_3&#45;&gt;R -->\n",
       "<g id=\"edge14\" class=\"edge\">\n",
       "<title>I_3&#45;&gt;R</title>\n",
       "<path fill=\"none\" stroke=\"black\" d=\"M1217.64,-35.11C1236.57,-38.32 1262.35,-44.68 1282,-57 1292.35,-63.49 1301.65,-73.14 1309.01,-82.24\"/>\n",
       "<polygon fill=\"black\" stroke=\"black\" points=\"1306.34,-84.51 1315.19,-90.33 1311.9,-80.26 1306.34,-84.51\"/>\n",
       "<text text-anchor=\"middle\" x=\"1259\" y=\"-60.8\" font-family=\"Times,serif\" font-size=\"14.00\">γ_3*I_3</text>\n",
       "</g>\n",
       "<!-- D -->\n",
       "<g id=\"node7\" class=\"node\">\n",
       "<title>D</title>\n",
       "<ellipse fill=\"none\" stroke=\"black\" cx=\"1327\" cy=\"-18\" rx=\"27\" ry=\"18\"/>\n",
       "<text text-anchor=\"middle\" x=\"1327\" y=\"-14.3\" font-family=\"Times,serif\" font-size=\"14.00\">D</text>\n",
       "</g>\n",
       "<!-- I_3&#45;&gt;D -->\n",
       "<g id=\"edge18\" class=\"edge\">\n",
       "<title>I_3&#45;&gt;D</title>\n",
       "<path fill=\"none\" stroke=\"black\" d=\"M1215.48,-23.76C1222.04,-21.82 1229.23,-20.02 1236,-19 1253.49,-16.37 1273.11,-15.87 1289.56,-16.13\"/>\n",
       "<polygon fill=\"black\" stroke=\"black\" points=\"1289.77,-19.64 1299.85,-16.4 1289.95,-12.64 1289.77,-19.64\"/>\n",
       "<text text-anchor=\"middle\" x=\"1259\" y=\"-22.8\" font-family=\"Times,serif\" font-size=\"14.00\">μ*I_3</text>\n",
       "</g>\n",
       "<!-- I_c&#45;&gt;I_1 -->\n",
       "<g id=\"edge12\" class=\"edge\">\n",
       "<title>I_c&#45;&gt;I_1</title>\n",
       "<path fill=\"none\" stroke=\"black\" d=\"M904.14,-177.02C896.22,-170.1 885.87,-162.62 875,-159 849.59,-150.53 819.2,-151.85 796.19,-154.98\"/>\n",
       "<polygon fill=\"black\" stroke=\"black\" points=\"795.54,-151.54 786.18,-156.51 796.6,-158.46 795.54,-151.54\"/>\n",
       "<text text-anchor=\"middle\" x=\"840\" y=\"-162.8\" font-family=\"Times,serif\" font-size=\"14.00\">c_1*I_c</text>\n",
       "</g>\n",
       "<!-- I_c&#45;&gt;I_2 -->\n",
       "<g id=\"edge16\" class=\"edge\">\n",
       "<title>I_c&#45;&gt;I_2</title>\n",
       "<path fill=\"none\" stroke=\"black\" d=\"M937.04,-177.89C960.21,-157.51 1003.2,-119.69 1030.1,-96.02\"/>\n",
       "<polygon fill=\"black\" stroke=\"black\" points=\"1032.7,-98.4 1037.9,-89.16 1028.08,-93.14 1032.7,-98.4\"/>\n",
       "<text text-anchor=\"middle\" x=\"987.5\" y=\"-153.8\" font-family=\"Times,serif\" font-size=\"14.00\">p_1*I_c</text>\n",
       "</g>\n",
       "<!-- I_c&#45;&gt;R -->\n",
       "<g id=\"edge11\" class=\"edge\">\n",
       "<title>I_c&#45;&gt;R</title>\n",
       "<path fill=\"none\" stroke=\"black\" d=\"M947.23,-193.2C1008.59,-195 1165.13,-193.84 1282,-143 1289.89,-139.57 1297.51,-134.3 1304.13,-128.84\"/>\n",
       "<polygon fill=\"black\" stroke=\"black\" points=\"1306.75,-131.2 1311.92,-121.95 1302.11,-125.95 1306.75,-131.2\"/>\n",
       "<text text-anchor=\"middle\" x=\"1123\" y=\"-189.8\" font-family=\"Times,serif\" font-size=\"14.00\">γ_1*I_c</text>\n",
       "</g>\n",
       "<!-- S_c&#45;&gt;S -->\n",
       "<g id=\"edge4\" class=\"edge\">\n",
       "<title>S_c&#45;&gt;S</title>\n",
       "<path fill=\"none\" stroke=\"black\" d=\"M346.89,-276.49C294.26,-276.96 171.91,-275.39 72,-254 68.09,-253.16 64.05,-252.06 60.09,-250.81\"/>\n",
       "<polygon fill=\"black\" stroke=\"black\" points=\"61.08,-247.45 50.49,-247.53 58.81,-254.08 61.08,-247.45\"/>\n",
       "<text text-anchor=\"middle\" x=\"200.5\" y=\"-279.8\" font-family=\"Times,serif\" font-size=\"14.00\">c_1*S_c</text>\n",
       "</g>\n",
       "<!-- S_c&#45;&gt;E_c -->\n",
       "<g id=\"edge2\" class=\"edge\">\n",
       "<title>S_c&#45;&gt;E_c</title>\n",
       "<path fill=\"none\" stroke=\"black\" d=\"M401.36,-276.82C458.96,-278.05 600.08,-278.1 715,-254 718.92,-253.18 722.95,-252.08 726.92,-250.85\"/>\n",
       "<polygon fill=\"black\" stroke=\"black\" points=\"728.19,-254.11 736.52,-247.56 725.93,-247.49 728.19,-254.11\"/>\n",
       "<text text-anchor=\"middle\" x=\"567\" y=\"-280.8\" font-family=\"Times,serif\" font-size=\"14.00\">c_0*(β_1*I_1+β_2*I_2+β_3*I_3+c_0*β_1*I_c)*S_c</text>\n",
       "</g>\n",
       "<!-- E_c&#45;&gt;E -->\n",
       "<g id=\"edge8\" class=\"edge\">\n",
       "<title>E_c&#45;&gt;E</title>\n",
       "<path fill=\"none\" stroke=\"black\" d=\"M732.94,-236.21C727.04,-235.8 720.81,-235.38 715,-235 583.46,-226.29 548.03,-243.02 419,-216 415.08,-215.18 411.05,-214.08 407.08,-212.85\"/>\n",
       "<polygon fill=\"black\" stroke=\"black\" points=\"408.07,-209.49 397.48,-209.57 405.81,-216.11 408.07,-209.49\"/>\n",
       "<text text-anchor=\"middle\" x=\"567\" y=\"-238.8\" font-family=\"Times,serif\" font-size=\"14.00\">c_1*E_c</text>\n",
       "</g>\n",
       "<!-- E_c&#45;&gt;I_c -->\n",
       "<g id=\"edge7\" class=\"edge\">\n",
       "<title>E_c&#45;&gt;I_c</title>\n",
       "<path fill=\"none\" stroke=\"black\" d=\"M785.59,-231.79C808.77,-225.83 844.4,-216.36 875,-207 878.61,-205.9 882.37,-204.69 886.1,-203.47\"/>\n",
       "<polygon fill=\"black\" stroke=\"black\" points=\"887.43,-206.71 895.8,-200.22 885.2,-200.08 887.43,-206.71\"/>\n",
       "<text text-anchor=\"middle\" x=\"840\" y=\"-229.8\" font-family=\"Times,serif\" font-size=\"14.00\">α*E_c</text>\n",
       "</g>\n",
       "</g>\n",
       "</svg>\n"
      ],
      "text/plain": [
       "<graphviz.dot.Digraph at 0x12814f550>"
      ]
     },
     "execution_count": 30,
     "metadata": {},
     "output_type": "execute_result"
    }
   ],
   "source": [
    "# display graphical representation of the model\n",
    "SC3EI3R_model.get_transition_graph()"
   ]
  },
  {
   "cell_type": "markdown",
   "metadata": {},
   "source": [
    "## Caution Extensions to SEIR Model with Economic Supression\n",
    "This model is an extension of the cautionary model to include a class of susceptibles $S_u$ who are impervious to caution. \n",
    "The main influencer for this class is the economy, which we introduce as a new state variable W, normalized to 1 in the absence of pandemic.\n",
    "The model assumption is that fractional depression of the economy influences some susceptibles (both cautioned and uncautioned) to become uncautionable,\n",
    "with a rate coefficient proportional to the economic depression (1-W). The economy itself is mdoelled with logistic growth to a state 1 in the absence of pandemic\n",
    "and 1- $\\kappa S_c$ with pandemic. i.e. individuals exercising caution are the main correlate of economic depression (but the only suppressor for the pandemic).\n",
    "As for the cautioned class, uncautionable individuals also return to normal sussceptibles with exponential decay at rate $k_1$."
   ]
  },
  {
   "cell_type": "markdown",
   "metadata": {},
   "source": [
    "### SC2UIR model"
   ]
  },
  {
   "cell_type": "markdown",
   "metadata": {},
   "source": [
    "#### Equations\n",
    "\\begin{equation}\n",
    "\\begin{split}\n",
    "\\dot{S} &= -\\beta (I + c_0 I_c) S + c_1 S_c - c_2 S (I + I_c) -  k_u (1 - W) S + k_1 S_u\\\\\n",
    "\\dot{S_c} &= - c_0 \\beta (I + c_0 I_c) S_c - c_1 S_c + c_2 S (I + I_c) -  k_u (1 - W) S_c\\\\\n",
    "\\dot{I} &= \\beta (I + c_0 I_c) S - \\gamma I - \\mu I + c_1 I_c - c_2 I (I + I_c)\\\\\n",
    "\\dot{I_c} &= c_0 \\beta (I + c_0 I_c) S_c - \\gamma I_c - \\mu I_c - c_1 I_c + c_2 I (I + I_c)\\\\\n",
    "\\dot{R} & = \\gamma (I + I_c) \\\\\n",
    "\\dot{D} & = \\mu (I + I_c) \\\\\n",
    "\\dot{S_u} & = -\\beta (I + c_0 I_c) S_u + k_u (1 - W) (S + S_c)  - k_1 S_u \\\\\n",
    "\\dot{W} & = k_w W (1 - \\kappa S_c - W)\n",
    "\\end{split}\n",
    "\\end{equation}\n",
    "\n",
    "#### Variables\n",
    "* $S$: Susceptible individuals living as normal\n",
    "* $S_c$: Susceptible individuals exercising pandemy precautions\n",
    "* $S_u$: Susceptible individuals immune to caution because of economic downturn\n",
    "* $E$: Exposed individuals\n",
    "* $E_c$: Exposed individuals exercising caution\n",
    "* $I$: Infected individuals\n",
    "* $I_c$: Infected individuals exercising caution\n",
    "* $R$: individuals who have recovered from disease and are now immune\n",
    "* $D$: Dead individuals\n",
    "* $W$: Economic status obeying a logistic law with caution individuals downturning\n",
    "* $N=S+S_c+S_u+E+E_c+I+I_c+R+D$ Total population size (constant)\n",
    "\n",
    "#### Parameters\n",
    "* $\\beta$ rate at which infected individuals contact susceptibles and infect them\n",
    "* $\\alpha$ rate at which exposed individuals become infected (1/(incubation time)\n",
    "* $\\gamma$ rate at which infected individuals recover from disease and become immune\n",
    "* $\\mu$ death rate for infected individuals\n",
    "\n",
    "* $c_i$ three parameters characterizing cautionary response of population via class $S_c$\n",
    "\n",
    "    - c_0 : reduction factor for exposure for cautioned susceptibles\n",
    "\n",
    "    - c_1 : inverse duration of caution (exponential decay time constant in days)\n",
    "\n",
    "    - c_2 : rate constant for transition from uncautioned to cautioned susceptible\n",
    "* four parameters coupling to economy and uncautionable individuals\n",
    "    - k_w : rate coefficient of economy equilibration\n",
    "    - k_u : rate coefficient of transition from uncautioned to uncautionable\n",
    "    - k_1 : inverse duration of uncautionable state\n",
    "    - $\\kappa$ : economic downturn of caution (proportional to number cautious)"
   ]
  },
  {
   "cell_type": "markdown",
   "metadata": {
    "slideshow": {
     "slide_type": "slide"
    }
   },
   "source": [
    "####  Implementation"
   ]
  },
  {
   "cell_type": "code",
   "execution_count": 31,
   "metadata": {},
   "outputs": [
    {
     "data": {
      "text/latex": [
       "$\\displaystyle \\left[\\begin{matrix}d{S}/dt= & - S \\beta \\left(I + I_{c} c_{0}\\right) - S c_{2} \\left(I + I_{c}\\right) - S k_{u} \\left(1 - W\\right) + S_{c} c_{1} + S_{u} k_{1}\\\\d{I}/dt= & - I c_{2} \\left(I + I_{c}\\right) - I \\gamma - I \\mu + I_{c} c_{1} + S \\beta \\left(I + I_{c} c_{0}\\right)\\\\d{R}/dt= & \\gamma \\left(I + I_{c}\\right)\\\\d{D}/dt= & \\mu \\left(I + I_{c}\\right)\\\\d{I_c}/dt= & I c_{2} \\left(I + I_{c}\\right) - I_{c} c_{1} - I_{c} \\gamma - I_{c} \\mu + S_{c} \\beta c_{0} \\left(I + I_{c} c_{0}\\right)\\\\d{S_c}/dt= & S c_{2} \\left(I + I_{c}\\right) - S_{c} \\beta c_{0} \\left(I + I_{c} c_{0}\\right) - S_{c} c_{1} - S_{c} k_{u} \\left(1 - W\\right)\\\\d{S_u}/dt= & - S_{u} \\beta \\left(I + I_{c} c_{0}\\right) - S_{u} k_{1} + k_{u} \\left(1 - W\\right) \\left(S + S_{c}\\right)\\\\d{W}/dt= & W k_{w} \\left(- S_{c} \\kappa - W + 1\\right)\\end{matrix}\\right]$"
      ],
      "text/plain": [
       "Matrix([\n",
       "[  d{S}/dt=, -S*beta*(I + I_c*c_0) - S*c_2*(I + I_c) - S*k_u*(1 - W) + S_c*c_1 + S_u*k_1],\n",
       "[  d{I}/dt=,          -I*c_2*(I + I_c) - I*gamma - I*mu + I_c*c_1 + S*beta*(I + I_c*c_0)],\n",
       "[  d{R}/dt=,                                                             gamma*(I + I_c)],\n",
       "[  d{D}/dt=,                                                                mu*(I + I_c)],\n",
       "[d{I_c}/dt=, I*c_2*(I + I_c) - I_c*c_1 - I_c*gamma - I_c*mu + S_c*beta*c_0*(I + I_c*c_0)],\n",
       "[d{S_c}/dt=,    S*c_2*(I + I_c) - S_c*beta*c_0*(I + I_c*c_0) - S_c*c_1 - S_c*k_u*(1 - W)],\n",
       "[d{S_u}/dt=,                   -S_u*beta*(I + I_c*c_0) - S_u*k_1 + k_u*(1 - W)*(S + S_c)],\n",
       "[  d{W}/dt=,                                                  W*k_w*(-S_c*kappa - W + 1)]])"
      ]
     },
     "execution_count": 31,
     "metadata": {},
     "output_type": "execute_result"
    }
   ],
   "source": [
    "# display equations\n",
    "print_ode2(SC2UIR_model)"
   ]
  },
  {
   "cell_type": "code",
   "execution_count": 33,
   "metadata": {},
   "outputs": [],
   "source": [
    "# SC2UIR_model.get_transition_graph() # ode was defined explicitly, no transition available"
   ]
  },
  {
   "cell_type": "code",
   "execution_count": 34,
   "metadata": {},
   "outputs": [],
   "source": [
    "# ode = SimulateOde(state, param_list, transition=transition)\n",
    "# ode = ode.get_unrolled_obj()\n",
    "# R0(ode, ['I','I_c'])   # produces error, no valid subset found"
   ]
  },
  {
   "cell_type": "markdown",
   "metadata": {},
   "source": [
    "### SC3UEIR model"
   ]
  },
  {
   "cell_type": "markdown",
   "metadata": {},
   "source": [
    "#### Equations\n",
    "\\begin{equation}\n",
    "\\begin{split}\n",
    "\\dot{S} &= -\\beta (I + c_0 I_c) S + c_1 S_c - c_2 S (I + I_c) -  k_u (1 - W) S + k_1 S_u\\\\\n",
    "\\dot{S_c} &= - c_0 \\beta (I + c_0 I_c) S_c - c_1 S_c + c_2 S (I + I_c) -  k_u (1 - W) S_c\\\\\n",
    "\\dot{E} &= \\beta (I + c_0 I_c) (S + S_u) - \\alpha E + c_1 E_c - c_2 E (I + I_c)\\\\\n",
    "\\dot{E_c} &= c_0 \\beta (I + c_0 I_c) S_c - \\alpha E_c - c_1 E_c + c_2 E (I + I_c)\\\\\n",
    "\\dot{I} &= \\alpha E - \\gamma I - \\mu I + c_1 I_c - c_2 I (I + I_c)\\\\\n",
    "\\dot{I_c} &= \\alpha E_c - \\gamma I_c - \\mu I_c - c_1 I_c + c_2 I (I + I_c)\\\\\n",
    "\\dot{R} & = \\gamma (I + I_c) \\\\\n",
    "\\dot{D} & = \\mu (I + I_c) \\\\\n",
    "\\dot{S_u} & = -\\beta (I + c_0 I_c) S_u + k_u (1 - W) (S + S_c)  - k_1 S_u \\\\\n",
    "\\dot{W} & = k_w W (1 - \\kappa S_c - W)\n",
    "\\end{split}\n",
    "\\end{equation}\n",
    "\n",
    "#### Variables\n",
    "* $S$: Susceptible individuals living as normal\n",
    "* $S_c$: Susceptible individuals exercising pandemy precautions\n",
    "* $S_u$: Susceptible individuals immune to caution because of economic downturn\n",
    "* $E$: Exposed individuals\n",
    "* $E_c$: Exposed individuals exercising caution\n",
    "* $I$: Infected individuals\n",
    "* $I_c$: Infected individuals exercising caution\n",
    "* $R$: individuals who have recovered from disease and are now immune\n",
    "* $D$: Dead individuals\n",
    "* $W$: Economic status obeying a logistic law with caution individuals downturning\n",
    "* $N=S+S_c+S_u+E+E_c+I+I_c+R+D$ Total population size (constant)\n",
    "\n",
    "#### Parameters\n",
    "* $\\beta$ rate at which infected individuals contact susceptibles and infect them\n",
    "* $\\alpha$ rate at which exposed individuals become infected (1/(incubation time)\n",
    "* $\\gamma$ rate at which infected individuals recover from disease and become immune\n",
    "* $\\mu$ death rate for infected individuals\n",
    "\n",
    "* $c_i$ three parameters characterizing cautionary response of population via class $S_c$\n",
    "\n",
    "    - c_0 : reduction factor for exposure for cautioned susceptibles\n",
    "\n",
    "    - c_1 : inverse duration of caution (exponential decay time constant in days)\n",
    "\n",
    "    - c_2 : rate constant for transition from uncautioned to cautioned susceptible\n",
    "* four parameters coupling to economy and uncautionable individuals\n",
    "    - k_w : rate coefficient of economy equilibration\n",
    "    - k_u : rate coefficient of transition from uncautioned to uncautionable\n",
    "    - k_1 : inverse duration of uncautionable state\n",
    "    - $\\kappa$ : economic downturn of caution (proportional to number cautious)"
   ]
  },
  {
   "cell_type": "markdown",
   "metadata": {
    "slideshow": {
     "slide_type": "slide"
    }
   },
   "source": [
    "####  Implementation"
   ]
  },
  {
   "cell_type": "code",
   "execution_count": 35,
   "metadata": {},
   "outputs": [
    {
     "data": {
      "text/latex": [
       "$\\displaystyle \\left[\\begin{matrix}d{S}/dt= & - S \\beta \\left(I + I_{c} c_{0}\\right) - S c_{2} \\left(I + I_{c}\\right) - S k_{u} \\left(1 - W\\right) + S_{c} c_{1} + S_{u} k_{1}\\\\d{E}/dt= & - E \\alpha - E c_{2} \\left(I + I_{c}\\right) + E_{c} c_{1} + \\beta \\left(I + I_{c} c_{0}\\right) \\left(S + S_{u}\\right)\\\\d{I}/dt= & E \\alpha - I c_{2} \\left(I + I_{c}\\right) - I \\gamma - I \\mu + I_{c} c_{1}\\\\d{R}/dt= & \\gamma \\left(I + I_{c}\\right)\\\\d{D}/dt= & \\mu \\left(I + I_{c}\\right)\\\\d{I_c}/dt= & E_{c} \\alpha + I c_{2} \\left(I + I_{c}\\right) - I_{c} c_{1} - I_{c} \\gamma - I_{c} \\mu\\\\d{S_c}/dt= & S c_{2} \\left(I + I_{c}\\right) - S_{c} \\beta c_{0} \\left(I + I_{c} c_{0}\\right) - S_{c} c_{1} - S_{c} k_{u} \\left(1 - W\\right)\\\\d{E_c}/dt= & E c_{2} \\left(I + I_{c}\\right) - E_{c} \\alpha - E_{c} c_{1} + S_{c} \\beta c_{0} \\left(I + I_{c} c_{0}\\right)\\\\d{S_u}/dt= & - S_{u} \\beta \\left(I + I_{c} c_{0}\\right) - S_{u} k_{1} + k_{u} \\left(1 - W\\right) \\left(S + S_{c}\\right)\\\\d{W}/dt= & W k_{w} \\left(- S_{c} \\kappa - W + 1\\right)\\end{matrix}\\right]$"
      ],
      "text/plain": [
       "Matrix([\n",
       "[  d{S}/dt=, -S*beta*(I + I_c*c_0) - S*c_2*(I + I_c) - S*k_u*(1 - W) + S_c*c_1 + S_u*k_1],\n",
       "[  d{E}/dt=,         -E*alpha - E*c_2*(I + I_c) + E_c*c_1 + beta*(I + I_c*c_0)*(S + S_u)],\n",
       "[  d{I}/dt=,                        E*alpha - I*c_2*(I + I_c) - I*gamma - I*mu + I_c*c_1],\n",
       "[  d{R}/dt=,                                                             gamma*(I + I_c)],\n",
       "[  d{D}/dt=,                                                                mu*(I + I_c)],\n",
       "[d{I_c}/dt=,                  E_c*alpha + I*c_2*(I + I_c) - I_c*c_1 - I_c*gamma - I_c*mu],\n",
       "[d{S_c}/dt=,    S*c_2*(I + I_c) - S_c*beta*c_0*(I + I_c*c_0) - S_c*c_1 - S_c*k_u*(1 - W)],\n",
       "[d{E_c}/dt=,          E*c_2*(I + I_c) - E_c*alpha - E_c*c_1 + S_c*beta*c_0*(I + I_c*c_0)],\n",
       "[d{S_u}/dt=,                   -S_u*beta*(I + I_c*c_0) - S_u*k_1 + k_u*(1 - W)*(S + S_c)],\n",
       "[  d{W}/dt=,                                                  W*k_w*(-S_c*kappa - W + 1)]])"
      ]
     },
     "execution_count": 35,
     "metadata": {},
     "output_type": "execute_result"
    }
   ],
   "source": [
    "# display equations\n",
    "print_ode2(SC3UEIR_model)"
   ]
  },
  {
   "cell_type": "markdown",
   "metadata": {},
   "source": [
    "### SC3UEI3R model"
   ]
  },
  {
   "cell_type": "markdown",
   "metadata": {},
   "source": [
    "#### Equations \n",
    "\n",
    "\\begin{equation}\n",
    "\\begin{split}\n",
    "\\dot{S} &={} -(\\beta_1 (I_1 + c_0 I_c) + \\beta_2 I_2 + \\beta_3 I_3) S + c_1 S_c - c_2 S I_3 - S k_u (1-W) + k_1 S_u\\\\\n",
    "\\dot{S_c} &={} - c_0 (\\beta_1 (I_1 + c_0 I_c) + \\beta_2 I_2 + \\beta_3 I_3) S_c - c_1 S_c + c_2 S I_3 - k_u (1 - W) S_c \\\\\n",
    "\\dot{E} &= \\beta_1 (I_1 + c_0 I_c) (S + S_u) - \\alpha E + c_1 E_c - c_2 I_3 E\\\\\n",
    "\\dot{E_c} &= c_0 \\beta_1 (I_1 + c_0 I_c) S_c - \\alpha E_c - c_1 E_c + c_2 I_3 E\\\\\n",
    "\\dot{I_1} &= \\alpha E - \\gamma_1 I_1 - p_1 I_1 + c_1 I_c - c_2 I_3 I_1\\\\\n",
    "\\dot{I_c} &= \\alpha E_c - \\gamma_1 I_c - p_1 I_c - c_1 I_c + c_2 I_3 I_1\\\\\n",
    "\\dot{I_2} &= p_1 (I_1 + I_c) -\\gamma_2 I_2 - p_2 I_2 \\\\\n",
    "\\dot{I_3} & = p_2 I_2 -\\gamma_3 I_3 - \\mu I_3 \\\\ \n",
    "\\dot{R} & = \\gamma_1 (I_1 + I_c) +\\gamma_2 I_2 + \\gamma_3 I_3\\\\\n",
    "\\dot{D} & = \\mu (I_3) \\\\\n",
    "\\dot{S_u} & = -(\\beta_1 (I_1 + c_0 I_c)+\\beta_2 I_2 + \\beta_3 I_3) S_u + k_u (1 - W)(S+ S_c)  - k_1 S_u \\\\\n",
    "\\dot{W} & = k_w W (1 - \\kappa S_c - W)\\\\\n",
    "\\end{split}\n",
    "\\end{equation}\n",
    "\n",
    "#### Variables\n",
    "* $S$: Susceptible individuals living as normal\n",
    "* $S_c$: Susceptible individuals exercising pandemy precautions\n",
    "* $S_u$: Susceptible individuals immune to caution because of economic downturn\n",
    "* $W$: Economic status obeying a logistic law with caution individuals downturning\n",
    "* $E$: Exposed individuals\n",
    "* $E_c$: Exposed individuals exercising caution\n",
    "* $I_i$: Infected individuals in severity class $i$. Severity increaes with $i$ and we assume individuals must pass through all previous classes. Split non hospital cases by caution.\n",
    "  * $I_1$: Mild infection (hospitalization not required), living as normal\n",
    "  * $I_c$: Mild infection (hospitalization not required), exercising caution\n",
    "  * $I_2$: Severe infection (hospitalization required)\n",
    "  * $I_3$: Critical infection (ICU required)\n",
    "* $R$: individuals who have recovered from disease and are now immune\n",
    "* $D$: Dead individuals\n",
    "* $N=S+S_c+S_u+E+E_c+I_1+I_c+I_2+I_3+R+D$ Total population size (constant)\n",
    "\n",
    "#### Parameters\n",
    "* $\\beta$ rate at which infected individuals contact susceptibles and infect them\n",
    "* $\\alpha$ rate at which exposed individuals become infected (1/(incubation time)\n",
    "* $\\gamma$ rate at which infected individuals recover from disease and become immune\n",
    "* $\\mu$ death rate for infected individuals\n",
    "* $\\gamma_i$ rate at which infected individuals in class $I_i$ recover from disease and become immune\n",
    "* $p_i$ rate at which infected individuals in class $I_i$ progress to class $I_{I+1}$\n",
    "* $c_i$ three parameters characterizing cautionary response of population via class $S_c$\n",
    "\n",
    "    - $c_0$ : reduction factor for exposure for cautioned susceptibles\n",
    "\n",
    "    - $c_1$ : inverse duration of caution (exponential decay time constant in days)\n",
    "\n",
    "    - $c_2$ : rate constant for transition from uncautioned to cautioned susceptible\n",
    "* four parameters coupling to economy and uncautionable individuals\n",
    "    - $k_w$ : rate coefficient of economy equilibration\n",
    "    - $k_u$ : rate coefficient of transition from uncautioned to uncautionable\n",
    "    - $k_1$ : inverse duration of uncautionable state\n",
    "    - $\\kappa$ : economic downturn of caution (proportional to number cautious)"
   ]
  },
  {
   "cell_type": "markdown",
   "metadata": {
    "slideshow": {
     "slide_type": "slide"
    }
   },
   "source": [
    "####  Implementation"
   ]
  },
  {
   "cell_type": "code",
   "execution_count": 36,
   "metadata": {},
   "outputs": [
    {
     "data": {
      "text/latex": [
       "$\\displaystyle \\left[\\begin{matrix}d{S}/dt= & - I_{3} S c_{2} - S k_{u} \\left(1 - W\\right) + S \\left(- I_{2} \\beta_{2} - I_{3} \\beta_{3} - \\beta_{1} \\left(I_{1} + I_{c} c_{0}\\right)\\right) + S_{c} c_{1} + S_{u} k_{1}\\\\d{E}/dt= & - E I_{3} c_{2} - E \\alpha + E_{c} c_{1} + \\beta_{1} \\left(I_{1} + I_{c} c_{0}\\right) \\left(S + S_{u}\\right)\\\\d{I_1}/dt= & E \\alpha - I_{1} I_{3} c_{2} - I_{1} \\gamma_{1} - I_{1} p_{1} + I_{c} c_{1}\\\\d{I_2}/dt= & - I_{2} \\gamma_{2} - I_{2} p_{2} + p_{1} \\left(I_{1} + I_{c}\\right)\\\\d{I_3}/dt= & I_{2} p_{2} - I_{3} \\gamma_{3} - I_{3} \\mu\\\\d{R}/dt= & I_{2} \\gamma_{2} + I_{3} \\gamma_{3} + \\gamma_{1} \\left(I_{1} + I_{c}\\right)\\\\d{D}/dt= & I_{3} \\mu\\\\d{I_c}/dt= & E_{c} \\alpha + I_{1} I_{3} c_{2} - I_{c} c_{1} - I_{c} \\gamma_{1} - I_{c} p_{1}\\\\d{S_c}/dt= & I_{3} S c_{2} - S_{c} c_{0} \\left(I_{2} \\beta_{2} + I_{3} \\beta_{3} + \\beta_{1} \\left(I_{1} + I_{c} c_{0}\\right)\\right) - S_{c} c_{1} - S_{c} k_{u} \\left(1 - W\\right)\\\\d{E_c}/dt= & E I_{3} c_{2} - E_{c} \\alpha - E_{c} c_{1} + S_{c} \\beta_{1} c_{0} \\left(I_{1} + I_{c} c_{0}\\right)\\\\d{S_u}/dt= & - S_{u} k_{1} + S_{u} \\left(- I_{2} \\beta_{2} - I_{3} \\beta_{3} - \\beta_{1} \\left(I_{1} + I_{c} c_{0}\\right)\\right) + k_{u} \\left(1 - W\\right) \\left(S + S_{c}\\right)\\\\d{W}/dt= & W k_{w} \\left(- S_{c} \\kappa - W + 1\\right)\\end{matrix}\\right]$"
      ],
      "text/plain": [
       "Matrix([\n",
       "[  d{S}/dt=, -I_3*S*c_2 - S*k_u*(1 - W) + S*(-I_2*beta_2 - I_3*beta_3 - beta_1*(I_1 + I_c*c_0)) + S_c*c_1 + S_u*k_1],\n",
       "[  d{E}/dt=,                                      -E*I_3*c_2 - E*alpha + E_c*c_1 + beta_1*(I_1 + I_c*c_0)*(S + S_u)],\n",
       "[d{I_1}/dt=,                                                E*alpha - I_1*I_3*c_2 - I_1*gamma_1 - I_1*p_1 + I_c*c_1],\n",
       "[d{I_2}/dt=,                                                               -I_2*gamma_2 - I_2*p_2 + p_1*(I_1 + I_c)],\n",
       "[d{I_3}/dt=,                                                                         I_2*p_2 - I_3*gamma_3 - I_3*mu],\n",
       "[  d{R}/dt=,                                                        I_2*gamma_2 + I_3*gamma_3 + gamma_1*(I_1 + I_c)],\n",
       "[  d{D}/dt=,                                                                                                 I_3*mu],\n",
       "[d{I_c}/dt=,                                              E_c*alpha + I_1*I_3*c_2 - I_c*c_1 - I_c*gamma_1 - I_c*p_1],\n",
       "[d{S_c}/dt=,     I_3*S*c_2 - S_c*c_0*(I_2*beta_2 + I_3*beta_3 + beta_1*(I_1 + I_c*c_0)) - S_c*c_1 - S_c*k_u*(1 - W)],\n",
       "[d{E_c}/dt=,                                       E*I_3*c_2 - E_c*alpha - E_c*c_1 + S_c*beta_1*c_0*(I_1 + I_c*c_0)],\n",
       "[d{S_u}/dt=,             -S_u*k_1 + S_u*(-I_2*beta_2 - I_3*beta_3 - beta_1*(I_1 + I_c*c_0)) + k_u*(1 - W)*(S + S_c)],\n",
       "[  d{W}/dt=,                                                                             W*k_w*(-S_c*kappa - W + 1)]])"
      ]
     },
     "execution_count": 36,
     "metadata": {},
     "output_type": "execute_result"
    }
   ],
   "source": [
    "# display equations\n",
    "print_ode2(SC3UEI3R_model) # name needs to be that of current model"
   ]
  },
  {
   "cell_type": "code",
   "execution_count": null,
   "metadata": {},
   "outputs": [],
   "source": []
  }
 ],
 "metadata": {
  "kernelspec": {
   "display_name": "Python 3",
   "language": "python",
   "name": "python3"
  },
  "language_info": {
   "codemirror_mode": {
    "name": "ipython",
    "version": 3
   },
   "file_extension": ".py",
   "mimetype": "text/x-python",
   "name": "python",
   "nbconvert_exporter": "python",
   "pygments_lexer": "ipython3",
   "version": "3.7.4"
  },
  "toc": {
   "base_numbering": 1,
   "nav_menu": {
    "height": "523px",
    "width": "246px"
   },
   "number_sections": true,
   "sideBar": true,
   "skip_h1_title": false,
   "title_cell": "Table of Contents",
   "title_sidebar": "Contents",
   "toc_cell": false,
   "toc_position": {
    "height": "calc(100% - 180px)",
    "left": "10px",
    "top": "150px",
    "width": "305.109375px"
   },
   "toc_section_display": true,
   "toc_window_display": true
  }
 },
 "nbformat": 4,
 "nbformat_minor": 4
}
