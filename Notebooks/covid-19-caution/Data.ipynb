{
 "cells": [
  {
   "cell_type": "code",
   "execution_count": 1,
   "metadata": {},
   "outputs": [
    {
     "data": {
      "text/html": [
       "<style>.container { width:100% !important; }</style>"
      ],
      "text/plain": [
       "<IPython.core.display.HTML object>"
      ]
     },
     "metadata": {},
     "output_type": "display_data"
    }
   ],
   "source": [
    "%matplotlib notebook\n",
    "import matplotlib\n",
    "import seaborn as sb\n",
    "from matplotlib import pyplot as plt\n",
    "import numpy as np\n",
    "import pandas as pd\n",
    "\n",
    "# Jupyter Specifics\n",
    "%matplotlib inline\n",
    "from IPython.display import display, HTML\n",
    "from ipywidgets.widgets import interact, interactive, IntSlider, FloatSlider, Layout, ToggleButton, ToggleButtons, fixed\n",
    "display(HTML(\"<style>.container { width:100% !important; }</style>\"))\n",
    "style = {'description_width': '100px'}\n",
    "slider_layout = Layout(width='99%')\n",
    "\n",
    "from time import time\n",
    "import pickle as pk"
   ]
  },
  {
   "cell_type": "code",
   "execution_count": 2,
   "metadata": {
    "scrolled": false
   },
   "outputs": [
    {
     "name": "stdout",
     "output_type": "stream",
     "text": [
      "Getting data:\n",
      "getting JHU data...\n",
      "jhu data selected from 1/22/20 to 10/8/20\n",
      "expanding JHU data : to new (daily), 7-day rolling (smoothed), reporting glitch (corrected) and combined\n"
     ]
    },
    {
     "data": {
      "application/vnd.jupyter.widget-view+json": {
       "model_id": "49b7335d1f384bac991d22ab60bcd29a",
       "version_major": 2,
       "version_minor": 0
      },
      "text/plain": [
       "HBox(children=(FloatProgress(value=0.0, description='report correction deaths', max=190.0, style=ProgressStyle…"
      ]
     },
     "metadata": {},
     "output_type": "display_data"
    },
    {
     "name": "stdout",
     "output_type": "stream",
     "text": [
      "\n"
     ]
    },
    {
     "data": {
      "application/vnd.jupyter.widget-view+json": {
       "model_id": "81f30b8b1dc1401688506f3566817772",
       "version_major": 2,
       "version_minor": 0
      },
      "text/plain": [
       "HBox(children=(FloatProgress(value=0.0, description='report correction confirmed', max=190.0, style=ProgressSt…"
      ]
     },
     "metadata": {},
     "output_type": "display_data"
    },
    {
     "name": "stdout",
     "output_type": "stream",
     "text": [
      "\n",
      "number of countries listed in JHU database 189\n",
      "done with JHU data (covid_ts dictionary keys: confirmed, deaths, recovered).\n",
      "getting owid data...\n",
      "owid data selected from 1/23/20 to 10/9/20\n",
      "expanding OWID data : to new (daily), 7-day rolling (smoothed), reporting glitch (corrected) and combined\n"
     ]
    },
    {
     "data": {
      "application/vnd.jupyter.widget-view+json": {
       "model_id": "a4ad829c33394dfd8a75721fd607af26",
       "version_major": 2,
       "version_minor": 0
      },
      "text/plain": [
       "HBox(children=(FloatProgress(value=0.0, description='report correction deaths', max=213.0, style=ProgressStyle…"
      ]
     },
     "metadata": {},
     "output_type": "display_data"
    },
    {
     "name": "stdout",
     "output_type": "stream",
     "text": [
      "\n"
     ]
    },
    {
     "data": {
      "application/vnd.jupyter.widget-view+json": {
       "model_id": "2f7eafb2426c4a3490a55f7be672658d",
       "version_major": 2,
       "version_minor": 0
      },
      "text/plain": [
       "HBox(children=(FloatProgress(value=0.0, description='report correction confirmed', max=213.0, style=ProgressSt…"
      ]
     },
     "metadata": {},
     "output_type": "display_data"
    },
    {
     "name": "stdout",
     "output_type": "stream",
     "text": [
      "\n",
      "number of countries listed in OWID database 212\n",
      "done with OWID data (covid_owid_ts dictionary see .keys()) .\n",
      "getting ICU and acute care data icus_2012 and WHO ...\n",
      "WHO acute file found dictionary acute_who\n",
      "ICU file found dictionary icus_2012\n",
      "mapping country names between JHU and OWID and extracting common countries...\n",
      "extracting data sets for common countries both databases...\n",
      "No of big common countries is 86\n",
      "---------------------------------\n",
      "extracting testing data from OWID database\n",
      "doing piecewise linear fits to testing data ... reg_testing\n"
     ]
    },
    {
     "data": {
      "application/vnd.jupyter.widget-view+json": {
       "model_id": "2673292392ae4a6886662df62f5bea49",
       "version_major": 2,
       "version_minor": 0
      },
      "text/plain": [
       "HBox(children=(FloatProgress(value=0.0, description='piecewise linear fit', max=186.0, style=ProgressStyle(des…"
      ]
     },
     "metadata": {},
     "output_type": "display_data"
    },
    {
     "name": "stdout",
     "output_type": "stream",
     "text": [
      "\n",
      "completed regularization of testing by pwlf and linear adjustment to confirmed cases (linr).\n",
      "constructing nonlinear adjustment to confirmed cases based on pwlf testing (nonlin and nonlinr ...\n",
      "completed nonlinear adjustment to confirmed cases.\n",
      "Done with data.\n",
      "---------------------------------\n",
      "Constructing common synchronized deaths, case and testing data...\n",
      "debug len(total_deaths) 186\n",
      "debug len(big) 86\n",
      "synchronizing and trimming time series to common length...\n",
      "making cases with nonlinear testing adjustment...\n",
      "done.\n",
      "to change the nonlinear correction function, call make_cases_adj_nonlin(K), K=2 by default\n",
      "----------------------------------------\n",
      "Finished loading Cluster module\n",
      "----------------------------------------\n"
     ]
    }
   ],
   "source": [
    "from Cluster import *"
   ]
  },
  {
   "cell_type": "code",
   "execution_count": 3,
   "metadata": {
    "scrolled": true
   },
   "outputs": [
    {
     "name": "stdout",
     "output_type": "stream",
     "text": [
      "187 187 212 189\n",
      "countries in common: owid format\n",
      "['Afghanistan', 'Albania', 'Algeria', 'Andorra', 'Angola', 'Antigua and Barbuda', 'Argentina', 'Armenia', 'Austria', 'Azerbaijan', 'Bahamas', 'Bahrain', 'Bangladesh', 'Barbados', 'Belarus', 'Belgium', 'Belize', 'Benin', 'Bhutan', 'Bolivia', 'Bosnia and Herzegovina', 'Botswana', 'Brazil', 'Brunei', 'Bulgaria', 'Burkina Faso', 'Myanmar', 'Burundi', 'Cape Verde', 'Cambodia', 'Cameroon', 'Central African Republic', 'Chad', 'Chile', 'Colombia', 'Comoros', 'Congo', 'Democratic Republic of Congo', 'Costa Rica', \"Cote d'Ivoire\", 'Croatia', 'Cuba', 'Cyprus', 'Czech Republic', 'Denmark', 'Djibouti', 'Dominica', 'Dominican Republic', 'Ecuador', 'Egypt', 'El Salvador', 'Equatorial Guinea', 'Eritrea', 'Estonia', 'Swaziland', 'Ethiopia', 'Fiji', 'Finland', 'France', 'Gabon', 'Gambia', 'Georgia', 'Germany', 'Ghana', 'Greece', 'Grenada', 'Guatemala', 'Guinea', 'Guinea-Bissau', 'Guyana', 'Haiti', 'Vatican', 'Honduras', 'Hungary', 'Iceland', 'India', 'Indonesia', 'Iran', 'Iraq', 'Ireland', 'Israel', 'Italy', 'Jamaica', 'Japan', 'Jordan', 'Kazakhstan', 'Kenya', 'South Korea', 'Kosovo', 'Kuwait', 'Kyrgyzstan', 'Laos', 'Latvia', 'Lebanon', 'Lesotho', 'Liberia', 'Libya', 'Liechtenstein', 'Lithuania', 'Luxembourg', 'Madagascar', 'Malawi', 'Malaysia', 'Maldives', 'Mali', 'Malta', 'Mauritania', 'Mauritius', 'Mexico', 'Moldova', 'Monaco', 'Mongolia', 'Montenegro', 'Morocco', 'Mozambique', 'Namibia', 'Nepal', 'Netherlands', 'New Zealand', 'Nicaragua', 'Niger', 'Nigeria', 'Macedonia', 'Norway', 'Oman', 'Pakistan', 'Panama', 'Papua New Guinea', 'Paraguay', 'Peru', 'Philippines', 'Poland', 'Portugal', 'Qatar', 'Romania', 'Russia', 'Rwanda', 'Saint Kitts and Nevis', 'Saint Lucia', 'Saint Vincent and the Grenadines', 'San Marino', 'Sao Tome and Principe', 'Saudi Arabia', 'Senegal', 'Serbia', 'Seychelles', 'Sierra Leone', 'Singapore', 'Slovakia', 'Slovenia', 'Somalia', 'South Africa', 'South Sudan', 'Spain', 'Sri Lanka', 'Sudan', 'Suriname', 'Sweden', 'Switzerland', 'Syria', 'Taiwan', 'Tajikistan', 'Tanzania', 'Thailand', 'Timor', 'Togo', 'Trinidad and Tobago', 'Tunisia', 'Turkey', 'United States', 'Uganda', 'Ukraine', 'United Arab Emirates', 'United Kingdom', 'Uruguay', 'Uzbekistan', 'Venezuela', 'Vietnam', 'Palestine', 'Western Sahara', 'Yemen', 'Zambia', 'Zimbabwe', 'World', 'Australia', 'Canada', 'China']\n",
      "\n",
      "owid countries not in common set\n",
      "{'Guam', 'Turks and Caicos Islands', 'Bonaire Sint Eustatius and Saba', 'Montserrat', 'Hong Kong', 'Isle of Man', 'Jersey', 'British Virgin Islands', 'Cayman Islands', 'International', 'Northern Mariana Islands', 'Curacao', 'Bermuda', 'Aruba', 'Greenland', 'Sint Maarten (Dutch part)', 'United States Virgin Islands', 'Falkland Islands', 'Anguilla', 'New Caledonia', 'Puerto Rico', 'French Polynesia', 'Gibraltar', 'Guernsey', 'Faeroe Islands'}\n",
      "\n",
      "countries in common: jhu format\n",
      "[('Afghanistan', ''), ('Albania', ''), ('Algeria', ''), ('Andorra', ''), ('Angola', ''), ('Antigua and Barbuda', ''), ('Argentina', ''), ('Armenia', ''), ('Austria', ''), ('Azerbaijan', ''), ('Bahamas', ''), ('Bahrain', ''), ('Bangladesh', ''), ('Barbados', ''), ('Belarus', ''), ('Belgium', ''), ('Belize', ''), ('Benin', ''), ('Bhutan', ''), ('Bolivia', ''), ('Bosnia and Herzegovina', ''), ('Botswana', ''), ('Brazil', ''), ('Brunei', ''), ('Bulgaria', ''), ('Burkina Faso', ''), ('Burma', ''), ('Burundi', ''), ('Cabo Verde', ''), ('Cambodia', ''), ('Cameroon', ''), ('Central African Republic', ''), ('Chad', ''), ('Chile', ''), ('Colombia', ''), ('Comoros', ''), ('Congo (Brazzaville)', ''), ('Congo (Kinshasa)', ''), ('Costa Rica', ''), (\"Cote d'Ivoire\", ''), ('Croatia', ''), ('Cuba', ''), ('Cyprus', ''), ('Czechia', ''), ('Denmark', ''), ('Djibouti', ''), ('Dominica', ''), ('Dominican Republic', ''), ('Ecuador', ''), ('Egypt', ''), ('El Salvador', ''), ('Equatorial Guinea', ''), ('Eritrea', ''), ('Estonia', ''), ('Eswatini', ''), ('Ethiopia', ''), ('Fiji', ''), ('Finland', ''), ('France', ''), ('Gabon', ''), ('Gambia', ''), ('Georgia', ''), ('Germany', ''), ('Ghana', ''), ('Greece', ''), ('Grenada', ''), ('Guatemala', ''), ('Guinea', ''), ('Guinea-Bissau', ''), ('Guyana', ''), ('Haiti', ''), ('Holy See', ''), ('Honduras', ''), ('Hungary', ''), ('Iceland', ''), ('India', ''), ('Indonesia', ''), ('Iran', ''), ('Iraq', ''), ('Ireland', ''), ('Israel', ''), ('Italy', ''), ('Jamaica', ''), ('Japan', ''), ('Jordan', ''), ('Kazakhstan', ''), ('Kenya', ''), ('Korea, South', ''), ('Kosovo', ''), ('Kuwait', ''), ('Kyrgyzstan', ''), ('Laos', ''), ('Latvia', ''), ('Lebanon', ''), ('Lesotho', ''), ('Liberia', ''), ('Libya', ''), ('Liechtenstein', ''), ('Lithuania', ''), ('Luxembourg', ''), ('Madagascar', ''), ('Malawi', ''), ('Malaysia', ''), ('Maldives', ''), ('Mali', ''), ('Malta', ''), ('Mauritania', ''), ('Mauritius', ''), ('Mexico', ''), ('Moldova', ''), ('Monaco', ''), ('Mongolia', ''), ('Montenegro', ''), ('Morocco', ''), ('Mozambique', ''), ('Namibia', ''), ('Nepal', ''), ('Netherlands', ''), ('New Zealand', ''), ('Nicaragua', ''), ('Niger', ''), ('Nigeria', ''), ('North Macedonia', ''), ('Norway', ''), ('Oman', ''), ('Pakistan', ''), ('Panama', ''), ('Papua New Guinea', ''), ('Paraguay', ''), ('Peru', ''), ('Philippines', ''), ('Poland', ''), ('Portugal', ''), ('Qatar', ''), ('Romania', ''), ('Russia', ''), ('Rwanda', ''), ('Saint Kitts and Nevis', ''), ('Saint Lucia', ''), ('Saint Vincent and the Grenadines', ''), ('San Marino', ''), ('Sao Tome and Principe', ''), ('Saudi Arabia', ''), ('Senegal', ''), ('Serbia', ''), ('Seychelles', ''), ('Sierra Leone', ''), ('Singapore', ''), ('Slovakia', ''), ('Slovenia', ''), ('Somalia', ''), ('South Africa', ''), ('South Sudan', ''), ('Spain', ''), ('Sri Lanka', ''), ('Sudan', ''), ('Suriname', ''), ('Sweden', ''), ('Switzerland', ''), ('Syria', ''), ('Taiwan*', ''), ('Tajikistan', ''), ('Tanzania', ''), ('Thailand', ''), ('Timor-Leste', ''), ('Togo', ''), ('Trinidad and Tobago', ''), ('Tunisia', ''), ('Turkey', ''), ('US', ''), ('Uganda', ''), ('Ukraine', ''), ('United Arab Emirates', ''), ('United Kingdom', ''), ('Uruguay', ''), ('Uzbekistan', ''), ('Venezuela', ''), ('Vietnam', ''), ('West Bank and Gaza', ''), ('Western Sahara', ''), ('Yemen', ''), ('Zambia', ''), ('Zimbabwe', ''), ('World', ''), ('Australia', ''), ('Canada', ''), ('China', '')]\n",
      "\n",
      "86 bcountries ['Afghanistan', 'Albania', 'Argentina', 'Armenia', 'Austria', 'Azerbaijan', 'Bahamas', 'Bahrain', 'Belarus', 'Belgium', 'Bolivia', 'Bosnia and Herzegovina', 'Brazil', 'Bulgaria', 'Myanmar', 'Chile', 'Colombia', 'Costa Rica', 'Croatia', 'Czech Republic', 'Denmark', 'Dominican Republic', 'Ecuador', 'Egypt', 'El Salvador', 'Swaziland', 'Finland', 'France', 'Gambia', 'Germany', 'Greece', 'Guatemala', 'Honduras', 'Hungary', 'India', 'Iran', 'Iraq', 'Ireland', 'Israel', 'Italy', 'Jamaica', 'Jordan', 'Kazakhstan', 'Kosovo', 'Kuwait', 'Kyrgyzstan', 'Lebanon', 'Libya', 'Luxembourg', 'Mauritania', 'Mexico', 'Moldova', 'Montenegro', 'Morocco', 'Namibia', 'Netherlands', 'Macedonia', 'Norway', 'Oman', 'Panama', 'Paraguay', 'Peru', 'Philippines', 'Poland', 'Portugal', 'Qatar', 'Romania', 'Russia', 'Saudi Arabia', 'Serbia', 'Slovenia', 'South Africa', 'Spain', 'Suriname', 'Sweden', 'Switzerland', 'Tunisia', 'Turkey', 'United States', 'Ukraine', 'United Arab Emirates', 'United Kingdom', 'Palestine', 'Zambia', 'Australia', 'Canada']\n"
     ]
    }
   ],
   "source": [
    "print(len(countries_jhu_4_owid),len(countries_jhu_2_owid),len(countries_owid),len(countries_jhu))\n",
    "print('countries in common: owid format')\n",
    "print(countries_jhu_2_owid)\n",
    "print('')\n",
    "print('owid countries not in common set')\n",
    "print(set(countries_owid)-set(countries_jhu_2_owid))\n",
    "print('')\n",
    "print('countries in common: jhu format')\n",
    "print(countries_owid_to_jhu)\n",
    "print('')\n",
    "print(len(bcountries),'bcountries',bcountries)"
   ]
  },
  {
   "cell_type": "code",
   "execution_count": 4,
   "metadata": {
    "scrolled": true
   },
   "outputs": [
    {
     "data": {
      "text/plain": [
       "['deaths',\n",
       " 'cases',\n",
       " 'cases_lin2020',\n",
       " 'cases_pwlfit',\n",
       " 'cases_nonlin',\n",
       " 'cases_nonlinr']"
      ]
     },
     "execution_count": 4,
     "metadata": {},
     "output_type": "execute_result"
    }
   ],
   "source": [
    "cases = [c for c in clusdata_all]\n",
    "cases"
   ]
  },
  {
   "cell_type": "code",
   "execution_count": 5,
   "metadata": {
    "scrolled": true
   },
   "outputs": [],
   "source": [
    "datasets = ['deaths','cases','cases_lin2020','cases_pwlfit','cases_nonlin']\n",
    "\n",
    "d_countries = [c for c in clusdata_all['deaths']]\n",
    "c_countries = [c for c in clusdata_all['cases']]\n",
    "lc_countries = [c for c in clusdata_all['cases_lin2020']]\n",
    "pc_countries = [c for c in clusdata_all['cases_pwlfit']]\n",
    "nc_countries = [c for c in clusdata_all['cases_nonlin']]\n",
    "\n",
    "countries = d_countries"
   ]
  },
  {
   "cell_type": "code",
   "execution_count": 6,
   "metadata": {
    "scrolled": true
   },
   "outputs": [
    {
     "name": "stdout",
     "output_type": "stream",
     "text": [
      "72\n",
      "['Afghanistan' 'Albania' 'Argentina' 'Armenia' 'Australia' 'Austria'\n",
      " 'Azerbaijan' 'Bahamas' 'Belarus' 'Belgium' 'Bolivia'\n",
      " 'Bosnia and Herzegovina' 'Brazil' 'Bulgaria' 'Canada' 'Chile' 'Colombia'\n",
      " 'Croatia' 'Czech Republic' 'Denmark' 'Dominican Republic' 'Ecuador'\n",
      " 'Egypt' 'El Salvador' 'Finland' 'France' 'Germany' 'Greece' 'Guatemala'\n",
      " 'Honduras' 'Hungary' 'India' 'Iran' 'Iraq' 'Ireland' 'Israel' 'Italy'\n",
      " 'Kazakhstan' 'Kosovo' 'Kuwait' 'Kyrgyzstan' 'Lebanon' 'Luxembourg'\n",
      " 'Macedonia' 'Mexico' 'Moldova' 'Morocco' 'Netherlands' 'Norway' 'Oman'\n",
      " 'Panama' 'Paraguay' 'Peru' 'Philippines' 'Poland' 'Portugal' 'Qatar'\n",
      " 'Romania' 'Russia' 'Saudi Arabia' 'Serbia' 'Slovenia' 'South Africa'\n",
      " 'Spain' 'Sweden' 'Switzerland' 'Tunisia' 'Turkey' 'Ukraine'\n",
      " 'United Arab Emirates' 'United Kingdom' 'United States']\n"
     ]
    }
   ],
   "source": [
    "print(len(d_countries))\n",
    "print(np.sort(d_countries))"
   ]
  },
  {
   "cell_type": "code",
   "execution_count": 7,
   "metadata": {
    "scrolled": true
   },
   "outputs": [
    {
     "name": "stdout",
     "output_type": "stream",
     "text": [
      "[72, 72, 72, 72, 72]\n",
      "[True, True, True, True, True]\n",
      "[True, True, True, True, True]\n",
      "[True, True, True, True, True]\n",
      "[True, True, True, True, True]\n",
      "[True, True, True, True, True]\n",
      "[153, 153, 153, 153, 153]\n"
     ]
    }
   ],
   "source": [
    "# check that all country sets being used are the same and check time series lengths and starting dates\n",
    "# 72 countries with Oct 9 finish and with mindeaths=100 and mindays=150 and mindeathspm = 0.5\n",
    "countrysets = [d_countries,c_countries,lc_countries,pc_countries,nc_countries]\n",
    "print([len(ccs) for ccs in countrysets])\n",
    "for ccs1 in countrysets:\n",
    "    print([ccs1 == ccs2 for ccs2 in countrysets])\n",
    "print([len(clusdata_all[d1]['United States']) for d1 in datasets])\n",
    "# print(len(total_deaths_x['dates']),len(total_cases_x['dates']),len(testing_x['dates']),total_deaths_x['dates'][0],total_cases_x['dates'][0],testing_x['dates'][0])"
   ]
  },
  {
   "cell_type": "code",
   "execution_count": 9,
   "metadata": {
    "scrolled": true
   },
   "outputs": [
    {
     "data": {
      "text/plain": [
       "odict_keys(['iso_code', 'continent', 'location', 'date', 'total_cases', 'new_cases', 'new_cases_smoothed', 'total_deaths', 'new_deaths', 'new_deaths_smoothed', 'total_cases_per_million', 'new_cases_per_million', 'new_cases_smoothed_per_million', 'total_deaths_per_million', 'new_deaths_per_million', 'new_deaths_smoothed_per_million', 'new_tests', 'total_tests', 'total_tests_per_thousand', 'new_tests_per_thousand', 'new_tests_smoothed', 'new_tests_smoothed_per_thousand', 'tests_per_case', 'positive_rate', 'tests_units', 'stringency_index', 'population', 'population_density', 'median_age', 'aged_65_older', 'aged_70_older', 'gdp_per_capita', 'extreme_poverty', 'cardiovasc_death_rate', 'diabetes_prevalence', 'female_smokers', 'male_smokers', 'handwashing_facilities', 'hospital_beds_per_thousand', 'life_expectancy', 'human_development_index'])"
      ]
     },
     "execution_count": 9,
     "metadata": {},
     "output_type": "execute_result"
    }
   ],
   "source": [
    "covid_owid[0].keys()"
   ]
  },
  {
   "cell_type": "code",
   "execution_count": 10,
   "metadata": {
    "scrolled": true
   },
   "outputs": [
    {
     "data": {
      "text/plain": [
       "dict_keys(['confirmed', 'deaths', 'recovered', 'new_deaths', 'new_deaths_smoothed', 'deaths_smoothed', 'new_deaths_corrected', 'new_deaths_corrected_smoothed', 'deaths_corrected_smoothed', 'new_confirmed', 'new_confirmed_smoothed', 'confirmed_smoothed', 'new_confirmed_corrected', 'new_confirmed_corrected_smoothed', 'confirmed_corrected_smoothed', 'confirmed_linr_corrected_smoothed', 'new_confirmed_nonlin_corrected_smoothed', 'confirmed_nonlin_corrected_smoothed', 'new_confirmed_nonlinr_corrected_smoothed', 'confirmed_nonlinr_corrected_smoothed'])"
      ]
     },
     "execution_count": 10,
     "metadata": {},
     "output_type": "execute_result"
    }
   ],
   "source": [
    "covid_ts.keys()"
   ]
  },
  {
   "cell_type": "code",
   "execution_count": 11,
   "metadata": {
    "scrolled": true
   },
   "outputs": [
    {
     "data": {
      "text/plain": [
       "dict_keys(['confirmed', 'deaths', 'recovered', 'tests', 'stringency', 'population', 'population_density', 'gdp_per_capita', 'new_deaths', 'new_deaths_smoothed', 'deaths_smoothed', 'new_deaths_corrected', 'new_deaths_corrected_smoothed', 'deaths_corrected_smoothed', 'new_confirmed', 'new_confirmed_smoothed', 'confirmed_smoothed', 'new_confirmed_corrected', 'new_confirmed_corrected_smoothed', 'confirmed_corrected_smoothed', 'confirmed_linr_corrected_smoothed', 'new_confirmed_nonlin_corrected_smoothed', 'confirmed_nonlin_corrected_smoothed', 'new_confirmed_nonlinr_corrected_smoothed', 'confirmed_nonlinr_corrected_smoothed'])"
      ]
     },
     "execution_count": 11,
     "metadata": {},
     "output_type": "execute_result"
    }
   ],
   "source": [
    "covid_owid_ts.keys()"
   ]
  },
  {
   "cell_type": "markdown",
   "metadata": {},
   "source": [
    "# Data save\n",
    "\n",
    "Execute this section once to produce file `data_all.pk`."
   ]
  },
  {
   "cell_type": "code",
   "execution_count": 12,
   "metadata": {},
   "outputs": [],
   "source": [
    "miscnms = ['clusdata_all','cases','datasets']"
   ]
  },
  {
   "cell_type": "code",
   "execution_count": 13,
   "metadata": {},
   "outputs": [],
   "source": [
    "deathnms = [x for x in dir() if 'deaths' in x]"
   ]
  },
  {
   "cell_type": "code",
   "execution_count": 14,
   "metadata": {},
   "outputs": [],
   "source": [
    "casenms = [x for x in dir() if 'cases' in x if not callable(eval(x))]"
   ]
  },
  {
   "cell_type": "code",
   "execution_count": 15,
   "metadata": {},
   "outputs": [],
   "source": [
    "covidnms = [x for x in dir() if 'covid' in x]"
   ]
  },
  {
   "cell_type": "code",
   "execution_count": 16,
   "metadata": {},
   "outputs": [],
   "source": [
    "# lccountries is type dict_keys, which can't be pickled\n",
    "countrynms = [x for x in dir() if 'countr' in x and x is not 'lccountries' and not callable(eval(x))]\n",
    "countrynms = [x for x in dir() if 'countr' in x and (isinstance(eval(x),dict) or isinstance(eval(x),list) or isinstance(eval(x),tuple))]"
   ]
  },
  {
   "cell_type": "code",
   "execution_count": 17,
   "metadata": {},
   "outputs": [],
   "source": [
    "allnms = deathnms+casenms+covidnms+countrynms+miscnms\n",
    "allnms = countrynms + covidnms + miscnms + deathnms + casenms\n",
    "data_all = {nm:eval(nm) for nm in allnms}"
   ]
  },
  {
   "cell_type": "code",
   "execution_count": 18,
   "metadata": {},
   "outputs": [
    {
     "name": "stdout",
     "output_type": "stream",
     "text": [
      "elapsed:  6.634073972702026\n"
     ]
    }
   ],
   "source": [
    "start = time()\n",
    "pk.dump(data_all,open('data_all.pk','wb'))\n",
    "print('elapsed: ',time()-start)"
   ]
  },
  {
   "cell_type": "markdown",
   "metadata": {},
   "source": [
    "# Data Load\n",
    "\n",
    "Use this code to read in the data, e.g. at the top of another notebook, as an alternative to loading data.py or Cluster.py"
   ]
  },
  {
   "cell_type": "code",
   "execution_count": 19,
   "metadata": {},
   "outputs": [
    {
     "name": "stdout",
     "output_type": "stream",
     "text": [
      "reading in data...\n",
      "elapsed:  5.750543117523193\n"
     ]
    }
   ],
   "source": [
    "# read in data\n",
    "start=time()\n",
    "print('reading in data...')\n",
    "with open('data_all.pk','rb') as fp:\n",
    "    foo = pk.load(fp)\n",
    "print('elapsed: ',time()-start)\n",
    "\n",
    "# make each element of the dictionary a global variable named with key:\n",
    "for x in foo:\n",
    "    stmp = x+\"= foo['\"+x+\"']\"\n",
    "    exec(stmp)"
   ]
  }
 ],
 "metadata": {
  "hide_input": false,
  "kernelspec": {
   "display_name": "Python 3",
   "language": "python",
   "name": "python3"
  },
  "language_info": {
   "codemirror_mode": {
    "name": "ipython",
    "version": 3
   },
   "file_extension": ".py",
   "mimetype": "text/x-python",
   "name": "python",
   "nbconvert_exporter": "python",
   "pygments_lexer": "ipython3",
   "version": "3.7.4"
  },
  "toc": {
   "base_numbering": 1,
   "nav_menu": {
    "height": "341px",
    "width": "225px"
   },
   "number_sections": true,
   "sideBar": true,
   "skip_h1_title": false,
   "title_cell": "Table of Contents",
   "title_sidebar": "Contents",
   "toc_cell": false,
   "toc_position": {
    "height": "calc(100% - 180px)",
    "left": "10px",
    "top": "150px",
    "width": "294.0625px"
   },
   "toc_section_display": true,
   "toc_window_display": true
  }
 },
 "nbformat": 4,
 "nbformat_minor": 4
}
