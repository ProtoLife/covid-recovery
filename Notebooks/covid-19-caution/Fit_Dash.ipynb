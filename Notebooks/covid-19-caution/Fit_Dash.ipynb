{
 "cells": [
  {
   "cell_type": "markdown",
   "metadata": {
    "colab_type": "text",
    "id": "zWWq3zgge-R3"
   },
   "source": [
    "# Imports"
   ]
  },
  {
   "cell_type": "code",
   "execution_count": 1,
   "metadata": {
    "_cell_guid": "79c7e3d0-c299-4dcb-8224-4455121ee9b0",
    "_uuid": "d629ff2d2480ee46fbb7e2d37f6b5fab8052498a",
    "colab": {
     "base_uri": "https://localhost:8080/",
     "height": 607
    },
    "colab_type": "code",
    "id": "NHHL1iKyYN5-",
    "outputId": "c3af6e28-02ba-4ebf-d5dd-be29f9a68368",
    "scrolled": false
   },
   "outputs": [
    {
     "data": {
      "text/html": [
       "<style>.container { width:100% !important; }</style>"
      ],
      "text/plain": [
       "<IPython.core.display.HTML object>"
      ]
     },
     "metadata": {},
     "output_type": "display_data"
    }
   ],
   "source": [
    "#%matplotlib notebook\n",
    "%matplotlib inline \n",
    "\n",
    "import matplotlib\n",
    "import seaborn as sb\n",
    "from matplotlib import pyplot as plt\n",
    "import matplotlib.dates as mdates\n",
    "import holoviews as hv\n",
    "\n",
    "import numpy as np\n",
    "import pandas as pd\n",
    "pd.options.mode.chained_assignment = None  # default='warn'\n",
    "import pickle as pk\n",
    "from time import time\n",
    "import io\n",
    "\n",
    "import datetime\n",
    "import sys\n",
    "\n",
    "from IPython.display import display, HTML\n",
    "from ipywidgets import widgets\n",
    "from ipywidgets.widgets import interact, interactive, interactive_output, fixed, Widget \n",
    "from ipywidgets.widgets import IntSlider, FloatSlider, Layout, ToggleButton, ToggleButtons, Checkbox, RadioButtons, Dropdown, Button\n",
    "from ipywidgets.widgets import HBox, VBox, Label,Text\n",
    "\n",
    "#  !pip3 install mpld3\n",
    "# import mpld3\n",
    "#pld3.enable_notebook() causes plotting to not work???\n",
    "\n",
    "from scipy.integrate import odeint\n",
    "# !pip3 install lmfit\n",
    "import lmfit\n",
    "from lmfit.lineshapes import gaussian, lorentzian, exponential\n",
    "\n",
    "from time import time\n",
    "import warnings\n",
    "warnings.filterwarnings('ignore')\n",
    "# JSM added\n",
    "# from IPython.core.display import display, HTML\n",
    "display(HTML(\"<style>.container { width:100% !important; }</style>\"))"
   ]
  },
  {
   "cell_type": "code",
   "execution_count": 2,
   "metadata": {
    "scrolled": false
   },
   "outputs": [],
   "source": [
    "from Cluster import * "
   ]
  },
  {
   "cell_type": "code",
   "execution_count": 3,
   "metadata": {
    "scrolled": false
   },
   "outputs": [
    {
     "name": "stdout",
     "output_type": "stream",
     "text": [
      "reading in data from data_all_base ...\n",
      "elapsed:  7.520596981048584\n"
     ]
    }
   ],
   "source": [
    "bd = BaseData('data_all_base')"
   ]
  },
  {
   "cell_type": "code",
   "execution_count": 4,
   "metadata": {
    "scrolled": false
   },
   "outputs": [
    {
     "name": "stdout",
     "output_type": "stream",
     "text": [
      "reading in data from ./pks/data_cluster_JRT1.pk ...\n"
     ]
    }
   ],
   "source": [
    "# run \n",
    "# clusdtypes should be in ['JRP1','ORP1','JWP1','OWP1','JRT1','ORT1','JWT1','OWT1']\n",
    "# database JHU/OWID  (J/O) \n",
    "# report_correct T or F   (R/W)\n",
    "# syncat peak/thresh  (P/T)\n",
    "clusdtype='JRT1'\n",
    "ClData = get_cluster_data(clusdtype)"
   ]
  },
  {
   "cell_type": "code",
   "execution_count": 5,
   "metadata": {
    "scrolled": false
   },
   "outputs": [],
   "source": [
    "exec(open('ClusterFit.py','r').read())"
   ]
  },
  {
   "cell_type": "code",
   "execution_count": 6,
   "metadata": {
    "scrolled": false
   },
   "outputs": [
    {
     "name": "stdout",
     "output_type": "stream",
     "text": [
      "data already loaded, so no \"from data import *\" required.\n",
      "making the models...\n",
      "SC2UIR\n",
      "SC2FIR\n",
      "SC3FEIR\n",
      "SEI3R\n",
      "SC3FEI3R\n",
      "SC2FUIR\n",
      "SC3FUEI3R\n",
      "done with the models.\n"
     ]
    }
   ],
   "source": [
    "# changed to use model_fits_age : this is backwards compatible and only loads data if needed\n",
    "import data_config\n",
    "data_config.data_loaded = True    \n",
    "from model_fits_age import *  # including ModelFit class definition. "
   ]
  },
  {
   "cell_type": "code",
   "execution_count": 7,
   "metadata": {
    "scrolled": false
   },
   "outputs": [
    {
     "name": "stdout",
     "output_type": "stream",
     "text": [
      "198 countries with population data\n",
      "common countries without population data []\n",
      "74 cluster countries\n"
     ]
    }
   ],
   "source": [
    "# eliminate countries with no population data (needed for normalizing death stats for fits)\n",
    "\n",
    "#for country in countries:\n",
    "#    if population_owid[country][0] == 0:\n",
    "#        print(country)\n",
    "        \n",
    "countries = [cc for cc in bd.countries_common if bd.population_owid[cc][-2] > 0]\n",
    "print(len(countries),'countries with population data')\n",
    "countries_zp = [cc for cc in bd.countries_common if bd.population_owid[cc][-2] == 0]\n",
    "print('common countries without population data',countries_zp)\n",
    "cluster_countries = [c for c in ClData.clusdata_all['deaths']]\n",
    "print(len(cluster_countries),'cluster countries')\n"
   ]
  },
  {
   "cell_type": "code",
   "execution_count": 8,
   "metadata": {
    "scrolled": false
   },
   "outputs": [
    {
     "data": {
      "text/plain": [
       "['SC2UIR', 'SC2FIR', 'SC3FEIR', 'SEI3R', 'SC3FEI3R', 'SC2FUIR', 'SC3FUEI3R']"
      ]
     },
     "execution_count": 8,
     "metadata": {},
     "output_type": "execute_result"
    }
   ],
   "source": [
    "[x for x in fullmodels]"
   ]
  },
  {
   "cell_type": "markdown",
   "metadata": {
    "extensions": {
     "jupyter_dashboards": {
      "version": 1,
      "views": {
       "default_view": {
        "col": 0,
        "height": 2,
        "hidden": false,
        "row": 0,
        "width": 12
       }
      }
     }
    }
   },
   "source": [
    "# Consensus clustering and map"
   ]
  },
  {
   "cell_type": "code",
   "execution_count": 9,
   "metadata": {
    "extensions": {
     "jupyter_dashboards": {
      "version": 1,
      "views": {
       "default_view": {
        "col": 0,
        "height": 2,
        "hidden": false,
        "row": 2,
        "width": 12
       }
      }
     }
    },
    "scrolled": false
   },
   "outputs": [
    {
     "data": {
      "text/html": [
       "<style>.container { width:100% !important; }</style>"
      ],
      "text/plain": [
       "<IPython.core.display.HTML object>"
      ]
     },
     "metadata": {},
     "output_type": "display_data"
    }
   ],
   "source": [
    "# from Consensus import *\n",
    "# NB:  scoping problem seems to prevent import from working properly.\n",
    "# instead use exec below.\n",
    "country_display = None\n",
    "class_display = None\n",
    "display_countries = None\n",
    "chosen_country = 'Australia'\n",
    "current_country = 'Australia'\n",
    "chosen_class = -1\n",
    "current_class = -1\n",
    "geog = None\n",
    "geog1 = None\n",
    "exec(open('Consensus.py','r').read());"
   ]
  },
  {
   "cell_type": "code",
   "execution_count": 10,
   "metadata": {
    "extensions": {
     "jupyter_dashboards": {
      "version": 1,
      "views": {
       "default_view": {
        "col": 0,
        "height": 2,
        "hidden": false,
        "row": 30,
        "width": 12
       }
      }
     }
    },
    "scrolled": false
   },
   "outputs": [],
   "source": [
    "#foo = Consensus(cases=['deaths','cases','cases_nonlinr'])\n",
    "#clus = Consensus(ClData,cases = ['deaths','cases','cases_lin2020','cases_pwlfit','cases_nonlin','cases_nonlinr']);\n",
    "#clus = Consensus(ClData,cases = ['deaths','cases','cases_nonlinr']);\n",
    "clus = Consensus(ClData,cases = ['deaths','cases_nonlinr']);"
   ]
  },
  {
   "cell_type": "code",
   "execution_count": 11,
   "metadata": {
    "scrolled": false
   },
   "outputs": [
    {
     "data": {
      "application/vnd.jupyter.widget-view+json": {
       "model_id": "c7ffb48e17214143916f9279df9bc3d0",
       "version_major": 2,
       "version_minor": 0
      },
      "text/plain": [
       "HBox(children=(FloatProgress(value=0.0, description='loop over cases', max=2.0, style=ProgressStyle(descriptio…"
      ]
     },
     "metadata": {},
     "output_type": "display_data"
    },
    {
     "name": "stdout",
     "output_type": "stream",
     "text": [
      "\n",
      "74 countries\n",
      "reference clustering (numbered from 0) is 7\n"
     ]
    },
    {
     "data": {
      "image/png": "[encoded data removed]",
      "text/plain": [
       "<Figure size 720x1728 with 1 Axes>"
      ]
     },
     "metadata": {
      "needs_background": "light"
     },
     "output_type": "display_data"
    }
   ],
   "source": [
    "clus.scan() #clus.scan(diag=True) for diagnostic output\n",
    "clus.make_clusters()\n",
    "clus.swizzle(satthresh=0.6) # change threshold closer to 1 for more unclustered\n",
    "clus.plot_swiz()\n",
    "chosen_swdic = clus.swdic"
   ]
  },
  {
   "cell_type": "code",
   "execution_count": 12,
   "metadata": {
    "extensions": {
     "jupyter_dashboards": {
      "version": 1,
      "views": {
       "default_view": {
        "hidden": true
       }
      }
     }
    },
    "scrolled": false
   },
   "outputs": [],
   "source": [
    "satthresh_set = 0.6\n",
    "def cluster_trace(cons, dataname='deaths', country='Australia', satthresh = 0.6):\n",
    "    global satthresh_set,chosen_swdic,chosen_country\n",
    "    if satthresh != satthresh_set:\n",
    "        clus.swizzle(satthresh=satthresh) # change threshold closer to 1 for more unclustered\n",
    "        chosen_swdic = clus.swdic\n",
    "        satthresh_set = satthresh\n",
    "        classes = sprintdic(chosen_swdic,chosen_country)\n",
    "        class_display.value = classes\n",
    "    try:\n",
    "        if country in cons.countries:\n",
    "            clus.plot_quantile(dataname,'own',country,title=False)\n",
    "    except:\n",
    "        clus.plot_quantile(dataname,'own','Australia',title=False)\n",
    "        \n",
    "display_countries = clus.countries        \n",
    "country_display = interactive(cluster_trace,cons=fixed(clus),dataname=clus.cases,country=clus.countries,\n",
    "                              satthresh= FloatSlider(value = 0.6,min=0.,max=1.0,step=0.01,description='cluster thresh',continuous_update=False));"
   ]
  },
  {
   "cell_type": "code",
   "execution_count": 13,
   "metadata": {
    "scrolled": false
   },
   "outputs": [],
   "source": [
    "classes = sprintdic(clus.swdic,chosen_country='Australia')\n",
    "class_display = widgets.Textarea(value=classes,layout = widgets.Layout(height='320px'))"
   ]
  },
  {
   "cell_type": "code",
   "execution_count": 14,
   "metadata": {
    "extensions": {
     "jupyter_dashboards": {
      "version": 1,
      "views": {
       "default_view": {
        "col": 0,
        "height": 2,
        "hidden": true,
        "row": 24,
        "width": 8
       }
      }
     }
    },
    "scrolled": false
   },
   "outputs": [],
   "source": [
    "#display(country_display)\n",
    "clus.make_map();"
   ]
  },
  {
   "cell_type": "code",
   "execution_count": 15,
   "metadata": {
    "extensions": {
     "jupyter_dashboards": {
      "version": 1,
      "views": {
       "default_view": {
        "col": 0,
        "height": 2,
        "hidden": false,
        "row": 28,
        "width": 12
       }
      }
     }
    },
    "scrolled": false
   },
   "outputs": [],
   "source": [
    "clus.map\n",
    "clus.map.min_height=600;"
   ]
  },
  {
   "cell_type": "markdown",
   "metadata": {},
   "source": [
    "\n",
    "\n",
    ".\n",
    "..\n",
    "0000**Alternate country_fit_trace by analogy to country_display_trace.**\n",
    "\n",
    "Notes:\n",
    "* `fit_trace()` creates the model, performs the fit, and produces the solveplot plots.\n",
    "* `fit_output_text` is a global variable, set by scooping up all of stdout during fit report."
   ]
  },
  {
   "cell_type": "code",
   "execution_count": 48,
   "metadata": {
    "scrolled": false
   },
   "outputs": [],
   "source": [
    "def data_choice(ts,strlist):\n",
    "    #print(strlist)\n",
    "    d = list(ts.keys())\n",
    "    #print(d)\n",
    "    notstrlist =['new','corrected','smoothed']\n",
    "    igstrlist =['cumulative','raw','rough']\n",
    "    for ns in notstrlist:\n",
    "        if not any(ns in s for s in strlist):\n",
    "            d = [x for x in d if not ns in x]\n",
    "    #print(d)\n",
    "    for s in strlist:\n",
    "        if not s in igstrlist:\n",
    "            if not (any('deaths' in s for s in strlist) and ('lin' in s)):\n",
    "                d = [x for x in d if s in x]\n",
    "                #print(s,d)\n",
    "    return d"
   ]
  },
  {
   "cell_type": "code",
   "execution_count": 49,
   "metadata": {
    "scrolled": false
   },
   "outputs": [],
   "source": [
    "datasrcs_widget = RadioButtons(options=['jhu','owid'],description='data src',disabled=False,layout={'width': 'max-content'}) \n",
    "data_1_widget = RadioButtons(options=['deaths','confirmed'],description='data type',disabled=False,layout={'width': 'max-content'}) \n",
    "data_2_widget = RadioButtons(options=['new','cumulative'],description='integration',disabled=False,layout={'width': 'max-content'})\n",
    "data_3_widget = RadioButtons(options=['corrected','raw'],description='correction',disabled=False,layout={'width': 'max-content'})\n",
    "data_4_widget = RadioButtons(options=['smoothed','rough'],description='smoothing',disabled=False,layout={'width': 'max-content'})\n",
    "\n",
    "datanames_widget = Dropdown(options=data_choice(bd.covid_ts,['deaths','new','corrected','smoothed','raw']),\n",
    "                            description='data chc',disabled=False,layout={'width': 'max-content'}) \n",
    "\n",
    "def datachoice_update(*args):\n",
    "    curr_option = datanames_widget.value\n",
    "    datanames_widget.options=data_choice(bd.covid_ts,[data_1_widget.value,data_2_widget.value,\n",
    "                                    data_3_widget.value,data_4_widget.value]) \n",
    "    if not curr_option in datanames_widget.options: \n",
    "        datanames_widget.value=datanames_widget.options[0]\n",
    "        \n",
    "data_1_widget.observe(datachoice_update,'value')\n",
    "data_2_widget.observe(datachoice_update,'value')\n",
    "data_3_widget.observe(datachoice_update,'value')\n",
    "data_4_widget.observe(datachoice_update,'value')\n",
    "\n",
    "dcbox = VBox([datasrcs_widget,data_1_widget,data_2_widget,data_3_widget,data_4_widget])"
   ]
  },
  {
   "cell_type": "code",
   "execution_count": 50,
   "metadata": {
    "scrolled": false
   },
   "outputs": [],
   "source": [
    "countries_common = bd.countries_common  \n",
    "countries_widget = Dropdown(options=countries_common,description='countries',layout={'width': 'max-content'},value=chosen_country)\n",
    "modelnames_widget = Dropdown(options=possmodels,description='model',layout={'width': 'max-content'},value='SC3FUEI3R')\n",
    "modelage_widget = Dropdown(options=[1,4,8,16],description='age grps',layout={'width': 'max-content'},value=1)\n",
    "fittypes = ['leastsq','nelder','differential_evolution','nelder','slsqp','shgo','cobyla','lbfgsb','bfgs','basinhopping','dual_annealing']\n",
    "fittypes_widget = Dropdown(options=fittypes,description='fit meth',layout={'width': 'max-content'},value='leastsq')\n",
    "paramtypes = ['base','ode']\n",
    "paramtypes_widget = Dropdown(options=paramtypes,description='param base/ode',value='base')\n",
    "#fit_new_params_widget = ToggleButton(value=True,description='get new params',disabled=False,button_style='',icon='check')\n",
    "fit_new_params_widget = Checkbox(value=True,description='get new params',disabled=False)\n",
    "fit_output_text = 'Fit output will be displayed here.'\n",
    "fit_display_widget = widgets.Textarea(value=fit_output_text,disabled=False,layout = widgets.Layout(height='320px',width='520px'))\n",
    "slfit\n",
    "\n",
    "def slider_fit_update(*args):\n",
    "    global MyModel,bd,agemodels,sliderparams,modelnames_widget,modelage_widget,countries_widget,slfit\n",
    "    modelname = modelnames_widget.value\n",
    "    agestructure = modelage_widget.value\n",
    "    country = countries_widget.value\n",
    "    if int(agestructure) > 1 and modelname in agemodels:\n",
    "        modelname_a = modelname+'_A'+str(agestructure)\n",
    "    elif int(agestructure) > 1:  # age structure not yet implemented for this model type\n",
    "        modelname_a = modelname\n",
    "        agestructure=1\n",
    "        modelage_widget.value = agestructure\n",
    "    else:\n",
    "        modelname_a = modelname \n",
    "    #slfit = SliderFit(modelname=modelname_a,basedata=bd,country=country,run_id=\"_sltest\",data_src='jhu')    \n",
    "    #return slfit    \n",
    "        \n",
    "\n",
    "    \n",
    "countries_widget.observe(slider_fit_update,'value')\n",
    "modelnames_widget.observe(slider_fit_update,'value')\n",
    "modelage_widget.observe(slider_fit_update,'value')\n",
    "\n",
    "def swizzle_update(*args):\n",
    "    country_display\n",
    "\n",
    "\n",
    "#def datanames_update(*args):\n",
    "#    if datasrcs_widget.value == 'jhu':\n",
    "#        datanames_widget.options = list(bd.covid_ts.keys())\n",
    "#    elif datasrcs_widget.value == 'owid':\n",
    "#        datanames_widget.options = list(bd.covid_owid_ts.keys()) \n",
    "#datasrcs_widget.observe(datanames_update,'options')\n",
    "\n",
    "def countries_update(*args):\n",
    "    global chosen_country,chosen_class,countries_common\n",
    "    #if chosen_country in countries_common:\n",
    "    countries_widget.value = country_display.children[1].value\n",
    "    # else:\n",
    "    # countries_widget.value = countries_widget.value\n",
    "    class_display.value = sprintdic(clus.swdic,chosen_country=countries_widget.value)\n",
    "\n",
    "country_display.children[1].observe(countries_update,'value')\n",
    "\n",
    "def common_trace(datasrc = 'jhu', dataname='deaths',country='Australia'):\n",
    "    global bd,countries_common\n",
    "    if country in countries_common:\n",
    "        if datasrc == 'jhu':\n",
    "            ts = bd.covid_ts\n",
    "        elif datasrc == 'owid':\n",
    "            ts = bd.covid_owid_ts\n",
    "        else:\n",
    "            print('Error in datasrc')\n",
    "        if dataname in ts:    \n",
    "            if 'deaths' in dataname:\n",
    "                plt.plot(ts[dataname][country],color='red')\n",
    "            elif 'confirmed' in dataname:\n",
    "                plt.plot(ts[dataname][country],color='green')\n",
    "        else:\n",
    "            print('dataname not found',dataname)\n",
    "            \n",
    "country_display_trace = interactive_output(common_trace,{'datasrc':datasrcs_widget,'dataname':datanames_widget,'country':countries_widget});"
   ]
  },
  {
   "cell_type": "code",
   "execution_count": 51,
   "metadata": {
    "scrolled": false
   },
   "outputs": [],
   "source": [
    "def allsliderparams(modelname,params_init_min_max={}):\n",
    "    \"\"\"\n",
    "        construct dictionary of slider widgets corresponding to \n",
    "        input params_init_min_max is the dictionary of tuples for parameter optimization (3 or 4-tuples)\n",
    "        pimm is short name for params_init_min_max\n",
    "    \"\"\"\n",
    "    pimm = params_init_min_max\n",
    "    if pimm == {}:\n",
    "        print('missing non empty dictionary params_init_min_max')\n",
    "        return\n",
    "    elif len(pimm[list(pimm.keys())[0]]) != 4:\n",
    "        print('dictionary params_init_min_max must contain tuples with 4 entries (val,min,max,step)')\n",
    "        return\n",
    "    slidedict = {}\n",
    "    slider_layout = Layout(width='400px', height='12px')\n",
    "    style = {'description_width': 'initial'}\n",
    "    slidedict.update({'param_class':fixed('base')})\n",
    "    slidedict.update({'figsize':fixed((8,5))})\n",
    "    for pm in pimm:\n",
    "        if pm != 'param_class':\n",
    "            if ((not 'Caution' in pm) or 'C' in modelname) and ((not 'Econom' in pm) or 'U' in modelname) and ((not 'Young' in pm) or '_A' in modelname) and ((not 'Fatigue' in pm) or 'F' in modelname):\n",
    "                slidedict.update({pm:FloatSlider(min=pimm[pm][1],max=pimm[pm][2],step=pimm[pm][3],value=pimm[pm][0],description=pm,\n",
    "                            style=style,\n",
    "                            layout=slider_layout,\n",
    "                            continuous_update=False,readout_format='.3f')})\n",
    "    return slidedict "
   ]
  },
  {
   "cell_type": "code",
   "execution_count": 67,
   "metadata": {
    "scrolled": false
   },
   "outputs": [],
   "source": [
    "modelname = 'SC3FUEI3R'\n",
    "MyModel =  ModelFit(modelname,basedata=bd,country='Australia',run_id=\"_test1\",data_src='jhu')\n",
    "def fit_trace(modelname='SC3FUEI3R',agestructure=1,fittype='leastsq',datasrc='jhu',country='Australia',paramtype = 'base',fit_new_params = True):\n",
    "    global bd,MyModel,params_init_min_max,params_init_min_max_slider,fit_new_params_widget\n",
    "    global sliders_widgets,sliderparams,sliders,bsliders,slbox,f2s_button,s2f_button\n",
    "    if int(agestructure) > 1 and modelname in agemodels :\n",
    "        modelname_a = modelname+'_A'+str(agestructure)\n",
    "    elif int(agestructure) > 1:  # age structure not yet implemented for this model type\n",
    "        modelname_a = modelname\n",
    "        agestructure=1\n",
    "        modelage_widget.value = agestructure\n",
    "    else:\n",
    "        modelname_a = modelname\n",
    "    try:\n",
    "        old_stdout = sys.stdout\n",
    "        sys.stdout = mystdout = io.StringIO()\n",
    "        ###############################################\n",
    "        ## do the fit\n",
    "        #MyModel = ModelFit('SC3EI3R',basedata=bd,data=ClData.clusdata_all,country=country,run_id=\"_test1\",data_src='cluster')\n",
    "        if MyModel == None or MyModel.modelname!=modelname:\n",
    "            MyModel = ModelFit(modelname_a,basedata=bd,country=country,run_id=\"_test1\",data_src=datasrc)\n",
    "                # params_init_min_max = sim_param_inits[modelname]       # sim_param_inits defined in model_fits_age.py\n",
    "            params_init_min_max = default_fit_params()\n",
    "            params_init_min_max_slider = params_init_min_max.copy()\n",
    "            # params_init_min_max_slider = MyModel.transfer_fit_to_params_init(params_init_min_max_slider)\n",
    "            sliderparams = allsliderparams(modelname,params_init_min_max_slider)\n",
    "            if sliderparams:\n",
    "                sliders_widgets=interactive_output(MyModel.slidefitplot,sliderparams)\n",
    "                sliders=VBox([w1 for w1 in list(sliderparams.values()) if isinstance(w1,Widget)])\n",
    "                bsliders=VBox([f2s_button,s2f_button,sliders])\n",
    "                slbox=HBox([sliders_widgets,bsliders])     \n",
    "        elif MyModel.country != country or MyModel.data_src != datasrc:\n",
    "            MyModel.data_src = datasrc\n",
    "            MyModel.setup_data(country)\n",
    "        if fit_new_params_widget.value:\n",
    "            if paramtype == 'ode':\n",
    "                if fit_new_params:\n",
    "                    params_init_min_max = sim_param_inits[modelname]       # sim_param_inits defined in model_fits_age.py\n",
    "                MyModel.model.parameters = {p:params_init_min_max[p][0] for p in params_init_min_max if p != 'logI_0'}\n",
    "                MyModel.params.update({p:params_init_min_max[p][0] for p in params_init_min_max if p != 'logI_0'})\n",
    "            elif paramtype == 'base':\n",
    "                if fit_new_params:\n",
    "                    params_init_min_max = default_fit_params()\n",
    "                params_in = base2params(MyModel.sbparams,MyModel.cbparams,MyModel.fbparams,modelname_a)\n",
    "                # need to check transfer of parameteres and compatibility\n",
    "            if 'logI_0' in params_init_min_max:\n",
    "                MyModel.set_I0(params_init_min_max['logI_0'][0])\n",
    "        fit_display_widget.value = \"Processing fit, please wait ...\"\n",
    "        \n",
    "        fit_ctrl = {'max_nfev':None,'ftol':0.001,'xtol':0.01,'epsfcn':0.0001} # one can try setting these to improve fit behaviour\n",
    "        #fit_ctrl = {}\n",
    "        # MyModel.fit(params_init_min_max,fit_targets=['deaths'],fit_data=['deaths_corrected_smoothed'],diag=True,report=True,conf_interval=False,fit_kws=fit_ctrl)\n",
    "        # MyModel.fit(params_init_min_max,fit_targets=['confirmed'],fit_data=['confirmed_corrected_smoothed'],diag=True,report=True,conf_interval=False,fit_kws=fit_ctrl)\n",
    "        #MyModel.fit(params_init_min_max,fit_method='differential_evolution',fit_targets=['deaths'],fit_data=['deaths_corrected_smoothed'],diag=True,report=True,conf_interval=False,fit_kws=fit_ctrl)\n",
    "\n",
    "        if fittype=='leastsq':\n",
    "            MyModel.fit(params_init_min_max,param_class=paramtype,fit_method='leastsq',fit_targets=['deaths','confirmed'],fit_data='default',diag=False,report=True,conf_interval=False,fit_kws=fit_ctrl)\n",
    "        else:\n",
    "            MyModel.fit(params_init_min_max,param_class=paramtype,fit_method=fittype,fit_targets=['deaths','confirmed'],fit_data='default',diag=False,report=True,conf_interval=False)\n",
    "        #MyModel.fit(params_init_min_max,fit_method='nelder',fit_targets=['deaths'],fit_data='default',diag=True,report=True,conf_interval=False)\n",
    "        # MyModel.fit(params_init_min_max,fit_targets=['deaths','confirmed'],fit_data=['deaths_corrected_smoothed','confirmed_corrected_smoothed'])\n",
    "        ax=MyModel.solveplot(['deaths','confirmed','caution_fraction','economy'],\n",
    "                      datasets=['deaths_corrected_smoothed','confirmed_corrected_smoothed'],\n",
    "                      mag={'deaths':30.},newplot=True,figsize=(8,5));\n",
    "        fit_display_widget.value = mystdout.getvalue()   #  fit_output_widget global.\n",
    "    finally:\n",
    "        sys.stdout = old_stdout\n",
    "\n",
    "#country_fit_trace = interactive_output(fit_trace,{'modelname':modelnames_widget,'fittype':fittypes_widget,'datasrc':datasrcs_widget,'dataname':datanames_widget,'country':countries_widget});\n",
    "country_fit_trace = interactive_output(fit_trace,{'modelname':modelnames_widget,'agestructure':modelage_widget,'fittype':fittypes_widget,\n",
    "                                                  'datasrc':datasrcs_widget,'country':countries_widget,'paramtype':paramtypes_widget,'fit_new_params':fit_new_params_widget});"
   ]
  },
  {
   "cell_type": "code",
   "execution_count": 68,
   "metadata": {
    "scrolled": true
   },
   "outputs": [],
   "source": [
    "def getsliderparams(sliderparams):\n",
    "    \"\"\"\n",
    "        use dictionary of slider widgets to get params_init_min_max \n",
    "        which is the dictionary of tuples for parameter optimization (4-tuples)\n",
    "    \"\"\"\n",
    "    params_init_min_max = {}\n",
    "    for pm in sliderparams.keys():\n",
    "        #print('pm',pm,'value',sliderparams[pm].value)\n",
    "        if pm != 'param_class' and pm != 'figsize':\n",
    "            params_init_min_max.update({pm:(sliderparams[pm].value,sliderparams[pm].min,sliderparams[pm].max,sliderparams[pm].step)})\n",
    "    return params_init_min_max"
   ]
  },
  {
   "cell_type": "code",
   "execution_count": 69,
   "metadata": {
    "scrolled": true
   },
   "outputs": [],
   "source": [
    "def setsliderparams(params_init_min_max={},sliderparams={}):\n",
    "    \"\"\"\n",
    "        set values and limits in dictionary of slider widgets from params_init_min_max \n",
    "    \"\"\"\n",
    "    pimm = params_init_min_max\n",
    "    if pimm == {} or sliderparams == {}:\n",
    "        print('missing dictionary params_init_min_max or sliderparams')\n",
    "        return\n",
    "    elif len(pimm[list(pimm.keys())[0]]) != 4:\n",
    "        print('dictionary params_init_min_max must contain tuples with 4 entries (val,min,max,step)')\n",
    "        return\n",
    "    for pm in pimm:\n",
    "        #print('pm',pm,'value',sliderparams[pm].value)\n",
    "        if pm != 'param_class' and pm != 'figsize' and pm in sliderparams:\n",
    "            sliderparams[pm].value= pimm[pm][0]\n",
    "            sliderparams[pm].min= pimm[pm][1]\n",
    "            sliderparams[pm].max= pimm[pm][2]\n",
    "            sliderparams[pm].step= pimm[pm][3]\n",
    "    return"
   ]
  },
  {
   "cell_type": "code",
   "execution_count": 70,
   "metadata": {
    "scrolled": true
   },
   "outputs": [],
   "source": [
    "s2f_button = widgets.Button(description=\"Transfer to fit ICs\")\n",
    "def s2f_on_button_clicked(b):\n",
    "    global params_init_min_max, sliderparams\n",
    "    params_init_min_max = getsliderparams(sliderparams)\n",
    "\n",
    "s2f_button.on_click(s2f_on_button_clicked)"
   ]
  },
  {
   "cell_type": "code",
   "execution_count": 71,
   "metadata": {
    "scrolled": true
   },
   "outputs": [],
   "source": [
    "f2s_button = widgets.Button(description=\"Transfer ICs from fit\")\n",
    "def f2s_on_button_clicked(b):\n",
    "    global params_init_min_max, sliderparams\n",
    "    setsliderparams(params_init_min_max,sliderparams)\n",
    "\n",
    "f2s_button.on_click(f2s_on_button_clicked)"
   ]
  },
  {
   "cell_type": "code",
   "execution_count": 72,
   "metadata": {
    "scrolled": false
   },
   "outputs": [
    {
     "data": {
      "application/vnd.jupyter.widget-view+json": {
       "model_id": "04e26103632444fba94c55689afd70f7",
       "version_major": 2,
       "version_minor": 0
      },
      "text/plain": [
       "VBox(children=(HBox(children=(interactive(children=(Dropdown(description='dataname', options=('deaths', 'cases…"
      ]
     },
     "metadata": {},
     "output_type": "display_data"
    }
   ],
   "source": [
    "cbox = VBox([datanames_widget,countries_widget,country_display_trace])  \n",
    "choicebox = HBox([modelnames_widget, modelage_widget, fittypes_widget])\n",
    "modbox=HBox([paramtypes_widget, fit_new_params_widget])\n",
    "sbox = VBox([choicebox,modbox,country_fit_trace])\n",
    "myhbox1 = HBox([country_display,class_display,dcbox,cbox])\n",
    "myhbox2 = HBox([sbox,VBox([Label('Fit output data'),fit_display_widget]),slbox])\n",
    "#myhbox2 = HBox([sbox])\n",
    "#myhbox2 = [country_fit_trace]\n",
    "#VBox([mybox,clus.map]) \n",
    "VBox([myhbox1,myhbox2,clus.map])\n",
    "#VBox([myhbox1,myhbox2])"
   ]
  },
  {
   "cell_type": "code",
   "execution_count": 45,
   "metadata": {
    "scrolled": false
   },
   "outputs": [],
   "source": [
    "modelname = 'SC3FUEI3R'\n",
    "MyModel = ModelFit(modelname,basedata=bd,country='Australia',run_id=\"_test1\",data_src='jhu')\n",
    "params_init_min_max = sim_param_inits[modelname]       # sim_param_inits defined in model_fits_age.py\n",
    "params_init_min_max = default_fit_params()\n",
    "params_init_min_max_slider = params_init_min_max.copy()\n",
    "params_init_min_max_slider = MyModel.transfer_fit_to_params_init(params_init_min_max_slider)\n",
    "\n",
    "\n",
    "#sliderparams = MyModel.allsliderparams(params_init_min_max_slider)\n",
    "sliderparams = allsliderparams(modelname,params_init_min_max_slider)\n",
    "sliderparams.update({'param_class':fixed('ode')})"
   ]
  },
  {
   "cell_type": "code",
   "execution_count": 34,
   "metadata": {
    "scrolled": true
   },
   "outputs": [],
   "source": [
    "setsliderparams(params_init_min_max,sliderparams)"
   ]
  },
  {
   "cell_type": "code",
   "execution_count": 35,
   "metadata": {
    "scrolled": false
   },
   "outputs": [],
   "source": [
    "if MyModel.model._explicitOde is False: # only for all models without U in name and for all age models, defined by transitions not explicit ODE\n",
    "    MyModel.model.get_transition_graph() "
   ]
  },
  {
   "cell_type": "code",
   "execution_count": 32,
   "metadata": {
    "scrolled": false
   },
   "outputs": [
    {
     "data": {
      "text/plain": [
       "{'beta_1': 0.4,\n",
       " 'beta_2': 0.0,\n",
       " 'beta_3': 0.0,\n",
       " 'alpha': 0.2,\n",
       " 'gamma_1': 0.06999999999999999,\n",
       " 'gamma_2': 0.16666666666666669,\n",
       " 'gamma_3': 0.1,\n",
       " 'p_1': 0.030000000000000013,\n",
       " 'p_2': 0.08333333333333333,\n",
       " 'mu': 0.1,\n",
       " 'c_0': 0.1,\n",
       " 'c_1': 0.016666666666666666,\n",
       " 'c_2': 10.0,\n",
       " 'c_4': 0.016666666666666666,\n",
       " 'k_u': 0.03333333333333333,\n",
       " 'k_1': 0.016666666666666666,\n",
       " 'k_w': 0.016666666666666666,\n",
       " 'kappa': 0.5,\n",
       " 'N': 1}"
      ]
     },
     "execution_count": 32,
     "metadata": {},
     "output_type": "execute_result"
    }
   ],
   "source": [
    "MyModel.params"
   ]
  },
  {
   "cell_type": "code",
   "execution_count": 65,
   "metadata": {
    "scrolled": false
   },
   "outputs": [],
   "source": [
    "# params_init_min_max = sim_param_inits[modelname]       # sim_param_inits defined in model_fits_age.py\n",
    "params_init_min_max = default_fit_params()\n",
    "params_init_min_max_slider = params_init_min_max.copy()\n",
    "# params_init_min_max_slider = MyModel.transfer_fit_to_params_init(params_init_min_max_slider)\n",
    "sliderparams = allsliderparams(modelname,params_init_min_max_slider)\n",
    "if sliderparams:\n",
    "    sliders_widgets=interactive_output(MyModel.slidefitplot,sliderparams)\n",
    "    sliders=VBox([w1 for w1 in list(sliderparams.values()) if isinstance(w1,Widget)])\n",
    "    bsliders=VBox([f2s_button,s2f_button,sliders])\n",
    "    slbox=HBox([sliders_widgets,bsliders])"
   ]
  },
  {
   "cell_type": "markdown",
   "metadata": {},
   "source": [
    "# SliderFit for Dashboard"
   ]
  },
  {
   "cell_type": "code",
   "execution_count": 73,
   "metadata": {},
   "outputs": [],
   "source": [
    "exec(open('ModelFit.py','r').read())"
   ]
  },
  {
   "cell_type": "code",
   "execution_count": 87,
   "metadata": {
    "scrolled": true
   },
   "outputs": [],
   "source": [
    "s2f_button = widgets.Button(description=\"Transfer to fit ICs\")\n",
    "def s2f_on_button_clicked(b):\n",
    "    global params_init_min_max, sliderparams\n",
    "    params_init_min_max = getsliderparams(sliderparams)\n",
    "\n",
    "s2f_button.on_click(s2f_on_button_clicked)"
   ]
  },
  {
   "cell_type": "code",
   "execution_count": 88,
   "metadata": {
    "scrolled": true
   },
   "outputs": [],
   "source": [
    "f2s_button = widgets.Button(description=\"Transfer ICs from fit\")\n",
    "def f2s_on_button_clicked(b):\n",
    "    global params_init_min_max, sliderparams\n",
    "    setsliderparams(params_init_min_max,sliderparams)\n",
    "\n",
    "f2s_button.on_click(f2s_on_button_clicked)"
   ]
  },
  {
   "cell_type": "code",
   "execution_count": 89,
   "metadata": {},
   "outputs": [
    {
     "data": {
      "application/vnd.jupyter.widget-view+json": {
       "model_id": "677fa1a92bd941319a39442d4802c781",
       "version_major": 2,
       "version_minor": 0
      },
      "text/plain": [
       "VBox(children=(Dropdown(description='model', index=8, layout=Layout(width='max-content'), options=('SIR', 'SCI…"
      ]
     },
     "metadata": {},
     "output_type": "display_data"
    }
   ],
   "source": [
    "modelname = 'SC3FEI3R'\n",
    "country = 'United States'\n",
    "slfit = None\n",
    "#slfit = SliderFit(modelname=modelname,basedata=bd,country=country,run_id=\"_sltest\",data_src='jhu')\n",
    "#slfit.slbox\n",
    "from ipywidgets.widgets import Text\n",
    "runid_widget = Text(value=None,placeholder='Enter run id',description='Run_id:',disabled=False)\n",
    "#,'paramtype':paramtypes_widget,'fit_new_params':fit_new_params_widget\n",
    "#'agestructure':modelage_widget,'fittype':fittypes_widget,\n",
    "def slider_fit(modelname=modelname,basedata=bd,country=country,run_id=\"_sltest\",data_src='jhu'):\n",
    "    global slfit\n",
    "    slfit = SliderFit(modelname=modelname,basedata=basedata,country=country,run_id=run_id,data_src=data_src)\n",
    "    display(slfit.slbox)\n",
    "    \n",
    "slfit_widget = interactive_output(slider_fit,{'modelname':modelnames_widget,'basedata':fixed(bd),'country':countries_widget,'run_id':runid_widget,\n",
    "                                                  'data_src':datasrcs_widget});\n",
    "slall=VBox([modelnames_widget,countries_widget,datasrcs_widget,runid_widget,f2s_button,s2f_button,slfit_widget]);\n",
    "display(slall)"
   ]
  },
  {
   "cell_type": "markdown",
   "metadata": {
    "scrolled": true
   },
   "source": [
    "# SliderFit"
   ]
  },
  {
   "cell_type": "code",
   "execution_count": 33,
   "metadata": {},
   "outputs": [],
   "source": [
    "exec(open('ModelFit.py','r').read())"
   ]
  },
  {
   "cell_type": "code",
   "execution_count": 34,
   "metadata": {},
   "outputs": [
    {
     "data": {
      "application/vnd.jupyter.widget-view+json": {
       "model_id": "47b4062e33ff4bc08699501c79e428f9",
       "version_major": 2,
       "version_minor": 0
      },
      "text/plain": [
       "HBox(children=(Output(), VBox(children=(FloatSlider(value=0.4, continuous_update=False, description='beta_1', …"
      ]
     },
     "metadata": {},
     "output_type": "display_data"
    }
   ],
   "source": [
    "modelname = 'SC3FEI3R'\n",
    "country = 'United States'\n",
    "slfit = SliderFit(modelname=modelname,basedata=bd,country=country,run_id=\"_sltest\",data_src='jhu')\n",
    "slfit.slbox\n"
   ]
  },
  {
   "cell_type": "code",
   "execution_count": 35,
   "metadata": {},
   "outputs": [
    {
     "data": {
      "text/plain": [
       "{'beta_1': 0.4,\n",
       " 'beta_2': 0.0,\n",
       " 'beta_3': 0.0,\n",
       " 'alpha': 0.2,\n",
       " 'gamma_1': 0.06999999999999999,\n",
       " 'gamma_2': 0.16666666666666669,\n",
       " 'gamma_3': 0.1,\n",
       " 'p_1': 0.030000000000000013,\n",
       " 'p_2': 0.08333333333333333,\n",
       " 'mu': 0.1,\n",
       " 'c_0': 0.1,\n",
       " 'c_1': 0.016666666666666666,\n",
       " 'c_2': 10.0,\n",
       " 'c_4': 0.016666666666666666,\n",
       " 'N': 1}"
      ]
     },
     "execution_count": 35,
     "metadata": {},
     "output_type": "execute_result"
    }
   ],
   "source": [
    "slfit.params"
   ]
  },
  {
   "cell_type": "code",
   "execution_count": 36,
   "metadata": {},
   "outputs": [
    {
     "data": {
      "text/plain": [
       "{'beta_1': (0.4, 0.0, 1.2, 0.001),\n",
       " 'alpha': (0.2, 0.0, 1.0, 0.001),\n",
       " 'mu': (0.05, 0.0, 0.5, 0.001),\n",
       " 'c_0': (0.1, 0.0, 1.0, 0.001),\n",
       " 'c_1': (0.07, 0.0, 0.1, 0.001),\n",
       " 'c_2': (5.0, 1.0, 200.0, 0.01),\n",
       " 'c_4': (0.07, 0.0, 0.1, 0.001),\n",
       " 'logI_0': (-6.0, -12.0, -3.0, 0.001)}"
      ]
     },
     "execution_count": 36,
     "metadata": {},
     "output_type": "execute_result"
    }
   ],
   "source": [
    "slfit.params_init_min_max"
   ]
  },
  {
   "cell_type": "code",
   "execution_count": 37,
   "metadata": {},
   "outputs": [],
   "source": [
    "slfit.transfer_cur_to_params_init()"
   ]
  },
  {
   "cell_type": "code",
   "execution_count": 24,
   "metadata": {},
   "outputs": [
    {
     "data": {
      "text/plain": [
       "{'beta_1': (0.558, 0.0, 1.2, 0.001),\n",
       " 'alpha': (0.2, 0.0, 1.0, 0.001),\n",
       " 'mu': (0.1, 0.0, 0.5, 0.001),\n",
       " 'c_0': (0.1, 0.0, 1.0, 0.001),\n",
       " 'c_1': (0.016, 0.0, 0.1, 0.001),\n",
       " 'c_2': (5.55, 1.0, 200.0, 0.01),\n",
       " 'c_4': (0.007, 0.0, 0.1, 0.001),\n",
       " 'logI_0': (-8.691, -12.0, -3.0, 0.001)}"
      ]
     },
     "execution_count": 24,
     "metadata": {},
     "output_type": "execute_result"
    }
   ],
   "source": [
    "slfit.params_init_min_max"
   ]
  },
  {
   "cell_type": "code",
   "execution_count": 25,
   "metadata": {},
   "outputs": [
    {
     "name": "stdout",
     "output_type": "stream",
     "text": [
      "elapsed time =  4.934804439544678\n",
      "Param c_2 within 2.34 % of min.\n",
      "[[Fit Statistics]]\n",
      "    # fitting method   = leastsq\n",
      "    # function evals   = 184\n",
      "    # data points      = 307\n",
      "    # variables        = 8\n",
      "    chi-square         = 0.37084638\n",
      "    reduced chi-square = 0.00124029\n",
      "    Akaike info crit   = -2046.67624\n",
      "    Bayesian info crit = -2016.86146\n",
      "[[Variables]]\n",
      "    beta_1:  0.63453780 +/- 1.01432327 (159.85%) (init = 0.558)\n",
      "    alpha:   0.31809628 +/- 1.14385439 (359.59%) (init = 0.2)\n",
      "    mu:      0.05217084 +/- 0.19157717 (367.21%) (init = 0.1)\n",
      "    c_0:     0.20362260 +/- 0.29702897 (145.87%) (init = 0.1)\n",
      "    c_1:     0.01651694 +/- 0.01140906 (69.07%) (init = 0.016)\n",
      "    c_2:     5.66219545 +/- 24.0086027 (424.02%) (init = 5.55)\n",
      "    c_4:     0.02925412 +/- 0.01444742 (49.39%) (init = 0.007)\n",
      "    logI_0: -9.71460149 +/- 1.09293698 (11.25%) (init = -8.691)\n",
      "[[Correlations]] (unreported correlations are < 0.100)\n",
      "    C(beta_1, alpha)  = -1.000\n",
      "    C(mu, c_2)        =  0.998\n",
      "    C(mu, logI_0)     = -0.998\n",
      "    C(c_2, logI_0)    = -0.993\n",
      "    C(beta_1, c_0)    = -0.980\n",
      "    C(alpha, c_2)     = -0.980\n",
      "    C(alpha, c_0)     =  0.979\n",
      "    C(beta_1, c_2)    =  0.979\n",
      "    C(alpha, mu)      = -0.967\n",
      "    C(beta_1, mu)     =  0.966\n",
      "    C(alpha, logI_0)  =  0.949\n",
      "    C(beta_1, logI_0) = -0.949\n",
      "    C(c_0, c_2)       = -0.927\n",
      "    C(mu, c_0)        = -0.906\n",
      "    C(c_0, logI_0)    =  0.880\n",
      "    C(c_1, c_4)       =  0.787\n",
      "    C(c_4, logI_0)    =  0.574\n",
      "    C(mu, c_4)        = -0.569\n",
      "    C(c_2, c_4)       = -0.568\n",
      "    C(alpha, c_4)     =  0.531\n",
      "    C(beta_1, c_4)    = -0.531\n",
      "    C(c_0, c_4)       =  0.390\n",
      "    C(c_1, logI_0)    =  0.320\n",
      "    C(mu, c_1)        = -0.281\n",
      "    C(c_1, c_2)       = -0.248\n",
      "    C(alpha, c_1)     =  0.108\n",
      "    C(beta_1, c_1)    = -0.107\n"
     ]
    }
   ],
   "source": [
    "slfit.fit()"
   ]
  },
  {
   "cell_type": "code",
   "execution_count": 27,
   "metadata": {},
   "outputs": [
    {
     "data": {
      "text/plain": [
       "<AxesSubplot:>"
      ]
     },
     "execution_count": 27,
     "metadata": {},
     "output_type": "execute_result"
    },
    {
     "data": {
      "image/png": "[encoded data removed]",
      "text/plain": [
       "<Figure size 576x360 with 2 Axes>"
      ]
     },
     "metadata": {
      "needs_background": "light"
     },
     "output_type": "display_data"
    }
   ],
   "source": [
    "slfit.solveplot(['deaths','confirmed','caution_fraction','economy'],\n",
    "                      datasets=['deaths_corrected_smoothed','confirmed_corrected_smoothed'],\n",
    "                      mag={'deaths':30.},newplot=True,figsize=(8,5))"
   ]
  },
  {
   "cell_type": "code",
   "execution_count": 28,
   "metadata": {},
   "outputs": [
    {
     "data": {
      "text/plain": [
       "{'beta_1': 0.6345378034554706,\n",
       " 'beta_2': 0.0,\n",
       " 'beta_3': 0.0,\n",
       " 'alpha': 0.3180962781230594,\n",
       " 'gamma_1': 0.06999999999999999,\n",
       " 'gamma_2': 0.16666666666666669,\n",
       " 'gamma_3': 0.1,\n",
       " 'p_1': 0.030000000000000013,\n",
       " 'p_2': 0.08333333333333333,\n",
       " 'mu': 0.05217083622691468,\n",
       " 'c_0': 0.20362260061551557,\n",
       " 'c_1': 0.01651694405583462,\n",
       " 'c_2': 5.6621954543746735,\n",
       " 'c_4': 0.029254116252873365,\n",
       " 'N': 1}"
      ]
     },
     "execution_count": 28,
     "metadata": {},
     "output_type": "execute_result"
    }
   ],
   "source": [
    "slfit.params"
   ]
  },
  {
   "cell_type": "code",
   "execution_count": null,
   "metadata": {},
   "outputs": [],
   "source": []
  }
 ],
 "metadata": {
  "colab": {
   "collapsed_sections": [
    "UUG85HqL2QEt",
    "ZuuEGEUpiHEX"
   ],
   "name": "part_three.ipynb",
   "provenance": []
  },
  "kernelspec": {
   "display_name": "Python 3",
   "language": "python",
   "name": "python3"
  },
  "language_info": {
   "codemirror_mode": {
    "name": "ipython",
    "version": 3
   },
   "file_extension": ".py",
   "mimetype": "text/x-python",
   "name": "python",
   "nbconvert_exporter": "python",
   "pygments_lexer": "ipython3",
   "version": "3.7.4"
  },
  "toc": {
   "base_numbering": 1,
   "nav_menu": {
    "height": "510px",
    "width": "221px"
   },
   "number_sections": true,
   "sideBar": true,
   "skip_h1_title": false,
   "title_cell": "Table of Contents",
   "title_sidebar": "Contents",
   "toc_cell": false,
   "toc_position": {
    "height": "1102.6666259765625px",
    "left": "0px",
    "top": "121px",
    "width": "398.0625px"
   },
   "toc_section_display": true,
   "toc_window_display": false
  }
 },
 "nbformat": 4,
 "nbformat_minor": 1
}
