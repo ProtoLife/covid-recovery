{
 "cells": [
  {
   "cell_type": "markdown",
   "metadata": {
    "colab_type": "text",
    "id": "zWWq3zgge-R3"
   },
   "source": [
    "# Imports"
   ]
  },
  {
   "cell_type": "code",
   "execution_count": 1,
   "metadata": {
    "_cell_guid": "79c7e3d0-c299-4dcb-8224-4455121ee9b0",
    "_uuid": "d629ff2d2480ee46fbb7e2d37f6b5fab8052498a",
    "colab": {
     "base_uri": "https://localhost:8080/",
     "height": 607
    },
    "colab_type": "code",
    "id": "NHHL1iKyYN5-",
    "outputId": "c3af6e28-02ba-4ebf-d5dd-be29f9a68368"
   },
   "outputs": [
    {
     "data": {
      "text/html": [
       "<style>.container { width:100% !important; }</style>"
      ],
      "text/plain": [
       "<IPython.core.display.HTML object>"
      ]
     },
     "metadata": {},
     "output_type": "display_data"
    }
   ],
   "source": [
    "#%matplotlib notebook\n",
    "%matplotlib inline \n",
    "\n",
    "\n",
    "import matplotlib\n",
    "import seaborn as sb\n",
    "from matplotlib import pyplot as plt\n",
    "import matplotlib.dates as mdates\n",
    "import holoviews as hv\n",
    "\n",
    "import numpy as np\n",
    "import pandas as pd\n",
    "pd.options.mode.chained_assignment = None  # default='warn'\n",
    "import pickle as pk\n",
    "from time import time\n",
    "import io\n",
    "\n",
    "import datetime\n",
    "import sys\n",
    "\n",
    "from IPython.display import display, HTML\n",
    "from ipywidgets import widgets\n",
    "from ipywidgets.widgets import interact, interactive, interactive_output, fixed \n",
    "from ipywidgets.widgets import IntSlider, FloatSlider, Layout, ToggleButton, ToggleButtons, RadioButtons, Dropdown, Button, HBox, VBox, Label\n",
    "\n",
    "#  !pip3 install mpld3\n",
    "# import mpld3\n",
    "#pld3.enable_notebook() causes plotting to not work???\n",
    "\n",
    "from scipy.integrate import odeint\n",
    "# !pip3 install lmfit\n",
    "import lmfit\n",
    "from lmfit.lineshapes import gaussian, lorentzian, exponential\n",
    "\n",
    "from time import time\n",
    "import warnings\n",
    "warnings.filterwarnings('ignore')\n",
    "# JSM added\n",
    "# from IPython.core.display import display, HTML\n",
    "display(HTML(\"<style>.container { width:100% !important; }</style>\"))"
   ]
  },
  {
   "cell_type": "code",
   "execution_count": 2,
   "metadata": {},
   "outputs": [],
   "source": [
    "from Cluster import * "
   ]
  },
  {
   "cell_type": "code",
   "execution_count": 3,
   "metadata": {},
   "outputs": [
    {
     "name": "stdout",
     "output_type": "stream",
     "text": [
      "reading in data from data_all_base ...\n",
      "elapsed:  6.901907205581665\n"
     ]
    }
   ],
   "source": [
    "bd = BaseData('data_all_base')"
   ]
  },
  {
   "cell_type": "code",
   "execution_count": 4,
   "metadata": {},
   "outputs": [
    {
     "name": "stdout",
     "output_type": "stream",
     "text": [
      "reading in data from ./pks/data_cluster_JRT1.pk ...\n"
     ]
    }
   ],
   "source": [
    "# run \n",
    "# clusdtypes should be in ['JRP1','ORP1','JWP1','OWP1','JRT1','ORT1','JWT1','OWT1']\n",
    "# database JHU/OWID  (J/O) \n",
    "# report_correct T or F   (R/W)\n",
    "# syncat peak/thresh  (P/T)\n",
    "clusdtype='JRT1'\n",
    "ClData = get_cluster_data(clusdtype)"
   ]
  },
  {
   "cell_type": "code",
   "execution_count": 5,
   "metadata": {},
   "outputs": [],
   "source": [
    "exec(open('ClusterFit.py','r').read())"
   ]
  },
  {
   "cell_type": "code",
   "execution_count": 6,
   "metadata": {},
   "outputs": [
    {
     "name": "stdout",
     "output_type": "stream",
     "text": [
      "data already loaded, so no \"from data import *\" required.\n",
      "making the models...\n",
      "SC2UIR\n",
      "SC2FIR\n",
      "SCFEIR\n",
      "SC3FEIR\n",
      "SEI3R\n",
      "SC3FEI3R\n",
      "SC2FUIR\n",
      "SC3FUEI3R\n",
      "done with the models.\n"
     ]
    }
   ],
   "source": [
    "# changed to use model_fits_age : this is backwards compatible and only loads data if needed\n",
    "import data_config\n",
    "data_config.data_loaded = True    \n",
    "from model_fits_age import *  # including ModelFit class definition. "
   ]
  },
  {
   "cell_type": "code",
   "execution_count": 7,
   "metadata": {},
   "outputs": [
    {
     "name": "stdout",
     "output_type": "stream",
     "text": [
      "198 countries with population data\n",
      "common countries without population data []\n",
      "74 cluster countries\n"
     ]
    }
   ],
   "source": [
    "# eliminate countries with no population data (needed for normalizing death stats for fits)\n",
    "\n",
    "#for country in countries:\n",
    "#    if population_owid[country][0] == 0:\n",
    "#        print(country)\n",
    "        \n",
    "countries = [cc for cc in bd.countries_common if bd.population_owid[cc][-2] > 0]\n",
    "print(len(countries),'countries with population data')\n",
    "countries_zp = [cc for cc in bd.countries_common if bd.population_owid[cc][-2] == 0]\n",
    "print('common countries without population data',countries_zp)\n",
    "cluster_countries = [c for c in ClData.clusdata_all['deaths']]\n",
    "print(len(cluster_countries),'cluster countries')\n"
   ]
  },
  {
   "cell_type": "code",
   "execution_count": 8,
   "metadata": {},
   "outputs": [
    {
     "data": {
      "text/plain": [
       "['SC2UIR',\n",
       " 'SC2FIR',\n",
       " 'SCFEIR',\n",
       " 'SC3FEIR',\n",
       " 'SEI3R',\n",
       " 'SC3FEI3R',\n",
       " 'SC2FUIR',\n",
       " 'SC3FUEI3R']"
      ]
     },
     "execution_count": 8,
     "metadata": {},
     "output_type": "execute_result"
    }
   ],
   "source": [
    "[x for x in fullmodels]"
   ]
  },
  {
   "cell_type": "markdown",
   "metadata": {
    "extensions": {
     "jupyter_dashboards": {
      "version": 1,
      "views": {
       "default_view": {
        "col": 0,
        "height": 2,
        "hidden": false,
        "row": 0,
        "width": 12
       }
      }
     }
    }
   },
   "source": [
    "**Consensus clustering and map**"
   ]
  },
  {
   "cell_type": "code",
   "execution_count": 9,
   "metadata": {
    "extensions": {
     "jupyter_dashboards": {
      "version": 1,
      "views": {
       "default_view": {
        "col": 0,
        "height": 2,
        "hidden": false,
        "row": 2,
        "width": 12
       }
      }
     }
    }
   },
   "outputs": [
    {
     "data": {
      "text/html": [
       "<style>.container { width:100% !important; }</style>"
      ],
      "text/plain": [
       "<IPython.core.display.HTML object>"
      ]
     },
     "metadata": {},
     "output_type": "display_data"
    }
   ],
   "source": [
    "# from Consensus import *\n",
    "# NB:  scoping problem seems to prevent import from working properly.\n",
    "# instead use exec below.\n",
    "country_display = None\n",
    "class_display = None\n",
    "display_countries = None\n",
    "chosen_country = 'Australia'\n",
    "current_country = 'Australia'\n",
    "chosen_class = -1\n",
    "current_class = -1\n",
    "geog = None\n",
    "geog1 = None\n",
    "exec(open('Consensus.py','r').read());"
   ]
  },
  {
   "cell_type": "code",
   "execution_count": 10,
   "metadata": {
    "extensions": {
     "jupyter_dashboards": {
      "version": 1,
      "views": {
       "default_view": {
        "col": 0,
        "height": 2,
        "hidden": false,
        "row": 30,
        "width": 12
       }
      }
     }
    }
   },
   "outputs": [],
   "source": [
    "#foo = Consensus(cases=['deaths','cases','cases_nonlinr'])\n",
    "#clus = Consensus(ClData,cases = ['deaths','cases','cases_lin2020','cases_pwlfit','cases_nonlin','cases_nonlinr']);\n",
    "clus = Consensus(ClData,cases = ['deaths','cases','cases_nonlinr']);"
   ]
  },
  {
   "cell_type": "code",
   "execution_count": 11,
   "metadata": {},
   "outputs": [
    {
     "data": {
      "application/vnd.jupyter.widget-view+json": {
       "model_id": "e2aa26c8bb844ef9b84cc20693148316",
       "version_major": 2,
       "version_minor": 0
      },
      "text/plain": [
       "HBox(children=(FloatProgress(value=0.0, description='loop over cases', max=3.0, style=ProgressStyle(descriptio…"
      ]
     },
     "metadata": {},
     "output_type": "display_data"
    },
    {
     "name": "stdout",
     "output_type": "stream",
     "text": [
      "\n",
      "74 countries\n",
      "reference clustering (numbered from 0) is 7\n"
     ]
    },
    {
     "data": {
      "image/png": "[encoded data removed]",
      "text/plain": [
       "<Figure size 720x1728 with 1 Axes>"
      ]
     },
     "metadata": {
      "needs_background": "light"
     },
     "output_type": "display_data"
    }
   ],
   "source": [
    "clus.scan() #clus.scan(diag=True) for diagnostic output\n",
    "clus.make_clusters()\n",
    "clus.swizzle(satthresh=0.6) # change threshold closer to 1 for more unclustered\n",
    "clus.plot_swiz()\n",
    "chosen_swdic = clus.swdic"
   ]
  },
  {
   "cell_type": "code",
   "execution_count": 12,
   "metadata": {
    "extensions": {
     "jupyter_dashboards": {
      "version": 1,
      "views": {
       "default_view": {
        "hidden": true
       }
      }
     }
    }
   },
   "outputs": [],
   "source": [
    "satthresh_set = 0.6\n",
    "def cluster_trace(cons, dataname='deaths', country='Australia', satthresh = 0.6):\n",
    "    global satthresh_set,chosen_swdic,chosen_country\n",
    "    if satthresh != satthresh_set:\n",
    "        clus.swizzle(satthresh=satthresh) # change threshold closer to 1 for more unclustered\n",
    "        chosen_swdic = clus.swdic\n",
    "        satthresh_set = satthresh\n",
    "        classes = sprintdic(chosen_swdic,chosen_country)\n",
    "        class_display.value = classes\n",
    "    try:\n",
    "        if country in cons.countries:\n",
    "            clus.plot_quantile(dataname,'own',country,title=False)\n",
    "    except:\n",
    "        clus.plot_quantile(dataname,'own','Australia',title=False)\n",
    "        \n",
    "display_countries = clus.countries        \n",
    "country_display = interactive(cluster_trace,cons=fixed(clus),dataname=clus.cases,country=clus.countries,\n",
    "                              satthresh= FloatSlider(value = 0.6,min=0.,max=1.0,step=0.01,description='cluster thresh',continuous_update=False));"
   ]
  },
  {
   "cell_type": "code",
   "execution_count": 13,
   "metadata": {},
   "outputs": [],
   "source": [
    "classes = sprintdic(clus.swdic,chosen_country='Australia')\n",
    "class_display = widgets.Textarea(value=classes,layout = widgets.Layout(height='320px'))"
   ]
  },
  {
   "cell_type": "code",
   "execution_count": 14,
   "metadata": {
    "extensions": {
     "jupyter_dashboards": {
      "version": 1,
      "views": {
       "default_view": {
        "col": 0,
        "height": 2,
        "hidden": true,
        "row": 24,
        "width": 8
       }
      }
     }
    }
   },
   "outputs": [],
   "source": [
    "#display(country_display)\n",
    "clus.make_map();"
   ]
  },
  {
   "cell_type": "code",
   "execution_count": 15,
   "metadata": {
    "extensions": {
     "jupyter_dashboards": {
      "version": 1,
      "views": {
       "default_view": {
        "col": 0,
        "height": 2,
        "hidden": false,
        "row": 28,
        "width": 12
       }
      }
     }
    }
   },
   "outputs": [],
   "source": [
    "clus.map;\n",
    "clus.map.min_height=600;"
   ]
  },
  {
   "cell_type": "markdown",
   "metadata": {},
   "source": [
    "**Alternate country_fit_trace by analogy to country_display_trace.**\n",
    "\n",
    "Notes:\n",
    "* `fit_trace()` creates the model, performs the fit, and produces the solveplot plots.\n",
    "* `fit_output_text` is a global variable, set by scooping up all of stdout during fit report."
   ]
  },
  {
   "cell_type": "code",
   "execution_count": 16,
   "metadata": {},
   "outputs": [],
   "source": [
    "def data_choice(ts,strlist):\n",
    "    #print(strlist)\n",
    "    d = list(ts.keys())\n",
    "    #print(d)\n",
    "    notstrlist =['new','corrected','smoothed']\n",
    "    igstrlist =['cumulative','raw','rough']\n",
    "    for ns in notstrlist:\n",
    "        if not any(ns in s for s in strlist):\n",
    "            d = [x for x in d if not ns in x]\n",
    "    #print(d)\n",
    "    for s in strlist:\n",
    "        if not s in igstrlist:\n",
    "            if not (any('deaths' in s for s in strlist) and ('lin' in s)):\n",
    "                d = [x for x in d if s in x]\n",
    "                #print(s,d)\n",
    "    return d"
   ]
  },
  {
   "cell_type": "code",
   "execution_count": 17,
   "metadata": {},
   "outputs": [],
   "source": [
    "datasrcs_widget = RadioButtons(options=['jhu','owid'],description='data src',disabled=False,layout={'width': 'max-content'}) \n",
    "data_1_widget = RadioButtons(options=['deaths','confirmed'],description='data type',disabled=False,layout={'width': 'max-content'}) \n",
    "data_2_widget = RadioButtons(options=['new','cumulative'],description='integration',disabled=False,layout={'width': 'max-content'})\n",
    "data_3_widget = RadioButtons(options=['corrected','raw'],description='correction',disabled=False,layout={'width': 'max-content'})\n",
    "data_4_widget = RadioButtons(options=['smoothed','rough'],description='smoothing',disabled=False,layout={'width': 'max-content'})\n",
    "\n",
    "datanames_widget = Dropdown(options=data_choice(bd.covid_ts,['deaths','new','corrected','smoothed','raw']),\n",
    "                            description='data chc',disabled=False,layout={'width': 'max-content'}) \n",
    "\n",
    "def datachoice_update(*args):\n",
    "    curr_option = datanames_widget.value\n",
    "    datanames_widget.options=data_choice(bd.covid_ts,[data_1_widget.value,data_2_widget.value,\n",
    "                                    data_3_widget.value,data_4_widget.value]) \n",
    "    if not curr_option in datanames_widget.options: \n",
    "        datanames_widget.value=datanames_widget.options[0]\n",
    "        \n",
    "data_1_widget.observe(datachoice_update,'value')\n",
    "data_2_widget.observe(datachoice_update,'value')\n",
    "data_3_widget.observe(datachoice_update,'value')\n",
    "data_4_widget.observe(datachoice_update,'value')\n",
    "\n",
    "dcbox = VBox([datasrcs_widget,data_1_widget,data_2_widget,data_3_widget,data_4_widget])"
   ]
  },
  {
   "cell_type": "code",
   "execution_count": 18,
   "metadata": {},
   "outputs": [],
   "source": [
    "countries_common = bd.countries_common  \n",
    "countries_widget = Dropdown(options=countries_common,description='countries',layout={'width': 'max-content'},value=chosen_country)\n",
    "modelnames_widget = Dropdown(options=possmodels,description='model',layout={'width': 'max-content'},value='SC2UIR')\n",
    "modelage_widget = Dropdown(options=[1,4,8,16],description='age grps',layout={'width': 'max-content'},value=1)\n",
    "fittypes = ['leastsq','nelder','differential_evolution','nelder','slsqp','shgo','cobyla','lbfgsb','bfgs','basinhopping','dual_annealing']\n",
    "fittypes_widget = Dropdown(options=fittypes,description='fit meth',layout={'width': 'max-content'},value='leastsq')\n",
    "fit_output_text = 'Fit output will be displayed here.'\n",
    "fit_display_widget = widgets.Textarea(value=fit_output_text,disabled=False,layout = widgets.Layout(height='320px',width='520px'))\n",
    "\n",
    "def swizzle_update(*args):\n",
    "    country_display\n",
    "\n",
    "\n",
    "#def datanames_update(*args):\n",
    "#    if datasrcs_widget.value == 'jhu':\n",
    "#        datanames_widget.options = list(bd.covid_ts.keys())\n",
    "#    elif datasrcs_widget.value == 'owid':\n",
    "#        datanames_widget.options = list(bd.covid_owid_ts.keys()) \n",
    "#datasrcs_widget.observe(datanames_update,'options')\n",
    "\n",
    "def countries_update(*args):\n",
    "    global chosen_country,chosen_class,countries_common\n",
    "    #if chosen_country in countries_common:\n",
    "    countries_widget.value = country_display.children[1].value\n",
    "    # else:\n",
    "    # countries_widget.value = countries_widget.value\n",
    "    class_display.value = sprintdic(clus.swdic,chosen_country=countries_widget.value)\n",
    "\n",
    "country_display.children[1].observe(countries_update,'value')\n",
    "\n",
    "def common_trace(datasrc = 'jhu', dataname='deaths',country='Australia'):\n",
    "    global bd,countries_common\n",
    "    if country in countries_common:\n",
    "        if datasrc == 'jhu':\n",
    "            ts = bd.covid_ts\n",
    "        elif datasrc == 'owid':\n",
    "            ts = bd.covid_owid_ts\n",
    "        else:\n",
    "            print('Error in datasrc')\n",
    "        if dataname in ts:    \n",
    "            if 'deaths' in dataname:\n",
    "                plt.plot(ts[dataname][country],color='red')\n",
    "            elif 'confirmed' in dataname:\n",
    "                plt.plot(ts[dataname][country],color='green')\n",
    "        else:\n",
    "            print('dataname not found',dataname)\n",
    "            \n",
    "country_display_trace = interactive_output(common_trace,{'datasrc':datasrcs_widget,'dataname':datanames_widget,'country':countries_widget});"
   ]
  },
  {
   "cell_type": "code",
   "execution_count": 23,
   "metadata": {},
   "outputs": [],
   "source": [
    "    def allsliderparams(self,params_init_min_max={}):\n",
    "        \"\"\"\n",
    "            construct dictionary of slider widgets corresponding to \n",
    "            input params_init_min_max is the dictionary of tuples for parameter optimization (3 or 4-tuples)\n",
    "            pimm is short name for params_init_min_max\n",
    "        \"\"\"\n",
    "        pimm = params_init_min_max\n",
    "        if pimm == {}:\n",
    "            print('missing non empty dictionary params_init_min_max')\n",
    "            return\n",
    "        elif len(pimm[list(pimm.keys())[0]]) != 4:\n",
    "            print('dictionary params_init_min_max must contain tuples with 4 entries (val,min,max,step)')\n",
    "            return\n",
    "        slidedict = {}\n",
    "        slider_layout = Layout(width='400px', height='12px')\n",
    "        style = {'description_width': 'initial'}\n",
    "        modelname=self.modelname\n",
    "        slidedict.update({'param_class':fixed('base')})\n",
    "        slidedict.update({'figsize':fixed((8,5))})\n",
    "        for pm in pimm:\n",
    "            if ((not 'Caution' in pm) or 'C' in modelname) and ((not 'Econom' in pm) or 'U' in modelname) and ((not 'Young' in pm) or '_A' in modelname):\n",
    "                slidedict.update({pm:FloatSlider(min=pimm[pm][1],max=pimm[pm][2],step=pimm[pm][3],value=pimm[pm][0],description=pm,\n",
    "                                style=style,\n",
    "                                layout=slider_layout,\n",
    "                                continuous_update=False,readout_format='.3f')})\n",
    "        return slidedict "
   ]
  },
  {
   "cell_type": "code",
   "execution_count": 26,
   "metadata": {},
   "outputs": [],
   "source": [
    "from ipywidgets.widgets import interact, interactive, IntSlider, FloatSlider, Layout, ToggleButton, ToggleButtons, fixed, Widget\n",
    "#sliderparams = MyModel.allsliderparams(params_init_min_max_slider)\n",
    "params_init_min_max_slider = MyModel.transfer_fit_to_params_init(params_init_min_max_slider)\n",
    "sliderparams = allsliderparams(MyModel,params_init_min_max_slider)"
   ]
  },
  {
   "cell_type": "code",
   "execution_count": 27,
   "metadata": {},
   "outputs": [],
   "source": [
    "#def fit_trace(modelname='SC3EI3R',fittype='leastsq',datasrc='jhu',dataname='deaths',country='Australia'):\n",
    "def fit_trace(modelname='SC3FUEI3R',agestructure=1,fittype='leastsq',datasrc='jhu',country='Australia'):\n",
    "    if int(agestructure) > 1 and modelname in ['SIR','SC2IR','SC2FIR','SEI3R','SC3EI3R','SC3FEI3R','SC3UEI3R','SC3FUEI3R'] :\n",
    "        modelname_a = modelname+'_A'+str(agestructure)\n",
    "    elif int(agestructure) > 1:  # age structure not yet implemented for this model type\n",
    "        modelname_a = modelname\n",
    "        agestructure=1\n",
    "        modelage_widget.value = agestructure\n",
    "    else:\n",
    "        modelname_a = modelname\n",
    "    try:\n",
    "        old_stdout = sys.stdout\n",
    "        sys.stdout = mystdout = io.StringIO()\n",
    "        ###############################################\n",
    "        ## do the fit\n",
    "        #MyModel = ModelFit('SC3EI3R',basedata=bd,data=ClData.clusdata_all,country=country,run_id=\"_test1\",data_src='cluster')\n",
    "        MyModel = ModelFit(modelname_a,basedata=bd,country=country,run_id=\"_test1\",data_src=datasrc)\n",
    "        paramtype = 'ode'\n",
    "        if paramtype == 'ode':\n",
    "            params_init_min_max = sim_param_inits[modelname]       # sim_param_inits defined in model_fits_age.py\n",
    "            MyModel.model.parameters = {p:params_init_min_max[p][0] for p in params_init_min_max if p != 'logI_0'}\n",
    "            MyModel.params.update({p:params_init_min_max[p][0] for p in params_init_min_max if p != 'logI_0'})\n",
    "        elif paramtype == 'base':\n",
    "            params_init_min_max = default_fit_params(MyModel.sbparams,MyModel.cbparams,MyModel.fbparams)\n",
    "            params_in = base2params(MyModel.sbparams,MyModel.cbparams,MyModel.fbparams,modelname_a)\n",
    "            # need to check transfer of parameteres and compatibility\n",
    "        if 'logI_0' in params_init_min_max:\n",
    "            MyModel.set_I0(params_init_min_max['logI_0'][0])\n",
    "        fit_display_widget.value = \"Processing fit, please wait ...\"\n",
    "        \n",
    "        fit_ctrl = {'max_nfev':None,'ftol':0.001,'xtol':0.01,'epsfcn':0.0001} # one can try setting these to improve fit behaviour\n",
    "        #fit_ctrl = {}\n",
    "        # MyModel.fit(params_init_min_max,fit_targets=['deaths'],fit_data=['deaths_corrected_smoothed'],diag=True,report=True,conf_interval=False,fit_kws=fit_ctrl)\n",
    "        # MyModel.fit(params_init_min_max,fit_targets=['confirmed'],fit_data=['confirmed_corrected_smoothed'],diag=True,report=True,conf_interval=False,fit_kws=fit_ctrl)\n",
    "        #MyModel.fit(params_init_min_max,fit_method='differential_evolution',fit_targets=['deaths'],fit_data=['deaths_corrected_smoothed'],diag=True,report=True,conf_interval=False,fit_kws=fit_ctrl)\n",
    "\n",
    "        if fittype=='leastsq':\n",
    "            MyModel.fit(params_init_min_max,fit_method='leastsq',fit_targets=['deaths','confirmed'],fit_data='default',diag=True,report=True,conf_interval=False,fit_kws=fit_ctrl)\n",
    "        else:\n",
    "            MyModel.fit(params_init_min_max,fit_method=fittype,fit_targets=['deaths','confirmed'],fit_data='default',diag=True,report=True,conf_interval=False)\n",
    "        #MyModel.fit(params_init_min_max,fit_method='nelder',fit_targets=['deaths'],fit_data='default',diag=True,report=True,conf_interval=False)\n",
    "        # MyModel.fit(params_init_min_max,fit_targets=['deaths','confirmed'],fit_data=['deaths_corrected_smoothed','confirmed_corrected_smoothed'])\n",
    "        ax=MyModel.solveplot(['deaths','confirmed','caution_fraction','economy'],\n",
    "                      datasets=['deaths_corrected_smoothed','confirmed_corrected_smoothed'],\n",
    "                      mag={'deaths':30.},newplot=True,figsize=(8,5));\n",
    "        fit_display_widget.value = mystdout.getvalue()   #  fit_output_widget global.\n",
    "    finally:\n",
    "        sys.stdout = old_stdout\n",
    "\n",
    "#country_fit_trace = interactive_output(fit_trace,{'modelname':modelnames_widget,'fittype':fittypes_widget,'datasrc':datasrcs_widget,'dataname':datanames_widget,'country':countries_widget});\n",
    "country_fit_trace = interactive_output(fit_trace,{'modelname':modelnames_widget,'agestructure':modelage_widget,'fittype':fittypes_widget,'datasrc':datasrcs_widget,'country':countries_widget});"
   ]
  },
  {
   "cell_type": "code",
   "execution_count": 28,
   "metadata": {},
   "outputs": [],
   "source": [
    "if sliderparams:\n",
    "    w=interactive_output(MyModel.slidefitplot,sliderparams)\n",
    "    sliders=VBox([w1 for w1 in list(sliderparams.values()) if isinstance(w1,Widget)])\n",
    "    slbox=HBox([w,sliders])"
   ]
  },
  {
   "cell_type": "code",
   "execution_count": 29,
   "metadata": {
    "scrolled": false
   },
   "outputs": [
    {
     "data": {
      "application/vnd.jupyter.widget-view+json": {
       "model_id": "6acc638c389c4b699387f120975ab58e",
       "version_major": 2,
       "version_minor": 0
      },
      "text/plain": [
       "VBox(children=(HBox(children=(interactive(children=(Dropdown(description='dataname', options=('deaths', 'cases…"
      ]
     },
     "metadata": {},
     "output_type": "display_data"
    }
   ],
   "source": [
    "cbox = VBox([datanames_widget,countries_widget,country_display_trace])  \n",
    "choicebox = HBox([modelnames_widget, modelage_widget, fittypes_widget])\n",
    "sbox = VBox([choicebox,country_fit_trace])\n",
    "myhbox1 = HBox([country_display,class_display,dcbox,cbox])\n",
    "myhbox2 = HBox([sbox,VBox([Label('Fit output data'),fit_display_widget]),slbox])\n",
    "#myhbox2 = HBox([sbox])\n",
    "#myhbox2 = [country_fit_trace]\n",
    "#VBox([mybox,clus.map]) \n",
    "VBox([myhbox1,myhbox2,clus.map])"
   ]
  },
  {
   "cell_type": "code",
   "execution_count": 21,
   "metadata": {},
   "outputs": [],
   "source": [
    "fp = default_fit_params(MyModel.sbparams,MyModel.cbparams,MyModel.fbparams)"
   ]
  },
  {
   "cell_type": "code",
   "execution_count": 22,
   "metadata": {},
   "outputs": [],
   "source": []
  },
  {
   "cell_type": "code",
   "execution_count": 24,
   "metadata": {},
   "outputs": [],
   "source": [
    "from ipywidgets.widgets import interact, interactive, IntSlider, FloatSlider, Layout, ToggleButton, ToggleButtons, fixed, Widget\n",
    "#sliderparams = MyModel.allsliderparams(params_init_min_max_slider)\n",
    "params_init_min_max_slider = fp.copy()\n",
    "# params_init_min_max_slider = MyModel.transfer_fit_to_params_init(params_init_min_max_slider)\n",
    "sliderparams = allsliderparams(MyModel,params_init_min_max_slider)"
   ]
  },
  {
   "cell_type": "code",
   "execution_count": 25,
   "metadata": {},
   "outputs": [
    {
     "data": {
      "application/vnd.jupyter.widget-view+json": {
       "model_id": "3d3d81c6996e46ae800b2aabab2a2b55",
       "version_major": 2,
       "version_minor": 0
      },
      "text/plain": [
       "HBox(children=(Output(), VBox(children=(FloatSlider(value=0.4, continuous_update=False, description='Exposure'…"
      ]
     },
     "metadata": {},
     "output_type": "display_data"
    }
   ],
   "source": [
    "if sliderparams:\n",
    "    w=interactive_output(MyModel.slidefitplot,sliderparams)\n",
    "    sliders=VBox([w1 for w1 in list(sliderparams.values()) if isinstance(w1,Widget)])\n",
    "    display(HBox([w,sliders]))"
   ]
  },
  {
   "cell_type": "code",
   "execution_count": 26,
   "metadata": {},
   "outputs": [
    {
     "data": {
      "text/plain": [
       "'SC2UIR'"
      ]
     },
     "execution_count": 26,
     "metadata": {},
     "output_type": "execute_result"
    }
   ],
   "source": [
    "MyModel.model.modelname"
   ]
  },
  {
   "cell_type": "code",
   "execution_count": 27,
   "metadata": {},
   "outputs": [
    {
     "data": {
      "text/plain": [
       "array([1.        , 0.99999861, 0.9999938 , 0.9999843 , 0.99996835,\n",
       "       0.9999435 , 0.99990633, 0.99985211, 0.99977432, 0.99966396,\n",
       "       0.99950878, 0.99929222, 0.99899218, 0.9985797 , 0.99801781,\n",
       "       0.99726081, 0.99625481, 0.99494015, 0.99325619, 0.99114859,\n",
       "       0.98857764, 0.98552546, 0.98199968, 0.97803229, 0.97367429,\n",
       "       0.9689882 , 0.96404054, 0.958896  , 0.95361361, 0.9482449 ,\n",
       "       0.94283338, 0.93741493, 0.93201862, 0.92666764, 0.92138033,\n",
       "       0.916171  , 0.91105069, 0.90602785, 0.90110882, 0.89629825,\n",
       "       0.89159945, 0.88701466, 0.88254527, 0.87819197, 0.8739549 ,\n",
       "       0.86983376, 0.86582789, 0.86193634, 0.85815796, 0.85449136,\n",
       "       0.85093504, 0.84748736, 0.84414661, 0.84091095, 0.83777853,\n",
       "       0.83474742, 0.83181567, 0.82898127, 0.82624222, 0.82359648,\n",
       "       0.821042  , 0.81857674, 0.81619863, 0.8139056 , 0.8116956 ,\n",
       "       0.80956657, 0.80751644, 0.80554317, 0.80364471, 0.80181901,\n",
       "       0.80006407, 0.79837784, 0.79675834, 0.79520356, 0.79371152,\n",
       "       0.79228026, 0.79090783, 0.78959229, 0.78833173, 0.78712426,\n",
       "       0.78596799, 0.78486108, 0.78380169, 0.78278803, 0.78181832,\n",
       "       0.78089081, 0.78000379, 0.77915556, 0.77834447, 0.77756893,\n",
       "       0.77682733, 0.77611815, 0.77543989, 0.77479109, 0.77417034,\n",
       "       0.77357628, 0.77300759, 0.77246301, 0.7719413 , 0.77144132,\n",
       "       0.77096193, 0.77050207, 0.77006074, 0.76963696, 0.76922983,\n",
       "       0.7688385 , 0.76846216, 0.76810006, 0.76775148, 0.76741579,\n",
       "       0.76709236, 0.76678064, 0.76648011, 0.76619029, 0.76591074,\n",
       "       0.76564107, 0.76538091, 0.76512994, 0.76488786, 0.76465441,\n",
       "       0.76442935, 0.76421245, 0.76400354, 0.76380243, 0.76360898,\n",
       "       0.76342306, 0.76324454, 0.76307331, 0.76290928, 0.76275236,\n",
       "       0.76260248, 0.76245955, 0.76232352, 0.76219432, 0.76207189,\n",
       "       0.76195616, 0.7618471 , 0.76174462, 0.76164869, 0.76155923,\n",
       "       0.76147619, 0.76139951, 0.7613291 , 0.76126491, 0.76120686,\n",
       "       0.76115488, 0.76110888, 0.76106878, 0.76103448, 0.76100591,\n",
       "       0.76098295, 0.7609655 , 0.76095347, 0.76094675, 0.76094521,\n",
       "       0.76094875, 0.76095724, 0.76097057, 0.76098861, 0.76101122,\n",
       "       0.76103828, 0.76106967, 0.76110523, 0.76114484, 0.76118836,\n",
       "       0.76123565, 0.76128658, 0.76134099, 0.76139876, 0.76145974,\n",
       "       0.76152379, 0.76159078, 0.76166056, 0.76173299, 0.76180795,\n",
       "       0.76188529, 0.76196488, 0.76204659, 0.76213029, 0.76221586,\n",
       "       0.76230316, 0.76239207, 0.76248248, 0.76257427, 0.76266732,\n",
       "       0.76276152, 0.76285677, 0.76295295, 0.76304997, 0.76314773,\n",
       "       0.76324613, 0.76334508, 0.7634445 , 0.76354429, 0.76364438,\n",
       "       0.76374469, 0.76384515, 0.76394567, 0.7640462 , 0.76414668,\n",
       "       0.76424703, 0.7643472 , 0.76444714, 0.7645468 , 0.76464612,\n",
       "       0.76474506, 0.76484358, 0.76494164, 0.7650392 , 0.76513622,\n",
       "       0.76523268, 0.76532854, 0.76542378, 0.76551836, 0.76561228,\n",
       "       0.7657055 , 0.765798  , 0.76588978, 0.76598081, 0.76607108,\n",
       "       0.76616057, 0.76624928, 0.76633719, 0.76642431, 0.76651061,\n",
       "       0.76659609, 0.76668076, 0.7667646 , 0.7668476 , 0.76692978,\n",
       "       0.76701112, 0.76709163, 0.7671713 , 0.76725013, 0.76732813,\n",
       "       0.76740529, 0.76748162, 0.76755712, 0.76763179, 0.76770563,\n",
       "       0.76777865, 0.76785085, 0.76792222, 0.76799278, 0.76806253,\n",
       "       0.76813146, 0.76819959, 0.76826692, 0.76833344, 0.76839917,\n",
       "       0.76846411, 0.76852826, 0.76859162, 0.76865421, 0.76871601,\n",
       "       0.76877704, 0.7688373 , 0.76889679, 0.76895552, 0.76901349,\n",
       "       0.76907071, 0.76912717, 0.76918289, 0.76923786, 0.76929209,\n",
       "       0.76934558, 0.76939834, 0.76945037, 0.76950168, 0.76955227,\n",
       "       0.76960213, 0.76965129, 0.76969973, 0.76974748, 0.76979452,\n",
       "       0.76984086, 0.76988651, 0.76993148, 0.76997576, 0.77001937,\n",
       "       0.7700623 , 0.77010456, 0.77014616, 0.7701871 , 0.77022739,\n",
       "       0.77026703, 0.77030603, 0.77034439, 0.77038212, 0.77041922,\n",
       "       0.7704557 , 0.77049156, 0.77052682, 0.77056147, 0.77059553,\n",
       "       0.770629  , 0.77066188, 0.77069418, 0.77072591, 0.77075707,\n",
       "       0.77078768, 0.77081773, 0.77084723, 0.7708762 , 0.77090463,\n",
       "       0.77093254])"
      ]
     },
     "execution_count": 27,
     "metadata": {},
     "output_type": "execute_result"
    }
   ],
   "source": [
    "MyModel.soln[:,7]"
   ]
  },
  {
   "cell_type": "code",
   "execution_count": 28,
   "metadata": {},
   "outputs": [
    {
     "data": {
      "text/plain": [
       "(306, 306)"
      ]
     },
     "execution_count": 28,
     "metadata": {},
     "output_type": "execute_result"
    }
   ],
   "source": [
    "(len(MyModel.soln[:,7]),len(MyModel.tsim[1:]))"
   ]
  },
  {
   "cell_type": "code",
   "execution_count": 29,
   "metadata": {},
   "outputs": [
    {
     "data": {
      "text/plain": [
       "(array([9.999997e-01, 3.000000e-07, 0.000000e+00, 0.000000e+00,\n",
       "        0.000000e+00, 0.000000e+00, 0.000000e+00, 1.000000e+00]),\n",
       " 0)"
      ]
     },
     "execution_count": 29,
     "metadata": {},
     "output_type": "execute_result"
    }
   ],
   "source": [
    "MyModel.initial_values"
   ]
  },
  {
   "cell_type": "code",
   "execution_count": null,
   "metadata": {},
   "outputs": [],
   "source": [
    "params_init_min_max_slider = MyModel.transfer_fit_to_params_init(params_init_min_max_slider)"
   ]
  },
  {
   "cell_type": "code",
   "execution_count": null,
   "metadata": {},
   "outputs": [],
   "source": [
    "params_init_min_max_slider"
   ]
  },
  {
   "cell_type": "markdown",
   "metadata": {},
   "source": [
    "**NOTE: MyModel is global variable set to last model fit.  This means we can dig into it if desired, e.g:**"
   ]
  },
  {
   "cell_type": "code",
   "execution_count": null,
   "metadata": {},
   "outputs": [],
   "source": [
    "# this line requires fit with diag=True\n",
    "plt.semilogy(MyModel.residall);"
   ]
  },
  {
   "cell_type": "code",
   "execution_count": null,
   "metadata": {
    "scrolled": false
   },
   "outputs": [],
   "source": [
    "# this cell require fit to be run with diag=True\n",
    "pars = [x for x in MyModel.paramall[0]]\n",
    "print(pars)\n",
    "\n",
    "for pp in pars:\n",
    "    pt = [x[pp].value for x in MyModel.paramall]\n",
    "    plt.plot(pt)\n",
    "    plt.title(pp)\n",
    "    plt.show()"
   ]
  },
  {
   "cell_type": "code",
   "execution_count": null,
   "metadata": {},
   "outputs": [],
   "source": []
  },
  {
   "cell_type": "markdown",
   "metadata": {},
   "source": [
    "# Fit 4 countries..."
   ]
  },
  {
   "cell_type": "code",
   "execution_count": null,
   "metadata": {},
   "outputs": [],
   "source": [
    "possmodels"
   ]
  },
  {
   "cell_type": "markdown",
   "metadata": {},
   "source": [
    "# From old Fit notebook..."
   ]
  },
  {
   "cell_type": "code",
   "execution_count": null,
   "metadata": {},
   "outputs": [],
   "source": [
    "modelname = 'SIR'\n",
    "country='Australia'\n",
    "MyModel = ModelFit(modelname,basedata=bd,data=bd.covid_ts,country=country,run_id=\"_test1\",data_src='jhu')\n",
    "params_init_min_max = sim_param_inits[modelname]       # sim_param_inits defined in model_fits_age.py\n",
    "MyModel.model.parameters = {p:params_init_min_max[p][0] for p in params_init_min_max if p != 'logI_0'}\n",
    "MyModel.params.update({p:params_init_min_max[p][0] for p in params_init_min_max if p != 'logI_0'})\n",
    "if 'logI_0' in params_init_min_max:\n",
    "    MyModel.set_I0(params_init_min_max['logI_0'][0])\n",
    "fit_ctrl = {'max_nfev':None,'ftol':0.001,'xtol':0.01,'epsfcn':0.0001} # one can try setting these to improve fit behaviour\n",
    "MyModel.fit(params_init_min_max,fit_method='leastsq',fit_targets=['deaths','confirmed'],fit_data='default',diag=True,report=True,conf_interval=False,fit_kws=fit_ctrl)\n",
    "\n"
   ]
  },
  {
   "cell_type": "markdown",
   "metadata": {
    "extensions": {
     "jupyter_dashboards": {
      "version": 1,
      "views": {
       "default_view": {
        "col": 0,
        "height": 2,
        "hidden": false,
        "row": 0,
        "width": 12
       }
      }
     }
    }
   },
   "source": [
    "**Some preliminary data plots**"
   ]
  },
  {
   "cell_type": "code",
   "execution_count": null,
   "metadata": {},
   "outputs": [],
   "source": [
    "plt.plot(bd.new_deaths_spm_jhu['Germany'])"
   ]
  },
  {
   "cell_type": "code",
   "execution_count": null,
   "metadata": {},
   "outputs": [],
   "source": [
    "plt.plot(bd.covid_ts['new_deaths']['Germany'])"
   ]
  },
  {
   "cell_type": "code",
   "execution_count": null,
   "metadata": {},
   "outputs": [],
   "source": [
    "plt.plot(bd.covid_ts['new_deaths_smoothed']['Germany'])"
   ]
  },
  {
   "cell_type": "code",
   "execution_count": null,
   "metadata": {},
   "outputs": [],
   "source": [
    "plt.plot(bd.covid_ts['new_deaths_corrected_smoothed']['Germany'])"
   ]
  },
  {
   "cell_type": "code",
   "execution_count": null,
   "metadata": {},
   "outputs": [],
   "source": [
    "plt.plot(bd.covid_owid_ts['new_deaths_corrected_smoothed']['Germany'])"
   ]
  },
  {
   "cell_type": "code",
   "execution_count": null,
   "metadata": {},
   "outputs": [],
   "source": [
    "plt.plot(ClData.clusdata_all['deaths']['Germany'])\n",
    "plt.plot(ClData.deaths_raw['Germany']);"
   ]
  },
  {
   "cell_type": "code",
   "execution_count": null,
   "metadata": {},
   "outputs": [],
   "source": [
    "plt.plot(ClData.clusdata_all['cases']['Germany'])\n",
    "plt.plot(ClData.clusdata_all['cases_nonlinr']['Germany']);"
   ]
  },
  {
   "cell_type": "code",
   "execution_count": null,
   "metadata": {},
   "outputs": [],
   "source": [
    "[x for x in dir(ClData) if '__' not in x]"
   ]
  },
  {
   "cell_type": "code",
   "execution_count": null,
   "metadata": {},
   "outputs": [],
   "source": [
    "[x for x in ClData.clusdata_all if '__' not in x]"
   ]
  },
  {
   "cell_type": "markdown",
   "metadata": {},
   "source": [
    "# Use `Modelfit.solvefit()` with `lmfit`"
   ]
  },
  {
   "cell_type": "code",
   "execution_count": null,
   "metadata": {},
   "outputs": [],
   "source": [
    "bd = BaseData('data_all_base')"
   ]
  },
  {
   "cell_type": "code",
   "execution_count": null,
   "metadata": {},
   "outputs": [],
   "source": [
    "#  for debugging class methods without having to reload all of model_fits.py:\n",
    "#  file containing only ModelFit class, \n",
    "# exec(open('model_fits_nodata.py','r').read())\n",
    "exec(open('ModelFit.py','r').read())"
   ]
  },
  {
   "cell_type": "code",
   "execution_count": null,
   "metadata": {},
   "outputs": [],
   "source": [
    "# check that now all country names are strings : jhu data now only has common countries (191)\n",
    "ts=bd.covid_ts\n",
    "ts.keys()\n",
    "for dt in ts.keys():\n",
    "    if 'Germany' in ts[dt].keys():\n",
    "        print(dt,'str')\n",
    "    elif ('Germany','') in ts[dt].keys():\n",
    "        print(dt,\"(str,'')\")\n",
    "    else:\n",
    "        print(dt,'no country key')"
   ]
  },
  {
   "cell_type": "code",
   "execution_count": null,
   "metadata": {
    "scrolled": false
   },
   "outputs": [],
   "source": [
    "country = 'Germany'\n",
    "###############################################\n",
    "## do the fit\n",
    "#MyModel = ModelFit('SC3EI3R',basedata=bd,data=ClData.clusdata_all,country=country,run_id=\"_test1\",data_src='cluster')\n",
    "MyModel = ModelFit('SC3EI3R',basedata=bd,data=bd.covid_ts,country=country,run_id=\"_test1\",data_src='jhu')"
   ]
  },
  {
   "cell_type": "code",
   "execution_count": null,
   "metadata": {},
   "outputs": [],
   "source": [
    "# restricted range:\n",
    "params_init_min_max = {\n",
    "                   \"beta_1\": (0.4, 0.3, 0.6,0.001),\n",
    "                   \"mu\": (.05,0.03,0.15,0.001),\n",
    "                   \"c_0\": (0.1, 0.05, 1.0,0.001), \n",
    "                   \"c_1\": (0.07, 0.0, 0.1,0.001),\n",
    "                   \"c_2\": (5., 1., 8., 0.01), \n",
    "                    \"logI_0\": (-6.,-9.,-5.,0.001)}\n",
    "\n",
    "params_init_min_max = {\n",
    "                   \"beta_1\": (0.4, 0.0, 1.2,0.001),\n",
    "                   \"mu\": (.05,0.0,0.15,0.001),\n",
    "                   \"c_0\": (0.1, 0.0, 1.0,0.001), \n",
    "                   \"c_1\": (0.07, 0.0, 0.1,0.001),\n",
    "                   \"c_2\": (5., 1., 55., 0.01), \n",
    "                   \"logI_0\": (-6.,-12.,-3.,0.001)}\n",
    "MyModel.model.parameters = {p:params_init_min_max[p][0] for p in params_init_min_max if p != 'logI_0'}\n",
    "MyModel.params.update({p:params_init_min_max[p][0] for p in params_init_min_max if p != 'logI_0'})"
   ]
  },
  {
   "cell_type": "code",
   "execution_count": null,
   "metadata": {},
   "outputs": [],
   "source": [
    "MyModel.params"
   ]
  },
  {
   "cell_type": "code",
   "execution_count": null,
   "metadata": {},
   "outputs": [],
   "source": [
    "\n",
    "fit_ctrl = {'max_nfev':None,'ftol':0.001,'xtol':0.01,'epsfcn':0.0001} # one can try setting these to improve fit behaviour\n",
    "#fit_ctrl = {}\n",
    "# MyModel.fit(params_init_min_max,fit_targets=['deaths'],fit_data=['deaths_corrected_smoothed'],diag=True,report=True,conf_interval=False,fit_kws=fit_ctrl)\n",
    "# MyModel.fit(params_init_min_max,fit_targets=['confirmed'],fit_data=['confirmed_corrected_smoothed'],diag=True,report=True,conf_interval=False,fit_kws=fit_ctrl)\n",
    "#MyModel.fit(params_init_min_max,fit_method='differential_evolution',fit_targets=['deaths'],fit_data=['deaths_corrected_smoothed'],diag=True,report=True,conf_interval=False,fit_kws=fit_ctrl)\n",
    "\n",
    "MyModel.fit(params_init_min_max,fit_method='leastsq',fit_targets=['deaths','confirmed'],fit_data='default',diag=True,report=True,conf_interval=False,fit_kws=fit_ctrl)\n",
    "#MyModel.fit(params_init_min_max,fit_method='nelder',fit_targets=['deaths'],fit_data='default',diag=True,report=True,conf_interval=False)\n",
    "\n",
    "\n",
    "# MyModel.fit(params_init_min_max,fit_targets=['deaths','confirmed'],fit_data=['deaths_corrected_smoothed','confirmed_corrected_smoothed'])\n"
   ]
  },
  {
   "cell_type": "code",
   "execution_count": null,
   "metadata": {},
   "outputs": [],
   "source": [
    "lmfit.report_fit(MyModel.fit_output)"
   ]
  },
  {
   "cell_type": "code",
   "execution_count": null,
   "metadata": {},
   "outputs": [],
   "source": [
    "start = time()\n",
    "fit_ctrl = {'max_nfev':None,'ftol':0.001,'xtol':0.01,'epsfcn':0.0001} # one can try setting these to improve fit behaviour\n",
    "#fit_ctrl = {}\n",
    "# MyModel.fit(params_init_min_max,fit_targets=['deaths'],fit_data=['deaths_corrected_smoothed'],diag=True,report=True,conf_interval=False,fit_kws=fit_ctrl)\n",
    "# MyModel.fit(params_init_min_max,fit_targets=['confirmed'],fit_data=['confirmed_corrected_smoothed'],diag=True,report=True,conf_interval=False,fit_kws=fit_ctrl)\n",
    "#MyModel.fit(params_init_min_max,fit_method='differential_evolution',fit_targets=['deaths'],fit_data=['deaths_corrected_smoothed'],diag=True,report=True,conf_interval=False,fit_kws=fit_ctrl)\n",
    "\n",
    "MyModel.fit(params_init_min_max,fit_method='leastsq',fit_targets=['deaths','confirmed'],fit_data='default',diag=True,report=True,conf_interval=False,fit_kws=fit_ctrl)\n",
    "#MyModel.fit(params_init_min_max,fit_method='nelder',fit_targets=['deaths'],fit_data='default',diag=True,report=True,conf_interval=False)\n",
    "\n",
    "\n",
    "# MyModel.fit(params_init_min_max,fit_targets=['deaths','confirmed'],fit_data=['deaths_corrected_smoothed','confirmed_corrected_smoothed'])\n",
    "print('Elapsed: ',time()-start)"
   ]
  },
  {
   "cell_type": "code",
   "execution_count": null,
   "metadata": {},
   "outputs": [],
   "source": [
    "dir(MyModel)"
   ]
  },
  {
   "cell_type": "code",
   "execution_count": null,
   "metadata": {},
   "outputs": [],
   "source": [
    "#MyModel.solveplot(['confirmed'],datasets=['confirmed_corrected_smoothed'])\n",
    "#MyModel.solveplot(['deaths'],datasets=['deaths_corrected_smoothed'])\n",
    "#MyModel.solveplot(['confirmed'],datasets=['cases'])\n",
    "MyModel.solveplot(['deaths'],datasets=['deaths'])"
   ]
  },
  {
   "cell_type": "code",
   "execution_count": null,
   "metadata": {},
   "outputs": [],
   "source": [
    "MyModel.solveplot(['deaths','confirmed'],\n",
    "                  datasets=['deaths_corrected_smoothed','confirmed_corrected_smoothed'],\n",
    "                  mag={'deaths':30.})"
   ]
  },
  {
   "cell_type": "code",
   "execution_count": null,
   "metadata": {},
   "outputs": [],
   "source": [
    "# this line requires fit with diag=True\n",
    "plt.semilogy(MyModel.residall);"
   ]
  },
  {
   "cell_type": "code",
   "execution_count": null,
   "metadata": {
    "scrolled": false
   },
   "outputs": [],
   "source": [
    "# this cell require fit to be run with diag=True\n",
    "pars = [x for x in MyModel.paramall[0]]\n",
    "pars\n",
    "\n",
    "for pp in pars:\n",
    "    pt = [x[pp].value for x in MyModel.paramall]\n",
    "    plt.plot(pt)\n",
    "    plt.title(pp)\n",
    "    plt.show()"
   ]
  },
  {
   "cell_type": "code",
   "execution_count": null,
   "metadata": {},
   "outputs": [],
   "source": [
    "# this cell require fit to be run with diag=True\n",
    "pars = [x for x in MyModel.paramall[0]]\n",
    "pars\n",
    "\n",
    "for pp in pars:\n",
    "    pt = [x[pp].value for x in MyModel.paramall]\n",
    "    plt.plot(pt)\n",
    "    plt.title(pp)\n",
    "    plt.show()"
   ]
  },
  {
   "cell_type": "code",
   "execution_count": null,
   "metadata": {},
   "outputs": [],
   "source": [
    "# this line requires fit with diag=True\n",
    "plt.semilogy(MyModel.residall);"
   ]
  },
  {
   "cell_type": "code",
   "execution_count": null,
   "metadata": {},
   "outputs": [],
   "source": [
    "foo = MyModel.solve4fit('deaths','deaths_corrected_smoothed')\n",
    "\n",
    "plt.plot(foo['deaths']['data'],'o',alpha=0.2);\n",
    "plt.plot(foo['deaths']['soln'],color='red');"
   ]
  },
  {
   "cell_type": "code",
   "execution_count": null,
   "metadata": {},
   "outputs": [],
   "source": [
    "# this cell require fit to be run with diag=True\n",
    "pars = [x for x in MyModel.paramall[0]]\n",
    "pars\n",
    "\n",
    "for pp in pars:\n",
    "    pt = [x[pp].value for x in MyModel.paramall]\n",
    "    plt.plot(pt)\n",
    "    plt.title(pp)\n",
    "    plt.show()"
   ]
  },
  {
   "cell_type": "code",
   "execution_count": null,
   "metadata": {},
   "outputs": [],
   "source": [
    "p0 = [x[pars[-1]] for x in MyModel.paramall]\n",
    "plt.plot(p0);"
   ]
  },
  {
   "cell_type": "code",
   "execution_count": null,
   "metadata": {},
   "outputs": [],
   "source": [
    "# outfit.params\n",
    "MyModel.params"
   ]
  },
  {
   "cell_type": "markdown",
   "metadata": {},
   "source": [
    "## Trying solve4fitlog "
   ]
  },
  {
   "cell_type": "code",
   "execution_count": null,
   "metadata": {
    "scrolled": false
   },
   "outputs": [],
   "source": [
    "country = 'Germany'\n",
    "###############################################\n",
    "## do the fit\n",
    "#MyModel = ModelFit('SC3EI3R',basedata=bd,data=ClData.clusdata_all,country=country,run_id=\"_test1\",data_src='cluster')\n",
    "MyModel = ModelFit('SC3EI3R',basedata=bd,data=bd.covid_ts,country=country,run_id=\"_test1\",data_src='jhu')"
   ]
  },
  {
   "cell_type": "code",
   "execution_count": null,
   "metadata": {},
   "outputs": [],
   "source": [
    "params_init_min_max = {\n",
    "                   \"beta_1\": (0.4, 0.0, 0.8,0.001),\n",
    "                   \"mu\": (.05,0.0,0.15,0.001),\n",
    "                   \"c_0\": (0.1, 0.05, 1.0,0.001), \n",
    "                   \"c_1\": (0.07, 0.0, 0.1,0.001),\n",
    "                   \"c_2\": (5., 1., 8., 0.01), \n",
    "                   \"logI_0\": (-6.,-9.,-3.,0.001)}\n",
    "MyModel.model.parameters = {p:params_init_min_max[p][0] for p in params_init_min_max if p != 'logI_0'}\n",
    "MyModel.params.update({p:params_init_min_max[p][0] for p in params_init_min_max if p != 'logI_0'})"
   ]
  },
  {
   "cell_type": "code",
   "execution_count": null,
   "metadata": {},
   "outputs": [],
   "source": [
    "MyModel.params"
   ]
  },
  {
   "cell_type": "code",
   "execution_count": null,
   "metadata": {},
   "outputs": [],
   "source": [
    "# MyModel.fit(params_init_min_max,diag=False) without fit report\n",
    "fit_ctrl = {'max_nfev':None,'ftol':0.001,'xtol':0.01,'epsfcn':0.0001} # one can try setting these to improve fit behaviour\n",
    "#fit_ctrl = {}\n",
    "# MyModel.fit(params_init_min_max,fit_targets=['deaths'],fit_data=['deaths_corrected_smoothed'],diag=True,report=True,conf_interval=False,fit_kws=fit_ctrl)\n",
    "# MyModel.fit(params_init_min_max,fit_targets=['confirmed'],fit_data=['confirmed_corrected_smoothed'],diag=True,report=True,conf_interval=False,fit_kws=fit_ctrl)\n",
    "#MyModel.fit(params_init_min_max,fit_method='differential_evolution',fit_targets=['deaths'],fit_data=['deaths_corrected_smoothed'],diag=True,report=True,conf_interval=False,fit_kws=fit_ctrl)\n",
    "\n",
    "MyModel.fit(params_init_min_max,fit_method='leastsq',fit_targets=['deaths'],fit_data='default',diag=True,report=True,conf_interval=False,fit_kws=fit_ctrl)\n",
    "#MyModel.fit(params_init_min_max,fit_method='nelder',fit_targets=['deaths'],fit_data='default',diag=True,report=True,conf_interval=False)\n",
    "\n",
    "\n",
    "# MyModel.fit(params_init_min_max,fit_targets=['deaths','confirmed'],fit_data=['deaths_corrected_smoothed','confirmed_corrected_smoothed'])"
   ]
  },
  {
   "cell_type": "code",
   "execution_count": null,
   "metadata": {},
   "outputs": [],
   "source": [
    "#MyModel.solveplot(['confirmed'],datasets=['confirmed_corrected_smoothed'])\n",
    "#MyModel.solveplot(['deaths'],datasets=['deaths_corrected_smoothed'])\n",
    "#MyModel.solveplot(['confirmed'],datasets=['cases'])\n",
    "MyModel.solveplot(['deaths'],datasets=['deaths'])"
   ]
  },
  {
   "cell_type": "code",
   "execution_count": null,
   "metadata": {},
   "outputs": [],
   "source": [
    "MyModel.solveplot(['deaths','confirmed'],\n",
    "                  datasets=['deaths_corrected_smoothed','confirmed_corrected_smoothed'],\n",
    "                  mag={'deaths':30.})"
   ]
  },
  {
   "cell_type": "code",
   "execution_count": null,
   "metadata": {},
   "outputs": [],
   "source": [
    "fit_ctrl = {'max_nfev':None,'ftol':0.001,'xtol':0.01,'epsfcn':0.0001} # one can try setting these to improve fit behaviour\n",
    "#fit_ctrl = {}\n",
    "# MyModel.fit(params_init_min_max,fit_targets=['deaths'],fit_data=['deaths_corrected_smoothed'],diag=True,report=True,conf_interval=False,fit_kws=fit_ctrl)\n",
    "# MyModel.fit(params_init_min_max,fit_targets=['confirmed'],fit_data=['confirmed_corrected_smoothed'],diag=True,report=True,conf_interval=False,fit_kws=fit_ctrl)\n",
    "#MyModel.fit(params_init_min_max,fit_method='differential_evolution',fit_targets=['deaths'],fit_data=['deaths_corrected_smoothed'],diag=True,report=True,conf_interval=False,fit_kws=fit_ctrl)\n",
    "\n",
    "#MyModel.fit(params_init_min_max,fit_method='leastsq',fit_targets=['deaths','confirmed'],fit_data='default',diag=True,report=True,conf_interval=False,fit_kws=fit_ctrl)\n",
    "#MyModel.fit(params_init_min_max,fit_method='leastsq',fit_targets=['deaths','confirmed'],fit_data='default',diag=True,report=True,conf_interval=False,fit_kws=fit_ctrl)\n",
    "\n",
    "MyModel.fit(params_init_min_max,fit_method='nelder',fit_targets=['deaths','confirmed'],fit_data='default',diag=True,report=True,conf_interval=False)\n",
    "\n",
    "\n",
    "# MyModel.fit(params_init_min_max,fit_targets=['deaths','confirmed'],fit_data=['deaths_corrected_smoothed','confirmed_corrected_smoothed'])"
   ]
  },
  {
   "cell_type": "code",
   "execution_count": null,
   "metadata": {},
   "outputs": [],
   "source": []
  },
  {
   "cell_type": "code",
   "execution_count": null,
   "metadata": {},
   "outputs": [],
   "source": [
    "#MyModel.solveplot(['confirmed'],datasets=['confirmed_corrected_smoothed'])\n",
    "#MyModel.solveplot(['deaths'],datasets=['deaths_corrected_smoothed'])\n",
    "#MyModel.solveplot(['confirmed'],datasets=['cases'])\n",
    "MyModel.solveplot(['deaths'],datasets=['deaths'])"
   ]
  },
  {
   "cell_type": "code",
   "execution_count": null,
   "metadata": {},
   "outputs": [],
   "source": [
    "MyModel.solveplot(['deaths','confirmed'],\n",
    "                  datasets=['deaths_corrected_smoothed','confirmed_corrected_smoothed'],\n",
    "                  mag={'deaths':30.})"
   ]
  },
  {
   "cell_type": "markdown",
   "metadata": {},
   "source": [
    "### SEI3R"
   ]
  },
  {
   "cell_type": "code",
   "execution_count": null,
   "metadata": {
    "scrolled": false
   },
   "outputs": [],
   "source": [
    "country = 'Germany'\n",
    "###############################################\n",
    "## do the fit\n",
    "#MyModel = ModelFit('SC3EI3R',basedata=bd,data=ClData.clusdata_all,country=country,run_id=\"_test1\",data_src='cluster')\n",
    "MyModel = ModelFit('SEI3R',basedata=bd,data=bd.covid_ts,country=country,run_id=\"_test1\",data_src='jhu')"
   ]
  },
  {
   "cell_type": "code",
   "execution_count": null,
   "metadata": {},
   "outputs": [],
   "source": [
    "params_init_min_max = {\n",
    "                   \"beta_1\": (0.4, 0.3, 0.8,0.001),\n",
    "                   \"mu\": (.05,0.0,0.15,0.001),\n",
    "                   #\"c_0\": (0.1, 0.05, 1.0,0.001), \n",
    "                   #\"c_1\": (0.07, 0.0, 0.1,0.001),\n",
    "                   #\"c_2\": (5., 1., 8., 0.01), \n",
    "                   \"logI_0\": (-6.,-9.,-3.,0.001)}\n",
    "MyModel.model.parameters = {p:params_init_min_max[p][0] for p in params_init_min_max if p != 'logI_0'}\n",
    "MyModel.params.update({p:params_init_min_max[p][0] for p in params_init_min_max if p != 'logI_0'})"
   ]
  },
  {
   "cell_type": "code",
   "execution_count": null,
   "metadata": {},
   "outputs": [],
   "source": [
    "MyModel.params"
   ]
  },
  {
   "cell_type": "code",
   "execution_count": null,
   "metadata": {},
   "outputs": [],
   "source": [
    "# MyModel.fit(params_init_min_max,diag=False) without fit report\n",
    "fit_ctrl = {'max_nfev':None,'ftol':0.001,'xtol':0.01,'epsfcn':0.0001} # one can try setting these to improve fit behaviour\n",
    "#fit_ctrl = {}\n",
    "# MyModel.fit(params_init_min_max,fit_targets=['deaths'],fit_data=['deaths_corrected_smoothed'],diag=True,report=True,conf_interval=False,fit_kws=fit_ctrl)\n",
    "# MyModel.fit(params_init_min_max,fit_targets=['confirmed'],fit_data=['confirmed_corrected_smoothed'],diag=True,report=True,conf_interval=False,fit_kws=fit_ctrl)\n",
    "#MyModel.fit(params_init_min_max,fit_method='differential_evolution',fit_targets=['deaths'],fit_data=['deaths_corrected_smoothed'],diag=True,report=True,conf_interval=False,fit_kws=fit_ctrl)\n",
    "\n",
    "MyModel.fit(params_init_min_max,fit_method='leastsq',fit_targets=['deaths'],fit_data='default',diag=True,report=True,conf_interval=False,fit_kws=fit_ctrl)\n",
    "#MyModel.fit(params_init_min_max,fit_method='nelder',fit_targets=['deaths'],fit_data='default',diag=True,report=True,conf_interval=False)\n",
    "\n",
    "\n",
    "# MyModel.fit(params_init_min_max,fit_targets=['deaths','confirmed'],fit_data=['deaths_corrected_smoothed','confirmed_corrected_smoothed'])"
   ]
  },
  {
   "cell_type": "code",
   "execution_count": null,
   "metadata": {},
   "outputs": [],
   "source": [
    "#MyModel.solveplot(['confirmed'],datasets=['confirmed_corrected_smoothed'])\n",
    "#MyModel.solveplot(['deaths'],datasets=['deaths_corrected_smoothed'])\n",
    "#MyModel.solveplot(['confirmed'],datasets=['cases'])\n",
    "MyModel.solveplot(['deaths'],datasets=['deaths'])"
   ]
  },
  {
   "cell_type": "code",
   "execution_count": null,
   "metadata": {},
   "outputs": [],
   "source": [
    "MyModel.solveplot(['deaths','confirmed'],\n",
    "                  datasets=['deaths_corrected_smoothed','confirmed_corrected_smoothed'],\n",
    "                  mag={'deaths':30.})"
   ]
  },
  {
   "cell_type": "code",
   "execution_count": null,
   "metadata": {},
   "outputs": [],
   "source": [
    "fit_ctrl = {'max_nfev':None,'ftol':0.001,'xtol':0.01,'epsfcn':0.0001} # one can try setting these to improve fit behaviour\n",
    "#fit_ctrl = {}\n",
    "# MyModel.fit(params_init_min_max,fit_targets=['deaths'],fit_data=['deaths_corrected_smoothed'],diag=True,report=True,conf_interval=False,fit_kws=fit_ctrl)\n",
    "# MyModel.fit(params_init_min_max,fit_targets=['confirmed'],fit_data=['confirmed_corrected_smoothed'],diag=True,report=True,conf_interval=False,fit_kws=fit_ctrl)\n",
    "#MyModel.fit(params_init_min_max,fit_method='differential_evolution',fit_targets=['deaths'],fit_data=['deaths_corrected_smoothed'],diag=True,report=True,conf_interval=False,fit_kws=fit_ctrl)\n",
    "\n",
    "#MyModel.fit(params_init_min_max,fit_method='leastsq',fit_targets=['deaths','confirmed'],fit_data='default',diag=True,report=True,conf_interval=False,fit_kws=fit_ctrl)\n",
    "#MyModel.fit(params_init_min_max,fit_method='leastsq',fit_targets=['deaths','confirmed'],fit_data='default',diag=True,report=True,conf_interval=False,fit_kws=fit_ctrl)\n",
    "\n",
    "MyModel.fit(params_init_min_max,fit_method='nelder',fit_targets=['deaths','confirmed'],fit_data='default',diag=True,report=True,conf_interval=False)\n",
    "\n",
    "\n",
    "# MyModel.fit(params_init_min_max,fit_targets=['deaths','confirmed'],fit_data=['deaths_corrected_smoothed','confirmed_corrected_smoothed'])"
   ]
  },
  {
   "cell_type": "code",
   "execution_count": null,
   "metadata": {},
   "outputs": [],
   "source": []
  },
  {
   "cell_type": "code",
   "execution_count": null,
   "metadata": {},
   "outputs": [],
   "source": [
    "#MyModel.solveplot(['confirmed'],datasets=['confirmed_corrected_smoothed'])\n",
    "#MyModel.solveplot(['deaths'],datasets=['deaths_corrected_smoothed'])\n",
    "#MyModel.solveplot(['confirmed'],datasets=['cases'])\n",
    "MyModel.solveplot(['deaths'],datasets=['deaths'])"
   ]
  },
  {
   "cell_type": "code",
   "execution_count": null,
   "metadata": {},
   "outputs": [],
   "source": [
    "MyModel.solveplot(['deaths','confirmed'],\n",
    "                  datasets=['deaths_corrected_smoothed','confirmed_corrected_smoothed'],\n",
    "                  mag={'deaths':30.})"
   ]
  },
  {
   "cell_type": "code",
   "execution_count": null,
   "metadata": {},
   "outputs": [],
   "source": [
    "# this line requires fit with diag=True\n",
    "plt.semilogy(MyModel.residall);"
   ]
  },
  {
   "cell_type": "code",
   "execution_count": null,
   "metadata": {},
   "outputs": [],
   "source": [
    "# this cell require fit to be run with diag=True\n",
    "pars = [x for x in MyModel.paramall[0]]\n",
    "print(pars)\n",
    "for pp in pars:\n",
    "    pt = [x[pp].value for x in MyModel.paramall]\n",
    "    plt.plot(pt)\n",
    "    plt.title(pp)\n",
    "    plt.show()"
   ]
  },
  {
   "cell_type": "code",
   "execution_count": null,
   "metadata": {},
   "outputs": [],
   "source": [
    "MyModel.prparams()"
   ]
  },
  {
   "cell_type": "code",
   "execution_count": null,
   "metadata": {},
   "outputs": [],
   "source": [
    "np.power(10,3)"
   ]
  },
  {
   "cell_type": "markdown",
   "metadata": {},
   "source": [
    "## Trying different fitting methods...\n",
    "\n",
    "see [lmfit documentation](https://lmfit.github.io/lmfit-py/fitting.html) on fitting methods for the list.\n",
    "\n",
    "In this section I am using the same basic template to repeat the basic fitting operation with different fitting methods.\n",
    "\n",
    "All seem to work.  Some comments:\n",
    "* some (e.g. leastsq, differential_evolution) seem to hop all over the place, giving wildly varying residual socre and param convergence.\n",
    "* some (powell, cobyla)seem to converge fast at beginning, with a slow tail (view residual plot with semilog)\n",
    "* initially chose nelder, because of consistent gradual convergence.\n",
    "* then switched back to leastsq as it gave fast reliable results after other problems had been resolved"
   ]
  },
  {
   "cell_type": "markdown",
   "metadata": {},
   "source": [
    "## USA"
   ]
  },
  {
   "cell_type": "markdown",
   "metadata": {
    "heading_collapsed": true
   },
   "source": [
    "### just deaths\n",
    "\n",
    "NB: must do owid, key error with jhu"
   ]
  },
  {
   "cell_type": "code",
   "execution_count": null,
   "metadata": {
    "hidden": true
   },
   "outputs": [],
   "source": [
    "[x for x in bd.covid_ts['deaths'] if 'US' in x]"
   ]
  },
  {
   "cell_type": "code",
   "execution_count": null,
   "metadata": {
    "hidden": true,
    "scrolled": false
   },
   "outputs": [],
   "source": [
    "country = 'United States'\n",
    "###############################################\n",
    "## do the fit\n",
    "#MyModel = ModelFit('SC3EI3R',basedata=bd,data=ClData.clusdata_all,country=country,run_id=\"_test1\",data_src='cluster')\n",
    "MyModel = ModelFit('SC3EI3R',basedata=bd,data=bd.covid_ts,country=country,run_id=\"_test1\",data_src='owid')"
   ]
  },
  {
   "cell_type": "code",
   "execution_count": null,
   "metadata": {
    "hidden": true
   },
   "outputs": [],
   "source": [
    "params_init_min_max = {\n",
    "                   \"beta_1\": (0.4, 0.3, 0.6,0.001),\n",
    "                   #\"mu\": (.05,0.03,0.15,0.001),\n",
    "                   \"c_0\": (0.1, 0.05, 1.0,0.001), \n",
    "                   \"c_1\": (0.07, 0.0, 0.1,0.001),\n",
    "                   #\"c_2\": (5., 1., 8., 0.01), \n",
    "                    \"logI_0\": (-6.,-9.,-5.,0.001)}\n",
    "MyModel.model.parameters = {p:params_init_min_max[p][0] for p in params_init_min_max if p != 'logI_0'}\n",
    "MyModel.params.update({p:params_init_min_max[p][0] for p in params_init_min_max if p != 'logI_0'})"
   ]
  },
  {
   "cell_type": "code",
   "execution_count": null,
   "metadata": {
    "hidden": true
   },
   "outputs": [],
   "source": [
    "MyModel.params"
   ]
  },
  {
   "cell_type": "code",
   "execution_count": null,
   "metadata": {
    "hidden": true
   },
   "outputs": [],
   "source": [
    "# MyModel.fit(params_init_min_max,diag=False) without fit report\n",
    "fit_ctrl = {'max_nfev':None,'ftol':0.001,'xtol':0.01,'epsfcn':0.0001} # one can try setting these to improve fit behaviour\n",
    "#fit_ctrl = {}\n",
    "# MyModel.fit(params_init_min_max,fit_targets=['deaths'],fit_data=['deaths_corrected_smoothed'],diag=True,report=True,conf_interval=False,fit_kws=fit_ctrl)\n",
    "# MyModel.fit(params_init_min_max,fit_targets=['confirmed'],fit_data=['confirmed_corrected_smoothed'],diag=True,report=True,conf_interval=False,fit_kws=fit_ctrl)\n",
    "#MyModel.fit(params_init_min_max,fit_method='differential_evolution',fit_targets=['deaths'],fit_data=['deaths_corrected_smoothed'],diag=True,report=True,conf_interval=False,fit_kws=fit_ctrl)\n",
    "\n",
    "#MyModel.fit(params_init_min_max,fit_method='leastsq',fit_targets=['deaths'],fit_data='default',diag=True,report=True,conf_interval=False,fit_kws=fit_ctrl)\n",
    "MyModel.fit(params_init_min_max,fit_method='nelder',fit_targets=['deaths'],fit_data='default',diag=True,report=True,conf_interval=False)\n",
    "\n",
    "\n",
    "# MyModel.fit(params_init_min_max,fit_targets=['deaths','confirmed'],fit_data=['deaths_corrected_smoothed','confirmed_corrected_smoothed'])"
   ]
  },
  {
   "cell_type": "code",
   "execution_count": null,
   "metadata": {
    "hidden": true
   },
   "outputs": [],
   "source": [
    "#MyModel.solveplot(['confirmed'],datasets=['confirmed_corrected_smoothed'])\n",
    "#MyModel.solveplot(['deaths'],datasets=['deaths_corrected_smoothed'])\n",
    "#MyModel.solveplot(['confirmed'],datasets=['cases'])\n",
    "MyModel.solveplot(['deaths'],datasets=['deaths'])"
   ]
  },
  {
   "cell_type": "code",
   "execution_count": null,
   "metadata": {
    "hidden": true
   },
   "outputs": [],
   "source": [
    "MyModel.solveplot(['deaths','confirmed'],datasets=['deaths_corrected_smoothed','confirmed_corrected_smoothed'],mag={'deaths':30.})"
   ]
  },
  {
   "cell_type": "code",
   "execution_count": null,
   "metadata": {
    "hidden": true
   },
   "outputs": [],
   "source": [
    "# this line requires fit with diag=True\n",
    "plt.semilogy(MyModel.residall);"
   ]
  },
  {
   "cell_type": "code",
   "execution_count": null,
   "metadata": {
    "hidden": true
   },
   "outputs": [],
   "source": [
    "foo = MyModel.solve4fit('deaths','deaths_corrected_smoothed')\n",
    "\n",
    "plt.plot(foo['deaths']['data'],'o',alpha=0.2);\n",
    "plt.plot(foo['deaths']['soln'],color='red');"
   ]
  },
  {
   "cell_type": "code",
   "execution_count": null,
   "metadata": {
    "hidden": true
   },
   "outputs": [],
   "source": [
    "# this cell require fit to be run with diag=True\n",
    "pars = [x for x in MyModel.paramall[0]]\n",
    "pars"
   ]
  },
  {
   "cell_type": "code",
   "execution_count": null,
   "metadata": {
    "hidden": true
   },
   "outputs": [],
   "source": [
    "for pp in pars:\n",
    "    pt = [x[pp].value for x in MyModel.paramall]\n",
    "    plt.plot(pt)\n",
    "    plt.title(pp)\n",
    "    plt.show()"
   ]
  },
  {
   "cell_type": "code",
   "execution_count": null,
   "metadata": {
    "hidden": true
   },
   "outputs": [],
   "source": [
    "p0 = [x[pars[-1]] for x in MyModel.paramall]\n",
    "plt.plot(p0);"
   ]
  },
  {
   "cell_type": "code",
   "execution_count": null,
   "metadata": {
    "hidden": true
   },
   "outputs": [],
   "source": [
    "# outfit.params\n",
    "MyModel.params"
   ]
  },
  {
   "cell_type": "markdown",
   "metadata": {},
   "source": [
    "### fit deaths+confirmed"
   ]
  },
  {
   "cell_type": "code",
   "execution_count": null,
   "metadata": {
    "scrolled": true
   },
   "outputs": [],
   "source": [
    "country = 'United States'\n",
    "###############################################\n",
    "## do the fit\n",
    "MyModel = ModelFit('SC3EI3R',basedata=bd.covid_ts,country=country,run_id=\"_test1\",data_src='owid')"
   ]
  },
  {
   "cell_type": "code",
   "execution_count": null,
   "metadata": {},
   "outputs": [],
   "source": [
    "params_init_min_max = {\n",
    "                   \"beta_1\": (0.4, 0.3, 0.6,0.001),\n",
    "                   \"mu\": (.05,0.03,0.15,0.001),\n",
    "                   \"c_0\": (0.1, 0.05, 1.0,0.001), \n",
    "                   \"c_1\": (0.07, 0.0, 0.1,0.001),\n",
    "                   \"c_2\": (5., 1., 8., 0.01), \n",
    "                    \"logI_0\": (-6.,-9.,-5.,0.001)}\n",
    "MyModel.model.parameters = {p:params_init_min_max[p][0] for p in params_init_min_max if p != 'logI_0'}\n",
    "MyModel.params.update({p:params_init_min_max[p][0] for p in params_init_min_max if p != 'logI_0'})"
   ]
  },
  {
   "cell_type": "code",
   "execution_count": null,
   "metadata": {
    "scrolled": false
   },
   "outputs": [],
   "source": [
    "MyModel.params"
   ]
  },
  {
   "cell_type": "code",
   "execution_count": null,
   "metadata": {},
   "outputs": [],
   "source": [
    "# MyModel.fit(params_init_min_max,diag=False) without fit report\n",
    "# fit_ctrl = {'max_nfev':None,'ftol':0.001,'xtol':0.01,'epsfcn':0.0001} # one can try setting these to improve fit behaviour\n",
    "fit_ctrl = {}\n",
    "# MyModel.fit(params_init_min_max,fit_targets=['deaths'],fit_data=['deaths_corrected_smoothed'],diag=True,report=True,conf_interval=False,fit_kws=fit_ctrl)\n",
    "# MyModel.fit(params_init_min_max,fit_targets=['confirmed'],fit_data=['confirmed_corrected_smoothed'],diag=True,report=True,conf_interval=False,fit_kws=fit_ctrl)\n",
    "MyModel.fit(params_init_min_max,fit_targets=['deaths','confirmed'],fit_data=['deaths_corrected_smoothed','confirmed_nonlinr_corrected_smoothed'],diag=True,report=True,conf_interval=False,fit_kws=fit_ctrl)\n",
    "# MyModel.fit(params_init_min_max,fit_targets=['deaths','confirmed'],fit_data=['deaths_corrected_smoothed','confirmed_corrected_smoothed'])"
   ]
  },
  {
   "cell_type": "code",
   "execution_count": null,
   "metadata": {},
   "outputs": [],
   "source": [
    "MyModel.solveplot(['confirmed'],datasets=['confirmed_corrected_smoothed'])\n",
    "MyModel.solveplot(['deaths'],datasets=['deaths_corrected_smoothed'])"
   ]
  },
  {
   "cell_type": "code",
   "execution_count": null,
   "metadata": {},
   "outputs": [],
   "source": [
    "# this line requires fit with diag=True\n",
    "plt.semilogy(MyModel.residall);"
   ]
  },
  {
   "cell_type": "code",
   "execution_count": null,
   "metadata": {},
   "outputs": [],
   "source": [
    "foo = MyModel.solve4fit('deaths','deaths_corrected_smoothed')\n",
    "\n",
    "plt.plot(foo['deaths']['data'],'o',alpha=0.2);\n",
    "plt.plot(foo['deaths']['soln'],color='red');"
   ]
  },
  {
   "cell_type": "code",
   "execution_count": null,
   "metadata": {},
   "outputs": [],
   "source": [
    "# this cell require fit to be run with diag=True\n",
    "pars = [x for x in MyModel.paramall[0]]\n",
    "pars"
   ]
  },
  {
   "cell_type": "code",
   "execution_count": null,
   "metadata": {},
   "outputs": [],
   "source": [
    "for pp in pars:\n",
    "    pt = [x[pp].value for x in MyModel.paramall]\n",
    "    plt.plot(pt)\n",
    "    plt.title(pp)\n",
    "    plt.show()"
   ]
  },
  {
   "cell_type": "markdown",
   "metadata": {},
   "source": [
    "### fit deaths+ testing adjusted confirmed"
   ]
  },
  {
   "cell_type": "code",
   "execution_count": null,
   "metadata": {
    "scrolled": true
   },
   "outputs": [],
   "source": [
    "country = 'United States'\n",
    "###############################################\n",
    "## do the fit\n",
    "MyModel = ModelFit('SC3EI3R',country=country,run_id=\"_test1\",data_src='owid')"
   ]
  },
  {
   "cell_type": "code",
   "execution_count": null,
   "metadata": {},
   "outputs": [],
   "source": [
    "params_init_min_max = {\n",
    "                   \"beta_1\": (0.4, 0.3, 0.6,0.001),\n",
    "                   \"mu\": (.05,0.03,0.15,0.001),\n",
    "                   \"c_0\": (0.1, 0.05, 1.0,0.001), \n",
    "                   \"c_1\": (0.07, 0.0, 0.1,0.001),\n",
    "                   \"c_2\": (5., 1., 8., 0.01), \n",
    "                    \"logI_0\": (-6.,-9.,-5.,0.001)}\n",
    "MyModel.model.parameters = {p:params_init_min_max[p][0] for p in params_init_min_max if p != 'logI_0'}\n",
    "MyModel.params.update({p:params_init_min_max[p][0] for p in params_init_min_max if p != 'logI_0'})"
   ]
  },
  {
   "cell_type": "code",
   "execution_count": null,
   "metadata": {
    "scrolled": false
   },
   "outputs": [],
   "source": [
    "MyModel.params"
   ]
  },
  {
   "cell_type": "code",
   "execution_count": null,
   "metadata": {},
   "outputs": [],
   "source": [
    "testdata = covid_owid_ts['confirmed_corrected_smoothed']\n",
    "print(len(testdata),len(testdata['United States']))\n",
    "testdatar = covid_owid_ts['confirmed_nonlinr_corrected_smoothed']\n",
    "print(len(testdatar),len(testdatar['United States']))\n"
   ]
  },
  {
   "cell_type": "code",
   "execution_count": null,
   "metadata": {},
   "outputs": [],
   "source": [
    "# MyModel.fit(params_init_min_max,diag=False) without fit report\n",
    "# fit_ctrl = {'max_nfev':None,'ftol':0.001,'xtol':0.01,'epsfcn':0.0001} # one can try setting these to improve fit behaviour\n",
    "fit_ctrl = {}\n",
    "# MyModel.fit(params_init_min_max,fit_targets=['deaths'],fit_data=['deaths_corrected_smoothed'],diag=True,report=True,conf_interval=False,fit_kws=fit_ctrl)\n",
    "# MyModel.fit(params_init_min_max,fit_targets=['confirmed'],fit_data=['confirmed_corrected_smoothed'],diag=True,report=True,conf_interval=False,fit_kws=fit_ctrl)\n",
    "MyModel.fit(params_init_min_max,fit_targets=['deaths','confirmed'],fit_data=['deaths_corrected_smoothed','confirmed_nonlinr_corrected_smoothed'],diag=True,report=True,conf_interval=False,fit_kws=fit_ctrl)\n",
    "# MyModel.fit(params_init_min_max,fit_targets=['deaths','confirmed'],fit_data=['deaths_corrected_smoothed','confirmed_corrected_smoothed'])"
   ]
  },
  {
   "cell_type": "code",
   "execution_count": null,
   "metadata": {},
   "outputs": [],
   "source": [
    "MyModel.solveplot(['confirmed'],datasets=['confirmed_nonlinr_corrected_smoothed'])\n",
    "MyModel.solveplot(['deaths'],datasets=['deaths_corrected_smoothed'])"
   ]
  },
  {
   "cell_type": "code",
   "execution_count": null,
   "metadata": {},
   "outputs": [],
   "source": [
    "# this line requires fit with diag=True\n",
    "plt.semilogy(MyModel.residall);"
   ]
  },
  {
   "cell_type": "code",
   "execution_count": null,
   "metadata": {},
   "outputs": [],
   "source": [
    "foo = MyModel.solve4fit('deaths','deaths_corrected_smoothed')\n",
    "\n",
    "plt.plot(foo['deaths']['data'],'o',alpha=0.2);\n",
    "plt.plot(foo['deaths']['soln'],color='red');"
   ]
  },
  {
   "cell_type": "code",
   "execution_count": null,
   "metadata": {},
   "outputs": [],
   "source": [
    "# this cell require fit to be run with diag=True\n",
    "pars = [x for x in MyModel.paramall[0]]\n",
    "pars"
   ]
  },
  {
   "cell_type": "code",
   "execution_count": null,
   "metadata": {},
   "outputs": [],
   "source": [
    "for pp in pars:\n",
    "    pt = [x[pp].value for x in MyModel.paramall]\n",
    "    plt.plot(pt)\n",
    "    plt.title(pp)\n",
    "    plt.show()"
   ]
  },
  {
   "cell_type": "markdown",
   "metadata": {},
   "source": [
    "### fit deaths only"
   ]
  },
  {
   "cell_type": "code",
   "execution_count": null,
   "metadata": {},
   "outputs": [],
   "source": [
    "# MyModel.fit(params_init_min_max,diag=False) without fit report\n",
    "# fit_ctrl = {'max_nfev':None,'ftol':0.001,'xtol':0.01,'epsfcn':0.0001} # one can try setting these to improve fit behaviour\n",
    "fit_ctrl = {}\n",
    "# MyModel.fit(params_init_min_max,fit_targets=['deaths'],fit_data=['deaths_corrected_smoothed'],diag=True,report=True,conf_interval=False,fit_kws=fit_ctrl)\n",
    "# MyModel.fit(params_init_min_max,fit_targets=['confirmed'],fit_data=['confirmed_corrected_smoothed'],diag=True,report=True,conf_interval=False,fit_kws=fit_ctrl)\n",
    "MyModel.fit(params_init_min_max,fit_targets=['deaths'],fit_data=['deaths_corrected_smoothed'],diag=True,report=True,conf_interval=False,fit_kws=fit_ctrl)\n",
    "# MyModel.fit(params_init_min_max,fit_targets=['deaths','confirmed'],fit_data=['deaths_corrected_smoothed','confirmed_corrected_smoothed'])"
   ]
  },
  {
   "cell_type": "code",
   "execution_count": null,
   "metadata": {},
   "outputs": [],
   "source": []
  },
  {
   "cell_type": "code",
   "execution_count": null,
   "metadata": {},
   "outputs": [],
   "source": [
    "MyModel.solveplot(['confirmed'],datasets=['confirmed_corrected_smoothed'])\n",
    "MyModel.solveplot(['deaths'],datasets=['deaths_corrected_smoothed'])"
   ]
  },
  {
   "cell_type": "code",
   "execution_count": null,
   "metadata": {},
   "outputs": [],
   "source": [
    "foo = MyModel.solve4fit('deaths','deaths_corrected_smoothed')\n",
    "\n",
    "plt.plot(foo['deaths']['data'],'o',alpha=0.2);\n",
    "plt.plot(foo['deaths']['soln'],color='red');"
   ]
  },
  {
   "cell_type": "code",
   "execution_count": null,
   "metadata": {},
   "outputs": [],
   "source": [
    "# this line requires fit with diag=True\n",
    "plt.semilogy(MyModel.residall);"
   ]
  },
  {
   "cell_type": "code",
   "execution_count": null,
   "metadata": {},
   "outputs": [],
   "source": [
    "# this cell require fit to be run with diag=True\n",
    "pars = [x for x in MyModel.paramall[0]]\n",
    "pars"
   ]
  },
  {
   "cell_type": "code",
   "execution_count": null,
   "metadata": {},
   "outputs": [],
   "source": [
    "for pp in pars:\n",
    "    pt = [x[pp].value for x in MyModel.paramall]\n",
    "    plt.plot(pt)\n",
    "    plt.title(pp)\n",
    "    plt.show()"
   ]
  },
  {
   "cell_type": "code",
   "execution_count": null,
   "metadata": {},
   "outputs": [],
   "source": [
    "p0 = [x[pars[-1]] for x in MyModel.paramall]\n",
    "plt.plot(p0);"
   ]
  },
  {
   "cell_type": "markdown",
   "metadata": {},
   "source": [
    "# ModelFit with lmfit integrated"
   ]
  },
  {
   "cell_type": "markdown",
   "metadata": {},
   "source": [
    "## SC3EI3R "
   ]
  },
  {
   "cell_type": "markdown",
   "metadata": {},
   "source": [
    "### Test on Germany with method Nelder"
   ]
  },
  {
   "cell_type": "code",
   "execution_count": null,
   "metadata": {},
   "outputs": [],
   "source": [
    "#  for debugging class methods without having to reload all of model_fits.py:\n",
    "#  file containing only ModelFit class, \n",
    "exec(open('ModelFit.py','r').read())"
   ]
  },
  {
   "cell_type": "code",
   "execution_count": null,
   "metadata": {},
   "outputs": [],
   "source": [
    "[x for x in bd.covid_owid_ts['deaths']]"
   ]
  },
  {
   "cell_type": "code",
   "execution_count": null,
   "metadata": {},
   "outputs": [],
   "source": [
    "bd.covid_owid_ts['deaths']['dates'][-1]"
   ]
  },
  {
   "cell_type": "code",
   "execution_count": null,
   "metadata": {
    "scrolled": true
   },
   "outputs": [],
   "source": [
    "country = 'Germany'\n",
    "###############################################\n",
    "## do the fit\n",
    "MyModel = ModelFit('SC3EI3R',basedata=bd,data=bd.covid_owid_ts,country=country,run_id=\"_test2\")"
   ]
  },
  {
   "cell_type": "code",
   "execution_count": null,
   "metadata": {},
   "outputs": [],
   "source": []
  },
  {
   "cell_type": "code",
   "execution_count": null,
   "metadata": {},
   "outputs": [],
   "source": [
    "params_init_min_max = {\"beta_1\": (0.2, 0., 2.,0.001),\n",
    "                   \"mu\": (.1,0.,.2,0.001),\n",
    "                   \"c_0\": (0.1, 0., 1.0,0.001), \n",
    "                   \"c_1\": (0.05, 0.0, 0.5,0.001),\n",
    "                   \"c_2\": (2., 0.,20.,0.01), \n",
    "                    \"logI_0\": (-6.,-10.,0.0,0.01)}\n",
    "MyModel.model.parameters = {p:params_init_min_max[p][0] for p in params_init_min_max if p != 'logI_0'}\n",
    "MyModel.params.update({p:params_init_min_max[p][0] for p in params_init_min_max if p != 'logI_0'})"
   ]
  },
  {
   "cell_type": "code",
   "execution_count": null,
   "metadata": {},
   "outputs": [],
   "source": [
    "MyModel.params"
   ]
  },
  {
   "cell_type": "code",
   "execution_count": null,
   "metadata": {},
   "outputs": [],
   "source": [
    "# MyModel.fit(params_init_min_max,diag=False) without fit report\n",
    "MyModel.fit(params_init_min_max,fit_method='nelder',fit_targets=['deaths','confirmed'],fit_data=['deaths_corrected_smoothed','confirmed_corrected_smoothed'],diag=False,report=True)"
   ]
  },
  {
   "cell_type": "code",
   "execution_count": null,
   "metadata": {},
   "outputs": [],
   "source": [
    "MyModel.solveplot('deaths',datasets=['deaths_corrected_smoothed'])\n",
    "MyModel.solveplot('confirmed',datasets=['confirmed_corrected_smoothed'])"
   ]
  },
  {
   "cell_type": "markdown",
   "metadata": {},
   "source": [
    "#### slider plot"
   ]
  },
  {
   "cell_type": "code",
   "execution_count": null,
   "metadata": {},
   "outputs": [],
   "source": [
    "from IPython.display import display, HTML\n",
    "from ipywidgets.widgets import interact, interactive, IntSlider, FloatSlider, Layout, ToggleButton, ToggleButtons, fixed\n",
    "display(HTML(\"<style>.container { width:100% !important; }</style>\"))\n",
    "style = {'description_width': '100px'}\n",
    "slider_layout = Layout(width='99%')"
   ]
  },
  {
   "cell_type": "code",
   "execution_count": null,
   "metadata": {},
   "outputs": [],
   "source": [
    "params_init_min_max_slider = params_init_min_max.copy()\n",
    "params_init_min_max_slider = MyModel.transfer_fit_to_params_init(params_init_min_max_slider)"
   ]
  },
  {
   "cell_type": "code",
   "execution_count": null,
   "metadata": {},
   "outputs": [],
   "source": [
    "sliderparams = MyModel.allsliderparams(params_init_min_max_slider)\n",
    "if sliderparams:\n",
    "    w=interactive(MyModel.slidefitplot,param_class=fixed('ode'),**sliderparams)\n",
    "    display(w)"
   ]
  },
  {
   "cell_type": "code",
   "execution_count": null,
   "metadata": {},
   "outputs": [],
   "source": [
    "params_init_min_max_slider = MyModel.transfer_fit_to_params_init(params_init_min_max_slider)"
   ]
  },
  {
   "cell_type": "code",
   "execution_count": null,
   "metadata": {
    "scrolled": true
   },
   "outputs": [],
   "source": [
    "MyModel.prparams()"
   ]
  },
  {
   "cell_type": "markdown",
   "metadata": {},
   "source": [
    "### Test on USA"
   ]
  },
  {
   "cell_type": "code",
   "execution_count": null,
   "metadata": {
    "scrolled": true
   },
   "outputs": [],
   "source": [
    "country = 'United States'\n",
    "###############################################\n",
    "## do the fit\n",
    "MyModel = ModelFit('SC3EI3R',country=country,run_id=\"_test2\",new=True)"
   ]
  },
  {
   "cell_type": "code",
   "execution_count": null,
   "metadata": {},
   "outputs": [],
   "source": [
    "params_init_min_max = {\"beta_1\": (0.4, 0., 2.,0.001),\n",
    "                   \"mu\": (.1,0.,.2,0.001),\n",
    "                   \"c_0\": (0.1, 0., 1.0,0.001), \n",
    "                   \"c_1\": (0.05, 0.0, 0.5,0.001),\n",
    "                   \"c_2\": (2., 0.,20.,0.01), \n",
    "                    \"logI_0\": (-6.,-10.,0.0,0.01)}\n",
    "MyModel.model.parameters = {p:params_init_min_max[p][0] for p in params_init_min_max if p != 'logI_0'}\n",
    "MyModel.params.update({p:params_init_min_max[p][0] for p in params_init_min_max if p != 'logI_0'})"
   ]
  },
  {
   "cell_type": "code",
   "execution_count": null,
   "metadata": {},
   "outputs": [],
   "source": [
    "countries[0]"
   ]
  },
  {
   "cell_type": "code",
   "execution_count": null,
   "metadata": {},
   "outputs": [],
   "source": [
    "short_countries = ['United States','Spain','Peru','Italy','Germany','Sweden','Iran','Russia']"
   ]
  },
  {
   "cell_type": "code",
   "execution_count": null,
   "metadata": {},
   "outputs": [],
   "source": [
    "params_init_min_max = {\"beta_1\": (0.2, 0.0, 2.0,0.001),\n",
    "                   \"mu\": (.1,0.,.2,0.001),\n",
    "                   \"c_0\": (0.1, 0., 1.0,0.001), \n",
    "                   \"c_1\": (0.05, 0.0, 0.5,0.001),\n",
    "                   \"c_2\": (2., 0.,20.,0.01), \n",
    "                    \"logI_0\": (-6.,-10.,0.0,0.01)}\n",
    "MyModel = ModelFit('SC3EI3R',country=country,run_id=\"_scan\",new=True) # run_id labels parameter dump files\n",
    "MyModel.model.parameters = {p:params_init_min_max[p][0] for p in params_init_min_max if p != 'logI_0'}\n",
    "MyModel.params.update({p:params_init_min_max[p][0] for p in params_init_min_max if p != 'logI_0'})\n",
    "MyModel.fit(params_init_min_max,fit_method=mymethod,diag=True,fit_targets=['deaths','confirmed'],fit_data=['deaths_corrected_smoothed','confirmed_corrected_smoothed'])"
   ]
  },
  {
   "cell_type": "code",
   "execution_count": null,
   "metadata": {},
   "outputs": [],
   "source": [
    "cnt=0\n",
    "max_cols=8\n",
    "max_rows=int(len(short_countries)/max_cols) + 1\n",
    "# max_rows = 2   # for short test...\n",
    "fig, axes = plt.subplots(nrows=max_rows, ncols=max_cols, figsize=(24,3*max_rows))\n",
    "\n",
    "\n",
    "# params optimized in fit\n",
    "params_init_min_max = {\"beta_1\": (0.4, 0.1, 0.6),\n",
    "                       \"mu\": (.1,0.,.2),\n",
    "                       \"c_0\": (0.1, 0., 1.0),\n",
    "                       \"c_1\": (0.07, 0.0, 0.5),\n",
    "                       \"c_2\": (5., 2.,20.),\n",
    "                       \"logI_0\": (-6.,-10.,0.0)}\n",
    "\n",
    "\n",
    "for idx, country  in enumerate(short_countries):\n",
    "    row = idx // max_cols\n",
    "    col = idx % max_cols\n",
    "    ###############################################\n",
    "    ## do the fit\n",
    "    try:\n",
    "        MyModel = ModelFit('SC3EI3R',country=country,run_id=\"_scan\",new=True) # run_id labels parameter dump files\n",
    "        MyModel.fit(params_init_min_max,diag=False,fit_targets=['deaths','confirmed'],fit_data=['deaths_corrected_smoothed','confirmed_corrected_smoothed'])\n",
    "        MyModel.solveplot(species=['deaths','confirmed'],datasets=['deaths_corrected_smoothed','confirmed_corrected_smoothed'],axis=axes[row,col],newplot=False)       \n",
    "    except Exception as e:\n",
    "        print('Problem...')\n",
    "        print(sys.exc_info()[0])\n",
    "        print(e)\n",
    "    axes[row,col].set_title(country)\n",
    "    cnt = cnt+1\n",
    "    #if cnt==15:   # for short test\n",
    "    #    break\n",
    "    ###############################################\n",
    "\n",
    "for idx in range(cnt,max_rows*max_cols):\n",
    "    row = idx // max_cols\n",
    "    col = idx % max_cols\n",
    "    axes[row, col].axis(\"off\")\n",
    "#plt.subplots_adjust(wspace=.05, hspace=.05)\n",
    "fig.tight_layout()\n",
    "#for ax in fig.get_axes():\n",
    "#    ax.label_outer()\n",
    "plt.savefig('scan.SC3EI3R.pdf')\n",
    "plt.show()"
   ]
  },
  {
   "cell_type": "code",
   "execution_count": null,
   "metadata": {},
   "outputs": [],
   "source": [
    "# this line requires fit with diag=True\n",
    "plt.semilogy(MyModel.residall);"
   ]
  },
  {
   "cell_type": "code",
   "execution_count": null,
   "metadata": {},
   "outputs": [],
   "source": [
    "# this cell require fit to be run with diag=True\n",
    "pars = [x for x in MyModel.paramall[0]]\n",
    "pars"
   ]
  },
  {
   "cell_type": "code",
   "execution_count": null,
   "metadata": {},
   "outputs": [],
   "source": [
    "for pp in pars:\n",
    "    pt = [x[pp].value for x in MyModel.paramall]\n",
    "    plt.plot(pt)\n",
    "    plt.title(pp)\n",
    "    plt.show()"
   ]
  },
  {
   "cell_type": "code",
   "execution_count": null,
   "metadata": {},
   "outputs": [],
   "source": [
    "params_init_min_max = {\"beta_1\": (0.4, 0, 2.0,0.001),\n",
    "                   \"mu\": (.1,0.,.2,0.001),\n",
    "                   \"c_0\": (0.1, 0., 1.0,0.001), \n",
    "                   \"c_1\": (0.05, 0.0, 0.5,0.001),\n",
    "                   \"c_2\": (2., 0.,20.,0.01), \n",
    "                    \"logI_0\": (-6.,-10.,0.0,0.01)}\n",
    "MyModel = ModelFit('SC3EI3R',country=country,run_id=\"_scan\",new=True) # run_id labels parameter dump files\n",
    "MyModel.model.parameters = {p:params_init_min_max[p][0] for p in params_init_min_max if p != 'logI_0'}\n",
    "MyModel.params.update({p:params_init_min_max[p][0] for p in params_init_min_max if p != 'logI_0'})\n",
    "MyModel.fit(params_init_min_max,fit_method=mymethod,diag=True,fit_targets=['deaths','confirmed'],fit_data=['deaths_corrected_smoothed','confirmed_corrected_smoothed'])"
   ]
  },
  {
   "cell_type": "markdown",
   "metadata": {},
   "source": [
    "[[Variables]]\n",
    "    beta_1:  0.32665845 +/- 0.46153068 (141.29%) (init = 0.2)\n",
    "    mu:      0.09205437 +/- 0.06980213 (75.83%) (init = 0.1)\n",
    "    c_0:     0.18519038 +/- 0.21390488 (115.51%) (init = 0.1)\n",
    "    c_1:     0.16174352 +/- 0.16259196 (100.52%) (init = 0.05)\n",
    "    c_2:     9.32518629 +/- 6.93746369 (74.39%) (init = 2)\n",
    "    logI_0: -6.00779344 +/- 2.75916716 (45.93%) (init = -6)\n",
    "[[Correlations]] (unreported correlations are < 0.100)\n",
    "    C(beta_1, c_0) = -0.441\n",
    "    C(beta_1, c_2) =  0.229\n",
    "    C(c_1, c_2)    =  0.225\n",
    "    C(c_0, c_1)    =  0.124\n",
    "    C(beta_1, mu)  = -0.108\n",
    "    C(mu, c_0)     =  0.107"
   ]
  },
  {
   "cell_type": "code",
   "execution_count": null,
   "metadata": {
    "scrolled": false
   },
   "outputs": [],
   "source": [
    "MyModel.solveplot('deaths',datasets=['deaths_corrected_smoothed'])\n",
    "MyModel.solveplot('confirmed',datasets=['confirmed_corrected_smoothed'])"
   ]
  },
  {
   "cell_type": "code",
   "execution_count": null,
   "metadata": {},
   "outputs": [],
   "source": [
    "# this line requires fit with diag=True\n",
    "plt.semilogy(MyModel.residall);"
   ]
  },
  {
   "cell_type": "code",
   "execution_count": null,
   "metadata": {},
   "outputs": [],
   "source": [
    "# this cell require fit to be run with diag=True\n",
    "pars = [x for x in MyModel.paramall[0]]\n",
    "pars"
   ]
  },
  {
   "cell_type": "code",
   "execution_count": null,
   "metadata": {},
   "outputs": [],
   "source": [
    "for pp in pars:\n",
    "    pt = [x[pp].value for x in MyModel.paramall]\n",
    "    plt.plot(pt)\n",
    "    plt.title(pp)\n",
    "    plt.show()"
   ]
  },
  {
   "cell_type": "markdown",
   "metadata": {},
   "source": [
    "#### slider plot"
   ]
  },
  {
   "cell_type": "code",
   "execution_count": null,
   "metadata": {},
   "outputs": [],
   "source": [
    "from IPython.display import display, HTML\n",
    "from ipywidgets.widgets import interact, interactive, IntSlider, FloatSlider, Layout, ToggleButton, ToggleButtons, fixed\n",
    "display(HTML(\"<style>.container { width:100% !important; }</style>\"))\n",
    "style = {'description_width': '100px'}\n",
    "slider_layout = Layout(width='99%')"
   ]
  },
  {
   "cell_type": "code",
   "execution_count": null,
   "metadata": {},
   "outputs": [],
   "source": [
    "params_init_min_max_slider = params_init_min_max.copy()\n",
    "params_init_min_max_slider = MyModel.transfer_fit_to_params_init(params_init_min_max_slider)"
   ]
  },
  {
   "cell_type": "code",
   "execution_count": null,
   "metadata": {},
   "outputs": [],
   "source": [
    "sliderparams = MyModel.allsliderparams(params_init_min_max_slider)\n",
    "if sliderparams:\n",
    "    w=interactive(MyModel.slidefitplot,param_class=fixed('ode'),**sliderparams)\n",
    "    display(w)"
   ]
  },
  {
   "cell_type": "code",
   "execution_count": null,
   "metadata": {},
   "outputs": [],
   "source": [
    "params_init_min_max_slider = MyModel.transfer_fit_to_params_init(params_init_min_max_slider)"
   ]
  },
  {
   "cell_type": "code",
   "execution_count": null,
   "metadata": {
    "scrolled": true
   },
   "outputs": [],
   "source": [
    "MyModel.prparams()"
   ]
  },
  {
   "cell_type": "markdown",
   "metadata": {},
   "source": [
    "### Test Scan class"
   ]
  },
  {
   "cell_type": "code",
   "execution_count": null,
   "metadata": {},
   "outputs": [],
   "source": [
    "#  for debugging class methods without having to reload all of model_fits.py:\n",
    "#  file containing only ModelFit class, \n",
    "exec(open('ModelFit.py','r').read())"
   ]
  },
  {
   "cell_type": "code",
   "execution_count": null,
   "metadata": {},
   "outputs": [],
   "source": [
    "foo = ModelFit('SC3EI3R',basedata=bd,data=bd.covid_owid_ts,country=country,run_id=\"_scan\",new=True,data_src='owid') # run_id labels parameter dump files\n",
    "\n"
   ]
  },
  {
   "cell_type": "code",
   "execution_count": null,
   "metadata": {},
   "outputs": [],
   "source": [
    "short_countries = ['United States','Spain','Peru','Italy','Germany','Sweden','Iran','Russia']\n",
    "short_countries = ['United States','Spain','Peru']"
   ]
  },
  {
   "cell_type": "code",
   "execution_count": null,
   "metadata": {
    "scrolled": false
   },
   "outputs": [],
   "source": [
    "pinit = {\"beta_1\": (0.2, 0., 2.),\n",
    "         \"mu\": (.1,0.,.2),\n",
    "         \"c_0\": (0.1, 0., 1.0),\n",
    "         \"c_1\": (0.07, 0.0, 0.5),\n",
    "         \"c_2\": (5., 2.,20.),\n",
    "         \"logI_0\": (-6.,-10.,0.0)}\n",
    "\n",
    "foo = Scan(countries=short_countries,params_init_min_max=pinit, modelname='SC3EI3R',\n",
    "           basedata=bd,data=bd.covid_owid_ts,country=country,run_id='_short',new=True,data_src='owid') # run_id labels parameter dump files\n",
    "\n"
   ]
  },
  {
   "cell_type": "code",
   "execution_count": null,
   "metadata": {
    "scrolled": false
   },
   "outputs": [],
   "source": [
    "foo.scan()"
   ]
  },
  {
   "cell_type": "code",
   "execution_count": null,
   "metadata": {},
   "outputs": [],
   "source": [
    "foo.run_id"
   ]
  },
  {
   "cell_type": "markdown",
   "metadata": {},
   "source": [
    "### Country scan"
   ]
  },
  {
   "cell_type": "markdown",
   "metadata": {},
   "source": [
    "**Deaths only**"
   ]
  },
  {
   "cell_type": "code",
   "execution_count": null,
   "metadata": {},
   "outputs": [],
   "source": [
    "short_countries = ['United States','Spain','Peru','Italy','Germany','Sweden','Iran','Russia']"
   ]
  },
  {
   "cell_type": "code",
   "execution_count": null,
   "metadata": {
    "scrolled": false
   },
   "outputs": [],
   "source": [
    "cnt=0\n",
    "max_cols=8\n",
    "max_rows=int(len(short_countries)/max_cols) + 1\n",
    "# max_rows = 2   # for short test...\n",
    "fig, axes = plt.subplots(nrows=max_rows, ncols=max_cols, figsize=(24,3*max_rows))\n",
    "\n",
    "\n",
    "# params optimized in fit\n",
    "params_init_min_max = {\"beta_1\": (0.2, 0., 2.),\n",
    "                       \"mu\": (.1,0.,.2),\n",
    "                       \"c_0\": (0.1, 0., 1.0),\n",
    "                       \"c_1\": (0.07, 0.0, 0.5),\n",
    "                       \"c_2\": (5., 2.,20.),\n",
    "                       \"logI_0\": (-6.,-10.,0.0)}\n",
    "\n",
    "\n",
    "for idx, country  in enumerate(short_countries):\n",
    "    row = idx // max_cols\n",
    "    col = idx % max_cols\n",
    "    ###############################################\n",
    "    ## do the fit\n",
    "    try:\n",
    "        \n",
    "        MyModel = ModelFit('SC3EI3R',basedata=bd,data=bd.covid_owid_ts,country=country,run_id=\"_scan\",new=True,data_src='owid') # run_id labels parameter dump files\n",
    "        MyModel.fit(params_init_min_max,fit_method='slsqp',diag=False,fit_targets=['deaths'],fit_data=['deaths_corrected_smoothed'])\n",
    "        MyModel.solveplot(species=['deaths'],datasets=['deaths_corrected_smoothed'],axis=axes[row,col],newplot=False)       \n",
    "    except Exception as e:\n",
    "        print('Problem...')\n",
    "        print(sys.exc_info()[0])\n",
    "        print(e)\n",
    "    axes[row,col].set_title(country)\n",
    "    cnt = cnt+1\n",
    "    #if cnt==15:   # for short test\n",
    "    #    break\n",
    "    ###############################################\n",
    "\n",
    "for idx in range(cnt,max_rows*max_cols):\n",
    "    row = idx // max_cols\n",
    "    col = idx % max_cols\n",
    "    axes[row, col].axis(\"off\")\n",
    "#plt.subplots_adjust(wspace=.05, hspace=.05)\n",
    "fig.tight_layout()\n",
    "#for ax in fig.get_axes():\n",
    "#    ax.label_outer()\n",
    "plt.savefig('scan.SC3EI3R.pdf')\n",
    "plt.show()"
   ]
  },
  {
   "cell_type": "code",
   "execution_count": null,
   "metadata": {},
   "outputs": [],
   "source": [
    "len(cluster_countries)"
   ]
  },
  {
   "cell_type": "code",
   "execution_count": null,
   "metadata": {},
   "outputs": [],
   "source": [
    "[x for x in dir() if 'countries' in x]"
   ]
  },
  {
   "cell_type": "markdown",
   "metadata": {},
   "source": [
    "**deaths only, graph confirmed with nonlinr corrected**"
   ]
  },
  {
   "cell_type": "code",
   "execution_count": null,
   "metadata": {},
   "outputs": [],
   "source": [
    "[x for x in bd.covid_owid_ts]"
   ]
  },
  {
   "cell_type": "code",
   "execution_count": null,
   "metadata": {
    "scrolled": false
   },
   "outputs": [],
   "source": [
    "cnt=0\n",
    "max_cols=8\n",
    "max_rows=int(len(short_countries)/max_cols) + 1\n",
    "# max_rows = 2   # for short test...\n",
    "fig, axes = plt.subplots(nrows=max_rows, ncols=max_cols, figsize=(24,2.6*max_rows))\n",
    "\n",
    "start = time()\n",
    "\n",
    "# params optimized in fit\n",
    "params_init_min_max = {\"beta_1\": (0.2, 0., 2.),\n",
    "                       \"mu\": (.1,0.,.2),\n",
    "                       \"c_0\": (0.1, 0., 1.0),\n",
    "                       \"c_1\": (0.07, 0.0, 0.5),\n",
    "                       \"c_2\": (5., 2.,20.),\n",
    "                       \"logI_0\": (-6.,-10.,0.0)}\n",
    "\n",
    "\n",
    "for idx, country  in enumerate(short_countries):\n",
    "    row = idx // max_cols\n",
    "    col = idx % max_cols\n",
    "    ###############################################\n",
    "    ## do the fit\n",
    "    try:\n",
    "        \n",
    "        MyModel = ModelFit('SC3EI3R',basedata=bd,data=bd.covid_owid_ts,country=country,run_id=\"_scan\",new=True,data_src='owid') # run_id labels parameter dump files\n",
    "        MyModel.fit(params_init_min_max,fit_method='slsqp',diag=False,fit_targets=['deaths'],fit_data=['deaths_corrected_smoothed'])\n",
    "        MyModel.solveplot(species=['deaths','confirmed'],datasets=['deaths_corrected_smoothed','confirmed_nonlinr_corrected_smoothed'],axis=axes[row,col],newplot=False)       \n",
    "    except Exception as e:\n",
    "        print('Problem...')\n",
    "        print(sys.exc_info()[0])\n",
    "        print(e)\n",
    "    axes[row,col].set_title(country)\n",
    "    cnt = cnt+1\n",
    "    #if cnt==15:   # for short test\n",
    "    #    break\n",
    "    ###############################################\n",
    "\n",
    "for idx in range(cnt,max_rows*max_cols):\n",
    "    row = idx // max_cols\n",
    "    col = idx % max_cols\n",
    "    axes[row, col].axis(\"off\")\n",
    "#plt.subplots_adjust(wspace=.05, hspace=.05)\n",
    "fig.tight_layout()\n",
    "#for ax in fig.get_axes():\n",
    "#    ax.label_outer()\n",
    "plt.savefig('scan.SC3EI3R.pdf')\n",
    "plt.show()\n",
    "print('Elapsed time ',time()=start)"
   ]
  },
  {
   "cell_type": "markdown",
   "metadata": {},
   "source": [
    "### country scan, cluster countries, death fit only."
   ]
  },
  {
   "cell_type": "code",
   "execution_count": null,
   "metadata": {
    "scrolled": false
   },
   "outputs": [],
   "source": [
    "\n",
    "#countries = short_countries\n",
    "countries = cluster_countries\n",
    "cnt=0\n",
    "max_cols=8\n",
    "max_rows=int(len(countries)/max_cols) + 1\n",
    "# max_rows = 2   # for short test...\n",
    "fig, axes = plt.subplots(nrows=max_rows, ncols=max_cols, figsize=(24,2.6*max_rows))\n",
    "\n",
    "scan_params = {}\n",
    "scan_fitdata = {}\n",
    "start = time()\n",
    "# params optimized in fit\n",
    "params_init_min_max = {\"beta_1\": (0.2, 0., 2.),\n",
    "                       \"mu\": (.1,0.,.2),\n",
    "                       \"c_0\": (0.1, 0., 1.0),\n",
    "                       \"c_1\": (0.07, 0.0, 0.5),\n",
    "                       \"c_2\": (5., 2.,20.),\n",
    "                       \"logI_0\": (-6.,-10.,0.0)}\n",
    "\n",
    "\n",
    "#for idx, country  in enumerate(short_countries):\n",
    "for idx, country  in enumerate(countries):\n",
    "    print(idx,country)\n",
    "    row = idx // max_cols\n",
    "    col = idx % max_cols\n",
    "    ###############################################\n",
    "    ## do the fit\n",
    "    try:\n",
    "        MyModel = ModelFit('SC3EI3R',basedata=bd,data=bd.covid_owid_ts,country=country,run_id=\"_scan\",new=True,data_src='owid') # run_id labels parameter dump files\n",
    "        MyModel.fit(params_init_min_max,fit_method='slsqp',diag=False,fit_targets=['deaths'],fit_data=['deaths_corrected_smoothed'],report=False)\n",
    "        MyModel.solveplot(species=['deaths'],datasets=['deaths_corrected_smoothed'],axis=axes[row,col],newplot=False)  \n",
    "        scan_params[country] = MyModel.all_params\n",
    "        scan_fitdata[country] = MyModel.fit_output\n",
    "    except Exception as e:\n",
    "        print('Problem...')\n",
    "        print(sys.exc_info()[0])\n",
    "        print(e)\n",
    "    axes[row,col].set_title(country)\n",
    "    cnt = cnt+1\n",
    "    #if cnt==15:   # for short test\n",
    "    #    break\n",
    "    ###############################################\n",
    "\n",
    "for idx in range(cnt,max_rows*max_cols):\n",
    "    row = idx // max_cols\n",
    "    col = idx % max_cols\n",
    "    axes[row, col].axis(\"off\")\n",
    "#plt.subplots_adjust(wspace=.05, hspace=.05)\n",
    "fig.tight_layout()\n",
    "#for ax in fig.get_axes():\n",
    "#    ax.label_outer()\n",
    "plt.savefig('scan.SC3EI3R.pdf')\n",
    "plt.show()\n",
    "print('Elapsed time for ',len(countries),'countries:',time()-start)"
   ]
  },
  {
   "cell_type": "code",
   "execution_count": null,
   "metadata": {},
   "outputs": [],
   "source": [
    "scan_params['Germany']"
   ]
  },
  {
   "cell_type": "code",
   "execution_count": null,
   "metadata": {},
   "outputs": [],
   "source": [
    "scan_fitdata['Germany']"
   ]
  },
  {
   "cell_type": "code",
   "execution_count": null,
   "metadata": {},
   "outputs": [],
   "source": [
    "run_id=MyModel.modelname+'_'+'_'.join(MyModel.fit_targets)+'_'+'owid'\n",
    "run_id"
   ]
  },
  {
   "cell_type": "code",
   "execution_count": null,
   "metadata": {},
   "outputs": [],
   "source": [
    "scan_all = {}\n",
    "scan_all['params'] = scan_params.copy()\n",
    "scan_all['fitdata'] = scan_fitdata.copy()\n",
    "pk.dump(scan_all,open(run_id+'.pk','wb'))\n"
   ]
  },
  {
   "cell_type": "markdown",
   "metadata": {},
   "source": [
    "## Try for U model class"
   ]
  },
  {
   "cell_type": "code",
   "execution_count": null,
   "metadata": {},
   "outputs": [],
   "source": [
    "country = 'United States'\n",
    "###############################################\n",
    "## do the fit\n",
    "MyModel = ModelFit('SC3UEI3R',country=country,run_id=\"_test3\")"
   ]
  },
  {
   "cell_type": "code",
   "execution_count": null,
   "metadata": {},
   "outputs": [],
   "source": [
    "params_init_min_max = {\"beta_1\": (0.37526113317338305, 0., 2.,0.001),\n",
    "                       \"alpha\": (0.2, 0., 1.,0.001),\n",
    "                       \"mu\": (0.11549404287611789,0.,.2,0.001),\n",
    "                       \"c_0\": (0.2583441976053431, 0., 1.0,0.001),\n",
    "                       \"c_1\": (0.03763741590817468, 0.0, 0.5,0.001),\n",
    "                       \"c_2\": (3.620445327728954, 2.,20.,0.01),\n",
    "                       \"k_u\": (1.0/5.0,0,1,0.001),\n",
    "                       \"k_1\": (1.0/90.0,0.0,1.0,0.001),\n",
    "#                       \"k_w\": (1.0/90.0,0.0,1.0),\n",
    "#                       \"kappa\": (0.5,0,1.0),\n",
    "                       \"logI_0\": (-6.,-10.,0.0,0.01)}\n",
    "MyModel.model.parameters = {p:params_init_min_max[p][0] for p in params_init_min_max if p != 'logI_0'}\n",
    "MyModel.params.update({p:params_init_min_max[p][0] for p in params_init_min_max if p != 'logI_0'})"
   ]
  },
  {
   "cell_type": "code",
   "execution_count": null,
   "metadata": {},
   "outputs": [],
   "source": [
    "for pp in params_init_min_max:\n",
    "    if pp in MyModel.params:\n",
    "        print(pp,MyModel.params[pp],params_init_min_max[pp])\n",
    "    "
   ]
  },
  {
   "cell_type": "code",
   "execution_count": null,
   "metadata": {
    "code_folding": []
   },
   "outputs": [],
   "source": [
    "# MyModel.fit(params_init_min_max,diag=False) without fit report\n",
    "MyModel.fit(params_init_min_max,fit_method='nelder',fit_targets=['deaths','confirmed'],fit_data=['deaths_corrected_smoothed','confirmed_corrected_smoothed'],diag=False,report=True)"
   ]
  },
  {
   "cell_type": "code",
   "execution_count": null,
   "metadata": {},
   "outputs": [],
   "source": [
    "MyModel.solveplot('deaths',datasets=['deaths_corrected_smoothed'])\n",
    "MyModel.solveplot('confirmed',datasets=['confirmed_corrected_smoothed'])"
   ]
  },
  {
   "cell_type": "code",
   "execution_count": null,
   "metadata": {
    "code_folding": []
   },
   "outputs": [],
   "source": [
    "# MyModel.fit(params_init_min_max,diag=False) without fit report\n",
    "MyModel.fit(params_init_min_max,fit_method='leastsq',fit_targets=['deaths','confirmed'],fit_data=['deaths_corrected_smoothed','confirmed_corrected_smoothed'],diag=False,report=True)"
   ]
  },
  {
   "cell_type": "code",
   "execution_count": null,
   "metadata": {},
   "outputs": [],
   "source": [
    "MyModel.solveplot('deaths',datasets=['deaths_corrected_smoothed'])\n",
    "MyModel.solveplot('confirmed',datasets=['confirmed_corrected_smoothed'])"
   ]
  },
  {
   "cell_type": "markdown",
   "metadata": {},
   "source": [
    "### slider plot"
   ]
  },
  {
   "cell_type": "code",
   "execution_count": null,
   "metadata": {},
   "outputs": [],
   "source": [
    "from IPython.display import display, HTML\n",
    "from ipywidgets.widgets import interact, interactive, IntSlider, FloatSlider, Layout, ToggleButton, ToggleButtons, fixed\n",
    "display(HTML(\"<style>.container { width:100% !important; }</style>\"))\n",
    "style = {'description_width': '100px'}\n",
    "slider_layout = Layout(width='99%')"
   ]
  },
  {
   "cell_type": "code",
   "execution_count": null,
   "metadata": {},
   "outputs": [],
   "source": [
    "params_init_min_max_slider = params_init_min_max.copy()\n",
    "params_init_min_max_slider = MyModel.transfer_fit_to_params_init(params_init_min_max_slider)"
   ]
  },
  {
   "cell_type": "code",
   "execution_count": null,
   "metadata": {},
   "outputs": [],
   "source": [
    "sliderparams = MyModel.allsliderparams(params_init_min_max_slider)\n",
    "if sliderparams:\n",
    "    w=interactive(MyModel.slidefitplot,param_class=fixed('ode'),**sliderparams)\n",
    "    display(w)"
   ]
  },
  {
   "cell_type": "code",
   "execution_count": null,
   "metadata": {},
   "outputs": [],
   "source": [
    "params_init_min_max_slider = MyModel.transfer_fit_to_params_init(params_init_min_max_slider)"
   ]
  },
  {
   "cell_type": "code",
   "execution_count": null,
   "metadata": {
    "scrolled": true
   },
   "outputs": [],
   "source": [
    "MyModel.prparams()"
   ]
  },
  {
   "cell_type": "markdown",
   "metadata": {},
   "source": [
    "### Country scan"
   ]
  },
  {
   "cell_type": "code",
   "execution_count": null,
   "metadata": {},
   "outputs": [],
   "source": [
    "countries = [c for c in clusdata_all['deaths']]\n",
    "len(countries)"
   ]
  },
  {
   "cell_type": "code",
   "execution_count": null,
   "metadata": {},
   "outputs": [],
   "source": [
    "short_countries = ['United States','Spain','Peru','Italy','Germany','Sweden','Iran','Russia']"
   ]
  },
  {
   "cell_type": "code",
   "execution_count": null,
   "metadata": {},
   "outputs": [],
   "source": [
    "MyModel = ModelFit('SC3UEI3R',country=short_countries[0],run_id=\"_scan\")"
   ]
  },
  {
   "cell_type": "code",
   "execution_count": null,
   "metadata": {},
   "outputs": [],
   "source": [
    "params_init_min_max = {\"beta_1\": (0.2, 0., 2.),\n",
    "                       \"mu\": (.1,0.,.2),\n",
    "                       \"c_0\": (0.1, 0., 1.0),\n",
    "                       \"c_1\": (0.07, 0.0, 0.5),\n",
    "                       \"c_2\": (5., 2.,20.),\n",
    "                       \"k_u\": (1.0/5.0,0,1),\n",
    "                       \"k_1\": (1.0/90.0,0.0,1.0),\n",
    "                       \"k_w\": (1.0/90.0,0.0,1.0),\n",
    "                       \"logI_0\": (-6.,-10.,0.0)}"
   ]
  },
  {
   "cell_type": "code",
   "execution_count": null,
   "metadata": {},
   "outputs": [],
   "source": [
    "MyModel.fit(params_init_min_max,diag=False)"
   ]
  },
  {
   "cell_type": "code",
   "execution_count": null,
   "metadata": {},
   "outputs": [],
   "source": [
    "MyModel.solveplot('deaths',datasets=['deaths_corrected_smoothed'])"
   ]
  },
  {
   "cell_type": "code",
   "execution_count": null,
   "metadata": {
    "scrolled": false
   },
   "outputs": [],
   "source": [
    "cnt=0\n",
    "max_cols=8\n",
    "max_rows=int(len(short_countries)/max_cols) + 1\n",
    "# max_rows = 2   # for short test...\n",
    "fig, axes = plt.subplots(nrows=max_rows, ncols=max_cols, figsize=(24,3*max_rows))\n",
    "\n",
    "\n",
    "# params optimized in fit\n",
    "params_init_min_max = {\"beta_1\": (0.2, 0.1, 0.5),\n",
    "                       \"mu\": (.1,0.05,.2),\n",
    "                       \"c_0\": (0.1, 0.05, 0.5),\n",
    "                       \"c_1\": (0.07, 0.02, 0.2),\n",
    "                       \"c_2\": (5., 2.,20.),\n",
    "                       \"k_u\": (1.0/5.0,0,1),\n",
    "                       \"k_1\": (1.0/90.0,0.0,1.0),\n",
    "                       \"k_w\": (1.0/90.0,0.0,1.0),\n",
    "                       \"logI_0\": (-6.,-10.,0.0)}\n",
    "\n",
    "\n",
    "for idx, country  in enumerate(short_countries):\n",
    "    row = idx // max_cols\n",
    "    col = idx % max_cols\n",
    "    ###############################################\n",
    "    ## do the fit\n",
    "    try:\n",
    "        MyModel = ModelFit('SC3UEI3R',country=country,run_id=\"_scan\",data_src='jhu') # run_id labels parameter dump files\n",
    "        MyModel.fit(params_init_min_max,diag=False,fit_targets=['deaths'],fit_data='deaths_corrected_smoothed')\n",
    "        MyModel.solveplot(['deaths'],datasets=['deaths_corrected_smoothed'],axis=axes[row,col],newplot=False)\n",
    "    except Exception as e:\n",
    "        print('Problem...')\n",
    "        print(sys.exc_info()[0])\n",
    "        print(e)\n",
    "    axes[row,col].set_title(country)\n",
    "    cnt = cnt+1\n",
    "    #if cnt==15:   # for short test\n",
    "    #    break\n",
    "    ###############################################\n",
    "\n",
    "for idx in range(cnt,max_rows*max_cols):\n",
    "    row = idx // max_cols\n",
    "    col = idx % max_cols\n",
    "    axes[row, col].axis(\"off\")\n",
    "#plt.subplots_adjust(wspace=.05, hspace=.05)\n",
    "fig.tight_layout()\n",
    "#for ax in fig.get_axes():\n",
    "#    ax.label_outer()\n",
    "plt.savefig('scan.SC3UEI3R.pdf')\n",
    "plt.show()"
   ]
  },
  {
   "cell_type": "markdown",
   "metadata": {},
   "source": [
    "# Pygom + minimize with sensitivities"
   ]
  },
  {
   "cell_type": "markdown",
   "metadata": {},
   "source": [
    "## Previous pygom fitting example from `Caution_paper_Fitting`"
   ]
  },
  {
   "cell_type": "code",
   "execution_count": null,
   "metadata": {},
   "outputs": [],
   "source": [
    "test_country = 'Germany'\n",
    "fitdata = covid_ts['new_deaths_corrected_smoothed'][(test_country,'')]\n",
    "t = list(range(len(fitdata)))"
   ]
  },
  {
   "cell_type": "code",
   "execution_count": null,
   "metadata": {},
   "outputs": [],
   "source": [
    "plt.plot(fitdata);"
   ]
  },
  {
   "cell_type": "code",
   "execution_count": null,
   "metadata": {},
   "outputs": [],
   "source": [
    "model = 'SC3UEI3R'\n",
    "I_0 =  0.00003\n",
    "x0_SC3UEI3R = [1.0-I_0, 0.0, I_0, 0.0, 0.0, 0.0, 0.0, 0.0, 0.0, 0.0, 0.0, 1.0]\n",
    "SC3UEI3R_model.initial_values = (x0_SC3UEI3R, t[0])\n",
    "\n",
    "# Define parameters based on clinical observations Dr. Alison\n",
    "Exposure=0.4 # Rate coefficient for exposure per individual in contact per day\n",
    "IncubPeriod=5  #Incubation period, days\n",
    "DurMildInf=8 #Duration of mild infections, days\n",
    "FracMild=0.65  #Fraction of infections that are mild\n",
    "FracSevere=0.20 #Fraction of infections that are severe\n",
    "FracCritical=0.15 #Fraction of infections that are critical\n",
    "CFR=0.1 #Case fatality rate (fraction of infections resulting in death)\n",
    "TimeICUDeath=4 #Time from ICU admission to death, days\n",
    "DurHosp=5 #Duration of hospitalization, days\n",
    "\n",
    "# Model fitting extension to allow for incomplete detection\n",
    "FracConfirmedDet=0.5  # Fraction of recovered individuals measured\n",
    "FracRecoveredDet=FracConfirmedDet # Fraction of recovered individuals measured\n",
    "FracDeathsDet=1.0\n",
    "\n",
    "# Model extension by John McCaskill to include caution \n",
    "CautionFactor= 0.1 # Fractional reduction of exposure rate for cautioned individuals\n",
    "CautionRetention= 60. # Duration of cautionary state of susceptibles (2 weeks)\n",
    "CautionICUFrac= 0.1 # Fraction of ICUs occupied leading to transition to caution @ 1/day\n",
    "ICUFrac= 0.001 # Fraction of ICUs relative to population size N\n",
    "\n",
    "# Model extension by John McCaskill to include economic influence on caution \n",
    "EconomicCostOfCaution= 0.5 # Fractional reduction of economic contribution for cautioned individuals\n",
    "\n",
    "p = [0,(1.0/DurMildInf)-(1.0/DurMildInf)*FracMild,  (1.0/DurHosp)*(FracCritical/(FracCritical+FracSevere))]\n",
    "g = [0,(1.0/DurMildInf)*FracMild,   (1.0/DurHosp)-(1/DurHosp)*(FracCritical/(FracCritical+FracSevere)),\n",
    "           (1.0/TimeICUDeath)-(1/TimeICUDeath)*(CFR/FracCritical)]\n",
    "u = (1.0/TimeICUDeath)*(CFR/FracCritical)\n",
    "                \n",
    "params = {'beta_1' : Exposure/sum(x0_SC3UEI3R),\n",
    "          'beta_2' : 0.0,\n",
    "          'beta_3' : 0.0,\n",
    "          'alpha' : 1.0/IncubPeriod,\n",
    "          'gamma_1': (1.0/DurMildInf)*FracMild,\n",
    "          'gamma_2': (1.0/DurHosp)-(1/DurHosp)*(FracCritical/(FracCritical+FracSevere)),\n",
    "          'gamma_3': (1.0/TimeICUDeath)-(1/TimeICUDeath)*(CFR/FracCritical),\n",
    "          'p_1'    : (1.0/DurMildInf)-(1.0/DurMildInf)*FracMild,\n",
    "          'p_2'    : (1.0/DurHosp)*(FracCritical/(FracCritical+FracSevere)),\n",
    "          'mu'    : (1.0/TimeICUDeath)*(CFR/FracCritical),\n",
    "          'c_0'    : CautionFactor,\n",
    "          'c_1'    : 1.0/CautionRetention,\n",
    "          'c_2'    : 1.0/(ICUFrac*CautionICUFrac),\n",
    "          'k_u'    : 1.0/5.,\n",
    "          'k_1'    : 1.0/90,\n",
    "          'k_w'    : 1.0/90,\n",
    "          'kappa'  : EconomicCostOfCaution,\n",
    "          'N'      : sum(x0_SC3UEI3R)}\n",
    "\n",
    "print(params)\n",
    "SC3UEI3R_model.parameters = params.copy()"
   ]
  },
  {
   "cell_type": "code",
   "execution_count": null,
   "metadata": {},
   "outputs": [],
   "source": [
    "SC3EI3R_model.parameters = {'beta_1': 0.4, 'beta_2': 0.0, 'beta_3': 0.0, 'alpha': 0.2, 'gamma_1': 0.06999999999999999, 'gamma_2': 0.16666666666666669, 'gamma_3': 0.1, 'p_1': 0.030000000000000013, 'p_2': 0.08333333333333333, 'mu': 0.1, 'c_0': 0.1, 'c_1': 0.016666666666666666, 'c_2': 10000.0, 'N': 1.0}"
   ]
  },
  {
   "cell_type": "code",
   "execution_count": null,
   "metadata": {},
   "outputs": [],
   "source": [
    "np.shape(t)"
   ]
  },
  {
   "cell_type": "code",
   "execution_count": null,
   "metadata": {},
   "outputs": [],
   "source": [
    "# Initial guess of parameters and initial condition, and bounding constraints\n",
    "I0 =10**-7\n",
    "x0_SC3EI3R = [1.-I0,0.,I0,0.,0.,0.,0.,0.,0.,0.]\n",
    "SC3EI3R_model.parameters={'beta_1': 0.41, 'mu': 0.1, 'c_0': 0.1, 'c_1': 0.0166, 'c_2': 10000.0}\n",
    "cautionparams = list(params.values())[-4:-1]\n",
    "theta = [0.40,0.1,0.3,0.0167,1000.] # cautionparams\n",
    "# boxBounds = [(0.2,0.5),(0.03,0.15),(0.3,0.5),(0.01,0.02),(6000.,12000.)]\n",
    "boxBounds = [(0.2,0.5),(0.03,0.15),(0.3,0.5),(0.01,0.02),(600.,1200.)]\n",
    "# set up optimization function with cost and sensitivity (Jacobian)\n",
    "objSC3EI3R = SquareLoss(theta=theta, ode=SC3EI3R_model, x0=x0_SC3EI3R, t0=t[0], t=t[1::], y=fitdata[1:],\n",
    "                      # state_weight=[1.,10.],state_name=['R','D'],\n",
    "                        state_weight=[1.],state_name=['D'],\n",
    "                        target_param=['beta_1','mu','c_0','c_1','c_2'],target_state=['I_1'])\n",
    "# perform optimization\n",
    "res = minimize(fun=objSC3EI3R.costIV,\n",
    "                jac=objSC3EI3R.sensitivityIV,\n",
    "                x0=theta+[I0],\n",
    "                bounds=boxBounds+[(0.00000001,0.000001)],\n",
    "                # method='BFGS',\n",
    "                method='SLSQP',\n",
    "                #options={'disp':True,'maxiter':1000,'eps':0.01,'gtol':0.01})\n",
    "                #options={'disp':True})\n",
    "                options={'disp':True,'maxiter':1000,'eps':0.01,'ftol':0.01})\n",
    "print(res)"
   ]
  },
  {
   "cell_type": "code",
   "execution_count": null,
   "metadata": {},
   "outputs": [],
   "source": []
  },
  {
   "cell_type": "markdown",
   "metadata": {},
   "source": [
    "# Fitting base params"
   ]
  },
  {
   "cell_type": "code",
   "execution_count": null,
   "metadata": {},
   "outputs": [],
   "source": [
    "[x for x in dir(MyModel) if 'param' in x]"
   ]
  },
  {
   "cell_type": "code",
   "execution_count": null,
   "metadata": {},
   "outputs": [],
   "source": [
    "MyModel.prparams()\n"
   ]
  },
  {
   "cell_type": "code",
   "execution_count": null,
   "metadata": {},
   "outputs": [],
   "source": [
    "#  for debugging class methods without having to reload all of model_fits.py:\n",
    "#  file containing only ModelFit class, \n",
    "exec(open('ModelFit.py','r').read())"
   ]
  },
  {
   "cell_type": "markdown",
   "metadata": {},
   "source": [
    "## parameter setup for 3 rounds of fitting with standard values (use copy if want to edit)"
   ]
  },
  {
   "cell_type": "code",
   "execution_count": null,
   "metadata": {},
   "outputs": [],
   "source": [
    "params_init_min_max_1 = {\n",
    "    'Exposure': (0.4, .05, 1.0, 0.001),\n",
    "    'logI_0': (np.log10(0.0000003), -10. ,-4. , 0.001),\n",
    "    'CautionFactor': (0.1, 0.01, 1.0, 0.001),\n",
    "    'CautionRetention': (60 , 15, 90, 0.01 ),\n",
    "    'CautionExposure': (0.1 , 0.01, 1., 0.001 ),\n",
    "    'FracConfirmedDet':(0.5,0.2,1.0,0.001)\n",
    "}"
   ]
  },
  {
   "cell_type": "code",
   "execution_count": null,
   "metadata": {},
   "outputs": [],
   "source": [
    "params_init_min_max_1U = {\n",
    "    'Exposure': (0.4, .05, 1.0, 0.001),\n",
    "    'logI_0': (np.log10(0.0000003), -10. ,-4. , 0.001),\n",
    "    'CautionFactor': (0.1, 0.01, 1.0, 0.001),\n",
    "    'CautionRetention': (60 , 15, 90, 0.01 ),\n",
    "    'CautionExposure': (0.1 , 0.01, 1., 0.001 ),\n",
    "    'FracConfirmedDet':(0.5,0.2,1.0,0.001)\n",
    "}"
   ]
  },
  {
   "cell_type": "code",
   "execution_count": null,
   "metadata": {},
   "outputs": [],
   "source": [
    "params_init_min_max_2 = {\n",
    "    'FracMild': (0.7,0.6,0.85,0.001),\n",
    "    'FracCritical': (0.1,0.05,0.15,0.001),\n",
    "    'CFR': (0.05, 0.03,0.1,0.001),\n",
    "    'DurHosp': (4, 2, 8, 0.01),\n",
    "    'DurMildInf': (10, 5, 20, 0.01),\n",
    "    'Exposure': (0.4, .05, 1.0, 0.001),\n",
    "    'logI_0': (np.log10(0.0000003), -10. ,-4. , 0.001),\n",
    "    'TimeICUDeath': (5, 2, 7, 0.01),\n",
    "    'CautionFactor': (0.2, 0.1, 0.3, 0.001),\n",
    "    'CautionRetention': (60 , 15, 90, 0.01 ),\n",
    "    'CautionExposure': (0.2 , 0.1, 1., 0.001 ),\n",
    "    'FracConfirmedDet':(0.5,0.1,1.0,0.001),\n",
    "    'FracDeathsDet':(1,0.3,1.0,0.001)\n",
    "}"
   ]
  },
  {
   "cell_type": "code",
   "execution_count": null,
   "metadata": {},
   "outputs": [],
   "source": [
    "params_init_min_max_2U = {\n",
    "    'FracMild': (0.7,0.6,0.85,0.001),\n",
    "    'FracCritical': (0.1,0.05,0.15,0.001),\n",
    "    'CFR': (0.05, 0.03,0.1,0.001),\n",
    "    'DurHosp': (4, 2, 8, 0.01),\n",
    "    'DurMildInf': (10, 5, 20, 0.01),\n",
    "    'Exposure': (0.4, .05, 1.0, 0.001),\n",
    "    'logI_0': (np.log10(0.0000003), -10. ,-4. , 0.001),\n",
    "    'TimeICUDeath': (5, 2, 7, 0.01),\n",
    "    'CautionFactor': (0.2, 0.1, 0.3, 0.001),\n",
    "    'CautionRetention': (60 , 15, 90, 0.01 ),\n",
    "    'CautionExposure': (0.2 , 0.1, 1., 0.001 ),\n",
    "    'FracConfirmedDet':(0.5,0.1,1.0,0.001),\n",
    "    'FracDeathsDet':(1,0.3,1.0,0.001),\n",
    "    'EconomicRetention': (60,15,90,0.01)\n",
    "}"
   ]
  },
  {
   "cell_type": "code",
   "execution_count": null,
   "metadata": {},
   "outputs": [],
   "source": [
    "params_init_min_max_3 = {\n",
    "    'FracMild': (0.7,0.6,0.85,0.001),\n",
    "    'FracCritical': (0.1,0.05,0.15,0.001),\n",
    "    'CFR': (0.05, 0.03,0.1,0.001),\n",
    "    'DurHosp': (4, 2, 8, 0.01),\n",
    "    'DurMildInf': (10, 5, 20, 0.01),\n",
    "    'Exposure': (0.4, .05, 1.0, 0.001),\n",
    "    'logI_0': (np.log10(0.0000003), -10. ,-4. , 0.001),\n",
    "    'IncubPeriod': (5, 2, 7, 0.01),\n",
    "    'TimeICUDeath': (5, 2, 7, 0.01),\n",
    "    'CautionFactor': (0.2, 0.1, 0.3, 0.001),\n",
    "    'CautionRetention': (60 , 15, 90, 0.01 ),\n",
    "    'CautionExposure': (0.2 , 0.1, 1., 0.001 ),\n",
    "    'FracConfirmedDet':(0.5,0.1,1.0,0.001),\n",
    "    'FracDeathsDet':(1,0.25,1.0,0.001)\n",
    "}"
   ]
  },
  {
   "cell_type": "code",
   "execution_count": null,
   "metadata": {},
   "outputs": [],
   "source": [
    "params_init_min_max_3U = {\n",
    "    'FracMild': (0.7,0.6,0.85,0.001),\n",
    "    'FracCritical': (0.1,0.05,0.15,0.001),\n",
    "    'CFR': (0.05, 0.03,0.1,0.001),\n",
    "    'DurHosp': (4, 2, 8, 0.01),\n",
    "    'DurMildInf': (10, 5, 20, 0.01),\n",
    "    'Exposure': (0.4, .05, 1.0, 0.001),\n",
    "    'logI_0': (np.log10(0.0000003), -10. ,-4. , 0.001),\n",
    "    'IncubPeriod': (5, 2, 7, 0.01),\n",
    "    'TimeICUDeath': (5, 2, 7, 0.01),\n",
    "    'CautionFactor': (0.2, 0.1, 0.3, 0.001),\n",
    "    'CautionRetention': (60 , 15, 90, 0.01 ),\n",
    "    'CautionExposure': (0.2 , 0.1, 1., 0.001 ),\n",
    "    'FracConfirmedDet':(0.5,0.1,1.0,0.001),\n",
    "    'FracDeathsDet':(1,0.25,1.0,0.001),\n",
    "    'EconomicRetention': (60,15,90,0.01),\n",
    "    'EconomicStriction': (30,15,90,0.01),\n",
    "    'EconomicRelaxation': (60,15,90,0.01),\n",
    "    'EconomicCostOfCaution': (0.5,0.1,0.9,0.001)\n",
    "}"
   ]
  },
  {
   "cell_type": "markdown",
   "metadata": {},
   "source": [
    "## Example Germany"
   ]
  },
  {
   "cell_type": "code",
   "execution_count": null,
   "metadata": {
    "scrolled": true
   },
   "outputs": [],
   "source": [
    "country = 'Germany'\n",
    "###############################################\n",
    "## do the fit\n",
    "MyModel = ModelFit('SC3EI3R',country=country,run_id=\"_test3\")"
   ]
  },
  {
   "cell_type": "code",
   "execution_count": null,
   "metadata": {
    "code_folding": []
   },
   "outputs": [],
   "source": [
    "MyModel.fit(params_init_min_max_1,param_class='base', fit_method='leastsq',fit_targets=['deaths','confirmed'],fit_data=['deaths_corrected_smoothed','confirmed_corrected_smoothed'])"
   ]
  },
  {
   "cell_type": "code",
   "execution_count": null,
   "metadata": {},
   "outputs": [],
   "source": [
    "MyModel.solveplot('deaths',datasets=['deaths_corrected_smoothed'])\n",
    "MyModel.solveplot('confirmed',datasets=['confirmed_corrected_smoothed'])"
   ]
  },
  {
   "cell_type": "code",
   "execution_count": null,
   "metadata": {},
   "outputs": [],
   "source": [
    "plt.semilogy(MyModel.residall);"
   ]
  },
  {
   "cell_type": "code",
   "execution_count": null,
   "metadata": {
    "scrolled": false
   },
   "outputs": [],
   "source": [
    "# the optimized parameters from stage 1 are transferred to initial values for these parameters\n",
    "# in the larger set of parameters in stage 2\n",
    "params_init_min_max_2 = MyModel.transfer_fit_to_params_init(params_init_min_max_2)\n",
    "MyModel.fit(params_init_min_max_2,param_class='base', fit_method='nelder',fit_targets=['deaths','confirmed'],fit_data=['deaths_corrected_smoothed','confirmed_corrected_smoothed'])\n",
    "MyModel.solveplot('deaths',datasets=['deaths_corrected_smoothed'])\n",
    "MyModel.solveplot('confirmed',datasets=['confirmed_corrected_smoothed'])"
   ]
  },
  {
   "cell_type": "code",
   "execution_count": null,
   "metadata": {
    "scrolled": true
   },
   "outputs": [],
   "source": [
    "plt.semilogy(MyModel.residall);"
   ]
  },
  {
   "cell_type": "markdown",
   "metadata": {},
   "source": [
    "### Death only"
   ]
  },
  {
   "cell_type": "code",
   "execution_count": null,
   "metadata": {
    "scrolled": true
   },
   "outputs": [],
   "source": [
    "country = 'Germany'\n",
    "###############################################\n",
    "## do the fit\n",
    "MyModel = ModelFit('SC3EI3R',country=country,run_id=\"_test4\")"
   ]
  },
  {
   "cell_type": "code",
   "execution_count": null,
   "metadata": {
    "code_folding": []
   },
   "outputs": [],
   "source": [
    "MyModel.fit(params_init_min_max_1,param_class='base', fit_method='leastsq',fit_targets=['deaths'],fit_data=['deaths_corrected_smoothed'])"
   ]
  },
  {
   "cell_type": "code",
   "execution_count": null,
   "metadata": {},
   "outputs": [],
   "source": [
    "MyModel.solveplot('deaths',datasets=['deaths_corrected_smoothed'])\n",
    "MyModel.solveplot('confirmed',datasets=['confirmed_corrected_smoothed'])"
   ]
  },
  {
   "cell_type": "code",
   "execution_count": null,
   "metadata": {},
   "outputs": [],
   "source": [
    "plt.semilogy(MyModel.residall);"
   ]
  },
  {
   "cell_type": "code",
   "execution_count": null,
   "metadata": {
    "scrolled": false
   },
   "outputs": [],
   "source": [
    "# the optimized parameters from stage 1 are transferred to initial values for these parameters\n",
    "# in the larger set of parameters in stage 2\n",
    "params_init_min_max_2 = MyModel.transfer_fit_to_params_init(params_init_min_max_2)\n",
    "MyModel.fit(params_init_min_max_2,param_class='base', fit_method='nelder',fit_targets=['deaths'],fit_data=['deaths_corrected_smoothed'])\n",
    "MyModel.solveplot('deaths',datasets=['deaths_corrected_smoothed'])\n",
    "MyModel.solveplot('confirmed',datasets=['confirmed_corrected_smoothed'])"
   ]
  },
  {
   "cell_type": "code",
   "execution_count": null,
   "metadata": {
    "scrolled": true
   },
   "outputs": [],
   "source": [
    "plt.semilogy(MyModel.residall);"
   ]
  },
  {
   "cell_type": "markdown",
   "metadata": {},
   "source": [
    "### slider plot for base params"
   ]
  },
  {
   "cell_type": "code",
   "execution_count": null,
   "metadata": {},
   "outputs": [],
   "source": [
    "from IPython.display import display, HTML\n",
    "from ipywidgets.widgets import interact, interactive, IntSlider, FloatSlider, Layout, ToggleButton, ToggleButtons, fixed\n",
    "display(HTML(\"<style>.container { width:100% !important; }</style>\"))\n",
    "style = {'description_width': '100px'}\n",
    "slider_layout = Layout(width='99%')"
   ]
  },
  {
   "cell_type": "code",
   "execution_count": null,
   "metadata": {},
   "outputs": [],
   "source": [
    "sliderparams = MyModel.allsliderparams(params_init_min_max_2)\n",
    "if sliderparams:\n",
    "    w=interactive(MyModel.slidefitplot,param_class=fixed('base'),**sliderparams)\n",
    "    display(w)"
   ]
  },
  {
   "cell_type": "code",
   "execution_count": null,
   "metadata": {},
   "outputs": [],
   "source": [
    "params_init_min_max_2_slider = params_init_min_max_2.copy()\n",
    "params_init_min_max_2_slider = MyModel.transfer_fit_to_params_init(params_init_min_max_2_slider)"
   ]
  },
  {
   "cell_type": "code",
   "execution_count": null,
   "metadata": {
    "scrolled": true
   },
   "outputs": [],
   "source": [
    "MyModel.prparams()"
   ]
  },
  {
   "cell_type": "code",
   "execution_count": null,
   "metadata": {},
   "outputs": [],
   "source": []
  },
  {
   "cell_type": "markdown",
   "metadata": {},
   "source": [
    "### slider plot for ode params"
   ]
  },
  {
   "cell_type": "code",
   "execution_count": null,
   "metadata": {},
   "outputs": [],
   "source": [
    "from IPython.display import display, HTML\n",
    "from ipywidgets.widgets import interact, interactive, IntSlider, FloatSlider, Layout, ToggleButton, ToggleButtons, fixed\n",
    "display(HTML(\"<style>.container { width:100% !important; }</style>\"))\n",
    "style = {'description_width': '100px'}\n",
    "slider_layout = Layout(width='99%')"
   ]
  },
  {
   "cell_type": "code",
   "execution_count": null,
   "metadata": {},
   "outputs": [],
   "source": [
    "# define with 4th tuple elt step size for sliders\n",
    "params_init_min_max = {\"beta_1\": (0.487, 0., 1., 0.001),\n",
    "                       \"alpha\": (0.2,0.,1.,0.001),\n",
    "                       \"mu\": (0.057,0.,.2,0.001),\n",
    "                       \"c_0\": (0.1, 0., 1.0,0.001),\n",
    "                       \"c_1\": (0.011, 0.0, 0.5,0.001),\n",
    "                       \"c_2\": (4.15, 2.,20.,0.01),\n",
    "                       \"logI_0\": (-6.85,-10.,0.0, 0.01)}"
   ]
  },
  {
   "cell_type": "code",
   "execution_count": null,
   "metadata": {},
   "outputs": [],
   "source": [
    "sliderparams = MyModel.allsliderparams(params_init_min_max)\n",
    "if sliderparams:\n",
    "    w=interactive(MyModel.slidefitplot,param_class=fixed('ode'),**sliderparams)\n",
    "    display(w)"
   ]
  },
  {
   "cell_type": "code",
   "execution_count": null,
   "metadata": {
    "scrolled": true
   },
   "outputs": [],
   "source": [
    "MyModel.prparams()"
   ]
  },
  {
   "cell_type": "code",
   "execution_count": null,
   "metadata": {},
   "outputs": [],
   "source": []
  }
 ],
 "metadata": {
  "colab": {
   "collapsed_sections": [
    "UUG85HqL2QEt",
    "ZuuEGEUpiHEX"
   ],
   "name": "part_three.ipynb",
   "provenance": []
  },
  "kernelspec": {
   "display_name": "Python 3",
   "language": "python",
   "name": "python3"
  },
  "language_info": {
   "codemirror_mode": {
    "name": "ipython",
    "version": 3
   },
   "file_extension": ".py",
   "mimetype": "text/x-python",
   "name": "python",
   "nbconvert_exporter": "python",
   "pygments_lexer": "ipython3",
   "version": "3.7.4"
  },
  "toc": {
   "base_numbering": 1,
   "nav_menu": {
    "height": "510px",
    "width": "221px"
   },
   "number_sections": true,
   "sideBar": true,
   "skip_h1_title": false,
   "title_cell": "Table of Contents",
   "title_sidebar": "Contents",
   "toc_cell": false,
   "toc_position": {
    "height": "calc(100% - 180px)",
    "left": "10px",
    "top": "150px",
    "width": "398.078125px"
   },
   "toc_section_display": true,
   "toc_window_display": true
  }
 },
 "nbformat": 4,
 "nbformat_minor": 1
}
