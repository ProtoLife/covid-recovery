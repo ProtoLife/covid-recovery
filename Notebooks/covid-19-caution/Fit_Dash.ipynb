{
 "cells": [
  {
   "cell_type": "markdown",
   "metadata": {
    "colab_type": "text",
    "id": "zWWq3zgge-R3"
   },
   "source": [
    "# Imports"
   ]
  },
  {
   "cell_type": "code",
   "execution_count": 1,
   "metadata": {
    "_cell_guid": "79c7e3d0-c299-4dcb-8224-4455121ee9b0",
    "_uuid": "d629ff2d2480ee46fbb7e2d37f6b5fab8052498a",
    "colab": {
     "base_uri": "https://localhost:8080/",
     "height": 607
    },
    "colab_type": "code",
    "id": "NHHL1iKyYN5-",
    "outputId": "c3af6e28-02ba-4ebf-d5dd-be29f9a68368",
    "scrolled": false
   },
   "outputs": [
    {
     "data": {
      "text/html": [
       "<style>.container { width:100% !important; }</style>"
      ],
      "text/plain": [
       "<IPython.core.display.HTML object>"
      ]
     },
     "metadata": {},
     "output_type": "display_data"
    }
   ],
   "source": [
    "#%matplotlib notebook\n",
    "%matplotlib inline \n",
    "\n",
    "import matplotlib\n",
    "import seaborn as sb\n",
    "from matplotlib import pyplot as plt\n",
    "import matplotlib.dates as mdates\n",
    "import holoviews as hv\n",
    "\n",
    "import numpy as np\n",
    "import pandas as pd\n",
    "pd.options.mode.chained_assignment = None  # default='warn'\n",
    "import pickle as pk\n",
    "from time import time\n",
    "import io\n",
    "\n",
    "import datetime\n",
    "import sys\n",
    "\n",
    "from IPython.display import display, HTML, clear_output\n",
    "from ipywidgets import widgets\n",
    "from ipywidgets.widgets import interact, interactive, interactive_output, fixed, Widget \n",
    "from ipywidgets.widgets import IntSlider, FloatSlider, Layout, ToggleButton, ToggleButtons, Checkbox, RadioButtons, Dropdown, Button\n",
    "from ipywidgets.widgets import HBox, VBox, Label,Text\n",
    "\n",
    "#  !pip3 install mpld3\n",
    "# import mpld3\n",
    "#pld3.enable_notebook() causes plotting to not work???\n",
    "\n",
    "from scipy.integrate import odeint\n",
    "# !pip3 install lmfit\n",
    "import lmfit\n",
    "from lmfit.lineshapes import gaussian, lorentzian, exponential\n",
    "\n",
    "from time import time\n",
    "import warnings\n",
    "warnings.filterwarnings('ignore')\n",
    "# JSM added\n",
    "# from IPython.core.display import display, HTML\n",
    "display(HTML(\"<style>.container { width:100% !important; }</style>\"))"
   ]
  },
  {
   "cell_type": "code",
   "execution_count": 2,
   "metadata": {
    "scrolled": false
   },
   "outputs": [],
   "source": [
    "from Cluster import * "
   ]
  },
  {
   "cell_type": "code",
   "execution_count": 3,
   "metadata": {
    "scrolled": false
   },
   "outputs": [
    {
     "name": "stdout",
     "output_type": "stream",
     "text": [
      "reading in data from data_all_base ...\n",
      "elapsed:  7.7453320026397705\n"
     ]
    }
   ],
   "source": [
    "bd = BaseData('data_all_base')"
   ]
  },
  {
   "cell_type": "code",
   "execution_count": 4,
   "metadata": {
    "scrolled": false
   },
   "outputs": [
    {
     "name": "stdout",
     "output_type": "stream",
     "text": [
      "reading in data from ./pks/data_cluster_JRT1.pk ...\n"
     ]
    }
   ],
   "source": [
    "# run \n",
    "# clusdtypes should be in ['JRP1','ORP1','JWP1','OWP1','JRT1','ORT1','JWT1','OWT1']\n",
    "# database JHU/OWID  (J/O) \n",
    "# report_correct T or F   (R/W)\n",
    "# syncat peak/thresh  (P/T)\n",
    "clusdtype='JRT1'\n",
    "ClData = get_cluster_data(clusdtype)"
   ]
  },
  {
   "cell_type": "code",
   "execution_count": 5,
   "metadata": {
    "scrolled": false
   },
   "outputs": [],
   "source": [
    "exec(open('ClusterFit.py','r').read())"
   ]
  },
  {
   "cell_type": "code",
   "execution_count": 6,
   "metadata": {
    "scrolled": false
   },
   "outputs": [
    {
     "name": "stdout",
     "output_type": "stream",
     "text": [
      "data already loaded, so no \"from data import *\" required.\n",
      "making the models...\n",
      "SC2UIR\n",
      "SC2FIR\n",
      "SC3FEIR\n",
      "SEI3R\n",
      "SC3FEI3R\n",
      "SC2FUIR\n",
      "SC3FUEI3R\n",
      "done with the models.\n"
     ]
    }
   ],
   "source": [
    "# changed to use model_fits_age : this is backwards compatible and only loads data if needed\n",
    "import data_config\n",
    "data_config.data_loaded = True\n",
    "\n",
    "from model_fits_age import *  # including ModelFit class definition. "
   ]
  },
  {
   "cell_type": "code",
   "execution_count": 7,
   "metadata": {
    "scrolled": false
   },
   "outputs": [
    {
     "name": "stdout",
     "output_type": "stream",
     "text": [
      "198 countries with population data\n",
      "common countries without population data []\n",
      "76 cluster countries\n"
     ]
    }
   ],
   "source": [
    "# eliminate countries with no population data (needed for normalizing death stats for fits)\n",
    "\n",
    "#for country in countries:\n",
    "#    if population_owid[country][0] == 0:\n",
    "#        print(country)\n",
    "        \n",
    "countries = [cc for cc in bd.countries_common if bd.population_owid[cc][-2] > 0]\n",
    "print(len(countries),'countries with population data')\n",
    "countries_zp = [cc for cc in bd.countries_common if bd.population_owid[cc][-2] == 0]\n",
    "print('common countries without population data',countries_zp)\n",
    "cluster_countries = [c for c in ClData.clusdata_all['deaths']]\n",
    "print(len(cluster_countries),'cluster countries')\n"
   ]
  },
  {
   "cell_type": "code",
   "execution_count": 8,
   "metadata": {
    "scrolled": false
   },
   "outputs": [
    {
     "data": {
      "text/plain": [
       "['SC2UIR', 'SC2FIR', 'SC3FEIR', 'SEI3R', 'SC3FEI3R', 'SC2FUIR', 'SC3FUEI3R']"
      ]
     },
     "execution_count": 8,
     "metadata": {},
     "output_type": "execute_result"
    }
   ],
   "source": [
    "[x for x in fullmodels]"
   ]
  },
  {
   "cell_type": "code",
   "execution_count": 9,
   "metadata": {
    "scrolled": false
   },
   "outputs": [
    {
     "data": {
      "text/plain": [
       "['SIR',\n",
       " 'SC2IR',\n",
       " 'SC2FIR',\n",
       " 'SEIR',\n",
       " 'SC3EIR',\n",
       " 'SC3FEIR',\n",
       " 'SEI3R',\n",
       " 'SC3EI3R',\n",
       " 'SC3FEI3R',\n",
       " 'SC3UEI3R',\n",
       " 'SC3FUEI3R']"
      ]
     },
     "execution_count": 9,
     "metadata": {},
     "output_type": "execute_result"
    }
   ],
   "source": [
    "agemodels"
   ]
  },
  {
   "cell_type": "markdown",
   "metadata": {},
   "source": [
    "# SliderFit with fit_trace"
   ]
  },
  {
   "cell_type": "code",
   "execution_count": 10,
   "metadata": {
    "scrolled": false
   },
   "outputs": [],
   "source": [
    "%load_ext autoreload\n",
    "%autoreload 2"
   ]
  },
  {
   "cell_type": "code",
   "execution_count": 11,
   "metadata": {
    "scrolled": false
   },
   "outputs": [],
   "source": [
    "import ModelFit #import the module here, so that it can be reloaded."
   ]
  },
  {
   "cell_type": "code",
   "execution_count": 12,
   "metadata": {
    "scrolled": false
   },
   "outputs": [],
   "source": [
    "#exec(open('ModelFit.py','r').read())\n",
    "#import importlib\n",
    "#importlib.reload(ModelFit)\n",
    "from ModelFit import *"
   ]
  },
  {
   "cell_type": "code",
   "execution_count": 47,
   "metadata": {
    "scrolled": false
   },
   "outputs": [],
   "source": [
    "chosen_model = 'SC3FUEI3R'\n",
    "chosen_country = 'Australia'\n",
    "chosen_paramtype = 'base'\n",
    "chosen_age = 1\n",
    "\n",
    "countries_common = bd.countries_common\n",
    "paramtypes = ['base','ode']\n",
    "datasrcs = ['jhu','owid']\n",
    "agegroups = [1,4,8,16]\n",
    "\n",
    "modelnames_widget = Dropdown(options=possmodels,description='model',layout={'width': 'max-content'},value=chosen_model)\n",
    "modelage_widget = Dropdown(options=agegroups,description='age grps',layout={'width': 'max-content'},value=chosen_age)\n",
    "countries_widget = Dropdown(options=countries_common,description='countries',layout={'width': 'max-content'},value=chosen_country)\n",
    "paramtypes_widget = Dropdown(options=paramtypes,description='param class',style={'description_width': 'initial'}, layout={'width': 'max-content'},value=chosen_paramtype)\n",
    "runid_widget = Text(value=None,placeholder='Enter run id',description='Run_id:',disabled=False)\n",
    "datasrcs_widget = RadioButtons(options=datasrcs,value='jhu',description='data src',disabled=False,layout={'width': 'max-content'}) \n",
    "\n",
    "\n",
    "MyModel = None\n",
    "def fit_trace(modelname,agestructure,datasrc,country,paramtype,run_id):\n",
    "    global bd,MyModel,params_init_min_max,params_init_min_max_slider,fit_new_params_widget\n",
    "    global sliders_widgets,sliderparams,sliders,bsliders,slbox,f2s_button,s2f_button\n",
    "    \n",
    "    if MyModel is None:\n",
    "        MyModel = SliderFit(modelname=modelname,basedata=bd,datasrcs_widget=datasrcs_widget,country=country,countries_widget=countries_widget,\n",
    "                            run_id=run_id,data_src=datasrc,param_class=paramtype,fit_targets=['confirmed','deaths'])\n",
    "    if int(agestructure) > 1 and modelname in agemodels :   # modelname value from widget\n",
    "        modelname_a = modelname+'_A'+str(agestructure)\n",
    "    elif int(agestructure) > 1:  # age structure not yet implemented for this model type\n",
    "        modelname_a = modelname\n",
    "        agestructure=1\n",
    "        modelage_widget.value = agestructure\n",
    "    else:\n",
    "        modelname_a = modelname\n",
    "        \n",
    "    if MyModel.modelname != modelname_a:  # new modelname => build a new MyModel\n",
    "        MyModel = SliderFit(modelname=modelname_a,basedata=bd,datasrcs_widget=datasrcs_widget,country=country,countries_widget=countries_widget,\n",
    "                            run_id=run_id,data_src=datasrc,param_class=paramtype,fit_targets=['confirmed','deaths'])\n",
    "    if MyModel.country != country or MyModel.data_src != datasrc :   # value from widget\n",
    "        MyModel.setup_data(country,datasrc)\n",
    "        MyModel.transfer_cur_to_plot();\n",
    "        # MyModel = SliderFit(modelname=modelname,basedata=bd,country=country,run_id=run_id,data_src=datasrc,param_class=paramtype)\n",
    "    if MyModel.param_class != paramtype:\n",
    "        MyModel = SliderFit(modelname=modelname_a,basedata=bd,datasrcs_widget=datasrcs_widget,country=country,countries_widget=countries_widget,\n",
    "                            run_id=run_id,data_src=datasrc,param_class=paramtype,fit_targets=['confirmed','deaths'])\n",
    "        \n",
    "    display(MyModel.slbox)\n",
    "    #ax=MyModel.solveplot(['deaths','confirmed','caution_fraction','economy'],\n",
    "    #                  datasets=['deaths_corrected_smoothed','confirmed_corrected_smoothed'],\n",
    "    #                  mag={'deaths':30.},newplot=True,figsize=(8,5));\n",
    "\n",
    "#country_fit_trace = interactive_output(fit_trace,{'modelname':modelnames_widget,'fittype':fittypes_widget,'datasrc':datasrcs_widget,'dataname':datanames_widget,'country':countries_widget});\n",
    "country_fit_trace = interactive_output(fit_trace,{'modelname':modelnames_widget,'agestructure':modelage_widget,\n",
    "                                                  'datasrc':datasrcs_widget,'country':countries_widget,'paramtype':paramtypes_widget,\n",
    "                                      'run_id':runid_widget});"
   ]
  },
  {
   "cell_type": "code",
   "execution_count": 48,
   "metadata": {
    "scrolled": false
   },
   "outputs": [
    {
     "data": {
      "application/vnd.jupyter.widget-view+json": {
       "model_id": "b4bd1acee7844c849475502e962b0195",
       "version_major": 2,
       "version_minor": 0
      },
      "text/plain": [
       "VBox(children=(VBox(children=(HBox(children=(Dropdown(description='model', index=16, layout=Layout(width='max-…"
      ]
     },
     "metadata": {},
     "output_type": "display_data"
    }
   ],
   "source": [
    "#cbox = VBox([datanames_widget,countries_widget,country_display_trace])  \n",
    "choicebox = HBox([modelnames_widget, modelage_widget,countries_widget,datasrcs_widget,paramtypes_widget,runid_widget])\n",
    "#modbox=HBox([paramtypes_widget, fit_new_params_widget])\n",
    "#modbox=HBox([paramtypes_widget])\n",
    "sbox = VBox([choicebox,country_fit_trace])\n",
    "# sbox = VBox([choicebox,modbox,country_fit_trace])\n",
    "#myhbox1 = HBox([country_display,class_display]) #,dcbox,cbox\n",
    "\n",
    "VBox([sbox])\n",
    "#VBox([myhbox1,MyModel.slbox,clus.map])"
   ]
  },
  {
   "cell_type": "code",
   "execution_count": 19,
   "metadata": {},
   "outputs": [
    {
     "name": "stdout",
     "output_type": "stream",
     "text": [
      "Setup a handler to be called when a trait changes.\n",
      "\n",
      "        This is used to setup dynamic notifications of trait changes.\n",
      "\n",
      "        Parameters\n",
      "        ----------\n",
      "        handler : callable\n",
      "            A callable that is called when a trait changes. Its\n",
      "            signature should be ``handler(change)``, where ``change`` is a\n",
      "            dictionary. The change dictionary at least holds a 'type' key.\n",
      "            * ``type``: the type of notification.\n",
      "            Other keys may be passed depending on the value of 'type'. In the\n",
      "            case where type is 'change', we also have the following keys:\n",
      "            * ``owner`` : the HasTraits instance\n",
      "            * ``old`` : the old value of the modified trait attribute\n",
      "            * ``new`` : the new value of the modified trait attribute\n",
      "            * ``name`` : the name of the modified trait attribute.\n",
      "        names : list, str, All\n",
      "            If names is All, the handler will apply to all traits.  If a list\n",
      "            of str, handler will apply to all names in the list.  If a\n",
      "            str, the handler will apply just to that name.\n",
      "        type : str, All (default: 'change')\n",
      "            The type of notification to filter by. If equal to All, then all\n",
      "            notifications are passed to the observe handler.\n",
      "        \n"
     ]
    }
   ],
   "source": [
    "print(Widget.observe.__doc__)"
   ]
  },
  {
   "cell_type": "code",
   "execution_count": 15,
   "metadata": {
    "scrolled": false
   },
   "outputs": [
    {
     "ename": "AttributeError",
     "evalue": "'SliderFit' object has no attribute 'logresid'",
     "output_type": "error",
     "traceback": [
      "\u001b[0;31m---------------------------------------------------------------------------\u001b[0m",
      "\u001b[0;31mAttributeError\u001b[0m                            Traceback (most recent call last)",
      "\u001b[0;32m<ipython-input-15-4c60856f4d83>\u001b[0m in \u001b[0;36m<module>\u001b[0;34m\u001b[0m\n\u001b[0;32m----> 1\u001b[0;31m \u001b[0mplt\u001b[0m\u001b[0;34m.\u001b[0m\u001b[0mplot\u001b[0m\u001b[0;34m(\u001b[0m\u001b[0mMyModel\u001b[0m\u001b[0;34m.\u001b[0m\u001b[0mlogresid\u001b[0m\u001b[0;34m[\u001b[0m\u001b[0;34m'deaths'\u001b[0m\u001b[0;34m]\u001b[0m\u001b[0;34m)\u001b[0m\u001b[0;34m\u001b[0m\u001b[0;34m\u001b[0m\u001b[0m\n\u001b[0m\u001b[1;32m      2\u001b[0m \u001b[0mplt\u001b[0m\u001b[0;34m.\u001b[0m\u001b[0mplot\u001b[0m\u001b[0;34m(\u001b[0m\u001b[0mMyModel\u001b[0m\u001b[0;34m.\u001b[0m\u001b[0mlogresid\u001b[0m\u001b[0;34m[\u001b[0m\u001b[0;34m'confirmed'\u001b[0m\u001b[0;34m]\u001b[0m\u001b[0;34m)\u001b[0m\u001b[0;34m\u001b[0m\u001b[0;34m\u001b[0m\u001b[0m\n",
      "\u001b[0;31mAttributeError\u001b[0m: 'SliderFit' object has no attribute 'logresid'"
     ]
    }
   ],
   "source": [
    "plt.plot(MyModel.logresid['deaths'])\n",
    "plt.plot(MyModel.logresid['confirmed'])"
   ]
  },
  {
   "cell_type": "code",
   "execution_count": null,
   "metadata": {
    "scrolled": false
   },
   "outputs": [],
   "source": [
    "MyModel.baseparams"
   ]
  },
  {
   "cell_type": "code",
   "execution_count": null,
   "metadata": {
    "scrolled": false
   },
   "outputs": [],
   "source": [
    "MyModel.model.parameters"
   ]
  },
  {
   "cell_type": "code",
   "execution_count": null,
   "metadata": {
    "scrolled": false
   },
   "outputs": [],
   "source": [
    "MyModel.odeparams"
   ]
  },
  {
   "cell_type": "code",
   "execution_count": null,
   "metadata": {
    "scrolled": false
   },
   "outputs": [],
   "source": [
    "len(MyModel.odeparams)"
   ]
  },
  {
   "cell_type": "code",
   "execution_count": null,
   "metadata": {
    "scrolled": false
   },
   "outputs": [],
   "source": [
    "MyModel.param_class"
   ]
  },
  {
   "cell_type": "code",
   "execution_count": null,
   "metadata": {
    "scrolled": false
   },
   "outputs": [],
   "source": [
    "MyModel.params"
   ]
  },
  {
   "cell_type": "code",
   "execution_count": 23,
   "metadata": {
    "scrolled": false
   },
   "outputs": [
    {
     "data": {
      "text/plain": [
       "{'Exposure': (0.33482260237093253, 0.2, 0.7, 0.001),\n",
       " 'IncubPeriod': (3.000001831800711, 3.0, 7.0, 0.01),\n",
       " 'DurMildInf': (7.03801356190026, 5.0, 15.0, 0.01),\n",
       " 'FracMild': (0.7, 0.5, 0.9, 0.01),\n",
       " 'FracCritical': (0.2333333333333333, 0.05, 0.15, 0.01),\n",
       " 'CFR': (0.02500009995661569, 0.025, 0.1, 0.001),\n",
       " 'TimeICUDeath': (9.991472945704457, 3.0, 10.0, 0.01),\n",
       " 'DurHosp': (3.4703933196561216, 2.0, 14.0, 0.01),\n",
       " 'ICUFrac': (0.00023106132615578512, 0.0001, 0.01, 1e-05),\n",
       " 'logI_0': (-7.202424861658292, -10.0, -6.0, 0.01),\n",
       " 'CautionFactor': (0.42479512553616144, 0.05, 0.5, 0.01),\n",
       " 'CautionRetention': (4.406803752413765, 0.3333333333333333, 6.0, 0.01),\n",
       " 'CautionExposure': (0.09186935082426417, 0.01, 1.0, 0.01),\n",
       " 'CautionExposureYoung': (0.09186935082426417, 0.01, 1.0, 0.01),\n",
       " 'CautionFatigueRet': (5.999978370108702, 0.3333333333333333, 6.0, 0.01),\n",
       " 'EconomicStriction': (0.3346137606743702, 0.3333333333333333, 3.0, 0.01),\n",
       " 'EconomicRetention': (3.9595963360413498, 0.3333333333333333, 4.0, 0.01),\n",
       " 'EconomyRelaxation': (3.999925019235223, 0.3333333333333333, 4.0, 0.01),\n",
       " 'EconomicCostOfCaution': (0.5, 0.2, 0.8, 0.001),\n",
       " 'FracConfirmedDet': (1.0, 0.1, 1.0, 0.01),\n",
       " 'FracDeathsDet': (1.0, 0.5, 1.0, 0.01)}"
      ]
     },
     "execution_count": 23,
     "metadata": {},
     "output_type": "execute_result"
    }
   ],
   "source": [
    "MyModel.params_init_min_max"
   ]
  },
  {
   "cell_type": "code",
   "execution_count": 31,
   "metadata": {
    "scrolled": false
   },
   "outputs": [
    {
     "name": "stdout",
     "output_type": "stream",
     "text": [
      "Param FracConfirmedDet within 0.0 % of max.\n",
      "Param FracDeathsDet within 0.0 % of max.\n"
     ]
    }
   ],
   "source": [
    "MyModel.checkparams(MyModel.params_init_min_max)"
   ]
  },
  {
   "cell_type": "code",
   "execution_count": 27,
   "metadata": {
    "scrolled": false
   },
   "outputs": [
    {
     "data": {
      "text/plain": [
       "{'CautionFactor': 0.1,\n",
       " 'CautionRetention': 2.0,\n",
       " 'CautionExposure': 0.1,\n",
       " 'CautionExposureYoung': 0.09186935082426417,\n",
       " 'CautionFatigueRet': 2.0,\n",
       " 'EconomicStriction': 1.0,\n",
       " 'EconomicRetention': 2.0,\n",
       " 'EconomyRelaxation': 2.0,\n",
       " 'EconomicCostOfCaution': 0.5}"
      ]
     },
     "execution_count": 27,
     "metadata": {},
     "output_type": "execute_result"
    }
   ],
   "source": [
    "MyModel.cbparams"
   ]
  },
  {
   "cell_type": "code",
   "execution_count": 59,
   "metadata": {
    "scrolled": false
   },
   "outputs": [
    {
     "data": {
      "text/plain": [
       "19"
      ]
     },
     "execution_count": 59,
     "metadata": {},
     "output_type": "execute_result"
    }
   ],
   "source": [
    "len(MyModel.model.param_list)"
   ]
  },
  {
   "cell_type": "code",
   "execution_count": 60,
   "metadata": {
    "scrolled": false
   },
   "outputs": [
    {
     "data": {
      "text/plain": [
       "19"
      ]
     },
     "execution_count": 60,
     "metadata": {},
     "output_type": "execute_result"
    }
   ],
   "source": [
    "MyModel.model.num_param"
   ]
  },
  {
   "cell_type": "code",
   "execution_count": 61,
   "metadata": {
    "scrolled": false
   },
   "outputs": [
    {
     "data": {
      "text/plain": [
       "19"
      ]
     },
     "execution_count": 61,
     "metadata": {},
     "output_type": "execute_result"
    }
   ],
   "source": [
    "len(MyModel.model.parameters)"
   ]
  },
  {
   "cell_type": "code",
   "execution_count": 62,
   "metadata": {
    "scrolled": false
   },
   "outputs": [],
   "source": [
    "MyModel.set_param('alpha',0.22)"
   ]
  },
  {
   "cell_type": "markdown",
   "metadata": {},
   "source": [
    "# SliderFit wrapped"
   ]
  },
  {
   "cell_type": "code",
   "execution_count": null,
   "metadata": {
    "scrolled": false
   },
   "outputs": [],
   "source": [
    "exec(open('ModelFit.py','r').read())"
   ]
  },
  {
   "cell_type": "code",
   "execution_count": null,
   "metadata": {
    "scrolled": false
   },
   "outputs": [],
   "source": [
    "from ipywidgets.widgets import Text\n",
    "\n",
    "chosen_model = 'SC3FUEI3R'\n",
    "chosen_country = 'Australia'\n",
    "\n",
    "countries_common = bd.countries_common\n",
    "paramtypes = ['base','ode']\n",
    "datasrcs = ['jhu','owid']\n",
    "agegroups = [1,4,8,16]\n",
    "\n",
    "modelnames_widget = Dropdown(options=possmodels,description='model',layout={'width': 'max-content'},value=chosen_model)\n",
    "modelage_widget = Dropdown(options=agegroups,description='age grps',layout={'width': 'max-content'},value=1)\n",
    "countries_widget = Dropdown(options=countries_common,description='countries',layout={'width': 'max-content'},value=chosen_country)\n",
    "paramtypes_widget = Dropdown(options=paramtypes,description='param base/ode',value='base')\n",
    "runid_widget = Text(value=None,placeholder='Enter run id',description='Run_id:',disabled=False)\n",
    "datasrcs_widget = RadioButtons(options=datasrcs,description='data src',disabled=False,layout={'width': 'max-content'}) \n",
    "\n",
    "def model_change(*args):\n",
    "    global vbox\n",
    "    global MyModel,bd,agemodels,sliderparams\n",
    "    global modelnames_widget,modelage_widget,countries_widget,paramtypes_widget,runid_widget,datasrcs_widget\n",
    "    \n",
    "    modelname = modelnames_widget.value\n",
    "    agestructure = modelage_widget.value\n",
    "    country = countries_widget.value\n",
    "    run_id = runid_widget.value\n",
    "    data_src=datasrcs_widget.value\n",
    "    paramtype = paramtypes_widget.value\n",
    "    \n",
    "    if int(agestructure) > 1 and modelname in agemodels:\n",
    "        modelname_a = modelname+'_A'+str(agestructure)\n",
    "    elif int(agestructure) > 1:  # age structure not yet implemented for this model type\n",
    "        modelname_a = modelname\n",
    "        agestructure=1\n",
    "        modelage_widget.value = agestructure\n",
    "    else:\n",
    "        modelname_a = modelname   \n",
    "    MyModel = SliderFit(modelname=modelname_a,basedata=bd,country=country,paramtype=paramtype,run_id=run_id,data_src=data_src)\n",
    "    vbox.children[-1] = MyModel.slbox\n",
    "    print('MyModel in model change',MyModel)\n",
    "\n",
    "\n",
    "modelnames_widget.observe(model_change,'value')\n",
    "modelage_widget.observe(model_change,'value')\n",
    "\n",
    "def data_change(*args):\n",
    "    global MyModel\n",
    "    global countries_widget,datasrcs_widget\n",
    "\n",
    "    country = countries_widget.value\n",
    "    data_src=datasrcs_widget.value\n",
    "\n",
    "    MyModel.data_src = data_src\n",
    "    MyModel.setup_data(country)\n",
    "    print('country changed to',country,'registered in MyModel as',MyModel.country)\n",
    "    print('MyModel',MyModel)\n",
    "        \n",
    "countries_widget.observe(data_change,'value')\n",
    "datasrcs_widget.observe(data_change,'value')\n",
    "\n",
    "MyModel = SliderFit(modelname=chosen_model,basedata=bd,country=chosen_country,paramtype='ode',run_id='test1',data_src='jhu') "
   ]
  },
  {
   "cell_type": "code",
   "execution_count": null,
   "metadata": {
    "scrolled": false
   },
   "outputs": [],
   "source": [
    "# Norman: Your version did not in fact use the fit_trace widget\n",
    "\n",
    "#cbox = VBox([datanames_widget,countries_widget,country_display_trace])  \n",
    "#choicebox = HBox([modelnames_widget, modelage_widget, fittypes_widget])\n",
    "#modbox=HBox([paramtypes_widget, fit_new_params_widget])\n",
    "#sbox = VBox([choicebox,modbox,country_fit_trace])\n",
    "#myhbox1 = HBox([country_display,class_display,dcbox,cbox])\n",
    "#VBox([myhbox1,MyModel.slbox,clus.map])"
   ]
  },
  {
   "cell_type": "code",
   "execution_count": null,
   "metadata": {
    "scrolled": false
   },
   "outputs": [],
   "source": [
    "#cbox = VBox([datanames_widget,countries_widget,country_display_trace])  \n",
    "choicebox = HBox([modelnames_widget,modelage_widget,paramtypes_widget,countries_widget,runid_widget])  #,fit_new_params_widget\n",
    "#myhbox1 = HBox([country_display,class_display,dcbox,cbox])\n",
    "vbox = VBox([choicebox,MyModel.slbox])  #,clus.map\n",
    "vbox"
   ]
  },
  {
   "cell_type": "code",
   "execution_count": null,
   "metadata": {
    "scrolled": false
   },
   "outputs": [],
   "source": [
    "foo = [1,2,3,4]\n",
    "foo[-1]"
   ]
  },
  {
   "cell_type": "code",
   "execution_count": null,
   "metadata": {
    "scrolled": true
   },
   "outputs": [],
   "source": [
    "print(vbox.children[-1])"
   ]
  },
  {
   "cell_type": "code",
   "execution_count": 42,
   "metadata": {
    "scrolled": false
   },
   "outputs": [
    {
     "data": {
      "text/plain": [
       "['_add_notifiers',\n",
       " '_call_widget_constructed',\n",
       " '_comm_changed',\n",
       " '_compare',\n",
       " '_cross_validation_lock',\n",
       " '_default_keys',\n",
       " '_display_callbacks',\n",
       " '_dom_classes',\n",
       " '_fire_children_displayed',\n",
       " '_gen_repr_from_keys',\n",
       " '_get_embed_state',\n",
       " '_get_trait_default_generator',\n",
       " '_handle_custom_msg',\n",
       " '_handle_displayed',\n",
       " '_handle_msg',\n",
       " '_holding_sync',\n",
       " '_ipython_display_',\n",
       " '_is_numpy',\n",
       " '_lock_property',\n",
       " '_log_default',\n",
       " '_model_id',\n",
       " '_model_module',\n",
       " '_model_module_version',\n",
       " '_model_name',\n",
       " '_msg_callbacks',\n",
       " '_notify_observers',\n",
       " '_notify_trait',\n",
       " '_property_lock',\n",
       " '_register_validator',\n",
       " '_remove_notifiers',\n",
       " '_repr_keys',\n",
       " '_send',\n",
       " '_should_send_property',\n",
       " '_states_to_send',\n",
       " '_trait_default_generators',\n",
       " '_trait_from_json',\n",
       " '_trait_notifiers',\n",
       " '_trait_to_json',\n",
       " '_trait_validators',\n",
       " '_trait_values',\n",
       " '_view_count',\n",
       " '_view_module',\n",
       " '_view_module_version',\n",
       " '_view_name',\n",
       " '_widget_construction_callback',\n",
       " 'add_class',\n",
       " 'add_traits',\n",
       " 'box_style',\n",
       " 'children',\n",
       " 'class_own_trait_events',\n",
       " 'class_own_traits',\n",
       " 'class_trait_names',\n",
       " 'class_traits',\n",
       " 'close',\n",
       " 'close_all',\n",
       " 'comm',\n",
       " 'cross_validation_lock',\n",
       " 'get_manager_state',\n",
       " 'get_state',\n",
       " 'get_view_spec',\n",
       " 'handle_comm_opened',\n",
       " 'has_trait',\n",
       " 'hold_sync',\n",
       " 'hold_trait_notifications',\n",
       " 'keys',\n",
       " 'layout',\n",
       " 'log',\n",
       " 'model_id',\n",
       " 'notify_change',\n",
       " 'observe',\n",
       " 'on_displayed',\n",
       " 'on_msg',\n",
       " 'on_trait_change',\n",
       " 'on_widget_constructed',\n",
       " 'open',\n",
       " 'remove_class',\n",
       " 'send',\n",
       " 'send_state',\n",
       " 'set_state',\n",
       " 'set_trait',\n",
       " 'setup_instance',\n",
       " 'trait_defaults',\n",
       " 'trait_events',\n",
       " 'trait_has_value',\n",
       " 'trait_metadata',\n",
       " 'trait_names',\n",
       " 'trait_values',\n",
       " 'traits',\n",
       " 'unobserve',\n",
       " 'unobserve_all',\n",
       " 'widget_types',\n",
       " 'widgets']"
      ]
     },
     "execution_count": 42,
     "metadata": {},
     "output_type": "execute_result"
    }
   ],
   "source": [
    "[x for x in dir(vbox) if '__' not in x]"
   ]
  },
  {
   "cell_type": "code",
   "execution_count": 36,
   "metadata": {
    "scrolled": false
   },
   "outputs": [],
   "source": [
    "#cbox = VBox([datanames_widget,countries_widget,country_display_trace])  \n",
    "choicebox = HBox([modelnames_widget,modelage_widget,paramtypes_widget,countries_widget,runid_widget])  #,fit_new_params_widget\n",
    "#myhbox1 = HBox([country_display,class_display,dcbox,cbox])\n",
    "vbox = VBox([choicebox,MyModel.slbox])  #,clus.map\n",
    "def vbox_update(*args):\n",
    "    global vbox\n",
    "    vbox.child[1] = MyModel.slbox\n",
    "    \n",
    "vbox.observe(vbox_update,'value')"
   ]
  },
  {
   "cell_type": "code",
   "execution_count": 37,
   "metadata": {
    "scrolled": false
   },
   "outputs": [
    {
     "data": {
      "application/vnd.jupyter.widget-view+json": {
       "model_id": "568c9c17c2d64eccb73f75c7508a1f76",
       "version_major": 2,
       "version_minor": 0
      },
      "text/plain": [
       "VBox(children=(HBox(children=(Dropdown(description='model', index=16, layout=Layout(width='max-content'), opti…"
      ]
     },
     "metadata": {},
     "output_type": "display_data"
    },
    {
     "name": "stdout",
     "output_type": "stream",
     "text": [
      "MyModel in model change <__main__.SliderFit object at 0x7f442221a588>\n"
     ]
    }
   ],
   "source": [
    "vbox"
   ]
  },
  {
   "cell_type": "code",
   "execution_count": null,
   "metadata": {
    "scrolled": false
   },
   "outputs": [],
   "source": [
    "foo.observe"
   ]
  },
  {
   "cell_type": "markdown",
   "metadata": {
    "extensions": {
     "jupyter_dashboards": {
      "version": 1,
      "views": {
       "default_view": {
        "col": 0,
        "height": 2,
        "hidden": false,
        "row": 0,
        "width": 12
       }
      }
     }
    }
   },
   "source": [
    "# Consensus clustering and map"
   ]
  },
  {
   "cell_type": "code",
   "execution_count": 9,
   "metadata": {
    "extensions": {
     "jupyter_dashboards": {
      "version": 1,
      "views": {
       "default_view": {
        "col": 0,
        "height": 2,
        "hidden": false,
        "row": 2,
        "width": 12
       }
      }
     }
    },
    "scrolled": false
   },
   "outputs": [
    {
     "data": {
      "text/html": [
       "<style>.container { width:100% !important; }</style>"
      ],
      "text/plain": [
       "<IPython.core.display.HTML object>"
      ]
     },
     "metadata": {},
     "output_type": "display_data"
    }
   ],
   "source": [
    "# from Consensus import *\n",
    "# NB:  scoping problem seems to prevent import from working properly.\n",
    "# instead use exec below.\n",
    "country_display = None\n",
    "class_display = None\n",
    "display_countries = None\n",
    "chosen_country = 'Australia'\n",
    "current_country = 'Australia'\n",
    "chosen_class = -1\n",
    "current_class = -1\n",
    "geog = None\n",
    "geog1 = None\n",
    "exec(open('Consensus.py','r').read());"
   ]
  },
  {
   "cell_type": "code",
   "execution_count": 10,
   "metadata": {
    "extensions": {
     "jupyter_dashboards": {
      "version": 1,
      "views": {
       "default_view": {
        "col": 0,
        "height": 2,
        "hidden": false,
        "row": 30,
        "width": 12
       }
      }
     }
    },
    "scrolled": false
   },
   "outputs": [],
   "source": [
    "#foo = Consensus(cases=['deaths','cases','cases_nonlinr'])\n",
    "#clus = Consensus(ClData,cases = ['deaths','cases','cases_lin2020','cases_pwlfit','cases_nonlin','cases_nonlinr']);\n",
    "#clus = Consensus(ClData,cases = ['deaths','cases','cases_nonlinr']);\n",
    "clus = Consensus(ClData,cases = ['deaths','cases_nonlinr']);"
   ]
  },
  {
   "cell_type": "code",
   "execution_count": 11,
   "metadata": {
    "scrolled": false
   },
   "outputs": [
    {
     "data": {
      "application/vnd.jupyter.widget-view+json": {
       "model_id": "745568a7e87d4ed6a6fffe481b1f1908",
       "version_major": 2,
       "version_minor": 0
      },
      "text/plain": [
       "HBox(children=(FloatProgress(value=0.0, description='loop over cases', max=2.0, style=ProgressStyle(descriptio…"
      ]
     },
     "metadata": {},
     "output_type": "display_data"
    },
    {
     "name": "stdout",
     "output_type": "stream",
     "text": [
      "\n",
      "74 countries\n",
      "reference clustering (numbered from 0) is 7\n"
     ]
    },
    {
     "data": {
      "image/png": "[encoded data removed]",
      "text/plain": [
       "<Figure size 720x1728 with 1 Axes>"
      ]
     },
     "metadata": {
      "needs_background": "light"
     },
     "output_type": "display_data"
    }
   ],
   "source": [
    "clus.scan() #clus.scan(diag=True) for diagnostic output\n",
    "clus.make_clusters()\n",
    "clus.swizzle(satthresh=0.6) # change threshold closer to 1 for more unclustered\n",
    "clus.plot_swiz()\n",
    "chosen_swdic = clus.swdic"
   ]
  },
  {
   "cell_type": "code",
   "execution_count": 12,
   "metadata": {
    "extensions": {
     "jupyter_dashboards": {
      "version": 1,
      "views": {
       "default_view": {
        "hidden": true
       }
      }
     }
    },
    "scrolled": false
   },
   "outputs": [],
   "source": [
    "satthresh_set = 0.6\n",
    "def cluster_trace(cons, dataname='deaths', country='Australia', satthresh = 0.6):\n",
    "    global satthresh_set,chosen_swdic,chosen_country\n",
    "    if satthresh != satthresh_set:\n",
    "        clus.swizzle(satthresh=satthresh) # change threshold closer to 1 for more unclustered\n",
    "        chosen_swdic = clus.swdic\n",
    "        satthresh_set = satthresh\n",
    "        classes = sprintdic(chosen_swdic,chosen_country)\n",
    "        class_display.value = classes\n",
    "    try:\n",
    "        if country in cons.countries:\n",
    "            clus.plot_quantile(dataname,'own',country,title=False)\n",
    "    except:\n",
    "        clus.plot_quantile(dataname,'own','Australia',title=False)\n",
    "        \n",
    "display_countries = clus.countries        \n",
    "country_display = interactive(cluster_trace,cons=fixed(clus),dataname=clus.cases,country=clus.countries,\n",
    "                              satthresh= FloatSlider(value = 0.6,min=0.,max=1.0,step=0.01,description='cluster thresh',continuous_update=False));"
   ]
  },
  {
   "cell_type": "code",
   "execution_count": 13,
   "metadata": {
    "scrolled": false
   },
   "outputs": [],
   "source": [
    "classes = sprintdic(clus.swdic,chosen_country='Australia')\n",
    "class_display = widgets.Textarea(value=classes,layout = widgets.Layout(height='320px'))"
   ]
  },
  {
   "cell_type": "code",
   "execution_count": 14,
   "metadata": {
    "extensions": {
     "jupyter_dashboards": {
      "version": 1,
      "views": {
       "default_view": {
        "col": 0,
        "height": 2,
        "hidden": true,
        "row": 24,
        "width": 8
       }
      }
     }
    },
    "scrolled": false
   },
   "outputs": [],
   "source": [
    "#display(country_display)\n",
    "clus.make_map();"
   ]
  },
  {
   "cell_type": "code",
   "execution_count": 15,
   "metadata": {
    "extensions": {
     "jupyter_dashboards": {
      "version": 1,
      "views": {
       "default_view": {
        "col": 0,
        "height": 2,
        "hidden": false,
        "row": 28,
        "width": 12
       }
      }
     }
    },
    "scrolled": false
   },
   "outputs": [],
   "source": [
    "clus.map\n",
    "clus.map.min_height=600;"
   ]
  },
  {
   "cell_type": "markdown",
   "metadata": {},
   "source": [
    "\n",
    "\n",
    ".\n",
    "..\n",
    "0000**Alternate country_fit_trace by analogy to country_display_trace.**\n",
    "\n",
    "Notes:\n",
    "* `fit_trace()` creates the model, performs the fit, and produces the solveplot plots.\n",
    "* `fit_output_text` is a global variable, set by scooping up all of stdout during fit report."
   ]
  },
  {
   "cell_type": "code",
   "execution_count": 16,
   "metadata": {
    "scrolled": false
   },
   "outputs": [],
   "source": [
    "def data_choice(ts,strlist):\n",
    "    #print(strlist)\n",
    "    d = list(ts.keys())\n",
    "    #print(d)\n",
    "    notstrlist =['new','corrected','smoothed']\n",
    "    igstrlist =['cumulative','raw','rough']\n",
    "    for ns in notstrlist:\n",
    "        if not any(ns in s for s in strlist):\n",
    "            d = [x for x in d if not ns in x]\n",
    "    #print(d)\n",
    "    for s in strlist:\n",
    "        if not s in igstrlist:\n",
    "            if not (any('deaths' in s for s in strlist) and ('lin' in s)):\n",
    "                d = [x for x in d if s in x]\n",
    "                #print(s,d)\n",
    "    return d"
   ]
  },
  {
   "cell_type": "code",
   "execution_count": 17,
   "metadata": {
    "scrolled": false
   },
   "outputs": [],
   "source": [
    "datasrcs_widget = RadioButtons(options=['jhu','owid'],description='data src',disabled=False,layout={'width': 'max-content'}) \n",
    "data_1_widget = RadioButtons(options=['deaths','confirmed'],description='data type',disabled=False,layout={'width': 'max-content'}) \n",
    "data_2_widget = RadioButtons(options=['new','cumulative'],description='integration',disabled=False,layout={'width': 'max-content'})\n",
    "data_3_widget = RadioButtons(options=['corrected','raw'],description='correction',disabled=False,layout={'width': 'max-content'})\n",
    "data_4_widget = RadioButtons(options=['smoothed','rough'],description='smoothing',disabled=False,layout={'width': 'max-content'})\n",
    "\n",
    "datanames_widget = Dropdown(options=data_choice(bd.covid_ts,['deaths','new','corrected','smoothed','raw']),\n",
    "                            description='data chc',disabled=False,layout={'width': 'max-content'}) \n",
    "\n",
    "def datachoice_update(*args):\n",
    "    curr_option = datanames_widget.value\n",
    "    datanames_widget.options=data_choice(bd.covid_ts,[data_1_widget.value,data_2_widget.value,\n",
    "                                    data_3_widget.value,data_4_widget.value]) \n",
    "    if not curr_option in datanames_widget.options: \n",
    "        datanames_widget.value=datanames_widget.options[0]\n",
    "        \n",
    "data_1_widget.observe(datachoice_update,'value')\n",
    "data_2_widget.observe(datachoice_update,'value')\n",
    "data_3_widget.observe(datachoice_update,'value')\n",
    "data_4_widget.observe(datachoice_update,'value')\n",
    "\n",
    "dcbox = VBox([datasrcs_widget,data_1_widget,data_2_widget,data_3_widget,data_4_widget])"
   ]
  },
  {
   "cell_type": "code",
   "execution_count": 18,
   "metadata": {
    "scrolled": false
   },
   "outputs": [],
   "source": [
    "countries_common = bd.countries_common  \n",
    "countries_widget = Dropdown(options=countries_common,description='countries',layout={'width': 'max-content'},value=chosen_country)\n",
    "modelnames_widget = Dropdown(options=possmodels,description='model',layout={'width': 'max-content'},value='SC3FUEI3R')\n",
    "modelage_widget = Dropdown(options=[1,4,8,16],description='age grps',layout={'width': 'max-content'},value=1)\n",
    "fittypes = ['leastsq','nelder','differential_evolution','nelder','slsqp','shgo','cobyla','lbfgsb','bfgs','basinhopping','dual_annealing']\n",
    "fittypes_widget = Dropdown(options=fittypes,description='fit meth',layout={'width': 'max-content'},value='leastsq')\n",
    "paramtypes = ['base','ode']\n",
    "paramtypes_widget = Dropdown(options=paramtypes,description='param base/ode',value='base')\n",
    "#fit_new_params_widget = ToggleButton(value=True,description='get new params',disabled=False,button_style='',icon='check')\n",
    "fit_new_params_widget = Checkbox(value=True,description='get new params',disabled=False)\n",
    "fit_output_text = 'Fit output will be displayed here.'\n",
    "fit_display_widget = widgets.Textarea(value=fit_output_text,disabled=False,layout = widgets.Layout(height='320px',width='520px'))\n",
    "\n",
    "\n",
    "def slider_fit_update(*args):\n",
    "    global MyModel,bd,agemodels,sliderparams,modelnames_widget,modelage_widget,countries_widget,slfit\n",
    "    modelname = modelnames_widget.value\n",
    "    agestructure = modelage_widget.value\n",
    "    country = countries_widget.value\n",
    "    if int(agestructure) > 1 and modelname in agemodels:\n",
    "        modelname_a = modelname+'_A'+str(agestructure)\n",
    "    elif int(agestructure) > 1:  # age structure not yet implemented for this model type\n",
    "        modelname_a = modelname\n",
    "        agestructure=1\n",
    "        modelage_widget.value = agestructure\n",
    "    else:\n",
    "        modelname_a = modelname \n",
    "    #slfit = SliderFit(modelname=modelname_a,basedata=bd,country=country,run_id=\"_sltest\",data_src='jhu')    \n",
    "    #return slfit    \n",
    "        \n",
    "\n",
    "    \n",
    "countries_widget.observe(slider_fit_update,'value')\n",
    "modelnames_widget.observe(slider_fit_update,'value')\n",
    "modelage_widget.observe(slider_fit_update,'value')\n",
    "\n",
    "def swizzle_update(*args):\n",
    "    country_display\n",
    "\n",
    "\n",
    "#def datanames_update(*args):\n",
    "#    if datasrcs_widget.value == 'jhu':\n",
    "#        datanames_widget.options = list(bd.covid_ts.keys())\n",
    "#    elif datasrcs_widget.value == 'owid':\n",
    "#        datanames_widget.options = list(bd.covid_owid_ts.keys()) \n",
    "#datasrcs_widget.observe(datanames_update,'options')\n",
    "\n",
    "def countries_update(*args):\n",
    "    global chosen_country,chosen_class,countries_common\n",
    "    #if chosen_country in countries_common:\n",
    "    countries_widget.value = country_display.children[1].value\n",
    "    # else:\n",
    "    # countries_widget.value = countries_widget.value\n",
    "    class_display.value = sprintdic(clus.swdic,chosen_country=countries_widget.value)\n",
    "\n",
    "country_display.children[1].observe(countries_update,'value')\n",
    "\n",
    "def common_trace(datasrc = 'jhu', dataname='deaths',country='Australia'):\n",
    "    global bd,countries_common\n",
    "    if country in countries_common:\n",
    "        if datasrc == 'jhu':\n",
    "            ts = bd.covid_ts\n",
    "        elif datasrc == 'owid':\n",
    "            ts = bd.covid_owid_ts\n",
    "        else:\n",
    "            print('Error in datasrc')\n",
    "        if dataname in ts:    \n",
    "            if 'deaths' in dataname:\n",
    "                plt.plot(ts[dataname][country],color='red')\n",
    "            elif 'confirmed' in dataname:\n",
    "                plt.plot(ts[dataname][country],color='green')\n",
    "        else:\n",
    "            print('dataname not found',dataname)\n",
    "            \n",
    "country_display_trace = interactive_output(common_trace,{'datasrc':datasrcs_widget,'dataname':datanames_widget,'country':countries_widget});"
   ]
  },
  {
   "cell_type": "code",
   "execution_count": 19,
   "metadata": {
    "scrolled": false
   },
   "outputs": [],
   "source": [
    "def allsliderparams(modelname,params_init_min_max={}):\n",
    "    \"\"\"\n",
    "        construct dictionary of slider widgets corresponding to \n",
    "        input params_init_min_max is the dictionary of tuples for parameter optimization (3 or 4-tuples)\n",
    "        pimm is short name for params_init_min_max\n",
    "    \"\"\"\n",
    "    pimm = params_init_min_max\n",
    "    if pimm == {}:\n",
    "        print('missing non empty dictionary params_init_min_max')\n",
    "        return\n",
    "    elif len(pimm[list(pimm.keys())[0]]) != 4:\n",
    "        print('dictionary params_init_min_max must contain tuples with 4 entries (val,min,max,step)')\n",
    "        return\n",
    "    slidedict = {}\n",
    "    slider_layout = Layout(width='400px', height='12px')\n",
    "    style = {'description_width': 'initial'}\n",
    "    slidedict.update({'param_class':fixed('base')})\n",
    "    slidedict.update({'figsize':fixed((8,5))})\n",
    "    for pm in pimm:\n",
    "        if pm != 'param_class':\n",
    "            if ((not 'Caution' in pm) or 'C' in modelname) and ((not 'Econom' in pm) or 'U' in modelname) and ((not 'Young' in pm) or '_A' in modelname) and ((not 'Fatigue' in pm) or 'F' in modelname):\n",
    "                slidedict.update({pm:FloatSlider(min=pimm[pm][1],max=pimm[pm][2],step=pimm[pm][3],value=pimm[pm][0],description=pm,\n",
    "                            style=style,\n",
    "                            layout=slider_layout,\n",
    "                            continuous_update=False,readout_format='.3f')})\n",
    "    return slidedict "
   ]
  },
  {
   "cell_type": "code",
   "execution_count": 20,
   "metadata": {
    "scrolled": false
   },
   "outputs": [],
   "source": [
    "modelname = 'SC3FUEI3R'\n",
    "MyModel =  ModelFit(modelname=modelname,basedata=bd,country='Australia',run_id=\"_test1\",data_src='jhu')\n",
    "def fit_trace(modelname='SC3FUEI3R',agestructure=1,fittype='leastsq',datasrc='jhu',country='Australia',paramtype = 'base',fit_new_params = True):\n",
    "    global bd,MyModel,params_init_min_max,params_init_min_max_slider,fit_new_params_widget\n",
    "    global sliders_widgets,sliderparams,sliders,bsliders,slbox,f2s_button,s2f_button\n",
    "    if int(agestructure) > 1 and modelname in agemodels :\n",
    "        modelname_a = modelname+'_A'+str(agestructure)\n",
    "    elif int(agestructure) > 1:  # age structure not yet implemented for this model type\n",
    "        modelname_a = modelname\n",
    "        agestructure=1\n",
    "        modelage_widget.value = agestructure\n",
    "    else:\n",
    "        modelname_a = modelname\n",
    "    try:\n",
    "        old_stdout = sys.stdout\n",
    "        sys.stdout = mystdout = io.StringIO()\n",
    "        ###############################################\n",
    "        ## do the fit\n",
    "        #MyModel = ModelFit('SC3EI3R',basedata=bd,data=ClData.clusdata_all,country=country,run_id=\"_test1\",data_src='cluster')\n",
    "        if MyModel == None or MyModel.modelname!=modelname:\n",
    "            MyModel = ModelFit(modelname=modelname_a,basedata=bd,country=country,run_id=\"_test1\",data_src=datasrc)\n",
    "                # params_init_min_max = sim_param_inits[modelname]       # sim_param_inits defined in model_fits_age.py\n",
    "            params_init_min_max = default_fit_params()\n",
    "            params_init_min_max_slider = params_init_min_max.copy()\n",
    "            # params_init_min_max_slider = MyModel.transfer_fit_to_params_init(params_init_min_max_slider)\n",
    "            sliderparams = allsliderparams(modelname,params_init_min_max_slider)\n",
    "            if sliderparams:\n",
    "                sliders_widgets=interactive_output(MyModel.slidefitplot,sliderparams)\n",
    "                sliders=VBox([w1 for w1 in list(sliderparams.values()) if isinstance(w1,Widget)])\n",
    "                bsliders=VBox([f2s_button,s2f_button,sliders])\n",
    "                slbox=HBox([sliders_widgets,bsliders])     \n",
    "        elif MyModel.country != country or MyModel.data_src != datasrc:\n",
    "            MyModel.data_src = datasrc\n",
    "            MyModel.setup_data(country)\n",
    "        if fit_new_params_widget.value:\n",
    "            if paramtype == 'ode':\n",
    "                if fit_new_params:\n",
    "                    params_init_min_max = sim_param_inits[modelname]       # sim_param_inits defined in model_fits_age.py\n",
    "                MyModel.model.parameters = {p:params_init_min_max[p][0] for p in params_init_min_max if p != 'logI_0'}\n",
    "                MyModel.params.update({p:params_init_min_max[p][0] for p in params_init_min_max if p != 'logI_0'})\n",
    "            elif paramtype == 'base':\n",
    "                if fit_new_params:\n",
    "                    params_init_min_max = default_fit_params()\n",
    "                params_in = base2params(MyModel.sbparams,MyModel.cbparams,MyModel.fbparams,modelname_a)\n",
    "                # need to check transfer of parameteres and compatibility\n",
    "            if 'logI_0' in params_init_min_max:\n",
    "                MyModel.set_I0(params_init_min_max['logI_0'][0])\n",
    "        fit_display_widget.value = \"Processing fit, please wait ...\"\n",
    "        \n",
    "        fit_ctrl = {'max_nfev':None,'ftol':0.001,'xtol':0.01,'epsfcn':0.0001} # one can try setting these to improve fit behaviour\n",
    "        #fit_ctrl = {}\n",
    "        # MyModel.fit(params_init_min_max,fit_targets=['deaths'],fit_data=['deaths_corrected_smoothed'],diag=True,report=True,conf_interval=False,fit_kws=fit_ctrl)\n",
    "        # MyModel.fit(params_init_min_max,fit_targets=['confirmed'],fit_data=['confirmed_corrected_smoothed'],diag=True,report=True,conf_interval=False,fit_kws=fit_ctrl)\n",
    "        #MyModel.fit(params_init_min_max,fit_method='differential_evolution',fit_targets=['deaths'],fit_data=['deaths_corrected_smoothed'],diag=True,report=True,conf_interval=False,fit_kws=fit_ctrl)\n",
    "\n",
    "        if fittype=='leastsq':\n",
    "            MyModel.fit(params_init_min_max=params_init_min_max,param_class=paramtype,fit_method='leastsq',fit_targets=['deaths','confirmed'],fit_data='default',diag=False,report=True,conf_interval=False,fit_kws=fit_ctrl)\n",
    "        else:\n",
    "            MyModel.fit(params_init_min_max=params_init_min_max,param_class=paramtype,fit_method=fittype,fit_targets=['deaths','confirmed'],fit_data='default',diag=False,report=True,conf_interval=False)\n",
    "        #MyModel.fit(params_init_min_max,fit_method='nelder',fit_targets=['deaths'],fit_data='default',diag=True,report=True,conf_interval=False)\n",
    "        # MyModel.fit(params_init_min_max,fit_targets=['deaths','confirmed'],fit_data=['deaths_corrected_smoothed','confirmed_corrected_smoothed'])\n",
    "        ax=MyModel.solveplot(['deaths','confirmed','caution_fraction','economy'],\n",
    "                      datasets=['deaths_corrected_smoothed','confirmed_corrected_smoothed'],\n",
    "                      mag={'deaths':30.},newplot=True,figsize=(8,5));\n",
    "        fit_display_widget.value = mystdout.getvalue()   #  fit_output_widget global.\n",
    "    finally:\n",
    "        sys.stdout = old_stdout\n",
    "\n",
    "#country_fit_trace = interactive_output(fit_trace,{'modelname':modelnames_widget,'fittype':fittypes_widget,'datasrc':datasrcs_widget,'dataname':datanames_widget,'country':countries_widget});\n",
    "country_fit_trace = interactive_output(fit_trace,{'modelname':modelnames_widget,'agestructure':modelage_widget,'fittype':fittypes_widget,\n",
    "                                                  'datasrc':datasrcs_widget,'country':countries_widget,'paramtype':paramtypes_widget,'fit_new_params':fit_new_params_widget});"
   ]
  },
  {
   "cell_type": "code",
   "execution_count": 21,
   "metadata": {
    "scrolled": false
   },
   "outputs": [
    {
     "data": {
      "text/plain": [
       "model_fits_age.ModelFit"
      ]
     },
     "execution_count": 21,
     "metadata": {},
     "output_type": "execute_result"
    }
   ],
   "source": [
    "MyModel.__class__"
   ]
  },
  {
   "cell_type": "code",
   "execution_count": 22,
   "metadata": {
    "scrolled": true
   },
   "outputs": [],
   "source": [
    "def getsliderparams(sliderparams):\n",
    "    \"\"\"\n",
    "        use dictionary of slider widgets to get params_init_min_max \n",
    "        which is the dictionary of tuples for parameter optimization (4-tuples)\n",
    "    \"\"\"\n",
    "    params_init_min_max = {}\n",
    "    for pm in sliderparams.keys():\n",
    "        #print('pm',pm,'value',sliderparams[pm].value)\n",
    "        if pm != 'param_class' and pm != 'figsize':\n",
    "            params_init_min_max.update({pm:(sliderparams[pm].value,sliderparams[pm].min,sliderparams[pm].max,sliderparams[pm].step)})\n",
    "    return params_init_min_max"
   ]
  },
  {
   "cell_type": "code",
   "execution_count": 23,
   "metadata": {
    "scrolled": true
   },
   "outputs": [],
   "source": [
    "def setsliderparams(params_init_min_max={},sliderparams={}):\n",
    "    \"\"\"\n",
    "        set values and limits in dictionary of slider widgets from params_init_min_max \n",
    "    \"\"\"\n",
    "    pimm = params_init_min_max\n",
    "    if pimm == {} or sliderparams == {}:\n",
    "        print('missing dictionary params_init_min_max or sliderparams')\n",
    "        return\n",
    "    elif len(pimm[list(pimm.keys())[0]]) != 4:\n",
    "        print('dictionary params_init_min_max must contain tuples with 4 entries (val,min,max,step)')\n",
    "        return\n",
    "    for pm in pimm:\n",
    "        #print('pm',pm,'value',sliderparams[pm].value)\n",
    "        if pm != 'param_class' and pm != 'figsize' and pm in sliderparams:\n",
    "            sliderparams[pm].value= pimm[pm][0]\n",
    "            sliderparams[pm].min= pimm[pm][1]\n",
    "            sliderparams[pm].max= pimm[pm][2]\n",
    "            sliderparams[pm].step= pimm[pm][3]\n",
    "    return"
   ]
  },
  {
   "cell_type": "code",
   "execution_count": 24,
   "metadata": {
    "scrolled": true
   },
   "outputs": [],
   "source": [
    "s2f_button = widgets.Button(description=\"Transfer to fit ICs\")\n",
    "def s2f_on_button_clicked(b):\n",
    "    global params_init_min_max, sliderparams\n",
    "    params_init_min_max = getsliderparams(sliderparams)\n",
    "\n",
    "s2f_button.on_click(s2f_on_button_clicked)"
   ]
  },
  {
   "cell_type": "code",
   "execution_count": 25,
   "metadata": {
    "scrolled": true
   },
   "outputs": [],
   "source": [
    "f2s_button = widgets.Button(description=\"Transfer ICs from fit\")\n",
    "def f2s_on_button_clicked(b):\n",
    "    global params_init_min_max, sliderparams\n",
    "    setsliderparams(params_init_min_max,sliderparams)\n",
    "\n",
    "f2s_button.on_click(f2s_on_button_clicked)"
   ]
  },
  {
   "cell_type": "code",
   "execution_count": 26,
   "metadata": {
    "scrolled": false
   },
   "outputs": [],
   "source": [
    "# params_init_min_max = sim_param_inits[modelname]       # sim_param_inits defined in model_fits_age.py\n",
    "params_init_min_max = default_fit_params()\n",
    "params_init_min_max_slider = params_init_min_max.copy()\n",
    "# params_init_min_max_slider = MyModel.transfer_fit_to_params_init(params_init_min_max_slider)\n",
    "sliderparams = allsliderparams(modelname,params_init_min_max_slider)\n",
    "if sliderparams:\n",
    "    sliders_widgets=interactive_output(MyModel.slidefitplot,sliderparams)\n",
    "    sliders=VBox([w1 for w1 in list(sliderparams.values()) if isinstance(w1,Widget)])\n",
    "    bsliders=VBox([f2s_button,s2f_button,sliders])\n",
    "    slbox=HBox([sliders_widgets,bsliders])"
   ]
  },
  {
   "cell_type": "code",
   "execution_count": 27,
   "metadata": {
    "scrolled": false
   },
   "outputs": [
    {
     "data": {
      "application/vnd.jupyter.widget-view+json": {
       "model_id": "e174cd0c960449c4b3cf6b5bae5b61c6",
       "version_major": 2,
       "version_minor": 0
      },
      "text/plain": [
       "VBox(children=(HBox(children=(interactive(children=(Dropdown(description='dataname', options=('deaths', 'cases…"
      ]
     },
     "metadata": {},
     "output_type": "display_data"
    }
   ],
   "source": [
    "cbox = VBox([datanames_widget,countries_widget,country_display_trace])  \n",
    "choicebox = HBox([modelnames_widget, modelage_widget, fittypes_widget])\n",
    "modbox=HBox([paramtypes_widget, fit_new_params_widget])\n",
    "sbox = VBox([choicebox,modbox,country_fit_trace])\n",
    "myhbox1 = HBox([country_display,class_display,dcbox,cbox])\n",
    "#myhbox2 = HBox([sbox,VBox([Label('Fit output data'),fit_display_widget]),slbox])\n",
    "# leave out slbox\n",
    "myhbox2 = HBox([sbox,VBox([Label('Fit output data'),fit_display_widget])])\n",
    "#myhbox2 = HBox([sbox])\n",
    "#myhbox2 = [country_fit_trace]\n",
    "#VBox([mybox,clus.map]) \n",
    "VBox([myhbox1,myhbox2,clus.map])\n",
    "#VBox([myhbox1,myhbox2])"
   ]
  },
  {
   "cell_type": "code",
   "execution_count": 28,
   "metadata": {
    "scrolled": false
   },
   "outputs": [
    {
     "data": {
      "text/plain": [
       "model_fits_age.ModelFit"
      ]
     },
     "execution_count": 28,
     "metadata": {},
     "output_type": "execute_result"
    }
   ],
   "source": [
    "MyModel.__class__"
   ]
  },
  {
   "cell_type": "code",
   "execution_count": 29,
   "metadata": {
    "scrolled": false
   },
   "outputs": [],
   "source": [
    "modelname = 'SC3FUEI3R'\n",
    "MyModel = ModelFit(modelname,basedata=bd,country='Australia',run_id=\"_test1\",data_src='jhu')\n",
    "params_init_min_max = sim_param_inits[modelname]       # sim_param_inits defined in model_fits_age.py\n",
    "params_init_min_max = default_fit_params()\n",
    "params_init_min_max_slider = params_init_min_max.copy()\n",
    "params_init_min_max_slider = MyModel.transfer_fit_to_params_init(params_init_min_max_slider)\n",
    "\n",
    "\n",
    "#sliderparams = MyModel.allsliderparams(params_init_min_max_slider)\n",
    "sliderparams = allsliderparams(modelname,params_init_min_max_slider)\n",
    "sliderparams.update({'param_class':fixed('ode')})"
   ]
  },
  {
   "cell_type": "code",
   "execution_count": 30,
   "metadata": {
    "scrolled": true
   },
   "outputs": [],
   "source": [
    "setsliderparams(params_init_min_max,sliderparams)"
   ]
  },
  {
   "cell_type": "code",
   "execution_count": 31,
   "metadata": {
    "scrolled": false
   },
   "outputs": [],
   "source": [
    "if MyModel.model._explicitOde is False: # only for all models without U in name and for all age models, defined by transitions not explicit ODE\n",
    "    MyModel.model.get_transition_graph() "
   ]
  },
  {
   "cell_type": "code",
   "execution_count": 32,
   "metadata": {
    "scrolled": false
   },
   "outputs": [
    {
     "data": {
      "text/plain": [
       "{'beta_1': 0.4,\n",
       " 'beta_2': 0.0,\n",
       " 'beta_3': 0.0,\n",
       " 'alpha': 0.2,\n",
       " 'gamma_1': 0.06999999999999999,\n",
       " 'gamma_2': 0.16666666666666669,\n",
       " 'gamma_3': 0.1,\n",
       " 'p_1': 0.030000000000000013,\n",
       " 'p_2': 0.08333333333333333,\n",
       " 'mu': 0.1,\n",
       " 'c_0': 0.1,\n",
       " 'c_1': 0.016666666666666666,\n",
       " 'c_2': 10.0,\n",
       " 'c_4': 0.016666666666666666,\n",
       " 'k_u': 0.03333333333333333,\n",
       " 'k_1': 0.016666666666666666,\n",
       " 'k_w': 0.016666666666666666,\n",
       " 'kappa': 0.5,\n",
       " 'N': 1}"
      ]
     },
     "execution_count": 32,
     "metadata": {},
     "output_type": "execute_result"
    }
   ],
   "source": [
    "MyModel.params"
   ]
  },
  {
   "cell_type": "code",
   "execution_count": 33,
   "metadata": {
    "scrolled": false
   },
   "outputs": [],
   "source": [
    "# params_init_min_max = sim_param_inits[modelname]       # sim_param_inits defined in model_fits_age.py\n",
    "params_init_min_max = default_fit_params()\n",
    "params_init_min_max_slider = params_init_min_max.copy()\n",
    "# params_init_min_max_slider = MyModel.transfer_fit_to_params_init(params_init_min_max_slider)\n",
    "sliderparams = allsliderparams(modelname,params_init_min_max_slider)\n",
    "if sliderparams:\n",
    "    sliders_widgets=interactive_output(MyModel.slidefitplot,sliderparams)\n",
    "    sliders=VBox([w1 for w1 in list(sliderparams.values()) if isinstance(w1,Widget)])\n",
    "    bsliders=VBox([f2s_button,s2f_button,sliders])\n",
    "    slbox=HBox([sliders_widgets,bsliders])"
   ]
  },
  {
   "cell_type": "markdown",
   "metadata": {},
   "source": [
    "# SliderFit for Dashboard"
   ]
  },
  {
   "cell_type": "code",
   "execution_count": 70,
   "metadata": {
    "scrolled": false
   },
   "outputs": [],
   "source": [
    "exec(open('ModelFit.py','r').read())"
   ]
  },
  {
   "cell_type": "code",
   "execution_count": 33,
   "metadata": {
    "scrolled": true
   },
   "outputs": [],
   "source": [
    "s2f_button = widgets.Button(description=\"Transfer to fit ICs\",layout=widgets.Layout(border='solid 1px'))\n",
    "def s2f_on_button_clicked(b):\n",
    "    global params_init_min_max, sliderparams\n",
    "    params_init_min_max = getsliderparams(sliderparams)\n",
    "\n",
    "s2f_button.on_click(s2f_on_button_clicked)"
   ]
  },
  {
   "cell_type": "code",
   "execution_count": 34,
   "metadata": {
    "scrolled": true
   },
   "outputs": [],
   "source": [
    "f2s_button = widgets.Button(description=\"Transfer ICs from fit\",layout=widgets.Layout(border='solid 1px'))\n",
    "def f2s_on_button_clicked(b):\n",
    "    global params_init_min_max, sliderparams\n",
    "    setsliderparams(params_init_min_max,sliderparams)\n",
    "\n",
    "f2s_button.on_click(f2s_on_button_clicked)"
   ]
  },
  {
   "cell_type": "code",
   "execution_count": 35,
   "metadata": {
    "scrolled": false
   },
   "outputs": [
    {
     "data": {
      "application/vnd.jupyter.widget-view+json": {
       "model_id": "a9830e3fe3694b71b9b3b8cfe8bcee85",
       "version_major": 2,
       "version_minor": 0
      },
      "text/plain": [
       "VBox(children=(Dropdown(description='model', index=16, layout=Layout(width='max-content'), options=('SIR', 'SC…"
      ]
     },
     "metadata": {},
     "output_type": "display_data"
    }
   ],
   "source": [
    "modelname = 'SC3FEI3R'\n",
    "country = 'United States'\n",
    "slfit = None\n",
    "#slfit = SliderFit(modelname=modelname,basedata=bd,country=country,run_id=\"_sltest\",data_src='jhu')\n",
    "#slfit.slbox\n",
    "from ipywidgets.widgets import Text\n",
    "runid_widget = Text(value=None,placeholder='Enter run id',description='Run_id:',disabled=False)\n",
    "#,'paramtype':paramtypes_widget,'fit_new_params':fit_new_params_widget\n",
    "#'agestructure':modelage_widget,'fittype':fittypes_widget,\n",
    "def slider_fit(modelname=modelname,basedata=bd,country=country,run_id=\"_sltest\",data_src='jhu'):\n",
    "    global slfit\n",
    "    slfit = SliderFit(modelname=modelname,basedata=basedata,country=country,run_id=run_id,data_src=data_src)\n",
    "    display(slfit.slbox)\n",
    "    \n",
    "slfit_widget = interactive_output(slider_fit,{'modelname':modelnames_widget,'basedata':fixed(bd),'country':countries_widget,'run_id':runid_widget,\n",
    "                                                  'data_src':datasrcs_widget});\n",
    "slall=VBox([modelnames_widget,countries_widget,datasrcs_widget,runid_widget,f2s_button,s2f_button,slfit_widget]);\n",
    "display(slall)"
   ]
  },
  {
   "cell_type": "markdown",
   "metadata": {
    "scrolled": true
   },
   "source": [
    "# SliderFit"
   ]
  },
  {
   "cell_type": "code",
   "execution_count": 233,
   "metadata": {
    "scrolled": false
   },
   "outputs": [],
   "source": [
    "exec(open('ModelFit.py','r').read())"
   ]
  },
  {
   "cell_type": "code",
   "execution_count": 13,
   "metadata": {
    "scrolled": false
   },
   "outputs": [
    {
     "data": {
      "application/vnd.jupyter.widget-view+json": {
       "model_id": "1b5df7f60f624211b9681d72bff97c5c",
       "version_major": 2,
       "version_minor": 0
      },
      "text/plain": [
       "HBox(children=(VBox(children=(Dropdown(description='fit meth', layout=Layout(width='max-content'), options=('l…"
      ]
     },
     "metadata": {},
     "output_type": "display_data"
    }
   ],
   "source": [
    "modelname = 'SC3FEI3R'\n",
    "country = 'United States'\n",
    "country = 'Germany'\n",
    "slfit = SliderFit(modelname=modelname,basedata=bd,country=country,run_id=\"_sltest\",data_src='jhu')\n",
    "slfit.slbox\n"
   ]
  },
  {
   "cell_type": "code",
   "execution_count": 191,
   "metadata": {
    "scrolled": false
   },
   "outputs": [
    {
     "data": {
      "text/plain": [
       "['figsize',\n",
       " 'param_class',\n",
       " 'beta_1',\n",
       " 'alpha',\n",
       " 'mu',\n",
       " 'c_0',\n",
       " 'c_1',\n",
       " 'c_2',\n",
       " 'c_4',\n",
       " 'logI_0']"
      ]
     },
     "execution_count": 191,
     "metadata": {},
     "output_type": "execute_result"
    }
   ],
   "source": [
    "foo = slfit.slidedict\n",
    "[x for x in foo]\n"
   ]
  },
  {
   "cell_type": "code",
   "execution_count": 195,
   "metadata": {
    "scrolled": false
   },
   "outputs": [
    {
     "data": {
      "application/vnd.jupyter.widget-view+json": {
       "model_id": "4cfc9edc51fd49eaaf06d385f40a1692",
       "version_major": 2,
       "version_minor": 0
      },
      "text/plain": [
       "FloatSlider(value=0.2, continuous_update=False, description='mu', layout=Layout(height='12px', width='400px'),…"
      ]
     },
     "metadata": {},
     "output_type": "display_data"
    }
   ],
   "source": [
    "foo['mu'].value = .2\n",
    "foo['mu']\n"
   ]
  },
  {
   "cell_type": "code",
   "execution_count": 19,
   "metadata": {
    "scrolled": false
   },
   "outputs": [
    {
     "data": {
      "image/png": "[encoded data removed]",
      "text/plain": [
       "<Figure size 432x288 with 1 Axes>"
      ]
     },
     "metadata": {
      "needs_background": "light"
     },
     "output_type": "display_data"
    }
   ],
   "source": [
    "plt.plot(slfit.logresid['deaths']);\n"
   ]
  },
  {
   "cell_type": "code",
   "execution_count": null,
   "metadata": {
    "scrolled": false
   },
   "outputs": [],
   "source": [
    "slfit.transfer_cur_to_params_init()"
   ]
  },
  {
   "cell_type": "code",
   "execution_count": null,
   "metadata": {
    "scrolled": false
   },
   "outputs": [],
   "source": [
    "slfit.params_init_min_max"
   ]
  },
  {
   "cell_type": "code",
   "execution_count": null,
   "metadata": {
    "scrolled": false
   },
   "outputs": [],
   "source": [
    "slfit.fit()"
   ]
  },
  {
   "cell_type": "code",
   "execution_count": 110,
   "metadata": {
    "scrolled": false
   },
   "outputs": [
    {
     "data": {
      "text/plain": [
       "<AxesSubplot:>"
      ]
     },
     "execution_count": 110,
     "metadata": {},
     "output_type": "execute_result"
    },
    {
     "data": {
      "image/png": "[encoded data removed]",
      "text/plain": [
       "<Figure size 576x360 with 2 Axes>"
      ]
     },
     "metadata": {
      "needs_background": "light"
     },
     "output_type": "display_data"
    }
   ],
   "source": [
    "slfit.solveplot(['deaths','confirmed','caution_fraction','economy'],\n",
    "                      datasets=['deaths_corrected_smoothed','confirmed_corrected_smoothed'],\n",
    "                      mag={'deaths':30.},newplot=True,figsize=(8,5))"
   ]
  },
  {
   "cell_type": "code",
   "execution_count": null,
   "metadata": {
    "scrolled": false
   },
   "outputs": [],
   "source": [
    "slfit.params"
   ]
  },
  {
   "cell_type": "code",
   "execution_count": null,
   "metadata": {
    "scrolled": false
   },
   "outputs": [],
   "source": []
  },
  {
   "cell_type": "code",
   "execution_count": 46,
   "metadata": {
    "scrolled": false
   },
   "outputs": [],
   "source": [
    "modelname = 'SC3FUEI3R'\n",
    "MyModel =  SliderFit(modelname=modelname,basedata=bd,country='Australia',run_id=\"_test1\",data_src='jhu')\n",
    "def fit_trace(modelname='SC3FUEI3R',agestructure=1,fittype='leastsq',datasrc='jhu',country='Australia',paramtype = 'base',fit_new_params = True):\n",
    "    global bd,MyModel,params_init_min_max,params_init_min_max_slider,fit_new_params_widget\n",
    "    global sliders_widgets,sliderparams,sliders,bsliders,slbox,f2s_button,s2f_button\n",
    "    \n",
    "    if int(agestructure) > 1 and modelname in agemodels :\n",
    "        modelname_a = modelname+'_A'+str(agestructure)\n",
    "    elif int(agestructure) > 1:  # age structure not yet implemented for this model type\n",
    "        modelname_a = modelname\n",
    "        agestructure=1\n",
    "        modelage_widget.value = agestructure\n",
    "    else:\n",
    "        modelname_a = modelname\n",
    "        \n",
    "\n",
    "    # set up the fitting object\n",
    "    if MyModel == None or MyModel.modelname!=modelname:\n",
    "        MyModel = SliderFit(modelname=modelname_a,basedata=bd,country=country,run_id=\"_test1\",data_src=datasrc)\n",
    "        # params_init_min_max = sim_param_inits[modelname]       # sim_param_inits defined in model_fits_age.py\n",
    "        params_init_min_max = default_fit_params()\n",
    "        params_init_min_max_slider = params_init_min_max.copy()\n",
    "        # params_init_min_max_slider = MyModel.transfer_fit_to_params_init(params_init_min_max_slider)\n",
    "        sliderparams = allsliderparams(modelname,params_init_min_max_slider)\n",
    "        if sliderparams:\n",
    "            sliders_widgets=interactive_output(MyModel.slidefitplot,sliderparams)\n",
    "            sliders=VBox([w1 for w1 in list(sliderparams.values()) if isinstance(w1,Widget)])\n",
    "            bsliders=VBox([f2s_button,s2f_button,sliders])\n",
    "            slbox=HBox([sliders_widgets,bsliders])     \n",
    "    elif MyModel.country != country or MyModel.data_src != datasrc:\n",
    "        MyModel.data_src = datasrc\n",
    "        MyModel.setup_data(country)\n",
    "    if fit_new_params_widget.value:\n",
    "        if paramtype == 'ode':\n",
    "            if fit_new_params:\n",
    "                params_init_min_max = sim_param_inits[modelname]       # sim_param_inits defined in model_fits_age.py\n",
    "            MyModel.model.parameters = {p:params_init_min_max[p][0] for p in params_init_min_max if p != 'logI_0'}\n",
    "            MyModel.params.update({p:params_init_min_max[p][0] for p in params_init_min_max if p != 'logI_0'})\n",
    "        elif paramtype == 'base':\n",
    "            if fit_new_params:\n",
    "                params_init_min_max = default_fit_params()\n",
    "            params_in = base2params(MyModel.sbparams,MyModel.cbparams,MyModel.fbparams,modelname_a)\n",
    "            # need to check transfer of parameteres and compatibility\n",
    "        if 'logI_0' in params_init_min_max:\n",
    "            MyModel.set_I0(params_init_min_max['logI_0'][0])\n",
    "\n",
    "\n",
    "#country_fit_trace = interactive_output(fit_trace,{'modelname':modelnames_widget,'fittype':fittypes_widget,'datasrc':datasrcs_widget,'dataname':datanames_widget,'country':countries_widget});\n",
    "country_fit_trace = interactive_output(fit_trace,{'modelname':modelnames_widget,'agestructure':modelage_widget,'fittype':fittypes_widget,\n",
    "                                                  'datasrc':datasrcs_widget,'country':countries_widget,'paramtype':paramtypes_widget,'fit_new_params':fit_new_params_widget});"
   ]
  },
  {
   "cell_type": "code",
   "execution_count": null,
   "metadata": {
    "scrolled": false
   },
   "outputs": [],
   "source": []
  }
 ],
 "metadata": {
  "colab": {
   "collapsed_sections": [
    "UUG85HqL2QEt",
    "ZuuEGEUpiHEX"
   ],
   "name": "part_three.ipynb",
   "provenance": []
  },
  "kernelspec": {
   "display_name": "Python 3",
   "language": "python",
   "name": "python3"
  },
  "language_info": {
   "codemirror_mode": {
    "name": "ipython",
    "version": 3
   },
   "file_extension": ".py",
   "mimetype": "text/x-python",
   "name": "python",
   "nbconvert_exporter": "python",
   "pygments_lexer": "ipython3",
   "version": "3.7.4"
  },
  "toc": {
   "base_numbering": 1,
   "nav_menu": {
    "height": "510px",
    "width": "221px"
   },
   "number_sections": true,
   "sideBar": true,
   "skip_h1_title": false,
   "title_cell": "Table of Contents",
   "title_sidebar": "Contents",
   "toc_cell": false,
   "toc_position": {
    "height": "1102.6666259765625px",
    "left": "0px",
    "top": "121px",
    "width": "221.0625px"
   },
   "toc_section_display": true,
   "toc_window_display": false
  }
 },
 "nbformat": 4,
 "nbformat_minor": 1
}
