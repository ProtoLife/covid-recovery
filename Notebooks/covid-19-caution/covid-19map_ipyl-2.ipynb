{
 "cells": [
  {
   "cell_type": "markdown",
   "metadata": {},
   "source": [
    "Covid_19 2020 Consensus Cluster Map"
   ]
  },
  {
   "cell_type": "code",
   "execution_count": 1,
   "metadata": {},
   "outputs": [],
   "source": [
    "# https://ipyleaflet.readthedocs.io/en/latest/api_reference/choropleth.html\n",
    "# https://github.com/jupyter-widgets/ipyleaflet/issues/454\n",
    "# https://github.com/jupyter-widgets/ipyleaflet/blob/master/ipyleaflet/leaflet.py\n",
    "# https://carpentries-incubator.github.io/jupyter_maps/03-vector/index.html\n",
    "# https://www.youtube.com/watch?v=wjzAy_yLrdA"
   ]
  },
  {
   "cell_type": "code",
   "execution_count": 2,
   "metadata": {},
   "outputs": [],
   "source": [
    "import ipyleaflet\n",
    "import json\n",
    "import pandas as pd\n",
    "import geopandas as gpd\n",
    "import pickle as pk\n",
    "import numpy as np\n",
    "import os\n",
    "import requests\n",
    "from ipywidgets import link, FloatSlider, HTML\n",
    "from branca.colormap import linear\n",
    "from matplotlib import colors as mpcolors"
   ]
  },
  {
   "cell_type": "code",
   "execution_count": 3,
   "metadata": {},
   "outputs": [],
   "source": [
    "def load_data(url, filename, file_type):\n",
    "    r = requests.get(url)\n",
    "    with open(filename, 'w') as f:\n",
    "        f.write(r.content.decode(\"utf-8\"))\n",
    "    with open(filename, 'r') as f:\n",
    "        return file_type(f)"
   ]
  },
  {
   "cell_type": "code",
   "execution_count": 4,
   "metadata": {},
   "outputs": [],
   "source": [
    "#Setting up the world countries data URL\n",
    "url = 'https://raw.githubusercontent.com/python-visualization/folium/master/examples/data'\n",
    "country_shapes = f'{url}/world-countries.json'\n",
    "# Loading a json data structure with geo data using json.load: geo_json_data\n",
    "geo_json_data = load_data(country_shapes,'json',json.load);"
   ]
  },
  {
   "cell_type": "code",
   "execution_count": 5,
   "metadata": {},
   "outputs": [],
   "source": [
    "fname = country_shapes\n",
    "geog = gpd.read_file(fname)\n",
    "geog.head();"
   ]
  },
  {
   "cell_type": "code",
   "execution_count": 6,
   "metadata": {},
   "outputs": [],
   "source": [
    "with open('clusalign_hsv.pk','rb') as fp:\n",
    "    clusalign_hsv = pk.load(fp)   \n",
    "clusalign_hsv;"
   ]
  },
  {
   "cell_type": "code",
   "execution_count": 7,
   "metadata": {},
   "outputs": [],
   "source": [
    "df0list = [[term]+list(clusalign_hsv[term]) for term in clusalign_hsv]\n",
    "df0 = pd.DataFrame(df0list, columns = ['name','cluster','hue','sat','val'])"
   ]
  },
  {
   "cell_type": "code",
   "execution_count": 20,
   "metadata": {},
   "outputs": [],
   "source": [
    "dflist = [[term]+[list(clusalign_hsv[term])[0]]+[list(clusalign_hsv[term])[1:]] for term in clusalign_hsv]\n",
    "df = pd.DataFrame(dflist, columns = ['name','cluster','hsv'])\n",
    "df;"
   ]
  },
  {
   "cell_type": "code",
   "execution_count": 9,
   "metadata": {},
   "outputs": [],
   "source": [
    "df.replace('United States', 'United States of America', inplace=True)\n",
    "df.replace('USA', \"United States of America\", inplace = True)\n",
    "df.replace('Tanzania', \"United Republic of Tanzania\", inplace = True)\n",
    "df.replace('Democratic Republic of Congo', \"Democratic Republic of the Congo\", inplace = True)\n",
    "df.replace('Congo', \"Republic of the Congo\", inplace = True)\n",
    "df.replace('Lao', \"Laos\", inplace = True)\n",
    "df.replace('Syrian Arab Republic', \"Syria\", inplace = True)\n",
    "df.replace('Serbia', \"Republic of Serbia\", inplace = True)\n",
    "df.replace('Czechia', \"Czech Republic\", inplace = True)\n",
    "df.replace('UAE', \"United Arab Emirates\", inplace = True)"
   ]
  },
  {
   "cell_type": "code",
   "execution_count": 10,
   "metadata": {},
   "outputs": [],
   "source": [
    "geogclus=geog.merge(df,how='left',on='name')"
   ]
  },
  {
   "cell_type": "code",
   "execution_count": 22,
   "metadata": {},
   "outputs": [],
   "source": [
    "# now add the new properties to geo_json_data\n",
    "# https://stackoverflow.com/questions/944700/how-can-i-check-for-nan-values\n",
    "import math\n",
    "x = float('nan')\n",
    "# print(math.isnan(x))\n",
    "clusters =  dict(zip(geogclus['id'].tolist(), geogclus['cluster'].tolist()))\n",
    "clusters = {cc: -1 if math.isnan(clusters[cc]) else clusters[cc] for cc in clusters.keys()}\n",
    "clusterbn =  dict(zip(geogclus['name'].tolist(), geogclus['cluster'].tolist()))\n",
    "clusterbn = {cc: -2 if math.isnan(clusterbn[cc]) else clusterbn[cc] for cc in clusterbn.keys()}\n",
    "hsvbn =  dict(zip(geogclus['name'].tolist(), geogclus['hsv'].tolist()))\n",
    "hsvbn = {cc: [0.,0.,1.] if not isinstance(hsvbn[cc],list) else hsvbn[cc]  for cc in hsvbn.keys()}"
   ]
  },
  {
   "cell_type": "code",
   "execution_count": 12,
   "metadata": {},
   "outputs": [],
   "source": [
    "# now add cluster and hsv properties to geo_json_data to allow flexible use\n",
    "for feature in geo_json_data['features']:\n",
    "    # print(feature)\n",
    "    properties = feature['properties']\n",
    "    name = properties['name']\n",
    "    properties['cluster']= clusterbn[name]\n",
    "    properties['hsv']= hsvbn[name]\n",
    "    #print(name,properties['hsv'])"
   ]
  },
  {
   "cell_type": "code",
   "execution_count": 13,
   "metadata": {},
   "outputs": [],
   "source": [
    "def rgb_to_str(rgb):\n",
    "    return '#%02x%02x%02x' % (int(rgb[0]*255),int(rgb[1]*255),int(rgb[2]*255))\n",
    "\n",
    "def colorit(feature,colormap,x):\n",
    "    h = feature['properties']['hsv'][0]\n",
    "    s = feature['properties']['hsv'][1]\n",
    "    v = feature['properties']['hsv'][2]\n",
    "    rgb = list(mpcolors.hsv_to_rgb([h,s,v]))\n",
    "    return rgb_to_str(rgb)\n",
    "\n",
    "style_function = lambda feature,colormap,x: {\"weight\":0.5, \n",
    "                            'color':'black',\n",
    "                            #'fillColor':colormap(x['properties']['hue']), \n",
    "                            'fillColor':colorit(feature,colormap,x), \n",
    "                            'fillOpacity':1.0}"
   ]
  },
  {
   "cell_type": "code",
   "execution_count": 14,
   "metadata": {},
   "outputs": [],
   "source": [
    "chosen_country = 'Australia'\n",
    "def update_html(feature,  **kwargs):\n",
    "    global chosen_country\n",
    "    chosen_country = feature['properties']['name']\n",
    "    html.value = '''\n",
    "        <h3><b>{}</b></h3>\n",
    "        <h4>Cluster: {:2d} </h4> \n",
    "        <h4>HSV: {}</h4>\n",
    "    '''.format(feature['properties']['name'],\n",
    "               feature['properties']['cluster'],\n",
    "               \"%.3f %.3f %.3f\" % tuple(feature['properties']['hsv']))"
   ]
  },
  {
   "cell_type": "code",
   "execution_count": 15,
   "metadata": {
    "scrolled": true
   },
   "outputs": [
    {
     "data": {
      "application/vnd.jupyter.widget-view+json": {
       "model_id": "5d1b5897aecc4b5ab761cdac15cf44aa",
       "version_major": 2,
       "version_minor": 0
      },
      "text/plain": [
       "Map(center=[20, 10], controls=(ZoomControl(options=['position', 'zoom_in_text', 'zoom_in_title', 'zoom_out_tex…"
      ]
     },
     "metadata": {},
     "output_type": "display_data"
    }
   ],
   "source": [
    "layer = ipyleaflet.Choropleth(\n",
    "    geo_data=geo_json_data,\n",
    "    choro_data=clusters,\n",
    "    colormap=linear.YlOrRd_04,\n",
    "    border_color='black',\n",
    "    style={'fillOpacity': 0.8, 'dashArray': '5, 5'},\n",
    "    style_callback = style_function)\n",
    "\n",
    "html = HTML('''Hover Over Countries''')\n",
    "html.layout.margin = '0px 20px 20px 20px'\n",
    "control = ipyleaflet.WidgetControl(widget=html, position='topright')\n",
    "\n",
    "m = ipyleaflet.Map(center = (20,10), zoom = 2)\n",
    "m.add_layer(layer)\n",
    "\n",
    "m.add_control(control)\n",
    "layer.on_hover(update_html)\n",
    "m.add_control(ipyleaflet.FullScreenControl())\n",
    "\n",
    "m"
   ]
  },
  {
   "cell_type": "code",
   "execution_count": 19,
   "metadata": {},
   "outputs": [
    {
     "data": {
      "text/plain": [
       "'Canada'"
      ]
     },
     "execution_count": 19,
     "metadata": {},
     "output_type": "execute_result"
    }
   ],
   "source": [
    "# the hover selector changes the global variable chosen_country\n",
    "chosen_country"
   ]
  },
  {
   "cell_type": "code",
   "execution_count": null,
   "metadata": {},
   "outputs": [],
   "source": []
  }
 ],
 "metadata": {
  "kernelspec": {
   "display_name": "Python 3",
   "language": "python",
   "name": "python3"
  },
  "language_info": {
   "codemirror_mode": {
    "name": "ipython",
    "version": 3
   },
   "file_extension": ".py",
   "mimetype": "text/x-python",
   "name": "python",
   "nbconvert_exporter": "python",
   "pygments_lexer": "ipython3",
   "version": "3.7.4"
  },
  "toc": {
   "base_numbering": 1,
   "nav_menu": {},
   "number_sections": true,
   "sideBar": true,
   "skip_h1_title": false,
   "title_cell": "Table of Contents",
   "title_sidebar": "Contents",
   "toc_cell": false,
   "toc_position": {},
   "toc_section_display": true,
   "toc_window_display": true
  }
 },
 "nbformat": 4,
 "nbformat_minor": 4
}
