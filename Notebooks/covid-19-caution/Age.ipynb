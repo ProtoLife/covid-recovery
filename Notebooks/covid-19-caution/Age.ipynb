{
 "cells": [
  {
   "cell_type": "code",
   "execution_count": 25,
   "metadata": {},
   "outputs": [],
   "source": [
    "import pandas as pd\n",
    "import numpy as np\n",
    "from matplotlib import pyplot as plt"
   ]
  },
  {
   "cell_type": "code",
   "execution_count": 6,
   "metadata": {},
   "outputs": [
    {
     "name": "stdout",
     "output_type": "stream",
     "text": [
      "\u001b[31mMUestimates_all_locations_1.xlsx\u001b[m\u001b[m\r\n",
      "\u001b[31mMUestimates_all_locations_2.xlsx\u001b[m\u001b[m\r\n",
      "\u001b[31mMUestimates_home_1.xlsx\u001b[m\u001b[m\r\n",
      "\u001b[31mMUestimates_home_2.xlsx\u001b[m\u001b[m\r\n",
      "\u001b[31mMUestimates_other_locations_1.xlsx\u001b[m\u001b[m\r\n",
      "\u001b[31mMUestimates_other_locations_2.xlsx\u001b[m\u001b[m\r\n",
      "\u001b[31mMUestimates_school_1.xlsx\u001b[m\u001b[m\r\n",
      "\u001b[31mMUestimates_school_2.xlsx\u001b[m\u001b[m\r\n",
      "\u001b[31mMUestimates_work_1.xlsx\u001b[m\u001b[m\r\n",
      "\u001b[31mMUestimates_work_2.xlsx\u001b[m\u001b[m\r\n",
      "WPP2019_POP_F07_1_POPULATION_BY_AGE_BOTH_SEXES.xlsx\r\n",
      "WPP2019_POP_F08_1_TOTAL_POPULATION_BY_BROAD_AGE_GROUP_BOTH_SEXES.xlsx\r\n",
      "~$MUestimates_all_locations_1.xlsx\r\n",
      "~$MUestimates_all_locations_2.xlsx\r\n",
      "~$WPP2019_POP_F07_1_POPULATION_BY_AGE_BOTH_SEXES.xlsx\r\n"
     ]
    }
   ],
   "source": [
    "!ls  ../../Reading/age\\ structure/contact_matrices_152_countries"
   ]
  },
  {
   "cell_type": "code",
   "execution_count": 30,
   "metadata": {},
   "outputs": [],
   "source": [
    "agefile1 = '../../Reading/age structure/contact_matrices_152_countries/MUestimates_all_locations_1.xlsx'"
   ]
  },
  {
   "cell_type": "code",
   "execution_count": null,
   "metadata": {},
   "outputs": [],
   "source": []
  },
  {
   "cell_type": "code",
   "execution_count": 31,
   "metadata": {},
   "outputs": [],
   "source": [
    "\n",
    "with open(agefile1,'rb') as fp:\n",
    "    dat1 = pd.read_excel(io=fp,sheet_name=None)"
   ]
  },
  {
   "cell_type": "code",
   "execution_count": 32,
   "metadata": {},
   "outputs": [
    {
     "data": {
      "text/plain": [
       "90"
      ]
     },
     "execution_count": 32,
     "metadata": {},
     "output_type": "execute_result"
    }
   ],
   "source": [
    "len(dat1)"
   ]
  },
  {
   "cell_type": "code",
   "execution_count": 22,
   "metadata": {},
   "outputs": [
    {
     "name": "stdout",
     "output_type": "stream",
     "text": [
      "['Albania', 'Algeria', 'Andorra', 'Antigua and Barbuda', 'Argentina', 'Armenia', 'Australia', 'Austria', 'Azerbaijan', 'Bahamas', 'Bahrain', 'Bangladesh', 'Belarus', 'Belgium', 'Belize', 'Benin', 'Bhutan', 'Bolivia (Plurinational State of', 'Bosnia and Herzegovina', 'Botswana', 'Brazil', 'Brunei Darussalam', 'Bulgaria', 'Burkina Faso', 'Cabo Verde', 'Cambodia', 'Cameroon', 'Canada', 'Chile', 'China', 'Colombia', 'Congo', 'Costa Rica', 'Croatia', 'Cyprus', 'Czech Republic', 'Denmark', 'Dominican Republic', 'Ecuador', 'Egypt', 'El Salvador', 'Estonia', 'Ethiopia', 'Fiji', 'Finland', 'France', 'Georgia', 'Germany', 'Ghana', 'Greece', 'Guatemala', 'Guinea', 'Guyana', 'Haiti', 'Honduras', 'Hong Kong SAR, China', 'Hungary', 'Iceland', 'India', 'Indonesia', 'Iran (Islamic Republic of)', 'Iraq', 'Ireland', 'Israel', 'Italy', 'Jamaica', 'Japan', 'Jordan', 'Kazakhstan', 'Kenya', 'Kiribati', 'Kuwait', 'Kyrgyzstan', \"Lao People's Democratic Republi\", 'Latvia', 'Lebanon', 'Lesotho', 'Liberia', 'Lithuania', 'Luxembourg', 'Malaysia', 'Maldives', 'Malta', 'Mauritania', 'Mauritius', 'Mexico', 'Monaco', 'Mongolia', 'Montenegro', 'Morocco']\n"
     ]
    }
   ],
   "source": [
    "print([x for x in dat1])"
   ]
  },
  {
   "cell_type": "code",
   "execution_count": 21,
   "metadata": {},
   "outputs": [
    {
     "data": {
      "text/html": [
       "<div>\n",
       "<style scoped>\n",
       "    .dataframe tbody tr th:only-of-type {\n",
       "        vertical-align: middle;\n",
       "    }\n",
       "\n",
       "    .dataframe tbody tr th {\n",
       "        vertical-align: top;\n",
       "    }\n",
       "\n",
       "    .dataframe thead th {\n",
       "        text-align: right;\n",
       "    }\n",
       "</style>\n",
       "<table border=\"1\" class=\"dataframe\">\n",
       "  <thead>\n",
       "    <tr style=\"text-align: right;\">\n",
       "      <th></th>\n",
       "      <th>X1</th>\n",
       "      <th>X2</th>\n",
       "      <th>X3</th>\n",
       "      <th>X4</th>\n",
       "      <th>X5</th>\n",
       "      <th>X6</th>\n",
       "      <th>X7</th>\n",
       "      <th>X8</th>\n",
       "      <th>X9</th>\n",
       "      <th>X10</th>\n",
       "      <th>X11</th>\n",
       "      <th>X12</th>\n",
       "      <th>X13</th>\n",
       "      <th>X14</th>\n",
       "      <th>X15</th>\n",
       "      <th>X16</th>\n",
       "    </tr>\n",
       "  </thead>\n",
       "  <tbody>\n",
       "    <tr>\n",
       "      <th>0</th>\n",
       "      <td>2.051664</td>\n",
       "      <td>0.901357</td>\n",
       "      <td>0.473320</td>\n",
       "      <td>0.320550</td>\n",
       "      <td>0.425390</td>\n",
       "      <td>0.687459</td>\n",
       "      <td>0.901785</td>\n",
       "      <td>0.802459</td>\n",
       "      <td>0.465565</td>\n",
       "      <td>0.275193</td>\n",
       "      <td>0.309363</td>\n",
       "      <td>0.250857</td>\n",
       "      <td>0.159005</td>\n",
       "      <td>0.119148</td>\n",
       "      <td>0.078022</td>\n",
       "      <td>0.043325</td>\n",
       "    </tr>\n",
       "    <tr>\n",
       "      <th>1</th>\n",
       "      <td>0.855141</td>\n",
       "      <td>4.540186</td>\n",
       "      <td>1.265412</td>\n",
       "      <td>0.389904</td>\n",
       "      <td>0.227181</td>\n",
       "      <td>0.499325</td>\n",
       "      <td>0.807145</td>\n",
       "      <td>0.922449</td>\n",
       "      <td>0.814880</td>\n",
       "      <td>0.358563</td>\n",
       "      <td>0.240133</td>\n",
       "      <td>0.212232</td>\n",
       "      <td>0.164684</td>\n",
       "      <td>0.115508</td>\n",
       "      <td>0.059623</td>\n",
       "      <td>0.044014</td>\n",
       "    </tr>\n",
       "    <tr>\n",
       "      <th>2</th>\n",
       "      <td>0.361364</td>\n",
       "      <td>2.026261</td>\n",
       "      <td>10.048570</td>\n",
       "      <td>1.338142</td>\n",
       "      <td>0.497388</td>\n",
       "      <td>0.380946</td>\n",
       "      <td>0.559516</td>\n",
       "      <td>0.923764</td>\n",
       "      <td>1.204172</td>\n",
       "      <td>0.710505</td>\n",
       "      <td>0.390607</td>\n",
       "      <td>0.197814</td>\n",
       "      <td>0.118326</td>\n",
       "      <td>0.116559</td>\n",
       "      <td>0.094754</td>\n",
       "      <td>0.071161</td>\n",
       "    </tr>\n",
       "    <tr>\n",
       "      <th>3</th>\n",
       "      <td>0.216499</td>\n",
       "      <td>0.550970</td>\n",
       "      <td>4.125416</td>\n",
       "      <td>15.007152</td>\n",
       "      <td>2.022311</td>\n",
       "      <td>0.851834</td>\n",
       "      <td>0.614685</td>\n",
       "      <td>0.889912</td>\n",
       "      <td>1.214767</td>\n",
       "      <td>1.259738</td>\n",
       "      <td>0.669806</td>\n",
       "      <td>0.248984</td>\n",
       "      <td>0.110437</td>\n",
       "      <td>0.081201</td>\n",
       "      <td>0.050955</td>\n",
       "      <td>0.035323</td>\n",
       "    </tr>\n",
       "    <tr>\n",
       "      <th>4</th>\n",
       "      <td>0.314469</td>\n",
       "      <td>0.269606</td>\n",
       "      <td>0.441619</td>\n",
       "      <td>3.547214</td>\n",
       "      <td>5.101035</td>\n",
       "      <td>1.903538</td>\n",
       "      <td>1.131624</td>\n",
       "      <td>0.994211</td>\n",
       "      <td>0.928219</td>\n",
       "      <td>1.198797</td>\n",
       "      <td>0.833206</td>\n",
       "      <td>0.410894</td>\n",
       "      <td>0.114922</td>\n",
       "      <td>0.059941</td>\n",
       "      <td>0.071169</td>\n",
       "      <td>0.053498</td>\n",
       "    </tr>\n",
       "    <tr>\n",
       "      <th>5</th>\n",
       "      <td>0.567068</td>\n",
       "      <td>0.308190</td>\n",
       "      <td>0.209199</td>\n",
       "      <td>0.920950</td>\n",
       "      <td>2.134411</td>\n",
       "      <td>3.123757</td>\n",
       "      <td>1.579245</td>\n",
       "      <td>1.227748</td>\n",
       "      <td>1.079711</td>\n",
       "      <td>0.900323</td>\n",
       "      <td>0.854991</td>\n",
       "      <td>0.428716</td>\n",
       "      <td>0.142721</td>\n",
       "      <td>0.059136</td>\n",
       "      <td>0.032113</td>\n",
       "      <td>0.024207</td>\n",
       "    </tr>\n",
       "    <tr>\n",
       "      <th>6</th>\n",
       "      <td>0.634750</td>\n",
       "      <td>0.800303</td>\n",
       "      <td>0.656980</td>\n",
       "      <td>0.499657</td>\n",
       "      <td>0.975174</td>\n",
       "      <td>1.528833</td>\n",
       "      <td>2.341737</td>\n",
       "      <td>1.553123</td>\n",
       "      <td>1.227468</td>\n",
       "      <td>0.939288</td>\n",
       "      <td>0.715800</td>\n",
       "      <td>0.451777</td>\n",
       "      <td>0.188360</td>\n",
       "      <td>0.082684</td>\n",
       "      <td>0.045721</td>\n",
       "      <td>0.037793</td>\n",
       "    </tr>\n",
       "    <tr>\n",
       "      <th>7</th>\n",
       "      <td>0.611356</td>\n",
       "      <td>0.942960</td>\n",
       "      <td>0.836184</td>\n",
       "      <td>0.660850</td>\n",
       "      <td>0.689953</td>\n",
       "      <td>1.185320</td>\n",
       "      <td>1.443751</td>\n",
       "      <td>2.406413</td>\n",
       "      <td>1.729358</td>\n",
       "      <td>1.093806</td>\n",
       "      <td>0.758382</td>\n",
       "      <td>0.374823</td>\n",
       "      <td>0.210375</td>\n",
       "      <td>0.136748</td>\n",
       "      <td>0.082721</td>\n",
       "      <td>0.029925</td>\n",
       "    </tr>\n",
       "    <tr>\n",
       "      <th>8</th>\n",
       "      <td>0.378239</td>\n",
       "      <td>0.763936</td>\n",
       "      <td>1.072365</td>\n",
       "      <td>1.235099</td>\n",
       "      <td>0.886120</td>\n",
       "      <td>1.087520</td>\n",
       "      <td>1.363978</td>\n",
       "      <td>1.582841</td>\n",
       "      <td>2.426509</td>\n",
       "      <td>1.430467</td>\n",
       "      <td>0.960670</td>\n",
       "      <td>0.316002</td>\n",
       "      <td>0.173281</td>\n",
       "      <td>0.115496</td>\n",
       "      <td>0.083370</td>\n",
       "      <td>0.036377</td>\n",
       "    </tr>\n",
       "    <tr>\n",
       "      <th>9</th>\n",
       "      <td>0.354447</td>\n",
       "      <td>0.581206</td>\n",
       "      <td>0.791020</td>\n",
       "      <td>1.744136</td>\n",
       "      <td>0.892392</td>\n",
       "      <td>0.911700</td>\n",
       "      <td>1.061125</td>\n",
       "      <td>1.227782</td>\n",
       "      <td>1.367328</td>\n",
       "      <td>1.805935</td>\n",
       "      <td>0.984685</td>\n",
       "      <td>0.392190</td>\n",
       "      <td>0.141773</td>\n",
       "      <td>0.083932</td>\n",
       "      <td>0.080840</td>\n",
       "      <td>0.072867</td>\n",
       "    </tr>\n",
       "    <tr>\n",
       "      <th>10</th>\n",
       "      <td>0.345569</td>\n",
       "      <td>0.690501</td>\n",
       "      <td>1.131426</td>\n",
       "      <td>1.582819</td>\n",
       "      <td>1.116011</td>\n",
       "      <td>1.246745</td>\n",
       "      <td>1.068160</td>\n",
       "      <td>1.030181</td>\n",
       "      <td>1.407963</td>\n",
       "      <td>1.548495</td>\n",
       "      <td>1.643767</td>\n",
       "      <td>0.722571</td>\n",
       "      <td>0.248998</td>\n",
       "      <td>0.117926</td>\n",
       "      <td>0.090845</td>\n",
       "      <td>0.082764</td>\n",
       "    </tr>\n",
       "    <tr>\n",
       "      <th>11</th>\n",
       "      <td>0.626094</td>\n",
       "      <td>0.808882</td>\n",
       "      <td>0.751982</td>\n",
       "      <td>1.004391</td>\n",
       "      <td>0.758146</td>\n",
       "      <td>1.118126</td>\n",
       "      <td>1.098390</td>\n",
       "      <td>0.812037</td>\n",
       "      <td>0.903801</td>\n",
       "      <td>0.787038</td>\n",
       "      <td>0.996387</td>\n",
       "      <td>1.201167</td>\n",
       "      <td>0.432621</td>\n",
       "      <td>0.202674</td>\n",
       "      <td>0.104866</td>\n",
       "      <td>0.073891</td>\n",
       "    </tr>\n",
       "    <tr>\n",
       "      <th>12</th>\n",
       "      <td>0.549365</td>\n",
       "      <td>0.518778</td>\n",
       "      <td>0.373090</td>\n",
       "      <td>0.545080</td>\n",
       "      <td>0.435812</td>\n",
       "      <td>0.584320</td>\n",
       "      <td>0.688819</td>\n",
       "      <td>0.687009</td>\n",
       "      <td>0.514567</td>\n",
       "      <td>0.416994</td>\n",
       "      <td>0.437250</td>\n",
       "      <td>0.562242</td>\n",
       "      <td>0.789475</td>\n",
       "      <td>0.333674</td>\n",
       "      <td>0.188464</td>\n",
       "      <td>0.070334</td>\n",
       "    </tr>\n",
       "    <tr>\n",
       "      <th>13</th>\n",
       "      <td>0.358572</td>\n",
       "      <td>0.548075</td>\n",
       "      <td>0.465938</td>\n",
       "      <td>0.272156</td>\n",
       "      <td>0.327163</td>\n",
       "      <td>0.405548</td>\n",
       "      <td>0.593020</td>\n",
       "      <td>0.639266</td>\n",
       "      <td>0.566852</td>\n",
       "      <td>0.319563</td>\n",
       "      <td>0.350370</td>\n",
       "      <td>0.423375</td>\n",
       "      <td>0.426132</td>\n",
       "      <td>0.729523</td>\n",
       "      <td>0.225210</td>\n",
       "      <td>0.090759</td>\n",
       "    </tr>\n",
       "    <tr>\n",
       "      <th>14</th>\n",
       "      <td>0.196718</td>\n",
       "      <td>0.553839</td>\n",
       "      <td>0.537091</td>\n",
       "      <td>0.529830</td>\n",
       "      <td>0.224936</td>\n",
       "      <td>0.352777</td>\n",
       "      <td>0.327458</td>\n",
       "      <td>0.609714</td>\n",
       "      <td>0.671687</td>\n",
       "      <td>0.526753</td>\n",
       "      <td>0.411074</td>\n",
       "      <td>0.332137</td>\n",
       "      <td>0.506812</td>\n",
       "      <td>0.503985</td>\n",
       "      <td>0.732634</td>\n",
       "      <td>0.224775</td>\n",
       "    </tr>\n",
       "    <tr>\n",
       "      <th>15</th>\n",
       "      <td>0.315877</td>\n",
       "      <td>0.406430</td>\n",
       "      <td>0.607734</td>\n",
       "      <td>0.510186</td>\n",
       "      <td>0.187552</td>\n",
       "      <td>0.195292</td>\n",
       "      <td>0.276750</td>\n",
       "      <td>0.417472</td>\n",
       "      <td>0.453233</td>\n",
       "      <td>0.495429</td>\n",
       "      <td>0.489449</td>\n",
       "      <td>0.279022</td>\n",
       "      <td>0.185327</td>\n",
       "      <td>0.268169</td>\n",
       "      <td>0.229801</td>\n",
       "      <td>0.330711</td>\n",
       "    </tr>\n",
       "  </tbody>\n",
       "</table>\n",
       "</div>"
      ],
      "text/plain": [
       "          X1        X2         X3         X4        X5        X6        X7  \\\n",
       "0   2.051664  0.901357   0.473320   0.320550  0.425390  0.687459  0.901785   \n",
       "1   0.855141  4.540186   1.265412   0.389904  0.227181  0.499325  0.807145   \n",
       "2   0.361364  2.026261  10.048570   1.338142  0.497388  0.380946  0.559516   \n",
       "3   0.216499  0.550970   4.125416  15.007152  2.022311  0.851834  0.614685   \n",
       "4   0.314469  0.269606   0.441619   3.547214  5.101035  1.903538  1.131624   \n",
       "5   0.567068  0.308190   0.209199   0.920950  2.134411  3.123757  1.579245   \n",
       "6   0.634750  0.800303   0.656980   0.499657  0.975174  1.528833  2.341737   \n",
       "7   0.611356  0.942960   0.836184   0.660850  0.689953  1.185320  1.443751   \n",
       "8   0.378239  0.763936   1.072365   1.235099  0.886120  1.087520  1.363978   \n",
       "9   0.354447  0.581206   0.791020   1.744136  0.892392  0.911700  1.061125   \n",
       "10  0.345569  0.690501   1.131426   1.582819  1.116011  1.246745  1.068160   \n",
       "11  0.626094  0.808882   0.751982   1.004391  0.758146  1.118126  1.098390   \n",
       "12  0.549365  0.518778   0.373090   0.545080  0.435812  0.584320  0.688819   \n",
       "13  0.358572  0.548075   0.465938   0.272156  0.327163  0.405548  0.593020   \n",
       "14  0.196718  0.553839   0.537091   0.529830  0.224936  0.352777  0.327458   \n",
       "15  0.315877  0.406430   0.607734   0.510186  0.187552  0.195292  0.276750   \n",
       "\n",
       "          X8        X9       X10       X11       X12       X13       X14  \\\n",
       "0   0.802459  0.465565  0.275193  0.309363  0.250857  0.159005  0.119148   \n",
       "1   0.922449  0.814880  0.358563  0.240133  0.212232  0.164684  0.115508   \n",
       "2   0.923764  1.204172  0.710505  0.390607  0.197814  0.118326  0.116559   \n",
       "3   0.889912  1.214767  1.259738  0.669806  0.248984  0.110437  0.081201   \n",
       "4   0.994211  0.928219  1.198797  0.833206  0.410894  0.114922  0.059941   \n",
       "5   1.227748  1.079711  0.900323  0.854991  0.428716  0.142721  0.059136   \n",
       "6   1.553123  1.227468  0.939288  0.715800  0.451777  0.188360  0.082684   \n",
       "7   2.406413  1.729358  1.093806  0.758382  0.374823  0.210375  0.136748   \n",
       "8   1.582841  2.426509  1.430467  0.960670  0.316002  0.173281  0.115496   \n",
       "9   1.227782  1.367328  1.805935  0.984685  0.392190  0.141773  0.083932   \n",
       "10  1.030181  1.407963  1.548495  1.643767  0.722571  0.248998  0.117926   \n",
       "11  0.812037  0.903801  0.787038  0.996387  1.201167  0.432621  0.202674   \n",
       "12  0.687009  0.514567  0.416994  0.437250  0.562242  0.789475  0.333674   \n",
       "13  0.639266  0.566852  0.319563  0.350370  0.423375  0.426132  0.729523   \n",
       "14  0.609714  0.671687  0.526753  0.411074  0.332137  0.506812  0.503985   \n",
       "15  0.417472  0.453233  0.495429  0.489449  0.279022  0.185327  0.268169   \n",
       "\n",
       "         X15       X16  \n",
       "0   0.078022  0.043325  \n",
       "1   0.059623  0.044014  \n",
       "2   0.094754  0.071161  \n",
       "3   0.050955  0.035323  \n",
       "4   0.071169  0.053498  \n",
       "5   0.032113  0.024207  \n",
       "6   0.045721  0.037793  \n",
       "7   0.082721  0.029925  \n",
       "8   0.083370  0.036377  \n",
       "9   0.080840  0.072867  \n",
       "10  0.090845  0.082764  \n",
       "11  0.104866  0.073891  \n",
       "12  0.188464  0.070334  \n",
       "13  0.225210  0.090759  \n",
       "14  0.732634  0.224775  \n",
       "15  0.229801  0.330711  "
      ]
     },
     "execution_count": 21,
     "metadata": {},
     "output_type": "execute_result"
    }
   ],
   "source": [
    "dat1['Albania']"
   ]
  },
  {
   "cell_type": "code",
   "execution_count": 27,
   "metadata": {},
   "outputs": [],
   "source": [
    "dat = np.zeros((len(dat1),16,16))"
   ]
  },
  {
   "cell_type": "code",
   "execution_count": 33,
   "metadata": {},
   "outputs": [],
   "source": [
    "cnt=0\n",
    "for cc in dat1:\n",
    "    dat[cnt] = dat1[cc]\n",
    "    cnt = cnt+1\n"
   ]
  },
  {
   "cell_type": "code",
   "execution_count": 51,
   "metadata": {},
   "outputs": [],
   "source": [
    "datave = np.mean(dat,axis=0)"
   ]
  },
  {
   "cell_type": "code",
   "execution_count": null,
   "metadata": {},
   "outputs": [],
   "source": []
  },
  {
   "cell_type": "code",
   "execution_count": 52,
   "metadata": {},
   "outputs": [
    {
     "data": {
      "text/plain": [
       "array([[ 3.29,  1.52,  0.76,  0.47,  0.7 ,  1.06,  1.23,  1.02,  0.56,\n",
       "         0.33,  0.34,  0.27,  0.18,  0.13,  0.07,  0.04],\n",
       "       [ 1.4 ,  8.18,  1.85,  0.53,  0.33,  0.76,  1.07,  1.09,  0.87,\n",
       "         0.37,  0.24,  0.22,  0.17,  0.11,  0.05,  0.04],\n",
       "       [ 0.52,  2.84, 11.06,  1.32,  0.56,  0.48,  0.66,  0.91,  1.02,\n",
       "         0.57,  0.3 ,  0.15,  0.1 ,  0.1 ,  0.07,  0.05],\n",
       "       [ 0.29,  0.72,  4.02, 12.56,  2.01,  0.95,  0.69,  0.9 ,  1.02,\n",
       "         0.94,  0.49,  0.2 ,  0.1 ,  0.06,  0.03,  0.02],\n",
       "       [ 0.46,  0.41,  0.53,  3.46,  5.06,  2.19,  1.33,  1.1 ,  0.93,\n",
       "         1.06,  0.72,  0.37,  0.13,  0.05,  0.05,  0.04],\n",
       "       [ 0.83,  0.49,  0.3 ,  1.07,  2.53,  3.63,  1.94,  1.44,  1.15,\n",
       "         0.93,  0.87,  0.44,  0.18,  0.06,  0.03,  0.02],\n",
       "       [ 0.9 ,  1.24,  0.93,  0.58,  1.18,  1.94,  2.74,  1.84,  1.34,\n",
       "         0.98,  0.74,  0.49,  0.24,  0.08,  0.04,  0.04],\n",
       "       [ 0.81,  1.27,  1.04,  0.79,  0.77,  1.38,  1.7 ,  2.55,  1.79,\n",
       "         1.11,  0.77,  0.39,  0.24,  0.13,  0.07,  0.03],\n",
       "       [ 0.49,  0.9 ,  1.12,  1.18,  0.91,  1.16,  1.47,  1.63,  2.22,\n",
       "         1.36,  0.92,  0.32,  0.2 ,  0.1 ,  0.07,  0.03],\n",
       "       [ 0.35,  0.66,  0.78,  1.48,  0.86,  0.93,  1.11,  1.25,  1.28,\n",
       "         1.56,  0.89,  0.39,  0.15,  0.07,  0.06,  0.06],\n",
       "       [ 0.35,  0.67,  0.95,  1.19,  0.94,  1.19,  1.07,  1.02,  1.31,\n",
       "         1.38,  1.35,  0.65,  0.23,  0.08,  0.06,  0.06],\n",
       "       [ 0.64,  0.86,  0.72,  0.83,  0.68,  1.06,  1.1 ,  0.83,  0.89,\n",
       "         0.76,  0.89,  0.97,  0.39,  0.15,  0.07,  0.06],\n",
       "       [ 0.53,  0.53,  0.4 ,  0.47,  0.41,  0.61,  0.72,  0.75,  0.58,\n",
       "         0.48,  0.46,  0.54,  0.68,  0.27,  0.14,  0.06],\n",
       "       [ 0.34,  0.53,  0.44,  0.23,  0.26,  0.34,  0.51,  0.53,  0.44,\n",
       "         0.25,  0.26,  0.32,  0.33,  0.57,  0.17,  0.08],\n",
       "       [ 0.16,  0.47,  0.44,  0.39,  0.15,  0.27,  0.25,  0.46,  0.47,\n",
       "         0.38,  0.29,  0.23,  0.37,  0.36,  0.5 ,  0.19],\n",
       "       [ 0.28,  0.39,  0.56,  0.45,  0.15,  0.17,  0.24,  0.36,  0.38,\n",
       "         0.39,  0.39,  0.23,  0.15,  0.24,  0.21,  0.29]])"
      ]
     },
     "execution_count": 52,
     "metadata": {},
     "output_type": "execute_result"
    }
   ],
   "source": [
    "np.round(datave,2)"
   ]
  },
  {
   "cell_type": "code",
   "execution_count": 38,
   "metadata": {},
   "outputs": [
    {
     "data": {
      "text/plain": [
       "(16, 16)"
      ]
     },
     "execution_count": 38,
     "metadata": {},
     "output_type": "execute_result"
    }
   ],
   "source": [
    "datave.shape"
   ]
  },
  {
   "cell_type": "code",
   "execution_count": 53,
   "metadata": {},
   "outputs": [
    {
     "data": {
      "text/plain": [
       "<matplotlib.colorbar.Colorbar at 0x11daeb9b0>"
      ]
     },
     "execution_count": 53,
     "metadata": {},
     "output_type": "execute_result"
    },
    {
     "data": {
      "image/png": "[encoded data removed]",
      "text/plain": [
       "<Figure size 432x288 with 2 Axes>"
      ]
     },
     "metadata": {
      "needs_background": "light"
     },
     "output_type": "display_data"
    }
   ],
   "source": [
    "plt.imshow(datave)\n",
    "plt.colorbar()"
   ]
  },
  {
   "cell_type": "code",
   "execution_count": 58,
   "metadata": {},
   "outputs": [
    {
     "data": {
      "image/png": "[encoded data removed]",
      "text/plain": [
       "<Figure size 432x288 with 2 Axes>"
      ]
     },
     "metadata": {
      "needs_background": "light"
     },
     "output_type": "display_data"
    }
   ],
   "source": [
    "plt.imshow(dat[6]-datave);\n",
    "plt.colorbar();"
   ]
  },
  {
   "cell_type": "code",
   "execution_count": null,
   "metadata": {},
   "outputs": [],
   "source": []
  }
 ],
 "metadata": {
  "kernelspec": {
   "display_name": "Python3",
   "language": "python",
   "name": "python3"
  },
  "language_info": {
   "codemirror_mode": {
    "name": "ipython",
    "version": 3
   },
   "file_extension": ".py",
   "mimetype": "text/x-python",
   "name": "python",
   "nbconvert_exporter": "python",
   "pygments_lexer": "ipython3",
   "version": "3.7.2"
  },
  "toc": {
   "base_numbering": 1,
   "nav_menu": {},
   "number_sections": true,
   "sideBar": true,
   "skip_h1_title": false,
   "title_cell": "Table of Contents",
   "title_sidebar": "Contents",
   "toc_cell": false,
   "toc_position": {},
   "toc_section_display": true,
   "toc_window_display": true
  }
 },
 "nbformat": 4,
 "nbformat_minor": 4
}
