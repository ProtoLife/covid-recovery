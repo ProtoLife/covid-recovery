{
 "cells": [
  {
   "cell_type": "code",
   "execution_count": 1,
   "metadata": {},
   "outputs": [
    {
     "data": {
      "text/html": [
       "<style>.container { width:100% !important; }</style>"
      ],
      "text/plain": [
       "<IPython.core.display.HTML object>"
      ]
     },
     "metadata": {},
     "output_type": "display_data"
    }
   ],
   "source": [
    "%matplotlib notebook\n",
    "import matplotlib\n",
    "import seaborn as sb\n",
    "from matplotlib import pyplot as plt\n",
    "import numpy as np\n",
    "import pandas as pd\n",
    "\n",
    "# Jupyter Specifics\n",
    "%matplotlib inline\n",
    "from IPython.display import display, HTML\n",
    "from ipywidgets.widgets import interact, interactive, IntSlider, FloatSlider, Layout, ToggleButton, ToggleButtons, fixed\n",
    "display(HTML(\"<style>.container { width:100% !important; }</style>\"))\n",
    "style = {'description_width': '100px'}\n",
    "slider_layout = Layout(width='99%')\n",
    "\n",
    "from time import time\n",
    "import pickle as pk"
   ]
  },
  {
   "cell_type": "markdown",
   "metadata": {},
   "source": [
    "# Cluster data setup"
   ]
  },
  {
   "cell_type": "markdown",
   "metadata": {},
   "source": [
    "1. clusdtype='JRP1' O:database=JHU R:report_correct=True P:syncat='first major peak' 23 10 150 200 0.1 K=2\n",
    "2. clusdtype='ORP1' O:database=OWID R:report_correct=True P:syncat='first major peak' 23 10 150 200 0.1 K=2\n",
    "3. clusdtype='JWP1' O:database=JHU R:report_correct=False P:syncat='first major peak' 23 10 150 200 0.1 K=2\n",
    "4. clusdtype='OWP1' O:database=OWID R:report_correct=False P:syncat='first major peak' 23 10 150 200 0.1 K=2\n",
    "5. clusdtype='JRT1' O:database=JHU R:report_correct=True P:syncat='death thresh' 23 10 150 200 0.1 K=2\n",
    "6. clusdtype='ORT1' O:database=OWID R:report_correct=True P:syncat='death thresh' 23 10 150 200 0.1 K=2\n",
    "7. clusdtype='JWT1' O:database=JHU R:report_correct=False P:syncat='death thresh' 23 10 150 200 0.1 K=2\n",
    "8. clusdtype='OWT1' O:database=OWID R:report_correct=False P:syncat='death thresh' 23 10 150 200 0.1 K=2"
   ]
  },
  {
   "cell_type": "code",
   "execution_count": 2,
   "metadata": {},
   "outputs": [],
   "source": [
    "from Cluster import *"
   ]
  },
  {
   "cell_type": "code",
   "execution_count": 3,
   "metadata": {},
   "outputs": [
    {
     "name": "stdout",
     "output_type": "stream",
     "text": [
      "reading in data from data_all_base ...\n",
      "elapsed:  8.717666149139404\n"
     ]
    }
   ],
   "source": [
    "bd = BaseData('data_all_base')"
   ]
  },
  {
   "cell_type": "code",
   "execution_count": 4,
   "metadata": {
    "scrolled": false
   },
   "outputs": [
    {
     "name": "stdout",
     "output_type": "stream",
     "text": [
      "JRP1 ________________________\n",
      "Constructing common synchronized deaths, case and testing data...\n",
      "database JHU report_correct True\n",
      "mindeaths 200 mindeathspm 0.1\n",
      "database JHU report correction True\n",
      "daysync 22 thresh for deaths 10 mindays 240\n",
      "No of big common countries is 119\n",
      "---------------------------------\n",
      "number of countries in total_deaths) 197\n",
      "number of countries in big 118\n",
      "synchronizing and trimming time series to common length...\n",
      "minfirstpeak 21 max possible length 310\n",
      "making cases with nonlinear testing adjustment...\n",
      "done.\n",
      "----------------------------------------\n",
      "Finished loading Cluster module\n",
      "----------------------------------------\n",
      "[77, 77, 77, 77, 77]\n",
      "[True, True, True, True, True]\n",
      "[True, True, True, True, True]\n",
      "[True, True, True, True, True]\n",
      "[True, True, True, True, True]\n",
      "[True, True, True, True, True]\n",
      "[240, 240, 240, 240, 240, 240]\n",
      "elapsed:  0.40395498275756836\n",
      "ORP1 ________________________\n",
      "Constructing common synchronized deaths, case and testing data...\n",
      "database OWID report_correct True\n",
      "mindeaths 200 mindeathspm 0.1\n",
      "database OWID report correction True\n",
      "daysync 22 thresh for deaths 10 mindays 240\n",
      "No of big common countries is 119\n",
      "---------------------------------\n",
      "number of countries in total_deaths) 197\n",
      "number of countries in big 118\n",
      "synchronizing and trimming time series to common length...\n",
      "minfirstpeak 28 max possible length 303\n",
      "making cases with nonlinear testing adjustment...\n",
      "done.\n",
      "----------------------------------------\n",
      "Finished loading Cluster module\n",
      "----------------------------------------\n",
      "[78, 78, 78, 78, 78]\n",
      "[True, True, True, True, True]\n",
      "[True, True, True, True, True]\n",
      "[True, True, True, True, True]\n",
      "[True, True, True, True, True]\n",
      "[True, True, True, True, True]\n",
      "[240, 240, 240, 240, 240, 240]\n",
      "elapsed:  0.44371914863586426\n",
      "JWP1 ________________________\n",
      "Constructing common synchronized deaths, case and testing data...\n",
      "database JHU report_correct False\n",
      "mindeaths 200 mindeathspm 0.1\n",
      "database JHU report correction False\n",
      "daysync 22 thresh for deaths 10 mindays 240\n",
      "No of big common countries is 119\n",
      "---------------------------------\n",
      "number of countries in total_deaths) 197\n",
      "number of countries in big 118\n",
      "synchronizing and trimming time series to common length...\n",
      "minfirstpeak 17 max possible length 314\n",
      "making cases with nonlinear testing adjustment...\n",
      "done.\n",
      "----------------------------------------\n",
      "Finished loading Cluster module\n",
      "----------------------------------------\n",
      "[84, 84, 84, 84, 84]\n",
      "[True, True, True, True, True]\n",
      "[True, True, True, True, True]\n",
      "[True, True, True, True, True]\n",
      "[True, True, True, True, True]\n",
      "[True, True, True, True, True]\n",
      "[240, 240, 240, 240, 240, 240]\n",
      "elapsed:  0.3181760311126709\n",
      "OWP1 ________________________\n",
      "Constructing common synchronized deaths, case and testing data...\n",
      "database OWID report_correct False\n",
      "mindeaths 200 mindeathspm 0.1\n",
      "database OWID report correction False\n",
      "daysync 22 thresh for deaths 10 mindays 240\n",
      "No of big common countries is 119\n",
      "---------------------------------\n",
      "number of countries in total_deaths) 197\n",
      "number of countries in big 118\n",
      "synchronizing and trimming time series to common length...\n",
      "minfirstpeak 16 max possible length 315\n",
      "making cases with nonlinear testing adjustment...\n",
      "done.\n",
      "----------------------------------------\n",
      "Finished loading Cluster module\n",
      "----------------------------------------\n",
      "[84, 84, 84, 84, 84]\n",
      "[True, True, True, True, True]\n",
      "[True, True, True, True, True]\n",
      "[True, True, True, True, True]\n",
      "[True, True, True, True, True]\n",
      "[True, True, True, True, True]\n",
      "[240, 240, 240, 240, 240, 240]\n",
      "elapsed:  0.3994159698486328\n",
      "JRT1 ________________________\n",
      "Constructing common synchronized deaths, case and testing data...\n",
      "database JHU report_correct True\n",
      "mindeaths 200 mindeathspm 0.1\n",
      "database JHU report correction True\n",
      "daysync 22 thresh for deaths 10 mindays 240\n",
      "No of big common countries is 119\n",
      "---------------------------------\n",
      "number of countries in total_deaths) 197\n",
      "number of countries in big 118\n",
      "synchronizing and trimming time series to common length...\n",
      "minfirstthresh 0 max possible length 331\n",
      "making cases with nonlinear testing adjustment...\n",
      "done.\n",
      "----------------------------------------\n",
      "Finished loading Cluster module\n",
      "----------------------------------------\n",
      "[84, 84, 84, 84, 84]\n",
      "[True, True, True, True, True]\n",
      "[True, True, True, True, True]\n",
      "[True, True, True, True, True]\n",
      "[True, True, True, True, True]\n",
      "[True, True, True, True, True]\n",
      "[240, 240, 240, 240, 240, 240]\n",
      "elapsed:  0.408203125\n",
      "ORT1 ________________________\n",
      "Constructing common synchronized deaths, case and testing data...\n",
      "database OWID report_correct True\n",
      "mindeaths 200 mindeathspm 0.1\n",
      "database OWID report correction True\n",
      "daysync 22 thresh for deaths 10 mindays 240\n",
      "No of big common countries is 119\n",
      "---------------------------------\n",
      "number of countries in total_deaths) 197\n",
      "number of countries in big 118\n",
      "synchronizing and trimming time series to common length...\n",
      "minfirstthresh 0 max possible length 331\n",
      "making cases with nonlinear testing adjustment...\n",
      "done.\n",
      "----------------------------------------\n",
      "Finished loading Cluster module\n",
      "----------------------------------------\n",
      "[85, 85, 85, 85, 85]\n",
      "[True, True, True, True, True]\n",
      "[True, True, True, True, True]\n",
      "[True, True, True, True, True]\n",
      "[True, True, True, True, True]\n",
      "[True, True, True, True, True]\n",
      "[240, 240, 240, 240, 240, 240]\n",
      "elapsed:  0.3741481304168701\n",
      "JWT1 ________________________\n",
      "Constructing common synchronized deaths, case and testing data...\n",
      "database JHU report_correct False\n",
      "mindeaths 200 mindeathspm 0.1\n",
      "database JHU report correction False\n",
      "daysync 22 thresh for deaths 10 mindays 240\n",
      "No of big common countries is 119\n",
      "---------------------------------\n",
      "number of countries in total_deaths) 197\n",
      "number of countries in big 118\n",
      "synchronizing and trimming time series to common length...\n",
      "minfirstthresh 0 max possible length 331\n",
      "making cases with nonlinear testing adjustment...\n",
      "done.\n",
      "----------------------------------------\n",
      "Finished loading Cluster module\n",
      "----------------------------------------\n",
      "[84, 84, 84, 84, 84]\n",
      "[True, True, True, True, True]\n",
      "[True, True, True, True, True]\n",
      "[True, True, True, True, True]\n",
      "[True, True, True, True, True]\n",
      "[True, True, True, True, True]\n",
      "[241, 241, 241, 241, 241, 241]\n",
      "elapsed:  0.35943174362182617\n",
      "OWT1 ________________________\n",
      "Constructing common synchronized deaths, case and testing data...\n",
      "database OWID report_correct False\n",
      "mindeaths 200 mindeathspm 0.1\n",
      "database OWID report correction False\n",
      "daysync 22 thresh for deaths 10 mindays 240\n",
      "No of big common countries is 119\n",
      "---------------------------------\n",
      "number of countries in total_deaths) 197\n",
      "number of countries in big 118\n",
      "synchronizing and trimming time series to common length...\n",
      "minfirstthresh 0 max possible length 331\n",
      "making cases with nonlinear testing adjustment...\n",
      "done.\n",
      "----------------------------------------\n",
      "Finished loading Cluster module\n",
      "----------------------------------------\n",
      "[85, 85, 85, 85, 85]\n",
      "[True, True, True, True, True]\n",
      "[True, True, True, True, True]\n",
      "[True, True, True, True, True]\n",
      "[True, True, True, True, True]\n",
      "[True, True, True, True, True]\n",
      "[240, 240, 240, 240, 240, 240]\n",
      "elapsed:  0.347578763961792\n"
     ]
    }
   ],
   "source": [
    "clusdtypes = ['JRP1','ORP1','JWP1','OWP1','JRT1','ORT1','JWT1','OWT1']\n",
    "cnt = 0\n",
    "for syncat in ['first major peak','death thresh']:\n",
    "    for report_correct in [True,False]:\n",
    "        for database in ['JHU','OWID']:\n",
    "            clusdtype=clusdtypes[cnt]\n",
    "            print(clusdtype,'________________________')\n",
    "            ClData=ClusterData(bd,clusdtype=clusdtype,cluster_data=False,report_correct=report_correct,database=database,daysync=22,thresh=10,\n",
    "                             mindays=240, mindeaths=200,mindeathspm=0.1,syncat=syncat,K=2)\n",
    "            clusdata_all = ClData.clusdata_all\n",
    "            bcountries = ClData.bcountries\n",
    "            d_countries = [c for c in clusdata_all['deaths']]\n",
    "            c_countries = [c for c in clusdata_all['cases']]\n",
    "            lc_countries = [c for c in clusdata_all['cases_lin2020']]\n",
    "            pc_countries = [c for c in clusdata_all['cases_pwlfit']]\n",
    "            nc_countries = [c for c in clusdata_all['cases_nonlin']]\n",
    "            countries = d_countries\n",
    "            # check that all country sets being used are the same and check time series lengths and starting dates\n",
    "            countrysets = [d_countries,c_countries,lc_countries,pc_countries,nc_countries]\n",
    "            print([len(ccs) for ccs in countrysets])\n",
    "            for ccs1 in countrysets:\n",
    "                print([ccs1 == ccs2 for ccs2 in countrysets])\n",
    "            print([len(clusdata_all[d1]['United States']) for d1 in ClData.clusdata_all])\n",
    "            allnmsc = ['ClData']\n",
    "            data_allc = {nm:eval(nm) for nm in allnmsc}\n",
    "            start = time()\n",
    "            pk.dump(data_allc,open('./pks/data_cluster_'+ClData.clusdtype+'.pk','wb'))\n",
    "            print('elapsed: ',time()-start)\n",
    "            cnt = cnt+1"
   ]
  },
  {
   "cell_type": "code",
   "execution_count": 5,
   "metadata": {},
   "outputs": [
    {
     "data": {
      "text/plain": [
       "['United States', 'Ukraine', 'United Arab Emirates', 'United Kingdom']"
      ]
     },
     "execution_count": 5,
     "metadata": {},
     "output_type": "execute_result"
    }
   ],
   "source": [
    "[x for x in clusdata_all['deaths'] if 'U' in x]"
   ]
  },
  {
   "cell_type": "code",
   "execution_count": 6,
   "metadata": {},
   "outputs": [
    {
     "data": {
      "text/plain": [
       "85"
      ]
     },
     "execution_count": 6,
     "metadata": {},
     "output_type": "execute_result"
    }
   ],
   "source": [
    "len(countries)"
   ]
  },
  {
   "cell_type": "code",
   "execution_count": 7,
   "metadata": {},
   "outputs": [
    {
     "data": {
      "text/plain": [
       "5"
      ]
     },
     "execution_count": 7,
     "metadata": {},
     "output_type": "execute_result"
    }
   ],
   "source": [
    "\n",
    "len(countrysets)"
   ]
  },
  {
   "cell_type": "code",
   "execution_count": 9,
   "metadata": {},
   "outputs": [
    {
     "data": {
      "text/plain": [
       "[85, 85, 85, 85, 85]"
      ]
     },
     "execution_count": 9,
     "metadata": {},
     "output_type": "execute_result"
    }
   ],
   "source": [
    "[len(x) for x in countrysets]\n"
   ]
  },
  {
   "cell_type": "code",
   "execution_count": null,
   "metadata": {},
   "outputs": [],
   "source": []
  }
 ],
 "metadata": {
  "hide_input": false,
  "kernelspec": {
   "display_name": "Python 3",
   "language": "python",
   "name": "python3"
  },
  "language_info": {
   "codemirror_mode": {
    "name": "ipython",
    "version": 3
   },
   "file_extension": ".py",
   "mimetype": "text/x-python",
   "name": "python",
   "nbconvert_exporter": "python",
   "pygments_lexer": "ipython3",
   "version": "3.7.4"
  },
  "toc": {
   "base_numbering": 1,
   "nav_menu": {
    "height": "341px",
    "width": "225px"
   },
   "number_sections": true,
   "sideBar": true,
   "skip_h1_title": false,
   "title_cell": "Table of Contents",
   "title_sidebar": "Contents",
   "toc_cell": false,
   "toc_position": {
    "height": "calc(100% - 180px)",
    "left": "10px",
    "top": "150px",
    "width": "294.0625px"
   },
   "toc_section_display": true,
   "toc_window_display": false
  }
 },
 "nbformat": 4,
 "nbformat_minor": 4
}
