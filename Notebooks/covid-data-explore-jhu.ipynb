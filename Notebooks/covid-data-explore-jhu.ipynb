{
 "cells": [
  {
   "cell_type": "code",
   "execution_count": null,
   "metadata": {},
   "outputs": [],
   "source": [
    "import numpy as np\n",
    "import csv\n",
    "import itertools\n",
    "import matplotlib\n",
    "%matplotlib inline\n",
    "import seaborn as sb\n",
    "from matplotlib import pyplot as plt\n",
    "from cycler import cycler\n",
    "import datetime\n",
    "import matplotlib.dates as mdates\n",
    "from pandas.plotting import register_matplotlib_converters\n",
    "register_matplotlib_converters()\n",
    "import pwlf\n"
   ]
  },
  {
   "cell_type": "code",
   "execution_count": null,
   "metadata": {},
   "outputs": [],
   "source": [
    "import sys"
   ]
  },
  {
   "cell_type": "code",
   "execution_count": null,
   "metadata": {},
   "outputs": [],
   "source": [
    "sys.executable\n"
   ]
  },
  {
   "cell_type": "code",
   "execution_count": null,
   "metadata": {},
   "outputs": [],
   "source": [
    "matplotlib.__version__"
   ]
  },
  {
   "cell_type": "code",
   "execution_count": null,
   "metadata": {},
   "outputs": [],
   "source": [
    "def Float(x):\n",
    "    try:\n",
    "        rtn = float(x)\n",
    "    except:\n",
    "        rtn = float('NaN')\n",
    "    return rtn\n",
    "\n"
   ]
  },
  {
   "cell_type": "markdown",
   "metadata": {},
   "source": [
    "## JHU data"
   ]
  },
  {
   "cell_type": "code",
   "execution_count": null,
   "metadata": {},
   "outputs": [],
   "source": [
    "def get_data(jhu_file):\n",
    "    dat = []\n",
    "    with open(jhu_file, newline='') as csvfile:\n",
    "        myreader = csv.reader(csvfile, delimiter=',')\n",
    "        popdat = []\n",
    "        i = 0\n",
    "        for row in myreader:\n",
    "            if i != 0:\n",
    "                poplist = []\n",
    "                j = 0\n",
    "                for elt in row:\n",
    "                    if j >= 4:\n",
    "                        poplist.append(int(elt))\n",
    "                    elif j == 0:\n",
    "                        poplist.append(elt)\n",
    "                    elif j == 1:\n",
    "                        poplist[0]=(elt,poplist[0])\n",
    "                    j = j+1\n",
    "                popdat.append(poplist)\n",
    "            else:\n",
    "                popdat.append(row)\n",
    "            # print(popdat[i])\n",
    "            i = i + 1;\n",
    "    popdat0=['date']\n",
    "    for elt in popdat[0][4:]:\n",
    "        popdat0.append(elt)\n",
    "    popdat[0] = popdat0\n",
    "    totals = np.zeros(len(popdat[0])-1,dtype=int)\n",
    "    for row in popdat[1:]:\n",
    "        totals = totals + np.array(row[1:])\n",
    "    totals = list(np.asarray(totals))\n",
    "    # print(totals)\n",
    "    popkeyed = {poplist[0]: poplist[1:] for poplist in popdat}\n",
    "    popkeyed.update({'dates':popdat[0][1:]})\n",
    "    popkeyed.update({('World',''):totals})\n",
    "    # popkeyed[('Canada', 'Ontario')]\n",
    "    # popkeyed['dates']\n",
    "    return popkeyed"
   ]
  },
  {
   "cell_type": "code",
   "execution_count": null,
   "metadata": {},
   "outputs": [],
   "source": [
    "base = '../covid-19-JH/csse_covid_19_data/csse_covid_19_time_series/'\n",
    "confirmed = get_data(base+'time_series_covid19_confirmed_global.csv')\n",
    "deaths = get_data(base+'time_series_covid19_deaths_global.csv')\n",
    "recovered = get_data(base+'time_series_covid19_recovered_global.csv')\n",
    "covid_ts = {'confirmed':confirmed,'deaths':deaths,'recovered':recovered}\n",
    "countries = [(row[0],row[1]) for row in confirmed][1:]\n",
    "print(\"number of countries listed\",len(countries))\n",
    "i=0\n",
    "for country in countries:\n",
    "    print(i,country)\n",
    "    i = i + 1"
   ]
  },
  {
   "cell_type": "code",
   "execution_count": null,
   "metadata": {},
   "outputs": [],
   "source": [
    "confirmed['dates']"
   ]
  },
  {
   "cell_type": "code",
   "execution_count": null,
   "metadata": {},
   "outputs": [],
   "source": [
    "def plotCountry(country_s, datatype='confirmed', fittype='piecewise-linear',\n",
    "                ax=None, symbol=None, firstdate=None, lastdate=None, xxx = None):\n",
    "    \"\"\" plots selected data for a list of countries or single country\n",
    "        datatypes allowed are 'confirmed','deaths','recovered'\n",
    "        fittypes allowed are currently None, 'piecewise-linear'\n",
    "        ax graphical axes to use for plot: default None -> new axes\n",
    "        symbol to use for plotting\n",
    "        firstdate to plot (maybe before first date in data - pad with 0)\n",
    "        lastdate to plot (maybe after last date in data - pad with 0)\n",
    "        xxx - optional x coordinates for plotting (used to overlay with other plots)\n",
    "    \"\"\"\n",
    "    countries = []\n",
    "    if isinstance(country_s,list):\n",
    "        for country in country_s:\n",
    "            if isinstance(country,str):\n",
    "                country = (country,'')\n",
    "            countries.append(country)\n",
    "    elif isinstance(country_s,str):\n",
    "        countries = [(country_s,'')]\n",
    "    else:\n",
    "        countries = [country_s]\n",
    "            \n",
    "    popkeyed = covid_ts[datatype]\n",
    "    dates = popkeyed['dates']\n",
    "    fmt = '%m/%d/%y'\n",
    "    xx = [datetime.datetime.strptime(dd,fmt) for dd in dates ]\n",
    "    if firstdate:\n",
    "        firstdate_d = datetime.datetime.strptime(firstdate,fmt)\n",
    "    else:\n",
    "        firstdate_d = datetime.datetime.strptime(dates[0],fmt)\n",
    "    if lastdate:\n",
    "        lastdate_d = datetime.datetime.strptime(lastdate,fmt)\n",
    "    else:\n",
    "        lastdate_d = datetime.datetime.strptime(dates[-1],fmt)\n",
    "    daystart = (firstdate_d-xx[0]).days\n",
    "    daystop = (lastdate_d-xx[-1]).days\n",
    "    # print(daystart,daystop)\n",
    "    if daystart <0:\n",
    "        xx0 = [xx[0]+datetime.timedelta(days=i) for i in range(daystart,0)]\n",
    "        yy0 = [0]*(-daystart)\n",
    "    else:\n",
    "        xx0 = []\n",
    "        yy0 = []\n",
    "    if daystop > 0:\n",
    "        xx1 = [xx[-1]+datetime.timedelta(days=i) for i in range(daystop)]\n",
    "        yy1 = [0]*(daystop)\n",
    "    else:\n",
    "        xx1 = []\n",
    "        yy1 = []       \n",
    "    # print(xx0,xx1)\n",
    "    xx = xx0 + xx + xx1\n",
    "    if fittype == 'piecewise-linear':\n",
    "        xxi = [Float((x-firstdate_d).days) for x in xx ]\n",
    "        # print(xxi)\n",
    "    # locator = mdates.MonthLocator()\n",
    "    locator = mdates.AutoDateLocator(minticks=5, maxticks=13)\n",
    "    formatter= mdates.ConciseDateFormatter(locator)\n",
    "    \n",
    "    if not ax:\n",
    "        fig,ax = plt.subplots(1,1,figsize=(20,10))      \n",
    "    colors =  ['k', 'b', 'c', 'm', 'y', 'g', 'r']\n",
    "        \n",
    "    i = 0\n",
    "    j = 0\n",
    "    for country in countries:\n",
    "        try:\n",
    "            yy = popkeyed[country]\n",
    "            yy = yy0 + yy + yy1\n",
    "            if xxx:\n",
    "                xx = xxx\n",
    "            if symbol:\n",
    "                ax.plot(xx, yy, symbol, color = colors[i], alpha=0.3, label = country[0])\n",
    "            else:\n",
    "                ax.plot(xx, yy, 'o--', color = colors[i], alpha=0.3, label = country[0])\n",
    "            plt.title(country[0]+'-'+country[1]+' '+datatype)\n",
    "            if fittype == 'piecewise-linear':    \n",
    "                # initialize piecewise linear fit with your x and y data\n",
    "                yyf = [Float(y) for y in yy]\n",
    "                my_pwlf = pwlf.PiecewiseLinFit(xxi, yyf)\n",
    "                # fit the data for four line segments\n",
    "                res = my_pwlf.fit(4)\n",
    "                # predict for the determined points\n",
    "                xHat = np.linspace(min(xxi), max(xxi), num=len(xx))\n",
    "                # print(len(xHat),len(xxi))\n",
    "                yHat = my_pwlf.predict(xHat)\n",
    "                ax.plot(xx, yHat, color = colors[i], alpha=0.3, label = country[0]+' fit')\n",
    "            i = i+1\n",
    "            j = j+1\n",
    "        except:\n",
    "            print('country not found',country)\n",
    "            i = i + 1\n",
    "    if j==0:\n",
    "        ax.axis(\"off\")\n",
    "    else:\n",
    "        if j > 1:\n",
    "            plt.legend(loc=\"upper left\")\n",
    "            plt.title('countries '+datatype)\n",
    "        ax.xaxis.set_major_formatter(formatter)\n",
    "        ax.xaxis.set_major_locator(locator)\n",
    "        for tick in ax.get_xticklabels():\n",
    "            tick.set_rotation(40)\n"
   ]
  },
  {
   "cell_type": "code",
   "execution_count": null,
   "metadata": {
    "scrolled": false
   },
   "outputs": [],
   "source": [
    "plotCountry(['Italy','Turkey','Germany','Russia','Brazil','United Kingdom','Spain'],'confirmed',firstdate='01/01/20',lastdate='05/22/20')"
   ]
  },
  {
   "cell_type": "code",
   "execution_count": null,
   "metadata": {},
   "outputs": [],
   "source": [
    "plotCountry(('Australia','New South Wales'),'confirmed','none')\n",
    "#plotCountry(('Austria',''))"
   ]
  },
  {
   "cell_type": "code",
   "execution_count": null,
   "metadata": {},
   "outputs": [],
   "source": [
    "plotCountry('World','deaths')\n",
    "plotCountry('World','confirmed')\n",
    "plotCountry('World','recovered')"
   ]
  },
  {
   "cell_type": "code",
   "execution_count": null,
   "metadata": {},
   "outputs": [],
   "source": [
    "plotCountry(['Germany','Germany1'],'deaths')"
   ]
  },
  {
   "cell_type": "code",
   "execution_count": null,
   "metadata": {},
   "outputs": [],
   "source": []
  },
  {
   "cell_type": "code",
   "execution_count": null,
   "metadata": {},
   "outputs": [],
   "source": [
    "print(\"number of countries\",len(countries))\n",
    "max_rows=36\n",
    "max_cols=8\n",
    "fig, axes = plt.subplots(nrows=max_rows, ncols=max_cols, figsize=(20,40))\n",
    "for idx, country  in enumerate(countries):\n",
    "    row = idx // max_cols\n",
    "    col = idx % max_cols\n",
    "    axes[row, col].axis(\"off\")\n",
    "    if country != ('d','a'):\n",
    "        plotCountry(country, datatype='confirmed', fittype=None,ax=axes[row, col],symbol='.',\n",
    "                   firstdate='01/01/20',lastdate='05/21/20')\n",
    "for idx in range(len(countries),max_rows*max_cols):\n",
    "    row = idx // max_cols\n",
    "    col = idx % max_cols\n",
    "    axes[row, col].axis(\"off\")\n",
    "plt.subplots_adjust(wspace=.05, hspace=.05)\n",
    "plt.show()"
   ]
  },
  {
   "cell_type": "code",
   "execution_count": null,
   "metadata": {},
   "outputs": [],
   "source": [
    "print(\"number of countries\",len(countries))\n",
    "max_rows=36\n",
    "max_cols=8\n",
    "fig, axes = plt.subplots(nrows=max_rows, ncols=max_cols, figsize=(20,40))\n",
    "for idx, country  in enumerate(countries):\n",
    "    row = idx // max_cols\n",
    "    col = idx % max_cols\n",
    "    axes[row, col].axis(\"off\")\n",
    "    if country != ('d','a'):\n",
    "        plotCountry(country, datatype='deaths', fittype=None,ax=axes[row, col],symbol='.')\n",
    "for idx in range(len(countries),max_rows*max_cols):\n",
    "    row = idx // max_cols\n",
    "    col = idx % max_cols\n",
    "    axes[row, col].axis(\"off\")\n",
    "plt.subplots_adjust(wspace=.05, hspace=.05)\n",
    "plt.show()"
   ]
  },
  {
   "cell_type": "markdown",
   "metadata": {},
   "source": [
    "### Check daily figures with owid data"
   ]
  },
  {
   "cell_type": "code",
   "execution_count": null,
   "metadata": {},
   "outputs": [],
   "source": [
    "def plotDaily(country_s, datatype):\n",
    "    countries = []\n",
    "    if isinstance(country_s,list):\n",
    "        for country in country_s:\n",
    "            if isinstance(country,str):\n",
    "                country = (country,'')\n",
    "            countries.append(country)\n",
    "    elif isinstance(country_s,str):\n",
    "        countries = [(country_s,'')]\n",
    "    else:\n",
    "        countries = [country_s]\n",
    "            \n",
    "    popkeyed = covid_ts[datatype]\n",
    "    dates = popkeyed['dates']\n",
    "    fmt = '%m/%d/%y'\n",
    "    xx = [datetime.datetime.strptime(dd,fmt) for dd in dates ]\n",
    "    day0 = datetime.datetime.strptime(dates[0],fmt)\n",
    "    xxi = [Float((datetime.datetime.strptime(dd,fmt)-day0).days) for dd in dates ]\n",
    "    # print(xxi)\n",
    "    # locator = mdates.MonthLocator()\n",
    "    locator = mdates.AutoDateLocator(minticks=5, maxticks=13)\n",
    "    formatter= mdates.ConciseDateFormatter(locator)\n",
    "    \n",
    "    fig,ax = plt.subplots(1,1,figsize=(20,10))      \n",
    "    colors =  ['k', 'b', 'c', 'm', 'y', 'g', 'r']\n",
    "    i = 0\n",
    "    for country in countries:\n",
    "            yy = popkeyed[country]\n",
    "            yyf = [Float(y) for y in yy]\n",
    "            yyd = yyf\n",
    "            for j in range(1,len(yyf)):\n",
    "                yyd[j] = yyf[j]-yyf[j-1]\n",
    "            ax.plot(xx, yyd, color = colors[i], alpha=1, label = country[0])\n",
    "\n",
    "            i = i+1\n",
    "    # ax.step(xx,yy)\n",
    "    #ax.plot(xx, yy, 'o--', color='black', alpha=0.3)\n",
    "    \n",
    "    \n",
    "    ax.xaxis.set_major_formatter(formatter)\n",
    "    ax.xaxis.set_major_locator(locator)\n",
    "    for tick in ax.get_xticklabels():\n",
    "        tick.set_rotation(40)\n",
    "    if len(countries) == 1:\n",
    "        plt.title(country[0]+'-'+country[1]+' '+datatype)\n",
    "    else:\n",
    "        plt.legend(loc=\"upper left\")\n",
    "        plt.title('countries '+datatype)"
   ]
  },
  {
   "cell_type": "markdown",
   "metadata": {},
   "source": [
    "**Problem??  these curves don't look anything like daily death curves for OWID/Oxford data**"
   ]
  },
  {
   "cell_type": "code",
   "execution_count": null,
   "metadata": {},
   "outputs": [],
   "source": [
    "plotDaily(['Italy','Turkey','Germany','Russia','Brazil','United Kingdom','Spain'],'deaths')"
   ]
  },
  {
   "cell_type": "markdown",
   "metadata": {},
   "source": [
    "## OWID data"
   ]
  },
  {
   "cell_type": "code",
   "execution_count": null,
   "metadata": {},
   "outputs": [],
   "source": [
    "owid_file = '../covid-19-owid/public/data/owid-covid-data.csv'\n",
    "dat = []\n",
    "with open(owid_file,'r',newline='') as fp:\n",
    "    myreader = csv.DictReader(fp,delimiter=',')\n",
    "#    rows = list(itertools.islice(myreader,4))\n",
    "    for row in myreader:\n",
    "        dat.append(row)"
   ]
  },
  {
   "cell_type": "code",
   "execution_count": null,
   "metadata": {},
   "outputs": [],
   "source": [
    "dat[0].keys()"
   ]
  },
  {
   "cell_type": "code",
   "execution_count": null,
   "metadata": {},
   "outputs": [],
   "source": [
    "set([(d['iso_code'],d['location']) for d in dat])"
   ]
  },
  {
   "cell_type": "code",
   "execution_count": null,
   "metadata": {},
   "outputs": [],
   "source": [
    "countries = list(set([dd['iso_code'] for dd in dat]))"
   ]
  },
  {
   "cell_type": "code",
   "execution_count": null,
   "metadata": {},
   "outputs": [],
   "source": [
    "deathUSA = [(dd['date'],dd['new_deaths']) for dd in dat if dd['iso_code']=='USA']\n",
    "\n",
    "fmt = '%Y-%m-%d'\n",
    "xx = [datetime.datetime.strptime(dd[0],fmt) for dd in deathUSA if int(dd[1])>0 ]\n",
    "yy = [int(dd[1]) for dd in deathUSA if int(dd[1])>0 ]\n",
    "\n",
    "locator = mdates.MonthLocator()\n",
    "formatter= mdates.ConciseDateFormatter(locator)\n",
    "\n",
    "fig,ax = plt.subplots(1,1)\n",
    "ax.step(xx,yy)\n",
    "ax.xaxis.set_major_formatter(formatter)\n",
    "ax.xaxis.set_major_locator(locator)\n",
    "for tick in ax.get_xticklabels():\n",
    "    tick.set_rotation(40)\n",
    "plt.title('USA new deaths')\n",
    "plt.show()"
   ]
  },
  {
   "cell_type": "code",
   "execution_count": null,
   "metadata": {},
   "outputs": [],
   "source": [
    "def plotTarget(iso,targ='new_deaths'):\n",
    "    datt = [(dd['date'],dd[targ]) for dd in dat if dd['iso_code']==iso]\n",
    "    deathstr = 'death'+iso\n",
    "    fmt = '%Y-%m-%d'\n",
    "    \n",
    "    start=False\n",
    "    xx = [] ; yy = []\n",
    "    for i in range(len(datt)):\n",
    "        dd = datt[i]\n",
    "        if float(dd[1]) == 0:\n",
    "            if start==False:\n",
    "                continue\n",
    "            else:\n",
    "                pass\n",
    "        else:\n",
    "            if start==False:\n",
    "                start=True\n",
    "        if start:\n",
    "            xx.append(datetime.datetime.strptime(dd[0],fmt))\n",
    "            yy.append(float(dd[1]))\n",
    "        \n",
    "#    xx = [datetime.datetime.strptime(dd[0],fmt) for dd in datt if float(dd[1])>0 ]\n",
    "#    yy = [float(dd[1]) for dd in datt if int(dd[1])>0 ]\n",
    "\n",
    "    locator = mdates.MonthLocator()\n",
    "    formatter= mdates.ConciseDateFormatter(locator)\n",
    "\n",
    "    register_matplotlib_converters() # pandas made me do it\n",
    "    fig,ax = plt.subplots(1,1)\n",
    "    ax.step(xx,yy)\n",
    "    ax.xaxis.set_major_formatter(formatter)\n",
    "    ax.xaxis.set_major_locator(locator)\n",
    "    for tick in ax.get_xticklabels():\n",
    "        tick.set_rotation(40)\n",
    "        plt.title(iso+' '+targ)\n",
    "    plt.show()"
   ]
  },
  {
   "cell_type": "code",
   "execution_count": null,
   "metadata": {},
   "outputs": [],
   "source": [
    "plotTarget('DEU')"
   ]
  },
  {
   "cell_type": "code",
   "execution_count": null,
   "metadata": {},
   "outputs": [],
   "source": [
    "plotTarget('DEU','new_cases')"
   ]
  },
  {
   "cell_type": "code",
   "execution_count": null,
   "metadata": {
    "scrolled": false
   },
   "outputs": [],
   "source": [
    "plotTarget('USA','new_cases')"
   ]
  },
  {
   "cell_type": "code",
   "execution_count": null,
   "metadata": {},
   "outputs": [],
   "source": [
    "plotTarget('FRA','new_cases')"
   ]
  },
  {
   "cell_type": "code",
   "execution_count": null,
   "metadata": {},
   "outputs": [],
   "source": [
    "plotTarget('SWE','new_cases')"
   ]
  },
  {
   "cell_type": "code",
   "execution_count": null,
   "metadata": {},
   "outputs": [],
   "source": [
    "plotTarget('SWE','new_deaths')"
   ]
  },
  {
   "cell_type": "code",
   "execution_count": null,
   "metadata": {},
   "outputs": [],
   "source": [
    "plotTarget('BRA','new_deaths')"
   ]
  },
  {
   "cell_type": "markdown",
   "metadata": {},
   "source": [
    "## Oxford data"
   ]
  },
  {
   "cell_type": "code",
   "execution_count": null,
   "metadata": {},
   "outputs": [],
   "source": [
    "owid_file = '../covid-policy-tracker/data/OxCGRT_latest.csv'\n",
    "oxdat = []\n",
    "with open(owid_file,'r',newline='') as fp:\n",
    "    myreader = csv.DictReader(fp,delimiter=',')\n",
    "#    rows = list(itertools.islice(myreader,4))\n",
    "    for row in myreader:\n",
    "        oxdat.append(row)\n",
    "    "
   ]
  },
  {
   "cell_type": "code",
   "execution_count": null,
   "metadata": {},
   "outputs": [],
   "source": [
    "oxdat[0].keys()"
   ]
  },
  {
   "cell_type": "code",
   "execution_count": null,
   "metadata": {},
   "outputs": [],
   "source": [
    "countries = list(set([(dd['CountryName'],dd['CountryCode']) for dd in oxdat]))"
   ]
  },
  {
   "cell_type": "code",
   "execution_count": null,
   "metadata": {},
   "outputs": [],
   "source": [
    "[countries[i] for i in range(10)]"
   ]
  },
  {
   "cell_type": "code",
   "execution_count": null,
   "metadata": {},
   "outputs": [],
   "source": [
    "dates = np.sort(list([dd['Date'] for dd in oxdat]))\n",
    "dates_uniq = np.unique(dates)\n",
    "dates_uniq"
   ]
  },
  {
   "cell_type": "code",
   "execution_count": null,
   "metadata": {},
   "outputs": [],
   "source": []
  },
  {
   "cell_type": "code",
   "execution_count": null,
   "metadata": {},
   "outputs": [],
   "source": [
    "foo = [(dd['Date'],dd['C1_School closing'],dd['C1_Flag']) for dd in oxdat if dd['CountryCode']=='USA']"
   ]
  },
  {
   "cell_type": "code",
   "execution_count": null,
   "metadata": {},
   "outputs": [],
   "source": [
    "xx = foo[0:10]\n",
    "print(xx)\n",
    "xx=foo[-10:]\n",
    "print(xx)"
   ]
  },
  {
   "cell_type": "code",
   "execution_count": null,
   "metadata": {},
   "outputs": [],
   "source": [
    "foo = [(dd['Date'],dd['C1_School closing'],dd['C1_Flag']) \n",
    "       for dd in oxdat if dd['CountryCode']=='USA']\n",
    "\n",
    "fmt = '%Y%m%d'\n",
    "first = 31+22-1\n",
    "xx = [datetime.datetime.strptime(dd[0],fmt) for dd in foo][first:]\n",
    "yy = []\n",
    "for dd in foo[first:]:\n",
    "    try:\n",
    "        yy.append(float(dd[1]))\n",
    "    except:\n",
    "        yy.append(float('NaN'))\n",
    "\n",
    "\n",
    "locator = mdates.MonthLocator()\n",
    "formatter= mdates.ConciseDateFormatter(locator)\n",
    "\n",
    "fig,ax = plt.subplots(1,1)\n",
    "ax.step(xx,yy)\n",
    "ax.xaxis.set_major_formatter(formatter)\n",
    "ax.xaxis.set_major_locator(locator)\n",
    "for tick in ax.get_xticklabels():\n",
    "    tick.set_rotation(40)\n",
    "plt.title('USA')\n",
    "plt.show()"
   ]
  },
  {
   "cell_type": "markdown",
   "metadata": {},
   "source": [
    "Note:  no wildcard data:"
   ]
  },
  {
   "cell_type": "code",
   "execution_count": null,
   "metadata": {},
   "outputs": [],
   "source": [
    "foo = [(dd['Date'],dd['CountryCode'],dd['M1_Wildcard']) \n",
    "       for dd in oxdat if dd['M1_Wildcard'] != '']\n",
    "\n"
   ]
  },
  {
   "cell_type": "code",
   "execution_count": null,
   "metadata": {},
   "outputs": [],
   "source": [
    "foo\n"
   ]
  },
  {
   "cell_type": "markdown",
   "metadata": {},
   "source": [
    "Notes:  \n",
    "* first version of `datcodes` leaves out all flags (general vs. targeted implementation)\n",
    "* 2nd version leaves out all variables measured in dollars"
   ]
  },
  {
   "cell_type": "code",
   "execution_count": null,
   "metadata": {},
   "outputs": [],
   "source": [
    "datcodes = ['C1_School closing', 'C2_Workplace closing', \n",
    "            'C3_Cancel public events', 'C4_Restrictions on gatherings', \n",
    "            'C5_Close public transport', 'C6_Stay at home requirements', \n",
    "            'C7_Restrictions on internal movement', 'C8_International travel controls', \n",
    "            'E1_Income support', 'E2_Debt/contract relief', 'E3_Fiscal measures', \n",
    "            'E4_International support', 'H1_Public information campaigns', \n",
    "            'H2_Testing policy', 'H3_Contact tracing', \n",
    "            'H4_Emergency investment in healthcare', 'H5_Investment in vaccines']\n",
    "\n",
    "datcodes = ['C1_School closing', 'C2_Workplace closing', \n",
    "            'C3_Cancel public events', 'C4_Restrictions on gatherings', \n",
    "            'C5_Close public transport', 'C6_Stay at home requirements', \n",
    "            'C7_Restrictions on internal movement', 'C8_International travel controls', \n",
    "            'E1_Income support', 'E2_Debt/contract relief', \n",
    "            'H1_Public information campaigns', \n",
    "            'H2_Testing policy', 'H3_Contact tracing']\n",
    "\n"
   ]
  },
  {
   "cell_type": "code",
   "execution_count": null,
   "metadata": {},
   "outputs": [],
   "source": [
    "countrycodes = list(set([dd['CountryCode'] for dd in oxdat]))\n",
    "len(countrycodes)"
   ]
  },
  {
   "cell_type": "code",
   "execution_count": null,
   "metadata": {},
   "outputs": [],
   "source": [
    "def Float(x):\n",
    "    try:\n",
    "        rtn = float(x)\n",
    "    except:\n",
    "        rtn = float('NaN')\n",
    "    return rtn\n"
   ]
  },
  {
   "cell_type": "code",
   "execution_count": null,
   "metadata": {},
   "outputs": [],
   "source": [
    "def get_codedat(countrycode='USA'):\n",
    "    codedat = []\n",
    "    foo = [[dd['Date']]+ [Float(dd[c]) for c in datcodes]\n",
    "           for dd in oxdat if dd['CountryCode']==countrycode]\n",
    "    return foo\n",
    "    \n"
   ]
  },
  {
   "cell_type": "code",
   "execution_count": null,
   "metadata": {},
   "outputs": [],
   "source": [
    "get_codedat()"
   ]
  },
  {
   "cell_type": "markdown",
   "metadata": {},
   "source": [
    "### Response policy maps\n",
    "\n",
    "* time along x axis \n",
    "* NaN same color as max value (typically 4)\n",
    "* 12 rows for presence of 12 factors.  cf oxford codebook.md in ../covid-policy-tracker/documentation/."
   ]
  },
  {
   "cell_type": "code",
   "execution_count": null,
   "metadata": {},
   "outputs": [],
   "source": [
    "# for comaptibility with JHU data set first elt as 22nd Feb 2020\n",
    "# assuming Oxford records start with Jan 1st 2020\n",
    "first = 31+22-1"
   ]
  },
  {
   "cell_type": "code",
   "execution_count": null,
   "metadata": {},
   "outputs": [],
   "source": [
    "foo = get_codedat('DEU')\n",
    "foo = [f[1:] for f in foo]\n",
    "plt.imshow(np.transpose(foo),cmap='hot',aspect='auto');\n",
    "plt.title('DEU')\n"
   ]
  },
  {
   "cell_type": "code",
   "execution_count": null,
   "metadata": {},
   "outputs": [],
   "source": [
    "foo = get_codedat('USA')[first:]\n",
    "foo = [f[1:] for f in foo]\n",
    "plt.imshow(np.transpose(foo),cmap='hot',aspect='auto');\n",
    "plt.title(\"USA\")"
   ]
  },
  {
   "cell_type": "code",
   "execution_count": null,
   "metadata": {},
   "outputs": [],
   "source": [
    "foo = get_codedat('KOR')\n",
    "foo = [f[1:] for f in foo]\n",
    "plt.imshow(np.transpose(foo),cmap='hot',aspect='auto');"
   ]
  },
  {
   "cell_type": "code",
   "execution_count": null,
   "metadata": {},
   "outputs": [],
   "source": [
    "foo = get_codedat('SWE')\n",
    "foo = [f[1:] for f in foo]\n",
    "plt.imshow(np.transpose(foo),cmap='hot',aspect='auto');"
   ]
  },
  {
   "cell_type": "code",
   "execution_count": null,
   "metadata": {},
   "outputs": [],
   "source": [
    "print(\"number of countries\",len(countrycodes))\n",
    "max_rows=21\n",
    "max_cols=8\n",
    "fig, axes = plt.subplots(nrows=max_rows, ncols=max_cols, figsize=(20,40))\n",
    "for idx, countrycode  in enumerate(countrycodes):\n",
    "    foo = get_codedat(countrycode)\n",
    "    foo = [f[1:] for f in foo]\n",
    "    row = idx // max_cols\n",
    "    col = idx % max_cols\n",
    "    axes[row, col].axis(\"off\")\n",
    "    axes[row, col].imshow(np.transpose(foo),cmap='hot',aspect='auto',interpolation='none');\n",
    "for idx in range(len(countrycodes),max_rows*max_cols):\n",
    "    row = idx // max_cols\n",
    "    col = idx % max_cols\n",
    "    axes[row, col].axis(\"off\")\n",
    "plt.subplots_adjust(wspace=.05, hspace=.05)\n",
    "plt.show()"
   ]
  },
  {
   "cell_type": "code",
   "execution_count": null,
   "metadata": {},
   "outputs": [],
   "source": [
    "# print country data and corresponding JHU confirmed cases if available on same timescale\n",
    "# almost finished\n",
    "print(\"number of countries\",len(countrycodes))\n",
    "max_rows=21\n",
    "max_cols=8\n",
    "fig, axes = plt.subplots(nrows=max_rows, ncols=max_cols, figsize=(20,40))\n",
    "for idx, countrycode  in enumerate(countrycodes):\n",
    "    foo = get_codedat(countrycode)\n",
    "    foo = [f[1:] for f in foo]\n",
    "    \n",
    "    countrynames = [dd['CountryName'] for dd in oxdat if dd['CountryCode']==countrycode]\n",
    "    countryname = countrynames[0]\n",
    "    row = idx // max_cols\n",
    "    col = idx % max_cols\n",
    "    axes[row, col].axis(\"off\")\n",
    "    axes[row, col].imshow(np.transpose(foo),cmap='hot',aspect='auto',interpolation='none')\n",
    "    plotCountry(countryname, datatype='confirmed', fittype=None,ax=axes[row, col],symbol='.',\n",
    "                   firstdate='01/01/20',lastdate='05/21/20',xxx=range(len(foo[0])))\n",
    "for idx in range(len(countrycodes),max_rows*max_cols):\n",
    "    row = idx // max_cols\n",
    "    col = idx % max_cols\n",
    "    axes[row, col].axis(\"off\")\n",
    "plt.subplots_adjust(wspace=.05, hspace=.05)\n",
    "plt.show()"
   ]
  },
  {
   "cell_type": "code",
   "execution_count": null,
   "metadata": {},
   "outputs": [],
   "source": [
    "foo = get_codedat('FRA')\n",
    "fmt = '%Y%m%d'\n",
    "\n",
    "locator = mdates.MonthLocator()\n",
    "formatter= mdates.ConciseDateFormatter(locator)\n",
    "xx =[datetime.datetime.strptime(dd[0],fmt) for dd in foo]\n",
    "foo = [f[1:] for f in foo]\n",
    "\n",
    "register_matplotlib_converters() # pandas made me do it\n",
    "fig,ax = plt.subplots(1,1)\n",
    "ax.imshow(np.transpose(foo),cmap='hot',aspect='auto');\n",
    "ax.xaxis.set_major_formatter(formatter)\n",
    "ax.xaxis.set_major_locator(locator)\n",
    "for tick in ax.get_xticklabels():\n",
    "    tick.set_rotation(40)\n",
    "\n",
    "plt.show()"
   ]
  },
  {
   "cell_type": "code",
   "execution_count": null,
   "metadata": {},
   "outputs": [],
   "source": []
  },
  {
   "cell_type": "code",
   "execution_count": null,
   "metadata": {},
   "outputs": [],
   "source": []
  }
 ],
 "metadata": {
  "kernelspec": {
   "display_name": "Python3",
   "language": "python",
   "name": "python3"
  },
  "language_info": {
   "codemirror_mode": {
    "name": "ipython",
    "version": 3
   },
   "file_extension": ".py",
   "mimetype": "text/x-python",
   "name": "python",
   "nbconvert_exporter": "python",
   "pygments_lexer": "ipython3",
   "version": "3.7.2"
  },
  "toc": {
   "nav_menu": {},
   "number_sections": true,
   "sideBar": true,
   "skip_h1_title": false,
   "title_cell": "Table of Contents",
   "title_sidebar": "Contents",
   "toc_cell": false,
   "toc_position": {},
   "toc_section_display": true,
   "toc_window_display": false
  }
 },
 "nbformat": 4,
 "nbformat_minor": 2
}
