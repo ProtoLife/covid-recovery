{
 "cells": [
  {
   "cell_type": "code",
   "execution_count": null,
   "metadata": {},
   "outputs": [],
   "source": [
    "import numpy as np\n",
    "import csv\n",
    "import itertools\n",
    "import matplotlib\n",
    "%matplotlib inline\n",
    "import seaborn as sb\n",
    "from matplotlib import pyplot as plt\n",
    "from cycler import cycler\n",
    "import datetime\n",
    "import matplotlib.dates as mdates\n",
    "from pandas.plotting import register_matplotlib_converters\n",
    "register_matplotlib_converters()\n",
    "import pwlf\n"
   ]
  },
  {
   "cell_type": "code",
   "execution_count": null,
   "metadata": {},
   "outputs": [],
   "source": [
    "import sys\n",
    "from IPython.core.display import display, HTML\n",
    "display(HTML(\"<style>.container { width:100% !important; }</style>\"))"
   ]
  },
  {
   "cell_type": "code",
   "execution_count": null,
   "metadata": {},
   "outputs": [],
   "source": [
    "sys.executable\n"
   ]
  },
  {
   "cell_type": "code",
   "execution_count": null,
   "metadata": {},
   "outputs": [],
   "source": [
    "matplotlib.__version__"
   ]
  },
  {
   "cell_type": "code",
   "execution_count": null,
   "metadata": {},
   "outputs": [],
   "source": [
    "def Float(x):\n",
    "    try:\n",
    "        rtn = float(x)\n",
    "    except:\n",
    "        rtn = float('NaN')\n",
    "    return rtn\n",
    "\n"
   ]
  },
  {
   "cell_type": "markdown",
   "metadata": {},
   "source": [
    "## JHU data (new interface)"
   ]
  },
  {
   "cell_type": "code",
   "execution_count": null,
   "metadata": {},
   "outputs": [],
   "source": [
    "import jhu"
   ]
  },
  {
   "cell_type": "code",
   "execution_count": null,
   "metadata": {},
   "outputs": [],
   "source": [
    "import importlib\n",
    "importlib.reload(jhu)"
   ]
  },
  {
   "cell_type": "code",
   "execution_count": null,
   "metadata": {},
   "outputs": [],
   "source": [
    "dat = jhu.get_ave_data('Brazil',dataaccum='daily')"
   ]
  },
  {
   "cell_type": "code",
   "execution_count": null,
   "metadata": {},
   "outputs": [],
   "source": [
    "plt.step(dat['dates'],dat['Brazil'])"
   ]
  },
  {
   "cell_type": "markdown",
   "metadata": {},
   "source": [
    "## JHU data"
   ]
  },
  {
   "cell_type": "code",
   "execution_count": null,
   "metadata": {},
   "outputs": [],
   "source": [
    "country_Oxford_JHU = {}\n",
    "country_Oxford_JHU.update({('Cape Verde', ''):('Cabo Verde', '')})\n",
    "country_Oxford_JHU.update({('Aruba', ''):('Netherlands', 'Aruba')})\n",
    "country_Oxford_JHU.update({('Bermuda', ''):('United Kingdom', 'Bermuda')})\n",
    "country_Oxford_JHU.update({('Hong Kong', ''):('China', 'Hong Kong')})\n",
    "country_Oxford_JHU.update({('Czech Republic', ''):('Czechia', '')})\n",
    "country_Oxford_JHU.update({('China', ''):('China', 'Total')})          # split in database : sums to Total need to be done\n",
    "country_Oxford_JHU.update({('Slovak Republic', ''):('Slovakia', '')})\n",
    "country_Oxford_JHU.update({('Congo', ''):('Congo (Brazzaville)', '')}) # two Congos, this is Rep. of Congo, other is Democratic Republic of Congo\n",
    "country_Oxford_JHU.update({('Democratic Republic of Congo', ''):('Congo-Kinshasa','')})\n",
    "country_Oxford_JHU.update({('Solomon Islands', ''):('Solomon Islands', '')}) # Not present in JHU list: sovereign state poln 650000\n",
    "country_Oxford_JHU.update({('South Korea', ''):('Korea, South', '')})\n",
    "country_Oxford_JHU.update({('Turkmenistan', ''):('Turkmenistan', '')}) # Not present in JHU list: 5.6M people in Central Asia\n",
    "country_Oxford_JHU.update({('Myanmar', ''):('Thailand', '')})\n",
    "country_Oxford_JHU.update({('United States', '') : ('US', '')})\n",
    "country_Oxford_JHU.update({('Australia', ''):('Australia', 'Total')})  # split in database : sums to Total need to be done\n",
    "country_Oxford_JHU.update({('Puerto Rico', ''):('United States','Puerto Rico')})   # not found in inspection of JHU list, territory of US\n",
    "country_Oxford_JHU.update({('Palestine', ''):('West Bank and Gaza', '')})\n",
    "country_Oxford_JHU.update({('Timor', ''):('Timor-Leste', '')})         # check two Timors, East Timor\n",
    "country_Oxford_JHU.update({('Canada', ''):('Canada', 'Total')})        # split in database : sums to Total need to be done\n",
    "country_Oxford_JHU.update({('Greenland', ''):('Denmark', 'Greenland')})\n",
    "country_Oxford_JHU.update({('Macao', ''):('China', 'Macau')})\n",
    "country_Oxford_JHU.update({('Kyrgyz Republic', ''):('Kyrgyzstan', '')})\n",
    "country_Oxford_JHU.update({('Taiwan', ''):('Taiwan*', '')})\n",
    "country_Oxford_JHU.update({('Guam', ''):('United States','Guam')})     # not found in inspection of JHU list, territory of US"
   ]
  },
  {
   "cell_type": "code",
   "execution_count": null,
   "metadata": {},
   "outputs": [],
   "source": [
    "def plotCountry(country_s, datatype='confirmed', dataaccum='cumulative', fittype=None, ax=None, ax2=False,\n",
    "                symbol='o--', step=None, firstdate=None, lastdate=None, intdates=False, linecolor=None):\n",
    "    \"\"\" plots selected data for a list of countries or single country\n",
    "        datatypes allowed are 'confirmed','deaths','recovered'\n",
    "        dataaccum specifies either 'cumulative' or 'daily' or averaged over 7 days 'cum_av_weekly' or 'daily_av_weekly'\n",
    "        fittypes allowed are currently None, 'piecewise-linear'\n",
    "        ax graphical axes to use for plot: default None -> new axes\n",
    "        ax2 true if second axes as twin axes for overlay plotting\n",
    "        symbol to use for plotting\n",
    "        step whether to use step plotting instead of points: default None -> points\n",
    "        firstdate to plot (maybe before first date in data - pad with 0)\n",
    "        lastdate to plot (maybe after last date in data - pad with 0)\n",
    "        intdates : whether to plot dates as integers for compatibility (default as dates)\n",
    "        linecolor is default color to use for a single trace, instead of listed set)\n",
    "    \"\"\"\n",
    "    popkeyed = jhu.get_ave_data(country_s, datatype=datatype, dataaccum=dataaccum,\n",
    "                         firstdate=None, lastdate=None)\n",
    "    countries = [x for x in popkeyed if x != 'dates']\n",
    "    xx = popkeyed['dates']\n",
    "\n",
    "    \n",
    "    # print('len xx',len(xx))\n",
    "    if fittype == 'piecewise-linear':\n",
    "        xxi = [Float((x-firstdate_d).days) for x in xx ]\n",
    "        # print(xxi)\n",
    "        \n",
    "    # locator = mdates.MonthLocator()\n",
    "    locator = mdates.AutoDateLocator(minticks=5, maxticks=13)\n",
    "    formatter= mdates.ConciseDateFormatter(locator)\n",
    "    \n",
    "    if not ax:\n",
    "        fig,ax = plt.subplots(1,1,figsize=(20,10)) \n",
    "        ax2 = ax\n",
    "    elif ax2:\n",
    "        ax2 = ax.twinx()\n",
    "    else:\n",
    "        ax2 = ax\n",
    "    colors =  ['k', 'b', 'c', 'm', 'y', 'g', 'r']\n",
    "        \n",
    "    i = 0\n",
    "    j = len(countries)\n",
    "    for country in countries:\n",
    "        yy = popkeyed[country]\n",
    "        if intdates:\n",
    "            xx = range(len(xx))\n",
    "        if step:\n",
    "            ax2.step(xx,yy,label = country)\n",
    "        else:\n",
    "            # print(ax,ax2)\n",
    "            # ax2.set_ylim(ymax,0)\n",
    "            if linecolor:\n",
    "                color = linecolor\n",
    "            else:\n",
    "                color = colors[i]\n",
    "            ax2.plot(xx, yy, symbol, color = color, alpha=0.8, label = country)\n",
    "\n",
    "        if fittype == 'piecewise-linear':    \n",
    "            # initialize piecewise linear fit with your x and y data\n",
    "            yyf = [Float(y) for y in yy]\n",
    "            my_pwlf = pwlf.PiecewiseLinFit(xxi, yyf)\n",
    "            # fit the data for four line segments\n",
    "            res = my_pwlf.fit(4)\n",
    "            # predict for the determined points\n",
    "            xHat = np.linspace(min(xxi), max(xxi), num=len(xx))\n",
    "            # print(len(xHat),len(xxi))\n",
    "            yHat = my_pwlf.predict(xHat)\n",
    "            ax2.plot(xx, yHat, color = colors[i], alpha=0.5, label = country+' fit')\n",
    "        i = i+1\n",
    "\n",
    "    if j==0:\n",
    "        ax.axis(\"off\")\n",
    "    else:\n",
    "        if j > 1:\n",
    "            plt.legend(loc=\"upper left\")\n",
    "            plt.title('countries '+datatype+' '+dataaccum)\n",
    "        else:\n",
    "            plt.title(country+' '+datatype+' '+dataaccum)  # +' '+datatype)\n",
    "        if not intdates:\n",
    "            ax2.xaxis.set_major_formatter(formatter)\n",
    "            ax2.xaxis.set_major_locator(locator)\n",
    "            for tick in ax2.get_xticklabels():\n",
    "                tick.set_rotation(40)\n",
    "\n"
   ]
  },
  {
   "cell_type": "code",
   "execution_count": null,
   "metadata": {
    "scrolled": false
   },
   "outputs": [],
   "source": [
    "plotCountry(['Italy','Turkey','Germany','Russia','Brazil','United Kingdom','Spain'],'confirmed',\n",
    "            'cumulative',firstdate='01/01/20',lastdate='05/22/20')"
   ]
  },
  {
   "cell_type": "code",
   "execution_count": null,
   "metadata": {
    "scrolled": false
   },
   "outputs": [],
   "source": [
    "plotCountry(['Italy','Turkey','Germany','Russia','Brazil','United Kingdom','Spain'],'confirmed',\n",
    "            dataaccum='daily_av_weekly',firstdate='01/01/20',lastdate='05/22/20')"
   ]
  },
  {
   "cell_type": "code",
   "execution_count": null,
   "metadata": {
    "scrolled": false
   },
   "outputs": [],
   "source": [
    "plotCountry(['Italy','Turkey','Germany','Russia','Brazil','United Kingdom','Spain'],'confirmed','daily',\n",
    "            firstdate='01/01/20',lastdate='05/22/20')"
   ]
  },
  {
   "cell_type": "code",
   "execution_count": null,
   "metadata": {
    "scrolled": false
   },
   "outputs": [],
   "source": [
    "plotCountry(['Italy','Turkey','Germany','Russia','Brazil','United Kingdom','Spain'],'confirmed','daily_av_weekly',firstdate='01/01/20',lastdate='05/22/20')"
   ]
  },
  {
   "cell_type": "code",
   "execution_count": null,
   "metadata": {},
   "outputs": [],
   "source": [
    "plotCountry(('Australia','New South Wales'),'confirmed','cumulative',None)\n",
    "#plotCountry(('Austria',''))"
   ]
  },
  {
   "cell_type": "code",
   "execution_count": null,
   "metadata": {},
   "outputs": [],
   "source": [
    "plotCountry('World','deaths')"
   ]
  },
  {
   "cell_type": "code",
   "execution_count": null,
   "metadata": {
    "scrolled": false
   },
   "outputs": [],
   "source": [
    "plotCountry('World','deaths')\n",
    "plotCountry('World','confirmed')\n",
    "plotCountry('World','recovered')"
   ]
  },
  {
   "cell_type": "code",
   "execution_count": null,
   "metadata": {},
   "outputs": [],
   "source": [
    "plotCountry(('Germany','Germany1'),'deaths')"
   ]
  },
  {
   "cell_type": "code",
   "execution_count": null,
   "metadata": {},
   "outputs": [],
   "source": [
    "plotCountry('Germany','deaths',step='step')"
   ]
  },
  {
   "cell_type": "code",
   "execution_count": null,
   "metadata": {},
   "outputs": [],
   "source": [
    "plotCountry(('Germany',''),'deaths','daily_av_weekly',step='step')"
   ]
  },
  {
   "cell_type": "code",
   "execution_count": null,
   "metadata": {},
   "outputs": [],
   "source": [
    "plotCountry('Bolivia','deaths','daily',step='step')"
   ]
  },
  {
   "cell_type": "code",
   "execution_count": null,
   "metadata": {},
   "outputs": [],
   "source": [
    "plotCountry('Bolivia','deaths','daily_av_weekly',step='step')"
   ]
  },
  {
   "cell_type": "code",
   "execution_count": null,
   "metadata": {},
   "outputs": [],
   "source": [
    "print(\"number of countries\",len(countries_jhu))\n",
    "max_rows=36\n",
    "max_cols=8\n",
    "fig, axes = plt.subplots(nrows=max_rows, ncols=max_cols, figsize=(30,90))\n",
    "for idx, country  in enumerate(countries_jhu):\n",
    "    row = idx // max_cols\n",
    "    col = idx % max_cols\n",
    "    axes[row, col].axis(\"off\")\n",
    "    plotCountry(country, datatype='confirmed', fittype=None,ax=axes[row, col],ax2=True,symbol='.',\n",
    "                   firstdate='01/01/20',lastdate='05/21/20')\n",
    "for idx in range(len(countries_jhu),max_rows*max_cols):\n",
    "    row = idx // max_cols\n",
    "    col = idx % max_cols\n",
    "    axes[row, col].axis(\"off\")\n",
    "plt.subplots_adjust(wspace=.5, hspace=.5)\n",
    "plt.show()"
   ]
  },
  {
   "cell_type": "code",
   "execution_count": null,
   "metadata": {},
   "outputs": [],
   "source": [
    "print(\"number of countries\",len(countries_jhu))\n",
    "max_rows=36\n",
    "max_cols=8\n",
    "fig, axes = plt.subplots(nrows=max_rows, ncols=max_cols, figsize=(30,90))\n",
    "for idx, country  in enumerate(countries_jhu):\n",
    "    row = idx // max_cols\n",
    "    col = idx % max_cols\n",
    "    axes[row, col].axis(\"off\")\n",
    "    plotCountry(country, datatype='deaths', fittype=None,ax=axes[row, col],ax2=True,symbol='.')\n",
    "for idx in range(len(countries_jhu),max_rows*max_cols):\n",
    "    row = idx // max_cols\n",
    "    col = idx % max_cols\n",
    "    axes[row, col].axis(\"off\")\n",
    "plt.subplots_adjust(wspace=.5, hspace=.5)\n",
    "plt.show()"
   ]
  },
  {
   "cell_type": "code",
   "execution_count": null,
   "metadata": {},
   "outputs": [],
   "source": [
    "print(\"number of countries\",len(countries_jhu))\n",
    "max_rows=36\n",
    "max_cols=8\n",
    "fig, axes = plt.subplots(nrows=max_rows, ncols=max_cols, figsize=(30,90))\n",
    "for idx, country  in enumerate(countries_jhu):\n",
    "    row = idx // max_cols\n",
    "    col = idx % max_cols\n",
    "    axes[row, col].axis(\"off\")\n",
    "    plotCountry(country, datatype='deaths', dataaccum='cum_av_weekly',fittype=None,ax=axes[row, col],ax2=True,symbol='.')\n",
    "for idx in range(len(countries_jhu),max_rows*max_cols):\n",
    "    row = idx // max_cols\n",
    "    col = idx % max_cols\n",
    "    axes[row, col].axis(\"off\")\n",
    "plt.subplots_adjust(wspace=.5, hspace=.5)\n",
    "plt.show()"
   ]
  },
  {
   "cell_type": "code",
   "execution_count": null,
   "metadata": {},
   "outputs": [],
   "source": [
    "print(\"number of countries\",len(countries_jhu))\n",
    "max_rows=36\n",
    "max_cols=8\n",
    "fig, axes = plt.subplots(nrows=max_rows, ncols=max_cols, figsize=(30,90))\n",
    "for idx, country  in enumerate(countries_jhu):\n",
    "    row = idx // max_cols\n",
    "    col = idx % max_cols\n",
    "    axes[row, col].axis(\"off\")\n",
    "    plotCountry(country, datatype='deaths', dataaccum='daily',fittype=None,ax=axes[row, col],ax2=True,symbol='.')\n",
    "for idx in range(len(countries_jhu),max_rows*max_cols):\n",
    "    row = idx // max_cols\n",
    "    col = idx % max_cols\n",
    "    axes[row, col].axis(\"off\")\n",
    "plt.subplots_adjust(wspace=.5, hspace=.5)\n",
    "plt.show()"
   ]
  },
  {
   "cell_type": "code",
   "execution_count": null,
   "metadata": {},
   "outputs": [],
   "source": [
    "print(\"number of countries\",len(countries_jhu))\n",
    "max_rows=36\n",
    "max_cols=8\n",
    "fig, axes = plt.subplots(nrows=max_rows, ncols=max_cols, figsize=(30,90))\n",
    "for idx, country  in enumerate(countries_jhu):\n",
    "    row = idx // max_cols\n",
    "    col = idx % max_cols\n",
    "    axes[row, col].axis(\"off\")\n",
    "    plotCountry(country, datatype='deaths', dataaccum='daily_av_weekly',fittype=None,ax=axes[row, col],ax2=True,symbol='.')\n",
    "for idx in range(len(countries_jhu),max_rows*max_cols):\n",
    "    row = idx // max_cols\n",
    "    col = idx % max_cols\n",
    "    axes[row, col].axis(\"off\")\n",
    "plt.subplots_adjust(wspace=.5, hspace=.5)\n",
    "plt.show()"
   ]
  },
  {
   "cell_type": "markdown",
   "metadata": {},
   "source": [
    "### Check daily figures with owid data"
   ]
  },
  {
   "cell_type": "code",
   "execution_count": null,
   "metadata": {},
   "outputs": [],
   "source": [
    "def plotDaily(country_s, datatype):\n",
    "    countries = []\n",
    "    if isinstance(country_s,list):\n",
    "        for country in country_s:\n",
    "            if isinstance(country,str):\n",
    "                country = (country,'')\n",
    "            countries.append(country)\n",
    "    elif isinstance(country_s,str):\n",
    "        countries = [(country_s,'')]\n",
    "    else:\n",
    "        countries = [country_s]\n",
    "            \n",
    "    popkeyed = covid_ts[datatype]\n",
    "    dates = popkeyed['dates']\n",
    "    fmt = '%m/%d/%y'\n",
    "    xx = [datetime.datetime.strptime(dd,fmt) for dd in dates ]\n",
    "    day0 = datetime.datetime.strptime(dates[0],fmt)\n",
    "    xxi = [Float((datetime.datetime.strptime(dd,fmt)-day0).days) for dd in dates ]\n",
    "    # print(xxi)\n",
    "    # locator = mdates.MonthLocator()\n",
    "    locator = mdates.AutoDateLocator(minticks=5, maxticks=13)\n",
    "    formatter= mdates.ConciseDateFormatter(locator)\n",
    "    \n",
    "    fig,ax = plt.subplots(1,1,figsize=(20,10))      \n",
    "    colors =  ['k', 'b', 'c', 'm', 'y', 'g', 'r']\n",
    "    i = 0\n",
    "    for country in countries:\n",
    "            yy = popkeyed[country]\n",
    "            yyf = [Float(y) for y in yy]\n",
    "            yyd = [0.]*len(yyf)\n",
    "            yyd[0] = 0.\n",
    "            for j in range(1,len(yyf)):\n",
    "                yyd[j] = yyf[j]-yyf[j-1]\n",
    "            ax.step(xx,yyd,label = country[0])\n",
    "            # ax.plot(xx, yyd, color = colors[i], alpha=1, label = country[0])\n",
    "\n",
    "            i = i+1\n",
    "\n",
    "    #ax.plot(xx, yy, 'o--', color='black', alpha=0.3)\n",
    "    \n",
    "    \n",
    "    ax.xaxis.set_major_formatter(formatter)\n",
    "    ax.xaxis.set_major_locator(locator)\n",
    "    for tick in ax.get_xticklabels():\n",
    "        tick.set_rotation(40)\n",
    "    if len(countries) == 1:\n",
    "        plt.title(country[0]+'-'+country[1]+' '+datatype)\n",
    "    else:\n",
    "        plt.legend(loc=\"upper left\")\n",
    "        plt.title('countries '+datatype)"
   ]
  },
  {
   "cell_type": "code",
   "execution_count": null,
   "metadata": {},
   "outputs": [],
   "source": [
    "plotDaily(['Italy','Turkey','Germany','Russia','Brazil','United Kingdom','Spain'],'deaths')"
   ]
  },
  {
   "cell_type": "code",
   "execution_count": null,
   "metadata": {},
   "outputs": [],
   "source": [
    "plotDaily(['Germany'],'deaths')"
   ]
  },
  {
   "cell_type": "markdown",
   "metadata": {},
   "source": [
    "## OWID data"
   ]
  },
  {
   "cell_type": "code",
   "execution_count": null,
   "metadata": {},
   "outputs": [],
   "source": [
    "owid_file = '../covid-19-owid/public/data/owid-covid-data.csv'\n",
    "dat = []\n",
    "with open(owid_file,'r',newline='') as fp:\n",
    "    myreader = csv.DictReader(fp,delimiter=',')\n",
    "#    rows = list(itertools.islice(myreader,4))\n",
    "    for row in myreader:\n",
    "        dat.append(row)"
   ]
  },
  {
   "cell_type": "code",
   "execution_count": null,
   "metadata": {},
   "outputs": [],
   "source": [
    "dat[0].keys()"
   ]
  },
  {
   "cell_type": "code",
   "execution_count": null,
   "metadata": {},
   "outputs": [],
   "source": [
    "set([(d['iso_code'],d['location']) for d in dat])"
   ]
  },
  {
   "cell_type": "code",
   "execution_count": null,
   "metadata": {},
   "outputs": [],
   "source": [
    "countries = list(set([dd['iso_code'] for dd in dat]))"
   ]
  },
  {
   "cell_type": "code",
   "execution_count": null,
   "metadata": {},
   "outputs": [],
   "source": [
    "deathUSA = [(dd['date'],dd['new_deaths']) for dd in dat if dd['iso_code']=='USA']\n",
    "\n",
    "fmt = '%Y-%m-%d'\n",
    "xx = [datetime.datetime.strptime(dd[0],fmt) for dd in deathUSA if int(dd[1])>0 ]\n",
    "yy = [int(dd[1]) for dd in deathUSA if int(dd[1])>0 ]\n",
    "\n",
    "locator = mdates.MonthLocator()\n",
    "formatter= mdates.ConciseDateFormatter(locator)\n",
    "\n",
    "fig,ax = plt.subplots(1,1)\n",
    "ax.step(xx,yy)\n",
    "ax.xaxis.set_major_formatter(formatter)\n",
    "ax.xaxis.set_major_locator(locator)\n",
    "for tick in ax.get_xticklabels():\n",
    "    tick.set_rotation(40)\n",
    "plt.title('USA new deaths')\n",
    "plt.show()"
   ]
  },
  {
   "cell_type": "code",
   "execution_count": null,
   "metadata": {},
   "outputs": [],
   "source": [
    "def plotTarget(iso,targ='new_deaths'):\n",
    "    datt = [(dd['date'],dd[targ]) for dd in dat if dd['iso_code']==iso]\n",
    "    deathstr = 'death'+iso\n",
    "    fmt = '%Y-%m-%d'\n",
    "    \n",
    "    start=False\n",
    "    xx = [] ; yy = []\n",
    "    for i in range(len(datt)):\n",
    "        dd = datt[i]\n",
    "        if float(dd[1]) == 0:\n",
    "            if start==False:\n",
    "                continue\n",
    "            else:\n",
    "                pass\n",
    "        else:\n",
    "            if start==False:\n",
    "                start=True\n",
    "        if start:\n",
    "            xx.append(datetime.datetime.strptime(dd[0],fmt))\n",
    "            yy.append(float(dd[1]))\n",
    "        \n",
    "#    xx = [datetime.datetime.strptime(dd[0],fmt) for dd in datt if float(dd[1])>0 ]\n",
    "#    yy = [float(dd[1]) for dd in datt if int(dd[1])>0 ]\n",
    "\n",
    "    locator = mdates.MonthLocator()\n",
    "    formatter= mdates.ConciseDateFormatter(locator)\n",
    "\n",
    "    register_matplotlib_converters() # pandas made me do it\n",
    "    fig,ax = plt.subplots(1,1,figsize=(20,10))\n",
    "    ax.step(xx,yy)\n",
    "    ax.xaxis.set_major_formatter(formatter)\n",
    "    ax.xaxis.set_major_locator(locator)\n",
    "    for tick in ax.get_xticklabels():\n",
    "        tick.set_rotation(40)\n",
    "        plt.title(iso+' '+targ)\n",
    "    plt.show()"
   ]
  },
  {
   "cell_type": "code",
   "execution_count": null,
   "metadata": {},
   "outputs": [],
   "source": [
    "plotTarget('DEU')"
   ]
  },
  {
   "cell_type": "code",
   "execution_count": null,
   "metadata": {},
   "outputs": [],
   "source": [
    "plotTarget('DEU','new_cases')"
   ]
  },
  {
   "cell_type": "code",
   "execution_count": null,
   "metadata": {
    "scrolled": false
   },
   "outputs": [],
   "source": [
    "plotTarget('USA','new_cases')"
   ]
  },
  {
   "cell_type": "code",
   "execution_count": null,
   "metadata": {},
   "outputs": [],
   "source": [
    "plotTarget('FRA','new_cases')"
   ]
  },
  {
   "cell_type": "code",
   "execution_count": null,
   "metadata": {},
   "outputs": [],
   "source": [
    "plotTarget('SWE','new_cases')"
   ]
  },
  {
   "cell_type": "code",
   "execution_count": null,
   "metadata": {},
   "outputs": [],
   "source": [
    "plotTarget('SWE','new_deaths')"
   ]
  },
  {
   "cell_type": "code",
   "execution_count": null,
   "metadata": {},
   "outputs": [],
   "source": [
    "plotTarget('BRA','new_deaths')"
   ]
  },
  {
   "cell_type": "markdown",
   "metadata": {},
   "source": [
    "## Oxford data"
   ]
  },
  {
   "cell_type": "code",
   "execution_count": null,
   "metadata": {},
   "outputs": [],
   "source": [
    "owid_file = '../covid-policy-tracker/data/OxCGRT_latest.csv'\n",
    "oxdat = []\n",
    "with open(owid_file,'r',newline='') as fp:\n",
    "    myreader = csv.DictReader(fp,delimiter=',')\n",
    "#    rows = list(itertools.islice(myreader,4))\n",
    "    for row in myreader:\n",
    "        oxdat.append(row)\n",
    "    "
   ]
  },
  {
   "cell_type": "code",
   "execution_count": null,
   "metadata": {},
   "outputs": [],
   "source": [
    "oxdat[0].keys()"
   ]
  },
  {
   "cell_type": "code",
   "execution_count": null,
   "metadata": {},
   "outputs": [],
   "source": [
    "countries = list(set([(dd['CountryName'],dd['CountryCode']) for dd in oxdat]))"
   ]
  },
  {
   "cell_type": "code",
   "execution_count": null,
   "metadata": {},
   "outputs": [],
   "source": [
    "[countries[i] for i in range(10)]"
   ]
  },
  {
   "cell_type": "code",
   "execution_count": null,
   "metadata": {},
   "outputs": [],
   "source": [
    "dates = np.sort(list([dd['Date'] for dd in oxdat]))\n",
    "dates_uniq = np.unique(dates)\n",
    "dates_uniq"
   ]
  },
  {
   "cell_type": "code",
   "execution_count": null,
   "metadata": {},
   "outputs": [],
   "source": []
  },
  {
   "cell_type": "code",
   "execution_count": null,
   "metadata": {},
   "outputs": [],
   "source": [
    "foo = [(dd['Date'],dd['C1_School closing'],dd['C1_Flag']) for dd in oxdat if dd['CountryCode']=='USA']"
   ]
  },
  {
   "cell_type": "code",
   "execution_count": null,
   "metadata": {},
   "outputs": [],
   "source": [
    "xx = foo[0:10]\n",
    "print(xx)\n",
    "xx=foo[-10:]\n",
    "print(xx)"
   ]
  },
  {
   "cell_type": "code",
   "execution_count": null,
   "metadata": {},
   "outputs": [],
   "source": [
    "foo = [(dd['Date'],dd['C1_School closing'],dd['C1_Flag']) \n",
    "       for dd in oxdat if dd['CountryCode']=='USA']\n",
    "\n",
    "fmt = '%Y%m%d'\n",
    "first = 31+22-1\n",
    "xx = [datetime.datetime.strptime(dd[0],fmt) for dd in foo][first:]\n",
    "yy = []\n",
    "for dd in foo[first:]:\n",
    "    try:\n",
    "        yy.append(float(dd[1]))\n",
    "    except:\n",
    "        yy.append(float('NaN'))\n",
    "\n",
    "\n",
    "locator = mdates.MonthLocator()\n",
    "formatter= mdates.ConciseDateFormatter(locator)\n",
    "\n",
    "fig,ax = plt.subplots(1,1)\n",
    "ax.step(xx,yy)\n",
    "ax.xaxis.set_major_formatter(formatter)\n",
    "ax.xaxis.set_major_locator(locator)\n",
    "for tick in ax.get_xticklabels():\n",
    "    tick.set_rotation(40)\n",
    "plt.title('USA')\n",
    "plt.show()"
   ]
  },
  {
   "cell_type": "markdown",
   "metadata": {},
   "source": [
    "Note:  no wildcard data:"
   ]
  },
  {
   "cell_type": "code",
   "execution_count": null,
   "metadata": {},
   "outputs": [],
   "source": [
    "foo = [(dd['Date'],dd['CountryCode'],dd['M1_Wildcard']) \n",
    "       for dd in oxdat if dd['M1_Wildcard'] != '']\n",
    "\n"
   ]
  },
  {
   "cell_type": "code",
   "execution_count": null,
   "metadata": {},
   "outputs": [],
   "source": [
    "foo\n"
   ]
  },
  {
   "cell_type": "markdown",
   "metadata": {},
   "source": [
    "Notes:  \n",
    "* first version of `datcodes` leaves out all flags (general vs. targeted implementation)\n",
    "* 2nd version leaves out all variables measured in dollars"
   ]
  },
  {
   "cell_type": "code",
   "execution_count": null,
   "metadata": {},
   "outputs": [],
   "source": [
    "datcodes = ['C1_School closing', 'C2_Workplace closing', \n",
    "            'C3_Cancel public events', 'C4_Restrictions on gatherings', \n",
    "            'C5_Close public transport', 'C6_Stay at home requirements', \n",
    "            'C7_Restrictions on internal movement', 'C8_International travel controls', \n",
    "            'E1_Income support', 'E2_Debt/contract relief', 'E3_Fiscal measures', \n",
    "            'E4_International support', 'H1_Public information campaigns', \n",
    "            'H2_Testing policy', 'H3_Contact tracing', \n",
    "            'H4_Emergency investment in healthcare', 'H5_Investment in vaccines']\n",
    "\n",
    "datcodes = ['C1_School closing', 'C2_Workplace closing', \n",
    "            'C3_Cancel public events', 'C4_Restrictions on gatherings', \n",
    "            'C5_Close public transport', 'C6_Stay at home requirements', \n",
    "            'C7_Restrictions on internal movement', 'C8_International travel controls', \n",
    "            'E1_Income support', 'E2_Debt/contract relief', \n",
    "            'H1_Public information campaigns', \n",
    "            'H2_Testing policy', 'H3_Contact tracing']\n",
    "\n"
   ]
  },
  {
   "cell_type": "code",
   "execution_count": null,
   "metadata": {},
   "outputs": [],
   "source": [
    "countrycodes = list(set([dd['CountryCode'] for dd in oxdat if Float(dd['ConfirmedCases'])>10000]))\n",
    "len(countrycodes)"
   ]
  },
  {
   "cell_type": "code",
   "execution_count": null,
   "metadata": {},
   "outputs": [],
   "source": [
    "def Float(x):\n",
    "    try:\n",
    "        rtn = float(x)\n",
    "    except:\n",
    "        rtn = float('NaN')\n",
    "    return rtn\n"
   ]
  },
  {
   "cell_type": "code",
   "execution_count": null,
   "metadata": {},
   "outputs": [],
   "source": [
    "[(i,d) for i,d in enumerate(datcodes)]"
   ]
  },
  {
   "cell_type": "code",
   "execution_count": null,
   "metadata": {},
   "outputs": [],
   "source": [
    "def get_codedat(countrycode='USA'):\n",
    "    codedat = []\n",
    "    foo = [[dd['Date']]+ [Float(dd[c]) for c in datcodes]\n",
    "           for dd in oxdat if dd['CountryCode']==countrycode]\n",
    "    return foo\n",
    "    \n"
   ]
  },
  {
   "cell_type": "code",
   "execution_count": null,
   "metadata": {},
   "outputs": [],
   "source": [
    "get_codedat()"
   ]
  },
  {
   "cell_type": "markdown",
   "metadata": {},
   "source": [
    "### Response policy maps\n",
    "\n",
    "* time along x axis \n",
    "* NaN same color as max value (typically 4)\n",
    "* 12 rows for presence of 12 factors.  cf oxford codebook.md in ../covid-policy-tracker/documentation/."
   ]
  },
  {
   "cell_type": "code",
   "execution_count": null,
   "metadata": {},
   "outputs": [],
   "source": [
    "# for comaptibility with JHU data set first elt as 22nd Feb 2020\n",
    "# assuming Oxford records start with Jan 1st 2020\n",
    "first = 31+22-1"
   ]
  },
  {
   "cell_type": "code",
   "execution_count": null,
   "metadata": {},
   "outputs": [],
   "source": [
    "foo = get_codedat('DEU')\n",
    "foo = [f[1:] for f in foo]\n",
    "plt.imshow(np.transpose(foo),cmap='hot',aspect='auto');\n",
    "plt.title('DEU')\n"
   ]
  },
  {
   "cell_type": "code",
   "execution_count": null,
   "metadata": {},
   "outputs": [],
   "source": [
    "foo = get_codedat('USA')[first:]\n",
    "foo = [f[1:] for f in foo]\n",
    "plt.imshow(np.transpose(foo),cmap='hot',aspect='auto');\n",
    "plt.title(\"USA\")"
   ]
  },
  {
   "cell_type": "code",
   "execution_count": null,
   "metadata": {},
   "outputs": [],
   "source": [
    "foo = get_codedat('KOR')\n",
    "foo = [f[1:] for f in foo]\n",
    "plt.imshow(np.transpose(foo),cmap='hot',aspect='auto');"
   ]
  },
  {
   "cell_type": "code",
   "execution_count": null,
   "metadata": {},
   "outputs": [],
   "source": [
    "foo = get_codedat('SWE')\n",
    "foo = [f[1:] for f in foo]\n",
    "plt.imshow(np.transpose(foo),cmap='hot',aspect='auto');"
   ]
  },
  {
   "cell_type": "code",
   "execution_count": null,
   "metadata": {},
   "outputs": [],
   "source": [
    "print(\"number of countries\",len(countrycodes))\n",
    "max_rows=22\n",
    "max_cols=8\n",
    "fig, axes = plt.subplots(nrows=max_rows, ncols=max_cols, figsize=(20,40))\n",
    "for idx, countrycode  in enumerate(countrycodes):\n",
    "    foo = get_codedat(countrycode)\n",
    "    foo = [f[1:] for f in foo]\n",
    "    row = idx // max_cols\n",
    "    col = idx % max_cols\n",
    "    axes[row, col].axis(\"off\")\n",
    "    axes[row, col].imshow(np.transpose(foo),cmap='hot',aspect='auto',interpolation='none');\n",
    "for idx in range(len(countrycodes),max_rows*max_cols):\n",
    "    row = idx // max_cols\n",
    "    col = idx % max_cols\n",
    "    axes[row, col].axis(\"off\")\n",
    "plt.subplots_adjust(wspace=.05, hspace=.05)\n",
    "plt.show()"
   ]
  },
  {
   "cell_type": "code",
   "execution_count": null,
   "metadata": {},
   "outputs": [],
   "source": [
    "print(countrycodes)\n",
    "#e.g.\n",
    "countrycode = 'BOL'\n",
    "foo = get_codedat(countrycode)\n",
    "foo = [f[1:] for f in foo]\n",
    "countrynames = [dd['CountryName'] for dd in oxdat if dd['CountryCode']==countrycode]\n",
    "countryname = countrynames[0]\n",
    "print(countryname)"
   ]
  },
  {
   "cell_type": "code",
   "execution_count": null,
   "metadata": {},
   "outputs": [],
   "source": [
    "# aim here is to format x axis of imshow array as dates\n",
    "# for working implementation see https://stackoverflow.com/questions/52574000/plotting-an-image-with-x-axis-as-time\n",
    "# this commented out code does not work here\n",
    "foo = get_codedat('FRA')\n",
    "fmt = '%Y%m%d'\n",
    "\n",
    "locator = mdates.MonthLocator()    # need to change locator to convert integers to dates first\n",
    "formatter= mdates.ConciseDateFormatter(locator)\n",
    "xx =[datetime.datetime.strptime(dd[0],fmt) for dd in foo]\n",
    "# print(xx)\n",
    "foo = [f[1:] for f in foo]\n",
    "register_matplotlib_converters() # pandas made me do it\n",
    "fig,ax = plt.subplots(1,1,figsize=(10,10))\n",
    "# ax.xaxis_date()           # treats x axis as dates if start/finish date set appropriately\n",
    "# plt.xlim(xx[0],xx[-1])   # this version produces right date axis but no data shown\n",
    "# plt.xlim(0,(xx[-1]-xx[0]).days)  # this version keeps xaxis as integer -> errors\n",
    "ax.imshow(np.transpose(foo),cmap='hot',aspect='auto')  # \n",
    "# ax.xaxis.set_major_formatter(formatter)\n",
    "# ax.xaxis.set_major_locator(locator)\n",
    "# for tick in ax.get_xticklabels():\n",
    "#     tick.set_rotation(40)\n",
    "\n",
    "plt.show()"
   ]
  },
  {
   "cell_type": "code",
   "execution_count": null,
   "metadata": {},
   "outputs": [],
   "source": []
  },
  {
   "cell_type": "code",
   "execution_count": null,
   "metadata": {},
   "outputs": [],
   "source": []
  },
  {
   "cell_type": "markdown",
   "metadata": {},
   "source": [
    "## Combinations of data : Oxford policy plus JHU or OWID"
   ]
  },
  {
   "cell_type": "code",
   "execution_count": null,
   "metadata": {},
   "outputs": [],
   "source": [
    "# translations from Oxford data base countries to JHU names\n",
    "country_Oxford_JHU = {}\n",
    "country_Oxford_JHU.update({('Cape Verde', ''):('Cabo Verde', '')})\n",
    "country_Oxford_JHU.update({('Aruba', ''):('Netherlands', 'Aruba')})\n",
    "country_Oxford_JHU.update({('Bermuda', ''):('United Kingdom', 'Bermuda')})\n",
    "country_Oxford_JHU.update({('Hong Kong', ''):('China', 'Hong Kong')})\n",
    "country_Oxford_JHU.update({('Czech Republic', ''):('Czechia', '')})\n",
    "country_Oxford_JHU.update({('China', ''):('China', 'Total')})          # split in database : sums to Total need to be done\n",
    "country_Oxford_JHU.update({('Slovak Republic', ''):('Slovakia', '')})\n",
    "country_Oxford_JHU.update({('Congo', ''):('Congo (Brazzaville)', '')}) # two Congos, this is Rep. of Congo, other is Democratic Republic of Congo\n",
    "country_Oxford_JHU.update({('Democratic Republic of Congo', ''):('Congo-Kinshasa','')})\n",
    "country_Oxford_JHU.update({('Solomon Islands', ''):('Solomon Islands', '')}) # Not present in JHU list: sovereign state poln 650000\n",
    "country_Oxford_JHU.update({('South Korea', ''):('Korea, South', '')})\n",
    "country_Oxford_JHU.update({('Turkmenistan', ''):('Turkmenistan', '')}) # Not present in JHU list: 5.6M people in Central Asia\n",
    "country_Oxford_JHU.update({('Myanmar', ''):('Thailand', '')})\n",
    "country_Oxford_JHU.update({('United States', '') : ('US', '')})\n",
    "country_Oxford_JHU.update({('Australia', ''):('Australia', 'Total')})  # split in database : sums to Total need to be done\n",
    "country_Oxford_JHU.update({('Puerto Rico', ''):('United States','Puerto Rico')})   # not found in inspection of JHU list, territory of US\n",
    "country_Oxford_JHU.update({('Palestine', ''):('West Bank and Gaza', '')})\n",
    "country_Oxford_JHU.update({('Timor', ''):('Timor-Leste', '')})         # check two Timors, East Timor\n",
    "country_Oxford_JHU.update({('Canada', ''):('Canada', 'Total')})        # split in database : sums to Total need to be done\n",
    "country_Oxford_JHU.update({('Greenland', ''):('Denmark', 'Greenland')})\n",
    "country_Oxford_JHU.update({('Macao', ''):('China', 'Macau')})\n",
    "country_Oxford_JHU.update({('Kyrgyz Republic', ''):('Kyrgyzstan', '')})\n",
    "country_Oxford_JHU.update({('Taiwan', ''):('Taiwan*', '')})\n",
    "country_Oxford_JHU.update({('Guam', ''):('United States','Guam')})     # not found in inspection of JHU list, territory of US"
   ]
  },
  {
   "cell_type": "code",
   "execution_count": null,
   "metadata": {},
   "outputs": [],
   "source": [
    "# print country data and corresponding JHU confirmed cases if available on same timescale\n",
    "fig, axes = plt.subplots(nrows=1, ncols=1, figsize=(20,20))\n",
    "countrycode='ITA'\n",
    "foo = get_codedat(countrycode)\n",
    "pdata = np.transpose([f[1:] for f in foo])\n",
    "xmin = 0\n",
    "xmax = pdata[-1,0]\n",
    "ymin = 0\n",
    "ymax = 200000\n",
    "countrynames = [dd['CountryName'] for dd in oxdat if dd['CountryCode']==countrycode]\n",
    "countryname = countrynames[0]\n",
    "if (countryname,'') not in countries_jhu:\n",
    "    print(countryname)\n",
    "    countryname = country_Oxford_JHU[(countryname,'')]\n",
    "#axes.axis(\"off\")\n",
    "\n",
    "# axes.imshow(pdata,cmap='hot',aspect='auto',interpolation='none',origin='lower',extent=[0,xmax,0,ymax])\n",
    "    # axes[row, col].pcolor(pdata,cmap='hot')\n",
    "    # print(countryname)\n",
    "    # xxx=range(len(pdata[0]))\n",
    "# plotCountry(countryname, datatype='confirmed', dataaccum='cumulative',fittype=None,ax=axes,\n",
    "#                symbol='.',firstdate='01/01/20',lastdate='05/21/20',intdates=True)\n",
    "axes.imshow(pdata,cmap='hot',aspect='auto',interpolation='none',origin='lower')\n",
    "axes2 = axes.twinx()\n",
    "plotCountry(countryname, datatype='confirmed', dataaccum='daily', fittype=None,ax=axes, ax2=axes2,\n",
    "                symbol='o--',firstdate='01/01/20',lastdate='05/21/20',intdates=True,linecolor='green')\n",
    "\n",
    "# plt.subplots_adjust(wspace=.05, hspace=.05)\n",
    "plt.show()"
   ]
  },
  {
   "cell_type": "code",
   "execution_count": null,
   "metadata": {},
   "outputs": [],
   "source": [
    "country_Oxford_JHU.update({('Democratic Republic of Congo', ''):('Congo-Kinshasa','')})"
   ]
  },
  {
   "cell_type": "code",
   "execution_count": null,
   "metadata": {
    "scrolled": false
   },
   "outputs": [],
   "source": [
    "# print country data and corresponding JHU confirmed cases if available on same timescale\n",
    "print(\"number of countries\",len(countrycodes))\n",
    "max_rows=22\n",
    "max_cols=8\n",
    "fig, axes = plt.subplots(nrows=max_rows, ncols=max_cols, figsize=(30,60))\n",
    "for idx, countrycode  in enumerate(countrycodes):\n",
    "    foo = get_codedat(countrycode)\n",
    "    # print(np.transpose(foo) # NB need to transpose to get dates on x axis\n",
    "    foo = [f[1:] for f in foo]\n",
    "    \n",
    "    countrynames = [dd['CountryName'] for dd in oxdat if dd['CountryCode']==countrycode]\n",
    "    countryname = countrynames[0]\n",
    "    if (countryname,'') not in countries_jhu:\n",
    "        # print(countryname)\n",
    "        countryname = country_Oxford_JHU[(countryname,'')]\n",
    "    row = idx // max_cols\n",
    "    col = idx % max_cols\n",
    "    axes[row, col].axis(\"off\")\n",
    "    axes[row, col].imshow(np.transpose(foo),cmap='Accent',aspect='auto',interpolation='none',origin='lower')\n",
    "    # axes[row, col].pcolor(np.transpose(foo),cmap='hot')\n",
    "    # print(countryname)\n",
    "    # xxx=range(len(np.transpose(foo)[0]))\n",
    "    axes2=axes[row, col].twinx\n",
    "    plotCountry(countryname, datatype='confirmed', dataaccum='daily_av_weekly',fittype=None,ax=axes[row,col],ax2=axes2,\n",
    "                symbol='.',firstdate='01/01/20',lastdate='05/21/20',intdates=True,linecolor='white')\n",
    "\n",
    "for idx in range(len(countrycodes),max_rows*max_cols):\n",
    "    row = idx // max_cols\n",
    "    col = idx % max_cols\n",
    "    axes[row, col].axis(\"off\")\n",
    "    \n",
    "plt.subplots_adjust(wspace=.5, hspace=.2)\n",
    "plt.show()"
   ]
  },
  {
   "cell_type": "code",
   "execution_count": null,
   "metadata": {
    "scrolled": false
   },
   "outputs": [],
   "source": [
    "\n",
    "# print country data and corresponding JHU confirmed cases if available on same timescale\n",
    "print(\"number of countries\",len(countrycodes))\n",
    "max_rows=22\n",
    "max_cols=8\n",
    "fig, axes = plt.subplots(nrows=max_rows, ncols=max_cols, figsize=(30,60))\n",
    "for idx, countrycode  in enumerate(countrycodes):\n",
    "    foo = get_codedat(countrycode)\n",
    "    # print(np.transpose(foo) # NB need to transpose to get dates on x axis\n",
    "    foo = [f[1:] for f in foo]\n",
    "    \n",
    "    countrynames = [dd['CountryName'] for dd in oxdat if dd['CountryCode']==countrycode]\n",
    "    countryname = countrynames[0]\n",
    "    if (countryname,'') not in countries_jhu:\n",
    "        # print(countryname)\n",
    "        countryname = country_Oxford_JHU[(countryname,'')]\n",
    "    row = idx // max_cols\n",
    "    col = idx % max_cols\n",
    "    axes[row, col].axis(\"off\")\n",
    "    axes[row, col].imshow(np.transpose(foo),cmap='hot',aspect='auto',interpolation='none',origin='lower')\n",
    "    # axes[row, col].pcolor(np.transpose(foo),cmap='hot')\n",
    "    # print(countryname)\n",
    "    # xxx=range(len(np.transpose(foo)[0]))\n",
    "    axes2=axes[row, col].twinx\n",
    "    plotCountry(countryname, datatype='confirmed', fittype=None,ax=axes[row,col],ax2=axes2,\n",
    "                symbol='.',firstdate='01/01/20',lastdate='05/21/20',intdates=True,linecolor='green')\n",
    "\n",
    "for idx in range(len(countrycodes),max_rows*max_cols):\n",
    "    row = idx // max_cols\n",
    "    col = idx % max_cols\n",
    "    axes[row, col].axis(\"off\")\n",
    "    \n",
    "plt.subplots_adjust(wspace=.5, hspace=.2)\n",
    "plt.show()"
   ]
  },
  {
   "cell_type": "code",
   "execution_count": null,
   "metadata": {},
   "outputs": [],
   "source": []
  }
 ],
 "metadata": {
  "kernelspec": {
   "display_name": "Python3",
   "language": "python",
   "name": "python3"
  },
  "language_info": {
   "codemirror_mode": {
    "name": "ipython",
    "version": 3
   },
   "file_extension": ".py",
   "mimetype": "text/x-python",
   "name": "python",
   "nbconvert_exporter": "python",
   "pygments_lexer": "ipython3",
   "version": "3.7.2"
  },
  "toc": {
   "nav_menu": {},
   "number_sections": true,
   "sideBar": true,
   "skip_h1_title": false,
   "title_cell": "Table of Contents",
   "title_sidebar": "Contents",
   "toc_cell": false,
   "toc_position": {},
   "toc_section_display": true,
   "toc_window_display": false
  }
 },
 "nbformat": 4,
 "nbformat_minor": 2
}
