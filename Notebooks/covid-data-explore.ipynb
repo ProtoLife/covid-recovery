{
 "cells": [
  {
   "cell_type": "code",
   "execution_count": 1,
   "metadata": {},
   "outputs": [],
   "source": [
    "import numpy as np\n",
    "import csv\n",
    "import itertools\n",
    "import matplotlib\n",
    "%matplotlib inline\n",
    "import seaborn as sb\n",
    "from matplotlib import pyplot as plt\n",
    "import datetime\n",
    "import matplotlib.dates as mdates\n",
    "from pandas.plotting import register_matplotlib_converters\n"
   ]
  },
  {
   "cell_type": "code",
   "execution_count": 2,
   "metadata": {},
   "outputs": [],
   "source": [
    "import sys"
   ]
  },
  {
   "cell_type": "code",
   "execution_count": 3,
   "metadata": {},
   "outputs": [
    {
     "data": {
      "text/plain": [
       "'/Users/n/.pyenv/versions/3.7.2/bin/python3'"
      ]
     },
     "execution_count": 3,
     "metadata": {},
     "output_type": "execute_result"
    }
   ],
   "source": [
    "sys.executable\n"
   ]
  },
  {
   "cell_type": "markdown",
   "metadata": {},
   "source": [
    "## OWID data"
   ]
  },
  {
   "cell_type": "code",
   "execution_count": 4,
   "metadata": {},
   "outputs": [],
   "source": [
    "owid_file = '../covid-19-data/public/data/owid-covid-data.csv'\n",
    "dat = []\n",
    "with open(owid_file,'r',newline='') as fp:\n",
    "    myreader = csv.DictReader(fp,delimiter=',')\n",
    "#    rows = list(itertools.islice(myreader,4))\n",
    "    for row in myreader:\n",
    "        dat.append(row)\n",
    "    \n",
    "        "
   ]
  },
  {
   "cell_type": "code",
   "execution_count": 5,
   "metadata": {},
   "outputs": [
    {
     "data": {
      "text/plain": [
       "odict_keys(['iso_code', 'location', 'date', 'total_cases', 'new_cases', 'total_deaths', 'new_deaths', 'total_cases_per_million', 'new_cases_per_million', 'total_deaths_per_million', 'new_deaths_per_million', 'total_tests', 'new_tests', 'total_tests_per_thousand', 'new_tests_per_thousand', 'tests_units', 'population', 'population_density', 'median_age', 'aged_65_older', 'aged_70_older', 'gdp_per_capita', 'extreme_poverty', 'cvd_death_rate', 'diabetes_prevalence', 'female_smokers', 'male_smokers', 'handwashing_facilities', 'hospital_beds_per_100k'])"
      ]
     },
     "execution_count": 5,
     "metadata": {},
     "output_type": "execute_result"
    }
   ],
   "source": [
    "dat[0].keys()"
   ]
  },
  {
   "cell_type": "code",
   "execution_count": 6,
   "metadata": {},
   "outputs": [
    {
     "data": {
      "text/plain": [
       "139"
      ]
     },
     "execution_count": 6,
     "metadata": {},
     "output_type": "execute_result"
    }
   ],
   "source": [
    "dates = set([dd['date'] for dd in dat])\n",
    "len(dates)"
   ]
  },
  {
   "cell_type": "code",
   "execution_count": 7,
   "metadata": {},
   "outputs": [
    {
     "data": {
      "text/plain": [
       "{('', 'International'),\n",
       " ('ABW', 'Aruba'),\n",
       " ('AFG', 'Afghanistan'),\n",
       " ('AGO', 'Angola'),\n",
       " ('AIA', 'Anguilla'),\n",
       " ('ALB', 'Albania'),\n",
       " ('AND', 'Andorra'),\n",
       " ('ARE', 'United Arab Emirates'),\n",
       " ('ARG', 'Argentina'),\n",
       " ('ARM', 'Armenia'),\n",
       " ('ATG', 'Antigua and Barbuda'),\n",
       " ('AUS', 'Australia'),\n",
       " ('AUT', 'Austria'),\n",
       " ('AZE', 'Azerbaijan'),\n",
       " ('BDI', 'Burundi'),\n",
       " ('BEL', 'Belgium'),\n",
       " ('BEN', 'Benin'),\n",
       " ('BES', 'Bonaire Sint Eustatius and Saba'),\n",
       " ('BFA', 'Burkina Faso'),\n",
       " ('BGD', 'Bangladesh'),\n",
       " ('BGR', 'Bulgaria'),\n",
       " ('BHR', 'Bahrain'),\n",
       " ('BHS', 'Bahamas'),\n",
       " ('BIH', 'Bosnia and Herzegovina'),\n",
       " ('BLR', 'Belarus'),\n",
       " ('BLZ', 'Belize'),\n",
       " ('BMU', 'Bermuda'),\n",
       " ('BOL', 'Bolivia'),\n",
       " ('BRA', 'Brazil'),\n",
       " ('BRB', 'Barbados'),\n",
       " ('BRN', 'Brunei'),\n",
       " ('BTN', 'Bhutan'),\n",
       " ('BWA', 'Botswana'),\n",
       " ('CAF', 'Central African Republic'),\n",
       " ('CAN', 'Canada'),\n",
       " ('CHE', 'Switzerland'),\n",
       " ('CHL', 'Chile'),\n",
       " ('CHN', 'China'),\n",
       " ('CIV', \"Cote d'Ivoire\"),\n",
       " ('CMR', 'Cameroon'),\n",
       " ('COD', 'Democratic Republic of Congo'),\n",
       " ('COG', 'Congo'),\n",
       " ('COL', 'Colombia'),\n",
       " ('COM', 'Comoros'),\n",
       " ('CPV', 'Cape Verde'),\n",
       " ('CRI', 'Costa Rica'),\n",
       " ('CUB', 'Cuba'),\n",
       " ('CUW', 'Curacao'),\n",
       " ('CYM', 'Cayman Islands'),\n",
       " ('CYP', 'Cyprus'),\n",
       " ('CZE', 'Czech Republic'),\n",
       " ('DEU', 'Germany'),\n",
       " ('DJI', 'Djibouti'),\n",
       " ('DMA', 'Dominica'),\n",
       " ('DNK', 'Denmark'),\n",
       " ('DOM', 'Dominican Republic'),\n",
       " ('DZA', 'Algeria'),\n",
       " ('ECU', 'Ecuador'),\n",
       " ('EGY', 'Egypt'),\n",
       " ('ERI', 'Eritrea'),\n",
       " ('ESH', 'Western Sahara'),\n",
       " ('ESP', 'Spain'),\n",
       " ('EST', 'Estonia'),\n",
       " ('ETH', 'Ethiopia'),\n",
       " ('FIN', 'Finland'),\n",
       " ('FJI', 'Fiji'),\n",
       " ('FLK', 'Falkland Islands'),\n",
       " ('FRA', 'France'),\n",
       " ('FRO', 'Faeroe Islands'),\n",
       " ('GAB', 'Gabon'),\n",
       " ('GBR', 'United Kingdom'),\n",
       " ('GEO', 'Georgia'),\n",
       " ('GGY', 'Guernsey'),\n",
       " ('GHA', 'Ghana'),\n",
       " ('GIB', 'Gibraltar'),\n",
       " ('GIN', 'Guinea'),\n",
       " ('GMB', 'Gambia'),\n",
       " ('GNB', 'Guinea-Bissau'),\n",
       " ('GNQ', 'Equatorial Guinea'),\n",
       " ('GRC', 'Greece'),\n",
       " ('GRD', 'Grenada'),\n",
       " ('GRL', 'Greenland'),\n",
       " ('GTM', 'Guatemala'),\n",
       " ('GUM', 'Guam'),\n",
       " ('GUY', 'Guyana'),\n",
       " ('HKG', 'Hong Kong'),\n",
       " ('HND', 'Honduras'),\n",
       " ('HRV', 'Croatia'),\n",
       " ('HTI', 'Haiti'),\n",
       " ('HUN', 'Hungary'),\n",
       " ('IDN', 'Indonesia'),\n",
       " ('IMN', 'Isle of Man'),\n",
       " ('IND', 'India'),\n",
       " ('IRL', 'Ireland'),\n",
       " ('IRN', 'Iran'),\n",
       " ('IRQ', 'Iraq'),\n",
       " ('ISL', 'Iceland'),\n",
       " ('ISR', 'Israel'),\n",
       " ('ITA', 'Italy'),\n",
       " ('JAM', 'Jamaica'),\n",
       " ('JEY', 'Jersey'),\n",
       " ('JOR', 'Jordan'),\n",
       " ('JPN', 'Japan'),\n",
       " ('KAZ', 'Kazakhstan'),\n",
       " ('KEN', 'Kenya'),\n",
       " ('KGZ', 'Kyrgyzstan'),\n",
       " ('KHM', 'Cambodia'),\n",
       " ('KNA', 'Saint Kitts and Nevis'),\n",
       " ('KOR', 'South Korea'),\n",
       " ('KWT', 'Kuwait'),\n",
       " ('LAO', 'Laos'),\n",
       " ('LBN', 'Lebanon'),\n",
       " ('LBR', 'Liberia'),\n",
       " ('LBY', 'Libya'),\n",
       " ('LCA', 'Saint Lucia'),\n",
       " ('LIE', 'Liechtenstein'),\n",
       " ('LKA', 'Sri Lanka'),\n",
       " ('LSO', 'Lesotho'),\n",
       " ('LTU', 'Lithuania'),\n",
       " ('LUX', 'Luxembourg'),\n",
       " ('LVA', 'Latvia'),\n",
       " ('MAR', 'Morocco'),\n",
       " ('MCO', 'Monaco'),\n",
       " ('MDA', 'Moldova'),\n",
       " ('MDG', 'Madagascar'),\n",
       " ('MDV', 'Maldives'),\n",
       " ('MEX', 'Mexico'),\n",
       " ('MKD', 'Macedonia'),\n",
       " ('MLI', 'Mali'),\n",
       " ('MLT', 'Malta'),\n",
       " ('MMR', 'Myanmar'),\n",
       " ('MNE', 'Montenegro'),\n",
       " ('MNG', 'Mongolia'),\n",
       " ('MNP', 'Northern Mariana Islands'),\n",
       " ('MOZ', 'Mozambique'),\n",
       " ('MRT', 'Mauritania'),\n",
       " ('MSR', 'Montserrat'),\n",
       " ('MUS', 'Mauritius'),\n",
       " ('MWI', 'Malawi'),\n",
       " ('MYS', 'Malaysia'),\n",
       " ('NAM', 'Namibia'),\n",
       " ('NCL', 'New Caledonia'),\n",
       " ('NER', 'Niger'),\n",
       " ('NGA', 'Nigeria'),\n",
       " ('NIC', 'Nicaragua'),\n",
       " ('NLD', 'Netherlands'),\n",
       " ('NOR', 'Norway'),\n",
       " ('NPL', 'Nepal'),\n",
       " ('NZL', 'New Zealand'),\n",
       " ('OMN', 'Oman'),\n",
       " ('OWID_WRL', 'World'),\n",
       " ('PAK', 'Pakistan'),\n",
       " ('PAN', 'Panama'),\n",
       " ('PER', 'Peru'),\n",
       " ('PHL', 'Philippines'),\n",
       " ('PNG', 'Papua New Guinea'),\n",
       " ('POL', 'Poland'),\n",
       " ('PRI', 'Puerto Rico'),\n",
       " ('PRT', 'Portugal'),\n",
       " ('PRY', 'Paraguay'),\n",
       " ('PSE', 'Palestine'),\n",
       " ('PYF', 'French Polynesia'),\n",
       " ('QAT', 'Qatar'),\n",
       " ('RKS', 'Kosovo'),\n",
       " ('ROU', 'Romania'),\n",
       " ('RUS', 'Russia'),\n",
       " ('RWA', 'Rwanda'),\n",
       " ('SAU', 'Saudi Arabia'),\n",
       " ('SDN', 'Sudan'),\n",
       " ('SEN', 'Senegal'),\n",
       " ('SGP', 'Singapore'),\n",
       " ('SLE', 'Sierra Leone'),\n",
       " ('SLV', 'El Salvador'),\n",
       " ('SMR', 'San Marino'),\n",
       " ('SOM', 'Somalia'),\n",
       " ('SRB', 'Serbia'),\n",
       " ('SSD', 'South Sudan'),\n",
       " ('STP', 'Sao Tome and Principe'),\n",
       " ('SUR', 'Suriname'),\n",
       " ('SVK', 'Slovakia'),\n",
       " ('SVN', 'Slovenia'),\n",
       " ('SWE', 'Sweden'),\n",
       " ('SWZ', 'Swaziland'),\n",
       " ('SXM', 'Sint Maarten (Dutch part)'),\n",
       " ('SYC', 'Seychelles'),\n",
       " ('SYR', 'Syria'),\n",
       " ('TCA', 'Turks and Caicos Islands'),\n",
       " ('TCD', 'Chad'),\n",
       " ('TGO', 'Togo'),\n",
       " ('THA', 'Thailand'),\n",
       " ('TJK', 'Tajikistan'),\n",
       " ('TLS', 'Timor'),\n",
       " ('TTO', 'Trinidad and Tobago'),\n",
       " ('TUN', 'Tunisia'),\n",
       " ('TUR', 'Turkey'),\n",
       " ('TWN', 'Taiwan'),\n",
       " ('TZA', 'Tanzania'),\n",
       " ('UGA', 'Uganda'),\n",
       " ('UKR', 'Ukraine'),\n",
       " ('URY', 'Uruguay'),\n",
       " ('USA', 'United States'),\n",
       " ('UZB', 'Uzbekistan'),\n",
       " ('VAT', 'Vatican'),\n",
       " ('VCT', 'Saint Vincent and the Grenadines'),\n",
       " ('VEN', 'Venezuela'),\n",
       " ('VGB', 'British Virgin Islands'),\n",
       " ('VIR', 'United States Virgin Islands'),\n",
       " ('VNM', 'Vietnam'),\n",
       " ('YEM', 'Yemen'),\n",
       " ('ZAF', 'South Africa'),\n",
       " ('ZMB', 'Zambia'),\n",
       " ('ZWE', 'Zimbabwe')}"
      ]
     },
     "execution_count": 7,
     "metadata": {},
     "output_type": "execute_result"
    }
   ],
   "source": [
    "set([(d['iso_code'],d['location']) for d in dat])"
   ]
  },
  {
   "cell_type": "code",
   "execution_count": 9,
   "metadata": {},
   "outputs": [],
   "source": [
    "countries = list(set([dd['iso_code'] for dd in dat]))"
   ]
  },
  {
   "cell_type": "code",
   "execution_count": 9,
   "metadata": {},
   "outputs": [
    {
     "data": {
      "image/png": "[encoded data removed]",
      "text/plain": [
       "<Figure size 432x288 with 1 Axes>"
      ]
     },
     "metadata": {
      "needs_background": "light"
     },
     "output_type": "display_data"
    }
   ],
   "source": [
    "deathUSA = [(dd['date'],dd['new_deaths']) for dd in dat if dd['iso_code']=='USA']\n",
    "\n",
    "fmt = '%Y-%m-%d'\n",
    "xx = [datetime.datetime.strptime(dd[0],fmt) for dd in deathUSA if int(dd[1])>0 ]\n",
    "yy = [int(dd[1]) for dd in deathUSA if int(dd[1])>0 ]\n",
    "\n",
    "locator = mdates.MonthLocator()\n",
    "formatter= mdates.ConciseDateFormatter(locator)\n",
    "\n",
    "fig,ax = plt.subplots(1,1)\n",
    "ax.step(xx,yy)\n",
    "ax.xaxis.set_major_formatter(formatter)\n",
    "ax.xaxis.set_major_locator(locator)\n",
    "for tick in ax.get_xticklabels():\n",
    "    tick.set_rotation(40)\n",
    "plt.title('USA new deaths')\n",
    "plt.show()"
   ]
  },
  {
   "cell_type": "code",
   "execution_count": 11,
   "metadata": {},
   "outputs": [],
   "source": [
    "def plotTarget(iso,targ='new_deaths'):\n",
    "    datt = [(dd['date'],dd[targ]) for dd in dat if dd['iso_code']==iso]\n",
    "    fmt = '%Y-%m-%d'\n",
    "    \n",
    "    start=False\n",
    "    xx = [] ; yy = []\n",
    "    for i in range(len(datt)):\n",
    "        dd = datt[i]\n",
    "        if float(dd[1]) == 0:\n",
    "            if start==False:\n",
    "                continue\n",
    "            else:\n",
    "                pass\n",
    "        else:\n",
    "            if start==False:\n",
    "                start=True\n",
    "        if start:\n",
    "            xx.append(datetime.datetime.strptime(dd[0],fmt))\n",
    "            yy.append(float(dd[1]))\n",
    "        \n",
    "#    xx = [datetime.datetime.strptime(dd[0],fmt) for dd in datt if float(dd[1])>0 ]\n",
    "#    yy = [float(dd[1]) for dd in datt if int(dd[1])>0 ]\n",
    "\n",
    "    locator = mdates.MonthLocator()\n",
    "    formatter= mdates.ConciseDateFormatter(locator)\n",
    "\n",
    "    register_matplotlib_converters() # pandas made me do it\n",
    "    fig,ax = plt.subplots(1,1)\n",
    "    ax.step(xx,yy)\n",
    "    ax.xaxis.set_major_formatter(formatter)\n",
    "    ax.xaxis.set_major_locator(locator)\n",
    "    for tick in ax.get_xticklabels():\n",
    "        tick.set_rotation(40)\n",
    "        plt.title(iso+' '+targ)\n",
    "    plt.show()"
   ]
  },
  {
   "cell_type": "code",
   "execution_count": 12,
   "metadata": {},
   "outputs": [
    {
     "data": {
      "image/png": "[encoded data removed]",
      "text/plain": [
       "<Figure size 432x288 with 1 Axes>"
      ]
     },
     "metadata": {
      "needs_background": "light"
     },
     "output_type": "display_data"
    }
   ],
   "source": [
    "plotTarget('DEU')"
   ]
  },
  {
   "cell_type": "code",
   "execution_count": 13,
   "metadata": {},
   "outputs": [
    {
     "data": {
      "image/png": "[encoded data removed]",
      "text/plain": [
       "<Figure size 432x288 with 1 Axes>"
      ]
     },
     "metadata": {
      "needs_background": "light"
     },
     "output_type": "display_data"
    }
   ],
   "source": [
    "plotTarget('DEU','new_cases')"
   ]
  },
  {
   "cell_type": "code",
   "execution_count": 14,
   "metadata": {
    "scrolled": false
   },
   "outputs": [
    {
     "data": {
      "image/png": "[encoded data removed]",
      "text/plain": [
       "<Figure size 432x288 with 1 Axes>"
      ]
     },
     "metadata": {
      "needs_background": "light"
     },
     "output_type": "display_data"
    }
   ],
   "source": [
    "plotTarget('USA','new_cases')"
   ]
  },
  {
   "cell_type": "code",
   "execution_count": 14,
   "metadata": {},
   "outputs": [
    {
     "data": {
      "image/png": "[encoded data removed]",
      "text/plain": [
       "<Figure size 432x288 with 1 Axes>"
      ]
     },
     "metadata": {
      "needs_background": "light"
     },
     "output_type": "display_data"
    }
   ],
   "source": [
    "plotTarget('FRA','new_cases')"
   ]
  },
  {
   "cell_type": "code",
   "execution_count": 15,
   "metadata": {},
   "outputs": [
    {
     "data": {
      "image/png": "[encoded data removed]",
      "text/plain": [
       "<Figure size 432x288 with 1 Axes>"
      ]
     },
     "metadata": {
      "needs_background": "light"
     },
     "output_type": "display_data"
    }
   ],
   "source": [
    "plotTarget('SWE','new_cases')"
   ]
  },
  {
   "cell_type": "code",
   "execution_count": 16,
   "metadata": {},
   "outputs": [
    {
     "data": {
      "image/png": "[encoded data removed]",
      "text/plain": [
       "<Figure size 432x288 with 1 Axes>"
      ]
     },
     "metadata": {
      "needs_background": "light"
     },
     "output_type": "display_data"
    }
   ],
   "source": [
    "plotTarget('SWE','new_deaths')"
   ]
  },
  {
   "cell_type": "code",
   "execution_count": 17,
   "metadata": {},
   "outputs": [
    {
     "data": {
      "image/png": "[encoded data removed]",
      "text/plain": [
       "<Figure size 432x288 with 1 Axes>"
      ]
     },
     "metadata": {
      "needs_background": "light"
     },
     "output_type": "display_data"
    }
   ],
   "source": [
    "plotTarget('BRA','new_deaths')"
   ]
  },
  {
   "cell_type": "markdown",
   "metadata": {},
   "source": [
    "## Oxford data"
   ]
  },
  {
   "cell_type": "code",
   "execution_count": 18,
   "metadata": {},
   "outputs": [],
   "source": [
    "owid_file = '../covid-policy-tracker/data/OxCGRT_latest.csv'\n",
    "oxdat = []\n",
    "with open(owid_file,'r',newline='') as fp:\n",
    "    myreader = csv.DictReader(fp,delimiter=',')\n",
    "#    rows = list(itertools.islice(myreader,4))\n",
    "    for row in myreader:\n",
    "        oxdat.append(row)\n",
    "    "
   ]
  },
  {
   "cell_type": "code",
   "execution_count": 19,
   "metadata": {},
   "outputs": [
    {
     "data": {
      "text/plain": [
       "odict_keys(['CountryName', 'CountryCode', 'Date', 'C1_School closing', 'C1_Flag', 'C2_Workplace closing', 'C2_Flag', 'C3_Cancel public events', 'C3_Flag', 'C4_Restrictions on gatherings', 'C4_Flag', 'C5_Close public transport', 'C5_Flag', 'C6_Stay at home requirements', 'C6_Flag', 'C7_Restrictions on internal movement', 'C7_Flag', 'C8_International travel controls', 'E1_Income support', 'E1_Flag', 'E2_Debt/contract relief', 'E3_Fiscal measures', 'E4_International support', 'H1_Public information campaigns', 'H1_Flag', 'H2_Testing policy', 'H3_Contact tracing', 'H4_Emergency investment in healthcare', 'H5_Investment in vaccines', 'M1_Wildcard', 'ConfirmedCases', 'ConfirmedDeaths', 'StringencyIndex', 'StringencyIndexForDisplay', 'LegacyStringencyIndex', 'LegacyStringencyIndexForDisplay'])"
      ]
     },
     "execution_count": 19,
     "metadata": {},
     "output_type": "execute_result"
    }
   ],
   "source": [
    "oxdat[0].keys()"
   ]
  },
  {
   "cell_type": "code",
   "execution_count": 20,
   "metadata": {},
   "outputs": [],
   "source": [
    "countries = list(set([(dd['CountryName'],dd['CountryCode']) for dd in oxdat]))"
   ]
  },
  {
   "cell_type": "code",
   "execution_count": 21,
   "metadata": {},
   "outputs": [
    {
     "data": {
      "text/plain": [
       "[('Afghanistan', 'AFG'),\n",
       " ('Uruguay', 'URY'),\n",
       " ('Solomon Islands', 'SLB'),\n",
       " ('Uganda', 'UGA'),\n",
       " ('Kazakhstan', 'KAZ'),\n",
       " ('Andorra', 'AND'),\n",
       " ('Belarus', 'BLR'),\n",
       " ('Zimbabwe', 'ZWE'),\n",
       " ('Bulgaria', 'BGR'),\n",
       " ('Philippines', 'PHL')]"
      ]
     },
     "execution_count": 21,
     "metadata": {},
     "output_type": "execute_result"
    }
   ],
   "source": [
    "[countries[i] for i in range(10)]"
   ]
  },
  {
   "cell_type": "code",
   "execution_count": 22,
   "metadata": {},
   "outputs": [],
   "source": [
    "foo = [(dd['Date'],dd['C1_School closing'],dd['C1_Flag']) for dd in oxdat if dd['CountryCode']=='USA']"
   ]
  },
  {
   "cell_type": "code",
   "execution_count": 23,
   "metadata": {},
   "outputs": [],
   "source": [
    "xx = [foo[i] for i in range(10)]"
   ]
  },
  {
   "cell_type": "code",
   "execution_count": 24,
   "metadata": {},
   "outputs": [
    {
     "data": {
      "image/png": "[encoded data removed]",
      "text/plain": [
       "<Figure size 432x288 with 1 Axes>"
      ]
     },
     "metadata": {
      "needs_background": "light"
     },
     "output_type": "display_data"
    }
   ],
   "source": [
    "foo = [(dd['Date'],dd['C1_School closing'],dd['C1_Flag']) \n",
    "       for dd in oxdat if dd['CountryCode']=='USA']\n",
    "\n",
    "fmt = '%Y%m%d'\n",
    "xx = [datetime.datetime.strptime(dd[0],fmt) for dd in foo]\n",
    "yy = []\n",
    "for dd in foo:\n",
    "    try:\n",
    "        yy.append(float(dd[1]))\n",
    "    except:\n",
    "        yy.append(float('NaN'))\n",
    "\n",
    "\n",
    "locator = mdates.MonthLocator()\n",
    "formatter= mdates.ConciseDateFormatter(locator)\n",
    "\n",
    "fig,ax = plt.subplots(1,1)\n",
    "ax.step(xx,yy)\n",
    "ax.xaxis.set_major_formatter(formatter)\n",
    "ax.xaxis.set_major_locator(locator)\n",
    "for tick in ax.get_xticklabels():\n",
    "    tick.set_rotation(40)\n",
    "plt.title('USA')\n",
    "plt.show()"
   ]
  },
  {
   "cell_type": "markdown",
   "metadata": {},
   "source": [
    "Note:  no wildcard data:"
   ]
  },
  {
   "cell_type": "code",
   "execution_count": 25,
   "metadata": {},
   "outputs": [],
   "source": [
    "foo = [(dd['Date'],dd['CountryCode'],dd['M1_Wildcard']) \n",
    "       for dd in oxdat if dd['M1_Wildcard'] != '']\n",
    "\n"
   ]
  },
  {
   "cell_type": "code",
   "execution_count": 26,
   "metadata": {},
   "outputs": [
    {
     "data": {
      "text/plain": [
       "[]"
      ]
     },
     "execution_count": 26,
     "metadata": {},
     "output_type": "execute_result"
    }
   ],
   "source": [
    "foo\n"
   ]
  },
  {
   "cell_type": "markdown",
   "metadata": {},
   "source": [
    "Notes:  \n",
    "* first version of `datcodes` leaves out all flags (general vs. targeted implementation)\n",
    "* 2nd version leaves out all variables measured in dollars"
   ]
  },
  {
   "cell_type": "code",
   "execution_count": 27,
   "metadata": {},
   "outputs": [],
   "source": [
    "datcodes = ['C1_School closing', 'C2_Workplace closing', \n",
    "            'C3_Cancel public events', 'C4_Restrictions on gatherings', \n",
    "            'C5_Close public transport', 'C6_Stay at home requirements', \n",
    "            'C7_Restrictions on internal movement', 'C8_International travel controls', \n",
    "            'E1_Income support', 'E2_Debt/contract relief', 'E3_Fiscal measures', \n",
    "            'E4_International support', 'H1_Public information campaigns', \n",
    "            'H2_Testing policy', 'H3_Contact tracing', \n",
    "            'H4_Emergency investment in healthcare', 'H5_Investment in vaccines']\n",
    "\n",
    "datcodes = ['C1_School closing', 'C2_Workplace closing', \n",
    "            'C3_Cancel public events', 'C4_Restrictions on gatherings', \n",
    "            'C5_Close public transport', 'C6_Stay at home requirements', \n",
    "            'C7_Restrictions on internal movement', 'C8_International travel controls', \n",
    "            'E1_Income support', 'E2_Debt/contract relief', \n",
    "            'H1_Public information campaigns', \n",
    "            'H2_Testing policy', 'H3_Contact tracing']\n",
    "\n"
   ]
  },
  {
   "cell_type": "code",
   "execution_count": 28,
   "metadata": {},
   "outputs": [
    {
     "data": {
      "text/plain": [
       "167"
      ]
     },
     "execution_count": 28,
     "metadata": {},
     "output_type": "execute_result"
    }
   ],
   "source": [
    "countrycodes = list(set([dd['CountryCode'] for dd in oxdat]))\n",
    "len(countrycodes)"
   ]
  },
  {
   "cell_type": "code",
   "execution_count": 29,
   "metadata": {},
   "outputs": [],
   "source": [
    "def Float(x):\n",
    "    try:\n",
    "        rtn = float(x)\n",
    "    except:\n",
    "        rtn = float('NaN')\n",
    "    return rtn\n"
   ]
  },
  {
   "cell_type": "code",
   "execution_count": 30,
   "metadata": {},
   "outputs": [],
   "source": [
    "def get_codedat(countrycode='USA'):\n",
    "    codedat = []\n",
    "    foo = [[dd['Date']]+ [Float(dd[c]) for c in datcodes]\n",
    "           for dd in oxdat if dd['CountryCode']==countrycode]\n",
    "    return foo\n",
    "    \n"
   ]
  },
  {
   "cell_type": "code",
   "execution_count": 23,
   "metadata": {},
   "outputs": [
    {
     "data": {
      "text/plain": [
       "[['20200101', 0.0, 0.0, 0.0, 0.0, 0.0, 0.0, 0.0, 0.0, 0.0, 0.0, 0.0, 0.0, 0.0],\n",
       " ['20200102', 0.0, 0.0, 0.0, 0.0, 0.0, 0.0, 0.0, 0.0, 0.0, 0.0, 0.0, 0.0, 0.0],\n",
       " ['20200103', 0.0, 0.0, 0.0, 0.0, 0.0, 0.0, 0.0, 0.0, 0.0, 0.0, 0.0, 0.0, 0.0],\n",
       " ['20200104', 0.0, 0.0, 0.0, 0.0, 0.0, 0.0, 0.0, 0.0, 0.0, 0.0, 0.0, 0.0, 0.0],\n",
       " ['20200105', 0.0, 0.0, 0.0, 0.0, 0.0, 0.0, 0.0, 0.0, 0.0, 0.0, 0.0, 0.0, 0.0],\n",
       " ['20200106', 0.0, 0.0, 0.0, 0.0, 0.0, 0.0, 0.0, 0.0, 0.0, 0.0, 0.0, 0.0, 0.0],\n",
       " ['20200107', 0.0, 0.0, 0.0, 0.0, 0.0, 0.0, 0.0, 0.0, 0.0, 0.0, 0.0, 0.0, 0.0],\n",
       " ['20200108', 0.0, 0.0, 0.0, 0.0, 0.0, 0.0, 0.0, 0.0, 0.0, 0.0, 0.0, 0.0, 0.0],\n",
       " ['20200109', 0.0, 0.0, 0.0, 0.0, 0.0, 0.0, 0.0, 0.0, 0.0, 0.0, 0.0, 0.0, 0.0],\n",
       " ['20200110', 0.0, 0.0, 0.0, 0.0, 0.0, 0.0, 0.0, 0.0, 0.0, 0.0, 0.0, 0.0, 0.0],\n",
       " ['20200111', 0.0, 0.0, 0.0, 0.0, 0.0, 0.0, 0.0, 0.0, 0.0, 0.0, 0.0, 0.0, 0.0],\n",
       " ['20200112', 0.0, 0.0, 0.0, 0.0, 0.0, 0.0, 0.0, 0.0, 0.0, 0.0, 0.0, 0.0, 0.0],\n",
       " ['20200113', 0.0, 0.0, 0.0, 0.0, 0.0, 0.0, 0.0, 0.0, 0.0, 0.0, 0.0, 0.0, 0.0],\n",
       " ['20200114', 0.0, 0.0, 0.0, 0.0, 0.0, 0.0, 0.0, 0.0, 0.0, 0.0, 0.0, 0.0, 0.0],\n",
       " ['20200115', 0.0, 0.0, 0.0, 0.0, 0.0, 0.0, 0.0, 0.0, 0.0, 0.0, 0.0, 0.0, 0.0],\n",
       " ['20200116', 0.0, 0.0, 0.0, 0.0, 0.0, 0.0, 0.0, 0.0, 0.0, 0.0, 0.0, 0.0, 0.0],\n",
       " ['20200117', 0.0, 0.0, 0.0, 0.0, 0.0, 0.0, 0.0, 0.0, 0.0, 0.0, 0.0, 0.0, 0.0],\n",
       " ['20200118', 0.0, 0.0, 0.0, 0.0, 0.0, 0.0, 0.0, 0.0, 0.0, 0.0, 0.0, 0.0, 0.0],\n",
       " ['20200119', 0.0, 0.0, 0.0, 0.0, 0.0, 0.0, 0.0, 0.0, 0.0, 0.0, 0.0, 0.0, 0.0],\n",
       " ['20200120', 0.0, 0.0, 0.0, 0.0, 0.0, 0.0, 0.0, 0.0, 0.0, 0.0, 0.0, 0.0, 0.0],\n",
       " ['20200121', 0.0, 0.0, 0.0, 0.0, 0.0, 0.0, 0.0, 0.0, 0.0, 0.0, 0.0, 0.0, 1.0],\n",
       " ['20200122', 0.0, 0.0, 0.0, 0.0, 0.0, 0.0, 0.0, 0.0, 0.0, 0.0, 0.0, 0.0, 1.0],\n",
       " ['20200123', 0.0, 0.0, 0.0, 0.0, 0.0, 0.0, 0.0, 0.0, 0.0, 0.0, 0.0, 0.0, 1.0],\n",
       " ['20200124', 0.0, 0.0, 0.0, 0.0, 0.0, 0.0, 0.0, 0.0, 0.0, 0.0, 0.0, 0.0, 1.0],\n",
       " ['20200125', 0.0, 0.0, 0.0, 0.0, 0.0, 0.0, 0.0, 0.0, 0.0, 0.0, 0.0, 0.0, 1.0],\n",
       " ['20200126', 0.0, 0.0, 0.0, 0.0, 0.0, 0.0, 0.0, 0.0, 0.0, 0.0, 0.0, 0.0, 1.0],\n",
       " ['20200127', 0.0, 0.0, 0.0, 0.0, 0.0, 0.0, 0.0, 0.0, 0.0, 0.0, 0.0, 0.0, 1.0],\n",
       " ['20200128', 0.0, 0.0, 0.0, 0.0, 0.0, 0.0, 0.0, 0.0, 0.0, 0.0, 0.0, 0.0, 1.0],\n",
       " ['20200129', 0.0, 0.0, 0.0, 0.0, 0.0, 0.0, 0.0, 0.0, 0.0, 0.0, 0.0, 0.0, 1.0],\n",
       " ['20200130', 0.0, 0.0, 0.0, 0.0, 0.0, 0.0, 0.0, 0.0, 0.0, 0.0, 0.0, 0.0, 1.0],\n",
       " ['20200131', 0.0, 0.0, 0.0, 0.0, 0.0, 0.0, 0.0, 0.0, 0.0, 0.0, 0.0, 0.0, 1.0],\n",
       " ['20200201', 0.0, 0.0, 0.0, 0.0, 0.0, 0.0, 0.0, 0.0, 0.0, 0.0, 0.0, 0.0, 1.0],\n",
       " ['20200202', 0.0, 0.0, 0.0, 0.0, 0.0, 0.0, 0.0, 2.0, 0.0, 0.0, 0.0, 0.0, 1.0],\n",
       " ['20200203', 0.0, 0.0, 0.0, 0.0, 0.0, 0.0, 0.0, 2.0, 0.0, 0.0, 0.0, 0.0, 1.0],\n",
       " ['20200204', 0.0, 0.0, 0.0, 0.0, 0.0, 0.0, 0.0, 2.0, 0.0, 0.0, 0.0, 0.0, 1.0],\n",
       " ['20200205', 0.0, 0.0, 0.0, 0.0, 0.0, 0.0, 0.0, 2.0, 0.0, 0.0, 0.0, 0.0, 1.0],\n",
       " ['20200206', 0.0, 0.0, 0.0, 0.0, 0.0, 0.0, 0.0, 2.0, 0.0, 0.0, 0.0, 0.0, 1.0],\n",
       " ['20200207', 0.0, 0.0, 0.0, 0.0, 0.0, 0.0, 0.0, 2.0, 0.0, 0.0, 0.0, 0.0, 1.0],\n",
       " ['20200208', 0.0, 0.0, 0.0, 0.0, 0.0, 0.0, 0.0, 2.0, 0.0, 0.0, 0.0, 0.0, 1.0],\n",
       " ['20200209', 0.0, 0.0, 0.0, 0.0, 0.0, 0.0, 0.0, 2.0, 0.0, 0.0, 0.0, 0.0, 1.0],\n",
       " ['20200210', 0.0, 0.0, 0.0, 0.0, 0.0, 0.0, 0.0, 2.0, 0.0, 0.0, 0.0, 0.0, 1.0],\n",
       " ['20200211', 0.0, 0.0, 0.0, 0.0, 0.0, 0.0, 0.0, 2.0, 0.0, 0.0, 0.0, 0.0, 1.0],\n",
       " ['20200212', 0.0, 0.0, 0.0, 0.0, 0.0, 0.0, 0.0, 2.0, 0.0, 0.0, 0.0, 0.0, 1.0],\n",
       " ['20200213', 0.0, 0.0, 0.0, 0.0, 0.0, 0.0, 0.0, 2.0, 0.0, 0.0, 0.0, 0.0, 1.0],\n",
       " ['20200214', 0.0, 0.0, 0.0, 0.0, 0.0, 0.0, 0.0, 2.0, 0.0, 0.0, 0.0, 0.0, 1.0],\n",
       " ['20200215', 0.0, 0.0, 0.0, 0.0, 0.0, 0.0, 0.0, 2.0, 0.0, 0.0, 0.0, 0.0, 1.0],\n",
       " ['20200216', 0.0, 0.0, 0.0, 0.0, 0.0, 0.0, 0.0, 2.0, 0.0, 0.0, 0.0, 0.0, 1.0],\n",
       " ['20200217', 0.0, 0.0, 0.0, 0.0, 0.0, 0.0, 0.0, 2.0, 0.0, 0.0, 0.0, 0.0, 1.0],\n",
       " ['20200218', 0.0, 0.0, 0.0, 0.0, 0.0, 0.0, 0.0, 2.0, 0.0, 0.0, 0.0, 0.0, 1.0],\n",
       " ['20200219', 0.0, 0.0, 0.0, 0.0, 0.0, 0.0, 0.0, 2.0, 0.0, 0.0, 0.0, 0.0, 1.0],\n",
       " ['20200220', 0.0, 0.0, 0.0, 0.0, 0.0, 0.0, 0.0, 2.0, 0.0, 0.0, 0.0, 0.0, 1.0],\n",
       " ['20200221', 0.0, 0.0, 0.0, 0.0, 0.0, 0.0, 0.0, 2.0, 0.0, 0.0, 0.0, 0.0, 1.0],\n",
       " ['20200222', 0.0, 0.0, 0.0, 0.0, 0.0, 0.0, 0.0, 2.0, 0.0, 0.0, 0.0, 0.0, 1.0],\n",
       " ['20200223', 0.0, 0.0, 0.0, 0.0, 0.0, 0.0, 0.0, 2.0, 0.0, 0.0, 0.0, 0.0, 1.0],\n",
       " ['20200224', 0.0, 0.0, 0.0, 0.0, 0.0, 0.0, 0.0, 2.0, 0.0, 0.0, 0.0, 0.0, 1.0],\n",
       " ['20200225', 0.0, 0.0, 0.0, 0.0, 0.0, 0.0, 0.0, 2.0, 0.0, 0.0, 0.0, 0.0, 1.0],\n",
       " ['20200226', 0.0, 0.0, 0.0, 0.0, 0.0, 0.0, 0.0, 2.0, 0.0, 0.0, 0.0, 0.0, 1.0],\n",
       " ['20200227', 0.0, 0.0, 0.0, 0.0, 0.0, 0.0, 0.0, 2.0, 0.0, 0.0, 0.0, 0.0, 1.0],\n",
       " ['20200228', 0.0, 0.0, 0.0, 0.0, 0.0, 0.0, 0.0, 2.0, 0.0, 0.0, 0.0, 1.0, 1.0],\n",
       " ['20200229', 0.0, 0.0, 0.0, 0.0, 0.0, 0.0, 0.0, 2.0, 0.0, 0.0, 0.0, 1.0, 1.0],\n",
       " ['20200301', 0.0, 0.0, 1.0, 0.0, 0.0, 0.0, 0.0, 2.0, 0.0, 0.0, 0.0, 1.0, 1.0],\n",
       " ['20200302', 0.0, 0.0, 1.0, 0.0, 0.0, 0.0, 0.0, 3.0, 0.0, 0.0, 0.0, 1.0, 1.0],\n",
       " ['20200303', 0.0, 0.0, 1.0, 0.0, 0.0, 0.0, 0.0, 3.0, 0.0, 0.0, 0.0, 1.0, 1.0],\n",
       " ['20200304', 0.0, 0.0, 1.0, 0.0, 0.0, 0.0, 0.0, 3.0, 0.0, 0.0, 0.0, 2.0, 1.0],\n",
       " ['20200305', 3.0, 0.0, 1.0, 0.0, 0.0, 0.0, 0.0, 3.0, 0.0, 0.0, 0.0, 2.0, 1.0],\n",
       " ['20200306', 3.0, 0.0, 1.0, 0.0, 0.0, 0.0, 0.0, 3.0, 0.0, 0.0, 0.0, 2.0, 1.0],\n",
       " ['20200307', 3.0, 0.0, 1.0, 0.0, 0.0, 0.0, 0.0, 3.0, 0.0, 0.0, 0.0, 2.0, 1.0],\n",
       " ['20200308', 3.0, 0.0, 1.0, 0.0, 0.0, 0.0, 0.0, 3.0, 0.0, 0.0, 0.0, 2.0, 1.0],\n",
       " ['20200309', 3.0, 0.0, 1.0, 0.0, 0.0, 0.0, 0.0, 3.0, 0.0, 0.0, 0.0, 2.0, 1.0],\n",
       " ['20200310', 3.0, 0.0, 1.0, 0.0, 0.0, 0.0, 0.0, 3.0, 0.0, 0.0, 0.0, 2.0, 1.0],\n",
       " ['20200311', 3.0, 0.0, 1.0, 1.0, 0.0, 0.0, 0.0, 3.0, 0.0, 0.0, 0.0, 2.0, 1.0],\n",
       " ['20200312', 3.0, 0.0, 2.0, 2.0, 0.0, 0.0, 0.0, 3.0, 0.0, 0.0, 0.0, 2.0, 1.0],\n",
       " ['20200313', 3.0, 0.0, 2.0, 2.0, 0.0, 0.0, 0.0, 3.0, 0.0, 0.0, 0.0, 2.0, 1.0],\n",
       " ['20200314', 3.0, 0.0, 2.0, 2.0, 0.0, 0.0, 1.0, 3.0, 0.0, 0.0, 0.0, 3.0, 1.0],\n",
       " ['20200315', 3.0, 0.0, 2.0, 2.0, 0.0, 2.0, 1.0, 3.0, 0.0, 0.0, 0.0, 3.0, 1.0],\n",
       " ['20200316', 3.0, 0.0, 2.0, 2.0, 0.0, 2.0, 1.0, 3.0, 0.0, 0.0, 2.0, 3.0, 1.0],\n",
       " ['20200317', 3.0, 0.0, 2.0, 2.0, 1.0, 2.0, 1.0, 3.0, 0.0, 0.0, 2.0, 3.0, 1.0],\n",
       " ['20200318', 3.0, 0.0, 2.0, 2.0, 1.0, 2.0, 1.0, 3.0, 0.0, 0.0, 2.0, 3.0, 1.0],\n",
       " ['20200319', 3.0, 3.0, 2.0, 2.0, 1.0, 2.0, 2.0, 3.0, 0.0, 0.0, 2.0, 3.0, 1.0],\n",
       " ['20200320', 3.0, 3.0, 2.0, 2.0, 1.0, 2.0, 2.0, 3.0, 0.0, 0.0, 2.0, 3.0, 1.0],\n",
       " ['20200321', 3.0, 3.0, 2.0, 4.0, 1.0, 2.0, 2.0, 3.0, 0.0, 0.0, 2.0, 3.0, 1.0],\n",
       " ['20200322', 3.0, 3.0, 2.0, 4.0, 1.0, 2.0, 2.0, 3.0, 0.0, 0.0, 2.0, 3.0, 1.0],\n",
       " ['20200323', 3.0, 3.0, 2.0, 4.0, 1.0, 2.0, 2.0, 3.0, 0.0, 0.0, 2.0, 3.0, 1.0],\n",
       " ['20200324', 3.0, 3.0, 2.0, 4.0, 1.0, 2.0, 2.0, 3.0, 0.0, 0.0, 2.0, 3.0, 1.0],\n",
       " ['20200325', 3.0, 3.0, 2.0, 4.0, 1.0, 2.0, 2.0, 3.0, 0.0, 0.0, 2.0, 3.0, 1.0],\n",
       " ['20200326', 3.0, 3.0, 2.0, 4.0, 1.0, 2.0, 2.0, 3.0, 0.0, 0.0, 2.0, 3.0, 1.0],\n",
       " ['20200327', 3.0, 3.0, 2.0, 4.0, 1.0, 2.0, 2.0, 3.0, 2.0, 1.0, 2.0, 3.0, 1.0],\n",
       " ['20200328', 3.0, 3.0, 2.0, 4.0, 1.0, 2.0, 2.0, 3.0, 2.0, 1.0, 2.0, 3.0, 1.0],\n",
       " ['20200329', 3.0, 3.0, 2.0, 4.0, 1.0, 2.0, 2.0, 3.0, 2.0, 1.0, 2.0, 3.0, 1.0],\n",
       " ['20200330', 3.0, 3.0, 2.0, 4.0, 1.0, 2.0, 2.0, 3.0, 2.0, 1.0, 2.0, 3.0, 1.0],\n",
       " ['20200331', 3.0, 3.0, 2.0, 4.0, 1.0, 2.0, 2.0, 3.0, 2.0, 1.0, 2.0, 3.0, 1.0],\n",
       " ['20200401', 3.0, 3.0, 2.0, 4.0, 1.0, 2.0, 2.0, 3.0, 2.0, 1.0, 2.0, 3.0, 1.0],\n",
       " ['20200402', 3.0, 3.0, 2.0, 4.0, 1.0, 2.0, 2.0, 3.0, 2.0, 1.0, 2.0, 3.0, 1.0],\n",
       " ['20200403', 3.0, 3.0, 2.0, 4.0, 1.0, 2.0, 2.0, 3.0, 2.0, 1.0, 2.0, 3.0, 1.0],\n",
       " ['20200404', 3.0, 3.0, 2.0, 4.0, 1.0, 2.0, 2.0, 3.0, 2.0, 1.0, 2.0, 3.0, 1.0],\n",
       " ['20200405', 3.0, 3.0, 2.0, 4.0, 1.0, 2.0, 2.0, 3.0, 2.0, 1.0, 2.0, 3.0, 1.0],\n",
       " ['20200406', 3.0, 3.0, 2.0, 4.0, 1.0, 2.0, 2.0, 3.0, 2.0, 1.0, 2.0, 3.0, 1.0],\n",
       " ['20200407', 3.0, 3.0, 2.0, 4.0, 1.0, 2.0, 2.0, 3.0, 2.0, 1.0, 2.0, 3.0, 1.0],\n",
       " ['20200408', 3.0, 3.0, 2.0, 4.0, 1.0, 2.0, 2.0, 3.0, 2.0, 1.0, 2.0, 3.0, 1.0],\n",
       " ['20200409', 3.0, 3.0, 2.0, 4.0, 1.0, 2.0, 2.0, 3.0, 2.0, 1.0, 2.0, 3.0, 1.0],\n",
       " ['20200410', 3.0, 3.0, 2.0, 4.0, 1.0, 2.0, 2.0, 3.0, 2.0, 1.0, 2.0, 3.0, 1.0],\n",
       " ['20200411', 3.0, 3.0, 2.0, 4.0, 1.0, 2.0, 2.0, 3.0, 2.0, 1.0, 2.0, 3.0, 1.0],\n",
       " ['20200412', 3.0, 3.0, 2.0, 4.0, 1.0, 2.0, 2.0, 3.0, 2.0, 1.0, 2.0, 3.0, 1.0],\n",
       " ['20200413', 3.0, 3.0, 2.0, 4.0, 1.0, 2.0, 2.0, 3.0, 2.0, 1.0, 2.0, 3.0, 1.0],\n",
       " ['20200414', 3.0, 3.0, 2.0, 4.0, 1.0, 2.0, 2.0, 3.0, 2.0, 1.0, 2.0, 3.0, 1.0],\n",
       " ['20200415', 3.0, 3.0, 2.0, 4.0, 1.0, 2.0, 2.0, 3.0, 2.0, 1.0, 2.0, 3.0, 1.0],\n",
       " ['20200416', 3.0, 3.0, 2.0, 4.0, 1.0, 2.0, 2.0, 3.0, 2.0, 1.0, 2.0, 3.0, 1.0],\n",
       " ['20200417', 3.0, 3.0, 2.0, 4.0, 1.0, 2.0, 2.0, 3.0, 2.0, 1.0, 2.0, 3.0, 1.0],\n",
       " ['20200418', 3.0, 3.0, 2.0, 4.0, 1.0, 2.0, 2.0, 3.0, 2.0, 1.0, 2.0, 3.0, 1.0],\n",
       " ['20200419', 3.0, 3.0, 2.0, 4.0, 1.0, 2.0, 2.0, 3.0, 2.0, 1.0, 2.0, 3.0, 1.0],\n",
       " ['20200420', 3.0, 3.0, 2.0, 4.0, 1.0, 2.0, 2.0, 3.0, 2.0, 1.0, 2.0, 3.0, 1.0],\n",
       " ['20200421', 3.0, 3.0, 2.0, 4.0, 1.0, 2.0, 2.0, 3.0, 2.0, 1.0, 2.0, 3.0, 1.0],\n",
       " ['20200422', 3.0, 3.0, 2.0, 4.0, 1.0, 2.0, 2.0, 3.0, 2.0, 1.0, 2.0, 3.0, 1.0],\n",
       " ['20200423', 3.0, 3.0, 2.0, 4.0, 1.0, 2.0, 2.0, 3.0, 2.0, 1.0, 2.0, 3.0, 1.0],\n",
       " ['20200424', 3.0, 3.0, 2.0, 4.0, 1.0, 2.0, 2.0, 3.0, 2.0, 1.0, 2.0, 3.0, 1.0],\n",
       " ['20200425', 3.0, 3.0, 2.0, 4.0, 1.0, 2.0, 2.0, 3.0, 2.0, 1.0, 2.0, 3.0, 1.0],\n",
       " ['20200426', 3.0, 3.0, 2.0, 4.0, 1.0, 2.0, 2.0, 3.0, 2.0, 1.0, 2.0, 3.0, 1.0],\n",
       " ['20200427', 3.0, 3.0, 2.0, 4.0, 1.0, 2.0, 2.0, 3.0, 2.0, 1.0, 2.0, 3.0, 1.0],\n",
       " ['20200428', 3.0, 3.0, 2.0, 4.0, 1.0, 2.0, 2.0, 3.0, 2.0, 1.0, 2.0, 3.0, 1.0],\n",
       " ['20200429', 3.0, 3.0, 2.0, 4.0, 1.0, 2.0, 2.0, 3.0, 2.0, 1.0, 2.0, 3.0, 1.0],\n",
       " ['20200430', 3.0, 3.0, 2.0, 4.0, 1.0, 2.0, 2.0, 3.0, 2.0, 1.0, 2.0, 3.0, 1.0],\n",
       " ['20200501', 3.0, 3.0, 2.0, 4.0, 1.0, 2.0, 2.0, 3.0, nan, nan, 2.0, 3.0, 1.0],\n",
       " ['20200502', 3.0, 3.0, 2.0, 4.0, 1.0, 2.0, 2.0, 3.0, nan, nan, 2.0, 3.0, 1.0],\n",
       " ['20200503', 3.0, 3.0, 2.0, 4.0, 1.0, 2.0, 2.0, 3.0, nan, nan, 2.0, 3.0, 1.0],\n",
       " ['20200504', 3.0, 3.0, 2.0, 4.0, 1.0, 2.0, 2.0, 3.0, nan, nan, 2.0, 3.0, 1.0],\n",
       " ['20200505', 3.0, 3.0, 2.0, 4.0, 1.0, 2.0, 2.0, 3.0, nan, nan, 2.0, 3.0, 1.0],\n",
       " ['20200506', 3.0, 3.0, 2.0, 4.0, 1.0, 2.0, 2.0, 3.0, nan, nan, 2.0, 3.0, 1.0],\n",
       " ['20200507', 3.0, 3.0, 2.0, 4.0, 1.0, 2.0, 2.0, 3.0, nan, nan, 2.0, 3.0, 1.0],\n",
       " ['20200508', 3.0, 3.0, 2.0, 4.0, 1.0, 2.0, 2.0, 3.0, nan, nan, 2.0, 3.0, 1.0],\n",
       " ['20200509', 3.0, 3.0, 2.0, 4.0, 1.0, 2.0, 2.0, 3.0, nan, nan, 2.0, 3.0, 1.0],\n",
       " ['20200510', nan, nan, nan, nan, nan, nan, nan, nan, nan, nan, nan, nan, nan],\n",
       " ['20200511', nan, nan, nan, nan, nan, nan, nan, nan, nan, nan, nan, nan, nan],\n",
       " ['20200512', nan, nan, nan, nan, nan, nan, nan, nan, nan, nan, nan, nan, nan],\n",
       " ['20200513', nan, nan, nan, nan, nan, nan, nan, nan, nan, nan, nan, nan, nan]]"
      ]
     },
     "execution_count": 23,
     "metadata": {},
     "output_type": "execute_result"
    }
   ],
   "source": [
    "get_codedat()"
   ]
  },
  {
   "cell_type": "markdown",
   "metadata": {},
   "source": [
    "### Response policy maps\n",
    "\n",
    "* time along x axis \n",
    "* NaN same color as max value (typically 4)\n",
    "* 12 rows for presence of 12 factors.  cf oxford codebook.md in ../covid-policy-tracker/documentation/."
   ]
  },
  {
   "cell_type": "code",
   "execution_count": 34,
   "metadata": {},
   "outputs": [],
   "source": [
    "def plot_policy(iso='DEU'):\n",
    "    foo = get_codedat(iso)\n",
    "    foo = [f[1:] for f in foo]\n",
    "    plt.imshow(np.transpose(foo),cmap='hot',aspect='auto');\n",
    "    plt.title(iso)\n"
   ]
  },
  {
   "cell_type": "code",
   "execution_count": 35,
   "metadata": {},
   "outputs": [
    {
     "data": {
      "image/png": "[encoded data removed]",
      "text/plain": [
       "<Figure size 432x288 with 1 Axes>"
      ]
     },
     "metadata": {
      "needs_background": "light"
     },
     "output_type": "display_data"
    }
   ],
   "source": [
    "plot_policy('DEU')"
   ]
  },
  {
   "cell_type": "code",
   "execution_count": 36,
   "metadata": {},
   "outputs": [
    {
     "data": {
      "image/png": "[encoded data removed]",
      "text/plain": [
       "<Figure size 432x288 with 1 Axes>"
      ]
     },
     "metadata": {
      "needs_background": "light"
     },
     "output_type": "display_data"
    }
   ],
   "source": [
    "plot_policy('USA')"
   ]
  },
  {
   "cell_type": "code",
   "execution_count": 31,
   "metadata": {},
   "outputs": [
    {
     "data": {
      "image/png": "[encoded data removed]",
      "text/plain": [
       "<Figure size 432x288 with 1 Axes>"
      ]
     },
     "metadata": {
      "needs_background": "light"
     },
     "output_type": "display_data"
    }
   ],
   "source": [
    "plot_policy('KOR')"
   ]
  },
  {
   "cell_type": "code",
   "execution_count": 128,
   "metadata": {},
   "outputs": [
    {
     "ename": "TypeError",
     "evalue": "multiple values for argument 'cmap'",
     "output_type": "error",
     "traceback": [
      "\u001b[0;31m---------------------------------------------------------------------------\u001b[0m",
      "\u001b[0;31mTypeError\u001b[0m                                 Traceback (most recent call last)",
      "\u001b[0;32m<ipython-input-128-fdabba4a2de2>\u001b[0m in \u001b[0;36m<module>\u001b[0;34m\u001b[0m\n\u001b[1;32m      9\u001b[0m \u001b[0mregister_matplotlib_converters\u001b[0m\u001b[0;34m(\u001b[0m\u001b[0;34m)\u001b[0m \u001b[0;31m# pandas made me do it\u001b[0m\u001b[0;34m\u001b[0m\u001b[0;34m\u001b[0m\u001b[0m\n\u001b[1;32m     10\u001b[0m \u001b[0mfig\u001b[0m\u001b[0;34m,\u001b[0m\u001b[0max\u001b[0m \u001b[0;34m=\u001b[0m \u001b[0mplt\u001b[0m\u001b[0;34m.\u001b[0m\u001b[0msubplots\u001b[0m\u001b[0;34m(\u001b[0m\u001b[0;36m1\u001b[0m\u001b[0;34m,\u001b[0m\u001b[0;36m1\u001b[0m\u001b[0;34m)\u001b[0m\u001b[0;34m\u001b[0m\u001b[0;34m\u001b[0m\u001b[0m\n\u001b[0;32m---> 11\u001b[0;31m \u001b[0max\u001b[0m\u001b[0;34m.\u001b[0m\u001b[0mimshow\u001b[0m\u001b[0;34m(\u001b[0m\u001b[0mxx\u001b[0m\u001b[0;34m,\u001b[0m\u001b[0mnp\u001b[0m\u001b[0;34m.\u001b[0m\u001b[0mtranspose\u001b[0m\u001b[0;34m(\u001b[0m\u001b[0mfoo\u001b[0m\u001b[0;34m)\u001b[0m\u001b[0;34m,\u001b[0m\u001b[0mcmap\u001b[0m\u001b[0;34m=\u001b[0m\u001b[0;34m'hot'\u001b[0m\u001b[0;34m,\u001b[0m\u001b[0maspect\u001b[0m\u001b[0;34m=\u001b[0m\u001b[0;34m'auto'\u001b[0m\u001b[0;34m)\u001b[0m\u001b[0;34m;\u001b[0m\u001b[0;34m\u001b[0m\u001b[0;34m\u001b[0m\u001b[0m\n\u001b[0m\u001b[1;32m     12\u001b[0m \u001b[0max\u001b[0m\u001b[0;34m.\u001b[0m\u001b[0mxaxis\u001b[0m\u001b[0;34m.\u001b[0m\u001b[0mset_major_formatter\u001b[0m\u001b[0;34m(\u001b[0m\u001b[0mformatter\u001b[0m\u001b[0;34m)\u001b[0m\u001b[0;34m\u001b[0m\u001b[0;34m\u001b[0m\u001b[0m\n\u001b[1;32m     13\u001b[0m \u001b[0max\u001b[0m\u001b[0;34m.\u001b[0m\u001b[0mxaxis\u001b[0m\u001b[0;34m.\u001b[0m\u001b[0mset_major_locator\u001b[0m\u001b[0;34m(\u001b[0m\u001b[0mlocator\u001b[0m\u001b[0;34m)\u001b[0m\u001b[0;34m\u001b[0m\u001b[0;34m\u001b[0m\u001b[0m\n",
      "\u001b[0;32m~/.pyenv/versions/3.7.2/lib/python3.7/site-packages/matplotlib/__init__.py\u001b[0m in \u001b[0;36minner\u001b[0;34m(ax, data, *args, **kwargs)\u001b[0m\n\u001b[1;32m   1599\u001b[0m     \u001b[0;32mdef\u001b[0m \u001b[0minner\u001b[0m\u001b[0;34m(\u001b[0m\u001b[0max\u001b[0m\u001b[0;34m,\u001b[0m \u001b[0;34m*\u001b[0m\u001b[0margs\u001b[0m\u001b[0;34m,\u001b[0m \u001b[0mdata\u001b[0m\u001b[0;34m=\u001b[0m\u001b[0;32mNone\u001b[0m\u001b[0;34m,\u001b[0m \u001b[0;34m**\u001b[0m\u001b[0mkwargs\u001b[0m\u001b[0;34m)\u001b[0m\u001b[0;34m:\u001b[0m\u001b[0;34m\u001b[0m\u001b[0;34m\u001b[0m\u001b[0m\n\u001b[1;32m   1600\u001b[0m         \u001b[0;32mif\u001b[0m \u001b[0mdata\u001b[0m \u001b[0;32mis\u001b[0m \u001b[0;32mNone\u001b[0m\u001b[0;34m:\u001b[0m\u001b[0;34m\u001b[0m\u001b[0;34m\u001b[0m\u001b[0m\n\u001b[0;32m-> 1601\u001b[0;31m             \u001b[0;32mreturn\u001b[0m \u001b[0mfunc\u001b[0m\u001b[0;34m(\u001b[0m\u001b[0max\u001b[0m\u001b[0;34m,\u001b[0m \u001b[0;34m*\u001b[0m\u001b[0mmap\u001b[0m\u001b[0;34m(\u001b[0m\u001b[0msanitize_sequence\u001b[0m\u001b[0;34m,\u001b[0m \u001b[0margs\u001b[0m\u001b[0;34m)\u001b[0m\u001b[0;34m,\u001b[0m \u001b[0;34m**\u001b[0m\u001b[0mkwargs\u001b[0m\u001b[0;34m)\u001b[0m\u001b[0;34m\u001b[0m\u001b[0;34m\u001b[0m\u001b[0m\n\u001b[0m\u001b[1;32m   1602\u001b[0m \u001b[0;34m\u001b[0m\u001b[0m\n\u001b[1;32m   1603\u001b[0m         \u001b[0mbound\u001b[0m \u001b[0;34m=\u001b[0m \u001b[0mnew_sig\u001b[0m\u001b[0;34m.\u001b[0m\u001b[0mbind\u001b[0m\u001b[0;34m(\u001b[0m\u001b[0max\u001b[0m\u001b[0;34m,\u001b[0m \u001b[0;34m*\u001b[0m\u001b[0margs\u001b[0m\u001b[0;34m,\u001b[0m \u001b[0;34m**\u001b[0m\u001b[0mkwargs\u001b[0m\u001b[0;34m)\u001b[0m\u001b[0;34m\u001b[0m\u001b[0;34m\u001b[0m\u001b[0m\n",
      "\u001b[0;32m~/.pyenv/versions/3.7.2/lib/python3.7/site-packages/matplotlib/cbook/deprecation.py\u001b[0m in \u001b[0;36mwrapper\u001b[0;34m(*args, **kwargs)\u001b[0m\n\u001b[1;32m    358\u001b[0m     \u001b[0;34m@\u001b[0m\u001b[0mfunctools\u001b[0m\u001b[0;34m.\u001b[0m\u001b[0mwraps\u001b[0m\u001b[0;34m(\u001b[0m\u001b[0mfunc\u001b[0m\u001b[0;34m)\u001b[0m\u001b[0;34m\u001b[0m\u001b[0;34m\u001b[0m\u001b[0m\n\u001b[1;32m    359\u001b[0m     \u001b[0;32mdef\u001b[0m \u001b[0mwrapper\u001b[0m\u001b[0;34m(\u001b[0m\u001b[0;34m*\u001b[0m\u001b[0margs\u001b[0m\u001b[0;34m,\u001b[0m \u001b[0;34m**\u001b[0m\u001b[0mkwargs\u001b[0m\u001b[0;34m)\u001b[0m\u001b[0;34m:\u001b[0m\u001b[0;34m\u001b[0m\u001b[0;34m\u001b[0m\u001b[0m\n\u001b[0;32m--> 360\u001b[0;31m         \u001b[0marguments\u001b[0m \u001b[0;34m=\u001b[0m \u001b[0mfunc\u001b[0m\u001b[0;34m.\u001b[0m\u001b[0m__signature__\u001b[0m\u001b[0;34m.\u001b[0m\u001b[0mbind\u001b[0m\u001b[0;34m(\u001b[0m\u001b[0;34m*\u001b[0m\u001b[0margs\u001b[0m\u001b[0;34m,\u001b[0m \u001b[0;34m**\u001b[0m\u001b[0mkwargs\u001b[0m\u001b[0;34m)\u001b[0m\u001b[0;34m.\u001b[0m\u001b[0marguments\u001b[0m\u001b[0;34m\u001b[0m\u001b[0;34m\u001b[0m\u001b[0m\n\u001b[0m\u001b[1;32m    361\u001b[0m         \u001b[0;31m# We cannot just check `name not in arguments` because the pyplot\u001b[0m\u001b[0;34m\u001b[0m\u001b[0;34m\u001b[0m\u001b[0;34m\u001b[0m\u001b[0m\n\u001b[1;32m    362\u001b[0m         \u001b[0;31m# wrappers always pass all arguments explicitly.\u001b[0m\u001b[0;34m\u001b[0m\u001b[0;34m\u001b[0m\u001b[0;34m\u001b[0m\u001b[0m\n",
      "\u001b[0;32m~/.pyenv/versions/3.7.2/lib/python3.7/inspect.py\u001b[0m in \u001b[0;36mbind\u001b[0;34m(*args, **kwargs)\u001b[0m\n\u001b[1;32m   3013\u001b[0m         \u001b[0;32mif\u001b[0m \u001b[0mthe\u001b[0m \u001b[0mpassed\u001b[0m \u001b[0marguments\u001b[0m \u001b[0mcan\u001b[0m \u001b[0;32mnot\u001b[0m \u001b[0mbe\u001b[0m \u001b[0mbound\u001b[0m\u001b[0;34m.\u001b[0m\u001b[0;34m\u001b[0m\u001b[0;34m\u001b[0m\u001b[0m\n\u001b[1;32m   3014\u001b[0m         \"\"\"\n\u001b[0;32m-> 3015\u001b[0;31m         \u001b[0;32mreturn\u001b[0m \u001b[0margs\u001b[0m\u001b[0;34m[\u001b[0m\u001b[0;36m0\u001b[0m\u001b[0;34m]\u001b[0m\u001b[0;34m.\u001b[0m\u001b[0m_bind\u001b[0m\u001b[0;34m(\u001b[0m\u001b[0margs\u001b[0m\u001b[0;34m[\u001b[0m\u001b[0;36m1\u001b[0m\u001b[0;34m:\u001b[0m\u001b[0;34m]\u001b[0m\u001b[0;34m,\u001b[0m \u001b[0mkwargs\u001b[0m\u001b[0;34m)\u001b[0m\u001b[0;34m\u001b[0m\u001b[0;34m\u001b[0m\u001b[0m\n\u001b[0m\u001b[1;32m   3016\u001b[0m \u001b[0;34m\u001b[0m\u001b[0m\n\u001b[1;32m   3017\u001b[0m     \u001b[0;32mdef\u001b[0m \u001b[0mbind_partial\u001b[0m\u001b[0;34m(\u001b[0m\u001b[0;34m*\u001b[0m\u001b[0margs\u001b[0m\u001b[0;34m,\u001b[0m \u001b[0;34m**\u001b[0m\u001b[0mkwargs\u001b[0m\u001b[0;34m)\u001b[0m\u001b[0;34m:\u001b[0m\u001b[0;34m\u001b[0m\u001b[0;34m\u001b[0m\u001b[0m\n",
      "\u001b[0;32m~/.pyenv/versions/3.7.2/lib/python3.7/inspect.py\u001b[0m in \u001b[0;36m_bind\u001b[0;34m(self, args, kwargs, partial)\u001b[0m\n\u001b[1;32m   2954\u001b[0m                         raise TypeError(\n\u001b[1;32m   2955\u001b[0m                             'multiple values for argument {arg!r}'.format(\n\u001b[0;32m-> 2956\u001b[0;31m                                 arg=param.name)) from None\n\u001b[0m\u001b[1;32m   2957\u001b[0m \u001b[0;34m\u001b[0m\u001b[0m\n\u001b[1;32m   2958\u001b[0m                     \u001b[0marguments\u001b[0m\u001b[0;34m[\u001b[0m\u001b[0mparam\u001b[0m\u001b[0;34m.\u001b[0m\u001b[0mname\u001b[0m\u001b[0;34m]\u001b[0m \u001b[0;34m=\u001b[0m \u001b[0marg_val\u001b[0m\u001b[0;34m\u001b[0m\u001b[0;34m\u001b[0m\u001b[0m\n",
      "\u001b[0;31mTypeError\u001b[0m: multiple values for argument 'cmap'"
     ]
    },
    {
     "data": {
      "image/png": "[encoded data removed]",
      "text/plain": [
       "<Figure size 432x288 with 1 Axes>"
      ]
     },
     "metadata": {
      "needs_background": "light"
     },
     "output_type": "display_data"
    }
   ],
   "source": [
    "foo = get_codedat('FRA')\n",
    "fmt = '%Y%m%d'\n",
    "\n",
    "locator = mdates.MonthLocator()\n",
    "formatter= mdates.ConciseDateFormatter(locator)\n",
    "xx =[datetime.datetime.strptime(dd[0],fmt) for dd in foo]\n",
    "foo = [f[1:] for f in foo]\n",
    "\n",
    "register_matplotlib_converters() # pandas made me do it\n",
    "fig,ax = plt.subplots(1,1)\n",
    "ax.imshow(np.transpose(foo),cmap='hot',aspect='auto');\n",
    "ax.xaxis.set_major_formatter(formatter)\n",
    "ax.xaxis.set_major_locator(locator)\n",
    "for tick in ax.get_xticklabels():\n",
    "    tick.set_rotation(40)\n",
    "\n",
    "plt.show()"
   ]
  },
  {
   "cell_type": "code",
   "execution_count": 31,
   "metadata": {},
   "outputs": [],
   "source": [
    "def plotTargOx(iso,targ='ConfirmedDeaths'):\n",
    "    datt = [(dd['Date'],dd[targ]) for dd in oxdat if dd['CountryCode']==iso]\n",
    "    fmt = '%Y%m%d'\n",
    "    \n",
    "    start=False\n",
    "    xx = [] ; yy = []\n",
    "    last = 0\n",
    "    for i in range(len(datt)):\n",
    "        dd = datt[i]\n",
    "        if float(dd[1]) == 0:\n",
    "            if start==False:\n",
    "                continue\n",
    "            else:\n",
    "                pass\n",
    "        else:\n",
    "            if start==False:\n",
    "                start=True\n",
    "        if start:\n",
    "            xx.append(datetime.datetime.strptime(dd[0],fmt))\n",
    "            yy.append(Float(dd[1])-last)\n",
    "            last = Float(dd[1])\n",
    "        \n",
    "#    xx = [datetime.datetime.strptime(dd[0],fmt) for dd in datt if float(dd[1])>0 ]\n",
    "#    yy = [float(dd[1]) for dd in datt if int(dd[1])>0 ]\n",
    "\n",
    "    locator = mdates.MonthLocator()\n",
    "    formatter= mdates.ConciseDateFormatter(locator)\n",
    "\n",
    "    register_matplotlib_converters() # pandas made me do it\n",
    "    fig,ax = plt.subplots(1,1)\n",
    "    ax.step(xx,yy)\n",
    "    ax.xaxis.set_major_formatter(formatter)\n",
    "    ax.xaxis.set_major_locator(locator)\n",
    "    for tick in ax.get_xticklabels():\n",
    "        tick.set_rotation(40)\n",
    "        plt.title(iso+' '+targ)\n",
    "    plt.show()"
   ]
  },
  {
   "cell_type": "markdown",
   "metadata": {},
   "source": [
    "**NOTE:  Oxford data consistent with OWID data for deaths**"
   ]
  },
  {
   "cell_type": "code",
   "execution_count": 32,
   "metadata": {},
   "outputs": [
    {
     "data": {
      "image/png": "[encoded data removed]",
      "text/plain": [
       "<Figure size 432x288 with 1 Axes>"
      ]
     },
     "metadata": {
      "needs_background": "light"
     },
     "output_type": "display_data"
    }
   ],
   "source": [
    "plotTargOx('DEU')"
   ]
  },
  {
   "cell_type": "code",
   "execution_count": 33,
   "metadata": {},
   "outputs": [
    {
     "data": {
      "image/png": "[encoded data removed]",
      "text/plain": [
       "<Figure size 432x288 with 1 Axes>"
      ]
     },
     "metadata": {
      "needs_background": "light"
     },
     "output_type": "display_data"
    }
   ],
   "source": [
    "plotTarget('DEU','new_deaths')"
   ]
  },
  {
   "cell_type": "code",
   "execution_count": null,
   "metadata": {},
   "outputs": [],
   "source": []
  }
 ],
 "metadata": {
  "kernelspec": {
   "display_name": "Python3",
   "language": "python",
   "name": "python3"
  },
  "language_info": {
   "codemirror_mode": {
    "name": "ipython",
    "version": 3
   },
   "file_extension": ".py",
   "mimetype": "text/x-python",
   "name": "python",
   "nbconvert_exporter": "python",
   "pygments_lexer": "ipython3",
   "version": "3.7.2"
  },
  "toc": {
   "nav_menu": {},
   "number_sections": true,
   "sideBar": true,
   "skip_h1_title": false,
   "title_cell": "Table of Contents",
   "title_sidebar": "Contents",
   "toc_cell": false,
   "toc_position": {},
   "toc_section_display": true,
   "toc_window_display": false
  }
 },
 "nbformat": 4,
 "nbformat_minor": 2
}
