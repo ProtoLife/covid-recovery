{
 "cells": [
  {
   "cell_type": "markdown",
   "metadata": {},
   "source": [
    "# Covid data exploration and fitting"
   ]
  },
  {
   "cell_type": "markdown",
   "metadata": {},
   "source": [
    "## Current status\n",
    "1. 1.9.2020 Fixed Owid data extraction for compatibility with jhu (alignment of dates and datatypes, correction of tests)"
   ]
  },
  {
   "cell_type": "markdown",
   "metadata": {},
   "source": [
    "## Setup"
   ]
  },
  {
   "cell_type": "code",
   "execution_count": 1,
   "metadata": {},
   "outputs": [
    {
     "name": "stderr",
     "output_type": "stream",
     "text": [
      "/Users/n/.pyenv/versions/3.7.2/lib/python3.7/site-packages/statsmodels/tools/_testing.py:19: FutureWarning: pandas.util.testing is deprecated. Use the functions in the public API at pandas.testing instead.\n",
      "  import pandas.util.testing as tm\n"
     ]
    }
   ],
   "source": [
    "import numpy as np\n",
    "import csv\n",
    "import itertools\n",
    "import matplotlib\n",
    "%matplotlib inline\n",
    "import seaborn as sb\n",
    "from matplotlib import pyplot as plt\n",
    "from cycler import cycler\n",
    "import datetime\n",
    "import matplotlib.dates as mdates\n",
    "from pandas.plotting import register_matplotlib_converters\n",
    "register_matplotlib_converters()\n",
    "import pwlf"
   ]
  },
  {
   "cell_type": "code",
   "execution_count": 2,
   "metadata": {},
   "outputs": [
    {
     "data": {
      "text/html": [
       "<style>.container { width:100% !important; }</style>"
      ],
      "text/plain": [
       "<IPython.core.display.HTML object>"
      ]
     },
     "metadata": {},
     "output_type": "display_data"
    }
   ],
   "source": [
    "import sys\n",
    "from IPython.core.display import display, HTML\n",
    "display(HTML(\"<style>.container { width:100% !important; }</style>\"))"
   ]
  },
  {
   "cell_type": "code",
   "execution_count": 3,
   "metadata": {},
   "outputs": [
    {
     "data": {
      "text/plain": [
       "'/Users/n/.pyenv/versions/3.7.2/bin/python3'"
      ]
     },
     "execution_count": 3,
     "metadata": {},
     "output_type": "execute_result"
    }
   ],
   "source": [
    "sys.executable\n"
   ]
  },
  {
   "cell_type": "code",
   "execution_count": 4,
   "metadata": {},
   "outputs": [
    {
     "data": {
      "text/plain": [
       "'3.1.1'"
      ]
     },
     "execution_count": 4,
     "metadata": {},
     "output_type": "execute_result"
    }
   ],
   "source": [
    "matplotlib.__version__"
   ]
  },
  {
   "cell_type": "code",
   "execution_count": 5,
   "metadata": {},
   "outputs": [],
   "source": [
    "def Float(x):\n",
    "    try:\n",
    "        rtn = float(x)\n",
    "    except:\n",
    "        rtn = float('NaN')\n",
    "    return rtn"
   ]
  },
  {
   "cell_type": "markdown",
   "metadata": {},
   "source": [
    "## JHU data and OWID data"
   ]
  },
  {
   "cell_type": "code",
   "execution_count": 6,
   "metadata": {},
   "outputs": [],
   "source": [
    "def get_data(jhu_file):\n",
    "    dat = []\n",
    "    with open(jhu_file, newline='') as csvfile:\n",
    "        myreader = csv.reader(csvfile, delimiter=',')\n",
    "        popdat = []\n",
    "        i = 0\n",
    "        for row in myreader:\n",
    "            if i != 0:\n",
    "                poplist = []\n",
    "                j = 0\n",
    "                for elt in row:\n",
    "                    if j >= 4:\n",
    "                        poplist.append(int(elt))\n",
    "                    elif j == 0:\n",
    "                        poplist.append(elt)\n",
    "                    elif j == 1:\n",
    "                        poplist[0]=(elt,poplist[0])\n",
    "                    j = j+1\n",
    "                popdat.append(poplist)\n",
    "            else:\n",
    "                popdat.append(row)\n",
    "            # print(popdat[i])\n",
    "            i = i + 1;\n",
    "    # dates\n",
    "    popdat0=['dates']\n",
    "    for elt in popdat[0][4:]:\n",
    "        popdat0.append(elt)\n",
    "    popdat[0] = [pop for pop in popdat0]\n",
    "    print('popdat[0]',popdat[0])\n",
    "    # totals over all countries\n",
    "    totals = np.zeros(len(popdat[0])-1,dtype=int)\n",
    "    for row in popdat[1:]:\n",
    "        totals = totals + np.array(row[1:])\n",
    "    totals = list(np.asarray(totals))\n",
    "    # print(totals)\n",
    "    popkeyed = {poplist[0]: poplist[1:] for poplist in popdat}\n",
    "    popkeyed.update({'dates':popdat[0][1:]})\n",
    "    popkeyed.update({('World',''):totals})\n",
    "    # del popkeyed[('d','a')]\n",
    "    # assemble totals for countries with multiple regions\n",
    "    total = np.zeros(len(popkeyed['dates']),dtype=int)\n",
    "    poptotkeyed = {}\n",
    "    for country,tseries in popkeyed.items():\n",
    "        if country!='dates' and country[1] != '':                           # seems that UK is single exception with both '' and non '' regions, UK total is then UK overseas\n",
    "            countrytotal = (country[0],'Total')\n",
    "            if countrytotal in poptotkeyed:\n",
    "                # print(country,popkeyed[country],poptotkeyed[countrytotal])\n",
    "                total = np.array(tseries)[:]+np.array(poptotkeyed[countrytotal])[:]\n",
    "            else:\n",
    "                total =  np.array(tseries)                        \n",
    "            poptotkeyed.update({countrytotal:list(total)})\n",
    "    for countrytotal,tseries in poptotkeyed.items():\n",
    "        total = np.array(tseries)\n",
    "        popkeyed.update({countrytotal:list(total)})\n",
    "    return popkeyed"
   ]
  },
  {
   "cell_type": "code",
   "execution_count": 7,
   "metadata": {},
   "outputs": [
    {
     "name": "stdout",
     "output_type": "stream",
     "text": [
      "popdat[0] ['dates', '1/22/20', '1/23/20', '1/24/20', '1/25/20', '1/26/20', '1/27/20', '1/28/20', '1/29/20', '1/30/20', '1/31/20', '2/1/20', '2/2/20', '2/3/20', '2/4/20', '2/5/20', '2/6/20', '2/7/20', '2/8/20', '2/9/20', '2/10/20', '2/11/20', '2/12/20', '2/13/20', '2/14/20', '2/15/20', '2/16/20', '2/17/20', '2/18/20', '2/19/20', '2/20/20', '2/21/20', '2/22/20', '2/23/20', '2/24/20', '2/25/20', '2/26/20', '2/27/20', '2/28/20', '2/29/20', '3/1/20', '3/2/20', '3/3/20', '3/4/20', '3/5/20', '3/6/20', '3/7/20', '3/8/20', '3/9/20', '3/10/20', '3/11/20', '3/12/20', '3/13/20', '3/14/20', '3/15/20', '3/16/20', '3/17/20', '3/18/20', '3/19/20', '3/20/20', '3/21/20', '3/22/20', '3/23/20', '3/24/20', '3/25/20', '3/26/20', '3/27/20', '3/28/20', '3/29/20', '3/30/20', '3/31/20', '4/1/20', '4/2/20', '4/3/20', '4/4/20', '4/5/20', '4/6/20', '4/7/20', '4/8/20', '4/9/20', '4/10/20', '4/11/20', '4/12/20', '4/13/20', '4/14/20', '4/15/20', '4/16/20', '4/17/20', '4/18/20', '4/19/20', '4/20/20', '4/21/20', '4/22/20', '4/23/20', '4/24/20', '4/25/20', '4/26/20', '4/27/20', '4/28/20', '4/29/20', '4/30/20', '5/1/20', '5/2/20', '5/3/20', '5/4/20', '5/5/20', '5/6/20', '5/7/20', '5/8/20', '5/9/20', '5/10/20', '5/11/20', '5/12/20', '5/13/20', '5/14/20', '5/15/20', '5/16/20', '5/17/20', '5/18/20', '5/19/20', '5/20/20', '5/21/20', '5/22/20', '5/23/20', '5/24/20', '5/25/20', '5/26/20', '5/27/20', '5/28/20', '5/29/20', '5/30/20', '5/31/20', '6/1/20', '6/2/20', '6/3/20', '6/4/20', '6/5/20', '6/6/20', '6/7/20', '6/8/20', '6/9/20', '6/10/20', '6/11/20', '6/12/20', '6/13/20', '6/14/20', '6/15/20', '6/16/20', '6/17/20', '6/18/20', '6/19/20', '6/20/20', '6/21/20', '6/22/20', '6/23/20', '6/24/20', '6/25/20', '6/26/20', '6/27/20', '6/28/20', '6/29/20', '6/30/20', '7/1/20', '7/2/20', '7/3/20', '7/4/20', '7/5/20', '7/6/20', '7/7/20', '7/8/20', '7/9/20', '7/10/20', '7/11/20', '7/12/20', '7/13/20', '7/14/20', '7/15/20', '7/16/20', '7/17/20', '7/18/20', '7/19/20', '7/20/20', '7/21/20', '7/22/20', '7/23/20', '7/24/20', '7/25/20', '7/26/20', '7/27/20', '7/28/20', '7/29/20', '7/30/20', '7/31/20', '8/1/20', '8/2/20', '8/3/20', '8/4/20', '8/5/20', '8/6/20', '8/7/20', '8/8/20', '8/9/20', '8/10/20', '8/11/20', '8/12/20', '8/13/20', '8/14/20', '8/15/20', '8/16/20', '8/17/20', '8/18/20', '8/19/20', '8/20/20', '8/21/20', '8/22/20', '8/23/20', '8/24/20', '8/25/20', '8/26/20', '8/27/20', '8/28/20', '8/29/20', '8/30/20']\n",
      "popdat[0] ['dates', '1/22/20', '1/23/20', '1/24/20', '1/25/20', '1/26/20', '1/27/20', '1/28/20', '1/29/20', '1/30/20', '1/31/20', '2/1/20', '2/2/20', '2/3/20', '2/4/20', '2/5/20', '2/6/20', '2/7/20', '2/8/20', '2/9/20', '2/10/20', '2/11/20', '2/12/20', '2/13/20', '2/14/20', '2/15/20', '2/16/20', '2/17/20', '2/18/20', '2/19/20', '2/20/20', '2/21/20', '2/22/20', '2/23/20', '2/24/20', '2/25/20', '2/26/20', '2/27/20', '2/28/20', '2/29/20', '3/1/20', '3/2/20', '3/3/20', '3/4/20', '3/5/20', '3/6/20', '3/7/20', '3/8/20', '3/9/20', '3/10/20', '3/11/20', '3/12/20', '3/13/20', '3/14/20', '3/15/20', '3/16/20', '3/17/20', '3/18/20', '3/19/20', '3/20/20', '3/21/20', '3/22/20', '3/23/20', '3/24/20', '3/25/20', '3/26/20', '3/27/20', '3/28/20', '3/29/20', '3/30/20', '3/31/20', '4/1/20', '4/2/20', '4/3/20', '4/4/20', '4/5/20', '4/6/20', '4/7/20', '4/8/20', '4/9/20', '4/10/20', '4/11/20', '4/12/20', '4/13/20', '4/14/20', '4/15/20', '4/16/20', '4/17/20', '4/18/20', '4/19/20', '4/20/20', '4/21/20', '4/22/20', '4/23/20', '4/24/20', '4/25/20', '4/26/20', '4/27/20', '4/28/20', '4/29/20', '4/30/20', '5/1/20', '5/2/20', '5/3/20', '5/4/20', '5/5/20', '5/6/20', '5/7/20', '5/8/20', '5/9/20', '5/10/20', '5/11/20', '5/12/20', '5/13/20', '5/14/20', '5/15/20', '5/16/20', '5/17/20', '5/18/20', '5/19/20', '5/20/20', '5/21/20', '5/22/20', '5/23/20', '5/24/20', '5/25/20', '5/26/20', '5/27/20', '5/28/20', '5/29/20', '5/30/20', '5/31/20', '6/1/20', '6/2/20', '6/3/20', '6/4/20', '6/5/20', '6/6/20', '6/7/20', '6/8/20', '6/9/20', '6/10/20', '6/11/20', '6/12/20', '6/13/20', '6/14/20', '6/15/20', '6/16/20', '6/17/20', '6/18/20', '6/19/20', '6/20/20', '6/21/20', '6/22/20', '6/23/20', '6/24/20', '6/25/20', '6/26/20', '6/27/20', '6/28/20', '6/29/20', '6/30/20', '7/1/20', '7/2/20', '7/3/20', '7/4/20', '7/5/20', '7/6/20', '7/7/20', '7/8/20', '7/9/20', '7/10/20', '7/11/20', '7/12/20', '7/13/20', '7/14/20', '7/15/20', '7/16/20', '7/17/20', '7/18/20', '7/19/20', '7/20/20', '7/21/20', '7/22/20', '7/23/20', '7/24/20', '7/25/20', '7/26/20', '7/27/20', '7/28/20', '7/29/20', '7/30/20', '7/31/20', '8/1/20', '8/2/20', '8/3/20', '8/4/20', '8/5/20', '8/6/20', '8/7/20', '8/8/20', '8/9/20', '8/10/20', '8/11/20', '8/12/20', '8/13/20', '8/14/20', '8/15/20', '8/16/20', '8/17/20', '8/18/20', '8/19/20', '8/20/20', '8/21/20', '8/22/20', '8/23/20', '8/24/20', '8/25/20', '8/26/20', '8/27/20', '8/28/20', '8/29/20', '8/30/20']\n",
      "popdat[0] ['dates', '1/22/20', '1/23/20', '1/24/20', '1/25/20', '1/26/20', '1/27/20', '1/28/20', '1/29/20', '1/30/20', '1/31/20', '2/1/20', '2/2/20', '2/3/20', '2/4/20', '2/5/20', '2/6/20', '2/7/20', '2/8/20', '2/9/20', '2/10/20', '2/11/20', '2/12/20', '2/13/20', '2/14/20', '2/15/20', '2/16/20', '2/17/20', '2/18/20', '2/19/20', '2/20/20', '2/21/20', '2/22/20', '2/23/20', '2/24/20', '2/25/20', '2/26/20', '2/27/20', '2/28/20', '2/29/20', '3/1/20', '3/2/20', '3/3/20', '3/4/20', '3/5/20', '3/6/20', '3/7/20', '3/8/20', '3/9/20', '3/10/20', '3/11/20', '3/12/20', '3/13/20', '3/14/20', '3/15/20', '3/16/20', '3/17/20', '3/18/20', '3/19/20', '3/20/20', '3/21/20', '3/22/20', '3/23/20', '3/24/20', '3/25/20', '3/26/20', '3/27/20', '3/28/20', '3/29/20', '3/30/20', '3/31/20', '4/1/20', '4/2/20', '4/3/20', '4/4/20', '4/5/20', '4/6/20', '4/7/20', '4/8/20', '4/9/20', '4/10/20', '4/11/20', '4/12/20', '4/13/20', '4/14/20', '4/15/20', '4/16/20', '4/17/20', '4/18/20', '4/19/20', '4/20/20', '4/21/20', '4/22/20', '4/23/20', '4/24/20', '4/25/20', '4/26/20', '4/27/20', '4/28/20', '4/29/20', '4/30/20', '5/1/20', '5/2/20', '5/3/20', '5/4/20', '5/5/20', '5/6/20', '5/7/20', '5/8/20', '5/9/20', '5/10/20', '5/11/20', '5/12/20', '5/13/20', '5/14/20', '5/15/20', '5/16/20', '5/17/20', '5/18/20', '5/19/20', '5/20/20', '5/21/20', '5/22/20', '5/23/20', '5/24/20', '5/25/20', '5/26/20', '5/27/20', '5/28/20', '5/29/20', '5/30/20', '5/31/20', '6/1/20', '6/2/20', '6/3/20', '6/4/20', '6/5/20', '6/6/20', '6/7/20', '6/8/20', '6/9/20', '6/10/20', '6/11/20', '6/12/20', '6/13/20', '6/14/20', '6/15/20', '6/16/20', '6/17/20', '6/18/20', '6/19/20', '6/20/20', '6/21/20', '6/22/20', '6/23/20', '6/24/20', '6/25/20', '6/26/20', '6/27/20', '6/28/20', '6/29/20', '6/30/20', '7/1/20', '7/2/20', '7/3/20', '7/4/20', '7/5/20', '7/6/20', '7/7/20', '7/8/20', '7/9/20', '7/10/20', '7/11/20', '7/12/20', '7/13/20', '7/14/20', '7/15/20', '7/16/20', '7/17/20', '7/18/20', '7/19/20', '7/20/20', '7/21/20', '7/22/20', '7/23/20', '7/24/20', '7/25/20', '7/26/20', '7/27/20', '7/28/20', '7/29/20', '7/30/20', '7/31/20', '8/1/20', '8/2/20', '8/3/20', '8/4/20', '8/5/20', '8/6/20', '8/7/20', '8/8/20', '8/9/20', '8/10/20', '8/11/20', '8/12/20', '8/13/20', '8/14/20', '8/15/20', '8/16/20', '8/17/20', '8/18/20', '8/19/20', '8/20/20', '8/21/20', '8/22/20', '8/23/20', '8/24/20', '8/25/20', '8/26/20', '8/27/20', '8/28/20', '8/29/20', '8/30/20']\n",
      "number of countries listed 274\n",
      "0 ('Afghanistan', '')\n",
      "1 ('Albania', '')\n",
      "2 ('Algeria', '')\n",
      "3 ('Andorra', '')\n",
      "4 ('Angola', '')\n",
      "5 ('Antigua and Barbuda', '')\n",
      "6 ('Argentina', '')\n",
      "7 ('Armenia', '')\n",
      "8 ('Australia', 'Australian Capital Territory')\n",
      "9 ('Australia', 'New South Wales')\n",
      "10 ('Australia', 'Northern Territory')\n",
      "11 ('Australia', 'Queensland')\n",
      "12 ('Australia', 'South Australia')\n",
      "13 ('Australia', 'Tasmania')\n",
      "14 ('Australia', 'Victoria')\n",
      "15 ('Australia', 'Western Australia')\n",
      "16 ('Austria', '')\n",
      "17 ('Azerbaijan', '')\n",
      "18 ('Bahamas', '')\n",
      "19 ('Bahrain', '')\n",
      "20 ('Bangladesh', '')\n",
      "21 ('Barbados', '')\n",
      "22 ('Belarus', '')\n",
      "23 ('Belgium', '')\n",
      "24 ('Belize', '')\n",
      "25 ('Benin', '')\n",
      "26 ('Bhutan', '')\n",
      "27 ('Bolivia', '')\n",
      "28 ('Bosnia and Herzegovina', '')\n",
      "29 ('Botswana', '')\n",
      "30 ('Brazil', '')\n",
      "31 ('Brunei', '')\n",
      "32 ('Bulgaria', '')\n",
      "33 ('Burkina Faso', '')\n",
      "34 ('Burma', '')\n",
      "35 ('Burundi', '')\n",
      "36 ('Cabo Verde', '')\n",
      "37 ('Cambodia', '')\n",
      "38 ('Cameroon', '')\n",
      "39 ('Canada', 'Alberta')\n",
      "40 ('Canada', 'British Columbia')\n",
      "41 ('Canada', 'Diamond Princess')\n",
      "42 ('Canada', 'Grand Princess')\n",
      "43 ('Canada', 'Manitoba')\n",
      "44 ('Canada', 'New Brunswick')\n",
      "45 ('Canada', 'Newfoundland and Labrador')\n",
      "46 ('Canada', 'Northwest Territories')\n",
      "47 ('Canada', 'Nova Scotia')\n",
      "48 ('Canada', 'Ontario')\n",
      "49 ('Canada', 'Prince Edward Island')\n",
      "50 ('Canada', 'Quebec')\n",
      "51 ('Canada', 'Saskatchewan')\n",
      "52 ('Canada', 'Yukon')\n",
      "53 ('Central African Republic', '')\n",
      "54 ('Chad', '')\n",
      "55 ('Chile', '')\n",
      "56 ('China', 'Anhui')\n",
      "57 ('China', 'Beijing')\n",
      "58 ('China', 'Chongqing')\n",
      "59 ('China', 'Fujian')\n",
      "60 ('China', 'Gansu')\n",
      "61 ('China', 'Guangdong')\n",
      "62 ('China', 'Guangxi')\n",
      "63 ('China', 'Guizhou')\n",
      "64 ('China', 'Hainan')\n",
      "65 ('China', 'Hebei')\n",
      "66 ('China', 'Heilongjiang')\n",
      "67 ('China', 'Henan')\n",
      "68 ('China', 'Hong Kong')\n",
      "69 ('China', 'Hubei')\n",
      "70 ('China', 'Hunan')\n",
      "71 ('China', 'Inner Mongolia')\n",
      "72 ('China', 'Jiangsu')\n",
      "73 ('China', 'Jiangxi')\n",
      "74 ('China', 'Jilin')\n",
      "75 ('China', 'Liaoning')\n",
      "76 ('China', 'Macau')\n",
      "77 ('China', 'Ningxia')\n",
      "78 ('China', 'Qinghai')\n",
      "79 ('China', 'Shaanxi')\n",
      "80 ('China', 'Shandong')\n",
      "81 ('China', 'Shanghai')\n",
      "82 ('China', 'Shanxi')\n",
      "83 ('China', 'Sichuan')\n",
      "84 ('China', 'Tianjin')\n",
      "85 ('China', 'Tibet')\n",
      "86 ('China', 'Xinjiang')\n",
      "87 ('China', 'Yunnan')\n",
      "88 ('China', 'Zhejiang')\n",
      "89 ('Colombia', '')\n",
      "90 ('Comoros', '')\n",
      "91 ('Congo (Brazzaville)', '')\n",
      "92 ('Congo (Kinshasa)', '')\n",
      "93 ('Costa Rica', '')\n",
      "94 (\"Cote d'Ivoire\", '')\n",
      "95 ('Croatia', '')\n",
      "96 ('Cuba', '')\n",
      "97 ('Cyprus', '')\n",
      "98 ('Czechia', '')\n",
      "99 ('Denmark', 'Faroe Islands')\n",
      "100 ('Denmark', 'Greenland')\n",
      "101 ('Denmark', '')\n",
      "102 ('Diamond Princess', '')\n",
      "103 ('Djibouti', '')\n",
      "104 ('Dominica', '')\n",
      "105 ('Dominican Republic', '')\n",
      "106 ('Ecuador', '')\n",
      "107 ('Egypt', '')\n",
      "108 ('El Salvador', '')\n",
      "109 ('Equatorial Guinea', '')\n",
      "110 ('Eritrea', '')\n",
      "111 ('Estonia', '')\n",
      "112 ('Eswatini', '')\n",
      "113 ('Ethiopia', '')\n",
      "114 ('Fiji', '')\n",
      "115 ('Finland', '')\n",
      "116 ('France', 'French Guiana')\n",
      "117 ('France', 'French Polynesia')\n",
      "118 ('France', 'Guadeloupe')\n",
      "119 ('France', 'Martinique')\n",
      "120 ('France', 'Mayotte')\n",
      "121 ('France', 'New Caledonia')\n",
      "122 ('France', 'Reunion')\n",
      "123 ('France', 'Saint Barthelemy')\n",
      "124 ('France', 'Saint Pierre and Miquelon')\n",
      "125 ('France', 'St Martin')\n",
      "126 ('France', '')\n",
      "127 ('Gabon', '')\n",
      "128 ('Gambia', '')\n",
      "129 ('Georgia', '')\n",
      "130 ('Germany', '')\n",
      "131 ('Ghana', '')\n",
      "132 ('Greece', '')\n",
      "133 ('Grenada', '')\n",
      "134 ('Guatemala', '')\n",
      "135 ('Guinea', '')\n",
      "136 ('Guinea-Bissau', '')\n",
      "137 ('Guyana', '')\n",
      "138 ('Haiti', '')\n",
      "139 ('Holy See', '')\n",
      "140 ('Honduras', '')\n",
      "141 ('Hungary', '')\n",
      "142 ('Iceland', '')\n",
      "143 ('India', '')\n",
      "144 ('Indonesia', '')\n",
      "145 ('Iran', '')\n",
      "146 ('Iraq', '')\n",
      "147 ('Ireland', '')\n",
      "148 ('Israel', '')\n",
      "149 ('Italy', '')\n",
      "150 ('Jamaica', '')\n",
      "151 ('Japan', '')\n",
      "152 ('Jordan', '')\n",
      "153 ('Kazakhstan', '')\n",
      "154 ('Kenya', '')\n",
      "155 ('Korea, South', '')\n",
      "156 ('Kosovo', '')\n",
      "157 ('Kuwait', '')\n",
      "158 ('Kyrgyzstan', '')\n",
      "159 ('Laos', '')\n",
      "160 ('Latvia', '')\n",
      "161 ('Lebanon', '')\n",
      "162 ('Lesotho', '')\n",
      "163 ('Liberia', '')\n",
      "164 ('Libya', '')\n",
      "165 ('Liechtenstein', '')\n",
      "166 ('Lithuania', '')\n",
      "167 ('Luxembourg', '')\n",
      "168 ('MS Zaandam', '')\n",
      "169 ('Madagascar', '')\n",
      "170 ('Malawi', '')\n",
      "171 ('Malaysia', '')\n",
      "172 ('Maldives', '')\n",
      "173 ('Mali', '')\n",
      "174 ('Malta', '')\n",
      "175 ('Mauritania', '')\n",
      "176 ('Mauritius', '')\n",
      "177 ('Mexico', '')\n",
      "178 ('Moldova', '')\n",
      "179 ('Monaco', '')\n",
      "180 ('Mongolia', '')\n",
      "181 ('Montenegro', '')\n",
      "182 ('Morocco', '')\n",
      "183 ('Mozambique', '')\n",
      "184 ('Namibia', '')\n",
      "185 ('Nepal', '')\n",
      "186 ('Netherlands', 'Aruba')\n",
      "187 ('Netherlands', 'Bonaire, Sint Eustatius and Saba')\n",
      "188 ('Netherlands', 'Curacao')\n",
      "189 ('Netherlands', 'Sint Maarten')\n",
      "190 ('Netherlands', '')\n",
      "191 ('New Zealand', '')\n",
      "192 ('Nicaragua', '')\n",
      "193 ('Niger', '')\n",
      "194 ('Nigeria', '')\n",
      "195 ('North Macedonia', '')\n",
      "196 ('Norway', '')\n",
      "197 ('Oman', '')\n",
      "198 ('Pakistan', '')\n",
      "199 ('Panama', '')\n",
      "200 ('Papua New Guinea', '')\n",
      "201 ('Paraguay', '')\n",
      "202 ('Peru', '')\n",
      "203 ('Philippines', '')\n",
      "204 ('Poland', '')\n",
      "205 ('Portugal', '')\n",
      "206 ('Qatar', '')\n",
      "207 ('Romania', '')\n",
      "208 ('Russia', '')\n",
      "209 ('Rwanda', '')\n",
      "210 ('Saint Kitts and Nevis', '')\n",
      "211 ('Saint Lucia', '')\n",
      "212 ('Saint Vincent and the Grenadines', '')\n",
      "213 ('San Marino', '')\n",
      "214 ('Sao Tome and Principe', '')\n",
      "215 ('Saudi Arabia', '')\n",
      "216 ('Senegal', '')\n",
      "217 ('Serbia', '')\n",
      "218 ('Seychelles', '')\n",
      "219 ('Sierra Leone', '')\n",
      "220 ('Singapore', '')\n",
      "221 ('Slovakia', '')\n",
      "222 ('Slovenia', '')\n",
      "223 ('Somalia', '')\n",
      "224 ('South Africa', '')\n",
      "225 ('South Sudan', '')\n",
      "226 ('Spain', '')\n",
      "227 ('Sri Lanka', '')\n",
      "228 ('Sudan', '')\n",
      "229 ('Suriname', '')\n",
      "230 ('Sweden', '')\n",
      "231 ('Switzerland', '')\n",
      "232 ('Syria', '')\n",
      "233 ('Taiwan*', '')\n",
      "234 ('Tajikistan', '')\n",
      "235 ('Tanzania', '')\n",
      "236 ('Thailand', '')\n",
      "237 ('Timor-Leste', '')\n",
      "238 ('Togo', '')\n",
      "239 ('Trinidad and Tobago', '')\n",
      "240 ('Tunisia', '')\n",
      "241 ('Turkey', '')\n",
      "242 ('US', '')\n",
      "243 ('Uganda', '')\n",
      "244 ('Ukraine', '')\n",
      "245 ('United Arab Emirates', '')\n",
      "246 ('United Kingdom', 'Anguilla')\n",
      "247 ('United Kingdom', 'Bermuda')\n",
      "248 ('United Kingdom', 'British Virgin Islands')\n",
      "249 ('United Kingdom', 'Cayman Islands')\n",
      "250 ('United Kingdom', 'Channel Islands')\n",
      "251 ('United Kingdom', 'Falkland Islands (Malvinas)')\n",
      "252 ('United Kingdom', 'Gibraltar')\n",
      "253 ('United Kingdom', 'Isle of Man')\n",
      "254 ('United Kingdom', 'Montserrat')\n",
      "255 ('United Kingdom', 'Turks and Caicos Islands')\n",
      "256 ('United Kingdom', '')\n",
      "257 ('Uruguay', '')\n",
      "258 ('Uzbekistan', '')\n",
      "259 ('Venezuela', '')\n",
      "260 ('Vietnam', '')\n",
      "261 ('West Bank and Gaza', '')\n",
      "262 ('Western Sahara', '')\n",
      "263 ('Yemen', '')\n",
      "264 ('Zambia', '')\n",
      "265 ('Zimbabwe', '')\n",
      "266 ('World', '')\n",
      "267 ('Australia', 'Total')\n",
      "268 ('Canada', 'Total')\n",
      "269 ('China', 'Total')\n",
      "270 ('Denmark', 'Total')\n",
      "271 ('France', 'Total')\n",
      "272 ('Netherlands', 'Total')\n",
      "273 ('United Kingdom', 'Total')\n"
     ]
    }
   ],
   "source": [
    "base = '../covid-19-JH/csse_covid_19_data/csse_covid_19_time_series/'\n",
    "confirmed = get_data(base+'time_series_covid19_confirmed_global.csv')\n",
    "deaths = get_data(base+'time_series_covid19_deaths_global.csv')\n",
    "recovered = get_data(base+'time_series_covid19_recovered_global.csv')\n",
    "covid_ts = {'confirmed':confirmed,'deaths':deaths,'recovered':recovered}\n",
    "countries_jhu = [(row[0],row[1]) for row in confirmed][1:]\n",
    "print(\"number of countries listed\",len(countries_jhu))\n",
    "i=0\n",
    "for country in countries_jhu:\n",
    "    print(i,country)\n",
    "    i = i + 1"
   ]
  },
  {
   "cell_type": "code",
   "execution_count": 8,
   "metadata": {},
   "outputs": [
    {
     "name": "stdout",
     "output_type": "stream",
     "text": [
      "['1/22/20', '1/23/20', '1/24/20', '1/25/20', '1/26/20', '1/27/20', '1/28/20', '1/29/20', '1/30/20', '1/31/20', '2/1/20', '2/2/20', '2/3/20', '2/4/20', '2/5/20', '2/6/20', '2/7/20', '2/8/20', '2/9/20', '2/10/20', '2/11/20', '2/12/20', '2/13/20', '2/14/20', '2/15/20', '2/16/20', '2/17/20', '2/18/20', '2/19/20', '2/20/20', '2/21/20', '2/22/20', '2/23/20', '2/24/20', '2/25/20', '2/26/20', '2/27/20', '2/28/20', '2/29/20', '3/1/20', '3/2/20', '3/3/20', '3/4/20', '3/5/20', '3/6/20', '3/7/20', '3/8/20', '3/9/20', '3/10/20', '3/11/20', '3/12/20', '3/13/20', '3/14/20', '3/15/20', '3/16/20', '3/17/20', '3/18/20', '3/19/20', '3/20/20', '3/21/20', '3/22/20', '3/23/20', '3/24/20', '3/25/20', '3/26/20', '3/27/20', '3/28/20', '3/29/20', '3/30/20', '3/31/20', '4/1/20', '4/2/20', '4/3/20', '4/4/20', '4/5/20', '4/6/20', '4/7/20', '4/8/20', '4/9/20', '4/10/20', '4/11/20', '4/12/20', '4/13/20', '4/14/20', '4/15/20', '4/16/20', '4/17/20', '4/18/20', '4/19/20', '4/20/20', '4/21/20', '4/22/20', '4/23/20', '4/24/20', '4/25/20', '4/26/20', '4/27/20', '4/28/20', '4/29/20', '4/30/20', '5/1/20', '5/2/20', '5/3/20', '5/4/20', '5/5/20', '5/6/20', '5/7/20', '5/8/20', '5/9/20', '5/10/20', '5/11/20', '5/12/20', '5/13/20', '5/14/20', '5/15/20', '5/16/20', '5/17/20', '5/18/20', '5/19/20', '5/20/20', '5/21/20', '5/22/20', '5/23/20', '5/24/20', '5/25/20', '5/26/20', '5/27/20', '5/28/20', '5/29/20', '5/30/20', '5/31/20', '6/1/20', '6/2/20', '6/3/20', '6/4/20', '6/5/20', '6/6/20', '6/7/20', '6/8/20', '6/9/20', '6/10/20', '6/11/20', '6/12/20', '6/13/20', '6/14/20', '6/15/20', '6/16/20', '6/17/20', '6/18/20', '6/19/20', '6/20/20', '6/21/20', '6/22/20', '6/23/20', '6/24/20', '6/25/20', '6/26/20', '6/27/20', '6/28/20', '6/29/20', '6/30/20', '7/1/20', '7/2/20', '7/3/20', '7/4/20', '7/5/20', '7/6/20', '7/7/20', '7/8/20', '7/9/20', '7/10/20', '7/11/20', '7/12/20', '7/13/20', '7/14/20', '7/15/20', '7/16/20', '7/17/20', '7/18/20', '7/19/20', '7/20/20', '7/21/20', '7/22/20', '7/23/20', '7/24/20', '7/25/20', '7/26/20', '7/27/20', '7/28/20', '7/29/20', '7/30/20', '7/31/20', '8/1/20', '8/2/20', '8/3/20', '8/4/20', '8/5/20', '8/6/20', '8/7/20', '8/8/20', '8/9/20', '8/10/20', '8/11/20', '8/12/20', '8/13/20', '8/14/20', '8/15/20', '8/16/20', '8/17/20', '8/18/20', '8/19/20', '8/20/20', '8/21/20', '8/22/20', '8/23/20', '8/24/20', '8/25/20', '8/26/20', '8/27/20', '8/28/20', '8/29/20', '8/30/20']\n"
     ]
    }
   ],
   "source": [
    "print(confirmed['dates'])"
   ]
  },
  {
   "cell_type": "code",
   "execution_count": 9,
   "metadata": {},
   "outputs": [],
   "source": [
    "country_Oxford_JHU = {}\n",
    "country_Oxford_JHU.update({('Cape Verde', ''):('Cabo Verde', '')})\n",
    "country_Oxford_JHU.update({('Aruba', ''):('Netherlands', 'Aruba')})\n",
    "country_Oxford_JHU.update({('Bermuda', ''):('United Kingdom', 'Bermuda')})\n",
    "country_Oxford_JHU.update({('Hong Kong', ''):('China', 'Hong Kong')})\n",
    "country_Oxford_JHU.update({('Czech Republic', ''):('Czechia', '')})\n",
    "country_Oxford_JHU.update({('China', ''):('China', 'Total')})          # split in database : sums to Total need to be done\n",
    "country_Oxford_JHU.update({('Slovak Republic', ''):('Slovakia', '')})\n",
    "country_Oxford_JHU.update({('Congo', ''):('Congo (Brazzaville)', '')}) # two Congos, this is Rep. of Congo, other is Democratic Republic of Congo\n",
    "country_Oxford_JHU.update({('Democratic Republic of Congo', ''):('Congo-Kinshasa','')})\n",
    "country_Oxford_JHU.update({('Solomon Islands', ''):('Solomon Islands', '')}) # Not present in JHU list: sovereign state poln 650000\n",
    "country_Oxford_JHU.update({('South Korea', ''):('Korea, South', '')})\n",
    "country_Oxford_JHU.update({('Turkmenistan', ''):('Turkmenistan', '')}) # Not present in JHU list: 5.6M people in Central Asia\n",
    "country_Oxford_JHU.update({('Myanmar', ''):('Thailand', '')})\n",
    "country_Oxford_JHU.update({('United States', '') : ('US', '')})\n",
    "country_Oxford_JHU.update({('Australia', ''):('Australia', 'Total')})  # split in database : sums to Total need to be done\n",
    "country_Oxford_JHU.update({('Puerto Rico', ''):('United States','Puerto Rico')})   # not found in inspection of JHU list, territory of US\n",
    "country_Oxford_JHU.update({('Palestine', ''):('West Bank and Gaza', '')})\n",
    "country_Oxford_JHU.update({('Timor', ''):('Timor-Leste', '')})         # check two Timors, East Timor\n",
    "country_Oxford_JHU.update({('Canada', ''):('Canada', 'Total')})        # split in database : sums to Total need to be done\n",
    "country_Oxford_JHU.update({('Greenland', ''):('Denmark', 'Greenland')})\n",
    "country_Oxford_JHU.update({('Macao', ''):('China', 'Macau')})\n",
    "country_Oxford_JHU.update({('Kyrgyz Republic', ''):('Kyrgyzstan', '')})\n",
    "country_Oxford_JHU.update({('Taiwan', ''):('Taiwan*', '')})\n",
    "country_Oxford_JHU.update({('Guam', ''):('United States','Guam')})     # not found in inspection of JHU list, territory of US"
   ]
  },
  {
   "cell_type": "code",
   "execution_count": 10,
   "metadata": {},
   "outputs": [],
   "source": [
    "def plotCountry(country_s, datatype='confirmed', dataaccum='cumulative', fittype=None, ax=None, ax2=False,\n",
    "                symbol='o--', step=None, firstdate=None, lastdate=None, intdates=False, linecolor=None):\n",
    "    \"\"\" plots selected data for a list of countries or single country\n",
    "        datatypes allowed are 'confirmed','deaths','recovered'\n",
    "        dataaccum specifies either 'cumulative' or 'daily' or averaged over 7 days 'cum_av_weekly' or 'daily_av_weekly'\n",
    "        fittypes allowed are currently None, 'piecewise-linear'\n",
    "        ax graphical axes to use for plot: default None -> new axes\n",
    "        ax2 true if second axes as twin axes for overlay plotting\n",
    "        symbol to use for plotting\n",
    "        step whether to use step plotting instead of points: default None -> points\n",
    "        firstdate to plot (maybe before first date in data - pad with 0)\n",
    "        lastdate to plot (maybe after last date in data - pad with 0)\n",
    "        intdates : whether to plot dates as integers for compatibility (default as dates)\n",
    "        linecolor is default color to use for a single trace, instead of listed set)\n",
    "    \"\"\"\n",
    "    # extract list of countries in [(country,region),...] format from first parameter\n",
    "    countries = []\n",
    "    if isinstance(country_s,list):\n",
    "        for country in country_s:\n",
    "            if isinstance(country,str):\n",
    "                country = (country,'')\n",
    "            countries.append(country)\n",
    "    elif isinstance(country_s,str):\n",
    "        countries = [(country_s,'')]\n",
    "    else:                               # single ('country','reg') entry\n",
    "        countries = [country_s]\n",
    "        \n",
    "    # get data with datatype and extend dates to padd desired interval specified by firstdate,lastdate\n",
    "    popkeyed = covid_ts[datatype]\n",
    "    dates = popkeyed['dates']\n",
    "    fmt = '%m/%d/%y'\n",
    "    xx = [datetime.datetime.strptime(dd,fmt) for dd in dates ]\n",
    "    if firstdate:\n",
    "        firstdate_d = datetime.datetime.strptime(firstdate,fmt)\n",
    "    else:\n",
    "        firstdate_d = datetime.datetime.strptime(dates[0],fmt)\n",
    "    if lastdate:\n",
    "        lastdate_d = datetime.datetime.strptime(lastdate,fmt)\n",
    "    else:\n",
    "        lastdate_d = datetime.datetime.strptime(dates[-1],fmt)\n",
    "    daystart = (firstdate_d-xx[0]).days\n",
    "    daystop = (lastdate_d-xx[-1]).days\n",
    "    if daystart <0:\n",
    "        xx0 = [xx[0]+datetime.timedelta(days=i) for i in range(daystart,0)]\n",
    "        yy0 = [0.]*(-daystart)\n",
    "    else:\n",
    "        xx0 = []\n",
    "        yy0 = []\n",
    "    if daystop > 0:\n",
    "        xx1 = [xx[-1]+datetime.timedelta(days=i) for i in range(daystop)]\n",
    "        yy1 = [0.]*(daystop)\n",
    "    else:\n",
    "        xx1 = []\n",
    "        yy1 = []       \n",
    "    xx = xx0 + xx + xx1\n",
    "    \n",
    "    # print('len xx',len(xx))\n",
    "    if fittype == 'piecewise-linear':\n",
    "        xxi = [Float((x-firstdate_d).days) for x in xx ]\n",
    "        # print(xxi)\n",
    "        \n",
    "    # locator = mdates.MonthLocator()\n",
    "    locator = mdates.AutoDateLocator(minticks=5, maxticks=13)\n",
    "    formatter= mdates.ConciseDateFormatter(locator)\n",
    "    \n",
    "    if not ax:\n",
    "        fig,ax = plt.subplots(1,1,figsize=(20,10)) \n",
    "        ax2 = ax\n",
    "    elif ax2:\n",
    "        ax2 = ax.twinx()\n",
    "    else:\n",
    "        ax2 = ax\n",
    "    colors =  ['k', 'b', 'c', 'm', 'y', 'g', 'olive', 'chocolate']\n",
    "        \n",
    "    i = 0\n",
    "    j = 0\n",
    "    for country in countries:\n",
    "        try:\n",
    "            yy = popkeyed[country]\n",
    "            j = j+1\n",
    "        except:\n",
    "            print('country not found',country)\n",
    "            i = i + 1\n",
    "            continue\n",
    "        yyf = [Float(y) for y in yy]\n",
    "        yy = yy0 + yyf + yy1\n",
    "        # print('len yy',len(yy))\n",
    "        # ymax=np.max(np.array(yy))\n",
    "        yyf = [Float(y) for y in yy]\n",
    "        if dataaccum == 'daily':\n",
    "            yy = [0.]*len(yy)\n",
    "            yy[0] = yyf[0]\n",
    "            for k in range(1,len(yy)):\n",
    "                yy[k] = yyf[k]-yyf[k-1]   \n",
    "        elif dataaccum == 'cum_av_weekly':\n",
    "            yy = [0.]*len(yy)\n",
    "            moving_av = 0.\n",
    "            for k in range(len(yy)):\n",
    "                if k-7 >= 0:\n",
    "                    moving_av = moving_av - yyf[k-7]\n",
    "                moving_av = moving_av + yyf[k]\n",
    "                yy[k] = moving_av/min(7.0,float(k+1))\n",
    "        elif dataaccum == 'daily_av_weekly':\n",
    "            yy = [0.]*len(yyf)\n",
    "            yy[0] = yyf[0]\n",
    "            for k in range(1,len(yy)):\n",
    "                yy[k] = yyf[k]-yyf[k-1]\n",
    "            yyf = [y for y in yy]\n",
    "            yy = [0.]*len(yy)\n",
    "            moving_av = 0.\n",
    "            for k in range(len(yy)):\n",
    "                if k-7 >= 0:\n",
    "                    moving_av = moving_av - yyf[k-7]\n",
    "                moving_av = moving_av + yyf[k]\n",
    "                yy[k] = moving_av/min(7.0,float(k+1))\n",
    "        if intdates:\n",
    "            xx = range(len(xx))\n",
    "        if step:\n",
    "            ax2.step(xx,yy,label = country[0])\n",
    "        else:\n",
    "            # print(ax,ax2)\n",
    "            # ax2.set_ylim(ymax,0)\n",
    "            if linecolor:\n",
    "                color = linecolor\n",
    "            else:\n",
    "                color = colors[i]\n",
    "            ax2.plot(xx, yy, symbol, color = color, alpha=0.8, label = country[0])\n",
    "\n",
    "        plt.title(country[0]+'-'+country[1])  # +' '+datatype)\n",
    "        if fittype == 'piecewise-linear':    \n",
    "            # initialize piecewise linear fit with your x and y data\n",
    "            yyf = [Float(y) for y in yy]\n",
    "            my_pwlf = pwlf.PiecewiseLinFit(xxi, yyf)\n",
    "            # fit the data for three line segments\n",
    "            res = my_pwlf.fit(3)\n",
    "            # predict for the determined points\n",
    "            xHat = np.linspace(min(xxi), max(xxi), num=len(xx))\n",
    "            # print(len(xHat),len(xxi))\n",
    "            yHat = my_pwlf.predict(xHat)\n",
    "            ax2.plot(xx, yHat, color = colors[i], alpha=0.5, label = country[0]+' fit')\n",
    "        i = i+1\n",
    "\n",
    "    if j==0:\n",
    "        ax.axis(\"off\")\n",
    "    else:\n",
    "        if j > 1:\n",
    "            plt.legend(loc=\"upper left\")\n",
    "            plt.title('countries '+datatype+dataaccum)\n",
    "        if not intdates:\n",
    "            ax2.xaxis.set_major_formatter(formatter)\n",
    "            ax2.xaxis.set_major_locator(locator)\n",
    "            for tick in ax2.get_xticklabels():\n",
    "                tick.set_rotation(40)\n",
    "\n"
   ]
  },
  {
   "cell_type": "code",
   "execution_count": 11,
   "metadata": {},
   "outputs": [
    {
     "data": {
      "text/plain": [
       "odict_keys(['iso_code', 'continent', 'location', 'date', 'total_cases', 'new_cases', 'new_cases_smoothed', 'total_deaths', 'new_deaths', 'new_deaths_smoothed', 'total_cases_per_million', 'new_cases_per_million', 'new_cases_smoothed_per_million', 'total_deaths_per_million', 'new_deaths_per_million', 'new_deaths_smoothed_per_million', 'new_tests', 'total_tests', 'total_tests_per_thousand', 'new_tests_per_thousand', 'new_tests_smoothed', 'new_tests_smoothed_per_thousand', 'tests_per_case', 'positive_rate', 'tests_units', 'stringency_index', 'population', 'population_density', 'median_age', 'aged_65_older', 'aged_70_older', 'gdp_per_capita', 'extreme_poverty', 'cardiovasc_death_rate', 'diabetes_prevalence', 'female_smokers', 'male_smokers', 'handwashing_facilities', 'hospital_beds_per_thousand', 'life_expectancy'])"
      ]
     },
     "execution_count": 11,
     "metadata": {},
     "output_type": "execute_result"
    }
   ],
   "source": [
    "owid_file = '../covid-19-owid/public/data/owid-covid-data.csv'\n",
    "covid_owid = []\n",
    "with open(owid_file,'r',newline='') as fp:\n",
    "    myreader = csv.DictReader(fp,delimiter=',')\n",
    "#    rows = list(itertools.islice(myreader,4))\n",
    "    for row in myreader:\n",
    "        covid_owid.append(row)\n",
    "covid_owid[0].keys()"
   ]
  },
  {
   "cell_type": "code",
   "execution_count": 17,
   "metadata": {},
   "outputs": [
    {
     "data": {
      "text/plain": [
       "40"
      ]
     },
     "execution_count": 17,
     "metadata": {},
     "output_type": "execute_result"
    }
   ],
   "source": [
    "len(covid_owid[0].keys()"
   ]
  },
  {
   "cell_type": "code",
   "execution_count": 20,
   "metadata": {},
   "outputs": [
    {
     "name": "stdout",
     "output_type": "stream",
     "text": [
      "['iso_code', 'continent', 'location', 'date', 'total_cases', 'new_cases', 'new_cases_smoothed', 'total_deaths', 'new_deaths', 'new_deaths_smoothed', 'total_cases_per_million', 'new_cases_per_million', 'new_cases_smoothed_per_million', 'total_deaths_per_million', 'new_deaths_per_million', 'new_deaths_smoothed_per_million', 'new_tests', 'total_tests', 'total_tests_per_thousand', 'new_tests_per_thousand', 'new_tests_smoothed', 'new_tests_smoothed_per_thousand', 'tests_per_case', 'positive_rate', 'tests_units', 'stringency_index', 'population', 'population_density', 'median_age', 'aged_65_older', 'aged_70_older', 'gdp_per_capita', 'extreme_poverty', 'cardiovasc_death_rate', 'diabetes_prevalence', 'female_smokers', 'male_smokers', 'handwashing_facilities', 'hospital_beds_per_thousand', 'life_expectancy']\n"
     ]
    }
   ],
   "source": [
    "keys_ow = [k for k in covid_owid[0].keys()]\n",
    "print(keys_ow)"
   ]
  },
  {
   "cell_type": "code",
   "execution_count": null,
   "metadata": {},
   "outputs": [],
   "source": []
  },
  {
   "cell_type": "code",
   "execution_count": null,
   "metadata": {},
   "outputs": [],
   "source": [
    "# arrange owid data by country\n",
    "countries_ow = np.unique(np.array([dd['location'] for dd in covid_owid]))\n",
    "dates = np.unique(np.array([dd['date'] for dd in covid_owid]))\n",
    "dates.sort()\n",
    "fmt = '%Y-%m-%d'\n",
    "dates_t = [datetime.datetime.strptime(dd,fmt) for dd in dates ]\n",
    "firstdate = dates[0]\n",
    "lastdate = dates[-1]\n",
    "firstdate_t =  dates_t[0]\n",
    "lastdate_t =  dates_t[-1]\n",
    "daystart = 0\n",
    "daystop = (lastdate_t-firstdate_t).days\n",
    "\n",
    "owid_file = '../covid-19-owid/public/data/owid-covid-data.csv'\n",
    "\n",
    "\n",
    "\n",
    "cur = 'Afghanistan'\n",
    "\n",
    "\n",
    "with open(owid_file,'r',newline='') as fp:\n",
    "    myreader = csv.DictReader(fp,delimiter=',')\n",
    "#    rows = list(itertools.islice(myreader,4))\n",
    "    for row in myreader:\n",
    "        if\n",
    "        covid_owid.append(row)\n",
    "for cc in countries_ow:\n",
    "    dat[cc] = {kk:np.zeros(daystop+1,dtype=float) for kk in keys_data_ow}\n",
    "covid_owid[0].keys()"
   ]
  },
  {
   "cell_type": "code",
   "execution_count": 43,
   "metadata": {},
   "outputs": [
    {
     "ename": "KeyboardInterrupt",
     "evalue": "",
     "output_type": "error",
     "traceback": [
      "\u001b[0;31m---------------------------------------------------------------------------\u001b[0m",
      "\u001b[0;31mKeyboardInterrupt\u001b[0m                         Traceback (most recent call last)",
      "\u001b[0;32m<ipython-input-43-964ac03c54c7>\u001b[0m in \u001b[0;36m<module>\u001b[0;34m\u001b[0m\n\u001b[1;32m     27\u001b[0m             \u001b[0midx\u001b[0m \u001b[0;34m=\u001b[0m \u001b[0midx\u001b[0m\u001b[0;34m[\u001b[0m\u001b[0;36m0\u001b[0m\u001b[0;34m]\u001b[0m\u001b[0;34m\u001b[0m\u001b[0;34m\u001b[0m\u001b[0m\n\u001b[1;32m     28\u001b[0m         \u001b[0;32mfor\u001b[0m \u001b[0mkk\u001b[0m \u001b[0;32min\u001b[0m \u001b[0mkeys_data_ow\u001b[0m\u001b[0;34m:\u001b[0m\u001b[0;34m\u001b[0m\u001b[0;34m\u001b[0m\u001b[0m\n\u001b[0;32m---> 29\u001b[0;31m             \u001b[0mval\u001b[0m \u001b[0;34m=\u001b[0m \u001b[0;34m[\u001b[0m\u001b[0mFloat\u001b[0m\u001b[0;34m(\u001b[0m\u001b[0mdcowid\u001b[0m\u001b[0;34m[\u001b[0m\u001b[0mkk\u001b[0m\u001b[0;34m]\u001b[0m\u001b[0;34m)\u001b[0m  \u001b[0;32mfor\u001b[0m \u001b[0mdcowid\u001b[0m \u001b[0;32min\u001b[0m \u001b[0mcovid_owid\u001b[0m \u001b[0;32mif\u001b[0m \u001b[0mdcowid\u001b[0m\u001b[0;34m[\u001b[0m\u001b[0;34m'location'\u001b[0m\u001b[0;34m]\u001b[0m\u001b[0;34m==\u001b[0m\u001b[0mcc\u001b[0m \u001b[0;32mand\u001b[0m \u001b[0mdcowid\u001b[0m\u001b[0;34m[\u001b[0m\u001b[0;34m'date'\u001b[0m\u001b[0;34m]\u001b[0m\u001b[0;34m==\u001b[0m\u001b[0mdd\u001b[0m\u001b[0;34m]\u001b[0m\u001b[0;34m\u001b[0m\u001b[0;34m\u001b[0m\u001b[0m\n\u001b[0m\u001b[1;32m     30\u001b[0m             \u001b[0;32mif\u001b[0m \u001b[0mlen\u001b[0m\u001b[0;34m(\u001b[0m\u001b[0mval\u001b[0m\u001b[0;34m)\u001b[0m\u001b[0;34m>\u001b[0m\u001b[0;36m1\u001b[0m\u001b[0;34m:\u001b[0m\u001b[0;34m\u001b[0m\u001b[0;34m\u001b[0m\u001b[0m\n\u001b[1;32m     31\u001b[0m                 \u001b[0mprint\u001b[0m\u001b[0;34m(\u001b[0m\u001b[0;34m'ouchouch'\u001b[0m\u001b[0;34m)\u001b[0m\u001b[0;34m\u001b[0m\u001b[0;34m\u001b[0m\u001b[0m\n",
      "\u001b[0;32m<ipython-input-43-964ac03c54c7>\u001b[0m in \u001b[0;36m<listcomp>\u001b[0;34m(.0)\u001b[0m\n\u001b[1;32m     27\u001b[0m             \u001b[0midx\u001b[0m \u001b[0;34m=\u001b[0m \u001b[0midx\u001b[0m\u001b[0;34m[\u001b[0m\u001b[0;36m0\u001b[0m\u001b[0;34m]\u001b[0m\u001b[0;34m\u001b[0m\u001b[0;34m\u001b[0m\u001b[0m\n\u001b[1;32m     28\u001b[0m         \u001b[0;32mfor\u001b[0m \u001b[0mkk\u001b[0m \u001b[0;32min\u001b[0m \u001b[0mkeys_data_ow\u001b[0m\u001b[0;34m:\u001b[0m\u001b[0;34m\u001b[0m\u001b[0;34m\u001b[0m\u001b[0m\n\u001b[0;32m---> 29\u001b[0;31m             \u001b[0mval\u001b[0m \u001b[0;34m=\u001b[0m \u001b[0;34m[\u001b[0m\u001b[0mFloat\u001b[0m\u001b[0;34m(\u001b[0m\u001b[0mdcowid\u001b[0m\u001b[0;34m[\u001b[0m\u001b[0mkk\u001b[0m\u001b[0;34m]\u001b[0m\u001b[0;34m)\u001b[0m  \u001b[0;32mfor\u001b[0m \u001b[0mdcowid\u001b[0m \u001b[0;32min\u001b[0m \u001b[0mcovid_owid\u001b[0m \u001b[0;32mif\u001b[0m \u001b[0mdcowid\u001b[0m\u001b[0;34m[\u001b[0m\u001b[0;34m'location'\u001b[0m\u001b[0;34m]\u001b[0m\u001b[0;34m==\u001b[0m\u001b[0mcc\u001b[0m \u001b[0;32mand\u001b[0m \u001b[0mdcowid\u001b[0m\u001b[0;34m[\u001b[0m\u001b[0;34m'date'\u001b[0m\u001b[0;34m]\u001b[0m\u001b[0;34m==\u001b[0m\u001b[0mdd\u001b[0m\u001b[0;34m]\u001b[0m\u001b[0;34m\u001b[0m\u001b[0;34m\u001b[0m\u001b[0m\n\u001b[0m\u001b[1;32m     30\u001b[0m             \u001b[0;32mif\u001b[0m \u001b[0mlen\u001b[0m\u001b[0;34m(\u001b[0m\u001b[0mval\u001b[0m\u001b[0;34m)\u001b[0m\u001b[0;34m>\u001b[0m\u001b[0;36m1\u001b[0m\u001b[0;34m:\u001b[0m\u001b[0;34m\u001b[0m\u001b[0;34m\u001b[0m\u001b[0m\n\u001b[1;32m     31\u001b[0m                 \u001b[0mprint\u001b[0m\u001b[0;34m(\u001b[0m\u001b[0;34m'ouchouch'\u001b[0m\u001b[0;34m)\u001b[0m\u001b[0;34m\u001b[0m\u001b[0;34m\u001b[0m\u001b[0m\n",
      "\u001b[0;31mKeyboardInterrupt\u001b[0m: "
     ]
    }
   ],
   "source": [
    "popkeyed = {country: np.zeros(daystop+1,dtype=float) for country in countries_ow} \n",
    "\n",
    "keys_data_ow = keys_ow[4:]\n",
    "dat = {}\n",
    "for cc in countries_ow:\n",
    "    datestmp = np.unique(np.array([dd['date'] for dd in covid_owid if dd['location']==cc]))\n",
    "    dat[cc] = {kk:np.zeros(daystop+1,dtype=float) for kk in keys_data_ow}\n",
    "    for dd in datestmp:\n",
    "        idx = [i for i,x in enumerate(dates) if x==dd] # idx = location of dd in array of all dates\n",
    "        if len(idx)>1:\n",
    "            print('ouch')\n",
    "        else:\n",
    "            idx = idx[0]\n",
    "        for kk in keys_data_ow:\n",
    "            val = [Float(dcowid[kk])  for dcowid in covid_owid if dcowid['location']==cc and dcowid['date']==dd]\n",
    "            if len(val)>1:\n",
    "                print('ouchouch')\n",
    "            else:\n",
    "                val = val[0]\n",
    "            dat[cc][kk][idx] = val"
   ]
  },
  {
   "cell_type": "code",
   "execution_count": 46,
   "metadata": {},
   "outputs": [
    {
     "data": {
      "text/plain": [
       "'Afghanistan'"
      ]
     },
     "execution_count": 46,
     "metadata": {},
     "output_type": "execute_result"
    }
   ],
   "source": [
    "countries_ow[0]"
   ]
  },
  {
   "cell_type": "code",
   "execution_count": 41,
   "metadata": {},
   "outputs": [
    {
     "ename": "NameError",
     "evalue": "name 'dcovid' is not defined",
     "output_type": "error",
     "traceback": [
      "\u001b[0;31m---------------------------------------------------------------------------\u001b[0m",
      "\u001b[0;31mNameError\u001b[0m                                 Traceback (most recent call last)",
      "\u001b[0;32m<ipython-input-41-81d69c74637d>\u001b[0m in \u001b[0;36m<module>\u001b[0;34m\u001b[0m\n\u001b[0;32m----> 1\u001b[0;31m \u001b[0mdcovid\u001b[0m\u001b[0;34m\u001b[0m\u001b[0;34m\u001b[0m\u001b[0m\n\u001b[0m",
      "\u001b[0;31mNameError\u001b[0m: name 'dcovid' is not defined"
     ]
    }
   ],
   "source": [
    "dcovid"
   ]
  },
  {
   "cell_type": "code",
   "execution_count": 26,
   "metadata": {
    "collapsed": true
   },
   "outputs": [
    {
     "data": {
      "text/plain": [
       "['date',\n",
       " 'total_cases',\n",
       " 'new_cases',\n",
       " 'new_cases_smoothed',\n",
       " 'total_deaths',\n",
       " 'new_deaths',\n",
       " 'new_deaths_smoothed',\n",
       " 'total_cases_per_million',\n",
       " 'new_cases_per_million',\n",
       " 'new_cases_smoothed_per_million',\n",
       " 'total_deaths_per_million',\n",
       " 'new_deaths_per_million',\n",
       " 'new_deaths_smoothed_per_million',\n",
       " 'new_tests',\n",
       " 'total_tests',\n",
       " 'total_tests_per_thousand',\n",
       " 'new_tests_per_thousand',\n",
       " 'new_tests_smoothed',\n",
       " 'new_tests_smoothed_per_thousand',\n",
       " 'tests_per_case',\n",
       " 'positive_rate',\n",
       " 'tests_units',\n",
       " 'stringency_index',\n",
       " 'population',\n",
       " 'population_density',\n",
       " 'median_age',\n",
       " 'aged_65_older',\n",
       " 'aged_70_older',\n",
       " 'gdp_per_capita',\n",
       " 'extreme_poverty',\n",
       " 'cardiovasc_death_rate',\n",
       " 'diabetes_prevalence',\n",
       " 'female_smokers',\n",
       " 'male_smokers',\n",
       " 'handwashing_facilities',\n",
       " 'hospital_beds_per_thousand',\n",
       " 'life_expectancy']"
      ]
     },
     "execution_count": 26,
     "metadata": {},
     "output_type": "execute_result"
    }
   ],
   "source": [
    "foo = [dcovid for dcovid in covid_owid \n"
   ]
  },
  {
   "cell_type": "code",
   "execution_count": 18,
   "metadata": {},
   "outputs": [],
   "source": [
    "for dd in covid_owid:\n",
    "    country = dd['location'\n",
    "    day = (datetime.datetime.strptime(dd['date'],fmt)-firstdate_t).days\n",
    "    popkeyed[country][day] = float(dd[key]) if not dd[key]=='' else 0.0 "
   ]
  },
  {
   "cell_type": "code",
   "execution_count": 23,
   "metadata": {
    "scrolled": true
   },
   "outputs": [
    {
     "data": {
      "text/plain": [
       "'ABW'"
      ]
     },
     "execution_count": 23,
     "metadata": {},
     "output_type": "execute_result"
    }
   ],
   "source": [
    "foo = covid_owid[0]\n",
    "foo['iso_code']"
   ]
  },
  {
   "cell_type": "code",
   "execution_count": 13,
   "metadata": {},
   "outputs": [],
   "source": [
    "def get_data_owid(owid_file,database='owid',datatype='confirmed',dataaccum = 'cumulative'):\n",
    "    global covid_owid\n",
    "    if not covid_owid:\n",
    "        with open(owid_file, 'r', newline='') as csvfile:\n",
    "            myreader = csv.DictReader(csvfile,delimiter=',')\n",
    "            for row in myreader:\n",
    "                covid_owid.append(row)\n",
    "        close(owid_file)\n",
    "        \n",
    "    # for key in covid_owid[0].keys():   # to loop through all keys\n",
    "    \n",
    "    if datatype == 'confirmed':\n",
    "        if dataaccum == 'cumulative':\n",
    "            key = 'total_cases'\n",
    "        elif dataaccum == 'weekly':\n",
    "            key = 'new_cases_smoothed'\n",
    "        else:\n",
    "            key = 'new_cases'\n",
    "    elif datatype == 'recovered':\n",
    "        print('data for recovered cases not available in OWID database')\n",
    "        key = None\n",
    "    elif datatype == 'deaths':\n",
    "        if dataaccum == 'cumulative':\n",
    "            key = 'total_deaths'\n",
    "        elif dataaccum == 'weekly':\n",
    "            key = 'new_deaths_smoothed'\n",
    "        else:\n",
    "            key = 'new_deaths'\n",
    "    elif datatype == 'tests':\n",
    "        if dataaccum == 'cumulative':  # reporting intervals often sporadic so better to use smoothed weekly\n",
    "            # key = 'total_tests'\n",
    "            key = 'new_tests_smoothed'  # will adjust to cumulative below\n",
    "        elif dataaccum == 'weekly':\n",
    "            key = 'new_tests_smoothed'\n",
    "        else:\n",
    "            key = 'new_tests'          # reporting intervals often sporadic so better to use smoothed weekly\n",
    "    elif datatype =='stringency':\n",
    "        key = 'stringency_index'\n",
    "    elif datatype == 'recovered':\n",
    "        print('data for recovered cases not available in OWID database')\n",
    "        key = None\n",
    "        return \n",
    "    else:\n",
    "        print('data for ', datatype,'not available or not yet translated in OWID database')\n",
    "        key = None\n",
    "        return\n",
    "   \n",
    "    countries = np.unique(np.array([dd['location'] for dd in covid_owid]))\n",
    "    dates = np.unique(np.array([dd['date'] for dd in covid_owid]))\n",
    "    dates.sort()\n",
    "    fmt = '%Y-%m-%d'\n",
    "    dates_t = [datetime.datetime.strptime(dd,fmt) for dd in dates ]\n",
    "    firstdate = dates[0]\n",
    "    lastdate = dates[-1]\n",
    "    firstdate_t =  dates_t[0]\n",
    "    lastdate_t =  dates_t[-1]\n",
    "\n",
    "    daystart = 0\n",
    "    daystop = (lastdate_t-firstdate_t).days\n",
    "    \n",
    "    popkeyed = {country: np.zeros(daystop+1,dtype=float) for country in countries} \n",
    "    \n",
    "    for dd in covid_owid:\n",
    "        country = dd['location']\n",
    "        day = (datetime.datetime.strptime(dd['date'],fmt)-firstdate_t).days\n",
    "        popkeyed[country][day] = float(dd[key]) if not dd[key]=='' else 0.0 \n",
    "        \n",
    "    # popkeyed = {country: np.transpose(np.array([[dd['date'],dd[key]] for dd in covid_owid if dd['location'] == country])) for country in countries}\n",
    "    # popkeyed = {country: np.array([float(dd[key]) if not dd[key]=='' else 0.0 for dd in covid_owid if dd['location'] == country]) for country in countries} \n",
    "\n",
    "    if datatype == 'tests' and dataaccum == 'cumulative':  # assemble cumulative tests from smooth daily tests\n",
    "        for country in countries:\n",
    "            data = popkeyed[country]\n",
    "            sumdata= np.zeros(len(data))\n",
    "            sum = 0.0\n",
    "            for i,d in enumerate(data):\n",
    "                sum = sum + d\n",
    "                sumdata[i] = sum\n",
    "            popkeyed.update({country:sumdata})\n",
    "\n",
    "    fmt_jhu = '%m/%d/%y'\n",
    "    popkeyed.update({'dates': [date.strftime(fmt_jhu) for date in dates_t]})   # dates are set to strings in jhu date format for compatibility\n",
    "    return popkeyed"
   ]
  },
  {
   "cell_type": "code",
   "execution_count": 14,
   "metadata": {},
   "outputs": [],
   "source": [
    "owid_file = '../covid-19-owid/public/data/owid-covid-data.csv'\n",
    "confirmed_owid=get_data_owid(owid_file,database='owid',datatype='confirmed',dataaccum = 'cumulative')\n",
    "recovered_owid = None\n",
    "deaths_owid=get_data_owid(owid_file,database='owid',datatype='deaths',dataaccum = 'cumulative')\n",
    "tests_owid=get_data_owid(owid_file,database='owid',datatype='tests',dataaccum = 'cumulative')\n",
    "stringency_owid=get_data_owid(owid_file,database='owid',datatype='stringency',dataaccum = 'daily')\n",
    "covid_owid_ts= {'confirmed':confirmed_owid,'deaths':deaths_owid,'recovered':recovered_owid, 'tests': tests_owid , 'stringency': stringency_owid}"
   ]
  },
  {
   "cell_type": "code",
   "execution_count": 48,
   "metadata": {},
   "outputs": [],
   "source": [
    "def get_data_owid_key(owid_file,key):\n",
    "    global covid_owid\n",
    "    if not covid_owid:\n",
    "        with open(owid_file, 'r', newline='') as csvfile:\n",
    "            myreader = csv.DictReader(csvfile,delimiter=',')\n",
    "            for row in myreader:\n",
    "                covid_owid.append(row)\n",
    "        close(owid_file)\n",
    "        \n",
    "    # for key in covid_owid[0].keys():   # to loop through all keys\n",
    "    if key not in covid_owid[0].keys():\n",
    "        print('key must be in ',covid_owid[0].keys())\n",
    "        return None\n",
    "   \n",
    "    countries = np.unique(np.array([dd['location'] for dd in covid_owid]))\n",
    "    dates = np.unique(np.array([dd['date'] for dd in covid_owid]))\n",
    "    dates.sort()\n",
    "    fmt = '%Y-%m-%d'\n",
    "    dates_t = [datetime.datetime.strptime(dd,fmt) for dd in dates ]\n",
    "    firstdate = dates[0]\n",
    "    lastdate = dates[-1]\n",
    "    firstdate_t =  dates_t[0]\n",
    "    lastdate_t =  dates_t[-1]\n",
    "\n",
    "    daystart = 0\n",
    "    daystop = (lastdate_t-firstdate_t).days\n",
    "    \n",
    "    popkeyed = {country: np.zeros(daystop+1,dtype=float) for country in countries} \n",
    "    \n",
    "    for dd in covid_owid:\n",
    "        country = dd['location']\n",
    "        day = (datetime.datetime.strptime(dd['date'],fmt)-firstdate_t).days\n",
    "        popkeyed[country][day] = float(dd[key]) if not dd[key]=='' else 0.0 \n",
    "        \n",
    "    # popkeyed = {country: np.transpose(np.array([[dd['date'],dd[key]] for dd in covid_owid if dd['location'] == country])) for country in countries}\n",
    "    # popkeyed = {country: np.array([float(dd[key]) if not dd[key]=='' else 0.0 for dd in covid_owid if dd['location'] == country]) for country in countries} \n",
    "\n",
    "    if datatype == 'tests' and dataaccum == 'cumulative':  # assemble cumulative tests from smooth daily tests\n",
    "        for country in countries:\n",
    "            data = popkeyed[country]\n",
    "            sumdata= np.zeros(len(data))\n",
    "            sum = 0.0\n",
    "            for i,d in enumerate(data):\n",
    "                sum = sum + d\n",
    "                sumdata[i] = sum\n",
    "            popkeyed.update({country:sumdata})\n",
    "\n",
    "    fmt_jhu = '%m/%d/%y'\n",
    "    popkeyed.update({'dates': [date.strftime(fmt_jhu) for date in dates_t]})   # dates are set to strings in jhu date format for compatibility\n",
    "    return popkeyed"
   ]
  },
  {
   "cell_type": "code",
   "execution_count": null,
   "metadata": {},
   "outputs": [],
   "source": []
  },
  {
   "cell_type": "code",
   "execution_count": 15,
   "metadata": {},
   "outputs": [],
   "source": [
    "def plotTarget(iso,targ='new_deaths'):\n",
    "    global covid_owid\n",
    "    datt = [(dd['date'],dd[targ]) for dd in covid_owid if dd['iso_code']==iso]\n",
    "    fmt = '%Y-%m-%d'\n",
    "    \n",
    "    start=False\n",
    "    xx = [] ; yy = []\n",
    "    for i in range(len(datt)):\n",
    "        dd = datt[i]\n",
    "        try:\n",
    "            q = float(dd[1])\n",
    "        except:\n",
    "            try:\n",
    "                q = int(dd[1])\n",
    "            except:\n",
    "                q = -1\n",
    "        if q == 0 or q == -1:\n",
    "            if start==False:\n",
    "                continue\n",
    "            else:\n",
    "                pass\n",
    "        else:\n",
    "            if start==False:\n",
    "                start=True\n",
    "        if start:\n",
    "            xx.append(datetime.datetime.strptime(dd[0],fmt))\n",
    "            yy.append(q)\n",
    "        \n",
    "#    xx = [datetime.datetime.strptime(dd[0],fmt) for dd in datt if float(dd[1])>0 ]\n",
    "#    yy = [float(dd[1]) for dd in datt if int(float(dd[1]))>0 ]\n",
    "\n",
    "    locator = mdates.MonthLocator()\n",
    "    formatter= mdates.ConciseDateFormatter(locator)\n",
    "\n",
    "    register_matplotlib_converters() # pandas made me do it\n",
    "    fig,ax = plt.subplots(1,1,figsize=(20,10))\n",
    "    ax.step(xx,yy)\n",
    "    ax.xaxis.set_major_formatter(formatter)\n",
    "    ax.xaxis.set_major_locator(locator)\n",
    "    for tick in ax.get_xticklabels():\n",
    "        tick.set_rotation(40)\n",
    "        plt.title(iso+' '+targ)\n",
    "    plt.show()"
   ]
  },
  {
   "cell_type": "code",
   "execution_count": 1,
   "metadata": {},
   "outputs": [],
   "source": [
    "def truncx(xx,daystart,daystop):\n",
    "    \"\"\"truncate array xx to run from daystart to daystop\n",
    "       do this before trying to extend the arrays if required\"\"\"\n",
    "    daymin = max(daystart,0)\n",
    "    daymax = min(daystop,(xx[-1]-xx[0]).days)\n",
    "    return xx[daymin:daymax+1]\n",
    "\n",
    "def truncy(xx,yy,daystart,daystop):\n",
    "    \"\"\"truncate arrays xx and yy to run from daystart to daystop\n",
    "       do this before trying to extend the arrays if required\"\"\"\n",
    "    daymin = max(daystart,0)\n",
    "    daymax = min(daystop,(xx[-1]-xx[0]).days)\n",
    "    return yy[daymin:daymax+1]\n",
    "\n",
    "def plotCountry_(country_s, datatype='confirmed', dataaccum='cumulative', fittype=None, ax=None, ax2=False,\n",
    "                symbol='o--', step=None, firstdate=None, lastdate=None, intdates=False, linecolor=None, maxyval=None, minconfirmed=0,nsegments=3,database='jhu'):\n",
    "    \"\"\" plots selected data for a list of countries or single country\n",
    "        datatypes allowed are 'confirmed','deaths','recovered'\n",
    "        dataaccum specifies either 'cumulative' or 'daily' or averaged over 7 days 'cum_av_weekly' or 'daily_av_weekly'\n",
    "        fittypes allowed are currently None, 'piecewise-linear'\n",
    "        ax graphical axes to use for plot: default None -> new axes\n",
    "        ax2 true if second axes as twin axes for overlay plotting\n",
    "        symbol to use for plotting\n",
    "        step whether to use step plotting instead of points: default None -> points\n",
    "        firstdate to plot (maybe before first date in data - pad with 0)\n",
    "        lastdate to plot (maybe after last date in data - pad with 0)\n",
    "        intdates : whether to plot dates as integers for compatibility (default as dates)\n",
    "        linecolor is default color to use for a single trace, instead of listed set)\n",
    "    \"\"\"\n",
    "    global covid_ts, covid_ts_owid\n",
    "    import math\n",
    "    # extract list of countries in [(country,region),...] format from first parameter\n",
    "    countries = []\n",
    "    if isinstance(country_s,list):\n",
    "        for country in country_s:\n",
    "            if isinstance(country,str) and database == 'jhu':\n",
    "                country = (country,'')\n",
    "            countries.append(country)\n",
    "    elif isinstance(country_s,str):\n",
    "        if database == 'jhu':\n",
    "            countries = [( country_s,'')]\n",
    "        else:\n",
    "             countries = [country_s]\n",
    "    else:                               # single ('country','reg') entry\n",
    "        countries = [country_s]\n",
    "        \n",
    "    # get data with datatype and extend dates to padd desired interval specified by firstdate,lastdate\n",
    "    if database == 'jhu':\n",
    "        popkeyed = covid_ts[datatype]\n",
    "        dates = popkeyed['dates']\n",
    "        fmt = '%m/%d/%y'\n",
    "    elif database == 'owid':\n",
    "        popkeyed = covid_owid_ts[datatype]\n",
    "        dates = popkeyed['dates']\n",
    "        fmt = '%m/%d/%y'\n",
    "        # fmt = '%Y-%m-%d' the owid date format was converted to the jhu date format in get_data_owid\n",
    "    xxd = [datetime.datetime.strptime(dd,fmt) for dd in dates ]\n",
    "    if firstdate:\n",
    "        firstdate_d = datetime.datetime.strptime(firstdate,fmt)\n",
    "    else:\n",
    "        firstdate_d = datetime.datetime.strptime(dates[0],fmt)\n",
    "    if lastdate:\n",
    "        lastdate_d = datetime.datetime.strptime(lastdate,fmt)\n",
    "    else:\n",
    "        lastdate_d = datetime.datetime.strptime(dates[-1],fmt)\n",
    "    daystart = (firstdate_d-xxd[0]).days\n",
    "    daystop = (lastdate_d-xxd[0]).days\n",
    "    xx = [0.]*(daystop-daystart+1)\n",
    "    xx = truncx(xxd,daystart,daystop)\n",
    "    # print('1 len xx',len(xx))\n",
    "    \n",
    "    if daystart <0:\n",
    "        xx0 = [xx[0]+datetime.timedelta(days=i) for i in range(daystart,0)]\n",
    "        yy0 = [0.]*(-daystart)\n",
    "    else:\n",
    "        xx0 = []\n",
    "        yy0 = []\n",
    "\n",
    "    if daystop > (xxd[-1]-xxd[0]).days:\n",
    "        xx1 = [xxd[-1]+datetime.timedelta(days=i) for i in range(daystop-(xxd[-1]-xxd[0]).days)]\n",
    "        yy1 = [' ']*(daystop-(xxd[-1]-xxd[0]).days)\n",
    "    else:\n",
    "        xx1 = []\n",
    "        yy1 = []       \n",
    "    xx = xx0 + xx + xx1\n",
    "    # print('2 len xx',len(xx))\n",
    "    #print('len xx1 yy1',len(xx1),len(yy1))\n",
    "    \n",
    "    # print('len xx',len(xx))\n",
    "    if fittype == 'piecewise-linear':\n",
    "        xxi = [Float((x-xx[0]).days) for x in xx ]\n",
    "        # print(xxi)\n",
    "    # print('len xxi',len(xxi))    \n",
    "    # locator = mdates.MonthLocator()\n",
    "    locator = mdates.AutoDateLocator(minticks=5, maxticks=13)\n",
    "    formatter= mdates.ConciseDateFormatter(locator)\n",
    "    \n",
    "    if not ax:\n",
    "        fig,ax = plt.subplots(1,1,figsize=(9,6)) \n",
    "        ax2 = ax\n",
    "    elif ax2:\n",
    "        ax2 = ax.twinx()\n",
    "    else:\n",
    "        ax2 = ax\n",
    "        \n",
    "    colors =  ['k', 'b', 'c', 'm', 'y', 'g', 'olive', 'chocolate']\n",
    "        \n",
    "    i = 0\n",
    "    j = 0\n",
    "    for country in countries:\n",
    "        try:\n",
    "            yyd = popkeyed[country]\n",
    "            if np.max(yyd) >= minconfirmed:\n",
    "                j = j+1\n",
    "            else:\n",
    "                i = i + 1\n",
    "                continue\n",
    "        except:\n",
    "            print('country not found',country)\n",
    "            i = i + 1\n",
    "            continue\n",
    "        yy = truncy(xxd,yyd,daystart,daystop)\n",
    "        # print(country,'1 len yy yyd',len(yy),len(yyd))\n",
    "        yyf = [Float(y) for y in yy]\n",
    "        yy = yy0 + yyf + yy1\n",
    "        # print(country,'2 len yy',len(yy))\n",
    "        # ymax=np.max(np.array(yy))\n",
    "        yyf = [Float(y) for y in yy]\n",
    "        if dataaccum == 'daily':\n",
    "            yy = [0.]*len(yy)\n",
    "            yy[0] = yyf[0]\n",
    "            for k in range(1,len(yy)):\n",
    "                yy[k] = yyf[k]-yyf[k-1]   \n",
    "        elif dataaccum == 'cum_av_weekly':\n",
    "            yy = [0.]*len(yy)\n",
    "            moving_av = 0.\n",
    "            for k in range(len(yy)):\n",
    "                if k-7 >= 0:\n",
    "                    moving_av = moving_av - yyf[k-7]\n",
    "                moving_av = moving_av + yyf[k]\n",
    "                yy[k] = moving_av/min(7.0,float(k+1))\n",
    "        elif dataaccum == 'daily_av_weekly':\n",
    "            yy = [0.]*len(yyf)\n",
    "            yy[0] = yyf[0]\n",
    "            for k in range(1,len(yy)):\n",
    "                yy[k] = yyf[k]-yyf[k-1]\n",
    "            yyf = [y for y in yy]\n",
    "            yy = [0.]*len(yy)\n",
    "            moving_av = 0.\n",
    "            for k in range(len(yy)):\n",
    "                if k-7 >= 0:\n",
    "                    moving_av = moving_av - yyf[k-7]\n",
    "                moving_av = moving_av + yyf[k]\n",
    "                yy[k] = moving_av/min(7.0,float(k+1))\n",
    "        if intdates:\n",
    "            xx = range(len(xx))\n",
    "        \n",
    "        if step:\n",
    "            ax2.step(xx,yy,label = country[0])\n",
    "        else:\n",
    "            # print(ax,ax2)\n",
    "            # ax2.set_ylim(ymax,0)\n",
    "            if linecolor:\n",
    "                color = linecolor\n",
    "            else:\n",
    "                color = colors[i]\n",
    "\n",
    "            ax2.plot(xx, yy, symbol, markersize=3, color = color, alpha=0.8, label = country[0])\n",
    "\n",
    "        if maxyval: ax.set_ylim(0,maxyval)\n",
    "        if maxyval: ax2.set_ylim(0,maxyval)\n",
    "            \n",
    "        plt.title(country[0]+'-'+country[1])  # +' '+datatype)\n",
    "        if fittype == 'piecewise-linear':    \n",
    "            # initialize piecewise linear fit with your x and y data\n",
    "            # yyf = [Float(y) for y in yy]\n",
    "            yyf = [Float(y) if not math.isnan(y) else 0.0 for y in yy]\n",
    "            # print(yyf)\n",
    "            my_pwlf = pwlf.PiecewiseLinFit(xxi, yyf)\n",
    "            # fit the data for three line segments\n",
    "            res = my_pwlf.fit(nsegments)\n",
    "            # breaks \n",
    "            breaks = my_pwlf.fit(4)\n",
    "            print('pwlf breaks',breaks)\n",
    "            # slopes \n",
    "            slopes = my_pwlf.calc_slopes()\n",
    "            print('pwlf slopes',slopes)\n",
    "            # predict for the determined points\n",
    "            xHat = np.linspace(min(xxi), max(xxi), num=len(xx))\n",
    "            # print(len(xHat),len(xxi))\n",
    "            yHat = my_pwlf.predict(xHat)\n",
    "            ax2.plot(xx, yHat, color = colors[i], alpha=0.5, label = country[0]+' fit')\n",
    "            \n",
    "        i = i+1\n",
    "\n",
    "    if j==0:\n",
    "        ax.axis(\"off\")\n",
    "    else:\n",
    "        if j > 1:\n",
    "            plt.legend(loc=\"upper left\")\n",
    "            plt.title('countries '+datatype+dataaccum)\n",
    "        if not intdates:\n",
    "            ax2.xaxis.set_major_formatter(formatter)\n",
    "            ax2.xaxis.set_major_locator(locator)\n",
    "            for tick in ax2.get_xticklabels():\n",
    "                tick.set_rotation(40)\n",
    "\n"
   ]
  },
  {
   "cell_type": "code",
   "execution_count": 124,
   "metadata": {},
   "outputs": [],
   "source": [
    " def maxCountry(country_s, datatype='confirmed', firstdate=None, lastdate=None):\n",
    "    \"\"\" maximum statistic of country in reported data range\n",
    "    \"\"\"\n",
    "    if isinstance(country_s,str):\n",
    "        country = (country_s,'')\n",
    "    else:                               # single ('country','reg') entry\n",
    "        country = country_s\n",
    "    # get data with datatype and extend dates to padd desired interval specified by firstdate,lastdate\n",
    "    popkeyed = covid_ts[datatype]\n",
    "    try: \n",
    "        yy = popkeyed[country]\n",
    "        return max(yy) \n",
    "    except:\n",
    "        return 0"
   ]
  },
  {
   "cell_type": "code",
   "execution_count": 125,
   "metadata": {},
   "outputs": [],
   "source": [
    " def get_country_data(country_s='World', datatype='confirmed', firstdate=None, lastdate=None):\n",
    "    if isinstance(country_s,str):\n",
    "        country = (country_s,'')\n",
    "    else:                               # single ('country','reg') entry\n",
    "        country = country_s\n",
    "    popkeyed = covid_ts[datatype]\n",
    "    \n",
    "    dates = popkeyed['dates']\n",
    "    fmt = '%m/%d/%y'\n",
    "    xx = [datetime.datetime.strptime(dd,fmt) for dd in dates ]\n",
    "    if firstdate:\n",
    "        firstdate_d = datetime.datetime.strptime(firstdate,fmt)\n",
    "    else:\n",
    "        firstdate_d = datetime.datetime.strptime(dates[0],fmt)\n",
    "    if lastdate:\n",
    "        lastdate_d = datetime.datetime.strptime(lastdate,fmt)\n",
    "    else:\n",
    "        lastdate_d = datetime.datetime.strptime(dates[-1],fmt)    \n",
    "    daystart = (firstdate_d-xx[0]).days\n",
    "    daystop = (lastdate_d-xx[-1]).days\n",
    "    \n",
    "    if daystart <0:\n",
    "        xx0 = [xx[0]+datetime.timedelta(days=i) for i in range(daystart,0)]\n",
    "        yy0 = [0.]*(-daystart)\n",
    "    else:\n",
    "        xx0 = []\n",
    "        yy0 = []\n",
    "    if daystop > 0:\n",
    "        xx1 = [xx[-1]+datetime.timedelta(days=i) for i in range(daystop)]\n",
    "        yy1 = [0.]*(daystop)\n",
    "    else:\n",
    "        xx1 = []\n",
    "        yy1 = []       \n",
    "    xx = xx0 + xx + xx1\n",
    "    xxf = [Float((x-firstdate_d).days) for x in xx ]\n",
    "\n",
    "    try:\n",
    "        yy = popkeyed[country]\n",
    "        # print(country)\n",
    "    except:\n",
    "            print('country data not found',country)\n",
    "            return None,None,None\n",
    "    yyf = [Float(y) for y in yy]\n",
    "    yy = yy0 + yyf + yy1\n",
    "    return xx,xxf,yy \n",
    "\n"
   ]
  },
  {
   "cell_type": "code",
   "execution_count": 126,
   "metadata": {},
   "outputs": [
    {
     "data": {
      "image/png": "[encoded data removed]",
      "text/plain": [
       "<Figure size 432x288 with 1 Axes>"
      ]
     },
     "metadata": {
      "needs_background": "light"
     },
     "output_type": "display_data"
    }
   ],
   "source": [
    "xx,xxf,yy = get_country_data('Germany','confirmed',firstdate='01/01/20',lastdate='06/5/20')\n",
    "#plt.plot(xx,xxf)\n",
    "plt.plot(xx,yy)\n",
    "plt.savefig('tst.pdf')"
   ]
  },
  {
   "cell_type": "code",
   "execution_count": 100,
   "metadata": {},
   "outputs": [
    {
     "data": {
      "text/plain": [
       "<Figure size 432x288 with 0 Axes>"
      ]
     },
     "metadata": {},
     "output_type": "display_data"
    }
   ],
   "source": [
    "plt.savefig('tst.pdf')"
   ]
  },
  {
   "cell_type": "code",
   "execution_count": 151,
   "metadata": {},
   "outputs": [
    {
     "name": "stdout",
     "output_type": "stream",
     "text": [
      "[0.0, 1.0, 2.0, 3.0, 4.0, 5.0, 6.0, 7.0, 8.0, 9.0, 10.0, 11.0, 12.0, 13.0, 14.0, 15.0, 16.0, 17.0, 18.0, 19.0, 20.0, 21.0, 22.0, 23.0, 24.0, 25.0, 26.0, 27.0, 28.0, 29.0, 30.0, 31.0, 32.0, 33.0, 34.0, 35.0, 36.0, 37.0, 38.0, 39.0, 40.0, 41.0, 42.0, 43.0, 44.0, 45.0, 46.0, 47.0, 48.0, 49.0, 50.0, 51.0, 52.0, 53.0, 54.0, 55.0, 56.0, 57.0, 58.0, 59.0, 60.0, 61.0, 62.0, 63.0, 64.0, 65.0, 66.0, 67.0, 68.0, 69.0, 70.0, 71.0, 72.0, 73.0, 74.0, 75.0, 76.0, 77.0, 78.0, 79.0, 80.0, 81.0, 82.0, 83.0, 84.0, 85.0, 86.0, 87.0, 88.0, 89.0, 90.0, 91.0, 92.0, 93.0, 94.0, 95.0, 96.0, 97.0, 98.0, 99.0, 100.0, 101.0, 102.0, 103.0, 104.0, 105.0, 106.0, 107.0, 108.0, 109.0, 110.0, 111.0, 112.0, 113.0, 114.0, 115.0, 116.0, 117.0, 118.0, 119.0, 120.0, 121.0, 122.0, 123.0, 124.0, 125.0, 126.0, 127.0, 128.0, 129.0, 130.0, 131.0, 132.0, 133.0, 134.0, 135.0, 136.0, 137.0, 138.0, 139.0, 140.0, 141.0, 142.0, 143.0, 144.0, 145.0, 146.0, 147.0, 148.0, 149.0, 150.0, 151.0, 152.0, 153.0, 154.0, 155.0, 156.0, 157.0, 158.0, 159.0, 160.0, 161.0, 162.0, 163.0, 164.0, 165.0, 166.0, 167.0, 168.0, 169.0, 170.0, 171.0, 172.0, 173.0, 174.0, 175.0, 176.0, 177.0, 178.0, 179.0, 180.0, 181.0, 182.0, 183.0, 184.0, 185.0, 186.0, 187.0, 188.0, 189.0, 190.0, 191.0, 192.0, 193.0, 194.0, 195.0, 196.0, 197.0, 198.0, 199.0, 200.0, 201.0, 202.0, 203.0, 204.0, 205.0, 206.0, 207.0, 208.0, 209.0, 210.0, 211.0, 212.0, 213.0, 214.0, 215.0, 216.0, 217.0, 218.0, 219.0, 220.0, 221.0, 222.0, 223.0, 224.0, 225.0, 226.0, 227.0, 228.0, 229.0, 230.0, 231.0, 232.0, 233.0, 234.0, 235.0, 236.0, 237.0, 238.0, 239.0, 240.0, 241.0, 242.0, 243.0, 244.0]\n",
      "[0.0, 0.0, 0.0, 0.0, 0.0, 0.0, 0.0, 0.0, 0.0, 0.0, 0.0, 0.0, 0.0, 0.0, 0.0, 0.0, 0.0, 0.0, 0.0, 0.0, 0.0, 0.0, 0.0, 0.0, 0.0, 0.0, 1.0, 4.0, 4.0, 4.0, 5.0, 8.0, 10.0, 12.0, 12.0, 12.0, 12.0, 13.0, 13.0, 14.0, 14.0, 16.0, 16.0, 16.0, 16.0, 16.0, 16.0, 16.0, 16.0, 16.0, 16.0, 16.0, 16.0, 16.0, 16.0, 17.0, 27.0, 46.0, 48.0, 79.0, 130.0, 159.0, 196.0, 262.0, 482.0, 670.0, 799.0, 1040.0, 1176.0, 1457.0, 1908.0, 2078.0, 3675.0, 4585.0, 5795.0, 7272.0, 9257.0, 12327.0, 15320.0, 19848.0, 22213.0, 24873.0, 29056.0, 32986.0, 37323.0, 43938.0, 50871.0, 57695.0, 62095.0, 66885.0, 71808.0, 77872.0, 84794.0, 91159.0, 96092.0, 100123.0, 103374.0, 107663.0, 113296.0, 118181.0, 122171.0, 124908.0, 127854.0, 130072.0, 131359.0, 134753.0, 137698.0, 141397.0, 143342.0, 145184.0, 147065.0, 148291.0, 150648.0, 153129.0, 154999.0, 156513.0, 157770.0, 158758.0, 159912.0, 161539.0, 163009.0, 164077.0, 164967.0, 165664.0, 166152.0, 167007.0, 168162.0, 169430.0, 170588.0, 171324.0, 171879.0, 172576.0, 173171.0, 174098.0, 174478.0, 175233.0, 175752.0, 176369.0, 176551.0, 177778.0, 178473.0, 179021.0, 179710.0, 179986.0, 180328.0, 180600.0, 181200.0, 181524.0, 182196.0, 182922.0, 183189.0, 183410.0, 183594.0, 183879.0, 184121.0, 184472.0, 184924.0, 185450.0, 185750.0, 186109.0, 186506.0, 186522.0, 186691.0, 187226.0, 187267.0, 187518.0, 187682.0, 188252.0, 188604.0, 189817.0, 190299.0, 190670.0, 191272.0, 191768.0, 192480.0, 192871.0, 193371.0, 194036.0, 194458.0, 194693.0, 195042.0, 195418.0, 195893.0, 196370.0, 196780.0, 197198.0, 197523.0, 198064.0, 198343.0, 198699.0, 199001.0, 199332.0, 199709.0, 199919.0, 200180.0, 200456.0, 200890.0, 201450.0, 202045.0, 202426.0, 202735.0, 203325.0, 203717.0, 204276.0, 204881.0, 205623.0, 206278.0, 206667.0, 207112.0, 207707.0, 208546.0, 209535.0, 210399.0, 211005.0, 211220.0, 212111.0, 212828.0, 214113.0, 215039.0, 216196.0, 216903.0, 217288.0, 218508.0, 219540.0, 220859.0, 222281.0, 223791.0, 224488.0, 225007.0, 226700.0, 228120.0, 229706.0, 231292.0, 233029.0, 233861.0, 234494.0, 236122.0, 237583.0, 239010.0, 240571.0, 242126.0, 242835.0, 243305.0, 244802.0, 246015.0]\n",
      "[0.0, 0.0, 0.0, 0.0, 0.0, 0.0, 0.0, 0.0, 0.0, 0.0, 0.0, 0.0, 0.0, 0.0, 0.0, 0.0, 0.0, 0.0, 0.0, 0.0, 0.0, 0.0, 0.0, 0.0, 0.0, 0.0, 1.0, 4.0, 4.0, 4.0, 5.0, 8.0, 10.0, 12.0, 12.0, 12.0, 12.0, 13.0, 13.0, 14.0, 14.0, 16.0, 16.0, 16.0, 16.0, 16.0, 16.0, 16.0, 16.0, 16.0, 16.0, 16.0, 16.0, 16.0, 16.0, 17.0, 27.0, 46.0, 48.0, 79.0, 130.0, 159.0, 196.0, 262.0, 482.0, 670.0, 799.0, 1040.0, 1176.0, 1457.0, 1908.0, 2078.0, 3675.0, 4585.0, 5795.0, 7272.0, 9257.0, 12327.0, 15320.0, 19848.0, 22213.0, 24873.0, 29056.0, 32986.0, 37323.0, 43938.0, 50871.0, 57695.0, 62095.0, 66885.0, 71808.0, 77872.0, 84794.0, 91159.0, 96092.0, 100123.0, 103374.0, 107663.0, 113296.0, 118181.0, 122171.0, 124908.0, 127854.0, 130072.0, 131359.0, 134753.0, 137698.0, 141397.0, 143342.0, 145184.0, 147065.0, 148291.0, 150648.0, 153129.0, 154999.0, 156513.0, 157770.0, 158758.0, 159912.0, 161539.0, 163009.0, 164077.0, 164967.0, 165664.0, 166152.0, 167007.0, 168162.0, 169430.0, 170588.0, 171324.0, 171879.0, 172576.0, 173171.0, 174098.0, 174478.0, 175233.0, 175752.0, 176369.0, 176551.0, 177778.0, 178473.0, 179021.0, 179710.0, 179986.0, 180328.0, 180600.0, 181200.0, 181524.0, 182196.0, 182922.0, 183189.0, 183410.0, 183594.0, 183879.0, 184121.0, 184472.0, 184924.0, 185450.0, 185750.0, 186109.0, 186506.0, 186522.0, 186691.0, 187226.0, 187267.0, 187518.0, 187682.0, 188252.0, 188604.0, 189817.0, 190299.0, 190670.0, 191272.0, 191768.0, 192480.0, 192871.0, 193371.0, 194036.0, 194458.0, 194693.0, 195042.0, 195418.0, 195893.0, 196370.0, 196780.0, 197198.0, 197523.0, 198064.0, 198343.0, 198699.0, 199001.0, 199332.0, 199709.0, 199919.0, 200180.0, 200456.0, 200890.0, 201450.0, 202045.0, 202426.0, 202735.0, 203325.0, 203717.0, 204276.0, 204881.0, 205623.0, 206278.0, 206667.0, 207112.0, 207707.0, 208546.0, 209535.0, 210399.0, 211005.0, 211220.0, 212111.0, 212828.0, 214113.0, 215039.0, 216196.0, 216903.0, 217288.0, 218508.0, 219540.0, 220859.0, 222281.0, 223791.0, 224488.0, 225007.0, 226700.0, 228120.0, 229706.0, 231292.0, 233029.0, 233861.0, 234494.0, 236122.0, 237583.0, 239010.0, 240571.0, 242126.0, 242835.0, 243305.0, 244802.0, 246015.0]\n",
      "[0.0, 0.0, 0.0, 0.0, 0.0, 0.0, 0.0, 0.0, 0.0, 0.0, 0.0, 0.0, 0.0, 0.0, 0.0, 0.0, 0.0, 0.0, 0.0, 0.0, 0.0, 0.0, 0.0, 0.0, 0.0, 0.0, 1.0, 4.0, 4.0, 4.0, 5.0, 8.0, 10.0, 12.0, 12.0, 12.0, 12.0, 13.0, 13.0, 14.0, 14.0, 16.0, 16.0, 16.0, 16.0, 16.0, 16.0, 16.0, 16.0, 16.0, 16.0, 16.0, 16.0, 16.0, 16.0, 17.0, 27.0, 46.0, 48.0, 79.0, 130.0, 159.0, 196.0, 262.0, 482.0, 670.0, 799.0, 1040.0, 1176.0, 1457.0, 1908.0, 2078.0, 3675.0, 4585.0, 5795.0, 7272.0, 9257.0, 12327.0, 15320.0, 19848.0, 22213.0, 24873.0, 29056.0, 32986.0, 37323.0, 43938.0, 50871.0, 57695.0, 62095.0, 66885.0, 71808.0, 77872.0, 84794.0, 91159.0, 96092.0, 100123.0, 103374.0, 107663.0, 113296.0, 118181.0, 122171.0, 124908.0, 127854.0, 130072.0, 131359.0, 134753.0, 137698.0, 141397.0, 143342.0, 145184.0, 147065.0, 148291.0, 150648.0, 153129.0, 154999.0, 156513.0, 157770.0, 158758.0, 159912.0, 161539.0, 163009.0, 164077.0, 164967.0, 165664.0, 166152.0, 167007.0, 168162.0, 169430.0, 170588.0, 171324.0, 171879.0, 172576.0, 173171.0, 174098.0, 174478.0, 175233.0, 175752.0, 176369.0, 176551.0, 177778.0, 178473.0, 179021.0, 179710.0, 179986.0, 180328.0, 180600.0, 181200.0, 181524.0, 182196.0, 182922.0, 183189.0, 183410.0, 183594.0, 183879.0, 184121.0, 184472.0, 184924.0, 185450.0, 185750.0, 186109.0, 186506.0, 186522.0, 186691.0, 187226.0, 187267.0, 187518.0, 187682.0, 188252.0, 188604.0, 189817.0, 190299.0, 190670.0, 191272.0, 191768.0, 192480.0, 192871.0, 193371.0, 194036.0, 194458.0, 194693.0, 195042.0, 195418.0, 195893.0, 196370.0, 196780.0, 197198.0, 197523.0, 198064.0, 198343.0, 198699.0, 199001.0, 199332.0, 199709.0, 199919.0, 200180.0, 200456.0, 200890.0, 201450.0, 202045.0, 202426.0, 202735.0, 203325.0, 203717.0, 204276.0, 204881.0, 205623.0, 206278.0, 206667.0, 207112.0, 207707.0, 208546.0, 209535.0, 210399.0, 211005.0, 211220.0, 212111.0, 212828.0, 214113.0, 215039.0, 216196.0, 216903.0, 217288.0, 218508.0, 219540.0, 220859.0, 222281.0, 223791.0, 224488.0, 225007.0, 226700.0, 228120.0, 229706.0, 231292.0, 233029.0, 233861.0, 234494.0, 236122.0, 237583.0, 239010.0, 240571.0, 242126.0, 242835.0, 243305.0, 244802.0, 246015.0]\n",
      "[[0.0, 0.0, 0.0], [0.0, 0.0, 0.0], [0.0, 0.0, 0.0], [0.0, 0.0, 0.0], [0.0, 0.0, 0.0], [0.0, 0.0, 0.0], [0.0, 0.0, 0.0], [0.0, 0.0, 0.0], [0.0, 0.0, 0.0], [0.0, 0.0, 0.0], [0.0, 0.0, 0.0], [0.0, 0.0, 0.0], [0.0, 0.0, 0.0], [0.0, 0.0, 0.0], [0.0, 0.0, 0.0], [0.0, 0.0, 0.0], [0.0, 0.0, 0.0], [0.0, 0.0, 0.0], [0.0, 0.0, 0.0], [0.0, 0.0, 0.0], [0.0, 0.0, 0.0], [0.0, 0.0, 0.0], [0.0, 0.0, 0.0], [0.0, 0.0, 0.0], [0.0, 0.0, 0.0], [0.0, 0.0, 0.0], [1.0, 0.0, 0.0], [4.0, 0.0, 0.0], [4.0, 0.0, 0.0], [4.0, 0.0, 0.0], [5.0, 0.0, 0.0], [8.0, 0.0, 0.0], [10.0, 0.0, 0.0], [12.0, 0.0, 0.0], [12.0, 0.0, 0.0], [12.0, 0.0, 0.0], [12.0, 0.0, 0.0], [13.0, 0.0, 0.0], [13.0, 0.0, 0.0], [14.0, 0.0, 0.0], [14.0, 0.0, 0.0], [16.0, 0.0, 0.0], [16.0, 0.0, 0.0], [16.0, 1.0, 0.0], [16.0, 1.0, 0.0], [16.0, 1.0, 0.0], [16.0, 1.0, 0.0], [16.0, 1.0, 0.0], [16.0, 12.0, 0.0], [16.0, 12.0, 0.0], [16.0, 12.0, 0.0], [16.0, 14.0, 0.0], [16.0, 14.0, 0.0], [16.0, 14.0, 0.0], [16.0, 14.0, 0.0], [17.0, 14.0, 0.0], [27.0, 15.0, 0.0], [46.0, 16.0, 0.0], [48.0, 16.0, 0.0], [79.0, 16.0, 0.0], [130.0, 16.0, 0.0], [159.0, 16.0, 0.0], [196.0, 16.0, 0.0], [262.0, 16.0, 0.0], [482.0, 16.0, 0.0], [670.0, 17.0, 0.0], [799.0, 18.0, 0.0], [1040.0, 18.0, 0.0], [1176.0, 18.0, 2.0], [1457.0, 18.0, 2.0], [1908.0, 25.0, 3.0], [2078.0, 25.0, 3.0], [3675.0, 46.0, 7.0], [4585.0, 46.0, 9.0], [5795.0, 46.0, 11.0], [7272.0, 67.0, 17.0], [9257.0, 67.0, 24.0], [12327.0, 105.0, 28.0], [15320.0, 113.0, 44.0], [19848.0, 180.0, 67.0], [22213.0, 233.0, 84.0], [24873.0, 266.0, 94.0], [29056.0, 266.0, 123.0], [32986.0, 3243.0, 157.0], [37323.0, 3547.0, 206.0], [43938.0, 5673.0, 267.0], [50871.0, 6658.0, 342.0], [57695.0, 8481.0, 433.0], [62095.0, 9211.0, 533.0], [66885.0, 13500.0, 645.0], [71808.0, 16100.0, 775.0], [77872.0, 18700.0, 920.0], [84794.0, 22440.0, 1107.0], [91159.0, 24575.0, 1275.0], [96092.0, 26400.0, 1444.0], [100123.0, 28700.0, 1584.0], [103374.0, 28700.0, 1810.0], [107663.0, 36081.0, 2016.0], [113296.0, 46300.0, 2349.0], [118181.0, 52407.0, 2607.0], [122171.0, 53913.0, 2767.0], [124908.0, 57400.0, 2736.0], [127854.0, 60300.0, 3022.0], [130072.0, 64300.0, 3194.0], [131359.0, 68200.0, 3294.0], [134753.0, 72600.0, 3804.0], [137698.0, 77000.0, 4052.0], [141397.0, 83114.0, 4352.0], [143342.0, 85400.0, 4459.0], [145184.0, 88000.0, 4586.0], [147065.0, 91500.0, 4862.0], [148291.0, 95200.0, 5033.0], [150648.0, 99400.0, 5279.0], [153129.0, 103300.0, 5575.0], [154999.0, 109800.0, 5760.0], [156513.0, 109800.0, 5877.0], [157770.0, 112000.0, 5976.0], [158758.0, 114500.0, 6126.0], [159912.0, 117400.0, 6314.0], [161539.0, 120400.0, 6467.0], [163009.0, 123500.0, 6623.0], [164077.0, 126900.0, 6736.0], [164967.0, 129000.0, 6812.0], [165664.0, 130600.0, 6866.0], [166152.0, 132700.0, 6993.0], [167007.0, 135100.0, 6993.0], [168162.0, 139900.0, 7275.0], [169430.0, 141700.0, 7392.0], [170588.0, 141700.0, 7510.0], [171324.0, 143300.0, 7549.0], [171879.0, 144400.0, 7569.0], [172576.0, 145617.0, 7661.0], [173171.0, 147200.0, 7738.0], [174098.0, 148700.0, 7861.0], [174478.0, 150300.0, 7884.0], [175233.0, 151597.0, 7897.0], [175752.0, 152600.0, 7938.0], [176369.0, 154011.0, 7962.0], [176551.0, 155041.0, 8003.0], [177778.0, 155681.0, 8081.0], [178473.0, 156966.0, 8144.0], [179021.0, 158087.0, 8203.0], [179710.0, 159064.0, 8228.0], [179986.0, 159716.0, 8261.0], [180328.0, 160281.0, 8283.0], [180600.0, 161199.0, 8309.0], [181200.0, 161967.0, 8372.0], [181524.0, 162820.0, 8428.0], [182196.0, 163360.0, 8470.0], [182922.0, 164245.0, 8504.0], [183189.0, 164908.0, 8530.0], [183410.0, 165352.0, 8540.0], [183594.0, 165632.0, 8555.0], [183879.0, 166609.0, 8563.0], [184121.0, 167453.0, 8602.0], [184472.0, 167909.0, 8635.0], [184924.0, 168480.0, 8658.0], [185450.0, 168958.0, 8673.0], [185750.0, 169224.0, 8685.0], [186109.0, 169556.0, 8695.0], [186506.0, 170129.0, 8736.0], [186522.0, 170630.0, 8752.0], [186691.0, 170961.0, 8772.0], [187226.0, 171535.0, 8783.0], [187267.0, 171970.0, 8793.0], [187518.0, 172089.0, 8801.0], [187682.0, 172692.0, 8807.0], [188252.0, 172842.0, 8820.0], [188604.0, 173599.0, 8851.0], [189817.0, 173847.0, 8875.0], [190299.0, 173972.0, 8887.0], [190670.0, 174609.0, 8895.0], [191272.0, 174740.0, 8895.0], [191768.0, 175143.0, 8899.0], [192480.0, 175825.0, 8914.0], [192871.0, 176422.0, 8928.0], [193371.0, 176764.0, 8940.0], [194036.0, 177149.0, 8965.0], [194458.0, 177518.0, 8968.0], [194693.0, 177657.0, 8968.0], [195042.0, 177770.0, 8976.0], [195418.0, 178100.0, 8990.0], [195893.0, 179100.0, 8995.0], [196370.0, 179800.0, 9006.0], [196780.0, 180300.0, 9010.0], [197198.0, 181000.0, 9020.0], [197523.0, 181719.0, 9023.0], [198064.0, 182160.0, 9022.0], [198343.0, 182661.0, 9032.0], [198699.0, 183153.0, 9046.0], [199001.0, 183728.0, 9057.0], [199332.0, 184028.0, 9063.0], [199709.0, 184266.0, 9070.0], [199919.0, 184414.0, 9071.0], [200180.0, 185100.0, 9074.0], [200456.0, 185100.0, 9078.0], [200890.0, 186000.0, 9080.0], [201450.0, 186400.0, 9087.0], [202045.0, 186900.0, 9088.0], [202426.0, 187200.0, 9091.0], [202735.0, 187400.0, 9092.0], [203325.0, 188070.0, 9094.0], [203717.0, 188221.0, 9099.0], [204276.0, 188628.0, 9102.0], [204881.0, 189140.0, 9110.0], [205623.0, 189696.0, 9120.0], [206278.0, 189919.0, 9124.0], [206667.0, 190055.0, 9124.0], [207112.0, 190314.0, 9125.0], [207707.0, 190711.0, 9131.0], [208546.0, 191279.0, 9135.0], [209535.0, 191551.0, 9144.0], [210399.0, 191992.0, 9147.0], [211005.0, 192636.0, 9154.0], [211220.0, 192908.0, 9154.0], [212111.0, 193594.0, 9154.0], [212828.0, 194173.0, 9163.0], [214113.0, 194568.0, 9179.0], [215039.0, 195281.0, 9181.0], [216196.0, 195935.0, 9195.0], [216903.0, 196550.0, 9201.0], [217288.0, 196783.0, 9202.0], [218508.0, 197382.0, 9203.0], [219540.0, 198347.0, 9208.0], [220859.0, 198991.0, 9213.0], [222281.0, 199654.0, 9217.0], [223791.0, 200440.0, 9230.0], [224488.0, 200756.0, 9235.0], [225007.0, 201187.0, 9235.0], [226700.0, 202249.0, 9236.0], [228120.0, 203677.0, 9241.0], [229706.0, 204454.0, 9249.0], [231292.0, 205359.0, 9263.0], [233029.0, 206656.0, 9266.0], [233861.0, 207606.0, 9272.0], [234494.0, 207985.0, 9275.0], [236122.0, 208653.0, 9276.0], [237583.0, 210333.0, 9281.0], [239010.0, 211691.0, 9285.0], [240571.0, 212909.0, 9290.0], [242126.0, 214186.0, 9290.0], [242835.0, 214790.0, 9299.0], [243305.0, 215283.0, 9300.0], [244802.0, 216795.0, 9303.0], [246015.0, 218403.0, 9307.0]]\n"
     ]
    }
   ],
   "source": [
    "xx,xxf,yy = get_country_data('Germany','confirmed',firstdate='01/01/20',lastdate='06/5/20')\n",
    "print(xxf)\n",
    "print(yy)\n",
    "xx,xxf,yy1 = get_country_data('Germany','recovered',firstdate='01/01/20',lastdate='06/5/20')\n",
    "print(yy)\n",
    "xx,xxf,yy2 = get_country_data('Germany','deaths',firstdate='01/01/20',lastdate='06/5/20')\n",
    "print(yy)\n",
    "y = [[yy[i],yy1[i],yy2[i]] for i in range(len(yy))]\n",
    "print(y)"
   ]
  },
  {
   "cell_type": "code",
   "execution_count": 106,
   "metadata": {
    "scrolled": false
   },
   "outputs": [
    {
     "name": "stdout",
     "output_type": "stream",
     "text": [
      "Warning: zero length interval encountered in pwlf.py calc_slopes\n",
      "Warning: zero length interval encountered in pwlf.py calc_slopes\n",
      "Warning: zero length interval encountered in pwlf.py calc_slopes\n",
      "Warning: zero length interval encountered in pwlf.py calc_slopes\n",
      "Warning: zero length interval encountered in pwlf.py calc_slopes\n",
      "Warning: zero length interval encountered in pwlf.py calc_slopes\n",
      "Warning: zero length interval encountered in pwlf.py calc_slopes\n",
      "Warning: zero length interval encountered in pwlf.py calc_slopes\n",
      "Warning: zero length interval encountered in pwlf.py calc_slopes\n",
      "Warning: zero length interval encountered in pwlf.py calc_slopes\n",
      "Warning: zero length interval encountered in pwlf.py calc_slopes\n",
      "Warning: zero length interval encountered in pwlf.py calc_slopes\n",
      "Warning: zero length interval encountered in pwlf.py calc_slopes\n",
      "Warning: zero length interval encountered in pwlf.py calc_slopes\n",
      "Warning: zero length interval encountered in pwlf.py calc_slopes\n",
      "Warning: zero length interval encountered in pwlf.py calc_slopes\n",
      "Warning: zero length interval encountered in pwlf.py calc_slopes\n",
      "Warning: zero length interval encountered in pwlf.py calc_slopes\n",
      "Warning: zero length interval encountered in pwlf.py calc_slopes\n",
      "Warning: zero length interval encountered in pwlf.py calc_slopes\n",
      "Warning: zero length interval encountered in pwlf.py calc_slopes\n",
      "Warning: zero length interval encountered in pwlf.py calc_slopes\n",
      "Warning: zero length interval encountered in pwlf.py calc_slopes\n",
      "Warning: zero length interval encountered in pwlf.py calc_slopes\n",
      "Warning: zero length interval encountered in pwlf.py calc_slopes\n",
      "Warning: zero length interval encountered in pwlf.py calc_slopes\n",
      "Warning: zero length interval encountered in pwlf.py calc_slopes\n",
      "Warning: zero length interval encountered in pwlf.py calc_slopes\n",
      "Warning: zero length interval encountered in pwlf.py calc_slopes\n",
      "Warning: zero length interval encountered in pwlf.py calc_slopes\n",
      "Warning: zero length interval encountered in pwlf.py calc_slopes\n",
      "Warning: zero length interval encountered in pwlf.py calc_slopes\n",
      "Warning: zero length interval encountered in pwlf.py calc_slopes\n",
      "Warning: zero length interval encountered in pwlf.py calc_slopes\n",
      "Warning: zero length interval encountered in pwlf.py calc_slopes\n",
      "Warning: zero length interval encountered in pwlf.py calc_slopes\n",
      "Warning: zero length interval encountered in pwlf.py calc_slopes\n",
      "Warning: zero length interval encountered in pwlf.py calc_slopes\n",
      "Warning: zero length interval encountered in pwlf.py calc_slopes\n",
      "Warning: zero length interval encountered in pwlf.py calc_slopes\n",
      "Warning: zero length interval encountered in pwlf.py calc_slopes\n",
      "Warning: zero length interval encountered in pwlf.py calc_slopes\n",
      "Warning: zero length interval encountered in pwlf.py calc_slopes\n",
      "Warning: zero length interval encountered in pwlf.py calc_slopes\n",
      "Warning: zero length interval encountered in pwlf.py calc_slopes\n",
      "Warning: zero length interval encountered in pwlf.py calc_slopes\n",
      "Warning: zero length interval encountered in pwlf.py calc_slopes\n",
      "Warning: zero length interval encountered in pwlf.py calc_slopes\n",
      "Warning: zero length interval encountered in pwlf.py calc_slopes\n",
      "Warning: zero length interval encountered in pwlf.py calc_slopes\n",
      "Warning: zero length interval encountered in pwlf.py calc_slopes\n",
      "Warning: zero length interval encountered in pwlf.py calc_slopes\n",
      "Warning: zero length interval encountered in pwlf.py calc_slopes\n",
      "Warning: zero length interval encountered in pwlf.py calc_slopes\n",
      "Warning: zero length interval encountered in pwlf.py calc_slopes\n",
      "Warning: zero length interval encountered in pwlf.py calc_slopes\n",
      "Warning: zero length interval encountered in pwlf.py calc_slopes\n",
      "Warning: zero length interval encountered in pwlf.py calc_slopes\n",
      "Warning: zero length interval encountered in pwlf.py calc_slopes\n",
      "Warning: zero length interval encountered in pwlf.py calc_slopes\n",
      "Warning: zero length interval encountered in pwlf.py calc_slopes\n",
      "Warning: zero length interval encountered in pwlf.py calc_slopes\n",
      "Warning: zero length interval encountered in pwlf.py calc_slopes\n",
      "Warning: zero length interval encountered in pwlf.py calc_slopes\n",
      "Warning: zero length interval encountered in pwlf.py calc_slopes\n",
      "Warning: zero length interval encountered in pwlf.py calc_slopes\n",
      "Warning: zero length interval encountered in pwlf.py calc_slopes\n",
      "Warning: zero length interval encountered in pwlf.py calc_slopes\n",
      "Warning: zero length interval encountered in pwlf.py calc_slopes\n",
      "Warning: zero length interval encountered in pwlf.py calc_slopes\n",
      "Warning: zero length interval encountered in pwlf.py calc_slopes\n",
      "Warning: zero length interval encountered in pwlf.py calc_slopes\n",
      "Warning: zero length interval encountered in pwlf.py calc_slopes\n",
      "Warning: zero length interval encountered in pwlf.py calc_slopes\n",
      "Warning: zero length interval encountered in pwlf.py calc_slopes\n",
      "Warning: zero length interval encountered in pwlf.py calc_slopes\n",
      "Warning: zero length interval encountered in pwlf.py calc_slopes\n",
      "Warning: zero length interval encountered in pwlf.py calc_slopes\n",
      "Warning: zero length interval encountered in pwlf.py calc_slopes\n",
      "Warning: zero length interval encountered in pwlf.py calc_slopes\n",
      "Warning: zero length interval encountered in pwlf.py calc_slopes\n",
      "Warning: zero length interval encountered in pwlf.py calc_slopes\n",
      "Warning: zero length interval encountered in pwlf.py calc_slopes\n",
      "Warning: zero length interval encountered in pwlf.py calc_slopes\n"
     ]
    },
    {
     "data": {
      "image/png": "[encoded data removed]",
      "text/plain": [
       "<Figure size 648x432 with 1 Axes>"
      ]
     },
     "metadata": {
      "needs_background": "light"
     },
     "output_type": "display_data"
    }
   ],
   "source": [
    "plotCountry_(['Italy','Spain','Germany','France','United Kingdom','Sweden','Turkey'],\n",
    "             'confirmed','cum_av_weekly',firstdate='02/15/20',lastdate='09/1/20',fittype='piecewise-linear',nsegments=4)\n",
    "plt.title(\"\");\n",
    "ax = plt.gca() #get axis handle\n",
    "#xx = ax.lines[0].get_xdata()\n",
    "#if len(xx)>len(dat):\n",
    "#    for i in range(len(xx)-209):\n",
    "#        dat = [(0,0)] + dat\n",
    "#plt.plot(xx,[450000*d[0] for d in dat],linewidth=5,color='salmon',alpha=0.5,linestyle='--')\n",
    "#plt.savefig(\"covid-19-caution/figures/fig1a.pdf\",bbox_inches='tight')"
   ]
  },
  {
   "cell_type": "code",
   "execution_count": 108,
   "metadata": {},
   "outputs": [
    {
     "name": "stdout",
     "output_type": "stream",
     "text": [
      "Warning: zero length interval encountered in pwlf.py calc_slopes\n",
      "Warning: zero length interval encountered in pwlf.py calc_slopes\n",
      "Warning: zero length interval encountered in pwlf.py calc_slopes\n",
      "Warning: zero length interval encountered in pwlf.py calc_slopes\n",
      "Warning: zero length interval encountered in pwlf.py calc_slopes\n",
      "Warning: zero length interval encountered in pwlf.py calc_slopes\n",
      "Warning: zero length interval encountered in pwlf.py calc_slopes\n",
      "Warning: zero length interval encountered in pwlf.py calc_slopes\n",
      "Warning: zero length interval encountered in pwlf.py calc_slopes\n",
      "Warning: zero length interval encountered in pwlf.py calc_slopes\n",
      "Warning: zero length interval encountered in pwlf.py calc_slopes\n",
      "Warning: zero length interval encountered in pwlf.py calc_slopes\n",
      "Warning: zero length interval encountered in pwlf.py calc_slopes\n",
      "Warning: zero length interval encountered in pwlf.py calc_slopes\n",
      "Warning: zero length interval encountered in pwlf.py calc_slopes\n",
      "Warning: zero length interval encountered in pwlf.py calc_slopes\n",
      "Warning: zero length interval encountered in pwlf.py calc_slopes\n",
      "Warning: zero length interval encountered in pwlf.py calc_slopes\n",
      "Warning: zero length interval encountered in pwlf.py calc_slopes\n",
      "Warning: zero length interval encountered in pwlf.py calc_slopes\n",
      "Warning: zero length interval encountered in pwlf.py calc_slopes\n",
      "Warning: zero length interval encountered in pwlf.py calc_slopes\n",
      "Warning: zero length interval encountered in pwlf.py calc_slopes\n",
      "Warning: zero length interval encountered in pwlf.py calc_slopes\n",
      "Warning: zero length interval encountered in pwlf.py calc_slopes\n",
      "Warning: zero length interval encountered in pwlf.py calc_slopes\n",
      "Warning: zero length interval encountered in pwlf.py calc_slopes\n",
      "Warning: zero length interval encountered in pwlf.py calc_slopes\n",
      "Warning: zero length interval encountered in pwlf.py calc_slopes\n",
      "Warning: zero length interval encountered in pwlf.py calc_slopes\n",
      "Warning: zero length interval encountered in pwlf.py calc_slopes\n",
      "Warning: zero length interval encountered in pwlf.py calc_slopes\n",
      "Warning: zero length interval encountered in pwlf.py calc_slopes\n",
      "Warning: zero length interval encountered in pwlf.py calc_slopes\n",
      "Warning: zero length interval encountered in pwlf.py calc_slopes\n",
      "Warning: zero length interval encountered in pwlf.py calc_slopes\n",
      "Warning: zero length interval encountered in pwlf.py calc_slopes\n",
      "Warning: zero length interval encountered in pwlf.py calc_slopes\n",
      "Warning: zero length interval encountered in pwlf.py calc_slopes\n",
      "Warning: zero length interval encountered in pwlf.py calc_slopes\n",
      "Warning: zero length interval encountered in pwlf.py calc_slopes\n",
      "Warning: zero length interval encountered in pwlf.py calc_slopes\n",
      "Warning: zero length interval encountered in pwlf.py calc_slopes\n",
      "Warning: zero length interval encountered in pwlf.py calc_slopes\n",
      "Warning: zero length interval encountered in pwlf.py calc_slopes\n",
      "Warning: zero length interval encountered in pwlf.py calc_slopes\n",
      "Warning: zero length interval encountered in pwlf.py calc_slopes\n",
      "Warning: zero length interval encountered in pwlf.py calc_slopes\n",
      "Warning: zero length interval encountered in pwlf.py calc_slopes\n",
      "Warning: zero length interval encountered in pwlf.py calc_slopes\n",
      "Warning: zero length interval encountered in pwlf.py calc_slopes\n",
      "Warning: zero length interval encountered in pwlf.py calc_slopes\n",
      "Warning: zero length interval encountered in pwlf.py calc_slopes\n",
      "Warning: zero length interval encountered in pwlf.py calc_slopes\n",
      "Warning: zero length interval encountered in pwlf.py calc_slopes\n",
      "Warning: zero length interval encountered in pwlf.py calc_slopes\n",
      "Warning: zero length interval encountered in pwlf.py calc_slopes\n",
      "Warning: zero length interval encountered in pwlf.py calc_slopes\n",
      "Warning: zero length interval encountered in pwlf.py calc_slopes\n",
      "Warning: zero length interval encountered in pwlf.py calc_slopes\n",
      "Warning: zero length interval encountered in pwlf.py calc_slopes\n",
      "Warning: zero length interval encountered in pwlf.py calc_slopes\n",
      "Warning: zero length interval encountered in pwlf.py calc_slopes\n",
      "Warning: zero length interval encountered in pwlf.py calc_slopes\n",
      "Warning: zero length interval encountered in pwlf.py calc_slopes\n",
      "Warning: zero length interval encountered in pwlf.py calc_slopes\n",
      "Warning: zero length interval encountered in pwlf.py calc_slopes\n",
      "Warning: zero length interval encountered in pwlf.py calc_slopes\n",
      "Warning: zero length interval encountered in pwlf.py calc_slopes\n",
      "Warning: zero length interval encountered in pwlf.py calc_slopes\n",
      "Warning: zero length interval encountered in pwlf.py calc_slopes\n",
      "Warning: zero length interval encountered in pwlf.py calc_slopes\n",
      "Warning: zero length interval encountered in pwlf.py calc_slopes\n",
      "Warning: zero length interval encountered in pwlf.py calc_slopes\n",
      "Warning: zero length interval encountered in pwlf.py calc_slopes\n",
      "Warning: zero length interval encountered in pwlf.py calc_slopes\n",
      "Warning: zero length interval encountered in pwlf.py calc_slopes\n",
      "Warning: zero length interval encountered in pwlf.py calc_slopes\n",
      "Warning: zero length interval encountered in pwlf.py calc_slopes\n",
      "Warning: zero length interval encountered in pwlf.py calc_slopes\n",
      "Warning: zero length interval encountered in pwlf.py calc_slopes\n",
      "Warning: zero length interval encountered in pwlf.py calc_slopes\n",
      "Warning: zero length interval encountered in pwlf.py calc_slopes\n",
      "Warning: zero length interval encountered in pwlf.py calc_slopes\n"
     ]
    },
    {
     "data": {
      "image/png": "[encoded data removed]",
      "text/plain": [
       "<Figure size 648x432 with 1 Axes>"
      ]
     },
     "metadata": {
      "needs_background": "light"
     },
     "output_type": "display_data"
    }
   ],
   "source": [
    "# repeat same plot but this time using the OWID database\n",
    "# NB firstdate and lastdate inside data set are not working for plots : check this out\n",
    "plotCountry_(['Italy','Spain','Germany','France','United Kingdom','Sweden','Turkey'],\n",
    "             'confirmed','cum_av_weekly',firstdate='02/15/20',lastdate='09/1/20',fittype='piecewise-linear',nsegments=4,database='owid')\n",
    "plt.title(\"\");\n",
    "ax = plt.gca() #get axis handle"
   ]
  },
  {
   "cell_type": "code",
   "execution_count": 109,
   "metadata": {},
   "outputs": [
    {
     "name": "stdout",
     "output_type": "stream",
     "text": [
      "Warning: zero length interval encountered in pwlf.py calc_slopes\n",
      "Warning: zero length interval encountered in pwlf.py calc_slopes\n",
      "Warning: zero length interval encountered in pwlf.py calc_slopes\n",
      "Warning: zero length interval encountered in pwlf.py calc_slopes\n",
      "Warning: zero length interval encountered in pwlf.py calc_slopes\n",
      "Warning: zero length interval encountered in pwlf.py calc_slopes\n",
      "Warning: zero length interval encountered in pwlf.py calc_slopes\n",
      "Warning: zero length interval encountered in pwlf.py calc_slopes\n",
      "Warning: zero length interval encountered in pwlf.py calc_slopes\n",
      "Warning: zero length interval encountered in pwlf.py calc_slopes\n",
      "Warning: zero length interval encountered in pwlf.py calc_slopes\n",
      "Warning: zero length interval encountered in pwlf.py calc_slopes\n",
      "Warning: zero length interval encountered in pwlf.py calc_slopes\n",
      "Warning: zero length interval encountered in pwlf.py calc_slopes\n",
      "Warning: zero length interval encountered in pwlf.py calc_slopes\n",
      "Warning: zero length interval encountered in pwlf.py calc_slopes\n",
      "Warning: zero length interval encountered in pwlf.py calc_slopes\n",
      "Warning: zero length interval encountered in pwlf.py calc_slopes\n",
      "Warning: zero length interval encountered in pwlf.py calc_slopes\n",
      "Warning: zero length interval encountered in pwlf.py calc_slopes\n",
      "Warning: zero length interval encountered in pwlf.py calc_slopes\n",
      "Warning: zero length interval encountered in pwlf.py calc_slopes\n",
      "Warning: zero length interval encountered in pwlf.py calc_slopes\n",
      "Warning: zero length interval encountered in pwlf.py calc_slopes\n",
      "Warning: zero length interval encountered in pwlf.py calc_slopes\n",
      "Warning: zero length interval encountered in pwlf.py calc_slopes\n",
      "Warning: zero length interval encountered in pwlf.py calc_slopes\n",
      "Warning: zero length interval encountered in pwlf.py calc_slopes\n",
      "Warning: zero length interval encountered in pwlf.py calc_slopes\n",
      "Warning: zero length interval encountered in pwlf.py calc_slopes\n",
      "Warning: zero length interval encountered in pwlf.py calc_slopes\n",
      "Warning: zero length interval encountered in pwlf.py calc_slopes\n",
      "Warning: zero length interval encountered in pwlf.py calc_slopes\n",
      "Warning: zero length interval encountered in pwlf.py calc_slopes\n",
      "Warning: zero length interval encountered in pwlf.py calc_slopes\n",
      "Warning: zero length interval encountered in pwlf.py calc_slopes\n",
      "Warning: zero length interval encountered in pwlf.py calc_slopes\n",
      "Warning: zero length interval encountered in pwlf.py calc_slopes\n",
      "Warning: zero length interval encountered in pwlf.py calc_slopes\n",
      "Warning: zero length interval encountered in pwlf.py calc_slopes\n",
      "Warning: zero length interval encountered in pwlf.py calc_slopes\n",
      "Warning: zero length interval encountered in pwlf.py calc_slopes\n"
     ]
    },
    {
     "data": {
      "image/png": "[encoded data removed]",
      "text/plain": [
       "<Figure size 648x432 with 1 Axes>"
      ]
     },
     "metadata": {
      "needs_background": "light"
     },
     "output_type": "display_data"
    }
   ],
   "source": [
    "# repeat same plot but this time using tests data from the OWID database\n",
    "# CAREFUL : we still need to distinguish the different types of testing data by cases or samples\n",
    "plotCountry_(['Italy','Spain','Germany','France','United Kingdom','Sweden','Turkey'],\n",
    "             'tests','cum_av_weekly',firstdate='02/15/20',lastdate='09/1/20',fittype='piecewise-linear',database='owid')\n",
    "plt.title(\"\");\n",
    "ax = plt.gca() #get axis handle"
   ]
  },
  {
   "cell_type": "code",
   "execution_count": 110,
   "metadata": {
    "scrolled": false
   },
   "outputs": [
    {
     "data": {
      "image/png": "[encoded data removed]",
      "text/plain": [
       "<Figure size 648x432 with 1 Axes>"
      ]
     },
     "metadata": {
      "needs_background": "light"
     },
     "output_type": "display_data"
    }
   ],
   "source": [
    "plotCountry_(['Italy','Spain','Germany','France','United Kingdom','Sweden','Turkey'],\n",
    "            'confirmed','daily_av_weekly',firstdate='02/15/20',lastdate='09/1/20')\n",
    "plt.title(\"\");\n",
    "# plt.plot(xx,[450000*d[1] for d in dat],linewidth=6,color='salmon',alpha=0.5,linestyle='--');\n",
    "# plt.savefig(\"covid-19-caution/figures/fig1b.pdf\",bbox_inches='tight')"
   ]
  },
  {
   "cell_type": "code",
   "execution_count": 112,
   "metadata": {
    "scrolled": false
   },
   "outputs": [
    {
     "data": {
      "image/png": "[encoded data removed]",
      "text/plain": [
       "<Figure size 648x432 with 1 Axes>"
      ]
     },
     "metadata": {
      "needs_background": "light"
     },
     "output_type": "display_data"
    }
   ],
   "source": [
    "plotCountry_(['Italy','Spain','Germany','France','United Kingdom','Sweden','Turkey'],\n",
    "            'confirmed','daily_av_weekly',firstdate='02/15/20',lastdate='08/31/20',database='owid')\n",
    "plt.title(\"\");\n",
    "# plt.plot(xx,[450000*d[1] for d in dat],linewidth=6,color='salmon',alpha=0.5,linestyle='--');\n",
    "# plt.savefig(\"covid-19-caution/figures/fig1b.pdf\",bbox_inches='tight')"
   ]
  },
  {
   "cell_type": "code",
   "execution_count": 113,
   "metadata": {
    "scrolled": false
   },
   "outputs": [
    {
     "data": {
      "image/png": "[encoded data removed]",
      "text/plain": [
       "<Figure size 648x432 with 1 Axes>"
      ]
     },
     "metadata": {
      "needs_background": "light"
     },
     "output_type": "display_data"
    }
   ],
   "source": [
    "#stringency\n",
    "plotCountry_(['Italy','Spain','Germany','France','United Kingdom','Sweden','Turkey'],\n",
    "            'stringency','daily',firstdate='02/15/20',lastdate='08/31/20',database='owid')\n",
    "plt.title(\"\");\n",
    "# plt.plot(xx,[450000*d[1] for d in dat],linewidth=6,color='salmon',alpha=0.5,linestyle='--');\n",
    "# plt.savefig(\"covid-19-caution/figures/fig1b.pdf\",bbox_inches='tight')"
   ]
  },
  {
   "cell_type": "code",
   "execution_count": 157,
   "metadata": {
    "scrolled": false
   },
   "outputs": [
    {
     "name": "stdout",
     "output_type": "stream",
     "text": [
      "Warning: zero length interval encountered in pwlf.py calc_slopes\n",
      "Warning: zero length interval encountered in pwlf.py calc_slopes\n",
      "Warning: zero length interval encountered in pwlf.py calc_slopes\n",
      "Warning: zero length interval encountered in pwlf.py calc_slopes\n",
      "Warning: zero length interval encountered in pwlf.py calc_slopes\n",
      "Warning: zero length interval encountered in pwlf.py calc_slopes\n",
      "Warning: zero length interval encountered in pwlf.py calc_slopes\n",
      "Warning: zero length interval encountered in pwlf.py calc_slopes\n",
      "Warning: zero length interval encountered in pwlf.py calc_slopes\n",
      "Warning: zero length interval encountered in pwlf.py calc_slopes\n",
      "Warning: zero length interval encountered in pwlf.py calc_slopes\n",
      "Warning: zero length interval encountered in pwlf.py calc_slopes\n",
      "Warning: zero length interval encountered in pwlf.py calc_slopes\n",
      "Warning: zero length interval encountered in pwlf.py calc_slopes\n",
      "Warning: zero length interval encountered in pwlf.py calc_slopes\n",
      "Warning: zero length interval encountered in pwlf.py calc_slopes\n",
      "Warning: zero length interval encountered in pwlf.py calc_slopes\n",
      "Warning: zero length interval encountered in pwlf.py calc_slopes\n",
      "Warning: zero length interval encountered in pwlf.py calc_slopes\n",
      "Warning: zero length interval encountered in pwlf.py calc_slopes\n",
      "Warning: zero length interval encountered in pwlf.py calc_slopes\n",
      "Warning: zero length interval encountered in pwlf.py calc_slopes\n",
      "Warning: zero length interval encountered in pwlf.py calc_slopes\n",
      "Warning: zero length interval encountered in pwlf.py calc_slopes\n",
      "Warning: zero length interval encountered in pwlf.py calc_slopes\n",
      "Warning: zero length interval encountered in pwlf.py calc_slopes\n",
      "Warning: zero length interval encountered in pwlf.py calc_slopes\n",
      "Warning: zero length interval encountered in pwlf.py calc_slopes\n",
      "Warning: zero length interval encountered in pwlf.py calc_slopes\n",
      "Warning: zero length interval encountered in pwlf.py calc_slopes\n",
      "Warning: zero length interval encountered in pwlf.py calc_slopes\n",
      "Warning: zero length interval encountered in pwlf.py calc_slopes\n",
      "Warning: zero length interval encountered in pwlf.py calc_slopes\n",
      "Warning: zero length interval encountered in pwlf.py calc_slopes\n",
      "Warning: zero length interval encountered in pwlf.py calc_slopes\n",
      "Warning: zero length interval encountered in pwlf.py calc_slopes\n",
      "Warning: zero length interval encountered in pwlf.py calc_slopes\n",
      "Warning: zero length interval encountered in pwlf.py calc_slopes\n",
      "Warning: zero length interval encountered in pwlf.py calc_slopes\n",
      "Warning: zero length interval encountered in pwlf.py calc_slopes\n",
      "Warning: zero length interval encountered in pwlf.py calc_slopes\n",
      "Warning: zero length interval encountered in pwlf.py calc_slopes\n",
      "Warning: zero length interval encountered in pwlf.py calc_slopes\n",
      "Warning: zero length interval encountered in pwlf.py calc_slopes\n",
      "Warning: zero length interval encountered in pwlf.py calc_slopes\n",
      "Warning: zero length interval encountered in pwlf.py calc_slopes\n",
      "Warning: zero length interval encountered in pwlf.py calc_slopes\n",
      "Warning: zero length interval encountered in pwlf.py calc_slopes\n",
      "Warning: zero length interval encountered in pwlf.py calc_slopes\n",
      "Warning: zero length interval encountered in pwlf.py calc_slopes\n",
      "Warning: zero length interval encountered in pwlf.py calc_slopes\n",
      "Warning: zero length interval encountered in pwlf.py calc_slopes\n",
      "Warning: zero length interval encountered in pwlf.py calc_slopes\n",
      "Warning: zero length interval encountered in pwlf.py calc_slopes\n",
      "Warning: zero length interval encountered in pwlf.py calc_slopes\n",
      "Warning: zero length interval encountered in pwlf.py calc_slopes\n",
      "Warning: zero length interval encountered in pwlf.py calc_slopes\n",
      "Warning: zero length interval encountered in pwlf.py calc_slopes\n",
      "Warning: zero length interval encountered in pwlf.py calc_slopes\n",
      "Warning: zero length interval encountered in pwlf.py calc_slopes\n",
      "Warning: zero length interval encountered in pwlf.py calc_slopes\n",
      "Warning: zero length interval encountered in pwlf.py calc_slopes\n",
      "Warning: zero length interval encountered in pwlf.py calc_slopes\n",
      "Warning: zero length interval encountered in pwlf.py calc_slopes\n",
      "Warning: zero length interval encountered in pwlf.py calc_slopes\n",
      "Warning: zero length interval encountered in pwlf.py calc_slopes\n",
      "Warning: zero length interval encountered in pwlf.py calc_slopes\n",
      "Warning: zero length interval encountered in pwlf.py calc_slopes\n",
      "Warning: zero length interval encountered in pwlf.py calc_slopes\n",
      "Warning: zero length interval encountered in pwlf.py calc_slopes\n",
      "Warning: zero length interval encountered in pwlf.py calc_slopes\n",
      "Warning: zero length interval encountered in pwlf.py calc_slopes\n",
      "Warning: zero length interval encountered in pwlf.py calc_slopes\n",
      "Warning: zero length interval encountered in pwlf.py calc_slopes\n",
      "Warning: zero length interval encountered in pwlf.py calc_slopes\n",
      "Warning: zero length interval encountered in pwlf.py calc_slopes\n",
      "Warning: zero length interval encountered in pwlf.py calc_slopes\n",
      "Warning: zero length interval encountered in pwlf.py calc_slopes\n",
      "Warning: zero length interval encountered in pwlf.py calc_slopes\n",
      "Warning: zero length interval encountered in pwlf.py calc_slopes\n",
      "Warning: zero length interval encountered in pwlf.py calc_slopes\n",
      "Warning: zero length interval encountered in pwlf.py calc_slopes\n",
      "Warning: zero length interval encountered in pwlf.py calc_slopes\n",
      "Warning: zero length interval encountered in pwlf.py calc_slopes\n",
      "Warning: zero length interval encountered in pwlf.py calc_slopes\n",
      "Warning: zero length interval encountered in pwlf.py calc_slopes\n",
      "Warning: zero length interval encountered in pwlf.py calc_slopes\n",
      "Warning: zero length interval encountered in pwlf.py calc_slopes\n",
      "Warning: zero length interval encountered in pwlf.py calc_slopes\n",
      "Warning: zero length interval encountered in pwlf.py calc_slopes\n",
      "Warning: zero length interval encountered in pwlf.py calc_slopes\n",
      "Warning: zero length interval encountered in pwlf.py calc_slopes\n",
      "Warning: zero length interval encountered in pwlf.py calc_slopes\n",
      "Warning: zero length interval encountered in pwlf.py calc_slopes\n",
      "Warning: zero length interval encountered in pwlf.py calc_slopes\n",
      "Warning: zero length interval encountered in pwlf.py calc_slopes\n",
      "Warning: zero length interval encountered in pwlf.py calc_slopes\n",
      "Warning: zero length interval encountered in pwlf.py calc_slopes\n",
      "Warning: zero length interval encountered in pwlf.py calc_slopes\n",
      "Warning: zero length interval encountered in pwlf.py calc_slopes\n",
      "Warning: zero length interval encountered in pwlf.py calc_slopes\n",
      "Warning: zero length interval encountered in pwlf.py calc_slopes\n",
      "Warning: zero length interval encountered in pwlf.py calc_slopes\n",
      "Warning: zero length interval encountered in pwlf.py calc_slopes\n",
      "Warning: zero length interval encountered in pwlf.py calc_slopes\n",
      "Warning: zero length interval encountered in pwlf.py calc_slopes\n",
      "Warning: zero length interval encountered in pwlf.py calc_slopes\n",
      "Warning: zero length interval encountered in pwlf.py calc_slopes\n",
      "Warning: zero length interval encountered in pwlf.py calc_slopes\n",
      "Warning: zero length interval encountered in pwlf.py calc_slopes\n",
      "Warning: zero length interval encountered in pwlf.py calc_slopes\n",
      "Warning: zero length interval encountered in pwlf.py calc_slopes\n",
      "Warning: zero length interval encountered in pwlf.py calc_slopes\n",
      "Warning: zero length interval encountered in pwlf.py calc_slopes\n",
      "Warning: zero length interval encountered in pwlf.py calc_slopes\n",
      "Warning: zero length interval encountered in pwlf.py calc_slopes\n",
      "Warning: zero length interval encountered in pwlf.py calc_slopes\n",
      "Warning: zero length interval encountered in pwlf.py calc_slopes\n",
      "Warning: zero length interval encountered in pwlf.py calc_slopes\n",
      "Warning: zero length interval encountered in pwlf.py calc_slopes\n",
      "Warning: zero length interval encountered in pwlf.py calc_slopes\n",
      "Warning: zero length interval encountered in pwlf.py calc_slopes\n",
      "Warning: zero length interval encountered in pwlf.py calc_slopes\n",
      "Warning: zero length interval encountered in pwlf.py calc_slopes\n",
      "Warning: zero length interval encountered in pwlf.py calc_slopes\n",
      "Warning: zero length interval encountered in pwlf.py calc_slopes\n",
      "Warning: zero length interval encountered in pwlf.py calc_slopes\n",
      "Warning: zero length interval encountered in pwlf.py calc_slopes\n",
      "Warning: zero length interval encountered in pwlf.py calc_slopes\n",
      "Warning: zero length interval encountered in pwlf.py calc_slopes\n",
      "Warning: zero length interval encountered in pwlf.py calc_slopes\n",
      "Warning: zero length interval encountered in pwlf.py calc_slopes\n",
      "Warning: zero length interval encountered in pwlf.py calc_slopes\n",
      "Warning: zero length interval encountered in pwlf.py calc_slopes\n",
      "Warning: zero length interval encountered in pwlf.py calc_slopes\n",
      "Warning: zero length interval encountered in pwlf.py calc_slopes\n",
      "Warning: zero length interval encountered in pwlf.py calc_slopes\n",
      "Warning: zero length interval encountered in pwlf.py calc_slopes\n",
      "Warning: zero length interval encountered in pwlf.py calc_slopes\n",
      "Warning: zero length interval encountered in pwlf.py calc_slopes\n"
     ]
    },
    {
     "name": "stdout",
     "output_type": "stream",
     "text": [
      "Warning: zero length interval encountered in pwlf.py calc_slopes\n",
      "Warning: zero length interval encountered in pwlf.py calc_slopes\n",
      "Warning: zero length interval encountered in pwlf.py calc_slopes\n",
      "Warning: zero length interval encountered in pwlf.py calc_slopes\n",
      "Warning: zero length interval encountered in pwlf.py calc_slopes\n",
      "Warning: zero length interval encountered in pwlf.py calc_slopes\n",
      "Warning: zero length interval encountered in pwlf.py calc_slopes\n",
      "Warning: zero length interval encountered in pwlf.py calc_slopes\n",
      "Warning: zero length interval encountered in pwlf.py calc_slopes\n",
      "Warning: zero length interval encountered in pwlf.py calc_slopes\n",
      "Warning: zero length interval encountered in pwlf.py calc_slopes\n",
      "Warning: zero length interval encountered in pwlf.py calc_slopes\n",
      "Warning: zero length interval encountered in pwlf.py calc_slopes\n",
      "Warning: zero length interval encountered in pwlf.py calc_slopes\n",
      "Warning: zero length interval encountered in pwlf.py calc_slopes\n",
      "Warning: zero length interval encountered in pwlf.py calc_slopes\n",
      "Warning: zero length interval encountered in pwlf.py calc_slopes\n",
      "Warning: zero length interval encountered in pwlf.py calc_slopes\n",
      "Warning: zero length interval encountered in pwlf.py calc_slopes\n",
      "Warning: zero length interval encountered in pwlf.py calc_slopes\n"
     ]
    },
    {
     "data": {
      "image/png": "[encoded data removed]",
      "text/plain": [
       "<Figure size 648x432 with 1 Axes>"
      ]
     },
     "metadata": {
      "needs_background": "light"
     },
     "output_type": "display_data"
    }
   ],
   "source": [
    "plotCountry_(['World','US','Brazil','India','Russia','South Africa','Mexico','Peru'],'confirmed',\n",
    "             'cum_av_weekly',firstdate='02/15/20',lastdate='11/1/20',maxyval=75000000,fittype='piecewise-linear',nsegments=5)\n",
    "plt.title(\"\");\n",
    "#plt.savefig(\"covid-19-caution/figures/fig1c.pdf\",bbox_inches='tight')"
   ]
  },
  {
   "cell_type": "code",
   "execution_count": null,
   "metadata": {
    "scrolled": false
   },
   "outputs": [],
   "source": [
    "plotCountry_(['World','US','Brazil','India','Russia','South Africa','Mexico','Peru'],\n",
    "             'confirmed','daily_av_weekly',firstdate='02/15/20',lastdate='08/1/20',maxyval=90000)\n",
    "plt.title(\"\");\n",
    "#plt.savefig(\"covid-19-caution/figures/fig1d.pdf\",bbox_inches='tight')"
   ]
  },
  {
   "cell_type": "code",
   "execution_count": null,
   "metadata": {},
   "outputs": [],
   "source": [
    "plotCountry(['US','Brazil','India','Russia','South Africa','Mexico','Peru'],'deaths','daily_av_weekly',firstdate='02/15/20',lastdate='08/1/20')"
   ]
  },
  {
   "cell_type": "code",
   "execution_count": null,
   "metadata": {
    "scrolled": false
   },
   "outputs": [],
   "source": [
    "plotCountry(['Italy','Germany','Sweden','Spain'],'confirmed','daily_av_weekly',firstdate='01/01/20',lastdate='06/5/20')"
   ]
  },
  {
   "cell_type": "code",
   "execution_count": null,
   "metadata": {
    "scrolled": false
   },
   "outputs": [],
   "source": [
    "plotCountry(['Italy','Turkey','Germany','Russia','Brazil','United Kingdom','Spain'],'confirmed','daily_av_weekly',firstdate='01/01/20',lastdate='06/5/20')"
   ]
  },
  {
   "cell_type": "code",
   "execution_count": null,
   "metadata": {},
   "outputs": [],
   "source": [
    "plotCountry(('Australia','New South Wales'),'confirmed','cumulative',None)\n",
    "#plotCountry(('Austria',''))"
   ]
  },
  {
   "cell_type": "code",
   "execution_count": null,
   "metadata": {},
   "outputs": [],
   "source": [
    "plotCountry('Italy','deaths')\n",
    "plotCountry('Italy','confirmed')\n",
    "plotCountry('Italy','recovered')"
   ]
  },
  {
   "cell_type": "code",
   "execution_count": null,
   "metadata": {
    "scrolled": false
   },
   "outputs": [],
   "source": [
    "plotCountry('World','deaths')\n",
    "plotCountry('World','confirmed')\n",
    "plotCountry('World','recovered')"
   ]
  },
  {
   "cell_type": "code",
   "execution_count": null,
   "metadata": {},
   "outputs": [],
   "source": [
    "plotCountry(['Italy','United Kingdom','Spain','France','Germany'],'deaths','daily_av_weekly')"
   ]
  },
  {
   "cell_type": "code",
   "execution_count": null,
   "metadata": {},
   "outputs": [],
   "source": [
    "plotCountry(('Germany',''),'deaths','daily',step='step')"
   ]
  },
  {
   "cell_type": "code",
   "execution_count": null,
   "metadata": {},
   "outputs": [],
   "source": [
    "plotCountry(('Germany',''),'deaths','daily_av_weekly',step='step')"
   ]
  },
  {
   "cell_type": "code",
   "execution_count": null,
   "metadata": {},
   "outputs": [],
   "source": [
    "plotCountry('Brazil','deaths','daily_av_weekly',step='step')"
   ]
  },
  {
   "cell_type": "code",
   "execution_count": null,
   "metadata": {},
   "outputs": [],
   "source": [
    "countries_jhu"
   ]
  },
  {
   "cell_type": "code",
   "execution_count": null,
   "metadata": {},
   "outputs": [],
   "source": [
    "print(\"number of countries\",len(countries_jhu))\n",
    "max_rows=10\n",
    "max_cols=9\n",
    "fig, axes = plt.subplots(nrows=max_rows, ncols=max_cols, figsize=(30,45))\n",
    "minconfirmed=10000\n",
    "count = 0\n",
    "countries_jhu_min = countries_jhu.copy()\n",
    "for idx, country  in enumerate(countries_jhu):\n",
    "    maxconfirmed = maxCountry(country, datatype='confirmed', firstdate='02/15/20',lastdate='08/1/20')\n",
    "    if maxconfirmed >= minconfirmed:\n",
    "        count = count+1\n",
    "    else:\n",
    "        del countries_jhu_min[count]\n",
    "print('len min countries',len(countries_jhu_min))\n",
    "for idxx, country  in enumerate(countries_jhu_min):\n",
    "    row = idxx // max_cols\n",
    "    col = idxx % max_cols\n",
    "    axes[row, col].axis(\"off\")\n",
    "    plotCountry_(country, datatype='confirmed', fittype='piecewise-linear',ax=axes[row, col],ax2=True,symbol='.',\n",
    "                   firstdate='02/15/20',lastdate='08/1/20',nsegments=4)\n",
    "for idx in range(len(countries_jhu_min),max_rows*max_cols):\n",
    "    row = idx // max_cols\n",
    "    col = idx % max_cols\n",
    "    axes[row, col].axis(\"off\")\n",
    "plt.subplots_adjust(wspace=.5, hspace=.5)\n",
    "plt.show()"
   ]
  },
  {
   "cell_type": "code",
   "execution_count": null,
   "metadata": {},
   "outputs": [],
   "source": [
    "print(\"number of countries\",len(countries_jhu))\n",
    "minconfirmed=1000\n",
    "count = 0\n",
    "countries_jhu_min = countries_jhu.copy()\n",
    "for idx, country  in enumerate(countries_jhu):\n",
    "    maxconfirmed = maxCountry(country, datatype='deaths', firstdate='02/15/20',lastdate='08/1/20')\n",
    "    if maxconfirmed >= minconfirmed:\n",
    "        count = count+1\n",
    "    else:\n",
    "        del countries_jhu_min[count]\n",
    "print('len min countries',len(countries_jhu_min))\n",
    "max_cols=9\n",
    "max_rows=1+(len(countries_jhu_min)-1)//9\n",
    "fig, axes = plt.subplots(nrows=max_rows, ncols=max_cols, figsize=(30,30*max_rows/max_cols))\n",
    "for idxx, country  in enumerate(countries_jhu_min):\n",
    "    row = idxx // max_cols\n",
    "    col = idxx % max_cols\n",
    "    axes[row, col].axis(\"off\")\n",
    "    plotCountry_(country, datatype='deaths', fittype='piecewise-linear',ax=axes[row, col],ax2=True,symbol='.',\n",
    "                   firstdate='02/15/20',lastdate='08/1/20',nsegments=4)\n",
    "for idx in range(len(countries_jhu_min),max_rows*max_cols):\n",
    "    row = idx // max_cols\n",
    "    col = idx % max_cols\n",
    "    axes[row, col].axis(\"off\")\n",
    "plt.subplots_adjust(wspace=.5, hspace=.5)\n",
    "plt.show()"
   ]
  },
  {
   "cell_type": "code",
   "execution_count": null,
   "metadata": {},
   "outputs": [],
   "source": [
    "print(\"number of countries\",len(countries_jhu))\n",
    "max_rows=36\n",
    "max_cols=8\n",
    "fig, axes = plt.subplots(nrows=max_rows, ncols=max_cols, figsize=(30,90))\n",
    "for idx, country  in enumerate(countries_jhu):\n",
    "    row = idx // max_cols\n",
    "    col = idx % max_cols\n",
    "    axes[row, col].axis(\"off\")\n",
    "    plotCountry(country, datatype='deaths', dataaccum='cum_av_weekly',fittype=None,ax=axes[row, col],ax2=True,symbol='.')\n",
    "for idx in range(len(countries_jhu),max_rows*max_cols):\n",
    "    row = idx // max_cols\n",
    "    col = idx % max_cols\n",
    "    axes[row, col].axis(\"off\")\n",
    "plt.subplots_adjust(wspace=.5, hspace=.5)\n",
    "plt.show()"
   ]
  },
  {
   "cell_type": "code",
   "execution_count": null,
   "metadata": {},
   "outputs": [],
   "source": [
    "print(\"number of countries\",len(countries_jhu))\n",
    "max_rows=36\n",
    "max_cols=8\n",
    "fig, axes = plt.subplots(nrows=max_rows, ncols=max_cols, figsize=(30,90))\n",
    "for idx, country  in enumerate(countries_jhu):\n",
    "    row = idx // max_cols\n",
    "    col = idx % max_cols\n",
    "    axes[row, col].axis(\"off\")\n",
    "    plotCountry(country, datatype='deaths', dataaccum='daily',fittype=None,ax=axes[row, col],ax2=True,symbol='.')\n",
    "for idx in range(len(countries_jhu),max_rows*max_cols):\n",
    "    row = idx // max_cols\n",
    "    col = idx % max_cols\n",
    "    axes[row, col].axis(\"off\")\n",
    "plt.subplots_adjust(wspace=.5, hspace=.5)\n",
    "plt.show()"
   ]
  },
  {
   "cell_type": "code",
   "execution_count": null,
   "metadata": {},
   "outputs": [],
   "source": [
    "print(\"number of countries\",len(countries_jhu))\n",
    "max_rows=36\n",
    "max_cols=8\n",
    "fig, axes = plt.subplots(nrows=max_rows, ncols=max_cols, figsize=(30,90))\n",
    "for idx, country  in enumerate(countries_jhu):\n",
    "    row = idx // max_cols\n",
    "    col = idx % max_cols\n",
    "    axes[row, col].axis(\"off\")\n",
    "    plotCountry(country, datatype='deaths', dataaccum='daily_av_weekly',fittype=None,ax=axes[row, col],ax2=True,symbol='.')\n",
    "for idx in range(len(countries_jhu),max_rows*max_cols):\n",
    "    row = idx // max_cols\n",
    "    col = idx % max_cols\n",
    "    axes[row, col].axis(\"off\")\n",
    "plt.subplots_adjust(wspace=.5, hspace=.5)\n",
    "plt.show()"
   ]
  },
  {
   "cell_type": "markdown",
   "metadata": {},
   "source": [
    "### Check daily figures with owid data"
   ]
  },
  {
   "cell_type": "code",
   "execution_count": null,
   "metadata": {},
   "outputs": [],
   "source": [
    "def plotDaily(country_s, datatype):\n",
    "    countries = []\n",
    "    if isinstance(country_s,list):\n",
    "        for country in country_s:\n",
    "            if isinstance(country,str):\n",
    "                country = (country,'')\n",
    "            countries.append(country)\n",
    "    elif isinstance(country_s,str):\n",
    "        countries = [(country_s,'')]\n",
    "    else:\n",
    "        countries = [country_s]\n",
    "            \n",
    "    popkeyed = covid_ts[datatype]\n",
    "    dates = popkeyed['dates']\n",
    "    fmt = '%m/%d/%y'\n",
    "    xx = [datetime.datetime.strptime(dd,fmt) for dd in dates ]\n",
    "    day0 = datetime.datetime.strptime(dates[0],fmt)\n",
    "    xxi = [Float((datetime.datetime.strptime(dd,fmt)-day0).days) for dd in dates ]\n",
    "    # print(xxi)\n",
    "    # locator = mdates.MonthLocator()\n",
    "    locator = mdates.AutoDateLocator(minticks=5, maxticks=13)\n",
    "    formatter= mdates.ConciseDateFormatter(locator)\n",
    "    \n",
    "    fig,ax = plt.subplots(1,1,figsize=(20,10))      \n",
    "    colors =  ['k', 'b', 'c', 'm', 'y', 'g', 'r']\n",
    "    i = 0\n",
    "    for country in countries:\n",
    "            yy = popkeyed[country]\n",
    "            yyf = [Float(y) for y in yy]\n",
    "            yyd = [0.]*len(yyf)\n",
    "            yyd[0] = 0.\n",
    "            for j in range(1,len(yyf)):\n",
    "                yyd[j] = yyf[j]-yyf[j-1]\n",
    "            ax.step(xx,yyd,label = country[0])\n",
    "            # ax.plot(xx, yyd, color = colors[i], alpha=1, label = country[0])\n",
    "\n",
    "            i = i+1\n",
    "\n",
    "    #ax.plot(xx, yy, 'o--', color='black', alpha=0.3)\n",
    "    \n",
    "    \n",
    "    ax.xaxis.set_major_formatter(formatter)\n",
    "    ax.xaxis.set_major_locator(locator)\n",
    "    for tick in ax.get_xticklabels():\n",
    "        tick.set_rotation(40)\n",
    "    if len(countries) == 1:\n",
    "        plt.title(country[0]+'-'+country[1]+' '+datatype)\n",
    "    else:\n",
    "        plt.legend(loc=\"upper left\")\n",
    "        plt.title('countries '+datatype)"
   ]
  },
  {
   "cell_type": "code",
   "execution_count": null,
   "metadata": {},
   "outputs": [],
   "source": [
    "plotDaily(['Italy','Turkey','Germany','Russia','Brazil','United Kingdom','Spain'],'deaths')"
   ]
  },
  {
   "cell_type": "code",
   "execution_count": null,
   "metadata": {},
   "outputs": [],
   "source": [
    "plotDaily(['Germany'],'deaths')"
   ]
  },
  {
   "cell_type": "markdown",
   "metadata": {},
   "source": [
    "## OWID data"
   ]
  },
  {
   "cell_type": "code",
   "execution_count": 49,
   "metadata": {},
   "outputs": [],
   "source": [
    "owid_file = '../covid-19-owid/public/data/owid-covid-data.csv'\n",
    "covid_owid = []\n",
    "with open(owid_file,'r',newline='') as fp:\n",
    "    myreader = csv.DictReader(fp,delimiter=',')\n",
    "#    rows = list(itertools.islice(myreader,4))\n",
    "    for row in myreader:\n",
    "        covid_owid.append(row)"
   ]
  },
  {
   "cell_type": "code",
   "execution_count": 50,
   "metadata": {},
   "outputs": [
    {
     "data": {
      "text/plain": [
       "odict_keys(['iso_code', 'continent', 'location', 'date', 'total_cases', 'new_cases', 'new_cases_smoothed', 'total_deaths', 'new_deaths', 'new_deaths_smoothed', 'total_cases_per_million', 'new_cases_per_million', 'new_cases_smoothed_per_million', 'total_deaths_per_million', 'new_deaths_per_million', 'new_deaths_smoothed_per_million', 'new_tests', 'total_tests', 'total_tests_per_thousand', 'new_tests_per_thousand', 'new_tests_smoothed', 'new_tests_smoothed_per_thousand', 'tests_per_case', 'positive_rate', 'tests_units', 'stringency_index', 'population', 'population_density', 'median_age', 'aged_65_older', 'aged_70_older', 'gdp_per_capita', 'extreme_poverty', 'cardiovasc_death_rate', 'diabetes_prevalence', 'female_smokers', 'male_smokers', 'handwashing_facilities', 'hospital_beds_per_thousand', 'life_expectancy'])"
      ]
     },
     "execution_count": 50,
     "metadata": {},
     "output_type": "execute_result"
    }
   ],
   "source": [
    "covid_owid[0].keys()"
   ]
  },
  {
   "cell_type": "code",
   "execution_count": 51,
   "metadata": {},
   "outputs": [
    {
     "data": {
      "text/plain": [
       "{('', 'International'),\n",
       " ('ABW', 'Aruba'),\n",
       " ('AFG', 'Afghanistan'),\n",
       " ('AGO', 'Angola'),\n",
       " ('AIA', 'Anguilla'),\n",
       " ('ALB', 'Albania'),\n",
       " ('AND', 'Andorra'),\n",
       " ('ARE', 'United Arab Emirates'),\n",
       " ('ARG', 'Argentina'),\n",
       " ('ARM', 'Armenia'),\n",
       " ('ATG', 'Antigua and Barbuda'),\n",
       " ('AUS', 'Australia'),\n",
       " ('AUT', 'Austria'),\n",
       " ('AZE', 'Azerbaijan'),\n",
       " ('BDI', 'Burundi'),\n",
       " ('BEL', 'Belgium'),\n",
       " ('BEN', 'Benin'),\n",
       " ('BES', 'Bonaire Sint Eustatius and Saba'),\n",
       " ('BFA', 'Burkina Faso'),\n",
       " ('BGD', 'Bangladesh'),\n",
       " ('BGR', 'Bulgaria'),\n",
       " ('BHR', 'Bahrain'),\n",
       " ('BHS', 'Bahamas'),\n",
       " ('BIH', 'Bosnia and Herzegovina'),\n",
       " ('BLR', 'Belarus'),\n",
       " ('BLZ', 'Belize'),\n",
       " ('BMU', 'Bermuda'),\n",
       " ('BOL', 'Bolivia'),\n",
       " ('BRA', 'Brazil'),\n",
       " ('BRB', 'Barbados'),\n",
       " ('BRN', 'Brunei'),\n",
       " ('BTN', 'Bhutan'),\n",
       " ('BWA', 'Botswana'),\n",
       " ('CAF', 'Central African Republic'),\n",
       " ('CAN', 'Canada'),\n",
       " ('CHE', 'Switzerland'),\n",
       " ('CHL', 'Chile'),\n",
       " ('CHN', 'China'),\n",
       " ('CIV', \"Cote d'Ivoire\"),\n",
       " ('CMR', 'Cameroon'),\n",
       " ('COD', 'Democratic Republic of Congo'),\n",
       " ('COG', 'Congo'),\n",
       " ('COL', 'Colombia'),\n",
       " ('COM', 'Comoros'),\n",
       " ('CPV', 'Cape Verde'),\n",
       " ('CRI', 'Costa Rica'),\n",
       " ('CUB', 'Cuba'),\n",
       " ('CUW', 'Curacao'),\n",
       " ('CYM', 'Cayman Islands'),\n",
       " ('CYP', 'Cyprus'),\n",
       " ('CZE', 'Czech Republic'),\n",
       " ('DEU', 'Germany'),\n",
       " ('DJI', 'Djibouti'),\n",
       " ('DMA', 'Dominica'),\n",
       " ('DNK', 'Denmark'),\n",
       " ('DOM', 'Dominican Republic'),\n",
       " ('DZA', 'Algeria'),\n",
       " ('ECU', 'Ecuador'),\n",
       " ('EGY', 'Egypt'),\n",
       " ('ERI', 'Eritrea'),\n",
       " ('ESH', 'Western Sahara'),\n",
       " ('ESP', 'Spain'),\n",
       " ('EST', 'Estonia'),\n",
       " ('ETH', 'Ethiopia'),\n",
       " ('FIN', 'Finland'),\n",
       " ('FJI', 'Fiji'),\n",
       " ('FLK', 'Falkland Islands'),\n",
       " ('FRA', 'France'),\n",
       " ('FRO', 'Faeroe Islands'),\n",
       " ('GAB', 'Gabon'),\n",
       " ('GBR', 'United Kingdom'),\n",
       " ('GEO', 'Georgia'),\n",
       " ('GGY', 'Guernsey'),\n",
       " ('GHA', 'Ghana'),\n",
       " ('GIB', 'Gibraltar'),\n",
       " ('GIN', 'Guinea'),\n",
       " ('GMB', 'Gambia'),\n",
       " ('GNB', 'Guinea-Bissau'),\n",
       " ('GNQ', 'Equatorial Guinea'),\n",
       " ('GRC', 'Greece'),\n",
       " ('GRD', 'Grenada'),\n",
       " ('GRL', 'Greenland'),\n",
       " ('GTM', 'Guatemala'),\n",
       " ('GUM', 'Guam'),\n",
       " ('GUY', 'Guyana'),\n",
       " ('HKG', 'Hong Kong'),\n",
       " ('HND', 'Honduras'),\n",
       " ('HRV', 'Croatia'),\n",
       " ('HTI', 'Haiti'),\n",
       " ('HUN', 'Hungary'),\n",
       " ('IDN', 'Indonesia'),\n",
       " ('IMN', 'Isle of Man'),\n",
       " ('IND', 'India'),\n",
       " ('IRL', 'Ireland'),\n",
       " ('IRN', 'Iran'),\n",
       " ('IRQ', 'Iraq'),\n",
       " ('ISL', 'Iceland'),\n",
       " ('ISR', 'Israel'),\n",
       " ('ITA', 'Italy'),\n",
       " ('JAM', 'Jamaica'),\n",
       " ('JEY', 'Jersey'),\n",
       " ('JOR', 'Jordan'),\n",
       " ('JPN', 'Japan'),\n",
       " ('KAZ', 'Kazakhstan'),\n",
       " ('KEN', 'Kenya'),\n",
       " ('KGZ', 'Kyrgyzstan'),\n",
       " ('KHM', 'Cambodia'),\n",
       " ('KNA', 'Saint Kitts and Nevis'),\n",
       " ('KOR', 'South Korea'),\n",
       " ('KWT', 'Kuwait'),\n",
       " ('LAO', 'Laos'),\n",
       " ('LBN', 'Lebanon'),\n",
       " ('LBR', 'Liberia'),\n",
       " ('LBY', 'Libya'),\n",
       " ('LCA', 'Saint Lucia'),\n",
       " ('LIE', 'Liechtenstein'),\n",
       " ('LKA', 'Sri Lanka'),\n",
       " ('LSO', 'Lesotho'),\n",
       " ('LTU', 'Lithuania'),\n",
       " ('LUX', 'Luxembourg'),\n",
       " ('LVA', 'Latvia'),\n",
       " ('MAR', 'Morocco'),\n",
       " ('MCO', 'Monaco'),\n",
       " ('MDA', 'Moldova'),\n",
       " ('MDG', 'Madagascar'),\n",
       " ('MDV', 'Maldives'),\n",
       " ('MEX', 'Mexico'),\n",
       " ('MKD', 'Macedonia'),\n",
       " ('MLI', 'Mali'),\n",
       " ('MLT', 'Malta'),\n",
       " ('MMR', 'Myanmar'),\n",
       " ('MNE', 'Montenegro'),\n",
       " ('MNG', 'Mongolia'),\n",
       " ('MNP', 'Northern Mariana Islands'),\n",
       " ('MOZ', 'Mozambique'),\n",
       " ('MRT', 'Mauritania'),\n",
       " ('MSR', 'Montserrat'),\n",
       " ('MUS', 'Mauritius'),\n",
       " ('MWI', 'Malawi'),\n",
       " ('MYS', 'Malaysia'),\n",
       " ('NAM', 'Namibia'),\n",
       " ('NCL', 'New Caledonia'),\n",
       " ('NER', 'Niger'),\n",
       " ('NGA', 'Nigeria'),\n",
       " ('NIC', 'Nicaragua'),\n",
       " ('NLD', 'Netherlands'),\n",
       " ('NOR', 'Norway'),\n",
       " ('NPL', 'Nepal'),\n",
       " ('NZL', 'New Zealand'),\n",
       " ('OMN', 'Oman'),\n",
       " ('OWID_KOS', 'Kosovo'),\n",
       " ('OWID_WRL', 'World'),\n",
       " ('PAK', 'Pakistan'),\n",
       " ('PAN', 'Panama'),\n",
       " ('PER', 'Peru'),\n",
       " ('PHL', 'Philippines'),\n",
       " ('PNG', 'Papua New Guinea'),\n",
       " ('POL', 'Poland'),\n",
       " ('PRI', 'Puerto Rico'),\n",
       " ('PRT', 'Portugal'),\n",
       " ('PRY', 'Paraguay'),\n",
       " ('PSE', 'Palestine'),\n",
       " ('PYF', 'French Polynesia'),\n",
       " ('QAT', 'Qatar'),\n",
       " ('ROU', 'Romania'),\n",
       " ('RUS', 'Russia'),\n",
       " ('RWA', 'Rwanda'),\n",
       " ('SAU', 'Saudi Arabia'),\n",
       " ('SDN', 'Sudan'),\n",
       " ('SEN', 'Senegal'),\n",
       " ('SGP', 'Singapore'),\n",
       " ('SLE', 'Sierra Leone'),\n",
       " ('SLV', 'El Salvador'),\n",
       " ('SMR', 'San Marino'),\n",
       " ('SOM', 'Somalia'),\n",
       " ('SRB', 'Serbia'),\n",
       " ('SSD', 'South Sudan'),\n",
       " ('STP', 'Sao Tome and Principe'),\n",
       " ('SUR', 'Suriname'),\n",
       " ('SVK', 'Slovakia'),\n",
       " ('SVN', 'Slovenia'),\n",
       " ('SWE', 'Sweden'),\n",
       " ('SWZ', 'Swaziland'),\n",
       " ('SXM', 'Sint Maarten (Dutch part)'),\n",
       " ('SYC', 'Seychelles'),\n",
       " ('SYR', 'Syria'),\n",
       " ('TCA', 'Turks and Caicos Islands'),\n",
       " ('TCD', 'Chad'),\n",
       " ('TGO', 'Togo'),\n",
       " ('THA', 'Thailand'),\n",
       " ('TJK', 'Tajikistan'),\n",
       " ('TLS', 'Timor'),\n",
       " ('TTO', 'Trinidad and Tobago'),\n",
       " ('TUN', 'Tunisia'),\n",
       " ('TUR', 'Turkey'),\n",
       " ('TWN', 'Taiwan'),\n",
       " ('TZA', 'Tanzania'),\n",
       " ('UGA', 'Uganda'),\n",
       " ('UKR', 'Ukraine'),\n",
       " ('URY', 'Uruguay'),\n",
       " ('USA', 'United States'),\n",
       " ('UZB', 'Uzbekistan'),\n",
       " ('VAT', 'Vatican'),\n",
       " ('VCT', 'Saint Vincent and the Grenadines'),\n",
       " ('VEN', 'Venezuela'),\n",
       " ('VGB', 'British Virgin Islands'),\n",
       " ('VIR', 'United States Virgin Islands'),\n",
       " ('VNM', 'Vietnam'),\n",
       " ('YEM', 'Yemen'),\n",
       " ('ZAF', 'South Africa'),\n",
       " ('ZMB', 'Zambia'),\n",
       " ('ZWE', 'Zimbabwe')}"
      ]
     },
     "execution_count": 51,
     "metadata": {},
     "output_type": "execute_result"
    }
   ],
   "source": [
    "set([(d['iso_code'],d['location']) for d in covid_owid])"
   ]
  },
  {
   "cell_type": "code",
   "execution_count": 52,
   "metadata": {},
   "outputs": [],
   "source": [
    "countries = list(set([dd['iso_code'] for dd in covid_owid]))"
   ]
  },
  {
   "cell_type": "code",
   "execution_count": 53,
   "metadata": {},
   "outputs": [
    {
     "data": {
      "image/png": "[encoded data removed]",
      "text/plain": [
       "<Figure size 432x288 with 1 Axes>"
      ]
     },
     "metadata": {
      "needs_background": "light"
     },
     "output_type": "display_data"
    }
   ],
   "source": [
    "deathUSA = [(dd['date'],dd['new_deaths']) for dd in covid_owid if dd['iso_code']=='USA']\n",
    "\n",
    "fmt = '%Y-%m-%d'\n",
    "xx = [datetime.datetime.strptime(dd[0],fmt) for dd in deathUSA if int(float(dd[1]))>0 ]\n",
    "yy = [int(float(dd[1])) for dd in deathUSA if int(float(dd[1]))>0 ]\n",
    "\n",
    "locator = mdates.MonthLocator()\n",
    "formatter= mdates.ConciseDateFormatter(locator)\n",
    "\n",
    "fig,ax = plt.subplots(1,1)\n",
    "ax.step(xx,yy)\n",
    "ax.xaxis.set_major_formatter(formatter)\n",
    "ax.xaxis.set_major_locator(locator)\n",
    "for tick in ax.get_xticklabels():\n",
    "    tick.set_rotation(40)\n",
    "plt.title('USA new deaths')\n",
    "plt.show()"
   ]
  },
  {
   "cell_type": "code",
   "execution_count": 72,
   "metadata": {},
   "outputs": [
    {
     "data": {
      "text/plain": [
       "True"
      ]
     },
     "execution_count": 72,
     "metadata": {},
     "output_type": "execute_result"
    }
   ],
   "source": [
    "type('aaa')==str"
   ]
  },
  {
   "cell_type": "code",
   "execution_count": 78,
   "metadata": {},
   "outputs": [],
   "source": [
    "def plotTargets(iso,targ='new_deaths'):\n",
    "    global covid_owid\n",
    "    if type(iso)==str:\n",
    "        iso = [iso]\n",
    "    \n",
    "    yyy = []\n",
    "    xxx = []\n",
    "    \n",
    "    for ii in iso:\n",
    "        datt = [(dd['date'],dd[targ]) for dd in covid_owid if dd['iso_code']==ii]\n",
    "        deathstr = 'death'+ii\n",
    "        fmt = '%Y-%m-%d'\n",
    "\n",
    "        start=False\n",
    "        xx = [] ; yy = []\n",
    "        for i in range(len(datt)):\n",
    "            dd = datt[i]\n",
    "            try:\n",
    "                q = float(dd[1])\n",
    "            except:\n",
    "                try:\n",
    "                    q = int(dd[1])\n",
    "                except:\n",
    "                    q = -1\n",
    "            if q == 0 or q == -1:\n",
    "                if start==False:\n",
    "                    continue\n",
    "                else:\n",
    "                    pass\n",
    "            else:\n",
    "                if start==False:\n",
    "                    start=True\n",
    "            if start:\n",
    "                xx.append(datetime.datetime.strptime(dd[0],fmt))\n",
    "                yy.append(q)\n",
    "            xxx.append(xx)\n",
    "            yyy.append(yy)\n",
    "        \n",
    "#    xx = [datetime.datetime.strptime(dd[0],fmt) for dd in datt if float(dd[1])>0 ]\n",
    "#    yy = [float(dd[1]) for dd in datt if int(float(dd[1]))>0 ]\n",
    "\n",
    "    locator = mdates.MonthLocator()\n",
    "    formatter= mdates.ConciseDateFormatter(locator)\n",
    "\n",
    "    register_matplotlib_converters() # pandas made me do it\n",
    "    fig,ax = plt.subplots(1,1,figsize=(10,8))\n",
    "    for i in range(len(xxx)):\n",
    "        ax.step(xxx[i],yyy[i])\n",
    "    ax.xaxis.set_major_formatter(formatter)\n",
    "    ax.xaxis.set_major_locator(locator)\n",
    "    for tick in ax.get_xticklabels():\n",
    "        tick.set_rotation(40)\n",
    "        strtit = ''\n",
    "        for ii in iso:\n",
    "            strtit = strtit+ii+'-'\n",
    "        strtit = strtit+targ\n",
    "        plt.title(strtit)\n",
    "    plt.show()"
   ]
  },
  {
   "cell_type": "code",
   "execution_count": 79,
   "metadata": {},
   "outputs": [
    {
     "data": {
      "text/plain": [
       "list"
      ]
     },
     "execution_count": 79,
     "metadata": {},
     "output_type": "execute_result"
    }
   ],
   "source": [
    "type(['aaa'])"
   ]
  },
  {
   "cell_type": "code",
   "execution_count": 84,
   "metadata": {},
   "outputs": [
    {
     "data": {
      "image/png": "[encoded data removed]",
      "text/plain": [
       "<Figure size 720x576 with 1 Axes>"
      ]
     },
     "metadata": {
      "needs_background": "light"
     },
     "output_type": "display_data"
    }
   ],
   "source": [
    "plotTargets(['USA','DEU','SWE','IRN'],'new_deaths_smoothed_per_million')"
   ]
  },
  {
   "cell_type": "code",
   "execution_count": 66,
   "metadata": {},
   "outputs": [
    {
     "data": {
      "image/png": "[encoded data removed]",
      "text/plain": [
       "<Figure size 720x576 with 1 Axes>"
      ]
     },
     "metadata": {
      "needs_background": "light"
     },
     "output_type": "display_data"
    }
   ],
   "source": [
    "plotTarget('DEU','new_tests_smoothed')"
   ]
  },
  {
   "cell_type": "code",
   "execution_count": null,
   "metadata": {},
   "outputs": [],
   "source": [
    "plotTarget('ESP','new_tests_smoothed')"
   ]
  },
  {
   "cell_type": "code",
   "execution_count": null,
   "metadata": {},
   "outputs": [],
   "source": [
    "plotTarget('ITA','new_tests_smoothed')"
   ]
  },
  {
   "cell_type": "code",
   "execution_count": null,
   "metadata": {},
   "outputs": [],
   "source": [
    "plotTarget('USA','new_tests_smoothed')"
   ]
  },
  {
   "cell_type": "code",
   "execution_count": null,
   "metadata": {},
   "outputs": [],
   "source": [
    "plotTarget('DNK','new_tests_smoothed')"
   ]
  },
  {
   "cell_type": "code",
   "execution_count": null,
   "metadata": {},
   "outputs": [],
   "source": [
    "plotTarget('RUS','new_tests_smoothed')"
   ]
  },
  {
   "cell_type": "code",
   "execution_count": null,
   "metadata": {},
   "outputs": [],
   "source": [
    "plotTarget('DEU','new_cases')"
   ]
  },
  {
   "cell_type": "code",
   "execution_count": null,
   "metadata": {
    "scrolled": false
   },
   "outputs": [],
   "source": [
    "plotTarget('USA','new_cases')"
   ]
  },
  {
   "cell_type": "code",
   "execution_count": null,
   "metadata": {},
   "outputs": [],
   "source": [
    "plotTarget('FRA','new_cases')"
   ]
  },
  {
   "cell_type": "code",
   "execution_count": null,
   "metadata": {},
   "outputs": [],
   "source": [
    "plotTarget('SWE','new_cases')"
   ]
  },
  {
   "cell_type": "code",
   "execution_count": null,
   "metadata": {},
   "outputs": [],
   "source": [
    "plotTarget('SWE','new_deaths')"
   ]
  },
  {
   "cell_type": "code",
   "execution_count": null,
   "metadata": {
    "scrolled": true
   },
   "outputs": [],
   "source": [
    "plotTarget('BRA','new_deaths')"
   ]
  },
  {
   "cell_type": "markdown",
   "metadata": {},
   "source": [
    "## Oxford data"
   ]
  },
  {
   "cell_type": "code",
   "execution_count": null,
   "metadata": {},
   "outputs": [],
   "source": [
    "owid_file = '../covid-policy-tracker/data/OxCGRT_latest.csv'\n",
    "oxdat = []\n",
    "with open(owid_file,'r',newline='') as fp:\n",
    "    myreader = csv.DictReader(fp,delimiter=',')\n",
    "#    rows = list(itertools.islice(myreader,4))\n",
    "    for row in myreader:\n",
    "        oxdat.append(row)\n",
    "    "
   ]
  },
  {
   "cell_type": "code",
   "execution_count": null,
   "metadata": {},
   "outputs": [],
   "source": [
    "oxdat[0].keys()"
   ]
  },
  {
   "cell_type": "code",
   "execution_count": null,
   "metadata": {},
   "outputs": [],
   "source": [
    "countries = list(set([(dd['CountryName'],dd['CountryCode']) for dd in oxdat]))"
   ]
  },
  {
   "cell_type": "code",
   "execution_count": null,
   "metadata": {},
   "outputs": [],
   "source": [
    "len(countries)"
   ]
  },
  {
   "cell_type": "code",
   "execution_count": null,
   "metadata": {},
   "outputs": [],
   "source": [
    "[countries[i] for i in range(10)]"
   ]
  },
  {
   "cell_type": "code",
   "execution_count": null,
   "metadata": {},
   "outputs": [],
   "source": [
    "dates = np.sort(list([dd['Date'] for dd in oxdat]))\n",
    "dates_uniq = np.unique(dates)\n",
    "dates_uniq"
   ]
  },
  {
   "cell_type": "code",
   "execution_count": null,
   "metadata": {},
   "outputs": [],
   "source": []
  },
  {
   "cell_type": "code",
   "execution_count": null,
   "metadata": {},
   "outputs": [],
   "source": [
    "foo = [(dd['Date'],dd['C1_School closing'],dd['C1_Flag']) for dd in oxdat if dd['CountryCode']=='USA']"
   ]
  },
  {
   "cell_type": "code",
   "execution_count": null,
   "metadata": {},
   "outputs": [],
   "source": [
    "xx = foo[0:10]\n",
    "print(xx)\n",
    "xx=foo[-10:]\n",
    "print(xx)"
   ]
  },
  {
   "cell_type": "code",
   "execution_count": null,
   "metadata": {},
   "outputs": [],
   "source": [
    "ccodes = [cc[1] for cc in countries]\n",
    "for cc in ccodes:\n",
    "    foo = [(dd['CountryCode'],dd['RegionName']) for dd in oxdat if dd['CountryCode'] == cc]\n",
    "    if len(set([x[1] for x in foo]))>1:\n",
    "        print(cc)\n",
    "        print( set([x[1] for x in foo]))\n"
   ]
  },
  {
   "cell_type": "code",
   "execution_count": null,
   "metadata": {},
   "outputs": [],
   "source": [
    "[cc for cc in countries if cc[1]=='USA']"
   ]
  },
  {
   "cell_type": "code",
   "execution_count": null,
   "metadata": {},
   "outputs": [],
   "source": [
    "foo = [(dd['Date'],dd['C1_School closing'],dd['C1_Flag']) \n",
    "       for dd in oxdat if dd['CountryCode']=='USA']\n",
    "\n",
    "fmt = '%Y%m%d'\n",
    "first = 31+22-1\n",
    "xx = [datetime.datetime.strptime(dd[0],fmt) for dd in foo][first:]\n",
    "yy = []\n",
    "for dd in foo[first:]:\n",
    "    try:\n",
    "        yy.append(float(dd[1]))\n",
    "    except:\n",
    "        yy.append(float('NaN'))\n",
    "\n",
    "\n",
    "locator = mdates.MonthLocator()\n",
    "formatter= mdates.ConciseDateFormatter(locator)\n",
    "\n",
    "fig,ax = plt.subplots(1,1)\n",
    "ax.step(xx,yy)\n",
    "ax.xaxis.set_major_formatter(formatter)\n",
    "ax.xaxis.set_major_locator(locator)\n",
    "for tick in ax.get_xticklabels():\n",
    "    tick.set_rotation(40)\n",
    "plt.title('USA')\n",
    "plt.show()"
   ]
  },
  {
   "cell_type": "markdown",
   "metadata": {},
   "source": [
    "Note:  no wildcard data:"
   ]
  },
  {
   "cell_type": "code",
   "execution_count": null,
   "metadata": {},
   "outputs": [],
   "source": [
    "foo = [(dd['Date'],dd['CountryCode'],dd['M1_Wildcard']) \n",
    "       for dd in oxdat if dd['M1_Wildcard'] != '']\n",
    "\n"
   ]
  },
  {
   "cell_type": "code",
   "execution_count": null,
   "metadata": {},
   "outputs": [],
   "source": [
    "foo\n"
   ]
  },
  {
   "cell_type": "markdown",
   "metadata": {},
   "source": [
    "Notes:  \n",
    "* first version of `datcodes` leaves out all flags (general vs. targeted implementation)\n",
    "* 2nd version leaves out all variables measured in dollars"
   ]
  },
  {
   "cell_type": "code",
   "execution_count": null,
   "metadata": {},
   "outputs": [],
   "source": [
    "datcodes = ['C1_School closing', 'C2_Workplace closing', \n",
    "            'C3_Cancel public events', 'C4_Restrictions on gatherings', \n",
    "            'C5_Close public transport', 'C6_Stay at home requirements', \n",
    "            'C7_Restrictions on internal movement', 'C8_International travel controls', \n",
    "            'E1_Income support', 'E2_Debt/contract relief', 'E3_Fiscal measures', \n",
    "            'E4_International support', 'H1_Public information campaigns', \n",
    "            'H2_Testing policy', 'H3_Contact tracing', \n",
    "            'H4_Emergency investment in healthcare', 'H5_Investment in vaccines']\n",
    "\n",
    "datcodes = ['C1_School closing', 'C2_Workplace closing', \n",
    "            'C3_Cancel public events', 'C4_Restrictions on gatherings', \n",
    "            'C5_Close public transport', 'C6_Stay at home requirements', \n",
    "            'C7_Restrictions on internal movement', 'C8_International travel controls', \n",
    "            'E1_Income support', 'E2_Debt/contract relief', \n",
    "            'H1_Public information campaigns', \n",
    "            'H2_Testing policy', 'H3_Contact tracing']\n",
    "\n"
   ]
  },
  {
   "cell_type": "code",
   "execution_count": null,
   "metadata": {},
   "outputs": [],
   "source": [
    "countrycodes = list(set([dd['CountryCode'] for dd in oxdat if Float(dd['ConfirmedCases'])>10000]))\n",
    "len(countrycodes)"
   ]
  },
  {
   "cell_type": "code",
   "execution_count": null,
   "metadata": {},
   "outputs": [],
   "source": [
    "countriesox = list(set([dd['CountryName'] for dd in oxdat if Float(dd['ConfirmedCases'])>10000]))"
   ]
  },
  {
   "cell_type": "code",
   "execution_count": null,
   "metadata": {},
   "outputs": [],
   "source": [
    "len(countriesox)"
   ]
  },
  {
   "cell_type": "code",
   "execution_count": null,
   "metadata": {},
   "outputs": [],
   "source": [
    "def Float(x):\n",
    "    try:\n",
    "        rtn = float(x)\n",
    "    except:\n",
    "        rtn = float('NaN')\n",
    "    return rtn\n"
   ]
  },
  {
   "cell_type": "code",
   "execution_count": null,
   "metadata": {},
   "outputs": [],
   "source": [
    "datcodes"
   ]
  },
  {
   "cell_type": "code",
   "execution_count": null,
   "metadata": {},
   "outputs": [],
   "source": [
    "def get_codedat(countrycode='USA'):\n",
    "    codedat = []\n",
    "    foo = [[dd['Date']]+ [Float(dd[c]) for c in datcodes]\n",
    "           for dd in oxdat if dd['CountryCode']==countrycode]\n",
    "    return foo\n",
    "    \n"
   ]
  },
  {
   "cell_type": "code",
   "execution_count": null,
   "metadata": {},
   "outputs": [],
   "source": [
    "get_codedat()"
   ]
  },
  {
   "cell_type": "markdown",
   "metadata": {},
   "source": [
    "### Stringency"
   ]
  },
  {
   "cell_type": "code",
   "execution_count": null,
   "metadata": {},
   "outputs": [],
   "source": [
    "[x for x in oxdat[0]]"
   ]
  },
  {
   "cell_type": "code",
   "execution_count": null,
   "metadata": {},
   "outputs": [],
   "source": [
    "country='DEU'\n",
    "reg = '' # to get entire country for UK, USA\n",
    "foo = [(dd['Date'],dd['StringencyIndex'],dd['C1_Flag']) \n",
    "       for dd in oxdat if dd['CountryCode']==country and dd['RegionName']==reg]\n",
    "\n",
    "fmt = '%Y%m%d'\n",
    "first = 31+22-1  # to get to Feb 22 where data starts\n",
    "xx = [datetime.datetime.strptime(dd[0],fmt) for dd in foo][first:]\n",
    "yy = []\n",
    "for dd in foo[first:]:\n",
    "    try:\n",
    "        yy.append(float(dd[1]))\n",
    "    except:\n",
    "        yy.append(float('NaN'))\n",
    "\n",
    "\n",
    "locator = mdates.MonthLocator()\n",
    "formatter= mdates.ConciseDateFormatter(locator)\n",
    "\n",
    "fig,ax = plt.subplots(1,1)\n",
    "ax.step(xx,yy)\n",
    "ax.xaxis.set_major_formatter(formatter)\n",
    "ax.xaxis.set_major_locator(locator)\n",
    "for tick in ax.get_xticklabels():\n",
    "    tick.set_rotation(40)\n",
    "plt.title(country+' Stringency')\n",
    "plt.show()"
   ]
  },
  {
   "cell_type": "code",
   "execution_count": null,
   "metadata": {},
   "outputs": [],
   "source": [
    "print(\"number of countries\",len(countrycodes))"
   ]
  },
  {
   "cell_type": "code",
   "execution_count": null,
   "metadata": {},
   "outputs": [],
   "source": [
    "def get_stringency(country):\n",
    "    yy=[]\n",
    "    foo = [(dd['Date'],dd['StringencyIndex'],dd['C1_Flag']) \n",
    "       for dd in oxdat if dd['CountryName']==country and dd['RegionName']=='']\n",
    "    fmt = '%Y%m%d'\n",
    "    first = 31+22-1  # to get to Feb 22 where data starts\n",
    "    dates = [datetime.datetime.strptime(dd[0],fmt) for dd in foo][first:]\n",
    "    for dd in foo[first:]:\n",
    "        try:\n",
    "            yy.append(float(dd[1]))\n",
    "        except:\n",
    "            yy.append(float('NaN'))\n",
    "    return([dates,yy])\n",
    "    "
   ]
  },
  {
   "cell_type": "code",
   "execution_count": null,
   "metadata": {},
   "outputs": [],
   "source": [
    "foo = get_stringency('Germany')\n",
    "plt.plot(foo[0],foo[1]);"
   ]
  },
  {
   "cell_type": "code",
   "execution_count": null,
   "metadata": {},
   "outputs": [],
   "source": [
    "import matplotlib.dates as mdates\n"
   ]
  },
  {
   "cell_type": "code",
   "execution_count": null,
   "metadata": {
    "scrolled": false
   },
   "outputs": [],
   "source": [
    "max_rows=12\n",
    "max_cols=8\n",
    "idx = 0\n",
    "fig, axes = plt.subplots(nrows=max_rows, ncols=max_cols, figsize=(20,40))\n",
    "fig.autofmt_xdate()\n",
    "for idx, country  in enumerate(countriesox):\n",
    "    foo = get_stringency(country)\n",
    "    row = idx // max_cols\n",
    "    col = idx % max_cols\n",
    "    axes[row, col].set_ylim((0,110))\n",
    "    axes[row, col].xaxis.set_major_locator(plt.MaxNLocator(3))\n",
    "    axes[row, col].fmt_xdata = mdates.DateFormatter('%Y-%m-%d')\n",
    "    axes[row, col].plot(foo[0],foo[1])\n",
    "    axes[row, col].set_title(country)\n",
    "for idx in range(len(countriesox),max_rows*max_cols):\n",
    "    row = idx // max_cols\n",
    "    col = idx % max_cols\n",
    "    axes[row, col].axis(\"off\")"
   ]
  },
  {
   "cell_type": "code",
   "execution_count": null,
   "metadata": {},
   "outputs": [],
   "source": [
    "len(countriesox)"
   ]
  },
  {
   "cell_type": "code",
   "execution_count": null,
   "metadata": {},
   "outputs": [],
   "source": [
    "import pickle as pk"
   ]
  },
  {
   "cell_type": "code",
   "execution_count": null,
   "metadata": {},
   "outputs": [],
   "source": [
    "dicstringency={}\n",
    "for cc in countriesox:\n",
    "    foo = get_stringency(cc)\n",
    "    dicstringency[cc] = [x[1] for x in foo] # skip date\n",
    "dates = [x[0] for x in foo]\n",
    "stringency={}\n",
    "stringency['dates'] = dates\n",
    "stringency['data'] = dicstringency\n",
    "pk.dump(stringency,open('stringency.pk','wb'))"
   ]
  },
  {
   "cell_type": "markdown",
   "metadata": {},
   "source": [
    "### Response policy maps\n",
    "\n",
    "* time along x axis \n",
    "* NaN same color as max value (typically 4)\n",
    "* 12 rows for presence of 12 factors.  cf oxford codebook.md in ../covid-policy-tracker/documentation/."
   ]
  },
  {
   "cell_type": "code",
   "execution_count": null,
   "metadata": {},
   "outputs": [],
   "source": [
    "# for comaptibility with JHU data set first elt as 22nd Feb 2020\n",
    "# assuming Oxford records start with Jan 1st 2020\n",
    "first = 31+22-1"
   ]
  },
  {
   "cell_type": "code",
   "execution_count": null,
   "metadata": {},
   "outputs": [],
   "source": [
    "foo = get_codedat('DEU')\n",
    "foo = [f[1:] for f in foo]\n",
    "plt.imshow(np.transpose(foo),cmap='hot',aspect='auto');\n",
    "plt.title('DEU')\n"
   ]
  },
  {
   "cell_type": "code",
   "execution_count": null,
   "metadata": {},
   "outputs": [],
   "source": [
    "foo = get_codedat('USA')[first:]\n",
    "foo = [f[1:] for f in foo]\n",
    "plt.imshow(np.transpose(foo),cmap='hot',aspect='auto');\n",
    "plt.title(\"USA\")"
   ]
  },
  {
   "cell_type": "code",
   "execution_count": null,
   "metadata": {},
   "outputs": [],
   "source": [
    "foo = get_codedat('KOR')\n",
    "foo = [f[1:] for f in foo]\n",
    "plt.imshow(np.transpose(foo),cmap='hot',aspect='auto');"
   ]
  },
  {
   "cell_type": "code",
   "execution_count": null,
   "metadata": {},
   "outputs": [],
   "source": [
    "foo = get_codedat('SWE')\n",
    "foo = [f[1:] for f in foo]\n",
    "plt.imshow(np.transpose(foo),cmap='hot',aspect='auto');"
   ]
  },
  {
   "cell_type": "code",
   "execution_count": null,
   "metadata": {
    "scrolled": false
   },
   "outputs": [],
   "source": [
    "print(\"number of countries\",len(countrycodes))\n",
    "max_rows=22\n",
    "max_cols=8\n",
    "fig, axes = plt.subplots(nrows=max_rows, ncols=max_cols, figsize=(20,40))\n",
    "for idx, countrycode  in enumerate(countrycodes):\n",
    "    foo = get_codedat(countrycode)\n",
    "    foo = [f[1:] for f in foo]\n",
    "    row = idx // max_cols\n",
    "    col = idx % max_cols\n",
    "    axes[row, col].axis(\"off\")\n",
    "    axes[row, col].imshow(np.transpose(foo),cmap='hot',aspect='auto',interpolation='none');\n",
    "for idx in range(len(countrycodes),max_rows*max_cols):\n",
    "    row = idx // max_cols\n",
    "    col = idx % max_cols\n",
    "    axes[row, col].axis(\"off\")\n",
    "plt.subplots_adjust(wspace=.05, hspace=.05)\n",
    "plt.show()"
   ]
  },
  {
   "cell_type": "code",
   "execution_count": null,
   "metadata": {},
   "outputs": [],
   "source": [
    "print(countrycodes)\n",
    "#e.g.\n",
    "countrycode = 'BOL'\n",
    "foo = get_codedat(countrycode)\n",
    "foo = [f[1:] for f in foo]\n",
    "countrynames = [dd['CountryName'] for dd in oxdat if dd['CountryCode']==countrycode]\n",
    "countryname = countrynames[0]\n",
    "print(countryname)"
   ]
  },
  {
   "cell_type": "code",
   "execution_count": null,
   "metadata": {},
   "outputs": [],
   "source": [
    "# aim here is to format x axis of imshow array as dates\n",
    "# for working implementation see https://stackoverflow.com/questions/52574000/plotting-an-image-with-x-axis-as-time\n",
    "# this commented out code does not work here\n",
    "foo = get_codedat('FRA')\n",
    "fmt = '%Y%m%d'\n",
    "\n",
    "locator = mdates.MonthLocator()    # need to change locator to convert integers to dates first\n",
    "formatter= mdates.ConciseDateFormatter(locator)\n",
    "xx =[datetime.datetime.strptime(dd[0],fmt) for dd in foo]\n",
    "# print(xx)\n",
    "foo = [f[1:] for f in foo]\n",
    "register_matplotlib_converters() # pandas made me do it\n",
    "fig,ax = plt.subplots(1,1,figsize=(10,10))\n",
    "# ax.xaxis_date()           # treats x axis as dates if start/finish date set appropriately\n",
    "# plt.xlim(xx[0],xx[-1])   # this version produces right date axis but no data shown\n",
    "# plt.xlim(0,(xx[-1]-xx[0]).days)  # this version keeps xaxis as integer -> errors\n",
    "ax.imshow(np.transpose(foo),cmap='hot',aspect='auto')  # \n",
    "# ax.xaxis.set_major_formatter(formatter)\n",
    "# ax.xaxis.set_major_locator(locator)\n",
    "# for tick in ax.get_xticklabels():\n",
    "#     tick.set_rotation(40)\n",
    "\n",
    "plt.show()"
   ]
  },
  {
   "cell_type": "code",
   "execution_count": null,
   "metadata": {},
   "outputs": [],
   "source": []
  },
  {
   "cell_type": "code",
   "execution_count": null,
   "metadata": {},
   "outputs": [],
   "source": []
  },
  {
   "cell_type": "markdown",
   "metadata": {},
   "source": [
    "## Combinations of data : Oxford policy plus JHU or OWID"
   ]
  },
  {
   "cell_type": "code",
   "execution_count": null,
   "metadata": {},
   "outputs": [],
   "source": [
    "# translations from Oxford data base countries to JHU names\n",
    "country_Oxford_JHU = {}\n",
    "country_Oxford_JHU.update({('Cape Verde', ''):('Cabo Verde', '')})\n",
    "country_Oxford_JHU.update({('Aruba', ''):('Netherlands', 'Aruba')})\n",
    "country_Oxford_JHU.update({('Bermuda', ''):('United Kingdom', 'Bermuda')})\n",
    "country_Oxford_JHU.update({('Hong Kong', ''):('China', 'Hong Kong')})\n",
    "country_Oxford_JHU.update({('Czech Republic', ''):('Czechia', '')})\n",
    "country_Oxford_JHU.update({('China', ''):('China', 'Total')})          # split in database : sums to Total need to be done\n",
    "country_Oxford_JHU.update({('Slovak Republic', ''):('Slovakia', '')})\n",
    "country_Oxford_JHU.update({('Congo', ''):('Congo (Brazzaville)', '')}) # two Congos, this is Rep. of Congo, other is Democratic Republic of Congo\n",
    "country_Oxford_JHU.update({('Democratic Republic of Congo', ''):('Congo-Kinshasa','')})\n",
    "country_Oxford_JHU.update({('Solomon Islands', ''):('Solomon Islands', '')}) # Not present in JHU list: sovereign state poln 650000\n",
    "country_Oxford_JHU.update({('South Korea', ''):('Korea, South', '')})\n",
    "country_Oxford_JHU.update({('Turkmenistan', ''):('Turkmenistan', '')}) # Not present in JHU list: 5.6M people in Central Asia\n",
    "country_Oxford_JHU.update({('Myanmar', ''):('Thailand', '')})\n",
    "country_Oxford_JHU.update({('United States', '') : ('US', '')})\n",
    "country_Oxford_JHU.update({('Australia', ''):('Australia', 'Total')})  # split in database : sums to Total need to be done\n",
    "country_Oxford_JHU.update({('Puerto Rico', ''):('United States','Puerto Rico')})   # not found in inspection of JHU list, territory of US\n",
    "country_Oxford_JHU.update({('Palestine', ''):('West Bank and Gaza', '')})\n",
    "country_Oxford_JHU.update({('Timor', ''):('Timor-Leste', '')})         # check two Timors, East Timor\n",
    "country_Oxford_JHU.update({('Canada', ''):('Canada', 'Total')})        # split in database : sums to Total need to be done\n",
    "country_Oxford_JHU.update({('Greenland', ''):('Denmark', 'Greenland')})\n",
    "country_Oxford_JHU.update({('Macao', ''):('China', 'Macau')})\n",
    "country_Oxford_JHU.update({('Kyrgyz Republic', ''):('Kyrgyzstan', '')})\n",
    "country_Oxford_JHU.update({('Taiwan', ''):('Taiwan*', '')})\n",
    "country_Oxford_JHU.update({('Guam', ''):('United States','Guam')})     # not found in inspection of JHU list, territory of US"
   ]
  },
  {
   "cell_type": "code",
   "execution_count": null,
   "metadata": {},
   "outputs": [],
   "source": [
    "# print country data and corresponding JHU confirmed cases if available on same timescale\n",
    "fig, axes = plt.subplots(nrows=1, ncols=1, figsize=(20,20))\n",
    "countrycode='ITA'\n",
    "foo = get_codedat(countrycode)\n",
    "pdata = np.transpose([f[1:] for f in foo])\n",
    "xmin = 0\n",
    "xmax = pdata[-1,0]\n",
    "ymin = 0\n",
    "ymax = 200000\n",
    "countrynames = [dd['CountryName'] for dd in oxdat if dd['CountryCode']==countrycode]\n",
    "countryname = countrynames[0]\n",
    "if (countryname,'') not in countries_jhu:\n",
    "    print(countryname)\n",
    "    countryname = country_Oxford_JHU[(countryname,'')]\n",
    "#axes.axis(\"off\")\n",
    "\n",
    "# axes.imshow(pdata,cmap='hot',aspect='auto',interpolation='none',origin='lower',extent=[0,xmax,0,ymax])\n",
    "    # axes[row, col].pcolor(pdata,cmap='hot')\n",
    "    # print(countryname)\n",
    "    # xxx=range(len(pdata[0]))\n",
    "# plotCountry(countryname, datatype='confirmed', dataaccum='cumulative',fittype=None,ax=axes,\n",
    "#                symbol='.',firstdate='01/01/20',lastdate='05/21/20',intdates=True)\n",
    "axes.imshow(pdata,cmap='hot',aspect='auto',interpolation='none',origin='lower')\n",
    "axes2 = axes.twinx()\n",
    "plotCountry(countryname, datatype='confirmed', dataaccum='daily', fittype=None,ax=axes, ax2=axes2,\n",
    "                symbol='o--',firstdate='01/01/20',lastdate='05/21/20',intdates=True,linecolor='green')\n",
    "\n",
    "# plt.subplots_adjust(wspace=.05, hspace=.05)\n",
    "plt.show()"
   ]
  },
  {
   "cell_type": "code",
   "execution_count": null,
   "metadata": {},
   "outputs": [],
   "source": [
    "country_Oxford_JHU.update({('Democratic Republic of Congo', ''):('Congo-Kinshasa','')})"
   ]
  },
  {
   "cell_type": "code",
   "execution_count": null,
   "metadata": {
    "scrolled": false
   },
   "outputs": [],
   "source": [
    "# print country data and corresponding JHU confirmed cases if available on same timescale\n",
    "print(\"number of countries\",len(countrycodes))\n",
    "max_rows=22\n",
    "max_cols=8\n",
    "fig, axes = plt.subplots(nrows=max_rows, ncols=max_cols, figsize=(30,60))\n",
    "for idx, countrycode  in enumerate(countrycodes):\n",
    "    foo = get_codedat(countrycode)\n",
    "    # print(np.transpose(foo) # NB need to transpose to get dates on x axis\n",
    "    foo = [f[1:] for f in foo]\n",
    "    \n",
    "    countrynames = [dd['CountryName'] for dd in oxdat if dd['CountryCode']==countrycode]\n",
    "    countryname = countrynames[0]\n",
    "    if (countryname,'') not in countries_jhu:\n",
    "        # print(countryname)\n",
    "        countryname = country_Oxford_JHU[(countryname,'')]\n",
    "    row = idx // max_cols\n",
    "    col = idx % max_cols\n",
    "    axes[row, col].axis(\"off\")\n",
    "    axes[row, col].imshow(np.transpose(foo),cmap='hot',aspect='auto',interpolation='none',origin='lower')\n",
    "    # axes[row, col].pcolor(np.transpose(foo),cmap='hot')\n",
    "    # print(countryname)\n",
    "    # xxx=range(len(np.transpose(foo)[0]))\n",
    "    axes2=axes[row, col].twinx\n",
    "    plotCountry(countryname, datatype='confirmed', dataaccum='daily_av_weekly',fittype=None,ax=axes[row,col],ax2=axes2,\n",
    "                symbol='.',firstdate='01/01/20',lastdate='05/21/20',intdates=True,linecolor='green')\n",
    "\n",
    "for idx in range(len(countrycodes),max_rows*max_cols):\n",
    "    row = idx // max_cols\n",
    "    col = idx % max_cols\n",
    "    axes[row, col].axis(\"off\")\n",
    "    \n",
    "plt.subplots_adjust(wspace=.5, hspace=.2)\n",
    "plt.show()"
   ]
  },
  {
   "cell_type": "code",
   "execution_count": null,
   "metadata": {
    "scrolled": false
   },
   "outputs": [],
   "source": [
    "\n",
    "# print country data and corresponding JHU confirmed cases if available on same timescale\n",
    "print(\"number of countries\",len(countrycodes))\n",
    "max_rows=22\n",
    "max_cols=8\n",
    "fig, axes = plt.subplots(nrows=max_rows, ncols=max_cols, figsize=(30,60))\n",
    "for idx, countrycode  in enumerate(countrycodes):\n",
    "    foo = get_codedat(countrycode)\n",
    "    # print(np.transpose(foo) # NB need to transpose to get dates on x axis\n",
    "    foo = [f[1:] for f in foo]\n",
    "    \n",
    "    countrynames = [dd['CountryName'] for dd in oxdat if dd['CountryCode']==countrycode]\n",
    "    countryname = countrynames[0]\n",
    "    if (countryname,'') not in countries_jhu:\n",
    "        # print(countryname)\n",
    "        countryname = country_Oxford_JHU[(countryname,'')]\n",
    "    row = idx // max_cols\n",
    "    col = idx % max_cols\n",
    "    axes[row, col].axis(\"off\")\n",
    "    axes[row, col].imshow(np.transpose(foo),cmap='hot',aspect='auto',interpolation='none',origin='lower')\n",
    "    # axes[row, col].pcolor(np.transpose(foo),cmap='hot')\n",
    "    # print(countryname)\n",
    "    # xxx=range(len(np.transpose(foo)[0]))\n",
    "    axes2=axes[row, col].twinx\n",
    "    plotCountry(countryname, datatype='confirmed', fittype=None,ax=axes[row,col],ax2=axes2,\n",
    "                symbol='.',firstdate='01/01/20',lastdate='05/21/20',intdates=True,linecolor='green')\n",
    "\n",
    "for idx in range(len(countrycodes),max_rows*max_cols):\n",
    "    row = idx // max_cols\n",
    "    col = idx % max_cols\n",
    "    axes[row, col].axis(\"off\")\n",
    "    \n",
    "plt.subplots_adjust(wspace=.5, hspace=.2)\n",
    "plt.show()"
   ]
  },
  {
   "cell_type": "code",
   "execution_count": null,
   "metadata": {},
   "outputs": [],
   "source": []
  }
 ],
 "metadata": {
  "kernelspec": {
   "display_name": "Python 3",
   "language": "python",
   "name": "python3"
  },
  "language_info": {
   "codemirror_mode": {
    "name": "ipython",
    "version": 3
   },
   "file_extension": ".py",
   "mimetype": "text/x-python",
   "name": "python",
   "nbconvert_exporter": "python",
   "pygments_lexer": "ipython3",
   "version": "3.7.4"
  },
  "toc": {
   "base_numbering": 1,
   "nav_menu": {},
   "number_sections": true,
   "sideBar": true,
   "skip_h1_title": false,
   "title_cell": "Table of Contents",
   "title_sidebar": "Contents",
   "toc_cell": false,
   "toc_position": {
    "height": "calc(100% - 180px)",
    "left": "10px",
    "top": "150px",
    "width": "434.1176452636719px"
   },
   "toc_section_display": true,
   "toc_window_display": true
  }
 },
 "nbformat": 4,
 "nbformat_minor": 2
}
