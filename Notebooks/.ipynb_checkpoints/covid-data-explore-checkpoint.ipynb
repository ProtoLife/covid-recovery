{
 "cells": [
  {
   "cell_type": "code",
   "execution_count": null,
   "metadata": {},
   "outputs": [],
   "source": [
    "import numpy as np\n",
    "import csv\n",
    "import itertools\n",
    "import matplotlib\n",
    "%matplotlib inline\n",
    "import seaborn as sb\n",
    "from matplotlib import pyplot as plt\n",
    "import datetime\n",
    "import matplotlib.dates as mdates\n",
    "from pandas.plotting import register_matplotlib_converters\n"
   ]
  },
  {
   "cell_type": "code",
   "execution_count": null,
   "metadata": {},
   "outputs": [],
   "source": [
    "import sys"
   ]
  },
  {
   "cell_type": "code",
   "execution_count": null,
   "metadata": {},
   "outputs": [],
   "source": [
    "sys.executable\n"
   ]
  },
  {
   "cell_type": "markdown",
   "metadata": {},
   "source": [
    "## OWID data"
   ]
  },
  {
   "cell_type": "code",
   "execution_count": null,
   "metadata": {},
   "outputs": [],
   "source": [
    "owid_file = '../covid-19-owid/public/data/owid-covid-data.csv'\n",
    "dat = []\n",
    "with open(owid_file,'r',newline='') as fp:\n",
    "    myreader = csv.DictReader(fp,delimiter=',')\n",
    "#    rows = list(itertools.islice(myreader,4))\n",
    "    for row in myreader:\n",
    "        dat.append(row)\n",
    "    \n",
    "        "
   ]
  },
  {
   "cell_type": "code",
   "execution_count": null,
   "metadata": {},
   "outputs": [],
   "source": [
    "dat[0].keys()"
   ]
  },
  {
   "cell_type": "code",
   "execution_count": null,
   "metadata": {},
   "outputs": [],
   "source": [
    "dates = set([dd['date'] for dd in dat])\n",
    "len(dates)"
   ]
  },
  {
   "cell_type": "code",
   "execution_count": null,
   "metadata": {},
   "outputs": [],
   "source": [
    "set([(d['iso_code'],d['location']) for d in dat])"
   ]
  },
  {
   "cell_type": "code",
   "execution_count": null,
   "metadata": {},
   "outputs": [],
   "source": [
    "countries = list(set([dd['iso_code'] for dd in dat]))"
   ]
  },
  {
   "cell_type": "code",
   "execution_count": null,
   "metadata": {},
   "outputs": [],
   "source": [
    "deathUSA = [(dd['date'],dd['new_deaths']) for dd in dat if dd['iso_code']=='USA']\n",
    "\n",
    "fmt = '%Y-%m-%d'\n",
    "xx = [datetime.datetime.strptime(dd[0],fmt) for dd in deathUSA if int(dd[1])>0 ]\n",
    "yy = [int(dd[1]) for dd in deathUSA if int(dd[1])>0 ]\n",
    "\n",
    "locator = mdates.MonthLocator()\n",
    "formatter= mdates.ConciseDateFormatter(locator)\n",
    "\n",
    "fig,ax = plt.subplots(1,1)\n",
    "ax.step(xx,yy)\n",
    "ax.xaxis.set_major_formatter(formatter)\n",
    "ax.xaxis.set_major_locator(locator)\n",
    "for tick in ax.get_xticklabels():\n",
    "    tick.set_rotation(40)\n",
    "plt.title('USA new deaths')\n",
    "plt.show()"
   ]
  },
  {
   "cell_type": "code",
   "execution_count": null,
   "metadata": {},
   "outputs": [],
   "source": [
    "def plotTarget(iso,targ='new_deaths'):\n",
    "    datt = [(dd['date'],dd[targ]) for dd in dat if dd['iso_code']==iso]\n",
    "    deathstr = 'death'+iso\n",
    "    fmt = '%Y-%m-%d'\n",
    "    \n",
    "    start=False\n",
    "    xx = [] ; yy = []\n",
    "    for i in range(len(datt)):\n",
    "        dd = datt[i]\n",
    "        if float(dd[1]) == 0:\n",
    "            if start==False:\n",
    "                continue\n",
    "            else:\n",
    "                pass\n",
    "        else:\n",
    "            if start==False:\n",
    "                start=True\n",
    "        if start:\n",
    "            xx.append(datetime.datetime.strptime(dd[0],fmt))\n",
    "            yy.append(float(dd[1]))\n",
    "        \n",
    "#    xx = [datetime.datetime.strptime(dd[0],fmt) for dd in datt if float(dd[1])>0 ]\n",
    "#    yy = [float(dd[1]) for dd in datt if int(dd[1])>0 ]\n",
    "\n",
    "    locator = mdates.MonthLocator()\n",
    "    formatter= mdates.ConciseDateFormatter(locator)\n",
    "\n",
    "    register_matplotlib_converters() # pandas made me do it\n",
    "    fig,ax = plt.subplots(1,1)\n",
    "    ax.step(xx,yy)\n",
    "    ax.xaxis.set_major_formatter(formatter)\n",
    "    ax.xaxis.set_major_locator(locator)\n",
    "    for tick in ax.get_xticklabels():\n",
    "        tick.set_rotation(40)\n",
    "        plt.title(iso+' '+targ)\n",
    "    plt.show()"
   ]
  },
  {
   "cell_type": "code",
   "execution_count": null,
   "metadata": {},
   "outputs": [],
   "source": [
    "plotTarget('DEU')"
   ]
  },
  {
   "cell_type": "code",
   "execution_count": null,
   "metadata": {},
   "outputs": [],
   "source": [
    "plotTarget('DEU','new_cases')"
   ]
  },
  {
   "cell_type": "code",
   "execution_count": null,
   "metadata": {
    "scrolled": false
   },
   "outputs": [],
   "source": [
    "plotTarget('USA','new_cases')"
   ]
  },
  {
   "cell_type": "code",
   "execution_count": null,
   "metadata": {},
   "outputs": [],
   "source": [
    "plotTarget('FRA','new_cases')"
   ]
  },
  {
   "cell_type": "code",
   "execution_count": null,
   "metadata": {},
   "outputs": [],
   "source": [
    "plotTarget('SWE','new_cases')"
   ]
  },
  {
   "cell_type": "code",
   "execution_count": null,
   "metadata": {},
   "outputs": [],
   "source": [
    "plotTarget('SWE','new_deaths')"
   ]
  },
  {
   "cell_type": "code",
   "execution_count": null,
   "metadata": {},
   "outputs": [],
   "source": [
    "plotTarget('BRA','new_deaths')"
   ]
  },
  {
   "cell_type": "markdown",
   "metadata": {},
   "source": [
    "## Oxford data"
   ]
  },
  {
   "cell_type": "code",
   "execution_count": null,
   "metadata": {},
   "outputs": [],
   "source": [
    "owid_file = '../covid-policy-tracker/data/OxCGRT_latest.csv'\n",
    "oxdat = []\n",
    "with open(owid_file,'r',newline='') as fp:\n",
    "    myreader = csv.DictReader(fp,delimiter=',')\n",
    "#    rows = list(itertools.islice(myreader,4))\n",
    "    for row in myreader:\n",
    "        oxdat.append(row)\n",
    "    "
   ]
  },
  {
   "cell_type": "code",
   "execution_count": null,
   "metadata": {},
   "outputs": [],
   "source": [
    "oxdat[0].keys()"
   ]
  },
  {
   "cell_type": "code",
   "execution_count": null,
   "metadata": {},
   "outputs": [],
   "source": [
    "countries = list(set([(dd['CountryName'],dd['CountryCode']) for dd in oxdat]))"
   ]
  },
  {
   "cell_type": "code",
   "execution_count": null,
   "metadata": {},
   "outputs": [],
   "source": [
    "[countries[i] for i in range(10)]"
   ]
  },
  {
   "cell_type": "code",
   "execution_count": null,
   "metadata": {},
   "outputs": [],
   "source": [
    "foo = [(dd['Date'],dd['C1_School closing'],dd['C1_Flag']) for dd in oxdat if dd['CountryCode']=='USA']"
   ]
  },
  {
   "cell_type": "code",
   "execution_count": null,
   "metadata": {},
   "outputs": [],
   "source": [
    "xx = [foo[i] for i in range(10)]"
   ]
  },
  {
   "cell_type": "code",
   "execution_count": null,
   "metadata": {},
   "outputs": [],
   "source": [
    "foo = [(dd['Date'],dd['C1_School closing'],dd['C1_Flag']) \n",
    "       for dd in oxdat if dd['CountryCode']=='USA']\n",
    "\n",
    "fmt = '%Y%m%d'\n",
    "xx = [datetime.datetime.strptime(dd[0],fmt) for dd in foo]\n",
    "yy = []\n",
    "for dd in foo:\n",
    "    try:\n",
    "        yy.append(float(dd[1]))\n",
    "    except:\n",
    "        yy.append(float('NaN'))\n",
    "\n",
    "\n",
    "locator = mdates.MonthLocator()\n",
    "formatter= mdates.ConciseDateFormatter(locator)\n",
    "\n",
    "fig,ax = plt.subplots(1,1)\n",
    "ax.step(xx,yy)\n",
    "ax.xaxis.set_major_formatter(formatter)\n",
    "ax.xaxis.set_major_locator(locator)\n",
    "for tick in ax.get_xticklabels():\n",
    "    tick.set_rotation(40)\n",
    "plt.title('USA')\n",
    "plt.show()"
   ]
  },
  {
   "cell_type": "markdown",
   "metadata": {},
   "source": [
    "Note:  no wildcard data:"
   ]
  },
  {
   "cell_type": "code",
   "execution_count": null,
   "metadata": {},
   "outputs": [],
   "source": [
    "foo = [(dd['Date'],dd['CountryCode'],dd['M1_Wildcard']) \n",
    "       for dd in oxdat if dd['M1_Wildcard'] != '']\n",
    "\n"
   ]
  },
  {
   "cell_type": "code",
   "execution_count": null,
   "metadata": {},
   "outputs": [],
   "source": [
    "foo\n"
   ]
  },
  {
   "cell_type": "markdown",
   "metadata": {},
   "source": [
    "Notes:  \n",
    "* first version of `datcodes` leaves out all flags (general vs. targeted implementation)\n",
    "* 2nd version leaves out all variables measured in dollars"
   ]
  },
  {
   "cell_type": "code",
   "execution_count": null,
   "metadata": {},
   "outputs": [],
   "source": [
    "datcodes = ['C1_School closing', 'C2_Workplace closing', \n",
    "            'C3_Cancel public events', 'C4_Restrictions on gatherings', \n",
    "            'C5_Close public transport', 'C6_Stay at home requirements', \n",
    "            'C7_Restrictions on internal movement', 'C8_International travel controls', \n",
    "            'E1_Income support', 'E2_Debt/contract relief', 'E3_Fiscal measures', \n",
    "            'E4_International support', 'H1_Public information campaigns', \n",
    "            'H2_Testing policy', 'H3_Contact tracing', \n",
    "            'H4_Emergency investment in healthcare', 'H5_Investment in vaccines']\n",
    "\n",
    "datcodes = ['C1_School closing', 'C2_Workplace closing', \n",
    "            'C3_Cancel public events', 'C4_Restrictions on gatherings', \n",
    "            'C5_Close public transport', 'C6_Stay at home requirements', \n",
    "            'C7_Restrictions on internal movement', 'C8_International travel controls', \n",
    "            'E1_Income support', 'E2_Debt/contract relief', \n",
    "            'H1_Public information campaigns', \n",
    "            'H2_Testing policy', 'H3_Contact tracing']\n",
    "\n"
   ]
  },
  {
   "cell_type": "code",
   "execution_count": null,
   "metadata": {},
   "outputs": [],
   "source": [
    "countrycodes = list(set([dd['CountryCode'] for dd in oxdat]))\n",
    "len(countrycodes)"
   ]
  },
  {
   "cell_type": "code",
   "execution_count": null,
   "metadata": {},
   "outputs": [],
   "source": [
    "def Float(x):\n",
    "    try:\n",
    "        rtn = float(x)\n",
    "    except:\n",
    "        rtn = float('NaN')\n",
    "    return rtn\n"
   ]
  },
  {
   "cell_type": "code",
   "execution_count": null,
   "metadata": {},
   "outputs": [],
   "source": [
    "def get_codedat(countrycode='USA'):\n",
    "    codedat = []\n",
    "    foo = [[dd['Date']]+ [Float(dd[c]) for c in datcodes]\n",
    "           for dd in oxdat if dd['CountryCode']==countrycode]\n",
    "    return foo\n",
    "    \n"
   ]
  },
  {
   "cell_type": "code",
   "execution_count": null,
   "metadata": {},
   "outputs": [],
   "source": [
    "get_codedat()"
   ]
  },
  {
   "cell_type": "markdown",
   "metadata": {},
   "source": [
    "### Response policy maps\n",
    "\n",
    "* time along x axis \n",
    "* NaN same color as max value (typically 4)\n",
    "* 12 rows for presence of 12 factors.  cf oxford codebook.md in ../covid-policy-tracker/documentation/."
   ]
  },
  {
   "cell_type": "code",
   "execution_count": null,
   "metadata": {},
   "outputs": [],
   "source": [
    "foo = get_codedat('DEU')\n",
    "foo = [f[1:] for f in foo]\n",
    "plt.imshow(np.transpose(foo),cmap='hot',aspect='auto');\n",
    "plt.title('DEU')\n"
   ]
  },
  {
   "cell_type": "code",
   "execution_count": null,
   "metadata": {},
   "outputs": [],
   "source": [
    "foo = get_codedat('USA')\n",
    "foo = [f[1:] for f in foo]\n",
    "plt.imshow(np.transpose(foo),cmap='hot',aspect='auto');\n",
    "plt.title(\"USA\")"
   ]
  },
  {
   "cell_type": "code",
   "execution_count": null,
   "metadata": {},
   "outputs": [],
   "source": [
    "foo = get_codedat('KOR')\n",
    "foo = [f[1:] for f in foo]\n",
    "plt.imshow(np.transpose(foo),cmap='hot',aspect='auto');"
   ]
  },
  {
   "cell_type": "code",
   "execution_count": null,
   "metadata": {},
   "outputs": [],
   "source": [
    "foo = get_codedat('FRA')\n",
    "fmt = '%Y%m%d'\n",
    "\n",
    "locator = mdates.MonthLocator()\n",
    "formatter= mdates.ConciseDateFormatter(locator)\n",
    "xx =[datetime.datetime.strptime(dd[0],fmt) for dd in foo]\n",
    "foo = [f[1:] for f in foo]\n",
    "\n",
    "register_matplotlib_converters() # pandas made me do it\n",
    "fig,ax = plt.subplots(1,1)\n",
    "ax.imshow(np.transpose(foo),cmap='hot',aspect='auto');\n",
    "ax.xaxis.set_major_formatter(formatter)\n",
    "ax.xaxis.set_major_locator(locator)\n",
    "for tick in ax.get_xticklabels():\n",
    "    tick.set_rotation(40)\n",
    "\n",
    "plt.show()"
   ]
  },
  {
   "cell_type": "code",
   "execution_count": null,
   "metadata": {},
   "outputs": [],
   "source": []
  }
 ],
 "metadata": {
  "kernelspec": {
   "display_name": "Python3",
   "language": "python",
   "name": "python3"
  },
  "language_info": {
   "codemirror_mode": {
    "name": "ipython",
    "version": 3
   },
   "file_extension": ".py",
   "mimetype": "text/x-python",
   "name": "python",
   "nbconvert_exporter": "python",
   "pygments_lexer": "ipython3",
   "version": "3.7.2"
  },
  "toc": {
   "nav_menu": {},
   "number_sections": true,
   "sideBar": true,
   "skip_h1_title": false,
   "title_cell": "Table of Contents",
   "title_sidebar": "Contents",
   "toc_cell": false,
   "toc_position": {},
   "toc_section_display": true,
   "toc_window_display": false
  }
 },
 "nbformat": 4,
 "nbformat_minor": 2
}
